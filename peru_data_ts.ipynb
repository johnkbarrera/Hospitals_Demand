{
 "cells": [
  {
   "cell_type": "code",
   "execution_count": null,
   "id": "1cbee083",
   "metadata": {},
   "outputs": [],
   "source": [
    "# !pip install plotly\n",
    "# !pip install matplotlib==3.5.0"
   ]
  },
  {
   "cell_type": "code",
   "execution_count": 1,
   "id": "7ad83372",
   "metadata": {},
   "outputs": [],
   "source": [
    "import pandas as pd\n",
    "import numpy as np\n",
    "import glob\n",
    "from tqdm import tqdm, trange\n",
    "#import pickle5 as pickle\n",
    "\n",
    "\n",
    "import matplotlib\n",
    "import matplotlib.pyplot as plt\n",
    "from matplotlib.pyplot import cm\n",
    "import plotly.express as px\n",
    "from difflib import SequenceMatcher\n",
    "import seaborn as sns"
   ]
  },
  {
   "cell_type": "code",
   "execution_count": 2,
   "id": "3b9067e3",
   "metadata": {},
   "outputs": [],
   "source": [
    "def millions(x, pos):\n",
    "    \"\"\"The two args are the value and tick position.\"\"\"\n",
    "    return '{:1.1f}M'.format(x*1e-6)\n"
   ]
  },
  {
   "cell_type": "raw",
   "id": "da2fd886",
   "metadata": {},
   "source": [
    "# with open('data/morbilidad_global.csv', \"rb\") as fh:\n",
    "#     all_data = pickle.load(fh)\n",
    "    \n",
    "all_data = pd.read_pickle('data/morbilidad_global.csv')\n",
    "\n",
    "#all_data = all_data[(all_data['YEAR']>=2018) & (all_data['YEAR']<2022)]\n",
    "all_data = all_data[(all_data['YEAR']>=2018)]\n",
    "\n",
    "all_data['IS_LIMA'] = all_data['PROVINCE'].apply(lambda x : True if x=='LIMA' else False)\n",
    "all_data['SECTOR'] = all_data['SECTOR'].apply(lambda x: 'PRIVATE' if x == 'PRIVADO' else 'PUBLIC')\n",
    "\n",
    "all_data = all_data[all_data['IS_LIMA']==True]\n",
    "\n",
    "all_data.to_pickle('data/morbilidad_global_ts.csv')"
   ]
  },
  {
   "cell_type": "code",
   "execution_count": 3,
   "id": "ba79c348",
   "metadata": {},
   "outputs": [],
   "source": [
    "all_data = pd.read_pickle('data/morbilidad_global_ts.csv')"
   ]
  },
  {
   "cell_type": "raw",
   "id": "bec27996",
   "metadata": {
    "scrolled": true
   },
   "source": [
    "diagnostics_tag = np.unique(all_data['DISEASE_GROUP'])\n",
    "\n",
    "name = \"gist_rainbow\"\n",
    "name = \"jet\"\n",
    "cmap = cm.get_cmap(name, 256)  # type: matplotlib.colors.ListedColormap\n",
    "colors = cmap(np.linspace(0, 1, len(diagnostics_tag)))\n",
    "\n",
    "dict_colors = {}\n",
    "counter = 0\n",
    "for d in diagnostics_tag:\n",
    "    x=colors[counter]\n",
    "    if d == 'Codes for special situations':\n",
    "        dict_colors[d]='#000000'\n",
    "    else:\n",
    "        dict_colors[d]=matplotlib.colors.rgb2hex(x)\n",
    "    counter+=1"
   ]
  },
  {
   "cell_type": "code",
   "execution_count": 4,
   "id": "ce1921c6",
   "metadata": {},
   "outputs": [],
   "source": [
    "diagnostics_tag = np.unique(all_data['DISEASE_GROUP'])\n",
    "\n",
    "cmap = cm.get_cmap('tab20b', 256)\n",
    "colorsb = cmap(np.linspace(0, 1, 20))\n",
    "cmap = cm.get_cmap('tab20c', 256)\n",
    "colorsc = cmap(np.linspace(0, 1, 20))[8:-4]\n",
    "\n",
    "colors = list(colorsc)+list(colorsb)\n",
    "# new_colors = []\n",
    "# for i in range(len(colorsc)):\n",
    "#     new_colors.append(colorsc[i])\n",
    "#     new_colors.append(colorsb[i])\n",
    "\n",
    "dict_colors = {}\n",
    "counter = 0\n",
    "for d in diagnostics_tag:\n",
    "    x=colors[counter]\n",
    "    dict_colors[d]=matplotlib.colors.rgb2hex(x)\n",
    "    counter+=1"
   ]
  },
  {
   "cell_type": "code",
   "execution_count": 5,
   "id": "d5a6132e",
   "metadata": {},
   "outputs": [
    {
     "data": {
      "text/html": [
       "<div>\n",
       "<style scoped>\n",
       "    .dataframe tbody tr th:only-of-type {\n",
       "        vertical-align: middle;\n",
       "    }\n",
       "\n",
       "    .dataframe tbody tr th {\n",
       "        vertical-align: top;\n",
       "    }\n",
       "\n",
       "    .dataframe thead th {\n",
       "        text-align: right;\n",
       "    }\n",
       "</style>\n",
       "<table border=\"1\" class=\"dataframe\">\n",
       "  <thead>\n",
       "    <tr style=\"text-align: right;\">\n",
       "      <th></th>\n",
       "      <th>DATE</th>\n",
       "      <th>YEAR</th>\n",
       "      <th>MONTH</th>\n",
       "      <th>STATE</th>\n",
       "      <th>PROVINCE</th>\n",
       "      <th>DISTRICT</th>\n",
       "      <th>SECTOR</th>\n",
       "      <th>CATEGORY</th>\n",
       "      <th>CATEGORY2</th>\n",
       "      <th>CO_IPRESS</th>\n",
       "      <th>...</th>\n",
       "      <th>DIAGNOSIS_ID</th>\n",
       "      <th>QTY_PEOPLE_SERVED</th>\n",
       "      <th>DISEASE</th>\n",
       "      <th>DISEASE_GROUP</th>\n",
       "      <th>COD_IPRESS</th>\n",
       "      <th>x</th>\n",
       "      <th>y</th>\n",
       "      <th>SECTOR_R</th>\n",
       "      <th>TYPE</th>\n",
       "      <th>IS_LIMA</th>\n",
       "    </tr>\n",
       "  </thead>\n",
       "  <tbody>\n",
       "    <tr>\n",
       "      <th>0</th>\n",
       "      <td>2018-01-01</td>\n",
       "      <td>2018</td>\n",
       "      <td>1</td>\n",
       "      <td>LIMA</td>\n",
       "      <td>LIMA</td>\n",
       "      <td>LIMA</td>\n",
       "      <td>PRIVATE</td>\n",
       "      <td>II-2</td>\n",
       "      <td>II</td>\n",
       "      <td>00015610</td>\n",
       "      <td>...</td>\n",
       "      <td>R10.2</td>\n",
       "      <td>10</td>\n",
       "      <td>PELVIC AND PERINEAL PAIN</td>\n",
       "      <td>Abnormal clinical and laboratory symptoms, sig...</td>\n",
       "      <td>00015610</td>\n",
       "      <td>-12.058367</td>\n",
       "      <td>-77.038362</td>\n",
       "      <td>PRIVADO</td>\n",
       "      <td>Outpatient Consultation</td>\n",
       "      <td>True</td>\n",
       "    </tr>\n",
       "    <tr>\n",
       "      <th>1</th>\n",
       "      <td>2018-01-01</td>\n",
       "      <td>2018</td>\n",
       "      <td>1</td>\n",
       "      <td>LIMA</td>\n",
       "      <td>LIMA</td>\n",
       "      <td>LIMA</td>\n",
       "      <td>PRIVATE</td>\n",
       "      <td>II-2</td>\n",
       "      <td>II</td>\n",
       "      <td>00015610</td>\n",
       "      <td>...</td>\n",
       "      <td>R10.4</td>\n",
       "      <td>11</td>\n",
       "      <td>UNIDENTIFIED</td>\n",
       "      <td>Abnormal clinical and laboratory symptoms, sig...</td>\n",
       "      <td>00015610</td>\n",
       "      <td>-12.058367</td>\n",
       "      <td>-77.038362</td>\n",
       "      <td>PRIVADO</td>\n",
       "      <td>Outpatient Consultation</td>\n",
       "      <td>True</td>\n",
       "    </tr>\n",
       "    <tr>\n",
       "      <th>2</th>\n",
       "      <td>2018-01-01</td>\n",
       "      <td>2018</td>\n",
       "      <td>1</td>\n",
       "      <td>LIMA</td>\n",
       "      <td>LIMA</td>\n",
       "      <td>LIMA</td>\n",
       "      <td>PRIVATE</td>\n",
       "      <td>II-2</td>\n",
       "      <td>II</td>\n",
       "      <td>00015610</td>\n",
       "      <td>...</td>\n",
       "      <td>R11.X</td>\n",
       "      <td>3</td>\n",
       "      <td>UNIDENTIFIED</td>\n",
       "      <td>Abnormal clinical and laboratory symptoms, sig...</td>\n",
       "      <td>00015610</td>\n",
       "      <td>-12.058367</td>\n",
       "      <td>-77.038362</td>\n",
       "      <td>PRIVADO</td>\n",
       "      <td>Outpatient Consultation</td>\n",
       "      <td>True</td>\n",
       "    </tr>\n",
       "    <tr>\n",
       "      <th>3</th>\n",
       "      <td>2018-01-01</td>\n",
       "      <td>2018</td>\n",
       "      <td>1</td>\n",
       "      <td>LIMA</td>\n",
       "      <td>LIMA</td>\n",
       "      <td>LIMA</td>\n",
       "      <td>PRIVATE</td>\n",
       "      <td>II-2</td>\n",
       "      <td>II</td>\n",
       "      <td>00015610</td>\n",
       "      <td>...</td>\n",
       "      <td>R16.0</td>\n",
       "      <td>1</td>\n",
       "      <td>HEPATOMEGALY, NOT ELSEWHERE CLASSIFIED</td>\n",
       "      <td>Abnormal clinical and laboratory symptoms, sig...</td>\n",
       "      <td>00015610</td>\n",
       "      <td>-12.058367</td>\n",
       "      <td>-77.038362</td>\n",
       "      <td>PRIVADO</td>\n",
       "      <td>Outpatient Consultation</td>\n",
       "      <td>True</td>\n",
       "    </tr>\n",
       "    <tr>\n",
       "      <th>4</th>\n",
       "      <td>2018-01-01</td>\n",
       "      <td>2018</td>\n",
       "      <td>1</td>\n",
       "      <td>LIMA</td>\n",
       "      <td>LIMA</td>\n",
       "      <td>LIMA</td>\n",
       "      <td>PRIVATE</td>\n",
       "      <td>II-2</td>\n",
       "      <td>II</td>\n",
       "      <td>00015610</td>\n",
       "      <td>...</td>\n",
       "      <td>R42.X</td>\n",
       "      <td>1</td>\n",
       "      <td>UNIDENTIFIED</td>\n",
       "      <td>Abnormal clinical and laboratory symptoms, sig...</td>\n",
       "      <td>00015610</td>\n",
       "      <td>-12.058367</td>\n",
       "      <td>-77.038362</td>\n",
       "      <td>PRIVADO</td>\n",
       "      <td>Outpatient Consultation</td>\n",
       "      <td>True</td>\n",
       "    </tr>\n",
       "  </tbody>\n",
       "</table>\n",
       "<p>5 rows × 23 columns</p>\n",
       "</div>"
      ],
      "text/plain": [
       "        DATE  YEAR  MONTH STATE PROVINCE DISTRICT   SECTOR CATEGORY CATEGORY2  \\\n",
       "0 2018-01-01  2018      1  LIMA     LIMA     LIMA  PRIVATE     II-2        II   \n",
       "1 2018-01-01  2018      1  LIMA     LIMA     LIMA  PRIVATE     II-2        II   \n",
       "2 2018-01-01  2018      1  LIMA     LIMA     LIMA  PRIVATE     II-2        II   \n",
       "3 2018-01-01  2018      1  LIMA     LIMA     LIMA  PRIVATE     II-2        II   \n",
       "4 2018-01-01  2018      1  LIMA     LIMA     LIMA  PRIVATE     II-2        II   \n",
       "\n",
       "  CO_IPRESS  ... DIAGNOSIS_ID QTY_PEOPLE_SERVED  \\\n",
       "0  00015610  ...        R10.2                10   \n",
       "1  00015610  ...        R10.4                11   \n",
       "2  00015610  ...        R11.X                 3   \n",
       "3  00015610  ...        R16.0                 1   \n",
       "4  00015610  ...        R42.X                 1   \n",
       "\n",
       "                                  DISEASE  \\\n",
       "0                PELVIC AND PERINEAL PAIN   \n",
       "1                            UNIDENTIFIED   \n",
       "2                            UNIDENTIFIED   \n",
       "3  HEPATOMEGALY, NOT ELSEWHERE CLASSIFIED   \n",
       "4                            UNIDENTIFIED   \n",
       "\n",
       "                                       DISEASE_GROUP  COD_IPRESS          x  \\\n",
       "0  Abnormal clinical and laboratory symptoms, sig...    00015610 -12.058367   \n",
       "1  Abnormal clinical and laboratory symptoms, sig...    00015610 -12.058367   \n",
       "2  Abnormal clinical and laboratory symptoms, sig...    00015610 -12.058367   \n",
       "3  Abnormal clinical and laboratory symptoms, sig...    00015610 -12.058367   \n",
       "4  Abnormal clinical and laboratory symptoms, sig...    00015610 -12.058367   \n",
       "\n",
       "           y SECTOR_R                     TYPE  IS_LIMA  \n",
       "0 -77.038362  PRIVADO  Outpatient Consultation     True  \n",
       "1 -77.038362  PRIVADO  Outpatient Consultation     True  \n",
       "2 -77.038362  PRIVADO  Outpatient Consultation     True  \n",
       "3 -77.038362  PRIVADO  Outpatient Consultation     True  \n",
       "4 -77.038362  PRIVADO  Outpatient Consultation     True  \n",
       "\n",
       "[5 rows x 23 columns]"
      ]
     },
     "execution_count": 5,
     "metadata": {},
     "output_type": "execute_result"
    }
   ],
   "source": [
    "all_data.head()"
   ]
  },
  {
   "cell_type": "markdown",
   "id": "3f694fa2",
   "metadata": {},
   "source": [
    "### Forecast"
   ]
  },
  {
   "cell_type": "code",
   "execution_count": 6,
   "id": "7b5364c7",
   "metadata": {},
   "outputs": [
    {
     "name": "stderr",
     "output_type": "stream",
     "text": [
      "C:\\Users\\johnk\\.conda\\envs\\pycart_ts\\lib\\site-packages\\sktime\\utils\\validation\\series.py:21: FutureWarning: pandas.Int64Index is deprecated and will be removed from pandas in a future version. Use pandas.Index with the appropriate dtype instead.\n",
      "  VALID_INDEX_TYPES = (pd.Int64Index, pd.RangeIndex, pd.PeriodIndex, pd.DatetimeIndex)\n",
      "C:\\Users\\johnk\\.conda\\envs\\pycart_ts\\lib\\site-packages\\sktime\\forecasting\\base\\_fh.py:18: FutureWarning: pandas.Int64Index is deprecated and will be removed from pandas in a future version. Use pandas.Index with the appropriate dtype instead.\n",
      "  RELATIVE_TYPES = (pd.Int64Index, pd.RangeIndex)\n",
      "C:\\Users\\johnk\\.conda\\envs\\pycart_ts\\lib\\site-packages\\sktime\\forecasting\\base\\_fh.py:19: FutureWarning: pandas.Int64Index is deprecated and will be removed from pandas in a future version. Use pandas.Index with the appropriate dtype instead.\n",
      "  ABSOLUTE_TYPES = (pd.Int64Index, pd.RangeIndex, pd.DatetimeIndex, pd.PeriodIndex)\n",
      "C:\\Users\\johnk\\.conda\\envs\\pycart_ts\\lib\\site-packages\\sktime\\datatypes\\_series\\_check.py:43: FutureWarning: pandas.Int64Index is deprecated and will be removed from pandas in a future version. Use pandas.Index with the appropriate dtype instead.\n",
      "  VALID_INDEX_TYPES = (pd.Int64Index, pd.RangeIndex, pd.PeriodIndex, pd.DatetimeIndex)\n",
      "C:\\Users\\johnk\\.conda\\envs\\pycart_ts\\lib\\site-packages\\sktime\\datatypes\\_hierarchical\\_check.py:50: FutureWarning: pandas.Int64Index is deprecated and will be removed from pandas in a future version. Use pandas.Index with the appropriate dtype instead.\n",
      "  VALID_INDEX_TYPES = (pd.Int64Index, pd.RangeIndex, pd.PeriodIndex, pd.DatetimeIndex)\n",
      "C:\\Users\\johnk\\.conda\\envs\\pycart_ts\\lib\\site-packages\\sktime\\datatypes\\_hierarchical\\_check.py:51: FutureWarning: pandas.Int64Index is deprecated and will be removed from pandas in a future version. Use pandas.Index with the appropriate dtype instead.\n",
      "  VALID_MULTIINDEX_TYPES = (pd.Int64Index, pd.RangeIndex)\n",
      "C:\\Users\\johnk\\.conda\\envs\\pycart_ts\\lib\\site-packages\\sktime\\datatypes\\_panel\\_check.py:48: FutureWarning: pandas.Int64Index is deprecated and will be removed from pandas in a future version. Use pandas.Index with the appropriate dtype instead.\n",
      "  VALID_INDEX_TYPES = (pd.Int64Index, pd.RangeIndex, pd.PeriodIndex, pd.DatetimeIndex)\n",
      "C:\\Users\\johnk\\.conda\\envs\\pycart_ts\\lib\\site-packages\\sktime\\datatypes\\_panel\\_check.py:49: FutureWarning: pandas.Int64Index is deprecated and will be removed from pandas in a future version. Use pandas.Index with the appropriate dtype instead.\n",
      "  VALID_MULTIINDEX_TYPES = (pd.Int64Index, pd.RangeIndex)\n"
     ]
    }
   ],
   "source": [
    "# import plotly.io as pio \n",
    "# import plotly.graph_objects as go\n",
    "\n",
    "from pycaret.time_series import *"
   ]
  },
  {
   "cell_type": "code",
   "execution_count": 7,
   "id": "30fbbfe8",
   "metadata": {},
   "outputs": [],
   "source": [
    "#!pip install pycaret-ts-alpha\n",
    "#!pip install pycaret[full]"
   ]
  },
  {
   "cell_type": "code",
   "execution_count": 8,
   "id": "101e117a",
   "metadata": {},
   "outputs": [],
   "source": [
    "import pycaret as pyct"
   ]
  },
  {
   "cell_type": "code",
   "execution_count": null,
   "id": "93e3fee4",
   "metadata": {},
   "outputs": [],
   "source": []
  },
  {
   "cell_type": "code",
   "execution_count": 9,
   "id": "9669df7f",
   "metadata": {},
   "outputs": [],
   "source": [
    "CATEGORIA_STUDIO = 'I'"
   ]
  },
  {
   "cell_type": "code",
   "execution_count": 10,
   "id": "93274a2e",
   "metadata": {},
   "outputs": [],
   "source": [
    "data_temp = all_data[all_data['CATEGORY2']==CATEGORIA_STUDIO]\n",
    "data_temp =  data_temp.groupby(['DATE', 'SECTOR']).agg({ 'QTY_PEOPLE_SERVED': \"sum\"})\n",
    "data_temp = data_temp.reset_index()\n",
    "\n",
    "data_temp['QTY_PEOPLE_SERVED'] =data_temp['QTY_PEOPLE_SERVED'].mask((data_temp['DATE'].dt.year==2018) & (data_temp['DATE'].dt.month==4),data_temp['QTY_PEOPLE_SERVED'].median())\n",
    "\n",
    "data_temp = data_temp.pivot_table(index=['DATE'], \n",
    "                                  columns=['SECTOR'], \n",
    "                                  values='QTY_PEOPLE_SERVED').fillna(0)\n",
    "data_temp = data_temp.reset_index()"
   ]
  },
  {
   "cell_type": "code",
   "execution_count": 11,
   "id": "694a59b7",
   "metadata": {},
   "outputs": [],
   "source": [
    "private_max = data_temp['PRIVATE'].mean() + 1*data_temp['PRIVATE'].std()\n",
    "private_min = data_temp['PRIVATE'].mean() - 1*data_temp['PRIVATE'].std()\n",
    "\n",
    "data_temp['PRIVATE_PURE'] = data_temp['PRIVATE'].apply(lambda x :\n",
    "                                                       0 if (private_min>x or\n",
    "                                                             private_max<x)\n",
    "                                                       else x)\n",
    "\n",
    "public_max = data_temp['PUBLIC'].mean() + 1*data_temp['PUBLIC'].std()\n",
    "public_min = data_temp['PUBLIC'].mean() - 1*data_temp['PUBLIC'].std()\n",
    "\n",
    "data_temp['PUBLIC_PURE'] = data_temp['PUBLIC'].apply(lambda x :\n",
    "                                                       0 if (public_min>x or\n",
    "                                                             public_max<x)\n",
    "                                                       else x)\n",
    "\n"
   ]
  },
  {
   "cell_type": "raw",
   "id": "9119096a",
   "metadata": {},
   "source": [
    "plt.figure(figsize=(7,10))\n",
    "\n",
    "plt.subplot(2,1,1)\n",
    "sns.distplot(data_temp['PRIVATE_PURE'])\n",
    "plt.subplot(2,1,2)\n",
    "sns.distplot(data_temp['PUBLIC_PURE'])"
   ]
  },
  {
   "cell_type": "code",
   "execution_count": 28,
   "id": "81b2af39",
   "metadata": {},
   "outputs": [],
   "source": [
    "x = data_temp['PRIVATE'].values\n",
    "y = data_temp['DATE'].values"
   ]
  },
  {
   "cell_type": "code",
   "execution_count": 29,
   "id": "10f1bcd1",
   "metadata": {
    "scrolled": false
   },
   "outputs": [
    {
     "data": {
      "text/plain": [
       "<AxesSubplot:>"
      ]
     },
     "execution_count": 29,
     "metadata": {},
     "output_type": "execute_result"
    },
    {
     "data": {
      "image/png": "[encoded data removed]",
      "text/plain": [
       "<Figure size 576x396 with 1 Axes>"
      ]
     },
     "metadata": {},
     "output_type": "display_data"
    }
   ],
   "source": [
    "df_series_pre = pd.Series(data = x, index = y)\n",
    "df_series_pre.plot()"
   ]
  },
  {
   "cell_type": "code",
   "execution_count": 12,
   "id": "d4068f0b",
   "metadata": {},
   "outputs": [
    {
     "data": {
      "text/html": [
       "<div>\n",
       "<style scoped>\n",
       "    .dataframe tbody tr th:only-of-type {\n",
       "        vertical-align: middle;\n",
       "    }\n",
       "\n",
       "    .dataframe tbody tr th {\n",
       "        vertical-align: top;\n",
       "    }\n",
       "\n",
       "    .dataframe thead th {\n",
       "        text-align: right;\n",
       "    }\n",
       "</style>\n",
       "<table border=\"1\" class=\"dataframe\">\n",
       "  <thead>\n",
       "    <tr style=\"text-align: right;\">\n",
       "      <th>SECTOR</th>\n",
       "      <th>DATE</th>\n",
       "      <th>PRIVATE</th>\n",
       "      <th>PUBLIC</th>\n",
       "      <th>PRIVATE_PURE</th>\n",
       "      <th>PUBLIC_PURE</th>\n",
       "    </tr>\n",
       "  </thead>\n",
       "  <tbody>\n",
       "    <tr>\n",
       "      <th>27</th>\n",
       "      <td>2020-04-01</td>\n",
       "      <td>16991.0</td>\n",
       "      <td>16231.0</td>\n",
       "      <td>0.0</td>\n",
       "      <td>0.0</td>\n",
       "    </tr>\n",
       "    <tr>\n",
       "      <th>28</th>\n",
       "      <td>2020-05-01</td>\n",
       "      <td>33071.0</td>\n",
       "      <td>23259.0</td>\n",
       "      <td>0.0</td>\n",
       "      <td>0.0</td>\n",
       "    </tr>\n",
       "    <tr>\n",
       "      <th>29</th>\n",
       "      <td>2020-06-01</td>\n",
       "      <td>53234.0</td>\n",
       "      <td>42370.0</td>\n",
       "      <td>53234.0</td>\n",
       "      <td>0.0</td>\n",
       "    </tr>\n",
       "    <tr>\n",
       "      <th>30</th>\n",
       "      <td>2020-07-01</td>\n",
       "      <td>64858.0</td>\n",
       "      <td>59335.0</td>\n",
       "      <td>64858.0</td>\n",
       "      <td>0.0</td>\n",
       "    </tr>\n",
       "    <tr>\n",
       "      <th>31</th>\n",
       "      <td>2020-08-01</td>\n",
       "      <td>73911.0</td>\n",
       "      <td>66832.0</td>\n",
       "      <td>73911.0</td>\n",
       "      <td>0.0</td>\n",
       "    </tr>\n",
       "    <tr>\n",
       "      <th>32</th>\n",
       "      <td>2020-09-01</td>\n",
       "      <td>69955.0</td>\n",
       "      <td>64905.0</td>\n",
       "      <td>69955.0</td>\n",
       "      <td>0.0</td>\n",
       "    </tr>\n",
       "    <tr>\n",
       "      <th>33</th>\n",
       "      <td>2020-10-01</td>\n",
       "      <td>73812.0</td>\n",
       "      <td>70606.0</td>\n",
       "      <td>73812.0</td>\n",
       "      <td>70606.0</td>\n",
       "    </tr>\n",
       "    <tr>\n",
       "      <th>34</th>\n",
       "      <td>2020-11-01</td>\n",
       "      <td>69988.0</td>\n",
       "      <td>86098.0</td>\n",
       "      <td>69988.0</td>\n",
       "      <td>86098.0</td>\n",
       "    </tr>\n",
       "    <tr>\n",
       "      <th>35</th>\n",
       "      <td>2020-12-01</td>\n",
       "      <td>64110.0</td>\n",
       "      <td>86790.0</td>\n",
       "      <td>64110.0</td>\n",
       "      <td>86790.0</td>\n",
       "    </tr>\n",
       "    <tr>\n",
       "      <th>36</th>\n",
       "      <td>2021-01-01</td>\n",
       "      <td>78381.0</td>\n",
       "      <td>82445.0</td>\n",
       "      <td>78381.0</td>\n",
       "      <td>82445.0</td>\n",
       "    </tr>\n",
       "    <tr>\n",
       "      <th>37</th>\n",
       "      <td>2021-02-01</td>\n",
       "      <td>62544.0</td>\n",
       "      <td>75619.0</td>\n",
       "      <td>62544.0</td>\n",
       "      <td>75619.0</td>\n",
       "    </tr>\n",
       "    <tr>\n",
       "      <th>38</th>\n",
       "      <td>2021-03-01</td>\n",
       "      <td>56740.0</td>\n",
       "      <td>83034.0</td>\n",
       "      <td>56740.0</td>\n",
       "      <td>83034.0</td>\n",
       "    </tr>\n",
       "    <tr>\n",
       "      <th>39</th>\n",
       "      <td>2021-04-01</td>\n",
       "      <td>52586.0</td>\n",
       "      <td>82000.0</td>\n",
       "      <td>52586.0</td>\n",
       "      <td>82000.0</td>\n",
       "    </tr>\n",
       "    <tr>\n",
       "      <th>40</th>\n",
       "      <td>2021-05-01</td>\n",
       "      <td>53929.0</td>\n",
       "      <td>84722.0</td>\n",
       "      <td>53929.0</td>\n",
       "      <td>84722.0</td>\n",
       "    </tr>\n",
       "    <tr>\n",
       "      <th>41</th>\n",
       "      <td>2021-06-01</td>\n",
       "      <td>58565.0</td>\n",
       "      <td>86788.0</td>\n",
       "      <td>58565.0</td>\n",
       "      <td>86788.0</td>\n",
       "    </tr>\n",
       "    <tr>\n",
       "      <th>42</th>\n",
       "      <td>2021-07-01</td>\n",
       "      <td>60388.0</td>\n",
       "      <td>96196.0</td>\n",
       "      <td>60388.0</td>\n",
       "      <td>96196.0</td>\n",
       "    </tr>\n",
       "    <tr>\n",
       "      <th>43</th>\n",
       "      <td>2021-08-01</td>\n",
       "      <td>61040.0</td>\n",
       "      <td>103097.0</td>\n",
       "      <td>61040.0</td>\n",
       "      <td>103097.0</td>\n",
       "    </tr>\n",
       "    <tr>\n",
       "      <th>44</th>\n",
       "      <td>2021-09-01</td>\n",
       "      <td>45977.0</td>\n",
       "      <td>129479.0</td>\n",
       "      <td>45977.0</td>\n",
       "      <td>129479.0</td>\n",
       "    </tr>\n",
       "    <tr>\n",
       "      <th>45</th>\n",
       "      <td>2021-10-01</td>\n",
       "      <td>51531.0</td>\n",
       "      <td>149932.0</td>\n",
       "      <td>51531.0</td>\n",
       "      <td>149932.0</td>\n",
       "    </tr>\n",
       "    <tr>\n",
       "      <th>46</th>\n",
       "      <td>2021-11-01</td>\n",
       "      <td>54195.0</td>\n",
       "      <td>120722.0</td>\n",
       "      <td>54195.0</td>\n",
       "      <td>120722.0</td>\n",
       "    </tr>\n",
       "    <tr>\n",
       "      <th>47</th>\n",
       "      <td>2021-12-01</td>\n",
       "      <td>31140.0</td>\n",
       "      <td>137785.0</td>\n",
       "      <td>0.0</td>\n",
       "      <td>137785.0</td>\n",
       "    </tr>\n",
       "    <tr>\n",
       "      <th>48</th>\n",
       "      <td>2022-01-01</td>\n",
       "      <td>34096.0</td>\n",
       "      <td>148665.0</td>\n",
       "      <td>0.0</td>\n",
       "      <td>148665.0</td>\n",
       "    </tr>\n",
       "    <tr>\n",
       "      <th>49</th>\n",
       "      <td>2022-02-01</td>\n",
       "      <td>18091.0</td>\n",
       "      <td>132563.0</td>\n",
       "      <td>0.0</td>\n",
       "      <td>132563.0</td>\n",
       "    </tr>\n",
       "  </tbody>\n",
       "</table>\n",
       "</div>"
      ],
      "text/plain": [
       "SECTOR       DATE  PRIVATE    PUBLIC  PRIVATE_PURE  PUBLIC_PURE\n",
       "27     2020-04-01  16991.0   16231.0           0.0          0.0\n",
       "28     2020-05-01  33071.0   23259.0           0.0          0.0\n",
       "29     2020-06-01  53234.0   42370.0       53234.0          0.0\n",
       "30     2020-07-01  64858.0   59335.0       64858.0          0.0\n",
       "31     2020-08-01  73911.0   66832.0       73911.0          0.0\n",
       "32     2020-09-01  69955.0   64905.0       69955.0          0.0\n",
       "33     2020-10-01  73812.0   70606.0       73812.0      70606.0\n",
       "34     2020-11-01  69988.0   86098.0       69988.0      86098.0\n",
       "35     2020-12-01  64110.0   86790.0       64110.0      86790.0\n",
       "36     2021-01-01  78381.0   82445.0       78381.0      82445.0\n",
       "37     2021-02-01  62544.0   75619.0       62544.0      75619.0\n",
       "38     2021-03-01  56740.0   83034.0       56740.0      83034.0\n",
       "39     2021-04-01  52586.0   82000.0       52586.0      82000.0\n",
       "40     2021-05-01  53929.0   84722.0       53929.0      84722.0\n",
       "41     2021-06-01  58565.0   86788.0       58565.0      86788.0\n",
       "42     2021-07-01  60388.0   96196.0       60388.0      96196.0\n",
       "43     2021-08-01  61040.0  103097.0       61040.0     103097.0\n",
       "44     2021-09-01  45977.0  129479.0       45977.0     129479.0\n",
       "45     2021-10-01  51531.0  149932.0       51531.0     149932.0\n",
       "46     2021-11-01  54195.0  120722.0       54195.0     120722.0\n",
       "47     2021-12-01  31140.0  137785.0           0.0     137785.0\n",
       "48     2022-01-01  34096.0  148665.0           0.0     148665.0\n",
       "49     2022-02-01  18091.0  132563.0           0.0     132563.0"
      ]
     },
     "execution_count": 12,
     "metadata": {},
     "output_type": "execute_result"
    }
   ],
   "source": [
    "post_pandemic_df = data_temp[(data_temp['DATE'] > '2020-03')]\n",
    "pre_pandemic_df = data_temp[~(data_temp['DATE'] > '2020-03')]\n",
    "\n",
    "post_pandemic_df"
   ]
  },
  {
   "cell_type": "markdown",
   "id": "d8cd913a",
   "metadata": {},
   "source": [
    "#### PRIVATE"
   ]
  },
  {
   "cell_type": "code",
   "execution_count": 18,
   "id": "66ac9d9f",
   "metadata": {},
   "outputs": [
    {
     "data": {
      "text/plain": [
       "<AxesSubplot:>"
      ]
     },
     "execution_count": 18,
     "metadata": {},
     "output_type": "execute_result"
    },
    {
     "data": {
      "image/png": "[encoded data removed]",
      "text/plain": [
       "<Figure size 576x396 with 1 Axes>"
      ]
     },
     "metadata": {},
     "output_type": "display_data"
    }
   ],
   "source": [
    "index = pre_pandemic_df['DATE'].values\n",
    "data_to = pre_pandemic_df['PRIVATE'].values\n",
    "df_series_pre = pd.Series(data = data_to, index = index)\n",
    "df_series_pre.plot()"
   ]
  },
  {
   "cell_type": "code",
   "execution_count": 19,
   "id": "f7babe18",
   "metadata": {},
   "outputs": [
    {
     "data": {
      "text/plain": [
       "<AxesSubplot:>"
      ]
     },
     "execution_count": 19,
     "metadata": {},
     "output_type": "execute_result"
    },
    {
     "data": {
      "image/png": "[encoded data removed]",
      "text/plain": [
       "<Figure size 576x396 with 1 Axes>"
      ]
     },
     "metadata": {},
     "output_type": "display_data"
    }
   ],
   "source": [
    "index = post_pandemic_df['DATE'].values\n",
    "data_to = post_pandemic_df['PRIVATE'].values\n",
    "df_series = pd.Series(data = data_to, index = index)\n",
    "df_series.plot()"
   ]
  },
  {
   "cell_type": "code",
   "execution_count": 15,
   "id": "f059a046",
   "metadata": {},
   "outputs": [
    {
     "data": {
      "text/html": [
       "<style type=\"text/css\">\n",
       "#T_5d92c_row19_col1 {\n",
       "  background-color: lightgreen;\n",
       "}\n",
       "</style>\n",
       "<table id=\"T_5d92c\">\n",
       "  <thead>\n",
       "    <tr>\n",
       "      <th class=\"blank level0\" >&nbsp;</th>\n",
       "      <th id=\"T_5d92c_level0_col0\" class=\"col_heading level0 col0\" >Description</th>\n",
       "      <th id=\"T_5d92c_level0_col1\" class=\"col_heading level0 col1\" >Value</th>\n",
       "    </tr>\n",
       "  </thead>\n",
       "  <tbody>\n",
       "    <tr>\n",
       "      <th id=\"T_5d92c_level0_row0\" class=\"row_heading level0 row0\" >0</th>\n",
       "      <td id=\"T_5d92c_row0_col0\" class=\"data row0 col0\" >session_id</td>\n",
       "      <td id=\"T_5d92c_row0_col1\" class=\"data row0 col1\" >8288</td>\n",
       "    </tr>\n",
       "    <tr>\n",
       "      <th id=\"T_5d92c_level0_row1\" class=\"row_heading level0 row1\" >1</th>\n",
       "      <td id=\"T_5d92c_row1_col0\" class=\"data row1 col0\" >Target</td>\n",
       "      <td id=\"T_5d92c_row1_col1\" class=\"data row1 col1\" >Time Series</td>\n",
       "    </tr>\n",
       "    <tr>\n",
       "      <th id=\"T_5d92c_level0_row2\" class=\"row_heading level0 row2\" >2</th>\n",
       "      <td id=\"T_5d92c_row2_col0\" class=\"data row2 col0\" >Approach</td>\n",
       "      <td id=\"T_5d92c_row2_col1\" class=\"data row2 col1\" >Univariate</td>\n",
       "    </tr>\n",
       "    <tr>\n",
       "      <th id=\"T_5d92c_level0_row3\" class=\"row_heading level0 row3\" >3</th>\n",
       "      <td id=\"T_5d92c_row3_col0\" class=\"data row3 col0\" >Exogenous Variables</td>\n",
       "      <td id=\"T_5d92c_row3_col1\" class=\"data row3 col1\" >Not Present</td>\n",
       "    </tr>\n",
       "    <tr>\n",
       "      <th id=\"T_5d92c_level0_row4\" class=\"row_heading level0 row4\" >4</th>\n",
       "      <td id=\"T_5d92c_row4_col0\" class=\"data row4 col0\" >Data shape</td>\n",
       "      <td id=\"T_5d92c_row4_col1\" class=\"data row4 col1\" >(23, 1)</td>\n",
       "    </tr>\n",
       "    <tr>\n",
       "      <th id=\"T_5d92c_level0_row5\" class=\"row_heading level0 row5\" >5</th>\n",
       "      <td id=\"T_5d92c_row5_col0\" class=\"data row5 col0\" >Train data shape</td>\n",
       "      <td id=\"T_5d92c_row5_col1\" class=\"data row5 col1\" >(22, 1)</td>\n",
       "    </tr>\n",
       "    <tr>\n",
       "      <th id=\"T_5d92c_level0_row6\" class=\"row_heading level0 row6\" >6</th>\n",
       "      <td id=\"T_5d92c_row6_col0\" class=\"data row6 col0\" >Test data shape</td>\n",
       "      <td id=\"T_5d92c_row6_col1\" class=\"data row6 col1\" >(1, 1)</td>\n",
       "    </tr>\n",
       "    <tr>\n",
       "      <th id=\"T_5d92c_level0_row7\" class=\"row_heading level0 row7\" >7</th>\n",
       "      <td id=\"T_5d92c_row7_col0\" class=\"data row7 col0\" >Fold Generator</td>\n",
       "      <td id=\"T_5d92c_row7_col1\" class=\"data row7 col1\" >ExpandingWindowSplitter</td>\n",
       "    </tr>\n",
       "    <tr>\n",
       "      <th id=\"T_5d92c_level0_row8\" class=\"row_heading level0 row8\" >8</th>\n",
       "      <td id=\"T_5d92c_row8_col0\" class=\"data row8 col0\" >Fold Number</td>\n",
       "      <td id=\"T_5d92c_row8_col1\" class=\"data row8 col1\" >7</td>\n",
       "    </tr>\n",
       "    <tr>\n",
       "      <th id=\"T_5d92c_level0_row9\" class=\"row_heading level0 row9\" >9</th>\n",
       "      <td id=\"T_5d92c_row9_col0\" class=\"data row9 col0\" >Enforce Prediction Interval</td>\n",
       "      <td id=\"T_5d92c_row9_col1\" class=\"data row9 col1\" >False</td>\n",
       "    </tr>\n",
       "    <tr>\n",
       "      <th id=\"T_5d92c_level0_row10\" class=\"row_heading level0 row10\" >10</th>\n",
       "      <td id=\"T_5d92c_row10_col0\" class=\"data row10 col0\" >Seasonal Period(s) Tested</td>\n",
       "      <td id=\"T_5d92c_row10_col1\" class=\"data row10 col1\" >12</td>\n",
       "    </tr>\n",
       "    <tr>\n",
       "      <th id=\"T_5d92c_level0_row11\" class=\"row_heading level0 row11\" >11</th>\n",
       "      <td id=\"T_5d92c_row11_col0\" class=\"data row11 col0\" >Seasonality Present</td>\n",
       "      <td id=\"T_5d92c_row11_col1\" class=\"data row11 col1\" >False</td>\n",
       "    </tr>\n",
       "    <tr>\n",
       "      <th id=\"T_5d92c_level0_row12\" class=\"row_heading level0 row12\" >12</th>\n",
       "      <td id=\"T_5d92c_row12_col0\" class=\"data row12 col0\" >Seasonalities Detected</td>\n",
       "      <td id=\"T_5d92c_row12_col1\" class=\"data row12 col1\" >[1]</td>\n",
       "    </tr>\n",
       "    <tr>\n",
       "      <th id=\"T_5d92c_level0_row13\" class=\"row_heading level0 row13\" >13</th>\n",
       "      <td id=\"T_5d92c_row13_col0\" class=\"data row13 col0\" >Primary Seasonality</td>\n",
       "      <td id=\"T_5d92c_row13_col1\" class=\"data row13 col1\" >1</td>\n",
       "    </tr>\n",
       "    <tr>\n",
       "      <th id=\"T_5d92c_level0_row14\" class=\"row_heading level0 row14\" >14</th>\n",
       "      <td id=\"T_5d92c_row14_col0\" class=\"data row14 col0\" >Target Strictly Positive</td>\n",
       "      <td id=\"T_5d92c_row14_col1\" class=\"data row14 col1\" >True</td>\n",
       "    </tr>\n",
       "    <tr>\n",
       "      <th id=\"T_5d92c_level0_row15\" class=\"row_heading level0 row15\" >15</th>\n",
       "      <td id=\"T_5d92c_row15_col0\" class=\"data row15 col0\" >Target White Noise</td>\n",
       "      <td id=\"T_5d92c_row15_col1\" class=\"data row15 col1\" >No</td>\n",
       "    </tr>\n",
       "    <tr>\n",
       "      <th id=\"T_5d92c_level0_row16\" class=\"row_heading level0 row16\" >16</th>\n",
       "      <td id=\"T_5d92c_row16_col0\" class=\"data row16 col0\" >Recommended d</td>\n",
       "      <td id=\"T_5d92c_row16_col1\" class=\"data row16 col1\" >0</td>\n",
       "    </tr>\n",
       "    <tr>\n",
       "      <th id=\"T_5d92c_level0_row17\" class=\"row_heading level0 row17\" >17</th>\n",
       "      <td id=\"T_5d92c_row17_col0\" class=\"data row17 col0\" >Recommended Seasonal D</td>\n",
       "      <td id=\"T_5d92c_row17_col1\" class=\"data row17 col1\" >0</td>\n",
       "    </tr>\n",
       "    <tr>\n",
       "      <th id=\"T_5d92c_level0_row18\" class=\"row_heading level0 row18\" >18</th>\n",
       "      <td id=\"T_5d92c_row18_col0\" class=\"data row18 col0\" >Missing Values</td>\n",
       "      <td id=\"T_5d92c_row18_col1\" class=\"data row18 col1\" >0</td>\n",
       "    </tr>\n",
       "    <tr>\n",
       "      <th id=\"T_5d92c_level0_row19\" class=\"row_heading level0 row19\" >19</th>\n",
       "      <td id=\"T_5d92c_row19_col0\" class=\"data row19 col0\" >Preprocess</td>\n",
       "      <td id=\"T_5d92c_row19_col1\" class=\"data row19 col1\" >True</td>\n",
       "    </tr>\n",
       "    <tr>\n",
       "      <th id=\"T_5d92c_level0_row20\" class=\"row_heading level0 row20\" >20</th>\n",
       "      <td id=\"T_5d92c_row20_col0\" class=\"data row20 col0\" >CPU Jobs</td>\n",
       "      <td id=\"T_5d92c_row20_col1\" class=\"data row20 col1\" >-1</td>\n",
       "    </tr>\n",
       "    <tr>\n",
       "      <th id=\"T_5d92c_level0_row21\" class=\"row_heading level0 row21\" >21</th>\n",
       "      <td id=\"T_5d92c_row21_col0\" class=\"data row21 col0\" >Use GPU</td>\n",
       "      <td id=\"T_5d92c_row21_col1\" class=\"data row21 col1\" >False</td>\n",
       "    </tr>\n",
       "    <tr>\n",
       "      <th id=\"T_5d92c_level0_row22\" class=\"row_heading level0 row22\" >22</th>\n",
       "      <td id=\"T_5d92c_row22_col0\" class=\"data row22 col0\" >Log Experiment</td>\n",
       "      <td id=\"T_5d92c_row22_col1\" class=\"data row22 col1\" >False</td>\n",
       "    </tr>\n",
       "    <tr>\n",
       "      <th id=\"T_5d92c_level0_row23\" class=\"row_heading level0 row23\" >23</th>\n",
       "      <td id=\"T_5d92c_row23_col0\" class=\"data row23 col0\" >Experiment Name</td>\n",
       "      <td id=\"T_5d92c_row23_col1\" class=\"data row23 col1\" >ts-default-name</td>\n",
       "    </tr>\n",
       "    <tr>\n",
       "      <th id=\"T_5d92c_level0_row24\" class=\"row_heading level0 row24\" >24</th>\n",
       "      <td id=\"T_5d92c_row24_col0\" class=\"data row24 col0\" >USI</td>\n",
       "      <td id=\"T_5d92c_row24_col1\" class=\"data row24 col1\" >8059</td>\n",
       "    </tr>\n",
       "  </tbody>\n",
       "</table>\n"
      ],
      "text/plain": [
       "<pandas.io.formats.style.Styler at 0x2889a5d80d0>"
      ]
     },
     "metadata": {},
     "output_type": "display_data"
    },
    {
     "data": {
      "image/png": "[encoded data removed]"
     },
     "metadata": {},
     "output_type": "display_data"
    }
   ],
   "source": [
    "\n",
    "setup(data=df_series, fh = 1 , fold = 7)\n",
    "\n",
    "plot_model(plot = 'diagnostics', \n",
    "           fig_kwargs={'renderer': 'png'})"
   ]
  },
  {
   "cell_type": "code",
   "execution_count": 16,
   "id": "260a97c5",
   "metadata": {},
   "outputs": [
    {
     "name": "stdout",
     "output_type": "stream",
     "text": [
      "STL Decomposition is not supported for time series that have a seasonal period < 2. The seasonal period computed/provided was 1.\n"
     ]
    }
   ],
   "source": [
    "plot_model(plot = 'decomp_stl', \n",
    "           fig_kwargs={'renderer': 'png'})"
   ]
  },
  {
   "cell_type": "code",
   "execution_count": 23,
   "id": "e427e0c2",
   "metadata": {
    "scrolled": false
   },
   "outputs": [
    {
     "data": {
      "text/plain": [
       "ARIMA()"
      ]
     },
     "execution_count": 23,
     "metadata": {},
     "output_type": "execute_result"
    }
   ],
   "source": [
    "best_baseline_models = compare_models( sort='MAE', errors = 'raise', verbose =False) # Media absolute error\n",
    "best_baseline_models"
   ]
  },
  {
   "cell_type": "code",
   "execution_count": 21,
   "id": "ad6afcb8",
   "metadata": {},
   "outputs": [
    {
     "data": {
      "text/html": [
       "<style type=\"text/css\">\n",
       "#T_41228_row7_col0, #T_41228_row7_col1, #T_41228_row7_col2, #T_41228_row7_col3, #T_41228_row7_col4, #T_41228_row7_col5, #T_41228_row7_col6 {\n",
       "  background: yellow;\n",
       "}\n",
       "</style>\n",
       "<table id=\"T_41228\">\n",
       "  <thead>\n",
       "    <tr>\n",
       "      <th class=\"blank level0\" >&nbsp;</th>\n",
       "      <th id=\"T_41228_level0_col0\" class=\"col_heading level0 col0\" >cutoff</th>\n",
       "      <th id=\"T_41228_level0_col1\" class=\"col_heading level0 col1\" >MAE</th>\n",
       "      <th id=\"T_41228_level0_col2\" class=\"col_heading level0 col2\" >RMSE</th>\n",
       "      <th id=\"T_41228_level0_col3\" class=\"col_heading level0 col3\" >MAPE</th>\n",
       "      <th id=\"T_41228_level0_col4\" class=\"col_heading level0 col4\" >SMAPE</th>\n",
       "      <th id=\"T_41228_level0_col5\" class=\"col_heading level0 col5\" >MASE</th>\n",
       "      <th id=\"T_41228_level0_col6\" class=\"col_heading level0 col6\" >RMSSE</th>\n",
       "    </tr>\n",
       "  </thead>\n",
       "  <tbody>\n",
       "    <tr>\n",
       "      <th id=\"T_41228_level0_row0\" class=\"row_heading level0 row0\" >0</th>\n",
       "      <td id=\"T_41228_row0_col0\" class=\"data row0 col0\" >2021-06</td>\n",
       "      <td id=\"T_41228_row0_col1\" class=\"data row0 col1\" >3057.9763</td>\n",
       "      <td id=\"T_41228_row0_col2\" class=\"data row0 col2\" >3057.9763</td>\n",
       "      <td id=\"T_41228_row0_col3\" class=\"data row0 col3\" >0.0506</td>\n",
       "      <td id=\"T_41228_row0_col4\" class=\"data row0 col4\" >0.0520</td>\n",
       "      <td id=\"T_41228_row0_col5\" class=\"data row0 col5\" >0.3553</td>\n",
       "      <td id=\"T_41228_row0_col6\" class=\"data row0 col6\" >0.2964</td>\n",
       "    </tr>\n",
       "    <tr>\n",
       "      <th id=\"T_41228_level0_row1\" class=\"row_heading level0 row1\" >1</th>\n",
       "      <td id=\"T_41228_row1_col0\" class=\"data row1 col0\" >2021-07</td>\n",
       "      <td id=\"T_41228_row1_col1\" class=\"data row1 col1\" >1238.8389</td>\n",
       "      <td id=\"T_41228_row1_col2\" class=\"data row1 col2\" >1238.8389</td>\n",
       "      <td id=\"T_41228_row1_col3\" class=\"data row1 col3\" >0.0203</td>\n",
       "      <td id=\"T_41228_row1_col4\" class=\"data row1 col4\" >0.0201</td>\n",
       "      <td id=\"T_41228_row1_col5\" class=\"data row1 col5\" >0.1519</td>\n",
       "      <td id=\"T_41228_row1_col6\" class=\"data row1 col6\" >0.1241</td>\n",
       "    </tr>\n",
       "    <tr>\n",
       "      <th id=\"T_41228_level0_row2\" class=\"row_heading level0 row2\" >2</th>\n",
       "      <td id=\"T_41228_row2_col0\" class=\"data row2 col0\" >2021-08</td>\n",
       "      <td id=\"T_41228_row2_col1\" class=\"data row2 col1\" >15633.1010</td>\n",
       "      <td id=\"T_41228_row2_col2\" class=\"data row2 col2\" >15633.1010</td>\n",
       "      <td id=\"T_41228_row2_col3\" class=\"data row2 col3\" >0.3400</td>\n",
       "      <td id=\"T_41228_row2_col4\" class=\"data row2 col4\" >0.2906</td>\n",
       "      <td id=\"T_41228_row2_col5\" class=\"data row2 col5\" >2.0343</td>\n",
       "      <td id=\"T_41228_row2_col6\" class=\"data row2 col6\" >1.6176</td>\n",
       "    </tr>\n",
       "    <tr>\n",
       "      <th id=\"T_41228_level0_row3\" class=\"row_heading level0 row3\" >3</th>\n",
       "      <td id=\"T_41228_row3_col0\" class=\"data row3 col0\" >2021-09</td>\n",
       "      <td id=\"T_41228_row3_col1\" class=\"data row3 col1\" >2910.5473</td>\n",
       "      <td id=\"T_41228_row3_col2\" class=\"data row3 col2\" >2910.5473</td>\n",
       "      <td id=\"T_41228_row3_col3\" class=\"data row3 col3\" >0.0565</td>\n",
       "      <td id=\"T_41228_row3_col4\" class=\"data row3 col4\" >0.0581</td>\n",
       "      <td id=\"T_41228_row3_col5\" class=\"data row3 col5\" >0.3585</td>\n",
       "      <td id=\"T_41228_row3_col6\" class=\"data row3 col6\" >0.2893</td>\n",
       "    </tr>\n",
       "    <tr>\n",
       "      <th id=\"T_41228_level0_row4\" class=\"row_heading level0 row4\" >4</th>\n",
       "      <td id=\"T_41228_row4_col0\" class=\"data row4 col0\" >2021-10</td>\n",
       "      <td id=\"T_41228_row4_col1\" class=\"data row4 col1\" >15192.1456</td>\n",
       "      <td id=\"T_41228_row4_col2\" class=\"data row4 col2\" >15192.1456</td>\n",
       "      <td id=\"T_41228_row4_col3\" class=\"data row4 col3\" >0.2803</td>\n",
       "      <td id=\"T_41228_row4_col4\" class=\"data row4 col4\" >0.3260</td>\n",
       "      <td id=\"T_41228_row4_col5\" class=\"data row4 col5\" >1.9047</td>\n",
       "      <td id=\"T_41228_row4_col6\" class=\"data row4 col6\" >1.5398</td>\n",
       "    </tr>\n",
       "    <tr>\n",
       "      <th id=\"T_41228_level0_row5\" class=\"row_heading level0 row5\" >5</th>\n",
       "      <td id=\"T_41228_row5_col0\" class=\"data row5 col0\" >2021-11</td>\n",
       "      <td id=\"T_41228_row5_col1\" class=\"data row5 col1\" >25907.9637</td>\n",
       "      <td id=\"T_41228_row5_col2\" class=\"data row5 col2\" >25907.9637</td>\n",
       "      <td id=\"T_41228_row5_col3\" class=\"data row5 col3\" >0.8320</td>\n",
       "      <td id=\"T_41228_row5_col4\" class=\"data row5 col4\" >0.5876</td>\n",
       "      <td id=\"T_41228_row5_col5\" class=\"data row5 col5\" >3.3661</td>\n",
       "      <td id=\"T_41228_row5_col6\" class=\"data row5 col6\" >2.6925</td>\n",
       "    </tr>\n",
       "    <tr>\n",
       "      <th id=\"T_41228_level0_row6\" class=\"row_heading level0 row6\" >6</th>\n",
       "      <td id=\"T_41228_row6_col0\" class=\"data row6 col0\" >2021-12</td>\n",
       "      <td id=\"T_41228_row6_col1\" class=\"data row6 col1\" >741.9741</td>\n",
       "      <td id=\"T_41228_row6_col2\" class=\"data row6 col2\" >741.9741</td>\n",
       "      <td id=\"T_41228_row6_col3\" class=\"data row6 col3\" >0.0218</td>\n",
       "      <td id=\"T_41228_row6_col4\" class=\"data row6 col4\" >0.0220</td>\n",
       "      <td id=\"T_41228_row6_col5\" class=\"data row6 col5\" >0.0877</td>\n",
       "      <td id=\"T_41228_row6_col6\" class=\"data row6 col6\" >0.0693</td>\n",
       "    </tr>\n",
       "    <tr>\n",
       "      <th id=\"T_41228_level0_row7\" class=\"row_heading level0 row7\" >Mean</th>\n",
       "      <td id=\"T_41228_row7_col0\" class=\"data row7 col0\" >nan</td>\n",
       "      <td id=\"T_41228_row7_col1\" class=\"data row7 col1\" >9240.3639</td>\n",
       "      <td id=\"T_41228_row7_col2\" class=\"data row7 col2\" >9240.3639</td>\n",
       "      <td id=\"T_41228_row7_col3\" class=\"data row7 col3\" >0.2288</td>\n",
       "      <td id=\"T_41228_row7_col4\" class=\"data row7 col4\" >0.1938</td>\n",
       "      <td id=\"T_41228_row7_col5\" class=\"data row7 col5\" >1.1798</td>\n",
       "      <td id=\"T_41228_row7_col6\" class=\"data row7 col6\" >0.9470</td>\n",
       "    </tr>\n",
       "    <tr>\n",
       "      <th id=\"T_41228_level0_row8\" class=\"row_heading level0 row8\" >SD</th>\n",
       "      <td id=\"T_41228_row8_col0\" class=\"data row8 col0\" >nan</td>\n",
       "      <td id=\"T_41228_row8_col1\" class=\"data row8 col1\" >9012.9685</td>\n",
       "      <td id=\"T_41228_row8_col2\" class=\"data row8 col2\" >9012.9685</td>\n",
       "      <td id=\"T_41228_row8_col3\" class=\"data row8 col3\" >0.2743</td>\n",
       "      <td id=\"T_41228_row8_col4\" class=\"data row8 col4\" >0.2000</td>\n",
       "      <td id=\"T_41228_row8_col5\" class=\"data row8 col5\" >1.1735</td>\n",
       "      <td id=\"T_41228_row8_col6\" class=\"data row8 col6\" >0.9374</td>\n",
       "    </tr>\n",
       "  </tbody>\n",
       "</table>\n"
      ],
      "text/plain": [
       "<pandas.io.formats.style.Styler at 0x2889c95bbb0>"
      ]
     },
     "metadata": {},
     "output_type": "display_data"
    },
    {
     "name": "stdout",
     "output_type": "stream",
     "text": [
      "ARIMA()\n"
     ]
    }
   ],
   "source": [
    "#best_baseline_models = 'auto_arima'\n",
    "the_model = create_model(best_baseline_models)\n",
    "print(the_model)\n",
    "\n",
    "tuned_model= tune_model(the_model)\n",
    "print(tuned_model)"
   ]
  },
  {
   "cell_type": "code",
   "execution_count": 24,
   "id": "13077257",
   "metadata": {
    "scrolled": false
   },
   "outputs": [
    {
     "data": {
      "image/png": "[encoded data removed]"
     },
     "metadata": {},
     "output_type": "display_data"
    }
   ],
   "source": [
    "final_best = finalize_model(the_model)\n",
    "predict_model(final_best, fh = 1)\n",
    "\n",
    "abc = plot_model(the_model, \n",
    "           plot = 'forecast', \n",
    "           data_kwargs = {'fh' : 10}, \n",
    "           fig_kwargs={'renderer': 'png'})"
   ]
  },
  {
   "cell_type": "code",
   "execution_count": null,
   "id": "919dd2d8",
   "metadata": {
    "scrolled": true
   },
   "outputs": [],
   "source": [
    "np.mean(df_series_pre)"
   ]
  },
  {
   "cell_type": "code",
   "execution_count": null,
   "id": "6b131d33",
   "metadata": {},
   "outputs": [],
   "source": [
    "setup(data=df_series_pre)\n",
    "best_baseline_models = compare_models(sort='MAE', errors = 'raise', verbose =False) # Media absolute error\n",
    "print(best_baseline_models)"
   ]
  },
  {
   "cell_type": "code",
   "execution_count": null,
   "id": "38725cb3",
   "metadata": {},
   "outputs": [],
   "source": [
    "the_model = create_model(best_baseline_models)\n",
    "print(the_model)\n",
    "\n",
    "tuned_model= tune_model(the_model)\n",
    "print(tuned_model)"
   ]
  },
  {
   "cell_type": "code",
   "execution_count": null,
   "id": "60d9861c",
   "metadata": {},
   "outputs": [],
   "source": [
    "final_best = finalize_model(the_model)\n",
    "predict_model(final_best, fh = 5)\n",
    "\n",
    "plot_model(the_model, \n",
    "           plot = 'forecast', \n",
    "           data_kwargs = {'fh' : 5}, \n",
    "           fig_kwargs={'renderer': 'png'})"
   ]
  },
  {
   "cell_type": "markdown",
   "id": "a3ae0e8a",
   "metadata": {},
   "source": [
    "#### PUBLIC"
   ]
  },
  {
   "cell_type": "code",
   "execution_count": null,
   "id": "f563d1d0",
   "metadata": {
    "scrolled": false
   },
   "outputs": [],
   "source": [
    "index = post_pandemic_df['DATE'].values\n",
    "data_to = post_pandemic_df['PUBLIC'].values\n",
    "df_series = pd.Series(data = data_to, index = index)\n",
    "\n",
    "index = pre_pandemic_df['DATE'].values\n",
    "data_to = pre_pandemic_df['PUBLIC'].values\n",
    "df_series_pre = pd.Series(data = data_to, index = index)\n",
    "\n",
    "df_series.plot()"
   ]
  },
  {
   "cell_type": "code",
   "execution_count": null,
   "id": "b2b07f75",
   "metadata": {},
   "outputs": [],
   "source": [
    "print(\"Media: \"+str(np.mean(df_series_pre)))"
   ]
  },
  {
   "cell_type": "code",
   "execution_count": null,
   "id": "ae81d293",
   "metadata": {},
   "outputs": [],
   "source": []
  },
  {
   "cell_type": "code",
   "execution_count": null,
   "id": "3bc51ef0",
   "metadata": {},
   "outputs": [],
   "source": []
  },
  {
   "cell_type": "code",
   "execution_count": null,
   "id": "2d5811b9",
   "metadata": {},
   "outputs": [],
   "source": []
  },
  {
   "cell_type": "code",
   "execution_count": null,
   "id": "c54ecedf",
   "metadata": {},
   "outputs": [],
   "source": []
  },
  {
   "cell_type": "code",
   "execution_count": null,
   "id": "de8c262f",
   "metadata": {},
   "outputs": [],
   "source": []
  },
  {
   "cell_type": "code",
   "execution_count": null,
   "id": "76d9e44a",
   "metadata": {},
   "outputs": [],
   "source": []
  },
  {
   "cell_type": "code",
   "execution_count": null,
   "id": "daf8006e",
   "metadata": {},
   "outputs": [],
   "source": []
  },
  {
   "cell_type": "code",
   "execution_count": null,
   "id": "e81ac564",
   "metadata": {},
   "outputs": [],
   "source": []
  },
  {
   "cell_type": "code",
   "execution_count": null,
   "id": "6b1a7b90",
   "metadata": {},
   "outputs": [],
   "source": []
  },
  {
   "cell_type": "code",
   "execution_count": null,
   "id": "bf91e19a",
   "metadata": {},
   "outputs": [],
   "source": []
  },
  {
   "cell_type": "code",
   "execution_count": null,
   "id": "a12c91d4",
   "metadata": {},
   "outputs": [],
   "source": []
  },
  {
   "cell_type": "code",
   "execution_count": null,
   "id": "46de6d1a",
   "metadata": {},
   "outputs": [],
   "source": []
  },
  {
   "cell_type": "code",
   "execution_count": null,
   "id": "0b964917",
   "metadata": {},
   "outputs": [],
   "source": []
  },
  {
   "cell_type": "code",
   "execution_count": null,
   "id": "0629347a",
   "metadata": {},
   "outputs": [],
   "source": []
  },
  {
   "cell_type": "code",
   "execution_count": null,
   "id": "ac8c3535",
   "metadata": {},
   "outputs": [],
   "source": []
  },
  {
   "cell_type": "code",
   "execution_count": null,
   "id": "328a9cde",
   "metadata": {},
   "outputs": [],
   "source": []
  },
  {
   "cell_type": "code",
   "execution_count": null,
   "id": "2bb9303f",
   "metadata": {},
   "outputs": [],
   "source": []
  },
  {
   "cell_type": "code",
   "execution_count": null,
   "id": "9737668e",
   "metadata": {},
   "outputs": [],
   "source": []
  },
  {
   "cell_type": "code",
   "execution_count": null,
   "id": "1a493837",
   "metadata": {},
   "outputs": [],
   "source": []
  },
  {
   "cell_type": "code",
   "execution_count": null,
   "id": "f8380153",
   "metadata": {},
   "outputs": [],
   "source": []
  },
  {
   "cell_type": "code",
   "execution_count": null,
   "id": "cc443367",
   "metadata": {},
   "outputs": [],
   "source": []
  },
  {
   "cell_type": "code",
   "execution_count": null,
   "id": "ffea79b4",
   "metadata": {},
   "outputs": [],
   "source": []
  },
  {
   "cell_type": "code",
   "execution_count": null,
   "id": "335f2069",
   "metadata": {},
   "outputs": [],
   "source": []
  },
  {
   "cell_type": "code",
   "execution_count": null,
   "id": "0b2c64fe",
   "metadata": {},
   "outputs": [],
   "source": []
  },
  {
   "cell_type": "code",
   "execution_count": null,
   "id": "ed5bdd08",
   "metadata": {},
   "outputs": [],
   "source": []
  },
  {
   "cell_type": "code",
   "execution_count": null,
   "id": "ec71e481",
   "metadata": {},
   "outputs": [],
   "source": []
  },
  {
   "cell_type": "code",
   "execution_count": null,
   "id": "1b0fb948",
   "metadata": {},
   "outputs": [],
   "source": []
  },
  {
   "cell_type": "code",
   "execution_count": null,
   "id": "70d8ca1e",
   "metadata": {},
   "outputs": [],
   "source": []
  },
  {
   "cell_type": "code",
   "execution_count": null,
   "id": "bafa5ce5",
   "metadata": {},
   "outputs": [],
   "source": []
  },
  {
   "cell_type": "code",
   "execution_count": null,
   "id": "7c861401",
   "metadata": {},
   "outputs": [],
   "source": []
  },
  {
   "cell_type": "code",
   "execution_count": null,
   "id": "67a63196",
   "metadata": {},
   "outputs": [],
   "source": []
  },
  {
   "cell_type": "code",
   "execution_count": null,
   "id": "008d3a59",
   "metadata": {},
   "outputs": [],
   "source": []
  },
  {
   "cell_type": "code",
   "execution_count": null,
   "id": "9fa4d195",
   "metadata": {},
   "outputs": [],
   "source": []
  },
  {
   "cell_type": "code",
   "execution_count": null,
   "id": "552981fa",
   "metadata": {},
   "outputs": [],
   "source": []
  },
  {
   "cell_type": "code",
   "execution_count": null,
   "id": "e2bf4ba4",
   "metadata": {},
   "outputs": [],
   "source": []
  },
  {
   "cell_type": "code",
   "execution_count": null,
   "id": "4915183e",
   "metadata": {},
   "outputs": [],
   "source": []
  },
  {
   "cell_type": "code",
   "execution_count": null,
   "id": "a5f7f94d",
   "metadata": {},
   "outputs": [],
   "source": []
  },
  {
   "cell_type": "code",
   "execution_count": null,
   "id": "df4c549a",
   "metadata": {},
   "outputs": [],
   "source": []
  },
  {
   "cell_type": "code",
   "execution_count": null,
   "id": "6c1e3c70",
   "metadata": {},
   "outputs": [],
   "source": []
  },
  {
   "cell_type": "code",
   "execution_count": null,
   "id": "ba1e665b",
   "metadata": {},
   "outputs": [],
   "source": []
  },
  {
   "cell_type": "code",
   "execution_count": null,
   "id": "e33d3545",
   "metadata": {},
   "outputs": [],
   "source": []
  },
  {
   "cell_type": "code",
   "execution_count": null,
   "id": "026b324e",
   "metadata": {},
   "outputs": [],
   "source": []
  },
  {
   "cell_type": "code",
   "execution_count": null,
   "id": "20b69d24",
   "metadata": {},
   "outputs": [],
   "source": []
  },
  {
   "cell_type": "code",
   "execution_count": null,
   "id": "0a2d5665",
   "metadata": {},
   "outputs": [],
   "source": []
  },
  {
   "cell_type": "code",
   "execution_count": null,
   "id": "6e04dc8c",
   "metadata": {},
   "outputs": [],
   "source": []
  },
  {
   "cell_type": "code",
   "execution_count": null,
   "id": "6d85afcc",
   "metadata": {},
   "outputs": [],
   "source": []
  },
  {
   "cell_type": "code",
   "execution_count": null,
   "id": "9d9b691a",
   "metadata": {},
   "outputs": [],
   "source": []
  },
  {
   "cell_type": "code",
   "execution_count": null,
   "id": "1af54979",
   "metadata": {},
   "outputs": [],
   "source": []
  },
  {
   "cell_type": "code",
   "execution_count": null,
   "id": "7a50290c",
   "metadata": {},
   "outputs": [],
   "source": []
  },
  {
   "cell_type": "code",
   "execution_count": null,
   "id": "f1cf8e14",
   "metadata": {},
   "outputs": [],
   "source": []
  },
  {
   "cell_type": "code",
   "execution_count": null,
   "id": "c12b3e58",
   "metadata": {},
   "outputs": [],
   "source": []
  },
  {
   "cell_type": "code",
   "execution_count": null,
   "id": "c510271a",
   "metadata": {},
   "outputs": [],
   "source": []
  },
  {
   "cell_type": "code",
   "execution_count": null,
   "id": "938a8b91",
   "metadata": {},
   "outputs": [],
   "source": []
  },
  {
   "cell_type": "code",
   "execution_count": null,
   "id": "1eb383e6",
   "metadata": {},
   "outputs": [],
   "source": []
  },
  {
   "cell_type": "code",
   "execution_count": null,
   "id": "82f25692",
   "metadata": {},
   "outputs": [],
   "source": []
  },
  {
   "cell_type": "code",
   "execution_count": null,
   "id": "50765b76",
   "metadata": {},
   "outputs": [],
   "source": []
  },
  {
   "cell_type": "code",
   "execution_count": null,
   "id": "35e60793",
   "metadata": {},
   "outputs": [],
   "source": []
  },
  {
   "cell_type": "code",
   "execution_count": null,
   "id": "63ec2fec",
   "metadata": {},
   "outputs": [],
   "source": []
  },
  {
   "cell_type": "code",
   "execution_count": null,
   "id": "ccc17e88",
   "metadata": {},
   "outputs": [],
   "source": []
  },
  {
   "cell_type": "code",
   "execution_count": null,
   "id": "17012e1a",
   "metadata": {},
   "outputs": [],
   "source": []
  },
  {
   "cell_type": "code",
   "execution_count": null,
   "id": "8444b594",
   "metadata": {},
   "outputs": [],
   "source": []
  },
  {
   "cell_type": "code",
   "execution_count": null,
   "id": "cb6086be",
   "metadata": {},
   "outputs": [],
   "source": []
  },
  {
   "cell_type": "code",
   "execution_count": null,
   "id": "b075f50f",
   "metadata": {},
   "outputs": [],
   "source": []
  },
  {
   "cell_type": "code",
   "execution_count": null,
   "id": "4d3dfde8",
   "metadata": {},
   "outputs": [],
   "source": []
  },
  {
   "cell_type": "code",
   "execution_count": null,
   "id": "a7edcc7f",
   "metadata": {},
   "outputs": [],
   "source": []
  },
  {
   "cell_type": "code",
   "execution_count": null,
   "id": "1529bb85",
   "metadata": {},
   "outputs": [],
   "source": []
  },
  {
   "cell_type": "code",
   "execution_count": null,
   "id": "782c956e",
   "metadata": {},
   "outputs": [],
   "source": []
  },
  {
   "cell_type": "code",
   "execution_count": null,
   "id": "0b7a754c",
   "metadata": {},
   "outputs": [],
   "source": []
  },
  {
   "cell_type": "code",
   "execution_count": null,
   "id": "2a73b3ef",
   "metadata": {},
   "outputs": [],
   "source": []
  },
  {
   "cell_type": "code",
   "execution_count": null,
   "id": "de047cba",
   "metadata": {},
   "outputs": [],
   "source": []
  },
  {
   "cell_type": "code",
   "execution_count": null,
   "id": "e3ed50b0",
   "metadata": {},
   "outputs": [],
   "source": []
  },
  {
   "cell_type": "code",
   "execution_count": null,
   "id": "950dad45",
   "metadata": {},
   "outputs": [],
   "source": []
  },
  {
   "cell_type": "code",
   "execution_count": null,
   "id": "d99c7691",
   "metadata": {},
   "outputs": [],
   "source": []
  },
  {
   "cell_type": "code",
   "execution_count": null,
   "id": "f2ce3175",
   "metadata": {},
   "outputs": [],
   "source": []
  },
  {
   "cell_type": "code",
   "execution_count": null,
   "id": "f4bc0230",
   "metadata": {},
   "outputs": [],
   "source": []
  },
  {
   "cell_type": "code",
   "execution_count": null,
   "id": "e3bdf8ae",
   "metadata": {},
   "outputs": [],
   "source": []
  },
  {
   "cell_type": "code",
   "execution_count": null,
   "id": "79f5e40a",
   "metadata": {},
   "outputs": [],
   "source": []
  },
  {
   "cell_type": "code",
   "execution_count": null,
   "id": "c590364b",
   "metadata": {},
   "outputs": [],
   "source": []
  },
  {
   "cell_type": "code",
   "execution_count": null,
   "id": "48ef00ee",
   "metadata": {},
   "outputs": [],
   "source": []
  },
  {
   "cell_type": "code",
   "execution_count": null,
   "id": "b000c556",
   "metadata": {},
   "outputs": [],
   "source": []
  },
  {
   "cell_type": "code",
   "execution_count": null,
   "id": "4f9706b6",
   "metadata": {},
   "outputs": [],
   "source": []
  },
  {
   "cell_type": "code",
   "execution_count": null,
   "id": "208eb02c",
   "metadata": {},
   "outputs": [],
   "source": []
  },
  {
   "cell_type": "code",
   "execution_count": null,
   "id": "937c0e43",
   "metadata": {},
   "outputs": [],
   "source": []
  },
  {
   "cell_type": "code",
   "execution_count": null,
   "id": "4126efa9",
   "metadata": {},
   "outputs": [],
   "source": []
  },
  {
   "cell_type": "code",
   "execution_count": null,
   "id": "55fd5d54",
   "metadata": {
    "scrolled": true
   },
   "outputs": [],
   "source": [
    "from pycaret.time_series import *\n",
    "setup(data=df_series)\n",
    "\n",
    "plot_model(plot = 'diagnostics', \n",
    "           fig_kwargs={'renderer': 'png'})"
   ]
  },
  {
   "cell_type": "code",
   "execution_count": null,
   "id": "531c2f1d",
   "metadata": {},
   "outputs": [],
   "source": [
    "plot_model(plot = 'diagnostics')"
   ]
  },
  {
   "cell_type": "code",
   "execution_count": null,
   "id": "cf66bc3b",
   "metadata": {
    "scrolled": false
   },
   "outputs": [],
   "source": [
    "best_baseline_models = compare_models(sort='MAE', errors = 'raise', verbose =False) # Media absolute error\n",
    "best_baseline_models"
   ]
  },
  {
   "cell_type": "code",
   "execution_count": null,
   "id": "99e6f842",
   "metadata": {
    "scrolled": true
   },
   "outputs": [],
   "source": [
    "#best_baseline_models = 'auto_arima'\n",
    "the_model = create_model(best_baseline_models)\n",
    "print(the_model)\n",
    "\n",
    "tuned_model= tune_model(the_model)\n",
    "print(tuned_model)"
   ]
  },
  {
   "cell_type": "code",
   "execution_count": null,
   "id": "135f52c8",
   "metadata": {
    "scrolled": false
   },
   "outputs": [],
   "source": [
    "final_best = finalize_model(best_baseline_models)\n",
    "final_best = finalize_model(the_model)\n",
    "predict_model(final_best, fh = 5)\n",
    "\n",
    "plot_model(the_model, \n",
    "           plot = 'forecast', \n",
    "           data_kwargs = {'fh' : 5}, \n",
    "           fig_kwargs={'renderer': 'png'})"
   ]
  },
  {
   "cell_type": "code",
   "execution_count": null,
   "id": "ce2cf190",
   "metadata": {},
   "outputs": [],
   "source": [
    "x =  list(data_to) + list(predict_model(final_best, fh = 5)['y_pred'])\n",
    "x"
   ]
  },
  {
   "cell_type": "code",
   "execution_count": null,
   "id": "dd6832a3",
   "metadata": {},
   "outputs": [],
   "source": [
    "post_pandemic_df.head(50)"
   ]
  },
  {
   "cell_type": "code",
   "execution_count": null,
   "id": "00f8648d",
   "metadata": {},
   "outputs": [],
   "source": [
    "import pandas as pd\n",
    "from pycaret.datasets import get_data\n",
    "data = get_data('pycaret_downloads')\n",
    "data['Date'] = pd.to_datetime(data['Date'])\n",
    "data = data.groupby('Date').sum()\n",
    "data = data.asfreq('D')\n",
    "data.head()"
   ]
  },
  {
   "cell_type": "code",
   "execution_count": null,
   "id": "a2687a24",
   "metadata": {},
   "outputs": [],
   "source": [
    "# plot the data\n",
    "data.plot()"
   ]
  },
  {
   "cell_type": "code",
   "execution_count": null,
   "id": "a906a291",
   "metadata": {},
   "outputs": [],
   "source": [
    "# with functional API\n",
    "from pycaret.time_series import *\n",
    "setup(data, fh = 7, fold = 3, session_id = 123)"
   ]
  },
  {
   "cell_type": "code",
   "execution_count": null,
   "id": "8ee2682e",
   "metadata": {},
   "outputs": [],
   "source": [
    "check_stats()"
   ]
  },
  {
   "cell_type": "code",
   "execution_count": null,
   "id": "757a440d",
   "metadata": {},
   "outputs": [],
   "source": [
    "# functional API\n",
    "plot_model(plot = 'ts', \n",
    "           fig_kwargs={'renderer': 'png'})"
   ]
  },
  {
   "cell_type": "code",
   "execution_count": null,
   "id": "49fe6462",
   "metadata": {},
   "outputs": [],
   "source": [
    "# cross-validation plot\n",
    "plot_model(plot = 'cv', \n",
    "           fig_kwargs={'renderer': 'png'})"
   ]
  },
  {
   "cell_type": "code",
   "execution_count": null,
   "id": "4742b63b",
   "metadata": {},
   "outputs": [],
   "source": [
    "# ACF plot\n",
    "plot_model(plot = 'acf', \n",
    "           fig_kwargs={'renderer': 'png'})"
   ]
  },
  {
   "cell_type": "code",
   "execution_count": null,
   "id": "b999fa4e",
   "metadata": {},
   "outputs": [],
   "source": [
    "# Decomposition plot\n",
    "plot_model(plot = 'decomp_stl', \n",
    "           fig_kwargs={'renderer': 'png'})"
   ]
  },
  {
   "cell_type": "code",
   "execution_count": null,
   "id": "83bad1c0",
   "metadata": {},
   "outputs": [],
   "source": [
    "# functional API\n",
    "best = compare_models()"
   ]
  },
  {
   "cell_type": "code",
   "execution_count": null,
   "id": "4eb25683",
   "metadata": {},
   "outputs": [],
   "source": [
    "best"
   ]
  },
  {
   "cell_type": "code",
   "execution_count": null,
   "id": "456a972b",
   "metadata": {},
   "outputs": [],
   "source": [
    "# create fbprophet model\n",
    "best_model = create_model(best)\n",
    "print(best_model)"
   ]
  },
  {
   "cell_type": "code",
   "execution_count": null,
   "id": "a662dbd3",
   "metadata": {
    "scrolled": true
   },
   "outputs": [],
   "source": [
    "plot_model(best, plot = 'forecast', \n",
    "           fig_kwargs={'renderer': 'png'})"
   ]
  },
  {
   "cell_type": "code",
   "execution_count": null,
   "id": "e6bf7fcd",
   "metadata": {},
   "outputs": [],
   "source": []
  }
 ],
 "metadata": {
  "kernelspec": {
   "display_name": "Python 3 (ipykernel)",
   "language": "python",
   "name": "python3"
  },
  "language_info": {
   "codemirror_mode": {
    "name": "ipython",
    "version": 3
   },
   "file_extension": ".py",
   "mimetype": "text/x-python",
   "name": "python",
   "nbconvert_exporter": "python",
   "pygments_lexer": "ipython3",
   "version": "3.9.12"
  }
 },
 "nbformat": 4,
 "nbformat_minor": 5
}
