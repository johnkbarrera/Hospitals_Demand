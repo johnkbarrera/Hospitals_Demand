{
 "cells": [
  {
   "cell_type": "code",
   "execution_count": 1,
   "id": "1cbee083",
   "metadata": {},
   "outputs": [],
   "source": [
    "# !pip install plotly\n",
    "# !pip install matplotlib==3.5.0"
   ]
  },
  {
   "cell_type": "code",
   "execution_count": 2,
   "id": "7ad83372",
   "metadata": {},
   "outputs": [],
   "source": [
    "import pandas as pd\n",
    "import numpy as np\n",
    "import glob\n",
    "from tqdm import tqdm, trange\n",
    "#import pickle5 as pickle\n",
    "\n",
    "\n",
    "import matplotlib\n",
    "import matplotlib.pyplot as plt\n",
    "from matplotlib.pyplot import cm\n",
    "import plotly.express as px\n",
    "from difflib import SequenceMatcher\n",
    "import seaborn as sns"
   ]
  },
  {
   "cell_type": "code",
   "execution_count": 3,
   "id": "3b9067e3",
   "metadata": {},
   "outputs": [],
   "source": [
    "def millions(x, pos):\n",
    "    \"\"\"The two args are the value and tick position.\"\"\"\n",
    "    return '{:1.1f}M'.format(x*1e-6)\n"
   ]
  },
  {
   "cell_type": "code",
   "execution_count": 4,
   "id": "e7a66467-7262-4ce2-9428-d38cee5eb451",
   "metadata": {},
   "outputs": [],
   "source": [
    "# with open('data/morbilidad_global.csv', \"rb\") as fh:\n",
    "#     all_data = pickle.load(fh)\n",
    "    \n",
    "# all_data = pd.read_pickle('data/morbilidad_global.pkl')\n",
    "\n",
    "# #all_data = all_data[(all_data['YEAR']>=2018) & (all_data['YEAR']<2022)]\n",
    "# all_data = all_data[(all_data['YEAR']>=2018)]\n",
    "\n",
    "# all_data['IS_LIMA'] = all_data['PROVINCE'].apply(lambda x : True if x=='LIMA' else False)\n",
    "# all_data['SECTOR'] = all_data['SECTOR'].apply(lambda x: 'PRIVATE' if x == 'PRIVADO' else 'PUBLIC')\n",
    "\n",
    "# all_data = all_data[all_data['IS_LIMA']==True]\n",
    "\n",
    "\n",
    "# all_data.to_csv('data/morbilidad_global_ts.csv')\n",
    "# all_data.to_pickle('data/morbilidad_global_ts.pkl')"
   ]
  },
  {
   "cell_type": "code",
   "execution_count": 5,
   "id": "ba79c348",
   "metadata": {},
   "outputs": [
    {
     "data": {
      "text/html": [
       "<div>\n",
       "<style scoped>\n",
       "    .dataframe tbody tr th:only-of-type {\n",
       "        vertical-align: middle;\n",
       "    }\n",
       "\n",
       "    .dataframe tbody tr th {\n",
       "        vertical-align: top;\n",
       "    }\n",
       "\n",
       "    .dataframe thead th {\n",
       "        text-align: right;\n",
       "    }\n",
       "</style>\n",
       "<table border=\"1\" class=\"dataframe\">\n",
       "  <thead>\n",
       "    <tr style=\"text-align: right;\">\n",
       "      <th></th>\n",
       "      <th>DATE</th>\n",
       "      <th>YEAR</th>\n",
       "      <th>MONTH</th>\n",
       "      <th>STATE</th>\n",
       "      <th>PROVINCE</th>\n",
       "      <th>DISTRICT</th>\n",
       "      <th>SECTOR</th>\n",
       "      <th>CATEGORY</th>\n",
       "      <th>CATEGORY2</th>\n",
       "      <th>CO_IPRESS</th>\n",
       "      <th>...</th>\n",
       "      <th>DIAGNOSIS_ID</th>\n",
       "      <th>QTY_PEOPLE_SERVED</th>\n",
       "      <th>DISEASE</th>\n",
       "      <th>DISEASE_GROUP</th>\n",
       "      <th>COD_IPRESS</th>\n",
       "      <th>x</th>\n",
       "      <th>y</th>\n",
       "      <th>SECTOR_R</th>\n",
       "      <th>TYPE</th>\n",
       "      <th>IS_LIMA</th>\n",
       "    </tr>\n",
       "  </thead>\n",
       "  <tbody>\n",
       "    <tr>\n",
       "      <th>0</th>\n",
       "      <td>2018-01-01</td>\n",
       "      <td>2018</td>\n",
       "      <td>1</td>\n",
       "      <td>LIMA</td>\n",
       "      <td>LIMA</td>\n",
       "      <td>LIMA</td>\n",
       "      <td>PRIVATE</td>\n",
       "      <td>II-2</td>\n",
       "      <td>II</td>\n",
       "      <td>00015610</td>\n",
       "      <td>...</td>\n",
       "      <td>R10.2</td>\n",
       "      <td>10</td>\n",
       "      <td>PELVIC AND PERINEAL PAIN</td>\n",
       "      <td>Abnormal clinical and laboratory symptoms, sig...</td>\n",
       "      <td>00015610</td>\n",
       "      <td>-12.058367</td>\n",
       "      <td>-77.038362</td>\n",
       "      <td>PRIVADO</td>\n",
       "      <td>Outpatient Consultation</td>\n",
       "      <td>True</td>\n",
       "    </tr>\n",
       "    <tr>\n",
       "      <th>1</th>\n",
       "      <td>2018-01-01</td>\n",
       "      <td>2018</td>\n",
       "      <td>1</td>\n",
       "      <td>LIMA</td>\n",
       "      <td>LIMA</td>\n",
       "      <td>LIMA</td>\n",
       "      <td>PRIVATE</td>\n",
       "      <td>II-2</td>\n",
       "      <td>II</td>\n",
       "      <td>00015610</td>\n",
       "      <td>...</td>\n",
       "      <td>R10.4</td>\n",
       "      <td>11</td>\n",
       "      <td>UNIDENTIFIED</td>\n",
       "      <td>Abnormal clinical and laboratory symptoms, sig...</td>\n",
       "      <td>00015610</td>\n",
       "      <td>-12.058367</td>\n",
       "      <td>-77.038362</td>\n",
       "      <td>PRIVADO</td>\n",
       "      <td>Outpatient Consultation</td>\n",
       "      <td>True</td>\n",
       "    </tr>\n",
       "    <tr>\n",
       "      <th>2</th>\n",
       "      <td>2018-01-01</td>\n",
       "      <td>2018</td>\n",
       "      <td>1</td>\n",
       "      <td>LIMA</td>\n",
       "      <td>LIMA</td>\n",
       "      <td>LIMA</td>\n",
       "      <td>PRIVATE</td>\n",
       "      <td>II-2</td>\n",
       "      <td>II</td>\n",
       "      <td>00015610</td>\n",
       "      <td>...</td>\n",
       "      <td>R11.X</td>\n",
       "      <td>3</td>\n",
       "      <td>UNIDENTIFIED</td>\n",
       "      <td>Abnormal clinical and laboratory symptoms, sig...</td>\n",
       "      <td>00015610</td>\n",
       "      <td>-12.058367</td>\n",
       "      <td>-77.038362</td>\n",
       "      <td>PRIVADO</td>\n",
       "      <td>Outpatient Consultation</td>\n",
       "      <td>True</td>\n",
       "    </tr>\n",
       "    <tr>\n",
       "      <th>3</th>\n",
       "      <td>2018-01-01</td>\n",
       "      <td>2018</td>\n",
       "      <td>1</td>\n",
       "      <td>LIMA</td>\n",
       "      <td>LIMA</td>\n",
       "      <td>LIMA</td>\n",
       "      <td>PRIVATE</td>\n",
       "      <td>II-2</td>\n",
       "      <td>II</td>\n",
       "      <td>00015610</td>\n",
       "      <td>...</td>\n",
       "      <td>R16.0</td>\n",
       "      <td>1</td>\n",
       "      <td>HEPATOMEGALY, NOT ELSEWHERE CLASSIFIED</td>\n",
       "      <td>Abnormal clinical and laboratory symptoms, sig...</td>\n",
       "      <td>00015610</td>\n",
       "      <td>-12.058367</td>\n",
       "      <td>-77.038362</td>\n",
       "      <td>PRIVADO</td>\n",
       "      <td>Outpatient Consultation</td>\n",
       "      <td>True</td>\n",
       "    </tr>\n",
       "    <tr>\n",
       "      <th>4</th>\n",
       "      <td>2018-01-01</td>\n",
       "      <td>2018</td>\n",
       "      <td>1</td>\n",
       "      <td>LIMA</td>\n",
       "      <td>LIMA</td>\n",
       "      <td>LIMA</td>\n",
       "      <td>PRIVATE</td>\n",
       "      <td>II-2</td>\n",
       "      <td>II</td>\n",
       "      <td>00015610</td>\n",
       "      <td>...</td>\n",
       "      <td>R42.X</td>\n",
       "      <td>1</td>\n",
       "      <td>UNIDENTIFIED</td>\n",
       "      <td>Abnormal clinical and laboratory symptoms, sig...</td>\n",
       "      <td>00015610</td>\n",
       "      <td>-12.058367</td>\n",
       "      <td>-77.038362</td>\n",
       "      <td>PRIVADO</td>\n",
       "      <td>Outpatient Consultation</td>\n",
       "      <td>True</td>\n",
       "    </tr>\n",
       "  </tbody>\n",
       "</table>\n",
       "<p>5 rows × 23 columns</p>\n",
       "</div>"
      ],
      "text/plain": [
       "        DATE  YEAR  MONTH STATE PROVINCE DISTRICT   SECTOR CATEGORY CATEGORY2  \\\n",
       "0 2018-01-01  2018      1  LIMA     LIMA     LIMA  PRIVATE     II-2        II   \n",
       "1 2018-01-01  2018      1  LIMA     LIMA     LIMA  PRIVATE     II-2        II   \n",
       "2 2018-01-01  2018      1  LIMA     LIMA     LIMA  PRIVATE     II-2        II   \n",
       "3 2018-01-01  2018      1  LIMA     LIMA     LIMA  PRIVATE     II-2        II   \n",
       "4 2018-01-01  2018      1  LIMA     LIMA     LIMA  PRIVATE     II-2        II   \n",
       "\n",
       "  CO_IPRESS  ... DIAGNOSIS_ID QTY_PEOPLE_SERVED  \\\n",
       "0  00015610  ...        R10.2                10   \n",
       "1  00015610  ...        R10.4                11   \n",
       "2  00015610  ...        R11.X                 3   \n",
       "3  00015610  ...        R16.0                 1   \n",
       "4  00015610  ...        R42.X                 1   \n",
       "\n",
       "                                  DISEASE  \\\n",
       "0                PELVIC AND PERINEAL PAIN   \n",
       "1                            UNIDENTIFIED   \n",
       "2                            UNIDENTIFIED   \n",
       "3  HEPATOMEGALY, NOT ELSEWHERE CLASSIFIED   \n",
       "4                            UNIDENTIFIED   \n",
       "\n",
       "                                       DISEASE_GROUP  COD_IPRESS          x  \\\n",
       "0  Abnormal clinical and laboratory symptoms, sig...    00015610 -12.058367   \n",
       "1  Abnormal clinical and laboratory symptoms, sig...    00015610 -12.058367   \n",
       "2  Abnormal clinical and laboratory symptoms, sig...    00015610 -12.058367   \n",
       "3  Abnormal clinical and laboratory symptoms, sig...    00015610 -12.058367   \n",
       "4  Abnormal clinical and laboratory symptoms, sig...    00015610 -12.058367   \n",
       "\n",
       "           y SECTOR_R                     TYPE  IS_LIMA  \n",
       "0 -77.038362  PRIVADO  Outpatient Consultation     True  \n",
       "1 -77.038362  PRIVADO  Outpatient Consultation     True  \n",
       "2 -77.038362  PRIVADO  Outpatient Consultation     True  \n",
       "3 -77.038362  PRIVADO  Outpatient Consultation     True  \n",
       "4 -77.038362  PRIVADO  Outpatient Consultation     True  \n",
       "\n",
       "[5 rows x 23 columns]"
      ]
     },
     "execution_count": 5,
     "metadata": {},
     "output_type": "execute_result"
    }
   ],
   "source": [
    "all_data = pd.read_pickle('data/morbilidad_global_ts.pkl')\n",
    "all_data.head()"
   ]
  },
  {
   "cell_type": "raw",
   "id": "bec27996",
   "metadata": {},
   "source": [
    "diagnostics_tag = np.unique(all_data['DISEASE_GROUP'])\n",
    "\n",
    "name = \"gist_rainbow\"\n",
    "name = \"jet\"\n",
    "cmap = cm.get_cmap(name, 256)  # type: matplotlib.colors.ListedColormap\n",
    "colors = cmap(np.linspace(0, 1, len(diagnostics_tag)))\n",
    "\n",
    "dict_colors = {}\n",
    "counter = 0\n",
    "for d in diagnostics_tag:\n",
    "    x=colors[counter]\n",
    "    if d == 'Codes for special situations':\n",
    "        dict_colors[d]='#000000'\n",
    "    else:\n",
    "        dict_colors[d]=matplotlib.colors.rgb2hex(x)\n",
    "    counter+=1"
   ]
  },
  {
   "cell_type": "code",
   "execution_count": 6,
   "id": "ce1921c6",
   "metadata": {},
   "outputs": [],
   "source": [
    "diagnostics_tag = np.unique(all_data['DISEASE_GROUP'])\n",
    "\n",
    "cmap = cm.get_cmap('tab20b', 256)\n",
    "colorsb = cmap(np.linspace(0, 1, 20))\n",
    "cmap = cm.get_cmap('tab20c', 256)\n",
    "colorsc = cmap(np.linspace(0, 1, 20))[8:-4]\n",
    "\n",
    "colors = list(colorsc)+list(colorsb)\n",
    "# new_colors = []\n",
    "# for i in range(len(colorsc)):\n",
    "#     new_colors.append(colorsc[i])\n",
    "#     new_colors.append(colorsb[i])\n",
    "\n",
    "dict_colors = {}\n",
    "counter = 0\n",
    "for d in diagnostics_tag:\n",
    "    x=colors[counter]\n",
    "    dict_colors[d]=matplotlib.colors.rgb2hex(x)\n",
    "    counter+=1"
   ]
  },
  {
   "cell_type": "code",
   "execution_count": 7,
   "id": "d5a6132e",
   "metadata": {},
   "outputs": [
    {
     "data": {
      "text/html": [
       "<div>\n",
       "<style scoped>\n",
       "    .dataframe tbody tr th:only-of-type {\n",
       "        vertical-align: middle;\n",
       "    }\n",
       "\n",
       "    .dataframe tbody tr th {\n",
       "        vertical-align: top;\n",
       "    }\n",
       "\n",
       "    .dataframe thead th {\n",
       "        text-align: right;\n",
       "    }\n",
       "</style>\n",
       "<table border=\"1\" class=\"dataframe\">\n",
       "  <thead>\n",
       "    <tr style=\"text-align: right;\">\n",
       "      <th></th>\n",
       "      <th>DATE</th>\n",
       "      <th>YEAR</th>\n",
       "      <th>MONTH</th>\n",
       "      <th>STATE</th>\n",
       "      <th>PROVINCE</th>\n",
       "      <th>DISTRICT</th>\n",
       "      <th>SECTOR</th>\n",
       "      <th>CATEGORY</th>\n",
       "      <th>CATEGORY2</th>\n",
       "      <th>CO_IPRESS</th>\n",
       "      <th>...</th>\n",
       "      <th>DIAGNOSIS_ID</th>\n",
       "      <th>QTY_PEOPLE_SERVED</th>\n",
       "      <th>DISEASE</th>\n",
       "      <th>DISEASE_GROUP</th>\n",
       "      <th>COD_IPRESS</th>\n",
       "      <th>x</th>\n",
       "      <th>y</th>\n",
       "      <th>SECTOR_R</th>\n",
       "      <th>TYPE</th>\n",
       "      <th>IS_LIMA</th>\n",
       "    </tr>\n",
       "  </thead>\n",
       "  <tbody>\n",
       "    <tr>\n",
       "      <th>0</th>\n",
       "      <td>2018-01-01</td>\n",
       "      <td>2018</td>\n",
       "      <td>1</td>\n",
       "      <td>LIMA</td>\n",
       "      <td>LIMA</td>\n",
       "      <td>LIMA</td>\n",
       "      <td>PRIVATE</td>\n",
       "      <td>II-2</td>\n",
       "      <td>II</td>\n",
       "      <td>00015610</td>\n",
       "      <td>...</td>\n",
       "      <td>R10.2</td>\n",
       "      <td>10</td>\n",
       "      <td>PELVIC AND PERINEAL PAIN</td>\n",
       "      <td>Abnormal clinical and laboratory symptoms, sig...</td>\n",
       "      <td>00015610</td>\n",
       "      <td>-12.058367</td>\n",
       "      <td>-77.038362</td>\n",
       "      <td>PRIVADO</td>\n",
       "      <td>Outpatient Consultation</td>\n",
       "      <td>True</td>\n",
       "    </tr>\n",
       "    <tr>\n",
       "      <th>1</th>\n",
       "      <td>2018-01-01</td>\n",
       "      <td>2018</td>\n",
       "      <td>1</td>\n",
       "      <td>LIMA</td>\n",
       "      <td>LIMA</td>\n",
       "      <td>LIMA</td>\n",
       "      <td>PRIVATE</td>\n",
       "      <td>II-2</td>\n",
       "      <td>II</td>\n",
       "      <td>00015610</td>\n",
       "      <td>...</td>\n",
       "      <td>R10.4</td>\n",
       "      <td>11</td>\n",
       "      <td>UNIDENTIFIED</td>\n",
       "      <td>Abnormal clinical and laboratory symptoms, sig...</td>\n",
       "      <td>00015610</td>\n",
       "      <td>-12.058367</td>\n",
       "      <td>-77.038362</td>\n",
       "      <td>PRIVADO</td>\n",
       "      <td>Outpatient Consultation</td>\n",
       "      <td>True</td>\n",
       "    </tr>\n",
       "    <tr>\n",
       "      <th>2</th>\n",
       "      <td>2018-01-01</td>\n",
       "      <td>2018</td>\n",
       "      <td>1</td>\n",
       "      <td>LIMA</td>\n",
       "      <td>LIMA</td>\n",
       "      <td>LIMA</td>\n",
       "      <td>PRIVATE</td>\n",
       "      <td>II-2</td>\n",
       "      <td>II</td>\n",
       "      <td>00015610</td>\n",
       "      <td>...</td>\n",
       "      <td>R11.X</td>\n",
       "      <td>3</td>\n",
       "      <td>UNIDENTIFIED</td>\n",
       "      <td>Abnormal clinical and laboratory symptoms, sig...</td>\n",
       "      <td>00015610</td>\n",
       "      <td>-12.058367</td>\n",
       "      <td>-77.038362</td>\n",
       "      <td>PRIVADO</td>\n",
       "      <td>Outpatient Consultation</td>\n",
       "      <td>True</td>\n",
       "    </tr>\n",
       "    <tr>\n",
       "      <th>3</th>\n",
       "      <td>2018-01-01</td>\n",
       "      <td>2018</td>\n",
       "      <td>1</td>\n",
       "      <td>LIMA</td>\n",
       "      <td>LIMA</td>\n",
       "      <td>LIMA</td>\n",
       "      <td>PRIVATE</td>\n",
       "      <td>II-2</td>\n",
       "      <td>II</td>\n",
       "      <td>00015610</td>\n",
       "      <td>...</td>\n",
       "      <td>R16.0</td>\n",
       "      <td>1</td>\n",
       "      <td>HEPATOMEGALY, NOT ELSEWHERE CLASSIFIED</td>\n",
       "      <td>Abnormal clinical and laboratory symptoms, sig...</td>\n",
       "      <td>00015610</td>\n",
       "      <td>-12.058367</td>\n",
       "      <td>-77.038362</td>\n",
       "      <td>PRIVADO</td>\n",
       "      <td>Outpatient Consultation</td>\n",
       "      <td>True</td>\n",
       "    </tr>\n",
       "    <tr>\n",
       "      <th>4</th>\n",
       "      <td>2018-01-01</td>\n",
       "      <td>2018</td>\n",
       "      <td>1</td>\n",
       "      <td>LIMA</td>\n",
       "      <td>LIMA</td>\n",
       "      <td>LIMA</td>\n",
       "      <td>PRIVATE</td>\n",
       "      <td>II-2</td>\n",
       "      <td>II</td>\n",
       "      <td>00015610</td>\n",
       "      <td>...</td>\n",
       "      <td>R42.X</td>\n",
       "      <td>1</td>\n",
       "      <td>UNIDENTIFIED</td>\n",
       "      <td>Abnormal clinical and laboratory symptoms, sig...</td>\n",
       "      <td>00015610</td>\n",
       "      <td>-12.058367</td>\n",
       "      <td>-77.038362</td>\n",
       "      <td>PRIVADO</td>\n",
       "      <td>Outpatient Consultation</td>\n",
       "      <td>True</td>\n",
       "    </tr>\n",
       "  </tbody>\n",
       "</table>\n",
       "<p>5 rows × 23 columns</p>\n",
       "</div>"
      ],
      "text/plain": [
       "        DATE  YEAR  MONTH STATE PROVINCE DISTRICT   SECTOR CATEGORY CATEGORY2  \\\n",
       "0 2018-01-01  2018      1  LIMA     LIMA     LIMA  PRIVATE     II-2        II   \n",
       "1 2018-01-01  2018      1  LIMA     LIMA     LIMA  PRIVATE     II-2        II   \n",
       "2 2018-01-01  2018      1  LIMA     LIMA     LIMA  PRIVATE     II-2        II   \n",
       "3 2018-01-01  2018      1  LIMA     LIMA     LIMA  PRIVATE     II-2        II   \n",
       "4 2018-01-01  2018      1  LIMA     LIMA     LIMA  PRIVATE     II-2        II   \n",
       "\n",
       "  CO_IPRESS  ... DIAGNOSIS_ID QTY_PEOPLE_SERVED  \\\n",
       "0  00015610  ...        R10.2                10   \n",
       "1  00015610  ...        R10.4                11   \n",
       "2  00015610  ...        R11.X                 3   \n",
       "3  00015610  ...        R16.0                 1   \n",
       "4  00015610  ...        R42.X                 1   \n",
       "\n",
       "                                  DISEASE  \\\n",
       "0                PELVIC AND PERINEAL PAIN   \n",
       "1                            UNIDENTIFIED   \n",
       "2                            UNIDENTIFIED   \n",
       "3  HEPATOMEGALY, NOT ELSEWHERE CLASSIFIED   \n",
       "4                            UNIDENTIFIED   \n",
       "\n",
       "                                       DISEASE_GROUP  COD_IPRESS          x  \\\n",
       "0  Abnormal clinical and laboratory symptoms, sig...    00015610 -12.058367   \n",
       "1  Abnormal clinical and laboratory symptoms, sig...    00015610 -12.058367   \n",
       "2  Abnormal clinical and laboratory symptoms, sig...    00015610 -12.058367   \n",
       "3  Abnormal clinical and laboratory symptoms, sig...    00015610 -12.058367   \n",
       "4  Abnormal clinical and laboratory symptoms, sig...    00015610 -12.058367   \n",
       "\n",
       "           y SECTOR_R                     TYPE  IS_LIMA  \n",
       "0 -77.038362  PRIVADO  Outpatient Consultation     True  \n",
       "1 -77.038362  PRIVADO  Outpatient Consultation     True  \n",
       "2 -77.038362  PRIVADO  Outpatient Consultation     True  \n",
       "3 -77.038362  PRIVADO  Outpatient Consultation     True  \n",
       "4 -77.038362  PRIVADO  Outpatient Consultation     True  \n",
       "\n",
       "[5 rows x 23 columns]"
      ]
     },
     "execution_count": 7,
     "metadata": {},
     "output_type": "execute_result"
    }
   ],
   "source": [
    "all_data.head()"
   ]
  },
  {
   "cell_type": "markdown",
   "id": "3f694fa2",
   "metadata": {},
   "source": [
    "### Forecast"
   ]
  },
  {
   "cell_type": "code",
   "execution_count": 8,
   "id": "7b5364c7",
   "metadata": {},
   "outputs": [
    {
     "name": "stderr",
     "output_type": "stream",
     "text": [
      "C:\\Users\\johnk\\AppData\\Roaming\\Python\\Python38\\site-packages\\sktime\\utils\\validation\\series.py:21: FutureWarning: pandas.Int64Index is deprecated and will be removed from pandas in a future version. Use pandas.Index with the appropriate dtype instead.\n",
      "  VALID_INDEX_TYPES = (pd.Int64Index, pd.RangeIndex, pd.PeriodIndex, pd.DatetimeIndex)\n",
      "C:\\Users\\johnk\\AppData\\Roaming\\Python\\Python38\\site-packages\\sktime\\forecasting\\base\\_fh.py:18: FutureWarning: pandas.Int64Index is deprecated and will be removed from pandas in a future version. Use pandas.Index with the appropriate dtype instead.\n",
      "  RELATIVE_TYPES = (pd.Int64Index, pd.RangeIndex)\n",
      "C:\\Users\\johnk\\AppData\\Roaming\\Python\\Python38\\site-packages\\sktime\\forecasting\\base\\_fh.py:19: FutureWarning: pandas.Int64Index is deprecated and will be removed from pandas in a future version. Use pandas.Index with the appropriate dtype instead.\n",
      "  ABSOLUTE_TYPES = (pd.Int64Index, pd.RangeIndex, pd.DatetimeIndex, pd.PeriodIndex)\n",
      "C:\\Users\\johnk\\AppData\\Roaming\\Python\\Python38\\site-packages\\sktime\\datatypes\\_series\\_check.py:43: FutureWarning: pandas.Int64Index is deprecated and will be removed from pandas in a future version. Use pandas.Index with the appropriate dtype instead.\n",
      "  VALID_INDEX_TYPES = (pd.Int64Index, pd.RangeIndex, pd.PeriodIndex, pd.DatetimeIndex)\n",
      "C:\\Users\\johnk\\AppData\\Roaming\\Python\\Python38\\site-packages\\sktime\\datatypes\\_hierarchical\\_check.py:50: FutureWarning: pandas.Int64Index is deprecated and will be removed from pandas in a future version. Use pandas.Index with the appropriate dtype instead.\n",
      "  VALID_INDEX_TYPES = (pd.Int64Index, pd.RangeIndex, pd.PeriodIndex, pd.DatetimeIndex)\n",
      "C:\\Users\\johnk\\AppData\\Roaming\\Python\\Python38\\site-packages\\sktime\\datatypes\\_hierarchical\\_check.py:51: FutureWarning: pandas.Int64Index is deprecated and will be removed from pandas in a future version. Use pandas.Index with the appropriate dtype instead.\n",
      "  VALID_MULTIINDEX_TYPES = (pd.Int64Index, pd.RangeIndex)\n",
      "C:\\Users\\johnk\\AppData\\Roaming\\Python\\Python38\\site-packages\\sktime\\datatypes\\_panel\\_check.py:48: FutureWarning: pandas.Int64Index is deprecated and will be removed from pandas in a future version. Use pandas.Index with the appropriate dtype instead.\n",
      "  VALID_INDEX_TYPES = (pd.Int64Index, pd.RangeIndex, pd.PeriodIndex, pd.DatetimeIndex)\n",
      "C:\\Users\\johnk\\AppData\\Roaming\\Python\\Python38\\site-packages\\sktime\\datatypes\\_panel\\_check.py:49: FutureWarning: pandas.Int64Index is deprecated and will be removed from pandas in a future version. Use pandas.Index with the appropriate dtype instead.\n",
      "  VALID_MULTIINDEX_TYPES = (pd.Int64Index, pd.RangeIndex)\n"
     ]
    },
    {
     "ename": "ImportError",
     "evalue": "cannot import name '_check_param_grid' from 'sklearn.model_selection._search' (C:\\Users\\johnk\\AppData\\Roaming\\Python\\Python38\\site-packages\\sklearn\\model_selection\\_search.py)",
     "output_type": "error",
     "traceback": [
      "\u001b[1;31m---------------------------------------------------------------------------\u001b[0m",
      "\u001b[1;31mImportError\u001b[0m                               Traceback (most recent call last)",
      "Input \u001b[1;32mIn [8]\u001b[0m, in \u001b[0;36m<cell line: 4>\u001b[1;34m()\u001b[0m\n\u001b[0;32m      1\u001b[0m \u001b[38;5;66;03m# import plotly.io as pio \u001b[39;00m\n\u001b[0;32m      2\u001b[0m \u001b[38;5;66;03m# import plotly.graph_objects as go\u001b[39;00m\n\u001b[1;32m----> 4\u001b[0m \u001b[38;5;28;01mfrom\u001b[39;00m \u001b[38;5;21;01mpycaret\u001b[39;00m\u001b[38;5;21;01m.\u001b[39;00m\u001b[38;5;21;01mtime_series\u001b[39;00m \u001b[38;5;28;01mimport\u001b[39;00m \u001b[38;5;241m*\u001b[39m\n",
      "File \u001b[1;32m~\\AppData\\Roaming\\Python\\Python38\\site-packages\\pycaret\\time_series\\__init__.py:1\u001b[0m, in \u001b[0;36m<module>\u001b[1;34m\u001b[0m\n\u001b[1;32m----> 1\u001b[0m \u001b[38;5;28;01mfrom\u001b[39;00m \u001b[38;5;21;01mpycaret\u001b[39;00m\u001b[38;5;21;01m.\u001b[39;00m\u001b[38;5;21;01mtime_series\u001b[39;00m\u001b[38;5;21;01m.\u001b[39;00m\u001b[38;5;21;01mforecasting\u001b[39;00m\u001b[38;5;21;01m.\u001b[39;00m\u001b[38;5;21;01moop\u001b[39;00m \u001b[38;5;28;01mimport\u001b[39;00m TSForecastingExperiment\n\u001b[0;32m      2\u001b[0m \u001b[38;5;28;01mfrom\u001b[39;00m \u001b[38;5;21;01mpycaret\u001b[39;00m\u001b[38;5;21;01m.\u001b[39;00m\u001b[38;5;21;01mtime_series\u001b[39;00m\u001b[38;5;21;01m.\u001b[39;00m\u001b[38;5;21;01mforecasting\u001b[39;00m\u001b[38;5;21;01m.\u001b[39;00m\u001b[38;5;21;01mfunctional\u001b[39;00m \u001b[38;5;28;01mimport\u001b[39;00m (\n\u001b[0;32m      3\u001b[0m     setup,\n\u001b[0;32m      4\u001b[0m     create_model,\n\u001b[1;32m   (...)\u001b[0m\n\u001b[0;32m     25\u001b[0m     check_stats,\n\u001b[0;32m     26\u001b[0m )\n\u001b[0;32m     28\u001b[0m __all__ \u001b[38;5;241m=\u001b[39m [\n\u001b[0;32m     29\u001b[0m     \u001b[38;5;124m\"\u001b[39m\u001b[38;5;124mTSForecastingExperiment\u001b[39m\u001b[38;5;124m\"\u001b[39m,\n\u001b[0;32m     30\u001b[0m     \u001b[38;5;124m\"\u001b[39m\u001b[38;5;124msetup\u001b[39m\u001b[38;5;124m\"\u001b[39m,\n\u001b[1;32m   (...)\u001b[0m\n\u001b[0;32m     52\u001b[0m     \u001b[38;5;124m\"\u001b[39m\u001b[38;5;124mcheck_stats\u001b[39m\u001b[38;5;124m\"\u001b[39m,\n\u001b[0;32m     53\u001b[0m ]\n",
      "File \u001b[1;32m~\\AppData\\Roaming\\Python\\Python38\\site-packages\\pycaret\\time_series\\forecasting\\oop.py:16\u001b[0m, in \u001b[0;36m<module>\u001b[1;34m\u001b[0m\n\u001b[0;32m     14\u001b[0m \u001b[38;5;28;01mfrom\u001b[39;00m \u001b[38;5;21;01msklearn\u001b[39;00m\u001b[38;5;21;01m.\u001b[39;00m\u001b[38;5;21;01mbase\u001b[39;00m \u001b[38;5;28;01mimport\u001b[39;00m clone\n\u001b[0;32m     15\u001b[0m \u001b[38;5;28;01mfrom\u001b[39;00m \u001b[38;5;21;01msktime\u001b[39;00m\u001b[38;5;21;01m.\u001b[39;00m\u001b[38;5;21;01mforecasting\u001b[39;00m\u001b[38;5;21;01m.\u001b[39;00m\u001b[38;5;21;01mbase\u001b[39;00m \u001b[38;5;28;01mimport\u001b[39;00m ForecastingHorizon\n\u001b[1;32m---> 16\u001b[0m \u001b[38;5;28;01mfrom\u001b[39;00m \u001b[38;5;21;01msktime\u001b[39;00m\u001b[38;5;21;01m.\u001b[39;00m\u001b[38;5;21;01mforecasting\u001b[39;00m\u001b[38;5;21;01m.\u001b[39;00m\u001b[38;5;21;01mmodel_selection\u001b[39;00m \u001b[38;5;28;01mimport\u001b[39;00m (\n\u001b[0;32m     17\u001b[0m     temporal_train_test_split,\n\u001b[0;32m     18\u001b[0m     ExpandingWindowSplitter,\n\u001b[0;32m     19\u001b[0m     SlidingWindowSplitter,\n\u001b[0;32m     20\u001b[0m )\n\u001b[0;32m     22\u001b[0m \u001b[38;5;28;01mfrom\u001b[39;00m \u001b[38;5;21;01msktime\u001b[39;00m\u001b[38;5;21;01m.\u001b[39;00m\u001b[38;5;21;01mforecasting\u001b[39;00m\u001b[38;5;21;01m.\u001b[39;00m\u001b[38;5;21;01mbase\u001b[39;00m \u001b[38;5;28;01mimport\u001b[39;00m BaseForecaster\n\u001b[0;32m     24\u001b[0m \u001b[38;5;66;03m# from sktime.forecasting.compose import ForecastingPipeline\u001b[39;00m\n",
      "File \u001b[1;32m~\\AppData\\Roaming\\Python\\Python38\\site-packages\\sktime\\forecasting\\model_selection\\__init__.py:22\u001b[0m, in \u001b[0;36m<module>\u001b[1;34m\u001b[0m\n\u001b[0;32m     20\u001b[0m \u001b[38;5;28;01mfrom\u001b[39;00m \u001b[38;5;21;01msktime\u001b[39;00m\u001b[38;5;21;01m.\u001b[39;00m\u001b[38;5;21;01mforecasting\u001b[39;00m\u001b[38;5;21;01m.\u001b[39;00m\u001b[38;5;21;01mmodel_selection\u001b[39;00m\u001b[38;5;21;01m.\u001b[39;00m\u001b[38;5;21;01m_split\u001b[39;00m \u001b[38;5;28;01mimport\u001b[39;00m SlidingWindowSplitter\n\u001b[0;32m     21\u001b[0m \u001b[38;5;28;01mfrom\u001b[39;00m \u001b[38;5;21;01msktime\u001b[39;00m\u001b[38;5;21;01m.\u001b[39;00m\u001b[38;5;21;01mforecasting\u001b[39;00m\u001b[38;5;21;01m.\u001b[39;00m\u001b[38;5;21;01mmodel_selection\u001b[39;00m\u001b[38;5;21;01m.\u001b[39;00m\u001b[38;5;21;01m_split\u001b[39;00m \u001b[38;5;28;01mimport\u001b[39;00m temporal_train_test_split\n\u001b[1;32m---> 22\u001b[0m \u001b[38;5;28;01mfrom\u001b[39;00m \u001b[38;5;21;01msktime\u001b[39;00m\u001b[38;5;21;01m.\u001b[39;00m\u001b[38;5;21;01mforecasting\u001b[39;00m\u001b[38;5;21;01m.\u001b[39;00m\u001b[38;5;21;01mmodel_selection\u001b[39;00m\u001b[38;5;21;01m.\u001b[39;00m\u001b[38;5;21;01m_tune\u001b[39;00m \u001b[38;5;28;01mimport\u001b[39;00m ForecastingGridSearchCV\n\u001b[0;32m     23\u001b[0m \u001b[38;5;28;01mfrom\u001b[39;00m \u001b[38;5;21;01msktime\u001b[39;00m\u001b[38;5;21;01m.\u001b[39;00m\u001b[38;5;21;01mforecasting\u001b[39;00m\u001b[38;5;21;01m.\u001b[39;00m\u001b[38;5;21;01mmodel_selection\u001b[39;00m\u001b[38;5;21;01m.\u001b[39;00m\u001b[38;5;21;01m_tune\u001b[39;00m \u001b[38;5;28;01mimport\u001b[39;00m ForecastingRandomizedSearchCV\n",
      "File \u001b[1;32m~\\AppData\\Roaming\\Python\\Python38\\site-packages\\sktime\\forecasting\\model_selection\\_tune.py:13\u001b[0m, in \u001b[0;36m<module>\u001b[1;34m\u001b[0m\n\u001b[0;32m     11\u001b[0m \u001b[38;5;28;01mfrom\u001b[39;00m \u001b[38;5;21;01msklearn\u001b[39;00m\u001b[38;5;21;01m.\u001b[39;00m\u001b[38;5;21;01mbase\u001b[39;00m \u001b[38;5;28;01mimport\u001b[39;00m clone\n\u001b[0;32m     12\u001b[0m \u001b[38;5;28;01mfrom\u001b[39;00m \u001b[38;5;21;01msklearn\u001b[39;00m\u001b[38;5;21;01m.\u001b[39;00m\u001b[38;5;21;01mmodel_selection\u001b[39;00m \u001b[38;5;28;01mimport\u001b[39;00m ParameterGrid, ParameterSampler, check_cv\n\u001b[1;32m---> 13\u001b[0m \u001b[38;5;28;01mfrom\u001b[39;00m \u001b[38;5;21;01msklearn\u001b[39;00m\u001b[38;5;21;01m.\u001b[39;00m\u001b[38;5;21;01mmodel_selection\u001b[39;00m\u001b[38;5;21;01m.\u001b[39;00m\u001b[38;5;21;01m_search\u001b[39;00m \u001b[38;5;28;01mimport\u001b[39;00m _check_param_grid\n\u001b[0;32m     14\u001b[0m \u001b[38;5;28;01mfrom\u001b[39;00m \u001b[38;5;21;01msklearn\u001b[39;00m\u001b[38;5;21;01m.\u001b[39;00m\u001b[38;5;21;01mutils\u001b[39;00m\u001b[38;5;21;01m.\u001b[39;00m\u001b[38;5;21;01mmetaestimators\u001b[39;00m \u001b[38;5;28;01mimport\u001b[39;00m if_delegate_has_method\n\u001b[0;32m     16\u001b[0m \u001b[38;5;28;01mfrom\u001b[39;00m \u001b[38;5;21;01msktime\u001b[39;00m\u001b[38;5;21;01m.\u001b[39;00m\u001b[38;5;21;01mexceptions\u001b[39;00m \u001b[38;5;28;01mimport\u001b[39;00m NotFittedError\n",
      "\u001b[1;31mImportError\u001b[0m: cannot import name '_check_param_grid' from 'sklearn.model_selection._search' (C:\\Users\\johnk\\AppData\\Roaming\\Python\\Python38\\site-packages\\sklearn\\model_selection\\_search.py)"
     ]
    }
   ],
   "source": [
    "# import plotly.io as pio \n",
    "# import plotly.graph_objects as go\n",
    "\n",
    "from pycaret.time_series import *"
   ]
  },
  {
   "cell_type": "code",
   "execution_count": null,
   "id": "30fbbfe8",
   "metadata": {},
   "outputs": [],
   "source": [
    "#!pip install pycaret-ts-alpha\n",
    "#!pip install pycaret[full]"
   ]
  },
  {
   "cell_type": "code",
   "execution_count": null,
   "id": "101e117a",
   "metadata": {},
   "outputs": [],
   "source": [
    "import pycaret as pyct"
   ]
  },
  {
   "cell_type": "code",
   "execution_count": null,
   "id": "93e3fee4",
   "metadata": {},
   "outputs": [],
   "source": []
  },
  {
   "cell_type": "code",
   "execution_count": null,
   "id": "9669df7f",
   "metadata": {},
   "outputs": [],
   "source": [
    "CATEGORIA_STUDIO = 'I'"
   ]
  },
  {
   "cell_type": "code",
   "execution_count": null,
   "id": "93274a2e",
   "metadata": {},
   "outputs": [],
   "source": [
    "data_temp = all_data[all_data['CATEGORY2']==CATEGORIA_STUDIO]\n",
    "data_temp =  data_temp.groupby(['DATE', 'SECTOR']).agg({ 'QTY_PEOPLE_SERVED': \"sum\"})\n",
    "data_temp = data_temp.reset_index()\n",
    "\n",
    "data_temp['QTY_PEOPLE_SERVED'] =data_temp['QTY_PEOPLE_SERVED'].mask((data_temp['DATE'].dt.year==2018) & (data_temp['DATE'].dt.month==4),data_temp['QTY_PEOPLE_SERVED'].median())\n",
    "\n",
    "data_temp = data_temp.pivot_table(index=['DATE'], \n",
    "                                  columns=['SECTOR'], \n",
    "                                  values='QTY_PEOPLE_SERVED').fillna(0)\n",
    "data_temp = data_temp.reset_index()"
   ]
  },
  {
   "cell_type": "code",
   "execution_count": null,
   "id": "694a59b7",
   "metadata": {},
   "outputs": [],
   "source": [
    "private_max = data_temp['PRIVATE'].mean() + 1*data_temp['PRIVATE'].std()\n",
    "private_min = data_temp['PRIVATE'].mean() - 1*data_temp['PRIVATE'].std()\n",
    "\n",
    "data_temp['PRIVATE_PURE'] = data_temp['PRIVATE'].apply(lambda x :\n",
    "                                                       0 if (private_min>x or\n",
    "                                                             private_max<x)\n",
    "                                                       else x)\n",
    "\n",
    "public_max = data_temp['PUBLIC'].mean() + 1*data_temp['PUBLIC'].std()\n",
    "public_min = data_temp['PUBLIC'].mean() - 1*data_temp['PUBLIC'].std()\n",
    "\n",
    "data_temp['PUBLIC_PURE'] = data_temp['PUBLIC'].apply(lambda x :\n",
    "                                                       0 if (public_min>x or\n",
    "                                                             public_max<x)\n",
    "                                                       else x)\n",
    "\n"
   ]
  },
  {
   "cell_type": "raw",
   "id": "9119096a",
   "metadata": {},
   "source": [
    "plt.figure(figsize=(7,10))\n",
    "\n",
    "plt.subplot(2,1,1)\n",
    "sns.distplot(data_temp['PRIVATE_PURE'])\n",
    "plt.subplot(2,1,2)\n",
    "sns.distplot(data_temp['PUBLIC_PURE'])"
   ]
  },
  {
   "cell_type": "code",
   "execution_count": null,
   "id": "81b2af39",
   "metadata": {},
   "outputs": [],
   "source": [
    "x = data_temp['PRIVATE'].values\n",
    "y = data_temp['DATE'].values"
   ]
  },
  {
   "cell_type": "code",
   "execution_count": null,
   "id": "10f1bcd1",
   "metadata": {},
   "outputs": [],
   "source": [
    "df_series_pre = pd.Series(data = x, index = y)\n",
    "df_series_pre.plot()"
   ]
  },
  {
   "cell_type": "code",
   "execution_count": null,
   "id": "d4068f0b",
   "metadata": {},
   "outputs": [],
   "source": [
    "post_pandemic_df = data_temp[(data_temp['DATE'] > '2020-03')]\n",
    "pre_pandemic_df = data_temp[~(data_temp['DATE'] > '2020-03')]\n",
    "\n",
    "post_pandemic_df"
   ]
  },
  {
   "cell_type": "markdown",
   "id": "d8cd913a",
   "metadata": {},
   "source": [
    "#### PRIVATE"
   ]
  },
  {
   "cell_type": "code",
   "execution_count": null,
   "id": "66ac9d9f",
   "metadata": {},
   "outputs": [],
   "source": [
    "index = pre_pandemic_df['DATE'].values\n",
    "data_to = pre_pandemic_df['PRIVATE'].values\n",
    "df_series_pre = pd.Series(data = data_to, index = index)\n",
    "df_series_pre.plot()"
   ]
  },
  {
   "cell_type": "code",
   "execution_count": null,
   "id": "f7babe18",
   "metadata": {},
   "outputs": [],
   "source": [
    "index = post_pandemic_df['DATE'].values\n",
    "data_to = post_pandemic_df['PRIVATE'].values\n",
    "df_series = pd.Series(data = data_to, index = index)\n",
    "df_series.plot()"
   ]
  },
  {
   "cell_type": "code",
   "execution_count": null,
   "id": "f059a046",
   "metadata": {},
   "outputs": [],
   "source": [
    "\n",
    "setup(data=df_series, fh = 1 , fold = 7)\n",
    "\n",
    "plot_model(plot = 'diagnostics', \n",
    "           fig_kwargs={'renderer': 'png'})"
   ]
  },
  {
   "cell_type": "code",
   "execution_count": null,
   "id": "260a97c5",
   "metadata": {},
   "outputs": [],
   "source": [
    "plot_model(plot = 'decomp_stl', \n",
    "           fig_kwargs={'renderer': 'png'})"
   ]
  },
  {
   "cell_type": "code",
   "execution_count": null,
   "id": "f1cdfb00-7e30-4ae0-90ca-b68bed8abff7",
   "metadata": {},
   "outputs": [],
   "source": [
    "models()"
   ]
  },
  {
   "cell_type": "code",
   "execution_count": null,
   "id": "e427e0c2",
   "metadata": {},
   "outputs": [],
   "source": [
    "best_baseline_models = compare_models( sort='MAE', errors = 'raise', exclude = [], \n",
    "                                      verbose =False) # Media absolute error\n",
    "best_baseline_models"
   ]
  },
  {
   "cell_type": "code",
   "execution_count": null,
   "id": "ad6afcb8",
   "metadata": {},
   "outputs": [],
   "source": [
    "#best_baseline_models = 'auto_arima'\n",
    "the_model = create_model(best_baseline_models)\n",
    "print(the_model)\n",
    "\n",
    "tuned_model= tune_model(the_model)\n",
    "print(tuned_model)"
   ]
  },
  {
   "cell_type": "code",
   "execution_count": null,
   "id": "13077257",
   "metadata": {},
   "outputs": [],
   "source": [
    "final_best = finalize_model(the_model)\n",
    "predict_model(final_best, fh = 1)\n",
    "\n",
    "abc = plot_model(the_model, \n",
    "           plot = 'forecast', \n",
    "           data_kwargs = {'fh' : 10}, \n",
    "           fig_kwargs={'renderer': 'png'})"
   ]
  },
  {
   "cell_type": "code",
   "execution_count": null,
   "id": "919dd2d8",
   "metadata": {
    "scrolled": true
   },
   "outputs": [],
   "source": [
    "np.mean(df_series_pre)"
   ]
  },
  {
   "cell_type": "code",
   "execution_count": null,
   "id": "6b131d33",
   "metadata": {},
   "outputs": [],
   "source": [
    "setup(data=df_series_pre)\n",
    "best_baseline_models = compare_models(sort='MAE', errors = 'raise', verbose =False) # Media absolute error\n",
    "print(best_baseline_models)"
   ]
  },
  {
   "cell_type": "code",
   "execution_count": null,
   "id": "38725cb3",
   "metadata": {},
   "outputs": [],
   "source": [
    "the_model = create_model(best_baseline_models)\n",
    "print(the_model)\n",
    "\n",
    "tuned_model= tune_model(the_model)\n",
    "print(tuned_model)"
   ]
  },
  {
   "cell_type": "code",
   "execution_count": null,
   "id": "60d9861c",
   "metadata": {},
   "outputs": [],
   "source": [
    "final_best = finalize_model(the_model)\n",
    "predict_model(final_best, fh = 5)\n",
    "\n",
    "plot_model(the_model, \n",
    "           plot = 'forecast', \n",
    "           data_kwargs = {'fh' : 5}, \n",
    "           fig_kwargs={'renderer': 'png'})"
   ]
  },
  {
   "cell_type": "markdown",
   "id": "a3ae0e8a",
   "metadata": {},
   "source": [
    "#### PUBLIC"
   ]
  },
  {
   "cell_type": "code",
   "execution_count": null,
   "id": "f563d1d0",
   "metadata": {},
   "outputs": [],
   "source": [
    "index = post_pandemic_df['DATE'].values\n",
    "data_to = post_pandemic_df['PUBLIC'].values\n",
    "df_series = pd.Series(data = data_to, index = index)\n",
    "\n",
    "index = pre_pandemic_df['DATE'].values\n",
    "data_to = pre_pandemic_df['PUBLIC'].values\n",
    "df_series_pre = pd.Series(data = data_to, index = index)\n",
    "\n",
    "df_series.plot()"
   ]
  },
  {
   "cell_type": "code",
   "execution_count": null,
   "id": "b2b07f75",
   "metadata": {},
   "outputs": [],
   "source": [
    "print(\"Media: \"+str(np.mean(df_series_pre)))"
   ]
  },
  {
   "cell_type": "code",
   "execution_count": null,
   "id": "ae81d293",
   "metadata": {},
   "outputs": [],
   "source": []
  },
  {
   "cell_type": "code",
   "execution_count": null,
   "id": "3bc51ef0",
   "metadata": {},
   "outputs": [],
   "source": []
  },
  {
   "cell_type": "code",
   "execution_count": null,
   "id": "2d5811b9",
   "metadata": {},
   "outputs": [],
   "source": []
  },
  {
   "cell_type": "code",
   "execution_count": null,
   "id": "c54ecedf",
   "metadata": {},
   "outputs": [],
   "source": []
  },
  {
   "cell_type": "code",
   "execution_count": null,
   "id": "de8c262f",
   "metadata": {},
   "outputs": [],
   "source": []
  },
  {
   "cell_type": "code",
   "execution_count": null,
   "id": "76d9e44a",
   "metadata": {},
   "outputs": [],
   "source": []
  },
  {
   "cell_type": "code",
   "execution_count": null,
   "id": "daf8006e",
   "metadata": {},
   "outputs": [],
   "source": []
  },
  {
   "cell_type": "code",
   "execution_count": null,
   "id": "e81ac564",
   "metadata": {},
   "outputs": [],
   "source": []
  },
  {
   "cell_type": "code",
   "execution_count": null,
   "id": "6b1a7b90",
   "metadata": {},
   "outputs": [],
   "source": []
  },
  {
   "cell_type": "code",
   "execution_count": null,
   "id": "bf91e19a",
   "metadata": {},
   "outputs": [],
   "source": []
  },
  {
   "cell_type": "code",
   "execution_count": null,
   "id": "a12c91d4",
   "metadata": {},
   "outputs": [],
   "source": []
  },
  {
   "cell_type": "code",
   "execution_count": null,
   "id": "46de6d1a",
   "metadata": {},
   "outputs": [],
   "source": []
  },
  {
   "cell_type": "code",
   "execution_count": null,
   "id": "0b964917",
   "metadata": {},
   "outputs": [],
   "source": []
  },
  {
   "cell_type": "code",
   "execution_count": null,
   "id": "0629347a",
   "metadata": {},
   "outputs": [],
   "source": []
  },
  {
   "cell_type": "code",
   "execution_count": null,
   "id": "ac8c3535",
   "metadata": {},
   "outputs": [],
   "source": []
  },
  {
   "cell_type": "code",
   "execution_count": null,
   "id": "328a9cde",
   "metadata": {},
   "outputs": [],
   "source": []
  },
  {
   "cell_type": "code",
   "execution_count": null,
   "id": "2bb9303f",
   "metadata": {},
   "outputs": [],
   "source": []
  },
  {
   "cell_type": "code",
   "execution_count": null,
   "id": "9737668e",
   "metadata": {},
   "outputs": [],
   "source": []
  },
  {
   "cell_type": "code",
   "execution_count": null,
   "id": "1a493837",
   "metadata": {},
   "outputs": [],
   "source": []
  },
  {
   "cell_type": "code",
   "execution_count": null,
   "id": "f8380153",
   "metadata": {},
   "outputs": [],
   "source": []
  },
  {
   "cell_type": "code",
   "execution_count": null,
   "id": "cc443367",
   "metadata": {},
   "outputs": [],
   "source": []
  },
  {
   "cell_type": "code",
   "execution_count": null,
   "id": "ffea79b4",
   "metadata": {},
   "outputs": [],
   "source": []
  },
  {
   "cell_type": "code",
   "execution_count": null,
   "id": "335f2069",
   "metadata": {},
   "outputs": [],
   "source": []
  },
  {
   "cell_type": "code",
   "execution_count": null,
   "id": "0b2c64fe",
   "metadata": {},
   "outputs": [],
   "source": []
  },
  {
   "cell_type": "code",
   "execution_count": null,
   "id": "ed5bdd08",
   "metadata": {},
   "outputs": [],
   "source": []
  },
  {
   "cell_type": "code",
   "execution_count": null,
   "id": "ec71e481",
   "metadata": {},
   "outputs": [],
   "source": []
  },
  {
   "cell_type": "code",
   "execution_count": null,
   "id": "1b0fb948",
   "metadata": {},
   "outputs": [],
   "source": []
  },
  {
   "cell_type": "code",
   "execution_count": null,
   "id": "70d8ca1e",
   "metadata": {},
   "outputs": [],
   "source": []
  },
  {
   "cell_type": "code",
   "execution_count": null,
   "id": "bafa5ce5",
   "metadata": {},
   "outputs": [],
   "source": []
  },
  {
   "cell_type": "code",
   "execution_count": null,
   "id": "7c861401",
   "metadata": {},
   "outputs": [],
   "source": []
  },
  {
   "cell_type": "code",
   "execution_count": null,
   "id": "67a63196",
   "metadata": {},
   "outputs": [],
   "source": []
  },
  {
   "cell_type": "code",
   "execution_count": null,
   "id": "008d3a59",
   "metadata": {},
   "outputs": [],
   "source": []
  },
  {
   "cell_type": "code",
   "execution_count": null,
   "id": "9fa4d195",
   "metadata": {},
   "outputs": [],
   "source": []
  },
  {
   "cell_type": "code",
   "execution_count": null,
   "id": "552981fa",
   "metadata": {},
   "outputs": [],
   "source": []
  },
  {
   "cell_type": "code",
   "execution_count": null,
   "id": "e2bf4ba4",
   "metadata": {},
   "outputs": [],
   "source": []
  },
  {
   "cell_type": "code",
   "execution_count": null,
   "id": "4915183e",
   "metadata": {},
   "outputs": [],
   "source": []
  },
  {
   "cell_type": "code",
   "execution_count": null,
   "id": "a5f7f94d",
   "metadata": {},
   "outputs": [],
   "source": []
  },
  {
   "cell_type": "code",
   "execution_count": null,
   "id": "df4c549a",
   "metadata": {},
   "outputs": [],
   "source": []
  },
  {
   "cell_type": "code",
   "execution_count": null,
   "id": "6c1e3c70",
   "metadata": {},
   "outputs": [],
   "source": []
  },
  {
   "cell_type": "code",
   "execution_count": null,
   "id": "ba1e665b",
   "metadata": {},
   "outputs": [],
   "source": []
  },
  {
   "cell_type": "code",
   "execution_count": null,
   "id": "e33d3545",
   "metadata": {},
   "outputs": [],
   "source": []
  },
  {
   "cell_type": "code",
   "execution_count": null,
   "id": "026b324e",
   "metadata": {},
   "outputs": [],
   "source": []
  },
  {
   "cell_type": "code",
   "execution_count": null,
   "id": "20b69d24",
   "metadata": {},
   "outputs": [],
   "source": []
  },
  {
   "cell_type": "code",
   "execution_count": null,
   "id": "0a2d5665",
   "metadata": {},
   "outputs": [],
   "source": []
  },
  {
   "cell_type": "code",
   "execution_count": null,
   "id": "6e04dc8c",
   "metadata": {},
   "outputs": [],
   "source": []
  },
  {
   "cell_type": "code",
   "execution_count": null,
   "id": "6d85afcc",
   "metadata": {},
   "outputs": [],
   "source": []
  },
  {
   "cell_type": "code",
   "execution_count": null,
   "id": "9d9b691a",
   "metadata": {},
   "outputs": [],
   "source": []
  },
  {
   "cell_type": "code",
   "execution_count": null,
   "id": "1af54979",
   "metadata": {},
   "outputs": [],
   "source": []
  },
  {
   "cell_type": "code",
   "execution_count": null,
   "id": "7a50290c",
   "metadata": {},
   "outputs": [],
   "source": []
  },
  {
   "cell_type": "code",
   "execution_count": null,
   "id": "f1cf8e14",
   "metadata": {},
   "outputs": [],
   "source": []
  },
  {
   "cell_type": "code",
   "execution_count": null,
   "id": "c12b3e58",
   "metadata": {},
   "outputs": [],
   "source": []
  },
  {
   "cell_type": "code",
   "execution_count": null,
   "id": "c510271a",
   "metadata": {},
   "outputs": [],
   "source": []
  },
  {
   "cell_type": "code",
   "execution_count": null,
   "id": "938a8b91",
   "metadata": {},
   "outputs": [],
   "source": []
  },
  {
   "cell_type": "code",
   "execution_count": null,
   "id": "1eb383e6",
   "metadata": {},
   "outputs": [],
   "source": []
  },
  {
   "cell_type": "code",
   "execution_count": null,
   "id": "82f25692",
   "metadata": {},
   "outputs": [],
   "source": []
  },
  {
   "cell_type": "code",
   "execution_count": null,
   "id": "50765b76",
   "metadata": {},
   "outputs": [],
   "source": []
  },
  {
   "cell_type": "code",
   "execution_count": null,
   "id": "35e60793",
   "metadata": {},
   "outputs": [],
   "source": []
  },
  {
   "cell_type": "code",
   "execution_count": null,
   "id": "63ec2fec",
   "metadata": {},
   "outputs": [],
   "source": []
  },
  {
   "cell_type": "code",
   "execution_count": null,
   "id": "ccc17e88",
   "metadata": {},
   "outputs": [],
   "source": []
  },
  {
   "cell_type": "code",
   "execution_count": null,
   "id": "17012e1a",
   "metadata": {},
   "outputs": [],
   "source": []
  },
  {
   "cell_type": "code",
   "execution_count": null,
   "id": "8444b594",
   "metadata": {},
   "outputs": [],
   "source": []
  },
  {
   "cell_type": "code",
   "execution_count": null,
   "id": "cb6086be",
   "metadata": {},
   "outputs": [],
   "source": []
  },
  {
   "cell_type": "code",
   "execution_count": null,
   "id": "b075f50f",
   "metadata": {},
   "outputs": [],
   "source": []
  },
  {
   "cell_type": "code",
   "execution_count": null,
   "id": "4d3dfde8",
   "metadata": {},
   "outputs": [],
   "source": []
  },
  {
   "cell_type": "code",
   "execution_count": null,
   "id": "a7edcc7f",
   "metadata": {},
   "outputs": [],
   "source": []
  },
  {
   "cell_type": "code",
   "execution_count": null,
   "id": "1529bb85",
   "metadata": {},
   "outputs": [],
   "source": []
  },
  {
   "cell_type": "code",
   "execution_count": null,
   "id": "782c956e",
   "metadata": {},
   "outputs": [],
   "source": []
  },
  {
   "cell_type": "code",
   "execution_count": null,
   "id": "0b7a754c",
   "metadata": {},
   "outputs": [],
   "source": []
  },
  {
   "cell_type": "code",
   "execution_count": null,
   "id": "2a73b3ef",
   "metadata": {},
   "outputs": [],
   "source": []
  },
  {
   "cell_type": "code",
   "execution_count": null,
   "id": "de047cba",
   "metadata": {},
   "outputs": [],
   "source": []
  },
  {
   "cell_type": "code",
   "execution_count": null,
   "id": "e3ed50b0",
   "metadata": {},
   "outputs": [],
   "source": []
  },
  {
   "cell_type": "code",
   "execution_count": null,
   "id": "950dad45",
   "metadata": {},
   "outputs": [],
   "source": []
  },
  {
   "cell_type": "code",
   "execution_count": null,
   "id": "d99c7691",
   "metadata": {},
   "outputs": [],
   "source": []
  },
  {
   "cell_type": "code",
   "execution_count": null,
   "id": "f2ce3175",
   "metadata": {},
   "outputs": [],
   "source": []
  },
  {
   "cell_type": "code",
   "execution_count": null,
   "id": "f4bc0230",
   "metadata": {},
   "outputs": [],
   "source": []
  },
  {
   "cell_type": "code",
   "execution_count": null,
   "id": "e3bdf8ae",
   "metadata": {},
   "outputs": [],
   "source": []
  },
  {
   "cell_type": "code",
   "execution_count": null,
   "id": "79f5e40a",
   "metadata": {},
   "outputs": [],
   "source": []
  },
  {
   "cell_type": "code",
   "execution_count": null,
   "id": "c590364b",
   "metadata": {},
   "outputs": [],
   "source": []
  },
  {
   "cell_type": "code",
   "execution_count": null,
   "id": "48ef00ee",
   "metadata": {},
   "outputs": [],
   "source": []
  },
  {
   "cell_type": "code",
   "execution_count": null,
   "id": "b000c556",
   "metadata": {},
   "outputs": [],
   "source": []
  },
  {
   "cell_type": "code",
   "execution_count": null,
   "id": "4f9706b6",
   "metadata": {},
   "outputs": [],
   "source": []
  },
  {
   "cell_type": "code",
   "execution_count": null,
   "id": "208eb02c",
   "metadata": {},
   "outputs": [],
   "source": []
  },
  {
   "cell_type": "code",
   "execution_count": null,
   "id": "937c0e43",
   "metadata": {},
   "outputs": [],
   "source": []
  },
  {
   "cell_type": "code",
   "execution_count": null,
   "id": "4126efa9",
   "metadata": {},
   "outputs": [],
   "source": []
  },
  {
   "cell_type": "code",
   "execution_count": null,
   "id": "55fd5d54",
   "metadata": {
    "scrolled": true
   },
   "outputs": [],
   "source": [
    "from pycaret.time_series import *\n",
    "setup(data=df_series)\n",
    "\n",
    "plot_model(plot = 'diagnostics', \n",
    "           fig_kwargs={'renderer': 'png'})"
   ]
  },
  {
   "cell_type": "code",
   "execution_count": null,
   "id": "531c2f1d",
   "metadata": {},
   "outputs": [],
   "source": [
    "plot_model(plot = 'diagnostics')"
   ]
  },
  {
   "cell_type": "code",
   "execution_count": null,
   "id": "cf66bc3b",
   "metadata": {},
   "outputs": [],
   "source": [
    "best_baseline_models = compare_models(sort='MAE', errors = 'raise', verbose =False) # Media absolute error\n",
    "best_baseline_models"
   ]
  },
  {
   "cell_type": "code",
   "execution_count": null,
   "id": "99e6f842",
   "metadata": {
    "scrolled": true
   },
   "outputs": [],
   "source": [
    "#best_baseline_models = 'auto_arima'\n",
    "the_model = create_model(best_baseline_models)\n",
    "print(the_model)\n",
    "\n",
    "tuned_model= tune_model(the_model)\n",
    "print(tuned_model)"
   ]
  },
  {
   "cell_type": "code",
   "execution_count": null,
   "id": "135f52c8",
   "metadata": {},
   "outputs": [],
   "source": [
    "final_best = finalize_model(best_baseline_models)\n",
    "final_best = finalize_model(the_model)\n",
    "predict_model(final_best, fh = 5)\n",
    "\n",
    "plot_model(the_model, \n",
    "           plot = 'forecast', \n",
    "           data_kwargs = {'fh' : 5}, \n",
    "           fig_kwargs={'renderer': 'png'})"
   ]
  },
  {
   "cell_type": "code",
   "execution_count": null,
   "id": "ce2cf190",
   "metadata": {},
   "outputs": [],
   "source": [
    "x =  list(data_to) + list(predict_model(final_best, fh = 5)['y_pred'])\n",
    "x"
   ]
  },
  {
   "cell_type": "code",
   "execution_count": null,
   "id": "dd6832a3",
   "metadata": {},
   "outputs": [],
   "source": [
    "post_pandemic_df.head(50)"
   ]
  },
  {
   "cell_type": "code",
   "execution_count": null,
   "id": "00f8648d",
   "metadata": {},
   "outputs": [],
   "source": [
    "import pandas as pd\n",
    "from pycaret.datasets import get_data\n",
    "data = get_data('pycaret_downloads')\n",
    "data['Date'] = pd.to_datetime(data['Date'])\n",
    "data = data.groupby('Date').sum()\n",
    "data = data.asfreq('D')\n",
    "data.head()"
   ]
  },
  {
   "cell_type": "code",
   "execution_count": null,
   "id": "a2687a24",
   "metadata": {},
   "outputs": [],
   "source": [
    "# plot the data\n",
    "data.plot()"
   ]
  },
  {
   "cell_type": "code",
   "execution_count": null,
   "id": "a906a291",
   "metadata": {},
   "outputs": [],
   "source": [
    "# with functional API\n",
    "from pycaret.time_series import *\n",
    "setup(data, fh = 7, fold = 3, session_id = 123)"
   ]
  },
  {
   "cell_type": "code",
   "execution_count": null,
   "id": "8ee2682e",
   "metadata": {},
   "outputs": [],
   "source": [
    "check_stats()"
   ]
  },
  {
   "cell_type": "code",
   "execution_count": null,
   "id": "757a440d",
   "metadata": {},
   "outputs": [],
   "source": [
    "# functional API\n",
    "plot_model(plot = 'ts', \n",
    "           fig_kwargs={'renderer': 'png'})"
   ]
  },
  {
   "cell_type": "code",
   "execution_count": null,
   "id": "49fe6462",
   "metadata": {},
   "outputs": [],
   "source": [
    "# cross-validation plot\n",
    "plot_model(plot = 'cv', \n",
    "           fig_kwargs={'renderer': 'png'})"
   ]
  },
  {
   "cell_type": "code",
   "execution_count": null,
   "id": "4742b63b",
   "metadata": {},
   "outputs": [],
   "source": [
    "# ACF plot\n",
    "plot_model(plot = 'acf', \n",
    "           fig_kwargs={'renderer': 'png'})"
   ]
  },
  {
   "cell_type": "code",
   "execution_count": null,
   "id": "b999fa4e",
   "metadata": {},
   "outputs": [],
   "source": [
    "# Decomposition plot\n",
    "plot_model(plot = 'decomp_stl', \n",
    "           fig_kwargs={'renderer': 'png'})"
   ]
  },
  {
   "cell_type": "code",
   "execution_count": null,
   "id": "83bad1c0",
   "metadata": {},
   "outputs": [],
   "source": [
    "# functional API\n",
    "best = compare_models()"
   ]
  },
  {
   "cell_type": "code",
   "execution_count": null,
   "id": "4eb25683",
   "metadata": {},
   "outputs": [],
   "source": [
    "best"
   ]
  },
  {
   "cell_type": "code",
   "execution_count": null,
   "id": "456a972b",
   "metadata": {},
   "outputs": [],
   "source": [
    "# create fbprophet model\n",
    "best_model = create_model(best)\n",
    "print(best_model)"
   ]
  },
  {
   "cell_type": "code",
   "execution_count": null,
   "id": "a662dbd3",
   "metadata": {
    "scrolled": true
   },
   "outputs": [],
   "source": [
    "plot_model(best, plot = 'forecast', \n",
    "           fig_kwargs={'renderer': 'png'})"
   ]
  },
  {
   "cell_type": "code",
   "execution_count": null,
   "id": "e6bf7fcd",
   "metadata": {},
   "outputs": [],
   "source": []
  }
 ],
 "metadata": {
  "kernelspec": {
   "display_name": "pycaret_full",
   "language": "python",
   "name": "pycaret_reg"
  },
  "language_info": {
   "codemirror_mode": {
    "name": "ipython",
    "version": 3
   },
   "file_extension": ".py",
   "mimetype": "text/x-python",
   "name": "python",
   "nbconvert_exporter": "python",
   "pygments_lexer": "ipython3",
   "version": "3.8.13"
  }
 },
 "nbformat": 4,
 "nbformat_minor": 5
}
