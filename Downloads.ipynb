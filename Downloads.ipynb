{
 "cells": [
  {
   "cell_type": "code",
   "execution_count": 1,
   "id": "0a3e5d66",
   "metadata": {},
   "outputs": [],
   "source": [
    "import requests\n",
    "from bs4 import BeautifulSoup\n",
    "import os  \n",
    "import urllib\n",
    "import glob\n",
    "from tqdm import tqdm, trange"
   ]
  },
  {
   "cell_type": "code",
   "execution_count": 2,
   "id": "f4de7cf3",
   "metadata": {},
   "outputs": [],
   "source": [
    "def function_list_elements(URL, details):\n",
    "    page = requests.get(URL)\n",
    "    elements = BeautifulSoup(page.content, \"html.parser\")\n",
    "    elements = elements.find(id=\"data-and-resources\")\n",
    "    elements = elements.find(\"ul\", class_=\"resource-list\")\n",
    "\n",
    "    elements = elements.findAll(\"li\")\n",
    "    print('Elementos a prosesar:',len(elements))\n",
    "\n",
    "    data = []\n",
    "    metadata = []\n",
    "    for element in elements:\n",
    "        # Title\n",
    "        name_element = element.find(\"a\", class_=\"heading\")['title']\n",
    "        name_element = name_element.replace(\"- \", \"\").replace(\" \", \"_\")\n",
    "        # Link\n",
    "        link_element = element.find(\"span\", class_=\"links\")\n",
    "        link_element = link_element.find_all(\"a\", class_=\"btn btn-primary\")[1]\n",
    "        link_element = link_element['href']\n",
    "        # En lista\n",
    "        if name_element == 'Diccionario_de_datos':\n",
    "            name_element = name_element+\"_\"+details+\".xlsx\"\n",
    "            metadata = [name_element,link_element]\n",
    "        else:\n",
    "            name_element = name_element+\".csv\"\n",
    "            data.append([name_element,link_element])\n",
    "    return metadata, data\n",
    " "
   ]
  },
  {
   "cell_type": "markdown",
   "id": "19cca6d1",
   "metadata": {},
   "source": [
    "### Downloading data for Morbidity B2"
   ]
  },
  {
   "cell_type": "code",
   "execution_count": 3,
   "id": "f3dc45a7",
   "metadata": {},
   "outputs": [
    {
     "name": "stdout",
     "output_type": "stream",
     "text": [
      "Elementos a prosesar: 54\n"
     ]
    },
    {
     "name": "stderr",
     "output_type": "stream",
     "text": [
      "100%|██████████| 53/53 [41:56<00:00, 47.48s/it]\n"
     ]
    }
   ],
   "source": [
    "URL_morbidity_b2 = 'http://datos.susalud.gob.pe/dataset/consulta-b2-morbilidad-en-consulta-ambulatoria'\n",
    "\n",
    "metadata, data = function_list_elements(URL_morbidity_b2, 'morbidity_b2')\n",
    "\n",
    "# Metadata\n",
    "path = os.path.abspath('web_resources/morbidity').replace(\"\\\\\", \"/\")+\"/\"\n",
    "file = path+metadata[0]\n",
    "url = metadata[1]\n",
    "urllib.request.urlretrieve(url, file)\n",
    "\n",
    "\n",
    "# Data\n",
    "path = os.path.abspath('web_resources/morbidity/morbilidad_b2').replace(\"\\\\\", \"/\")+\"/\"\n",
    "\n",
    "for f in glob.glob(path+'*'):\n",
    "    os.remove(f)\n",
    "    \n",
    "for d in tqdm(data):\n",
    "    file = path+d[0]\n",
    "    url = d[1]\n",
    "    urllib.request.urlretrieve(url, file)"
   ]
  },
  {
   "cell_type": "markdown",
   "id": "ecc4c09b",
   "metadata": {},
   "source": [
    "### Downloading data for Morbidity C2"
   ]
  },
  {
   "cell_type": "code",
   "execution_count": 4,
   "id": "f1734261",
   "metadata": {},
   "outputs": [
    {
     "name": "stdout",
     "output_type": "stream",
     "text": [
      "Elementos a prosesar: 54\n"
     ]
    },
    {
     "name": "stderr",
     "output_type": "stream",
     "text": [
      "100%|██████████| 53/53 [15:54<00:00, 18.02s/it]\n"
     ]
    }
   ],
   "source": [
    "URL_morbidity_c2 = 'http://datos.susalud.gob.pe/dataset/consulta-c2-morbilidad-en-emergencia-por-ipress'\n",
    "metadata, data = function_list_elements(URL_morbidity_c2, 'morbidity_c2')\n",
    "\n",
    "# Metadata\n",
    "path = os.path.abspath('web_resources/morbidity').replace(\"\\\\\", \"/\")+\"/\"\n",
    "file = path+metadata[0]\n",
    "url = metadata[1]\n",
    "urllib.request.urlretrieve(url, file)\n",
    "\n",
    "\n",
    "# Data\n",
    "path = os.path.abspath('web_resources/morbidity/morbilidad_c2').replace(\"\\\\\", \"/\")+\"/\"\n",
    "\n",
    "for f in glob.glob(path+'*'):\n",
    "    os.remove(f)\n",
    "    \n",
    "for d in tqdm(data):\n",
    "    file = path+d[0]\n",
    "    url = d[1]\n",
    "    urllib.request.urlretrieve(url, file)"
   ]
  },
  {
   "cell_type": "markdown",
   "id": "7e7ac8bc",
   "metadata": {},
   "source": [
    "### Downloading data for Morbidity D2"
   ]
  },
  {
   "cell_type": "code",
   "execution_count": 5,
   "id": "55748e72",
   "metadata": {},
   "outputs": [
    {
     "name": "stdout",
     "output_type": "stream",
     "text": [
      "Elementos a prosesar: 9\n"
     ]
    },
    {
     "name": "stderr",
     "output_type": "stream",
     "text": [
      "100%|██████████| 8/8 [05:26<00:00, 40.81s/it]\n"
     ]
    }
   ],
   "source": [
    "URL_morbidity_d2 = \"http://datos.susalud.gob.pe/dataset/consulta-d2-consolidado-de-morbilidad-en-hospitalizacion\"\n",
    "metadata, data = function_list_elements(URL_morbidity_d2, 'morbidity_d2')\n",
    "\n",
    "# Metadata\n",
    "path = os.path.abspath('web_resources/morbidity').replace(\"\\\\\", \"/\")+\"/\"\n",
    "file = path+metadata[0]\n",
    "url = metadata[1]\n",
    "urllib.request.urlretrieve(url, file)\n",
    "\n",
    "\n",
    "# Data\n",
    "path = os.path.abspath('web_resources/morbidity/morbilidad_d2').replace(\"\\\\\", \"/\")+\"/\"\n",
    "\n",
    "for f in glob.glob(path+'*'):\n",
    "    os.remove(f)\n",
    "    \n",
    "for d in tqdm(data):\n",
    "    file = path+d[0]\n",
    "    url = d[1]\n",
    "    urllib.request.urlretrieve(url, file)"
   ]
  },
  {
   "cell_type": "code",
   "execution_count": null,
   "id": "3f3fccad",
   "metadata": {},
   "outputs": [],
   "source": []
  },
  {
   "cell_type": "code",
   "execution_count": null,
   "id": "4e370efe",
   "metadata": {},
   "outputs": [],
   "source": []
  }
 ],
 "metadata": {
  "kernelspec": {
   "display_name": "Python 3 (ipykernel)",
   "language": "python",
   "name": "python3"
  },
  "language_info": {
   "codemirror_mode": {
    "name": "ipython",
    "version": 3
   },
   "file_extension": ".py",
   "mimetype": "text/x-python",
   "name": "python",
   "nbconvert_exporter": "python",
   "pygments_lexer": "ipython3",
   "version": "3.9.12"
  },
  "latex_envs": {
   "LaTeX_envs_menu_present": true,
   "autoclose": false,
   "autocomplete": true,
   "bibliofile": "biblio.bib",
   "cite_by": "apalike",
   "current_citInitial": 1,
   "eqLabelWithNumbers": true,
   "eqNumInitial": 1,
   "hotkeys": {
    "equation": "Ctrl-E",
    "itemize": "Ctrl-I"
   },
   "labels_anchors": false,
   "latex_user_defs": false,
   "report_style_numbering": false,
   "user_envs_cfg": false
  },
  "toc": {
   "base_numbering": 1,
   "nav_menu": {},
   "number_sections": true,
   "sideBar": true,
   "skip_h1_title": false,
   "title_cell": "Table of Contents",
   "title_sidebar": "Contents",
   "toc_cell": false,
   "toc_position": {},
   "toc_section_display": true,
   "toc_window_display": false
  }
 },
 "nbformat": 4,
 "nbformat_minor": 5
}
