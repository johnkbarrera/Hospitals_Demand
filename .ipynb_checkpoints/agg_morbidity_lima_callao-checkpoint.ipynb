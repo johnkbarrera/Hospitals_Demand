{
 "cells": [
  {
   "cell_type": "code",
   "execution_count": 1,
   "id": "7ad83372",
   "metadata": {},
   "outputs": [],
   "source": [
    "import pandas as pd\n",
    "import numpy as np\n",
    "import glob\n",
    "from tqdm import tqdm, trange\n",
    "\n",
    "import matplotlib.pyplot as plt\n",
    "import plotly.express as px\n",
    "from difflib import SequenceMatcher"
   ]
  },
  {
   "cell_type": "code",
   "execution_count": 2,
   "id": "579edbe1",
   "metadata": {},
   "outputs": [],
   "source": [
    "def save_new_agg(data, name):\n",
    "    data_temp = data[((data['PROVINCE']=='LIMA') & (data['STATE']=='LIMA')) |\n",
    "                     (data['STATE']=='CALLAO')]\n",
    "    data_temp = data_temp[data_temp['YEAR']==2020].reset_index(drop=True)\n",
    "    data_temp['SECTOR'] = data_temp['SECTOR'].apply(lambda x: x if x == 'PRIVADO' else 'PUBLICO')\n",
    "    columns_ = data_temp['SECTOR'].unique()\n",
    "    data_temp = data_temp.groupby(['UBIGEO', 'DISTRICT','SECTOR','CO_IPRESS']).agg({ 'QTY_PEOPLE_SERVED': \"sum\"}).reset_index()\n",
    "    data_temp = data_temp.groupby(['UBIGEO', 'DISTRICT','SECTOR']).agg({ 'CO_IPRESS': \"count\"}).reset_index()\n",
    "    data_temp = data_temp.pivot(index =['UBIGEO', 'DISTRICT'], columns ='SECTOR')\n",
    "    data_temp.columns = data_temp.columns.droplevel()\n",
    "    data_temp = data_temp.reset_index()\n",
    "    data_temp.fillna(0, inplace = True)\n",
    "\n",
    "    data_temp['TOTAL'] = data_temp[columns_].sum(axis=1)\n",
    "    data_temp.to_csv(name, index = False)\n",
    "    return data_temp"
   ]
  },
  {
   "cell_type": "code",
   "execution_count": 3,
   "id": "4fbd728a",
   "metadata": {},
   "outputs": [],
   "source": [
    "all_data = pd.read_pickle('data/morbilidad_global.csv')"
   ]
  },
  {
   "cell_type": "markdown",
   "id": "e131c9ac",
   "metadata": {},
   "source": [
    "## Salvando resumen de datos de todo el peru desde el 2018"
   ]
  },
  {
   "cell_type": "code",
   "execution_count": 4,
   "id": "c7a5aaa5",
   "metadata": {},
   "outputs": [
    {
     "data": {
      "text/html": [
       "<div>\n",
       "<style scoped>\n",
       "    .dataframe tbody tr th:only-of-type {\n",
       "        vertical-align: middle;\n",
       "    }\n",
       "\n",
       "    .dataframe tbody tr th {\n",
       "        vertical-align: top;\n",
       "    }\n",
       "\n",
       "    .dataframe thead th {\n",
       "        text-align: right;\n",
       "    }\n",
       "</style>\n",
       "<table border=\"1\" class=\"dataframe\">\n",
       "  <thead>\n",
       "    <tr style=\"text-align: right;\">\n",
       "      <th></th>\n",
       "      <th>DATE</th>\n",
       "      <th>YEAR</th>\n",
       "      <th>MONTH</th>\n",
       "      <th>STATE</th>\n",
       "      <th>PROVINCE</th>\n",
       "      <th>DISTRICT</th>\n",
       "      <th>SECTOR</th>\n",
       "      <th>CATEGORY</th>\n",
       "      <th>CATEGORY2</th>\n",
       "      <th>CO_IPRESS</th>\n",
       "      <th>...</th>\n",
       "      <th>AGE</th>\n",
       "      <th>DIAGNOSIS_ID</th>\n",
       "      <th>QTY_PEOPLE_SERVED</th>\n",
       "      <th>DISEASE</th>\n",
       "      <th>DISEASE_GROUP</th>\n",
       "      <th>COD_IPRESS</th>\n",
       "      <th>x</th>\n",
       "      <th>y</th>\n",
       "      <th>SECTOR_R</th>\n",
       "      <th>TYPE</th>\n",
       "    </tr>\n",
       "  </thead>\n",
       "  <tbody>\n",
       "    <tr>\n",
       "      <th>0</th>\n",
       "      <td>2018-01-01</td>\n",
       "      <td>2018</td>\n",
       "      <td>1</td>\n",
       "      <td>LIMA</td>\n",
       "      <td>LIMA</td>\n",
       "      <td>LIMA</td>\n",
       "      <td>PRIVADO</td>\n",
       "      <td>II-2</td>\n",
       "      <td>II</td>\n",
       "      <td>00015610</td>\n",
       "      <td>...</td>\n",
       "      <td>7</td>\n",
       "      <td>R10.2</td>\n",
       "      <td>10</td>\n",
       "      <td>PELVIC AND PERINEAL PAIN</td>\n",
       "      <td>Abnormal clinical and laboratory symptoms, sig...</td>\n",
       "      <td>00015610</td>\n",
       "      <td>-12.058367</td>\n",
       "      <td>-77.038362</td>\n",
       "      <td>PRIVADO</td>\n",
       "      <td>Outpatient Consultation</td>\n",
       "    </tr>\n",
       "    <tr>\n",
       "      <th>1</th>\n",
       "      <td>2018-01-01</td>\n",
       "      <td>2018</td>\n",
       "      <td>1</td>\n",
       "      <td>LIMA</td>\n",
       "      <td>LIMA</td>\n",
       "      <td>LIMA</td>\n",
       "      <td>PRIVADO</td>\n",
       "      <td>II-2</td>\n",
       "      <td>II</td>\n",
       "      <td>00015610</td>\n",
       "      <td>...</td>\n",
       "      <td>7</td>\n",
       "      <td>R10.4</td>\n",
       "      <td>11</td>\n",
       "      <td>UNIDENTIFIED</td>\n",
       "      <td>Abnormal clinical and laboratory symptoms, sig...</td>\n",
       "      <td>00015610</td>\n",
       "      <td>-12.058367</td>\n",
       "      <td>-77.038362</td>\n",
       "      <td>PRIVADO</td>\n",
       "      <td>Outpatient Consultation</td>\n",
       "    </tr>\n",
       "    <tr>\n",
       "      <th>2</th>\n",
       "      <td>2018-01-01</td>\n",
       "      <td>2018</td>\n",
       "      <td>1</td>\n",
       "      <td>LIMA</td>\n",
       "      <td>LIMA</td>\n",
       "      <td>LIMA</td>\n",
       "      <td>PRIVADO</td>\n",
       "      <td>II-2</td>\n",
       "      <td>II</td>\n",
       "      <td>00015610</td>\n",
       "      <td>...</td>\n",
       "      <td>7</td>\n",
       "      <td>R11.X</td>\n",
       "      <td>3</td>\n",
       "      <td>UNIDENTIFIED</td>\n",
       "      <td>Abnormal clinical and laboratory symptoms, sig...</td>\n",
       "      <td>00015610</td>\n",
       "      <td>-12.058367</td>\n",
       "      <td>-77.038362</td>\n",
       "      <td>PRIVADO</td>\n",
       "      <td>Outpatient Consultation</td>\n",
       "    </tr>\n",
       "  </tbody>\n",
       "</table>\n",
       "<p>3 rows × 22 columns</p>\n",
       "</div>"
      ],
      "text/plain": [
       "        DATE  YEAR  MONTH STATE PROVINCE DISTRICT   SECTOR CATEGORY CATEGORY2  \\\n",
       "0 2018-01-01  2018      1  LIMA     LIMA     LIMA  PRIVADO     II-2        II   \n",
       "1 2018-01-01  2018      1  LIMA     LIMA     LIMA  PRIVADO     II-2        II   \n",
       "2 2018-01-01  2018      1  LIMA     LIMA     LIMA  PRIVADO     II-2        II   \n",
       "\n",
       "  CO_IPRESS  ... AGE DIAGNOSIS_ID QTY_PEOPLE_SERVED                   DISEASE  \\\n",
       "0  00015610  ...   7        R10.2                10  PELVIC AND PERINEAL PAIN   \n",
       "1  00015610  ...   7        R10.4                11              UNIDENTIFIED   \n",
       "2  00015610  ...   7        R11.X                 3              UNIDENTIFIED   \n",
       "\n",
       "                                       DISEASE_GROUP COD_IPRESS          x  \\\n",
       "0  Abnormal clinical and laboratory symptoms, sig...   00015610 -12.058367   \n",
       "1  Abnormal clinical and laboratory symptoms, sig...   00015610 -12.058367   \n",
       "2  Abnormal clinical and laboratory symptoms, sig...   00015610 -12.058367   \n",
       "\n",
       "           y  SECTOR_R                     TYPE  \n",
       "0 -77.038362   PRIVADO  Outpatient Consultation  \n",
       "1 -77.038362   PRIVADO  Outpatient Consultation  \n",
       "2 -77.038362   PRIVADO  Outpatient Consultation  \n",
       "\n",
       "[3 rows x 22 columns]"
      ]
     },
     "execution_count": 4,
     "metadata": {},
     "output_type": "execute_result"
    }
   ],
   "source": [
    "all_data.head(3)"
   ]
  },
  {
   "cell_type": "code",
   "execution_count": 5,
   "id": "2eaae738",
   "metadata": {},
   "outputs": [
    {
     "data": {
      "text/plain": [
       "Index(['DATE', 'YEAR', 'MONTH', 'STATE', 'PROVINCE', 'DISTRICT', 'SECTOR',\n",
       "       'CATEGORY', 'CATEGORY2', 'CO_IPRESS', 'NAME', 'SEX', 'AGE',\n",
       "       'DIAGNOSIS_ID', 'QTY_PEOPLE_SERVED', 'DISEASE', 'DISEASE_GROUP',\n",
       "       'COD_IPRESS', 'x', 'y', 'SECTOR_R', 'TYPE'],\n",
       "      dtype='object')"
      ]
     },
     "execution_count": 5,
     "metadata": {},
     "output_type": "execute_result"
    }
   ],
   "source": [
    "all_data.columns"
   ]
  },
  {
   "cell_type": "code",
   "execution_count": 7,
   "id": "2ac94ccd",
   "metadata": {},
   "outputs": [
    {
     "data": {
      "text/plain": [
       "array(['PUBLICO', 'PRIVADO', nan], dtype=object)"
      ]
     },
     "execution_count": 7,
     "metadata": {},
     "output_type": "execute_result"
    }
   ],
   "source": [
    "columns_"
   ]
  },
  {
   "cell_type": "code",
   "execution_count": 8,
   "id": "93e5e272",
   "metadata": {},
   "outputs": [],
   "source": [
    "data_temp = all_data\n",
    "data_temp = data_temp[data_temp['YEAR']==2019].reset_index(drop=True)\n",
    "data_temp = data_temp[data_temp['SECTOR_R'].notna()]\n",
    "# data_temp['SECTOR_R'] = data_temp['SECTOR'].apply(lambda x: x if x == 'PRIVADO' else 'PUBLICO')\n",
    "columns_ = data_temp['SECTOR_R'].unique()\n",
    "data_temp = data_temp.groupby(['CATEGORY','SECTOR_R','CO_IPRESS']).agg({ 'QTY_PEOPLE_SERVED': \"sum\"}).reset_index()\n",
    "data_temp = data_temp.groupby(['CATEGORY','SECTOR_R']).agg({ 'CO_IPRESS': \"count\"}).reset_index()\n",
    "data_temp = data_temp.pivot(index =['CATEGORY'], columns ='SECTOR_R')\n",
    "data_temp.columns = data_temp.columns.droplevel()\n",
    "data_temp = data_temp.reset_index()\n",
    "data_temp.fillna(0, inplace = True)\n",
    "data_temp['TOTAL'] = data_temp[columns_].sum(axis=1)\n",
    "data_temp.to_csv('results/qty_cat_peru.csv', index = False)"
   ]
  },
  {
   "cell_type": "code",
   "execution_count": 9,
   "id": "e6214c00",
   "metadata": {
    "scrolled": true
   },
   "outputs": [
    {
     "data": {
      "text/html": [
       "<div>\n",
       "<style scoped>\n",
       "    .dataframe tbody tr th:only-of-type {\n",
       "        vertical-align: middle;\n",
       "    }\n",
       "\n",
       "    .dataframe tbody tr th {\n",
       "        vertical-align: top;\n",
       "    }\n",
       "\n",
       "    .dataframe thead th {\n",
       "        text-align: right;\n",
       "    }\n",
       "</style>\n",
       "<table border=\"1\" class=\"dataframe\">\n",
       "  <thead>\n",
       "    <tr style=\"text-align: right;\">\n",
       "      <th>SECTOR_R</th>\n",
       "      <th>CATEGORY</th>\n",
       "      <th>PRIVADO</th>\n",
       "      <th>PUBLICO</th>\n",
       "      <th>TOTAL</th>\n",
       "    </tr>\n",
       "  </thead>\n",
       "  <tbody>\n",
       "    <tr>\n",
       "      <th>0</th>\n",
       "      <td>0</td>\n",
       "      <td>19</td>\n",
       "      <td>56</td>\n",
       "      <td>75</td>\n",
       "    </tr>\n",
       "    <tr>\n",
       "      <th>1</th>\n",
       "      <td>I-1</td>\n",
       "      <td>1</td>\n",
       "      <td>1736</td>\n",
       "      <td>1737</td>\n",
       "    </tr>\n",
       "    <tr>\n",
       "      <th>2</th>\n",
       "      <td>I-2</td>\n",
       "      <td>17</td>\n",
       "      <td>994</td>\n",
       "      <td>1011</td>\n",
       "    </tr>\n",
       "    <tr>\n",
       "      <th>3</th>\n",
       "      <td>I-3</td>\n",
       "      <td>44</td>\n",
       "      <td>564</td>\n",
       "      <td>608</td>\n",
       "    </tr>\n",
       "    <tr>\n",
       "      <th>4</th>\n",
       "      <td>I-4</td>\n",
       "      <td>9</td>\n",
       "      <td>159</td>\n",
       "      <td>168</td>\n",
       "    </tr>\n",
       "  </tbody>\n",
       "</table>\n",
       "</div>"
      ],
      "text/plain": [
       "SECTOR_R CATEGORY  PRIVADO  PUBLICO  TOTAL\n",
       "0               0       19       56     75\n",
       "1             I-1        1     1736   1737\n",
       "2             I-2       17      994   1011\n",
       "3             I-3       44      564    608\n",
       "4             I-4        9      159    168"
      ]
     },
     "execution_count": 9,
     "metadata": {},
     "output_type": "execute_result"
    }
   ],
   "source": [
    "data_temp.head()"
   ]
  },
  {
   "cell_type": "markdown",
   "id": "85832bd7",
   "metadata": {},
   "source": [
    "## Salvando resumen de datos de Lima desde el 2018"
   ]
  },
  {
   "cell_type": "code",
   "execution_count": 11,
   "id": "67de87e3",
   "metadata": {},
   "outputs": [],
   "source": [
    "data_temp = all_data\n",
    "data_temp = data_temp[data_temp['YEAR']==2019].reset_index(drop=True)\n",
    "data_temp = data_temp[data_temp['SECTOR_R'].notna()]\n",
    "data_temp = data_temp[((data_temp['PROVINCE']=='LIMA') & (data_temp['STATE']=='LIMA')) |\n",
    "                      (data_temp['STATE']=='CALLAO')]\n",
    "data_temp['SECTOR_R'] = data_temp['SECTOR'].apply(lambda x: x if x == 'PRIVADO' else 'PUBLICO')\n",
    "columns_ = data_temp['SECTOR_R'].unique()\n",
    "data_temp = data_temp.groupby(['CATEGORY','SECTOR_R','CO_IPRESS']).agg({ 'QTY_PEOPLE_SERVED': \"sum\"}).reset_index()\n",
    "data_temp = data_temp.groupby(['CATEGORY','SECTOR_R']).agg({ 'CO_IPRESS': \"count\"}).reset_index()\n",
    "data_temp = data_temp.pivot(index =['CATEGORY'], columns ='SECTOR_R')\n",
    "data_temp.columns = data_temp.columns.droplevel()\n",
    "data_temp = data_temp.reset_index()\n",
    "data_temp.fillna(0, inplace = True)\n",
    "data_temp['TOTAL'] = data_temp[columns_].sum(axis=1)\n",
    "data_temp.to_csv('results/qty_cat_lim_callao.csv', index = False)"
   ]
  },
  {
   "cell_type": "markdown",
   "id": "a729ead6",
   "metadata": {},
   "source": [
    "## categoria sexo, diagnosticos "
   ]
  },
  {
   "cell_type": "code",
   "execution_count": 12,
   "id": "0d0f45bc",
   "metadata": {},
   "outputs": [
    {
     "data": {
      "text/html": [
       "<div>\n",
       "<style scoped>\n",
       "    .dataframe tbody tr th:only-of-type {\n",
       "        vertical-align: middle;\n",
       "    }\n",
       "\n",
       "    .dataframe tbody tr th {\n",
       "        vertical-align: top;\n",
       "    }\n",
       "\n",
       "    .dataframe thead th {\n",
       "        text-align: right;\n",
       "    }\n",
       "</style>\n",
       "<table border=\"1\" class=\"dataframe\">\n",
       "  <thead>\n",
       "    <tr style=\"text-align: right;\">\n",
       "      <th>SECTOR_R</th>\n",
       "      <th>CATEGORY</th>\n",
       "      <th>PRIVADO</th>\n",
       "      <th>PUBLICO</th>\n",
       "      <th>TOTAL</th>\n",
       "    </tr>\n",
       "  </thead>\n",
       "  <tbody>\n",
       "    <tr>\n",
       "      <th>0</th>\n",
       "      <td>0</td>\n",
       "      <td>11.0</td>\n",
       "      <td>4.0</td>\n",
       "      <td>15.0</td>\n",
       "    </tr>\n",
       "    <tr>\n",
       "      <th>1</th>\n",
       "      <td>I-1</td>\n",
       "      <td>1.0</td>\n",
       "      <td>0.0</td>\n",
       "      <td>1.0</td>\n",
       "    </tr>\n",
       "    <tr>\n",
       "      <th>2</th>\n",
       "      <td>I-2</td>\n",
       "      <td>11.0</td>\n",
       "      <td>48.0</td>\n",
       "      <td>59.0</td>\n",
       "    </tr>\n",
       "    <tr>\n",
       "      <th>3</th>\n",
       "      <td>I-3</td>\n",
       "      <td>23.0</td>\n",
       "      <td>36.0</td>\n",
       "      <td>59.0</td>\n",
       "    </tr>\n",
       "    <tr>\n",
       "      <th>4</th>\n",
       "      <td>I-4</td>\n",
       "      <td>1.0</td>\n",
       "      <td>7.0</td>\n",
       "      <td>8.0</td>\n",
       "    </tr>\n",
       "  </tbody>\n",
       "</table>\n",
       "</div>"
      ],
      "text/plain": [
       "SECTOR_R CATEGORY  PRIVADO  PUBLICO  TOTAL\n",
       "0               0     11.0      4.0   15.0\n",
       "1             I-1      1.0      0.0    1.0\n",
       "2             I-2     11.0     48.0   59.0\n",
       "3             I-3     23.0     36.0   59.0\n",
       "4             I-4      1.0      7.0    8.0"
      ]
     },
     "execution_count": 12,
     "metadata": {},
     "output_type": "execute_result"
    }
   ],
   "source": [
    "data_temp.head()"
   ]
  },
  {
   "cell_type": "code",
   "execution_count": 13,
   "id": "62889e77",
   "metadata": {},
   "outputs": [],
   "source": [
    "data_temp = all_data\n",
    "data_temp = data_temp[data_temp['YEAR']==2019].reset_index(drop=True)\n",
    "data_temp = data_temp[((data_temp['PROVINCE']=='LIMA') & (data_temp['STATE']=='LIMA')) |\n",
    "                      (data_temp['STATE']=='CALLAO')]\n"
   ]
  },
  {
   "cell_type": "code",
   "execution_count": null,
   "id": "a7a8fb5f",
   "metadata": {},
   "outputs": [],
   "source": []
  }
 ],
 "metadata": {
  "kernelspec": {
   "display_name": "Python 3 (ipykernel)",
   "language": "python",
   "name": "python3"
  },
  "language_info": {
   "codemirror_mode": {
    "name": "ipython",
    "version": 3
   },
   "file_extension": ".py",
   "mimetype": "text/x-python",
   "name": "python",
   "nbconvert_exporter": "python",
   "pygments_lexer": "ipython3",
   "version": "3.9.7"
  }
 },
 "nbformat": 4,
 "nbformat_minor": 5
}
