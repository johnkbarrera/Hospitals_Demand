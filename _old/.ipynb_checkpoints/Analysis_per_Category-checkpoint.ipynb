{
 "cells": [
  {
   "cell_type": "code",
   "execution_count": 1,
   "id": "0569f57f",
   "metadata": {},
   "outputs": [],
   "source": [
    "import pandas as pd\n",
    "import numpy as np\n",
    "import glob\n",
    "from tqdm import tqdm, trange\n",
    "\n",
    "import matplotlib\n",
    "import matplotlib.pyplot as plt\n",
    "from matplotlib.pyplot import cm\n",
    "\n",
    "import plotly.express as px"
   ]
  },
  {
   "cell_type": "code",
   "execution_count": 2,
   "id": "18f5fe2f",
   "metadata": {},
   "outputs": [],
   "source": [
    "def millions(x, pos):\n",
    "    \"\"\"The two args are the value and tick position.\"\"\"\n",
    "    return '{:1.1f}M'.format(x*1e-6)\n",
    "\n",
    "\n",
    "def diagnosis_grouped(val, values_dict):\n",
    "    val = str(val)\n",
    "    #val = str(val)[:2]\n",
    "    try:\n",
    "        val = values_dict[val][0]\n",
    "    except:\n",
    "        val = val\n",
    "    return val\n",
    "\n",
    "CO_IPRESS_df = pd.read_excel('web_resources/ICD10/CIE10-VOLUMEN-2018-EXCEL.xlsx', index_col=None, header=0) \n",
    "CO_IPRESS_df['DIAGNOSIS_ID'] = CO_IPRESS_df['CIE10_X'].apply(lambda x: x[:-1]+'.'+x[-1:])\n",
    "CO_IPRESS_df = CO_IPRESS_df[['DIAGNOSIS_ID','DESCRIPCION CIE']]\n",
    "CO_IPRESS_df = CO_IPRESS_df.rename(columns={'DESCRIPCION CIE': 'DISEASE'})\n",
    "CO_IPRESS_df = CO_IPRESS_df.set_index('DIAGNOSIS_ID').T.to_dict('list')"
   ]
  },
  {
   "cell_type": "markdown",
   "id": "ecb558c6",
   "metadata": {},
   "source": [
    "## Reding Data"
   ]
  },
  {
   "cell_type": "code",
   "execution_count": 3,
   "id": "fa91a17d",
   "metadata": {},
   "outputs": [],
   "source": [
    "all_data = pd.read_pickle('data_preprocessed/morbilidad_global_2018_lima.pkl')"
   ]
  },
  {
   "cell_type": "code",
   "execution_count": 142,
   "id": "8a00324f",
   "metadata": {
    "scrolled": false
   },
   "outputs": [
    {
     "data": {
      "text/html": [
       "<div>\n",
       "<style scoped>\n",
       "    .dataframe tbody tr th:only-of-type {\n",
       "        vertical-align: middle;\n",
       "    }\n",
       "\n",
       "    .dataframe tbody tr th {\n",
       "        vertical-align: top;\n",
       "    }\n",
       "\n",
       "    .dataframe thead th {\n",
       "        text-align: right;\n",
       "    }\n",
       "</style>\n",
       "<table border=\"1\" class=\"dataframe\">\n",
       "  <thead>\n",
       "    <tr style=\"text-align: right;\">\n",
       "      <th></th>\n",
       "      <th>DATE</th>\n",
       "      <th>YEAR</th>\n",
       "      <th>MONTH</th>\n",
       "      <th>STATE</th>\n",
       "      <th>PROVINCE</th>\n",
       "      <th>DISTRICT</th>\n",
       "      <th>SECTOR</th>\n",
       "      <th>SECTOR_R</th>\n",
       "      <th>CATEGORY</th>\n",
       "      <th>CATEGORY2</th>\n",
       "      <th>...</th>\n",
       "      <th>NAME</th>\n",
       "      <th>SEX</th>\n",
       "      <th>AGE</th>\n",
       "      <th>DIAGNOSIS_ID</th>\n",
       "      <th>QTY_PEOPLE_SERVED</th>\n",
       "      <th>DISEASE</th>\n",
       "      <th>DISEASE_GROUP</th>\n",
       "      <th>X</th>\n",
       "      <th>Y</th>\n",
       "      <th>TYPE</th>\n",
       "    </tr>\n",
       "  </thead>\n",
       "  <tbody>\n",
       "    <tr>\n",
       "      <th>0</th>\n",
       "      <td>2018-04-01</td>\n",
       "      <td>2018</td>\n",
       "      <td>4</td>\n",
       "      <td>LIMA</td>\n",
       "      <td>LIMA</td>\n",
       "      <td>SAN JUAN DE MIRAFLORES</td>\n",
       "      <td>PRIVADO</td>\n",
       "      <td>PRIVATE</td>\n",
       "      <td>II-1</td>\n",
       "      <td>II</td>\n",
       "      <td>...</td>\n",
       "      <td>CLINICA SANTA MARIA DE LA VIDA</td>\n",
       "      <td>M</td>\n",
       "      <td>1</td>\n",
       "      <td>Z00.1</td>\n",
       "      <td>109</td>\n",
       "      <td>ENCOUNTER FOR NEWBORN, INFANT AND CHILD HEALTH...</td>\n",
       "      <td>Factors influencing health status and contact ...</td>\n",
       "      <td>NaN</td>\n",
       "      <td>NaN</td>\n",
       "      <td>Outpatient Consultation</td>\n",
       "    </tr>\n",
       "    <tr>\n",
       "      <th>1</th>\n",
       "      <td>2018-04-01</td>\n",
       "      <td>2018</td>\n",
       "      <td>4</td>\n",
       "      <td>LIMA</td>\n",
       "      <td>LIMA</td>\n",
       "      <td>SAN JUAN DE MIRAFLORES</td>\n",
       "      <td>PRIVADO</td>\n",
       "      <td>PRIVATE</td>\n",
       "      <td>II-1</td>\n",
       "      <td>II</td>\n",
       "      <td>...</td>\n",
       "      <td>CLINICA SANTA MARIA DE LA VIDA</td>\n",
       "      <td>M</td>\n",
       "      <td>1</td>\n",
       "      <td>A09.0</td>\n",
       "      <td>13</td>\n",
       "      <td>UNIDENTIFIED</td>\n",
       "      <td>Some infectious and parasitic diseases</td>\n",
       "      <td>NaN</td>\n",
       "      <td>NaN</td>\n",
       "      <td>Outpatient Consultation</td>\n",
       "    </tr>\n",
       "    <tr>\n",
       "      <th>2</th>\n",
       "      <td>2018-04-01</td>\n",
       "      <td>2018</td>\n",
       "      <td>4</td>\n",
       "      <td>LIMA</td>\n",
       "      <td>LIMA</td>\n",
       "      <td>SAN JUAN DE MIRAFLORES</td>\n",
       "      <td>PRIVADO</td>\n",
       "      <td>PRIVATE</td>\n",
       "      <td>II-1</td>\n",
       "      <td>II</td>\n",
       "      <td>...</td>\n",
       "      <td>CLINICA SANTA MARIA DE LA VIDA</td>\n",
       "      <td>M</td>\n",
       "      <td>1</td>\n",
       "      <td>A09.X</td>\n",
       "      <td>22</td>\n",
       "      <td>UNIDENTIFIED</td>\n",
       "      <td>Some infectious and parasitic diseases</td>\n",
       "      <td>NaN</td>\n",
       "      <td>NaN</td>\n",
       "      <td>Outpatient Consultation</td>\n",
       "    </tr>\n",
       "    <tr>\n",
       "      <th>3</th>\n",
       "      <td>2018-04-01</td>\n",
       "      <td>2018</td>\n",
       "      <td>4</td>\n",
       "      <td>LIMA</td>\n",
       "      <td>LIMA</td>\n",
       "      <td>SAN JUAN DE MIRAFLORES</td>\n",
       "      <td>PRIVADO</td>\n",
       "      <td>PRIVATE</td>\n",
       "      <td>II-1</td>\n",
       "      <td>II</td>\n",
       "      <td>...</td>\n",
       "      <td>CLINICA SANTA MARIA DE LA VIDA</td>\n",
       "      <td>M</td>\n",
       "      <td>1</td>\n",
       "      <td>A50.9</td>\n",
       "      <td>10</td>\n",
       "      <td>CONGENITAL SYPHILIS, UNSPECIFIED</td>\n",
       "      <td>Some infectious and parasitic diseases</td>\n",
       "      <td>NaN</td>\n",
       "      <td>NaN</td>\n",
       "      <td>Outpatient Consultation</td>\n",
       "    </tr>\n",
       "    <tr>\n",
       "      <th>4</th>\n",
       "      <td>2018-04-01</td>\n",
       "      <td>2018</td>\n",
       "      <td>4</td>\n",
       "      <td>LIMA</td>\n",
       "      <td>LIMA</td>\n",
       "      <td>SAN JUAN DE MIRAFLORES</td>\n",
       "      <td>PRIVADO</td>\n",
       "      <td>PRIVATE</td>\n",
       "      <td>II-1</td>\n",
       "      <td>II</td>\n",
       "      <td>...</td>\n",
       "      <td>CLINICA SANTA MARIA DE LA VIDA</td>\n",
       "      <td>M</td>\n",
       "      <td>1</td>\n",
       "      <td>D50.9</td>\n",
       "      <td>11</td>\n",
       "      <td>IRON DEFICIENCY ANEMIA, UNSPECIFIED</td>\n",
       "      <td>Diseases of the blood and hematopoietic organs...</td>\n",
       "      <td>NaN</td>\n",
       "      <td>NaN</td>\n",
       "      <td>Outpatient Consultation</td>\n",
       "    </tr>\n",
       "  </tbody>\n",
       "</table>\n",
       "<p>5 rows × 21 columns</p>\n",
       "</div>"
      ],
      "text/plain": [
       "        DATE  YEAR  MONTH STATE PROVINCE                DISTRICT   SECTOR  \\\n",
       "0 2018-04-01  2018      4  LIMA     LIMA  SAN JUAN DE MIRAFLORES  PRIVADO   \n",
       "1 2018-04-01  2018      4  LIMA     LIMA  SAN JUAN DE MIRAFLORES  PRIVADO   \n",
       "2 2018-04-01  2018      4  LIMA     LIMA  SAN JUAN DE MIRAFLORES  PRIVADO   \n",
       "3 2018-04-01  2018      4  LIMA     LIMA  SAN JUAN DE MIRAFLORES  PRIVADO   \n",
       "4 2018-04-01  2018      4  LIMA     LIMA  SAN JUAN DE MIRAFLORES  PRIVADO   \n",
       "\n",
       "  SECTOR_R CATEGORY CATEGORY2  ...                            NAME SEX AGE  \\\n",
       "0  PRIVATE     II-1        II  ...  CLINICA SANTA MARIA DE LA VIDA   M   1   \n",
       "1  PRIVATE     II-1        II  ...  CLINICA SANTA MARIA DE LA VIDA   M   1   \n",
       "2  PRIVATE     II-1        II  ...  CLINICA SANTA MARIA DE LA VIDA   M   1   \n",
       "3  PRIVATE     II-1        II  ...  CLINICA SANTA MARIA DE LA VIDA   M   1   \n",
       "4  PRIVATE     II-1        II  ...  CLINICA SANTA MARIA DE LA VIDA   M   1   \n",
       "\n",
       "  DIAGNOSIS_ID QTY_PEOPLE_SERVED  \\\n",
       "0        Z00.1               109   \n",
       "1        A09.0                13   \n",
       "2        A09.X                22   \n",
       "3        A50.9                10   \n",
       "4        D50.9                11   \n",
       "\n",
       "                                             DISEASE  \\\n",
       "0  ENCOUNTER FOR NEWBORN, INFANT AND CHILD HEALTH...   \n",
       "1                                       UNIDENTIFIED   \n",
       "2                                       UNIDENTIFIED   \n",
       "3                   CONGENITAL SYPHILIS, UNSPECIFIED   \n",
       "4                IRON DEFICIENCY ANEMIA, UNSPECIFIED   \n",
       "\n",
       "                                       DISEASE_GROUP   X   Y  \\\n",
       "0  Factors influencing health status and contact ... NaN NaN   \n",
       "1             Some infectious and parasitic diseases NaN NaN   \n",
       "2             Some infectious and parasitic diseases NaN NaN   \n",
       "3             Some infectious and parasitic diseases NaN NaN   \n",
       "4  Diseases of the blood and hematopoietic organs... NaN NaN   \n",
       "\n",
       "                      TYPE  \n",
       "0  Outpatient Consultation  \n",
       "1  Outpatient Consultation  \n",
       "2  Outpatient Consultation  \n",
       "3  Outpatient Consultation  \n",
       "4  Outpatient Consultation  \n",
       "\n",
       "[5 rows x 21 columns]"
      ]
     },
     "execution_count": 142,
     "metadata": {},
     "output_type": "execute_result"
    }
   ],
   "source": [
    "all_data.head()"
   ]
  },
  {
   "cell_type": "code",
   "execution_count": 144,
   "id": "3cda9964",
   "metadata": {},
   "outputs": [
    {
     "data": {
      "text/plain": [
       "{'01',\n",
       " '02',\n",
       " '03',\n",
       " '04',\n",
       " '05',\n",
       " '06',\n",
       " '07',\n",
       " '08',\n",
       " '09',\n",
       " '1',\n",
       " '10',\n",
       " '11',\n",
       " '12',\n",
       " '13',\n",
       " '14',\n",
       " '15',\n",
       " '2',\n",
       " '3',\n",
       " '4',\n",
       " '5',\n",
       " '6',\n",
       " '7',\n",
       " '8',\n",
       " '9'}"
      ]
     },
     "execution_count": 144,
     "metadata": {},
     "output_type": "execute_result"
    }
   ],
   "source": [
    "set(all_data['AGE'])"
   ]
  },
  {
   "cell_type": "code",
   "execution_count": 4,
   "id": "532279d1",
   "metadata": {},
   "outputs": [],
   "source": [
    "# Colors\n",
    "diagnostics_tag = list(set(all_data['DISEASE_GROUP']))\n",
    "cmap = cm.get_cmap('tab20b', 256)\n",
    "colorsb = cmap(np.linspace(0, 1, 20))\n",
    "cmap = cm.get_cmap('tab20c', 256)\n",
    "colorsc = cmap(np.linspace(0, 1, 20))[8:-4]\n",
    "\n",
    "colors = list(colorsc)+list(colorsb)\n",
    "dict_colors = {}\n",
    "counter = 0\n",
    "for d in diagnostics_tag:\n",
    "    x=colors[counter]\n",
    "    dict_colors[d]=matplotlib.colors.rgb2hex(x)\n",
    "    counter+=1"
   ]
  },
  {
   "cell_type": "code",
   "execution_count": 5,
   "id": "9bccddc5",
   "metadata": {},
   "outputs": [],
   "source": [
    "# Number of hospital\n",
    "hospitals_df = all_data.groupby(['DATE', 'CATEGORY2', 'SECTOR_R',\n",
    "                                 'CO_IPRESS']).agg(QTY_PEOPLE_SERVED=('QTY_PEOPLE_SERVED', 'sum'))\n",
    "hospitals_df = hospitals_df.reset_index()\n",
    "hospitals_df = hospitals_df.groupby(['DATE', 'CATEGORY2',\n",
    "                                     'SECTOR_R']).agg(QTY_HOSPITALS=('CO_IPRESS', 'count'),\n",
    "                                                      QTY_PEOPLE_SERVED=('QTY_PEOPLE_SERVED', 'sum'))\n",
    "hospitals_df = hospitals_df.reset_index()\n",
    "\n",
    "# Number of Diagnosis\n",
    "diagnosis_df = all_data.groupby(['DATE', 'CATEGORY2', 'SECTOR_R',\n",
    "                                 'DIAGNOSIS_ID']).agg(QTY_PEOPLE_SERVED=('QTY_PEOPLE_SERVED', 'sum'))\n",
    "diagnosis_df = diagnosis_df.reset_index()\n",
    "diagnosis_df = diagnosis_df.groupby(['DATE', 'CATEGORY2',\n",
    "                                     'SECTOR_R']).agg(QTY_DIAGNOSIS=('DIAGNOSIS_ID', 'count'),\n",
    "                                                      QTY_PEOPLE_SERVED=('QTY_PEOPLE_SERVED', 'sum'))\n",
    "diagnosis_df = diagnosis_df.reset_index()\n",
    "\n",
    "# Number of People per Category, Sex and Hospytal\n",
    "people_df = all_data.groupby(['DATE', 'CATEGORY2', 'SECTOR_R', 'CO_IPRESS', 'SEX',\n",
    "                              'DIAGNOSIS_ID']).agg(QTY_RECORDS=('QTY_PEOPLE_SERVED', 'count'),\n",
    "                                                   QTY_PEOPLE_SERVED=('QTY_PEOPLE_SERVED', 'sum'))\n",
    "people_df = people_df.reset_index()\n",
    "\n",
    "people_df = people_df.groupby(['DATE', 'CATEGORY2', 'SECTOR_R', 'CO_IPRESS',\n",
    "                               'SEX']).agg(PEOPLE_SERVED=('QTY_PEOPLE_SERVED', 'sum'),\n",
    "                                           UNIQUE_DIAGNOSIS=('QTY_PEOPLE_SERVED', 'count'),\n",
    "                                           TOTAL_DIAGNOSIS=('QTY_RECORDS', 'sum'))\n",
    "people_df = people_df.reset_index()\n",
    "people_df = people_df.sort_values(by=['DATE', 'CATEGORY2', 'SECTOR_R','CO_IPRESS', 'SEX'], ascending=False)\n",
    "people_df = people_df.reset_index(drop=True)\n",
    "\n",
    "# List of hospitals\n",
    "hospitals_list_df =  all_data.groupby(['DATE', 'CATEGORY2', 'SECTOR_R', 'SEX',\n",
    "                                       'CO_IPRESS']).agg(ABC=('DISEASE_GROUP', 'count'))\n",
    "hospitals_list_df = hospitals_list_df.reset_index()\n",
    "hospitals_list_df = hospitals_list_df.groupby(['DATE', 'CATEGORY2', 'SECTOR_R', \n",
    "                                               'SEX'])['CO_IPRESS'].apply(list).reset_index(name='HOSPITALS')\n",
    "hospitals_list_df = hospitals_list_df.sort_values(by=['DATE', 'SECTOR_R', 'SEX'], ascending=True)\n",
    "hospitals_list_df = hospitals_list_df.reset_index(drop=True)"
   ]
  },
  {
   "cell_type": "code",
   "execution_count": 6,
   "id": "0d05c4e4",
   "metadata": {},
   "outputs": [
    {
     "data": {
      "text/html": [
       "<div>\n",
       "<style scoped>\n",
       "    .dataframe tbody tr th:only-of-type {\n",
       "        vertical-align: middle;\n",
       "    }\n",
       "\n",
       "    .dataframe tbody tr th {\n",
       "        vertical-align: top;\n",
       "    }\n",
       "\n",
       "    .dataframe thead th {\n",
       "        text-align: right;\n",
       "    }\n",
       "</style>\n",
       "<table border=\"1\" class=\"dataframe\">\n",
       "  <thead>\n",
       "    <tr style=\"text-align: right;\">\n",
       "      <th></th>\n",
       "      <th>DATE</th>\n",
       "      <th>CATEGORY2</th>\n",
       "      <th>SECTOR_R</th>\n",
       "      <th>CO_IPRESS</th>\n",
       "      <th>SEX</th>\n",
       "      <th>PEOPLE_SERVED</th>\n",
       "      <th>UNIQUE_DIAGNOSIS</th>\n",
       "      <th>TOTAL_DIAGNOSIS</th>\n",
       "    </tr>\n",
       "  </thead>\n",
       "  <tbody>\n",
       "    <tr>\n",
       "      <th>0</th>\n",
       "      <td>2022-05-01</td>\n",
       "      <td>III</td>\n",
       "      <td>PUBLIC</td>\n",
       "      <td>00027929</td>\n",
       "      <td>M</td>\n",
       "      <td>3204</td>\n",
       "      <td>17</td>\n",
       "      <td>136</td>\n",
       "    </tr>\n",
       "    <tr>\n",
       "      <th>1</th>\n",
       "      <td>2022-05-01</td>\n",
       "      <td>III</td>\n",
       "      <td>PUBLIC</td>\n",
       "      <td>00027929</td>\n",
       "      <td>F</td>\n",
       "      <td>2103</td>\n",
       "      <td>15</td>\n",
       "      <td>132</td>\n",
       "    </tr>\n",
       "    <tr>\n",
       "      <th>2</th>\n",
       "      <td>2022-05-01</td>\n",
       "      <td>III</td>\n",
       "      <td>PUBLIC</td>\n",
       "      <td>00017024</td>\n",
       "      <td>M</td>\n",
       "      <td>3576</td>\n",
       "      <td>683</td>\n",
       "      <td>1585</td>\n",
       "    </tr>\n",
       "    <tr>\n",
       "      <th>3</th>\n",
       "      <td>2022-05-01</td>\n",
       "      <td>III</td>\n",
       "      <td>PUBLIC</td>\n",
       "      <td>00017024</td>\n",
       "      <td>F</td>\n",
       "      <td>2473</td>\n",
       "      <td>541</td>\n",
       "      <td>1198</td>\n",
       "    </tr>\n",
       "    <tr>\n",
       "      <th>4</th>\n",
       "      <td>2022-05-01</td>\n",
       "      <td>III</td>\n",
       "      <td>PUBLIC</td>\n",
       "      <td>00010751</td>\n",
       "      <td>M</td>\n",
       "      <td>5537</td>\n",
       "      <td>799</td>\n",
       "      <td>1953</td>\n",
       "    </tr>\n",
       "  </tbody>\n",
       "</table>\n",
       "</div>"
      ],
      "text/plain": [
       "        DATE CATEGORY2 SECTOR_R CO_IPRESS SEX  PEOPLE_SERVED  \\\n",
       "0 2022-05-01       III   PUBLIC  00027929   M           3204   \n",
       "1 2022-05-01       III   PUBLIC  00027929   F           2103   \n",
       "2 2022-05-01       III   PUBLIC  00017024   M           3576   \n",
       "3 2022-05-01       III   PUBLIC  00017024   F           2473   \n",
       "4 2022-05-01       III   PUBLIC  00010751   M           5537   \n",
       "\n",
       "   UNIQUE_DIAGNOSIS  TOTAL_DIAGNOSIS  \n",
       "0                17              136  \n",
       "1                15              132  \n",
       "2               683             1585  \n",
       "3               541             1198  \n",
       "4               799             1953  "
      ]
     },
     "execution_count": 6,
     "metadata": {},
     "output_type": "execute_result"
    }
   ],
   "source": [
    "people_df.head()"
   ]
  },
  {
   "cell_type": "markdown",
   "id": "45b06f5c",
   "metadata": {},
   "source": [
    "## Analysis for Category"
   ]
  },
  {
   "cell_type": "code",
   "execution_count": 113,
   "id": "c5a076f2",
   "metadata": {},
   "outputs": [],
   "source": [
    "TAG_CATEGORY = 'II'"
   ]
  },
  {
   "cell_type": "code",
   "execution_count": 114,
   "id": "2ce137a4",
   "metadata": {},
   "outputs": [
    {
     "data": {
      "image/svg+xml": [
       "<svg class=\"main-svg\" xmlns=\"http://www.w3.org/2000/svg\" xmlns:xlink=\"http://www.w3.org/1999/xlink\" width=\"700\" height=\"500\" style=\"\" viewBox=\"0 0 700 500\"><rect x=\"0\" y=\"0\" width=\"700\" height=\"500\" style=\"fill: rgb(255, 255, 255); fill-opacity: 1;\"/><defs id=\"defs-8d87df\"><g class=\"clips\"><clipPath id=\"clip8d87dfxyplot\" class=\"plotclip\"><rect width=\"501\" height=\"296\"/></clipPath><clipPath class=\"axesclip\" id=\"clip8d87dfx\"><rect x=\"80\" y=\"0\" width=\"501\" height=\"500\"/></clipPath><clipPath class=\"axesclip\" id=\"clip8d87dfy\"><rect x=\"0\" y=\"100\" width=\"700\" height=\"296\"/></clipPath><clipPath class=\"axesclip\" id=\"clip8d87dfxy\"><rect x=\"80\" y=\"100\" width=\"501\" height=\"296\"/></clipPath></g><g class=\"gradients\"/><g class=\"patterns\"/></defs><g class=\"bglayer\"><rect class=\"bg\" x=\"80\" y=\"100\" width=\"501\" height=\"296\" style=\"fill: rgb(229, 236, 246); fill-opacity: 1; stroke-width: 0;\"/></g><g class=\"layer-below\"><g class=\"imagelayer\"/><g class=\"shapelayer\"/></g><g class=\"cartesianlayer\"><g class=\"subplot xy\"><g class=\"layer-subplot\"><g class=\"shapelayer\"/><g class=\"imagelayer\"/></g><g class=\"gridlayer\"><g class=\"x\"><path class=\"xgrid crisp\" transform=\"translate(89.82,0)\" d=\"M0,100v296\" style=\"stroke: rgb(255, 255, 255); stroke-opacity: 1; stroke-width: 1px;\"/><path class=\"xgrid crisp\" transform=\"translate(98.7,0)\" d=\"M0,100v296\" style=\"stroke: rgb(255, 255, 255); stroke-opacity: 1; stroke-width: 1px;\"/><path class=\"xgrid crisp\" transform=\"translate(108.52,0)\" d=\"M0,100v296\" style=\"stroke: rgb(255, 255, 255); stroke-opacity: 1; stroke-width: 1px;\"/><path class=\"xgrid crisp\" transform=\"translate(118.03,0)\" d=\"M0,100v296\" style=\"stroke: rgb(255, 255, 255); stroke-opacity: 1; stroke-width: 1px;\"/><path class=\"xgrid crisp\" transform=\"translate(127.85,0)\" d=\"M0,100v296\" style=\"stroke: rgb(255, 255, 255); stroke-opacity: 1; stroke-width: 1px;\"/><path class=\"xgrid crisp\" transform=\"translate(137.36,0)\" d=\"M0,100v296\" style=\"stroke: rgb(255, 255, 255); stroke-opacity: 1; stroke-width: 1px;\"/><path class=\"xgrid crisp\" transform=\"translate(147.18,0)\" d=\"M0,100v296\" style=\"stroke: rgb(255, 255, 255); stroke-opacity: 1; stroke-width: 1px;\"/><path class=\"xgrid crisp\" transform=\"translate(157,0)\" d=\"M0,100v296\" style=\"stroke: rgb(255, 255, 255); stroke-opacity: 1; stroke-width: 1px;\"/><path class=\"xgrid crisp\" transform=\"translate(166.51,0)\" d=\"M0,100v296\" style=\"stroke: rgb(255, 255, 255); stroke-opacity: 1; stroke-width: 1px;\"/><path class=\"xgrid crisp\" transform=\"translate(176.32999999999998,0)\" d=\"M0,100v296\" style=\"stroke: rgb(255, 255, 255); stroke-opacity: 1; stroke-width: 1px;\"/><path class=\"xgrid crisp\" transform=\"translate(185.84,0)\" d=\"M0,100v296\" style=\"stroke: rgb(255, 255, 255); stroke-opacity: 1; stroke-width: 1px;\"/><path class=\"xgrid crisp\" transform=\"translate(195.66,0)\" d=\"M0,100v296\" style=\"stroke: rgb(255, 255, 255); stroke-opacity: 1; stroke-width: 1px;\"/><path class=\"xgrid crisp\" transform=\"translate(205.49,0)\" d=\"M0,100v296\" style=\"stroke: rgb(255, 255, 255); stroke-opacity: 1; stroke-width: 1px;\"/><path class=\"xgrid crisp\" transform=\"translate(214.36,0)\" d=\"M0,100v296\" style=\"stroke: rgb(255, 255, 255); stroke-opacity: 1; stroke-width: 1px;\"/><path class=\"xgrid crisp\" transform=\"translate(224.18,0)\" d=\"M0,100v296\" style=\"stroke: rgb(255, 255, 255); stroke-opacity: 1; stroke-width: 1px;\"/><path class=\"xgrid crisp\" transform=\"translate(233.69,0)\" d=\"M0,100v296\" style=\"stroke: rgb(255, 255, 255); stroke-opacity: 1; stroke-width: 1px;\"/><path class=\"xgrid crisp\" transform=\"translate(243.51,0)\" d=\"M0,100v296\" style=\"stroke: rgb(255, 255, 255); stroke-opacity: 1; stroke-width: 1px;\"/><path class=\"xgrid crisp\" transform=\"translate(253.02,0)\" d=\"M0,100v296\" style=\"stroke: rgb(255, 255, 255); stroke-opacity: 1; stroke-width: 1px;\"/><path class=\"xgrid crisp\" transform=\"translate(262.84000000000003,0)\" d=\"M0,100v296\" style=\"stroke: rgb(255, 255, 255); stroke-opacity: 1; stroke-width: 1px;\"/><path class=\"xgrid crisp\" transform=\"translate(272.66999999999996,0)\" d=\"M0,100v296\" style=\"stroke: rgb(255, 255, 255); stroke-opacity: 1; stroke-width: 1px;\"/><path class=\"xgrid crisp\" transform=\"translate(282.16999999999996,0)\" d=\"M0,100v296\" style=\"stroke: rgb(255, 255, 255); stroke-opacity: 1; stroke-width: 1px;\"/><path class=\"xgrid crisp\" transform=\"translate(292,0)\" d=\"M0,100v296\" style=\"stroke: rgb(255, 255, 255); stroke-opacity: 1; stroke-width: 1px;\"/><path class=\"xgrid crisp\" transform=\"translate(301.5,0)\" d=\"M0,100v296\" style=\"stroke: rgb(255, 255, 255); stroke-opacity: 1; stroke-width: 1px;\"/><path class=\"xgrid crisp\" transform=\"translate(311.33000000000004,0)\" d=\"M0,100v296\" style=\"stroke: rgb(255, 255, 255); stroke-opacity: 1; stroke-width: 1px;\"/><path class=\"xgrid crisp\" transform=\"translate(321.15,0)\" d=\"M0,100v296\" style=\"stroke: rgb(255, 255, 255); stroke-opacity: 1; stroke-width: 1px;\"/><path class=\"xgrid crisp\" transform=\"translate(330.34000000000003,0)\" d=\"M0,100v296\" style=\"stroke: rgb(255, 255, 255); stroke-opacity: 1; stroke-width: 1px;\"/><path class=\"xgrid crisp\" transform=\"translate(340.17,0)\" d=\"M0,100v296\" style=\"stroke: rgb(255, 255, 255); stroke-opacity: 1; stroke-width: 1px;\"/><path class=\"xgrid crisp\" transform=\"translate(349.67,0)\" d=\"M0,100v296\" style=\"stroke: rgb(255, 255, 255); stroke-opacity: 1; stroke-width: 1px;\"/><path class=\"xgrid crisp\" transform=\"translate(359.5,0)\" d=\"M0,100v296\" style=\"stroke: rgb(255, 255, 255); stroke-opacity: 1; stroke-width: 1px;\"/><path class=\"xgrid crisp\" transform=\"translate(369,0)\" d=\"M0,100v296\" style=\"stroke: rgb(255, 255, 255); stroke-opacity: 1; stroke-width: 1px;\"/><path class=\"xgrid crisp\" transform=\"translate(378.83,0)\" d=\"M0,100v296\" style=\"stroke: rgb(255, 255, 255); stroke-opacity: 1; stroke-width: 1px;\"/><path class=\"xgrid crisp\" transform=\"translate(388.65,0)\" d=\"M0,100v296\" style=\"stroke: rgb(255, 255, 255); stroke-opacity: 1; stroke-width: 1px;\"/><path class=\"xgrid crisp\" transform=\"translate(398.16,0)\" d=\"M0,100v296\" style=\"stroke: rgb(255, 255, 255); stroke-opacity: 1; stroke-width: 1px;\"/><path class=\"xgrid crisp\" transform=\"translate(407.98,0)\" d=\"M0,100v296\" style=\"stroke: rgb(255, 255, 255); stroke-opacity: 1; stroke-width: 1px;\"/><path class=\"xgrid crisp\" transform=\"translate(417.49,0)\" d=\"M0,100v296\" style=\"stroke: rgb(255, 255, 255); stroke-opacity: 1; stroke-width: 1px;\"/><path class=\"xgrid crisp\" transform=\"translate(427.31,0)\" d=\"M0,100v296\" style=\"stroke: rgb(255, 255, 255); stroke-opacity: 1; stroke-width: 1px;\"/><path class=\"xgrid crisp\" transform=\"translate(437.13,0)\" d=\"M0,100v296\" style=\"stroke: rgb(255, 255, 255); stroke-opacity: 1; stroke-width: 1px;\"/><path class=\"xgrid crisp\" transform=\"translate(446.01,0)\" d=\"M0,100v296\" style=\"stroke: rgb(255, 255, 255); stroke-opacity: 1; stroke-width: 1px;\"/><path class=\"xgrid crisp\" transform=\"translate(455.83,0)\" d=\"M0,100v296\" style=\"stroke: rgb(255, 255, 255); stroke-opacity: 1; stroke-width: 1px;\"/><path class=\"xgrid crisp\" transform=\"translate(465.34,0)\" d=\"M0,100v296\" style=\"stroke: rgb(255, 255, 255); stroke-opacity: 1; stroke-width: 1px;\"/><path class=\"xgrid crisp\" transform=\"translate(475.16,0)\" d=\"M0,100v296\" style=\"stroke: rgb(255, 255, 255); stroke-opacity: 1; stroke-width: 1px;\"/><path class=\"xgrid crisp\" transform=\"translate(484.67,0)\" d=\"M0,100v296\" style=\"stroke: rgb(255, 255, 255); stroke-opacity: 1; stroke-width: 1px;\"/><path class=\"xgrid crisp\" transform=\"translate(494.49,0)\" d=\"M0,100v296\" style=\"stroke: rgb(255, 255, 255); stroke-opacity: 1; stroke-width: 1px;\"/><path class=\"xgrid crisp\" transform=\"translate(504.31,0)\" d=\"M0,100v296\" style=\"stroke: rgb(255, 255, 255); stroke-opacity: 1; stroke-width: 1px;\"/><path class=\"xgrid crisp\" transform=\"translate(513.8199999999999,0)\" d=\"M0,100v296\" style=\"stroke: rgb(255, 255, 255); stroke-opacity: 1; stroke-width: 1px;\"/><path class=\"xgrid crisp\" transform=\"translate(523.64,0)\" d=\"M0,100v296\" style=\"stroke: rgb(255, 255, 255); stroke-opacity: 1; stroke-width: 1px;\"/><path class=\"xgrid crisp\" transform=\"translate(533.15,0)\" d=\"M0,100v296\" style=\"stroke: rgb(255, 255, 255); stroke-opacity: 1; stroke-width: 1px;\"/><path class=\"xgrid crisp\" transform=\"translate(542.97,0)\" d=\"M0,100v296\" style=\"stroke: rgb(255, 255, 255); stroke-opacity: 1; stroke-width: 1px;\"/><path class=\"xgrid crisp\" transform=\"translate(552.8,0)\" d=\"M0,100v296\" style=\"stroke: rgb(255, 255, 255); stroke-opacity: 1; stroke-width: 1px;\"/><path class=\"xgrid crisp\" transform=\"translate(561.6700000000001,0)\" d=\"M0,100v296\" style=\"stroke: rgb(255, 255, 255); stroke-opacity: 1; stroke-width: 1px;\"/><path class=\"xgrid crisp\" transform=\"translate(571.49,0)\" d=\"M0,100v296\" style=\"stroke: rgb(255, 255, 255); stroke-opacity: 1; stroke-width: 1px;\"/></g><g class=\"y\"><path class=\"ygrid crisp\" transform=\"translate(0,326.86)\" d=\"M80,0h501\" style=\"stroke: rgb(255, 255, 255); stroke-opacity: 1; stroke-width: 1px;\"/><path class=\"ygrid crisp\" transform=\"translate(0,260.59000000000003)\" d=\"M80,0h501\" style=\"stroke: rgb(255, 255, 255); stroke-opacity: 1; stroke-width: 1px;\"/><path class=\"ygrid crisp\" transform=\"translate(0,194.32)\" d=\"M80,0h501\" style=\"stroke: rgb(255, 255, 255); stroke-opacity: 1; stroke-width: 1px;\"/><path class=\"ygrid crisp\" transform=\"translate(0,128.05)\" d=\"M80,0h501\" style=\"stroke: rgb(255, 255, 255); stroke-opacity: 1; stroke-width: 1px;\"/></g></g><g class=\"zerolinelayer\"><path class=\"yzl zl crisp\" transform=\"translate(0,393.13)\" d=\"M80,0h501\" style=\"stroke: rgb(255, 255, 255); stroke-opacity: 1; stroke-width: 2px;\"/></g><path class=\"xlines-below\"/><path class=\"ylines-below\"/><g class=\"overlines-below\"/><g class=\"xaxislayer-below\"/><g class=\"yaxislayer-below\"/><g class=\"overaxes-below\"/><g class=\"plot\" transform=\"translate(80,100)\" clip-path=\"url(#clip8d87dfxyplot)\"><g class=\"scatterlayer mlayer\"><g class=\"trace scatter trace09b194\" style=\"stroke-miterlimit: 2; opacity: 1;\"><g class=\"fills\"/><g class=\"errorbars\"/><g class=\"lines\"><path class=\"js-line\" d=\"M0,155.29L9.82,151.31L18.7,151.31L28.52,147.34L38.03,146.01L47.85,126.13L57.36,124.81L67.18,122.16L77,123.48L86.51,124.81L96.33,124.81L105.84,127.46L115.66,37.33L125.49,18.78L134.36,21.43L144.18,22.75L153.69,14.8L163.51,20.1L173.02,17.45L182.84,21.43L192.67,32.03L202.17,130.11L212,146.01L221.5,146.01L231.33,42.63L241.15,42.63L250.34,91.67L260.17,127.46L269.67,116.85L279.5,93L289,146.01L298.83,139.39L308.65,135.41L318.16,132.76L327.98,122.16L337.49,131.43L347.31,123.48L357.13,120.83L366.01,120.83L375.83,122.16L385.34,120.83L395.16,116.85L404.67,115.53L414.49,114.2L424.31,114.2L433.82,114.2L443.64,118.18L453.15,112.88L462.97,111.55L472.8,110.23L481.67,111.55L491.49,111.55L501,242.76\" style=\"vector-effect: non-scaling-stroke; fill: none; stroke: rgb(99, 110, 250); stroke-opacity: 1; stroke-width: 2px; opacity: 1;\"/></g><g class=\"points\"/><g class=\"text\"/></g><g class=\"trace scatter tracef31d4d\" style=\"stroke-miterlimit: 2; opacity: 1;\"><g class=\"fills\"/><g class=\"errorbars\"/><g class=\"lines\"><path class=\"js-line\" d=\"M0,266.62L9.82,266.62L18.7,267.95L38.03,267.95L47.85,263.97L57.36,265.3L67.18,263.97L96.33,263.97L105.84,265.3L115.66,238.79L125.49,237.46L153.69,237.46L163.51,238.79L192.67,238.79L202.17,265.3L212,265.3L221.5,266.62L231.33,238.79L241.15,238.79L250.34,244.09L260.17,244.09L279.5,244.09L289,265.3L327.98,265.3L337.49,266.62L347.31,263.97L357.13,265.3L366.01,263.97L375.83,263.97L453.15,263.97L462.97,262.64L481.67,262.64L491.49,263.97L501,281.2\" style=\"vector-effect: non-scaling-stroke; fill: none; stroke: rgb(239, 85, 59); stroke-opacity: 1; stroke-width: 2px; opacity: 1;\"/></g><g class=\"points\"/><g class=\"text\"/></g></g></g><g class=\"overplot\"/><path class=\"xlines-above crisp\" d=\"M0,0\" style=\"fill: none;\"/><path class=\"ylines-above crisp\" d=\"M0,0\" style=\"fill: none;\"/><g class=\"overlines-above\"/><g class=\"xaxislayer-above\"><g class=\"xtick\"><text text-anchor=\"start\" x=\"0\" y=\"409\" transform=\"translate(80,0) rotate(90,0,403)\" style=\"font-family: 'Open Sans', verdana, arial, sans-serif; font-size: 12px; fill: rgb(42, 63, 95); fill-opacity: 1; white-space: pre; opacity: 1;\">Jan-2018</text></g><g class=\"xtick\"><text text-anchor=\"start\" x=\"0\" y=\"409\" style=\"font-family: 'Open Sans', verdana, arial, sans-serif; font-size: 12px; fill: rgb(42, 63, 95); fill-opacity: 1; white-space: pre; opacity: 1;\" transform=\"translate(89.82,0) rotate(90,0,403)\">Feb-2018</text></g><g class=\"xtick\"><text text-anchor=\"start\" x=\"0\" y=\"409\" style=\"font-family: 'Open Sans', verdana, arial, sans-serif; font-size: 12px; fill: rgb(42, 63, 95); fill-opacity: 1; white-space: pre; opacity: 1;\" transform=\"translate(98.7,0) rotate(90,0,403)\">Mar-2018</text></g><g class=\"xtick\"><text text-anchor=\"start\" x=\"0\" y=\"409\" style=\"font-family: 'Open Sans', verdana, arial, sans-serif; font-size: 12px; fill: rgb(42, 63, 95); fill-opacity: 1; white-space: pre; opacity: 1;\" transform=\"translate(108.52,0) rotate(90,0,403)\">Apr-2018</text></g><g class=\"xtick\"><text text-anchor=\"start\" x=\"0\" y=\"409\" style=\"font-family: 'Open Sans', verdana, arial, sans-serif; font-size: 12px; fill: rgb(42, 63, 95); fill-opacity: 1; white-space: pre; opacity: 1;\" transform=\"translate(118.03,0) rotate(90,0,403)\">May-2018</text></g><g class=\"xtick\"><text text-anchor=\"start\" x=\"0\" y=\"409\" style=\"font-family: 'Open Sans', verdana, arial, sans-serif; font-size: 12px; fill: rgb(42, 63, 95); fill-opacity: 1; white-space: pre; opacity: 1;\" transform=\"translate(127.85,0) rotate(90,0,403)\">Jun-2018</text></g><g class=\"xtick\"><text text-anchor=\"start\" x=\"0\" y=\"409\" style=\"font-family: 'Open Sans', verdana, arial, sans-serif; font-size: 12px; fill: rgb(42, 63, 95); fill-opacity: 1; white-space: pre; opacity: 1;\" transform=\"translate(137.36,0) rotate(90,0,403)\">Jul-2018</text></g><g class=\"xtick\"><text text-anchor=\"start\" x=\"0\" y=\"409\" style=\"font-family: 'Open Sans', verdana, arial, sans-serif; font-size: 12px; fill: rgb(42, 63, 95); fill-opacity: 1; white-space: pre; opacity: 1;\" transform=\"translate(147.18,0) rotate(90,0,403)\">Aug-2018</text></g><g class=\"xtick\"><text text-anchor=\"start\" x=\"0\" y=\"409\" style=\"font-family: 'Open Sans', verdana, arial, sans-serif; font-size: 12px; fill: rgb(42, 63, 95); fill-opacity: 1; white-space: pre; opacity: 1;\" transform=\"translate(157,0) rotate(90,0,403)\">Sep-2018</text></g><g class=\"xtick\"><text text-anchor=\"start\" x=\"0\" y=\"409\" style=\"font-family: 'Open Sans', verdana, arial, sans-serif; font-size: 12px; fill: rgb(42, 63, 95); fill-opacity: 1; white-space: pre; opacity: 1;\" transform=\"translate(166.51,0) rotate(90,0,403)\">Oct-2018</text></g><g class=\"xtick\"><text text-anchor=\"start\" x=\"0\" y=\"409\" style=\"font-family: 'Open Sans', verdana, arial, sans-serif; font-size: 12px; fill: rgb(42, 63, 95); fill-opacity: 1; white-space: pre; opacity: 1;\" transform=\"translate(176.32999999999998,0) rotate(90,0,403)\">Nov-2018</text></g><g class=\"xtick\"><text text-anchor=\"start\" x=\"0\" y=\"409\" style=\"font-family: 'Open Sans', verdana, arial, sans-serif; font-size: 12px; fill: rgb(42, 63, 95); fill-opacity: 1; white-space: pre; opacity: 1;\" transform=\"translate(185.84,0) rotate(90,0,403)\">Dec-2018</text></g><g class=\"xtick\"><text text-anchor=\"start\" x=\"0\" y=\"409\" style=\"font-family: 'Open Sans', verdana, arial, sans-serif; font-size: 12px; fill: rgb(42, 63, 95); fill-opacity: 1; white-space: pre; opacity: 1;\" transform=\"translate(195.66,0) rotate(90,0,403)\">Jan-2019</text></g><g class=\"xtick\"><text text-anchor=\"start\" x=\"0\" y=\"409\" style=\"font-family: 'Open Sans', verdana, arial, sans-serif; font-size: 12px; fill: rgb(42, 63, 95); fill-opacity: 1; white-space: pre; opacity: 1;\" transform=\"translate(205.49,0) rotate(90,0,403)\">Feb-2019</text></g><g class=\"xtick\"><text text-anchor=\"start\" x=\"0\" y=\"409\" style=\"font-family: 'Open Sans', verdana, arial, sans-serif; font-size: 12px; fill: rgb(42, 63, 95); fill-opacity: 1; white-space: pre; opacity: 1;\" transform=\"translate(214.36,0) rotate(90,0,403)\">Mar-2019</text></g><g class=\"xtick\"><text text-anchor=\"start\" x=\"0\" y=\"409\" style=\"font-family: 'Open Sans', verdana, arial, sans-serif; font-size: 12px; fill: rgb(42, 63, 95); fill-opacity: 1; white-space: pre; opacity: 1;\" transform=\"translate(224.18,0) rotate(90,0,403)\">Apr-2019</text></g><g class=\"xtick\"><text text-anchor=\"start\" x=\"0\" y=\"409\" style=\"font-family: 'Open Sans', verdana, arial, sans-serif; font-size: 12px; fill: rgb(42, 63, 95); fill-opacity: 1; white-space: pre; opacity: 1;\" transform=\"translate(233.69,0) rotate(90,0,403)\">May-2019</text></g><g class=\"xtick\"><text text-anchor=\"start\" x=\"0\" y=\"409\" style=\"font-family: 'Open Sans', verdana, arial, sans-serif; font-size: 12px; fill: rgb(42, 63, 95); fill-opacity: 1; white-space: pre; opacity: 1;\" transform=\"translate(243.51,0) rotate(90,0,403)\">Jun-2019</text></g><g class=\"xtick\"><text text-anchor=\"start\" x=\"0\" y=\"409\" style=\"font-family: 'Open Sans', verdana, arial, sans-serif; font-size: 12px; fill: rgb(42, 63, 95); fill-opacity: 1; white-space: pre; opacity: 1;\" transform=\"translate(253.02,0) rotate(90,0,403)\">Jul-2019</text></g><g class=\"xtick\"><text text-anchor=\"start\" x=\"0\" y=\"409\" style=\"font-family: 'Open Sans', verdana, arial, sans-serif; font-size: 12px; fill: rgb(42, 63, 95); fill-opacity: 1; white-space: pre; opacity: 1;\" transform=\"translate(262.84000000000003,0) rotate(90,0,403)\">Aug-2019</text></g><g class=\"xtick\"><text text-anchor=\"start\" x=\"0\" y=\"409\" style=\"font-family: 'Open Sans', verdana, arial, sans-serif; font-size: 12px; fill: rgb(42, 63, 95); fill-opacity: 1; white-space: pre; opacity: 1;\" transform=\"translate(272.66999999999996,0) rotate(90,0,403)\">Sep-2019</text></g><g class=\"xtick\"><text text-anchor=\"start\" x=\"0\" y=\"409\" style=\"font-family: 'Open Sans', verdana, arial, sans-serif; font-size: 12px; fill: rgb(42, 63, 95); fill-opacity: 1; white-space: pre; opacity: 1;\" transform=\"translate(282.16999999999996,0) rotate(90,0,403)\">Oct-2019</text></g><g class=\"xtick\"><text text-anchor=\"start\" x=\"0\" y=\"409\" style=\"font-family: 'Open Sans', verdana, arial, sans-serif; font-size: 12px; fill: rgb(42, 63, 95); fill-opacity: 1; white-space: pre; opacity: 1;\" transform=\"translate(292,0) rotate(90,0,403)\">Nov-2019</text></g><g class=\"xtick\"><text text-anchor=\"start\" x=\"0\" y=\"409\" style=\"font-family: 'Open Sans', verdana, arial, sans-serif; font-size: 12px; fill: rgb(42, 63, 95); fill-opacity: 1; white-space: pre; opacity: 1;\" transform=\"translate(301.5,0) rotate(90,0,403)\">Dec-2019</text></g><g class=\"xtick\"><text text-anchor=\"start\" x=\"0\" y=\"409\" style=\"font-family: 'Open Sans', verdana, arial, sans-serif; font-size: 12px; fill: rgb(42, 63, 95); fill-opacity: 1; white-space: pre; opacity: 1;\" transform=\"translate(311.33000000000004,0) rotate(90,0,403)\">Jan-2020</text></g><g class=\"xtick\"><text text-anchor=\"start\" x=\"0\" y=\"409\" style=\"font-family: 'Open Sans', verdana, arial, sans-serif; font-size: 12px; fill: rgb(42, 63, 95); fill-opacity: 1; white-space: pre; opacity: 1;\" transform=\"translate(321.15,0) rotate(90,0,403)\">Feb-2020</text></g><g class=\"xtick\"><text text-anchor=\"start\" x=\"0\" y=\"409\" style=\"font-family: 'Open Sans', verdana, arial, sans-serif; font-size: 12px; fill: rgb(42, 63, 95); fill-opacity: 1; white-space: pre; opacity: 1;\" transform=\"translate(330.34000000000003,0) rotate(90,0,403)\">Mar-2020</text></g><g class=\"xtick\"><text text-anchor=\"start\" x=\"0\" y=\"409\" style=\"font-family: 'Open Sans', verdana, arial, sans-serif; font-size: 12px; fill: rgb(42, 63, 95); fill-opacity: 1; white-space: pre; opacity: 1;\" transform=\"translate(340.17,0) rotate(90,0,403)\">Apr-2020</text></g><g class=\"xtick\"><text text-anchor=\"start\" x=\"0\" y=\"409\" style=\"font-family: 'Open Sans', verdana, arial, sans-serif; font-size: 12px; fill: rgb(42, 63, 95); fill-opacity: 1; white-space: pre; opacity: 1;\" transform=\"translate(349.67,0) rotate(90,0,403)\">May-2020</text></g><g class=\"xtick\"><text text-anchor=\"start\" x=\"0\" y=\"409\" style=\"font-family: 'Open Sans', verdana, arial, sans-serif; font-size: 12px; fill: rgb(42, 63, 95); fill-opacity: 1; white-space: pre; opacity: 1;\" transform=\"translate(359.5,0) rotate(90,0,403)\">Jun-2020</text></g><g class=\"xtick\"><text text-anchor=\"start\" x=\"0\" y=\"409\" style=\"font-family: 'Open Sans', verdana, arial, sans-serif; font-size: 12px; fill: rgb(42, 63, 95); fill-opacity: 1; white-space: pre; opacity: 1;\" transform=\"translate(369,0) rotate(90,0,403)\">Jul-2020</text></g><g class=\"xtick\"><text text-anchor=\"start\" x=\"0\" y=\"409\" style=\"font-family: 'Open Sans', verdana, arial, sans-serif; font-size: 12px; fill: rgb(42, 63, 95); fill-opacity: 1; white-space: pre; opacity: 1;\" transform=\"translate(378.83,0) rotate(90,0,403)\">Aug-2020</text></g><g class=\"xtick\"><text text-anchor=\"start\" x=\"0\" y=\"409\" style=\"font-family: 'Open Sans', verdana, arial, sans-serif; font-size: 12px; fill: rgb(42, 63, 95); fill-opacity: 1; white-space: pre; opacity: 1;\" transform=\"translate(388.65,0) rotate(90,0,403)\">Sep-2020</text></g><g class=\"xtick\"><text text-anchor=\"start\" x=\"0\" y=\"409\" style=\"font-family: 'Open Sans', verdana, arial, sans-serif; font-size: 12px; fill: rgb(42, 63, 95); fill-opacity: 1; white-space: pre; opacity: 1;\" transform=\"translate(398.16,0) rotate(90,0,403)\">Oct-2020</text></g><g class=\"xtick\"><text text-anchor=\"start\" x=\"0\" y=\"409\" style=\"font-family: 'Open Sans', verdana, arial, sans-serif; font-size: 12px; fill: rgb(42, 63, 95); fill-opacity: 1; white-space: pre; opacity: 1;\" transform=\"translate(407.98,0) rotate(90,0,403)\">Nov-2020</text></g><g class=\"xtick\"><text text-anchor=\"start\" x=\"0\" y=\"409\" style=\"font-family: 'Open Sans', verdana, arial, sans-serif; font-size: 12px; fill: rgb(42, 63, 95); fill-opacity: 1; white-space: pre; opacity: 1;\" transform=\"translate(417.49,0) rotate(90,0,403)\">Dec-2020</text></g><g class=\"xtick\"><text text-anchor=\"start\" x=\"0\" y=\"409\" style=\"font-family: 'Open Sans', verdana, arial, sans-serif; font-size: 12px; fill: rgb(42, 63, 95); fill-opacity: 1; white-space: pre; opacity: 1;\" transform=\"translate(427.31,0) rotate(90,0,403)\">Jan-2021</text></g><g class=\"xtick\"><text text-anchor=\"start\" x=\"0\" y=\"409\" style=\"font-family: 'Open Sans', verdana, arial, sans-serif; font-size: 12px; fill: rgb(42, 63, 95); fill-opacity: 1; white-space: pre; opacity: 1;\" transform=\"translate(437.13,0) rotate(90,0,403)\">Feb-2021</text></g><g class=\"xtick\"><text text-anchor=\"start\" x=\"0\" y=\"409\" style=\"font-family: 'Open Sans', verdana, arial, sans-serif; font-size: 12px; fill: rgb(42, 63, 95); fill-opacity: 1; white-space: pre; opacity: 1;\" transform=\"translate(446.01,0) rotate(90,0,403)\">Mar-2021</text></g><g class=\"xtick\"><text text-anchor=\"start\" x=\"0\" y=\"409\" style=\"font-family: 'Open Sans', verdana, arial, sans-serif; font-size: 12px; fill: rgb(42, 63, 95); fill-opacity: 1; white-space: pre; opacity: 1;\" transform=\"translate(455.83,0) rotate(90,0,403)\">Apr-2021</text></g><g class=\"xtick\"><text text-anchor=\"start\" x=\"0\" y=\"409\" style=\"font-family: 'Open Sans', verdana, arial, sans-serif; font-size: 12px; fill: rgb(42, 63, 95); fill-opacity: 1; white-space: pre; opacity: 1;\" transform=\"translate(465.34,0) rotate(90,0,403)\">May-2021</text></g><g class=\"xtick\"><text text-anchor=\"start\" x=\"0\" y=\"409\" style=\"font-family: 'Open Sans', verdana, arial, sans-serif; font-size: 12px; fill: rgb(42, 63, 95); fill-opacity: 1; white-space: pre; opacity: 1;\" transform=\"translate(475.16,0) rotate(90,0,403)\">Jun-2021</text></g><g class=\"xtick\"><text text-anchor=\"start\" x=\"0\" y=\"409\" style=\"font-family: 'Open Sans', verdana, arial, sans-serif; font-size: 12px; fill: rgb(42, 63, 95); fill-opacity: 1; white-space: pre; opacity: 1;\" transform=\"translate(484.67,0) rotate(90,0,403)\">Jul-2021</text></g><g class=\"xtick\"><text text-anchor=\"start\" x=\"0\" y=\"409\" style=\"font-family: 'Open Sans', verdana, arial, sans-serif; font-size: 12px; fill: rgb(42, 63, 95); fill-opacity: 1; white-space: pre; opacity: 1;\" transform=\"translate(494.49,0) rotate(90,0,403)\">Aug-2021</text></g><g class=\"xtick\"><text text-anchor=\"start\" x=\"0\" y=\"409\" style=\"font-family: 'Open Sans', verdana, arial, sans-serif; font-size: 12px; fill: rgb(42, 63, 95); fill-opacity: 1; white-space: pre; opacity: 1;\" transform=\"translate(504.31,0) rotate(90,0,403)\">Sep-2021</text></g><g class=\"xtick\"><text text-anchor=\"start\" x=\"0\" y=\"409\" style=\"font-family: 'Open Sans', verdana, arial, sans-serif; font-size: 12px; fill: rgb(42, 63, 95); fill-opacity: 1; white-space: pre; opacity: 1;\" transform=\"translate(513.8199999999999,0) rotate(90,0,403)\">Oct-2021</text></g><g class=\"xtick\"><text text-anchor=\"start\" x=\"0\" y=\"409\" style=\"font-family: 'Open Sans', verdana, arial, sans-serif; font-size: 12px; fill: rgb(42, 63, 95); fill-opacity: 1; white-space: pre; opacity: 1;\" transform=\"translate(523.64,0) rotate(90,0,403)\">Nov-2021</text></g><g class=\"xtick\"><text text-anchor=\"start\" x=\"0\" y=\"409\" style=\"font-family: 'Open Sans', verdana, arial, sans-serif; font-size: 12px; fill: rgb(42, 63, 95); fill-opacity: 1; white-space: pre; opacity: 1;\" transform=\"translate(533.15,0) rotate(90,0,403)\">Dec-2021</text></g><g class=\"xtick\"><text text-anchor=\"start\" x=\"0\" y=\"409\" style=\"font-family: 'Open Sans', verdana, arial, sans-serif; font-size: 12px; fill: rgb(42, 63, 95); fill-opacity: 1; white-space: pre; opacity: 1;\" transform=\"translate(542.97,0) rotate(90,0,403)\">Jan-2022</text></g><g class=\"xtick\"><text text-anchor=\"start\" x=\"0\" y=\"409\" style=\"font-family: 'Open Sans', verdana, arial, sans-serif; font-size: 12px; fill: rgb(42, 63, 95); fill-opacity: 1; white-space: pre; opacity: 1;\" transform=\"translate(552.8,0) rotate(90,0,403)\">Feb-2022</text></g><g class=\"xtick\"><text text-anchor=\"start\" x=\"0\" y=\"409\" style=\"font-family: 'Open Sans', verdana, arial, sans-serif; font-size: 12px; fill: rgb(42, 63, 95); fill-opacity: 1; white-space: pre; opacity: 1;\" transform=\"translate(561.6700000000001,0) rotate(90,0,403)\">Mar-2022</text></g><g class=\"xtick\"><text text-anchor=\"start\" x=\"0\" y=\"409\" style=\"font-family: 'Open Sans', verdana, arial, sans-serif; font-size: 12px; fill: rgb(42, 63, 95); fill-opacity: 1; white-space: pre; opacity: 1;\" transform=\"translate(571.49,0) rotate(90,0,403)\">Apr-2022</text></g><g class=\"xtick\"><text text-anchor=\"start\" x=\"0\" y=\"409\" style=\"font-family: 'Open Sans', verdana, arial, sans-serif; font-size: 12px; fill: rgb(42, 63, 95); fill-opacity: 1; white-space: pre; opacity: 1;\" transform=\"translate(581,0) rotate(90,0,403)\">May-2022</text></g></g><g class=\"yaxislayer-above\"><g class=\"ytick\"><text text-anchor=\"end\" x=\"79\" y=\"4.199999999999999\" transform=\"translate(0,393.13)\" style=\"font-family: 'Open Sans', verdana, arial, sans-serif; font-size: 12px; fill: rgb(42, 63, 95); fill-opacity: 1; white-space: pre; opacity: 1;\">0</text></g><g class=\"ytick\"><text text-anchor=\"end\" x=\"79\" y=\"4.199999999999999\" style=\"font-family: 'Open Sans', verdana, arial, sans-serif; font-size: 12px; fill: rgb(42, 63, 95); fill-opacity: 1; white-space: pre; opacity: 1;\" transform=\"translate(0,326.86)\">50</text></g><g class=\"ytick\"><text text-anchor=\"end\" x=\"79\" y=\"4.199999999999999\" style=\"font-family: 'Open Sans', verdana, arial, sans-serif; font-size: 12px; fill: rgb(42, 63, 95); fill-opacity: 1; white-space: pre; opacity: 1;\" transform=\"translate(0,260.59000000000003)\">100</text></g><g class=\"ytick\"><text text-anchor=\"end\" x=\"79\" y=\"4.199999999999999\" style=\"font-family: 'Open Sans', verdana, arial, sans-serif; font-size: 12px; fill: rgb(42, 63, 95); fill-opacity: 1; white-space: pre; opacity: 1;\" transform=\"translate(0,194.32)\">150</text></g><g class=\"ytick\"><text text-anchor=\"end\" x=\"79\" y=\"4.199999999999999\" style=\"font-family: 'Open Sans', verdana, arial, sans-serif; font-size: 12px; fill: rgb(42, 63, 95); fill-opacity: 1; white-space: pre; opacity: 1;\" transform=\"translate(0,128.05)\">200</text></g></g><g class=\"overaxes-above\"/></g></g><g class=\"polarlayer\"/><g class=\"smithlayer\"/><g class=\"ternarylayer\"/><g class=\"geolayer\"/><g class=\"funnelarealayer\"/><g class=\"pielayer\"/><g class=\"iciclelayer\"/><g class=\"treemaplayer\"/><g class=\"sunburstlayer\"/><g class=\"glimages\"/><defs id=\"topdefs-8d87df\"><g class=\"clips\"/><clipPath id=\"legend8d87df\"><rect width=\"97\" height=\"67\" x=\"0\" y=\"0\"/></clipPath></defs><g class=\"layer-above\"><g class=\"imagelayer\"/><g class=\"shapelayer\"/></g><g class=\"infolayer\"><g class=\"legend\" pointer-events=\"all\" transform=\"translate(591.02,100)\"><rect class=\"bg\" shape-rendering=\"crispEdges\" width=\"97\" height=\"67\" x=\"0\" y=\"0\" style=\"stroke: rgb(68, 68, 68); stroke-opacity: 1; fill: rgb(255, 255, 255); fill-opacity: 1; stroke-width: 0px;\"/><g class=\"scrollbox\" transform=\"\" clip-path=\"url(#legend8d87df)\"><text class=\"legendtitletext\" text-anchor=\"start\" x=\"2\" y=\"18.2\" style=\"font-family: 'Open Sans', verdana, arial, sans-serif; font-size: 14px; fill: rgb(42, 63, 95); fill-opacity: 1; white-space: pre;\">Sector</text><g class=\"groups\" transform=\"\"><g class=\"traces\" transform=\"translate(0,32.7)\" style=\"opacity: 1;\"><text class=\"legendtext\" text-anchor=\"start\" x=\"40\" y=\"4.680000000000001\" style=\"font-family: 'Open Sans', verdana, arial, sans-serif; font-size: 12px; fill: rgb(42, 63, 95); fill-opacity: 1; white-space: pre;\">PRIVATE</text><g class=\"layers\" style=\"opacity: 1;\"><g class=\"legendfill\"/><g class=\"legendlines\"><path class=\"js-line\" d=\"M5,0h30\" style=\"fill: none; stroke: rgb(99, 110, 250); stroke-opacity: 1; stroke-width: 2px;\"/></g><g class=\"legendsymbols\"><g class=\"legendpoints\"/></g></g><rect class=\"legendtoggle\" x=\"0\" y=\"-9.5\" width=\"91.390625\" height=\"19\" style=\"fill: rgb(0, 0, 0); fill-opacity: 0;\"/></g></g><g class=\"groups\" transform=\"\"><g class=\"traces\" transform=\"translate(0,51.7)\" style=\"opacity: 1;\"><text class=\"legendtext\" text-anchor=\"start\" x=\"40\" y=\"4.680000000000001\" style=\"font-family: 'Open Sans', verdana, arial, sans-serif; font-size: 12px; fill: rgb(42, 63, 95); fill-opacity: 1; white-space: pre;\">PUBLIC</text><g class=\"layers\" style=\"opacity: 1;\"><g class=\"legendfill\"/><g class=\"legendlines\"><path class=\"js-line\" d=\"M5,0h30\" style=\"fill: none; stroke: rgb(239, 85, 59); stroke-opacity: 1; stroke-width: 2px;\"/></g><g class=\"legendsymbols\"><g class=\"legendpoints\"/></g></g><rect class=\"legendtoggle\" x=\"0\" y=\"-9.5\" width=\"91.390625\" height=\"19\" style=\"fill: rgb(0, 0, 0); fill-opacity: 0;\"/></g></g></g><rect class=\"scrollbar\" rx=\"20\" ry=\"3\" width=\"0\" height=\"0\" x=\"0\" y=\"0\" style=\"fill: rgb(128, 139, 164); fill-opacity: 1;\"/></g><g class=\"g-gtitle\"><text class=\"gtitle\" x=\"35\" y=\"50\" text-anchor=\"start\" dy=\"0em\" style=\"font-family: 'Open Sans', verdana, arial, sans-serif; font-size: 17px; fill: rgb(42, 63, 95); opacity: 1; font-weight: normal; white-space: pre;\">Total Hospitals to Category II</text></g><g class=\"g-xtitle\"><text class=\"xtitle\" x=\"330.5\" y=\"488.2375\" text-anchor=\"middle\" style=\"font-family: 'Open Sans', verdana, arial, sans-serif; font-size: 14px; fill: rgb(42, 63, 95); opacity: 1; font-weight: normal; white-space: pre;\">Date</text></g><g class=\"g-ytitle\"><text class=\"ytitle\" transform=\"rotate(-90,31.309375000000003,248)\" x=\"31.309375000000003\" y=\"248\" text-anchor=\"middle\" style=\"font-family: 'Open Sans', verdana, arial, sans-serif; font-size: 14px; fill: rgb(42, 63, 95); opacity: 1; font-weight: normal; white-space: pre;\">Hospitals (qty)</text></g></g></svg>"
      ]
     },
     "metadata": {},
     "output_type": "display_data"
    }
   ],
   "source": [
    "# DF TEMPORAL\n",
    "data_temp = hospitals_df[(hospitals_df['CATEGORY2']==TAG_CATEGORY)].reset_index(drop=True)\n",
    "\n",
    "data_temp = data_temp.pivot_table(index=['DATE'],\n",
    "                                  columns=['SECTOR_R'],\n",
    "                                  values='QTY_HOSPITALS').fillna(0)\n",
    "data_temp = data_temp.reset_index().rename_axis(None, axis=1)\n",
    "\n",
    "# FIGURA\n",
    "columns_name = list(data_temp.columns)[1:]\n",
    "fig = px.line(data_temp, \n",
    "              x=\"DATE\", \n",
    "              y=columns_name,\n",
    "              hover_data={\"DATE\": \"|%Y %b\"},\n",
    "              labels={\n",
    "                  \"value\": \"Hospitals (qty)\",\n",
    "                  \"DATE\": \"Date\",\n",
    "                  \"variable\": \"Sector\"\n",
    "              },\n",
    "              title='Total Hospitals to Category ' + TAG_CATEGORY)\n",
    "\n",
    "fig.update_xaxes(\n",
    "    dtick=\"M1\",\n",
    "    tickformat=\"%b-%Y\")\n",
    "\n",
    "fig.show(renderer=\"svg\")\n",
    "#fig.show()\n"
   ]
  },
  {
   "cell_type": "code",
   "execution_count": 115,
   "id": "e190c9a6",
   "metadata": {
    "scrolled": false
   },
   "outputs": [
    {
     "data": {
      "image/svg+xml": [
       "<svg class=\"main-svg\" xmlns=\"http://www.w3.org/2000/svg\" xmlns:xlink=\"http://www.w3.org/1999/xlink\" width=\"700\" height=\"500\" style=\"\" viewBox=\"0 0 700 500\"><rect x=\"0\" y=\"0\" width=\"700\" height=\"500\" style=\"fill: rgb(255, 255, 255); fill-opacity: 1;\"/><defs id=\"defs-c0964b\"><g class=\"clips\"><clipPath id=\"clipc0964bxyplot\" class=\"plotclip\"><rect width=\"501\" height=\"296\"/></clipPath><clipPath class=\"axesclip\" id=\"clipc0964bx\"><rect x=\"80\" y=\"0\" width=\"501\" height=\"500\"/></clipPath><clipPath class=\"axesclip\" id=\"clipc0964by\"><rect x=\"0\" y=\"100\" width=\"700\" height=\"296\"/></clipPath><clipPath class=\"axesclip\" id=\"clipc0964bxy\"><rect x=\"80\" y=\"100\" width=\"501\" height=\"296\"/></clipPath></g><g class=\"gradients\"/><g class=\"patterns\"/></defs><g class=\"bglayer\"><rect class=\"bg\" x=\"80\" y=\"100\" width=\"501\" height=\"296\" style=\"fill: rgb(229, 236, 246); fill-opacity: 1; stroke-width: 0;\"/></g><g class=\"layer-below\"><g class=\"imagelayer\"/><g class=\"shapelayer\"/></g><g class=\"cartesianlayer\"><g class=\"subplot xy\"><g class=\"layer-subplot\"><g class=\"shapelayer\"/><g class=\"imagelayer\"/></g><g class=\"gridlayer\"><g class=\"x\"><path class=\"xgrid crisp\" transform=\"translate(89.82,0)\" d=\"M0,100v296\" style=\"stroke: rgb(255, 255, 255); stroke-opacity: 1; stroke-width: 1px;\"/><path class=\"xgrid crisp\" transform=\"translate(98.7,0)\" d=\"M0,100v296\" style=\"stroke: rgb(255, 255, 255); stroke-opacity: 1; stroke-width: 1px;\"/><path class=\"xgrid crisp\" transform=\"translate(108.52,0)\" d=\"M0,100v296\" style=\"stroke: rgb(255, 255, 255); stroke-opacity: 1; stroke-width: 1px;\"/><path class=\"xgrid crisp\" transform=\"translate(118.03,0)\" d=\"M0,100v296\" style=\"stroke: rgb(255, 255, 255); stroke-opacity: 1; stroke-width: 1px;\"/><path class=\"xgrid crisp\" transform=\"translate(127.85,0)\" d=\"M0,100v296\" style=\"stroke: rgb(255, 255, 255); stroke-opacity: 1; stroke-width: 1px;\"/><path class=\"xgrid crisp\" transform=\"translate(137.36,0)\" d=\"M0,100v296\" style=\"stroke: rgb(255, 255, 255); stroke-opacity: 1; stroke-width: 1px;\"/><path class=\"xgrid crisp\" transform=\"translate(147.18,0)\" d=\"M0,100v296\" style=\"stroke: rgb(255, 255, 255); stroke-opacity: 1; stroke-width: 1px;\"/><path class=\"xgrid crisp\" transform=\"translate(157,0)\" d=\"M0,100v296\" style=\"stroke: rgb(255, 255, 255); stroke-opacity: 1; stroke-width: 1px;\"/><path class=\"xgrid crisp\" transform=\"translate(166.51,0)\" d=\"M0,100v296\" style=\"stroke: rgb(255, 255, 255); stroke-opacity: 1; stroke-width: 1px;\"/><path class=\"xgrid crisp\" transform=\"translate(176.32999999999998,0)\" d=\"M0,100v296\" style=\"stroke: rgb(255, 255, 255); stroke-opacity: 1; stroke-width: 1px;\"/><path class=\"xgrid crisp\" transform=\"translate(185.84,0)\" d=\"M0,100v296\" style=\"stroke: rgb(255, 255, 255); stroke-opacity: 1; stroke-width: 1px;\"/><path class=\"xgrid crisp\" transform=\"translate(195.66,0)\" d=\"M0,100v296\" style=\"stroke: rgb(255, 255, 255); stroke-opacity: 1; stroke-width: 1px;\"/><path class=\"xgrid crisp\" transform=\"translate(205.49,0)\" d=\"M0,100v296\" style=\"stroke: rgb(255, 255, 255); stroke-opacity: 1; stroke-width: 1px;\"/><path class=\"xgrid crisp\" transform=\"translate(214.36,0)\" d=\"M0,100v296\" style=\"stroke: rgb(255, 255, 255); stroke-opacity: 1; stroke-width: 1px;\"/><path class=\"xgrid crisp\" transform=\"translate(224.18,0)\" d=\"M0,100v296\" style=\"stroke: rgb(255, 255, 255); stroke-opacity: 1; stroke-width: 1px;\"/><path class=\"xgrid crisp\" transform=\"translate(233.69,0)\" d=\"M0,100v296\" style=\"stroke: rgb(255, 255, 255); stroke-opacity: 1; stroke-width: 1px;\"/><path class=\"xgrid crisp\" transform=\"translate(243.51,0)\" d=\"M0,100v296\" style=\"stroke: rgb(255, 255, 255); stroke-opacity: 1; stroke-width: 1px;\"/><path class=\"xgrid crisp\" transform=\"translate(253.02,0)\" d=\"M0,100v296\" style=\"stroke: rgb(255, 255, 255); stroke-opacity: 1; stroke-width: 1px;\"/><path class=\"xgrid crisp\" transform=\"translate(262.84000000000003,0)\" d=\"M0,100v296\" style=\"stroke: rgb(255, 255, 255); stroke-opacity: 1; stroke-width: 1px;\"/><path class=\"xgrid crisp\" transform=\"translate(272.66999999999996,0)\" d=\"M0,100v296\" style=\"stroke: rgb(255, 255, 255); stroke-opacity: 1; stroke-width: 1px;\"/><path class=\"xgrid crisp\" transform=\"translate(282.16999999999996,0)\" d=\"M0,100v296\" style=\"stroke: rgb(255, 255, 255); stroke-opacity: 1; stroke-width: 1px;\"/><path class=\"xgrid crisp\" transform=\"translate(292,0)\" d=\"M0,100v296\" style=\"stroke: rgb(255, 255, 255); stroke-opacity: 1; stroke-width: 1px;\"/><path class=\"xgrid crisp\" transform=\"translate(301.5,0)\" d=\"M0,100v296\" style=\"stroke: rgb(255, 255, 255); stroke-opacity: 1; stroke-width: 1px;\"/><path class=\"xgrid crisp\" transform=\"translate(311.33000000000004,0)\" d=\"M0,100v296\" style=\"stroke: rgb(255, 255, 255); stroke-opacity: 1; stroke-width: 1px;\"/><path class=\"xgrid crisp\" transform=\"translate(321.15,0)\" d=\"M0,100v296\" style=\"stroke: rgb(255, 255, 255); stroke-opacity: 1; stroke-width: 1px;\"/><path class=\"xgrid crisp\" transform=\"translate(330.34000000000003,0)\" d=\"M0,100v296\" style=\"stroke: rgb(255, 255, 255); stroke-opacity: 1; stroke-width: 1px;\"/><path class=\"xgrid crisp\" transform=\"translate(340.17,0)\" d=\"M0,100v296\" style=\"stroke: rgb(255, 255, 255); stroke-opacity: 1; stroke-width: 1px;\"/><path class=\"xgrid crisp\" transform=\"translate(349.67,0)\" d=\"M0,100v296\" style=\"stroke: rgb(255, 255, 255); stroke-opacity: 1; stroke-width: 1px;\"/><path class=\"xgrid crisp\" transform=\"translate(359.5,0)\" d=\"M0,100v296\" style=\"stroke: rgb(255, 255, 255); stroke-opacity: 1; stroke-width: 1px;\"/><path class=\"xgrid crisp\" transform=\"translate(369,0)\" d=\"M0,100v296\" style=\"stroke: rgb(255, 255, 255); stroke-opacity: 1; stroke-width: 1px;\"/><path class=\"xgrid crisp\" transform=\"translate(378.83,0)\" d=\"M0,100v296\" style=\"stroke: rgb(255, 255, 255); stroke-opacity: 1; stroke-width: 1px;\"/><path class=\"xgrid crisp\" transform=\"translate(388.65,0)\" d=\"M0,100v296\" style=\"stroke: rgb(255, 255, 255); stroke-opacity: 1; stroke-width: 1px;\"/><path class=\"xgrid crisp\" transform=\"translate(398.16,0)\" d=\"M0,100v296\" style=\"stroke: rgb(255, 255, 255); stroke-opacity: 1; stroke-width: 1px;\"/><path class=\"xgrid crisp\" transform=\"translate(407.98,0)\" d=\"M0,100v296\" style=\"stroke: rgb(255, 255, 255); stroke-opacity: 1; stroke-width: 1px;\"/><path class=\"xgrid crisp\" transform=\"translate(417.49,0)\" d=\"M0,100v296\" style=\"stroke: rgb(255, 255, 255); stroke-opacity: 1; stroke-width: 1px;\"/><path class=\"xgrid crisp\" transform=\"translate(427.31,0)\" d=\"M0,100v296\" style=\"stroke: rgb(255, 255, 255); stroke-opacity: 1; stroke-width: 1px;\"/><path class=\"xgrid crisp\" transform=\"translate(437.13,0)\" d=\"M0,100v296\" style=\"stroke: rgb(255, 255, 255); stroke-opacity: 1; stroke-width: 1px;\"/><path class=\"xgrid crisp\" transform=\"translate(446.01,0)\" d=\"M0,100v296\" style=\"stroke: rgb(255, 255, 255); stroke-opacity: 1; stroke-width: 1px;\"/><path class=\"xgrid crisp\" transform=\"translate(455.83,0)\" d=\"M0,100v296\" style=\"stroke: rgb(255, 255, 255); stroke-opacity: 1; stroke-width: 1px;\"/><path class=\"xgrid crisp\" transform=\"translate(465.34,0)\" d=\"M0,100v296\" style=\"stroke: rgb(255, 255, 255); stroke-opacity: 1; stroke-width: 1px;\"/><path class=\"xgrid crisp\" transform=\"translate(475.16,0)\" d=\"M0,100v296\" style=\"stroke: rgb(255, 255, 255); stroke-opacity: 1; stroke-width: 1px;\"/><path class=\"xgrid crisp\" transform=\"translate(484.67,0)\" d=\"M0,100v296\" style=\"stroke: rgb(255, 255, 255); stroke-opacity: 1; stroke-width: 1px;\"/><path class=\"xgrid crisp\" transform=\"translate(494.49,0)\" d=\"M0,100v296\" style=\"stroke: rgb(255, 255, 255); stroke-opacity: 1; stroke-width: 1px;\"/><path class=\"xgrid crisp\" transform=\"translate(504.31,0)\" d=\"M0,100v296\" style=\"stroke: rgb(255, 255, 255); stroke-opacity: 1; stroke-width: 1px;\"/><path class=\"xgrid crisp\" transform=\"translate(513.8199999999999,0)\" d=\"M0,100v296\" style=\"stroke: rgb(255, 255, 255); stroke-opacity: 1; stroke-width: 1px;\"/><path class=\"xgrid crisp\" transform=\"translate(523.64,0)\" d=\"M0,100v296\" style=\"stroke: rgb(255, 255, 255); stroke-opacity: 1; stroke-width: 1px;\"/><path class=\"xgrid crisp\" transform=\"translate(533.15,0)\" d=\"M0,100v296\" style=\"stroke: rgb(255, 255, 255); stroke-opacity: 1; stroke-width: 1px;\"/><path class=\"xgrid crisp\" transform=\"translate(542.97,0)\" d=\"M0,100v296\" style=\"stroke: rgb(255, 255, 255); stroke-opacity: 1; stroke-width: 1px;\"/><path class=\"xgrid crisp\" transform=\"translate(552.8,0)\" d=\"M0,100v296\" style=\"stroke: rgb(255, 255, 255); stroke-opacity: 1; stroke-width: 1px;\"/><path class=\"xgrid crisp\" transform=\"translate(561.6700000000001,0)\" d=\"M0,100v296\" style=\"stroke: rgb(255, 255, 255); stroke-opacity: 1; stroke-width: 1px;\"/><path class=\"xgrid crisp\" transform=\"translate(571.49,0)\" d=\"M0,100v296\" style=\"stroke: rgb(255, 255, 255); stroke-opacity: 1; stroke-width: 1px;\"/></g><g class=\"y\"><path class=\"ygrid crisp\" transform=\"translate(0,372.78)\" d=\"M80,0h501\" style=\"stroke: rgb(255, 255, 255); stroke-opacity: 1; stroke-width: 1px;\"/><path class=\"ygrid crisp\" transform=\"translate(0,312.65999999999997)\" d=\"M80,0h501\" style=\"stroke: rgb(255, 255, 255); stroke-opacity: 1; stroke-width: 1px;\"/><path class=\"ygrid crisp\" transform=\"translate(0,252.54)\" d=\"M80,0h501\" style=\"stroke: rgb(255, 255, 255); stroke-opacity: 1; stroke-width: 1px;\"/><path class=\"ygrid crisp\" transform=\"translate(0,192.42000000000002)\" d=\"M80,0h501\" style=\"stroke: rgb(255, 255, 255); stroke-opacity: 1; stroke-width: 1px;\"/><path class=\"ygrid crisp\" transform=\"translate(0,132.3)\" d=\"M80,0h501\" style=\"stroke: rgb(255, 255, 255); stroke-opacity: 1; stroke-width: 1px;\"/></g></g><g class=\"zerolinelayer\"/><path class=\"xlines-below\"/><path class=\"ylines-below\"/><g class=\"overlines-below\"/><g class=\"xaxislayer-below\"/><g class=\"yaxislayer-below\"/><g class=\"overaxes-below\"/><g class=\"plot\" transform=\"translate(80,100)\" clip-path=\"url(#clipc0964bxyplot)\"><g class=\"scatterlayer mlayer\"><g class=\"trace scatter trace23b7fd\" style=\"stroke-miterlimit: 2; opacity: 1;\"><g class=\"fills\"/><g class=\"errorbars\"/><g class=\"lines\"><path class=\"js-line\" d=\"M0,24.36L9.82,21.59L18.7,17.51L28.52,17.75L38.03,25.62L47.85,21.47L57.36,21.89L67.18,20.03L77,24.72L86.51,23.22L96.33,22.8L105.84,28.63L115.66,21.95L125.49,46.3L134.36,43.36L144.18,42.34L153.69,15.1L163.51,21.05L173.02,18.23L182.84,14.8L192.67,26.88L202.17,61.39L212,83.94L221.5,79.43L231.33,76.79L241.15,57.01L250.34,74.92L260.17,225.71L269.67,197.33L279.5,133.54L289,90.97L298.83,79.91L308.65,64.64L318.16,56.4L327.98,42.52L337.49,47.03L347.31,47.99L357.13,63.32L366.01,44.2L375.83,50.39L385.34,41.43L395.16,38.19L404.67,36.44L414.49,35.3L424.31,25.62L433.82,30.97L443.64,31.33L453.15,33.2L462.97,36.74L472.8,29.53L481.67,24.54L491.49,30.55L501,170.7\" style=\"vector-effect: non-scaling-stroke; fill: none; stroke: rgb(99, 110, 250); stroke-opacity: 1; stroke-width: 2px; opacity: 1;\"/></g><g class=\"points\"/><g class=\"text\"/></g><g class=\"trace scatter trace94c9d7\" style=\"stroke-miterlimit: 2; opacity: 1;\"><g class=\"fills\"/><g class=\"errorbars\"/><g class=\"lines\"><path class=\"js-line\" d=\"M0,83.22L9.82,83.16L18.7,87.13L28.52,82.44L38.03,87.97L47.85,96.99L57.36,87.73L67.18,81.35L77,83.22L86.51,78.89L96.33,71.86L115.66,100.95L125.49,136.01L134.36,128.31L144.18,138.47L153.69,104.98L163.51,115.99L173.02,120.67L182.84,120.55L192.67,112.14L202.17,145.93L212,170.76L221.5,141L241.15,133.78L250.34,175.63L260.17,281.2L269.67,279.34L279.5,263.82L289,224.63L298.83,209.11L308.65,197.21L318.16,170.34L327.98,153.26L337.49,154.46L347.31,150.68L357.13,179.77L366.01,160.05L375.83,138.17L385.34,133.48L395.16,142.86L404.67,112.2L414.49,111.84L424.31,102.4L433.82,104.44L443.64,89.95L453.15,97.29L462.97,103L472.8,93.56L481.67,81.66L491.49,93.62L501,217.11\" style=\"vector-effect: non-scaling-stroke; fill: none; stroke: rgb(239, 85, 59); stroke-opacity: 1; stroke-width: 2px; opacity: 1;\"/></g><g class=\"points\"/><g class=\"text\"/></g></g></g><g class=\"overplot\"/><path class=\"xlines-above crisp\" d=\"M0,0\" style=\"fill: none;\"/><path class=\"ylines-above crisp\" d=\"M0,0\" style=\"fill: none;\"/><g class=\"overlines-above\"/><g class=\"xaxislayer-above\"><g class=\"xtick\"><text text-anchor=\"start\" x=\"0\" y=\"409\" transform=\"translate(80,0) rotate(90,0,403)\" style=\"font-family: 'Open Sans', verdana, arial, sans-serif; font-size: 12px; fill: rgb(42, 63, 95); fill-opacity: 1; white-space: pre; opacity: 1;\">Jan-2018</text></g><g class=\"xtick\"><text text-anchor=\"start\" x=\"0\" y=\"409\" style=\"font-family: 'Open Sans', verdana, arial, sans-serif; font-size: 12px; fill: rgb(42, 63, 95); fill-opacity: 1; white-space: pre; opacity: 1;\" transform=\"translate(89.82,0) rotate(90,0,403)\">Feb-2018</text></g><g class=\"xtick\"><text text-anchor=\"start\" x=\"0\" y=\"409\" style=\"font-family: 'Open Sans', verdana, arial, sans-serif; font-size: 12px; fill: rgb(42, 63, 95); fill-opacity: 1; white-space: pre; opacity: 1;\" transform=\"translate(98.7,0) rotate(90,0,403)\">Mar-2018</text></g><g class=\"xtick\"><text text-anchor=\"start\" x=\"0\" y=\"409\" style=\"font-family: 'Open Sans', verdana, arial, sans-serif; font-size: 12px; fill: rgb(42, 63, 95); fill-opacity: 1; white-space: pre; opacity: 1;\" transform=\"translate(108.52,0) rotate(90,0,403)\">Apr-2018</text></g><g class=\"xtick\"><text text-anchor=\"start\" x=\"0\" y=\"409\" style=\"font-family: 'Open Sans', verdana, arial, sans-serif; font-size: 12px; fill: rgb(42, 63, 95); fill-opacity: 1; white-space: pre; opacity: 1;\" transform=\"translate(118.03,0) rotate(90,0,403)\">May-2018</text></g><g class=\"xtick\"><text text-anchor=\"start\" x=\"0\" y=\"409\" style=\"font-family: 'Open Sans', verdana, arial, sans-serif; font-size: 12px; fill: rgb(42, 63, 95); fill-opacity: 1; white-space: pre; opacity: 1;\" transform=\"translate(127.85,0) rotate(90,0,403)\">Jun-2018</text></g><g class=\"xtick\"><text text-anchor=\"start\" x=\"0\" y=\"409\" style=\"font-family: 'Open Sans', verdana, arial, sans-serif; font-size: 12px; fill: rgb(42, 63, 95); fill-opacity: 1; white-space: pre; opacity: 1;\" transform=\"translate(137.36,0) rotate(90,0,403)\">Jul-2018</text></g><g class=\"xtick\"><text text-anchor=\"start\" x=\"0\" y=\"409\" style=\"font-family: 'Open Sans', verdana, arial, sans-serif; font-size: 12px; fill: rgb(42, 63, 95); fill-opacity: 1; white-space: pre; opacity: 1;\" transform=\"translate(147.18,0) rotate(90,0,403)\">Aug-2018</text></g><g class=\"xtick\"><text text-anchor=\"start\" x=\"0\" y=\"409\" style=\"font-family: 'Open Sans', verdana, arial, sans-serif; font-size: 12px; fill: rgb(42, 63, 95); fill-opacity: 1; white-space: pre; opacity: 1;\" transform=\"translate(157,0) rotate(90,0,403)\">Sep-2018</text></g><g class=\"xtick\"><text text-anchor=\"start\" x=\"0\" y=\"409\" style=\"font-family: 'Open Sans', verdana, arial, sans-serif; font-size: 12px; fill: rgb(42, 63, 95); fill-opacity: 1; white-space: pre; opacity: 1;\" transform=\"translate(166.51,0) rotate(90,0,403)\">Oct-2018</text></g><g class=\"xtick\"><text text-anchor=\"start\" x=\"0\" y=\"409\" style=\"font-family: 'Open Sans', verdana, arial, sans-serif; font-size: 12px; fill: rgb(42, 63, 95); fill-opacity: 1; white-space: pre; opacity: 1;\" transform=\"translate(176.32999999999998,0) rotate(90,0,403)\">Nov-2018</text></g><g class=\"xtick\"><text text-anchor=\"start\" x=\"0\" y=\"409\" style=\"font-family: 'Open Sans', verdana, arial, sans-serif; font-size: 12px; fill: rgb(42, 63, 95); fill-opacity: 1; white-space: pre; opacity: 1;\" transform=\"translate(185.84,0) rotate(90,0,403)\">Dec-2018</text></g><g class=\"xtick\"><text text-anchor=\"start\" x=\"0\" y=\"409\" style=\"font-family: 'Open Sans', verdana, arial, sans-serif; font-size: 12px; fill: rgb(42, 63, 95); fill-opacity: 1; white-space: pre; opacity: 1;\" transform=\"translate(195.66,0) rotate(90,0,403)\">Jan-2019</text></g><g class=\"xtick\"><text text-anchor=\"start\" x=\"0\" y=\"409\" style=\"font-family: 'Open Sans', verdana, arial, sans-serif; font-size: 12px; fill: rgb(42, 63, 95); fill-opacity: 1; white-space: pre; opacity: 1;\" transform=\"translate(205.49,0) rotate(90,0,403)\">Feb-2019</text></g><g class=\"xtick\"><text text-anchor=\"start\" x=\"0\" y=\"409\" style=\"font-family: 'Open Sans', verdana, arial, sans-serif; font-size: 12px; fill: rgb(42, 63, 95); fill-opacity: 1; white-space: pre; opacity: 1;\" transform=\"translate(214.36,0) rotate(90,0,403)\">Mar-2019</text></g><g class=\"xtick\"><text text-anchor=\"start\" x=\"0\" y=\"409\" style=\"font-family: 'Open Sans', verdana, arial, sans-serif; font-size: 12px; fill: rgb(42, 63, 95); fill-opacity: 1; white-space: pre; opacity: 1;\" transform=\"translate(224.18,0) rotate(90,0,403)\">Apr-2019</text></g><g class=\"xtick\"><text text-anchor=\"start\" x=\"0\" y=\"409\" style=\"font-family: 'Open Sans', verdana, arial, sans-serif; font-size: 12px; fill: rgb(42, 63, 95); fill-opacity: 1; white-space: pre; opacity: 1;\" transform=\"translate(233.69,0) rotate(90,0,403)\">May-2019</text></g><g class=\"xtick\"><text text-anchor=\"start\" x=\"0\" y=\"409\" style=\"font-family: 'Open Sans', verdana, arial, sans-serif; font-size: 12px; fill: rgb(42, 63, 95); fill-opacity: 1; white-space: pre; opacity: 1;\" transform=\"translate(243.51,0) rotate(90,0,403)\">Jun-2019</text></g><g class=\"xtick\"><text text-anchor=\"start\" x=\"0\" y=\"409\" style=\"font-family: 'Open Sans', verdana, arial, sans-serif; font-size: 12px; fill: rgb(42, 63, 95); fill-opacity: 1; white-space: pre; opacity: 1;\" transform=\"translate(253.02,0) rotate(90,0,403)\">Jul-2019</text></g><g class=\"xtick\"><text text-anchor=\"start\" x=\"0\" y=\"409\" style=\"font-family: 'Open Sans', verdana, arial, sans-serif; font-size: 12px; fill: rgb(42, 63, 95); fill-opacity: 1; white-space: pre; opacity: 1;\" transform=\"translate(262.84000000000003,0) rotate(90,0,403)\">Aug-2019</text></g><g class=\"xtick\"><text text-anchor=\"start\" x=\"0\" y=\"409\" style=\"font-family: 'Open Sans', verdana, arial, sans-serif; font-size: 12px; fill: rgb(42, 63, 95); fill-opacity: 1; white-space: pre; opacity: 1;\" transform=\"translate(272.66999999999996,0) rotate(90,0,403)\">Sep-2019</text></g><g class=\"xtick\"><text text-anchor=\"start\" x=\"0\" y=\"409\" style=\"font-family: 'Open Sans', verdana, arial, sans-serif; font-size: 12px; fill: rgb(42, 63, 95); fill-opacity: 1; white-space: pre; opacity: 1;\" transform=\"translate(282.16999999999996,0) rotate(90,0,403)\">Oct-2019</text></g><g class=\"xtick\"><text text-anchor=\"start\" x=\"0\" y=\"409\" style=\"font-family: 'Open Sans', verdana, arial, sans-serif; font-size: 12px; fill: rgb(42, 63, 95); fill-opacity: 1; white-space: pre; opacity: 1;\" transform=\"translate(292,0) rotate(90,0,403)\">Nov-2019</text></g><g class=\"xtick\"><text text-anchor=\"start\" x=\"0\" y=\"409\" style=\"font-family: 'Open Sans', verdana, arial, sans-serif; font-size: 12px; fill: rgb(42, 63, 95); fill-opacity: 1; white-space: pre; opacity: 1;\" transform=\"translate(301.5,0) rotate(90,0,403)\">Dec-2019</text></g><g class=\"xtick\"><text text-anchor=\"start\" x=\"0\" y=\"409\" style=\"font-family: 'Open Sans', verdana, arial, sans-serif; font-size: 12px; fill: rgb(42, 63, 95); fill-opacity: 1; white-space: pre; opacity: 1;\" transform=\"translate(311.33000000000004,0) rotate(90,0,403)\">Jan-2020</text></g><g class=\"xtick\"><text text-anchor=\"start\" x=\"0\" y=\"409\" style=\"font-family: 'Open Sans', verdana, arial, sans-serif; font-size: 12px; fill: rgb(42, 63, 95); fill-opacity: 1; white-space: pre; opacity: 1;\" transform=\"translate(321.15,0) rotate(90,0,403)\">Feb-2020</text></g><g class=\"xtick\"><text text-anchor=\"start\" x=\"0\" y=\"409\" style=\"font-family: 'Open Sans', verdana, arial, sans-serif; font-size: 12px; fill: rgb(42, 63, 95); fill-opacity: 1; white-space: pre; opacity: 1;\" transform=\"translate(330.34000000000003,0) rotate(90,0,403)\">Mar-2020</text></g><g class=\"xtick\"><text text-anchor=\"start\" x=\"0\" y=\"409\" style=\"font-family: 'Open Sans', verdana, arial, sans-serif; font-size: 12px; fill: rgb(42, 63, 95); fill-opacity: 1; white-space: pre; opacity: 1;\" transform=\"translate(340.17,0) rotate(90,0,403)\">Apr-2020</text></g><g class=\"xtick\"><text text-anchor=\"start\" x=\"0\" y=\"409\" style=\"font-family: 'Open Sans', verdana, arial, sans-serif; font-size: 12px; fill: rgb(42, 63, 95); fill-opacity: 1; white-space: pre; opacity: 1;\" transform=\"translate(349.67,0) rotate(90,0,403)\">May-2020</text></g><g class=\"xtick\"><text text-anchor=\"start\" x=\"0\" y=\"409\" style=\"font-family: 'Open Sans', verdana, arial, sans-serif; font-size: 12px; fill: rgb(42, 63, 95); fill-opacity: 1; white-space: pre; opacity: 1;\" transform=\"translate(359.5,0) rotate(90,0,403)\">Jun-2020</text></g><g class=\"xtick\"><text text-anchor=\"start\" x=\"0\" y=\"409\" style=\"font-family: 'Open Sans', verdana, arial, sans-serif; font-size: 12px; fill: rgb(42, 63, 95); fill-opacity: 1; white-space: pre; opacity: 1;\" transform=\"translate(369,0) rotate(90,0,403)\">Jul-2020</text></g><g class=\"xtick\"><text text-anchor=\"start\" x=\"0\" y=\"409\" style=\"font-family: 'Open Sans', verdana, arial, sans-serif; font-size: 12px; fill: rgb(42, 63, 95); fill-opacity: 1; white-space: pre; opacity: 1;\" transform=\"translate(378.83,0) rotate(90,0,403)\">Aug-2020</text></g><g class=\"xtick\"><text text-anchor=\"start\" x=\"0\" y=\"409\" style=\"font-family: 'Open Sans', verdana, arial, sans-serif; font-size: 12px; fill: rgb(42, 63, 95); fill-opacity: 1; white-space: pre; opacity: 1;\" transform=\"translate(388.65,0) rotate(90,0,403)\">Sep-2020</text></g><g class=\"xtick\"><text text-anchor=\"start\" x=\"0\" y=\"409\" style=\"font-family: 'Open Sans', verdana, arial, sans-serif; font-size: 12px; fill: rgb(42, 63, 95); fill-opacity: 1; white-space: pre; opacity: 1;\" transform=\"translate(398.16,0) rotate(90,0,403)\">Oct-2020</text></g><g class=\"xtick\"><text text-anchor=\"start\" x=\"0\" y=\"409\" style=\"font-family: 'Open Sans', verdana, arial, sans-serif; font-size: 12px; fill: rgb(42, 63, 95); fill-opacity: 1; white-space: pre; opacity: 1;\" transform=\"translate(407.98,0) rotate(90,0,403)\">Nov-2020</text></g><g class=\"xtick\"><text text-anchor=\"start\" x=\"0\" y=\"409\" style=\"font-family: 'Open Sans', verdana, arial, sans-serif; font-size: 12px; fill: rgb(42, 63, 95); fill-opacity: 1; white-space: pre; opacity: 1;\" transform=\"translate(417.49,0) rotate(90,0,403)\">Dec-2020</text></g><g class=\"xtick\"><text text-anchor=\"start\" x=\"0\" y=\"409\" style=\"font-family: 'Open Sans', verdana, arial, sans-serif; font-size: 12px; fill: rgb(42, 63, 95); fill-opacity: 1; white-space: pre; opacity: 1;\" transform=\"translate(427.31,0) rotate(90,0,403)\">Jan-2021</text></g><g class=\"xtick\"><text text-anchor=\"start\" x=\"0\" y=\"409\" style=\"font-family: 'Open Sans', verdana, arial, sans-serif; font-size: 12px; fill: rgb(42, 63, 95); fill-opacity: 1; white-space: pre; opacity: 1;\" transform=\"translate(437.13,0) rotate(90,0,403)\">Feb-2021</text></g><g class=\"xtick\"><text text-anchor=\"start\" x=\"0\" y=\"409\" style=\"font-family: 'Open Sans', verdana, arial, sans-serif; font-size: 12px; fill: rgb(42, 63, 95); fill-opacity: 1; white-space: pre; opacity: 1;\" transform=\"translate(446.01,0) rotate(90,0,403)\">Mar-2021</text></g><g class=\"xtick\"><text text-anchor=\"start\" x=\"0\" y=\"409\" style=\"font-family: 'Open Sans', verdana, arial, sans-serif; font-size: 12px; fill: rgb(42, 63, 95); fill-opacity: 1; white-space: pre; opacity: 1;\" transform=\"translate(455.83,0) rotate(90,0,403)\">Apr-2021</text></g><g class=\"xtick\"><text text-anchor=\"start\" x=\"0\" y=\"409\" style=\"font-family: 'Open Sans', verdana, arial, sans-serif; font-size: 12px; fill: rgb(42, 63, 95); fill-opacity: 1; white-space: pre; opacity: 1;\" transform=\"translate(465.34,0) rotate(90,0,403)\">May-2021</text></g><g class=\"xtick\"><text text-anchor=\"start\" x=\"0\" y=\"409\" style=\"font-family: 'Open Sans', verdana, arial, sans-serif; font-size: 12px; fill: rgb(42, 63, 95); fill-opacity: 1; white-space: pre; opacity: 1;\" transform=\"translate(475.16,0) rotate(90,0,403)\">Jun-2021</text></g><g class=\"xtick\"><text text-anchor=\"start\" x=\"0\" y=\"409\" style=\"font-family: 'Open Sans', verdana, arial, sans-serif; font-size: 12px; fill: rgb(42, 63, 95); fill-opacity: 1; white-space: pre; opacity: 1;\" transform=\"translate(484.67,0) rotate(90,0,403)\">Jul-2021</text></g><g class=\"xtick\"><text text-anchor=\"start\" x=\"0\" y=\"409\" style=\"font-family: 'Open Sans', verdana, arial, sans-serif; font-size: 12px; fill: rgb(42, 63, 95); fill-opacity: 1; white-space: pre; opacity: 1;\" transform=\"translate(494.49,0) rotate(90,0,403)\">Aug-2021</text></g><g class=\"xtick\"><text text-anchor=\"start\" x=\"0\" y=\"409\" style=\"font-family: 'Open Sans', verdana, arial, sans-serif; font-size: 12px; fill: rgb(42, 63, 95); fill-opacity: 1; white-space: pre; opacity: 1;\" transform=\"translate(504.31,0) rotate(90,0,403)\">Sep-2021</text></g><g class=\"xtick\"><text text-anchor=\"start\" x=\"0\" y=\"409\" style=\"font-family: 'Open Sans', verdana, arial, sans-serif; font-size: 12px; fill: rgb(42, 63, 95); fill-opacity: 1; white-space: pre; opacity: 1;\" transform=\"translate(513.8199999999999,0) rotate(90,0,403)\">Oct-2021</text></g><g class=\"xtick\"><text text-anchor=\"start\" x=\"0\" y=\"409\" style=\"font-family: 'Open Sans', verdana, arial, sans-serif; font-size: 12px; fill: rgb(42, 63, 95); fill-opacity: 1; white-space: pre; opacity: 1;\" transform=\"translate(523.64,0) rotate(90,0,403)\">Nov-2021</text></g><g class=\"xtick\"><text text-anchor=\"start\" x=\"0\" y=\"409\" style=\"font-family: 'Open Sans', verdana, arial, sans-serif; font-size: 12px; fill: rgb(42, 63, 95); fill-opacity: 1; white-space: pre; opacity: 1;\" transform=\"translate(533.15,0) rotate(90,0,403)\">Dec-2021</text></g><g class=\"xtick\"><text text-anchor=\"start\" x=\"0\" y=\"409\" style=\"font-family: 'Open Sans', verdana, arial, sans-serif; font-size: 12px; fill: rgb(42, 63, 95); fill-opacity: 1; white-space: pre; opacity: 1;\" transform=\"translate(542.97,0) rotate(90,0,403)\">Jan-2022</text></g><g class=\"xtick\"><text text-anchor=\"start\" x=\"0\" y=\"409\" style=\"font-family: 'Open Sans', verdana, arial, sans-serif; font-size: 12px; fill: rgb(42, 63, 95); fill-opacity: 1; white-space: pre; opacity: 1;\" transform=\"translate(552.8,0) rotate(90,0,403)\">Feb-2022</text></g><g class=\"xtick\"><text text-anchor=\"start\" x=\"0\" y=\"409\" style=\"font-family: 'Open Sans', verdana, arial, sans-serif; font-size: 12px; fill: rgb(42, 63, 95); fill-opacity: 1; white-space: pre; opacity: 1;\" transform=\"translate(561.6700000000001,0) rotate(90,0,403)\">Mar-2022</text></g><g class=\"xtick\"><text text-anchor=\"start\" x=\"0\" y=\"409\" style=\"font-family: 'Open Sans', verdana, arial, sans-serif; font-size: 12px; fill: rgb(42, 63, 95); fill-opacity: 1; white-space: pre; opacity: 1;\" transform=\"translate(571.49,0) rotate(90,0,403)\">Apr-2022</text></g><g class=\"xtick\"><text text-anchor=\"start\" x=\"0\" y=\"409\" style=\"font-family: 'Open Sans', verdana, arial, sans-serif; font-size: 12px; fill: rgb(42, 63, 95); fill-opacity: 1; white-space: pre; opacity: 1;\" transform=\"translate(581,0) rotate(90,0,403)\">May-2022</text></g></g><g class=\"yaxislayer-above\"><g class=\"ytick\"><text text-anchor=\"end\" x=\"79\" y=\"4.199999999999999\" transform=\"translate(0,372.78)\" style=\"font-family: 'Open Sans', verdana, arial, sans-serif; font-size: 12px; fill: rgb(42, 63, 95); fill-opacity: 1; white-space: pre; opacity: 1;\">2000</text></g><g class=\"ytick\"><text text-anchor=\"end\" x=\"79\" y=\"4.199999999999999\" style=\"font-family: 'Open Sans', verdana, arial, sans-serif; font-size: 12px; fill: rgb(42, 63, 95); fill-opacity: 1; white-space: pre; opacity: 1;\" transform=\"translate(0,312.65999999999997)\">3000</text></g><g class=\"ytick\"><text text-anchor=\"end\" x=\"79\" y=\"4.199999999999999\" style=\"font-family: 'Open Sans', verdana, arial, sans-serif; font-size: 12px; fill: rgb(42, 63, 95); fill-opacity: 1; white-space: pre; opacity: 1;\" transform=\"translate(0,252.54)\">4000</text></g><g class=\"ytick\"><text text-anchor=\"end\" x=\"79\" y=\"4.199999999999999\" style=\"font-family: 'Open Sans', verdana, arial, sans-serif; font-size: 12px; fill: rgb(42, 63, 95); fill-opacity: 1; white-space: pre; opacity: 1;\" transform=\"translate(0,192.42000000000002)\">5000</text></g><g class=\"ytick\"><text text-anchor=\"end\" x=\"79\" y=\"4.199999999999999\" style=\"font-family: 'Open Sans', verdana, arial, sans-serif; font-size: 12px; fill: rgb(42, 63, 95); fill-opacity: 1; white-space: pre; opacity: 1;\" transform=\"translate(0,132.3)\">6000</text></g></g><g class=\"overaxes-above\"/></g></g><g class=\"polarlayer\"/><g class=\"smithlayer\"/><g class=\"ternarylayer\"/><g class=\"geolayer\"/><g class=\"funnelarealayer\"/><g class=\"pielayer\"/><g class=\"iciclelayer\"/><g class=\"treemaplayer\"/><g class=\"sunburstlayer\"/><g class=\"glimages\"/><defs id=\"topdefs-c0964b\"><g class=\"clips\"/><clipPath id=\"legendc0964b\"><rect width=\"97\" height=\"67\" x=\"0\" y=\"0\"/></clipPath></defs><g class=\"layer-above\"><g class=\"imagelayer\"/><g class=\"shapelayer\"/></g><g class=\"infolayer\"><g class=\"legend\" pointer-events=\"all\" transform=\"translate(591.02,100)\"><rect class=\"bg\" shape-rendering=\"crispEdges\" width=\"97\" height=\"67\" x=\"0\" y=\"0\" style=\"stroke: rgb(68, 68, 68); stroke-opacity: 1; fill: rgb(255, 255, 255); fill-opacity: 1; stroke-width: 0px;\"/><g class=\"scrollbox\" transform=\"\" clip-path=\"url(#legendc0964b)\"><text class=\"legendtitletext\" text-anchor=\"start\" x=\"2\" y=\"18.2\" style=\"font-family: 'Open Sans', verdana, arial, sans-serif; font-size: 14px; fill: rgb(42, 63, 95); fill-opacity: 1; white-space: pre;\">Sector</text><g class=\"groups\" transform=\"\"><g class=\"traces\" transform=\"translate(0,32.7)\" style=\"opacity: 1;\"><text class=\"legendtext\" text-anchor=\"start\" x=\"40\" y=\"4.680000000000001\" style=\"font-family: 'Open Sans', verdana, arial, sans-serif; font-size: 12px; fill: rgb(42, 63, 95); fill-opacity: 1; white-space: pre;\">PRIVATE</text><g class=\"layers\" style=\"opacity: 1;\"><g class=\"legendfill\"/><g class=\"legendlines\"><path class=\"js-line\" d=\"M5,0h30\" style=\"fill: none; stroke: rgb(99, 110, 250); stroke-opacity: 1; stroke-width: 2px;\"/></g><g class=\"legendsymbols\"><g class=\"legendpoints\"/></g></g><rect class=\"legendtoggle\" x=\"0\" y=\"-9.5\" width=\"91.390625\" height=\"19\" style=\"fill: rgb(0, 0, 0); fill-opacity: 0;\"/></g></g><g class=\"groups\" transform=\"\"><g class=\"traces\" transform=\"translate(0,51.7)\" style=\"opacity: 1;\"><text class=\"legendtext\" text-anchor=\"start\" x=\"40\" y=\"4.680000000000001\" style=\"font-family: 'Open Sans', verdana, arial, sans-serif; font-size: 12px; fill: rgb(42, 63, 95); fill-opacity: 1; white-space: pre;\">PUBLIC</text><g class=\"layers\" style=\"opacity: 1;\"><g class=\"legendfill\"/><g class=\"legendlines\"><path class=\"js-line\" d=\"M5,0h30\" style=\"fill: none; stroke: rgb(239, 85, 59); stroke-opacity: 1; stroke-width: 2px;\"/></g><g class=\"legendsymbols\"><g class=\"legendpoints\"/></g></g><rect class=\"legendtoggle\" x=\"0\" y=\"-9.5\" width=\"91.390625\" height=\"19\" style=\"fill: rgb(0, 0, 0); fill-opacity: 0;\"/></g></g></g><rect class=\"scrollbar\" rx=\"20\" ry=\"3\" width=\"0\" height=\"0\" x=\"0\" y=\"0\" style=\"fill: rgb(128, 139, 164); fill-opacity: 1;\"/></g><g class=\"g-gtitle\"><text class=\"gtitle\" x=\"35\" y=\"50\" text-anchor=\"start\" dy=\"0em\" style=\"font-family: 'Open Sans', verdana, arial, sans-serif; font-size: 17px; fill: rgb(42, 63, 95); opacity: 1; font-weight: normal; white-space: pre;\">Total Diagnosis to Category II</text></g><g class=\"g-xtitle\"><text class=\"xtitle\" x=\"330.5\" y=\"488.2375\" text-anchor=\"middle\" style=\"font-family: 'Open Sans', verdana, arial, sans-serif; font-size: 14px; fill: rgb(42, 63, 95); opacity: 1; font-weight: normal; white-space: pre;\">Date</text></g><g class=\"g-ytitle\"><text class=\"ytitle\" transform=\"rotate(-90,23.684375000000003,248)\" x=\"23.684375000000003\" y=\"248\" text-anchor=\"middle\" style=\"font-family: 'Open Sans', verdana, arial, sans-serif; font-size: 14px; fill: rgb(42, 63, 95); opacity: 1; font-weight: normal; white-space: pre;\">Diagnosis Codes (qty)</text></g></g></svg>"
      ]
     },
     "metadata": {},
     "output_type": "display_data"
    }
   ],
   "source": [
    "# DF TEMPORAL\n",
    "data_temp = diagnosis_df[(diagnosis_df['CATEGORY2']==TAG_CATEGORY)].reset_index(drop=True)\n",
    "\n",
    "data_temp = data_temp.pivot_table(index=['DATE'],\n",
    "                                  columns=['SECTOR_R'],\n",
    "                                  values='QTY_DIAGNOSIS').fillna(0)\n",
    "data_temp = data_temp.reset_index().rename_axis(None, axis=1)\n",
    "\n",
    "# FIGURA\n",
    "columns_name = list(data_temp.columns)[1:]\n",
    "fig = px.line(data_temp, \n",
    "              x=\"DATE\", \n",
    "              y=columns_name,\n",
    "              hover_data={\"DATE\": \"|%Y %b\"},\n",
    "              labels={\n",
    "                     \"value\": \"Diagnosis Codes (qty)\",\n",
    "                     \"DATE\": \"Date\",\n",
    "                     \"variable\": \"Sector\"\n",
    "                 },\n",
    "              title='Total Diagnosis to Category ' + TAG_CATEGORY)\n",
    "\n",
    "fig.update_xaxes(\n",
    "    dtick=\"M1\",\n",
    "    tickformat=\"%b-%Y\")\n",
    "\n",
    "fig.show(renderer=\"svg\")\n",
    "#fig.show()"
   ]
  },
  {
   "cell_type": "code",
   "execution_count": 116,
   "id": "173ee6d9",
   "metadata": {
    "scrolled": false
   },
   "outputs": [
    {
     "data": {
      "image/svg+xml": [
       "<svg class=\"main-svg\" xmlns=\"http://www.w3.org/2000/svg\" xmlns:xlink=\"http://www.w3.org/1999/xlink\" width=\"700\" height=\"500\" style=\"\" viewBox=\"0 0 700 500\"><rect x=\"0\" y=\"0\" width=\"700\" height=\"500\" style=\"fill: rgb(255, 255, 255); fill-opacity: 1;\"/><defs id=\"defs-a406fd\"><g class=\"clips\"><clipPath id=\"clipa406fdxyplot\" class=\"plotclip\"><rect width=\"501\" height=\"296\"/></clipPath><clipPath class=\"axesclip\" id=\"clipa406fdx\"><rect x=\"80\" y=\"0\" width=\"501\" height=\"500\"/></clipPath><clipPath class=\"axesclip\" id=\"clipa406fdy\"><rect x=\"0\" y=\"100\" width=\"700\" height=\"296\"/></clipPath><clipPath class=\"axesclip\" id=\"clipa406fdxy\"><rect x=\"80\" y=\"100\" width=\"501\" height=\"296\"/></clipPath></g><g class=\"gradients\"/><g class=\"patterns\"/></defs><g class=\"bglayer\"><rect class=\"bg\" x=\"80\" y=\"100\" width=\"501\" height=\"296\" style=\"fill: rgb(229, 236, 246); fill-opacity: 1; stroke-width: 0;\"/></g><g class=\"layer-below\"><g class=\"imagelayer\"/><g class=\"shapelayer\"/></g><g class=\"cartesianlayer\"><g class=\"subplot xy\"><g class=\"layer-subplot\"><g class=\"shapelayer\"/><g class=\"imagelayer\"/></g><g class=\"gridlayer\"><g class=\"x\"><path class=\"xgrid crisp\" transform=\"translate(89.82,0)\" d=\"M0,100v296\" style=\"stroke: rgb(255, 255, 255); stroke-opacity: 1; stroke-width: 1px;\"/><path class=\"xgrid crisp\" transform=\"translate(98.7,0)\" d=\"M0,100v296\" style=\"stroke: rgb(255, 255, 255); stroke-opacity: 1; stroke-width: 1px;\"/><path class=\"xgrid crisp\" transform=\"translate(108.52,0)\" d=\"M0,100v296\" style=\"stroke: rgb(255, 255, 255); stroke-opacity: 1; stroke-width: 1px;\"/><path class=\"xgrid crisp\" transform=\"translate(118.03,0)\" d=\"M0,100v296\" style=\"stroke: rgb(255, 255, 255); stroke-opacity: 1; stroke-width: 1px;\"/><path class=\"xgrid crisp\" transform=\"translate(127.85,0)\" d=\"M0,100v296\" style=\"stroke: rgb(255, 255, 255); stroke-opacity: 1; stroke-width: 1px;\"/><path class=\"xgrid crisp\" transform=\"translate(137.36,0)\" d=\"M0,100v296\" style=\"stroke: rgb(255, 255, 255); stroke-opacity: 1; stroke-width: 1px;\"/><path class=\"xgrid crisp\" transform=\"translate(147.18,0)\" d=\"M0,100v296\" style=\"stroke: rgb(255, 255, 255); stroke-opacity: 1; stroke-width: 1px;\"/><path class=\"xgrid crisp\" transform=\"translate(157,0)\" d=\"M0,100v296\" style=\"stroke: rgb(255, 255, 255); stroke-opacity: 1; stroke-width: 1px;\"/><path class=\"xgrid crisp\" transform=\"translate(166.51,0)\" d=\"M0,100v296\" style=\"stroke: rgb(255, 255, 255); stroke-opacity: 1; stroke-width: 1px;\"/><path class=\"xgrid crisp\" transform=\"translate(176.32999999999998,0)\" d=\"M0,100v296\" style=\"stroke: rgb(255, 255, 255); stroke-opacity: 1; stroke-width: 1px;\"/><path class=\"xgrid crisp\" transform=\"translate(185.84,0)\" d=\"M0,100v296\" style=\"stroke: rgb(255, 255, 255); stroke-opacity: 1; stroke-width: 1px;\"/><path class=\"xgrid crisp\" transform=\"translate(195.66,0)\" d=\"M0,100v296\" style=\"stroke: rgb(255, 255, 255); stroke-opacity: 1; stroke-width: 1px;\"/><path class=\"xgrid crisp\" transform=\"translate(205.49,0)\" d=\"M0,100v296\" style=\"stroke: rgb(255, 255, 255); stroke-opacity: 1; stroke-width: 1px;\"/><path class=\"xgrid crisp\" transform=\"translate(214.36,0)\" d=\"M0,100v296\" style=\"stroke: rgb(255, 255, 255); stroke-opacity: 1; stroke-width: 1px;\"/><path class=\"xgrid crisp\" transform=\"translate(224.18,0)\" d=\"M0,100v296\" style=\"stroke: rgb(255, 255, 255); stroke-opacity: 1; stroke-width: 1px;\"/><path class=\"xgrid crisp\" transform=\"translate(233.69,0)\" d=\"M0,100v296\" style=\"stroke: rgb(255, 255, 255); stroke-opacity: 1; stroke-width: 1px;\"/><path class=\"xgrid crisp\" transform=\"translate(243.51,0)\" d=\"M0,100v296\" style=\"stroke: rgb(255, 255, 255); stroke-opacity: 1; stroke-width: 1px;\"/><path class=\"xgrid crisp\" transform=\"translate(253.02,0)\" d=\"M0,100v296\" style=\"stroke: rgb(255, 255, 255); stroke-opacity: 1; stroke-width: 1px;\"/><path class=\"xgrid crisp\" transform=\"translate(262.84000000000003,0)\" d=\"M0,100v296\" style=\"stroke: rgb(255, 255, 255); stroke-opacity: 1; stroke-width: 1px;\"/><path class=\"xgrid crisp\" transform=\"translate(272.66999999999996,0)\" d=\"M0,100v296\" style=\"stroke: rgb(255, 255, 255); stroke-opacity: 1; stroke-width: 1px;\"/><path class=\"xgrid crisp\" transform=\"translate(282.16999999999996,0)\" d=\"M0,100v296\" style=\"stroke: rgb(255, 255, 255); stroke-opacity: 1; stroke-width: 1px;\"/><path class=\"xgrid crisp\" transform=\"translate(292,0)\" d=\"M0,100v296\" style=\"stroke: rgb(255, 255, 255); stroke-opacity: 1; stroke-width: 1px;\"/><path class=\"xgrid crisp\" transform=\"translate(301.5,0)\" d=\"M0,100v296\" style=\"stroke: rgb(255, 255, 255); stroke-opacity: 1; stroke-width: 1px;\"/><path class=\"xgrid crisp\" transform=\"translate(311.33000000000004,0)\" d=\"M0,100v296\" style=\"stroke: rgb(255, 255, 255); stroke-opacity: 1; stroke-width: 1px;\"/><path class=\"xgrid crisp\" transform=\"translate(321.15,0)\" d=\"M0,100v296\" style=\"stroke: rgb(255, 255, 255); stroke-opacity: 1; stroke-width: 1px;\"/><path class=\"xgrid crisp\" transform=\"translate(330.34000000000003,0)\" d=\"M0,100v296\" style=\"stroke: rgb(255, 255, 255); stroke-opacity: 1; stroke-width: 1px;\"/><path class=\"xgrid crisp\" transform=\"translate(340.17,0)\" d=\"M0,100v296\" style=\"stroke: rgb(255, 255, 255); stroke-opacity: 1; stroke-width: 1px;\"/><path class=\"xgrid crisp\" transform=\"translate(349.67,0)\" d=\"M0,100v296\" style=\"stroke: rgb(255, 255, 255); stroke-opacity: 1; stroke-width: 1px;\"/><path class=\"xgrid crisp\" transform=\"translate(359.5,0)\" d=\"M0,100v296\" style=\"stroke: rgb(255, 255, 255); stroke-opacity: 1; stroke-width: 1px;\"/><path class=\"xgrid crisp\" transform=\"translate(369,0)\" d=\"M0,100v296\" style=\"stroke: rgb(255, 255, 255); stroke-opacity: 1; stroke-width: 1px;\"/><path class=\"xgrid crisp\" transform=\"translate(378.83,0)\" d=\"M0,100v296\" style=\"stroke: rgb(255, 255, 255); stroke-opacity: 1; stroke-width: 1px;\"/><path class=\"xgrid crisp\" transform=\"translate(388.65,0)\" d=\"M0,100v296\" style=\"stroke: rgb(255, 255, 255); stroke-opacity: 1; stroke-width: 1px;\"/><path class=\"xgrid crisp\" transform=\"translate(398.16,0)\" d=\"M0,100v296\" style=\"stroke: rgb(255, 255, 255); stroke-opacity: 1; stroke-width: 1px;\"/><path class=\"xgrid crisp\" transform=\"translate(407.98,0)\" d=\"M0,100v296\" style=\"stroke: rgb(255, 255, 255); stroke-opacity: 1; stroke-width: 1px;\"/><path class=\"xgrid crisp\" transform=\"translate(417.49,0)\" d=\"M0,100v296\" style=\"stroke: rgb(255, 255, 255); stroke-opacity: 1; stroke-width: 1px;\"/><path class=\"xgrid crisp\" transform=\"translate(427.31,0)\" d=\"M0,100v296\" style=\"stroke: rgb(255, 255, 255); stroke-opacity: 1; stroke-width: 1px;\"/><path class=\"xgrid crisp\" transform=\"translate(437.13,0)\" d=\"M0,100v296\" style=\"stroke: rgb(255, 255, 255); stroke-opacity: 1; stroke-width: 1px;\"/><path class=\"xgrid crisp\" transform=\"translate(446.01,0)\" d=\"M0,100v296\" style=\"stroke: rgb(255, 255, 255); stroke-opacity: 1; stroke-width: 1px;\"/><path class=\"xgrid crisp\" transform=\"translate(455.83,0)\" d=\"M0,100v296\" style=\"stroke: rgb(255, 255, 255); stroke-opacity: 1; stroke-width: 1px;\"/><path class=\"xgrid crisp\" transform=\"translate(465.34,0)\" d=\"M0,100v296\" style=\"stroke: rgb(255, 255, 255); stroke-opacity: 1; stroke-width: 1px;\"/><path class=\"xgrid crisp\" transform=\"translate(475.16,0)\" d=\"M0,100v296\" style=\"stroke: rgb(255, 255, 255); stroke-opacity: 1; stroke-width: 1px;\"/><path class=\"xgrid crisp\" transform=\"translate(484.67,0)\" d=\"M0,100v296\" style=\"stroke: rgb(255, 255, 255); stroke-opacity: 1; stroke-width: 1px;\"/><path class=\"xgrid crisp\" transform=\"translate(494.49,0)\" d=\"M0,100v296\" style=\"stroke: rgb(255, 255, 255); stroke-opacity: 1; stroke-width: 1px;\"/><path class=\"xgrid crisp\" transform=\"translate(504.31,0)\" d=\"M0,100v296\" style=\"stroke: rgb(255, 255, 255); stroke-opacity: 1; stroke-width: 1px;\"/><path class=\"xgrid crisp\" transform=\"translate(513.8199999999999,0)\" d=\"M0,100v296\" style=\"stroke: rgb(255, 255, 255); stroke-opacity: 1; stroke-width: 1px;\"/><path class=\"xgrid crisp\" transform=\"translate(523.64,0)\" d=\"M0,100v296\" style=\"stroke: rgb(255, 255, 255); stroke-opacity: 1; stroke-width: 1px;\"/><path class=\"xgrid crisp\" transform=\"translate(533.15,0)\" d=\"M0,100v296\" style=\"stroke: rgb(255, 255, 255); stroke-opacity: 1; stroke-width: 1px;\"/><path class=\"xgrid crisp\" transform=\"translate(542.97,0)\" d=\"M0,100v296\" style=\"stroke: rgb(255, 255, 255); stroke-opacity: 1; stroke-width: 1px;\"/><path class=\"xgrid crisp\" transform=\"translate(552.8,0)\" d=\"M0,100v296\" style=\"stroke: rgb(255, 255, 255); stroke-opacity: 1; stroke-width: 1px;\"/><path class=\"xgrid crisp\" transform=\"translate(561.6700000000001,0)\" d=\"M0,100v296\" style=\"stroke: rgb(255, 255, 255); stroke-opacity: 1; stroke-width: 1px;\"/><path class=\"xgrid crisp\" transform=\"translate(571.49,0)\" d=\"M0,100v296\" style=\"stroke: rgb(255, 255, 255); stroke-opacity: 1; stroke-width: 1px;\"/></g><g class=\"y\"><path class=\"ygrid crisp\" transform=\"translate(0,356.86)\" d=\"M80,0h501\" style=\"stroke: rgb(255, 255, 255); stroke-opacity: 1; stroke-width: 1px;\"/><path class=\"ygrid crisp\" transform=\"translate(0,316.28)\" d=\"M80,0h501\" style=\"stroke: rgb(255, 255, 255); stroke-opacity: 1; stroke-width: 1px;\"/><path class=\"ygrid crisp\" transform=\"translate(0,275.71000000000004)\" d=\"M80,0h501\" style=\"stroke: rgb(255, 255, 255); stroke-opacity: 1; stroke-width: 1px;\"/><path class=\"ygrid crisp\" transform=\"translate(0,235.14)\" d=\"M80,0h501\" style=\"stroke: rgb(255, 255, 255); stroke-opacity: 1; stroke-width: 1px;\"/><path class=\"ygrid crisp\" transform=\"translate(0,194.57)\" d=\"M80,0h501\" style=\"stroke: rgb(255, 255, 255); stroke-opacity: 1; stroke-width: 1px;\"/><path class=\"ygrid crisp\" transform=\"translate(0,153.99)\" d=\"M80,0h501\" style=\"stroke: rgb(255, 255, 255); stroke-opacity: 1; stroke-width: 1px;\"/><path class=\"ygrid crisp\" transform=\"translate(0,113.42)\" d=\"M80,0h501\" style=\"stroke: rgb(255, 255, 255); stroke-opacity: 1; stroke-width: 1px;\"/></g></g><g class=\"zerolinelayer\"/><path class=\"xlines-below\"/><path class=\"ylines-below\"/><g class=\"overlines-below\"/><g class=\"xaxislayer-below\"/><g class=\"yaxislayer-below\"/><g class=\"overaxes-below\"/><g class=\"plot\" transform=\"translate(80,100)\" clip-path=\"url(#clipa406fdxyplot)\"><g class=\"scatterlayer mlayer\"><g class=\"trace scatter trace662df3\" style=\"stroke-miterlimit: 2; opacity: 1;\"><g class=\"fills\"/><g class=\"errorbars\"/><g class=\"lines\"><path class=\"js-line\" d=\"M0,78L9.82,51.25L18.7,20.29L28.52,18.16L38.03,68.79L47.85,63.02L57.36,74.26L67.18,70.2L77,79.33L96.33,54.71L105.84,44.9L115.66,14.8L125.49,57.04L134.36,17.96L144.18,56.79L153.69,56.39L163.51,50.54L173.02,64.03L182.84,57.41L192.67,61.16L202.17,135.04L212,167.17L221.5,165.65L231.33,189L241.15,166.8L250.34,186.99L260.17,272.93L269.67,266.92L279.5,233.67L289,188.06L298.83,170.62L308.65,161.28L318.16,147.32L327.98,131.95L337.49,139.02L347.31,128.32L357.13,153.05L366.01,114.61L375.83,130.85L385.34,127.17L395.16,117.02L404.67,106.98L414.49,94.7L433.82,97.62L443.64,93.17L453.15,106.06L462.97,78.76L472.8,101.29L481.67,80.69L491.49,104.25L501,247.82\" style=\"vector-effect: non-scaling-stroke; fill: none; stroke: rgb(99, 110, 250); stroke-opacity: 1; stroke-width: 2px; opacity: 1;\"/></g><g class=\"points\"/><g class=\"text\"/></g><g class=\"trace scatter trace80e7c8\" style=\"stroke-miterlimit: 2; opacity: 1;\"><g class=\"fills\"/><g class=\"errorbars\"/><g class=\"lines\"><path class=\"js-line\" d=\"M0,167.25L9.82,132.2L18.7,117.62L28.52,107.33L38.03,145.58L47.85,162.08L57.36,163.77L67.18,142.41L77,130.81L86.51,134.58L96.33,129.9L105.84,161.2L115.66,146.49L125.49,178.61L134.36,162.91L144.18,183.25L153.69,169.83L163.51,154.08L173.02,180.23L182.84,176.62L192.67,174.29L202.17,213.53L212,226.9L221.5,212.24L231.33,221.03L241.15,205.41L250.34,247.59L260.17,281.2L269.67,277.99L279.5,273.91L289,254.01L298.83,242.12L308.65,238.6L327.98,218.97L337.49,223.47L347.31,205.83L357.13,222.32L366.01,209.7L375.83,184.41L385.34,191.43L395.16,206.89L404.67,189.58L414.49,191.61L424.31,176.82L433.82,159.26L443.64,144.49L453.15,151.51L462.97,132.38L472.8,158.96L481.67,127.82L491.49,149.13L501,243.41\" style=\"vector-effect: non-scaling-stroke; fill: none; stroke: rgb(239, 85, 59); stroke-opacity: 1; stroke-width: 2px; opacity: 1;\"/></g><g class=\"points\"/><g class=\"text\"/></g></g></g><g class=\"overplot\"/><path class=\"xlines-above crisp\" d=\"M0,0\" style=\"fill: none;\"/><path class=\"ylines-above crisp\" d=\"M0,0\" style=\"fill: none;\"/><g class=\"overlines-above\"/><g class=\"xaxislayer-above\"><g class=\"xtick\"><text text-anchor=\"start\" x=\"0\" y=\"409\" transform=\"translate(80,0) rotate(90,0,403)\" style=\"font-family: 'Open Sans', verdana, arial, sans-serif; font-size: 12px; fill: rgb(42, 63, 95); fill-opacity: 1; white-space: pre; opacity: 1;\">Jan-2018</text></g><g class=\"xtick\"><text text-anchor=\"start\" x=\"0\" y=\"409\" style=\"font-family: 'Open Sans', verdana, arial, sans-serif; font-size: 12px; fill: rgb(42, 63, 95); fill-opacity: 1; white-space: pre; opacity: 1;\" transform=\"translate(89.82,0) rotate(90,0,403)\">Feb-2018</text></g><g class=\"xtick\"><text text-anchor=\"start\" x=\"0\" y=\"409\" style=\"font-family: 'Open Sans', verdana, arial, sans-serif; font-size: 12px; fill: rgb(42, 63, 95); fill-opacity: 1; white-space: pre; opacity: 1;\" transform=\"translate(98.7,0) rotate(90,0,403)\">Mar-2018</text></g><g class=\"xtick\"><text text-anchor=\"start\" x=\"0\" y=\"409\" style=\"font-family: 'Open Sans', verdana, arial, sans-serif; font-size: 12px; fill: rgb(42, 63, 95); fill-opacity: 1; white-space: pre; opacity: 1;\" transform=\"translate(108.52,0) rotate(90,0,403)\">Apr-2018</text></g><g class=\"xtick\"><text text-anchor=\"start\" x=\"0\" y=\"409\" style=\"font-family: 'Open Sans', verdana, arial, sans-serif; font-size: 12px; fill: rgb(42, 63, 95); fill-opacity: 1; white-space: pre; opacity: 1;\" transform=\"translate(118.03,0) rotate(90,0,403)\">May-2018</text></g><g class=\"xtick\"><text text-anchor=\"start\" x=\"0\" y=\"409\" style=\"font-family: 'Open Sans', verdana, arial, sans-serif; font-size: 12px; fill: rgb(42, 63, 95); fill-opacity: 1; white-space: pre; opacity: 1;\" transform=\"translate(127.85,0) rotate(90,0,403)\">Jun-2018</text></g><g class=\"xtick\"><text text-anchor=\"start\" x=\"0\" y=\"409\" style=\"font-family: 'Open Sans', verdana, arial, sans-serif; font-size: 12px; fill: rgb(42, 63, 95); fill-opacity: 1; white-space: pre; opacity: 1;\" transform=\"translate(137.36,0) rotate(90,0,403)\">Jul-2018</text></g><g class=\"xtick\"><text text-anchor=\"start\" x=\"0\" y=\"409\" style=\"font-family: 'Open Sans', verdana, arial, sans-serif; font-size: 12px; fill: rgb(42, 63, 95); fill-opacity: 1; white-space: pre; opacity: 1;\" transform=\"translate(147.18,0) rotate(90,0,403)\">Aug-2018</text></g><g class=\"xtick\"><text text-anchor=\"start\" x=\"0\" y=\"409\" style=\"font-family: 'Open Sans', verdana, arial, sans-serif; font-size: 12px; fill: rgb(42, 63, 95); fill-opacity: 1; white-space: pre; opacity: 1;\" transform=\"translate(157,0) rotate(90,0,403)\">Sep-2018</text></g><g class=\"xtick\"><text text-anchor=\"start\" x=\"0\" y=\"409\" style=\"font-family: 'Open Sans', verdana, arial, sans-serif; font-size: 12px; fill: rgb(42, 63, 95); fill-opacity: 1; white-space: pre; opacity: 1;\" transform=\"translate(166.51,0) rotate(90,0,403)\">Oct-2018</text></g><g class=\"xtick\"><text text-anchor=\"start\" x=\"0\" y=\"409\" style=\"font-family: 'Open Sans', verdana, arial, sans-serif; font-size: 12px; fill: rgb(42, 63, 95); fill-opacity: 1; white-space: pre; opacity: 1;\" transform=\"translate(176.32999999999998,0) rotate(90,0,403)\">Nov-2018</text></g><g class=\"xtick\"><text text-anchor=\"start\" x=\"0\" y=\"409\" style=\"font-family: 'Open Sans', verdana, arial, sans-serif; font-size: 12px; fill: rgb(42, 63, 95); fill-opacity: 1; white-space: pre; opacity: 1;\" transform=\"translate(185.84,0) rotate(90,0,403)\">Dec-2018</text></g><g class=\"xtick\"><text text-anchor=\"start\" x=\"0\" y=\"409\" style=\"font-family: 'Open Sans', verdana, arial, sans-serif; font-size: 12px; fill: rgb(42, 63, 95); fill-opacity: 1; white-space: pre; opacity: 1;\" transform=\"translate(195.66,0) rotate(90,0,403)\">Jan-2019</text></g><g class=\"xtick\"><text text-anchor=\"start\" x=\"0\" y=\"409\" style=\"font-family: 'Open Sans', verdana, arial, sans-serif; font-size: 12px; fill: rgb(42, 63, 95); fill-opacity: 1; white-space: pre; opacity: 1;\" transform=\"translate(205.49,0) rotate(90,0,403)\">Feb-2019</text></g><g class=\"xtick\"><text text-anchor=\"start\" x=\"0\" y=\"409\" style=\"font-family: 'Open Sans', verdana, arial, sans-serif; font-size: 12px; fill: rgb(42, 63, 95); fill-opacity: 1; white-space: pre; opacity: 1;\" transform=\"translate(214.36,0) rotate(90,0,403)\">Mar-2019</text></g><g class=\"xtick\"><text text-anchor=\"start\" x=\"0\" y=\"409\" style=\"font-family: 'Open Sans', verdana, arial, sans-serif; font-size: 12px; fill: rgb(42, 63, 95); fill-opacity: 1; white-space: pre; opacity: 1;\" transform=\"translate(224.18,0) rotate(90,0,403)\">Apr-2019</text></g><g class=\"xtick\"><text text-anchor=\"start\" x=\"0\" y=\"409\" style=\"font-family: 'Open Sans', verdana, arial, sans-serif; font-size: 12px; fill: rgb(42, 63, 95); fill-opacity: 1; white-space: pre; opacity: 1;\" transform=\"translate(233.69,0) rotate(90,0,403)\">May-2019</text></g><g class=\"xtick\"><text text-anchor=\"start\" x=\"0\" y=\"409\" style=\"font-family: 'Open Sans', verdana, arial, sans-serif; font-size: 12px; fill: rgb(42, 63, 95); fill-opacity: 1; white-space: pre; opacity: 1;\" transform=\"translate(243.51,0) rotate(90,0,403)\">Jun-2019</text></g><g class=\"xtick\"><text text-anchor=\"start\" x=\"0\" y=\"409\" style=\"font-family: 'Open Sans', verdana, arial, sans-serif; font-size: 12px; fill: rgb(42, 63, 95); fill-opacity: 1; white-space: pre; opacity: 1;\" transform=\"translate(253.02,0) rotate(90,0,403)\">Jul-2019</text></g><g class=\"xtick\"><text text-anchor=\"start\" x=\"0\" y=\"409\" style=\"font-family: 'Open Sans', verdana, arial, sans-serif; font-size: 12px; fill: rgb(42, 63, 95); fill-opacity: 1; white-space: pre; opacity: 1;\" transform=\"translate(262.84000000000003,0) rotate(90,0,403)\">Aug-2019</text></g><g class=\"xtick\"><text text-anchor=\"start\" x=\"0\" y=\"409\" style=\"font-family: 'Open Sans', verdana, arial, sans-serif; font-size: 12px; fill: rgb(42, 63, 95); fill-opacity: 1; white-space: pre; opacity: 1;\" transform=\"translate(272.66999999999996,0) rotate(90,0,403)\">Sep-2019</text></g><g class=\"xtick\"><text text-anchor=\"start\" x=\"0\" y=\"409\" style=\"font-family: 'Open Sans', verdana, arial, sans-serif; font-size: 12px; fill: rgb(42, 63, 95); fill-opacity: 1; white-space: pre; opacity: 1;\" transform=\"translate(282.16999999999996,0) rotate(90,0,403)\">Oct-2019</text></g><g class=\"xtick\"><text text-anchor=\"start\" x=\"0\" y=\"409\" style=\"font-family: 'Open Sans', verdana, arial, sans-serif; font-size: 12px; fill: rgb(42, 63, 95); fill-opacity: 1; white-space: pre; opacity: 1;\" transform=\"translate(292,0) rotate(90,0,403)\">Nov-2019</text></g><g class=\"xtick\"><text text-anchor=\"start\" x=\"0\" y=\"409\" style=\"font-family: 'Open Sans', verdana, arial, sans-serif; font-size: 12px; fill: rgb(42, 63, 95); fill-opacity: 1; white-space: pre; opacity: 1;\" transform=\"translate(301.5,0) rotate(90,0,403)\">Dec-2019</text></g><g class=\"xtick\"><text text-anchor=\"start\" x=\"0\" y=\"409\" style=\"font-family: 'Open Sans', verdana, arial, sans-serif; font-size: 12px; fill: rgb(42, 63, 95); fill-opacity: 1; white-space: pre; opacity: 1;\" transform=\"translate(311.33000000000004,0) rotate(90,0,403)\">Jan-2020</text></g><g class=\"xtick\"><text text-anchor=\"start\" x=\"0\" y=\"409\" style=\"font-family: 'Open Sans', verdana, arial, sans-serif; font-size: 12px; fill: rgb(42, 63, 95); fill-opacity: 1; white-space: pre; opacity: 1;\" transform=\"translate(321.15,0) rotate(90,0,403)\">Feb-2020</text></g><g class=\"xtick\"><text text-anchor=\"start\" x=\"0\" y=\"409\" style=\"font-family: 'Open Sans', verdana, arial, sans-serif; font-size: 12px; fill: rgb(42, 63, 95); fill-opacity: 1; white-space: pre; opacity: 1;\" transform=\"translate(330.34000000000003,0) rotate(90,0,403)\">Mar-2020</text></g><g class=\"xtick\"><text text-anchor=\"start\" x=\"0\" y=\"409\" style=\"font-family: 'Open Sans', verdana, arial, sans-serif; font-size: 12px; fill: rgb(42, 63, 95); fill-opacity: 1; white-space: pre; opacity: 1;\" transform=\"translate(340.17,0) rotate(90,0,403)\">Apr-2020</text></g><g class=\"xtick\"><text text-anchor=\"start\" x=\"0\" y=\"409\" style=\"font-family: 'Open Sans', verdana, arial, sans-serif; font-size: 12px; fill: rgb(42, 63, 95); fill-opacity: 1; white-space: pre; opacity: 1;\" transform=\"translate(349.67,0) rotate(90,0,403)\">May-2020</text></g><g class=\"xtick\"><text text-anchor=\"start\" x=\"0\" y=\"409\" style=\"font-family: 'Open Sans', verdana, arial, sans-serif; font-size: 12px; fill: rgb(42, 63, 95); fill-opacity: 1; white-space: pre; opacity: 1;\" transform=\"translate(359.5,0) rotate(90,0,403)\">Jun-2020</text></g><g class=\"xtick\"><text text-anchor=\"start\" x=\"0\" y=\"409\" style=\"font-family: 'Open Sans', verdana, arial, sans-serif; font-size: 12px; fill: rgb(42, 63, 95); fill-opacity: 1; white-space: pre; opacity: 1;\" transform=\"translate(369,0) rotate(90,0,403)\">Jul-2020</text></g><g class=\"xtick\"><text text-anchor=\"start\" x=\"0\" y=\"409\" style=\"font-family: 'Open Sans', verdana, arial, sans-serif; font-size: 12px; fill: rgb(42, 63, 95); fill-opacity: 1; white-space: pre; opacity: 1;\" transform=\"translate(378.83,0) rotate(90,0,403)\">Aug-2020</text></g><g class=\"xtick\"><text text-anchor=\"start\" x=\"0\" y=\"409\" style=\"font-family: 'Open Sans', verdana, arial, sans-serif; font-size: 12px; fill: rgb(42, 63, 95); fill-opacity: 1; white-space: pre; opacity: 1;\" transform=\"translate(388.65,0) rotate(90,0,403)\">Sep-2020</text></g><g class=\"xtick\"><text text-anchor=\"start\" x=\"0\" y=\"409\" style=\"font-family: 'Open Sans', verdana, arial, sans-serif; font-size: 12px; fill: rgb(42, 63, 95); fill-opacity: 1; white-space: pre; opacity: 1;\" transform=\"translate(398.16,0) rotate(90,0,403)\">Oct-2020</text></g><g class=\"xtick\"><text text-anchor=\"start\" x=\"0\" y=\"409\" style=\"font-family: 'Open Sans', verdana, arial, sans-serif; font-size: 12px; fill: rgb(42, 63, 95); fill-opacity: 1; white-space: pre; opacity: 1;\" transform=\"translate(407.98,0) rotate(90,0,403)\">Nov-2020</text></g><g class=\"xtick\"><text text-anchor=\"start\" x=\"0\" y=\"409\" style=\"font-family: 'Open Sans', verdana, arial, sans-serif; font-size: 12px; fill: rgb(42, 63, 95); fill-opacity: 1; white-space: pre; opacity: 1;\" transform=\"translate(417.49,0) rotate(90,0,403)\">Dec-2020</text></g><g class=\"xtick\"><text text-anchor=\"start\" x=\"0\" y=\"409\" style=\"font-family: 'Open Sans', verdana, arial, sans-serif; font-size: 12px; fill: rgb(42, 63, 95); fill-opacity: 1; white-space: pre; opacity: 1;\" transform=\"translate(427.31,0) rotate(90,0,403)\">Jan-2021</text></g><g class=\"xtick\"><text text-anchor=\"start\" x=\"0\" y=\"409\" style=\"font-family: 'Open Sans', verdana, arial, sans-serif; font-size: 12px; fill: rgb(42, 63, 95); fill-opacity: 1; white-space: pre; opacity: 1;\" transform=\"translate(437.13,0) rotate(90,0,403)\">Feb-2021</text></g><g class=\"xtick\"><text text-anchor=\"start\" x=\"0\" y=\"409\" style=\"font-family: 'Open Sans', verdana, arial, sans-serif; font-size: 12px; fill: rgb(42, 63, 95); fill-opacity: 1; white-space: pre; opacity: 1;\" transform=\"translate(446.01,0) rotate(90,0,403)\">Mar-2021</text></g><g class=\"xtick\"><text text-anchor=\"start\" x=\"0\" y=\"409\" style=\"font-family: 'Open Sans', verdana, arial, sans-serif; font-size: 12px; fill: rgb(42, 63, 95); fill-opacity: 1; white-space: pre; opacity: 1;\" transform=\"translate(455.83,0) rotate(90,0,403)\">Apr-2021</text></g><g class=\"xtick\"><text text-anchor=\"start\" x=\"0\" y=\"409\" style=\"font-family: 'Open Sans', verdana, arial, sans-serif; font-size: 12px; fill: rgb(42, 63, 95); fill-opacity: 1; white-space: pre; opacity: 1;\" transform=\"translate(465.34,0) rotate(90,0,403)\">May-2021</text></g><g class=\"xtick\"><text text-anchor=\"start\" x=\"0\" y=\"409\" style=\"font-family: 'Open Sans', verdana, arial, sans-serif; font-size: 12px; fill: rgb(42, 63, 95); fill-opacity: 1; white-space: pre; opacity: 1;\" transform=\"translate(475.16,0) rotate(90,0,403)\">Jun-2021</text></g><g class=\"xtick\"><text text-anchor=\"start\" x=\"0\" y=\"409\" style=\"font-family: 'Open Sans', verdana, arial, sans-serif; font-size: 12px; fill: rgb(42, 63, 95); fill-opacity: 1; white-space: pre; opacity: 1;\" transform=\"translate(484.67,0) rotate(90,0,403)\">Jul-2021</text></g><g class=\"xtick\"><text text-anchor=\"start\" x=\"0\" y=\"409\" style=\"font-family: 'Open Sans', verdana, arial, sans-serif; font-size: 12px; fill: rgb(42, 63, 95); fill-opacity: 1; white-space: pre; opacity: 1;\" transform=\"translate(494.49,0) rotate(90,0,403)\">Aug-2021</text></g><g class=\"xtick\"><text text-anchor=\"start\" x=\"0\" y=\"409\" style=\"font-family: 'Open Sans', verdana, arial, sans-serif; font-size: 12px; fill: rgb(42, 63, 95); fill-opacity: 1; white-space: pre; opacity: 1;\" transform=\"translate(504.31,0) rotate(90,0,403)\">Sep-2021</text></g><g class=\"xtick\"><text text-anchor=\"start\" x=\"0\" y=\"409\" style=\"font-family: 'Open Sans', verdana, arial, sans-serif; font-size: 12px; fill: rgb(42, 63, 95); fill-opacity: 1; white-space: pre; opacity: 1;\" transform=\"translate(513.8199999999999,0) rotate(90,0,403)\">Oct-2021</text></g><g class=\"xtick\"><text text-anchor=\"start\" x=\"0\" y=\"409\" style=\"font-family: 'Open Sans', verdana, arial, sans-serif; font-size: 12px; fill: rgb(42, 63, 95); fill-opacity: 1; white-space: pre; opacity: 1;\" transform=\"translate(523.64,0) rotate(90,0,403)\">Nov-2021</text></g><g class=\"xtick\"><text text-anchor=\"start\" x=\"0\" y=\"409\" style=\"font-family: 'Open Sans', verdana, arial, sans-serif; font-size: 12px; fill: rgb(42, 63, 95); fill-opacity: 1; white-space: pre; opacity: 1;\" transform=\"translate(533.15,0) rotate(90,0,403)\">Dec-2021</text></g><g class=\"xtick\"><text text-anchor=\"start\" x=\"0\" y=\"409\" style=\"font-family: 'Open Sans', verdana, arial, sans-serif; font-size: 12px; fill: rgb(42, 63, 95); fill-opacity: 1; white-space: pre; opacity: 1;\" transform=\"translate(542.97,0) rotate(90,0,403)\">Jan-2022</text></g><g class=\"xtick\"><text text-anchor=\"start\" x=\"0\" y=\"409\" style=\"font-family: 'Open Sans', verdana, arial, sans-serif; font-size: 12px; fill: rgb(42, 63, 95); fill-opacity: 1; white-space: pre; opacity: 1;\" transform=\"translate(552.8,0) rotate(90,0,403)\">Feb-2022</text></g><g class=\"xtick\"><text text-anchor=\"start\" x=\"0\" y=\"409\" style=\"font-family: 'Open Sans', verdana, arial, sans-serif; font-size: 12px; fill: rgb(42, 63, 95); fill-opacity: 1; white-space: pre; opacity: 1;\" transform=\"translate(561.6700000000001,0) rotate(90,0,403)\">Mar-2022</text></g><g class=\"xtick\"><text text-anchor=\"start\" x=\"0\" y=\"409\" style=\"font-family: 'Open Sans', verdana, arial, sans-serif; font-size: 12px; fill: rgb(42, 63, 95); fill-opacity: 1; white-space: pre; opacity: 1;\" transform=\"translate(571.49,0) rotate(90,0,403)\">Apr-2022</text></g><g class=\"xtick\"><text text-anchor=\"start\" x=\"0\" y=\"409\" style=\"font-family: 'Open Sans', verdana, arial, sans-serif; font-size: 12px; fill: rgb(42, 63, 95); fill-opacity: 1; white-space: pre; opacity: 1;\" transform=\"translate(581,0) rotate(90,0,403)\">May-2022</text></g></g><g class=\"yaxislayer-above\"><g class=\"ytick\"><text text-anchor=\"end\" x=\"79\" y=\"4.199999999999999\" transform=\"translate(0,356.86)\" style=\"font-family: 'Open Sans', verdana, arial, sans-serif; font-size: 12px; fill: rgb(42, 63, 95); fill-opacity: 1; white-space: pre; opacity: 1;\">100k</text></g><g class=\"ytick\"><text text-anchor=\"end\" x=\"79\" y=\"4.199999999999999\" style=\"font-family: 'Open Sans', verdana, arial, sans-serif; font-size: 12px; fill: rgb(42, 63, 95); fill-opacity: 1; white-space: pre; opacity: 1;\" transform=\"translate(0,316.28)\">200k</text></g><g class=\"ytick\"><text text-anchor=\"end\" x=\"79\" y=\"4.199999999999999\" style=\"font-family: 'Open Sans', verdana, arial, sans-serif; font-size: 12px; fill: rgb(42, 63, 95); fill-opacity: 1; white-space: pre; opacity: 1;\" transform=\"translate(0,275.71000000000004)\">300k</text></g><g class=\"ytick\"><text text-anchor=\"end\" x=\"79\" y=\"4.199999999999999\" style=\"font-family: 'Open Sans', verdana, arial, sans-serif; font-size: 12px; fill: rgb(42, 63, 95); fill-opacity: 1; white-space: pre; opacity: 1;\" transform=\"translate(0,235.14)\">400k</text></g><g class=\"ytick\"><text text-anchor=\"end\" x=\"79\" y=\"4.199999999999999\" style=\"font-family: 'Open Sans', verdana, arial, sans-serif; font-size: 12px; fill: rgb(42, 63, 95); fill-opacity: 1; white-space: pre; opacity: 1;\" transform=\"translate(0,194.57)\">500k</text></g><g class=\"ytick\"><text text-anchor=\"end\" x=\"79\" y=\"4.199999999999999\" style=\"font-family: 'Open Sans', verdana, arial, sans-serif; font-size: 12px; fill: rgb(42, 63, 95); fill-opacity: 1; white-space: pre; opacity: 1;\" transform=\"translate(0,153.99)\">600k</text></g><g class=\"ytick\"><text text-anchor=\"end\" x=\"79\" y=\"4.199999999999999\" style=\"font-family: 'Open Sans', verdana, arial, sans-serif; font-size: 12px; fill: rgb(42, 63, 95); fill-opacity: 1; white-space: pre; opacity: 1;\" transform=\"translate(0,113.42)\">700k</text></g></g><g class=\"overaxes-above\"/></g></g><g class=\"polarlayer\"/><g class=\"smithlayer\"/><g class=\"ternarylayer\"/><g class=\"geolayer\"/><g class=\"funnelarealayer\"/><g class=\"pielayer\"/><g class=\"iciclelayer\"/><g class=\"treemaplayer\"/><g class=\"sunburstlayer\"/><g class=\"glimages\"/><defs id=\"topdefs-a406fd\"><g class=\"clips\"/><clipPath id=\"legenda406fd\"><rect width=\"97\" height=\"67\" x=\"0\" y=\"0\"/></clipPath></defs><g class=\"layer-above\"><g class=\"imagelayer\"/><g class=\"shapelayer\"/></g><g class=\"infolayer\"><g class=\"legend\" pointer-events=\"all\" transform=\"translate(591.02,100)\"><rect class=\"bg\" shape-rendering=\"crispEdges\" width=\"97\" height=\"67\" x=\"0\" y=\"0\" style=\"stroke: rgb(68, 68, 68); stroke-opacity: 1; fill: rgb(255, 255, 255); fill-opacity: 1; stroke-width: 0px;\"/><g class=\"scrollbox\" transform=\"\" clip-path=\"url(#legenda406fd)\"><text class=\"legendtitletext\" text-anchor=\"start\" x=\"2\" y=\"18.2\" style=\"font-family: 'Open Sans', verdana, arial, sans-serif; font-size: 14px; fill: rgb(42, 63, 95); fill-opacity: 1; white-space: pre;\">Sector</text><g class=\"groups\" transform=\"\"><g class=\"traces\" transform=\"translate(0,32.7)\" style=\"opacity: 1;\"><text class=\"legendtext\" text-anchor=\"start\" x=\"40\" y=\"4.680000000000001\" style=\"font-family: 'Open Sans', verdana, arial, sans-serif; font-size: 12px; fill: rgb(42, 63, 95); fill-opacity: 1; white-space: pre;\">PRIVATE</text><g class=\"layers\" style=\"opacity: 1;\"><g class=\"legendfill\"/><g class=\"legendlines\"><path class=\"js-line\" d=\"M5,0h30\" style=\"fill: none; stroke: rgb(99, 110, 250); stroke-opacity: 1; stroke-width: 2px;\"/></g><g class=\"legendsymbols\"><g class=\"legendpoints\"/></g></g><rect class=\"legendtoggle\" x=\"0\" y=\"-9.5\" width=\"91.390625\" height=\"19\" style=\"fill: rgb(0, 0, 0); fill-opacity: 0;\"/></g></g><g class=\"groups\" transform=\"\"><g class=\"traces\" transform=\"translate(0,51.7)\" style=\"opacity: 1;\"><text class=\"legendtext\" text-anchor=\"start\" x=\"40\" y=\"4.680000000000001\" style=\"font-family: 'Open Sans', verdana, arial, sans-serif; font-size: 12px; fill: rgb(42, 63, 95); fill-opacity: 1; white-space: pre;\">PUBLIC</text><g class=\"layers\" style=\"opacity: 1;\"><g class=\"legendfill\"/><g class=\"legendlines\"><path class=\"js-line\" d=\"M5,0h30\" style=\"fill: none; stroke: rgb(239, 85, 59); stroke-opacity: 1; stroke-width: 2px;\"/></g><g class=\"legendsymbols\"><g class=\"legendpoints\"/></g></g><rect class=\"legendtoggle\" x=\"0\" y=\"-9.5\" width=\"91.390625\" height=\"19\" style=\"fill: rgb(0, 0, 0); fill-opacity: 0;\"/></g></g></g><rect class=\"scrollbar\" rx=\"20\" ry=\"3\" width=\"0\" height=\"0\" x=\"0\" y=\"0\" style=\"fill: rgb(128, 139, 164); fill-opacity: 1;\"/></g><g class=\"g-gtitle\"><text class=\"gtitle\" x=\"35\" y=\"50\" text-anchor=\"start\" dy=\"0em\" style=\"font-family: 'Open Sans', verdana, arial, sans-serif; font-size: 17px; fill: rgb(42, 63, 95); opacity: 1; font-weight: normal; white-space: pre;\">Total People Served to category II</text></g><g class=\"g-xtitle\"><text class=\"xtitle\" x=\"330.5\" y=\"488.2375\" text-anchor=\"middle\" style=\"font-family: 'Open Sans', verdana, arial, sans-serif; font-size: 14px; fill: rgb(42, 63, 95); opacity: 1; font-weight: normal; white-space: pre;\">Date</text></g><g class=\"g-ytitle\"><text class=\"ytitle\" transform=\"rotate(-90,24.200000000000003,248)\" x=\"24.200000000000003\" y=\"248\" text-anchor=\"middle\" style=\"font-family: 'Open Sans', verdana, arial, sans-serif; font-size: 14px; fill: rgb(42, 63, 95); opacity: 1; font-weight: normal; white-space: pre;\">Diagnosis Codes (qty)</text></g></g></svg>"
      ]
     },
     "metadata": {},
     "output_type": "display_data"
    }
   ],
   "source": [
    "# DF TEMPORAL\n",
    "data_temp = diagnosis_df[(diagnosis_df['CATEGORY2']==TAG_CATEGORY)].reset_index(drop=True)\n",
    "\n",
    "data_temp = data_temp.pivot_table(index=['DATE'],\n",
    "                                  columns=['SECTOR_R'],\n",
    "                                  values='QTY_PEOPLE_SERVED').fillna(0)\n",
    "data_temp = data_temp.reset_index().rename_axis(None, axis=1)\n",
    "\n",
    "# FIGURA\n",
    "columns_name = list(data_temp.columns)[1:]\n",
    "fig = px.line(data_temp, \n",
    "              x=\"DATE\", \n",
    "              y=columns_name,\n",
    "              hover_data={\"DATE\": \"|%Y %b\"},\n",
    "              labels={\n",
    "                     \"value\": \"Diagnosis Codes (qty)\",\n",
    "                     \"DATE\": \"Date\",\n",
    "                     \"variable\": \"Sector\"\n",
    "                 },\n",
    "              title='Total People Served to category ' + TAG_CATEGORY)\n",
    "\n",
    "fig.update_xaxes(\n",
    "    dtick=\"M1\",\n",
    "    tickformat=\"%b-%Y\")\n",
    "\n",
    "fig.show(renderer=\"svg\")\n",
    "#fig.show()"
   ]
  },
  {
   "cell_type": "markdown",
   "id": "da9a7c37",
   "metadata": {},
   "source": [
    "### Filter & counts to hospitals details"
   ]
  },
  {
   "cell_type": "code",
   "execution_count": 117,
   "id": "e1600259",
   "metadata": {},
   "outputs": [],
   "source": [
    "# start_date = '2019-01-01'\n",
    "# end_date = '2019-09-01'\n",
    "\n",
    "data_temp = hospitals_list_df[(hospitals_list_df['CATEGORY2']==TAG_CATEGORY)].reset_index(drop=True)\n",
    "#data_temp = data_temp[(data_temp['DATE'] >= start_date) & (data_temp['DATE'] < end_date)].reset_index(drop=True)\n",
    "del data_temp['CATEGORY2']\n",
    "\n",
    "# Qty of hospitals per date/sector/sex\n",
    "dates_hospital_df = []\n",
    "for date in set(data_temp['DATE']):\n",
    "    for sector in set(data_temp['SECTOR_R']):\n",
    "        df_temp = data_temp[(data_temp['DATE']==date) & (data_temp['SECTOR_R']==sector)]\n",
    "        female = set(df_temp.iloc[0,3])\n",
    "        male = set(df_temp.iloc[1,3])\n",
    "        intersection = male & female\n",
    "        union = male | female\n",
    "        diference = male ^ female\n",
    "        only_female = list(female - male)\n",
    "        only_male =  list(male - female)\n",
    "        abc = [date, sector, len(female), len(male), len(intersection), len(union), len(diference)]\n",
    "        dates_hospital_df.append(abc)\n",
    "        \n",
    "dates_hospital_df = pd.DataFrame(dates_hospital_df, columns = ['DATE', 'SECTOR_R', 'FEMALE', 'MALE','INTER', 'UNION', 'DIFFERENCE'])\n",
    "dates_hospital_df = dates_hospital_df.sort_values(by=['DATE', 'SECTOR_R'], ascending=True)\n",
    "\n",
    "# Qty of people per date/sector/hospital/sex\n",
    "data_temp = people_df[(people_df['CATEGORY2']==TAG_CATEGORY)].reset_index(drop=True)\n",
    "#data_temp = data_temp[(data_temp['DATE'] >= start_date) & (data_temp['DATE'] < end_date)].reset_index(drop=True)\n",
    "del data_temp['CATEGORY2']\n",
    "data_temp = data_temp.sort_values(by=['DATE', 'SECTOR_R','CO_IPRESS', 'SEX'], ascending=True)\n",
    "data_temp = data_temp.groupby(['DATE', 'SECTOR_R',\n",
    "                               'SEX']).agg(PEOPLE_SERVED=('PEOPLE_SERVED', 'sum'),\n",
    "                                           UNIQUE_DIAGNOSIS=('UNIQUE_DIAGNOSIS', 'sum'),\n",
    "                                           TOTAL_DIAGNOSIS=('TOTAL_DIAGNOSIS', 'sum'))\n",
    "data_temp = data_temp.reset_index()"
   ]
  },
  {
   "cell_type": "code",
   "execution_count": 118,
   "id": "932ec04d",
   "metadata": {},
   "outputs": [
    {
     "data": {
      "text/html": [
       "<div>\n",
       "<style scoped>\n",
       "    .dataframe tbody tr th:only-of-type {\n",
       "        vertical-align: middle;\n",
       "    }\n",
       "\n",
       "    .dataframe tbody tr th {\n",
       "        vertical-align: top;\n",
       "    }\n",
       "\n",
       "    .dataframe thead th {\n",
       "        text-align: right;\n",
       "    }\n",
       "</style>\n",
       "<table border=\"1\" class=\"dataframe\">\n",
       "  <thead>\n",
       "    <tr style=\"text-align: right;\">\n",
       "      <th></th>\n",
       "      <th>DATE</th>\n",
       "      <th>SECTOR_R</th>\n",
       "      <th>FEMALE</th>\n",
       "      <th>MALE</th>\n",
       "      <th>INTER</th>\n",
       "      <th>UNION</th>\n",
       "      <th>DIFFERENCE</th>\n",
       "    </tr>\n",
       "  </thead>\n",
       "  <tbody>\n",
       "    <tr>\n",
       "      <th>48</th>\n",
       "      <td>2018-01-01</td>\n",
       "      <td>PRIVATE</td>\n",
       "      <td>104</td>\n",
       "      <td>103</td>\n",
       "      <td>103</td>\n",
       "      <td>104</td>\n",
       "      <td>1</td>\n",
       "    </tr>\n",
       "    <tr>\n",
       "      <th>49</th>\n",
       "      <td>2018-01-01</td>\n",
       "      <td>PUBLIC</td>\n",
       "      <td>20</td>\n",
       "      <td>20</td>\n",
       "      <td>20</td>\n",
       "      <td>20</td>\n",
       "      <td>0</td>\n",
       "    </tr>\n",
       "    <tr>\n",
       "      <th>68</th>\n",
       "      <td>2018-02-01</td>\n",
       "      <td>PRIVATE</td>\n",
       "      <td>107</td>\n",
       "      <td>102</td>\n",
       "      <td>102</td>\n",
       "      <td>107</td>\n",
       "      <td>5</td>\n",
       "    </tr>\n",
       "    <tr>\n",
       "      <th>69</th>\n",
       "      <td>2018-02-01</td>\n",
       "      <td>PUBLIC</td>\n",
       "      <td>20</td>\n",
       "      <td>20</td>\n",
       "      <td>20</td>\n",
       "      <td>20</td>\n",
       "      <td>0</td>\n",
       "    </tr>\n",
       "    <tr>\n",
       "      <th>16</th>\n",
       "      <td>2018-03-01</td>\n",
       "      <td>PRIVATE</td>\n",
       "      <td>107</td>\n",
       "      <td>105</td>\n",
       "      <td>105</td>\n",
       "      <td>107</td>\n",
       "      <td>2</td>\n",
       "    </tr>\n",
       "  </tbody>\n",
       "</table>\n",
       "</div>"
      ],
      "text/plain": [
       "         DATE SECTOR_R  FEMALE  MALE  INTER  UNION  DIFFERENCE\n",
       "48 2018-01-01  PRIVATE     104   103    103    104           1\n",
       "49 2018-01-01   PUBLIC      20    20     20     20           0\n",
       "68 2018-02-01  PRIVATE     107   102    102    107           5\n",
       "69 2018-02-01   PUBLIC      20    20     20     20           0\n",
       "16 2018-03-01  PRIVATE     107   105    105    107           2"
      ]
     },
     "execution_count": 118,
     "metadata": {},
     "output_type": "execute_result"
    }
   ],
   "source": [
    "dates_hospital_df.head()"
   ]
  },
  {
   "cell_type": "markdown",
   "id": "73408776",
   "metadata": {},
   "source": [
    "### Normalization to All hospitals"
   ]
  },
  {
   "cell_type": "code",
   "execution_count": 119,
   "id": "cba091d7",
   "metadata": {},
   "outputs": [],
   "source": [
    "PARAMS = 'INTER'\n",
    "normalized_df = pd.merge(data_temp, dates_hospital_df[['DATE','SECTOR_R',PARAMS]], how='left', on=('DATE','SECTOR_R'))\n",
    "pre_normalized_df = normalized_df.copy()\n",
    "# normalized_df['PEOPLE_SERVED_NORMALIZED'] = normalized_df['PEOPLE_SERVED'] / normalized_df[PARAMS]\n",
    "# normalized_df['UNIQUE_DIAGNOSIS_NORMALIZED'] = normalized_df['UNIQUE_DIAGNOSIS'] / normalized_df[PARAMS]\n",
    "# normalized_df['TOTAL_DIAGNOSIS_NORMALIZED'] = normalized_df['TOTAL_DIAGNOSIS'] / normalized_df[PARAMS]\n",
    "\n",
    "# for a in set(normalized_df.DATE):\n",
    "#     for b in set(normalized_df.SECTOR_R):\n",
    "#         rest_temp_df = normalized_df[(normalized_df.DATE==a) & (normalized_df.SECTOR_R==b)]\n",
    "#         total_resumen = [a,\n",
    "#                          b,\n",
    "#                          'SEX_AVG',\n",
    "#                          rest_temp_df['PEOPLE_SERVED'].mean(),\n",
    "#                          rest_temp_df['UNIQUE_DIAGNOSIS'].mean(),\n",
    "#                          rest_temp_df['TOTAL_DIAGNOSIS'].mean(),\n",
    "#                          rest_temp_df[PARAMS].mean(),\n",
    "#                          rest_temp_df['PEOPLE_SERVED_NORMALIZED'].mean(),\n",
    "#                          rest_temp_df['UNIQUE_DIAGNOSIS_NORMALIZED'].mean(),\n",
    "#                          rest_temp_df['TOTAL_DIAGNOSIS_NORMALIZED'].mean()\n",
    "#                         ]\n",
    "#         normalized_df.loc[len(normalized_df)] = total_resumen\n",
    "        \n",
    "# for a in set(normalized_df.DATE):\n",
    "#     rest_temp_df = normalized_df[(normalized_df.DATE==a)]\n",
    "#     total_resumen = [a,\n",
    "#                      'TOTAL',\n",
    "#                      'SECTOR_AVG',\n",
    "#                      rest_temp_df['PEOPLE_SERVED'].mean(),\n",
    "#                      rest_temp_df['UNIQUE_DIAGNOSIS'].mean(),\n",
    "#                      rest_temp_df['TOTAL_DIAGNOSIS'].mean(),\n",
    "#                      rest_temp_df[PARAMS].mean(),\n",
    "#                      rest_temp_df['PEOPLE_SERVED_NORMALIZED'].mean(),\n",
    "#                      rest_temp_df['UNIQUE_DIAGNOSIS_NORMALIZED'].mean(),\n",
    "#                      rest_temp_df['TOTAL_DIAGNOSIS_NORMALIZED'].mean()\n",
    "#                     ]\n",
    "#     normalized_df.loc[len(normalized_df)] = total_resumen\n",
    "                \n",
    "# normalized_df = normalized_df.sort_values(by=['DATE', 'SECTOR_R', 'SEX'], ascending=False)   "
   ]
  },
  {
   "cell_type": "raw",
   "id": "bcea377c",
   "metadata": {},
   "source": [
    "# PEOPLE SERVED\n",
    "fig = px.line(normalized_df, \n",
    "             x=\"DATE\", \n",
    "             y=\"PEOPLE_SERVED_NORMALIZED\", \n",
    "             color=\"SEX\", \n",
    "             facet_col=\"SECTOR_R\",\n",
    "             width=800, height=500,\n",
    "             color_discrete_map = dict_colors,\n",
    "             title='Total people served to Category ' + TAG_CATEGORY + ' (Normalized per sex)',\n",
    "            )\n",
    "\n",
    "#fig.show()\n",
    "fig.show(renderer=\"svg\")"
   ]
  },
  {
   "cell_type": "markdown",
   "id": "19893970",
   "metadata": {},
   "source": [
    "### Normalization to During (Apr-May-Jun)"
   ]
  },
  {
   "cell_type": "raw",
   "id": "ef18e167",
   "metadata": {},
   "source": [
    "start_date = '2020-04-01'\n",
    "end_date = '2020-07-01'\n",
    "\n",
    "hospitals_sector_df = hospitals_list_df[(hospitals_list_df['CATEGORY2']==TAG_CATEGORY)].reset_index(drop=True)\n",
    "data_temp = hospitals_sector_df[(hospitals_sector_df['DATE'] >= start_date) & (hospitals_sector_df['DATE'] < end_date)].reset_index(drop=True)\n",
    "del data_temp['CATEGORY2']\n",
    "\n",
    "# Qty of hospitals per date/sector/sex\n",
    "dates_hospital_df = []\n",
    "for date in set(data_temp['DATE']):\n",
    "    for sector in set(data_temp['SECTOR_R']):\n",
    "        df_temp = data_temp[(data_temp['DATE']==date) & (data_temp['SECTOR_R']==sector)]\n",
    "        female = set(df_temp.iloc[0,3])\n",
    "        male = set(df_temp.iloc[1,3])\n",
    "        intersection = male & female\n",
    "        union = male | female\n",
    "        diference = male ^ female\n",
    "        only_female = list(female - male)\n",
    "        only_male =  list(male - female)\n",
    "        abc = [date, sector, len(female), len(male), len(intersection), len(union), len(diference)]\n",
    "        dates_hospital_df.append(abc)\n",
    "        \n",
    "dates_hospital_df = pd.DataFrame(dates_hospital_df, columns = ['DATE', 'SECTOR_R', 'FEMALE', 'MALE','INTER', 'UNION', 'DIFFERENCE'])\n",
    "dates_hospital_df = dates_hospital_df.sort_values(by=['DATE', 'SECTOR_R'], ascending=True)\n",
    "\n",
    "# Qty of people per date/sector/hospital/sex\n",
    "data_temp = people_df[(people_df['CATEGORY2']==TAG_CATEGORY)].reset_index(drop=True)\n",
    "data_temp = data_temp[(data_temp['DATE'] >= start_date) & (data_temp['DATE'] < end_date)].reset_index(drop=True)\n",
    "del data_temp['CATEGORY2']\n",
    "data_temp = data_temp.sort_values(by=['DATE', 'SECTOR_R','CO_IPRESS', 'SEX'], ascending=True)\n",
    "data_temp = data_temp.groupby(['DATE', 'SECTOR_R',\n",
    "                               'SEX']).agg(PEOPLE_SERVED=('PEOPLE_SERVED', 'sum'),\n",
    "                                           UNIQUE_DIAGNOSIS=('UNIQUE_DIAGNOSIS', 'sum'),\n",
    "                                           TOTAL_DIAGNOSIS=('TOTAL_DIAGNOSIS', 'sum'))\n",
    "data_temp = data_temp.reset_index()"
   ]
  },
  {
   "cell_type": "raw",
   "id": "daceb801",
   "metadata": {},
   "source": [
    "PARAMS = 'INTER'\n",
    "normalized_df = pd.merge(data_temp, dates_hospital_df[['DATE','SECTOR_R',PARAMS]], how='left', on=('DATE','SECTOR_R'))\n",
    "normalized_df['PEOPLE_SERVED_NORMALIZED'] = normalized_df['PEOPLE_SERVED'] / normalized_df[PARAMS]\n",
    "normalized_df['UNIQUE_DIAGNOSIS_NORMALIZED'] = normalized_df['UNIQUE_DIAGNOSIS'] / normalized_df[PARAMS]\n",
    "normalized_df['TOTAL_DIAGNOSIS_NORMALIZED'] = normalized_df['TOTAL_DIAGNOSIS'] / normalized_df[PARAMS]\n",
    "\n",
    "for a in set(normalized_df.DATE):\n",
    "    for b in set(normalized_df.SECTOR_R):\n",
    "        rest_temp_df = normalized_df[(normalized_df.DATE==a) & (normalized_df.SECTOR_R==b)]\n",
    "        total_resumen = [a,\n",
    "                         b,\n",
    "                         'SEX_AVG',\n",
    "                         rest_temp_df['PEOPLE_SERVED'].mean(),\n",
    "                         rest_temp_df['UNIQUE_DIAGNOSIS'].mean(),\n",
    "                         rest_temp_df['TOTAL_DIAGNOSIS'].mean(),\n",
    "                         rest_temp_df[PARAMS].mean(),\n",
    "                         rest_temp_df['PEOPLE_SERVED_NORMALIZED'].mean(),\n",
    "                         rest_temp_df['UNIQUE_DIAGNOSIS_NORMALIZED'].mean(),\n",
    "                         rest_temp_df['TOTAL_DIAGNOSIS_NORMALIZED'].mean()\n",
    "                        ]\n",
    "        normalized_df.loc[len(normalized_df)] = total_resumen\n",
    "        \n",
    "for a in set(normalized_df.DATE):\n",
    "    rest_temp_df = normalized_df[(normalized_df.DATE==a)]\n",
    "    total_resumen = [a,\n",
    "                     'TOTAL',\n",
    "                     'SECTOR_AVG',\n",
    "                     rest_temp_df['PEOPLE_SERVED'].mean(),\n",
    "                     rest_temp_df['UNIQUE_DIAGNOSIS'].mean(),\n",
    "                     rest_temp_df['TOTAL_DIAGNOSIS'].mean(),\n",
    "                     rest_temp_df[PARAMS].mean(),\n",
    "                     rest_temp_df['PEOPLE_SERVED_NORMALIZED'].mean(),\n",
    "                     rest_temp_df['UNIQUE_DIAGNOSIS_NORMALIZED'].mean(),\n",
    "                     rest_temp_df['TOTAL_DIAGNOSIS_NORMALIZED'].mean()\n",
    "                    ]\n",
    "    normalized_df.loc[len(normalized_df)] = total_resumen\n",
    "                \n",
    "normalized_df = normalized_df.sort_values(by=['DATE', 'SECTOR_R', 'SEX'], ascending=False)   "
   ]
  },
  {
   "cell_type": "raw",
   "id": "62ab8273",
   "metadata": {},
   "source": [
    "# PEOPLE SERVED\n",
    "fig = px.line(normalized_df, \n",
    "             x=\"DATE\", \n",
    "             y=\"PEOPLE_SERVED_NORMALIZED\", \n",
    "             color=\"SEX\", \n",
    "             facet_col=\"SECTOR_R\",\n",
    "             width=800, height=500,\n",
    "             color_discrete_map = dict_colors,\n",
    "             title='Total people served to Category ' + TAG_CATEGORY + ' (Normalized per sex)',\n",
    "            )\n",
    "\n",
    "\n",
    "fig.show(renderer=\"svg\")\n"
   ]
  },
  {
   "cell_type": "markdown",
   "id": "e90d024a",
   "metadata": {},
   "source": [
    "### Normalization to Hospitals that register Covid pacientes During (Apr-May-Jun)"
   ]
  },
  {
   "cell_type": "code",
   "execution_count": 120,
   "id": "ff1d1d4e",
   "metadata": {},
   "outputs": [],
   "source": [
    "diagnostics_tag = list(set(all_data['DISEASE_GROUP']))\n",
    "\n",
    "cmap = cm.get_cmap('tab20b', 256)\n",
    "colorsb = cmap(np.linspace(0, 1, 20))\n",
    "cmap = cm.get_cmap('tab20c', 256)\n",
    "colorsc = cmap(np.linspace(0, 1, 20))[8:-4]\n",
    "\n",
    "colors = list(colorsc)+list(colorsb)\n",
    "\n",
    "dict_colors = {}\n",
    "counter = 0\n",
    "for d in diagnostics_tag:\n",
    "    x=colors[counter]\n",
    "    dict_colors[d]=matplotlib.colors.rgb2hex(x)\n",
    "    counter+=1"
   ]
  },
  {
   "cell_type": "code",
   "execution_count": 121,
   "id": "0b23fe1b",
   "metadata": {},
   "outputs": [
    {
     "data": {
      "image/png": "[encoded data removed]",
      "text/plain": [
       "<Figure size 864x504 with 1 Axes>"
      ]
     },
     "metadata": {
      "needs_background": "light"
     },
     "output_type": "display_data"
    }
   ],
   "source": [
    "PARAMETER = 'DISEASE_GROUP'\n",
    "\n",
    "data_temp = all_data.groupby(['DATE', PARAMETER]).agg({ 'QTY_PEOPLE_SERVED': \"sum\"})\n",
    "data_temp = data_temp.reset_index()\n",
    "\n",
    "top_df = pd.DataFrame()\n",
    "date_uniques = np.sort(data_temp['DATE'].unique())\n",
    "\n",
    "for date in date_uniques:\n",
    "    temp_df = data_temp[data_temp['DATE']==date]\n",
    "    temp_df = temp_df.sort_values(by=['QTY_PEOPLE_SERVED'], ascending=False)\n",
    "    temp_df = temp_df.reset_index(drop=True)\n",
    "    temp_df = temp_df.head(5).reset_index(drop=True)\n",
    "    top_df = pd.concat([top_df, temp_df])\n",
    "    \n",
    "diagnosis = top_df[PARAMETER].unique()\n",
    "\n",
    "# For ausent dates\n",
    "for date in date_uniques:\n",
    "    temp_df = top_df[top_df['DATE']==date]\n",
    "    diagnosis_temp = list(set(diagnosis) - set(temp_df[PARAMETER].values))\n",
    "    temp_df = pd.DataFrame(diagnosis_temp, columns =[PARAMETER])\n",
    "    temp_df['DATE']=date\n",
    "    temp_df['QTY_PEOPLE_SERVED']=0\n",
    "    top_df = pd.concat([top_df, temp_df])\n",
    "\n",
    "top_df = top_df.sort_values(by=['DATE', PARAMETER], ascending=True)\n",
    "\n",
    "x_element = [str(item)[:7] for item in np.unique(top_df['DATE'])]\n",
    "n = len(x_element)\n",
    "ind = np.arange(n) \n",
    "width = 0.40\n",
    "\n",
    "fig = plt.figure(figsize=(12,7))\n",
    "ax = fig.add_axes([0,0,1,1])\n",
    "\n",
    "values_temp = 0\n",
    "i = 0\n",
    "for diag in diagnosis:\n",
    "    temp_df = top_df[top_df[PARAMETER]==diag]\n",
    "    values = temp_df['QTY_PEOPLE_SERVED'].values\n",
    "    ax.bar(ind, values, width, bottom=values_temp, color=dict_colors[diag])\n",
    "    values_temp = values_temp + values\n",
    "    i+=1\n",
    "\n",
    "ax.set_ylabel('People served')\n",
    "ax.set_title('People served by diagnosis')\n",
    "ax.set_xticks(ind)\n",
    "ax.set_xticklabels(x_element, rotation=45)\n",
    "ax.yaxis.set_major_formatter(millions)\n",
    "\n",
    "ax.legend(labels=diagnosis, bbox_to_anchor = (1.15, 1))\n",
    "plt.show()\n"
   ]
  },
  {
   "cell_type": "raw",
   "id": "e1eceea0",
   "metadata": {},
   "source": [
    "PARAMS = 'INTER'\n",
    "normalized_df = pd.merge(data_temp, dates_hospital_df[['DATE','SECTOR_R',PARAMS]], how='left', on=('DATE','SECTOR_R'))\n",
    "normalized_df['PEOPLE_SERVED_NORMALIZED'] = normalized_df['PEOPLE_SERVED'] / normalized_df[PARAMS]\n",
    "normalized_df['UNIQUE_DIAGNOSIS_NORMALIZED'] = normalized_df['UNIQUE_DIAGNOSIS'] / normalized_df[PARAMS]\n",
    "normalized_df['TOTAL_DIAGNOSIS_NORMALIZED'] = normalized_df['TOTAL_DIAGNOSIS'] / normalized_df[PARAMS]\n",
    "\n",
    "for a in set(normalized_df.DATE):\n",
    "    for b in set(normalized_df.SECTOR_R):\n",
    "        rest_temp_df = normalized_df[(normalized_df.DATE==a) & (normalized_df.SECTOR_R==b)]\n",
    "        total_resumen = [a,\n",
    "                         b,\n",
    "                         'SEX_AVG',\n",
    "                         rest_temp_df['PEOPLE_SERVED'].mean(),\n",
    "                         rest_temp_df['UNIQUE_DIAGNOSIS'].mean(),\n",
    "                         rest_temp_df['TOTAL_DIAGNOSIS'].mean(),\n",
    "                         rest_temp_df[PARAMS].mean(),\n",
    "                         rest_temp_df['PEOPLE_SERVED_NORMALIZED'].mean(),\n",
    "                         rest_temp_df['UNIQUE_DIAGNOSIS_NORMALIZED'].mean(),\n",
    "                         rest_temp_df['TOTAL_DIAGNOSIS_NORMALIZED'].mean()\n",
    "                        ]\n",
    "        normalized_df.loc[len(normalized_df)] = total_resumen\n",
    "        \n",
    "for a in set(normalized_df.DATE):\n",
    "    rest_temp_df = normalized_df[(normalized_df.DATE==a)]\n",
    "    total_resumen = [a,\n",
    "                     'TOTAL',\n",
    "                     'SECTOR_AVG',\n",
    "                     rest_temp_df['PEOPLE_SERVED'].mean(),\n",
    "                     rest_temp_df['UNIQUE_DIAGNOSIS'].mean(),\n",
    "                     rest_temp_df['TOTAL_DIAGNOSIS'].mean(),\n",
    "                     rest_temp_df[PARAMS].mean(),\n",
    "                     rest_temp_df['PEOPLE_SERVED_NORMALIZED'].mean(),\n",
    "                     rest_temp_df['UNIQUE_DIAGNOSIS_NORMALIZED'].mean(),\n",
    "                     rest_temp_df['TOTAL_DIAGNOSIS_NORMALIZED'].mean()\n",
    "                    ]\n",
    "    normalized_df.loc[len(normalized_df)] = total_resumen\n",
    "                \n",
    "normalized_df = normalized_df.sort_values(by=['DATE', 'SECTOR_R', 'SEX'], ascending=False)   "
   ]
  },
  {
   "cell_type": "raw",
   "id": "14a947b8",
   "metadata": {
    "scrolled": false
   },
   "source": [
    "start_date = '2020-04-01'\n",
    "end_date = '2020 -07-01'\n",
    "\n",
    "special_df = all_data[(all_data['DISEASE_GROUP'].isin(['Codes for special situations','Unidentified']))].reset_index(drop=True)\n",
    "special_df = special_df[(special_df['DATE'] >= start_date) & (special_df['DATE'] < end_date)].reset_index(drop=True)\n",
    "special_hospitals_list = list(set(special_df['CO_IPRESS']))\n",
    "\n",
    "special_hospitals_df = all_data[~(all_data['CO_IPRESS'].isin(special_hospitals_list))].reset_index(drop=True)\n",
    "special_hospitals_df.head()"
   ]
  },
  {
   "cell_type": "raw",
   "id": "b27a0b8e",
   "metadata": {},
   "source": [
    "# Number of hospital\n",
    "hospitals_df = special_hospitals_df.groupby(['DATE', 'CATEGORY2', 'SECTOR_R',\n",
    "                                 'CO_IPRESS']).agg(QTY_PEOPLE_SERVED=('QTY_PEOPLE_SERVED', 'sum'))\n",
    "hospitals_df = hospitals_df.reset_index()\n",
    "hospitals_df = hospitals_df.groupby(['DATE', 'CATEGORY2',\n",
    "                                     'SECTOR_R']).agg(QTY_HOSPITALS=('CO_IPRESS', 'count'),\n",
    "                                                      QTY_PEOPLE_SERVED=('QTY_PEOPLE_SERVED', 'sum'))\n",
    "hospitals_df = hospitals_df.reset_index()\n",
    "# DF TEMPORAL\n",
    "data_temp = hospitals_df[(hospitals_df['CATEGORY2']==TAG_CATEGORY)].reset_index(drop=True)\n",
    "\n",
    "data_temp = data_temp.pivot_table(index=['DATE'],\n",
    "                                  columns=['SECTOR_R'],\n",
    "                                  values='QTY_HOSPITALS').fillna(0)\n",
    "data_temp = data_temp.reset_index().rename_axis(None, axis=1)\n",
    "\n",
    "# FIGURA\n",
    "columns_name = list(data_temp.columns)[1:]\n",
    "fig = px.line(data_temp, \n",
    "              x=\"DATE\", \n",
    "              y=columns_name,\n",
    "              hover_data={\"DATE\": \"|%Y %b\"},\n",
    "              labels={\n",
    "                  \"value\": \"Hospitals (qty)\",\n",
    "                  \"DATE\": \"Date\",\n",
    "                  \"variable\": \"Sector\"\n",
    "              },\n",
    "              title='Total Hospitals to Category ' + TAG_CATEGORY)\n",
    "\n",
    "fig.update_xaxes(\n",
    "    dtick=\"M1\",\n",
    "    tickformat=\"%b-%Y\")\n",
    "\n",
    "fig.show(renderer=\"svg\")\n",
    "#fig.show()\n"
   ]
  },
  {
   "cell_type": "raw",
   "id": "72ff1f33",
   "metadata": {},
   "source": [
    "# Number of People per Category, Sex and Hospytal\n",
    "people_df = special_hospitals_df.groupby(['DATE', 'CATEGORY2', 'SECTOR_R', 'CO_IPRESS', 'SEX',\n",
    "                              'DIAGNOSIS_ID']).agg(QTY_RECORDS=('QTY_PEOPLE_SERVED', 'count'),\n",
    "                                                   QTY_PEOPLE_SERVED=('QTY_PEOPLE_SERVED', 'sum'))\n",
    "people_df = people_df.reset_index()\n",
    "\n",
    "people_df = people_df.groupby(['DATE', 'CATEGORY2', 'SECTOR_R', 'CO_IPRESS',\n",
    "                               'SEX']).agg(PEOPLE_SERVED=('QTY_PEOPLE_SERVED', 'sum'),\n",
    "                                           UNIQUE_DIAGNOSIS=('QTY_PEOPLE_SERVED', 'count'),\n",
    "                                           TOTAL_DIAGNOSIS=('QTY_RECORDS', 'sum'))\n",
    "people_df = people_df.reset_index()\n",
    "people_df = people_df.sort_values(by=['DATE', 'CATEGORY2', 'SECTOR_R','CO_IPRESS', 'SEX'], ascending=False)\n",
    "people_df = people_df.reset_index(drop=True)\n",
    "\n",
    "# List of hospitals\n",
    "hospitals_list_df =  special_hospitals_df.groupby(['DATE', 'CATEGORY2', 'SECTOR_R', 'SEX',\n",
    "                                       'CO_IPRESS']).agg(ABC=('DISEASE_GROUP', 'count'))\n",
    "hospitals_list_df = hospitals_list_df.reset_index()\n",
    "hospitals_list_df = hospitals_list_df.groupby(['DATE', 'CATEGORY2', 'SECTOR_R', \n",
    "                                               'SEX'])['CO_IPRESS'].apply(list).reset_index(name='HOSPITALS')\n",
    "hospitals_list_df = hospitals_list_df.sort_values(by=['DATE', 'SECTOR_R', 'SEX'], ascending=True)\n",
    "hospitals_list_df = hospitals_list_df.reset_index(drop=True)"
   ]
  },
  {
   "cell_type": "raw",
   "id": "cc038360",
   "metadata": {},
   "source": [
    "# start_date = '2019-01-01'\n",
    "# end_date = '2019-09-01'\n",
    "\n",
    "data_temp = hospitals_list_df[(hospitals_list_df['CATEGORY2']==TAG_CATEGORY)].reset_index(drop=True)\n",
    "#data_temp = data_temp[(data_temp['DATE'] >= start_date) & (data_temp['DATE'] < end_date)].reset_index(drop=True)\n",
    "del data_temp['CATEGORY2']\n",
    "\n",
    "# Qty of hospitals per date/sector/sex\n",
    "dates_hospital_df = []\n",
    "for date in set(data_temp['DATE']):\n",
    "    for sector in set(data_temp['SECTOR_R']):\n",
    "        df_temp = data_temp[(data_temp['DATE']==date) & (data_temp['SECTOR_R']==sector)]\n",
    "        try:\n",
    "            female = set(df_temp.iloc[0,3])\n",
    "            male = set(df_temp.iloc[1,3])\n",
    "            intersection = male & female\n",
    "            union = male | female\n",
    "            diference = male ^ female\n",
    "            only_female = list(female - male)\n",
    "            only_male =  list(male - female)\n",
    "            abc = [date, sector, len(female), len(male), len(intersection), len(union), len(diference)]\n",
    "            dates_hospital_df.append(abc)\n",
    "        except:\n",
    "            pass\n",
    "        \n",
    "dates_hospital_df = pd.DataFrame(dates_hospital_df, columns = ['DATE', 'SECTOR_R', 'FEMALE', 'MALE','INTER', 'UNION', 'DIFFERENCE'])\n",
    "dates_hospital_df = dates_hospital_df.sort_values(by=['DATE', 'SECTOR_R'], ascending=True)\n",
    "\n",
    "# Qty of people per date/sector/hospital/sex\n",
    "data_temp = people_df[(people_df['CATEGORY2']==TAG_CATEGORY)].reset_index(drop=True)\n",
    "#data_temp = data_temp[(data_temp['DATE'] >= start_date) & (data_temp['DATE'] < end_date)].reset_index(drop=True)\n",
    "del data_temp['CATEGORY2']\n",
    "data_temp = data_temp.sort_values(by=['DATE', 'SECTOR_R','CO_IPRESS', 'SEX'], ascending=True)\n",
    "data_temp = data_temp.groupby(['DATE', 'SECTOR_R',\n",
    "                               'SEX']).agg(PEOPLE_SERVED=('PEOPLE_SERVED', 'sum'),\n",
    "                                           UNIQUE_DIAGNOSIS=('UNIQUE_DIAGNOSIS', 'sum'),\n",
    "                                           TOTAL_DIAGNOSIS=('TOTAL_DIAGNOSIS', 'sum'))\n",
    "data_temp = data_temp.reset_index()"
   ]
  },
  {
   "cell_type": "raw",
   "id": "66455346",
   "metadata": {},
   "source": [
    "dates_hospital_df"
   ]
  },
  {
   "cell_type": "raw",
   "id": "82d45f21",
   "metadata": {},
   "source": [
    "PARAMS = 'INTER'\n",
    "normalized_df = pd.merge(data_temp, dates_hospital_df[['DATE','SECTOR_R',PARAMS]], how='left', on=('DATE','SECTOR_R'))\n",
    "normalized_df['PEOPLE_SERVED_NORMALIZED'] = normalized_df['PEOPLE_SERVED'] / normalized_df[PARAMS]\n",
    "normalized_df['UNIQUE_DIAGNOSIS_NORMALIZED'] = normalized_df['UNIQUE_DIAGNOSIS'] / normalized_df[PARAMS]\n",
    "normalized_df['TOTAL_DIAGNOSIS_NORMALIZED'] = normalized_df['TOTAL_DIAGNOSIS'] / normalized_df[PARAMS]\n",
    "\n",
    "for a in set(normalized_df.DATE):\n",
    "    for b in set(normalized_df.SECTOR_R):\n",
    "        rest_temp_df = normalized_df[(normalized_df.DATE==a) & (normalized_df.SECTOR_R==b)]\n",
    "        total_resumen = [a,\n",
    "                         b,\n",
    "                         'SEX_AVG',\n",
    "                         rest_temp_df['PEOPLE_SERVED'].mean(),\n",
    "                         rest_temp_df['UNIQUE_DIAGNOSIS'].mean(),\n",
    "                         rest_temp_df['TOTAL_DIAGNOSIS'].mean(),\n",
    "                         rest_temp_df[PARAMS].mean(),\n",
    "                         rest_temp_df['PEOPLE_SERVED_NORMALIZED'].mean(),\n",
    "                         rest_temp_df['UNIQUE_DIAGNOSIS_NORMALIZED'].mean(),\n",
    "                         rest_temp_df['TOTAL_DIAGNOSIS_NORMALIZED'].mean()\n",
    "                        ]\n",
    "        normalized_df.loc[len(normalized_df)] = total_resumen\n",
    "        \n",
    "for a in set(normalized_df.DATE):\n",
    "    rest_temp_df = normalized_df[(normalized_df.DATE==a)]\n",
    "    total_resumen = [a,\n",
    "                     'TOTAL',\n",
    "                     'SECTOR_AVG',\n",
    "                     rest_temp_df['PEOPLE_SERVED'].mean(),\n",
    "                     rest_temp_df['UNIQUE_DIAGNOSIS'].mean(),\n",
    "                     rest_temp_df['TOTAL_DIAGNOSIS'].mean(),\n",
    "                     rest_temp_df[PARAMS].mean(),\n",
    "                     rest_temp_df['PEOPLE_SERVED_NORMALIZED'].mean(),\n",
    "                     rest_temp_df['UNIQUE_DIAGNOSIS_NORMALIZED'].mean(),\n",
    "                     rest_temp_df['TOTAL_DIAGNOSIS_NORMALIZED'].mean()\n",
    "                    ]\n",
    "    normalized_df.loc[len(normalized_df)] = total_resumen\n",
    "                \n",
    "normalized_df = normalized_df.sort_values(by=['DATE', 'SECTOR_R', 'SEX'], ascending=False)   "
   ]
  },
  {
   "cell_type": "raw",
   "id": "f3c30336",
   "metadata": {},
   "source": [
    "# PEOPLE SERVED\n",
    "fig = px.line(normalized_df, \n",
    "             x=\"DATE\", \n",
    "             y=\"PEOPLE_SERVED_NORMALIZED\", \n",
    "             color=\"SEX\", \n",
    "             facet_col=\"SECTOR_R\",\n",
    "             width=800, height=500,\n",
    "             color_discrete_map = dict_colors,\n",
    "             title='Total people served to Category ' + TAG_CATEGORY + ' (Normalized per sex)',\n",
    "            )\n",
    "\n",
    "#fig.show()\n",
    "\n",
    "fig.show(renderer=\"svg\")"
   ]
  },
  {
   "cell_type": "markdown",
   "id": "4f27f527",
   "metadata": {},
   "source": [
    "### List of hospital that has covid info in 3 months response"
   ]
  },
  {
   "cell_type": "code",
   "execution_count": 122,
   "id": "3fdc8ec8",
   "metadata": {},
   "outputs": [
    {
     "data": {
      "application/vnd.plotly.v1+json": {
       "config": {
        "plotlyServerURL": "https://plot.ly"
       },
       "data": [
        {
         "alignmentgroup": "True",
         "hovertemplate": "DISEASE_NAME=U20.6<br>SECTOR_R=PRIVATE<br>DATE=%{x}<br>PEOPLE_SERVED=%{y}<extra></extra>",
         "legendgroup": "U20.6",
         "marker": {
          "color": "#ab63fa",
          "pattern": {
           "shape": ""
          }
         },
         "name": "U20.6",
         "offsetgroup": "U20.6",
         "orientation": "v",
         "showlegend": true,
         "textposition": "auto",
         "type": "bar",
         "x": [
          "2018-01-01T00:00:00",
          "2018-03-01T00:00:00",
          "2018-04-01T00:00:00",
          "2021-01-01T00:00:00",
          "2021-02-01T00:00:00",
          "2021-03-01T00:00:00",
          "2021-04-01T00:00:00",
          "2022-02-01T00:00:00"
         ],
         "xaxis": "x",
         "y": [
          6,
          1,
          7,
          11,
          1,
          2,
          1,
          1
         ],
         "yaxis": "y"
        },
        {
         "alignmentgroup": "True",
         "hovertemplate": "DISEASE_NAME=U20.6<br>SECTOR_R=PUBLIC<br>DATE=%{x}<br>PEOPLE_SERVED=%{y}<extra></extra>",
         "legendgroup": "U20.6",
         "marker": {
          "color": "#ab63fa",
          "pattern": {
           "shape": ""
          }
         },
         "name": "U20.6",
         "offsetgroup": "U20.6",
         "orientation": "v",
         "showlegend": false,
         "textposition": "auto",
         "type": "bar",
         "x": [
          "2019-09-01T00:00:00",
          "2019-12-01T00:00:00",
          "2020-01-01T00:00:00"
         ],
         "xaxis": "x2",
         "y": [
          1,
          4,
          60
         ],
         "yaxis": "y2"
        },
        {
         "alignmentgroup": "True",
         "hovertemplate": "DISEASE_NAME=U32.4<br>SECTOR_R=PRIVATE<br>DATE=%{x}<br>PEOPLE_SERVED=%{y}<extra></extra>",
         "legendgroup": "U32.4",
         "marker": {
          "color": "#FFA15A",
          "pattern": {
           "shape": ""
          }
         },
         "name": "U32.4",
         "offsetgroup": "U32.4",
         "orientation": "v",
         "showlegend": true,
         "textposition": "auto",
         "type": "bar",
         "x": [
          "2018-01-01T00:00:00",
          "2019-01-01T00:00:00",
          "2019-11-01T00:00:00"
         ],
         "xaxis": "x",
         "y": [
          1,
          1,
          1
         ],
         "yaxis": "y"
        },
        {
         "alignmentgroup": "True",
         "hovertemplate": "DISEASE_NAME=U32.4<br>SECTOR_R=PUBLIC<br>DATE=%{x}<br>PEOPLE_SERVED=%{y}<extra></extra>",
         "legendgroup": "U32.4",
         "marker": {
          "color": "#FFA15A",
          "pattern": {
           "shape": ""
          }
         },
         "name": "U32.4",
         "offsetgroup": "U32.4",
         "orientation": "v",
         "showlegend": false,
         "textposition": "auto",
         "type": "bar",
         "x": [
          "2018-02-01T00:00:00",
          "2018-04-01T00:00:00",
          "2019-03-01T00:00:00",
          "2019-04-01T00:00:00",
          "2019-06-01T00:00:00",
          "2019-07-01T00:00:00",
          "2019-08-01T00:00:00",
          "2019-12-01T00:00:00",
          "2020-01-01T00:00:00",
          "2020-02-01T00:00:00",
          "2020-06-01T00:00:00",
          "2020-07-01T00:00:00",
          "2020-09-01T00:00:00",
          "2020-11-01T00:00:00",
          "2020-12-01T00:00:00",
          "2021-02-01T00:00:00",
          "2021-03-01T00:00:00",
          "2021-05-01T00:00:00",
          "2021-06-01T00:00:00",
          "2021-11-01T00:00:00",
          "2022-01-01T00:00:00",
          "2022-05-01T00:00:00"
         ],
         "xaxis": "x2",
         "y": [
          1,
          1,
          1,
          1,
          1,
          2,
          4,
          1,
          1,
          3,
          1,
          3,
          3,
          1,
          1,
          1,
          1,
          1,
          1,
          1,
          1,
          1
         ],
         "yaxis": "y2"
        },
        {
         "alignmentgroup": "True",
         "hovertemplate": "DISEASE_NAME=U20.2<br>SECTOR_R=PRIVATE<br>DATE=%{x}<br>PEOPLE_SERVED=%{y}<extra></extra>",
         "legendgroup": "U20.2",
         "marker": {
          "color": "#19d3f3",
          "pattern": {
           "shape": ""
          }
         },
         "name": "U20.2",
         "offsetgroup": "U20.2",
         "orientation": "v",
         "showlegend": true,
         "textposition": "auto",
         "type": "bar",
         "x": [
          "2018-09-01T00:00:00",
          "2018-11-01T00:00:00",
          "2019-01-01T00:00:00",
          "2019-02-01T00:00:00",
          "2019-04-01T00:00:00",
          "2019-09-01T00:00:00",
          "2019-12-01T00:00:00",
          "2020-01-01T00:00:00",
          "2021-01-01T00:00:00",
          "2021-04-01T00:00:00",
          "2021-06-01T00:00:00",
          "2021-08-01T00:00:00",
          "2022-02-01T00:00:00"
         ],
         "xaxis": "x",
         "y": [
          1,
          1,
          2,
          2,
          2,
          1,
          3,
          1,
          1,
          1,
          1,
          1,
          1
         ],
         "yaxis": "y"
        },
        {
         "alignmentgroup": "True",
         "hovertemplate": "DISEASE_NAME=U20.2<br>SECTOR_R=PUBLIC<br>DATE=%{x}<br>PEOPLE_SERVED=%{y}<extra></extra>",
         "legendgroup": "U20.2",
         "marker": {
          "color": "#19d3f3",
          "pattern": {
           "shape": ""
          }
         },
         "name": "U20.2",
         "offsetgroup": "U20.2",
         "orientation": "v",
         "showlegend": false,
         "textposition": "auto",
         "type": "bar",
         "x": [
          "2018-01-01T00:00:00",
          "2018-02-01T00:00:00",
          "2018-03-01T00:00:00",
          "2018-04-01T00:00:00",
          "2018-05-01T00:00:00",
          "2018-06-01T00:00:00",
          "2018-07-01T00:00:00",
          "2018-08-01T00:00:00",
          "2018-09-01T00:00:00",
          "2018-10-01T00:00:00",
          "2018-11-01T00:00:00",
          "2018-12-01T00:00:00",
          "2019-01-01T00:00:00",
          "2019-02-01T00:00:00",
          "2019-03-01T00:00:00",
          "2019-04-01T00:00:00",
          "2019-05-01T00:00:00",
          "2019-06-01T00:00:00",
          "2019-07-01T00:00:00",
          "2019-08-01T00:00:00",
          "2019-09-01T00:00:00",
          "2019-10-01T00:00:00",
          "2019-11-01T00:00:00",
          "2019-12-01T00:00:00",
          "2020-01-01T00:00:00",
          "2020-02-01T00:00:00",
          "2020-03-01T00:00:00",
          "2020-04-01T00:00:00",
          "2020-05-01T00:00:00",
          "2020-06-01T00:00:00",
          "2020-07-01T00:00:00",
          "2020-08-01T00:00:00",
          "2020-09-01T00:00:00",
          "2020-10-01T00:00:00",
          "2020-11-01T00:00:00",
          "2020-12-01T00:00:00",
          "2021-01-01T00:00:00",
          "2021-02-01T00:00:00",
          "2021-03-01T00:00:00",
          "2021-04-01T00:00:00",
          "2021-05-01T00:00:00",
          "2021-06-01T00:00:00",
          "2021-07-01T00:00:00",
          "2021-08-01T00:00:00",
          "2021-09-01T00:00:00",
          "2021-10-01T00:00:00",
          "2021-11-01T00:00:00",
          "2021-12-01T00:00:00",
          "2022-01-01T00:00:00",
          "2022-02-01T00:00:00",
          "2022-03-01T00:00:00",
          "2022-04-01T00:00:00",
          "2022-05-01T00:00:00"
         ],
         "xaxis": "x2",
         "y": [
          9,
          3,
          3,
          3,
          7,
          3,
          8,
          14,
          7,
          6,
          6,
          5,
          17,
          23,
          44,
          20,
          35,
          24,
          20,
          28,
          34,
          17,
          1,
          19,
          7,
          30,
          4,
          13,
          28,
          8,
          3,
          7,
          4,
          1,
          11,
          3,
          7,
          15,
          2,
          8,
          7,
          13,
          14,
          7,
          4,
          144,
          129,
          146,
          145,
          159,
          161,
          118,
          25
         ],
         "yaxis": "y2"
        },
        {
         "alignmentgroup": "True",
         "hovertemplate": "DISEASE_NAME=U20.3<br>SECTOR_R=PRIVATE<br>DATE=%{x}<br>PEOPLE_SERVED=%{y}<extra></extra>",
         "legendgroup": "U20.3",
         "marker": {
          "color": "#FF6692",
          "pattern": {
           "shape": ""
          }
         },
         "name": "U20.3",
         "offsetgroup": "U20.3",
         "orientation": "v",
         "showlegend": true,
         "textposition": "auto",
         "type": "bar",
         "x": [
          "2019-01-01T00:00:00",
          "2019-04-01T00:00:00",
          "2019-11-01T00:00:00",
          "2020-07-01T00:00:00",
          "2020-08-01T00:00:00",
          "2020-09-01T00:00:00",
          "2020-12-01T00:00:00",
          "2021-01-01T00:00:00",
          "2021-05-01T00:00:00",
          "2021-07-01T00:00:00",
          "2021-08-01T00:00:00",
          "2022-02-01T00:00:00",
          "2022-04-01T00:00:00"
         ],
         "xaxis": "x",
         "y": [
          1,
          2,
          1,
          2,
          2,
          1,
          1,
          1,
          1,
          3,
          1,
          1,
          1
         ],
         "yaxis": "y"
        },
        {
         "alignmentgroup": "True",
         "hovertemplate": "DISEASE_NAME=U20.3<br>SECTOR_R=PUBLIC<br>DATE=%{x}<br>PEOPLE_SERVED=%{y}<extra></extra>",
         "legendgroup": "U20.3",
         "marker": {
          "color": "#FF6692",
          "pattern": {
           "shape": ""
          }
         },
         "name": "U20.3",
         "offsetgroup": "U20.3",
         "orientation": "v",
         "showlegend": false,
         "textposition": "auto",
         "type": "bar",
         "x": [
          "2018-01-01T00:00:00",
          "2018-02-01T00:00:00",
          "2018-03-01T00:00:00",
          "2018-04-01T00:00:00",
          "2018-05-01T00:00:00",
          "2018-06-01T00:00:00",
          "2018-07-01T00:00:00",
          "2018-08-01T00:00:00",
          "2018-09-01T00:00:00",
          "2018-10-01T00:00:00",
          "2018-11-01T00:00:00",
          "2018-12-01T00:00:00",
          "2019-01-01T00:00:00",
          "2019-02-01T00:00:00",
          "2019-03-01T00:00:00",
          "2019-04-01T00:00:00",
          "2019-05-01T00:00:00",
          "2019-06-01T00:00:00",
          "2019-07-01T00:00:00",
          "2019-08-01T00:00:00",
          "2019-09-01T00:00:00",
          "2019-10-01T00:00:00",
          "2019-11-01T00:00:00",
          "2019-12-01T00:00:00",
          "2020-01-01T00:00:00",
          "2020-02-01T00:00:00",
          "2020-03-01T00:00:00",
          "2020-04-01T00:00:00",
          "2020-05-01T00:00:00",
          "2020-06-01T00:00:00",
          "2020-07-01T00:00:00",
          "2020-08-01T00:00:00",
          "2020-09-01T00:00:00",
          "2020-10-01T00:00:00",
          "2020-11-01T00:00:00",
          "2020-12-01T00:00:00",
          "2021-01-01T00:00:00",
          "2021-02-01T00:00:00",
          "2021-03-01T00:00:00",
          "2021-04-01T00:00:00",
          "2021-05-01T00:00:00",
          "2021-06-01T00:00:00",
          "2021-07-01T00:00:00",
          "2021-08-01T00:00:00",
          "2021-09-01T00:00:00",
          "2021-10-01T00:00:00",
          "2021-11-01T00:00:00",
          "2021-12-01T00:00:00",
          "2022-01-01T00:00:00",
          "2022-02-01T00:00:00",
          "2022-03-01T00:00:00",
          "2022-04-01T00:00:00",
          "2022-05-01T00:00:00"
         ],
         "xaxis": "x2",
         "y": [
          29,
          20,
          16,
          16,
          19,
          15,
          19,
          24,
          7,
          22,
          16,
          21,
          53,
          35,
          73,
          39,
          51,
          48,
          67,
          52,
          45,
          36,
          5,
          30,
          1,
          33,
          6,
          25,
          42,
          50,
          34,
          23,
          8,
          13,
          11,
          15,
          14,
          7,
          6,
          4,
          7,
          9,
          6,
          31,
          7,
          26,
          70,
          78,
          76,
          61,
          78,
          25,
          20
         ],
         "yaxis": "y2"
        },
        {
         "alignmentgroup": "True",
         "hovertemplate": "DISEASE_NAME=U32.6<br>SECTOR_R=PRIVATE<br>DATE=%{x}<br>PEOPLE_SERVED=%{y}<extra></extra>",
         "legendgroup": "U32.6",
         "marker": {
          "color": "#B6E880",
          "pattern": {
           "shape": ""
          }
         },
         "name": "U32.6",
         "offsetgroup": "U32.6",
         "orientation": "v",
         "showlegend": true,
         "textposition": "auto",
         "type": "bar",
         "x": [
          "2018-11-01T00:00:00",
          "2019-06-01T00:00:00",
          "2019-08-01T00:00:00",
          "2019-09-01T00:00:00",
          "2019-10-01T00:00:00",
          "2020-07-01T00:00:00"
         ],
         "xaxis": "x",
         "y": [
          1,
          1,
          5,
          1,
          1,
          1
         ],
         "yaxis": "y"
        },
        {
         "alignmentgroup": "True",
         "hovertemplate": "DISEASE_NAME=U32.6<br>SECTOR_R=PUBLIC<br>DATE=%{x}<br>PEOPLE_SERVED=%{y}<extra></extra>",
         "legendgroup": "U32.6",
         "marker": {
          "color": "#B6E880",
          "pattern": {
           "shape": ""
          }
         },
         "name": "U32.6",
         "offsetgroup": "U32.6",
         "orientation": "v",
         "showlegend": false,
         "textposition": "auto",
         "type": "bar",
         "x": [
          "2018-02-01T00:00:00",
          "2018-03-01T00:00:00",
          "2018-05-01T00:00:00",
          "2018-06-01T00:00:00",
          "2018-08-01T00:00:00",
          "2018-11-01T00:00:00",
          "2019-01-01T00:00:00",
          "2019-02-01T00:00:00",
          "2019-03-01T00:00:00",
          "2019-04-01T00:00:00",
          "2019-05-01T00:00:00",
          "2019-07-01T00:00:00",
          "2019-09-01T00:00:00",
          "2019-12-01T00:00:00",
          "2020-01-01T00:00:00",
          "2020-02-01T00:00:00",
          "2020-03-01T00:00:00",
          "2020-09-01T00:00:00",
          "2020-12-01T00:00:00",
          "2021-10-01T00:00:00",
          "2022-01-01T00:00:00"
         ],
         "xaxis": "x2",
         "y": [
          1,
          1,
          1,
          2,
          1,
          3,
          8,
          1,
          1,
          2,
          2,
          1,
          1,
          1,
          1,
          3,
          3,
          1,
          1,
          1,
          2
         ],
         "yaxis": "y2"
        },
        {
         "alignmentgroup": "True",
         "hovertemplate": "DISEASE_NAME=U20.4<br>SECTOR_R=PUBLIC<br>DATE=%{x}<br>PEOPLE_SERVED=%{y}<extra></extra>",
         "legendgroup": "U20.4",
         "marker": {
          "color": "#FF97FF",
          "pattern": {
           "shape": ""
          }
         },
         "name": "U20.4",
         "offsetgroup": "U20.4",
         "orientation": "v",
         "showlegend": true,
         "textposition": "auto",
         "type": "bar",
         "x": [
          "2018-04-01T00:00:00",
          "2018-05-01T00:00:00",
          "2018-07-01T00:00:00",
          "2018-08-01T00:00:00",
          "2018-09-01T00:00:00",
          "2018-11-01T00:00:00",
          "2019-01-01T00:00:00",
          "2019-02-01T00:00:00",
          "2019-03-01T00:00:00",
          "2019-04-01T00:00:00",
          "2019-05-01T00:00:00",
          "2019-06-01T00:00:00",
          "2019-07-01T00:00:00",
          "2019-08-01T00:00:00",
          "2019-09-01T00:00:00",
          "2019-12-01T00:00:00",
          "2020-02-01T00:00:00",
          "2020-10-01T00:00:00",
          "2020-11-01T00:00:00",
          "2020-12-01T00:00:00",
          "2021-01-01T00:00:00",
          "2021-03-01T00:00:00",
          "2021-05-01T00:00:00",
          "2021-07-01T00:00:00",
          "2021-08-01T00:00:00",
          "2021-10-01T00:00:00",
          "2022-01-01T00:00:00",
          "2022-02-01T00:00:00",
          "2022-03-01T00:00:00"
         ],
         "xaxis": "x2",
         "y": [
          1,
          1,
          1,
          1,
          2,
          1,
          1,
          2,
          3,
          1,
          4,
          2,
          1,
          1,
          2,
          1,
          2,
          5,
          4,
          1,
          1,
          1,
          1,
          3,
          3,
          6,
          1,
          3,
          2
         ],
         "yaxis": "y2"
        },
        {
         "alignmentgroup": "True",
         "hovertemplate": "DISEASE_NAME=U20.5<br>SECTOR_R=PRIVATE<br>DATE=%{x}<br>PEOPLE_SERVED=%{y}<extra></extra>",
         "legendgroup": "U20.5",
         "marker": {
          "color": "#FECB52",
          "pattern": {
           "shape": ""
          }
         },
         "name": "U20.5",
         "offsetgroup": "U20.5",
         "orientation": "v",
         "showlegend": true,
         "textposition": "auto",
         "type": "bar",
         "x": [
          "2018-09-01T00:00:00",
          "2019-08-01T00:00:00"
         ],
         "xaxis": "x",
         "y": [
          1,
          1
         ],
         "yaxis": "y"
        },
        {
         "alignmentgroup": "True",
         "hovertemplate": "DISEASE_NAME=U20.5<br>SECTOR_R=PUBLIC<br>DATE=%{x}<br>PEOPLE_SERVED=%{y}<extra></extra>",
         "legendgroup": "U20.5",
         "marker": {
          "color": "#FECB52",
          "pattern": {
           "shape": ""
          }
         },
         "name": "U20.5",
         "offsetgroup": "U20.5",
         "orientation": "v",
         "showlegend": false,
         "textposition": "auto",
         "type": "bar",
         "x": [
          "2018-05-01T00:00:00",
          "2018-09-01T00:00:00",
          "2019-07-01T00:00:00",
          "2019-08-01T00:00:00",
          "2019-09-01T00:00:00",
          "2019-12-01T00:00:00",
          "2020-02-01T00:00:00",
          "2020-06-01T00:00:00",
          "2020-07-01T00:00:00",
          "2020-11-01T00:00:00",
          "2021-01-01T00:00:00",
          "2021-02-01T00:00:00",
          "2021-03-01T00:00:00",
          "2021-04-01T00:00:00",
          "2021-06-01T00:00:00",
          "2021-08-01T00:00:00",
          "2021-09-01T00:00:00",
          "2021-10-01T00:00:00",
          "2021-12-01T00:00:00",
          "2022-01-01T00:00:00",
          "2022-02-01T00:00:00",
          "2022-03-01T00:00:00",
          "2022-04-01T00:00:00",
          "2022-05-01T00:00:00"
         ],
         "xaxis": "x2",
         "y": [
          1,
          1,
          1,
          3,
          2,
          1,
          1,
          1,
          1,
          1,
          2,
          1,
          3,
          1,
          1,
          2,
          2,
          6,
          3,
          21,
          20,
          21,
          1,
          1
         ],
         "yaxis": "y2"
        },
        {
         "alignmentgroup": "True",
         "hovertemplate": "DISEASE_NAME=SINDROME RESPIRATORIO AGUDO GRAVE [SRAG], NO ESPECIFICADO<br>SECTOR_R=PRIVATE<br>DATE=%{x}<br>PEOPLE_SERVED=%{y}<extra></extra>",
         "legendgroup": "SINDROME RESPIRATORIO AGUDO GRAVE [SRAG], NO ESPECIFICADO",
         "marker": {
          "color": "#636efa",
          "pattern": {
           "shape": ""
          }
         },
         "name": "SINDROME RESPIRATORIO AGUDO GRAVE [SRAG], NO ESPECIFICADO",
         "offsetgroup": "SINDROME RESPIRATORIO AGUDO GRAVE [SRAG], NO ESPECIFICADO",
         "orientation": "v",
         "showlegend": true,
         "textposition": "auto",
         "type": "bar",
         "x": [
          "2018-09-01T00:00:00",
          "2020-03-01T00:00:00",
          "2020-05-01T00:00:00",
          "2020-07-01T00:00:00",
          "2020-08-01T00:00:00",
          "2020-09-01T00:00:00",
          "2020-11-01T00:00:00",
          "2020-12-01T00:00:00",
          "2021-01-01T00:00:00",
          "2021-03-01T00:00:00",
          "2021-05-01T00:00:00",
          "2021-09-01T00:00:00",
          "2021-10-01T00:00:00"
         ],
         "xaxis": "x",
         "y": [
          1,
          1,
          1,
          1,
          2,
          1,
          1,
          1,
          1,
          6,
          3,
          1,
          1
         ],
         "yaxis": "y"
        },
        {
         "alignmentgroup": "True",
         "hovertemplate": "DISEASE_NAME=SINDROME RESPIRATORIO AGUDO GRAVE [SRAG], NO ESPECIFICADO<br>SECTOR_R=PUBLIC<br>DATE=%{x}<br>PEOPLE_SERVED=%{y}<extra></extra>",
         "legendgroup": "SINDROME RESPIRATORIO AGUDO GRAVE [SRAG], NO ESPECIFICADO",
         "marker": {
          "color": "#636efa",
          "pattern": {
           "shape": ""
          }
         },
         "name": "SINDROME RESPIRATORIO AGUDO GRAVE [SRAG], NO ESPECIFICADO",
         "offsetgroup": "SINDROME RESPIRATORIO AGUDO GRAVE [SRAG], NO ESPECIFICADO",
         "orientation": "v",
         "showlegend": false,
         "textposition": "auto",
         "type": "bar",
         "x": [
          "2019-05-01T00:00:00",
          "2019-06-01T00:00:00",
          "2020-02-01T00:00:00",
          "2020-05-01T00:00:00",
          "2020-06-01T00:00:00",
          "2020-07-01T00:00:00",
          "2020-08-01T00:00:00",
          "2020-09-01T00:00:00",
          "2020-12-01T00:00:00",
          "2021-01-01T00:00:00",
          "2021-02-01T00:00:00",
          "2021-03-01T00:00:00",
          "2021-04-01T00:00:00",
          "2021-05-01T00:00:00",
          "2021-06-01T00:00:00",
          "2021-07-01T00:00:00",
          "2021-08-01T00:00:00",
          "2021-09-01T00:00:00",
          "2021-10-01T00:00:00",
          "2021-11-01T00:00:00",
          "2021-12-01T00:00:00",
          "2022-01-01T00:00:00",
          "2022-02-01T00:00:00",
          "2022-04-01T00:00:00"
         ],
         "xaxis": "x2",
         "y": [
          6,
          6,
          2,
          13,
          14,
          17,
          15,
          5,
          1,
          16,
          39,
          40,
          45,
          22,
          12,
          8,
          7,
          5,
          5,
          1,
          2,
          5,
          3,
          1
         ],
         "yaxis": "y2"
        },
        {
         "alignmentgroup": "True",
         "hovertemplate": "DISEASE_NAME=USO EMERGENTE DE U07.1<br>SECTOR_R=PRIVATE<br>DATE=%{x}<br>PEOPLE_SERVED=%{y}<extra></extra>",
         "legendgroup": "USO EMERGENTE DE U07.1",
         "marker": {
          "color": "#EF553B",
          "pattern": {
           "shape": ""
          }
         },
         "name": "USO EMERGENTE DE U07.1",
         "offsetgroup": "USO EMERGENTE DE U07.1",
         "orientation": "v",
         "showlegend": true,
         "textposition": "auto",
         "type": "bar",
         "x": [
          "2020-03-01T00:00:00",
          "2020-04-01T00:00:00",
          "2020-05-01T00:00:00",
          "2020-06-01T00:00:00",
          "2020-07-01T00:00:00",
          "2020-08-01T00:00:00",
          "2020-09-01T00:00:00",
          "2020-10-01T00:00:00",
          "2020-11-01T00:00:00",
          "2020-12-01T00:00:00",
          "2021-01-01T00:00:00",
          "2021-02-01T00:00:00",
          "2021-03-01T00:00:00",
          "2021-04-01T00:00:00",
          "2021-05-01T00:00:00",
          "2021-06-01T00:00:00",
          "2021-07-01T00:00:00",
          "2021-08-01T00:00:00",
          "2021-09-01T00:00:00",
          "2021-10-01T00:00:00",
          "2021-11-01T00:00:00",
          "2021-12-01T00:00:00",
          "2022-01-01T00:00:00",
          "2022-02-01T00:00:00",
          "2022-03-01T00:00:00",
          "2022-04-01T00:00:00",
          "2022-05-01T00:00:00"
         ],
         "xaxis": "x",
         "y": [
          2,
          137,
          428,
          1252,
          3915,
          5480,
          4108,
          2128,
          1148,
          1553,
          5797,
          9250,
          12523,
          11367,
          6931,
          4231,
          3163,
          2407,
          1900,
          1742,
          1816,
          3035,
          24454,
          4132,
          708,
          852,
          121
         ],
         "yaxis": "y"
        },
        {
         "alignmentgroup": "True",
         "hovertemplate": "DISEASE_NAME=USO EMERGENTE DE U07.1<br>SECTOR_R=PUBLIC<br>DATE=%{x}<br>PEOPLE_SERVED=%{y}<extra></extra>",
         "legendgroup": "USO EMERGENTE DE U07.1",
         "marker": {
          "color": "#EF553B",
          "pattern": {
           "shape": ""
          }
         },
         "name": "USO EMERGENTE DE U07.1",
         "offsetgroup": "USO EMERGENTE DE U07.1",
         "orientation": "v",
         "showlegend": false,
         "textposition": "auto",
         "type": "bar",
         "x": [
          "2020-03-01T00:00:00",
          "2020-04-01T00:00:00",
          "2020-05-01T00:00:00",
          "2020-06-01T00:00:00",
          "2020-07-01T00:00:00",
          "2020-08-01T00:00:00",
          "2020-09-01T00:00:00",
          "2020-10-01T00:00:00",
          "2020-11-01T00:00:00",
          "2020-12-01T00:00:00",
          "2021-01-01T00:00:00",
          "2021-02-01T00:00:00",
          "2021-03-01T00:00:00",
          "2021-04-01T00:00:00",
          "2021-05-01T00:00:00",
          "2021-06-01T00:00:00",
          "2021-07-01T00:00:00",
          "2021-08-01T00:00:00",
          "2021-09-01T00:00:00",
          "2021-10-01T00:00:00",
          "2021-11-01T00:00:00",
          "2021-12-01T00:00:00",
          "2022-01-01T00:00:00",
          "2022-02-01T00:00:00",
          "2022-03-01T00:00:00",
          "2022-04-01T00:00:00",
          "2022-05-01T00:00:00"
         ],
         "xaxis": "x2",
         "y": [
          12,
          443,
          1336,
          2865,
          8579,
          11992,
          10494,
          8670,
          6055,
          3774,
          7648,
          11768,
          15398,
          16174,
          11672,
          6470,
          3319,
          2533,
          2460,
          3708,
          3864,
          3927,
          33518,
          5395,
          1503,
          855,
          339
         ],
         "yaxis": "y2"
        },
        {
         "alignmentgroup": "True",
         "hovertemplate": "DISEASE_NAME=USO EMERGENTE DE U07.2<br>SECTOR_R=PRIVATE<br>DATE=%{x}<br>PEOPLE_SERVED=%{y}<extra></extra>",
         "legendgroup": "USO EMERGENTE DE U07.2",
         "marker": {
          "color": "#00cc96",
          "pattern": {
           "shape": ""
          }
         },
         "name": "USO EMERGENTE DE U07.2",
         "offsetgroup": "USO EMERGENTE DE U07.2",
         "orientation": "v",
         "showlegend": true,
         "textposition": "auto",
         "type": "bar",
         "x": [
          "2020-03-01T00:00:00",
          "2020-04-01T00:00:00",
          "2020-05-01T00:00:00",
          "2020-06-01T00:00:00",
          "2020-07-01T00:00:00",
          "2020-08-01T00:00:00",
          "2020-09-01T00:00:00",
          "2020-10-01T00:00:00",
          "2020-11-01T00:00:00",
          "2020-12-01T00:00:00",
          "2021-01-01T00:00:00",
          "2021-02-01T00:00:00",
          "2021-03-01T00:00:00",
          "2021-04-01T00:00:00",
          "2021-05-01T00:00:00",
          "2021-06-01T00:00:00",
          "2021-07-01T00:00:00",
          "2021-08-01T00:00:00",
          "2021-09-01T00:00:00",
          "2021-10-01T00:00:00",
          "2021-11-01T00:00:00",
          "2021-12-01T00:00:00",
          "2022-01-01T00:00:00",
          "2022-02-01T00:00:00",
          "2022-03-01T00:00:00",
          "2022-04-01T00:00:00",
          "2022-05-01T00:00:00"
         ],
         "xaxis": "x",
         "y": [
          1,
          10,
          165,
          813,
          5006,
          7604,
          5119,
          3831,
          2416,
          3043,
          8469,
          7322,
          11426,
          11363,
          7311,
          5485,
          5616,
          4771,
          3695,
          3854,
          4486,
          8010,
          30909,
          4641,
          3349,
          2904,
          249
         ],
         "yaxis": "y"
        },
        {
         "alignmentgroup": "True",
         "hovertemplate": "DISEASE_NAME=USO EMERGENTE DE U07.2<br>SECTOR_R=PUBLIC<br>DATE=%{x}<br>PEOPLE_SERVED=%{y}<extra></extra>",
         "legendgroup": "USO EMERGENTE DE U07.2",
         "marker": {
          "color": "#00cc96",
          "pattern": {
           "shape": ""
          }
         },
         "name": "USO EMERGENTE DE U07.2",
         "offsetgroup": "USO EMERGENTE DE U07.2",
         "orientation": "v",
         "showlegend": false,
         "textposition": "auto",
         "type": "bar",
         "x": [
          "2020-03-01T00:00:00",
          "2020-04-01T00:00:00",
          "2020-05-01T00:00:00",
          "2020-06-01T00:00:00",
          "2020-07-01T00:00:00",
          "2020-08-01T00:00:00",
          "2020-09-01T00:00:00",
          "2020-10-01T00:00:00",
          "2020-11-01T00:00:00",
          "2020-12-01T00:00:00",
          "2021-01-01T00:00:00",
          "2021-02-01T00:00:00",
          "2021-03-01T00:00:00",
          "2021-04-01T00:00:00",
          "2021-05-01T00:00:00",
          "2021-06-01T00:00:00",
          "2021-07-01T00:00:00",
          "2021-08-01T00:00:00",
          "2021-09-01T00:00:00",
          "2021-10-01T00:00:00",
          "2021-11-01T00:00:00",
          "2021-12-01T00:00:00",
          "2022-01-01T00:00:00",
          "2022-02-01T00:00:00",
          "2022-03-01T00:00:00",
          "2022-04-01T00:00:00",
          "2022-05-01T00:00:00"
         ],
         "xaxis": "x2",
         "y": [
          1,
          72,
          422,
          505,
          7317,
          9228,
          6437,
          4864,
          3700,
          4165,
          8530,
          8603,
          9557,
          9252,
          6507,
          4213,
          4161,
          2996,
          2950,
          4187,
          5009,
          6895,
          24985,
          4986,
          4700,
          3040,
          1611
         ],
         "yaxis": "y2"
        },
        {
         "alignmentgroup": "True",
         "hovertemplate": "DISEASE_NAME=ENFERMEDAD POR EL VIRUS DEL ZIKA, SIN ESPECIFICACION<br>SECTOR_R=PUBLIC<br>DATE=%{x}<br>PEOPLE_SERVED=%{y}<extra></extra>",
         "legendgroup": "ENFERMEDAD POR EL VIRUS DEL ZIKA, SIN ESPECIFICACION",
         "marker": {
          "color": "#ab63fa",
          "pattern": {
           "shape": ""
          }
         },
         "name": "ENFERMEDAD POR EL VIRUS DEL ZIKA, SIN ESPECIFICACION",
         "offsetgroup": "ENFERMEDAD POR EL VIRUS DEL ZIKA, SIN ESPECIFICACION",
         "orientation": "v",
         "showlegend": true,
         "textposition": "auto",
         "type": "bar",
         "x": [
          "2020-07-01T00:00:00"
         ],
         "xaxis": "x2",
         "y": [
          1
         ],
         "yaxis": "y2"
        },
        {
         "alignmentgroup": "True",
         "hovertemplate": "DISEASE_NAME=U30.3<br>SECTOR_R=PRIVATE<br>DATE=%{x}<br>PEOPLE_SERVED=%{y}<extra></extra>",
         "legendgroup": "U30.3",
         "marker": {
          "color": "#FFA15A",
          "pattern": {
           "shape": ""
          }
         },
         "name": "U30.3",
         "offsetgroup": "U30.3",
         "orientation": "v",
         "showlegend": true,
         "textposition": "auto",
         "type": "bar",
         "x": [
          "2021-04-01T00:00:00",
          "2021-05-01T00:00:00",
          "2021-06-01T00:00:00",
          "2021-07-01T00:00:00",
          "2021-08-01T00:00:00",
          "2021-09-01T00:00:00",
          "2021-10-01T00:00:00",
          "2021-11-01T00:00:00",
          "2021-12-01T00:00:00",
          "2022-01-01T00:00:00",
          "2022-02-01T00:00:00",
          "2022-03-01T00:00:00",
          "2022-04-01T00:00:00"
         ],
         "xaxis": "x",
         "y": [
          1,
          3,
          7,
          3,
          8,
          3,
          3,
          2,
          4,
          5,
          10,
          4,
          11
         ],
         "yaxis": "y"
        },
        {
         "alignmentgroup": "True",
         "hovertemplate": "DISEASE_NAME=U30.3<br>SECTOR_R=PUBLIC<br>DATE=%{x}<br>PEOPLE_SERVED=%{y}<extra></extra>",
         "legendgroup": "U30.3",
         "marker": {
          "color": "#FFA15A",
          "pattern": {
           "shape": ""
          }
         },
         "name": "U30.3",
         "offsetgroup": "U30.3",
         "orientation": "v",
         "showlegend": false,
         "textposition": "auto",
         "type": "bar",
         "x": [
          "2022-03-01T00:00:00"
         ],
         "xaxis": "x2",
         "y": [
          1
         ],
         "yaxis": "y2"
        },
        {
         "alignmentgroup": "True",
         "hovertemplate": "DISEASE_NAME=USO EMERGENTE DE U07.0<br>SECTOR_R=PRIVATE<br>DATE=%{x}<br>PEOPLE_SERVED=%{y}<extra></extra>",
         "legendgroup": "USO EMERGENTE DE U07.0",
         "marker": {
          "color": "#19d3f3",
          "pattern": {
           "shape": ""
          }
         },
         "name": "USO EMERGENTE DE U07.0",
         "offsetgroup": "USO EMERGENTE DE U07.0",
         "orientation": "v",
         "showlegend": true,
         "textposition": "auto",
         "type": "bar",
         "x": [
          "2021-05-01T00:00:00",
          "2021-06-01T00:00:00",
          "2021-10-01T00:00:00",
          "2022-01-01T00:00:00"
         ],
         "xaxis": "x",
         "y": [
          1,
          1,
          1,
          2
         ],
         "yaxis": "y"
        },
        {
         "alignmentgroup": "True",
         "hovertemplate": "DISEASE_NAME=USO EMERGENTE DE U07.0<br>SECTOR_R=PUBLIC<br>DATE=%{x}<br>PEOPLE_SERVED=%{y}<extra></extra>",
         "legendgroup": "USO EMERGENTE DE U07.0",
         "marker": {
          "color": "#19d3f3",
          "pattern": {
           "shape": ""
          }
         },
         "name": "USO EMERGENTE DE U07.0",
         "offsetgroup": "USO EMERGENTE DE U07.0",
         "orientation": "v",
         "showlegend": false,
         "textposition": "auto",
         "type": "bar",
         "x": [
          "2022-03-01T00:00:00"
         ],
         "xaxis": "x2",
         "y": [
          1
         ],
         "yaxis": "y2"
        },
        {
         "alignmentgroup": "True",
         "hovertemplate": "DISEASE_NAME=AGENTE BACTERIANO RESISTENTE A ANTIBIOTICO NO ESPECIFICADO<br>SECTOR_R=PUBLIC<br>DATE=%{x}<br>PEOPLE_SERVED=%{y}<extra></extra>",
         "legendgroup": "AGENTE BACTERIANO RESISTENTE A ANTIBIOTICO NO ESPECIFICADO",
         "marker": {
          "color": "#FF6692",
          "pattern": {
           "shape": ""
          }
         },
         "name": "AGENTE BACTERIANO RESISTENTE A ANTIBIOTICO NO ESPECIFICADO",
         "offsetgroup": "AGENTE BACTERIANO RESISTENTE A ANTIBIOTICO NO ESPECIFICADO",
         "orientation": "v",
         "showlegend": true,
         "textposition": "auto",
         "type": "bar",
         "x": [
          "2021-05-01T00:00:00"
         ],
         "xaxis": "x2",
         "y": [
          1
         ],
         "yaxis": "y2"
        },
        {
         "alignmentgroup": "True",
         "hovertemplate": "DISEASE_NAME=AGENTE BACTERIANO RESISTENTE A METICILINA<br>SECTOR_R=PRIVATE<br>DATE=%{x}<br>PEOPLE_SERVED=%{y}<extra></extra>",
         "legendgroup": "AGENTE BACTERIANO RESISTENTE A METICILINA",
         "marker": {
          "color": "#B6E880",
          "pattern": {
           "shape": ""
          }
         },
         "name": "AGENTE BACTERIANO RESISTENTE A METICILINA",
         "offsetgroup": "AGENTE BACTERIANO RESISTENTE A METICILINA",
         "orientation": "v",
         "showlegend": true,
         "textposition": "auto",
         "type": "bar",
         "x": [
          "2021-09-01T00:00:00",
          "2022-01-01T00:00:00"
         ],
         "xaxis": "x",
         "y": [
          1,
          1
         ],
         "yaxis": "y"
        },
        {
         "alignmentgroup": "True",
         "hovertemplate": "DISEASE_NAME=AGENTE BACTERIANO RESISTENTE A OTRO ANTIBIOTICO SIMILAR A LA PENICILINA<br>SECTOR_R=PUBLIC<br>DATE=%{x}<br>PEOPLE_SERVED=%{y}<extra></extra>",
         "legendgroup": "AGENTE BACTERIANO RESISTENTE A OTRO ANTIBIOTICO SIMILAR A LA PENICILINA",
         "marker": {
          "color": "#FF97FF",
          "pattern": {
           "shape": ""
          }
         },
         "name": "AGENTE BACTERIANO RESISTENTE A OTRO ANTIBIOTICO SIMILAR A LA PENICILINA",
         "offsetgroup": "AGENTE BACTERIANO RESISTENTE A OTRO ANTIBIOTICO SIMILAR A LA PENICILINA",
         "orientation": "v",
         "showlegend": true,
         "textposition": "auto",
         "type": "bar",
         "x": [
          "2021-11-01T00:00:00"
         ],
         "xaxis": "x2",
         "y": [
          2
         ],
         "yaxis": "y2"
        },
        {
         "alignmentgroup": "True",
         "hovertemplate": "DISEASE_NAME=U09.9<br>SECTOR_R=PRIVATE<br>DATE=%{x}<br>PEOPLE_SERVED=%{y}<extra></extra>",
         "legendgroup": "U09.9",
         "marker": {
          "color": "#FECB52",
          "pattern": {
           "shape": ""
          }
         },
         "name": "U09.9",
         "offsetgroup": "U09.9",
         "orientation": "v",
         "showlegend": true,
         "textposition": "auto",
         "type": "bar",
         "x": [
          "2022-01-01T00:00:00",
          "2022-02-01T00:00:00",
          "2022-03-01T00:00:00",
          "2022-04-01T00:00:00"
         ],
         "xaxis": "x",
         "y": [
          6,
          2,
          4,
          1
         ],
         "yaxis": "y"
        },
        {
         "alignmentgroup": "True",
         "hovertemplate": "DISEASE_NAME=USO EMERGENTE DE U07.7<br>SECTOR_R=PRIVATE<br>DATE=%{x}<br>PEOPLE_SERVED=%{y}<extra></extra>",
         "legendgroup": "USO EMERGENTE DE U07.7",
         "marker": {
          "color": "#636efa",
          "pattern": {
           "shape": ""
          }
         },
         "name": "USO EMERGENTE DE U07.7",
         "offsetgroup": "USO EMERGENTE DE U07.7",
         "orientation": "v",
         "showlegend": true,
         "textposition": "auto",
         "type": "bar",
         "x": [
          "2022-01-01T00:00:00"
         ],
         "xaxis": "x",
         "y": [
          2
         ],
         "yaxis": "y"
        },
        {
         "alignmentgroup": "True",
         "hovertemplate": "DISEASE_NAME=U20.0<br>SECTOR_R=PRIVATE<br>DATE=%{x}<br>PEOPLE_SERVED=%{y}<extra></extra>",
         "legendgroup": "U20.0",
         "marker": {
          "color": "#EF553B",
          "pattern": {
           "shape": ""
          }
         },
         "name": "U20.0",
         "offsetgroup": "U20.0",
         "orientation": "v",
         "showlegend": true,
         "textposition": "auto",
         "type": "bar",
         "x": [
          "2022-02-01T00:00:00",
          "2022-04-01T00:00:00"
         ],
         "xaxis": "x",
         "y": [
          1,
          1
         ],
         "yaxis": "y"
        },
        {
         "alignmentgroup": "True",
         "hovertemplate": "DISEASE_NAME=U20.0<br>SECTOR_R=PUBLIC<br>DATE=%{x}<br>PEOPLE_SERVED=%{y}<extra></extra>",
         "legendgroup": "U20.0",
         "marker": {
          "color": "#EF553B",
          "pattern": {
           "shape": ""
          }
         },
         "name": "U20.0",
         "offsetgroup": "U20.0",
         "orientation": "v",
         "showlegend": false,
         "textposition": "auto",
         "type": "bar",
         "x": [
          "2022-01-01T00:00:00",
          "2022-02-01T00:00:00",
          "2022-03-01T00:00:00",
          "2022-04-01T00:00:00",
          "2022-05-01T00:00:00"
         ],
         "xaxis": "x2",
         "y": [
          52,
          102,
          72,
          87,
          55
         ],
         "yaxis": "y2"
        },
        {
         "alignmentgroup": "True",
         "hovertemplate": "DISEASE_NAME=U32.5<br>SECTOR_R=PUBLIC<br>DATE=%{x}<br>PEOPLE_SERVED=%{y}<extra></extra>",
         "legendgroup": "U32.5",
         "marker": {
          "color": "#00cc96",
          "pattern": {
           "shape": ""
          }
         },
         "name": "U32.5",
         "offsetgroup": "U32.5",
         "orientation": "v",
         "showlegend": true,
         "textposition": "auto",
         "type": "bar",
         "x": [
          "2022-01-01T00:00:00",
          "2022-02-01T00:00:00",
          "2022-03-01T00:00:00",
          "2022-04-01T00:00:00"
         ],
         "xaxis": "x2",
         "y": [
          1,
          1,
          2,
          1
         ],
         "yaxis": "y2"
        },
        {
         "alignmentgroup": "True",
         "hovertemplate": "DISEASE_NAME=AGENTE BACTERIANO RESISTENTE A VANCOMICINA<br>SECTOR_R=PRIVATE<br>DATE=%{x}<br>PEOPLE_SERVED=%{y}<extra></extra>",
         "legendgroup": "AGENTE BACTERIANO RESISTENTE A VANCOMICINA",
         "marker": {
          "color": "#ab63fa",
          "pattern": {
           "shape": ""
          }
         },
         "name": "AGENTE BACTERIANO RESISTENTE A VANCOMICINA",
         "offsetgroup": "AGENTE BACTERIANO RESISTENTE A VANCOMICINA",
         "orientation": "v",
         "showlegend": true,
         "textposition": "auto",
         "type": "bar",
         "x": [
          "2022-02-01T00:00:00"
         ],
         "xaxis": "x",
         "y": [
          1
         ],
         "yaxis": "y"
        },
        {
         "alignmentgroup": "True",
         "hovertemplate": "DISEASE_NAME=U10.9<br>SECTOR_R=PRIVATE<br>DATE=%{x}<br>PEOPLE_SERVED=%{y}<extra></extra>",
         "legendgroup": "U10.9",
         "marker": {
          "color": "#FFA15A",
          "pattern": {
           "shape": ""
          }
         },
         "name": "U10.9",
         "offsetgroup": "U10.9",
         "orientation": "v",
         "showlegend": true,
         "textposition": "auto",
         "type": "bar",
         "x": [
          "2022-02-01T00:00:00"
         ],
         "xaxis": "x",
         "y": [
          1
         ],
         "yaxis": "y"
        },
        {
         "alignmentgroup": "True",
         "hovertemplate": "DISEASE_NAME=U11.9<br>SECTOR_R=PRIVATE<br>DATE=%{x}<br>PEOPLE_SERVED=%{y}<extra></extra>",
         "legendgroup": "U11.9",
         "marker": {
          "color": "#19d3f3",
          "pattern": {
           "shape": ""
          }
         },
         "name": "U11.9",
         "offsetgroup": "U11.9",
         "orientation": "v",
         "showlegend": true,
         "textposition": "auto",
         "type": "bar",
         "x": [
          "2022-03-01T00:00:00"
         ],
         "xaxis": "x",
         "y": [
          1
         ],
         "yaxis": "y"
        },
        {
         "alignmentgroup": "True",
         "hovertemplate": "DISEASE_NAME=U12.9<br>SECTOR_R=PRIVATE<br>DATE=%{x}<br>PEOPLE_SERVED=%{y}<extra></extra>",
         "legendgroup": "U12.9",
         "marker": {
          "color": "#FF6692",
          "pattern": {
           "shape": ""
          }
         },
         "name": "U12.9",
         "offsetgroup": "U12.9",
         "orientation": "v",
         "showlegend": true,
         "textposition": "auto",
         "type": "bar",
         "x": [
          "2022-03-01T00:00:00",
          "2022-04-01T00:00:00"
         ],
         "xaxis": "x",
         "y": [
          3,
          51
         ],
         "yaxis": "y"
        }
       ],
       "layout": {
        "annotations": [
         {
          "font": {},
          "showarrow": false,
          "text": "SECTOR_R=PRIVATE",
          "x": 0.245,
          "xanchor": "center",
          "xref": "paper",
          "y": 1,
          "yanchor": "bottom",
          "yref": "paper"
         },
         {
          "font": {},
          "showarrow": false,
          "text": "SECTOR_R=PUBLIC",
          "x": 0.755,
          "xanchor": "center",
          "xref": "paper",
          "y": 1,
          "yanchor": "bottom",
          "yref": "paper"
         }
        ],
        "barmode": "stack",
        "height": 500,
        "legend": {
         "title": {
          "text": "DISEASE_NAME"
         },
         "tracegroupgap": 0
        },
        "template": {
         "data": {
          "bar": [
           {
            "error_x": {
             "color": "#2a3f5f"
            },
            "error_y": {
             "color": "#2a3f5f"
            },
            "marker": {
             "line": {
              "color": "#E5ECF6",
              "width": 0.5
             },
             "pattern": {
              "fillmode": "overlay",
              "size": 10,
              "solidity": 0.2
             }
            },
            "type": "bar"
           }
          ],
          "barpolar": [
           {
            "marker": {
             "line": {
              "color": "#E5ECF6",
              "width": 0.5
             },
             "pattern": {
              "fillmode": "overlay",
              "size": 10,
              "solidity": 0.2
             }
            },
            "type": "barpolar"
           }
          ],
          "carpet": [
           {
            "aaxis": {
             "endlinecolor": "#2a3f5f",
             "gridcolor": "white",
             "linecolor": "white",
             "minorgridcolor": "white",
             "startlinecolor": "#2a3f5f"
            },
            "baxis": {
             "endlinecolor": "#2a3f5f",
             "gridcolor": "white",
             "linecolor": "white",
             "minorgridcolor": "white",
             "startlinecolor": "#2a3f5f"
            },
            "type": "carpet"
           }
          ],
          "choropleth": [
           {
            "colorbar": {
             "outlinewidth": 0,
             "ticks": ""
            },
            "type": "choropleth"
           }
          ],
          "contour": [
           {
            "colorbar": {
             "outlinewidth": 0,
             "ticks": ""
            },
            "colorscale": [
             [
              0,
              "#0d0887"
             ],
             [
              0.1111111111111111,
              "#46039f"
             ],
             [
              0.2222222222222222,
              "#7201a8"
             ],
             [
              0.3333333333333333,
              "#9c179e"
             ],
             [
              0.4444444444444444,
              "#bd3786"
             ],
             [
              0.5555555555555556,
              "#d8576b"
             ],
             [
              0.6666666666666666,
              "#ed7953"
             ],
             [
              0.7777777777777778,
              "#fb9f3a"
             ],
             [
              0.8888888888888888,
              "#fdca26"
             ],
             [
              1,
              "#f0f921"
             ]
            ],
            "type": "contour"
           }
          ],
          "contourcarpet": [
           {
            "colorbar": {
             "outlinewidth": 0,
             "ticks": ""
            },
            "type": "contourcarpet"
           }
          ],
          "heatmap": [
           {
            "colorbar": {
             "outlinewidth": 0,
             "ticks": ""
            },
            "colorscale": [
             [
              0,
              "#0d0887"
             ],
             [
              0.1111111111111111,
              "#46039f"
             ],
             [
              0.2222222222222222,
              "#7201a8"
             ],
             [
              0.3333333333333333,
              "#9c179e"
             ],
             [
              0.4444444444444444,
              "#bd3786"
             ],
             [
              0.5555555555555556,
              "#d8576b"
             ],
             [
              0.6666666666666666,
              "#ed7953"
             ],
             [
              0.7777777777777778,
              "#fb9f3a"
             ],
             [
              0.8888888888888888,
              "#fdca26"
             ],
             [
              1,
              "#f0f921"
             ]
            ],
            "type": "heatmap"
           }
          ],
          "heatmapgl": [
           {
            "colorbar": {
             "outlinewidth": 0,
             "ticks": ""
            },
            "colorscale": [
             [
              0,
              "#0d0887"
             ],
             [
              0.1111111111111111,
              "#46039f"
             ],
             [
              0.2222222222222222,
              "#7201a8"
             ],
             [
              0.3333333333333333,
              "#9c179e"
             ],
             [
              0.4444444444444444,
              "#bd3786"
             ],
             [
              0.5555555555555556,
              "#d8576b"
             ],
             [
              0.6666666666666666,
              "#ed7953"
             ],
             [
              0.7777777777777778,
              "#fb9f3a"
             ],
             [
              0.8888888888888888,
              "#fdca26"
             ],
             [
              1,
              "#f0f921"
             ]
            ],
            "type": "heatmapgl"
           }
          ],
          "histogram": [
           {
            "marker": {
             "pattern": {
              "fillmode": "overlay",
              "size": 10,
              "solidity": 0.2
             }
            },
            "type": "histogram"
           }
          ],
          "histogram2d": [
           {
            "colorbar": {
             "outlinewidth": 0,
             "ticks": ""
            },
            "colorscale": [
             [
              0,
              "#0d0887"
             ],
             [
              0.1111111111111111,
              "#46039f"
             ],
             [
              0.2222222222222222,
              "#7201a8"
             ],
             [
              0.3333333333333333,
              "#9c179e"
             ],
             [
              0.4444444444444444,
              "#bd3786"
             ],
             [
              0.5555555555555556,
              "#d8576b"
             ],
             [
              0.6666666666666666,
              "#ed7953"
             ],
             [
              0.7777777777777778,
              "#fb9f3a"
             ],
             [
              0.8888888888888888,
              "#fdca26"
             ],
             [
              1,
              "#f0f921"
             ]
            ],
            "type": "histogram2d"
           }
          ],
          "histogram2dcontour": [
           {
            "colorbar": {
             "outlinewidth": 0,
             "ticks": ""
            },
            "colorscale": [
             [
              0,
              "#0d0887"
             ],
             [
              0.1111111111111111,
              "#46039f"
             ],
             [
              0.2222222222222222,
              "#7201a8"
             ],
             [
              0.3333333333333333,
              "#9c179e"
             ],
             [
              0.4444444444444444,
              "#bd3786"
             ],
             [
              0.5555555555555556,
              "#d8576b"
             ],
             [
              0.6666666666666666,
              "#ed7953"
             ],
             [
              0.7777777777777778,
              "#fb9f3a"
             ],
             [
              0.8888888888888888,
              "#fdca26"
             ],
             [
              1,
              "#f0f921"
             ]
            ],
            "type": "histogram2dcontour"
           }
          ],
          "mesh3d": [
           {
            "colorbar": {
             "outlinewidth": 0,
             "ticks": ""
            },
            "type": "mesh3d"
           }
          ],
          "parcoords": [
           {
            "line": {
             "colorbar": {
              "outlinewidth": 0,
              "ticks": ""
             }
            },
            "type": "parcoords"
           }
          ],
          "pie": [
           {
            "automargin": true,
            "type": "pie"
           }
          ],
          "scatter": [
           {
            "marker": {
             "colorbar": {
              "outlinewidth": 0,
              "ticks": ""
             }
            },
            "type": "scatter"
           }
          ],
          "scatter3d": [
           {
            "line": {
             "colorbar": {
              "outlinewidth": 0,
              "ticks": ""
             }
            },
            "marker": {
             "colorbar": {
              "outlinewidth": 0,
              "ticks": ""
             }
            },
            "type": "scatter3d"
           }
          ],
          "scattercarpet": [
           {
            "marker": {
             "colorbar": {
              "outlinewidth": 0,
              "ticks": ""
             }
            },
            "type": "scattercarpet"
           }
          ],
          "scattergeo": [
           {
            "marker": {
             "colorbar": {
              "outlinewidth": 0,
              "ticks": ""
             }
            },
            "type": "scattergeo"
           }
          ],
          "scattergl": [
           {
            "marker": {
             "colorbar": {
              "outlinewidth": 0,
              "ticks": ""
             }
            },
            "type": "scattergl"
           }
          ],
          "scattermapbox": [
           {
            "marker": {
             "colorbar": {
              "outlinewidth": 0,
              "ticks": ""
             }
            },
            "type": "scattermapbox"
           }
          ],
          "scatterpolar": [
           {
            "marker": {
             "colorbar": {
              "outlinewidth": 0,
              "ticks": ""
             }
            },
            "type": "scatterpolar"
           }
          ],
          "scatterpolargl": [
           {
            "marker": {
             "colorbar": {
              "outlinewidth": 0,
              "ticks": ""
             }
            },
            "type": "scatterpolargl"
           }
          ],
          "scatterternary": [
           {
            "marker": {
             "colorbar": {
              "outlinewidth": 0,
              "ticks": ""
             }
            },
            "type": "scatterternary"
           }
          ],
          "surface": [
           {
            "colorbar": {
             "outlinewidth": 0,
             "ticks": ""
            },
            "colorscale": [
             [
              0,
              "#0d0887"
             ],
             [
              0.1111111111111111,
              "#46039f"
             ],
             [
              0.2222222222222222,
              "#7201a8"
             ],
             [
              0.3333333333333333,
              "#9c179e"
             ],
             [
              0.4444444444444444,
              "#bd3786"
             ],
             [
              0.5555555555555556,
              "#d8576b"
             ],
             [
              0.6666666666666666,
              "#ed7953"
             ],
             [
              0.7777777777777778,
              "#fb9f3a"
             ],
             [
              0.8888888888888888,
              "#fdca26"
             ],
             [
              1,
              "#f0f921"
             ]
            ],
            "type": "surface"
           }
          ],
          "table": [
           {
            "cells": {
             "fill": {
              "color": "#EBF0F8"
             },
             "line": {
              "color": "white"
             }
            },
            "header": {
             "fill": {
              "color": "#C8D4E3"
             },
             "line": {
              "color": "white"
             }
            },
            "type": "table"
           }
          ]
         },
         "layout": {
          "annotationdefaults": {
           "arrowcolor": "#2a3f5f",
           "arrowhead": 0,
           "arrowwidth": 1
          },
          "autotypenumbers": "strict",
          "coloraxis": {
           "colorbar": {
            "outlinewidth": 0,
            "ticks": ""
           }
          },
          "colorscale": {
           "diverging": [
            [
             0,
             "#8e0152"
            ],
            [
             0.1,
             "#c51b7d"
            ],
            [
             0.2,
             "#de77ae"
            ],
            [
             0.3,
             "#f1b6da"
            ],
            [
             0.4,
             "#fde0ef"
            ],
            [
             0.5,
             "#f7f7f7"
            ],
            [
             0.6,
             "#e6f5d0"
            ],
            [
             0.7,
             "#b8e186"
            ],
            [
             0.8,
             "#7fbc41"
            ],
            [
             0.9,
             "#4d9221"
            ],
            [
             1,
             "#276419"
            ]
           ],
           "sequential": [
            [
             0,
             "#0d0887"
            ],
            [
             0.1111111111111111,
             "#46039f"
            ],
            [
             0.2222222222222222,
             "#7201a8"
            ],
            [
             0.3333333333333333,
             "#9c179e"
            ],
            [
             0.4444444444444444,
             "#bd3786"
            ],
            [
             0.5555555555555556,
             "#d8576b"
            ],
            [
             0.6666666666666666,
             "#ed7953"
            ],
            [
             0.7777777777777778,
             "#fb9f3a"
            ],
            [
             0.8888888888888888,
             "#fdca26"
            ],
            [
             1,
             "#f0f921"
            ]
           ],
           "sequentialminus": [
            [
             0,
             "#0d0887"
            ],
            [
             0.1111111111111111,
             "#46039f"
            ],
            [
             0.2222222222222222,
             "#7201a8"
            ],
            [
             0.3333333333333333,
             "#9c179e"
            ],
            [
             0.4444444444444444,
             "#bd3786"
            ],
            [
             0.5555555555555556,
             "#d8576b"
            ],
            [
             0.6666666666666666,
             "#ed7953"
            ],
            [
             0.7777777777777778,
             "#fb9f3a"
            ],
            [
             0.8888888888888888,
             "#fdca26"
            ],
            [
             1,
             "#f0f921"
            ]
           ]
          },
          "colorway": [
           "#636efa",
           "#EF553B",
           "#00cc96",
           "#ab63fa",
           "#FFA15A",
           "#19d3f3",
           "#FF6692",
           "#B6E880",
           "#FF97FF",
           "#FECB52"
          ],
          "font": {
           "color": "#2a3f5f"
          },
          "geo": {
           "bgcolor": "white",
           "lakecolor": "white",
           "landcolor": "#E5ECF6",
           "showlakes": true,
           "showland": true,
           "subunitcolor": "white"
          },
          "hoverlabel": {
           "align": "left"
          },
          "hovermode": "closest",
          "mapbox": {
           "style": "light"
          },
          "paper_bgcolor": "white",
          "plot_bgcolor": "#E5ECF6",
          "polar": {
           "angularaxis": {
            "gridcolor": "white",
            "linecolor": "white",
            "ticks": ""
           },
           "bgcolor": "#E5ECF6",
           "radialaxis": {
            "gridcolor": "white",
            "linecolor": "white",
            "ticks": ""
           }
          },
          "scene": {
           "xaxis": {
            "backgroundcolor": "#E5ECF6",
            "gridcolor": "white",
            "gridwidth": 2,
            "linecolor": "white",
            "showbackground": true,
            "ticks": "",
            "zerolinecolor": "white"
           },
           "yaxis": {
            "backgroundcolor": "#E5ECF6",
            "gridcolor": "white",
            "gridwidth": 2,
            "linecolor": "white",
            "showbackground": true,
            "ticks": "",
            "zerolinecolor": "white"
           },
           "zaxis": {
            "backgroundcolor": "#E5ECF6",
            "gridcolor": "white",
            "gridwidth": 2,
            "linecolor": "white",
            "showbackground": true,
            "ticks": "",
            "zerolinecolor": "white"
           }
          },
          "shapedefaults": {
           "line": {
            "color": "#2a3f5f"
           }
          },
          "ternary": {
           "aaxis": {
            "gridcolor": "white",
            "linecolor": "white",
            "ticks": ""
           },
           "baxis": {
            "gridcolor": "white",
            "linecolor": "white",
            "ticks": ""
           },
           "bgcolor": "#E5ECF6",
           "caxis": {
            "gridcolor": "white",
            "linecolor": "white",
            "ticks": ""
           }
          },
          "title": {
           "x": 0.05
          },
          "xaxis": {
           "automargin": true,
           "gridcolor": "white",
           "linecolor": "white",
           "ticks": "",
           "title": {
            "standoff": 15
           },
           "zerolinecolor": "white",
           "zerolinewidth": 2
          },
          "yaxis": {
           "automargin": true,
           "gridcolor": "white",
           "linecolor": "white",
           "ticks": "",
           "title": {
            "standoff": 15
           },
           "zerolinecolor": "white",
           "zerolinewidth": 2
          }
         }
        },
        "title": {
         "text": "Special Codes to Category II"
        },
        "width": 1200,
        "xaxis": {
         "anchor": "y",
         "domain": [
          0,
          0.49
         ],
         "title": {
          "text": "DATE"
         }
        },
        "xaxis2": {
         "anchor": "y2",
         "domain": [
          0.51,
          1
         ],
         "matches": "x",
         "title": {
          "text": "DATE"
         }
        },
        "yaxis": {
         "anchor": "x",
         "domain": [
          0,
          1
         ],
         "title": {
          "text": "PEOPLE_SERVED"
         }
        },
        "yaxis2": {
         "anchor": "x2",
         "domain": [
          0,
          1
         ],
         "matches": "y",
         "showticklabels": false
        }
       }
      },
      "text/html": [
       "<div>                            <div id=\"3cbd0471-b9fa-47e9-8058-ae13a883eced\" class=\"plotly-graph-div\" style=\"height:500px; width:1200px;\"></div>            <script type=\"text/javascript\">                require([\"plotly\"], function(Plotly) {                    window.PLOTLYENV=window.PLOTLYENV || {};                                    if (document.getElementById(\"3cbd0471-b9fa-47e9-8058-ae13a883eced\")) {                    Plotly.newPlot(                        \"3cbd0471-b9fa-47e9-8058-ae13a883eced\",                        [{\"alignmentgroup\":\"True\",\"hovertemplate\":\"DISEASE_NAME=U20.6<br>SECTOR_R=PRIVATE<br>DATE=%{x}<br>PEOPLE_SERVED=%{y}<extra></extra>\",\"legendgroup\":\"U20.6\",\"marker\":{\"color\":\"#ab63fa\",\"pattern\":{\"shape\":\"\"}},\"name\":\"U20.6\",\"offsetgroup\":\"U20.6\",\"orientation\":\"v\",\"showlegend\":true,\"textposition\":\"auto\",\"x\":[\"2018-01-01T00:00:00\",\"2018-03-01T00:00:00\",\"2018-04-01T00:00:00\",\"2021-01-01T00:00:00\",\"2021-02-01T00:00:00\",\"2021-03-01T00:00:00\",\"2021-04-01T00:00:00\",\"2022-02-01T00:00:00\"],\"xaxis\":\"x\",\"y\":[6,1,7,11,1,2,1,1],\"yaxis\":\"y\",\"type\":\"bar\"},{\"alignmentgroup\":\"True\",\"hovertemplate\":\"DISEASE_NAME=U20.6<br>SECTOR_R=PUBLIC<br>DATE=%{x}<br>PEOPLE_SERVED=%{y}<extra></extra>\",\"legendgroup\":\"U20.6\",\"marker\":{\"color\":\"#ab63fa\",\"pattern\":{\"shape\":\"\"}},\"name\":\"U20.6\",\"offsetgroup\":\"U20.6\",\"orientation\":\"v\",\"showlegend\":false,\"textposition\":\"auto\",\"x\":[\"2019-09-01T00:00:00\",\"2019-12-01T00:00:00\",\"2020-01-01T00:00:00\"],\"xaxis\":\"x2\",\"y\":[1,4,60],\"yaxis\":\"y2\",\"type\":\"bar\"},{\"alignmentgroup\":\"True\",\"hovertemplate\":\"DISEASE_NAME=U32.4<br>SECTOR_R=PRIVATE<br>DATE=%{x}<br>PEOPLE_SERVED=%{y}<extra></extra>\",\"legendgroup\":\"U32.4\",\"marker\":{\"color\":\"#FFA15A\",\"pattern\":{\"shape\":\"\"}},\"name\":\"U32.4\",\"offsetgroup\":\"U32.4\",\"orientation\":\"v\",\"showlegend\":true,\"textposition\":\"auto\",\"x\":[\"2018-01-01T00:00:00\",\"2019-01-01T00:00:00\",\"2019-11-01T00:00:00\"],\"xaxis\":\"x\",\"y\":[1,1,1],\"yaxis\":\"y\",\"type\":\"bar\"},{\"alignmentgroup\":\"True\",\"hovertemplate\":\"DISEASE_NAME=U32.4<br>SECTOR_R=PUBLIC<br>DATE=%{x}<br>PEOPLE_SERVED=%{y}<extra></extra>\",\"legendgroup\":\"U32.4\",\"marker\":{\"color\":\"#FFA15A\",\"pattern\":{\"shape\":\"\"}},\"name\":\"U32.4\",\"offsetgroup\":\"U32.4\",\"orientation\":\"v\",\"showlegend\":false,\"textposition\":\"auto\",\"x\":[\"2018-02-01T00:00:00\",\"2018-04-01T00:00:00\",\"2019-03-01T00:00:00\",\"2019-04-01T00:00:00\",\"2019-06-01T00:00:00\",\"2019-07-01T00:00:00\",\"2019-08-01T00:00:00\",\"2019-12-01T00:00:00\",\"2020-01-01T00:00:00\",\"2020-02-01T00:00:00\",\"2020-06-01T00:00:00\",\"2020-07-01T00:00:00\",\"2020-09-01T00:00:00\",\"2020-11-01T00:00:00\",\"2020-12-01T00:00:00\",\"2021-02-01T00:00:00\",\"2021-03-01T00:00:00\",\"2021-05-01T00:00:00\",\"2021-06-01T00:00:00\",\"2021-11-01T00:00:00\",\"2022-01-01T00:00:00\",\"2022-05-01T00:00:00\"],\"xaxis\":\"x2\",\"y\":[1,1,1,1,1,2,4,1,1,3,1,3,3,1,1,1,1,1,1,1,1,1],\"yaxis\":\"y2\",\"type\":\"bar\"},{\"alignmentgroup\":\"True\",\"hovertemplate\":\"DISEASE_NAME=U20.2<br>SECTOR_R=PRIVATE<br>DATE=%{x}<br>PEOPLE_SERVED=%{y}<extra></extra>\",\"legendgroup\":\"U20.2\",\"marker\":{\"color\":\"#19d3f3\",\"pattern\":{\"shape\":\"\"}},\"name\":\"U20.2\",\"offsetgroup\":\"U20.2\",\"orientation\":\"v\",\"showlegend\":true,\"textposition\":\"auto\",\"x\":[\"2018-09-01T00:00:00\",\"2018-11-01T00:00:00\",\"2019-01-01T00:00:00\",\"2019-02-01T00:00:00\",\"2019-04-01T00:00:00\",\"2019-09-01T00:00:00\",\"2019-12-01T00:00:00\",\"2020-01-01T00:00:00\",\"2021-01-01T00:00:00\",\"2021-04-01T00:00:00\",\"2021-06-01T00:00:00\",\"2021-08-01T00:00:00\",\"2022-02-01T00:00:00\"],\"xaxis\":\"x\",\"y\":[1,1,2,2,2,1,3,1,1,1,1,1,1],\"yaxis\":\"y\",\"type\":\"bar\"},{\"alignmentgroup\":\"True\",\"hovertemplate\":\"DISEASE_NAME=U20.2<br>SECTOR_R=PUBLIC<br>DATE=%{x}<br>PEOPLE_SERVED=%{y}<extra></extra>\",\"legendgroup\":\"U20.2\",\"marker\":{\"color\":\"#19d3f3\",\"pattern\":{\"shape\":\"\"}},\"name\":\"U20.2\",\"offsetgroup\":\"U20.2\",\"orientation\":\"v\",\"showlegend\":false,\"textposition\":\"auto\",\"x\":[\"2018-01-01T00:00:00\",\"2018-02-01T00:00:00\",\"2018-03-01T00:00:00\",\"2018-04-01T00:00:00\",\"2018-05-01T00:00:00\",\"2018-06-01T00:00:00\",\"2018-07-01T00:00:00\",\"2018-08-01T00:00:00\",\"2018-09-01T00:00:00\",\"2018-10-01T00:00:00\",\"2018-11-01T00:00:00\",\"2018-12-01T00:00:00\",\"2019-01-01T00:00:00\",\"2019-02-01T00:00:00\",\"2019-03-01T00:00:00\",\"2019-04-01T00:00:00\",\"2019-05-01T00:00:00\",\"2019-06-01T00:00:00\",\"2019-07-01T00:00:00\",\"2019-08-01T00:00:00\",\"2019-09-01T00:00:00\",\"2019-10-01T00:00:00\",\"2019-11-01T00:00:00\",\"2019-12-01T00:00:00\",\"2020-01-01T00:00:00\",\"2020-02-01T00:00:00\",\"2020-03-01T00:00:00\",\"2020-04-01T00:00:00\",\"2020-05-01T00:00:00\",\"2020-06-01T00:00:00\",\"2020-07-01T00:00:00\",\"2020-08-01T00:00:00\",\"2020-09-01T00:00:00\",\"2020-10-01T00:00:00\",\"2020-11-01T00:00:00\",\"2020-12-01T00:00:00\",\"2021-01-01T00:00:00\",\"2021-02-01T00:00:00\",\"2021-03-01T00:00:00\",\"2021-04-01T00:00:00\",\"2021-05-01T00:00:00\",\"2021-06-01T00:00:00\",\"2021-07-01T00:00:00\",\"2021-08-01T00:00:00\",\"2021-09-01T00:00:00\",\"2021-10-01T00:00:00\",\"2021-11-01T00:00:00\",\"2021-12-01T00:00:00\",\"2022-01-01T00:00:00\",\"2022-02-01T00:00:00\",\"2022-03-01T00:00:00\",\"2022-04-01T00:00:00\",\"2022-05-01T00:00:00\"],\"xaxis\":\"x2\",\"y\":[9,3,3,3,7,3,8,14,7,6,6,5,17,23,44,20,35,24,20,28,34,17,1,19,7,30,4,13,28,8,3,7,4,1,11,3,7,15,2,8,7,13,14,7,4,144,129,146,145,159,161,118,25],\"yaxis\":\"y2\",\"type\":\"bar\"},{\"alignmentgroup\":\"True\",\"hovertemplate\":\"DISEASE_NAME=U20.3<br>SECTOR_R=PRIVATE<br>DATE=%{x}<br>PEOPLE_SERVED=%{y}<extra></extra>\",\"legendgroup\":\"U20.3\",\"marker\":{\"color\":\"#FF6692\",\"pattern\":{\"shape\":\"\"}},\"name\":\"U20.3\",\"offsetgroup\":\"U20.3\",\"orientation\":\"v\",\"showlegend\":true,\"textposition\":\"auto\",\"x\":[\"2019-01-01T00:00:00\",\"2019-04-01T00:00:00\",\"2019-11-01T00:00:00\",\"2020-07-01T00:00:00\",\"2020-08-01T00:00:00\",\"2020-09-01T00:00:00\",\"2020-12-01T00:00:00\",\"2021-01-01T00:00:00\",\"2021-05-01T00:00:00\",\"2021-07-01T00:00:00\",\"2021-08-01T00:00:00\",\"2022-02-01T00:00:00\",\"2022-04-01T00:00:00\"],\"xaxis\":\"x\",\"y\":[1,2,1,2,2,1,1,1,1,3,1,1,1],\"yaxis\":\"y\",\"type\":\"bar\"},{\"alignmentgroup\":\"True\",\"hovertemplate\":\"DISEASE_NAME=U20.3<br>SECTOR_R=PUBLIC<br>DATE=%{x}<br>PEOPLE_SERVED=%{y}<extra></extra>\",\"legendgroup\":\"U20.3\",\"marker\":{\"color\":\"#FF6692\",\"pattern\":{\"shape\":\"\"}},\"name\":\"U20.3\",\"offsetgroup\":\"U20.3\",\"orientation\":\"v\",\"showlegend\":false,\"textposition\":\"auto\",\"x\":[\"2018-01-01T00:00:00\",\"2018-02-01T00:00:00\",\"2018-03-01T00:00:00\",\"2018-04-01T00:00:00\",\"2018-05-01T00:00:00\",\"2018-06-01T00:00:00\",\"2018-07-01T00:00:00\",\"2018-08-01T00:00:00\",\"2018-09-01T00:00:00\",\"2018-10-01T00:00:00\",\"2018-11-01T00:00:00\",\"2018-12-01T00:00:00\",\"2019-01-01T00:00:00\",\"2019-02-01T00:00:00\",\"2019-03-01T00:00:00\",\"2019-04-01T00:00:00\",\"2019-05-01T00:00:00\",\"2019-06-01T00:00:00\",\"2019-07-01T00:00:00\",\"2019-08-01T00:00:00\",\"2019-09-01T00:00:00\",\"2019-10-01T00:00:00\",\"2019-11-01T00:00:00\",\"2019-12-01T00:00:00\",\"2020-01-01T00:00:00\",\"2020-02-01T00:00:00\",\"2020-03-01T00:00:00\",\"2020-04-01T00:00:00\",\"2020-05-01T00:00:00\",\"2020-06-01T00:00:00\",\"2020-07-01T00:00:00\",\"2020-08-01T00:00:00\",\"2020-09-01T00:00:00\",\"2020-10-01T00:00:00\",\"2020-11-01T00:00:00\",\"2020-12-01T00:00:00\",\"2021-01-01T00:00:00\",\"2021-02-01T00:00:00\",\"2021-03-01T00:00:00\",\"2021-04-01T00:00:00\",\"2021-05-01T00:00:00\",\"2021-06-01T00:00:00\",\"2021-07-01T00:00:00\",\"2021-08-01T00:00:00\",\"2021-09-01T00:00:00\",\"2021-10-01T00:00:00\",\"2021-11-01T00:00:00\",\"2021-12-01T00:00:00\",\"2022-01-01T00:00:00\",\"2022-02-01T00:00:00\",\"2022-03-01T00:00:00\",\"2022-04-01T00:00:00\",\"2022-05-01T00:00:00\"],\"xaxis\":\"x2\",\"y\":[29,20,16,16,19,15,19,24,7,22,16,21,53,35,73,39,51,48,67,52,45,36,5,30,1,33,6,25,42,50,34,23,8,13,11,15,14,7,6,4,7,9,6,31,7,26,70,78,76,61,78,25,20],\"yaxis\":\"y2\",\"type\":\"bar\"},{\"alignmentgroup\":\"True\",\"hovertemplate\":\"DISEASE_NAME=U32.6<br>SECTOR_R=PRIVATE<br>DATE=%{x}<br>PEOPLE_SERVED=%{y}<extra></extra>\",\"legendgroup\":\"U32.6\",\"marker\":{\"color\":\"#B6E880\",\"pattern\":{\"shape\":\"\"}},\"name\":\"U32.6\",\"offsetgroup\":\"U32.6\",\"orientation\":\"v\",\"showlegend\":true,\"textposition\":\"auto\",\"x\":[\"2018-11-01T00:00:00\",\"2019-06-01T00:00:00\",\"2019-08-01T00:00:00\",\"2019-09-01T00:00:00\",\"2019-10-01T00:00:00\",\"2020-07-01T00:00:00\"],\"xaxis\":\"x\",\"y\":[1,1,5,1,1,1],\"yaxis\":\"y\",\"type\":\"bar\"},{\"alignmentgroup\":\"True\",\"hovertemplate\":\"DISEASE_NAME=U32.6<br>SECTOR_R=PUBLIC<br>DATE=%{x}<br>PEOPLE_SERVED=%{y}<extra></extra>\",\"legendgroup\":\"U32.6\",\"marker\":{\"color\":\"#B6E880\",\"pattern\":{\"shape\":\"\"}},\"name\":\"U32.6\",\"offsetgroup\":\"U32.6\",\"orientation\":\"v\",\"showlegend\":false,\"textposition\":\"auto\",\"x\":[\"2018-02-01T00:00:00\",\"2018-03-01T00:00:00\",\"2018-05-01T00:00:00\",\"2018-06-01T00:00:00\",\"2018-08-01T00:00:00\",\"2018-11-01T00:00:00\",\"2019-01-01T00:00:00\",\"2019-02-01T00:00:00\",\"2019-03-01T00:00:00\",\"2019-04-01T00:00:00\",\"2019-05-01T00:00:00\",\"2019-07-01T00:00:00\",\"2019-09-01T00:00:00\",\"2019-12-01T00:00:00\",\"2020-01-01T00:00:00\",\"2020-02-01T00:00:00\",\"2020-03-01T00:00:00\",\"2020-09-01T00:00:00\",\"2020-12-01T00:00:00\",\"2021-10-01T00:00:00\",\"2022-01-01T00:00:00\"],\"xaxis\":\"x2\",\"y\":[1,1,1,2,1,3,8,1,1,2,2,1,1,1,1,3,3,1,1,1,2],\"yaxis\":\"y2\",\"type\":\"bar\"},{\"alignmentgroup\":\"True\",\"hovertemplate\":\"DISEASE_NAME=U20.4<br>SECTOR_R=PUBLIC<br>DATE=%{x}<br>PEOPLE_SERVED=%{y}<extra></extra>\",\"legendgroup\":\"U20.4\",\"marker\":{\"color\":\"#FF97FF\",\"pattern\":{\"shape\":\"\"}},\"name\":\"U20.4\",\"offsetgroup\":\"U20.4\",\"orientation\":\"v\",\"showlegend\":true,\"textposition\":\"auto\",\"x\":[\"2018-04-01T00:00:00\",\"2018-05-01T00:00:00\",\"2018-07-01T00:00:00\",\"2018-08-01T00:00:00\",\"2018-09-01T00:00:00\",\"2018-11-01T00:00:00\",\"2019-01-01T00:00:00\",\"2019-02-01T00:00:00\",\"2019-03-01T00:00:00\",\"2019-04-01T00:00:00\",\"2019-05-01T00:00:00\",\"2019-06-01T00:00:00\",\"2019-07-01T00:00:00\",\"2019-08-01T00:00:00\",\"2019-09-01T00:00:00\",\"2019-12-01T00:00:00\",\"2020-02-01T00:00:00\",\"2020-10-01T00:00:00\",\"2020-11-01T00:00:00\",\"2020-12-01T00:00:00\",\"2021-01-01T00:00:00\",\"2021-03-01T00:00:00\",\"2021-05-01T00:00:00\",\"2021-07-01T00:00:00\",\"2021-08-01T00:00:00\",\"2021-10-01T00:00:00\",\"2022-01-01T00:00:00\",\"2022-02-01T00:00:00\",\"2022-03-01T00:00:00\"],\"xaxis\":\"x2\",\"y\":[1,1,1,1,2,1,1,2,3,1,4,2,1,1,2,1,2,5,4,1,1,1,1,3,3,6,1,3,2],\"yaxis\":\"y2\",\"type\":\"bar\"},{\"alignmentgroup\":\"True\",\"hovertemplate\":\"DISEASE_NAME=U20.5<br>SECTOR_R=PRIVATE<br>DATE=%{x}<br>PEOPLE_SERVED=%{y}<extra></extra>\",\"legendgroup\":\"U20.5\",\"marker\":{\"color\":\"#FECB52\",\"pattern\":{\"shape\":\"\"}},\"name\":\"U20.5\",\"offsetgroup\":\"U20.5\",\"orientation\":\"v\",\"showlegend\":true,\"textposition\":\"auto\",\"x\":[\"2018-09-01T00:00:00\",\"2019-08-01T00:00:00\"],\"xaxis\":\"x\",\"y\":[1,1],\"yaxis\":\"y\",\"type\":\"bar\"},{\"alignmentgroup\":\"True\",\"hovertemplate\":\"DISEASE_NAME=U20.5<br>SECTOR_R=PUBLIC<br>DATE=%{x}<br>PEOPLE_SERVED=%{y}<extra></extra>\",\"legendgroup\":\"U20.5\",\"marker\":{\"color\":\"#FECB52\",\"pattern\":{\"shape\":\"\"}},\"name\":\"U20.5\",\"offsetgroup\":\"U20.5\",\"orientation\":\"v\",\"showlegend\":false,\"textposition\":\"auto\",\"x\":[\"2018-05-01T00:00:00\",\"2018-09-01T00:00:00\",\"2019-07-01T00:00:00\",\"2019-08-01T00:00:00\",\"2019-09-01T00:00:00\",\"2019-12-01T00:00:00\",\"2020-02-01T00:00:00\",\"2020-06-01T00:00:00\",\"2020-07-01T00:00:00\",\"2020-11-01T00:00:00\",\"2021-01-01T00:00:00\",\"2021-02-01T00:00:00\",\"2021-03-01T00:00:00\",\"2021-04-01T00:00:00\",\"2021-06-01T00:00:00\",\"2021-08-01T00:00:00\",\"2021-09-01T00:00:00\",\"2021-10-01T00:00:00\",\"2021-12-01T00:00:00\",\"2022-01-01T00:00:00\",\"2022-02-01T00:00:00\",\"2022-03-01T00:00:00\",\"2022-04-01T00:00:00\",\"2022-05-01T00:00:00\"],\"xaxis\":\"x2\",\"y\":[1,1,1,3,2,1,1,1,1,1,2,1,3,1,1,2,2,6,3,21,20,21,1,1],\"yaxis\":\"y2\",\"type\":\"bar\"},{\"alignmentgroup\":\"True\",\"hovertemplate\":\"DISEASE_NAME=SINDROME RESPIRATORIO AGUDO GRAVE [SRAG], NO ESPECIFICADO<br>SECTOR_R=PRIVATE<br>DATE=%{x}<br>PEOPLE_SERVED=%{y}<extra></extra>\",\"legendgroup\":\"SINDROME RESPIRATORIO AGUDO GRAVE [SRAG], NO ESPECIFICADO\",\"marker\":{\"color\":\"#636efa\",\"pattern\":{\"shape\":\"\"}},\"name\":\"SINDROME RESPIRATORIO AGUDO GRAVE [SRAG], NO ESPECIFICADO\",\"offsetgroup\":\"SINDROME RESPIRATORIO AGUDO GRAVE [SRAG], NO ESPECIFICADO\",\"orientation\":\"v\",\"showlegend\":true,\"textposition\":\"auto\",\"x\":[\"2018-09-01T00:00:00\",\"2020-03-01T00:00:00\",\"2020-05-01T00:00:00\",\"2020-07-01T00:00:00\",\"2020-08-01T00:00:00\",\"2020-09-01T00:00:00\",\"2020-11-01T00:00:00\",\"2020-12-01T00:00:00\",\"2021-01-01T00:00:00\",\"2021-03-01T00:00:00\",\"2021-05-01T00:00:00\",\"2021-09-01T00:00:00\",\"2021-10-01T00:00:00\"],\"xaxis\":\"x\",\"y\":[1,1,1,1,2,1,1,1,1,6,3,1,1],\"yaxis\":\"y\",\"type\":\"bar\"},{\"alignmentgroup\":\"True\",\"hovertemplate\":\"DISEASE_NAME=SINDROME RESPIRATORIO AGUDO GRAVE [SRAG], NO ESPECIFICADO<br>SECTOR_R=PUBLIC<br>DATE=%{x}<br>PEOPLE_SERVED=%{y}<extra></extra>\",\"legendgroup\":\"SINDROME RESPIRATORIO AGUDO GRAVE [SRAG], NO ESPECIFICADO\",\"marker\":{\"color\":\"#636efa\",\"pattern\":{\"shape\":\"\"}},\"name\":\"SINDROME RESPIRATORIO AGUDO GRAVE [SRAG], NO ESPECIFICADO\",\"offsetgroup\":\"SINDROME RESPIRATORIO AGUDO GRAVE [SRAG], NO ESPECIFICADO\",\"orientation\":\"v\",\"showlegend\":false,\"textposition\":\"auto\",\"x\":[\"2019-05-01T00:00:00\",\"2019-06-01T00:00:00\",\"2020-02-01T00:00:00\",\"2020-05-01T00:00:00\",\"2020-06-01T00:00:00\",\"2020-07-01T00:00:00\",\"2020-08-01T00:00:00\",\"2020-09-01T00:00:00\",\"2020-12-01T00:00:00\",\"2021-01-01T00:00:00\",\"2021-02-01T00:00:00\",\"2021-03-01T00:00:00\",\"2021-04-01T00:00:00\",\"2021-05-01T00:00:00\",\"2021-06-01T00:00:00\",\"2021-07-01T00:00:00\",\"2021-08-01T00:00:00\",\"2021-09-01T00:00:00\",\"2021-10-01T00:00:00\",\"2021-11-01T00:00:00\",\"2021-12-01T00:00:00\",\"2022-01-01T00:00:00\",\"2022-02-01T00:00:00\",\"2022-04-01T00:00:00\"],\"xaxis\":\"x2\",\"y\":[6,6,2,13,14,17,15,5,1,16,39,40,45,22,12,8,7,5,5,1,2,5,3,1],\"yaxis\":\"y2\",\"type\":\"bar\"},{\"alignmentgroup\":\"True\",\"hovertemplate\":\"DISEASE_NAME=USO EMERGENTE DE U07.1<br>SECTOR_R=PRIVATE<br>DATE=%{x}<br>PEOPLE_SERVED=%{y}<extra></extra>\",\"legendgroup\":\"USO EMERGENTE DE U07.1\",\"marker\":{\"color\":\"#EF553B\",\"pattern\":{\"shape\":\"\"}},\"name\":\"USO EMERGENTE DE U07.1\",\"offsetgroup\":\"USO EMERGENTE DE U07.1\",\"orientation\":\"v\",\"showlegend\":true,\"textposition\":\"auto\",\"x\":[\"2020-03-01T00:00:00\",\"2020-04-01T00:00:00\",\"2020-05-01T00:00:00\",\"2020-06-01T00:00:00\",\"2020-07-01T00:00:00\",\"2020-08-01T00:00:00\",\"2020-09-01T00:00:00\",\"2020-10-01T00:00:00\",\"2020-11-01T00:00:00\",\"2020-12-01T00:00:00\",\"2021-01-01T00:00:00\",\"2021-02-01T00:00:00\",\"2021-03-01T00:00:00\",\"2021-04-01T00:00:00\",\"2021-05-01T00:00:00\",\"2021-06-01T00:00:00\",\"2021-07-01T00:00:00\",\"2021-08-01T00:00:00\",\"2021-09-01T00:00:00\",\"2021-10-01T00:00:00\",\"2021-11-01T00:00:00\",\"2021-12-01T00:00:00\",\"2022-01-01T00:00:00\",\"2022-02-01T00:00:00\",\"2022-03-01T00:00:00\",\"2022-04-01T00:00:00\",\"2022-05-01T00:00:00\"],\"xaxis\":\"x\",\"y\":[2,137,428,1252,3915,5480,4108,2128,1148,1553,5797,9250,12523,11367,6931,4231,3163,2407,1900,1742,1816,3035,24454,4132,708,852,121],\"yaxis\":\"y\",\"type\":\"bar\"},{\"alignmentgroup\":\"True\",\"hovertemplate\":\"DISEASE_NAME=USO EMERGENTE DE U07.1<br>SECTOR_R=PUBLIC<br>DATE=%{x}<br>PEOPLE_SERVED=%{y}<extra></extra>\",\"legendgroup\":\"USO EMERGENTE DE U07.1\",\"marker\":{\"color\":\"#EF553B\",\"pattern\":{\"shape\":\"\"}},\"name\":\"USO EMERGENTE DE U07.1\",\"offsetgroup\":\"USO EMERGENTE DE U07.1\",\"orientation\":\"v\",\"showlegend\":false,\"textposition\":\"auto\",\"x\":[\"2020-03-01T00:00:00\",\"2020-04-01T00:00:00\",\"2020-05-01T00:00:00\",\"2020-06-01T00:00:00\",\"2020-07-01T00:00:00\",\"2020-08-01T00:00:00\",\"2020-09-01T00:00:00\",\"2020-10-01T00:00:00\",\"2020-11-01T00:00:00\",\"2020-12-01T00:00:00\",\"2021-01-01T00:00:00\",\"2021-02-01T00:00:00\",\"2021-03-01T00:00:00\",\"2021-04-01T00:00:00\",\"2021-05-01T00:00:00\",\"2021-06-01T00:00:00\",\"2021-07-01T00:00:00\",\"2021-08-01T00:00:00\",\"2021-09-01T00:00:00\",\"2021-10-01T00:00:00\",\"2021-11-01T00:00:00\",\"2021-12-01T00:00:00\",\"2022-01-01T00:00:00\",\"2022-02-01T00:00:00\",\"2022-03-01T00:00:00\",\"2022-04-01T00:00:00\",\"2022-05-01T00:00:00\"],\"xaxis\":\"x2\",\"y\":[12,443,1336,2865,8579,11992,10494,8670,6055,3774,7648,11768,15398,16174,11672,6470,3319,2533,2460,3708,3864,3927,33518,5395,1503,855,339],\"yaxis\":\"y2\",\"type\":\"bar\"},{\"alignmentgroup\":\"True\",\"hovertemplate\":\"DISEASE_NAME=USO EMERGENTE DE U07.2<br>SECTOR_R=PRIVATE<br>DATE=%{x}<br>PEOPLE_SERVED=%{y}<extra></extra>\",\"legendgroup\":\"USO EMERGENTE DE U07.2\",\"marker\":{\"color\":\"#00cc96\",\"pattern\":{\"shape\":\"\"}},\"name\":\"USO EMERGENTE DE U07.2\",\"offsetgroup\":\"USO EMERGENTE DE U07.2\",\"orientation\":\"v\",\"showlegend\":true,\"textposition\":\"auto\",\"x\":[\"2020-03-01T00:00:00\",\"2020-04-01T00:00:00\",\"2020-05-01T00:00:00\",\"2020-06-01T00:00:00\",\"2020-07-01T00:00:00\",\"2020-08-01T00:00:00\",\"2020-09-01T00:00:00\",\"2020-10-01T00:00:00\",\"2020-11-01T00:00:00\",\"2020-12-01T00:00:00\",\"2021-01-01T00:00:00\",\"2021-02-01T00:00:00\",\"2021-03-01T00:00:00\",\"2021-04-01T00:00:00\",\"2021-05-01T00:00:00\",\"2021-06-01T00:00:00\",\"2021-07-01T00:00:00\",\"2021-08-01T00:00:00\",\"2021-09-01T00:00:00\",\"2021-10-01T00:00:00\",\"2021-11-01T00:00:00\",\"2021-12-01T00:00:00\",\"2022-01-01T00:00:00\",\"2022-02-01T00:00:00\",\"2022-03-01T00:00:00\",\"2022-04-01T00:00:00\",\"2022-05-01T00:00:00\"],\"xaxis\":\"x\",\"y\":[1,10,165,813,5006,7604,5119,3831,2416,3043,8469,7322,11426,11363,7311,5485,5616,4771,3695,3854,4486,8010,30909,4641,3349,2904,249],\"yaxis\":\"y\",\"type\":\"bar\"},{\"alignmentgroup\":\"True\",\"hovertemplate\":\"DISEASE_NAME=USO EMERGENTE DE U07.2<br>SECTOR_R=PUBLIC<br>DATE=%{x}<br>PEOPLE_SERVED=%{y}<extra></extra>\",\"legendgroup\":\"USO EMERGENTE DE U07.2\",\"marker\":{\"color\":\"#00cc96\",\"pattern\":{\"shape\":\"\"}},\"name\":\"USO EMERGENTE DE U07.2\",\"offsetgroup\":\"USO EMERGENTE DE U07.2\",\"orientation\":\"v\",\"showlegend\":false,\"textposition\":\"auto\",\"x\":[\"2020-03-01T00:00:00\",\"2020-04-01T00:00:00\",\"2020-05-01T00:00:00\",\"2020-06-01T00:00:00\",\"2020-07-01T00:00:00\",\"2020-08-01T00:00:00\",\"2020-09-01T00:00:00\",\"2020-10-01T00:00:00\",\"2020-11-01T00:00:00\",\"2020-12-01T00:00:00\",\"2021-01-01T00:00:00\",\"2021-02-01T00:00:00\",\"2021-03-01T00:00:00\",\"2021-04-01T00:00:00\",\"2021-05-01T00:00:00\",\"2021-06-01T00:00:00\",\"2021-07-01T00:00:00\",\"2021-08-01T00:00:00\",\"2021-09-01T00:00:00\",\"2021-10-01T00:00:00\",\"2021-11-01T00:00:00\",\"2021-12-01T00:00:00\",\"2022-01-01T00:00:00\",\"2022-02-01T00:00:00\",\"2022-03-01T00:00:00\",\"2022-04-01T00:00:00\",\"2022-05-01T00:00:00\"],\"xaxis\":\"x2\",\"y\":[1,72,422,505,7317,9228,6437,4864,3700,4165,8530,8603,9557,9252,6507,4213,4161,2996,2950,4187,5009,6895,24985,4986,4700,3040,1611],\"yaxis\":\"y2\",\"type\":\"bar\"},{\"alignmentgroup\":\"True\",\"hovertemplate\":\"DISEASE_NAME=ENFERMEDAD POR EL VIRUS DEL ZIKA, SIN ESPECIFICACION<br>SECTOR_R=PUBLIC<br>DATE=%{x}<br>PEOPLE_SERVED=%{y}<extra></extra>\",\"legendgroup\":\"ENFERMEDAD POR EL VIRUS DEL ZIKA, SIN ESPECIFICACION\",\"marker\":{\"color\":\"#ab63fa\",\"pattern\":{\"shape\":\"\"}},\"name\":\"ENFERMEDAD POR EL VIRUS DEL ZIKA, SIN ESPECIFICACION\",\"offsetgroup\":\"ENFERMEDAD POR EL VIRUS DEL ZIKA, SIN ESPECIFICACION\",\"orientation\":\"v\",\"showlegend\":true,\"textposition\":\"auto\",\"x\":[\"2020-07-01T00:00:00\"],\"xaxis\":\"x2\",\"y\":[1],\"yaxis\":\"y2\",\"type\":\"bar\"},{\"alignmentgroup\":\"True\",\"hovertemplate\":\"DISEASE_NAME=U30.3<br>SECTOR_R=PRIVATE<br>DATE=%{x}<br>PEOPLE_SERVED=%{y}<extra></extra>\",\"legendgroup\":\"U30.3\",\"marker\":{\"color\":\"#FFA15A\",\"pattern\":{\"shape\":\"\"}},\"name\":\"U30.3\",\"offsetgroup\":\"U30.3\",\"orientation\":\"v\",\"showlegend\":true,\"textposition\":\"auto\",\"x\":[\"2021-04-01T00:00:00\",\"2021-05-01T00:00:00\",\"2021-06-01T00:00:00\",\"2021-07-01T00:00:00\",\"2021-08-01T00:00:00\",\"2021-09-01T00:00:00\",\"2021-10-01T00:00:00\",\"2021-11-01T00:00:00\",\"2021-12-01T00:00:00\",\"2022-01-01T00:00:00\",\"2022-02-01T00:00:00\",\"2022-03-01T00:00:00\",\"2022-04-01T00:00:00\"],\"xaxis\":\"x\",\"y\":[1,3,7,3,8,3,3,2,4,5,10,4,11],\"yaxis\":\"y\",\"type\":\"bar\"},{\"alignmentgroup\":\"True\",\"hovertemplate\":\"DISEASE_NAME=U30.3<br>SECTOR_R=PUBLIC<br>DATE=%{x}<br>PEOPLE_SERVED=%{y}<extra></extra>\",\"legendgroup\":\"U30.3\",\"marker\":{\"color\":\"#FFA15A\",\"pattern\":{\"shape\":\"\"}},\"name\":\"U30.3\",\"offsetgroup\":\"U30.3\",\"orientation\":\"v\",\"showlegend\":false,\"textposition\":\"auto\",\"x\":[\"2022-03-01T00:00:00\"],\"xaxis\":\"x2\",\"y\":[1],\"yaxis\":\"y2\",\"type\":\"bar\"},{\"alignmentgroup\":\"True\",\"hovertemplate\":\"DISEASE_NAME=USO EMERGENTE DE U07.0<br>SECTOR_R=PRIVATE<br>DATE=%{x}<br>PEOPLE_SERVED=%{y}<extra></extra>\",\"legendgroup\":\"USO EMERGENTE DE U07.0\",\"marker\":{\"color\":\"#19d3f3\",\"pattern\":{\"shape\":\"\"}},\"name\":\"USO EMERGENTE DE U07.0\",\"offsetgroup\":\"USO EMERGENTE DE U07.0\",\"orientation\":\"v\",\"showlegend\":true,\"textposition\":\"auto\",\"x\":[\"2021-05-01T00:00:00\",\"2021-06-01T00:00:00\",\"2021-10-01T00:00:00\",\"2022-01-01T00:00:00\"],\"xaxis\":\"x\",\"y\":[1,1,1,2],\"yaxis\":\"y\",\"type\":\"bar\"},{\"alignmentgroup\":\"True\",\"hovertemplate\":\"DISEASE_NAME=USO EMERGENTE DE U07.0<br>SECTOR_R=PUBLIC<br>DATE=%{x}<br>PEOPLE_SERVED=%{y}<extra></extra>\",\"legendgroup\":\"USO EMERGENTE DE U07.0\",\"marker\":{\"color\":\"#19d3f3\",\"pattern\":{\"shape\":\"\"}},\"name\":\"USO EMERGENTE DE U07.0\",\"offsetgroup\":\"USO EMERGENTE DE U07.0\",\"orientation\":\"v\",\"showlegend\":false,\"textposition\":\"auto\",\"x\":[\"2022-03-01T00:00:00\"],\"xaxis\":\"x2\",\"y\":[1],\"yaxis\":\"y2\",\"type\":\"bar\"},{\"alignmentgroup\":\"True\",\"hovertemplate\":\"DISEASE_NAME=AGENTE BACTERIANO RESISTENTE A ANTIBIOTICO NO ESPECIFICADO<br>SECTOR_R=PUBLIC<br>DATE=%{x}<br>PEOPLE_SERVED=%{y}<extra></extra>\",\"legendgroup\":\"AGENTE BACTERIANO RESISTENTE A ANTIBIOTICO NO ESPECIFICADO\",\"marker\":{\"color\":\"#FF6692\",\"pattern\":{\"shape\":\"\"}},\"name\":\"AGENTE BACTERIANO RESISTENTE A ANTIBIOTICO NO ESPECIFICADO\",\"offsetgroup\":\"AGENTE BACTERIANO RESISTENTE A ANTIBIOTICO NO ESPECIFICADO\",\"orientation\":\"v\",\"showlegend\":true,\"textposition\":\"auto\",\"x\":[\"2021-05-01T00:00:00\"],\"xaxis\":\"x2\",\"y\":[1],\"yaxis\":\"y2\",\"type\":\"bar\"},{\"alignmentgroup\":\"True\",\"hovertemplate\":\"DISEASE_NAME=AGENTE BACTERIANO RESISTENTE A METICILINA<br>SECTOR_R=PRIVATE<br>DATE=%{x}<br>PEOPLE_SERVED=%{y}<extra></extra>\",\"legendgroup\":\"AGENTE BACTERIANO RESISTENTE A METICILINA\",\"marker\":{\"color\":\"#B6E880\",\"pattern\":{\"shape\":\"\"}},\"name\":\"AGENTE BACTERIANO RESISTENTE A METICILINA\",\"offsetgroup\":\"AGENTE BACTERIANO RESISTENTE A METICILINA\",\"orientation\":\"v\",\"showlegend\":true,\"textposition\":\"auto\",\"x\":[\"2021-09-01T00:00:00\",\"2022-01-01T00:00:00\"],\"xaxis\":\"x\",\"y\":[1,1],\"yaxis\":\"y\",\"type\":\"bar\"},{\"alignmentgroup\":\"True\",\"hovertemplate\":\"DISEASE_NAME=AGENTE BACTERIANO RESISTENTE A OTRO ANTIBIOTICO SIMILAR A LA PENICILINA<br>SECTOR_R=PUBLIC<br>DATE=%{x}<br>PEOPLE_SERVED=%{y}<extra></extra>\",\"legendgroup\":\"AGENTE BACTERIANO RESISTENTE A OTRO ANTIBIOTICO SIMILAR A LA PENICILINA\",\"marker\":{\"color\":\"#FF97FF\",\"pattern\":{\"shape\":\"\"}},\"name\":\"AGENTE BACTERIANO RESISTENTE A OTRO ANTIBIOTICO SIMILAR A LA PENICILINA\",\"offsetgroup\":\"AGENTE BACTERIANO RESISTENTE A OTRO ANTIBIOTICO SIMILAR A LA PENICILINA\",\"orientation\":\"v\",\"showlegend\":true,\"textposition\":\"auto\",\"x\":[\"2021-11-01T00:00:00\"],\"xaxis\":\"x2\",\"y\":[2],\"yaxis\":\"y2\",\"type\":\"bar\"},{\"alignmentgroup\":\"True\",\"hovertemplate\":\"DISEASE_NAME=U09.9<br>SECTOR_R=PRIVATE<br>DATE=%{x}<br>PEOPLE_SERVED=%{y}<extra></extra>\",\"legendgroup\":\"U09.9\",\"marker\":{\"color\":\"#FECB52\",\"pattern\":{\"shape\":\"\"}},\"name\":\"U09.9\",\"offsetgroup\":\"U09.9\",\"orientation\":\"v\",\"showlegend\":true,\"textposition\":\"auto\",\"x\":[\"2022-01-01T00:00:00\",\"2022-02-01T00:00:00\",\"2022-03-01T00:00:00\",\"2022-04-01T00:00:00\"],\"xaxis\":\"x\",\"y\":[6,2,4,1],\"yaxis\":\"y\",\"type\":\"bar\"},{\"alignmentgroup\":\"True\",\"hovertemplate\":\"DISEASE_NAME=USO EMERGENTE DE U07.7<br>SECTOR_R=PRIVATE<br>DATE=%{x}<br>PEOPLE_SERVED=%{y}<extra></extra>\",\"legendgroup\":\"USO EMERGENTE DE U07.7\",\"marker\":{\"color\":\"#636efa\",\"pattern\":{\"shape\":\"\"}},\"name\":\"USO EMERGENTE DE U07.7\",\"offsetgroup\":\"USO EMERGENTE DE U07.7\",\"orientation\":\"v\",\"showlegend\":true,\"textposition\":\"auto\",\"x\":[\"2022-01-01T00:00:00\"],\"xaxis\":\"x\",\"y\":[2],\"yaxis\":\"y\",\"type\":\"bar\"},{\"alignmentgroup\":\"True\",\"hovertemplate\":\"DISEASE_NAME=U20.0<br>SECTOR_R=PRIVATE<br>DATE=%{x}<br>PEOPLE_SERVED=%{y}<extra></extra>\",\"legendgroup\":\"U20.0\",\"marker\":{\"color\":\"#EF553B\",\"pattern\":{\"shape\":\"\"}},\"name\":\"U20.0\",\"offsetgroup\":\"U20.0\",\"orientation\":\"v\",\"showlegend\":true,\"textposition\":\"auto\",\"x\":[\"2022-02-01T00:00:00\",\"2022-04-01T00:00:00\"],\"xaxis\":\"x\",\"y\":[1,1],\"yaxis\":\"y\",\"type\":\"bar\"},{\"alignmentgroup\":\"True\",\"hovertemplate\":\"DISEASE_NAME=U20.0<br>SECTOR_R=PUBLIC<br>DATE=%{x}<br>PEOPLE_SERVED=%{y}<extra></extra>\",\"legendgroup\":\"U20.0\",\"marker\":{\"color\":\"#EF553B\",\"pattern\":{\"shape\":\"\"}},\"name\":\"U20.0\",\"offsetgroup\":\"U20.0\",\"orientation\":\"v\",\"showlegend\":false,\"textposition\":\"auto\",\"x\":[\"2022-01-01T00:00:00\",\"2022-02-01T00:00:00\",\"2022-03-01T00:00:00\",\"2022-04-01T00:00:00\",\"2022-05-01T00:00:00\"],\"xaxis\":\"x2\",\"y\":[52,102,72,87,55],\"yaxis\":\"y2\",\"type\":\"bar\"},{\"alignmentgroup\":\"True\",\"hovertemplate\":\"DISEASE_NAME=U32.5<br>SECTOR_R=PUBLIC<br>DATE=%{x}<br>PEOPLE_SERVED=%{y}<extra></extra>\",\"legendgroup\":\"U32.5\",\"marker\":{\"color\":\"#00cc96\",\"pattern\":{\"shape\":\"\"}},\"name\":\"U32.5\",\"offsetgroup\":\"U32.5\",\"orientation\":\"v\",\"showlegend\":true,\"textposition\":\"auto\",\"x\":[\"2022-01-01T00:00:00\",\"2022-02-01T00:00:00\",\"2022-03-01T00:00:00\",\"2022-04-01T00:00:00\"],\"xaxis\":\"x2\",\"y\":[1,1,2,1],\"yaxis\":\"y2\",\"type\":\"bar\"},{\"alignmentgroup\":\"True\",\"hovertemplate\":\"DISEASE_NAME=AGENTE BACTERIANO RESISTENTE A VANCOMICINA<br>SECTOR_R=PRIVATE<br>DATE=%{x}<br>PEOPLE_SERVED=%{y}<extra></extra>\",\"legendgroup\":\"AGENTE BACTERIANO RESISTENTE A VANCOMICINA\",\"marker\":{\"color\":\"#ab63fa\",\"pattern\":{\"shape\":\"\"}},\"name\":\"AGENTE BACTERIANO RESISTENTE A VANCOMICINA\",\"offsetgroup\":\"AGENTE BACTERIANO RESISTENTE A VANCOMICINA\",\"orientation\":\"v\",\"showlegend\":true,\"textposition\":\"auto\",\"x\":[\"2022-02-01T00:00:00\"],\"xaxis\":\"x\",\"y\":[1],\"yaxis\":\"y\",\"type\":\"bar\"},{\"alignmentgroup\":\"True\",\"hovertemplate\":\"DISEASE_NAME=U10.9<br>SECTOR_R=PRIVATE<br>DATE=%{x}<br>PEOPLE_SERVED=%{y}<extra></extra>\",\"legendgroup\":\"U10.9\",\"marker\":{\"color\":\"#FFA15A\",\"pattern\":{\"shape\":\"\"}},\"name\":\"U10.9\",\"offsetgroup\":\"U10.9\",\"orientation\":\"v\",\"showlegend\":true,\"textposition\":\"auto\",\"x\":[\"2022-02-01T00:00:00\"],\"xaxis\":\"x\",\"y\":[1],\"yaxis\":\"y\",\"type\":\"bar\"},{\"alignmentgroup\":\"True\",\"hovertemplate\":\"DISEASE_NAME=U11.9<br>SECTOR_R=PRIVATE<br>DATE=%{x}<br>PEOPLE_SERVED=%{y}<extra></extra>\",\"legendgroup\":\"U11.9\",\"marker\":{\"color\":\"#19d3f3\",\"pattern\":{\"shape\":\"\"}},\"name\":\"U11.9\",\"offsetgroup\":\"U11.9\",\"orientation\":\"v\",\"showlegend\":true,\"textposition\":\"auto\",\"x\":[\"2022-03-01T00:00:00\"],\"xaxis\":\"x\",\"y\":[1],\"yaxis\":\"y\",\"type\":\"bar\"},{\"alignmentgroup\":\"True\",\"hovertemplate\":\"DISEASE_NAME=U12.9<br>SECTOR_R=PRIVATE<br>DATE=%{x}<br>PEOPLE_SERVED=%{y}<extra></extra>\",\"legendgroup\":\"U12.9\",\"marker\":{\"color\":\"#FF6692\",\"pattern\":{\"shape\":\"\"}},\"name\":\"U12.9\",\"offsetgroup\":\"U12.9\",\"orientation\":\"v\",\"showlegend\":true,\"textposition\":\"auto\",\"x\":[\"2022-03-01T00:00:00\",\"2022-04-01T00:00:00\"],\"xaxis\":\"x\",\"y\":[3,51],\"yaxis\":\"y\",\"type\":\"bar\"}],                        {\"template\":{\"data\":{\"bar\":[{\"error_x\":{\"color\":\"#2a3f5f\"},\"error_y\":{\"color\":\"#2a3f5f\"},\"marker\":{\"line\":{\"color\":\"#E5ECF6\",\"width\":0.5},\"pattern\":{\"fillmode\":\"overlay\",\"size\":10,\"solidity\":0.2}},\"type\":\"bar\"}],\"barpolar\":[{\"marker\":{\"line\":{\"color\":\"#E5ECF6\",\"width\":0.5},\"pattern\":{\"fillmode\":\"overlay\",\"size\":10,\"solidity\":0.2}},\"type\":\"barpolar\"}],\"carpet\":[{\"aaxis\":{\"endlinecolor\":\"#2a3f5f\",\"gridcolor\":\"white\",\"linecolor\":\"white\",\"minorgridcolor\":\"white\",\"startlinecolor\":\"#2a3f5f\"},\"baxis\":{\"endlinecolor\":\"#2a3f5f\",\"gridcolor\":\"white\",\"linecolor\":\"white\",\"minorgridcolor\":\"white\",\"startlinecolor\":\"#2a3f5f\"},\"type\":\"carpet\"}],\"choropleth\":[{\"colorbar\":{\"outlinewidth\":0,\"ticks\":\"\"},\"type\":\"choropleth\"}],\"contour\":[{\"colorbar\":{\"outlinewidth\":0,\"ticks\":\"\"},\"colorscale\":[[0.0,\"#0d0887\"],[0.1111111111111111,\"#46039f\"],[0.2222222222222222,\"#7201a8\"],[0.3333333333333333,\"#9c179e\"],[0.4444444444444444,\"#bd3786\"],[0.5555555555555556,\"#d8576b\"],[0.6666666666666666,\"#ed7953\"],[0.7777777777777778,\"#fb9f3a\"],[0.8888888888888888,\"#fdca26\"],[1.0,\"#f0f921\"]],\"type\":\"contour\"}],\"contourcarpet\":[{\"colorbar\":{\"outlinewidth\":0,\"ticks\":\"\"},\"type\":\"contourcarpet\"}],\"heatmap\":[{\"colorbar\":{\"outlinewidth\":0,\"ticks\":\"\"},\"colorscale\":[[0.0,\"#0d0887\"],[0.1111111111111111,\"#46039f\"],[0.2222222222222222,\"#7201a8\"],[0.3333333333333333,\"#9c179e\"],[0.4444444444444444,\"#bd3786\"],[0.5555555555555556,\"#d8576b\"],[0.6666666666666666,\"#ed7953\"],[0.7777777777777778,\"#fb9f3a\"],[0.8888888888888888,\"#fdca26\"],[1.0,\"#f0f921\"]],\"type\":\"heatmap\"}],\"heatmapgl\":[{\"colorbar\":{\"outlinewidth\":0,\"ticks\":\"\"},\"colorscale\":[[0.0,\"#0d0887\"],[0.1111111111111111,\"#46039f\"],[0.2222222222222222,\"#7201a8\"],[0.3333333333333333,\"#9c179e\"],[0.4444444444444444,\"#bd3786\"],[0.5555555555555556,\"#d8576b\"],[0.6666666666666666,\"#ed7953\"],[0.7777777777777778,\"#fb9f3a\"],[0.8888888888888888,\"#fdca26\"],[1.0,\"#f0f921\"]],\"type\":\"heatmapgl\"}],\"histogram\":[{\"marker\":{\"pattern\":{\"fillmode\":\"overlay\",\"size\":10,\"solidity\":0.2}},\"type\":\"histogram\"}],\"histogram2d\":[{\"colorbar\":{\"outlinewidth\":0,\"ticks\":\"\"},\"colorscale\":[[0.0,\"#0d0887\"],[0.1111111111111111,\"#46039f\"],[0.2222222222222222,\"#7201a8\"],[0.3333333333333333,\"#9c179e\"],[0.4444444444444444,\"#bd3786\"],[0.5555555555555556,\"#d8576b\"],[0.6666666666666666,\"#ed7953\"],[0.7777777777777778,\"#fb9f3a\"],[0.8888888888888888,\"#fdca26\"],[1.0,\"#f0f921\"]],\"type\":\"histogram2d\"}],\"histogram2dcontour\":[{\"colorbar\":{\"outlinewidth\":0,\"ticks\":\"\"},\"colorscale\":[[0.0,\"#0d0887\"],[0.1111111111111111,\"#46039f\"],[0.2222222222222222,\"#7201a8\"],[0.3333333333333333,\"#9c179e\"],[0.4444444444444444,\"#bd3786\"],[0.5555555555555556,\"#d8576b\"],[0.6666666666666666,\"#ed7953\"],[0.7777777777777778,\"#fb9f3a\"],[0.8888888888888888,\"#fdca26\"],[1.0,\"#f0f921\"]],\"type\":\"histogram2dcontour\"}],\"mesh3d\":[{\"colorbar\":{\"outlinewidth\":0,\"ticks\":\"\"},\"type\":\"mesh3d\"}],\"parcoords\":[{\"line\":{\"colorbar\":{\"outlinewidth\":0,\"ticks\":\"\"}},\"type\":\"parcoords\"}],\"pie\":[{\"automargin\":true,\"type\":\"pie\"}],\"scatter\":[{\"marker\":{\"colorbar\":{\"outlinewidth\":0,\"ticks\":\"\"}},\"type\":\"scatter\"}],\"scatter3d\":[{\"line\":{\"colorbar\":{\"outlinewidth\":0,\"ticks\":\"\"}},\"marker\":{\"colorbar\":{\"outlinewidth\":0,\"ticks\":\"\"}},\"type\":\"scatter3d\"}],\"scattercarpet\":[{\"marker\":{\"colorbar\":{\"outlinewidth\":0,\"ticks\":\"\"}},\"type\":\"scattercarpet\"}],\"scattergeo\":[{\"marker\":{\"colorbar\":{\"outlinewidth\":0,\"ticks\":\"\"}},\"type\":\"scattergeo\"}],\"scattergl\":[{\"marker\":{\"colorbar\":{\"outlinewidth\":0,\"ticks\":\"\"}},\"type\":\"scattergl\"}],\"scattermapbox\":[{\"marker\":{\"colorbar\":{\"outlinewidth\":0,\"ticks\":\"\"}},\"type\":\"scattermapbox\"}],\"scatterpolar\":[{\"marker\":{\"colorbar\":{\"outlinewidth\":0,\"ticks\":\"\"}},\"type\":\"scatterpolar\"}],\"scatterpolargl\":[{\"marker\":{\"colorbar\":{\"outlinewidth\":0,\"ticks\":\"\"}},\"type\":\"scatterpolargl\"}],\"scatterternary\":[{\"marker\":{\"colorbar\":{\"outlinewidth\":0,\"ticks\":\"\"}},\"type\":\"scatterternary\"}],\"surface\":[{\"colorbar\":{\"outlinewidth\":0,\"ticks\":\"\"},\"colorscale\":[[0.0,\"#0d0887\"],[0.1111111111111111,\"#46039f\"],[0.2222222222222222,\"#7201a8\"],[0.3333333333333333,\"#9c179e\"],[0.4444444444444444,\"#bd3786\"],[0.5555555555555556,\"#d8576b\"],[0.6666666666666666,\"#ed7953\"],[0.7777777777777778,\"#fb9f3a\"],[0.8888888888888888,\"#fdca26\"],[1.0,\"#f0f921\"]],\"type\":\"surface\"}],\"table\":[{\"cells\":{\"fill\":{\"color\":\"#EBF0F8\"},\"line\":{\"color\":\"white\"}},\"header\":{\"fill\":{\"color\":\"#C8D4E3\"},\"line\":{\"color\":\"white\"}},\"type\":\"table\"}]},\"layout\":{\"annotationdefaults\":{\"arrowcolor\":\"#2a3f5f\",\"arrowhead\":0,\"arrowwidth\":1},\"autotypenumbers\":\"strict\",\"coloraxis\":{\"colorbar\":{\"outlinewidth\":0,\"ticks\":\"\"}},\"colorscale\":{\"diverging\":[[0,\"#8e0152\"],[0.1,\"#c51b7d\"],[0.2,\"#de77ae\"],[0.3,\"#f1b6da\"],[0.4,\"#fde0ef\"],[0.5,\"#f7f7f7\"],[0.6,\"#e6f5d0\"],[0.7,\"#b8e186\"],[0.8,\"#7fbc41\"],[0.9,\"#4d9221\"],[1,\"#276419\"]],\"sequential\":[[0.0,\"#0d0887\"],[0.1111111111111111,\"#46039f\"],[0.2222222222222222,\"#7201a8\"],[0.3333333333333333,\"#9c179e\"],[0.4444444444444444,\"#bd3786\"],[0.5555555555555556,\"#d8576b\"],[0.6666666666666666,\"#ed7953\"],[0.7777777777777778,\"#fb9f3a\"],[0.8888888888888888,\"#fdca26\"],[1.0,\"#f0f921\"]],\"sequentialminus\":[[0.0,\"#0d0887\"],[0.1111111111111111,\"#46039f\"],[0.2222222222222222,\"#7201a8\"],[0.3333333333333333,\"#9c179e\"],[0.4444444444444444,\"#bd3786\"],[0.5555555555555556,\"#d8576b\"],[0.6666666666666666,\"#ed7953\"],[0.7777777777777778,\"#fb9f3a\"],[0.8888888888888888,\"#fdca26\"],[1.0,\"#f0f921\"]]},\"colorway\":[\"#636efa\",\"#EF553B\",\"#00cc96\",\"#ab63fa\",\"#FFA15A\",\"#19d3f3\",\"#FF6692\",\"#B6E880\",\"#FF97FF\",\"#FECB52\"],\"font\":{\"color\":\"#2a3f5f\"},\"geo\":{\"bgcolor\":\"white\",\"lakecolor\":\"white\",\"landcolor\":\"#E5ECF6\",\"showlakes\":true,\"showland\":true,\"subunitcolor\":\"white\"},\"hoverlabel\":{\"align\":\"left\"},\"hovermode\":\"closest\",\"mapbox\":{\"style\":\"light\"},\"paper_bgcolor\":\"white\",\"plot_bgcolor\":\"#E5ECF6\",\"polar\":{\"angularaxis\":{\"gridcolor\":\"white\",\"linecolor\":\"white\",\"ticks\":\"\"},\"bgcolor\":\"#E5ECF6\",\"radialaxis\":{\"gridcolor\":\"white\",\"linecolor\":\"white\",\"ticks\":\"\"}},\"scene\":{\"xaxis\":{\"backgroundcolor\":\"#E5ECF6\",\"gridcolor\":\"white\",\"gridwidth\":2,\"linecolor\":\"white\",\"showbackground\":true,\"ticks\":\"\",\"zerolinecolor\":\"white\"},\"yaxis\":{\"backgroundcolor\":\"#E5ECF6\",\"gridcolor\":\"white\",\"gridwidth\":2,\"linecolor\":\"white\",\"showbackground\":true,\"ticks\":\"\",\"zerolinecolor\":\"white\"},\"zaxis\":{\"backgroundcolor\":\"#E5ECF6\",\"gridcolor\":\"white\",\"gridwidth\":2,\"linecolor\":\"white\",\"showbackground\":true,\"ticks\":\"\",\"zerolinecolor\":\"white\"}},\"shapedefaults\":{\"line\":{\"color\":\"#2a3f5f\"}},\"ternary\":{\"aaxis\":{\"gridcolor\":\"white\",\"linecolor\":\"white\",\"ticks\":\"\"},\"baxis\":{\"gridcolor\":\"white\",\"linecolor\":\"white\",\"ticks\":\"\"},\"bgcolor\":\"#E5ECF6\",\"caxis\":{\"gridcolor\":\"white\",\"linecolor\":\"white\",\"ticks\":\"\"}},\"title\":{\"x\":0.05},\"xaxis\":{\"automargin\":true,\"gridcolor\":\"white\",\"linecolor\":\"white\",\"ticks\":\"\",\"title\":{\"standoff\":15},\"zerolinecolor\":\"white\",\"zerolinewidth\":2},\"yaxis\":{\"automargin\":true,\"gridcolor\":\"white\",\"linecolor\":\"white\",\"ticks\":\"\",\"title\":{\"standoff\":15},\"zerolinecolor\":\"white\",\"zerolinewidth\":2}}},\"xaxis\":{\"anchor\":\"y\",\"domain\":[0.0,0.49],\"title\":{\"text\":\"DATE\"}},\"yaxis\":{\"anchor\":\"x\",\"domain\":[0.0,1.0],\"title\":{\"text\":\"PEOPLE_SERVED\"}},\"xaxis2\":{\"anchor\":\"y2\",\"domain\":[0.51,1.0],\"matches\":\"x\",\"title\":{\"text\":\"DATE\"}},\"yaxis2\":{\"anchor\":\"x2\",\"domain\":[0.0,1.0],\"matches\":\"y\",\"showticklabels\":false},\"annotations\":[{\"font\":{},\"showarrow\":false,\"text\":\"SECTOR_R=PRIVATE\",\"x\":0.245,\"xanchor\":\"center\",\"xref\":\"paper\",\"y\":1.0,\"yanchor\":\"bottom\",\"yref\":\"paper\"},{\"font\":{},\"showarrow\":false,\"text\":\"SECTOR_R=PUBLIC\",\"x\":0.755,\"xanchor\":\"center\",\"xref\":\"paper\",\"y\":1.0,\"yanchor\":\"bottom\",\"yref\":\"paper\"}],\"legend\":{\"title\":{\"text\":\"DISEASE_NAME\"},\"tracegroupgap\":0},\"title\":{\"text\":\"Special Codes to Category II\"},\"barmode\":\"stack\",\"height\":500,\"width\":1200},                        {\"responsive\": true}                    ).then(function(){\n",
       "                            \n",
       "var gd = document.getElementById('3cbd0471-b9fa-47e9-8058-ae13a883eced');\n",
       "var x = new MutationObserver(function (mutations, observer) {{\n",
       "        var display = window.getComputedStyle(gd).display;\n",
       "        if (!display || display === 'none') {{\n",
       "            console.log([gd, 'removed!']);\n",
       "            Plotly.purge(gd);\n",
       "            observer.disconnect();\n",
       "        }}\n",
       "}});\n",
       "\n",
       "// Listen for the removal of the full notebook cells\n",
       "var notebookContainer = gd.closest('#notebook-container');\n",
       "if (notebookContainer) {{\n",
       "    x.observe(notebookContainer, {childList: true});\n",
       "}}\n",
       "\n",
       "// Listen for the clearing of the current output cell\n",
       "var outputEl = gd.closest('.output');\n",
       "if (outputEl) {{\n",
       "    x.observe(outputEl, {childList: true});\n",
       "}}\n",
       "\n",
       "                        })                };                });            </script>        </div>"
      ]
     },
     "metadata": {},
     "output_type": "display_data"
    }
   ],
   "source": [
    "data_temp = all_data[all_data['CATEGORY2']==TAG_CATEGORY]\n",
    "data_temp = data_temp[data_temp['DISEASE_GROUP']=='Codes for special situations']\n",
    "data_temp['DISEASE_NAME'] = data_temp['DIAGNOSIS_ID'].apply(lambda x : diagnosis_grouped(x, CO_IPRESS_df))\n",
    "\n",
    "data_temp =  data_temp.groupby(['DATE', 'SECTOR_R','DISEASE_NAME']).agg(PEOPLE_SERVED=('QTY_PEOPLE_SERVED', 'sum'))\n",
    "data_temp = data_temp.reset_index()\n",
    "\n",
    "fig = px.bar(data_temp, \n",
    "             x=\"DATE\", \n",
    "             y=\"PEOPLE_SERVED\", \n",
    "             color=\"DISEASE_NAME\", \n",
    "             barmode=\"stack\", \n",
    "             facet_col=\"SECTOR_R\",\n",
    "             width=1200, height=500,\n",
    "             color_discrete_map = dict_colors,\n",
    "             title='Special Codes to Category ' + TAG_CATEGORY,             \n",
    "            )\n",
    "\n",
    "\n",
    "fig.show()\n",
    "#fig.write_html(\"figures/special_codes/SpecialCodes_Sector_\"+CATEGORIA_STUDIO+\".html\")\n",
    "#fig.write_image(\"figures/special_codes/SpecialCodes_Sector_\"+CATEGORIA_STUDIO+\".png\", format  = 'png')\n"
   ]
  },
  {
   "cell_type": "code",
   "execution_count": 123,
   "id": "09a5f861",
   "metadata": {},
   "outputs": [
    {
     "data": {
      "text/html": [
       "<div>\n",
       "<style scoped>\n",
       "    .dataframe tbody tr th:only-of-type {\n",
       "        vertical-align: middle;\n",
       "    }\n",
       "\n",
       "    .dataframe tbody tr th {\n",
       "        vertical-align: top;\n",
       "    }\n",
       "\n",
       "    .dataframe thead th {\n",
       "        text-align: right;\n",
       "    }\n",
       "</style>\n",
       "<table border=\"1\" class=\"dataframe\">\n",
       "  <thead>\n",
       "    <tr style=\"text-align: right;\">\n",
       "      <th></th>\n",
       "      <th>DATE</th>\n",
       "      <th>CATEGORY2</th>\n",
       "      <th>SECTOR_R</th>\n",
       "      <th>SEX</th>\n",
       "      <th>HOSPITALS</th>\n",
       "    </tr>\n",
       "  </thead>\n",
       "  <tbody>\n",
       "    <tr>\n",
       "      <th>0</th>\n",
       "      <td>2020-04-01</td>\n",
       "      <td>II</td>\n",
       "      <td>PRIVATE</td>\n",
       "      <td>F</td>\n",
       "      <td>[00008281, 00008325, 00009989, 00010603, 00012...</td>\n",
       "    </tr>\n",
       "    <tr>\n",
       "      <th>1</th>\n",
       "      <td>2020-04-01</td>\n",
       "      <td>II</td>\n",
       "      <td>PRIVATE</td>\n",
       "      <td>M</td>\n",
       "      <td>[00008281, 00008325, 00009988, 00014501, 00018...</td>\n",
       "    </tr>\n",
       "    <tr>\n",
       "      <th>2</th>\n",
       "      <td>2020-04-01</td>\n",
       "      <td>II</td>\n",
       "      <td>PUBLIC</td>\n",
       "      <td>F</td>\n",
       "      <td>[00007632, 00008317, 00008353, 00008502, 00008...</td>\n",
       "    </tr>\n",
       "    <tr>\n",
       "      <th>3</th>\n",
       "      <td>2020-04-01</td>\n",
       "      <td>II</td>\n",
       "      <td>PUBLIC</td>\n",
       "      <td>M</td>\n",
       "      <td>[00007632, 00008317, 00008353, 00008489, 00008...</td>\n",
       "    </tr>\n",
       "    <tr>\n",
       "      <th>4</th>\n",
       "      <td>2020-05-01</td>\n",
       "      <td>II</td>\n",
       "      <td>PRIVATE</td>\n",
       "      <td>F</td>\n",
       "      <td>[00008271, 00008281, 00008398, 00008746, 00009...</td>\n",
       "    </tr>\n",
       "  </tbody>\n",
       "</table>\n",
       "</div>"
      ],
      "text/plain": [
       "        DATE CATEGORY2 SECTOR_R SEX  \\\n",
       "0 2020-04-01        II  PRIVATE   F   \n",
       "1 2020-04-01        II  PRIVATE   M   \n",
       "2 2020-04-01        II   PUBLIC   F   \n",
       "3 2020-04-01        II   PUBLIC   M   \n",
       "4 2020-05-01        II  PRIVATE   F   \n",
       "\n",
       "                                           HOSPITALS  \n",
       "0  [00008281, 00008325, 00009989, 00010603, 00012...  \n",
       "1  [00008281, 00008325, 00009988, 00014501, 00018...  \n",
       "2  [00007632, 00008317, 00008353, 00008502, 00008...  \n",
       "3  [00007632, 00008317, 00008353, 00008489, 00008...  \n",
       "4  [00008271, 00008281, 00008398, 00008746, 00009...  "
      ]
     },
     "execution_count": 123,
     "metadata": {},
     "output_type": "execute_result"
    }
   ],
   "source": [
    "start_date = '2020-04-01'\n",
    "end_date = '2020-07-01'\n",
    "\n",
    "data_temp = all_data[(all_data['CATEGORY2']==TAG_CATEGORY)].reset_index(drop=True)\n",
    "data_temp = data_temp[(data_temp['DATE'] >= start_date) & (data_temp['DATE'] < end_date)].reset_index(drop=True)\n",
    "data_temp = data_temp[data_temp['DISEASE_GROUP']=='Codes for special situations']\n",
    "\n",
    "\n",
    "#\n",
    "hospitals_list_covid = data_temp.groupby(['DATE', 'CATEGORY2', 'SECTOR_R', 'SEX',\n",
    "                                       'CO_IPRESS']).agg(ABC=('DISEASE_GROUP', 'count'))\n",
    "hospitals_list_covid = hospitals_list_covid.reset_index()\n",
    "hospitals_list_covid = hospitals_list_covid.groupby(['DATE', 'CATEGORY2', 'SECTOR_R', \n",
    "                                               'SEX'])['CO_IPRESS'].apply(list).reset_index(name='HOSPITALS')\n",
    "hospitals_list_covid = hospitals_list_covid.sort_values(by=['DATE', 'SECTOR_R', 'SEX'], ascending=True)\n",
    "hospitals_list_covid = hospitals_list_covid.reset_index(drop=True)\n",
    "\n",
    "del data_temp\n",
    "hospitals_list_covid.head()"
   ]
  },
  {
   "cell_type": "code",
   "execution_count": 124,
   "id": "a99006da",
   "metadata": {
    "scrolled": false
   },
   "outputs": [
    {
     "name": "stdout",
     "output_type": "stream",
     "text": [
      "Number of hospital that has covid info in 3 months response: 62\n"
     ]
    }
   ],
   "source": [
    "list_covid_hospital = sum(hospitals_list_covid['HOSPITALS'].values, [])\n",
    "list_covid_hospital = list(set(list_covid_hospital))\n",
    "print('Number of hospital that has covid info in 3 months response:',len(list_covid_hospital))"
   ]
  },
  {
   "cell_type": "code",
   "execution_count": 125,
   "id": "94f1f727",
   "metadata": {},
   "outputs": [],
   "source": [
    "all_data_covid = all_data[(all_data['CATEGORY2']==TAG_CATEGORY)].reset_index(drop=True)\n",
    "all_data_covid = all_data_covid[all_data_covid['CO_IPRESS'].isin(list_covid_hospital)].reset_index(drop=True)\n",
    "\n",
    "# Number of People per Category, Sex and Hospytal\n",
    "people_df_hc = all_data_covid.groupby(['DATE', 'CATEGORY2', 'SECTOR_R', 'CO_IPRESS', 'SEX',\n",
    "                              'DIAGNOSIS_ID']).agg(QTY_RECORDS=('QTY_PEOPLE_SERVED', 'count'),\n",
    "                                                   QTY_PEOPLE_SERVED=('QTY_PEOPLE_SERVED', 'sum'))\n",
    "people_df_hc = people_df_hc.reset_index()\n",
    "\n",
    "people_df_hc = people_df_hc.groupby(['DATE', 'CATEGORY2', 'SECTOR_R', 'CO_IPRESS',\n",
    "                                     'SEX']).agg(PEOPLE_SERVED=('QTY_PEOPLE_SERVED', 'sum'),\n",
    "                                                 UNIQUE_DIAGNOSIS=('QTY_PEOPLE_SERVED', 'count'),\n",
    "                                                 TOTAL_DIAGNOSIS=('QTY_RECORDS', 'sum'))\n",
    "people_df_hc = people_df_hc.reset_index()\n",
    "people_df_hc = people_df_hc.sort_values(by=['DATE', 'CATEGORY2', 'SECTOR_R','CO_IPRESS', 'SEX'], ascending=False)\n",
    "people_df_hc = people_df_hc.reset_index(drop=True)\n",
    "\n",
    "# hospitals_df_covid\n",
    "hospitals_df_hc = all_data_covid.groupby(['DATE', 'CATEGORY2', 'SECTOR_R',\n",
    "                                 'CO_IPRESS']).agg(QTY_PEOPLE_SERVED=('QTY_PEOPLE_SERVED', 'sum'))\n",
    "hospitals_df_hc = hospitals_df_hc.reset_index()\n",
    "hospitals_df_hc = hospitals_df_hc.groupby(['DATE', 'CATEGORY2',\n",
    "                                           'SECTOR_R']).agg(QTY_HOSPITALS=('CO_IPRESS', 'count'),\n",
    "                                                            QTY_PEOPLE_SERVED=('QTY_PEOPLE_SERVED', 'sum'))\n",
    "hospitals_df_hc = hospitals_df_hc.reset_index()\n",
    "\n",
    "# List of hospitals\n",
    "hospitals_list_df_hc =  all_data_covid.groupby(['DATE', 'CATEGORY2', 'SECTOR_R', 'SEX',\n",
    "                                                'CO_IPRESS']).agg(ABC=('DISEASE_GROUP', 'count'))\n",
    "hospitals_list_df_hc = hospitals_list_df_hc.reset_index()\n",
    "hospitals_list_df_hc = hospitals_list_df_hc.groupby(['DATE', 'CATEGORY2', 'SECTOR_R',\n",
    "                                                     'SEX'])['CO_IPRESS'].apply(list).reset_index(name='HOSPITALS')\n",
    "hospitals_list_df_hc = hospitals_list_df_hc.sort_values(by=['DATE', 'SECTOR_R', 'SEX'], ascending=True)\n",
    "hospitals_list_df_hc = hospitals_list_df_hc.reset_index(drop=True)"
   ]
  },
  {
   "cell_type": "code",
   "execution_count": 126,
   "id": "816d5c52",
   "metadata": {
    "scrolled": false
   },
   "outputs": [
    {
     "data": {
      "image/svg+xml": [
       "<svg class=\"main-svg\" xmlns=\"http://www.w3.org/2000/svg\" xmlns:xlink=\"http://www.w3.org/1999/xlink\" width=\"700\" height=\"500\" style=\"\" viewBox=\"0 0 700 500\"><rect x=\"0\" y=\"0\" width=\"700\" height=\"500\" style=\"fill: rgb(255, 255, 255); fill-opacity: 1;\"/><defs id=\"defs-2141c2\"><g class=\"clips\"><clipPath id=\"clip2141c2xyplot\" class=\"plotclip\"><rect width=\"501\" height=\"296\"/></clipPath><clipPath class=\"axesclip\" id=\"clip2141c2x\"><rect x=\"80\" y=\"0\" width=\"501\" height=\"500\"/></clipPath><clipPath class=\"axesclip\" id=\"clip2141c2y\"><rect x=\"0\" y=\"100\" width=\"700\" height=\"296\"/></clipPath><clipPath class=\"axesclip\" id=\"clip2141c2xy\"><rect x=\"80\" y=\"100\" width=\"501\" height=\"296\"/></clipPath></g><g class=\"gradients\"/><g class=\"patterns\"/></defs><g class=\"bglayer\"><rect class=\"bg\" x=\"80\" y=\"100\" width=\"501\" height=\"296\" style=\"fill: rgb(229, 236, 246); fill-opacity: 1; stroke-width: 0;\"/></g><g class=\"layer-below\"><g class=\"imagelayer\"/><g class=\"shapelayer\"/></g><g class=\"cartesianlayer\"><g class=\"subplot xy\"><g class=\"layer-subplot\"><g class=\"shapelayer\"/><g class=\"imagelayer\"/></g><g class=\"gridlayer\"><g class=\"x\"><path class=\"xgrid crisp\" transform=\"translate(89.82,0)\" d=\"M0,100v296\" style=\"stroke: rgb(255, 255, 255); stroke-opacity: 1; stroke-width: 1px;\"/><path class=\"xgrid crisp\" transform=\"translate(98.7,0)\" d=\"M0,100v296\" style=\"stroke: rgb(255, 255, 255); stroke-opacity: 1; stroke-width: 1px;\"/><path class=\"xgrid crisp\" transform=\"translate(108.52,0)\" d=\"M0,100v296\" style=\"stroke: rgb(255, 255, 255); stroke-opacity: 1; stroke-width: 1px;\"/><path class=\"xgrid crisp\" transform=\"translate(118.03,0)\" d=\"M0,100v296\" style=\"stroke: rgb(255, 255, 255); stroke-opacity: 1; stroke-width: 1px;\"/><path class=\"xgrid crisp\" transform=\"translate(127.85,0)\" d=\"M0,100v296\" style=\"stroke: rgb(255, 255, 255); stroke-opacity: 1; stroke-width: 1px;\"/><path class=\"xgrid crisp\" transform=\"translate(137.36,0)\" d=\"M0,100v296\" style=\"stroke: rgb(255, 255, 255); stroke-opacity: 1; stroke-width: 1px;\"/><path class=\"xgrid crisp\" transform=\"translate(147.18,0)\" d=\"M0,100v296\" style=\"stroke: rgb(255, 255, 255); stroke-opacity: 1; stroke-width: 1px;\"/><path class=\"xgrid crisp\" transform=\"translate(157,0)\" d=\"M0,100v296\" style=\"stroke: rgb(255, 255, 255); stroke-opacity: 1; stroke-width: 1px;\"/><path class=\"xgrid crisp\" transform=\"translate(166.51,0)\" d=\"M0,100v296\" style=\"stroke: rgb(255, 255, 255); stroke-opacity: 1; stroke-width: 1px;\"/><path class=\"xgrid crisp\" transform=\"translate(176.32999999999998,0)\" d=\"M0,100v296\" style=\"stroke: rgb(255, 255, 255); stroke-opacity: 1; stroke-width: 1px;\"/><path class=\"xgrid crisp\" transform=\"translate(185.84,0)\" d=\"M0,100v296\" style=\"stroke: rgb(255, 255, 255); stroke-opacity: 1; stroke-width: 1px;\"/><path class=\"xgrid crisp\" transform=\"translate(195.66,0)\" d=\"M0,100v296\" style=\"stroke: rgb(255, 255, 255); stroke-opacity: 1; stroke-width: 1px;\"/><path class=\"xgrid crisp\" transform=\"translate(205.49,0)\" d=\"M0,100v296\" style=\"stroke: rgb(255, 255, 255); stroke-opacity: 1; stroke-width: 1px;\"/><path class=\"xgrid crisp\" transform=\"translate(214.36,0)\" d=\"M0,100v296\" style=\"stroke: rgb(255, 255, 255); stroke-opacity: 1; stroke-width: 1px;\"/><path class=\"xgrid crisp\" transform=\"translate(224.18,0)\" d=\"M0,100v296\" style=\"stroke: rgb(255, 255, 255); stroke-opacity: 1; stroke-width: 1px;\"/><path class=\"xgrid crisp\" transform=\"translate(233.69,0)\" d=\"M0,100v296\" style=\"stroke: rgb(255, 255, 255); stroke-opacity: 1; stroke-width: 1px;\"/><path class=\"xgrid crisp\" transform=\"translate(243.51,0)\" d=\"M0,100v296\" style=\"stroke: rgb(255, 255, 255); stroke-opacity: 1; stroke-width: 1px;\"/><path class=\"xgrid crisp\" transform=\"translate(253.02,0)\" d=\"M0,100v296\" style=\"stroke: rgb(255, 255, 255); stroke-opacity: 1; stroke-width: 1px;\"/><path class=\"xgrid crisp\" transform=\"translate(262.84000000000003,0)\" d=\"M0,100v296\" style=\"stroke: rgb(255, 255, 255); stroke-opacity: 1; stroke-width: 1px;\"/><path class=\"xgrid crisp\" transform=\"translate(272.66999999999996,0)\" d=\"M0,100v296\" style=\"stroke: rgb(255, 255, 255); stroke-opacity: 1; stroke-width: 1px;\"/><path class=\"xgrid crisp\" transform=\"translate(282.16999999999996,0)\" d=\"M0,100v296\" style=\"stroke: rgb(255, 255, 255); stroke-opacity: 1; stroke-width: 1px;\"/><path class=\"xgrid crisp\" transform=\"translate(292,0)\" d=\"M0,100v296\" style=\"stroke: rgb(255, 255, 255); stroke-opacity: 1; stroke-width: 1px;\"/><path class=\"xgrid crisp\" transform=\"translate(301.5,0)\" d=\"M0,100v296\" style=\"stroke: rgb(255, 255, 255); stroke-opacity: 1; stroke-width: 1px;\"/><path class=\"xgrid crisp\" transform=\"translate(311.33000000000004,0)\" d=\"M0,100v296\" style=\"stroke: rgb(255, 255, 255); stroke-opacity: 1; stroke-width: 1px;\"/><path class=\"xgrid crisp\" transform=\"translate(321.15,0)\" d=\"M0,100v296\" style=\"stroke: rgb(255, 255, 255); stroke-opacity: 1; stroke-width: 1px;\"/><path class=\"xgrid crisp\" transform=\"translate(330.34000000000003,0)\" d=\"M0,100v296\" style=\"stroke: rgb(255, 255, 255); stroke-opacity: 1; stroke-width: 1px;\"/><path class=\"xgrid crisp\" transform=\"translate(340.17,0)\" d=\"M0,100v296\" style=\"stroke: rgb(255, 255, 255); stroke-opacity: 1; stroke-width: 1px;\"/><path class=\"xgrid crisp\" transform=\"translate(349.67,0)\" d=\"M0,100v296\" style=\"stroke: rgb(255, 255, 255); stroke-opacity: 1; stroke-width: 1px;\"/><path class=\"xgrid crisp\" transform=\"translate(359.5,0)\" d=\"M0,100v296\" style=\"stroke: rgb(255, 255, 255); stroke-opacity: 1; stroke-width: 1px;\"/><path class=\"xgrid crisp\" transform=\"translate(369,0)\" d=\"M0,100v296\" style=\"stroke: rgb(255, 255, 255); stroke-opacity: 1; stroke-width: 1px;\"/><path class=\"xgrid crisp\" transform=\"translate(378.83,0)\" d=\"M0,100v296\" style=\"stroke: rgb(255, 255, 255); stroke-opacity: 1; stroke-width: 1px;\"/><path class=\"xgrid crisp\" transform=\"translate(388.65,0)\" d=\"M0,100v296\" style=\"stroke: rgb(255, 255, 255); stroke-opacity: 1; stroke-width: 1px;\"/><path class=\"xgrid crisp\" transform=\"translate(398.16,0)\" d=\"M0,100v296\" style=\"stroke: rgb(255, 255, 255); stroke-opacity: 1; stroke-width: 1px;\"/><path class=\"xgrid crisp\" transform=\"translate(407.98,0)\" d=\"M0,100v296\" style=\"stroke: rgb(255, 255, 255); stroke-opacity: 1; stroke-width: 1px;\"/><path class=\"xgrid crisp\" transform=\"translate(417.49,0)\" d=\"M0,100v296\" style=\"stroke: rgb(255, 255, 255); stroke-opacity: 1; stroke-width: 1px;\"/><path class=\"xgrid crisp\" transform=\"translate(427.31,0)\" d=\"M0,100v296\" style=\"stroke: rgb(255, 255, 255); stroke-opacity: 1; stroke-width: 1px;\"/><path class=\"xgrid crisp\" transform=\"translate(437.13,0)\" d=\"M0,100v296\" style=\"stroke: rgb(255, 255, 255); stroke-opacity: 1; stroke-width: 1px;\"/><path class=\"xgrid crisp\" transform=\"translate(446.01,0)\" d=\"M0,100v296\" style=\"stroke: rgb(255, 255, 255); stroke-opacity: 1; stroke-width: 1px;\"/><path class=\"xgrid crisp\" transform=\"translate(455.83,0)\" d=\"M0,100v296\" style=\"stroke: rgb(255, 255, 255); stroke-opacity: 1; stroke-width: 1px;\"/><path class=\"xgrid crisp\" transform=\"translate(465.34,0)\" d=\"M0,100v296\" style=\"stroke: rgb(255, 255, 255); stroke-opacity: 1; stroke-width: 1px;\"/><path class=\"xgrid crisp\" transform=\"translate(475.16,0)\" d=\"M0,100v296\" style=\"stroke: rgb(255, 255, 255); stroke-opacity: 1; stroke-width: 1px;\"/><path class=\"xgrid crisp\" transform=\"translate(484.67,0)\" d=\"M0,100v296\" style=\"stroke: rgb(255, 255, 255); stroke-opacity: 1; stroke-width: 1px;\"/><path class=\"xgrid crisp\" transform=\"translate(494.49,0)\" d=\"M0,100v296\" style=\"stroke: rgb(255, 255, 255); stroke-opacity: 1; stroke-width: 1px;\"/><path class=\"xgrid crisp\" transform=\"translate(504.31,0)\" d=\"M0,100v296\" style=\"stroke: rgb(255, 255, 255); stroke-opacity: 1; stroke-width: 1px;\"/><path class=\"xgrid crisp\" transform=\"translate(513.8199999999999,0)\" d=\"M0,100v296\" style=\"stroke: rgb(255, 255, 255); stroke-opacity: 1; stroke-width: 1px;\"/><path class=\"xgrid crisp\" transform=\"translate(523.64,0)\" d=\"M0,100v296\" style=\"stroke: rgb(255, 255, 255); stroke-opacity: 1; stroke-width: 1px;\"/><path class=\"xgrid crisp\" transform=\"translate(533.15,0)\" d=\"M0,100v296\" style=\"stroke: rgb(255, 255, 255); stroke-opacity: 1; stroke-width: 1px;\"/><path class=\"xgrid crisp\" transform=\"translate(542.97,0)\" d=\"M0,100v296\" style=\"stroke: rgb(255, 255, 255); stroke-opacity: 1; stroke-width: 1px;\"/><path class=\"xgrid crisp\" transform=\"translate(552.8,0)\" d=\"M0,100v296\" style=\"stroke: rgb(255, 255, 255); stroke-opacity: 1; stroke-width: 1px;\"/><path class=\"xgrid crisp\" transform=\"translate(561.6700000000001,0)\" d=\"M0,100v296\" style=\"stroke: rgb(255, 255, 255); stroke-opacity: 1; stroke-width: 1px;\"/><path class=\"xgrid crisp\" transform=\"translate(571.49,0)\" d=\"M0,100v296\" style=\"stroke: rgb(255, 255, 255); stroke-opacity: 1; stroke-width: 1px;\"/></g><g class=\"y\"><path class=\"ygrid crisp\" transform=\"translate(0,372.61)\" d=\"M80,0h501\" style=\"stroke: rgb(255, 255, 255); stroke-opacity: 1; stroke-width: 1px;\"/><path class=\"ygrid crisp\" transform=\"translate(0,329.64)\" d=\"M80,0h501\" style=\"stroke: rgb(255, 255, 255); stroke-opacity: 1; stroke-width: 1px;\"/><path class=\"ygrid crisp\" transform=\"translate(0,286.66999999999996)\" d=\"M80,0h501\" style=\"stroke: rgb(255, 255, 255); stroke-opacity: 1; stroke-width: 1px;\"/><path class=\"ygrid crisp\" transform=\"translate(0,243.7)\" d=\"M80,0h501\" style=\"stroke: rgb(255, 255, 255); stroke-opacity: 1; stroke-width: 1px;\"/><path class=\"ygrid crisp\" transform=\"translate(0,200.74)\" d=\"M80,0h501\" style=\"stroke: rgb(255, 255, 255); stroke-opacity: 1; stroke-width: 1px;\"/><path class=\"ygrid crisp\" transform=\"translate(0,157.77)\" d=\"M80,0h501\" style=\"stroke: rgb(255, 255, 255); stroke-opacity: 1; stroke-width: 1px;\"/><path class=\"ygrid crisp\" transform=\"translate(0,114.8)\" d=\"M80,0h501\" style=\"stroke: rgb(255, 255, 255); stroke-opacity: 1; stroke-width: 1px;\"/></g></g><g class=\"zerolinelayer\"/><path class=\"xlines-below\"/><path class=\"ylines-below\"/><g class=\"overlines-below\"/><g class=\"xaxislayer-below\"/><g class=\"yaxislayer-below\"/><g class=\"overaxes-below\"/><g class=\"plot\" transform=\"translate(80,100)\" clip-path=\"url(#clip2141c2xyplot)\"><g class=\"scatterlayer mlayer\"><g class=\"trace scatter traced6c547\" style=\"stroke-miterlimit: 2; opacity: 1;\"><g class=\"fills\"/><g class=\"errorbars\"/><g class=\"lines\"><path class=\"js-line\" d=\"M0,160.89L105.84,160.89L115.66,57.77L125.49,40.58L134.36,57.77L144.18,31.99L153.69,40.58L163.51,40.58L173.02,31.99L182.84,49.17L192.67,74.95L202.17,169.48L212,178.08L221.5,178.08L231.33,23.39L241.15,14.8L250.34,57.77L260.17,23.39L269.67,40.58L279.5,14.8L289,160.89L491.49,160.89L501,281.2\" style=\"vector-effect: non-scaling-stroke; fill: none; stroke: rgb(99, 110, 250); stroke-opacity: 1; stroke-width: 2px; opacity: 1;\"/></g><g class=\"points\"/><g class=\"text\"/></g><g class=\"trace scatter trace5b139d\" style=\"stroke-miterlimit: 2; opacity: 1;\"><g class=\"fills\"/><g class=\"errorbars\"/><g class=\"lines\"><path class=\"js-line\" d=\"M0,169.48L9.82,169.48L18.7,178.08L38.03,178.08L47.85,169.48L96.33,169.48L105.84,178.08L115.66,92.14L125.49,92.14L192.67,92.14L202.17,229.64L221.5,229.64L231.33,83.55L241.15,83.55L250.34,92.14L260.17,92.14L269.67,83.55L279.5,83.55L289,169.48L327.98,169.48L337.49,178.08L347.31,169.48L357.13,169.48L481.67,169.48L491.49,178.08L501,255.42\" style=\"vector-effect: non-scaling-stroke; fill: none; stroke: rgb(239, 85, 59); stroke-opacity: 1; stroke-width: 2px; opacity: 1;\"/></g><g class=\"points\"/><g class=\"text\"/></g></g></g><g class=\"overplot\"/><path class=\"xlines-above crisp\" d=\"M0,0\" style=\"fill: none;\"/><path class=\"ylines-above crisp\" d=\"M0,0\" style=\"fill: none;\"/><g class=\"overlines-above\"/><g class=\"xaxislayer-above\"><g class=\"xtick\"><text text-anchor=\"start\" x=\"0\" y=\"409\" transform=\"translate(80,0) rotate(90,0,403)\" style=\"font-family: 'Open Sans', verdana, arial, sans-serif; font-size: 12px; fill: rgb(42, 63, 95); fill-opacity: 1; white-space: pre; opacity: 1;\">Jan-2018</text></g><g class=\"xtick\"><text text-anchor=\"start\" x=\"0\" y=\"409\" style=\"font-family: 'Open Sans', verdana, arial, sans-serif; font-size: 12px; fill: rgb(42, 63, 95); fill-opacity: 1; white-space: pre; opacity: 1;\" transform=\"translate(89.82,0) rotate(90,0,403)\">Feb-2018</text></g><g class=\"xtick\"><text text-anchor=\"start\" x=\"0\" y=\"409\" style=\"font-family: 'Open Sans', verdana, arial, sans-serif; font-size: 12px; fill: rgb(42, 63, 95); fill-opacity: 1; white-space: pre; opacity: 1;\" transform=\"translate(98.7,0) rotate(90,0,403)\">Mar-2018</text></g><g class=\"xtick\"><text text-anchor=\"start\" x=\"0\" y=\"409\" style=\"font-family: 'Open Sans', verdana, arial, sans-serif; font-size: 12px; fill: rgb(42, 63, 95); fill-opacity: 1; white-space: pre; opacity: 1;\" transform=\"translate(108.52,0) rotate(90,0,403)\">Apr-2018</text></g><g class=\"xtick\"><text text-anchor=\"start\" x=\"0\" y=\"409\" style=\"font-family: 'Open Sans', verdana, arial, sans-serif; font-size: 12px; fill: rgb(42, 63, 95); fill-opacity: 1; white-space: pre; opacity: 1;\" transform=\"translate(118.03,0) rotate(90,0,403)\">May-2018</text></g><g class=\"xtick\"><text text-anchor=\"start\" x=\"0\" y=\"409\" style=\"font-family: 'Open Sans', verdana, arial, sans-serif; font-size: 12px; fill: rgb(42, 63, 95); fill-opacity: 1; white-space: pre; opacity: 1;\" transform=\"translate(127.85,0) rotate(90,0,403)\">Jun-2018</text></g><g class=\"xtick\"><text text-anchor=\"start\" x=\"0\" y=\"409\" style=\"font-family: 'Open Sans', verdana, arial, sans-serif; font-size: 12px; fill: rgb(42, 63, 95); fill-opacity: 1; white-space: pre; opacity: 1;\" transform=\"translate(137.36,0) rotate(90,0,403)\">Jul-2018</text></g><g class=\"xtick\"><text text-anchor=\"start\" x=\"0\" y=\"409\" style=\"font-family: 'Open Sans', verdana, arial, sans-serif; font-size: 12px; fill: rgb(42, 63, 95); fill-opacity: 1; white-space: pre; opacity: 1;\" transform=\"translate(147.18,0) rotate(90,0,403)\">Aug-2018</text></g><g class=\"xtick\"><text text-anchor=\"start\" x=\"0\" y=\"409\" style=\"font-family: 'Open Sans', verdana, arial, sans-serif; font-size: 12px; fill: rgb(42, 63, 95); fill-opacity: 1; white-space: pre; opacity: 1;\" transform=\"translate(157,0) rotate(90,0,403)\">Sep-2018</text></g><g class=\"xtick\"><text text-anchor=\"start\" x=\"0\" y=\"409\" style=\"font-family: 'Open Sans', verdana, arial, sans-serif; font-size: 12px; fill: rgb(42, 63, 95); fill-opacity: 1; white-space: pre; opacity: 1;\" transform=\"translate(166.51,0) rotate(90,0,403)\">Oct-2018</text></g><g class=\"xtick\"><text text-anchor=\"start\" x=\"0\" y=\"409\" style=\"font-family: 'Open Sans', verdana, arial, sans-serif; font-size: 12px; fill: rgb(42, 63, 95); fill-opacity: 1; white-space: pre; opacity: 1;\" transform=\"translate(176.32999999999998,0) rotate(90,0,403)\">Nov-2018</text></g><g class=\"xtick\"><text text-anchor=\"start\" x=\"0\" y=\"409\" style=\"font-family: 'Open Sans', verdana, arial, sans-serif; font-size: 12px; fill: rgb(42, 63, 95); fill-opacity: 1; white-space: pre; opacity: 1;\" transform=\"translate(185.84,0) rotate(90,0,403)\">Dec-2018</text></g><g class=\"xtick\"><text text-anchor=\"start\" x=\"0\" y=\"409\" style=\"font-family: 'Open Sans', verdana, arial, sans-serif; font-size: 12px; fill: rgb(42, 63, 95); fill-opacity: 1; white-space: pre; opacity: 1;\" transform=\"translate(195.66,0) rotate(90,0,403)\">Jan-2019</text></g><g class=\"xtick\"><text text-anchor=\"start\" x=\"0\" y=\"409\" style=\"font-family: 'Open Sans', verdana, arial, sans-serif; font-size: 12px; fill: rgb(42, 63, 95); fill-opacity: 1; white-space: pre; opacity: 1;\" transform=\"translate(205.49,0) rotate(90,0,403)\">Feb-2019</text></g><g class=\"xtick\"><text text-anchor=\"start\" x=\"0\" y=\"409\" style=\"font-family: 'Open Sans', verdana, arial, sans-serif; font-size: 12px; fill: rgb(42, 63, 95); fill-opacity: 1; white-space: pre; opacity: 1;\" transform=\"translate(214.36,0) rotate(90,0,403)\">Mar-2019</text></g><g class=\"xtick\"><text text-anchor=\"start\" x=\"0\" y=\"409\" style=\"font-family: 'Open Sans', verdana, arial, sans-serif; font-size: 12px; fill: rgb(42, 63, 95); fill-opacity: 1; white-space: pre; opacity: 1;\" transform=\"translate(224.18,0) rotate(90,0,403)\">Apr-2019</text></g><g class=\"xtick\"><text text-anchor=\"start\" x=\"0\" y=\"409\" style=\"font-family: 'Open Sans', verdana, arial, sans-serif; font-size: 12px; fill: rgb(42, 63, 95); fill-opacity: 1; white-space: pre; opacity: 1;\" transform=\"translate(233.69,0) rotate(90,0,403)\">May-2019</text></g><g class=\"xtick\"><text text-anchor=\"start\" x=\"0\" y=\"409\" style=\"font-family: 'Open Sans', verdana, arial, sans-serif; font-size: 12px; fill: rgb(42, 63, 95); fill-opacity: 1; white-space: pre; opacity: 1;\" transform=\"translate(243.51,0) rotate(90,0,403)\">Jun-2019</text></g><g class=\"xtick\"><text text-anchor=\"start\" x=\"0\" y=\"409\" style=\"font-family: 'Open Sans', verdana, arial, sans-serif; font-size: 12px; fill: rgb(42, 63, 95); fill-opacity: 1; white-space: pre; opacity: 1;\" transform=\"translate(253.02,0) rotate(90,0,403)\">Jul-2019</text></g><g class=\"xtick\"><text text-anchor=\"start\" x=\"0\" y=\"409\" style=\"font-family: 'Open Sans', verdana, arial, sans-serif; font-size: 12px; fill: rgb(42, 63, 95); fill-opacity: 1; white-space: pre; opacity: 1;\" transform=\"translate(262.84000000000003,0) rotate(90,0,403)\">Aug-2019</text></g><g class=\"xtick\"><text text-anchor=\"start\" x=\"0\" y=\"409\" style=\"font-family: 'Open Sans', verdana, arial, sans-serif; font-size: 12px; fill: rgb(42, 63, 95); fill-opacity: 1; white-space: pre; opacity: 1;\" transform=\"translate(272.66999999999996,0) rotate(90,0,403)\">Sep-2019</text></g><g class=\"xtick\"><text text-anchor=\"start\" x=\"0\" y=\"409\" style=\"font-family: 'Open Sans', verdana, arial, sans-serif; font-size: 12px; fill: rgb(42, 63, 95); fill-opacity: 1; white-space: pre; opacity: 1;\" transform=\"translate(282.16999999999996,0) rotate(90,0,403)\">Oct-2019</text></g><g class=\"xtick\"><text text-anchor=\"start\" x=\"0\" y=\"409\" style=\"font-family: 'Open Sans', verdana, arial, sans-serif; font-size: 12px; fill: rgb(42, 63, 95); fill-opacity: 1; white-space: pre; opacity: 1;\" transform=\"translate(292,0) rotate(90,0,403)\">Nov-2019</text></g><g class=\"xtick\"><text text-anchor=\"start\" x=\"0\" y=\"409\" style=\"font-family: 'Open Sans', verdana, arial, sans-serif; font-size: 12px; fill: rgb(42, 63, 95); fill-opacity: 1; white-space: pre; opacity: 1;\" transform=\"translate(301.5,0) rotate(90,0,403)\">Dec-2019</text></g><g class=\"xtick\"><text text-anchor=\"start\" x=\"0\" y=\"409\" style=\"font-family: 'Open Sans', verdana, arial, sans-serif; font-size: 12px; fill: rgb(42, 63, 95); fill-opacity: 1; white-space: pre; opacity: 1;\" transform=\"translate(311.33000000000004,0) rotate(90,0,403)\">Jan-2020</text></g><g class=\"xtick\"><text text-anchor=\"start\" x=\"0\" y=\"409\" style=\"font-family: 'Open Sans', verdana, arial, sans-serif; font-size: 12px; fill: rgb(42, 63, 95); fill-opacity: 1; white-space: pre; opacity: 1;\" transform=\"translate(321.15,0) rotate(90,0,403)\">Feb-2020</text></g><g class=\"xtick\"><text text-anchor=\"start\" x=\"0\" y=\"409\" style=\"font-family: 'Open Sans', verdana, arial, sans-serif; font-size: 12px; fill: rgb(42, 63, 95); fill-opacity: 1; white-space: pre; opacity: 1;\" transform=\"translate(330.34000000000003,0) rotate(90,0,403)\">Mar-2020</text></g><g class=\"xtick\"><text text-anchor=\"start\" x=\"0\" y=\"409\" style=\"font-family: 'Open Sans', verdana, arial, sans-serif; font-size: 12px; fill: rgb(42, 63, 95); fill-opacity: 1; white-space: pre; opacity: 1;\" transform=\"translate(340.17,0) rotate(90,0,403)\">Apr-2020</text></g><g class=\"xtick\"><text text-anchor=\"start\" x=\"0\" y=\"409\" style=\"font-family: 'Open Sans', verdana, arial, sans-serif; font-size: 12px; fill: rgb(42, 63, 95); fill-opacity: 1; white-space: pre; opacity: 1;\" transform=\"translate(349.67,0) rotate(90,0,403)\">May-2020</text></g><g class=\"xtick\"><text text-anchor=\"start\" x=\"0\" y=\"409\" style=\"font-family: 'Open Sans', verdana, arial, sans-serif; font-size: 12px; fill: rgb(42, 63, 95); fill-opacity: 1; white-space: pre; opacity: 1;\" transform=\"translate(359.5,0) rotate(90,0,403)\">Jun-2020</text></g><g class=\"xtick\"><text text-anchor=\"start\" x=\"0\" y=\"409\" style=\"font-family: 'Open Sans', verdana, arial, sans-serif; font-size: 12px; fill: rgb(42, 63, 95); fill-opacity: 1; white-space: pre; opacity: 1;\" transform=\"translate(369,0) rotate(90,0,403)\">Jul-2020</text></g><g class=\"xtick\"><text text-anchor=\"start\" x=\"0\" y=\"409\" style=\"font-family: 'Open Sans', verdana, arial, sans-serif; font-size: 12px; fill: rgb(42, 63, 95); fill-opacity: 1; white-space: pre; opacity: 1;\" transform=\"translate(378.83,0) rotate(90,0,403)\">Aug-2020</text></g><g class=\"xtick\"><text text-anchor=\"start\" x=\"0\" y=\"409\" style=\"font-family: 'Open Sans', verdana, arial, sans-serif; font-size: 12px; fill: rgb(42, 63, 95); fill-opacity: 1; white-space: pre; opacity: 1;\" transform=\"translate(388.65,0) rotate(90,0,403)\">Sep-2020</text></g><g class=\"xtick\"><text text-anchor=\"start\" x=\"0\" y=\"409\" style=\"font-family: 'Open Sans', verdana, arial, sans-serif; font-size: 12px; fill: rgb(42, 63, 95); fill-opacity: 1; white-space: pre; opacity: 1;\" transform=\"translate(398.16,0) rotate(90,0,403)\">Oct-2020</text></g><g class=\"xtick\"><text text-anchor=\"start\" x=\"0\" y=\"409\" style=\"font-family: 'Open Sans', verdana, arial, sans-serif; font-size: 12px; fill: rgb(42, 63, 95); fill-opacity: 1; white-space: pre; opacity: 1;\" transform=\"translate(407.98,0) rotate(90,0,403)\">Nov-2020</text></g><g class=\"xtick\"><text text-anchor=\"start\" x=\"0\" y=\"409\" style=\"font-family: 'Open Sans', verdana, arial, sans-serif; font-size: 12px; fill: rgb(42, 63, 95); fill-opacity: 1; white-space: pre; opacity: 1;\" transform=\"translate(417.49,0) rotate(90,0,403)\">Dec-2020</text></g><g class=\"xtick\"><text text-anchor=\"start\" x=\"0\" y=\"409\" style=\"font-family: 'Open Sans', verdana, arial, sans-serif; font-size: 12px; fill: rgb(42, 63, 95); fill-opacity: 1; white-space: pre; opacity: 1;\" transform=\"translate(427.31,0) rotate(90,0,403)\">Jan-2021</text></g><g class=\"xtick\"><text text-anchor=\"start\" x=\"0\" y=\"409\" style=\"font-family: 'Open Sans', verdana, arial, sans-serif; font-size: 12px; fill: rgb(42, 63, 95); fill-opacity: 1; white-space: pre; opacity: 1;\" transform=\"translate(437.13,0) rotate(90,0,403)\">Feb-2021</text></g><g class=\"xtick\"><text text-anchor=\"start\" x=\"0\" y=\"409\" style=\"font-family: 'Open Sans', verdana, arial, sans-serif; font-size: 12px; fill: rgb(42, 63, 95); fill-opacity: 1; white-space: pre; opacity: 1;\" transform=\"translate(446.01,0) rotate(90,0,403)\">Mar-2021</text></g><g class=\"xtick\"><text text-anchor=\"start\" x=\"0\" y=\"409\" style=\"font-family: 'Open Sans', verdana, arial, sans-serif; font-size: 12px; fill: rgb(42, 63, 95); fill-opacity: 1; white-space: pre; opacity: 1;\" transform=\"translate(455.83,0) rotate(90,0,403)\">Apr-2021</text></g><g class=\"xtick\"><text text-anchor=\"start\" x=\"0\" y=\"409\" style=\"font-family: 'Open Sans', verdana, arial, sans-serif; font-size: 12px; fill: rgb(42, 63, 95); fill-opacity: 1; white-space: pre; opacity: 1;\" transform=\"translate(465.34,0) rotate(90,0,403)\">May-2021</text></g><g class=\"xtick\"><text text-anchor=\"start\" x=\"0\" y=\"409\" style=\"font-family: 'Open Sans', verdana, arial, sans-serif; font-size: 12px; fill: rgb(42, 63, 95); fill-opacity: 1; white-space: pre; opacity: 1;\" transform=\"translate(475.16,0) rotate(90,0,403)\">Jun-2021</text></g><g class=\"xtick\"><text text-anchor=\"start\" x=\"0\" y=\"409\" style=\"font-family: 'Open Sans', verdana, arial, sans-serif; font-size: 12px; fill: rgb(42, 63, 95); fill-opacity: 1; white-space: pre; opacity: 1;\" transform=\"translate(484.67,0) rotate(90,0,403)\">Jul-2021</text></g><g class=\"xtick\"><text text-anchor=\"start\" x=\"0\" y=\"409\" style=\"font-family: 'Open Sans', verdana, arial, sans-serif; font-size: 12px; fill: rgb(42, 63, 95); fill-opacity: 1; white-space: pre; opacity: 1;\" transform=\"translate(494.49,0) rotate(90,0,403)\">Aug-2021</text></g><g class=\"xtick\"><text text-anchor=\"start\" x=\"0\" y=\"409\" style=\"font-family: 'Open Sans', verdana, arial, sans-serif; font-size: 12px; fill: rgb(42, 63, 95); fill-opacity: 1; white-space: pre; opacity: 1;\" transform=\"translate(504.31,0) rotate(90,0,403)\">Sep-2021</text></g><g class=\"xtick\"><text text-anchor=\"start\" x=\"0\" y=\"409\" style=\"font-family: 'Open Sans', verdana, arial, sans-serif; font-size: 12px; fill: rgb(42, 63, 95); fill-opacity: 1; white-space: pre; opacity: 1;\" transform=\"translate(513.8199999999999,0) rotate(90,0,403)\">Oct-2021</text></g><g class=\"xtick\"><text text-anchor=\"start\" x=\"0\" y=\"409\" style=\"font-family: 'Open Sans', verdana, arial, sans-serif; font-size: 12px; fill: rgb(42, 63, 95); fill-opacity: 1; white-space: pre; opacity: 1;\" transform=\"translate(523.64,0) rotate(90,0,403)\">Nov-2021</text></g><g class=\"xtick\"><text text-anchor=\"start\" x=\"0\" y=\"409\" style=\"font-family: 'Open Sans', verdana, arial, sans-serif; font-size: 12px; fill: rgb(42, 63, 95); fill-opacity: 1; white-space: pre; opacity: 1;\" transform=\"translate(533.15,0) rotate(90,0,403)\">Dec-2021</text></g><g class=\"xtick\"><text text-anchor=\"start\" x=\"0\" y=\"409\" style=\"font-family: 'Open Sans', verdana, arial, sans-serif; font-size: 12px; fill: rgb(42, 63, 95); fill-opacity: 1; white-space: pre; opacity: 1;\" transform=\"translate(542.97,0) rotate(90,0,403)\">Jan-2022</text></g><g class=\"xtick\"><text text-anchor=\"start\" x=\"0\" y=\"409\" style=\"font-family: 'Open Sans', verdana, arial, sans-serif; font-size: 12px; fill: rgb(42, 63, 95); fill-opacity: 1; white-space: pre; opacity: 1;\" transform=\"translate(552.8,0) rotate(90,0,403)\">Feb-2022</text></g><g class=\"xtick\"><text text-anchor=\"start\" x=\"0\" y=\"409\" style=\"font-family: 'Open Sans', verdana, arial, sans-serif; font-size: 12px; fill: rgb(42, 63, 95); fill-opacity: 1; white-space: pre; opacity: 1;\" transform=\"translate(561.6700000000001,0) rotate(90,0,403)\">Mar-2022</text></g><g class=\"xtick\"><text text-anchor=\"start\" x=\"0\" y=\"409\" style=\"font-family: 'Open Sans', verdana, arial, sans-serif; font-size: 12px; fill: rgb(42, 63, 95); fill-opacity: 1; white-space: pre; opacity: 1;\" transform=\"translate(571.49,0) rotate(90,0,403)\">Apr-2022</text></g><g class=\"xtick\"><text text-anchor=\"start\" x=\"0\" y=\"409\" style=\"font-family: 'Open Sans', verdana, arial, sans-serif; font-size: 12px; fill: rgb(42, 63, 95); fill-opacity: 1; white-space: pre; opacity: 1;\" transform=\"translate(581,0) rotate(90,0,403)\">May-2022</text></g></g><g class=\"yaxislayer-above\"><g class=\"ytick\"><text text-anchor=\"end\" x=\"79\" y=\"4.199999999999999\" transform=\"translate(0,372.61)\" style=\"font-family: 'Open Sans', verdana, arial, sans-serif; font-size: 12px; fill: rgb(42, 63, 95); fill-opacity: 1; white-space: pre; opacity: 1;\">5</text></g><g class=\"ytick\"><text text-anchor=\"end\" x=\"79\" y=\"4.199999999999999\" style=\"font-family: 'Open Sans', verdana, arial, sans-serif; font-size: 12px; fill: rgb(42, 63, 95); fill-opacity: 1; white-space: pre; opacity: 1;\" transform=\"translate(0,329.64)\">10</text></g><g class=\"ytick\"><text text-anchor=\"end\" x=\"79\" y=\"4.199999999999999\" style=\"font-family: 'Open Sans', verdana, arial, sans-serif; font-size: 12px; fill: rgb(42, 63, 95); fill-opacity: 1; white-space: pre; opacity: 1;\" transform=\"translate(0,286.66999999999996)\">15</text></g><g class=\"ytick\"><text text-anchor=\"end\" x=\"79\" y=\"4.199999999999999\" style=\"font-family: 'Open Sans', verdana, arial, sans-serif; font-size: 12px; fill: rgb(42, 63, 95); fill-opacity: 1; white-space: pre; opacity: 1;\" transform=\"translate(0,243.7)\">20</text></g><g class=\"ytick\"><text text-anchor=\"end\" x=\"79\" y=\"4.199999999999999\" style=\"font-family: 'Open Sans', verdana, arial, sans-serif; font-size: 12px; fill: rgb(42, 63, 95); fill-opacity: 1; white-space: pre; opacity: 1;\" transform=\"translate(0,200.74)\">25</text></g><g class=\"ytick\"><text text-anchor=\"end\" x=\"79\" y=\"4.199999999999999\" style=\"font-family: 'Open Sans', verdana, arial, sans-serif; font-size: 12px; fill: rgb(42, 63, 95); fill-opacity: 1; white-space: pre; opacity: 1;\" transform=\"translate(0,157.77)\">30</text></g><g class=\"ytick\"><text text-anchor=\"end\" x=\"79\" y=\"4.199999999999999\" style=\"font-family: 'Open Sans', verdana, arial, sans-serif; font-size: 12px; fill: rgb(42, 63, 95); fill-opacity: 1; white-space: pre; opacity: 1;\" transform=\"translate(0,114.8)\">35</text></g></g><g class=\"overaxes-above\"/></g></g><g class=\"polarlayer\"/><g class=\"smithlayer\"/><g class=\"ternarylayer\"/><g class=\"geolayer\"/><g class=\"funnelarealayer\"/><g class=\"pielayer\"/><g class=\"iciclelayer\"/><g class=\"treemaplayer\"/><g class=\"sunburstlayer\"/><g class=\"glimages\"/><defs id=\"topdefs-2141c2\"><g class=\"clips\"/><clipPath id=\"legend2141c2\"><rect width=\"97\" height=\"67\" x=\"0\" y=\"0\"/></clipPath></defs><g class=\"layer-above\"><g class=\"imagelayer\"/><g class=\"shapelayer\"/></g><g class=\"infolayer\"><g class=\"legend\" pointer-events=\"all\" transform=\"translate(591.02,100)\"><rect class=\"bg\" shape-rendering=\"crispEdges\" width=\"97\" height=\"67\" x=\"0\" y=\"0\" style=\"stroke: rgb(68, 68, 68); stroke-opacity: 1; fill: rgb(255, 255, 255); fill-opacity: 1; stroke-width: 0px;\"/><g class=\"scrollbox\" transform=\"\" clip-path=\"url(#legend2141c2)\"><text class=\"legendtitletext\" text-anchor=\"start\" x=\"2\" y=\"18.2\" style=\"font-family: 'Open Sans', verdana, arial, sans-serif; font-size: 14px; fill: rgb(42, 63, 95); fill-opacity: 1; white-space: pre;\">Sector</text><g class=\"groups\" transform=\"\"><g class=\"traces\" transform=\"translate(0,32.7)\" style=\"opacity: 1;\"><text class=\"legendtext\" text-anchor=\"start\" x=\"40\" y=\"4.680000000000001\" style=\"font-family: 'Open Sans', verdana, arial, sans-serif; font-size: 12px; fill: rgb(42, 63, 95); fill-opacity: 1; white-space: pre;\">PRIVATE</text><g class=\"layers\" style=\"opacity: 1;\"><g class=\"legendfill\"/><g class=\"legendlines\"><path class=\"js-line\" d=\"M5,0h30\" style=\"fill: none; stroke: rgb(99, 110, 250); stroke-opacity: 1; stroke-width: 2px;\"/></g><g class=\"legendsymbols\"><g class=\"legendpoints\"/></g></g><rect class=\"legendtoggle\" x=\"0\" y=\"-9.5\" width=\"91.390625\" height=\"19\" style=\"fill: rgb(0, 0, 0); fill-opacity: 0;\"/></g></g><g class=\"groups\" transform=\"\"><g class=\"traces\" transform=\"translate(0,51.7)\" style=\"opacity: 1;\"><text class=\"legendtext\" text-anchor=\"start\" x=\"40\" y=\"4.680000000000001\" style=\"font-family: 'Open Sans', verdana, arial, sans-serif; font-size: 12px; fill: rgb(42, 63, 95); fill-opacity: 1; white-space: pre;\">PUBLIC</text><g class=\"layers\" style=\"opacity: 1;\"><g class=\"legendfill\"/><g class=\"legendlines\"><path class=\"js-line\" d=\"M5,0h30\" style=\"fill: none; stroke: rgb(239, 85, 59); stroke-opacity: 1; stroke-width: 2px;\"/></g><g class=\"legendsymbols\"><g class=\"legendpoints\"/></g></g><rect class=\"legendtoggle\" x=\"0\" y=\"-9.5\" width=\"91.390625\" height=\"19\" style=\"fill: rgb(0, 0, 0); fill-opacity: 0;\"/></g></g></g><rect class=\"scrollbar\" rx=\"20\" ry=\"3\" width=\"0\" height=\"0\" x=\"0\" y=\"0\" style=\"fill: rgb(128, 139, 164); fill-opacity: 1;\"/></g><g class=\"g-gtitle\"><text class=\"gtitle\" x=\"35\" y=\"50\" text-anchor=\"start\" dy=\"0em\" style=\"font-family: 'Open Sans', verdana, arial, sans-serif; font-size: 17px; fill: rgb(42, 63, 95); opacity: 1; font-weight: normal; white-space: pre;\">Total Hospitals to Category II</text></g><g class=\"g-xtitle\"><text class=\"xtitle\" x=\"330.5\" y=\"488.2375\" text-anchor=\"middle\" style=\"font-family: 'Open Sans', verdana, arial, sans-serif; font-size: 14px; fill: rgb(42, 63, 95); opacity: 1; font-weight: normal; white-space: pre;\">Date</text></g><g class=\"g-ytitle\"><text class=\"ytitle\" transform=\"rotate(-90,38.934375,248)\" x=\"38.934375\" y=\"248\" text-anchor=\"middle\" style=\"font-family: 'Open Sans', verdana, arial, sans-serif; font-size: 14px; fill: rgb(42, 63, 95); opacity: 1; font-weight: normal; white-space: pre;\">Hospitals (qty)</text></g></g></svg>"
      ]
     },
     "metadata": {},
     "output_type": "display_data"
    }
   ],
   "source": [
    "data_temp = hospitals_df_hc.pivot_table(index=['DATE'],\n",
    "                                        columns=['SECTOR_R'],\n",
    "                                        values='QTY_HOSPITALS').fillna(0)\n",
    "data_temp = data_temp.reset_index().rename_axis(None, axis=1)\n",
    "\n",
    "# FIGURA\n",
    "columns_name = list(data_temp.columns)[1:]\n",
    "fig = px.line(data_temp, \n",
    "              x=\"DATE\", \n",
    "              y=columns_name,\n",
    "              hover_data={\"DATE\": \"|%Y %b\"},\n",
    "              labels={\n",
    "                  \"value\": \"Hospitals (qty)\",\n",
    "                  \"DATE\": \"Date\",\n",
    "                  \"variable\": \"Sector\"\n",
    "              },\n",
    "              title='Total Hospitals to Category ' + TAG_CATEGORY)\n",
    "\n",
    "fig.update_xaxes(\n",
    "    dtick=\"M1\",\n",
    "    tickformat=\"%b-%Y\")\n",
    "\n",
    "fig.show(renderer=\"svg\")\n",
    "#fig.show()\n"
   ]
  },
  {
   "cell_type": "code",
   "execution_count": 127,
   "id": "9e3be251",
   "metadata": {
    "scrolled": false
   },
   "outputs": [
    {
     "data": {
      "image/svg+xml": [
       "<svg class=\"main-svg\" xmlns=\"http://www.w3.org/2000/svg\" xmlns:xlink=\"http://www.w3.org/1999/xlink\" width=\"700\" height=\"500\" style=\"\" viewBox=\"0 0 700 500\"><rect x=\"0\" y=\"0\" width=\"700\" height=\"500\" style=\"fill: rgb(255, 255, 255); fill-opacity: 1;\"/><defs id=\"defs-175ee0\"><g class=\"clips\"><clipPath id=\"clip175ee0xyplot\" class=\"plotclip\"><rect width=\"501\" height=\"296\"/></clipPath><clipPath class=\"axesclip\" id=\"clip175ee0x\"><rect x=\"80\" y=\"0\" width=\"501\" height=\"500\"/></clipPath><clipPath class=\"axesclip\" id=\"clip175ee0y\"><rect x=\"0\" y=\"100\" width=\"700\" height=\"296\"/></clipPath><clipPath class=\"axesclip\" id=\"clip175ee0xy\"><rect x=\"80\" y=\"100\" width=\"501\" height=\"296\"/></clipPath></g><g class=\"gradients\"/><g class=\"patterns\"/></defs><g class=\"bglayer\"><rect class=\"bg\" x=\"80\" y=\"100\" width=\"501\" height=\"296\" style=\"fill: rgb(229, 236, 246); fill-opacity: 1; stroke-width: 0;\"/></g><g class=\"layer-below\"><g class=\"imagelayer\"/><g class=\"shapelayer\"/></g><g class=\"cartesianlayer\"><g class=\"subplot xy\"><g class=\"layer-subplot\"><g class=\"shapelayer\"/><g class=\"imagelayer\"/></g><g class=\"gridlayer\"><g class=\"x\"><path class=\"xgrid crisp\" transform=\"translate(89.82,0)\" d=\"M0,100v296\" style=\"stroke: rgb(255, 255, 255); stroke-opacity: 1; stroke-width: 1px;\"/><path class=\"xgrid crisp\" transform=\"translate(98.7,0)\" d=\"M0,100v296\" style=\"stroke: rgb(255, 255, 255); stroke-opacity: 1; stroke-width: 1px;\"/><path class=\"xgrid crisp\" transform=\"translate(108.52,0)\" d=\"M0,100v296\" style=\"stroke: rgb(255, 255, 255); stroke-opacity: 1; stroke-width: 1px;\"/><path class=\"xgrid crisp\" transform=\"translate(118.03,0)\" d=\"M0,100v296\" style=\"stroke: rgb(255, 255, 255); stroke-opacity: 1; stroke-width: 1px;\"/><path class=\"xgrid crisp\" transform=\"translate(127.85,0)\" d=\"M0,100v296\" style=\"stroke: rgb(255, 255, 255); stroke-opacity: 1; stroke-width: 1px;\"/><path class=\"xgrid crisp\" transform=\"translate(137.36,0)\" d=\"M0,100v296\" style=\"stroke: rgb(255, 255, 255); stroke-opacity: 1; stroke-width: 1px;\"/><path class=\"xgrid crisp\" transform=\"translate(147.18,0)\" d=\"M0,100v296\" style=\"stroke: rgb(255, 255, 255); stroke-opacity: 1; stroke-width: 1px;\"/><path class=\"xgrid crisp\" transform=\"translate(157,0)\" d=\"M0,100v296\" style=\"stroke: rgb(255, 255, 255); stroke-opacity: 1; stroke-width: 1px;\"/><path class=\"xgrid crisp\" transform=\"translate(166.51,0)\" d=\"M0,100v296\" style=\"stroke: rgb(255, 255, 255); stroke-opacity: 1; stroke-width: 1px;\"/><path class=\"xgrid crisp\" transform=\"translate(176.32999999999998,0)\" d=\"M0,100v296\" style=\"stroke: rgb(255, 255, 255); stroke-opacity: 1; stroke-width: 1px;\"/><path class=\"xgrid crisp\" transform=\"translate(185.84,0)\" d=\"M0,100v296\" style=\"stroke: rgb(255, 255, 255); stroke-opacity: 1; stroke-width: 1px;\"/><path class=\"xgrid crisp\" transform=\"translate(195.66,0)\" d=\"M0,100v296\" style=\"stroke: rgb(255, 255, 255); stroke-opacity: 1; stroke-width: 1px;\"/><path class=\"xgrid crisp\" transform=\"translate(205.49,0)\" d=\"M0,100v296\" style=\"stroke: rgb(255, 255, 255); stroke-opacity: 1; stroke-width: 1px;\"/><path class=\"xgrid crisp\" transform=\"translate(214.36,0)\" d=\"M0,100v296\" style=\"stroke: rgb(255, 255, 255); stroke-opacity: 1; stroke-width: 1px;\"/><path class=\"xgrid crisp\" transform=\"translate(224.18,0)\" d=\"M0,100v296\" style=\"stroke: rgb(255, 255, 255); stroke-opacity: 1; stroke-width: 1px;\"/><path class=\"xgrid crisp\" transform=\"translate(233.69,0)\" d=\"M0,100v296\" style=\"stroke: rgb(255, 255, 255); stroke-opacity: 1; stroke-width: 1px;\"/><path class=\"xgrid crisp\" transform=\"translate(243.51,0)\" d=\"M0,100v296\" style=\"stroke: rgb(255, 255, 255); stroke-opacity: 1; stroke-width: 1px;\"/><path class=\"xgrid crisp\" transform=\"translate(253.02,0)\" d=\"M0,100v296\" style=\"stroke: rgb(255, 255, 255); stroke-opacity: 1; stroke-width: 1px;\"/><path class=\"xgrid crisp\" transform=\"translate(262.84000000000003,0)\" d=\"M0,100v296\" style=\"stroke: rgb(255, 255, 255); stroke-opacity: 1; stroke-width: 1px;\"/><path class=\"xgrid crisp\" transform=\"translate(272.66999999999996,0)\" d=\"M0,100v296\" style=\"stroke: rgb(255, 255, 255); stroke-opacity: 1; stroke-width: 1px;\"/><path class=\"xgrid crisp\" transform=\"translate(282.16999999999996,0)\" d=\"M0,100v296\" style=\"stroke: rgb(255, 255, 255); stroke-opacity: 1; stroke-width: 1px;\"/><path class=\"xgrid crisp\" transform=\"translate(292,0)\" d=\"M0,100v296\" style=\"stroke: rgb(255, 255, 255); stroke-opacity: 1; stroke-width: 1px;\"/><path class=\"xgrid crisp\" transform=\"translate(301.5,0)\" d=\"M0,100v296\" style=\"stroke: rgb(255, 255, 255); stroke-opacity: 1; stroke-width: 1px;\"/><path class=\"xgrid crisp\" transform=\"translate(311.33000000000004,0)\" d=\"M0,100v296\" style=\"stroke: rgb(255, 255, 255); stroke-opacity: 1; stroke-width: 1px;\"/><path class=\"xgrid crisp\" transform=\"translate(321.15,0)\" d=\"M0,100v296\" style=\"stroke: rgb(255, 255, 255); stroke-opacity: 1; stroke-width: 1px;\"/><path class=\"xgrid crisp\" transform=\"translate(330.34000000000003,0)\" d=\"M0,100v296\" style=\"stroke: rgb(255, 255, 255); stroke-opacity: 1; stroke-width: 1px;\"/><path class=\"xgrid crisp\" transform=\"translate(340.17,0)\" d=\"M0,100v296\" style=\"stroke: rgb(255, 255, 255); stroke-opacity: 1; stroke-width: 1px;\"/><path class=\"xgrid crisp\" transform=\"translate(349.67,0)\" d=\"M0,100v296\" style=\"stroke: rgb(255, 255, 255); stroke-opacity: 1; stroke-width: 1px;\"/><path class=\"xgrid crisp\" transform=\"translate(359.5,0)\" d=\"M0,100v296\" style=\"stroke: rgb(255, 255, 255); stroke-opacity: 1; stroke-width: 1px;\"/><path class=\"xgrid crisp\" transform=\"translate(369,0)\" d=\"M0,100v296\" style=\"stroke: rgb(255, 255, 255); stroke-opacity: 1; stroke-width: 1px;\"/><path class=\"xgrid crisp\" transform=\"translate(378.83,0)\" d=\"M0,100v296\" style=\"stroke: rgb(255, 255, 255); stroke-opacity: 1; stroke-width: 1px;\"/><path class=\"xgrid crisp\" transform=\"translate(388.65,0)\" d=\"M0,100v296\" style=\"stroke: rgb(255, 255, 255); stroke-opacity: 1; stroke-width: 1px;\"/><path class=\"xgrid crisp\" transform=\"translate(398.16,0)\" d=\"M0,100v296\" style=\"stroke: rgb(255, 255, 255); stroke-opacity: 1; stroke-width: 1px;\"/><path class=\"xgrid crisp\" transform=\"translate(407.98,0)\" d=\"M0,100v296\" style=\"stroke: rgb(255, 255, 255); stroke-opacity: 1; stroke-width: 1px;\"/><path class=\"xgrid crisp\" transform=\"translate(417.49,0)\" d=\"M0,100v296\" style=\"stroke: rgb(255, 255, 255); stroke-opacity: 1; stroke-width: 1px;\"/><path class=\"xgrid crisp\" transform=\"translate(427.31,0)\" d=\"M0,100v296\" style=\"stroke: rgb(255, 255, 255); stroke-opacity: 1; stroke-width: 1px;\"/><path class=\"xgrid crisp\" transform=\"translate(437.13,0)\" d=\"M0,100v296\" style=\"stroke: rgb(255, 255, 255); stroke-opacity: 1; stroke-width: 1px;\"/><path class=\"xgrid crisp\" transform=\"translate(446.01,0)\" d=\"M0,100v296\" style=\"stroke: rgb(255, 255, 255); stroke-opacity: 1; stroke-width: 1px;\"/><path class=\"xgrid crisp\" transform=\"translate(455.83,0)\" d=\"M0,100v296\" style=\"stroke: rgb(255, 255, 255); stroke-opacity: 1; stroke-width: 1px;\"/><path class=\"xgrid crisp\" transform=\"translate(465.34,0)\" d=\"M0,100v296\" style=\"stroke: rgb(255, 255, 255); stroke-opacity: 1; stroke-width: 1px;\"/><path class=\"xgrid crisp\" transform=\"translate(475.16,0)\" d=\"M0,100v296\" style=\"stroke: rgb(255, 255, 255); stroke-opacity: 1; stroke-width: 1px;\"/><path class=\"xgrid crisp\" transform=\"translate(484.67,0)\" d=\"M0,100v296\" style=\"stroke: rgb(255, 255, 255); stroke-opacity: 1; stroke-width: 1px;\"/><path class=\"xgrid crisp\" transform=\"translate(494.49,0)\" d=\"M0,100v296\" style=\"stroke: rgb(255, 255, 255); stroke-opacity: 1; stroke-width: 1px;\"/><path class=\"xgrid crisp\" transform=\"translate(504.31,0)\" d=\"M0,100v296\" style=\"stroke: rgb(255, 255, 255); stroke-opacity: 1; stroke-width: 1px;\"/><path class=\"xgrid crisp\" transform=\"translate(513.8199999999999,0)\" d=\"M0,100v296\" style=\"stroke: rgb(255, 255, 255); stroke-opacity: 1; stroke-width: 1px;\"/><path class=\"xgrid crisp\" transform=\"translate(523.64,0)\" d=\"M0,100v296\" style=\"stroke: rgb(255, 255, 255); stroke-opacity: 1; stroke-width: 1px;\"/><path class=\"xgrid crisp\" transform=\"translate(533.15,0)\" d=\"M0,100v296\" style=\"stroke: rgb(255, 255, 255); stroke-opacity: 1; stroke-width: 1px;\"/><path class=\"xgrid crisp\" transform=\"translate(542.97,0)\" d=\"M0,100v296\" style=\"stroke: rgb(255, 255, 255); stroke-opacity: 1; stroke-width: 1px;\"/><path class=\"xgrid crisp\" transform=\"translate(552.8,0)\" d=\"M0,100v296\" style=\"stroke: rgb(255, 255, 255); stroke-opacity: 1; stroke-width: 1px;\"/><path class=\"xgrid crisp\" transform=\"translate(561.6700000000001,0)\" d=\"M0,100v296\" style=\"stroke: rgb(255, 255, 255); stroke-opacity: 1; stroke-width: 1px;\"/><path class=\"xgrid crisp\" transform=\"translate(571.49,0)\" d=\"M0,100v296\" style=\"stroke: rgb(255, 255, 255); stroke-opacity: 1; stroke-width: 1px;\"/></g><g class=\"y\"><path class=\"ygrid crisp\" transform=\"translate(0,335.68)\" d=\"M80,0h501\" style=\"stroke: rgb(255, 255, 255); stroke-opacity: 1; stroke-width: 1px;\"/><path class=\"ygrid crisp\" transform=\"translate(0,266.69)\" d=\"M80,0h501\" style=\"stroke: rgb(255, 255, 255); stroke-opacity: 1; stroke-width: 1px;\"/><path class=\"ygrid crisp\" transform=\"translate(0,197.7)\" d=\"M80,0h501\" style=\"stroke: rgb(255, 255, 255); stroke-opacity: 1; stroke-width: 1px;\"/><path class=\"ygrid crisp\" transform=\"translate(0,128.72)\" d=\"M80,0h501\" style=\"stroke: rgb(255, 255, 255); stroke-opacity: 1; stroke-width: 1px;\"/></g></g><g class=\"zerolinelayer\"/><path class=\"xlines-below\"/><path class=\"ylines-below\"/><g class=\"overlines-below\"/><g class=\"xaxislayer-below\"/><g class=\"yaxislayer-below\"/><g class=\"overaxes-below\"/><g class=\"plot\" transform=\"translate(80,100)\" clip-path=\"url(#clip175ee0xyplot)\"><g class=\"scatterlayer mlayer\"><g class=\"trace scatter trace5b1372\" style=\"stroke-miterlimit: 2; opacity: 1;\"><g class=\"fills\"/><g class=\"errorbars\"/><g class=\"lines\"><path class=\"js-line\" d=\"M0,99.31L9.82,63.67L18.7,14.8L28.52,24.02L38.03,89.07L47.85,82.18L57.36,96.07L67.18,96.71L77,106.2L86.51,95.17L96.33,86.97L105.84,71.91L115.66,45.46L125.49,100.18L134.36,55.19L144.18,89.83L153.69,68.56L163.51,57.91L173.02,76.75L182.84,74.48L192.67,69.45L202.17,152.06L212,171.43L221.5,178.82L231.33,203.81L241.15,157.47L250.34,199.24L260.17,273.21L269.67,268.76L279.5,227.76L289,205.71L298.83,189.11L308.65,182.98L318.16,165.77L327.98,157.08L337.49,160.71L347.31,152.24L357.13,167.8L366.01,136.26L375.83,152.48L385.34,150.44L395.16,139.68L404.67,132.73L414.49,121.67L424.31,123.03L433.82,121.96L443.64,115.83L453.15,125.03L462.97,96.11L472.8,132.46L481.67,107.7L491.49,124.62L501,265.76\" style=\"vector-effect: non-scaling-stroke; fill: none; stroke: rgb(99, 110, 250); stroke-opacity: 1; stroke-width: 2px; opacity: 1;\"/></g><g class=\"points\"/><g class=\"text\"/></g><g class=\"trace scatter trace9397d6\" style=\"stroke-miterlimit: 2; opacity: 1;\"><g class=\"fills\"/><g class=\"errorbars\"/><g class=\"lines\"><path class=\"js-line\" d=\"M0,108.52L9.82,55.29L18.7,34.18L28.52,18.38L38.03,74.79L47.85,101.62L57.36,104.06L77,48.74L86.51,59.97L96.33,51.15L105.84,100.14L115.66,66.68L125.49,125.91L134.36,108.87L144.18,136.04L153.69,117.79L163.51,91.31L173.02,134.33L182.84,129.64L192.67,120.62L202.17,213.02L212,227.83L221.5,199.84L231.33,215.39L241.15,182.12L260.17,281.2L269.67,275.29L279.5,269.15L289,236.46L298.83,216.67L308.65,211.39L318.16,195L327.98,185.59L337.49,193.35L347.31,173.95L357.13,192.81L366.01,175.6L375.83,176.6L385.34,173.07L395.16,172.07L404.67,173.86L414.49,179.41L424.31,161.91L433.82,132.08L443.64,109.26L453.15,120.3L462.97,86.5L472.8,130.33L481.67,111.82L491.49,137.01L501,243.6\" style=\"vector-effect: non-scaling-stroke; fill: none; stroke: rgb(239, 85, 59); stroke-opacity: 1; stroke-width: 2px; opacity: 1;\"/></g><g class=\"points\"/><g class=\"text\"/></g></g></g><g class=\"overplot\"/><path class=\"xlines-above crisp\" d=\"M0,0\" style=\"fill: none;\"/><path class=\"ylines-above crisp\" d=\"M0,0\" style=\"fill: none;\"/><g class=\"overlines-above\"/><g class=\"xaxislayer-above\"><g class=\"xtick\"><text text-anchor=\"start\" x=\"0\" y=\"409\" transform=\"translate(80,0) rotate(90,0,403)\" style=\"font-family: 'Open Sans', verdana, arial, sans-serif; font-size: 12px; fill: rgb(42, 63, 95); fill-opacity: 1; white-space: pre; opacity: 1;\">Jan-2018</text></g><g class=\"xtick\"><text text-anchor=\"start\" x=\"0\" y=\"409\" style=\"font-family: 'Open Sans', verdana, arial, sans-serif; font-size: 12px; fill: rgb(42, 63, 95); fill-opacity: 1; white-space: pre; opacity: 1;\" transform=\"translate(89.82,0) rotate(90,0,403)\">Feb-2018</text></g><g class=\"xtick\"><text text-anchor=\"start\" x=\"0\" y=\"409\" style=\"font-family: 'Open Sans', verdana, arial, sans-serif; font-size: 12px; fill: rgb(42, 63, 95); fill-opacity: 1; white-space: pre; opacity: 1;\" transform=\"translate(98.7,0) rotate(90,0,403)\">Mar-2018</text></g><g class=\"xtick\"><text text-anchor=\"start\" x=\"0\" y=\"409\" style=\"font-family: 'Open Sans', verdana, arial, sans-serif; font-size: 12px; fill: rgb(42, 63, 95); fill-opacity: 1; white-space: pre; opacity: 1;\" transform=\"translate(108.52,0) rotate(90,0,403)\">Apr-2018</text></g><g class=\"xtick\"><text text-anchor=\"start\" x=\"0\" y=\"409\" style=\"font-family: 'Open Sans', verdana, arial, sans-serif; font-size: 12px; fill: rgb(42, 63, 95); fill-opacity: 1; white-space: pre; opacity: 1;\" transform=\"translate(118.03,0) rotate(90,0,403)\">May-2018</text></g><g class=\"xtick\"><text text-anchor=\"start\" x=\"0\" y=\"409\" style=\"font-family: 'Open Sans', verdana, arial, sans-serif; font-size: 12px; fill: rgb(42, 63, 95); fill-opacity: 1; white-space: pre; opacity: 1;\" transform=\"translate(127.85,0) rotate(90,0,403)\">Jun-2018</text></g><g class=\"xtick\"><text text-anchor=\"start\" x=\"0\" y=\"409\" style=\"font-family: 'Open Sans', verdana, arial, sans-serif; font-size: 12px; fill: rgb(42, 63, 95); fill-opacity: 1; white-space: pre; opacity: 1;\" transform=\"translate(137.36,0) rotate(90,0,403)\">Jul-2018</text></g><g class=\"xtick\"><text text-anchor=\"start\" x=\"0\" y=\"409\" style=\"font-family: 'Open Sans', verdana, arial, sans-serif; font-size: 12px; fill: rgb(42, 63, 95); fill-opacity: 1; white-space: pre; opacity: 1;\" transform=\"translate(147.18,0) rotate(90,0,403)\">Aug-2018</text></g><g class=\"xtick\"><text text-anchor=\"start\" x=\"0\" y=\"409\" style=\"font-family: 'Open Sans', verdana, arial, sans-serif; font-size: 12px; fill: rgb(42, 63, 95); fill-opacity: 1; white-space: pre; opacity: 1;\" transform=\"translate(157,0) rotate(90,0,403)\">Sep-2018</text></g><g class=\"xtick\"><text text-anchor=\"start\" x=\"0\" y=\"409\" style=\"font-family: 'Open Sans', verdana, arial, sans-serif; font-size: 12px; fill: rgb(42, 63, 95); fill-opacity: 1; white-space: pre; opacity: 1;\" transform=\"translate(166.51,0) rotate(90,0,403)\">Oct-2018</text></g><g class=\"xtick\"><text text-anchor=\"start\" x=\"0\" y=\"409\" style=\"font-family: 'Open Sans', verdana, arial, sans-serif; font-size: 12px; fill: rgb(42, 63, 95); fill-opacity: 1; white-space: pre; opacity: 1;\" transform=\"translate(176.32999999999998,0) rotate(90,0,403)\">Nov-2018</text></g><g class=\"xtick\"><text text-anchor=\"start\" x=\"0\" y=\"409\" style=\"font-family: 'Open Sans', verdana, arial, sans-serif; font-size: 12px; fill: rgb(42, 63, 95); fill-opacity: 1; white-space: pre; opacity: 1;\" transform=\"translate(185.84,0) rotate(90,0,403)\">Dec-2018</text></g><g class=\"xtick\"><text text-anchor=\"start\" x=\"0\" y=\"409\" style=\"font-family: 'Open Sans', verdana, arial, sans-serif; font-size: 12px; fill: rgb(42, 63, 95); fill-opacity: 1; white-space: pre; opacity: 1;\" transform=\"translate(195.66,0) rotate(90,0,403)\">Jan-2019</text></g><g class=\"xtick\"><text text-anchor=\"start\" x=\"0\" y=\"409\" style=\"font-family: 'Open Sans', verdana, arial, sans-serif; font-size: 12px; fill: rgb(42, 63, 95); fill-opacity: 1; white-space: pre; opacity: 1;\" transform=\"translate(205.49,0) rotate(90,0,403)\">Feb-2019</text></g><g class=\"xtick\"><text text-anchor=\"start\" x=\"0\" y=\"409\" style=\"font-family: 'Open Sans', verdana, arial, sans-serif; font-size: 12px; fill: rgb(42, 63, 95); fill-opacity: 1; white-space: pre; opacity: 1;\" transform=\"translate(214.36,0) rotate(90,0,403)\">Mar-2019</text></g><g class=\"xtick\"><text text-anchor=\"start\" x=\"0\" y=\"409\" style=\"font-family: 'Open Sans', verdana, arial, sans-serif; font-size: 12px; fill: rgb(42, 63, 95); fill-opacity: 1; white-space: pre; opacity: 1;\" transform=\"translate(224.18,0) rotate(90,0,403)\">Apr-2019</text></g><g class=\"xtick\"><text text-anchor=\"start\" x=\"0\" y=\"409\" style=\"font-family: 'Open Sans', verdana, arial, sans-serif; font-size: 12px; fill: rgb(42, 63, 95); fill-opacity: 1; white-space: pre; opacity: 1;\" transform=\"translate(233.69,0) rotate(90,0,403)\">May-2019</text></g><g class=\"xtick\"><text text-anchor=\"start\" x=\"0\" y=\"409\" style=\"font-family: 'Open Sans', verdana, arial, sans-serif; font-size: 12px; fill: rgb(42, 63, 95); fill-opacity: 1; white-space: pre; opacity: 1;\" transform=\"translate(243.51,0) rotate(90,0,403)\">Jun-2019</text></g><g class=\"xtick\"><text text-anchor=\"start\" x=\"0\" y=\"409\" style=\"font-family: 'Open Sans', verdana, arial, sans-serif; font-size: 12px; fill: rgb(42, 63, 95); fill-opacity: 1; white-space: pre; opacity: 1;\" transform=\"translate(253.02,0) rotate(90,0,403)\">Jul-2019</text></g><g class=\"xtick\"><text text-anchor=\"start\" x=\"0\" y=\"409\" style=\"font-family: 'Open Sans', verdana, arial, sans-serif; font-size: 12px; fill: rgb(42, 63, 95); fill-opacity: 1; white-space: pre; opacity: 1;\" transform=\"translate(262.84000000000003,0) rotate(90,0,403)\">Aug-2019</text></g><g class=\"xtick\"><text text-anchor=\"start\" x=\"0\" y=\"409\" style=\"font-family: 'Open Sans', verdana, arial, sans-serif; font-size: 12px; fill: rgb(42, 63, 95); fill-opacity: 1; white-space: pre; opacity: 1;\" transform=\"translate(272.66999999999996,0) rotate(90,0,403)\">Sep-2019</text></g><g class=\"xtick\"><text text-anchor=\"start\" x=\"0\" y=\"409\" style=\"font-family: 'Open Sans', verdana, arial, sans-serif; font-size: 12px; fill: rgb(42, 63, 95); fill-opacity: 1; white-space: pre; opacity: 1;\" transform=\"translate(282.16999999999996,0) rotate(90,0,403)\">Oct-2019</text></g><g class=\"xtick\"><text text-anchor=\"start\" x=\"0\" y=\"409\" style=\"font-family: 'Open Sans', verdana, arial, sans-serif; font-size: 12px; fill: rgb(42, 63, 95); fill-opacity: 1; white-space: pre; opacity: 1;\" transform=\"translate(292,0) rotate(90,0,403)\">Nov-2019</text></g><g class=\"xtick\"><text text-anchor=\"start\" x=\"0\" y=\"409\" style=\"font-family: 'Open Sans', verdana, arial, sans-serif; font-size: 12px; fill: rgb(42, 63, 95); fill-opacity: 1; white-space: pre; opacity: 1;\" transform=\"translate(301.5,0) rotate(90,0,403)\">Dec-2019</text></g><g class=\"xtick\"><text text-anchor=\"start\" x=\"0\" y=\"409\" style=\"font-family: 'Open Sans', verdana, arial, sans-serif; font-size: 12px; fill: rgb(42, 63, 95); fill-opacity: 1; white-space: pre; opacity: 1;\" transform=\"translate(311.33000000000004,0) rotate(90,0,403)\">Jan-2020</text></g><g class=\"xtick\"><text text-anchor=\"start\" x=\"0\" y=\"409\" style=\"font-family: 'Open Sans', verdana, arial, sans-serif; font-size: 12px; fill: rgb(42, 63, 95); fill-opacity: 1; white-space: pre; opacity: 1;\" transform=\"translate(321.15,0) rotate(90,0,403)\">Feb-2020</text></g><g class=\"xtick\"><text text-anchor=\"start\" x=\"0\" y=\"409\" style=\"font-family: 'Open Sans', verdana, arial, sans-serif; font-size: 12px; fill: rgb(42, 63, 95); fill-opacity: 1; white-space: pre; opacity: 1;\" transform=\"translate(330.34000000000003,0) rotate(90,0,403)\">Mar-2020</text></g><g class=\"xtick\"><text text-anchor=\"start\" x=\"0\" y=\"409\" style=\"font-family: 'Open Sans', verdana, arial, sans-serif; font-size: 12px; fill: rgb(42, 63, 95); fill-opacity: 1; white-space: pre; opacity: 1;\" transform=\"translate(340.17,0) rotate(90,0,403)\">Apr-2020</text></g><g class=\"xtick\"><text text-anchor=\"start\" x=\"0\" y=\"409\" style=\"font-family: 'Open Sans', verdana, arial, sans-serif; font-size: 12px; fill: rgb(42, 63, 95); fill-opacity: 1; white-space: pre; opacity: 1;\" transform=\"translate(349.67,0) rotate(90,0,403)\">May-2020</text></g><g class=\"xtick\"><text text-anchor=\"start\" x=\"0\" y=\"409\" style=\"font-family: 'Open Sans', verdana, arial, sans-serif; font-size: 12px; fill: rgb(42, 63, 95); fill-opacity: 1; white-space: pre; opacity: 1;\" transform=\"translate(359.5,0) rotate(90,0,403)\">Jun-2020</text></g><g class=\"xtick\"><text text-anchor=\"start\" x=\"0\" y=\"409\" style=\"font-family: 'Open Sans', verdana, arial, sans-serif; font-size: 12px; fill: rgb(42, 63, 95); fill-opacity: 1; white-space: pre; opacity: 1;\" transform=\"translate(369,0) rotate(90,0,403)\">Jul-2020</text></g><g class=\"xtick\"><text text-anchor=\"start\" x=\"0\" y=\"409\" style=\"font-family: 'Open Sans', verdana, arial, sans-serif; font-size: 12px; fill: rgb(42, 63, 95); fill-opacity: 1; white-space: pre; opacity: 1;\" transform=\"translate(378.83,0) rotate(90,0,403)\">Aug-2020</text></g><g class=\"xtick\"><text text-anchor=\"start\" x=\"0\" y=\"409\" style=\"font-family: 'Open Sans', verdana, arial, sans-serif; font-size: 12px; fill: rgb(42, 63, 95); fill-opacity: 1; white-space: pre; opacity: 1;\" transform=\"translate(388.65,0) rotate(90,0,403)\">Sep-2020</text></g><g class=\"xtick\"><text text-anchor=\"start\" x=\"0\" y=\"409\" style=\"font-family: 'Open Sans', verdana, arial, sans-serif; font-size: 12px; fill: rgb(42, 63, 95); fill-opacity: 1; white-space: pre; opacity: 1;\" transform=\"translate(398.16,0) rotate(90,0,403)\">Oct-2020</text></g><g class=\"xtick\"><text text-anchor=\"start\" x=\"0\" y=\"409\" style=\"font-family: 'Open Sans', verdana, arial, sans-serif; font-size: 12px; fill: rgb(42, 63, 95); fill-opacity: 1; white-space: pre; opacity: 1;\" transform=\"translate(407.98,0) rotate(90,0,403)\">Nov-2020</text></g><g class=\"xtick\"><text text-anchor=\"start\" x=\"0\" y=\"409\" style=\"font-family: 'Open Sans', verdana, arial, sans-serif; font-size: 12px; fill: rgb(42, 63, 95); fill-opacity: 1; white-space: pre; opacity: 1;\" transform=\"translate(417.49,0) rotate(90,0,403)\">Dec-2020</text></g><g class=\"xtick\"><text text-anchor=\"start\" x=\"0\" y=\"409\" style=\"font-family: 'Open Sans', verdana, arial, sans-serif; font-size: 12px; fill: rgb(42, 63, 95); fill-opacity: 1; white-space: pre; opacity: 1;\" transform=\"translate(427.31,0) rotate(90,0,403)\">Jan-2021</text></g><g class=\"xtick\"><text text-anchor=\"start\" x=\"0\" y=\"409\" style=\"font-family: 'Open Sans', verdana, arial, sans-serif; font-size: 12px; fill: rgb(42, 63, 95); fill-opacity: 1; white-space: pre; opacity: 1;\" transform=\"translate(437.13,0) rotate(90,0,403)\">Feb-2021</text></g><g class=\"xtick\"><text text-anchor=\"start\" x=\"0\" y=\"409\" style=\"font-family: 'Open Sans', verdana, arial, sans-serif; font-size: 12px; fill: rgb(42, 63, 95); fill-opacity: 1; white-space: pre; opacity: 1;\" transform=\"translate(446.01,0) rotate(90,0,403)\">Mar-2021</text></g><g class=\"xtick\"><text text-anchor=\"start\" x=\"0\" y=\"409\" style=\"font-family: 'Open Sans', verdana, arial, sans-serif; font-size: 12px; fill: rgb(42, 63, 95); fill-opacity: 1; white-space: pre; opacity: 1;\" transform=\"translate(455.83,0) rotate(90,0,403)\">Apr-2021</text></g><g class=\"xtick\"><text text-anchor=\"start\" x=\"0\" y=\"409\" style=\"font-family: 'Open Sans', verdana, arial, sans-serif; font-size: 12px; fill: rgb(42, 63, 95); fill-opacity: 1; white-space: pre; opacity: 1;\" transform=\"translate(465.34,0) rotate(90,0,403)\">May-2021</text></g><g class=\"xtick\"><text text-anchor=\"start\" x=\"0\" y=\"409\" style=\"font-family: 'Open Sans', verdana, arial, sans-serif; font-size: 12px; fill: rgb(42, 63, 95); fill-opacity: 1; white-space: pre; opacity: 1;\" transform=\"translate(475.16,0) rotate(90,0,403)\">Jun-2021</text></g><g class=\"xtick\"><text text-anchor=\"start\" x=\"0\" y=\"409\" style=\"font-family: 'Open Sans', verdana, arial, sans-serif; font-size: 12px; fill: rgb(42, 63, 95); fill-opacity: 1; white-space: pre; opacity: 1;\" transform=\"translate(484.67,0) rotate(90,0,403)\">Jul-2021</text></g><g class=\"xtick\"><text text-anchor=\"start\" x=\"0\" y=\"409\" style=\"font-family: 'Open Sans', verdana, arial, sans-serif; font-size: 12px; fill: rgb(42, 63, 95); fill-opacity: 1; white-space: pre; opacity: 1;\" transform=\"translate(494.49,0) rotate(90,0,403)\">Aug-2021</text></g><g class=\"xtick\"><text text-anchor=\"start\" x=\"0\" y=\"409\" style=\"font-family: 'Open Sans', verdana, arial, sans-serif; font-size: 12px; fill: rgb(42, 63, 95); fill-opacity: 1; white-space: pre; opacity: 1;\" transform=\"translate(504.31,0) rotate(90,0,403)\">Sep-2021</text></g><g class=\"xtick\"><text text-anchor=\"start\" x=\"0\" y=\"409\" style=\"font-family: 'Open Sans', verdana, arial, sans-serif; font-size: 12px; fill: rgb(42, 63, 95); fill-opacity: 1; white-space: pre; opacity: 1;\" transform=\"translate(513.8199999999999,0) rotate(90,0,403)\">Oct-2021</text></g><g class=\"xtick\"><text text-anchor=\"start\" x=\"0\" y=\"409\" style=\"font-family: 'Open Sans', verdana, arial, sans-serif; font-size: 12px; fill: rgb(42, 63, 95); fill-opacity: 1; white-space: pre; opacity: 1;\" transform=\"translate(523.64,0) rotate(90,0,403)\">Nov-2021</text></g><g class=\"xtick\"><text text-anchor=\"start\" x=\"0\" y=\"409\" style=\"font-family: 'Open Sans', verdana, arial, sans-serif; font-size: 12px; fill: rgb(42, 63, 95); fill-opacity: 1; white-space: pre; opacity: 1;\" transform=\"translate(533.15,0) rotate(90,0,403)\">Dec-2021</text></g><g class=\"xtick\"><text text-anchor=\"start\" x=\"0\" y=\"409\" style=\"font-family: 'Open Sans', verdana, arial, sans-serif; font-size: 12px; fill: rgb(42, 63, 95); fill-opacity: 1; white-space: pre; opacity: 1;\" transform=\"translate(542.97,0) rotate(90,0,403)\">Jan-2022</text></g><g class=\"xtick\"><text text-anchor=\"start\" x=\"0\" y=\"409\" style=\"font-family: 'Open Sans', verdana, arial, sans-serif; font-size: 12px; fill: rgb(42, 63, 95); fill-opacity: 1; white-space: pre; opacity: 1;\" transform=\"translate(552.8,0) rotate(90,0,403)\">Feb-2022</text></g><g class=\"xtick\"><text text-anchor=\"start\" x=\"0\" y=\"409\" style=\"font-family: 'Open Sans', verdana, arial, sans-serif; font-size: 12px; fill: rgb(42, 63, 95); fill-opacity: 1; white-space: pre; opacity: 1;\" transform=\"translate(561.6700000000001,0) rotate(90,0,403)\">Mar-2022</text></g><g class=\"xtick\"><text text-anchor=\"start\" x=\"0\" y=\"409\" style=\"font-family: 'Open Sans', verdana, arial, sans-serif; font-size: 12px; fill: rgb(42, 63, 95); fill-opacity: 1; white-space: pre; opacity: 1;\" transform=\"translate(571.49,0) rotate(90,0,403)\">Apr-2022</text></g><g class=\"xtick\"><text text-anchor=\"start\" x=\"0\" y=\"409\" style=\"font-family: 'Open Sans', verdana, arial, sans-serif; font-size: 12px; fill: rgb(42, 63, 95); fill-opacity: 1; white-space: pre; opacity: 1;\" transform=\"translate(581,0) rotate(90,0,403)\">May-2022</text></g></g><g class=\"yaxislayer-above\"><g class=\"ytick\"><text text-anchor=\"end\" x=\"79\" y=\"4.199999999999999\" transform=\"translate(0,335.68)\" style=\"font-family: 'Open Sans', verdana, arial, sans-serif; font-size: 12px; fill: rgb(42, 63, 95); fill-opacity: 1; white-space: pre; opacity: 1;\">100k</text></g><g class=\"ytick\"><text text-anchor=\"end\" x=\"79\" y=\"4.199999999999999\" style=\"font-family: 'Open Sans', verdana, arial, sans-serif; font-size: 12px; fill: rgb(42, 63, 95); fill-opacity: 1; white-space: pre; opacity: 1;\" transform=\"translate(0,266.69)\">200k</text></g><g class=\"ytick\"><text text-anchor=\"end\" x=\"79\" y=\"4.199999999999999\" style=\"font-family: 'Open Sans', verdana, arial, sans-serif; font-size: 12px; fill: rgb(42, 63, 95); fill-opacity: 1; white-space: pre; opacity: 1;\" transform=\"translate(0,197.7)\">300k</text></g><g class=\"ytick\"><text text-anchor=\"end\" x=\"79\" y=\"4.199999999999999\" style=\"font-family: 'Open Sans', verdana, arial, sans-serif; font-size: 12px; fill: rgb(42, 63, 95); fill-opacity: 1; white-space: pre; opacity: 1;\" transform=\"translate(0,128.72)\">400k</text></g></g><g class=\"overaxes-above\"/></g></g><g class=\"polarlayer\"/><g class=\"smithlayer\"/><g class=\"ternarylayer\"/><g class=\"geolayer\"/><g class=\"funnelarealayer\"/><g class=\"pielayer\"/><g class=\"iciclelayer\"/><g class=\"treemaplayer\"/><g class=\"sunburstlayer\"/><g class=\"glimages\"/><defs id=\"topdefs-175ee0\"><g class=\"clips\"/><clipPath id=\"legend175ee0\"><rect width=\"97\" height=\"67\" x=\"0\" y=\"0\"/></clipPath></defs><g class=\"layer-above\"><g class=\"imagelayer\"/><g class=\"shapelayer\"/></g><g class=\"infolayer\"><g class=\"legend\" pointer-events=\"all\" transform=\"translate(591.02,100)\"><rect class=\"bg\" shape-rendering=\"crispEdges\" width=\"97\" height=\"67\" x=\"0\" y=\"0\" style=\"stroke: rgb(68, 68, 68); stroke-opacity: 1; fill: rgb(255, 255, 255); fill-opacity: 1; stroke-width: 0px;\"/><g class=\"scrollbox\" transform=\"\" clip-path=\"url(#legend175ee0)\"><text class=\"legendtitletext\" text-anchor=\"start\" x=\"2\" y=\"18.2\" style=\"font-family: 'Open Sans', verdana, arial, sans-serif; font-size: 14px; fill: rgb(42, 63, 95); fill-opacity: 1; white-space: pre;\">Sector</text><g class=\"groups\" transform=\"\"><g class=\"traces\" transform=\"translate(0,32.7)\" style=\"opacity: 1;\"><text class=\"legendtext\" text-anchor=\"start\" x=\"40\" y=\"4.680000000000001\" style=\"font-family: 'Open Sans', verdana, arial, sans-serif; font-size: 12px; fill: rgb(42, 63, 95); fill-opacity: 1; white-space: pre;\">PRIVATE</text><g class=\"layers\" style=\"opacity: 1;\"><g class=\"legendfill\"/><g class=\"legendlines\"><path class=\"js-line\" d=\"M5,0h30\" style=\"fill: none; stroke: rgb(99, 110, 250); stroke-opacity: 1; stroke-width: 2px;\"/></g><g class=\"legendsymbols\"><g class=\"legendpoints\"/></g></g><rect class=\"legendtoggle\" x=\"0\" y=\"-9.5\" width=\"91.390625\" height=\"19\" style=\"fill: rgb(0, 0, 0); fill-opacity: 0;\"/></g></g><g class=\"groups\" transform=\"\"><g class=\"traces\" transform=\"translate(0,51.7)\" style=\"opacity: 1;\"><text class=\"legendtext\" text-anchor=\"start\" x=\"40\" y=\"4.680000000000001\" style=\"font-family: 'Open Sans', verdana, arial, sans-serif; font-size: 12px; fill: rgb(42, 63, 95); fill-opacity: 1; white-space: pre;\">PUBLIC</text><g class=\"layers\" style=\"opacity: 1;\"><g class=\"legendfill\"/><g class=\"legendlines\"><path class=\"js-line\" d=\"M5,0h30\" style=\"fill: none; stroke: rgb(239, 85, 59); stroke-opacity: 1; stroke-width: 2px;\"/></g><g class=\"legendsymbols\"><g class=\"legendpoints\"/></g></g><rect class=\"legendtoggle\" x=\"0\" y=\"-9.5\" width=\"91.390625\" height=\"19\" style=\"fill: rgb(0, 0, 0); fill-opacity: 0;\"/></g></g></g><rect class=\"scrollbar\" rx=\"20\" ry=\"3\" width=\"0\" height=\"0\" x=\"0\" y=\"0\" style=\"fill: rgb(128, 139, 164); fill-opacity: 1;\"/></g><g class=\"g-gtitle\"><text class=\"gtitle\" x=\"35\" y=\"50\" text-anchor=\"start\" dy=\"0em\" style=\"font-family: 'Open Sans', verdana, arial, sans-serif; font-size: 17px; fill: rgb(42, 63, 95); opacity: 1; font-weight: normal; white-space: pre;\">Total People Served to Category II</text></g><g class=\"g-xtitle\"><text class=\"xtitle\" x=\"330.5\" y=\"488.2375\" text-anchor=\"middle\" style=\"font-family: 'Open Sans', verdana, arial, sans-serif; font-size: 14px; fill: rgb(42, 63, 95); opacity: 1; font-weight: normal; white-space: pre;\">Date</text></g><g class=\"g-ytitle\"><text class=\"ytitle\" transform=\"rotate(-90,24.200000000000003,248)\" x=\"24.200000000000003\" y=\"248\" text-anchor=\"middle\" style=\"font-family: 'Open Sans', verdana, arial, sans-serif; font-size: 14px; fill: rgb(42, 63, 95); opacity: 1; font-weight: normal; white-space: pre;\">Hospitals (qty)</text></g></g></svg>"
      ]
     },
     "metadata": {},
     "output_type": "display_data"
    }
   ],
   "source": [
    "data_temp = hospitals_df_hc.pivot_table(index=['DATE'],\n",
    "                                        columns=['SECTOR_R'],\n",
    "                                        values='QTY_PEOPLE_SERVED').fillna(0)\n",
    "data_temp = data_temp.reset_index().rename_axis(None, axis=1)\n",
    "\n",
    "# FIGURA\n",
    "columns_name = list(data_temp.columns)[1:]\n",
    "fig = px.line(data_temp, \n",
    "              x=\"DATE\", \n",
    "              y=columns_name,\n",
    "              hover_data={\"DATE\": \"|%Y %b\"},\n",
    "              labels={\n",
    "                  \"value\": \"Hospitals (qty)\",\n",
    "                  \"DATE\": \"Date\",\n",
    "                  \"variable\": \"Sector\"\n",
    "              },\n",
    "              title='Total People Served to Category ' + TAG_CATEGORY)\n",
    "\n",
    "fig.update_xaxes(\n",
    "    dtick=\"M1\",\n",
    "    tickformat=\"%b-%Y\")\n",
    "\n",
    "fig.show(renderer=\"svg\")\n",
    "#fig.show()\n"
   ]
  },
  {
   "cell_type": "markdown",
   "id": "c212110e",
   "metadata": {},
   "source": [
    "### Base line codes hospitals\n"
   ]
  },
  {
   "cell_type": "code",
   "execution_count": 128,
   "id": "8983f6cf",
   "metadata": {},
   "outputs": [],
   "source": [
    "# start_date = '2019-01-01'\n",
    "# end_date = '2019-09-01'\n",
    "\n",
    "data_temp = hospitals_list_df_hc[(hospitals_list_df_hc['CATEGORY2']==TAG_CATEGORY)].reset_index(drop=True)\n",
    "#data_temp = data_temp[(data_temp['DATE'] >= start_date) & (data_temp['DATE'] < end_date)].reset_index(drop=True)\n",
    "del data_temp['CATEGORY2']\n",
    "\n",
    "# Qty of hospitals per date/sector/sex\n",
    "dates_hospital_df_hc = []\n",
    "for date in set(data_temp['DATE']):\n",
    "    for sector in set(data_temp['SECTOR_R']):\n",
    "        df_temp = data_temp[(data_temp['DATE']==date) & (data_temp['SECTOR_R']==sector)]\n",
    "        try: female = set(df_temp.iloc[0,3])\n",
    "        except: female = set()\n",
    "        try: male = set(df_temp.iloc[1,3])\n",
    "        except: male = set()\n",
    "        intersection = male & female\n",
    "        union = male | female\n",
    "        diference = male ^ female\n",
    "        only_female = list(female - male)\n",
    "        only_male =  list(male - female)\n",
    "        abc = [date, sector, len(female), len(male), len(intersection), len(union), len(diference)]\n",
    "        dates_hospital_df_hc.append(abc)\n",
    "        \n",
    "dates_hospital_df_hc = pd.DataFrame(dates_hospital_df_hc, columns = ['DATE', 'SECTOR_R', 'FEMALE_HC', 'MALE_HC','INTER_HC', 'UNION_HC', 'DIFFERENCE_HC'])\n",
    "dates_hospital_df_hc = dates_hospital_df_hc.sort_values(by=['DATE', 'SECTOR_R'], ascending=True)\n",
    "\n",
    "# Qty of people per date/sector/hospital/sex\n",
    "data_temp = people_df_hc[(people_df_hc['CATEGORY2']==TAG_CATEGORY)].reset_index(drop=True)\n",
    "#data_temp = data_temp[(data_temp['DATE'] >= start_date) & (data_temp['DATE'] < end_date)].reset_index(drop=True)\n",
    "del data_temp['CATEGORY2']\n",
    "data_temp = data_temp.sort_values(by=['DATE', 'SECTOR_R','CO_IPRESS', 'SEX'], ascending=True)\n",
    "data_temp = data_temp.groupby(['DATE', 'SECTOR_R',\n",
    "                               'SEX']).agg(PEOPLE_SERVED_HC=('PEOPLE_SERVED', 'sum'),\n",
    "                                           UNIQUE_DIAGNOSIS_HC=('UNIQUE_DIAGNOSIS', 'sum'),\n",
    "                                           TOTAL_DIAGNOSIS_HC=('TOTAL_DIAGNOSIS', 'sum'))\n",
    "data_temp = data_temp.reset_index()"
   ]
  },
  {
   "cell_type": "code",
   "execution_count": 129,
   "id": "d6fe4a76",
   "metadata": {},
   "outputs": [
    {
     "data": {
      "text/html": [
       "<div>\n",
       "<style scoped>\n",
       "    .dataframe tbody tr th:only-of-type {\n",
       "        vertical-align: middle;\n",
       "    }\n",
       "\n",
       "    .dataframe tbody tr th {\n",
       "        vertical-align: top;\n",
       "    }\n",
       "\n",
       "    .dataframe thead th {\n",
       "        text-align: right;\n",
       "    }\n",
       "</style>\n",
       "<table border=\"1\" class=\"dataframe\">\n",
       "  <thead>\n",
       "    <tr style=\"text-align: right;\">\n",
       "      <th></th>\n",
       "      <th>DATE</th>\n",
       "      <th>SECTOR_R</th>\n",
       "      <th>FEMALE_HC</th>\n",
       "      <th>MALE_HC</th>\n",
       "      <th>INTER_HC</th>\n",
       "      <th>UNION_HC</th>\n",
       "      <th>DIFFERENCE_HC</th>\n",
       "    </tr>\n",
       "  </thead>\n",
       "  <tbody>\n",
       "    <tr>\n",
       "      <th>48</th>\n",
       "      <td>2018-01-01</td>\n",
       "      <td>PRIVATE</td>\n",
       "      <td>18</td>\n",
       "      <td>18</td>\n",
       "      <td>18</td>\n",
       "      <td>18</td>\n",
       "      <td>0</td>\n",
       "    </tr>\n",
       "    <tr>\n",
       "      <th>49</th>\n",
       "      <td>2018-01-01</td>\n",
       "      <td>PUBLIC</td>\n",
       "      <td>17</td>\n",
       "      <td>17</td>\n",
       "      <td>17</td>\n",
       "      <td>17</td>\n",
       "      <td>0</td>\n",
       "    </tr>\n",
       "    <tr>\n",
       "      <th>68</th>\n",
       "      <td>2018-02-01</td>\n",
       "      <td>PRIVATE</td>\n",
       "      <td>18</td>\n",
       "      <td>18</td>\n",
       "      <td>18</td>\n",
       "      <td>18</td>\n",
       "      <td>0</td>\n",
       "    </tr>\n",
       "    <tr>\n",
       "      <th>69</th>\n",
       "      <td>2018-02-01</td>\n",
       "      <td>PUBLIC</td>\n",
       "      <td>17</td>\n",
       "      <td>17</td>\n",
       "      <td>17</td>\n",
       "      <td>17</td>\n",
       "      <td>0</td>\n",
       "    </tr>\n",
       "    <tr>\n",
       "      <th>16</th>\n",
       "      <td>2018-03-01</td>\n",
       "      <td>PRIVATE</td>\n",
       "      <td>18</td>\n",
       "      <td>18</td>\n",
       "      <td>18</td>\n",
       "      <td>18</td>\n",
       "      <td>0</td>\n",
       "    </tr>\n",
       "  </tbody>\n",
       "</table>\n",
       "</div>"
      ],
      "text/plain": [
       "         DATE SECTOR_R  FEMALE_HC  MALE_HC  INTER_HC  UNION_HC  DIFFERENCE_HC\n",
       "48 2018-01-01  PRIVATE         18       18        18        18              0\n",
       "49 2018-01-01   PUBLIC         17       17        17        17              0\n",
       "68 2018-02-01  PRIVATE         18       18        18        18              0\n",
       "69 2018-02-01   PUBLIC         17       17        17        17              0\n",
       "16 2018-03-01  PRIVATE         18       18        18        18              0"
      ]
     },
     "execution_count": 129,
     "metadata": {},
     "output_type": "execute_result"
    }
   ],
   "source": [
    "dates_hospital_df_hc.head()"
   ]
  },
  {
   "cell_type": "code",
   "execution_count": 130,
   "id": "a7d1a893",
   "metadata": {
    "scrolled": true
   },
   "outputs": [
    {
     "data": {
      "text/html": [
       "<div>\n",
       "<style scoped>\n",
       "    .dataframe tbody tr th:only-of-type {\n",
       "        vertical-align: middle;\n",
       "    }\n",
       "\n",
       "    .dataframe tbody tr th {\n",
       "        vertical-align: top;\n",
       "    }\n",
       "\n",
       "    .dataframe thead th {\n",
       "        text-align: right;\n",
       "    }\n",
       "</style>\n",
       "<table border=\"1\" class=\"dataframe\">\n",
       "  <thead>\n",
       "    <tr style=\"text-align: right;\">\n",
       "      <th></th>\n",
       "      <th>DATE</th>\n",
       "      <th>SECTOR_R</th>\n",
       "      <th>SEX</th>\n",
       "      <th>PEOPLE_SERVED_HC</th>\n",
       "      <th>UNIQUE_DIAGNOSIS_HC</th>\n",
       "      <th>TOTAL_DIAGNOSIS_HC</th>\n",
       "    </tr>\n",
       "  </thead>\n",
       "  <tbody>\n",
       "    <tr>\n",
       "      <th>0</th>\n",
       "      <td>2018-01-01</td>\n",
       "      <td>PRIVATE</td>\n",
       "      <td>F</td>\n",
       "      <td>175709</td>\n",
       "      <td>18858</td>\n",
       "      <td>66353</td>\n",
       "    </tr>\n",
       "    <tr>\n",
       "      <th>1</th>\n",
       "      <td>2018-01-01</td>\n",
       "      <td>PRIVATE</td>\n",
       "      <td>M</td>\n",
       "      <td>121956</td>\n",
       "      <td>16297</td>\n",
       "      <td>53810</td>\n",
       "    </tr>\n",
       "    <tr>\n",
       "      <th>2</th>\n",
       "      <td>2018-01-01</td>\n",
       "      <td>PUBLIC</td>\n",
       "      <td>F</td>\n",
       "      <td>172367</td>\n",
       "      <td>15261</td>\n",
       "      <td>55569</td>\n",
       "    </tr>\n",
       "    <tr>\n",
       "      <th>3</th>\n",
       "      <td>2018-01-01</td>\n",
       "      <td>PUBLIC</td>\n",
       "      <td>M</td>\n",
       "      <td>111950</td>\n",
       "      <td>12751</td>\n",
       "      <td>41516</td>\n",
       "    </tr>\n",
       "    <tr>\n",
       "      <th>4</th>\n",
       "      <td>2018-02-01</td>\n",
       "      <td>PRIVATE</td>\n",
       "      <td>F</td>\n",
       "      <td>204267</td>\n",
       "      <td>19655</td>\n",
       "      <td>81594</td>\n",
       "    </tr>\n",
       "  </tbody>\n",
       "</table>\n",
       "</div>"
      ],
      "text/plain": [
       "        DATE SECTOR_R SEX  PEOPLE_SERVED_HC  UNIQUE_DIAGNOSIS_HC  \\\n",
       "0 2018-01-01  PRIVATE   F            175709                18858   \n",
       "1 2018-01-01  PRIVATE   M            121956                16297   \n",
       "2 2018-01-01   PUBLIC   F            172367                15261   \n",
       "3 2018-01-01   PUBLIC   M            111950                12751   \n",
       "4 2018-02-01  PRIVATE   F            204267                19655   \n",
       "\n",
       "   TOTAL_DIAGNOSIS_HC  \n",
       "0               66353  \n",
       "1               53810  \n",
       "2               55569  \n",
       "3               41516  \n",
       "4               81594  "
      ]
     },
     "execution_count": 130,
     "metadata": {},
     "output_type": "execute_result"
    }
   ],
   "source": [
    "data_temp.head()"
   ]
  },
  {
   "cell_type": "code",
   "execution_count": 131,
   "id": "5156a04f",
   "metadata": {
    "scrolled": true
   },
   "outputs": [],
   "source": [
    "normalized_df_hc = pd.merge(pre_normalized_df,\n",
    "                            data_temp[['DATE','SECTOR_R','SEX','PEOPLE_SERVED_HC']], \n",
    "                            how='left',\n",
    "                            on=('DATE','SECTOR_R','SEX'))\n",
    "\n",
    "normalized_df_hc = pd.merge(normalized_df_hc,\n",
    "                            dates_hospital_df_hc[['DATE','SECTOR_R','INTER_HC']],\n",
    "                            how='left',\n",
    "                            on=('DATE','SECTOR_R'))\n",
    "\n",
    "# normalized_df_hc.head()"
   ]
  },
  {
   "cell_type": "code",
   "execution_count": 132,
   "id": "abd4d976",
   "metadata": {},
   "outputs": [
    {
     "data": {
      "text/html": [
       "<div>\n",
       "<style scoped>\n",
       "    .dataframe tbody tr th:only-of-type {\n",
       "        vertical-align: middle;\n",
       "    }\n",
       "\n",
       "    .dataframe tbody tr th {\n",
       "        vertical-align: top;\n",
       "    }\n",
       "\n",
       "    .dataframe thead th {\n",
       "        text-align: right;\n",
       "    }\n",
       "</style>\n",
       "<table border=\"1\" class=\"dataframe\">\n",
       "  <thead>\n",
       "    <tr style=\"text-align: right;\">\n",
       "      <th></th>\n",
       "      <th>DATE</th>\n",
       "      <th>SECTOR_R</th>\n",
       "      <th>SEX</th>\n",
       "      <th>PEOPLE_SERVED</th>\n",
       "      <th>UNIQUE_DIAGNOSIS</th>\n",
       "      <th>TOTAL_DIAGNOSIS</th>\n",
       "      <th>INTER</th>\n",
       "      <th>PEOPLE_SERVED_HC</th>\n",
       "      <th>INTER_HC</th>\n",
       "    </tr>\n",
       "  </thead>\n",
       "  <tbody>\n",
       "    <tr>\n",
       "      <th>0</th>\n",
       "      <td>2018-01-01</td>\n",
       "      <td>PRIVATE</td>\n",
       "      <td>F</td>\n",
       "      <td>326055</td>\n",
       "      <td>33442</td>\n",
       "      <td>111206</td>\n",
       "      <td>103</td>\n",
       "      <td>175709</td>\n",
       "      <td>18</td>\n",
       "    </tr>\n",
       "    <tr>\n",
       "      <th>1</th>\n",
       "      <td>2018-01-01</td>\n",
       "      <td>PRIVATE</td>\n",
       "      <td>M</td>\n",
       "      <td>214776</td>\n",
       "      <td>28182</td>\n",
       "      <td>87431</td>\n",
       "      <td>103</td>\n",
       "      <td>121956</td>\n",
       "      <td>18</td>\n",
       "    </tr>\n",
       "    <tr>\n",
       "      <th>2</th>\n",
       "      <td>2018-01-01</td>\n",
       "      <td>PUBLIC</td>\n",
       "      <td>F</td>\n",
       "      <td>196104</td>\n",
       "      <td>18104</td>\n",
       "      <td>65889</td>\n",
       "      <td>20</td>\n",
       "      <td>172367</td>\n",
       "      <td>17</td>\n",
       "    </tr>\n",
       "    <tr>\n",
       "      <th>3</th>\n",
       "      <td>2018-01-01</td>\n",
       "      <td>PUBLIC</td>\n",
       "      <td>M</td>\n",
       "      <td>124759</td>\n",
       "      <td>15053</td>\n",
       "      <td>48456</td>\n",
       "      <td>20</td>\n",
       "      <td>111950</td>\n",
       "      <td>17</td>\n",
       "    </tr>\n",
       "    <tr>\n",
       "      <th>4</th>\n",
       "      <td>2018-02-01</td>\n",
       "      <td>PRIVATE</td>\n",
       "      <td>F</td>\n",
       "      <td>362204</td>\n",
       "      <td>34162</td>\n",
       "      <td>133539</td>\n",
       "      <td>102</td>\n",
       "      <td>204267</td>\n",
       "      <td>18</td>\n",
       "    </tr>\n",
       "  </tbody>\n",
       "</table>\n",
       "</div>"
      ],
      "text/plain": [
       "        DATE SECTOR_R SEX  PEOPLE_SERVED  UNIQUE_DIAGNOSIS  TOTAL_DIAGNOSIS  \\\n",
       "0 2018-01-01  PRIVATE   F         326055             33442           111206   \n",
       "1 2018-01-01  PRIVATE   M         214776             28182            87431   \n",
       "2 2018-01-01   PUBLIC   F         196104             18104            65889   \n",
       "3 2018-01-01   PUBLIC   M         124759             15053            48456   \n",
       "4 2018-02-01  PRIVATE   F         362204             34162           133539   \n",
       "\n",
       "   INTER  PEOPLE_SERVED_HC  INTER_HC  \n",
       "0    103            175709        18  \n",
       "1    103            121956        18  \n",
       "2     20            172367        17  \n",
       "3     20            111950        17  \n",
       "4    102            204267        18  "
      ]
     },
     "execution_count": 132,
     "metadata": {},
     "output_type": "execute_result"
    }
   ],
   "source": [
    "normalized_df_hc.head()"
   ]
  },
  {
   "cell_type": "code",
   "execution_count": 133,
   "id": "6375f9e3",
   "metadata": {},
   "outputs": [],
   "source": [
    "('jkn CAMBIAR')\n",
    "#normalized_df_hc['PEOPLE_SERVED_NORMALIZED'] = normalized_df_hc['PEOPLE_SERVED'] / normalized_df_hc['INTER_HC']\n",
    "normalized_df_hc['PEOPLE_SERVED_NORMALIZED'] = normalized_df_hc['PEOPLE_SERVED_HC'] / normalized_df_hc['INTER_HC']\n",
    "# normalized_df_hc['UNIQUE_DIAGNOSIS_NORMALIZED'] = normalized_df_hc['UNIQUE_DIAGNOSIS'] / normalized_df_hc[PARAMS]\n",
    "# normalized_df_hc['TOTAL_DIAGNOSIS_NORMALIZED'] = normalized_df_hc['TOTAL_DIAGNOSIS'] / normalized_df_hc[PARAMS]\n",
    "\n",
    "for a in set(normalized_df_hc.DATE):\n",
    "    for b in set(normalized_df_hc.SECTOR_R):\n",
    "        rest_temp_df = normalized_df_hc[(normalized_df_hc.DATE==a) & (normalized_df_hc.SECTOR_R==b)]\n",
    "        total_resumen = [a,\n",
    "                         b,\n",
    "                         'SEX_AVG',\n",
    "                         rest_temp_df['PEOPLE_SERVED'].mean(),\n",
    "                         rest_temp_df['UNIQUE_DIAGNOSIS'].mean(),\n",
    "                         rest_temp_df['TOTAL_DIAGNOSIS'].mean(),\n",
    "                         rest_temp_df['INTER'].mean(),\n",
    "                         rest_temp_df['PEOPLE_SERVED_HC'].mean(),\n",
    "                         rest_temp_df['INTER_HC'].mean(),\n",
    "#                          rest_temp_df['UNIQUE_DIAGNOSIS_NORMALIZED'].mean(),\n",
    "#                          rest_temp_df['TOTAL_DIAGNOSIS_NORMALIZED'].mean()\n",
    "                         rest_temp_df['PEOPLE_SERVED_NORMALIZED'].mean()\n",
    "                        ]\n",
    "        normalized_df_hc.loc[len(normalized_df_hc)] = total_resumen\n",
    "        \n",
    "for a in set(normalized_df_hc.DATE):\n",
    "    rest_temp_df = normalized_df_hc[(normalized_df_hc.DATE==a)]\n",
    "    total_resumen = [a,\n",
    "                     'TOTAL',\n",
    "                     'SECTOR_AVG',\n",
    "                     rest_temp_df['PEOPLE_SERVED'].mean(),\n",
    "                     rest_temp_df['UNIQUE_DIAGNOSIS'].mean(),\n",
    "                     rest_temp_df['TOTAL_DIAGNOSIS'].mean(),\n",
    "                     rest_temp_df[PARAMS].mean(),\n",
    "                     rest_temp_df['PEOPLE_SERVED_HC'].mean(),\n",
    "                     rest_temp_df['INTER_HC'].mean(),\n",
    "#                     rest_temp_df['UNIQUE_DIAGNOSIS_NORMALIZED'].mean(),\n",
    "#                     rest_temp_df['TOTAL_DIAGNOSIS_NORMALIZED'].mean()\n",
    "                     rest_temp_df['PEOPLE_SERVED_NORMALIZED'].mean()\n",
    "                    ]\n",
    "    normalized_df_hc.loc[len(normalized_df_hc)] = total_resumen\n",
    "                \n",
    "normalized_df_hc = normalized_df_hc.sort_values(by=['DATE', 'SECTOR_R', 'SEX'], ascending=False)   "
   ]
  },
  {
   "cell_type": "code",
   "execution_count": 134,
   "id": "f5911f63",
   "metadata": {},
   "outputs": [
    {
     "data": {
      "image/svg+xml": [
       "<svg class=\"main-svg\" xmlns=\"http://www.w3.org/2000/svg\" xmlns:xlink=\"http://www.w3.org/1999/xlink\" width=\"800\" height=\"500\" style=\"\" viewBox=\"0 0 800 500\"><rect x=\"0\" y=\"0\" width=\"800\" height=\"500\" style=\"fill: rgb(255, 255, 255); fill-opacity: 1;\"/><defs id=\"defs-f2686a\"><g class=\"clips\"><clipPath id=\"clipf2686axyplot\" class=\"plotclip\"><rect width=\"182.07999999999998\" height=\"320\"/></clipPath><clipPath id=\"clipf2686ax2y2plot\" class=\"plotclip\"><rect width=\"182.07999999999998\" height=\"320\"/></clipPath><clipPath id=\"clipf2686ax3y3plot\" class=\"plotclip\"><rect width=\"182.07999999999998\" height=\"320\"/></clipPath><clipPath class=\"axesclip\" id=\"clipf2686ax\"><rect x=\"80\" y=\"0\" width=\"182.07999999999998\" height=\"500\"/></clipPath><clipPath class=\"axesclip\" id=\"clipf2686ay\"><rect x=\"0\" y=\"100\" width=\"800\" height=\"320\"/></clipPath><clipPath class=\"axesclip\" id=\"clipf2686axy\"><rect x=\"80\" y=\"100\" width=\"182.07999999999998\" height=\"320\"/></clipPath><clipPath class=\"axesclip\" id=\"clipf2686ay2\"><rect x=\"0\" y=\"100\" width=\"800\" height=\"320\"/></clipPath><clipPath class=\"axesclip\" id=\"clipf2686axy2\"><rect x=\"80\" y=\"100\" width=\"182.07999999999998\" height=\"320\"/></clipPath><clipPath class=\"axesclip\" id=\"clipf2686ay3\"><rect x=\"0\" y=\"100\" width=\"800\" height=\"320\"/></clipPath><clipPath class=\"axesclip\" id=\"clipf2686axy3\"><rect x=\"80\" y=\"100\" width=\"182.07999999999998\" height=\"320\"/></clipPath><clipPath class=\"axesclip\" id=\"clipf2686ax2\"><rect x=\"273.46\" y=\"0\" width=\"182.07999999999998\" height=\"500\"/></clipPath><clipPath class=\"axesclip\" id=\"clipf2686ax2y\"><rect x=\"273.46\" y=\"100\" width=\"182.07999999999998\" height=\"320\"/></clipPath><clipPath class=\"axesclip\" id=\"clipf2686ax2y2\"><rect x=\"273.46\" y=\"100\" width=\"182.07999999999998\" height=\"320\"/></clipPath><clipPath class=\"axesclip\" id=\"clipf2686ax2y3\"><rect x=\"273.46\" y=\"100\" width=\"182.07999999999998\" height=\"320\"/></clipPath><clipPath class=\"axesclip\" id=\"clipf2686ax3\"><rect x=\"466.91999999999996\" y=\"0\" width=\"182.07999999999998\" height=\"500\"/></clipPath><clipPath class=\"axesclip\" id=\"clipf2686ax3y\"><rect x=\"466.91999999999996\" y=\"100\" width=\"182.07999999999998\" height=\"320\"/></clipPath><clipPath class=\"axesclip\" id=\"clipf2686ax3y2\"><rect x=\"466.91999999999996\" y=\"100\" width=\"182.07999999999998\" height=\"320\"/></clipPath><clipPath class=\"axesclip\" id=\"clipf2686ax3y3\"><rect x=\"466.91999999999996\" y=\"100\" width=\"182.07999999999998\" height=\"320\"/></clipPath></g><g class=\"gradients\"/><g class=\"patterns\"/></defs><g class=\"bglayer\"><rect class=\"bg\" x=\"80\" y=\"100\" width=\"182.07999999999998\" height=\"320\" style=\"fill: rgb(229, 236, 246); fill-opacity: 1; stroke-width: 0;\"/><rect class=\"bg\" x=\"273.46\" y=\"100\" width=\"182.07999999999998\" height=\"320\" style=\"fill: rgb(229, 236, 246); fill-opacity: 1; stroke-width: 0;\"/><rect class=\"bg\" x=\"466.91999999999996\" y=\"100\" width=\"182.07999999999998\" height=\"320\" style=\"fill: rgb(229, 236, 246); fill-opacity: 1; stroke-width: 0;\"/></g><g class=\"layer-below\"><g class=\"imagelayer\"/><g class=\"shapelayer\"/></g><g class=\"cartesianlayer\"><g class=\"subplot xy\"><g class=\"layer-subplot\"><g class=\"shapelayer\"/><g class=\"imagelayer\"/></g><g class=\"gridlayer\"><g class=\"x\"><path class=\"xgrid crisp\" transform=\"translate(130.67000000000002,0)\" d=\"M0,100v320\" style=\"stroke: rgb(255, 255, 255); stroke-opacity: 1; stroke-width: 1px;\"/><path class=\"xgrid crisp\" transform=\"translate(183.06,0)\" d=\"M0,100v320\" style=\"stroke: rgb(255, 255, 255); stroke-opacity: 1; stroke-width: 1px;\"/><path class=\"xgrid crisp\" transform=\"translate(235.46,0)\" d=\"M0,100v320\" style=\"stroke: rgb(255, 255, 255); stroke-opacity: 1; stroke-width: 1px;\"/></g><g class=\"y\"><path class=\"ygrid crisp\" transform=\"translate(0,379.54)\" d=\"M80,0h182.07999999999998\" style=\"stroke: rgb(255, 255, 255); stroke-opacity: 1; stroke-width: 1px;\"/><path class=\"ygrid crisp\" transform=\"translate(0,313.84000000000003)\" d=\"M80,0h182.07999999999998\" style=\"stroke: rgb(255, 255, 255); stroke-opacity: 1; stroke-width: 1px;\"/><path class=\"ygrid crisp\" transform=\"translate(0,248.14)\" d=\"M80,0h182.07999999999998\" style=\"stroke: rgb(255, 255, 255); stroke-opacity: 1; stroke-width: 1px;\"/><path class=\"ygrid crisp\" transform=\"translate(0,182.44)\" d=\"M80,0h182.07999999999998\" style=\"stroke: rgb(255, 255, 255); stroke-opacity: 1; stroke-width: 1px;\"/><path class=\"ygrid crisp\" transform=\"translate(0,116.74)\" d=\"M80,0h182.07999999999998\" style=\"stroke: rgb(255, 255, 255); stroke-opacity: 1; stroke-width: 1px;\"/></g></g><g class=\"zerolinelayer\"/><path class=\"xlines-below\"/><path class=\"ylines-below\"/><g class=\"overlines-below\"/><g class=\"xaxislayer-below\"/><g class=\"yaxislayer-below\"/><g class=\"overaxes-below\"/><g class=\"plot\" transform=\"translate(80,100)\" clip-path=\"url(#clipf2686axyplot)\"><g class=\"scatterlayer mlayer\"><g class=\"trace scatter trace4ffa06\" style=\"stroke-miterlimit: 2; opacity: 1;\"><g class=\"fills\"/><g class=\"errorbars\"/><g class=\"lines\"><path class=\"js-line\" d=\"M182.08,205.28L155.46,216.78L129.69,163.37L103.06,195.54L77.3,228.08L50.67,165.06L26.62,221.6L0,118.7\" style=\"vector-effect: non-scaling-stroke; fill: none; stroke: rgb(171, 99, 250); stroke-opacity: 1; stroke-width: 2px; opacity: 1;\"/></g><g class=\"points\"/><g class=\"text\"/></g></g></g><g class=\"overplot\"/><path class=\"xlines-above crisp\" d=\"M0,0\" style=\"fill: none;\"/><path class=\"ylines-above crisp\" d=\"M0,0\" style=\"fill: none;\"/><g class=\"overlines-above\"/><g class=\"xaxislayer-above\"><g class=\"xtick\"><text text-anchor=\"start\" x=\"0\" y=\"433\" transform=\"translate(80,0) rotate(30,0,427)\" style=\"font-family: 'Open Sans', verdana, arial, sans-serif; font-size: 12px; fill: rgb(42, 63, 95); fill-opacity: 1; white-space: pre; opacity: 1;\">Jan 2019</text></g><g class=\"xtick\"><text text-anchor=\"start\" x=\"0\" y=\"433\" style=\"font-family: 'Open Sans', verdana, arial, sans-serif; font-size: 12px; fill: rgb(42, 63, 95); fill-opacity: 1; white-space: pre; opacity: 1;\" transform=\"translate(130.67000000000002,0) rotate(30,0,427)\">Mar 2019</text></g><g class=\"xtick\"><text text-anchor=\"start\" x=\"0\" y=\"433\" style=\"font-family: 'Open Sans', verdana, arial, sans-serif; font-size: 12px; fill: rgb(42, 63, 95); fill-opacity: 1; white-space: pre; opacity: 1;\" transform=\"translate(183.06,0) rotate(30,0,427)\">May 2019</text></g><g class=\"xtick\"><text text-anchor=\"start\" x=\"0\" y=\"433\" style=\"font-family: 'Open Sans', verdana, arial, sans-serif; font-size: 12px; fill: rgb(42, 63, 95); fill-opacity: 1; white-space: pre; opacity: 1;\" transform=\"translate(235.46,0) rotate(30,0,427)\">Jul 2019</text></g></g><g class=\"yaxislayer-above\"><g class=\"ytick\"><text text-anchor=\"end\" x=\"79\" y=\"4.199999999999999\" transform=\"translate(0,379.54)\" style=\"font-family: 'Open Sans', verdana, arial, sans-serif; font-size: 12px; fill: rgb(42, 63, 95); fill-opacity: 1; white-space: pre; opacity: 1;\">4000</text></g><g class=\"ytick\"><text text-anchor=\"end\" x=\"79\" y=\"4.199999999999999\" style=\"font-family: 'Open Sans', verdana, arial, sans-serif; font-size: 12px; fill: rgb(42, 63, 95); fill-opacity: 1; white-space: pre; opacity: 1;\" transform=\"translate(0,313.84000000000003)\">5000</text></g><g class=\"ytick\"><text text-anchor=\"end\" x=\"79\" y=\"4.199999999999999\" style=\"font-family: 'Open Sans', verdana, arial, sans-serif; font-size: 12px; fill: rgb(42, 63, 95); fill-opacity: 1; white-space: pre; opacity: 1;\" transform=\"translate(0,248.14)\">6000</text></g><g class=\"ytick\"><text text-anchor=\"end\" x=\"79\" y=\"4.199999999999999\" style=\"font-family: 'Open Sans', verdana, arial, sans-serif; font-size: 12px; fill: rgb(42, 63, 95); fill-opacity: 1; white-space: pre; opacity: 1;\" transform=\"translate(0,182.44)\">7000</text></g><g class=\"ytick\"><text text-anchor=\"end\" x=\"79\" y=\"4.199999999999999\" style=\"font-family: 'Open Sans', verdana, arial, sans-serif; font-size: 12px; fill: rgb(42, 63, 95); fill-opacity: 1; white-space: pre; opacity: 1;\" transform=\"translate(0,116.74)\">8000</text></g></g><g class=\"overaxes-above\"/></g><g class=\"subplot x2y2\"><g class=\"layer-subplot\"><g class=\"shapelayer\"/><g class=\"imagelayer\"/></g><g class=\"gridlayer\"><g class=\"x2\"><path class=\"x2grid crisp\" transform=\"translate(324.13,0)\" d=\"M0,100v320\" style=\"stroke: rgb(255, 255, 255); stroke-opacity: 1; stroke-width: 1px;\"/><path class=\"x2grid crisp\" transform=\"translate(376.52,0)\" d=\"M0,100v320\" style=\"stroke: rgb(255, 255, 255); stroke-opacity: 1; stroke-width: 1px;\"/><path class=\"x2grid crisp\" transform=\"translate(428.91999999999996,0)\" d=\"M0,100v320\" style=\"stroke: rgb(255, 255, 255); stroke-opacity: 1; stroke-width: 1px;\"/></g><g class=\"y2\"><path class=\"y2grid crisp\" transform=\"translate(0,379.54)\" d=\"M273.46,0h182.07999999999998\" style=\"stroke: rgb(255, 255, 255); stroke-opacity: 1; stroke-width: 1px;\"/><path class=\"y2grid crisp\" transform=\"translate(0,313.84000000000003)\" d=\"M273.46,0h182.07999999999998\" style=\"stroke: rgb(255, 255, 255); stroke-opacity: 1; stroke-width: 1px;\"/><path class=\"y2grid crisp\" transform=\"translate(0,248.14)\" d=\"M273.46,0h182.07999999999998\" style=\"stroke: rgb(255, 255, 255); stroke-opacity: 1; stroke-width: 1px;\"/><path class=\"y2grid crisp\" transform=\"translate(0,182.44)\" d=\"M273.46,0h182.07999999999998\" style=\"stroke: rgb(255, 255, 255); stroke-opacity: 1; stroke-width: 1px;\"/><path class=\"y2grid crisp\" transform=\"translate(0,116.74)\" d=\"M273.46,0h182.07999999999998\" style=\"stroke: rgb(255, 255, 255); stroke-opacity: 1; stroke-width: 1px;\"/></g></g><g class=\"zerolinelayer\"/><path class=\"xlines-below\"/><path class=\"ylines-below\"/><g class=\"overlines-below\"/><g class=\"xaxislayer-below\"/><g class=\"yaxislayer-below\"/><g class=\"overaxes-below\"/><g class=\"plot\" transform=\"translate(273.46,100)\" clip-path=\"url(#clipf2686ax2y2plot)\"><g class=\"scatterlayer mlayer\"><g class=\"trace scatter tracee4a7b6\" style=\"stroke-miterlimit: 2; opacity: 1;\"><g class=\"fills\"/><g class=\"errorbars\"/><g class=\"lines\"><path class=\"js-line\" d=\"M182.08,221.79L155.46,230.37L129.69,151.59L103.06,200.08L77.3,233.5L50.67,183.76L26.62,214.96L0,106.49\" style=\"vector-effect: non-scaling-stroke; fill: none; stroke: rgb(255, 161, 90); stroke-opacity: 1; stroke-width: 2px; opacity: 1;\"/></g><g class=\"points\"/><g class=\"text\"/></g><g class=\"trace scatter trace75a099\" style=\"stroke-miterlimit: 2; opacity: 1;\"><g class=\"fills\"/><g class=\"errorbars\"/><g class=\"lines\"><path class=\"js-line\" d=\"M182.08,296.38L155.46,304L129.69,236.03L103.06,269.99L77.3,300.52L50.67,274.52L26.62,300.22L0,196.98\" style=\"vector-effect: non-scaling-stroke; fill: none; stroke: rgb(25, 211, 243); stroke-opacity: 1; stroke-width: 2px; opacity: 1;\"/></g><g class=\"points\"/><g class=\"text\"/></g><g class=\"trace scatter traced343a7\" style=\"stroke-miterlimit: 2; opacity: 1;\"><g class=\"fills\"/><g class=\"errorbars\"/><g class=\"lines\"><path class=\"js-line\" d=\"M182.08,147.21L155.46,156.74L129.69,67.16L103.06,130.17L77.3,166.49L50.67,93L26.62,129.69L0,16\" style=\"vector-effect: non-scaling-stroke; fill: none; stroke: rgb(255, 102, 146); stroke-opacity: 1; stroke-width: 2px; opacity: 1;\"/></g><g class=\"points\"/><g class=\"text\"/></g></g></g><g class=\"overplot\"/><path class=\"xlines-above crisp\" d=\"M0,0\" style=\"fill: none;\"/><path class=\"ylines-above crisp\" d=\"M0,0\" style=\"fill: none;\"/><g class=\"overlines-above\"/><g class=\"xaxislayer-above\"><g class=\"x2tick\"><text text-anchor=\"start\" x=\"0\" y=\"433\" transform=\"translate(273.46,0) rotate(30,0,427)\" style=\"font-family: 'Open Sans', verdana, arial, sans-serif; font-size: 12px; fill: rgb(42, 63, 95); fill-opacity: 1; white-space: pre; opacity: 1;\">Jan 2019</text></g><g class=\"x2tick\"><text text-anchor=\"start\" x=\"0\" y=\"433\" style=\"font-family: 'Open Sans', verdana, arial, sans-serif; font-size: 12px; fill: rgb(42, 63, 95); fill-opacity: 1; white-space: pre; opacity: 1;\" transform=\"translate(324.13,0) rotate(30,0,427)\">Mar 2019</text></g><g class=\"x2tick\"><text text-anchor=\"start\" x=\"0\" y=\"433\" style=\"font-family: 'Open Sans', verdana, arial, sans-serif; font-size: 12px; fill: rgb(42, 63, 95); fill-opacity: 1; white-space: pre; opacity: 1;\" transform=\"translate(376.52,0) rotate(30,0,427)\">May 2019</text></g><g class=\"x2tick\"><text text-anchor=\"start\" x=\"0\" y=\"433\" style=\"font-family: 'Open Sans', verdana, arial, sans-serif; font-size: 12px; fill: rgb(42, 63, 95); fill-opacity: 1; white-space: pre; opacity: 1;\" transform=\"translate(428.91999999999996,0) rotate(30,0,427)\">Jul 2019</text></g></g><g class=\"yaxislayer-above\"/><g class=\"overaxes-above\"/></g><g class=\"subplot x3y3\"><g class=\"layer-subplot\"><g class=\"shapelayer\"/><g class=\"imagelayer\"/></g><g class=\"gridlayer\"><g class=\"x3\"><path class=\"x3grid crisp\" transform=\"translate(517.5899999999999,0)\" d=\"M0,100v320\" style=\"stroke: rgb(255, 255, 255); stroke-opacity: 1; stroke-width: 1px;\"/><path class=\"x3grid crisp\" transform=\"translate(569.98,0)\" d=\"M0,100v320\" style=\"stroke: rgb(255, 255, 255); stroke-opacity: 1; stroke-width: 1px;\"/><path class=\"x3grid crisp\" transform=\"translate(622.38,0)\" d=\"M0,100v320\" style=\"stroke: rgb(255, 255, 255); stroke-opacity: 1; stroke-width: 1px;\"/></g><g class=\"y3\"><path class=\"y3grid crisp\" transform=\"translate(0,379.54)\" d=\"M466.91999999999996,0h182.07999999999998\" style=\"stroke: rgb(255, 255, 255); stroke-opacity: 1; stroke-width: 1px;\"/><path class=\"y3grid crisp\" transform=\"translate(0,313.84000000000003)\" d=\"M466.91999999999996,0h182.07999999999998\" style=\"stroke: rgb(255, 255, 255); stroke-opacity: 1; stroke-width: 1px;\"/><path class=\"y3grid crisp\" transform=\"translate(0,248.14)\" d=\"M466.91999999999996,0h182.07999999999998\" style=\"stroke: rgb(255, 255, 255); stroke-opacity: 1; stroke-width: 1px;\"/><path class=\"y3grid crisp\" transform=\"translate(0,182.44)\" d=\"M466.91999999999996,0h182.07999999999998\" style=\"stroke: rgb(255, 255, 255); stroke-opacity: 1; stroke-width: 1px;\"/><path class=\"y3grid crisp\" transform=\"translate(0,116.74)\" d=\"M466.91999999999996,0h182.07999999999998\" style=\"stroke: rgb(255, 255, 255); stroke-opacity: 1; stroke-width: 1px;\"/></g></g><g class=\"zerolinelayer\"/><path class=\"xlines-below\"/><path class=\"ylines-below\"/><g class=\"overlines-below\"/><g class=\"xaxislayer-below\"/><g class=\"yaxislayer-below\"/><g class=\"overaxes-below\"/><g class=\"plot\" transform=\"translate(466.91999999999996,100)\" clip-path=\"url(#clipf2686ax3y3plot)\"><g class=\"scatterlayer mlayer\"><g class=\"trace scatter tracea1adaa\" style=\"stroke-miterlimit: 2; opacity: 1;\"><g class=\"fills\"/><g class=\"errorbars\"/><g class=\"lines\"><path class=\"js-line\" d=\"M182.08,188.76L155.46,203.19L129.69,175.15L103.06,191L77.3,222.65L50.67,146.36L26.62,228.24L0,130.91\" style=\"vector-effect: non-scaling-stroke; fill: none; stroke: rgb(255, 161, 90); stroke-opacity: 1; stroke-width: 2px; opacity: 1;\"/></g><g class=\"points\"/><g class=\"text\"/></g><g class=\"trace scatter trace6f8da9\" style=\"stroke-miterlimit: 2; opacity: 1;\"><g class=\"fills\"/><g class=\"errorbars\"/><g class=\"lines\"><path class=\"js-line\" d=\"M182.08,260.65L155.46,271.98L129.69,234.84L103.06,249.06L77.3,288.9L50.67,224.42L26.62,290.98L0,203.79\" style=\"vector-effect: non-scaling-stroke; fill: none; stroke: rgb(25, 211, 243); stroke-opacity: 1; stroke-width: 2px; opacity: 1;\"/></g><g class=\"points\"/><g class=\"text\"/></g><g class=\"trace scatter trace8a70a5\" style=\"stroke-miterlimit: 2; opacity: 1;\"><g class=\"fills\"/><g class=\"errorbars\"/><g class=\"lines\"><path class=\"js-line\" d=\"M182.08,116.87L155.46,134.4L129.69,115.46L103.06,132.93L77.3,156.39L50.67,68.29L26.62,165.5L0,58.03\" style=\"vector-effect: non-scaling-stroke; fill: none; stroke: rgb(255, 102, 146); stroke-opacity: 1; stroke-width: 2px; opacity: 1;\"/></g><g class=\"points\"/><g class=\"text\"/></g></g></g><g class=\"overplot\"/><path class=\"xlines-above crisp\" d=\"M0,0\" style=\"fill: none;\"/><path class=\"ylines-above crisp\" d=\"M0,0\" style=\"fill: none;\"/><g class=\"overlines-above\"/><g class=\"xaxislayer-above\"><g class=\"x3tick\"><text text-anchor=\"start\" x=\"0\" y=\"433\" transform=\"translate(466.91999999999996,0) rotate(30,0,427)\" style=\"font-family: 'Open Sans', verdana, arial, sans-serif; font-size: 12px; fill: rgb(42, 63, 95); fill-opacity: 1; white-space: pre; opacity: 1;\">Jan 2019</text></g><g class=\"x3tick\"><text text-anchor=\"start\" x=\"0\" y=\"433\" style=\"font-family: 'Open Sans', verdana, arial, sans-serif; font-size: 12px; fill: rgb(42, 63, 95); fill-opacity: 1; white-space: pre; opacity: 1;\" transform=\"translate(517.5899999999999,0) rotate(30,0,427)\">Mar 2019</text></g><g class=\"x3tick\"><text text-anchor=\"start\" x=\"0\" y=\"433\" style=\"font-family: 'Open Sans', verdana, arial, sans-serif; font-size: 12px; fill: rgb(42, 63, 95); fill-opacity: 1; white-space: pre; opacity: 1;\" transform=\"translate(569.98,0) rotate(30,0,427)\">May 2019</text></g><g class=\"x3tick\"><text text-anchor=\"start\" x=\"0\" y=\"433\" style=\"font-family: 'Open Sans', verdana, arial, sans-serif; font-size: 12px; fill: rgb(42, 63, 95); fill-opacity: 1; white-space: pre; opacity: 1;\" transform=\"translate(622.38,0) rotate(30,0,427)\">Jul 2019</text></g></g><g class=\"yaxislayer-above\"/><g class=\"overaxes-above\"/></g></g><g class=\"polarlayer\"/><g class=\"smithlayer\"/><g class=\"ternarylayer\"/><g class=\"geolayer\"/><g class=\"funnelarealayer\"/><g class=\"pielayer\"/><g class=\"iciclelayer\"/><g class=\"treemaplayer\"/><g class=\"sunburstlayer\"/><g class=\"glimages\"/><defs id=\"topdefs-f2686a\"><g class=\"clips\"/><clipPath id=\"legendf2686a\"><rect width=\"128\" height=\"105\" x=\"0\" y=\"0\"/></clipPath></defs><g class=\"layer-above\"><g class=\"imagelayer\"/><g class=\"shapelayer\"/></g><g class=\"infolayer\"><g class=\"legend\" pointer-events=\"all\" transform=\"translate(660.38,100)\"><rect class=\"bg\" shape-rendering=\"crispEdges\" width=\"128\" height=\"105\" x=\"0\" y=\"0\" style=\"stroke: rgb(68, 68, 68); stroke-opacity: 1; fill: rgb(255, 255, 255); fill-opacity: 1; stroke-width: 0px;\"/><g class=\"scrollbox\" transform=\"\" clip-path=\"url(#legendf2686a)\"><text class=\"legendtitletext\" text-anchor=\"start\" x=\"2\" y=\"18.2\" style=\"font-family: 'Open Sans', verdana, arial, sans-serif; font-size: 14px; fill: rgb(42, 63, 95); fill-opacity: 1; white-space: pre;\">SEX</text><g class=\"groups\" transform=\"\"><g class=\"traces\" transform=\"translate(0,32.7)\" style=\"opacity: 1;\"><text class=\"legendtext\" text-anchor=\"start\" x=\"40\" y=\"4.680000000000001\" style=\"font-family: 'Open Sans', verdana, arial, sans-serif; font-size: 12px; fill: rgb(42, 63, 95); fill-opacity: 1; white-space: pre;\">SECTOR_AVG</text><g class=\"layers\" style=\"opacity: 1;\"><g class=\"legendfill\"/><g class=\"legendlines\"><path class=\"js-line\" d=\"M5,0h30\" style=\"fill: none; stroke: rgb(171, 99, 250); stroke-opacity: 1; stroke-width: 2px;\"/></g><g class=\"legendsymbols\"><g class=\"legendpoints\"/></g></g><rect class=\"legendtoggle\" x=\"0\" y=\"-9.5\" width=\"122.0625\" height=\"19\" style=\"fill: rgb(0, 0, 0); fill-opacity: 0;\"/></g></g><g class=\"groups\" transform=\"\"><g class=\"traces\" transform=\"translate(0,51.7)\" style=\"opacity: 1;\"><text class=\"legendtext\" text-anchor=\"start\" x=\"40\" y=\"4.680000000000001\" style=\"font-family: 'Open Sans', verdana, arial, sans-serif; font-size: 12px; fill: rgb(42, 63, 95); fill-opacity: 1; white-space: pre;\">SEX_AVG</text><g class=\"layers\" style=\"opacity: 1;\"><g class=\"legendfill\"/><g class=\"legendlines\"><path class=\"js-line\" d=\"M5,0h30\" style=\"fill: none; stroke: rgb(255, 161, 90); stroke-opacity: 1; stroke-width: 2px;\"/></g><g class=\"legendsymbols\"><g class=\"legendpoints\"/></g></g><rect class=\"legendtoggle\" x=\"0\" y=\"-9.5\" width=\"122.0625\" height=\"19\" style=\"fill: rgb(0, 0, 0); fill-opacity: 0;\"/></g></g><g class=\"groups\" transform=\"\"><g class=\"traces\" transform=\"translate(0,70.7)\" style=\"opacity: 1;\"><text class=\"legendtext\" text-anchor=\"start\" x=\"40\" y=\"4.680000000000001\" style=\"font-family: 'Open Sans', verdana, arial, sans-serif; font-size: 12px; fill: rgb(42, 63, 95); fill-opacity: 1; white-space: pre;\">M</text><g class=\"layers\" style=\"opacity: 1;\"><g class=\"legendfill\"/><g class=\"legendlines\"><path class=\"js-line\" d=\"M5,0h30\" style=\"fill: none; stroke: rgb(25, 211, 243); stroke-opacity: 1; stroke-width: 2px;\"/></g><g class=\"legendsymbols\"><g class=\"legendpoints\"/></g></g><rect class=\"legendtoggle\" x=\"0\" y=\"-9.5\" width=\"122.0625\" height=\"19\" style=\"fill: rgb(0, 0, 0); fill-opacity: 0;\"/></g></g><g class=\"groups\" transform=\"\"><g class=\"traces\" transform=\"translate(0,89.7)\" style=\"opacity: 1;\"><text class=\"legendtext\" text-anchor=\"start\" x=\"40\" y=\"4.680000000000001\" style=\"font-family: 'Open Sans', verdana, arial, sans-serif; font-size: 12px; fill: rgb(42, 63, 95); fill-opacity: 1; white-space: pre;\">F</text><g class=\"layers\" style=\"opacity: 1;\"><g class=\"legendfill\"/><g class=\"legendlines\"><path class=\"js-line\" d=\"M5,0h30\" style=\"fill: none; stroke: rgb(255, 102, 146); stroke-opacity: 1; stroke-width: 2px;\"/></g><g class=\"legendsymbols\"><g class=\"legendpoints\"/></g></g><rect class=\"legendtoggle\" x=\"0\" y=\"-9.5\" width=\"122.0625\" height=\"19\" style=\"fill: rgb(0, 0, 0); fill-opacity: 0;\"/></g></g></g><rect class=\"scrollbar\" rx=\"20\" ry=\"3\" width=\"0\" height=\"0\" x=\"0\" y=\"0\" style=\"fill: rgb(128, 139, 164); fill-opacity: 1;\"/></g><g class=\"g-gtitle\"><text class=\"gtitle\" x=\"40\" y=\"50\" text-anchor=\"start\" dy=\"0em\" style=\"font-family: 'Open Sans', verdana, arial, sans-serif; font-size: 17px; fill: rgb(42, 63, 95); opacity: 1; font-weight: normal; white-space: pre;\">Total people served to Category II (Normalized per sex)</text></g><g class=\"g-xtitle\"><text class=\"xtitle\" x=\"171.04\" y=\"489.3126953125\" text-anchor=\"middle\" style=\"font-family: 'Open Sans', verdana, arial, sans-serif; font-size: 14px; fill: rgb(42, 63, 95); opacity: 1; font-weight: normal; white-space: pre;\">DATE</text></g><g class=\"g-x2title\"><text class=\"x2title\" x=\"364.5\" y=\"489.3126953125\" text-anchor=\"middle\" style=\"font-family: 'Open Sans', verdana, arial, sans-serif; font-size: 14px; fill: rgb(42, 63, 95); opacity: 1; font-weight: normal; white-space: pre;\">DATE</text></g><g class=\"g-x3title\"><text class=\"x3title\" x=\"557.9599999999999\" y=\"489.3126953125\" text-anchor=\"middle\" style=\"font-family: 'Open Sans', verdana, arial, sans-serif; font-size: 14px; fill: rgb(42, 63, 95); opacity: 1; font-weight: normal; white-space: pre;\">DATE</text></g><g class=\"g-ytitle\"><text class=\"ytitle\" transform=\"rotate(-90,23.684375000000003,260)\" x=\"23.684375000000003\" y=\"260\" text-anchor=\"middle\" style=\"font-family: 'Open Sans', verdana, arial, sans-serif; font-size: 14px; fill: rgb(42, 63, 95); opacity: 1; font-weight: normal; white-space: pre;\">PEOPLE_SERVED_NORMALIZED</text></g><g class=\"g-y2title\"/><g class=\"g-y3title\"/><g class=\"annotation\" data-index=\"0\" style=\"opacity: 1;\"><g class=\"annotation-text-g\" transform=\"rotate(0,171.04,90.5)\"><g class=\"cursor-pointer\" transform=\"translate(113,81)\"><rect class=\"bg\" x=\"0.5\" y=\"0.5\" width=\"116\" height=\"18\" style=\"stroke-width: 1px; stroke: rgb(0, 0, 0); stroke-opacity: 0; fill: rgb(0, 0, 0); fill-opacity: 0;\"/><text class=\"annotation-text\" text-anchor=\"middle\" x=\"58.34375\" y=\"14\" style=\"font-family: 'Open Sans', verdana, arial, sans-serif; font-size: 12px; fill: rgb(42, 63, 95); fill-opacity: 1; white-space: pre;\">SECTOR_R=TOTAL</text></g></g></g><g class=\"annotation\" data-index=\"1\" style=\"opacity: 1;\"><g class=\"annotation-text-g\" transform=\"rotate(0,364.49999999999994,90.5)\"><g class=\"cursor-pointer\" transform=\"translate(302,81)\"><rect class=\"bg\" x=\"0.5\" y=\"0.5\" width=\"123\" height=\"18\" style=\"stroke-width: 1px; stroke: rgb(0, 0, 0); stroke-opacity: 0; fill: rgb(0, 0, 0); fill-opacity: 0;\"/><text class=\"annotation-text\" text-anchor=\"middle\" x=\"61.609375\" y=\"14\" style=\"font-family: 'Open Sans', verdana, arial, sans-serif; font-size: 12px; fill: rgb(42, 63, 95); fill-opacity: 1; white-space: pre;\">SECTOR_R=PUBLIC</text></g></g></g><g class=\"annotation\" data-index=\"2\" style=\"opacity: 1;\"><g class=\"annotation-text-g\" transform=\"rotate(0,557.9599999999999,90.5)\"><g class=\"cursor-pointer\" transform=\"translate(493,81)\"><rect class=\"bg\" x=\"0.5\" y=\"0.5\" width=\"129\" height=\"18\" style=\"stroke-width: 1px; stroke: rgb(0, 0, 0); stroke-opacity: 0; fill: rgb(0, 0, 0); fill-opacity: 0;\"/><text class=\"annotation-text\" text-anchor=\"middle\" x=\"64.921875\" y=\"14\" style=\"font-family: 'Open Sans', verdana, arial, sans-serif; font-size: 12px; fill: rgb(42, 63, 95); fill-opacity: 1; white-space: pre;\">SECTOR_R=PRIVATE</text></g></g></g></g></svg>"
      ]
     },
     "metadata": {},
     "output_type": "display_data"
    }
   ],
   "source": [
    "start_date = '2019-01-01'\n",
    "end_date = '2019-09-01'\n",
    "plot_df = normalized_df_hc[(normalized_df_hc['DATE'] >= start_date) & (normalized_df_hc['DATE'] < end_date)].reset_index(drop=True)\n",
    "\n",
    "# PEOPLE SERVED\n",
    "fig = px.line(plot_df, \n",
    "             x=\"DATE\", \n",
    "             y=\"PEOPLE_SERVED_NORMALIZED\", \n",
    "             color=\"SEX\", \n",
    "             facet_col=\"SECTOR_R\",\n",
    "             width=800, height=500,\n",
    "             color_discrete_map = dict_colors,\n",
    "             title='Total people served to Category ' + TAG_CATEGORY + ' (Normalized per sex)',\n",
    "            )\n",
    "\n",
    "#fig.show()\n",
    "fig.show(renderer=\"svg\")"
   ]
  },
  {
   "cell_type": "markdown",
   "id": "7166cf73",
   "metadata": {},
   "source": [
    "### Forecast"
   ]
  },
  {
   "cell_type": "code",
   "execution_count": 135,
   "id": "6c9ed3ec",
   "metadata": {},
   "outputs": [],
   "source": [
    "new_base_df = normalized_df_hc[['DATE', 'SECTOR_R', 'SEX',\n",
    "                              'PEOPLE_SERVED', 'UNIQUE_DIAGNOSIS',\n",
    "                              'TOTAL_DIAGNOSIS', 'INTER_HC',\n",
    "                              'PEOPLE_SERVED_NORMALIZED']]\n",
    "\n",
    "# Fisr date\n",
    "start_date = '2019-01-01'\n",
    "new_base_df = new_base_df[(new_base_df['DATE']>=start_date)]\n",
    "\n",
    "new_base_df = new_base_df.sort_values(by=['DATE',\n",
    "                                          'SECTOR_R',\n",
    "                                          'SEX'], ascending=False).reset_index(drop=True)\n",
    "new_base_df.head()\n",
    "\n",
    "# Base Line values\n",
    "start_date = '2019-01-01'\n",
    "end_date = '2019-09-01'\n",
    "new_base_df['BL_FORMATOR'] = new_base_df[['DATE',\n",
    "                                          'PEOPLE_SERVED_NORMALIZED']].apply(lambda x: x['PEOPLE_SERVED_NORMALIZED'] \n",
    "                                                                               if start_date <= str(x['DATE'].date()) <= end_date \n",
    "                                                                               else None,\n",
    "                                                                             axis=1)\n",
    "# Covit\n",
    "start_date = '2020-04-00'\n",
    "#end_date = '2020-06-01'\n",
    "new_base_df['COVID'] = new_base_df[['DATE',\n",
    "                                          'PEOPLE_SERVED_NORMALIZED']].apply(lambda x: x['PEOPLE_SERVED_NORMALIZED'] \n",
    "                                                                               if start_date <= str(x['DATE'].date())\n",
    "                                                                               else None,\n",
    "                                                                             axis=1)\n",
    "\n",
    "# Covit time 3m\n",
    "start_date = '2020-04-00'\n",
    "end_date = '2020-06-01'\n",
    "new_base_df['COVID_3M'] = new_base_df[['DATE',\n",
    "                                          'PEOPLE_SERVED_NORMALIZED']].apply(lambda x: x['PEOPLE_SERVED_NORMALIZED'] \n",
    "                                                                               if start_date <= str(x['DATE'].date()) <= end_date\n",
    "                                                                               else None,\n",
    "                                                                             axis=1)"
   ]
  },
  {
   "cell_type": "markdown",
   "id": "3115fbab",
   "metadata": {},
   "source": [
    "#### Public"
   ]
  },
  {
   "cell_type": "code",
   "execution_count": 136,
   "id": "13421bfa",
   "metadata": {},
   "outputs": [],
   "source": [
    "TAG_SECTOR = 'PUBLIC'"
   ]
  },
  {
   "cell_type": "markdown",
   "id": "c8da329e",
   "metadata": {},
   "source": [
    "##### Analysis for both sexs "
   ]
  },
  {
   "cell_type": "code",
   "execution_count": null,
   "id": "67db0dff",
   "metadata": {},
   "outputs": [],
   "source": []
  },
  {
   "cell_type": "code",
   "execution_count": 137,
   "id": "452f90ad",
   "metadata": {},
   "outputs": [
    {
     "data": {
      "application/vnd.plotly.v1+json": {
       "config": {
        "plotlyServerURL": "https://plot.ly"
       },
       "data": [
        {
         "hovertemplate": "LINE=BL_FORMATOR<br>DATE=%{x}<br>QTY_PEOPLE_SERVED=%{y}<extra></extra>",
         "legendgroup": "BL_FORMATOR",
         "line": {
          "color": "#636efa",
          "dash": "solid"
         },
         "marker": {
          "symbol": "circle"
         },
         "mode": "lines",
         "name": "BL_FORMATOR",
         "orientation": "v",
         "showlegend": true,
         "type": "scatter",
         "x": [
          "2022-05-01T00:00:00",
          "2022-04-01T00:00:00",
          "2022-03-01T00:00:00",
          "2022-02-01T00:00:00",
          "2022-01-01T00:00:00",
          "2021-12-01T00:00:00",
          "2021-11-01T00:00:00",
          "2021-10-01T00:00:00",
          "2021-09-01T00:00:00",
          "2021-08-01T00:00:00",
          "2021-07-01T00:00:00",
          "2021-06-01T00:00:00",
          "2021-05-01T00:00:00",
          "2021-04-01T00:00:00",
          "2021-03-01T00:00:00",
          "2021-02-01T00:00:00",
          "2021-01-01T00:00:00",
          "2020-12-01T00:00:00",
          "2020-11-01T00:00:00",
          "2020-10-01T00:00:00",
          "2020-09-01T00:00:00",
          "2020-08-01T00:00:00",
          "2020-07-01T00:00:00",
          "2020-06-01T00:00:00",
          "2020-05-01T00:00:00",
          "2020-04-01T00:00:00",
          "2020-03-01T00:00:00",
          "2020-02-01T00:00:00",
          "2020-01-01T00:00:00",
          "2019-12-01T00:00:00",
          "2019-11-01T00:00:00",
          "2019-10-01T00:00:00",
          "2019-09-01T00:00:00",
          "2019-08-01T00:00:00",
          "2019-07-01T00:00:00",
          "2019-06-01T00:00:00",
          "2019-05-01T00:00:00",
          "2019-04-01T00:00:00",
          "2019-03-01T00:00:00",
          "2019-02-01T00:00:00",
          "2019-01-01T00:00:00"
         ],
         "xaxis": "x",
         "y": [
          null,
          null,
          null,
          null,
          null,
          null,
          null,
          null,
          null,
          null,
          null,
          null,
          null,
          null,
          null,
          null,
          null,
          null,
          null,
          null,
          null,
          null,
          null,
          null,
          null,
          null,
          null,
          null,
          null,
          null,
          null,
          null,
          5130.346153846154,
          4878.903846153846,
          4748.346153846154,
          5947.403846153846,
          5209.423076923077,
          4700.692307692308,
          5457.826923076923,
          4982.961538461538,
          6633.961538461538
         ],
         "yaxis": "y"
        },
        {
         "hovertemplate": "LINE=COVID_3M<br>DATE=%{x}<br>QTY_PEOPLE_SERVED=%{y}<extra></extra>",
         "legendgroup": "COVID_3M",
         "line": {
          "color": "#EF553B",
          "dash": "solid"
         },
         "marker": {
          "symbol": "circle"
         },
         "mode": "lines",
         "name": "COVID_3M",
         "orientation": "v",
         "showlegend": true,
         "type": "scatter",
         "x": [
          "2022-05-01T00:00:00",
          "2022-04-01T00:00:00",
          "2022-03-01T00:00:00",
          "2022-02-01T00:00:00",
          "2022-01-01T00:00:00",
          "2021-12-01T00:00:00",
          "2021-11-01T00:00:00",
          "2021-10-01T00:00:00",
          "2021-09-01T00:00:00",
          "2021-08-01T00:00:00",
          "2021-07-01T00:00:00",
          "2021-06-01T00:00:00",
          "2021-05-01T00:00:00",
          "2021-04-01T00:00:00",
          "2021-03-01T00:00:00",
          "2021-02-01T00:00:00",
          "2021-01-01T00:00:00",
          "2020-12-01T00:00:00",
          "2020-11-01T00:00:00",
          "2020-10-01T00:00:00",
          "2020-09-01T00:00:00",
          "2020-08-01T00:00:00",
          "2020-07-01T00:00:00",
          "2020-06-01T00:00:00",
          "2020-05-01T00:00:00",
          "2020-04-01T00:00:00",
          "2020-03-01T00:00:00",
          "2020-02-01T00:00:00",
          "2020-01-01T00:00:00",
          "2019-12-01T00:00:00",
          "2019-11-01T00:00:00",
          "2019-10-01T00:00:00",
          "2019-09-01T00:00:00",
          "2019-08-01T00:00:00",
          "2019-07-01T00:00:00",
          "2019-06-01T00:00:00",
          "2019-05-01T00:00:00",
          "2019-04-01T00:00:00",
          "2019-03-01T00:00:00",
          "2019-02-01T00:00:00",
          "2019-01-01T00:00:00"
         ],
         "xaxis": "x",
         "y": [
          null,
          null,
          null,
          null,
          null,
          null,
          null,
          null,
          null,
          null,
          null,
          null,
          null,
          null,
          null,
          null,
          null,
          null,
          null,
          null,
          null,
          null,
          null,
          990.0576923076924,
          788.5185185185185,
          654.0769230769231,
          null,
          null,
          null,
          null,
          null,
          null,
          null,
          null,
          null,
          null,
          null,
          null,
          null,
          null,
          null
         ],
         "yaxis": "y"
        },
        {
         "hovertemplate": "LINE=COVID<br>DATE=%{x}<br>QTY_PEOPLE_SERVED=%{y}<extra></extra>",
         "legendgroup": "COVID",
         "line": {
          "color": "#00cc96",
          "dash": "solid"
         },
         "marker": {
          "symbol": "circle"
         },
         "mode": "lines",
         "name": "COVID",
         "orientation": "v",
         "showlegend": true,
         "type": "scatter",
         "x": [
          "2022-05-01T00:00:00",
          "2022-04-01T00:00:00",
          "2022-03-01T00:00:00",
          "2022-02-01T00:00:00",
          "2022-01-01T00:00:00",
          "2021-12-01T00:00:00",
          "2021-11-01T00:00:00",
          "2021-10-01T00:00:00",
          "2021-09-01T00:00:00",
          "2021-08-01T00:00:00",
          "2021-07-01T00:00:00",
          "2021-06-01T00:00:00",
          "2021-05-01T00:00:00",
          "2021-04-01T00:00:00",
          "2021-03-01T00:00:00",
          "2021-02-01T00:00:00",
          "2021-01-01T00:00:00",
          "2020-12-01T00:00:00",
          "2020-11-01T00:00:00",
          "2020-10-01T00:00:00",
          "2020-09-01T00:00:00",
          "2020-08-01T00:00:00",
          "2020-07-01T00:00:00",
          "2020-06-01T00:00:00",
          "2020-05-01T00:00:00",
          "2020-04-01T00:00:00",
          "2020-03-01T00:00:00",
          "2020-02-01T00:00:00",
          "2020-01-01T00:00:00",
          "2019-12-01T00:00:00",
          "2019-11-01T00:00:00",
          "2019-10-01T00:00:00",
          "2019-09-01T00:00:00",
          "2019-08-01T00:00:00",
          "2019-07-01T00:00:00",
          "2019-06-01T00:00:00",
          "2019-05-01T00:00:00",
          "2019-04-01T00:00:00",
          "2019-03-01T00:00:00",
          "2019-02-01T00:00:00",
          "2019-01-01T00:00:00"
         ],
         "xaxis": "x",
         "y": [
          6322.214285714286,
          7594.53125,
          8221.676470588234,
          7432.411764705882,
          9301.235294117647,
          7860.029411764706,
          8330.823529411764,
          7357.735294117647,
          6085.970588235294,
          5340.058823529412,
          5576.529411764706,
          5653.058823529412,
          5610.323529411765,
          5460.029411764706,
          5502.7058823529405,
          4768.588235294118,
          5573.058823529412,
          5042.28125,
          5076.794117647059,
          4675.588235294118,
          3976.6470588235293,
          3751.4411764705883,
          2907.823529411765,
          990.0576923076924,
          788.5185185185185,
          654.0769230769231,
          null,
          null,
          null,
          null,
          null,
          null,
          null,
          null,
          null,
          null,
          null,
          null,
          null,
          null,
          null
         ],
         "yaxis": "y"
        },
        {
         "hovertemplate": "LINE=BASE_LINE<br>DATE=%{x}<br>QTY_PEOPLE_SERVED=%{y}<extra></extra>",
         "legendgroup": "BASE_LINE",
         "line": {
          "color": "#ab63fa",
          "dash": "solid"
         },
         "marker": {
          "symbol": "circle"
         },
         "mode": "lines",
         "name": "BASE_LINE",
         "orientation": "v",
         "showlegend": true,
         "type": "scatter",
         "x": [
          "2022-05-01T00:00:00",
          "2022-04-01T00:00:00",
          "2022-03-01T00:00:00",
          "2022-02-01T00:00:00",
          "2022-01-01T00:00:00",
          "2021-12-01T00:00:00",
          "2021-11-01T00:00:00",
          "2021-10-01T00:00:00",
          "2021-09-01T00:00:00",
          "2021-08-01T00:00:00",
          "2021-07-01T00:00:00",
          "2021-06-01T00:00:00",
          "2021-05-01T00:00:00",
          "2021-04-01T00:00:00",
          "2021-03-01T00:00:00",
          "2021-02-01T00:00:00",
          "2021-01-01T00:00:00",
          "2020-12-01T00:00:00",
          "2020-11-01T00:00:00",
          "2020-10-01T00:00:00",
          "2020-09-01T00:00:00",
          "2020-08-01T00:00:00",
          "2020-07-01T00:00:00",
          "2020-06-01T00:00:00",
          "2020-05-01T00:00:00",
          "2020-04-01T00:00:00",
          "2020-03-01T00:00:00",
          "2020-02-01T00:00:00",
          "2020-01-01T00:00:00",
          "2019-12-01T00:00:00",
          "2019-11-01T00:00:00",
          "2019-10-01T00:00:00",
          "2019-09-01T00:00:00",
          "2019-08-01T00:00:00",
          "2019-07-01T00:00:00",
          "2019-06-01T00:00:00",
          "2019-05-01T00:00:00",
          "2019-04-01T00:00:00",
          "2019-03-01T00:00:00",
          "2019-02-01T00:00:00",
          "2019-01-01T00:00:00"
         ],
         "xaxis": "x",
         "y": [
          5298.873931623933,
          5298.873931623933,
          5298.873931623933,
          5298.873931623933,
          5298.873931623933,
          5298.873931623933,
          5298.873931623933,
          5298.873931623933,
          5298.873931623933,
          5298.873931623933,
          5298.873931623933,
          5298.873931623933,
          5298.873931623933,
          5298.873931623933,
          5298.873931623933,
          5298.873931623933,
          5298.873931623933,
          5298.873931623933,
          5298.873931623933,
          5298.873931623933,
          5298.873931623933,
          5298.873931623933,
          5298.873931623933,
          5298.873931623933,
          5298.873931623933,
          5298.873931623933,
          5298.873931623933,
          5298.873931623933,
          5298.873931623933,
          5298.873931623933,
          5298.873931623933,
          5298.873931623933,
          5298.873931623933,
          5298.873931623933,
          5298.873931623933,
          5298.873931623933,
          5298.873931623933,
          5298.873931623933,
          5298.873931623933,
          5298.873931623933,
          5298.873931623933
         ],
         "yaxis": "y"
        }
       ],
       "layout": {
        "legend": {
         "title": {
          "text": "LINE"
         },
         "tracegroupgap": 0
        },
        "template": {
         "data": {
          "bar": [
           {
            "error_x": {
             "color": "#2a3f5f"
            },
            "error_y": {
             "color": "#2a3f5f"
            },
            "marker": {
             "line": {
              "color": "#E5ECF6",
              "width": 0.5
             },
             "pattern": {
              "fillmode": "overlay",
              "size": 10,
              "solidity": 0.2
             }
            },
            "type": "bar"
           }
          ],
          "barpolar": [
           {
            "marker": {
             "line": {
              "color": "#E5ECF6",
              "width": 0.5
             },
             "pattern": {
              "fillmode": "overlay",
              "size": 10,
              "solidity": 0.2
             }
            },
            "type": "barpolar"
           }
          ],
          "carpet": [
           {
            "aaxis": {
             "endlinecolor": "#2a3f5f",
             "gridcolor": "white",
             "linecolor": "white",
             "minorgridcolor": "white",
             "startlinecolor": "#2a3f5f"
            },
            "baxis": {
             "endlinecolor": "#2a3f5f",
             "gridcolor": "white",
             "linecolor": "white",
             "minorgridcolor": "white",
             "startlinecolor": "#2a3f5f"
            },
            "type": "carpet"
           }
          ],
          "choropleth": [
           {
            "colorbar": {
             "outlinewidth": 0,
             "ticks": ""
            },
            "type": "choropleth"
           }
          ],
          "contour": [
           {
            "colorbar": {
             "outlinewidth": 0,
             "ticks": ""
            },
            "colorscale": [
             [
              0,
              "#0d0887"
             ],
             [
              0.1111111111111111,
              "#46039f"
             ],
             [
              0.2222222222222222,
              "#7201a8"
             ],
             [
              0.3333333333333333,
              "#9c179e"
             ],
             [
              0.4444444444444444,
              "#bd3786"
             ],
             [
              0.5555555555555556,
              "#d8576b"
             ],
             [
              0.6666666666666666,
              "#ed7953"
             ],
             [
              0.7777777777777778,
              "#fb9f3a"
             ],
             [
              0.8888888888888888,
              "#fdca26"
             ],
             [
              1,
              "#f0f921"
             ]
            ],
            "type": "contour"
           }
          ],
          "contourcarpet": [
           {
            "colorbar": {
             "outlinewidth": 0,
             "ticks": ""
            },
            "type": "contourcarpet"
           }
          ],
          "heatmap": [
           {
            "colorbar": {
             "outlinewidth": 0,
             "ticks": ""
            },
            "colorscale": [
             [
              0,
              "#0d0887"
             ],
             [
              0.1111111111111111,
              "#46039f"
             ],
             [
              0.2222222222222222,
              "#7201a8"
             ],
             [
              0.3333333333333333,
              "#9c179e"
             ],
             [
              0.4444444444444444,
              "#bd3786"
             ],
             [
              0.5555555555555556,
              "#d8576b"
             ],
             [
              0.6666666666666666,
              "#ed7953"
             ],
             [
              0.7777777777777778,
              "#fb9f3a"
             ],
             [
              0.8888888888888888,
              "#fdca26"
             ],
             [
              1,
              "#f0f921"
             ]
            ],
            "type": "heatmap"
           }
          ],
          "heatmapgl": [
           {
            "colorbar": {
             "outlinewidth": 0,
             "ticks": ""
            },
            "colorscale": [
             [
              0,
              "#0d0887"
             ],
             [
              0.1111111111111111,
              "#46039f"
             ],
             [
              0.2222222222222222,
              "#7201a8"
             ],
             [
              0.3333333333333333,
              "#9c179e"
             ],
             [
              0.4444444444444444,
              "#bd3786"
             ],
             [
              0.5555555555555556,
              "#d8576b"
             ],
             [
              0.6666666666666666,
              "#ed7953"
             ],
             [
              0.7777777777777778,
              "#fb9f3a"
             ],
             [
              0.8888888888888888,
              "#fdca26"
             ],
             [
              1,
              "#f0f921"
             ]
            ],
            "type": "heatmapgl"
           }
          ],
          "histogram": [
           {
            "marker": {
             "pattern": {
              "fillmode": "overlay",
              "size": 10,
              "solidity": 0.2
             }
            },
            "type": "histogram"
           }
          ],
          "histogram2d": [
           {
            "colorbar": {
             "outlinewidth": 0,
             "ticks": ""
            },
            "colorscale": [
             [
              0,
              "#0d0887"
             ],
             [
              0.1111111111111111,
              "#46039f"
             ],
             [
              0.2222222222222222,
              "#7201a8"
             ],
             [
              0.3333333333333333,
              "#9c179e"
             ],
             [
              0.4444444444444444,
              "#bd3786"
             ],
             [
              0.5555555555555556,
              "#d8576b"
             ],
             [
              0.6666666666666666,
              "#ed7953"
             ],
             [
              0.7777777777777778,
              "#fb9f3a"
             ],
             [
              0.8888888888888888,
              "#fdca26"
             ],
             [
              1,
              "#f0f921"
             ]
            ],
            "type": "histogram2d"
           }
          ],
          "histogram2dcontour": [
           {
            "colorbar": {
             "outlinewidth": 0,
             "ticks": ""
            },
            "colorscale": [
             [
              0,
              "#0d0887"
             ],
             [
              0.1111111111111111,
              "#46039f"
             ],
             [
              0.2222222222222222,
              "#7201a8"
             ],
             [
              0.3333333333333333,
              "#9c179e"
             ],
             [
              0.4444444444444444,
              "#bd3786"
             ],
             [
              0.5555555555555556,
              "#d8576b"
             ],
             [
              0.6666666666666666,
              "#ed7953"
             ],
             [
              0.7777777777777778,
              "#fb9f3a"
             ],
             [
              0.8888888888888888,
              "#fdca26"
             ],
             [
              1,
              "#f0f921"
             ]
            ],
            "type": "histogram2dcontour"
           }
          ],
          "mesh3d": [
           {
            "colorbar": {
             "outlinewidth": 0,
             "ticks": ""
            },
            "type": "mesh3d"
           }
          ],
          "parcoords": [
           {
            "line": {
             "colorbar": {
              "outlinewidth": 0,
              "ticks": ""
             }
            },
            "type": "parcoords"
           }
          ],
          "pie": [
           {
            "automargin": true,
            "type": "pie"
           }
          ],
          "scatter": [
           {
            "marker": {
             "colorbar": {
              "outlinewidth": 0,
              "ticks": ""
             }
            },
            "type": "scatter"
           }
          ],
          "scatter3d": [
           {
            "line": {
             "colorbar": {
              "outlinewidth": 0,
              "ticks": ""
             }
            },
            "marker": {
             "colorbar": {
              "outlinewidth": 0,
              "ticks": ""
             }
            },
            "type": "scatter3d"
           }
          ],
          "scattercarpet": [
           {
            "marker": {
             "colorbar": {
              "outlinewidth": 0,
              "ticks": ""
             }
            },
            "type": "scattercarpet"
           }
          ],
          "scattergeo": [
           {
            "marker": {
             "colorbar": {
              "outlinewidth": 0,
              "ticks": ""
             }
            },
            "type": "scattergeo"
           }
          ],
          "scattergl": [
           {
            "marker": {
             "colorbar": {
              "outlinewidth": 0,
              "ticks": ""
             }
            },
            "type": "scattergl"
           }
          ],
          "scattermapbox": [
           {
            "marker": {
             "colorbar": {
              "outlinewidth": 0,
              "ticks": ""
             }
            },
            "type": "scattermapbox"
           }
          ],
          "scatterpolar": [
           {
            "marker": {
             "colorbar": {
              "outlinewidth": 0,
              "ticks": ""
             }
            },
            "type": "scatterpolar"
           }
          ],
          "scatterpolargl": [
           {
            "marker": {
             "colorbar": {
              "outlinewidth": 0,
              "ticks": ""
             }
            },
            "type": "scatterpolargl"
           }
          ],
          "scatterternary": [
           {
            "marker": {
             "colorbar": {
              "outlinewidth": 0,
              "ticks": ""
             }
            },
            "type": "scatterternary"
           }
          ],
          "surface": [
           {
            "colorbar": {
             "outlinewidth": 0,
             "ticks": ""
            },
            "colorscale": [
             [
              0,
              "#0d0887"
             ],
             [
              0.1111111111111111,
              "#46039f"
             ],
             [
              0.2222222222222222,
              "#7201a8"
             ],
             [
              0.3333333333333333,
              "#9c179e"
             ],
             [
              0.4444444444444444,
              "#bd3786"
             ],
             [
              0.5555555555555556,
              "#d8576b"
             ],
             [
              0.6666666666666666,
              "#ed7953"
             ],
             [
              0.7777777777777778,
              "#fb9f3a"
             ],
             [
              0.8888888888888888,
              "#fdca26"
             ],
             [
              1,
              "#f0f921"
             ]
            ],
            "type": "surface"
           }
          ],
          "table": [
           {
            "cells": {
             "fill": {
              "color": "#EBF0F8"
             },
             "line": {
              "color": "white"
             }
            },
            "header": {
             "fill": {
              "color": "#C8D4E3"
             },
             "line": {
              "color": "white"
             }
            },
            "type": "table"
           }
          ]
         },
         "layout": {
          "annotationdefaults": {
           "arrowcolor": "#2a3f5f",
           "arrowhead": 0,
           "arrowwidth": 1
          },
          "autotypenumbers": "strict",
          "coloraxis": {
           "colorbar": {
            "outlinewidth": 0,
            "ticks": ""
           }
          },
          "colorscale": {
           "diverging": [
            [
             0,
             "#8e0152"
            ],
            [
             0.1,
             "#c51b7d"
            ],
            [
             0.2,
             "#de77ae"
            ],
            [
             0.3,
             "#f1b6da"
            ],
            [
             0.4,
             "#fde0ef"
            ],
            [
             0.5,
             "#f7f7f7"
            ],
            [
             0.6,
             "#e6f5d0"
            ],
            [
             0.7,
             "#b8e186"
            ],
            [
             0.8,
             "#7fbc41"
            ],
            [
             0.9,
             "#4d9221"
            ],
            [
             1,
             "#276419"
            ]
           ],
           "sequential": [
            [
             0,
             "#0d0887"
            ],
            [
             0.1111111111111111,
             "#46039f"
            ],
            [
             0.2222222222222222,
             "#7201a8"
            ],
            [
             0.3333333333333333,
             "#9c179e"
            ],
            [
             0.4444444444444444,
             "#bd3786"
            ],
            [
             0.5555555555555556,
             "#d8576b"
            ],
            [
             0.6666666666666666,
             "#ed7953"
            ],
            [
             0.7777777777777778,
             "#fb9f3a"
            ],
            [
             0.8888888888888888,
             "#fdca26"
            ],
            [
             1,
             "#f0f921"
            ]
           ],
           "sequentialminus": [
            [
             0,
             "#0d0887"
            ],
            [
             0.1111111111111111,
             "#46039f"
            ],
            [
             0.2222222222222222,
             "#7201a8"
            ],
            [
             0.3333333333333333,
             "#9c179e"
            ],
            [
             0.4444444444444444,
             "#bd3786"
            ],
            [
             0.5555555555555556,
             "#d8576b"
            ],
            [
             0.6666666666666666,
             "#ed7953"
            ],
            [
             0.7777777777777778,
             "#fb9f3a"
            ],
            [
             0.8888888888888888,
             "#fdca26"
            ],
            [
             1,
             "#f0f921"
            ]
           ]
          },
          "colorway": [
           "#636efa",
           "#EF553B",
           "#00cc96",
           "#ab63fa",
           "#FFA15A",
           "#19d3f3",
           "#FF6692",
           "#B6E880",
           "#FF97FF",
           "#FECB52"
          ],
          "font": {
           "color": "#2a3f5f"
          },
          "geo": {
           "bgcolor": "white",
           "lakecolor": "white",
           "landcolor": "#E5ECF6",
           "showlakes": true,
           "showland": true,
           "subunitcolor": "white"
          },
          "hoverlabel": {
           "align": "left"
          },
          "hovermode": "closest",
          "mapbox": {
           "style": "light"
          },
          "paper_bgcolor": "white",
          "plot_bgcolor": "#E5ECF6",
          "polar": {
           "angularaxis": {
            "gridcolor": "white",
            "linecolor": "white",
            "ticks": ""
           },
           "bgcolor": "#E5ECF6",
           "radialaxis": {
            "gridcolor": "white",
            "linecolor": "white",
            "ticks": ""
           }
          },
          "scene": {
           "xaxis": {
            "backgroundcolor": "#E5ECF6",
            "gridcolor": "white",
            "gridwidth": 2,
            "linecolor": "white",
            "showbackground": true,
            "ticks": "",
            "zerolinecolor": "white"
           },
           "yaxis": {
            "backgroundcolor": "#E5ECF6",
            "gridcolor": "white",
            "gridwidth": 2,
            "linecolor": "white",
            "showbackground": true,
            "ticks": "",
            "zerolinecolor": "white"
           },
           "zaxis": {
            "backgroundcolor": "#E5ECF6",
            "gridcolor": "white",
            "gridwidth": 2,
            "linecolor": "white",
            "showbackground": true,
            "ticks": "",
            "zerolinecolor": "white"
           }
          },
          "shapedefaults": {
           "line": {
            "color": "#2a3f5f"
           }
          },
          "ternary": {
           "aaxis": {
            "gridcolor": "white",
            "linecolor": "white",
            "ticks": ""
           },
           "baxis": {
            "gridcolor": "white",
            "linecolor": "white",
            "ticks": ""
           },
           "bgcolor": "#E5ECF6",
           "caxis": {
            "gridcolor": "white",
            "linecolor": "white",
            "ticks": ""
           }
          },
          "title": {
           "x": 0.05
          },
          "xaxis": {
           "automargin": true,
           "gridcolor": "white",
           "linecolor": "white",
           "ticks": "",
           "title": {
            "standoff": 15
           },
           "zerolinecolor": "white",
           "zerolinewidth": 2
          },
          "yaxis": {
           "automargin": true,
           "gridcolor": "white",
           "linecolor": "white",
           "ticks": "",
           "title": {
            "standoff": 15
           },
           "zerolinecolor": "white",
           "zerolinewidth": 2
          }
         }
        },
        "title": {
         "text": "Projection on time for II (PUBLIC - SEX_AVG)"
        },
        "xaxis": {
         "anchor": "y",
         "domain": [
          0,
          1
         ],
         "title": {
          "text": "DATE"
         }
        },
        "yaxis": {
         "anchor": "x",
         "domain": [
          0,
          1
         ],
         "title": {
          "text": "QTY_PEOPLE_SERVED"
         }
        }
       }
      },
      "text/html": [
       "<div>                            <div id=\"68aeeb93-b85c-4532-9bc8-1a6b0ccbe4f5\" class=\"plotly-graph-div\" style=\"height:525px; width:100%;\"></div>            <script type=\"text/javascript\">                require([\"plotly\"], function(Plotly) {                    window.PLOTLYENV=window.PLOTLYENV || {};                                    if (document.getElementById(\"68aeeb93-b85c-4532-9bc8-1a6b0ccbe4f5\")) {                    Plotly.newPlot(                        \"68aeeb93-b85c-4532-9bc8-1a6b0ccbe4f5\",                        [{\"hovertemplate\":\"LINE=BL_FORMATOR<br>DATE=%{x}<br>QTY_PEOPLE_SERVED=%{y}<extra></extra>\",\"legendgroup\":\"BL_FORMATOR\",\"line\":{\"color\":\"#636efa\",\"dash\":\"solid\"},\"marker\":{\"symbol\":\"circle\"},\"mode\":\"lines\",\"name\":\"BL_FORMATOR\",\"orientation\":\"v\",\"showlegend\":true,\"x\":[\"2022-05-01T00:00:00\",\"2022-04-01T00:00:00\",\"2022-03-01T00:00:00\",\"2022-02-01T00:00:00\",\"2022-01-01T00:00:00\",\"2021-12-01T00:00:00\",\"2021-11-01T00:00:00\",\"2021-10-01T00:00:00\",\"2021-09-01T00:00:00\",\"2021-08-01T00:00:00\",\"2021-07-01T00:00:00\",\"2021-06-01T00:00:00\",\"2021-05-01T00:00:00\",\"2021-04-01T00:00:00\",\"2021-03-01T00:00:00\",\"2021-02-01T00:00:00\",\"2021-01-01T00:00:00\",\"2020-12-01T00:00:00\",\"2020-11-01T00:00:00\",\"2020-10-01T00:00:00\",\"2020-09-01T00:00:00\",\"2020-08-01T00:00:00\",\"2020-07-01T00:00:00\",\"2020-06-01T00:00:00\",\"2020-05-01T00:00:00\",\"2020-04-01T00:00:00\",\"2020-03-01T00:00:00\",\"2020-02-01T00:00:00\",\"2020-01-01T00:00:00\",\"2019-12-01T00:00:00\",\"2019-11-01T00:00:00\",\"2019-10-01T00:00:00\",\"2019-09-01T00:00:00\",\"2019-08-01T00:00:00\",\"2019-07-01T00:00:00\",\"2019-06-01T00:00:00\",\"2019-05-01T00:00:00\",\"2019-04-01T00:00:00\",\"2019-03-01T00:00:00\",\"2019-02-01T00:00:00\",\"2019-01-01T00:00:00\"],\"xaxis\":\"x\",\"y\":[null,null,null,null,null,null,null,null,null,null,null,null,null,null,null,null,null,null,null,null,null,null,null,null,null,null,null,null,null,null,null,null,5130.346153846154,4878.903846153846,4748.346153846154,5947.403846153846,5209.423076923077,4700.692307692308,5457.826923076923,4982.961538461538,6633.961538461538],\"yaxis\":\"y\",\"type\":\"scatter\"},{\"hovertemplate\":\"LINE=COVID_3M<br>DATE=%{x}<br>QTY_PEOPLE_SERVED=%{y}<extra></extra>\",\"legendgroup\":\"COVID_3M\",\"line\":{\"color\":\"#EF553B\",\"dash\":\"solid\"},\"marker\":{\"symbol\":\"circle\"},\"mode\":\"lines\",\"name\":\"COVID_3M\",\"orientation\":\"v\",\"showlegend\":true,\"x\":[\"2022-05-01T00:00:00\",\"2022-04-01T00:00:00\",\"2022-03-01T00:00:00\",\"2022-02-01T00:00:00\",\"2022-01-01T00:00:00\",\"2021-12-01T00:00:00\",\"2021-11-01T00:00:00\",\"2021-10-01T00:00:00\",\"2021-09-01T00:00:00\",\"2021-08-01T00:00:00\",\"2021-07-01T00:00:00\",\"2021-06-01T00:00:00\",\"2021-05-01T00:00:00\",\"2021-04-01T00:00:00\",\"2021-03-01T00:00:00\",\"2021-02-01T00:00:00\",\"2021-01-01T00:00:00\",\"2020-12-01T00:00:00\",\"2020-11-01T00:00:00\",\"2020-10-01T00:00:00\",\"2020-09-01T00:00:00\",\"2020-08-01T00:00:00\",\"2020-07-01T00:00:00\",\"2020-06-01T00:00:00\",\"2020-05-01T00:00:00\",\"2020-04-01T00:00:00\",\"2020-03-01T00:00:00\",\"2020-02-01T00:00:00\",\"2020-01-01T00:00:00\",\"2019-12-01T00:00:00\",\"2019-11-01T00:00:00\",\"2019-10-01T00:00:00\",\"2019-09-01T00:00:00\",\"2019-08-01T00:00:00\",\"2019-07-01T00:00:00\",\"2019-06-01T00:00:00\",\"2019-05-01T00:00:00\",\"2019-04-01T00:00:00\",\"2019-03-01T00:00:00\",\"2019-02-01T00:00:00\",\"2019-01-01T00:00:00\"],\"xaxis\":\"x\",\"y\":[null,null,null,null,null,null,null,null,null,null,null,null,null,null,null,null,null,null,null,null,null,null,null,990.0576923076924,788.5185185185185,654.0769230769231,null,null,null,null,null,null,null,null,null,null,null,null,null,null,null],\"yaxis\":\"y\",\"type\":\"scatter\"},{\"hovertemplate\":\"LINE=COVID<br>DATE=%{x}<br>QTY_PEOPLE_SERVED=%{y}<extra></extra>\",\"legendgroup\":\"COVID\",\"line\":{\"color\":\"#00cc96\",\"dash\":\"solid\"},\"marker\":{\"symbol\":\"circle\"},\"mode\":\"lines\",\"name\":\"COVID\",\"orientation\":\"v\",\"showlegend\":true,\"x\":[\"2022-05-01T00:00:00\",\"2022-04-01T00:00:00\",\"2022-03-01T00:00:00\",\"2022-02-01T00:00:00\",\"2022-01-01T00:00:00\",\"2021-12-01T00:00:00\",\"2021-11-01T00:00:00\",\"2021-10-01T00:00:00\",\"2021-09-01T00:00:00\",\"2021-08-01T00:00:00\",\"2021-07-01T00:00:00\",\"2021-06-01T00:00:00\",\"2021-05-01T00:00:00\",\"2021-04-01T00:00:00\",\"2021-03-01T00:00:00\",\"2021-02-01T00:00:00\",\"2021-01-01T00:00:00\",\"2020-12-01T00:00:00\",\"2020-11-01T00:00:00\",\"2020-10-01T00:00:00\",\"2020-09-01T00:00:00\",\"2020-08-01T00:00:00\",\"2020-07-01T00:00:00\",\"2020-06-01T00:00:00\",\"2020-05-01T00:00:00\",\"2020-04-01T00:00:00\",\"2020-03-01T00:00:00\",\"2020-02-01T00:00:00\",\"2020-01-01T00:00:00\",\"2019-12-01T00:00:00\",\"2019-11-01T00:00:00\",\"2019-10-01T00:00:00\",\"2019-09-01T00:00:00\",\"2019-08-01T00:00:00\",\"2019-07-01T00:00:00\",\"2019-06-01T00:00:00\",\"2019-05-01T00:00:00\",\"2019-04-01T00:00:00\",\"2019-03-01T00:00:00\",\"2019-02-01T00:00:00\",\"2019-01-01T00:00:00\"],\"xaxis\":\"x\",\"y\":[6322.214285714286,7594.53125,8221.676470588234,7432.411764705882,9301.235294117647,7860.029411764706,8330.823529411764,7357.735294117647,6085.970588235294,5340.058823529412,5576.529411764706,5653.058823529412,5610.323529411765,5460.029411764706,5502.7058823529405,4768.588235294118,5573.058823529412,5042.28125,5076.794117647059,4675.588235294118,3976.6470588235293,3751.4411764705883,2907.823529411765,990.0576923076924,788.5185185185185,654.0769230769231,null,null,null,null,null,null,null,null,null,null,null,null,null,null,null],\"yaxis\":\"y\",\"type\":\"scatter\"},{\"hovertemplate\":\"LINE=BASE_LINE<br>DATE=%{x}<br>QTY_PEOPLE_SERVED=%{y}<extra></extra>\",\"legendgroup\":\"BASE_LINE\",\"line\":{\"color\":\"#ab63fa\",\"dash\":\"solid\"},\"marker\":{\"symbol\":\"circle\"},\"mode\":\"lines\",\"name\":\"BASE_LINE\",\"orientation\":\"v\",\"showlegend\":true,\"x\":[\"2022-05-01T00:00:00\",\"2022-04-01T00:00:00\",\"2022-03-01T00:00:00\",\"2022-02-01T00:00:00\",\"2022-01-01T00:00:00\",\"2021-12-01T00:00:00\",\"2021-11-01T00:00:00\",\"2021-10-01T00:00:00\",\"2021-09-01T00:00:00\",\"2021-08-01T00:00:00\",\"2021-07-01T00:00:00\",\"2021-06-01T00:00:00\",\"2021-05-01T00:00:00\",\"2021-04-01T00:00:00\",\"2021-03-01T00:00:00\",\"2021-02-01T00:00:00\",\"2021-01-01T00:00:00\",\"2020-12-01T00:00:00\",\"2020-11-01T00:00:00\",\"2020-10-01T00:00:00\",\"2020-09-01T00:00:00\",\"2020-08-01T00:00:00\",\"2020-07-01T00:00:00\",\"2020-06-01T00:00:00\",\"2020-05-01T00:00:00\",\"2020-04-01T00:00:00\",\"2020-03-01T00:00:00\",\"2020-02-01T00:00:00\",\"2020-01-01T00:00:00\",\"2019-12-01T00:00:00\",\"2019-11-01T00:00:00\",\"2019-10-01T00:00:00\",\"2019-09-01T00:00:00\",\"2019-08-01T00:00:00\",\"2019-07-01T00:00:00\",\"2019-06-01T00:00:00\",\"2019-05-01T00:00:00\",\"2019-04-01T00:00:00\",\"2019-03-01T00:00:00\",\"2019-02-01T00:00:00\",\"2019-01-01T00:00:00\"],\"xaxis\":\"x\",\"y\":[5298.873931623933,5298.873931623933,5298.873931623933,5298.873931623933,5298.873931623933,5298.873931623933,5298.873931623933,5298.873931623933,5298.873931623933,5298.873931623933,5298.873931623933,5298.873931623933,5298.873931623933,5298.873931623933,5298.873931623933,5298.873931623933,5298.873931623933,5298.873931623933,5298.873931623933,5298.873931623933,5298.873931623933,5298.873931623933,5298.873931623933,5298.873931623933,5298.873931623933,5298.873931623933,5298.873931623933,5298.873931623933,5298.873931623933,5298.873931623933,5298.873931623933,5298.873931623933,5298.873931623933,5298.873931623933,5298.873931623933,5298.873931623933,5298.873931623933,5298.873931623933,5298.873931623933,5298.873931623933,5298.873931623933],\"yaxis\":\"y\",\"type\":\"scatter\"}],                        {\"template\":{\"data\":{\"bar\":[{\"error_x\":{\"color\":\"#2a3f5f\"},\"error_y\":{\"color\":\"#2a3f5f\"},\"marker\":{\"line\":{\"color\":\"#E5ECF6\",\"width\":0.5},\"pattern\":{\"fillmode\":\"overlay\",\"size\":10,\"solidity\":0.2}},\"type\":\"bar\"}],\"barpolar\":[{\"marker\":{\"line\":{\"color\":\"#E5ECF6\",\"width\":0.5},\"pattern\":{\"fillmode\":\"overlay\",\"size\":10,\"solidity\":0.2}},\"type\":\"barpolar\"}],\"carpet\":[{\"aaxis\":{\"endlinecolor\":\"#2a3f5f\",\"gridcolor\":\"white\",\"linecolor\":\"white\",\"minorgridcolor\":\"white\",\"startlinecolor\":\"#2a3f5f\"},\"baxis\":{\"endlinecolor\":\"#2a3f5f\",\"gridcolor\":\"white\",\"linecolor\":\"white\",\"minorgridcolor\":\"white\",\"startlinecolor\":\"#2a3f5f\"},\"type\":\"carpet\"}],\"choropleth\":[{\"colorbar\":{\"outlinewidth\":0,\"ticks\":\"\"},\"type\":\"choropleth\"}],\"contour\":[{\"colorbar\":{\"outlinewidth\":0,\"ticks\":\"\"},\"colorscale\":[[0.0,\"#0d0887\"],[0.1111111111111111,\"#46039f\"],[0.2222222222222222,\"#7201a8\"],[0.3333333333333333,\"#9c179e\"],[0.4444444444444444,\"#bd3786\"],[0.5555555555555556,\"#d8576b\"],[0.6666666666666666,\"#ed7953\"],[0.7777777777777778,\"#fb9f3a\"],[0.8888888888888888,\"#fdca26\"],[1.0,\"#f0f921\"]],\"type\":\"contour\"}],\"contourcarpet\":[{\"colorbar\":{\"outlinewidth\":0,\"ticks\":\"\"},\"type\":\"contourcarpet\"}],\"heatmap\":[{\"colorbar\":{\"outlinewidth\":0,\"ticks\":\"\"},\"colorscale\":[[0.0,\"#0d0887\"],[0.1111111111111111,\"#46039f\"],[0.2222222222222222,\"#7201a8\"],[0.3333333333333333,\"#9c179e\"],[0.4444444444444444,\"#bd3786\"],[0.5555555555555556,\"#d8576b\"],[0.6666666666666666,\"#ed7953\"],[0.7777777777777778,\"#fb9f3a\"],[0.8888888888888888,\"#fdca26\"],[1.0,\"#f0f921\"]],\"type\":\"heatmap\"}],\"heatmapgl\":[{\"colorbar\":{\"outlinewidth\":0,\"ticks\":\"\"},\"colorscale\":[[0.0,\"#0d0887\"],[0.1111111111111111,\"#46039f\"],[0.2222222222222222,\"#7201a8\"],[0.3333333333333333,\"#9c179e\"],[0.4444444444444444,\"#bd3786\"],[0.5555555555555556,\"#d8576b\"],[0.6666666666666666,\"#ed7953\"],[0.7777777777777778,\"#fb9f3a\"],[0.8888888888888888,\"#fdca26\"],[1.0,\"#f0f921\"]],\"type\":\"heatmapgl\"}],\"histogram\":[{\"marker\":{\"pattern\":{\"fillmode\":\"overlay\",\"size\":10,\"solidity\":0.2}},\"type\":\"histogram\"}],\"histogram2d\":[{\"colorbar\":{\"outlinewidth\":0,\"ticks\":\"\"},\"colorscale\":[[0.0,\"#0d0887\"],[0.1111111111111111,\"#46039f\"],[0.2222222222222222,\"#7201a8\"],[0.3333333333333333,\"#9c179e\"],[0.4444444444444444,\"#bd3786\"],[0.5555555555555556,\"#d8576b\"],[0.6666666666666666,\"#ed7953\"],[0.7777777777777778,\"#fb9f3a\"],[0.8888888888888888,\"#fdca26\"],[1.0,\"#f0f921\"]],\"type\":\"histogram2d\"}],\"histogram2dcontour\":[{\"colorbar\":{\"outlinewidth\":0,\"ticks\":\"\"},\"colorscale\":[[0.0,\"#0d0887\"],[0.1111111111111111,\"#46039f\"],[0.2222222222222222,\"#7201a8\"],[0.3333333333333333,\"#9c179e\"],[0.4444444444444444,\"#bd3786\"],[0.5555555555555556,\"#d8576b\"],[0.6666666666666666,\"#ed7953\"],[0.7777777777777778,\"#fb9f3a\"],[0.8888888888888888,\"#fdca26\"],[1.0,\"#f0f921\"]],\"type\":\"histogram2dcontour\"}],\"mesh3d\":[{\"colorbar\":{\"outlinewidth\":0,\"ticks\":\"\"},\"type\":\"mesh3d\"}],\"parcoords\":[{\"line\":{\"colorbar\":{\"outlinewidth\":0,\"ticks\":\"\"}},\"type\":\"parcoords\"}],\"pie\":[{\"automargin\":true,\"type\":\"pie\"}],\"scatter\":[{\"marker\":{\"colorbar\":{\"outlinewidth\":0,\"ticks\":\"\"}},\"type\":\"scatter\"}],\"scatter3d\":[{\"line\":{\"colorbar\":{\"outlinewidth\":0,\"ticks\":\"\"}},\"marker\":{\"colorbar\":{\"outlinewidth\":0,\"ticks\":\"\"}},\"type\":\"scatter3d\"}],\"scattercarpet\":[{\"marker\":{\"colorbar\":{\"outlinewidth\":0,\"ticks\":\"\"}},\"type\":\"scattercarpet\"}],\"scattergeo\":[{\"marker\":{\"colorbar\":{\"outlinewidth\":0,\"ticks\":\"\"}},\"type\":\"scattergeo\"}],\"scattergl\":[{\"marker\":{\"colorbar\":{\"outlinewidth\":0,\"ticks\":\"\"}},\"type\":\"scattergl\"}],\"scattermapbox\":[{\"marker\":{\"colorbar\":{\"outlinewidth\":0,\"ticks\":\"\"}},\"type\":\"scattermapbox\"}],\"scatterpolar\":[{\"marker\":{\"colorbar\":{\"outlinewidth\":0,\"ticks\":\"\"}},\"type\":\"scatterpolar\"}],\"scatterpolargl\":[{\"marker\":{\"colorbar\":{\"outlinewidth\":0,\"ticks\":\"\"}},\"type\":\"scatterpolargl\"}],\"scatterternary\":[{\"marker\":{\"colorbar\":{\"outlinewidth\":0,\"ticks\":\"\"}},\"type\":\"scatterternary\"}],\"surface\":[{\"colorbar\":{\"outlinewidth\":0,\"ticks\":\"\"},\"colorscale\":[[0.0,\"#0d0887\"],[0.1111111111111111,\"#46039f\"],[0.2222222222222222,\"#7201a8\"],[0.3333333333333333,\"#9c179e\"],[0.4444444444444444,\"#bd3786\"],[0.5555555555555556,\"#d8576b\"],[0.6666666666666666,\"#ed7953\"],[0.7777777777777778,\"#fb9f3a\"],[0.8888888888888888,\"#fdca26\"],[1.0,\"#f0f921\"]],\"type\":\"surface\"}],\"table\":[{\"cells\":{\"fill\":{\"color\":\"#EBF0F8\"},\"line\":{\"color\":\"white\"}},\"header\":{\"fill\":{\"color\":\"#C8D4E3\"},\"line\":{\"color\":\"white\"}},\"type\":\"table\"}]},\"layout\":{\"annotationdefaults\":{\"arrowcolor\":\"#2a3f5f\",\"arrowhead\":0,\"arrowwidth\":1},\"autotypenumbers\":\"strict\",\"coloraxis\":{\"colorbar\":{\"outlinewidth\":0,\"ticks\":\"\"}},\"colorscale\":{\"diverging\":[[0,\"#8e0152\"],[0.1,\"#c51b7d\"],[0.2,\"#de77ae\"],[0.3,\"#f1b6da\"],[0.4,\"#fde0ef\"],[0.5,\"#f7f7f7\"],[0.6,\"#e6f5d0\"],[0.7,\"#b8e186\"],[0.8,\"#7fbc41\"],[0.9,\"#4d9221\"],[1,\"#276419\"]],\"sequential\":[[0.0,\"#0d0887\"],[0.1111111111111111,\"#46039f\"],[0.2222222222222222,\"#7201a8\"],[0.3333333333333333,\"#9c179e\"],[0.4444444444444444,\"#bd3786\"],[0.5555555555555556,\"#d8576b\"],[0.6666666666666666,\"#ed7953\"],[0.7777777777777778,\"#fb9f3a\"],[0.8888888888888888,\"#fdca26\"],[1.0,\"#f0f921\"]],\"sequentialminus\":[[0.0,\"#0d0887\"],[0.1111111111111111,\"#46039f\"],[0.2222222222222222,\"#7201a8\"],[0.3333333333333333,\"#9c179e\"],[0.4444444444444444,\"#bd3786\"],[0.5555555555555556,\"#d8576b\"],[0.6666666666666666,\"#ed7953\"],[0.7777777777777778,\"#fb9f3a\"],[0.8888888888888888,\"#fdca26\"],[1.0,\"#f0f921\"]]},\"colorway\":[\"#636efa\",\"#EF553B\",\"#00cc96\",\"#ab63fa\",\"#FFA15A\",\"#19d3f3\",\"#FF6692\",\"#B6E880\",\"#FF97FF\",\"#FECB52\"],\"font\":{\"color\":\"#2a3f5f\"},\"geo\":{\"bgcolor\":\"white\",\"lakecolor\":\"white\",\"landcolor\":\"#E5ECF6\",\"showlakes\":true,\"showland\":true,\"subunitcolor\":\"white\"},\"hoverlabel\":{\"align\":\"left\"},\"hovermode\":\"closest\",\"mapbox\":{\"style\":\"light\"},\"paper_bgcolor\":\"white\",\"plot_bgcolor\":\"#E5ECF6\",\"polar\":{\"angularaxis\":{\"gridcolor\":\"white\",\"linecolor\":\"white\",\"ticks\":\"\"},\"bgcolor\":\"#E5ECF6\",\"radialaxis\":{\"gridcolor\":\"white\",\"linecolor\":\"white\",\"ticks\":\"\"}},\"scene\":{\"xaxis\":{\"backgroundcolor\":\"#E5ECF6\",\"gridcolor\":\"white\",\"gridwidth\":2,\"linecolor\":\"white\",\"showbackground\":true,\"ticks\":\"\",\"zerolinecolor\":\"white\"},\"yaxis\":{\"backgroundcolor\":\"#E5ECF6\",\"gridcolor\":\"white\",\"gridwidth\":2,\"linecolor\":\"white\",\"showbackground\":true,\"ticks\":\"\",\"zerolinecolor\":\"white\"},\"zaxis\":{\"backgroundcolor\":\"#E5ECF6\",\"gridcolor\":\"white\",\"gridwidth\":2,\"linecolor\":\"white\",\"showbackground\":true,\"ticks\":\"\",\"zerolinecolor\":\"white\"}},\"shapedefaults\":{\"line\":{\"color\":\"#2a3f5f\"}},\"ternary\":{\"aaxis\":{\"gridcolor\":\"white\",\"linecolor\":\"white\",\"ticks\":\"\"},\"baxis\":{\"gridcolor\":\"white\",\"linecolor\":\"white\",\"ticks\":\"\"},\"bgcolor\":\"#E5ECF6\",\"caxis\":{\"gridcolor\":\"white\",\"linecolor\":\"white\",\"ticks\":\"\"}},\"title\":{\"x\":0.05},\"xaxis\":{\"automargin\":true,\"gridcolor\":\"white\",\"linecolor\":\"white\",\"ticks\":\"\",\"title\":{\"standoff\":15},\"zerolinecolor\":\"white\",\"zerolinewidth\":2},\"yaxis\":{\"automargin\":true,\"gridcolor\":\"white\",\"linecolor\":\"white\",\"ticks\":\"\",\"title\":{\"standoff\":15},\"zerolinecolor\":\"white\",\"zerolinewidth\":2}}},\"xaxis\":{\"anchor\":\"y\",\"domain\":[0.0,1.0],\"title\":{\"text\":\"DATE\"}},\"yaxis\":{\"anchor\":\"x\",\"domain\":[0.0,1.0],\"title\":{\"text\":\"QTY_PEOPLE_SERVED\"}},\"legend\":{\"title\":{\"text\":\"LINE\"},\"tracegroupgap\":0},\"title\":{\"text\":\"Projection on time for II (PUBLIC - SEX_AVG)\"}},                        {\"responsive\": true}                    ).then(function(){\n",
       "                            \n",
       "var gd = document.getElementById('68aeeb93-b85c-4532-9bc8-1a6b0ccbe4f5');\n",
       "var x = new MutationObserver(function (mutations, observer) {{\n",
       "        var display = window.getComputedStyle(gd).display;\n",
       "        if (!display || display === 'none') {{\n",
       "            console.log([gd, 'removed!']);\n",
       "            Plotly.purge(gd);\n",
       "            observer.disconnect();\n",
       "        }}\n",
       "}});\n",
       "\n",
       "// Listen for the removal of the full notebook cells\n",
       "var notebookContainer = gd.closest('#notebook-container');\n",
       "if (notebookContainer) {{\n",
       "    x.observe(notebookContainer, {childList: true});\n",
       "}}\n",
       "\n",
       "// Listen for the clearing of the current output cell\n",
       "var outputEl = gd.closest('.output');\n",
       "if (outputEl) {{\n",
       "    x.observe(outputEl, {childList: true});\n",
       "}}\n",
       "\n",
       "                        })                };                });            </script>        </div>"
      ]
     },
     "metadata": {},
     "output_type": "display_data"
    }
   ],
   "source": [
    "TAG_GENDER = 'SEX_AVG'\n",
    "new_base_df_temp = new_base_df[(new_base_df['SEX']==TAG_GENDER) & (new_base_df['SECTOR_R']==TAG_SECTOR)]\n",
    "new_base_df_temp = new_base_df_temp.reset_index(drop=True)\n",
    "new_base_df_temp['BASE_LINE'] = new_base_df_temp['BL_FORMATOR'].mean()\n",
    "\n",
    "forecast_df = new_base_df_temp[['DATE', \n",
    "                                'PEOPLE_SERVED_NORMALIZED',\n",
    "                                'BL_FORMATOR',\n",
    "                                'COVID_3M',\n",
    "                                'COVID',\n",
    "                                'BASE_LINE']].melt(id_vars=['DATE'],\n",
    "                                                  value_vars=[#'PEOPLE_SERVED_NORMALIZED',\n",
    "                                                              'BL_FORMATOR',\n",
    "                                                              'COVID_3M',\n",
    "                                                              'COVID',\n",
    "                                                              'BASE_LINE'],\n",
    "                                                  var_name=\"LINE\",\n",
    "                                                  value_name=\"QTY_PEOPLE_SERVED\")\n",
    "\n",
    "fig = px.line(forecast_df,\n",
    "              x=\"DATE\",\n",
    "              y=\"QTY_PEOPLE_SERVED\",\n",
    "              color='LINE',\n",
    "              title='Projection on time for ' + TAG_CATEGORY +' ('+TAG_SECTOR+' - '+TAG_GENDER+')'\n",
    "             )\n",
    "\n",
    "fig.show()\n",
    "#fig.show(renderer=\"svg\")"
   ]
  },
  {
   "cell_type": "markdown",
   "id": "13891714",
   "metadata": {},
   "source": [
    "##### For Men analysis"
   ]
  },
  {
   "cell_type": "code",
   "execution_count": 138,
   "id": "ef5a0903",
   "metadata": {},
   "outputs": [
    {
     "data": {
      "application/vnd.plotly.v1+json": {
       "config": {
        "plotlyServerURL": "https://plot.ly"
       },
       "data": [
        {
         "hovertemplate": "LINE=BL_FORMATOR<br>DATE=%{x}<br>QTY_PEOPLE_SERVED=%{y}<extra></extra>",
         "legendgroup": "BL_FORMATOR",
         "line": {
          "color": "#636efa",
          "dash": "solid"
         },
         "marker": {
          "symbol": "circle"
         },
         "mode": "lines",
         "name": "BL_FORMATOR",
         "orientation": "v",
         "showlegend": true,
         "type": "scatter",
         "x": [
          "2022-05-01T00:00:00",
          "2022-04-01T00:00:00",
          "2022-03-01T00:00:00",
          "2022-02-01T00:00:00",
          "2022-01-01T00:00:00",
          "2021-12-01T00:00:00",
          "2021-11-01T00:00:00",
          "2021-10-01T00:00:00",
          "2021-09-01T00:00:00",
          "2021-08-01T00:00:00",
          "2021-07-01T00:00:00",
          "2021-06-01T00:00:00",
          "2021-05-01T00:00:00",
          "2021-04-01T00:00:00",
          "2021-03-01T00:00:00",
          "2021-02-01T00:00:00",
          "2021-01-01T00:00:00",
          "2020-12-01T00:00:00",
          "2020-11-01T00:00:00",
          "2020-10-01T00:00:00",
          "2020-09-01T00:00:00",
          "2020-08-01T00:00:00",
          "2020-07-01T00:00:00",
          "2020-06-01T00:00:00",
          "2020-05-01T00:00:00",
          "2020-04-01T00:00:00",
          "2020-03-01T00:00:00",
          "2020-02-01T00:00:00",
          "2020-01-01T00:00:00",
          "2019-12-01T00:00:00",
          "2019-11-01T00:00:00",
          "2019-10-01T00:00:00",
          "2019-09-01T00:00:00",
          "2019-08-01T00:00:00",
          "2019-07-01T00:00:00",
          "2019-06-01T00:00:00",
          "2019-05-01T00:00:00",
          "2019-04-01T00:00:00",
          "2019-03-01T00:00:00",
          "2019-02-01T00:00:00",
          "2019-01-01T00:00:00"
         ],
         "xaxis": "x",
         "y": [
          null,
          null,
          null,
          null,
          null,
          null,
          null,
          null,
          null,
          null,
          null,
          null,
          null,
          null,
          null,
          null,
          null,
          null,
          null,
          null,
          null,
          null,
          null,
          null,
          null,
          null,
          null,
          null,
          null,
          null,
          null,
          null,
          3896.5,
          3743.6923076923076,
          3627.653846153846,
          4662.2307692307695,
          4145.346153846154,
          3680.653846153846,
          4076.3846153846152,
          3685.153846153846,
          5256.653846153846
         ],
         "yaxis": "y"
        },
        {
         "hovertemplate": "LINE=COVID_3M<br>DATE=%{x}<br>QTY_PEOPLE_SERVED=%{y}<extra></extra>",
         "legendgroup": "COVID_3M",
         "line": {
          "color": "#EF553B",
          "dash": "solid"
         },
         "marker": {
          "symbol": "circle"
         },
         "mode": "lines",
         "name": "COVID_3M",
         "orientation": "v",
         "showlegend": true,
         "type": "scatter",
         "x": [
          "2022-05-01T00:00:00",
          "2022-04-01T00:00:00",
          "2022-03-01T00:00:00",
          "2022-02-01T00:00:00",
          "2022-01-01T00:00:00",
          "2021-12-01T00:00:00",
          "2021-11-01T00:00:00",
          "2021-10-01T00:00:00",
          "2021-09-01T00:00:00",
          "2021-08-01T00:00:00",
          "2021-07-01T00:00:00",
          "2021-06-01T00:00:00",
          "2021-05-01T00:00:00",
          "2021-04-01T00:00:00",
          "2021-03-01T00:00:00",
          "2021-02-01T00:00:00",
          "2021-01-01T00:00:00",
          "2020-12-01T00:00:00",
          "2020-11-01T00:00:00",
          "2020-10-01T00:00:00",
          "2020-09-01T00:00:00",
          "2020-08-01T00:00:00",
          "2020-07-01T00:00:00",
          "2020-06-01T00:00:00",
          "2020-05-01T00:00:00",
          "2020-04-01T00:00:00",
          "2020-03-01T00:00:00",
          "2020-02-01T00:00:00",
          "2020-01-01T00:00:00",
          "2019-12-01T00:00:00",
          "2019-11-01T00:00:00",
          "2019-10-01T00:00:00",
          "2019-09-01T00:00:00",
          "2019-08-01T00:00:00",
          "2019-07-01T00:00:00",
          "2019-06-01T00:00:00",
          "2019-05-01T00:00:00",
          "2019-04-01T00:00:00",
          "2019-03-01T00:00:00",
          "2019-02-01T00:00:00",
          "2019-01-01T00:00:00"
         ],
         "xaxis": "x",
         "y": [
          null,
          null,
          null,
          null,
          null,
          null,
          null,
          null,
          null,
          null,
          null,
          null,
          null,
          null,
          null,
          null,
          null,
          null,
          null,
          null,
          null,
          null,
          null,
          864.0384615384615,
          710.7777777777778,
          574.3846153846154,
          null,
          null,
          null,
          null,
          null,
          null,
          null,
          null,
          null,
          null,
          null,
          null,
          null,
          null,
          null
         ],
         "yaxis": "y"
        },
        {
         "hovertemplate": "LINE=BASE_LINE<br>DATE=%{x}<br>QTY_PEOPLE_SERVED=%{y}<extra></extra>",
         "legendgroup": "BASE_LINE",
         "line": {
          "color": "#00cc96",
          "dash": "solid"
         },
         "marker": {
          "symbol": "circle"
         },
         "mode": "lines",
         "name": "BASE_LINE",
         "orientation": "v",
         "showlegend": true,
         "type": "scatter",
         "x": [
          "2022-05-01T00:00:00",
          "2022-04-01T00:00:00",
          "2022-03-01T00:00:00",
          "2022-02-01T00:00:00",
          "2022-01-01T00:00:00",
          "2021-12-01T00:00:00",
          "2021-11-01T00:00:00",
          "2021-10-01T00:00:00",
          "2021-09-01T00:00:00",
          "2021-08-01T00:00:00",
          "2021-07-01T00:00:00",
          "2021-06-01T00:00:00",
          "2021-05-01T00:00:00",
          "2021-04-01T00:00:00",
          "2021-03-01T00:00:00",
          "2021-02-01T00:00:00",
          "2021-01-01T00:00:00",
          "2020-12-01T00:00:00",
          "2020-11-01T00:00:00",
          "2020-10-01T00:00:00",
          "2020-09-01T00:00:00",
          "2020-08-01T00:00:00",
          "2020-07-01T00:00:00",
          "2020-06-01T00:00:00",
          "2020-05-01T00:00:00",
          "2020-04-01T00:00:00",
          "2020-03-01T00:00:00",
          "2020-02-01T00:00:00",
          "2020-01-01T00:00:00",
          "2019-12-01T00:00:00",
          "2019-11-01T00:00:00",
          "2019-10-01T00:00:00",
          "2019-09-01T00:00:00",
          "2019-08-01T00:00:00",
          "2019-07-01T00:00:00",
          "2019-06-01T00:00:00",
          "2019-05-01T00:00:00",
          "2019-04-01T00:00:00",
          "2019-03-01T00:00:00",
          "2019-02-01T00:00:00",
          "2019-01-01T00:00:00"
         ],
         "xaxis": "x",
         "y": [
          4086.029914529915,
          4086.029914529915,
          4086.029914529915,
          4086.029914529915,
          4086.029914529915,
          4086.029914529915,
          4086.029914529915,
          4086.029914529915,
          4086.029914529915,
          4086.029914529915,
          4086.029914529915,
          4086.029914529915,
          4086.029914529915,
          4086.029914529915,
          4086.029914529915,
          4086.029914529915,
          4086.029914529915,
          4086.029914529915,
          4086.029914529915,
          4086.029914529915,
          4086.029914529915,
          4086.029914529915,
          4086.029914529915,
          4086.029914529915,
          4086.029914529915,
          4086.029914529915,
          4086.029914529915,
          4086.029914529915,
          4086.029914529915,
          4086.029914529915,
          4086.029914529915,
          4086.029914529915,
          4086.029914529915,
          4086.029914529915,
          4086.029914529915,
          4086.029914529915,
          4086.029914529915,
          4086.029914529915,
          4086.029914529915,
          4086.029914529915,
          4086.029914529915
         ],
         "yaxis": "y"
        }
       ],
       "layout": {
        "legend": {
         "title": {
          "text": "LINE"
         },
         "tracegroupgap": 0
        },
        "template": {
         "data": {
          "bar": [
           {
            "error_x": {
             "color": "#2a3f5f"
            },
            "error_y": {
             "color": "#2a3f5f"
            },
            "marker": {
             "line": {
              "color": "#E5ECF6",
              "width": 0.5
             },
             "pattern": {
              "fillmode": "overlay",
              "size": 10,
              "solidity": 0.2
             }
            },
            "type": "bar"
           }
          ],
          "barpolar": [
           {
            "marker": {
             "line": {
              "color": "#E5ECF6",
              "width": 0.5
             },
             "pattern": {
              "fillmode": "overlay",
              "size": 10,
              "solidity": 0.2
             }
            },
            "type": "barpolar"
           }
          ],
          "carpet": [
           {
            "aaxis": {
             "endlinecolor": "#2a3f5f",
             "gridcolor": "white",
             "linecolor": "white",
             "minorgridcolor": "white",
             "startlinecolor": "#2a3f5f"
            },
            "baxis": {
             "endlinecolor": "#2a3f5f",
             "gridcolor": "white",
             "linecolor": "white",
             "minorgridcolor": "white",
             "startlinecolor": "#2a3f5f"
            },
            "type": "carpet"
           }
          ],
          "choropleth": [
           {
            "colorbar": {
             "outlinewidth": 0,
             "ticks": ""
            },
            "type": "choropleth"
           }
          ],
          "contour": [
           {
            "colorbar": {
             "outlinewidth": 0,
             "ticks": ""
            },
            "colorscale": [
             [
              0,
              "#0d0887"
             ],
             [
              0.1111111111111111,
              "#46039f"
             ],
             [
              0.2222222222222222,
              "#7201a8"
             ],
             [
              0.3333333333333333,
              "#9c179e"
             ],
             [
              0.4444444444444444,
              "#bd3786"
             ],
             [
              0.5555555555555556,
              "#d8576b"
             ],
             [
              0.6666666666666666,
              "#ed7953"
             ],
             [
              0.7777777777777778,
              "#fb9f3a"
             ],
             [
              0.8888888888888888,
              "#fdca26"
             ],
             [
              1,
              "#f0f921"
             ]
            ],
            "type": "contour"
           }
          ],
          "contourcarpet": [
           {
            "colorbar": {
             "outlinewidth": 0,
             "ticks": ""
            },
            "type": "contourcarpet"
           }
          ],
          "heatmap": [
           {
            "colorbar": {
             "outlinewidth": 0,
             "ticks": ""
            },
            "colorscale": [
             [
              0,
              "#0d0887"
             ],
             [
              0.1111111111111111,
              "#46039f"
             ],
             [
              0.2222222222222222,
              "#7201a8"
             ],
             [
              0.3333333333333333,
              "#9c179e"
             ],
             [
              0.4444444444444444,
              "#bd3786"
             ],
             [
              0.5555555555555556,
              "#d8576b"
             ],
             [
              0.6666666666666666,
              "#ed7953"
             ],
             [
              0.7777777777777778,
              "#fb9f3a"
             ],
             [
              0.8888888888888888,
              "#fdca26"
             ],
             [
              1,
              "#f0f921"
             ]
            ],
            "type": "heatmap"
           }
          ],
          "heatmapgl": [
           {
            "colorbar": {
             "outlinewidth": 0,
             "ticks": ""
            },
            "colorscale": [
             [
              0,
              "#0d0887"
             ],
             [
              0.1111111111111111,
              "#46039f"
             ],
             [
              0.2222222222222222,
              "#7201a8"
             ],
             [
              0.3333333333333333,
              "#9c179e"
             ],
             [
              0.4444444444444444,
              "#bd3786"
             ],
             [
              0.5555555555555556,
              "#d8576b"
             ],
             [
              0.6666666666666666,
              "#ed7953"
             ],
             [
              0.7777777777777778,
              "#fb9f3a"
             ],
             [
              0.8888888888888888,
              "#fdca26"
             ],
             [
              1,
              "#f0f921"
             ]
            ],
            "type": "heatmapgl"
           }
          ],
          "histogram": [
           {
            "marker": {
             "pattern": {
              "fillmode": "overlay",
              "size": 10,
              "solidity": 0.2
             }
            },
            "type": "histogram"
           }
          ],
          "histogram2d": [
           {
            "colorbar": {
             "outlinewidth": 0,
             "ticks": ""
            },
            "colorscale": [
             [
              0,
              "#0d0887"
             ],
             [
              0.1111111111111111,
              "#46039f"
             ],
             [
              0.2222222222222222,
              "#7201a8"
             ],
             [
              0.3333333333333333,
              "#9c179e"
             ],
             [
              0.4444444444444444,
              "#bd3786"
             ],
             [
              0.5555555555555556,
              "#d8576b"
             ],
             [
              0.6666666666666666,
              "#ed7953"
             ],
             [
              0.7777777777777778,
              "#fb9f3a"
             ],
             [
              0.8888888888888888,
              "#fdca26"
             ],
             [
              1,
              "#f0f921"
             ]
            ],
            "type": "histogram2d"
           }
          ],
          "histogram2dcontour": [
           {
            "colorbar": {
             "outlinewidth": 0,
             "ticks": ""
            },
            "colorscale": [
             [
              0,
              "#0d0887"
             ],
             [
              0.1111111111111111,
              "#46039f"
             ],
             [
              0.2222222222222222,
              "#7201a8"
             ],
             [
              0.3333333333333333,
              "#9c179e"
             ],
             [
              0.4444444444444444,
              "#bd3786"
             ],
             [
              0.5555555555555556,
              "#d8576b"
             ],
             [
              0.6666666666666666,
              "#ed7953"
             ],
             [
              0.7777777777777778,
              "#fb9f3a"
             ],
             [
              0.8888888888888888,
              "#fdca26"
             ],
             [
              1,
              "#f0f921"
             ]
            ],
            "type": "histogram2dcontour"
           }
          ],
          "mesh3d": [
           {
            "colorbar": {
             "outlinewidth": 0,
             "ticks": ""
            },
            "type": "mesh3d"
           }
          ],
          "parcoords": [
           {
            "line": {
             "colorbar": {
              "outlinewidth": 0,
              "ticks": ""
             }
            },
            "type": "parcoords"
           }
          ],
          "pie": [
           {
            "automargin": true,
            "type": "pie"
           }
          ],
          "scatter": [
           {
            "marker": {
             "colorbar": {
              "outlinewidth": 0,
              "ticks": ""
             }
            },
            "type": "scatter"
           }
          ],
          "scatter3d": [
           {
            "line": {
             "colorbar": {
              "outlinewidth": 0,
              "ticks": ""
             }
            },
            "marker": {
             "colorbar": {
              "outlinewidth": 0,
              "ticks": ""
             }
            },
            "type": "scatter3d"
           }
          ],
          "scattercarpet": [
           {
            "marker": {
             "colorbar": {
              "outlinewidth": 0,
              "ticks": ""
             }
            },
            "type": "scattercarpet"
           }
          ],
          "scattergeo": [
           {
            "marker": {
             "colorbar": {
              "outlinewidth": 0,
              "ticks": ""
             }
            },
            "type": "scattergeo"
           }
          ],
          "scattergl": [
           {
            "marker": {
             "colorbar": {
              "outlinewidth": 0,
              "ticks": ""
             }
            },
            "type": "scattergl"
           }
          ],
          "scattermapbox": [
           {
            "marker": {
             "colorbar": {
              "outlinewidth": 0,
              "ticks": ""
             }
            },
            "type": "scattermapbox"
           }
          ],
          "scatterpolar": [
           {
            "marker": {
             "colorbar": {
              "outlinewidth": 0,
              "ticks": ""
             }
            },
            "type": "scatterpolar"
           }
          ],
          "scatterpolargl": [
           {
            "marker": {
             "colorbar": {
              "outlinewidth": 0,
              "ticks": ""
             }
            },
            "type": "scatterpolargl"
           }
          ],
          "scatterternary": [
           {
            "marker": {
             "colorbar": {
              "outlinewidth": 0,
              "ticks": ""
             }
            },
            "type": "scatterternary"
           }
          ],
          "surface": [
           {
            "colorbar": {
             "outlinewidth": 0,
             "ticks": ""
            },
            "colorscale": [
             [
              0,
              "#0d0887"
             ],
             [
              0.1111111111111111,
              "#46039f"
             ],
             [
              0.2222222222222222,
              "#7201a8"
             ],
             [
              0.3333333333333333,
              "#9c179e"
             ],
             [
              0.4444444444444444,
              "#bd3786"
             ],
             [
              0.5555555555555556,
              "#d8576b"
             ],
             [
              0.6666666666666666,
              "#ed7953"
             ],
             [
              0.7777777777777778,
              "#fb9f3a"
             ],
             [
              0.8888888888888888,
              "#fdca26"
             ],
             [
              1,
              "#f0f921"
             ]
            ],
            "type": "surface"
           }
          ],
          "table": [
           {
            "cells": {
             "fill": {
              "color": "#EBF0F8"
             },
             "line": {
              "color": "white"
             }
            },
            "header": {
             "fill": {
              "color": "#C8D4E3"
             },
             "line": {
              "color": "white"
             }
            },
            "type": "table"
           }
          ]
         },
         "layout": {
          "annotationdefaults": {
           "arrowcolor": "#2a3f5f",
           "arrowhead": 0,
           "arrowwidth": 1
          },
          "autotypenumbers": "strict",
          "coloraxis": {
           "colorbar": {
            "outlinewidth": 0,
            "ticks": ""
           }
          },
          "colorscale": {
           "diverging": [
            [
             0,
             "#8e0152"
            ],
            [
             0.1,
             "#c51b7d"
            ],
            [
             0.2,
             "#de77ae"
            ],
            [
             0.3,
             "#f1b6da"
            ],
            [
             0.4,
             "#fde0ef"
            ],
            [
             0.5,
             "#f7f7f7"
            ],
            [
             0.6,
             "#e6f5d0"
            ],
            [
             0.7,
             "#b8e186"
            ],
            [
             0.8,
             "#7fbc41"
            ],
            [
             0.9,
             "#4d9221"
            ],
            [
             1,
             "#276419"
            ]
           ],
           "sequential": [
            [
             0,
             "#0d0887"
            ],
            [
             0.1111111111111111,
             "#46039f"
            ],
            [
             0.2222222222222222,
             "#7201a8"
            ],
            [
             0.3333333333333333,
             "#9c179e"
            ],
            [
             0.4444444444444444,
             "#bd3786"
            ],
            [
             0.5555555555555556,
             "#d8576b"
            ],
            [
             0.6666666666666666,
             "#ed7953"
            ],
            [
             0.7777777777777778,
             "#fb9f3a"
            ],
            [
             0.8888888888888888,
             "#fdca26"
            ],
            [
             1,
             "#f0f921"
            ]
           ],
           "sequentialminus": [
            [
             0,
             "#0d0887"
            ],
            [
             0.1111111111111111,
             "#46039f"
            ],
            [
             0.2222222222222222,
             "#7201a8"
            ],
            [
             0.3333333333333333,
             "#9c179e"
            ],
            [
             0.4444444444444444,
             "#bd3786"
            ],
            [
             0.5555555555555556,
             "#d8576b"
            ],
            [
             0.6666666666666666,
             "#ed7953"
            ],
            [
             0.7777777777777778,
             "#fb9f3a"
            ],
            [
             0.8888888888888888,
             "#fdca26"
            ],
            [
             1,
             "#f0f921"
            ]
           ]
          },
          "colorway": [
           "#636efa",
           "#EF553B",
           "#00cc96",
           "#ab63fa",
           "#FFA15A",
           "#19d3f3",
           "#FF6692",
           "#B6E880",
           "#FF97FF",
           "#FECB52"
          ],
          "font": {
           "color": "#2a3f5f"
          },
          "geo": {
           "bgcolor": "white",
           "lakecolor": "white",
           "landcolor": "#E5ECF6",
           "showlakes": true,
           "showland": true,
           "subunitcolor": "white"
          },
          "hoverlabel": {
           "align": "left"
          },
          "hovermode": "closest",
          "mapbox": {
           "style": "light"
          },
          "paper_bgcolor": "white",
          "plot_bgcolor": "#E5ECF6",
          "polar": {
           "angularaxis": {
            "gridcolor": "white",
            "linecolor": "white",
            "ticks": ""
           },
           "bgcolor": "#E5ECF6",
           "radialaxis": {
            "gridcolor": "white",
            "linecolor": "white",
            "ticks": ""
           }
          },
          "scene": {
           "xaxis": {
            "backgroundcolor": "#E5ECF6",
            "gridcolor": "white",
            "gridwidth": 2,
            "linecolor": "white",
            "showbackground": true,
            "ticks": "",
            "zerolinecolor": "white"
           },
           "yaxis": {
            "backgroundcolor": "#E5ECF6",
            "gridcolor": "white",
            "gridwidth": 2,
            "linecolor": "white",
            "showbackground": true,
            "ticks": "",
            "zerolinecolor": "white"
           },
           "zaxis": {
            "backgroundcolor": "#E5ECF6",
            "gridcolor": "white",
            "gridwidth": 2,
            "linecolor": "white",
            "showbackground": true,
            "ticks": "",
            "zerolinecolor": "white"
           }
          },
          "shapedefaults": {
           "line": {
            "color": "#2a3f5f"
           }
          },
          "ternary": {
           "aaxis": {
            "gridcolor": "white",
            "linecolor": "white",
            "ticks": ""
           },
           "baxis": {
            "gridcolor": "white",
            "linecolor": "white",
            "ticks": ""
           },
           "bgcolor": "#E5ECF6",
           "caxis": {
            "gridcolor": "white",
            "linecolor": "white",
            "ticks": ""
           }
          },
          "title": {
           "x": 0.05
          },
          "xaxis": {
           "automargin": true,
           "gridcolor": "white",
           "linecolor": "white",
           "ticks": "",
           "title": {
            "standoff": 15
           },
           "zerolinecolor": "white",
           "zerolinewidth": 2
          },
          "yaxis": {
           "automargin": true,
           "gridcolor": "white",
           "linecolor": "white",
           "ticks": "",
           "title": {
            "standoff": 15
           },
           "zerolinecolor": "white",
           "zerolinewidth": 2
          }
         }
        },
        "title": {
         "text": "Projection on time for II (PUBLIC - M)"
        },
        "xaxis": {
         "anchor": "y",
         "domain": [
          0,
          1
         ],
         "title": {
          "text": "DATE"
         }
        },
        "yaxis": {
         "anchor": "x",
         "domain": [
          0,
          1
         ],
         "title": {
          "text": "QTY_PEOPLE_SERVED"
         }
        }
       }
      },
      "text/html": [
       "<div>                            <div id=\"f8d1ab2e-b971-448a-8efd-93338797d71b\" class=\"plotly-graph-div\" style=\"height:525px; width:100%;\"></div>            <script type=\"text/javascript\">                require([\"plotly\"], function(Plotly) {                    window.PLOTLYENV=window.PLOTLYENV || {};                                    if (document.getElementById(\"f8d1ab2e-b971-448a-8efd-93338797d71b\")) {                    Plotly.newPlot(                        \"f8d1ab2e-b971-448a-8efd-93338797d71b\",                        [{\"hovertemplate\":\"LINE=BL_FORMATOR<br>DATE=%{x}<br>QTY_PEOPLE_SERVED=%{y}<extra></extra>\",\"legendgroup\":\"BL_FORMATOR\",\"line\":{\"color\":\"#636efa\",\"dash\":\"solid\"},\"marker\":{\"symbol\":\"circle\"},\"mode\":\"lines\",\"name\":\"BL_FORMATOR\",\"orientation\":\"v\",\"showlegend\":true,\"x\":[\"2022-05-01T00:00:00\",\"2022-04-01T00:00:00\",\"2022-03-01T00:00:00\",\"2022-02-01T00:00:00\",\"2022-01-01T00:00:00\",\"2021-12-01T00:00:00\",\"2021-11-01T00:00:00\",\"2021-10-01T00:00:00\",\"2021-09-01T00:00:00\",\"2021-08-01T00:00:00\",\"2021-07-01T00:00:00\",\"2021-06-01T00:00:00\",\"2021-05-01T00:00:00\",\"2021-04-01T00:00:00\",\"2021-03-01T00:00:00\",\"2021-02-01T00:00:00\",\"2021-01-01T00:00:00\",\"2020-12-01T00:00:00\",\"2020-11-01T00:00:00\",\"2020-10-01T00:00:00\",\"2020-09-01T00:00:00\",\"2020-08-01T00:00:00\",\"2020-07-01T00:00:00\",\"2020-06-01T00:00:00\",\"2020-05-01T00:00:00\",\"2020-04-01T00:00:00\",\"2020-03-01T00:00:00\",\"2020-02-01T00:00:00\",\"2020-01-01T00:00:00\",\"2019-12-01T00:00:00\",\"2019-11-01T00:00:00\",\"2019-10-01T00:00:00\",\"2019-09-01T00:00:00\",\"2019-08-01T00:00:00\",\"2019-07-01T00:00:00\",\"2019-06-01T00:00:00\",\"2019-05-01T00:00:00\",\"2019-04-01T00:00:00\",\"2019-03-01T00:00:00\",\"2019-02-01T00:00:00\",\"2019-01-01T00:00:00\"],\"xaxis\":\"x\",\"y\":[null,null,null,null,null,null,null,null,null,null,null,null,null,null,null,null,null,null,null,null,null,null,null,null,null,null,null,null,null,null,null,null,3896.5,3743.6923076923076,3627.653846153846,4662.2307692307695,4145.346153846154,3680.653846153846,4076.3846153846152,3685.153846153846,5256.653846153846],\"yaxis\":\"y\",\"type\":\"scatter\"},{\"hovertemplate\":\"LINE=COVID_3M<br>DATE=%{x}<br>QTY_PEOPLE_SERVED=%{y}<extra></extra>\",\"legendgroup\":\"COVID_3M\",\"line\":{\"color\":\"#EF553B\",\"dash\":\"solid\"},\"marker\":{\"symbol\":\"circle\"},\"mode\":\"lines\",\"name\":\"COVID_3M\",\"orientation\":\"v\",\"showlegend\":true,\"x\":[\"2022-05-01T00:00:00\",\"2022-04-01T00:00:00\",\"2022-03-01T00:00:00\",\"2022-02-01T00:00:00\",\"2022-01-01T00:00:00\",\"2021-12-01T00:00:00\",\"2021-11-01T00:00:00\",\"2021-10-01T00:00:00\",\"2021-09-01T00:00:00\",\"2021-08-01T00:00:00\",\"2021-07-01T00:00:00\",\"2021-06-01T00:00:00\",\"2021-05-01T00:00:00\",\"2021-04-01T00:00:00\",\"2021-03-01T00:00:00\",\"2021-02-01T00:00:00\",\"2021-01-01T00:00:00\",\"2020-12-01T00:00:00\",\"2020-11-01T00:00:00\",\"2020-10-01T00:00:00\",\"2020-09-01T00:00:00\",\"2020-08-01T00:00:00\",\"2020-07-01T00:00:00\",\"2020-06-01T00:00:00\",\"2020-05-01T00:00:00\",\"2020-04-01T00:00:00\",\"2020-03-01T00:00:00\",\"2020-02-01T00:00:00\",\"2020-01-01T00:00:00\",\"2019-12-01T00:00:00\",\"2019-11-01T00:00:00\",\"2019-10-01T00:00:00\",\"2019-09-01T00:00:00\",\"2019-08-01T00:00:00\",\"2019-07-01T00:00:00\",\"2019-06-01T00:00:00\",\"2019-05-01T00:00:00\",\"2019-04-01T00:00:00\",\"2019-03-01T00:00:00\",\"2019-02-01T00:00:00\",\"2019-01-01T00:00:00\"],\"xaxis\":\"x\",\"y\":[null,null,null,null,null,null,null,null,null,null,null,null,null,null,null,null,null,null,null,null,null,null,null,864.0384615384615,710.7777777777778,574.3846153846154,null,null,null,null,null,null,null,null,null,null,null,null,null,null,null],\"yaxis\":\"y\",\"type\":\"scatter\"},{\"hovertemplate\":\"LINE=BASE_LINE<br>DATE=%{x}<br>QTY_PEOPLE_SERVED=%{y}<extra></extra>\",\"legendgroup\":\"BASE_LINE\",\"line\":{\"color\":\"#00cc96\",\"dash\":\"solid\"},\"marker\":{\"symbol\":\"circle\"},\"mode\":\"lines\",\"name\":\"BASE_LINE\",\"orientation\":\"v\",\"showlegend\":true,\"x\":[\"2022-05-01T00:00:00\",\"2022-04-01T00:00:00\",\"2022-03-01T00:00:00\",\"2022-02-01T00:00:00\",\"2022-01-01T00:00:00\",\"2021-12-01T00:00:00\",\"2021-11-01T00:00:00\",\"2021-10-01T00:00:00\",\"2021-09-01T00:00:00\",\"2021-08-01T00:00:00\",\"2021-07-01T00:00:00\",\"2021-06-01T00:00:00\",\"2021-05-01T00:00:00\",\"2021-04-01T00:00:00\",\"2021-03-01T00:00:00\",\"2021-02-01T00:00:00\",\"2021-01-01T00:00:00\",\"2020-12-01T00:00:00\",\"2020-11-01T00:00:00\",\"2020-10-01T00:00:00\",\"2020-09-01T00:00:00\",\"2020-08-01T00:00:00\",\"2020-07-01T00:00:00\",\"2020-06-01T00:00:00\",\"2020-05-01T00:00:00\",\"2020-04-01T00:00:00\",\"2020-03-01T00:00:00\",\"2020-02-01T00:00:00\",\"2020-01-01T00:00:00\",\"2019-12-01T00:00:00\",\"2019-11-01T00:00:00\",\"2019-10-01T00:00:00\",\"2019-09-01T00:00:00\",\"2019-08-01T00:00:00\",\"2019-07-01T00:00:00\",\"2019-06-01T00:00:00\",\"2019-05-01T00:00:00\",\"2019-04-01T00:00:00\",\"2019-03-01T00:00:00\",\"2019-02-01T00:00:00\",\"2019-01-01T00:00:00\"],\"xaxis\":\"x\",\"y\":[4086.029914529915,4086.029914529915,4086.029914529915,4086.029914529915,4086.029914529915,4086.029914529915,4086.029914529915,4086.029914529915,4086.029914529915,4086.029914529915,4086.029914529915,4086.029914529915,4086.029914529915,4086.029914529915,4086.029914529915,4086.029914529915,4086.029914529915,4086.029914529915,4086.029914529915,4086.029914529915,4086.029914529915,4086.029914529915,4086.029914529915,4086.029914529915,4086.029914529915,4086.029914529915,4086.029914529915,4086.029914529915,4086.029914529915,4086.029914529915,4086.029914529915,4086.029914529915,4086.029914529915,4086.029914529915,4086.029914529915,4086.029914529915,4086.029914529915,4086.029914529915,4086.029914529915,4086.029914529915,4086.029914529915],\"yaxis\":\"y\",\"type\":\"scatter\"}],                        {\"template\":{\"data\":{\"bar\":[{\"error_x\":{\"color\":\"#2a3f5f\"},\"error_y\":{\"color\":\"#2a3f5f\"},\"marker\":{\"line\":{\"color\":\"#E5ECF6\",\"width\":0.5},\"pattern\":{\"fillmode\":\"overlay\",\"size\":10,\"solidity\":0.2}},\"type\":\"bar\"}],\"barpolar\":[{\"marker\":{\"line\":{\"color\":\"#E5ECF6\",\"width\":0.5},\"pattern\":{\"fillmode\":\"overlay\",\"size\":10,\"solidity\":0.2}},\"type\":\"barpolar\"}],\"carpet\":[{\"aaxis\":{\"endlinecolor\":\"#2a3f5f\",\"gridcolor\":\"white\",\"linecolor\":\"white\",\"minorgridcolor\":\"white\",\"startlinecolor\":\"#2a3f5f\"},\"baxis\":{\"endlinecolor\":\"#2a3f5f\",\"gridcolor\":\"white\",\"linecolor\":\"white\",\"minorgridcolor\":\"white\",\"startlinecolor\":\"#2a3f5f\"},\"type\":\"carpet\"}],\"choropleth\":[{\"colorbar\":{\"outlinewidth\":0,\"ticks\":\"\"},\"type\":\"choropleth\"}],\"contour\":[{\"colorbar\":{\"outlinewidth\":0,\"ticks\":\"\"},\"colorscale\":[[0.0,\"#0d0887\"],[0.1111111111111111,\"#46039f\"],[0.2222222222222222,\"#7201a8\"],[0.3333333333333333,\"#9c179e\"],[0.4444444444444444,\"#bd3786\"],[0.5555555555555556,\"#d8576b\"],[0.6666666666666666,\"#ed7953\"],[0.7777777777777778,\"#fb9f3a\"],[0.8888888888888888,\"#fdca26\"],[1.0,\"#f0f921\"]],\"type\":\"contour\"}],\"contourcarpet\":[{\"colorbar\":{\"outlinewidth\":0,\"ticks\":\"\"},\"type\":\"contourcarpet\"}],\"heatmap\":[{\"colorbar\":{\"outlinewidth\":0,\"ticks\":\"\"},\"colorscale\":[[0.0,\"#0d0887\"],[0.1111111111111111,\"#46039f\"],[0.2222222222222222,\"#7201a8\"],[0.3333333333333333,\"#9c179e\"],[0.4444444444444444,\"#bd3786\"],[0.5555555555555556,\"#d8576b\"],[0.6666666666666666,\"#ed7953\"],[0.7777777777777778,\"#fb9f3a\"],[0.8888888888888888,\"#fdca26\"],[1.0,\"#f0f921\"]],\"type\":\"heatmap\"}],\"heatmapgl\":[{\"colorbar\":{\"outlinewidth\":0,\"ticks\":\"\"},\"colorscale\":[[0.0,\"#0d0887\"],[0.1111111111111111,\"#46039f\"],[0.2222222222222222,\"#7201a8\"],[0.3333333333333333,\"#9c179e\"],[0.4444444444444444,\"#bd3786\"],[0.5555555555555556,\"#d8576b\"],[0.6666666666666666,\"#ed7953\"],[0.7777777777777778,\"#fb9f3a\"],[0.8888888888888888,\"#fdca26\"],[1.0,\"#f0f921\"]],\"type\":\"heatmapgl\"}],\"histogram\":[{\"marker\":{\"pattern\":{\"fillmode\":\"overlay\",\"size\":10,\"solidity\":0.2}},\"type\":\"histogram\"}],\"histogram2d\":[{\"colorbar\":{\"outlinewidth\":0,\"ticks\":\"\"},\"colorscale\":[[0.0,\"#0d0887\"],[0.1111111111111111,\"#46039f\"],[0.2222222222222222,\"#7201a8\"],[0.3333333333333333,\"#9c179e\"],[0.4444444444444444,\"#bd3786\"],[0.5555555555555556,\"#d8576b\"],[0.6666666666666666,\"#ed7953\"],[0.7777777777777778,\"#fb9f3a\"],[0.8888888888888888,\"#fdca26\"],[1.0,\"#f0f921\"]],\"type\":\"histogram2d\"}],\"histogram2dcontour\":[{\"colorbar\":{\"outlinewidth\":0,\"ticks\":\"\"},\"colorscale\":[[0.0,\"#0d0887\"],[0.1111111111111111,\"#46039f\"],[0.2222222222222222,\"#7201a8\"],[0.3333333333333333,\"#9c179e\"],[0.4444444444444444,\"#bd3786\"],[0.5555555555555556,\"#d8576b\"],[0.6666666666666666,\"#ed7953\"],[0.7777777777777778,\"#fb9f3a\"],[0.8888888888888888,\"#fdca26\"],[1.0,\"#f0f921\"]],\"type\":\"histogram2dcontour\"}],\"mesh3d\":[{\"colorbar\":{\"outlinewidth\":0,\"ticks\":\"\"},\"type\":\"mesh3d\"}],\"parcoords\":[{\"line\":{\"colorbar\":{\"outlinewidth\":0,\"ticks\":\"\"}},\"type\":\"parcoords\"}],\"pie\":[{\"automargin\":true,\"type\":\"pie\"}],\"scatter\":[{\"marker\":{\"colorbar\":{\"outlinewidth\":0,\"ticks\":\"\"}},\"type\":\"scatter\"}],\"scatter3d\":[{\"line\":{\"colorbar\":{\"outlinewidth\":0,\"ticks\":\"\"}},\"marker\":{\"colorbar\":{\"outlinewidth\":0,\"ticks\":\"\"}},\"type\":\"scatter3d\"}],\"scattercarpet\":[{\"marker\":{\"colorbar\":{\"outlinewidth\":0,\"ticks\":\"\"}},\"type\":\"scattercarpet\"}],\"scattergeo\":[{\"marker\":{\"colorbar\":{\"outlinewidth\":0,\"ticks\":\"\"}},\"type\":\"scattergeo\"}],\"scattergl\":[{\"marker\":{\"colorbar\":{\"outlinewidth\":0,\"ticks\":\"\"}},\"type\":\"scattergl\"}],\"scattermapbox\":[{\"marker\":{\"colorbar\":{\"outlinewidth\":0,\"ticks\":\"\"}},\"type\":\"scattermapbox\"}],\"scatterpolar\":[{\"marker\":{\"colorbar\":{\"outlinewidth\":0,\"ticks\":\"\"}},\"type\":\"scatterpolar\"}],\"scatterpolargl\":[{\"marker\":{\"colorbar\":{\"outlinewidth\":0,\"ticks\":\"\"}},\"type\":\"scatterpolargl\"}],\"scatterternary\":[{\"marker\":{\"colorbar\":{\"outlinewidth\":0,\"ticks\":\"\"}},\"type\":\"scatterternary\"}],\"surface\":[{\"colorbar\":{\"outlinewidth\":0,\"ticks\":\"\"},\"colorscale\":[[0.0,\"#0d0887\"],[0.1111111111111111,\"#46039f\"],[0.2222222222222222,\"#7201a8\"],[0.3333333333333333,\"#9c179e\"],[0.4444444444444444,\"#bd3786\"],[0.5555555555555556,\"#d8576b\"],[0.6666666666666666,\"#ed7953\"],[0.7777777777777778,\"#fb9f3a\"],[0.8888888888888888,\"#fdca26\"],[1.0,\"#f0f921\"]],\"type\":\"surface\"}],\"table\":[{\"cells\":{\"fill\":{\"color\":\"#EBF0F8\"},\"line\":{\"color\":\"white\"}},\"header\":{\"fill\":{\"color\":\"#C8D4E3\"},\"line\":{\"color\":\"white\"}},\"type\":\"table\"}]},\"layout\":{\"annotationdefaults\":{\"arrowcolor\":\"#2a3f5f\",\"arrowhead\":0,\"arrowwidth\":1},\"autotypenumbers\":\"strict\",\"coloraxis\":{\"colorbar\":{\"outlinewidth\":0,\"ticks\":\"\"}},\"colorscale\":{\"diverging\":[[0,\"#8e0152\"],[0.1,\"#c51b7d\"],[0.2,\"#de77ae\"],[0.3,\"#f1b6da\"],[0.4,\"#fde0ef\"],[0.5,\"#f7f7f7\"],[0.6,\"#e6f5d0\"],[0.7,\"#b8e186\"],[0.8,\"#7fbc41\"],[0.9,\"#4d9221\"],[1,\"#276419\"]],\"sequential\":[[0.0,\"#0d0887\"],[0.1111111111111111,\"#46039f\"],[0.2222222222222222,\"#7201a8\"],[0.3333333333333333,\"#9c179e\"],[0.4444444444444444,\"#bd3786\"],[0.5555555555555556,\"#d8576b\"],[0.6666666666666666,\"#ed7953\"],[0.7777777777777778,\"#fb9f3a\"],[0.8888888888888888,\"#fdca26\"],[1.0,\"#f0f921\"]],\"sequentialminus\":[[0.0,\"#0d0887\"],[0.1111111111111111,\"#46039f\"],[0.2222222222222222,\"#7201a8\"],[0.3333333333333333,\"#9c179e\"],[0.4444444444444444,\"#bd3786\"],[0.5555555555555556,\"#d8576b\"],[0.6666666666666666,\"#ed7953\"],[0.7777777777777778,\"#fb9f3a\"],[0.8888888888888888,\"#fdca26\"],[1.0,\"#f0f921\"]]},\"colorway\":[\"#636efa\",\"#EF553B\",\"#00cc96\",\"#ab63fa\",\"#FFA15A\",\"#19d3f3\",\"#FF6692\",\"#B6E880\",\"#FF97FF\",\"#FECB52\"],\"font\":{\"color\":\"#2a3f5f\"},\"geo\":{\"bgcolor\":\"white\",\"lakecolor\":\"white\",\"landcolor\":\"#E5ECF6\",\"showlakes\":true,\"showland\":true,\"subunitcolor\":\"white\"},\"hoverlabel\":{\"align\":\"left\"},\"hovermode\":\"closest\",\"mapbox\":{\"style\":\"light\"},\"paper_bgcolor\":\"white\",\"plot_bgcolor\":\"#E5ECF6\",\"polar\":{\"angularaxis\":{\"gridcolor\":\"white\",\"linecolor\":\"white\",\"ticks\":\"\"},\"bgcolor\":\"#E5ECF6\",\"radialaxis\":{\"gridcolor\":\"white\",\"linecolor\":\"white\",\"ticks\":\"\"}},\"scene\":{\"xaxis\":{\"backgroundcolor\":\"#E5ECF6\",\"gridcolor\":\"white\",\"gridwidth\":2,\"linecolor\":\"white\",\"showbackground\":true,\"ticks\":\"\",\"zerolinecolor\":\"white\"},\"yaxis\":{\"backgroundcolor\":\"#E5ECF6\",\"gridcolor\":\"white\",\"gridwidth\":2,\"linecolor\":\"white\",\"showbackground\":true,\"ticks\":\"\",\"zerolinecolor\":\"white\"},\"zaxis\":{\"backgroundcolor\":\"#E5ECF6\",\"gridcolor\":\"white\",\"gridwidth\":2,\"linecolor\":\"white\",\"showbackground\":true,\"ticks\":\"\",\"zerolinecolor\":\"white\"}},\"shapedefaults\":{\"line\":{\"color\":\"#2a3f5f\"}},\"ternary\":{\"aaxis\":{\"gridcolor\":\"white\",\"linecolor\":\"white\",\"ticks\":\"\"},\"baxis\":{\"gridcolor\":\"white\",\"linecolor\":\"white\",\"ticks\":\"\"},\"bgcolor\":\"#E5ECF6\",\"caxis\":{\"gridcolor\":\"white\",\"linecolor\":\"white\",\"ticks\":\"\"}},\"title\":{\"x\":0.05},\"xaxis\":{\"automargin\":true,\"gridcolor\":\"white\",\"linecolor\":\"white\",\"ticks\":\"\",\"title\":{\"standoff\":15},\"zerolinecolor\":\"white\",\"zerolinewidth\":2},\"yaxis\":{\"automargin\":true,\"gridcolor\":\"white\",\"linecolor\":\"white\",\"ticks\":\"\",\"title\":{\"standoff\":15},\"zerolinecolor\":\"white\",\"zerolinewidth\":2}}},\"xaxis\":{\"anchor\":\"y\",\"domain\":[0.0,1.0],\"title\":{\"text\":\"DATE\"}},\"yaxis\":{\"anchor\":\"x\",\"domain\":[0.0,1.0],\"title\":{\"text\":\"QTY_PEOPLE_SERVED\"}},\"legend\":{\"title\":{\"text\":\"LINE\"},\"tracegroupgap\":0},\"title\":{\"text\":\"Projection on time for II (PUBLIC - M)\"}},                        {\"responsive\": true}                    ).then(function(){\n",
       "                            \n",
       "var gd = document.getElementById('f8d1ab2e-b971-448a-8efd-93338797d71b');\n",
       "var x = new MutationObserver(function (mutations, observer) {{\n",
       "        var display = window.getComputedStyle(gd).display;\n",
       "        if (!display || display === 'none') {{\n",
       "            console.log([gd, 'removed!']);\n",
       "            Plotly.purge(gd);\n",
       "            observer.disconnect();\n",
       "        }}\n",
       "}});\n",
       "\n",
       "// Listen for the removal of the full notebook cells\n",
       "var notebookContainer = gd.closest('#notebook-container');\n",
       "if (notebookContainer) {{\n",
       "    x.observe(notebookContainer, {childList: true});\n",
       "}}\n",
       "\n",
       "// Listen for the clearing of the current output cell\n",
       "var outputEl = gd.closest('.output');\n",
       "if (outputEl) {{\n",
       "    x.observe(outputEl, {childList: true});\n",
       "}}\n",
       "\n",
       "                        })                };                });            </script>        </div>"
      ]
     },
     "metadata": {},
     "output_type": "display_data"
    }
   ],
   "source": [
    "TAG_GENDER = 'M'\n",
    "new_base_df_temp = new_base_df[(new_base_df['SEX']==TAG_GENDER) & (new_base_df['SECTOR_R']==TAG_SECTOR)]\n",
    "new_base_df_temp = new_base_df_temp.reset_index(drop=True)\n",
    "new_base_df_temp['BASE_LINE'] = new_base_df_temp['BL_FORMATOR'].mean()\n",
    "\n",
    "forecast_df = new_base_df_temp[['DATE', \n",
    "                                'PEOPLE_SERVED_NORMALIZED',\n",
    "                                'BL_FORMATOR',\n",
    "                                'COVID_3M',\n",
    "                                'COVID',\n",
    "                                'BASE_LINE']].melt(id_vars=['DATE'],\n",
    "                                                  value_vars=[#'PEOPLE_SERVED_NORMALIZED',\n",
    "                                                              'BL_FORMATOR',\n",
    "                                                              'COVID_3M',\n",
    "                                                              #'COVID',\n",
    "                                                              'BASE_LINE'],\n",
    "                                                  var_name=\"LINE\",\n",
    "                                                  value_name=\"QTY_PEOPLE_SERVED\")\n",
    "\n",
    "fig = px.line(forecast_df,\n",
    "              x=\"DATE\",\n",
    "              y=\"QTY_PEOPLE_SERVED\",\n",
    "              color='LINE',\n",
    "              title='Projection on time for ' + TAG_CATEGORY +' ('+TAG_SECTOR+' - '+TAG_GENDER+')'\n",
    "             )\n",
    "\n",
    "fig.show()\n",
    "#fig.show(renderer=\"svg\")"
   ]
  },
  {
   "cell_type": "markdown",
   "id": "d870e413",
   "metadata": {
    "heading_collapsed": true
   },
   "source": [
    "##### For Women analysis"
   ]
  },
  {
   "cell_type": "code",
   "execution_count": 139,
   "id": "0d3b309f",
   "metadata": {
    "hidden": true
   },
   "outputs": [
    {
     "data": {
      "application/vnd.plotly.v1+json": {
       "config": {
        "plotlyServerURL": "https://plot.ly"
       },
       "data": [
        {
         "hovertemplate": "LINE=BL_FORMATOR<br>DATE=%{x}<br>QTY_PEOPLE_SERVED=%{y}<extra></extra>",
         "legendgroup": "BL_FORMATOR",
         "line": {
          "color": "#636efa",
          "dash": "solid"
         },
         "marker": {
          "symbol": "circle"
         },
         "mode": "lines",
         "name": "BL_FORMATOR",
         "orientation": "v",
         "showlegend": true,
         "type": "scatter",
         "x": [
          "2022-05-01T00:00:00",
          "2022-04-01T00:00:00",
          "2022-03-01T00:00:00",
          "2022-02-01T00:00:00",
          "2022-01-01T00:00:00",
          "2021-12-01T00:00:00",
          "2021-11-01T00:00:00",
          "2021-10-01T00:00:00",
          "2021-09-01T00:00:00",
          "2021-08-01T00:00:00",
          "2021-07-01T00:00:00",
          "2021-06-01T00:00:00",
          "2021-05-01T00:00:00",
          "2021-04-01T00:00:00",
          "2021-03-01T00:00:00",
          "2021-02-01T00:00:00",
          "2021-01-01T00:00:00",
          "2020-12-01T00:00:00",
          "2020-11-01T00:00:00",
          "2020-10-01T00:00:00",
          "2020-09-01T00:00:00",
          "2020-08-01T00:00:00",
          "2020-07-01T00:00:00",
          "2020-06-01T00:00:00",
          "2020-05-01T00:00:00",
          "2020-04-01T00:00:00",
          "2020-03-01T00:00:00",
          "2020-02-01T00:00:00",
          "2020-01-01T00:00:00",
          "2019-12-01T00:00:00",
          "2019-11-01T00:00:00",
          "2019-10-01T00:00:00",
          "2019-09-01T00:00:00",
          "2019-08-01T00:00:00",
          "2019-07-01T00:00:00",
          "2019-06-01T00:00:00",
          "2019-05-01T00:00:00",
          "2019-04-01T00:00:00",
          "2019-03-01T00:00:00",
          "2019-02-01T00:00:00",
          "2019-01-01T00:00:00"
         ],
         "xaxis": "x",
         "y": [
          null,
          null,
          null,
          null,
          null,
          null,
          null,
          null,
          null,
          null,
          null,
          null,
          null,
          null,
          null,
          null,
          null,
          null,
          null,
          null,
          null,
          null,
          null,
          null,
          null,
          null,
          null,
          null,
          null,
          null,
          null,
          null,
          6364.192307692308,
          6014.115384615385,
          5869.038461538462,
          7232.576923076923,
          6273.5,
          5720.7307692307695,
          6839.2692307692305,
          6280.7692307692305,
          8011.2692307692305
         ],
         "yaxis": "y"
        },
        {
         "hovertemplate": "LINE=COVID_3M<br>DATE=%{x}<br>QTY_PEOPLE_SERVED=%{y}<extra></extra>",
         "legendgroup": "COVID_3M",
         "line": {
          "color": "#EF553B",
          "dash": "solid"
         },
         "marker": {
          "symbol": "circle"
         },
         "mode": "lines",
         "name": "COVID_3M",
         "orientation": "v",
         "showlegend": true,
         "type": "scatter",
         "x": [
          "2022-05-01T00:00:00",
          "2022-04-01T00:00:00",
          "2022-03-01T00:00:00",
          "2022-02-01T00:00:00",
          "2022-01-01T00:00:00",
          "2021-12-01T00:00:00",
          "2021-11-01T00:00:00",
          "2021-10-01T00:00:00",
          "2021-09-01T00:00:00",
          "2021-08-01T00:00:00",
          "2021-07-01T00:00:00",
          "2021-06-01T00:00:00",
          "2021-05-01T00:00:00",
          "2021-04-01T00:00:00",
          "2021-03-01T00:00:00",
          "2021-02-01T00:00:00",
          "2021-01-01T00:00:00",
          "2020-12-01T00:00:00",
          "2020-11-01T00:00:00",
          "2020-10-01T00:00:00",
          "2020-09-01T00:00:00",
          "2020-08-01T00:00:00",
          "2020-07-01T00:00:00",
          "2020-06-01T00:00:00",
          "2020-05-01T00:00:00",
          "2020-04-01T00:00:00",
          "2020-03-01T00:00:00",
          "2020-02-01T00:00:00",
          "2020-01-01T00:00:00",
          "2019-12-01T00:00:00",
          "2019-11-01T00:00:00",
          "2019-10-01T00:00:00",
          "2019-09-01T00:00:00",
          "2019-08-01T00:00:00",
          "2019-07-01T00:00:00",
          "2019-06-01T00:00:00",
          "2019-05-01T00:00:00",
          "2019-04-01T00:00:00",
          "2019-03-01T00:00:00",
          "2019-02-01T00:00:00",
          "2019-01-01T00:00:00"
         ],
         "xaxis": "x",
         "y": [
          null,
          null,
          null,
          null,
          null,
          null,
          null,
          null,
          null,
          null,
          null,
          null,
          null,
          null,
          null,
          null,
          null,
          null,
          null,
          null,
          null,
          null,
          null,
          1116.076923076923,
          866.2592592592592,
          733.7692307692307,
          null,
          null,
          null,
          null,
          null,
          null,
          null,
          null,
          null,
          null,
          null,
          null,
          null,
          null,
          null
         ],
         "yaxis": "y"
        },
        {
         "hovertemplate": "LINE=BASE_LINE<br>DATE=%{x}<br>QTY_PEOPLE_SERVED=%{y}<extra></extra>",
         "legendgroup": "BASE_LINE",
         "line": {
          "color": "#00cc96",
          "dash": "solid"
         },
         "marker": {
          "symbol": "circle"
         },
         "mode": "lines",
         "name": "BASE_LINE",
         "orientation": "v",
         "showlegend": true,
         "type": "scatter",
         "x": [
          "2022-05-01T00:00:00",
          "2022-04-01T00:00:00",
          "2022-03-01T00:00:00",
          "2022-02-01T00:00:00",
          "2022-01-01T00:00:00",
          "2021-12-01T00:00:00",
          "2021-11-01T00:00:00",
          "2021-10-01T00:00:00",
          "2021-09-01T00:00:00",
          "2021-08-01T00:00:00",
          "2021-07-01T00:00:00",
          "2021-06-01T00:00:00",
          "2021-05-01T00:00:00",
          "2021-04-01T00:00:00",
          "2021-03-01T00:00:00",
          "2021-02-01T00:00:00",
          "2021-01-01T00:00:00",
          "2020-12-01T00:00:00",
          "2020-11-01T00:00:00",
          "2020-10-01T00:00:00",
          "2020-09-01T00:00:00",
          "2020-08-01T00:00:00",
          "2020-07-01T00:00:00",
          "2020-06-01T00:00:00",
          "2020-05-01T00:00:00",
          "2020-04-01T00:00:00",
          "2020-03-01T00:00:00",
          "2020-02-01T00:00:00",
          "2020-01-01T00:00:00",
          "2019-12-01T00:00:00",
          "2019-11-01T00:00:00",
          "2019-10-01T00:00:00",
          "2019-09-01T00:00:00",
          "2019-08-01T00:00:00",
          "2019-07-01T00:00:00",
          "2019-06-01T00:00:00",
          "2019-05-01T00:00:00",
          "2019-04-01T00:00:00",
          "2019-03-01T00:00:00",
          "2019-02-01T00:00:00",
          "2019-01-01T00:00:00"
         ],
         "xaxis": "x",
         "y": [
          6511.717948717949,
          6511.717948717949,
          6511.717948717949,
          6511.717948717949,
          6511.717948717949,
          6511.717948717949,
          6511.717948717949,
          6511.717948717949,
          6511.717948717949,
          6511.717948717949,
          6511.717948717949,
          6511.717948717949,
          6511.717948717949,
          6511.717948717949,
          6511.717948717949,
          6511.717948717949,
          6511.717948717949,
          6511.717948717949,
          6511.717948717949,
          6511.717948717949,
          6511.717948717949,
          6511.717948717949,
          6511.717948717949,
          6511.717948717949,
          6511.717948717949,
          6511.717948717949,
          6511.717948717949,
          6511.717948717949,
          6511.717948717949,
          6511.717948717949,
          6511.717948717949,
          6511.717948717949,
          6511.717948717949,
          6511.717948717949,
          6511.717948717949,
          6511.717948717949,
          6511.717948717949,
          6511.717948717949,
          6511.717948717949,
          6511.717948717949,
          6511.717948717949
         ],
         "yaxis": "y"
        }
       ],
       "layout": {
        "legend": {
         "title": {
          "text": "LINE"
         },
         "tracegroupgap": 0
        },
        "template": {
         "data": {
          "bar": [
           {
            "error_x": {
             "color": "#2a3f5f"
            },
            "error_y": {
             "color": "#2a3f5f"
            },
            "marker": {
             "line": {
              "color": "#E5ECF6",
              "width": 0.5
             },
             "pattern": {
              "fillmode": "overlay",
              "size": 10,
              "solidity": 0.2
             }
            },
            "type": "bar"
           }
          ],
          "barpolar": [
           {
            "marker": {
             "line": {
              "color": "#E5ECF6",
              "width": 0.5
             },
             "pattern": {
              "fillmode": "overlay",
              "size": 10,
              "solidity": 0.2
             }
            },
            "type": "barpolar"
           }
          ],
          "carpet": [
           {
            "aaxis": {
             "endlinecolor": "#2a3f5f",
             "gridcolor": "white",
             "linecolor": "white",
             "minorgridcolor": "white",
             "startlinecolor": "#2a3f5f"
            },
            "baxis": {
             "endlinecolor": "#2a3f5f",
             "gridcolor": "white",
             "linecolor": "white",
             "minorgridcolor": "white",
             "startlinecolor": "#2a3f5f"
            },
            "type": "carpet"
           }
          ],
          "choropleth": [
           {
            "colorbar": {
             "outlinewidth": 0,
             "ticks": ""
            },
            "type": "choropleth"
           }
          ],
          "contour": [
           {
            "colorbar": {
             "outlinewidth": 0,
             "ticks": ""
            },
            "colorscale": [
             [
              0,
              "#0d0887"
             ],
             [
              0.1111111111111111,
              "#46039f"
             ],
             [
              0.2222222222222222,
              "#7201a8"
             ],
             [
              0.3333333333333333,
              "#9c179e"
             ],
             [
              0.4444444444444444,
              "#bd3786"
             ],
             [
              0.5555555555555556,
              "#d8576b"
             ],
             [
              0.6666666666666666,
              "#ed7953"
             ],
             [
              0.7777777777777778,
              "#fb9f3a"
             ],
             [
              0.8888888888888888,
              "#fdca26"
             ],
             [
              1,
              "#f0f921"
             ]
            ],
            "type": "contour"
           }
          ],
          "contourcarpet": [
           {
            "colorbar": {
             "outlinewidth": 0,
             "ticks": ""
            },
            "type": "contourcarpet"
           }
          ],
          "heatmap": [
           {
            "colorbar": {
             "outlinewidth": 0,
             "ticks": ""
            },
            "colorscale": [
             [
              0,
              "#0d0887"
             ],
             [
              0.1111111111111111,
              "#46039f"
             ],
             [
              0.2222222222222222,
              "#7201a8"
             ],
             [
              0.3333333333333333,
              "#9c179e"
             ],
             [
              0.4444444444444444,
              "#bd3786"
             ],
             [
              0.5555555555555556,
              "#d8576b"
             ],
             [
              0.6666666666666666,
              "#ed7953"
             ],
             [
              0.7777777777777778,
              "#fb9f3a"
             ],
             [
              0.8888888888888888,
              "#fdca26"
             ],
             [
              1,
              "#f0f921"
             ]
            ],
            "type": "heatmap"
           }
          ],
          "heatmapgl": [
           {
            "colorbar": {
             "outlinewidth": 0,
             "ticks": ""
            },
            "colorscale": [
             [
              0,
              "#0d0887"
             ],
             [
              0.1111111111111111,
              "#46039f"
             ],
             [
              0.2222222222222222,
              "#7201a8"
             ],
             [
              0.3333333333333333,
              "#9c179e"
             ],
             [
              0.4444444444444444,
              "#bd3786"
             ],
             [
              0.5555555555555556,
              "#d8576b"
             ],
             [
              0.6666666666666666,
              "#ed7953"
             ],
             [
              0.7777777777777778,
              "#fb9f3a"
             ],
             [
              0.8888888888888888,
              "#fdca26"
             ],
             [
              1,
              "#f0f921"
             ]
            ],
            "type": "heatmapgl"
           }
          ],
          "histogram": [
           {
            "marker": {
             "pattern": {
              "fillmode": "overlay",
              "size": 10,
              "solidity": 0.2
             }
            },
            "type": "histogram"
           }
          ],
          "histogram2d": [
           {
            "colorbar": {
             "outlinewidth": 0,
             "ticks": ""
            },
            "colorscale": [
             [
              0,
              "#0d0887"
             ],
             [
              0.1111111111111111,
              "#46039f"
             ],
             [
              0.2222222222222222,
              "#7201a8"
             ],
             [
              0.3333333333333333,
              "#9c179e"
             ],
             [
              0.4444444444444444,
              "#bd3786"
             ],
             [
              0.5555555555555556,
              "#d8576b"
             ],
             [
              0.6666666666666666,
              "#ed7953"
             ],
             [
              0.7777777777777778,
              "#fb9f3a"
             ],
             [
              0.8888888888888888,
              "#fdca26"
             ],
             [
              1,
              "#f0f921"
             ]
            ],
            "type": "histogram2d"
           }
          ],
          "histogram2dcontour": [
           {
            "colorbar": {
             "outlinewidth": 0,
             "ticks": ""
            },
            "colorscale": [
             [
              0,
              "#0d0887"
             ],
             [
              0.1111111111111111,
              "#46039f"
             ],
             [
              0.2222222222222222,
              "#7201a8"
             ],
             [
              0.3333333333333333,
              "#9c179e"
             ],
             [
              0.4444444444444444,
              "#bd3786"
             ],
             [
              0.5555555555555556,
              "#d8576b"
             ],
             [
              0.6666666666666666,
              "#ed7953"
             ],
             [
              0.7777777777777778,
              "#fb9f3a"
             ],
             [
              0.8888888888888888,
              "#fdca26"
             ],
             [
              1,
              "#f0f921"
             ]
            ],
            "type": "histogram2dcontour"
           }
          ],
          "mesh3d": [
           {
            "colorbar": {
             "outlinewidth": 0,
             "ticks": ""
            },
            "type": "mesh3d"
           }
          ],
          "parcoords": [
           {
            "line": {
             "colorbar": {
              "outlinewidth": 0,
              "ticks": ""
             }
            },
            "type": "parcoords"
           }
          ],
          "pie": [
           {
            "automargin": true,
            "type": "pie"
           }
          ],
          "scatter": [
           {
            "marker": {
             "colorbar": {
              "outlinewidth": 0,
              "ticks": ""
             }
            },
            "type": "scatter"
           }
          ],
          "scatter3d": [
           {
            "line": {
             "colorbar": {
              "outlinewidth": 0,
              "ticks": ""
             }
            },
            "marker": {
             "colorbar": {
              "outlinewidth": 0,
              "ticks": ""
             }
            },
            "type": "scatter3d"
           }
          ],
          "scattercarpet": [
           {
            "marker": {
             "colorbar": {
              "outlinewidth": 0,
              "ticks": ""
             }
            },
            "type": "scattercarpet"
           }
          ],
          "scattergeo": [
           {
            "marker": {
             "colorbar": {
              "outlinewidth": 0,
              "ticks": ""
             }
            },
            "type": "scattergeo"
           }
          ],
          "scattergl": [
           {
            "marker": {
             "colorbar": {
              "outlinewidth": 0,
              "ticks": ""
             }
            },
            "type": "scattergl"
           }
          ],
          "scattermapbox": [
           {
            "marker": {
             "colorbar": {
              "outlinewidth": 0,
              "ticks": ""
             }
            },
            "type": "scattermapbox"
           }
          ],
          "scatterpolar": [
           {
            "marker": {
             "colorbar": {
              "outlinewidth": 0,
              "ticks": ""
             }
            },
            "type": "scatterpolar"
           }
          ],
          "scatterpolargl": [
           {
            "marker": {
             "colorbar": {
              "outlinewidth": 0,
              "ticks": ""
             }
            },
            "type": "scatterpolargl"
           }
          ],
          "scatterternary": [
           {
            "marker": {
             "colorbar": {
              "outlinewidth": 0,
              "ticks": ""
             }
            },
            "type": "scatterternary"
           }
          ],
          "surface": [
           {
            "colorbar": {
             "outlinewidth": 0,
             "ticks": ""
            },
            "colorscale": [
             [
              0,
              "#0d0887"
             ],
             [
              0.1111111111111111,
              "#46039f"
             ],
             [
              0.2222222222222222,
              "#7201a8"
             ],
             [
              0.3333333333333333,
              "#9c179e"
             ],
             [
              0.4444444444444444,
              "#bd3786"
             ],
             [
              0.5555555555555556,
              "#d8576b"
             ],
             [
              0.6666666666666666,
              "#ed7953"
             ],
             [
              0.7777777777777778,
              "#fb9f3a"
             ],
             [
              0.8888888888888888,
              "#fdca26"
             ],
             [
              1,
              "#f0f921"
             ]
            ],
            "type": "surface"
           }
          ],
          "table": [
           {
            "cells": {
             "fill": {
              "color": "#EBF0F8"
             },
             "line": {
              "color": "white"
             }
            },
            "header": {
             "fill": {
              "color": "#C8D4E3"
             },
             "line": {
              "color": "white"
             }
            },
            "type": "table"
           }
          ]
         },
         "layout": {
          "annotationdefaults": {
           "arrowcolor": "#2a3f5f",
           "arrowhead": 0,
           "arrowwidth": 1
          },
          "autotypenumbers": "strict",
          "coloraxis": {
           "colorbar": {
            "outlinewidth": 0,
            "ticks": ""
           }
          },
          "colorscale": {
           "diverging": [
            [
             0,
             "#8e0152"
            ],
            [
             0.1,
             "#c51b7d"
            ],
            [
             0.2,
             "#de77ae"
            ],
            [
             0.3,
             "#f1b6da"
            ],
            [
             0.4,
             "#fde0ef"
            ],
            [
             0.5,
             "#f7f7f7"
            ],
            [
             0.6,
             "#e6f5d0"
            ],
            [
             0.7,
             "#b8e186"
            ],
            [
             0.8,
             "#7fbc41"
            ],
            [
             0.9,
             "#4d9221"
            ],
            [
             1,
             "#276419"
            ]
           ],
           "sequential": [
            [
             0,
             "#0d0887"
            ],
            [
             0.1111111111111111,
             "#46039f"
            ],
            [
             0.2222222222222222,
             "#7201a8"
            ],
            [
             0.3333333333333333,
             "#9c179e"
            ],
            [
             0.4444444444444444,
             "#bd3786"
            ],
            [
             0.5555555555555556,
             "#d8576b"
            ],
            [
             0.6666666666666666,
             "#ed7953"
            ],
            [
             0.7777777777777778,
             "#fb9f3a"
            ],
            [
             0.8888888888888888,
             "#fdca26"
            ],
            [
             1,
             "#f0f921"
            ]
           ],
           "sequentialminus": [
            [
             0,
             "#0d0887"
            ],
            [
             0.1111111111111111,
             "#46039f"
            ],
            [
             0.2222222222222222,
             "#7201a8"
            ],
            [
             0.3333333333333333,
             "#9c179e"
            ],
            [
             0.4444444444444444,
             "#bd3786"
            ],
            [
             0.5555555555555556,
             "#d8576b"
            ],
            [
             0.6666666666666666,
             "#ed7953"
            ],
            [
             0.7777777777777778,
             "#fb9f3a"
            ],
            [
             0.8888888888888888,
             "#fdca26"
            ],
            [
             1,
             "#f0f921"
            ]
           ]
          },
          "colorway": [
           "#636efa",
           "#EF553B",
           "#00cc96",
           "#ab63fa",
           "#FFA15A",
           "#19d3f3",
           "#FF6692",
           "#B6E880",
           "#FF97FF",
           "#FECB52"
          ],
          "font": {
           "color": "#2a3f5f"
          },
          "geo": {
           "bgcolor": "white",
           "lakecolor": "white",
           "landcolor": "#E5ECF6",
           "showlakes": true,
           "showland": true,
           "subunitcolor": "white"
          },
          "hoverlabel": {
           "align": "left"
          },
          "hovermode": "closest",
          "mapbox": {
           "style": "light"
          },
          "paper_bgcolor": "white",
          "plot_bgcolor": "#E5ECF6",
          "polar": {
           "angularaxis": {
            "gridcolor": "white",
            "linecolor": "white",
            "ticks": ""
           },
           "bgcolor": "#E5ECF6",
           "radialaxis": {
            "gridcolor": "white",
            "linecolor": "white",
            "ticks": ""
           }
          },
          "scene": {
           "xaxis": {
            "backgroundcolor": "#E5ECF6",
            "gridcolor": "white",
            "gridwidth": 2,
            "linecolor": "white",
            "showbackground": true,
            "ticks": "",
            "zerolinecolor": "white"
           },
           "yaxis": {
            "backgroundcolor": "#E5ECF6",
            "gridcolor": "white",
            "gridwidth": 2,
            "linecolor": "white",
            "showbackground": true,
            "ticks": "",
            "zerolinecolor": "white"
           },
           "zaxis": {
            "backgroundcolor": "#E5ECF6",
            "gridcolor": "white",
            "gridwidth": 2,
            "linecolor": "white",
            "showbackground": true,
            "ticks": "",
            "zerolinecolor": "white"
           }
          },
          "shapedefaults": {
           "line": {
            "color": "#2a3f5f"
           }
          },
          "ternary": {
           "aaxis": {
            "gridcolor": "white",
            "linecolor": "white",
            "ticks": ""
           },
           "baxis": {
            "gridcolor": "white",
            "linecolor": "white",
            "ticks": ""
           },
           "bgcolor": "#E5ECF6",
           "caxis": {
            "gridcolor": "white",
            "linecolor": "white",
            "ticks": ""
           }
          },
          "title": {
           "x": 0.05
          },
          "xaxis": {
           "automargin": true,
           "gridcolor": "white",
           "linecolor": "white",
           "ticks": "",
           "title": {
            "standoff": 15
           },
           "zerolinecolor": "white",
           "zerolinewidth": 2
          },
          "yaxis": {
           "automargin": true,
           "gridcolor": "white",
           "linecolor": "white",
           "ticks": "",
           "title": {
            "standoff": 15
           },
           "zerolinecolor": "white",
           "zerolinewidth": 2
          }
         }
        },
        "title": {
         "text": "Projection on time for II (PUBLIC - F)"
        },
        "xaxis": {
         "anchor": "y",
         "domain": [
          0,
          1
         ],
         "title": {
          "text": "DATE"
         }
        },
        "yaxis": {
         "anchor": "x",
         "domain": [
          0,
          1
         ],
         "title": {
          "text": "QTY_PEOPLE_SERVED"
         }
        }
       }
      },
      "text/html": [
       "<div>                            <div id=\"037066bf-e31a-473a-8280-0bee365d2c5c\" class=\"plotly-graph-div\" style=\"height:525px; width:100%;\"></div>            <script type=\"text/javascript\">                require([\"plotly\"], function(Plotly) {                    window.PLOTLYENV=window.PLOTLYENV || {};                                    if (document.getElementById(\"037066bf-e31a-473a-8280-0bee365d2c5c\")) {                    Plotly.newPlot(                        \"037066bf-e31a-473a-8280-0bee365d2c5c\",                        [{\"hovertemplate\":\"LINE=BL_FORMATOR<br>DATE=%{x}<br>QTY_PEOPLE_SERVED=%{y}<extra></extra>\",\"legendgroup\":\"BL_FORMATOR\",\"line\":{\"color\":\"#636efa\",\"dash\":\"solid\"},\"marker\":{\"symbol\":\"circle\"},\"mode\":\"lines\",\"name\":\"BL_FORMATOR\",\"orientation\":\"v\",\"showlegend\":true,\"x\":[\"2022-05-01T00:00:00\",\"2022-04-01T00:00:00\",\"2022-03-01T00:00:00\",\"2022-02-01T00:00:00\",\"2022-01-01T00:00:00\",\"2021-12-01T00:00:00\",\"2021-11-01T00:00:00\",\"2021-10-01T00:00:00\",\"2021-09-01T00:00:00\",\"2021-08-01T00:00:00\",\"2021-07-01T00:00:00\",\"2021-06-01T00:00:00\",\"2021-05-01T00:00:00\",\"2021-04-01T00:00:00\",\"2021-03-01T00:00:00\",\"2021-02-01T00:00:00\",\"2021-01-01T00:00:00\",\"2020-12-01T00:00:00\",\"2020-11-01T00:00:00\",\"2020-10-01T00:00:00\",\"2020-09-01T00:00:00\",\"2020-08-01T00:00:00\",\"2020-07-01T00:00:00\",\"2020-06-01T00:00:00\",\"2020-05-01T00:00:00\",\"2020-04-01T00:00:00\",\"2020-03-01T00:00:00\",\"2020-02-01T00:00:00\",\"2020-01-01T00:00:00\",\"2019-12-01T00:00:00\",\"2019-11-01T00:00:00\",\"2019-10-01T00:00:00\",\"2019-09-01T00:00:00\",\"2019-08-01T00:00:00\",\"2019-07-01T00:00:00\",\"2019-06-01T00:00:00\",\"2019-05-01T00:00:00\",\"2019-04-01T00:00:00\",\"2019-03-01T00:00:00\",\"2019-02-01T00:00:00\",\"2019-01-01T00:00:00\"],\"xaxis\":\"x\",\"y\":[null,null,null,null,null,null,null,null,null,null,null,null,null,null,null,null,null,null,null,null,null,null,null,null,null,null,null,null,null,null,null,null,6364.192307692308,6014.115384615385,5869.038461538462,7232.576923076923,6273.5,5720.7307692307695,6839.2692307692305,6280.7692307692305,8011.2692307692305],\"yaxis\":\"y\",\"type\":\"scatter\"},{\"hovertemplate\":\"LINE=COVID_3M<br>DATE=%{x}<br>QTY_PEOPLE_SERVED=%{y}<extra></extra>\",\"legendgroup\":\"COVID_3M\",\"line\":{\"color\":\"#EF553B\",\"dash\":\"solid\"},\"marker\":{\"symbol\":\"circle\"},\"mode\":\"lines\",\"name\":\"COVID_3M\",\"orientation\":\"v\",\"showlegend\":true,\"x\":[\"2022-05-01T00:00:00\",\"2022-04-01T00:00:00\",\"2022-03-01T00:00:00\",\"2022-02-01T00:00:00\",\"2022-01-01T00:00:00\",\"2021-12-01T00:00:00\",\"2021-11-01T00:00:00\",\"2021-10-01T00:00:00\",\"2021-09-01T00:00:00\",\"2021-08-01T00:00:00\",\"2021-07-01T00:00:00\",\"2021-06-01T00:00:00\",\"2021-05-01T00:00:00\",\"2021-04-01T00:00:00\",\"2021-03-01T00:00:00\",\"2021-02-01T00:00:00\",\"2021-01-01T00:00:00\",\"2020-12-01T00:00:00\",\"2020-11-01T00:00:00\",\"2020-10-01T00:00:00\",\"2020-09-01T00:00:00\",\"2020-08-01T00:00:00\",\"2020-07-01T00:00:00\",\"2020-06-01T00:00:00\",\"2020-05-01T00:00:00\",\"2020-04-01T00:00:00\",\"2020-03-01T00:00:00\",\"2020-02-01T00:00:00\",\"2020-01-01T00:00:00\",\"2019-12-01T00:00:00\",\"2019-11-01T00:00:00\",\"2019-10-01T00:00:00\",\"2019-09-01T00:00:00\",\"2019-08-01T00:00:00\",\"2019-07-01T00:00:00\",\"2019-06-01T00:00:00\",\"2019-05-01T00:00:00\",\"2019-04-01T00:00:00\",\"2019-03-01T00:00:00\",\"2019-02-01T00:00:00\",\"2019-01-01T00:00:00\"],\"xaxis\":\"x\",\"y\":[null,null,null,null,null,null,null,null,null,null,null,null,null,null,null,null,null,null,null,null,null,null,null,1116.076923076923,866.2592592592592,733.7692307692307,null,null,null,null,null,null,null,null,null,null,null,null,null,null,null],\"yaxis\":\"y\",\"type\":\"scatter\"},{\"hovertemplate\":\"LINE=BASE_LINE<br>DATE=%{x}<br>QTY_PEOPLE_SERVED=%{y}<extra></extra>\",\"legendgroup\":\"BASE_LINE\",\"line\":{\"color\":\"#00cc96\",\"dash\":\"solid\"},\"marker\":{\"symbol\":\"circle\"},\"mode\":\"lines\",\"name\":\"BASE_LINE\",\"orientation\":\"v\",\"showlegend\":true,\"x\":[\"2022-05-01T00:00:00\",\"2022-04-01T00:00:00\",\"2022-03-01T00:00:00\",\"2022-02-01T00:00:00\",\"2022-01-01T00:00:00\",\"2021-12-01T00:00:00\",\"2021-11-01T00:00:00\",\"2021-10-01T00:00:00\",\"2021-09-01T00:00:00\",\"2021-08-01T00:00:00\",\"2021-07-01T00:00:00\",\"2021-06-01T00:00:00\",\"2021-05-01T00:00:00\",\"2021-04-01T00:00:00\",\"2021-03-01T00:00:00\",\"2021-02-01T00:00:00\",\"2021-01-01T00:00:00\",\"2020-12-01T00:00:00\",\"2020-11-01T00:00:00\",\"2020-10-01T00:00:00\",\"2020-09-01T00:00:00\",\"2020-08-01T00:00:00\",\"2020-07-01T00:00:00\",\"2020-06-01T00:00:00\",\"2020-05-01T00:00:00\",\"2020-04-01T00:00:00\",\"2020-03-01T00:00:00\",\"2020-02-01T00:00:00\",\"2020-01-01T00:00:00\",\"2019-12-01T00:00:00\",\"2019-11-01T00:00:00\",\"2019-10-01T00:00:00\",\"2019-09-01T00:00:00\",\"2019-08-01T00:00:00\",\"2019-07-01T00:00:00\",\"2019-06-01T00:00:00\",\"2019-05-01T00:00:00\",\"2019-04-01T00:00:00\",\"2019-03-01T00:00:00\",\"2019-02-01T00:00:00\",\"2019-01-01T00:00:00\"],\"xaxis\":\"x\",\"y\":[6511.717948717949,6511.717948717949,6511.717948717949,6511.717948717949,6511.717948717949,6511.717948717949,6511.717948717949,6511.717948717949,6511.717948717949,6511.717948717949,6511.717948717949,6511.717948717949,6511.717948717949,6511.717948717949,6511.717948717949,6511.717948717949,6511.717948717949,6511.717948717949,6511.717948717949,6511.717948717949,6511.717948717949,6511.717948717949,6511.717948717949,6511.717948717949,6511.717948717949,6511.717948717949,6511.717948717949,6511.717948717949,6511.717948717949,6511.717948717949,6511.717948717949,6511.717948717949,6511.717948717949,6511.717948717949,6511.717948717949,6511.717948717949,6511.717948717949,6511.717948717949,6511.717948717949,6511.717948717949,6511.717948717949],\"yaxis\":\"y\",\"type\":\"scatter\"}],                        {\"template\":{\"data\":{\"bar\":[{\"error_x\":{\"color\":\"#2a3f5f\"},\"error_y\":{\"color\":\"#2a3f5f\"},\"marker\":{\"line\":{\"color\":\"#E5ECF6\",\"width\":0.5},\"pattern\":{\"fillmode\":\"overlay\",\"size\":10,\"solidity\":0.2}},\"type\":\"bar\"}],\"barpolar\":[{\"marker\":{\"line\":{\"color\":\"#E5ECF6\",\"width\":0.5},\"pattern\":{\"fillmode\":\"overlay\",\"size\":10,\"solidity\":0.2}},\"type\":\"barpolar\"}],\"carpet\":[{\"aaxis\":{\"endlinecolor\":\"#2a3f5f\",\"gridcolor\":\"white\",\"linecolor\":\"white\",\"minorgridcolor\":\"white\",\"startlinecolor\":\"#2a3f5f\"},\"baxis\":{\"endlinecolor\":\"#2a3f5f\",\"gridcolor\":\"white\",\"linecolor\":\"white\",\"minorgridcolor\":\"white\",\"startlinecolor\":\"#2a3f5f\"},\"type\":\"carpet\"}],\"choropleth\":[{\"colorbar\":{\"outlinewidth\":0,\"ticks\":\"\"},\"type\":\"choropleth\"}],\"contour\":[{\"colorbar\":{\"outlinewidth\":0,\"ticks\":\"\"},\"colorscale\":[[0.0,\"#0d0887\"],[0.1111111111111111,\"#46039f\"],[0.2222222222222222,\"#7201a8\"],[0.3333333333333333,\"#9c179e\"],[0.4444444444444444,\"#bd3786\"],[0.5555555555555556,\"#d8576b\"],[0.6666666666666666,\"#ed7953\"],[0.7777777777777778,\"#fb9f3a\"],[0.8888888888888888,\"#fdca26\"],[1.0,\"#f0f921\"]],\"type\":\"contour\"}],\"contourcarpet\":[{\"colorbar\":{\"outlinewidth\":0,\"ticks\":\"\"},\"type\":\"contourcarpet\"}],\"heatmap\":[{\"colorbar\":{\"outlinewidth\":0,\"ticks\":\"\"},\"colorscale\":[[0.0,\"#0d0887\"],[0.1111111111111111,\"#46039f\"],[0.2222222222222222,\"#7201a8\"],[0.3333333333333333,\"#9c179e\"],[0.4444444444444444,\"#bd3786\"],[0.5555555555555556,\"#d8576b\"],[0.6666666666666666,\"#ed7953\"],[0.7777777777777778,\"#fb9f3a\"],[0.8888888888888888,\"#fdca26\"],[1.0,\"#f0f921\"]],\"type\":\"heatmap\"}],\"heatmapgl\":[{\"colorbar\":{\"outlinewidth\":0,\"ticks\":\"\"},\"colorscale\":[[0.0,\"#0d0887\"],[0.1111111111111111,\"#46039f\"],[0.2222222222222222,\"#7201a8\"],[0.3333333333333333,\"#9c179e\"],[0.4444444444444444,\"#bd3786\"],[0.5555555555555556,\"#d8576b\"],[0.6666666666666666,\"#ed7953\"],[0.7777777777777778,\"#fb9f3a\"],[0.8888888888888888,\"#fdca26\"],[1.0,\"#f0f921\"]],\"type\":\"heatmapgl\"}],\"histogram\":[{\"marker\":{\"pattern\":{\"fillmode\":\"overlay\",\"size\":10,\"solidity\":0.2}},\"type\":\"histogram\"}],\"histogram2d\":[{\"colorbar\":{\"outlinewidth\":0,\"ticks\":\"\"},\"colorscale\":[[0.0,\"#0d0887\"],[0.1111111111111111,\"#46039f\"],[0.2222222222222222,\"#7201a8\"],[0.3333333333333333,\"#9c179e\"],[0.4444444444444444,\"#bd3786\"],[0.5555555555555556,\"#d8576b\"],[0.6666666666666666,\"#ed7953\"],[0.7777777777777778,\"#fb9f3a\"],[0.8888888888888888,\"#fdca26\"],[1.0,\"#f0f921\"]],\"type\":\"histogram2d\"}],\"histogram2dcontour\":[{\"colorbar\":{\"outlinewidth\":0,\"ticks\":\"\"},\"colorscale\":[[0.0,\"#0d0887\"],[0.1111111111111111,\"#46039f\"],[0.2222222222222222,\"#7201a8\"],[0.3333333333333333,\"#9c179e\"],[0.4444444444444444,\"#bd3786\"],[0.5555555555555556,\"#d8576b\"],[0.6666666666666666,\"#ed7953\"],[0.7777777777777778,\"#fb9f3a\"],[0.8888888888888888,\"#fdca26\"],[1.0,\"#f0f921\"]],\"type\":\"histogram2dcontour\"}],\"mesh3d\":[{\"colorbar\":{\"outlinewidth\":0,\"ticks\":\"\"},\"type\":\"mesh3d\"}],\"parcoords\":[{\"line\":{\"colorbar\":{\"outlinewidth\":0,\"ticks\":\"\"}},\"type\":\"parcoords\"}],\"pie\":[{\"automargin\":true,\"type\":\"pie\"}],\"scatter\":[{\"marker\":{\"colorbar\":{\"outlinewidth\":0,\"ticks\":\"\"}},\"type\":\"scatter\"}],\"scatter3d\":[{\"line\":{\"colorbar\":{\"outlinewidth\":0,\"ticks\":\"\"}},\"marker\":{\"colorbar\":{\"outlinewidth\":0,\"ticks\":\"\"}},\"type\":\"scatter3d\"}],\"scattercarpet\":[{\"marker\":{\"colorbar\":{\"outlinewidth\":0,\"ticks\":\"\"}},\"type\":\"scattercarpet\"}],\"scattergeo\":[{\"marker\":{\"colorbar\":{\"outlinewidth\":0,\"ticks\":\"\"}},\"type\":\"scattergeo\"}],\"scattergl\":[{\"marker\":{\"colorbar\":{\"outlinewidth\":0,\"ticks\":\"\"}},\"type\":\"scattergl\"}],\"scattermapbox\":[{\"marker\":{\"colorbar\":{\"outlinewidth\":0,\"ticks\":\"\"}},\"type\":\"scattermapbox\"}],\"scatterpolar\":[{\"marker\":{\"colorbar\":{\"outlinewidth\":0,\"ticks\":\"\"}},\"type\":\"scatterpolar\"}],\"scatterpolargl\":[{\"marker\":{\"colorbar\":{\"outlinewidth\":0,\"ticks\":\"\"}},\"type\":\"scatterpolargl\"}],\"scatterternary\":[{\"marker\":{\"colorbar\":{\"outlinewidth\":0,\"ticks\":\"\"}},\"type\":\"scatterternary\"}],\"surface\":[{\"colorbar\":{\"outlinewidth\":0,\"ticks\":\"\"},\"colorscale\":[[0.0,\"#0d0887\"],[0.1111111111111111,\"#46039f\"],[0.2222222222222222,\"#7201a8\"],[0.3333333333333333,\"#9c179e\"],[0.4444444444444444,\"#bd3786\"],[0.5555555555555556,\"#d8576b\"],[0.6666666666666666,\"#ed7953\"],[0.7777777777777778,\"#fb9f3a\"],[0.8888888888888888,\"#fdca26\"],[1.0,\"#f0f921\"]],\"type\":\"surface\"}],\"table\":[{\"cells\":{\"fill\":{\"color\":\"#EBF0F8\"},\"line\":{\"color\":\"white\"}},\"header\":{\"fill\":{\"color\":\"#C8D4E3\"},\"line\":{\"color\":\"white\"}},\"type\":\"table\"}]},\"layout\":{\"annotationdefaults\":{\"arrowcolor\":\"#2a3f5f\",\"arrowhead\":0,\"arrowwidth\":1},\"autotypenumbers\":\"strict\",\"coloraxis\":{\"colorbar\":{\"outlinewidth\":0,\"ticks\":\"\"}},\"colorscale\":{\"diverging\":[[0,\"#8e0152\"],[0.1,\"#c51b7d\"],[0.2,\"#de77ae\"],[0.3,\"#f1b6da\"],[0.4,\"#fde0ef\"],[0.5,\"#f7f7f7\"],[0.6,\"#e6f5d0\"],[0.7,\"#b8e186\"],[0.8,\"#7fbc41\"],[0.9,\"#4d9221\"],[1,\"#276419\"]],\"sequential\":[[0.0,\"#0d0887\"],[0.1111111111111111,\"#46039f\"],[0.2222222222222222,\"#7201a8\"],[0.3333333333333333,\"#9c179e\"],[0.4444444444444444,\"#bd3786\"],[0.5555555555555556,\"#d8576b\"],[0.6666666666666666,\"#ed7953\"],[0.7777777777777778,\"#fb9f3a\"],[0.8888888888888888,\"#fdca26\"],[1.0,\"#f0f921\"]],\"sequentialminus\":[[0.0,\"#0d0887\"],[0.1111111111111111,\"#46039f\"],[0.2222222222222222,\"#7201a8\"],[0.3333333333333333,\"#9c179e\"],[0.4444444444444444,\"#bd3786\"],[0.5555555555555556,\"#d8576b\"],[0.6666666666666666,\"#ed7953\"],[0.7777777777777778,\"#fb9f3a\"],[0.8888888888888888,\"#fdca26\"],[1.0,\"#f0f921\"]]},\"colorway\":[\"#636efa\",\"#EF553B\",\"#00cc96\",\"#ab63fa\",\"#FFA15A\",\"#19d3f3\",\"#FF6692\",\"#B6E880\",\"#FF97FF\",\"#FECB52\"],\"font\":{\"color\":\"#2a3f5f\"},\"geo\":{\"bgcolor\":\"white\",\"lakecolor\":\"white\",\"landcolor\":\"#E5ECF6\",\"showlakes\":true,\"showland\":true,\"subunitcolor\":\"white\"},\"hoverlabel\":{\"align\":\"left\"},\"hovermode\":\"closest\",\"mapbox\":{\"style\":\"light\"},\"paper_bgcolor\":\"white\",\"plot_bgcolor\":\"#E5ECF6\",\"polar\":{\"angularaxis\":{\"gridcolor\":\"white\",\"linecolor\":\"white\",\"ticks\":\"\"},\"bgcolor\":\"#E5ECF6\",\"radialaxis\":{\"gridcolor\":\"white\",\"linecolor\":\"white\",\"ticks\":\"\"}},\"scene\":{\"xaxis\":{\"backgroundcolor\":\"#E5ECF6\",\"gridcolor\":\"white\",\"gridwidth\":2,\"linecolor\":\"white\",\"showbackground\":true,\"ticks\":\"\",\"zerolinecolor\":\"white\"},\"yaxis\":{\"backgroundcolor\":\"#E5ECF6\",\"gridcolor\":\"white\",\"gridwidth\":2,\"linecolor\":\"white\",\"showbackground\":true,\"ticks\":\"\",\"zerolinecolor\":\"white\"},\"zaxis\":{\"backgroundcolor\":\"#E5ECF6\",\"gridcolor\":\"white\",\"gridwidth\":2,\"linecolor\":\"white\",\"showbackground\":true,\"ticks\":\"\",\"zerolinecolor\":\"white\"}},\"shapedefaults\":{\"line\":{\"color\":\"#2a3f5f\"}},\"ternary\":{\"aaxis\":{\"gridcolor\":\"white\",\"linecolor\":\"white\",\"ticks\":\"\"},\"baxis\":{\"gridcolor\":\"white\",\"linecolor\":\"white\",\"ticks\":\"\"},\"bgcolor\":\"#E5ECF6\",\"caxis\":{\"gridcolor\":\"white\",\"linecolor\":\"white\",\"ticks\":\"\"}},\"title\":{\"x\":0.05},\"xaxis\":{\"automargin\":true,\"gridcolor\":\"white\",\"linecolor\":\"white\",\"ticks\":\"\",\"title\":{\"standoff\":15},\"zerolinecolor\":\"white\",\"zerolinewidth\":2},\"yaxis\":{\"automargin\":true,\"gridcolor\":\"white\",\"linecolor\":\"white\",\"ticks\":\"\",\"title\":{\"standoff\":15},\"zerolinecolor\":\"white\",\"zerolinewidth\":2}}},\"xaxis\":{\"anchor\":\"y\",\"domain\":[0.0,1.0],\"title\":{\"text\":\"DATE\"}},\"yaxis\":{\"anchor\":\"x\",\"domain\":[0.0,1.0],\"title\":{\"text\":\"QTY_PEOPLE_SERVED\"}},\"legend\":{\"title\":{\"text\":\"LINE\"},\"tracegroupgap\":0},\"title\":{\"text\":\"Projection on time for II (PUBLIC - F)\"}},                        {\"responsive\": true}                    ).then(function(){\n",
       "                            \n",
       "var gd = document.getElementById('037066bf-e31a-473a-8280-0bee365d2c5c');\n",
       "var x = new MutationObserver(function (mutations, observer) {{\n",
       "        var display = window.getComputedStyle(gd).display;\n",
       "        if (!display || display === 'none') {{\n",
       "            console.log([gd, 'removed!']);\n",
       "            Plotly.purge(gd);\n",
       "            observer.disconnect();\n",
       "        }}\n",
       "}});\n",
       "\n",
       "// Listen for the removal of the full notebook cells\n",
       "var notebookContainer = gd.closest('#notebook-container');\n",
       "if (notebookContainer) {{\n",
       "    x.observe(notebookContainer, {childList: true});\n",
       "}}\n",
       "\n",
       "// Listen for the clearing of the current output cell\n",
       "var outputEl = gd.closest('.output');\n",
       "if (outputEl) {{\n",
       "    x.observe(outputEl, {childList: true});\n",
       "}}\n",
       "\n",
       "                        })                };                });            </script>        </div>"
      ]
     },
     "metadata": {},
     "output_type": "display_data"
    }
   ],
   "source": [
    "TAG_GENDER = 'F'\n",
    "new_base_df_temp = new_base_df[(new_base_df['SEX']==TAG_GENDER) & (new_base_df['SECTOR_R']==TAG_SECTOR)]\n",
    "new_base_df_temp = new_base_df_temp.reset_index(drop=True)\n",
    "new_base_df_temp['BASE_LINE'] = new_base_df_temp['BL_FORMATOR'].mean()\n",
    "\n",
    "forecast_df = new_base_df_temp[['DATE', \n",
    "                                'PEOPLE_SERVED_NORMALIZED',\n",
    "                                'BL_FORMATOR',\n",
    "                                'COVID_3M',\n",
    "                                'COVID',\n",
    "                                'BASE_LINE']].melt(id_vars=['DATE'],\n",
    "                                                  value_vars=[#'PEOPLE_SERVED_NORMALIZED',\n",
    "                                                              'BL_FORMATOR',\n",
    "                                                              'COVID_3M',\n",
    "                                                              #'COVID',\n",
    "                                                              'BASE_LINE'],\n",
    "                                                  var_name=\"LINE\",\n",
    "                                                  value_name=\"QTY_PEOPLE_SERVED\")\n",
    "\n",
    "fig = px.line(forecast_df,\n",
    "              x=\"DATE\",\n",
    "              y=\"QTY_PEOPLE_SERVED\",\n",
    "              color='LINE',\n",
    "              title='Projection on time for ' + TAG_CATEGORY +' ('+TAG_SECTOR+' - '+TAG_GENDER+')'\n",
    "             )\n",
    "\n",
    "fig.show()\n",
    "#fig.show(renderer=\"svg\")"
   ]
  },
  {
   "cell_type": "markdown",
   "id": "86c323d5",
   "metadata": {},
   "source": [
    "#### Private"
   ]
  },
  {
   "cell_type": "code",
   "execution_count": 140,
   "id": "0e82ddd6",
   "metadata": {},
   "outputs": [],
   "source": [
    "TAG_SECTOR = 'PRIVATE'"
   ]
  },
  {
   "cell_type": "markdown",
   "id": "b28c7224",
   "metadata": {},
   "source": [
    "##### Analysis for both sexs "
   ]
  },
  {
   "cell_type": "code",
   "execution_count": 141,
   "id": "ef1f771f",
   "metadata": {
    "scrolled": false
   },
   "outputs": [
    {
     "data": {
      "application/vnd.plotly.v1+json": {
       "config": {
        "plotlyServerURL": "https://plot.ly"
       },
       "data": [
        {
         "hovertemplate": "LINE=BL_FORMATOR<br>DATE=%{x}<br>QTY_PEOPLE_SERVED=%{y}<extra></extra>",
         "legendgroup": "BL_FORMATOR",
         "line": {
          "color": "#636efa",
          "dash": "solid"
         },
         "marker": {
          "symbol": "circle"
         },
         "mode": "lines",
         "name": "BL_FORMATOR",
         "orientation": "v",
         "showlegend": true,
         "type": "scatter",
         "x": [
          "2022-05-01T00:00:00",
          "2022-04-01T00:00:00",
          "2022-03-01T00:00:00",
          "2022-02-01T00:00:00",
          "2022-01-01T00:00:00",
          "2021-12-01T00:00:00",
          "2021-11-01T00:00:00",
          "2021-10-01T00:00:00",
          "2021-09-01T00:00:00",
          "2021-08-01T00:00:00",
          "2021-07-01T00:00:00",
          "2021-06-01T00:00:00",
          "2021-05-01T00:00:00",
          "2021-04-01T00:00:00",
          "2021-03-01T00:00:00",
          "2021-02-01T00:00:00",
          "2021-01-01T00:00:00",
          "2020-12-01T00:00:00",
          "2020-11-01T00:00:00",
          "2020-10-01T00:00:00",
          "2020-09-01T00:00:00",
          "2020-08-01T00:00:00",
          "2020-07-01T00:00:00",
          "2020-06-01T00:00:00",
          "2020-05-01T00:00:00",
          "2020-04-01T00:00:00",
          "2020-03-01T00:00:00",
          "2020-02-01T00:00:00",
          "2020-01-01T00:00:00",
          "2019-12-01T00:00:00",
          "2019-11-01T00:00:00",
          "2019-10-01T00:00:00",
          "2019-09-01T00:00:00",
          "2019-08-01T00:00:00",
          "2019-07-01T00:00:00",
          "2019-06-01T00:00:00",
          "2019-05-01T00:00:00",
          "2019-04-01T00:00:00",
          "2019-03-01T00:00:00",
          "2019-02-01T00:00:00",
          "2019-01-01T00:00:00"
         ],
         "xaxis": "x",
         "y": [
          null,
          null,
          null,
          null,
          null,
          null,
          null,
          null,
          null,
          null,
          null,
          null,
          null,
          null,
          null,
          null,
          null,
          null,
          null,
          null,
          null,
          null,
          null,
          null,
          null,
          null,
          null,
          null,
          null,
          null,
          null,
          null,
          6088.5,
          5381.693548387097,
          5162.125,
          5588.828125,
          5347.6875,
          4865.90625,
          6027.15,
          4780.806451612903,
          6262.25
         ],
         "yaxis": "y"
        },
        {
         "hovertemplate": "LINE=COVID_3M<br>DATE=%{x}<br>QTY_PEOPLE_SERVED=%{y}<extra></extra>",
         "legendgroup": "COVID_3M",
         "line": {
          "color": "#EF553B",
          "dash": "solid"
         },
         "marker": {
          "symbol": "circle"
         },
         "mode": "lines",
         "name": "COVID_3M",
         "orientation": "v",
         "showlegend": true,
         "type": "scatter",
         "x": [
          "2022-05-01T00:00:00",
          "2022-04-01T00:00:00",
          "2022-03-01T00:00:00",
          "2022-02-01T00:00:00",
          "2022-01-01T00:00:00",
          "2021-12-01T00:00:00",
          "2021-11-01T00:00:00",
          "2021-10-01T00:00:00",
          "2021-09-01T00:00:00",
          "2021-08-01T00:00:00",
          "2021-07-01T00:00:00",
          "2021-06-01T00:00:00",
          "2021-05-01T00:00:00",
          "2021-04-01T00:00:00",
          "2021-03-01T00:00:00",
          "2021-02-01T00:00:00",
          "2021-01-01T00:00:00",
          "2020-12-01T00:00:00",
          "2020-11-01T00:00:00",
          "2020-10-01T00:00:00",
          "2020-09-01T00:00:00",
          "2020-08-01T00:00:00",
          "2020-07-01T00:00:00",
          "2020-06-01T00:00:00",
          "2020-05-01T00:00:00",
          "2020-04-01T00:00:00",
          "2020-03-01T00:00:00",
          "2020-02-01T00:00:00",
          "2020-01-01T00:00:00",
          "2019-12-01T00:00:00",
          "2019-11-01T00:00:00",
          "2019-10-01T00:00:00",
          "2019-09-01T00:00:00",
          "2019-08-01T00:00:00",
          "2019-07-01T00:00:00",
          "2019-06-01T00:00:00",
          "2019-05-01T00:00:00",
          "2019-04-01T00:00:00",
          "2019-03-01T00:00:00",
          "2019-02-01T00:00:00",
          "2019-01-01T00:00:00"
         ],
         "xaxis": "x",
         "y": [
          null,
          null,
          null,
          null,
          null,
          null,
          null,
          null,
          null,
          null,
          null,
          null,
          null,
          null,
          null,
          null,
          null,
          null,
          null,
          null,
          null,
          null,
          null,
          1592.457142857143,
          813.140625,
          670.6029411764705,
          null,
          null,
          null,
          null,
          null,
          null,
          null,
          null,
          null,
          null,
          null,
          null,
          null,
          null,
          null
         ],
         "yaxis": "y"
        },
        {
         "hovertemplate": "LINE=COVID<br>DATE=%{x}<br>QTY_PEOPLE_SERVED=%{y}<extra></extra>",
         "legendgroup": "COVID",
         "line": {
          "color": "#00cc96",
          "dash": "solid"
         },
         "marker": {
          "symbol": "circle"
         },
         "mode": "lines",
         "name": "COVID",
         "orientation": "v",
         "showlegend": true,
         "type": "scatter",
         "x": [
          "2022-05-01T00:00:00",
          "2022-04-01T00:00:00",
          "2022-03-01T00:00:00",
          "2022-02-01T00:00:00",
          "2022-01-01T00:00:00",
          "2021-12-01T00:00:00",
          "2021-11-01T00:00:00",
          "2021-10-01T00:00:00",
          "2021-09-01T00:00:00",
          "2021-08-01T00:00:00",
          "2021-07-01T00:00:00",
          "2021-06-01T00:00:00",
          "2021-05-01T00:00:00",
          "2021-04-01T00:00:00",
          "2021-03-01T00:00:00",
          "2021-02-01T00:00:00",
          "2021-01-01T00:00:00",
          "2020-12-01T00:00:00",
          "2020-11-01T00:00:00",
          "2020-10-01T00:00:00",
          "2020-09-01T00:00:00",
          "2020-08-01T00:00:00",
          "2020-07-01T00:00:00",
          "2020-06-01T00:00:00",
          "2020-05-01T00:00:00",
          "2020-04-01T00:00:00",
          "2020-03-01T00:00:00",
          "2020-02-01T00:00:00",
          "2020-01-01T00:00:00",
          "2019-12-01T00:00:00",
          "2019-11-01T00:00:00",
          "2019-10-01T00:00:00",
          "2019-09-01T00:00:00",
          "2019-08-01T00:00:00",
          "2019-07-01T00:00:00",
          "2019-06-01T00:00:00",
          "2019-05-01T00:00:00",
          "2019-04-01T00:00:00",
          "2019-03-01T00:00:00",
          "2019-02-01T00:00:00",
          "2019-01-01T00:00:00"
         ],
         "xaxis": "x",
         "y": [
          7049.5,
          7249.361111111111,
          7931,
          6933.861111111111,
          8397.472222222223,
          7232.972222222223,
          7603.361111111111,
          7356.583333333333,
          7313.722222222223,
          7368.305555555555,
          6922.833333333334,
          6643.138888888889,
          6209.777777777777,
          6127.583333333334,
          6780.861111111111,
          5510.805555555555,
          6137.25,
          5796.277777777777,
          5942.722222222223,
          5592.583333333333,
          4899.777777777777,
          4652.722222222223,
          3984.3611111111113,
          1592.457142857143,
          813.140625,
          670.6029411764705,
          null,
          null,
          null,
          null,
          null,
          null,
          null,
          null,
          null,
          null,
          null,
          null,
          null,
          null,
          null
         ],
         "yaxis": "y"
        },
        {
         "hovertemplate": "LINE=BASE_LINE<br>DATE=%{x}<br>QTY_PEOPLE_SERVED=%{y}<extra></extra>",
         "legendgroup": "BASE_LINE",
         "line": {
          "color": "#ab63fa",
          "dash": "solid"
         },
         "marker": {
          "symbol": "circle"
         },
         "mode": "lines",
         "name": "BASE_LINE",
         "orientation": "v",
         "showlegend": true,
         "type": "scatter",
         "x": [
          "2022-05-01T00:00:00",
          "2022-04-01T00:00:00",
          "2022-03-01T00:00:00",
          "2022-02-01T00:00:00",
          "2022-01-01T00:00:00",
          "2021-12-01T00:00:00",
          "2021-11-01T00:00:00",
          "2021-10-01T00:00:00",
          "2021-09-01T00:00:00",
          "2021-08-01T00:00:00",
          "2021-07-01T00:00:00",
          "2021-06-01T00:00:00",
          "2021-05-01T00:00:00",
          "2021-04-01T00:00:00",
          "2021-03-01T00:00:00",
          "2021-02-01T00:00:00",
          "2021-01-01T00:00:00",
          "2020-12-01T00:00:00",
          "2020-11-01T00:00:00",
          "2020-10-01T00:00:00",
          "2020-09-01T00:00:00",
          "2020-08-01T00:00:00",
          "2020-07-01T00:00:00",
          "2020-06-01T00:00:00",
          "2020-05-01T00:00:00",
          "2020-04-01T00:00:00",
          "2020-03-01T00:00:00",
          "2020-02-01T00:00:00",
          "2020-01-01T00:00:00",
          "2019-12-01T00:00:00",
          "2019-11-01T00:00:00",
          "2019-10-01T00:00:00",
          "2019-09-01T00:00:00",
          "2019-08-01T00:00:00",
          "2019-07-01T00:00:00",
          "2019-06-01T00:00:00",
          "2019-05-01T00:00:00",
          "2019-04-01T00:00:00",
          "2019-03-01T00:00:00",
          "2019-02-01T00:00:00",
          "2019-01-01T00:00:00"
         ],
         "xaxis": "x",
         "y": [
          5500.549652777778,
          5500.549652777778,
          5500.549652777778,
          5500.549652777778,
          5500.549652777778,
          5500.549652777778,
          5500.549652777778,
          5500.549652777778,
          5500.549652777778,
          5500.549652777778,
          5500.549652777778,
          5500.549652777778,
          5500.549652777778,
          5500.549652777778,
          5500.549652777778,
          5500.549652777778,
          5500.549652777778,
          5500.549652777778,
          5500.549652777778,
          5500.549652777778,
          5500.549652777778,
          5500.549652777778,
          5500.549652777778,
          5500.549652777778,
          5500.549652777778,
          5500.549652777778,
          5500.549652777778,
          5500.549652777778,
          5500.549652777778,
          5500.549652777778,
          5500.549652777778,
          5500.549652777778,
          5500.549652777778,
          5500.549652777778,
          5500.549652777778,
          5500.549652777778,
          5500.549652777778,
          5500.549652777778,
          5500.549652777778,
          5500.549652777778,
          5500.549652777778
         ],
         "yaxis": "y"
        }
       ],
       "layout": {
        "legend": {
         "title": {
          "text": "LINE"
         },
         "tracegroupgap": 0
        },
        "template": {
         "data": {
          "bar": [
           {
            "error_x": {
             "color": "#2a3f5f"
            },
            "error_y": {
             "color": "#2a3f5f"
            },
            "marker": {
             "line": {
              "color": "#E5ECF6",
              "width": 0.5
             },
             "pattern": {
              "fillmode": "overlay",
              "size": 10,
              "solidity": 0.2
             }
            },
            "type": "bar"
           }
          ],
          "barpolar": [
           {
            "marker": {
             "line": {
              "color": "#E5ECF6",
              "width": 0.5
             },
             "pattern": {
              "fillmode": "overlay",
              "size": 10,
              "solidity": 0.2
             }
            },
            "type": "barpolar"
           }
          ],
          "carpet": [
           {
            "aaxis": {
             "endlinecolor": "#2a3f5f",
             "gridcolor": "white",
             "linecolor": "white",
             "minorgridcolor": "white",
             "startlinecolor": "#2a3f5f"
            },
            "baxis": {
             "endlinecolor": "#2a3f5f",
             "gridcolor": "white",
             "linecolor": "white",
             "minorgridcolor": "white",
             "startlinecolor": "#2a3f5f"
            },
            "type": "carpet"
           }
          ],
          "choropleth": [
           {
            "colorbar": {
             "outlinewidth": 0,
             "ticks": ""
            },
            "type": "choropleth"
           }
          ],
          "contour": [
           {
            "colorbar": {
             "outlinewidth": 0,
             "ticks": ""
            },
            "colorscale": [
             [
              0,
              "#0d0887"
             ],
             [
              0.1111111111111111,
              "#46039f"
             ],
             [
              0.2222222222222222,
              "#7201a8"
             ],
             [
              0.3333333333333333,
              "#9c179e"
             ],
             [
              0.4444444444444444,
              "#bd3786"
             ],
             [
              0.5555555555555556,
              "#d8576b"
             ],
             [
              0.6666666666666666,
              "#ed7953"
             ],
             [
              0.7777777777777778,
              "#fb9f3a"
             ],
             [
              0.8888888888888888,
              "#fdca26"
             ],
             [
              1,
              "#f0f921"
             ]
            ],
            "type": "contour"
           }
          ],
          "contourcarpet": [
           {
            "colorbar": {
             "outlinewidth": 0,
             "ticks": ""
            },
            "type": "contourcarpet"
           }
          ],
          "heatmap": [
           {
            "colorbar": {
             "outlinewidth": 0,
             "ticks": ""
            },
            "colorscale": [
             [
              0,
              "#0d0887"
             ],
             [
              0.1111111111111111,
              "#46039f"
             ],
             [
              0.2222222222222222,
              "#7201a8"
             ],
             [
              0.3333333333333333,
              "#9c179e"
             ],
             [
              0.4444444444444444,
              "#bd3786"
             ],
             [
              0.5555555555555556,
              "#d8576b"
             ],
             [
              0.6666666666666666,
              "#ed7953"
             ],
             [
              0.7777777777777778,
              "#fb9f3a"
             ],
             [
              0.8888888888888888,
              "#fdca26"
             ],
             [
              1,
              "#f0f921"
             ]
            ],
            "type": "heatmap"
           }
          ],
          "heatmapgl": [
           {
            "colorbar": {
             "outlinewidth": 0,
             "ticks": ""
            },
            "colorscale": [
             [
              0,
              "#0d0887"
             ],
             [
              0.1111111111111111,
              "#46039f"
             ],
             [
              0.2222222222222222,
              "#7201a8"
             ],
             [
              0.3333333333333333,
              "#9c179e"
             ],
             [
              0.4444444444444444,
              "#bd3786"
             ],
             [
              0.5555555555555556,
              "#d8576b"
             ],
             [
              0.6666666666666666,
              "#ed7953"
             ],
             [
              0.7777777777777778,
              "#fb9f3a"
             ],
             [
              0.8888888888888888,
              "#fdca26"
             ],
             [
              1,
              "#f0f921"
             ]
            ],
            "type": "heatmapgl"
           }
          ],
          "histogram": [
           {
            "marker": {
             "pattern": {
              "fillmode": "overlay",
              "size": 10,
              "solidity": 0.2
             }
            },
            "type": "histogram"
           }
          ],
          "histogram2d": [
           {
            "colorbar": {
             "outlinewidth": 0,
             "ticks": ""
            },
            "colorscale": [
             [
              0,
              "#0d0887"
             ],
             [
              0.1111111111111111,
              "#46039f"
             ],
             [
              0.2222222222222222,
              "#7201a8"
             ],
             [
              0.3333333333333333,
              "#9c179e"
             ],
             [
              0.4444444444444444,
              "#bd3786"
             ],
             [
              0.5555555555555556,
              "#d8576b"
             ],
             [
              0.6666666666666666,
              "#ed7953"
             ],
             [
              0.7777777777777778,
              "#fb9f3a"
             ],
             [
              0.8888888888888888,
              "#fdca26"
             ],
             [
              1,
              "#f0f921"
             ]
            ],
            "type": "histogram2d"
           }
          ],
          "histogram2dcontour": [
           {
            "colorbar": {
             "outlinewidth": 0,
             "ticks": ""
            },
            "colorscale": [
             [
              0,
              "#0d0887"
             ],
             [
              0.1111111111111111,
              "#46039f"
             ],
             [
              0.2222222222222222,
              "#7201a8"
             ],
             [
              0.3333333333333333,
              "#9c179e"
             ],
             [
              0.4444444444444444,
              "#bd3786"
             ],
             [
              0.5555555555555556,
              "#d8576b"
             ],
             [
              0.6666666666666666,
              "#ed7953"
             ],
             [
              0.7777777777777778,
              "#fb9f3a"
             ],
             [
              0.8888888888888888,
              "#fdca26"
             ],
             [
              1,
              "#f0f921"
             ]
            ],
            "type": "histogram2dcontour"
           }
          ],
          "mesh3d": [
           {
            "colorbar": {
             "outlinewidth": 0,
             "ticks": ""
            },
            "type": "mesh3d"
           }
          ],
          "parcoords": [
           {
            "line": {
             "colorbar": {
              "outlinewidth": 0,
              "ticks": ""
             }
            },
            "type": "parcoords"
           }
          ],
          "pie": [
           {
            "automargin": true,
            "type": "pie"
           }
          ],
          "scatter": [
           {
            "marker": {
             "colorbar": {
              "outlinewidth": 0,
              "ticks": ""
             }
            },
            "type": "scatter"
           }
          ],
          "scatter3d": [
           {
            "line": {
             "colorbar": {
              "outlinewidth": 0,
              "ticks": ""
             }
            },
            "marker": {
             "colorbar": {
              "outlinewidth": 0,
              "ticks": ""
             }
            },
            "type": "scatter3d"
           }
          ],
          "scattercarpet": [
           {
            "marker": {
             "colorbar": {
              "outlinewidth": 0,
              "ticks": ""
             }
            },
            "type": "scattercarpet"
           }
          ],
          "scattergeo": [
           {
            "marker": {
             "colorbar": {
              "outlinewidth": 0,
              "ticks": ""
             }
            },
            "type": "scattergeo"
           }
          ],
          "scattergl": [
           {
            "marker": {
             "colorbar": {
              "outlinewidth": 0,
              "ticks": ""
             }
            },
            "type": "scattergl"
           }
          ],
          "scattermapbox": [
           {
            "marker": {
             "colorbar": {
              "outlinewidth": 0,
              "ticks": ""
             }
            },
            "type": "scattermapbox"
           }
          ],
          "scatterpolar": [
           {
            "marker": {
             "colorbar": {
              "outlinewidth": 0,
              "ticks": ""
             }
            },
            "type": "scatterpolar"
           }
          ],
          "scatterpolargl": [
           {
            "marker": {
             "colorbar": {
              "outlinewidth": 0,
              "ticks": ""
             }
            },
            "type": "scatterpolargl"
           }
          ],
          "scatterternary": [
           {
            "marker": {
             "colorbar": {
              "outlinewidth": 0,
              "ticks": ""
             }
            },
            "type": "scatterternary"
           }
          ],
          "surface": [
           {
            "colorbar": {
             "outlinewidth": 0,
             "ticks": ""
            },
            "colorscale": [
             [
              0,
              "#0d0887"
             ],
             [
              0.1111111111111111,
              "#46039f"
             ],
             [
              0.2222222222222222,
              "#7201a8"
             ],
             [
              0.3333333333333333,
              "#9c179e"
             ],
             [
              0.4444444444444444,
              "#bd3786"
             ],
             [
              0.5555555555555556,
              "#d8576b"
             ],
             [
              0.6666666666666666,
              "#ed7953"
             ],
             [
              0.7777777777777778,
              "#fb9f3a"
             ],
             [
              0.8888888888888888,
              "#fdca26"
             ],
             [
              1,
              "#f0f921"
             ]
            ],
            "type": "surface"
           }
          ],
          "table": [
           {
            "cells": {
             "fill": {
              "color": "#EBF0F8"
             },
             "line": {
              "color": "white"
             }
            },
            "header": {
             "fill": {
              "color": "#C8D4E3"
             },
             "line": {
              "color": "white"
             }
            },
            "type": "table"
           }
          ]
         },
         "layout": {
          "annotationdefaults": {
           "arrowcolor": "#2a3f5f",
           "arrowhead": 0,
           "arrowwidth": 1
          },
          "autotypenumbers": "strict",
          "coloraxis": {
           "colorbar": {
            "outlinewidth": 0,
            "ticks": ""
           }
          },
          "colorscale": {
           "diverging": [
            [
             0,
             "#8e0152"
            ],
            [
             0.1,
             "#c51b7d"
            ],
            [
             0.2,
             "#de77ae"
            ],
            [
             0.3,
             "#f1b6da"
            ],
            [
             0.4,
             "#fde0ef"
            ],
            [
             0.5,
             "#f7f7f7"
            ],
            [
             0.6,
             "#e6f5d0"
            ],
            [
             0.7,
             "#b8e186"
            ],
            [
             0.8,
             "#7fbc41"
            ],
            [
             0.9,
             "#4d9221"
            ],
            [
             1,
             "#276419"
            ]
           ],
           "sequential": [
            [
             0,
             "#0d0887"
            ],
            [
             0.1111111111111111,
             "#46039f"
            ],
            [
             0.2222222222222222,
             "#7201a8"
            ],
            [
             0.3333333333333333,
             "#9c179e"
            ],
            [
             0.4444444444444444,
             "#bd3786"
            ],
            [
             0.5555555555555556,
             "#d8576b"
            ],
            [
             0.6666666666666666,
             "#ed7953"
            ],
            [
             0.7777777777777778,
             "#fb9f3a"
            ],
            [
             0.8888888888888888,
             "#fdca26"
            ],
            [
             1,
             "#f0f921"
            ]
           ],
           "sequentialminus": [
            [
             0,
             "#0d0887"
            ],
            [
             0.1111111111111111,
             "#46039f"
            ],
            [
             0.2222222222222222,
             "#7201a8"
            ],
            [
             0.3333333333333333,
             "#9c179e"
            ],
            [
             0.4444444444444444,
             "#bd3786"
            ],
            [
             0.5555555555555556,
             "#d8576b"
            ],
            [
             0.6666666666666666,
             "#ed7953"
            ],
            [
             0.7777777777777778,
             "#fb9f3a"
            ],
            [
             0.8888888888888888,
             "#fdca26"
            ],
            [
             1,
             "#f0f921"
            ]
           ]
          },
          "colorway": [
           "#636efa",
           "#EF553B",
           "#00cc96",
           "#ab63fa",
           "#FFA15A",
           "#19d3f3",
           "#FF6692",
           "#B6E880",
           "#FF97FF",
           "#FECB52"
          ],
          "font": {
           "color": "#2a3f5f"
          },
          "geo": {
           "bgcolor": "white",
           "lakecolor": "white",
           "landcolor": "#E5ECF6",
           "showlakes": true,
           "showland": true,
           "subunitcolor": "white"
          },
          "hoverlabel": {
           "align": "left"
          },
          "hovermode": "closest",
          "mapbox": {
           "style": "light"
          },
          "paper_bgcolor": "white",
          "plot_bgcolor": "#E5ECF6",
          "polar": {
           "angularaxis": {
            "gridcolor": "white",
            "linecolor": "white",
            "ticks": ""
           },
           "bgcolor": "#E5ECF6",
           "radialaxis": {
            "gridcolor": "white",
            "linecolor": "white",
            "ticks": ""
           }
          },
          "scene": {
           "xaxis": {
            "backgroundcolor": "#E5ECF6",
            "gridcolor": "white",
            "gridwidth": 2,
            "linecolor": "white",
            "showbackground": true,
            "ticks": "",
            "zerolinecolor": "white"
           },
           "yaxis": {
            "backgroundcolor": "#E5ECF6",
            "gridcolor": "white",
            "gridwidth": 2,
            "linecolor": "white",
            "showbackground": true,
            "ticks": "",
            "zerolinecolor": "white"
           },
           "zaxis": {
            "backgroundcolor": "#E5ECF6",
            "gridcolor": "white",
            "gridwidth": 2,
            "linecolor": "white",
            "showbackground": true,
            "ticks": "",
            "zerolinecolor": "white"
           }
          },
          "shapedefaults": {
           "line": {
            "color": "#2a3f5f"
           }
          },
          "ternary": {
           "aaxis": {
            "gridcolor": "white",
            "linecolor": "white",
            "ticks": ""
           },
           "baxis": {
            "gridcolor": "white",
            "linecolor": "white",
            "ticks": ""
           },
           "bgcolor": "#E5ECF6",
           "caxis": {
            "gridcolor": "white",
            "linecolor": "white",
            "ticks": ""
           }
          },
          "title": {
           "x": 0.05
          },
          "xaxis": {
           "automargin": true,
           "gridcolor": "white",
           "linecolor": "white",
           "ticks": "",
           "title": {
            "standoff": 15
           },
           "zerolinecolor": "white",
           "zerolinewidth": 2
          },
          "yaxis": {
           "automargin": true,
           "gridcolor": "white",
           "linecolor": "white",
           "ticks": "",
           "title": {
            "standoff": 15
           },
           "zerolinecolor": "white",
           "zerolinewidth": 2
          }
         }
        },
        "title": {
         "text": "Projection on time for II (PRIVATE - SEX_AVG)"
        },
        "xaxis": {
         "anchor": "y",
         "domain": [
          0,
          1
         ],
         "title": {
          "text": "DATE"
         }
        },
        "yaxis": {
         "anchor": "x",
         "domain": [
          0,
          1
         ],
         "title": {
          "text": "QTY_PEOPLE_SERVED"
         }
        }
       }
      },
      "text/html": [
       "<div>                            <div id=\"335267ef-5922-47d5-af28-fbba9e92b22e\" class=\"plotly-graph-div\" style=\"height:525px; width:100%;\"></div>            <script type=\"text/javascript\">                require([\"plotly\"], function(Plotly) {                    window.PLOTLYENV=window.PLOTLYENV || {};                                    if (document.getElementById(\"335267ef-5922-47d5-af28-fbba9e92b22e\")) {                    Plotly.newPlot(                        \"335267ef-5922-47d5-af28-fbba9e92b22e\",                        [{\"hovertemplate\":\"LINE=BL_FORMATOR<br>DATE=%{x}<br>QTY_PEOPLE_SERVED=%{y}<extra></extra>\",\"legendgroup\":\"BL_FORMATOR\",\"line\":{\"color\":\"#636efa\",\"dash\":\"solid\"},\"marker\":{\"symbol\":\"circle\"},\"mode\":\"lines\",\"name\":\"BL_FORMATOR\",\"orientation\":\"v\",\"showlegend\":true,\"x\":[\"2022-05-01T00:00:00\",\"2022-04-01T00:00:00\",\"2022-03-01T00:00:00\",\"2022-02-01T00:00:00\",\"2022-01-01T00:00:00\",\"2021-12-01T00:00:00\",\"2021-11-01T00:00:00\",\"2021-10-01T00:00:00\",\"2021-09-01T00:00:00\",\"2021-08-01T00:00:00\",\"2021-07-01T00:00:00\",\"2021-06-01T00:00:00\",\"2021-05-01T00:00:00\",\"2021-04-01T00:00:00\",\"2021-03-01T00:00:00\",\"2021-02-01T00:00:00\",\"2021-01-01T00:00:00\",\"2020-12-01T00:00:00\",\"2020-11-01T00:00:00\",\"2020-10-01T00:00:00\",\"2020-09-01T00:00:00\",\"2020-08-01T00:00:00\",\"2020-07-01T00:00:00\",\"2020-06-01T00:00:00\",\"2020-05-01T00:00:00\",\"2020-04-01T00:00:00\",\"2020-03-01T00:00:00\",\"2020-02-01T00:00:00\",\"2020-01-01T00:00:00\",\"2019-12-01T00:00:00\",\"2019-11-01T00:00:00\",\"2019-10-01T00:00:00\",\"2019-09-01T00:00:00\",\"2019-08-01T00:00:00\",\"2019-07-01T00:00:00\",\"2019-06-01T00:00:00\",\"2019-05-01T00:00:00\",\"2019-04-01T00:00:00\",\"2019-03-01T00:00:00\",\"2019-02-01T00:00:00\",\"2019-01-01T00:00:00\"],\"xaxis\":\"x\",\"y\":[null,null,null,null,null,null,null,null,null,null,null,null,null,null,null,null,null,null,null,null,null,null,null,null,null,null,null,null,null,null,null,null,6088.5,5381.693548387097,5162.125,5588.828125,5347.6875,4865.90625,6027.15,4780.806451612903,6262.25],\"yaxis\":\"y\",\"type\":\"scatter\"},{\"hovertemplate\":\"LINE=COVID_3M<br>DATE=%{x}<br>QTY_PEOPLE_SERVED=%{y}<extra></extra>\",\"legendgroup\":\"COVID_3M\",\"line\":{\"color\":\"#EF553B\",\"dash\":\"solid\"},\"marker\":{\"symbol\":\"circle\"},\"mode\":\"lines\",\"name\":\"COVID_3M\",\"orientation\":\"v\",\"showlegend\":true,\"x\":[\"2022-05-01T00:00:00\",\"2022-04-01T00:00:00\",\"2022-03-01T00:00:00\",\"2022-02-01T00:00:00\",\"2022-01-01T00:00:00\",\"2021-12-01T00:00:00\",\"2021-11-01T00:00:00\",\"2021-10-01T00:00:00\",\"2021-09-01T00:00:00\",\"2021-08-01T00:00:00\",\"2021-07-01T00:00:00\",\"2021-06-01T00:00:00\",\"2021-05-01T00:00:00\",\"2021-04-01T00:00:00\",\"2021-03-01T00:00:00\",\"2021-02-01T00:00:00\",\"2021-01-01T00:00:00\",\"2020-12-01T00:00:00\",\"2020-11-01T00:00:00\",\"2020-10-01T00:00:00\",\"2020-09-01T00:00:00\",\"2020-08-01T00:00:00\",\"2020-07-01T00:00:00\",\"2020-06-01T00:00:00\",\"2020-05-01T00:00:00\",\"2020-04-01T00:00:00\",\"2020-03-01T00:00:00\",\"2020-02-01T00:00:00\",\"2020-01-01T00:00:00\",\"2019-12-01T00:00:00\",\"2019-11-01T00:00:00\",\"2019-10-01T00:00:00\",\"2019-09-01T00:00:00\",\"2019-08-01T00:00:00\",\"2019-07-01T00:00:00\",\"2019-06-01T00:00:00\",\"2019-05-01T00:00:00\",\"2019-04-01T00:00:00\",\"2019-03-01T00:00:00\",\"2019-02-01T00:00:00\",\"2019-01-01T00:00:00\"],\"xaxis\":\"x\",\"y\":[null,null,null,null,null,null,null,null,null,null,null,null,null,null,null,null,null,null,null,null,null,null,null,1592.457142857143,813.140625,670.6029411764705,null,null,null,null,null,null,null,null,null,null,null,null,null,null,null],\"yaxis\":\"y\",\"type\":\"scatter\"},{\"hovertemplate\":\"LINE=COVID<br>DATE=%{x}<br>QTY_PEOPLE_SERVED=%{y}<extra></extra>\",\"legendgroup\":\"COVID\",\"line\":{\"color\":\"#00cc96\",\"dash\":\"solid\"},\"marker\":{\"symbol\":\"circle\"},\"mode\":\"lines\",\"name\":\"COVID\",\"orientation\":\"v\",\"showlegend\":true,\"x\":[\"2022-05-01T00:00:00\",\"2022-04-01T00:00:00\",\"2022-03-01T00:00:00\",\"2022-02-01T00:00:00\",\"2022-01-01T00:00:00\",\"2021-12-01T00:00:00\",\"2021-11-01T00:00:00\",\"2021-10-01T00:00:00\",\"2021-09-01T00:00:00\",\"2021-08-01T00:00:00\",\"2021-07-01T00:00:00\",\"2021-06-01T00:00:00\",\"2021-05-01T00:00:00\",\"2021-04-01T00:00:00\",\"2021-03-01T00:00:00\",\"2021-02-01T00:00:00\",\"2021-01-01T00:00:00\",\"2020-12-01T00:00:00\",\"2020-11-01T00:00:00\",\"2020-10-01T00:00:00\",\"2020-09-01T00:00:00\",\"2020-08-01T00:00:00\",\"2020-07-01T00:00:00\",\"2020-06-01T00:00:00\",\"2020-05-01T00:00:00\",\"2020-04-01T00:00:00\",\"2020-03-01T00:00:00\",\"2020-02-01T00:00:00\",\"2020-01-01T00:00:00\",\"2019-12-01T00:00:00\",\"2019-11-01T00:00:00\",\"2019-10-01T00:00:00\",\"2019-09-01T00:00:00\",\"2019-08-01T00:00:00\",\"2019-07-01T00:00:00\",\"2019-06-01T00:00:00\",\"2019-05-01T00:00:00\",\"2019-04-01T00:00:00\",\"2019-03-01T00:00:00\",\"2019-02-01T00:00:00\",\"2019-01-01T00:00:00\"],\"xaxis\":\"x\",\"y\":[7049.5,7249.361111111111,7931.0,6933.861111111111,8397.472222222223,7232.972222222223,7603.361111111111,7356.583333333333,7313.722222222223,7368.305555555555,6922.833333333334,6643.138888888889,6209.777777777777,6127.583333333334,6780.861111111111,5510.805555555555,6137.25,5796.277777777777,5942.722222222223,5592.583333333333,4899.777777777777,4652.722222222223,3984.3611111111113,1592.457142857143,813.140625,670.6029411764705,null,null,null,null,null,null,null,null,null,null,null,null,null,null,null],\"yaxis\":\"y\",\"type\":\"scatter\"},{\"hovertemplate\":\"LINE=BASE_LINE<br>DATE=%{x}<br>QTY_PEOPLE_SERVED=%{y}<extra></extra>\",\"legendgroup\":\"BASE_LINE\",\"line\":{\"color\":\"#ab63fa\",\"dash\":\"solid\"},\"marker\":{\"symbol\":\"circle\"},\"mode\":\"lines\",\"name\":\"BASE_LINE\",\"orientation\":\"v\",\"showlegend\":true,\"x\":[\"2022-05-01T00:00:00\",\"2022-04-01T00:00:00\",\"2022-03-01T00:00:00\",\"2022-02-01T00:00:00\",\"2022-01-01T00:00:00\",\"2021-12-01T00:00:00\",\"2021-11-01T00:00:00\",\"2021-10-01T00:00:00\",\"2021-09-01T00:00:00\",\"2021-08-01T00:00:00\",\"2021-07-01T00:00:00\",\"2021-06-01T00:00:00\",\"2021-05-01T00:00:00\",\"2021-04-01T00:00:00\",\"2021-03-01T00:00:00\",\"2021-02-01T00:00:00\",\"2021-01-01T00:00:00\",\"2020-12-01T00:00:00\",\"2020-11-01T00:00:00\",\"2020-10-01T00:00:00\",\"2020-09-01T00:00:00\",\"2020-08-01T00:00:00\",\"2020-07-01T00:00:00\",\"2020-06-01T00:00:00\",\"2020-05-01T00:00:00\",\"2020-04-01T00:00:00\",\"2020-03-01T00:00:00\",\"2020-02-01T00:00:00\",\"2020-01-01T00:00:00\",\"2019-12-01T00:00:00\",\"2019-11-01T00:00:00\",\"2019-10-01T00:00:00\",\"2019-09-01T00:00:00\",\"2019-08-01T00:00:00\",\"2019-07-01T00:00:00\",\"2019-06-01T00:00:00\",\"2019-05-01T00:00:00\",\"2019-04-01T00:00:00\",\"2019-03-01T00:00:00\",\"2019-02-01T00:00:00\",\"2019-01-01T00:00:00\"],\"xaxis\":\"x\",\"y\":[5500.549652777778,5500.549652777778,5500.549652777778,5500.549652777778,5500.549652777778,5500.549652777778,5500.549652777778,5500.549652777778,5500.549652777778,5500.549652777778,5500.549652777778,5500.549652777778,5500.549652777778,5500.549652777778,5500.549652777778,5500.549652777778,5500.549652777778,5500.549652777778,5500.549652777778,5500.549652777778,5500.549652777778,5500.549652777778,5500.549652777778,5500.549652777778,5500.549652777778,5500.549652777778,5500.549652777778,5500.549652777778,5500.549652777778,5500.549652777778,5500.549652777778,5500.549652777778,5500.549652777778,5500.549652777778,5500.549652777778,5500.549652777778,5500.549652777778,5500.549652777778,5500.549652777778,5500.549652777778,5500.549652777778],\"yaxis\":\"y\",\"type\":\"scatter\"}],                        {\"template\":{\"data\":{\"bar\":[{\"error_x\":{\"color\":\"#2a3f5f\"},\"error_y\":{\"color\":\"#2a3f5f\"},\"marker\":{\"line\":{\"color\":\"#E5ECF6\",\"width\":0.5},\"pattern\":{\"fillmode\":\"overlay\",\"size\":10,\"solidity\":0.2}},\"type\":\"bar\"}],\"barpolar\":[{\"marker\":{\"line\":{\"color\":\"#E5ECF6\",\"width\":0.5},\"pattern\":{\"fillmode\":\"overlay\",\"size\":10,\"solidity\":0.2}},\"type\":\"barpolar\"}],\"carpet\":[{\"aaxis\":{\"endlinecolor\":\"#2a3f5f\",\"gridcolor\":\"white\",\"linecolor\":\"white\",\"minorgridcolor\":\"white\",\"startlinecolor\":\"#2a3f5f\"},\"baxis\":{\"endlinecolor\":\"#2a3f5f\",\"gridcolor\":\"white\",\"linecolor\":\"white\",\"minorgridcolor\":\"white\",\"startlinecolor\":\"#2a3f5f\"},\"type\":\"carpet\"}],\"choropleth\":[{\"colorbar\":{\"outlinewidth\":0,\"ticks\":\"\"},\"type\":\"choropleth\"}],\"contour\":[{\"colorbar\":{\"outlinewidth\":0,\"ticks\":\"\"},\"colorscale\":[[0.0,\"#0d0887\"],[0.1111111111111111,\"#46039f\"],[0.2222222222222222,\"#7201a8\"],[0.3333333333333333,\"#9c179e\"],[0.4444444444444444,\"#bd3786\"],[0.5555555555555556,\"#d8576b\"],[0.6666666666666666,\"#ed7953\"],[0.7777777777777778,\"#fb9f3a\"],[0.8888888888888888,\"#fdca26\"],[1.0,\"#f0f921\"]],\"type\":\"contour\"}],\"contourcarpet\":[{\"colorbar\":{\"outlinewidth\":0,\"ticks\":\"\"},\"type\":\"contourcarpet\"}],\"heatmap\":[{\"colorbar\":{\"outlinewidth\":0,\"ticks\":\"\"},\"colorscale\":[[0.0,\"#0d0887\"],[0.1111111111111111,\"#46039f\"],[0.2222222222222222,\"#7201a8\"],[0.3333333333333333,\"#9c179e\"],[0.4444444444444444,\"#bd3786\"],[0.5555555555555556,\"#d8576b\"],[0.6666666666666666,\"#ed7953\"],[0.7777777777777778,\"#fb9f3a\"],[0.8888888888888888,\"#fdca26\"],[1.0,\"#f0f921\"]],\"type\":\"heatmap\"}],\"heatmapgl\":[{\"colorbar\":{\"outlinewidth\":0,\"ticks\":\"\"},\"colorscale\":[[0.0,\"#0d0887\"],[0.1111111111111111,\"#46039f\"],[0.2222222222222222,\"#7201a8\"],[0.3333333333333333,\"#9c179e\"],[0.4444444444444444,\"#bd3786\"],[0.5555555555555556,\"#d8576b\"],[0.6666666666666666,\"#ed7953\"],[0.7777777777777778,\"#fb9f3a\"],[0.8888888888888888,\"#fdca26\"],[1.0,\"#f0f921\"]],\"type\":\"heatmapgl\"}],\"histogram\":[{\"marker\":{\"pattern\":{\"fillmode\":\"overlay\",\"size\":10,\"solidity\":0.2}},\"type\":\"histogram\"}],\"histogram2d\":[{\"colorbar\":{\"outlinewidth\":0,\"ticks\":\"\"},\"colorscale\":[[0.0,\"#0d0887\"],[0.1111111111111111,\"#46039f\"],[0.2222222222222222,\"#7201a8\"],[0.3333333333333333,\"#9c179e\"],[0.4444444444444444,\"#bd3786\"],[0.5555555555555556,\"#d8576b\"],[0.6666666666666666,\"#ed7953\"],[0.7777777777777778,\"#fb9f3a\"],[0.8888888888888888,\"#fdca26\"],[1.0,\"#f0f921\"]],\"type\":\"histogram2d\"}],\"histogram2dcontour\":[{\"colorbar\":{\"outlinewidth\":0,\"ticks\":\"\"},\"colorscale\":[[0.0,\"#0d0887\"],[0.1111111111111111,\"#46039f\"],[0.2222222222222222,\"#7201a8\"],[0.3333333333333333,\"#9c179e\"],[0.4444444444444444,\"#bd3786\"],[0.5555555555555556,\"#d8576b\"],[0.6666666666666666,\"#ed7953\"],[0.7777777777777778,\"#fb9f3a\"],[0.8888888888888888,\"#fdca26\"],[1.0,\"#f0f921\"]],\"type\":\"histogram2dcontour\"}],\"mesh3d\":[{\"colorbar\":{\"outlinewidth\":0,\"ticks\":\"\"},\"type\":\"mesh3d\"}],\"parcoords\":[{\"line\":{\"colorbar\":{\"outlinewidth\":0,\"ticks\":\"\"}},\"type\":\"parcoords\"}],\"pie\":[{\"automargin\":true,\"type\":\"pie\"}],\"scatter\":[{\"marker\":{\"colorbar\":{\"outlinewidth\":0,\"ticks\":\"\"}},\"type\":\"scatter\"}],\"scatter3d\":[{\"line\":{\"colorbar\":{\"outlinewidth\":0,\"ticks\":\"\"}},\"marker\":{\"colorbar\":{\"outlinewidth\":0,\"ticks\":\"\"}},\"type\":\"scatter3d\"}],\"scattercarpet\":[{\"marker\":{\"colorbar\":{\"outlinewidth\":0,\"ticks\":\"\"}},\"type\":\"scattercarpet\"}],\"scattergeo\":[{\"marker\":{\"colorbar\":{\"outlinewidth\":0,\"ticks\":\"\"}},\"type\":\"scattergeo\"}],\"scattergl\":[{\"marker\":{\"colorbar\":{\"outlinewidth\":0,\"ticks\":\"\"}},\"type\":\"scattergl\"}],\"scattermapbox\":[{\"marker\":{\"colorbar\":{\"outlinewidth\":0,\"ticks\":\"\"}},\"type\":\"scattermapbox\"}],\"scatterpolar\":[{\"marker\":{\"colorbar\":{\"outlinewidth\":0,\"ticks\":\"\"}},\"type\":\"scatterpolar\"}],\"scatterpolargl\":[{\"marker\":{\"colorbar\":{\"outlinewidth\":0,\"ticks\":\"\"}},\"type\":\"scatterpolargl\"}],\"scatterternary\":[{\"marker\":{\"colorbar\":{\"outlinewidth\":0,\"ticks\":\"\"}},\"type\":\"scatterternary\"}],\"surface\":[{\"colorbar\":{\"outlinewidth\":0,\"ticks\":\"\"},\"colorscale\":[[0.0,\"#0d0887\"],[0.1111111111111111,\"#46039f\"],[0.2222222222222222,\"#7201a8\"],[0.3333333333333333,\"#9c179e\"],[0.4444444444444444,\"#bd3786\"],[0.5555555555555556,\"#d8576b\"],[0.6666666666666666,\"#ed7953\"],[0.7777777777777778,\"#fb9f3a\"],[0.8888888888888888,\"#fdca26\"],[1.0,\"#f0f921\"]],\"type\":\"surface\"}],\"table\":[{\"cells\":{\"fill\":{\"color\":\"#EBF0F8\"},\"line\":{\"color\":\"white\"}},\"header\":{\"fill\":{\"color\":\"#C8D4E3\"},\"line\":{\"color\":\"white\"}},\"type\":\"table\"}]},\"layout\":{\"annotationdefaults\":{\"arrowcolor\":\"#2a3f5f\",\"arrowhead\":0,\"arrowwidth\":1},\"autotypenumbers\":\"strict\",\"coloraxis\":{\"colorbar\":{\"outlinewidth\":0,\"ticks\":\"\"}},\"colorscale\":{\"diverging\":[[0,\"#8e0152\"],[0.1,\"#c51b7d\"],[0.2,\"#de77ae\"],[0.3,\"#f1b6da\"],[0.4,\"#fde0ef\"],[0.5,\"#f7f7f7\"],[0.6,\"#e6f5d0\"],[0.7,\"#b8e186\"],[0.8,\"#7fbc41\"],[0.9,\"#4d9221\"],[1,\"#276419\"]],\"sequential\":[[0.0,\"#0d0887\"],[0.1111111111111111,\"#46039f\"],[0.2222222222222222,\"#7201a8\"],[0.3333333333333333,\"#9c179e\"],[0.4444444444444444,\"#bd3786\"],[0.5555555555555556,\"#d8576b\"],[0.6666666666666666,\"#ed7953\"],[0.7777777777777778,\"#fb9f3a\"],[0.8888888888888888,\"#fdca26\"],[1.0,\"#f0f921\"]],\"sequentialminus\":[[0.0,\"#0d0887\"],[0.1111111111111111,\"#46039f\"],[0.2222222222222222,\"#7201a8\"],[0.3333333333333333,\"#9c179e\"],[0.4444444444444444,\"#bd3786\"],[0.5555555555555556,\"#d8576b\"],[0.6666666666666666,\"#ed7953\"],[0.7777777777777778,\"#fb9f3a\"],[0.8888888888888888,\"#fdca26\"],[1.0,\"#f0f921\"]]},\"colorway\":[\"#636efa\",\"#EF553B\",\"#00cc96\",\"#ab63fa\",\"#FFA15A\",\"#19d3f3\",\"#FF6692\",\"#B6E880\",\"#FF97FF\",\"#FECB52\"],\"font\":{\"color\":\"#2a3f5f\"},\"geo\":{\"bgcolor\":\"white\",\"lakecolor\":\"white\",\"landcolor\":\"#E5ECF6\",\"showlakes\":true,\"showland\":true,\"subunitcolor\":\"white\"},\"hoverlabel\":{\"align\":\"left\"},\"hovermode\":\"closest\",\"mapbox\":{\"style\":\"light\"},\"paper_bgcolor\":\"white\",\"plot_bgcolor\":\"#E5ECF6\",\"polar\":{\"angularaxis\":{\"gridcolor\":\"white\",\"linecolor\":\"white\",\"ticks\":\"\"},\"bgcolor\":\"#E5ECF6\",\"radialaxis\":{\"gridcolor\":\"white\",\"linecolor\":\"white\",\"ticks\":\"\"}},\"scene\":{\"xaxis\":{\"backgroundcolor\":\"#E5ECF6\",\"gridcolor\":\"white\",\"gridwidth\":2,\"linecolor\":\"white\",\"showbackground\":true,\"ticks\":\"\",\"zerolinecolor\":\"white\"},\"yaxis\":{\"backgroundcolor\":\"#E5ECF6\",\"gridcolor\":\"white\",\"gridwidth\":2,\"linecolor\":\"white\",\"showbackground\":true,\"ticks\":\"\",\"zerolinecolor\":\"white\"},\"zaxis\":{\"backgroundcolor\":\"#E5ECF6\",\"gridcolor\":\"white\",\"gridwidth\":2,\"linecolor\":\"white\",\"showbackground\":true,\"ticks\":\"\",\"zerolinecolor\":\"white\"}},\"shapedefaults\":{\"line\":{\"color\":\"#2a3f5f\"}},\"ternary\":{\"aaxis\":{\"gridcolor\":\"white\",\"linecolor\":\"white\",\"ticks\":\"\"},\"baxis\":{\"gridcolor\":\"white\",\"linecolor\":\"white\",\"ticks\":\"\"},\"bgcolor\":\"#E5ECF6\",\"caxis\":{\"gridcolor\":\"white\",\"linecolor\":\"white\",\"ticks\":\"\"}},\"title\":{\"x\":0.05},\"xaxis\":{\"automargin\":true,\"gridcolor\":\"white\",\"linecolor\":\"white\",\"ticks\":\"\",\"title\":{\"standoff\":15},\"zerolinecolor\":\"white\",\"zerolinewidth\":2},\"yaxis\":{\"automargin\":true,\"gridcolor\":\"white\",\"linecolor\":\"white\",\"ticks\":\"\",\"title\":{\"standoff\":15},\"zerolinecolor\":\"white\",\"zerolinewidth\":2}}},\"xaxis\":{\"anchor\":\"y\",\"domain\":[0.0,1.0],\"title\":{\"text\":\"DATE\"}},\"yaxis\":{\"anchor\":\"x\",\"domain\":[0.0,1.0],\"title\":{\"text\":\"QTY_PEOPLE_SERVED\"}},\"legend\":{\"title\":{\"text\":\"LINE\"},\"tracegroupgap\":0},\"title\":{\"text\":\"Projection on time for II (PRIVATE - SEX_AVG)\"}},                        {\"responsive\": true}                    ).then(function(){\n",
       "                            \n",
       "var gd = document.getElementById('335267ef-5922-47d5-af28-fbba9e92b22e');\n",
       "var x = new MutationObserver(function (mutations, observer) {{\n",
       "        var display = window.getComputedStyle(gd).display;\n",
       "        if (!display || display === 'none') {{\n",
       "            console.log([gd, 'removed!']);\n",
       "            Plotly.purge(gd);\n",
       "            observer.disconnect();\n",
       "        }}\n",
       "}});\n",
       "\n",
       "// Listen for the removal of the full notebook cells\n",
       "var notebookContainer = gd.closest('#notebook-container');\n",
       "if (notebookContainer) {{\n",
       "    x.observe(notebookContainer, {childList: true});\n",
       "}}\n",
       "\n",
       "// Listen for the clearing of the current output cell\n",
       "var outputEl = gd.closest('.output');\n",
       "if (outputEl) {{\n",
       "    x.observe(outputEl, {childList: true});\n",
       "}}\n",
       "\n",
       "                        })                };                });            </script>        </div>"
      ]
     },
     "metadata": {},
     "output_type": "display_data"
    }
   ],
   "source": [
    "TAG_GENDER = 'SEX_AVG'\n",
    "new_base_df_temp = new_base_df[(new_base_df['SEX']==TAG_GENDER) & (new_base_df['SECTOR_R']==TAG_SECTOR)]\n",
    "new_base_df_temp = new_base_df_temp.reset_index(drop=True)\n",
    "new_base_df_temp['BASE_LINE'] = new_base_df_temp['BL_FORMATOR'].mean()\n",
    "\n",
    "# Forecast\n",
    "# temp_resp = forecast_model_2(new_base_df_temp[(new_base_df_temp['DATE'] >= '2020-04-01') & (new_base_df_temp['DATE'] <= '2020-06-01')][['DATE','COVID_3M']],\n",
    "#                              new_base_df_temp[(new_base_df_temp['DATE'] >= '2020-04-01')][['DATE']],\n",
    "#                              column_name = 'DATE',\n",
    "#                              column_values = 'COVID_3M',\n",
    "#                              name_predicted = 'COVID_FORECAST',\n",
    "#                              kind_model = 'rfg')\n",
    "\n",
    "# new_base_df_temp = pd.merge(forecast_df, temp_resp, how='left', on=('DATE','DATE'))\n",
    "\n",
    "forecast_df = new_base_df_temp[['DATE', \n",
    "                                'PEOPLE_SERVED_NORMALIZED',\n",
    "                                'BL_FORMATOR',\n",
    "                                'COVID_3M',\n",
    "                                #'COVID_FORECAST',\n",
    "                                'COVID',\n",
    "                                'BASE_LINE']].melt(id_vars=['DATE'],\n",
    "                                                  value_vars=[#'PEOPLE_SERVED_NORMALIZED',\n",
    "                                                              'BL_FORMATOR',\n",
    "                                                              'COVID_3M',\n",
    "                                                              #'COVID_FORECAST',\n",
    "                                                              'COVID',\n",
    "                                                              'BASE_LINE'],\n",
    "                                                  var_name=\"LINE\",\n",
    "                                                  value_name=\"QTY_PEOPLE_SERVED\")\n",
    "\n",
    "\n",
    "\n",
    "fig = px.line(forecast_df,\n",
    "              x=\"DATE\",\n",
    "              y=\"QTY_PEOPLE_SERVED\",\n",
    "              color='LINE',\n",
    "              title='Projection on time for ' + TAG_CATEGORY +' ('+TAG_SECTOR+' - '+TAG_GENDER+')'\n",
    "             )\n",
    "\n",
    "fig.show()\n",
    "#fig.show(renderer=\"svg\")"
   ]
  },
  {
   "cell_type": "markdown",
   "id": "986ba87b",
   "metadata": {},
   "source": [
    "### FIN"
   ]
  },
  {
   "cell_type": "code",
   "execution_count": 146,
   "id": "f7ea9a13",
   "metadata": {},
   "outputs": [],
   "source": [
    "# add comments in spanish"
   ]
  },
  {
   "cell_type": "code",
   "execution_count": 145,
   "id": "615f67ae",
   "metadata": {
    "scrolled": false
   },
   "outputs": [
    {
     "ename": "NameError",
     "evalue": "name 'normalizde' is not defined",
     "output_type": "error",
     "traceback": [
      "\u001b[1;31m---------------------------------------------------------------------------\u001b[0m",
      "\u001b[1;31mNameError\u001b[0m                                 Traceback (most recent call last)",
      "Input \u001b[1;32mIn [145]\u001b[0m, in \u001b[0;36m<cell line: 1>\u001b[1;34m()\u001b[0m\n\u001b[1;32m----> 1\u001b[0m \u001b[43mnormalizde\u001b[49m\n",
      "\u001b[1;31mNameError\u001b[0m: name 'normalizde' is not defined"
     ]
    }
   ],
   "source": [
    "# .normalizde # of facilities\n"
   ]
  },
  {
   "cell_type": "code",
   "execution_count": null,
   "id": "69889406",
   "metadata": {},
   "outputs": [],
   "source": [
    "+*1"
   ]
  },
  {
   "cell_type": "code",
   "execution_count": 40,
   "id": "6b394bd6",
   "metadata": {},
   "outputs": [],
   "source": [
    "from sklearn.linear_model import LinearRegression \n",
    "from sklearn.ensemble import RandomForestRegressor\n",
    "import xgboost as xgb\n",
    " \n",
    "def retrain_model(df, column_index = 'DATE' , column_values = 'ORIGINAL_VALUES_PRE',kind_model = 'linear'):\n",
    "    months = [x.month for x in df[column_index]]\n",
    "    years = [x.year for x in df[column_index]]\n",
    "    day = [x.day for x in df[column_index]]\n",
    "\n",
    "    X = np.array([day, months, years]).T\n",
    "    \n",
    "    if kind_model == 'linear':\n",
    "        model = LinearRegression()\n",
    "    elif kind_model == 'rfg':\n",
    "        model = RandomForestRegressor()\n",
    "    elif kind_model == 'xgb':\n",
    "        model = xgb.XGBRegressor()\n",
    "    else:\n",
    "        model = LinearRegression()\n",
    "        \n",
    "    model.fit(X, df[column_values].values)\n",
    "    return model\n",
    " \n",
    "def forecast_model(model, df, column_name = 'DATE', name_predicted = 'PREDICTED'):\n",
    "    months = [x.month for x in df[column_name]]\n",
    "    years = [x.year for x in df[column_name]]\n",
    "    day = [x.day for x in df[column_name]]\n",
    "\n",
    "    X = np.array([day, months, years]).T\n",
    "\n",
    "    preds = model.predict(X)\n",
    "    df[name_predicted] = preds\n",
    "    return df\n",
    "\n",
    "def forecast_model_2(df_base, df, column_name = 'DATE', column_values = 'PRE_COVID', name_predicted = 'PREDICTED', kind_model = 'linear'):\n",
    "    df_resp = pd.DataFrame()\n",
    "    for i in range(len(df)):\n",
    "        #df_temp = df.iloc[[2]]\n",
    "        df_temp = df.iloc[[i]].reset_index(drop=True).copy()\n",
    "        #i += 1\n",
    "        model_temp = retrain_model(df_base, column_index = column_name, column_values = column_values, kind_model=kind_model)\n",
    "        temp_resp = forecast_model(model_temp,\n",
    "                                   df_temp,\n",
    "                                   column_name = column_name, \n",
    "                                   name_predicted = column_values)\n",
    "        df_base = pd.concat([df_base,temp_resp])\n",
    "        df_resp = pd.concat([df_resp,temp_resp])\n",
    "    df_resp = df_resp.rename({column_values: name_predicted}, axis=1) \n",
    "    return df_resp"
   ]
  },
  {
   "cell_type": "code",
   "execution_count": 64,
   "id": "59b4a786",
   "metadata": {},
   "outputs": [],
   "source": [
    "temp_resp = forecast_model_2(new_base_df_temp[(new_base_df_temp['DATE'] >= '2020-04-01') & (new_base_df_temp['DATE'] <= '2020-06-01')][['DATE','COVID_3M']],\n",
    "                             new_base_df_temp[(new_base_df_temp['DATE'] >= '2020-04-01')][['DATE']],\n",
    "                             column_name = 'DATE',\n",
    "                             column_values = 'COVID_3M',\n",
    "                             name_predicted = 'COVID_FORECAST',\n",
    "                             kind_model = 'rfg')"
   ]
  },
  {
   "cell_type": "code",
   "execution_count": 65,
   "id": "0050fc4b",
   "metadata": {
    "scrolled": false
   },
   "outputs": [
    {
     "data": {
      "text/html": [
       "<div>\n",
       "<style scoped>\n",
       "    .dataframe tbody tr th:only-of-type {\n",
       "        vertical-align: middle;\n",
       "    }\n",
       "\n",
       "    .dataframe tbody tr th {\n",
       "        vertical-align: top;\n",
       "    }\n",
       "\n",
       "    .dataframe thead th {\n",
       "        text-align: right;\n",
       "    }\n",
       "</style>\n",
       "<table border=\"1\" class=\"dataframe\">\n",
       "  <thead>\n",
       "    <tr style=\"text-align: right;\">\n",
       "      <th></th>\n",
       "      <th>DATE</th>\n",
       "      <th>COVID_FORECAST</th>\n",
       "    </tr>\n",
       "  </thead>\n",
       "  <tbody>\n",
       "    <tr>\n",
       "      <th>0</th>\n",
       "      <td>2022-05-01</td>\n",
       "      <td>1137.579087</td>\n",
       "    </tr>\n",
       "    <tr>\n",
       "      <th>0</th>\n",
       "      <td>2022-04-01</td>\n",
       "      <td>1017.986701</td>\n",
       "    </tr>\n",
       "    <tr>\n",
       "      <th>0</th>\n",
       "      <td>2022-03-01</td>\n",
       "      <td>1004.456099</td>\n",
       "    </tr>\n",
       "    <tr>\n",
       "      <th>0</th>\n",
       "      <td>2022-02-01</td>\n",
       "      <td>1001.923356</td>\n",
       "    </tr>\n",
       "    <tr>\n",
       "      <th>0</th>\n",
       "      <td>2022-01-01</td>\n",
       "      <td>1002.947968</td>\n",
       "    </tr>\n",
       "    <tr>\n",
       "      <th>0</th>\n",
       "      <td>2021-12-01</td>\n",
       "      <td>1825.371675</td>\n",
       "    </tr>\n",
       "    <tr>\n",
       "      <th>0</th>\n",
       "      <td>2021-11-01</td>\n",
       "      <td>1819.200492</td>\n",
       "    </tr>\n",
       "    <tr>\n",
       "      <th>0</th>\n",
       "      <td>2021-10-01</td>\n",
       "      <td>1824.420587</td>\n",
       "    </tr>\n",
       "    <tr>\n",
       "      <th>0</th>\n",
       "      <td>2021-09-01</td>\n",
       "      <td>1850.582247</td>\n",
       "    </tr>\n",
       "    <tr>\n",
       "      <th>0</th>\n",
       "      <td>2021-08-01</td>\n",
       "      <td>1850.583164</td>\n",
       "    </tr>\n",
       "    <tr>\n",
       "      <th>0</th>\n",
       "      <td>2021-07-01</td>\n",
       "      <td>1902.264215</td>\n",
       "    </tr>\n",
       "    <tr>\n",
       "      <th>0</th>\n",
       "      <td>2021-06-01</td>\n",
       "      <td>1735.489648</td>\n",
       "    </tr>\n",
       "    <tr>\n",
       "      <th>0</th>\n",
       "      <td>2021-05-01</td>\n",
       "      <td>1130.319021</td>\n",
       "    </tr>\n",
       "    <tr>\n",
       "      <th>0</th>\n",
       "      <td>2021-04-01</td>\n",
       "      <td>983.391172</td>\n",
       "    </tr>\n",
       "    <tr>\n",
       "      <th>0</th>\n",
       "      <td>2021-03-01</td>\n",
       "      <td>972.019533</td>\n",
       "    </tr>\n",
       "    <tr>\n",
       "      <th>0</th>\n",
       "      <td>2021-02-01</td>\n",
       "      <td>976.853572</td>\n",
       "    </tr>\n",
       "    <tr>\n",
       "      <th>0</th>\n",
       "      <td>2021-01-01</td>\n",
       "      <td>977.948967</td>\n",
       "    </tr>\n",
       "    <tr>\n",
       "      <th>0</th>\n",
       "      <td>2020-12-01</td>\n",
       "      <td>2072.450110</td>\n",
       "    </tr>\n",
       "    <tr>\n",
       "      <th>0</th>\n",
       "      <td>2020-11-01</td>\n",
       "      <td>2035.725701</td>\n",
       "    </tr>\n",
       "    <tr>\n",
       "      <th>0</th>\n",
       "      <td>2020-10-01</td>\n",
       "      <td>2035.889409</td>\n",
       "    </tr>\n",
       "    <tr>\n",
       "      <th>0</th>\n",
       "      <td>2020-09-01</td>\n",
       "      <td>2046.556118</td>\n",
       "    </tr>\n",
       "    <tr>\n",
       "      <th>0</th>\n",
       "      <td>2020-08-01</td>\n",
       "      <td>2103.051470</td>\n",
       "    </tr>\n",
       "    <tr>\n",
       "      <th>0</th>\n",
       "      <td>2020-07-01</td>\n",
       "      <td>2173.743892</td>\n",
       "    </tr>\n",
       "    <tr>\n",
       "      <th>0</th>\n",
       "      <td>2020-06-01</td>\n",
       "      <td>2131.408728</td>\n",
       "    </tr>\n",
       "    <tr>\n",
       "      <th>0</th>\n",
       "      <td>2020-05-01</td>\n",
       "      <td>1134.983363</td>\n",
       "    </tr>\n",
       "    <tr>\n",
       "      <th>0</th>\n",
       "      <td>2020-04-01</td>\n",
       "      <td>926.365518</td>\n",
       "    </tr>\n",
       "  </tbody>\n",
       "</table>\n",
       "</div>"
      ],
      "text/plain": [
       "        DATE  COVID_FORECAST\n",
       "0 2022-05-01     1137.579087\n",
       "0 2022-04-01     1017.986701\n",
       "0 2022-03-01     1004.456099\n",
       "0 2022-02-01     1001.923356\n",
       "0 2022-01-01     1002.947968\n",
       "0 2021-12-01     1825.371675\n",
       "0 2021-11-01     1819.200492\n",
       "0 2021-10-01     1824.420587\n",
       "0 2021-09-01     1850.582247\n",
       "0 2021-08-01     1850.583164\n",
       "0 2021-07-01     1902.264215\n",
       "0 2021-06-01     1735.489648\n",
       "0 2021-05-01     1130.319021\n",
       "0 2021-04-01      983.391172\n",
       "0 2021-03-01      972.019533\n",
       "0 2021-02-01      976.853572\n",
       "0 2021-01-01      977.948967\n",
       "0 2020-12-01     2072.450110\n",
       "0 2020-11-01     2035.725701\n",
       "0 2020-10-01     2035.889409\n",
       "0 2020-09-01     2046.556118\n",
       "0 2020-08-01     2103.051470\n",
       "0 2020-07-01     2173.743892\n",
       "0 2020-06-01     2131.408728\n",
       "0 2020-05-01     1134.983363\n",
       "0 2020-04-01      926.365518"
      ]
     },
     "execution_count": 65,
     "metadata": {},
     "output_type": "execute_result"
    }
   ],
   "source": [
    "temp_resp"
   ]
  },
  {
   "cell_type": "code",
   "execution_count": 41,
   "id": "cf7483b1",
   "metadata": {},
   "outputs": [
    {
     "data": {
      "text/plain": [
       "Index(['DATE', 'SECTOR_R', 'SEX', 'PEOPLE_SERVED', 'UNIQUE_DIAGNOSIS',\n",
       "       'TOTAL_DIAGNOSIS', 'INTER_HC', 'PEOPLE_SERVED_NORMALIZED',\n",
       "       'BL_FORMATOR', 'COVID', 'COVID_3M', 'BASE_LINE'],\n",
       "      dtype='object')"
      ]
     },
     "execution_count": 41,
     "metadata": {},
     "output_type": "execute_result"
    }
   ],
   "source": [
    "new_base_df_temp.columns"
   ]
  },
  {
   "cell_type": "code",
   "execution_count": null,
   "id": "10fedee5",
   "metadata": {},
   "outputs": [],
   "source": []
  }
 ],
 "metadata": {
  "kernelspec": {
   "display_name": "Python 3 (ipykernel)",
   "language": "python",
   "name": "python3"
  },
  "language_info": {
   "codemirror_mode": {
    "name": "ipython",
    "version": 3
   },
   "file_extension": ".py",
   "mimetype": "text/x-python",
   "name": "python",
   "nbconvert_exporter": "python",
   "pygments_lexer": "ipython3",
   "version": "3.9.12"
  },
  "latex_envs": {
   "LaTeX_envs_menu_present": true,
   "autoclose": false,
   "autocomplete": true,
   "bibliofile": "biblio.bib",
   "cite_by": "apalike",
   "current_citInitial": 1,
   "eqLabelWithNumbers": true,
   "eqNumInitial": 1,
   "hotkeys": {
    "equation": "Ctrl-E",
    "itemize": "Ctrl-I"
   },
   "labels_anchors": false,
   "latex_user_defs": false,
   "report_style_numbering": false,
   "user_envs_cfg": false
  },
  "toc": {
   "base_numbering": 1,
   "nav_menu": {},
   "number_sections": true,
   "sideBar": true,
   "skip_h1_title": false,
   "title_cell": "Table of Contents",
   "title_sidebar": "Contents",
   "toc_cell": false,
   "toc_position": {
    "height": "calc(100% - 180px)",
    "left": "10px",
    "top": "150px",
    "width": "284.438px"
   },
   "toc_section_display": true,
   "toc_window_display": true
  }
 },
 "nbformat": 4,
 "nbformat_minor": 5
}
