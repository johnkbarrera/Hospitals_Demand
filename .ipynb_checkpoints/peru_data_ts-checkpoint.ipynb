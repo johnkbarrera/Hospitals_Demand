{
 "cells": [
  {
   "cell_type": "code",
   "execution_count": 1,
   "id": "1cbee083",
   "metadata": {},
   "outputs": [],
   "source": [
    "# !pip install plotly\n",
    "# !pip install matplotlib==3.5.0"
   ]
  },
  {
   "cell_type": "code",
   "execution_count": 2,
   "id": "7ad83372",
   "metadata": {},
   "outputs": [],
   "source": [
    "import pandas as pd\n",
    "import numpy as np\n",
    "import glob\n",
    "from tqdm import tqdm, trange\n",
    "\n",
    "import matplotlib\n",
    "import matplotlib.pyplot as plt\n",
    "from matplotlib.pyplot import cm\n",
    "import plotly.express as px\n",
    "from difflib import SequenceMatcher\n",
    "import seaborn as sns"
   ]
  },
  {
   "cell_type": "code",
   "execution_count": 3,
   "id": "3b9067e3",
   "metadata": {},
   "outputs": [],
   "source": [
    "def millions(x, pos):\n",
    "    \"\"\"The two args are the value and tick position.\"\"\"\n",
    "    return '{:1.1f}M'.format(x*1e-6)\n"
   ]
  },
  {
   "cell_type": "code",
   "execution_count": 4,
   "id": "a36d4aa0",
   "metadata": {},
   "outputs": [],
   "source": [
    "all_data = pd.read_pickle('data/morbilidad_global.csv')"
   ]
  },
  {
   "cell_type": "code",
   "execution_count": 5,
   "id": "ff9bb90a",
   "metadata": {},
   "outputs": [
    {
     "data": {
      "text/html": [
       "<div>\n",
       "<style scoped>\n",
       "    .dataframe tbody tr th:only-of-type {\n",
       "        vertical-align: middle;\n",
       "    }\n",
       "\n",
       "    .dataframe tbody tr th {\n",
       "        vertical-align: top;\n",
       "    }\n",
       "\n",
       "    .dataframe thead th {\n",
       "        text-align: right;\n",
       "    }\n",
       "</style>\n",
       "<table border=\"1\" class=\"dataframe\">\n",
       "  <thead>\n",
       "    <tr style=\"text-align: right;\">\n",
       "      <th></th>\n",
       "      <th>DATE</th>\n",
       "      <th>YEAR</th>\n",
       "      <th>MONTH</th>\n",
       "      <th>STATE</th>\n",
       "      <th>PROVINCE</th>\n",
       "      <th>DISTRICT</th>\n",
       "      <th>SECTOR</th>\n",
       "      <th>CATEGORY</th>\n",
       "      <th>CATEGORY2</th>\n",
       "      <th>CO_IPRESS</th>\n",
       "      <th>...</th>\n",
       "      <th>DIAGNOSIS_ID</th>\n",
       "      <th>QTY_PEOPLE_SERVED</th>\n",
       "      <th>DISEASE</th>\n",
       "      <th>DISEASE_GROUP</th>\n",
       "      <th>COD_IPRESS</th>\n",
       "      <th>x</th>\n",
       "      <th>y</th>\n",
       "      <th>SECTOR_R</th>\n",
       "      <th>TYPE</th>\n",
       "      <th>IS_LIMA</th>\n",
       "    </tr>\n",
       "  </thead>\n",
       "  <tbody>\n",
       "    <tr>\n",
       "      <th>0</th>\n",
       "      <td>2018-01-01</td>\n",
       "      <td>2018</td>\n",
       "      <td>1</td>\n",
       "      <td>LIMA</td>\n",
       "      <td>LIMA</td>\n",
       "      <td>LIMA</td>\n",
       "      <td>PRIVATE</td>\n",
       "      <td>II-2</td>\n",
       "      <td>II</td>\n",
       "      <td>00015610</td>\n",
       "      <td>...</td>\n",
       "      <td>R10.2</td>\n",
       "      <td>10</td>\n",
       "      <td>PELVIC AND PERINEAL PAIN</td>\n",
       "      <td>Abnormal clinical and laboratory symptoms, sig...</td>\n",
       "      <td>00015610</td>\n",
       "      <td>-12.058367</td>\n",
       "      <td>-77.038362</td>\n",
       "      <td>PRIVADO</td>\n",
       "      <td>Outpatient Consultation</td>\n",
       "      <td>True</td>\n",
       "    </tr>\n",
       "    <tr>\n",
       "      <th>1</th>\n",
       "      <td>2018-01-01</td>\n",
       "      <td>2018</td>\n",
       "      <td>1</td>\n",
       "      <td>LIMA</td>\n",
       "      <td>LIMA</td>\n",
       "      <td>LIMA</td>\n",
       "      <td>PRIVATE</td>\n",
       "      <td>II-2</td>\n",
       "      <td>II</td>\n",
       "      <td>00015610</td>\n",
       "      <td>...</td>\n",
       "      <td>R10.4</td>\n",
       "      <td>11</td>\n",
       "      <td>UNIDENTIFIED</td>\n",
       "      <td>Abnormal clinical and laboratory symptoms, sig...</td>\n",
       "      <td>00015610</td>\n",
       "      <td>-12.058367</td>\n",
       "      <td>-77.038362</td>\n",
       "      <td>PRIVADO</td>\n",
       "      <td>Outpatient Consultation</td>\n",
       "      <td>True</td>\n",
       "    </tr>\n",
       "    <tr>\n",
       "      <th>2</th>\n",
       "      <td>2018-01-01</td>\n",
       "      <td>2018</td>\n",
       "      <td>1</td>\n",
       "      <td>LIMA</td>\n",
       "      <td>LIMA</td>\n",
       "      <td>LIMA</td>\n",
       "      <td>PRIVATE</td>\n",
       "      <td>II-2</td>\n",
       "      <td>II</td>\n",
       "      <td>00015610</td>\n",
       "      <td>...</td>\n",
       "      <td>R11.X</td>\n",
       "      <td>3</td>\n",
       "      <td>UNIDENTIFIED</td>\n",
       "      <td>Abnormal clinical and laboratory symptoms, sig...</td>\n",
       "      <td>00015610</td>\n",
       "      <td>-12.058367</td>\n",
       "      <td>-77.038362</td>\n",
       "      <td>PRIVADO</td>\n",
       "      <td>Outpatient Consultation</td>\n",
       "      <td>True</td>\n",
       "    </tr>\n",
       "    <tr>\n",
       "      <th>3</th>\n",
       "      <td>2018-01-01</td>\n",
       "      <td>2018</td>\n",
       "      <td>1</td>\n",
       "      <td>LIMA</td>\n",
       "      <td>LIMA</td>\n",
       "      <td>LIMA</td>\n",
       "      <td>PRIVATE</td>\n",
       "      <td>II-2</td>\n",
       "      <td>II</td>\n",
       "      <td>00015610</td>\n",
       "      <td>...</td>\n",
       "      <td>R16.0</td>\n",
       "      <td>1</td>\n",
       "      <td>HEPATOMEGALY, NOT ELSEWHERE CLASSIFIED</td>\n",
       "      <td>Abnormal clinical and laboratory symptoms, sig...</td>\n",
       "      <td>00015610</td>\n",
       "      <td>-12.058367</td>\n",
       "      <td>-77.038362</td>\n",
       "      <td>PRIVADO</td>\n",
       "      <td>Outpatient Consultation</td>\n",
       "      <td>True</td>\n",
       "    </tr>\n",
       "    <tr>\n",
       "      <th>4</th>\n",
       "      <td>2018-01-01</td>\n",
       "      <td>2018</td>\n",
       "      <td>1</td>\n",
       "      <td>LIMA</td>\n",
       "      <td>LIMA</td>\n",
       "      <td>LIMA</td>\n",
       "      <td>PRIVATE</td>\n",
       "      <td>II-2</td>\n",
       "      <td>II</td>\n",
       "      <td>00015610</td>\n",
       "      <td>...</td>\n",
       "      <td>R42.X</td>\n",
       "      <td>1</td>\n",
       "      <td>UNIDENTIFIED</td>\n",
       "      <td>Abnormal clinical and laboratory symptoms, sig...</td>\n",
       "      <td>00015610</td>\n",
       "      <td>-12.058367</td>\n",
       "      <td>-77.038362</td>\n",
       "      <td>PRIVADO</td>\n",
       "      <td>Outpatient Consultation</td>\n",
       "      <td>True</td>\n",
       "    </tr>\n",
       "  </tbody>\n",
       "</table>\n",
       "<p>5 rows × 23 columns</p>\n",
       "</div>"
      ],
      "text/plain": [
       "        DATE  YEAR  MONTH STATE PROVINCE DISTRICT   SECTOR CATEGORY CATEGORY2  \\\n",
       "0 2018-01-01  2018      1  LIMA     LIMA     LIMA  PRIVATE     II-2        II   \n",
       "1 2018-01-01  2018      1  LIMA     LIMA     LIMA  PRIVATE     II-2        II   \n",
       "2 2018-01-01  2018      1  LIMA     LIMA     LIMA  PRIVATE     II-2        II   \n",
       "3 2018-01-01  2018      1  LIMA     LIMA     LIMA  PRIVATE     II-2        II   \n",
       "4 2018-01-01  2018      1  LIMA     LIMA     LIMA  PRIVATE     II-2        II   \n",
       "\n",
       "  CO_IPRESS  ... DIAGNOSIS_ID QTY_PEOPLE_SERVED  \\\n",
       "0  00015610  ...        R10.2                10   \n",
       "1  00015610  ...        R10.4                11   \n",
       "2  00015610  ...        R11.X                 3   \n",
       "3  00015610  ...        R16.0                 1   \n",
       "4  00015610  ...        R42.X                 1   \n",
       "\n",
       "                                  DISEASE  \\\n",
       "0                PELVIC AND PERINEAL PAIN   \n",
       "1                            UNIDENTIFIED   \n",
       "2                            UNIDENTIFIED   \n",
       "3  HEPATOMEGALY, NOT ELSEWHERE CLASSIFIED   \n",
       "4                            UNIDENTIFIED   \n",
       "\n",
       "                                       DISEASE_GROUP  COD_IPRESS          x  \\\n",
       "0  Abnormal clinical and laboratory symptoms, sig...    00015610 -12.058367   \n",
       "1  Abnormal clinical and laboratory symptoms, sig...    00015610 -12.058367   \n",
       "2  Abnormal clinical and laboratory symptoms, sig...    00015610 -12.058367   \n",
       "3  Abnormal clinical and laboratory symptoms, sig...    00015610 -12.058367   \n",
       "4  Abnormal clinical and laboratory symptoms, sig...    00015610 -12.058367   \n",
       "\n",
       "           y SECTOR_R                     TYPE  IS_LIMA  \n",
       "0 -77.038362  PRIVADO  Outpatient Consultation     True  \n",
       "1 -77.038362  PRIVADO  Outpatient Consultation     True  \n",
       "2 -77.038362  PRIVADO  Outpatient Consultation     True  \n",
       "3 -77.038362  PRIVADO  Outpatient Consultation     True  \n",
       "4 -77.038362  PRIVADO  Outpatient Consultation     True  \n",
       "\n",
       "[5 rows x 23 columns]"
      ]
     },
     "execution_count": 5,
     "metadata": {},
     "output_type": "execute_result"
    }
   ],
   "source": [
    "#all_data = all_data[(all_data['YEAR']>=2018) & (all_data['YEAR']<2022)]\n",
    "all_data = all_data[(all_data['YEAR']>=2018)]\n",
    "\n",
    "all_data['IS_LIMA'] = all_data['PROVINCE'].apply(lambda x : True if x=='LIMA' else False)\n",
    "all_data['SECTOR'] = all_data['SECTOR'].apply(lambda x: 'PRIVATE' if x == 'PRIVADO' else 'PUBLIC')\n",
    "\n",
    "all_data.head()"
   ]
  },
  {
   "cell_type": "raw",
   "id": "bec27996",
   "metadata": {
    "scrolled": true
   },
   "source": [
    "diagnostics_tag = np.unique(all_data['DISEASE_GROUP'])\n",
    "\n",
    "name = \"gist_rainbow\"\n",
    "name = \"jet\"\n",
    "cmap = cm.get_cmap(name, 256)  # type: matplotlib.colors.ListedColormap\n",
    "colors = cmap(np.linspace(0, 1, len(diagnostics_tag)))\n",
    "\n",
    "dict_colors = {}\n",
    "counter = 0\n",
    "for d in diagnostics_tag:\n",
    "    x=colors[counter]\n",
    "    if d == 'Codes for special situations':\n",
    "        dict_colors[d]='#000000'\n",
    "    else:\n",
    "        dict_colors[d]=matplotlib.colors.rgb2hex(x)\n",
    "    counter+=1"
   ]
  },
  {
   "cell_type": "code",
   "execution_count": 6,
   "id": "ce1921c6",
   "metadata": {},
   "outputs": [],
   "source": [
    "diagnostics_tag = np.unique(all_data['DISEASE_GROUP'])\n",
    "\n",
    "cmap = cm.get_cmap('tab20b', 256)\n",
    "colorsb = cmap(np.linspace(0, 1, 20))\n",
    "cmap = cm.get_cmap('tab20c', 256)\n",
    "colorsc = cmap(np.linspace(0, 1, 20))[8:-4]\n",
    "\n",
    "colors = list(colorsc)+list(colorsb)\n",
    "# new_colors = []\n",
    "# for i in range(len(colorsc)):\n",
    "#     new_colors.append(colorsc[i])\n",
    "#     new_colors.append(colorsb[i])\n",
    "\n",
    "dict_colors = {}\n",
    "counter = 0\n",
    "for d in diagnostics_tag:\n",
    "    x=colors[counter]\n",
    "    dict_colors[d]=matplotlib.colors.rgb2hex(x)\n",
    "    counter+=1"
   ]
  },
  {
   "cell_type": "markdown",
   "id": "8b6adf54",
   "metadata": {},
   "source": [
    "### Lima and Peru"
   ]
  },
  {
   "cell_type": "code",
   "execution_count": 7,
   "id": "6558d80b",
   "metadata": {},
   "outputs": [],
   "source": [
    "all_data = all_data[all_data['IS_LIMA']==True]"
   ]
  },
  {
   "cell_type": "code",
   "execution_count": 8,
   "id": "d5a6132e",
   "metadata": {},
   "outputs": [
    {
     "data": {
      "text/html": [
       "<div>\n",
       "<style scoped>\n",
       "    .dataframe tbody tr th:only-of-type {\n",
       "        vertical-align: middle;\n",
       "    }\n",
       "\n",
       "    .dataframe tbody tr th {\n",
       "        vertical-align: top;\n",
       "    }\n",
       "\n",
       "    .dataframe thead th {\n",
       "        text-align: right;\n",
       "    }\n",
       "</style>\n",
       "<table border=\"1\" class=\"dataframe\">\n",
       "  <thead>\n",
       "    <tr style=\"text-align: right;\">\n",
       "      <th></th>\n",
       "      <th>DATE</th>\n",
       "      <th>YEAR</th>\n",
       "      <th>MONTH</th>\n",
       "      <th>STATE</th>\n",
       "      <th>PROVINCE</th>\n",
       "      <th>DISTRICT</th>\n",
       "      <th>SECTOR</th>\n",
       "      <th>CATEGORY</th>\n",
       "      <th>CATEGORY2</th>\n",
       "      <th>CO_IPRESS</th>\n",
       "      <th>...</th>\n",
       "      <th>DIAGNOSIS_ID</th>\n",
       "      <th>QTY_PEOPLE_SERVED</th>\n",
       "      <th>DISEASE</th>\n",
       "      <th>DISEASE_GROUP</th>\n",
       "      <th>COD_IPRESS</th>\n",
       "      <th>x</th>\n",
       "      <th>y</th>\n",
       "      <th>SECTOR_R</th>\n",
       "      <th>TYPE</th>\n",
       "      <th>IS_LIMA</th>\n",
       "    </tr>\n",
       "  </thead>\n",
       "  <tbody>\n",
       "    <tr>\n",
       "      <th>0</th>\n",
       "      <td>2018-01-01</td>\n",
       "      <td>2018</td>\n",
       "      <td>1</td>\n",
       "      <td>LIMA</td>\n",
       "      <td>LIMA</td>\n",
       "      <td>LIMA</td>\n",
       "      <td>PRIVATE</td>\n",
       "      <td>II-2</td>\n",
       "      <td>II</td>\n",
       "      <td>00015610</td>\n",
       "      <td>...</td>\n",
       "      <td>R10.2</td>\n",
       "      <td>10</td>\n",
       "      <td>PELVIC AND PERINEAL PAIN</td>\n",
       "      <td>Abnormal clinical and laboratory symptoms, sig...</td>\n",
       "      <td>00015610</td>\n",
       "      <td>-12.058367</td>\n",
       "      <td>-77.038362</td>\n",
       "      <td>PRIVADO</td>\n",
       "      <td>Outpatient Consultation</td>\n",
       "      <td>True</td>\n",
       "    </tr>\n",
       "    <tr>\n",
       "      <th>1</th>\n",
       "      <td>2018-01-01</td>\n",
       "      <td>2018</td>\n",
       "      <td>1</td>\n",
       "      <td>LIMA</td>\n",
       "      <td>LIMA</td>\n",
       "      <td>LIMA</td>\n",
       "      <td>PRIVATE</td>\n",
       "      <td>II-2</td>\n",
       "      <td>II</td>\n",
       "      <td>00015610</td>\n",
       "      <td>...</td>\n",
       "      <td>R10.4</td>\n",
       "      <td>11</td>\n",
       "      <td>UNIDENTIFIED</td>\n",
       "      <td>Abnormal clinical and laboratory symptoms, sig...</td>\n",
       "      <td>00015610</td>\n",
       "      <td>-12.058367</td>\n",
       "      <td>-77.038362</td>\n",
       "      <td>PRIVADO</td>\n",
       "      <td>Outpatient Consultation</td>\n",
       "      <td>True</td>\n",
       "    </tr>\n",
       "    <tr>\n",
       "      <th>2</th>\n",
       "      <td>2018-01-01</td>\n",
       "      <td>2018</td>\n",
       "      <td>1</td>\n",
       "      <td>LIMA</td>\n",
       "      <td>LIMA</td>\n",
       "      <td>LIMA</td>\n",
       "      <td>PRIVATE</td>\n",
       "      <td>II-2</td>\n",
       "      <td>II</td>\n",
       "      <td>00015610</td>\n",
       "      <td>...</td>\n",
       "      <td>R11.X</td>\n",
       "      <td>3</td>\n",
       "      <td>UNIDENTIFIED</td>\n",
       "      <td>Abnormal clinical and laboratory symptoms, sig...</td>\n",
       "      <td>00015610</td>\n",
       "      <td>-12.058367</td>\n",
       "      <td>-77.038362</td>\n",
       "      <td>PRIVADO</td>\n",
       "      <td>Outpatient Consultation</td>\n",
       "      <td>True</td>\n",
       "    </tr>\n",
       "    <tr>\n",
       "      <th>3</th>\n",
       "      <td>2018-01-01</td>\n",
       "      <td>2018</td>\n",
       "      <td>1</td>\n",
       "      <td>LIMA</td>\n",
       "      <td>LIMA</td>\n",
       "      <td>LIMA</td>\n",
       "      <td>PRIVATE</td>\n",
       "      <td>II-2</td>\n",
       "      <td>II</td>\n",
       "      <td>00015610</td>\n",
       "      <td>...</td>\n",
       "      <td>R16.0</td>\n",
       "      <td>1</td>\n",
       "      <td>HEPATOMEGALY, NOT ELSEWHERE CLASSIFIED</td>\n",
       "      <td>Abnormal clinical and laboratory symptoms, sig...</td>\n",
       "      <td>00015610</td>\n",
       "      <td>-12.058367</td>\n",
       "      <td>-77.038362</td>\n",
       "      <td>PRIVADO</td>\n",
       "      <td>Outpatient Consultation</td>\n",
       "      <td>True</td>\n",
       "    </tr>\n",
       "    <tr>\n",
       "      <th>4</th>\n",
       "      <td>2018-01-01</td>\n",
       "      <td>2018</td>\n",
       "      <td>1</td>\n",
       "      <td>LIMA</td>\n",
       "      <td>LIMA</td>\n",
       "      <td>LIMA</td>\n",
       "      <td>PRIVATE</td>\n",
       "      <td>II-2</td>\n",
       "      <td>II</td>\n",
       "      <td>00015610</td>\n",
       "      <td>...</td>\n",
       "      <td>R42.X</td>\n",
       "      <td>1</td>\n",
       "      <td>UNIDENTIFIED</td>\n",
       "      <td>Abnormal clinical and laboratory symptoms, sig...</td>\n",
       "      <td>00015610</td>\n",
       "      <td>-12.058367</td>\n",
       "      <td>-77.038362</td>\n",
       "      <td>PRIVADO</td>\n",
       "      <td>Outpatient Consultation</td>\n",
       "      <td>True</td>\n",
       "    </tr>\n",
       "  </tbody>\n",
       "</table>\n",
       "<p>5 rows × 23 columns</p>\n",
       "</div>"
      ],
      "text/plain": [
       "        DATE  YEAR  MONTH STATE PROVINCE DISTRICT   SECTOR CATEGORY CATEGORY2  \\\n",
       "0 2018-01-01  2018      1  LIMA     LIMA     LIMA  PRIVATE     II-2        II   \n",
       "1 2018-01-01  2018      1  LIMA     LIMA     LIMA  PRIVATE     II-2        II   \n",
       "2 2018-01-01  2018      1  LIMA     LIMA     LIMA  PRIVATE     II-2        II   \n",
       "3 2018-01-01  2018      1  LIMA     LIMA     LIMA  PRIVATE     II-2        II   \n",
       "4 2018-01-01  2018      1  LIMA     LIMA     LIMA  PRIVATE     II-2        II   \n",
       "\n",
       "  CO_IPRESS  ... DIAGNOSIS_ID QTY_PEOPLE_SERVED  \\\n",
       "0  00015610  ...        R10.2                10   \n",
       "1  00015610  ...        R10.4                11   \n",
       "2  00015610  ...        R11.X                 3   \n",
       "3  00015610  ...        R16.0                 1   \n",
       "4  00015610  ...        R42.X                 1   \n",
       "\n",
       "                                  DISEASE  \\\n",
       "0                PELVIC AND PERINEAL PAIN   \n",
       "1                            UNIDENTIFIED   \n",
       "2                            UNIDENTIFIED   \n",
       "3  HEPATOMEGALY, NOT ELSEWHERE CLASSIFIED   \n",
       "4                            UNIDENTIFIED   \n",
       "\n",
       "                                       DISEASE_GROUP  COD_IPRESS          x  \\\n",
       "0  Abnormal clinical and laboratory symptoms, sig...    00015610 -12.058367   \n",
       "1  Abnormal clinical and laboratory symptoms, sig...    00015610 -12.058367   \n",
       "2  Abnormal clinical and laboratory symptoms, sig...    00015610 -12.058367   \n",
       "3  Abnormal clinical and laboratory symptoms, sig...    00015610 -12.058367   \n",
       "4  Abnormal clinical and laboratory symptoms, sig...    00015610 -12.058367   \n",
       "\n",
       "           y SECTOR_R                     TYPE  IS_LIMA  \n",
       "0 -77.038362  PRIVADO  Outpatient Consultation     True  \n",
       "1 -77.038362  PRIVADO  Outpatient Consultation     True  \n",
       "2 -77.038362  PRIVADO  Outpatient Consultation     True  \n",
       "3 -77.038362  PRIVADO  Outpatient Consultation     True  \n",
       "4 -77.038362  PRIVADO  Outpatient Consultation     True  \n",
       "\n",
       "[5 rows x 23 columns]"
      ]
     },
     "execution_count": 8,
     "metadata": {},
     "output_type": "execute_result"
    }
   ],
   "source": [
    "all_data.head()"
   ]
  },
  {
   "cell_type": "markdown",
   "id": "3f694fa2",
   "metadata": {},
   "source": [
    "### Forecast"
   ]
  },
  {
   "cell_type": "code",
   "execution_count": 17,
   "id": "7b5364c7",
   "metadata": {},
   "outputs": [
    {
     "ename": "ModuleNotFoundError",
     "evalue": "No module named 'pycaret.time_series'",
     "output_type": "error",
     "traceback": [
      "\u001b[1;31m---------------------------------------------------------------------------\u001b[0m",
      "\u001b[1;31mModuleNotFoundError\u001b[0m                       Traceback (most recent call last)",
      "Input \u001b[1;32mIn [17]\u001b[0m, in \u001b[0;36m<cell line: 4>\u001b[1;34m()\u001b[0m\n\u001b[0;32m      1\u001b[0m \u001b[38;5;28;01mimport\u001b[39;00m \u001b[38;5;21;01mplotly\u001b[39;00m\u001b[38;5;21;01m.\u001b[39;00m\u001b[38;5;21;01mio\u001b[39;00m \u001b[38;5;28;01mas\u001b[39;00m \u001b[38;5;21;01mpio\u001b[39;00m \n\u001b[0;32m      2\u001b[0m \u001b[38;5;28;01mimport\u001b[39;00m \u001b[38;5;21;01mplotly\u001b[39;00m\u001b[38;5;21;01m.\u001b[39;00m\u001b[38;5;21;01mgraph_objects\u001b[39;00m \u001b[38;5;28;01mas\u001b[39;00m \u001b[38;5;21;01mgo\u001b[39;00m\n\u001b[1;32m----> 4\u001b[0m \u001b[38;5;28;01mfrom\u001b[39;00m \u001b[38;5;21;01mpycaret\u001b[39;00m\u001b[38;5;21;01m.\u001b[39;00m\u001b[38;5;21;01mtime_series\u001b[39;00m \u001b[38;5;28;01mimport\u001b[39;00m \u001b[38;5;241m*\u001b[39m\n",
      "\u001b[1;31mModuleNotFoundError\u001b[0m: No module named 'pycaret.time_series'"
     ]
    }
   ],
   "source": [
    "import plotly.io as pio \n",
    "import plotly.graph_objects as go\n",
    "\n",
    "from pycaret.time_series import *"
   ]
  },
  {
   "cell_type": "code",
   "execution_count": 18,
   "id": "30fbbfe8",
   "metadata": {},
   "outputs": [
    {
     "name": "stdout",
     "output_type": "stream",
     "text": [
      "Requirement already satisfied: pycaret-ts-alpha in c:\\users\\johnk\\.conda\\envs\\temporal\\lib\\site-packages (3.0.0.dev1649017462)\n",
      "Requirement already satisfied: scikit-plot>=0.3.7 in c:\\users\\johnk\\.conda\\envs\\temporal\\lib\\site-packages (from pycaret-ts-alpha) (0.3.7)\n",
      "Requirement already satisfied: plotly>=5.0.0 in c:\\users\\johnk\\.conda\\envs\\temporal\\lib\\site-packages (from pycaret-ts-alpha) (5.7.0)\n",
      "Requirement already satisfied: matplotlib>=3.3.0 in c:\\users\\johnk\\.conda\\envs\\temporal\\lib\\site-packages (from pycaret-ts-alpha) (3.5.1)\n",
      "Requirement already satisfied: pmdarima>=1.8.0 in c:\\users\\johnk\\.conda\\envs\\temporal\\lib\\site-packages (from pycaret-ts-alpha) (1.8.5)\n",
      "Requirement already satisfied: sktime==0.10.1 in c:\\users\\johnk\\.conda\\envs\\temporal\\lib\\site-packages (from pycaret-ts-alpha) (0.10.1)\n",
      "Requirement already satisfied: pandas<1.5.0,>=1.3.0 in c:\\users\\johnk\\.conda\\envs\\temporal\\lib\\site-packages (from pycaret-ts-alpha) (1.4.2)\n",
      "Requirement already satisfied: category-encoders>=2.4.0 in c:\\users\\johnk\\.conda\\envs\\temporal\\lib\\site-packages (from pycaret-ts-alpha) (2.4.0)\n",
      "Requirement already satisfied: lightgbm>=3.0.0 in c:\\users\\johnk\\.conda\\envs\\temporal\\lib\\site-packages (from pycaret-ts-alpha) (3.3.2)\n",
      "Requirement already satisfied: tbats>=1.1.0 in c:\\users\\johnk\\.conda\\envs\\temporal\\lib\\site-packages (from pycaret-ts-alpha) (1.1.0)\n",
      "Requirement already satisfied: numpy~=1.21 in c:\\users\\johnk\\.conda\\envs\\temporal\\lib\\site-packages (from pycaret-ts-alpha) (1.21.6)\n",
      "Requirement already satisfied: numba~=0.55.0 in c:\\users\\johnk\\appdata\\roaming\\python\\python38\\site-packages (from pycaret-ts-alpha) (0.55.1)\n",
      "Requirement already satisfied: scipy~=1.7.3 in c:\\users\\johnk\\appdata\\roaming\\python\\python38\\site-packages (from pycaret-ts-alpha) (1.7.3)\n",
      "Requirement already satisfied: statsmodels>=0.12.1 in c:\\users\\johnk\\.conda\\envs\\temporal\\lib\\site-packages (from pycaret-ts-alpha) (0.13.2)\n",
      "Requirement already satisfied: kaleido>=0.2.1 in c:\\users\\johnk\\.conda\\envs\\temporal\\lib\\site-packages (from pycaret-ts-alpha) (0.2.1)\n",
      "Requirement already satisfied: yellowbrick>=1.4 in c:\\users\\johnk\\appdata\\roaming\\python\\python38\\site-packages (from pycaret-ts-alpha) (1.4)\n",
      "Requirement already satisfied: imbalanced-learn>=0.8.1 in c:\\users\\johnk\\appdata\\roaming\\python\\python38\\site-packages (from pycaret-ts-alpha) (0.9.0)\n",
      "Requirement already satisfied: pyod>=0.9.8 in c:\\users\\johnk\\.conda\\envs\\temporal\\lib\\site-packages (from pycaret-ts-alpha) (1.0.0)\n",
      "Requirement already satisfied: ipython>=5.5.0 in c:\\users\\johnk\\.conda\\envs\\temporal\\lib\\site-packages (from pycaret-ts-alpha) (8.2.0)\n",
      "Requirement already satisfied: joblib~=1.0.1 in c:\\users\\johnk\\appdata\\roaming\\python\\python38\\site-packages (from pycaret-ts-alpha) (1.0.1)\n",
      "Requirement already satisfied: scikit-learn>=1.0.2 in c:\\users\\johnk\\appdata\\roaming\\python\\python38\\site-packages (from pycaret-ts-alpha) (1.0.2)\n",
      "Requirement already satisfied: deprecated>=1.2.13 in c:\\users\\johnk\\.conda\\envs\\temporal\\lib\\site-packages (from sktime==0.10.1->pycaret-ts-alpha) (1.2.13)\n",
      "Requirement already satisfied: patsy>=0.5.1 in c:\\users\\johnk\\.conda\\envs\\temporal\\lib\\site-packages (from category-encoders>=2.4.0->pycaret-ts-alpha) (0.5.2)\n",
      "Requirement already satisfied: wrapt<2,>=1.10 in c:\\users\\johnk\\.conda\\envs\\temporal\\lib\\site-packages (from deprecated>=1.2.13->sktime==0.10.1->pycaret-ts-alpha) (1.14.0)\n",
      "Requirement already satisfied: threadpoolctl>=2.0.0 in c:\\users\\johnk\\.conda\\envs\\temporal\\lib\\site-packages (from imbalanced-learn>=0.8.1->pycaret-ts-alpha) (3.1.0)\n",
      "Requirement already satisfied: traitlets>=5 in c:\\users\\johnk\\.conda\\envs\\temporal\\lib\\site-packages (from ipython>=5.5.0->pycaret-ts-alpha) (5.1.1)\n",
      "Requirement already satisfied: pygments>=2.4.0 in c:\\users\\johnk\\.conda\\envs\\temporal\\lib\\site-packages (from ipython>=5.5.0->pycaret-ts-alpha) (2.11.2)\n",
      "Requirement already satisfied: decorator in c:\\users\\johnk\\.conda\\envs\\temporal\\lib\\site-packages (from ipython>=5.5.0->pycaret-ts-alpha) (5.1.1)\n",
      "Requirement already satisfied: stack-data in c:\\users\\johnk\\.conda\\envs\\temporal\\lib\\site-packages (from ipython>=5.5.0->pycaret-ts-alpha) (0.2.0)\n",
      "Requirement already satisfied: matplotlib-inline in c:\\users\\johnk\\.conda\\envs\\temporal\\lib\\site-packages (from ipython>=5.5.0->pycaret-ts-alpha) (0.1.2)\n",
      "Requirement already satisfied: colorama in c:\\users\\johnk\\.conda\\envs\\temporal\\lib\\site-packages (from ipython>=5.5.0->pycaret-ts-alpha) (0.4.4)\n",
      "Requirement already satisfied: jedi>=0.16 in c:\\users\\johnk\\.conda\\envs\\temporal\\lib\\site-packages (from ipython>=5.5.0->pycaret-ts-alpha) (0.18.1)\n",
      "Requirement already satisfied: setuptools>=18.5 in c:\\users\\johnk\\.conda\\envs\\temporal\\lib\\site-packages (from ipython>=5.5.0->pycaret-ts-alpha) (60.10.0)\n",
      "Requirement already satisfied: prompt-toolkit!=3.0.0,!=3.0.1,<3.1.0,>=2.0.0 in c:\\users\\johnk\\.conda\\envs\\temporal\\lib\\site-packages (from ipython>=5.5.0->pycaret-ts-alpha) (3.0.20)\n",
      "Requirement already satisfied: backcall in c:\\users\\johnk\\.conda\\envs\\temporal\\lib\\site-packages (from ipython>=5.5.0->pycaret-ts-alpha) (0.2.0)\n",
      "Requirement already satisfied: pickleshare in c:\\users\\johnk\\.conda\\envs\\temporal\\lib\\site-packages (from ipython>=5.5.0->pycaret-ts-alpha) (0.7.5)\n",
      "Requirement already satisfied: parso<0.9.0,>=0.8.0 in c:\\users\\johnk\\.conda\\envs\\temporal\\lib\\site-packages (from jedi>=0.16->ipython>=5.5.0->pycaret-ts-alpha) (0.8.3)\n",
      "Requirement already satisfied: wheel in c:\\users\\johnk\\.conda\\envs\\temporal\\lib\\site-packages (from lightgbm>=3.0.0->pycaret-ts-alpha) (0.37.1)\n",
      "Requirement already satisfied: python-dateutil>=2.7 in c:\\users\\johnk\\.conda\\envs\\temporal\\lib\\site-packages (from matplotlib>=3.3.0->pycaret-ts-alpha) (2.8.2)\n",
      "Requirement already satisfied: packaging>=20.0 in c:\\users\\johnk\\.conda\\envs\\temporal\\lib\\site-packages (from matplotlib>=3.3.0->pycaret-ts-alpha) (21.3)\n",
      "Requirement already satisfied: fonttools>=4.22.0 in c:\\users\\johnk\\.conda\\envs\\temporal\\lib\\site-packages (from matplotlib>=3.3.0->pycaret-ts-alpha) (4.33.3)\n",
      "Requirement already satisfied: cycler>=0.10 in c:\\users\\johnk\\.conda\\envs\\temporal\\lib\\site-packages (from matplotlib>=3.3.0->pycaret-ts-alpha) (0.11.0)\n",
      "Requirement already satisfied: kiwisolver>=1.0.1 in c:\\users\\johnk\\.conda\\envs\\temporal\\lib\\site-packages (from matplotlib>=3.3.0->pycaret-ts-alpha) (1.4.2)\n",
      "Requirement already satisfied: pyparsing>=2.2.1 in c:\\users\\johnk\\.conda\\envs\\temporal\\lib\\site-packages (from matplotlib>=3.3.0->pycaret-ts-alpha) (3.0.4)\n",
      "Requirement already satisfied: pillow>=6.2.0 in c:\\users\\johnk\\.conda\\envs\\temporal\\lib\\site-packages (from matplotlib>=3.3.0->pycaret-ts-alpha) (9.1.0)\n",
      "Requirement already satisfied: llvmlite<0.39,>=0.38.0rc1 in c:\\users\\johnk\\appdata\\roaming\\python\\python38\\site-packages (from numba~=0.55.0->pycaret-ts-alpha) (0.38.0)\n",
      "Requirement already satisfied: pytz>=2020.1 in c:\\users\\johnk\\.conda\\envs\\temporal\\lib\\site-packages (from pandas<1.5.0,>=1.3.0->pycaret-ts-alpha) (2022.1)\n",
      "Requirement already satisfied: six in c:\\users\\johnk\\.conda\\envs\\temporal\\lib\\site-packages (from patsy>=0.5.1->category-encoders>=2.4.0->pycaret-ts-alpha) (1.16.0)\n",
      "Requirement already satisfied: tenacity>=6.2.0 in c:\\users\\johnk\\.conda\\envs\\temporal\\lib\\site-packages (from plotly>=5.0.0->pycaret-ts-alpha) (8.0.1)\n",
      "Requirement already satisfied: Cython!=0.29.18,>=0.29 in c:\\users\\johnk\\appdata\\roaming\\python\\python38\\site-packages (from pmdarima>=1.8.0->pycaret-ts-alpha) (0.29.14)\n",
      "Requirement already satisfied: urllib3 in c:\\users\\johnk\\.conda\\envs\\temporal\\lib\\site-packages (from pmdarima>=1.8.0->pycaret-ts-alpha) (1.26.9)\n",
      "Requirement already satisfied: wcwidth in c:\\users\\johnk\\.conda\\envs\\temporal\\lib\\site-packages (from prompt-toolkit!=3.0.0,!=3.0.1,<3.1.0,>=2.0.0->ipython>=5.5.0->pycaret-ts-alpha) (0.2.5)\n",
      "Requirement already satisfied: executing in c:\\users\\johnk\\.conda\\envs\\temporal\\lib\\site-packages (from stack-data->ipython>=5.5.0->pycaret-ts-alpha) (0.8.3)\n",
      "Requirement already satisfied: pure-eval in c:\\users\\johnk\\.conda\\envs\\temporal\\lib\\site-packages (from stack-data->ipython>=5.5.0->pycaret-ts-alpha) (0.2.2)\n",
      "Requirement already satisfied: asttokens in c:\\users\\johnk\\.conda\\envs\\temporal\\lib\\site-packages (from stack-data->ipython>=5.5.0->pycaret-ts-alpha) (2.0.5)\n"
     ]
    }
   ],
   "source": [
    "#!pip install pycaret-ts-alpha\n",
    "#!pip install pycaret[full]"
   ]
  },
  {
   "cell_type": "code",
   "execution_count": 19,
   "id": "101e117a",
   "metadata": {},
   "outputs": [],
   "source": [
    "import pycaret as pyct"
   ]
  },
  {
   "cell_type": "code",
   "execution_count": null,
   "id": "93e3fee4",
   "metadata": {},
   "outputs": [],
   "source": []
  },
  {
   "cell_type": "code",
   "execution_count": null,
   "id": "9669df7f",
   "metadata": {},
   "outputs": [],
   "source": [
    "CATEGORIA_STUDIO = 'I'"
   ]
  },
  {
   "cell_type": "code",
   "execution_count": null,
   "id": "93274a2e",
   "metadata": {},
   "outputs": [],
   "source": [
    "data_temp = all_data[all_data['CATEGORY2']==CATEGORIA_STUDIO]\n",
    "data_temp =  data_temp.groupby(['DATE', 'SECTOR']).agg({ 'QTY_PEOPLE_SERVED': \"sum\"})\n",
    "data_temp = data_temp.reset_index()\n",
    "\n",
    "data_temp['QTY_PEOPLE_SERVED'] =data_temp['QTY_PEOPLE_SERVED'].mask((data_temp['DATE'].dt.year==2018) & (data_temp['DATE'].dt.month==4),data_temp['QTY_PEOPLE_SERVED'].median())\n",
    "\n",
    "data_temp = data_temp.pivot_table(index=['DATE'], \n",
    "                                  columns=['SECTOR'], \n",
    "                                  values='QTY_PEOPLE_SERVED').fillna(0)\n",
    "data_temp = data_temp.reset_index()"
   ]
  },
  {
   "cell_type": "code",
   "execution_count": null,
   "id": "694a59b7",
   "metadata": {},
   "outputs": [],
   "source": [
    "private_max = data_temp['PRIVATE'].mean() + 1*data_temp['PRIVATE'].std()\n",
    "private_min = data_temp['PRIVATE'].mean() - 1*data_temp['PRIVATE'].std()\n",
    "\n",
    "data_temp['PRIVATE_PURE'] = data_temp['PRIVATE'].apply(lambda x :\n",
    "                                                       0 if (private_min>x or\n",
    "                                                             private_max<x)\n",
    "                                                       else x)\n",
    "\n",
    "public_max = data_temp['PUBLIC'].mean() + 1*data_temp['PUBLIC'].std()\n",
    "public_min = data_temp['PUBLIC'].mean() - 1*data_temp['PUBLIC'].std()\n",
    "\n",
    "data_temp['PUBLIC_PURE'] = data_temp['PUBLIC'].apply(lambda x :\n",
    "                                                       0 if (public_min>x or\n",
    "                                                             public_max<x)\n",
    "                                                       else x)\n",
    "\n"
   ]
  },
  {
   "cell_type": "raw",
   "id": "9119096a",
   "metadata": {},
   "source": [
    "plt.figure(figsize=(7,10))\n",
    "\n",
    "plt.subplot(2,1,1)\n",
    "sns.distplot(data_temp['PRIVATE_PURE'])\n",
    "plt.subplot(2,1,2)\n",
    "sns.distplot(data_temp['PUBLIC_PURE'])"
   ]
  },
  {
   "cell_type": "code",
   "execution_count": null,
   "id": "d4068f0b",
   "metadata": {},
   "outputs": [],
   "source": [
    "post_pandemic_df = data_temp[(data_temp['DATE'] > '2020-03')]\n",
    "pre_pandemic_df = data_temp[~(data_temp['DATE'] > '2020-03')]\n",
    "\n",
    "post_pandemic_df"
   ]
  },
  {
   "cell_type": "markdown",
   "id": "d8cd913a",
   "metadata": {},
   "source": [
    "#### PRIVATE"
   ]
  },
  {
   "cell_type": "code",
   "execution_count": null,
   "id": "66ac9d9f",
   "metadata": {},
   "outputs": [],
   "source": [
    "index = pre_pandemic_df['DATE'].values\n",
    "data_to = pre_pandemic_df['PRIVATE'].values\n",
    "df_series_pre = pd.Series(data = data_to, index = index)\n",
    "df_series_pre.plot()"
   ]
  },
  {
   "cell_type": "code",
   "execution_count": null,
   "id": "f7babe18",
   "metadata": {},
   "outputs": [],
   "source": [
    "index = post_pandemic_df['DATE'].values\n",
    "data_to = post_pandemic_df['PRIVATE'].values\n",
    "df_series = pd.Series(data = data_to, index = index)\n",
    "df_series.plot()"
   ]
  },
  {
   "cell_type": "code",
   "execution_count": null,
   "id": "f059a046",
   "metadata": {},
   "outputs": [],
   "source": [
    "\n",
    "setup(data=df_series, fh = 1 , fold = 7)\n",
    "\n",
    "plot_model(plot = 'diagnostics', \n",
    "           fig_kwargs={'renderer': 'png'})"
   ]
  },
  {
   "cell_type": "code",
   "execution_count": null,
   "id": "260a97c5",
   "metadata": {},
   "outputs": [],
   "source": [
    "plot_model(plot = 'decomp_stl', \n",
    "           fig_kwargs={'renderer': 'png'})"
   ]
  },
  {
   "cell_type": "code",
   "execution_count": null,
   "id": "e427e0c2",
   "metadata": {
    "scrolled": false
   },
   "outputs": [],
   "source": [
    "best_baseline_models = compare_models( sort='MAE', errors = 'raise', verbose =False) # Media absolute error\n",
    "best_baseline_models"
   ]
  },
  {
   "cell_type": "code",
   "execution_count": null,
   "id": "ad6afcb8",
   "metadata": {},
   "outputs": [],
   "source": [
    "#best_baseline_models = 'auto_arima'\n",
    "the_model = create_model(best_baseline_models)\n",
    "print(the_model)\n",
    "\n",
    "tuned_model= tune_model(the_model)\n",
    "print(tuned_model)"
   ]
  },
  {
   "cell_type": "code",
   "execution_count": null,
   "id": "13077257",
   "metadata": {
    "scrolled": false
   },
   "outputs": [],
   "source": [
    "final_best = finalize_model(the_model)\n",
    "predict_model(final_best, fh = 1)\n",
    "\n",
    "abc = plot_model(the_model, \n",
    "           plot = 'forecast', \n",
    "           data_kwargs = {'fh' : 10}, \n",
    "           fig_kwargs={'renderer': 'png'})"
   ]
  },
  {
   "cell_type": "code",
   "execution_count": null,
   "id": "919dd2d8",
   "metadata": {
    "scrolled": true
   },
   "outputs": [],
   "source": [
    "np.mean(df_series_pre)"
   ]
  },
  {
   "cell_type": "code",
   "execution_count": null,
   "id": "6b131d33",
   "metadata": {},
   "outputs": [],
   "source": [
    "setup(data=df_series_pre)\n",
    "best_baseline_models = compare_models(sort='MAE', errors = 'raise', verbose =False) # Media absolute error\n",
    "print(best_baseline_models)"
   ]
  },
  {
   "cell_type": "code",
   "execution_count": null,
   "id": "38725cb3",
   "metadata": {},
   "outputs": [],
   "source": [
    "the_model = create_model(best_baseline_models)\n",
    "print(the_model)\n",
    "\n",
    "tuned_model= tune_model(the_model)\n",
    "print(tuned_model)"
   ]
  },
  {
   "cell_type": "code",
   "execution_count": null,
   "id": "60d9861c",
   "metadata": {},
   "outputs": [],
   "source": [
    "final_best = finalize_model(the_model)\n",
    "predict_model(final_best, fh = 5)\n",
    "\n",
    "plot_model(the_model, \n",
    "           plot = 'forecast', \n",
    "           data_kwargs = {'fh' : 5}, \n",
    "           fig_kwargs={'renderer': 'png'})"
   ]
  },
  {
   "cell_type": "markdown",
   "id": "a3ae0e8a",
   "metadata": {},
   "source": [
    "#### PUBLIC"
   ]
  },
  {
   "cell_type": "code",
   "execution_count": null,
   "id": "f563d1d0",
   "metadata": {
    "scrolled": false
   },
   "outputs": [],
   "source": [
    "index = post_pandemic_df['DATE'].values\n",
    "data_to = post_pandemic_df['PUBLIC'].values\n",
    "df_series = pd.Series(data = data_to, index = index)\n",
    "\n",
    "index = pre_pandemic_df['DATE'].values\n",
    "data_to = pre_pandemic_df['PUBLIC'].values\n",
    "df_series_pre = pd.Series(data = data_to, index = index)\n",
    "\n",
    "df_series.plot()"
   ]
  },
  {
   "cell_type": "code",
   "execution_count": null,
   "id": "b2b07f75",
   "metadata": {},
   "outputs": [],
   "source": [
    "print(\"Media: \"+str(np.mean(df_series_pre)))"
   ]
  },
  {
   "cell_type": "code",
   "execution_count": null,
   "id": "55fd5d54",
   "metadata": {
    "scrolled": true
   },
   "outputs": [],
   "source": [
    "from pycaret.time_series import *\n",
    "setup(data=df_series)\n",
    "\n",
    "plot_model(plot = 'diagnostics', \n",
    "           fig_kwargs={'renderer': 'png'})"
   ]
  },
  {
   "cell_type": "code",
   "execution_count": null,
   "id": "cf66bc3b",
   "metadata": {
    "scrolled": false
   },
   "outputs": [],
   "source": [
    "best_baseline_models = compare_models(sort='MAE', errors = 'raise', verbose =False) # Media absolute error\n",
    "best_baseline_models"
   ]
  },
  {
   "cell_type": "code",
   "execution_count": null,
   "id": "99e6f842",
   "metadata": {
    "scrolled": true
   },
   "outputs": [],
   "source": [
    "#best_baseline_models = 'auto_arima'\n",
    "the_model = create_model(best_baseline_models)\n",
    "print(the_model)\n",
    "\n",
    "tuned_model= tune_model(the_model)\n",
    "print(tuned_model)"
   ]
  },
  {
   "cell_type": "code",
   "execution_count": null,
   "id": "135f52c8",
   "metadata": {
    "scrolled": false
   },
   "outputs": [],
   "source": [
    "final_best = finalize_model(best_baseline_models)\n",
    "final_best = finalize_model(the_model)\n",
    "predict_model(final_best, fh = 5)\n",
    "\n",
    "plot_model(the_model, \n",
    "           plot = 'forecast', \n",
    "           data_kwargs = {'fh' : 5}, \n",
    "           fig_kwargs={'renderer': 'png'})"
   ]
  },
  {
   "cell_type": "code",
   "execution_count": null,
   "id": "ce2cf190",
   "metadata": {},
   "outputs": [],
   "source": [
    "x =  list(data_to) + list(predict_model(final_best, fh = 5)['y_pred'])\n",
    "x"
   ]
  },
  {
   "cell_type": "code",
   "execution_count": null,
   "id": "dd6832a3",
   "metadata": {},
   "outputs": [],
   "source": [
    "post_pandemic_df.head(50)"
   ]
  },
  {
   "cell_type": "code",
   "execution_count": null,
   "id": "00f8648d",
   "metadata": {},
   "outputs": [],
   "source": []
  }
 ],
 "metadata": {
  "kernelspec": {
   "display_name": "Python 3 (ipykernel)",
   "language": "python",
   "name": "python3"
  },
  "language_info": {
   "codemirror_mode": {
    "name": "ipython",
    "version": 3
   },
   "file_extension": ".py",
   "mimetype": "text/x-python",
   "name": "python",
   "nbconvert_exporter": "python",
   "pygments_lexer": "ipython3",
   "version": "3.8.13"
  }
 },
 "nbformat": 4,
 "nbformat_minor": 5
}
