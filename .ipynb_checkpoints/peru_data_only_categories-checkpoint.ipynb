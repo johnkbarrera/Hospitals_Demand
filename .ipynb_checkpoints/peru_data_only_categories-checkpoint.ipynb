{
 "cells": [
  {
   "cell_type": "code",
   "execution_count": 1,
   "id": "1cbee083",
   "metadata": {},
   "outputs": [],
   "source": [
    "# !pip install plotly\n",
    "# !pip install matplotlib==3.5.0"
   ]
  },
  {
   "cell_type": "code",
   "execution_count": 2,
   "id": "7ad83372",
   "metadata": {},
   "outputs": [],
   "source": [
    "import pandas as pd\n",
    "import numpy as np\n",
    "import glob\n",
    "from tqdm import tqdm, trange\n",
    "\n",
    "import matplotlib\n",
    "import matplotlib.pyplot as plt\n",
    "from matplotlib.pyplot import cm\n",
    "import plotly.express as px\n",
    "from difflib import SequenceMatcher\n",
    "import seaborn as sns"
   ]
  },
  {
   "cell_type": "code",
   "execution_count": 3,
   "id": "3b9067e3",
   "metadata": {},
   "outputs": [],
   "source": [
    "def millions(x, pos):\n",
    "    \"\"\"The two args are the value and tick position.\"\"\"\n",
    "    return '{:1.1f}M'.format(x*1e-6)\n"
   ]
  },
  {
   "cell_type": "code",
   "execution_count": 4,
   "id": "a36d4aa0",
   "metadata": {},
   "outputs": [],
   "source": [
    "all_data = pd.read_pickle('data/morbilidad_global.csv')"
   ]
  },
  {
   "cell_type": "code",
   "execution_count": 5,
   "id": "8eab2790",
   "metadata": {},
   "outputs": [],
   "source": [
    "all_data = all_data[(all_data['YEAR']>=2018) & (all_data['YEAR']<2022)]\n",
    "\n",
    "all_data['IS_LIMA'] = all_data['PROVINCE'].apply(lambda x : True if x=='LIMA' else False)\n",
    "all_data['SECTOR2'] = all_data['SECTOR'].apply(lambda x: 'PRIVATE' if x == 'PRIVADO' else 'PUBLIC')\n"
   ]
  },
  {
   "cell_type": "code",
   "execution_count": 6,
   "id": "cb52b69a",
   "metadata": {},
   "outputs": [
    {
     "data": {
      "text/html": [
       "<div>\n",
       "<style scoped>\n",
       "    .dataframe tbody tr th:only-of-type {\n",
       "        vertical-align: middle;\n",
       "    }\n",
       "\n",
       "    .dataframe tbody tr th {\n",
       "        vertical-align: top;\n",
       "    }\n",
       "\n",
       "    .dataframe thead th {\n",
       "        text-align: right;\n",
       "    }\n",
       "</style>\n",
       "<table border=\"1\" class=\"dataframe\">\n",
       "  <thead>\n",
       "    <tr style=\"text-align: right;\">\n",
       "      <th></th>\n",
       "      <th>DATE</th>\n",
       "      <th>YEAR</th>\n",
       "      <th>MONTH</th>\n",
       "      <th>STATE</th>\n",
       "      <th>PROVINCE</th>\n",
       "      <th>DISTRICT</th>\n",
       "      <th>SECTOR</th>\n",
       "      <th>CATEGORY</th>\n",
       "      <th>CATEGORY2</th>\n",
       "      <th>CO_IPRESS</th>\n",
       "      <th>...</th>\n",
       "      <th>QTY_PEOPLE_SERVED</th>\n",
       "      <th>DISEASE</th>\n",
       "      <th>DISEASE_GROUP</th>\n",
       "      <th>COD_IPRESS</th>\n",
       "      <th>x</th>\n",
       "      <th>y</th>\n",
       "      <th>SECTOR_R</th>\n",
       "      <th>TYPE</th>\n",
       "      <th>IS_LIMA</th>\n",
       "      <th>SECTOR2</th>\n",
       "    </tr>\n",
       "  </thead>\n",
       "  <tbody>\n",
       "    <tr>\n",
       "      <th>0</th>\n",
       "      <td>2018-01-01</td>\n",
       "      <td>2018</td>\n",
       "      <td>1</td>\n",
       "      <td>LIMA</td>\n",
       "      <td>LIMA</td>\n",
       "      <td>LIMA</td>\n",
       "      <td>PRIVADO</td>\n",
       "      <td>II-2</td>\n",
       "      <td>II</td>\n",
       "      <td>00015610</td>\n",
       "      <td>...</td>\n",
       "      <td>10</td>\n",
       "      <td>PELVIC AND PERINEAL PAIN</td>\n",
       "      <td>Abnormal clinical and laboratory symptoms, sig...</td>\n",
       "      <td>00015610</td>\n",
       "      <td>-12.058367</td>\n",
       "      <td>-77.038362</td>\n",
       "      <td>PRIVADO</td>\n",
       "      <td>Outpatient Consultation</td>\n",
       "      <td>True</td>\n",
       "      <td>PRIVATE</td>\n",
       "    </tr>\n",
       "    <tr>\n",
       "      <th>1</th>\n",
       "      <td>2018-01-01</td>\n",
       "      <td>2018</td>\n",
       "      <td>1</td>\n",
       "      <td>LIMA</td>\n",
       "      <td>LIMA</td>\n",
       "      <td>LIMA</td>\n",
       "      <td>PRIVADO</td>\n",
       "      <td>II-2</td>\n",
       "      <td>II</td>\n",
       "      <td>00015610</td>\n",
       "      <td>...</td>\n",
       "      <td>11</td>\n",
       "      <td>UNIDENTIFIED</td>\n",
       "      <td>Abnormal clinical and laboratory symptoms, sig...</td>\n",
       "      <td>00015610</td>\n",
       "      <td>-12.058367</td>\n",
       "      <td>-77.038362</td>\n",
       "      <td>PRIVADO</td>\n",
       "      <td>Outpatient Consultation</td>\n",
       "      <td>True</td>\n",
       "      <td>PRIVATE</td>\n",
       "    </tr>\n",
       "    <tr>\n",
       "      <th>2</th>\n",
       "      <td>2018-01-01</td>\n",
       "      <td>2018</td>\n",
       "      <td>1</td>\n",
       "      <td>LIMA</td>\n",
       "      <td>LIMA</td>\n",
       "      <td>LIMA</td>\n",
       "      <td>PRIVADO</td>\n",
       "      <td>II-2</td>\n",
       "      <td>II</td>\n",
       "      <td>00015610</td>\n",
       "      <td>...</td>\n",
       "      <td>3</td>\n",
       "      <td>UNIDENTIFIED</td>\n",
       "      <td>Abnormal clinical and laboratory symptoms, sig...</td>\n",
       "      <td>00015610</td>\n",
       "      <td>-12.058367</td>\n",
       "      <td>-77.038362</td>\n",
       "      <td>PRIVADO</td>\n",
       "      <td>Outpatient Consultation</td>\n",
       "      <td>True</td>\n",
       "      <td>PRIVATE</td>\n",
       "    </tr>\n",
       "    <tr>\n",
       "      <th>3</th>\n",
       "      <td>2018-01-01</td>\n",
       "      <td>2018</td>\n",
       "      <td>1</td>\n",
       "      <td>LIMA</td>\n",
       "      <td>LIMA</td>\n",
       "      <td>LIMA</td>\n",
       "      <td>PRIVADO</td>\n",
       "      <td>II-2</td>\n",
       "      <td>II</td>\n",
       "      <td>00015610</td>\n",
       "      <td>...</td>\n",
       "      <td>1</td>\n",
       "      <td>HEPATOMEGALY, NOT ELSEWHERE CLASSIFIED</td>\n",
       "      <td>Abnormal clinical and laboratory symptoms, sig...</td>\n",
       "      <td>00015610</td>\n",
       "      <td>-12.058367</td>\n",
       "      <td>-77.038362</td>\n",
       "      <td>PRIVADO</td>\n",
       "      <td>Outpatient Consultation</td>\n",
       "      <td>True</td>\n",
       "      <td>PRIVATE</td>\n",
       "    </tr>\n",
       "    <tr>\n",
       "      <th>4</th>\n",
       "      <td>2018-01-01</td>\n",
       "      <td>2018</td>\n",
       "      <td>1</td>\n",
       "      <td>LIMA</td>\n",
       "      <td>LIMA</td>\n",
       "      <td>LIMA</td>\n",
       "      <td>PRIVADO</td>\n",
       "      <td>II-2</td>\n",
       "      <td>II</td>\n",
       "      <td>00015610</td>\n",
       "      <td>...</td>\n",
       "      <td>1</td>\n",
       "      <td>UNIDENTIFIED</td>\n",
       "      <td>Abnormal clinical and laboratory symptoms, sig...</td>\n",
       "      <td>00015610</td>\n",
       "      <td>-12.058367</td>\n",
       "      <td>-77.038362</td>\n",
       "      <td>PRIVADO</td>\n",
       "      <td>Outpatient Consultation</td>\n",
       "      <td>True</td>\n",
       "      <td>PRIVATE</td>\n",
       "    </tr>\n",
       "  </tbody>\n",
       "</table>\n",
       "<p>5 rows × 24 columns</p>\n",
       "</div>"
      ],
      "text/plain": [
       "        DATE  YEAR  MONTH STATE PROVINCE DISTRICT   SECTOR CATEGORY CATEGORY2  \\\n",
       "0 2018-01-01  2018      1  LIMA     LIMA     LIMA  PRIVADO     II-2        II   \n",
       "1 2018-01-01  2018      1  LIMA     LIMA     LIMA  PRIVADO     II-2        II   \n",
       "2 2018-01-01  2018      1  LIMA     LIMA     LIMA  PRIVADO     II-2        II   \n",
       "3 2018-01-01  2018      1  LIMA     LIMA     LIMA  PRIVADO     II-2        II   \n",
       "4 2018-01-01  2018      1  LIMA     LIMA     LIMA  PRIVADO     II-2        II   \n",
       "\n",
       "  CO_IPRESS  ... QTY_PEOPLE_SERVED                                 DISEASE  \\\n",
       "0  00015610  ...                10                PELVIC AND PERINEAL PAIN   \n",
       "1  00015610  ...                11                            UNIDENTIFIED   \n",
       "2  00015610  ...                 3                            UNIDENTIFIED   \n",
       "3  00015610  ...                 1  HEPATOMEGALY, NOT ELSEWHERE CLASSIFIED   \n",
       "4  00015610  ...                 1                            UNIDENTIFIED   \n",
       "\n",
       "                                       DISEASE_GROUP COD_IPRESS          x  \\\n",
       "0  Abnormal clinical and laboratory symptoms, sig...   00015610 -12.058367   \n",
       "1  Abnormal clinical and laboratory symptoms, sig...   00015610 -12.058367   \n",
       "2  Abnormal clinical and laboratory symptoms, sig...   00015610 -12.058367   \n",
       "3  Abnormal clinical and laboratory symptoms, sig...   00015610 -12.058367   \n",
       "4  Abnormal clinical and laboratory symptoms, sig...   00015610 -12.058367   \n",
       "\n",
       "           y SECTOR_R                     TYPE  IS_LIMA  SECTOR2  \n",
       "0 -77.038362  PRIVADO  Outpatient Consultation     True  PRIVATE  \n",
       "1 -77.038362  PRIVADO  Outpatient Consultation     True  PRIVATE  \n",
       "2 -77.038362  PRIVADO  Outpatient Consultation     True  PRIVATE  \n",
       "3 -77.038362  PRIVADO  Outpatient Consultation     True  PRIVATE  \n",
       "4 -77.038362  PRIVADO  Outpatient Consultation     True  PRIVATE  \n",
       "\n",
       "[5 rows x 24 columns]"
      ]
     },
     "execution_count": 6,
     "metadata": {},
     "output_type": "execute_result"
    }
   ],
   "source": [
    "all_data.head()"
   ]
  },
  {
   "cell_type": "code",
   "execution_count": 7,
   "id": "df7c0e32",
   "metadata": {},
   "outputs": [],
   "source": [
    "diagnostics_tag = np.unique(all_data['DISEASE_GROUP'])"
   ]
  },
  {
   "cell_type": "code",
   "execution_count": 199,
   "id": "43e3281e",
   "metadata": {
    "scrolled": true
   },
   "outputs": [],
   "source": [
    "name = \"gist_rainbow\"\n",
    "name = \"jet\"\n",
    "cmap = cm.get_cmap(name, 256)  # type: matplotlib.colors.ListedColormap\n",
    "colors = cmap(np.linspace(0, 1, len(diagnostics_tag)))\n",
    "\n",
    "dict_colors = {}\n",
    "counter = 0\n",
    "for d in diagnostics_tag:\n",
    "    x=colors[counter]\n",
    "    if d == 'Codes for special situations':\n",
    "        dict_colors[d]='#000000'\n",
    "    else:\n",
    "        dict_colors[d]=matplotlib.colors.rgb2hex(x)\n",
    "    counter+=1"
   ]
  },
  {
   "cell_type": "code",
   "execution_count": 215,
   "id": "366d74c4",
   "metadata": {},
   "outputs": [
    {
     "data": {
      "text/plain": [
       "array([[0.41568627, 0.74117647, 1.21568627, 2.        ],\n",
       "       [0.41568627, 0.74117647, 1.21568627, 2.        ],\n",
       "       [0.74117647, 1.01176471, 1.47843137, 2.        ],\n",
       "       [1.03921569, 1.22352941, 1.69411765, 2.        ],\n",
       "       [1.38823529, 1.47843137, 1.80784314, 2.        ],\n",
       "       [1.29019608, 0.80784314, 0.2745098 , 2.        ],\n",
       "       [1.54117647, 1.18823529, 0.55686275, 2.        ],\n",
       "       [1.70196078, 1.49411765, 0.83921569, 2.        ],\n",
       "       [1.8       , 1.6745098 , 1.24705882, 2.        ],\n",
       "       [0.74117647, 1.06666667, 0.52156863, 2.        ],\n",
       "       [1.19607843, 1.38823529, 0.68627451, 2.        ],\n",
       "       [1.5372549 , 1.58039216, 0.92941176, 2.        ],\n",
       "       [1.5372549 , 1.58039216, 0.92941176, 2.        ],\n",
       "       [1.68627451, 1.70980392, 1.33333333, 2.        ],\n",
       "       [0.97647059, 0.65490196, 0.91764706, 2.        ],\n",
       "       [1.29803922, 0.89019608, 1.0745098 , 2.        ],\n",
       "       [1.57647059, 1.12156863, 1.28235294, 2.        ],\n",
       "       [1.76078431, 1.44313725, 1.53333333, 2.        ],\n",
       "       [0.87058824, 0.64313725, 0.83921569, 2.        ],\n",
       "       [1.23529412, 0.90588235, 1.16862745, 2.        ],\n",
       "       [1.54901961, 1.16862745, 1.48235294, 2.        ],\n",
       "       [1.72156863, 1.47058824, 1.69019608, 2.        ],\n",
       "       [1.72156863, 1.47058824, 1.69019608, 2.        ]])"
      ]
     },
     "execution_count": 215,
     "metadata": {},
     "output_type": "execute_result"
    }
   ],
   "source": [
    "colors"
   ]
  },
  {
   "cell_type": "code",
   "execution_count": 216,
   "id": "fabd6fcc",
   "metadata": {},
   "outputs": [],
   "source": [
    "cmap = cm.get_cmap('tab20b', 256)\n",
    "colorsb = cmap(np.linspace(0, 1, len(diagnostics_tag)))\n",
    "cmap = cm.get_cmap('tab20c', 256)\n",
    "colorsc = cmap(np.linspace(0, 1, len(diagnostics_tag)))\n",
    "\n",
    "colors = list(colorsb)+list(colorsc)\n",
    "dict_colors = {}\n",
    "counter = 0\n",
    "for d in diagnostics_tag:\n",
    "    x=colors[counter]\n",
    "    dict_colors[d]=matplotlib.colors.rgb2hex(x)\n",
    "    counter+=1"
   ]
  },
  {
   "cell_type": "code",
   "execution_count": 219,
   "id": "d0d9fc0f",
   "metadata": {},
   "outputs": [
    {
     "data": {
      "image/png": "[encoded data removed]",
      "text/html": [
       "<div style=\"vertical-align: middle;\"><strong>tab20b</strong> </div><div class=\"cmap\"><img alt=\"tab20b colormap\" title=\"tab20b\" style=\"border: 1px solid #555;\" src=\"data:image/png;base64,iVBORw0KGgoAAAANSUhEUgAAAgAAAABACAYAAABsv8+/AAAAFXRFWHRUaXRsZQB0YWIyMGIgY29sb3JtYXA1VkcVAAAAG3RFWHREZXNjcmlwdGlvbgB0YWIyMGIgY29sb3JtYXB8wV/xAAAAMHRFWHRBdXRob3IATWF0cGxvdGxpYiB2My41LjEsIGh0dHBzOi8vbWF0cGxvdGxpYi5vcmf3t87PAAAAMnRFWHRTb2Z0d2FyZQBNYXRwbG90bGliIHYzLjUuMSwgaHR0cHM6Ly9tYXRwbG90bGliLm9yZ9kRUegAAAGuSURBVHic7daxbRRRGEbRtSMHtrybMWgTwlnZkicgQGS0QRWEbsMyIaEjeiClBAIXY0dbwntCuucU8H/SjJ50L758fXzbTbAspxkzu+Xj3ZSd7eF26P2/r9+H3j9b12XOzv2cneV6G3r/z9PPoffPtu1qys7pOOe/7A7fhp7/9eNl6P2z9eYwZ+fDpyk7h89j38vz739D75+d9nO+13pcp+zstznv8nLKCgDwXxEAABAkAAAgSAAAQJAAAIAgAQAAQQIAAIIEAAAECQAACBIAABAkAAAgSAAAQJAAAIAgAQAAQQIAAIIEAAAECQAACBIAABAkAAAgSAAAQJAAAIAgAQAAQQIAAIIEAAAECQAACBIAABAkAAAgSAAAQJAAAIAgAQAAQQIAAIIEAAAECQAACBIAABAkAAAgSAAAQJAAAIAgAQAAQQIAAIIEAAAECQAACBIAABAkAAAgSAAAQJAAAIAgAQAAQQIAAIIEAAAECQAACBIAABAkAAAgSAAAQJAAAIAgAQAAQQIAAIIEAAAECQAACBIAABAkAAAgSAAAQJAAAIAgAQAAQQIAAILeATScD9GCQqOZAAAAAElFTkSuQmCC\"></div><div style=\"vertical-align: middle; max-width: 514px; display: flex; justify-content: space-between;\"><div style=\"float: left;\"><div title=\"#393b79ff\" style=\"display: inline-block; width: 1em; height: 1em; margin: 0; vertical-align: middle; border: 1px solid #555; background-color: #393b79ff;\"></div> under</div><div style=\"margin: 0 auto; display: inline-block;\">bad <div title=\"#00000000\" style=\"display: inline-block; width: 1em; height: 1em; margin: 0; vertical-align: middle; border: 1px solid #555; background-color: #00000000;\"></div></div><div style=\"float: right;\">over <div title=\"#de9ed6ff\" style=\"display: inline-block; width: 1em; height: 1em; margin: 0; vertical-align: middle; border: 1px solid #555; background-color: #de9ed6ff;\"></div></div>"
      ],
      "text/plain": [
       "<matplotlib.colors.ListedColormap at 0x2c79c4baa00>"
      ]
     },
     "execution_count": 219,
     "metadata": {},
     "output_type": "execute_result"
    }
   ],
   "source": [
    "cmap = cm.get_cmap('tab20b', 256)\n",
    "cmap"
   ]
  },
  {
   "cell_type": "markdown",
   "id": "659eba6d",
   "metadata": {},
   "source": [
    "#### ALL PERU"
   ]
  },
  {
   "cell_type": "code",
   "execution_count": 9,
   "id": "bcf772b7",
   "metadata": {},
   "outputs": [],
   "source": [
    "PARAMETER = 'DISEASE_GROUP'\n",
    "\n",
    "data_temp = all_data.groupby(['DATE', PARAMETER]).agg({ 'QTY_PEOPLE_SERVED': \"sum\"})\n",
    "data_temp = data_temp.reset_index()\n",
    "\n",
    "top_df = pd.DataFrame()\n",
    "date_uniques = np.sort(data_temp['DATE'].unique())\n",
    "\n",
    "for date in date_uniques:\n",
    "    temp_df = data_temp[data_temp['DATE']==date]\n",
    "    temp_df = temp_df.sort_values(by=['QTY_PEOPLE_SERVED'], ascending=False)\n",
    "    temp_df = temp_df.reset_index(drop=True)\n",
    "    temp_df = temp_df.head(5).reset_index(drop=True)\n",
    "    top_df = pd.concat([top_df, temp_df])\n",
    "    \n",
    "diagnosis = top_df[PARAMETER].unique()\n",
    "\n",
    "# For ausent dates\n",
    "for date in date_uniques:\n",
    "    temp_df = top_df[top_df['DATE']==date]\n",
    "    diagnosis_temp = list(set(diagnosis) - set(temp_df[PARAMETER].values))\n",
    "    temp_df = pd.DataFrame(diagnosis_temp, columns =[PARAMETER])\n",
    "    temp_df['DATE']=date\n",
    "    temp_df['QTY_PEOPLE_SERVED']=0\n",
    "    top_df = pd.concat([top_df, temp_df])\n",
    "\n",
    "top_df = top_df.sort_values(by=['DATE', PARAMETER], ascending=True)"
   ]
  },
  {
   "cell_type": "code",
   "execution_count": 10,
   "id": "c2a9576e",
   "metadata": {
    "scrolled": false
   },
   "outputs": [
    {
     "data": {
      "image/png": "[encoded data removed]",
      "text/plain": [
       "<Figure size 864x504 with 1 Axes>"
      ]
     },
     "metadata": {
      "needs_background": "light"
     },
     "output_type": "display_data"
    }
   ],
   "source": [
    "x_element = [str(item)[:7] for item in np.unique(top_df['DATE'])]\n",
    "n = len(x_element)\n",
    "ind = np.arange(n) \n",
    "width = 0.40\n",
    "\n",
    "fig = plt.figure(figsize=(12,7))\n",
    "ax = fig.add_axes([0,0,1,1])\n",
    "\n",
    "values_temp = 0\n",
    "i = 0\n",
    "for diag in diagnosis:\n",
    "    temp_df = top_df[top_df[PARAMETER]==diag]\n",
    "    values = temp_df['QTY_PEOPLE_SERVED'].values\n",
    "    ax.bar(ind, values, width, bottom=values_temp, color=dict_colors[diag])\n",
    "    values_temp = values_temp + values\n",
    "    i+=1\n",
    "\n",
    "ax.set_ylabel('People served')\n",
    "ax.set_title('People served by diagnosis')\n",
    "ax.set_xticks(ind)\n",
    "ax.set_xticklabels(x_element, rotation=45)\n",
    "ax.yaxis.set_major_formatter(millions)\n",
    "\n",
    "ax.legend(labels=diagnosis, bbox_to_anchor = (1.15, 1))\n",
    "plt.show()"
   ]
  },
  {
   "cell_type": "markdown",
   "id": "8b6adf54",
   "metadata": {},
   "source": [
    "### Lima and Peru"
   ]
  },
  {
   "cell_type": "code",
   "execution_count": 11,
   "id": "e2b53db3",
   "metadata": {},
   "outputs": [],
   "source": [
    "PARAMETER = 'IS_LIMA'\n",
    "\n",
    "data_temp = all_data.groupby(['DATE', PARAMETER]).agg({ 'QTY_PEOPLE_SERVED': \"sum\"})\n",
    "data_temp = data_temp.reset_index()\n",
    "\n",
    "top_df = pd.DataFrame()\n",
    "date_uniques = np.sort(data_temp['DATE'].unique())\n",
    "\n",
    "for date in date_uniques:\n",
    "    temp_df = data_temp[data_temp['DATE']==date]\n",
    "    temp_df = temp_df.sort_values(by=['QTY_PEOPLE_SERVED'], ascending=False)\n",
    "    temp_df = temp_df.head(5).reset_index(drop=True)\n",
    "    top_df = pd.concat([top_df, temp_df])\n",
    "    \n",
    "diagnosis = top_df[PARAMETER].unique()\n",
    "\n",
    "# For ausent dates\n",
    "for date in date_uniques:\n",
    "    temp_df = top_df[top_df['DATE']==date]\n",
    "    diagnosis_temp = list(set(diagnosis) - set(temp_df[PARAMETER].values))\n",
    "    temp_df = pd.DataFrame(diagnosis_temp, columns =[PARAMETER])\n",
    "    temp_df['DATE']=date\n",
    "    temp_df['QTY_PEOPLE_SERVED']=0\n",
    "    top_df = pd.concat([top_df, temp_df])\n",
    "\n",
    "top_df = top_df.sort_values(by=['DATE', PARAMETER], ascending=True)"
   ]
  },
  {
   "cell_type": "code",
   "execution_count": 12,
   "id": "87ce88f9",
   "metadata": {},
   "outputs": [
    {
     "data": {
      "image/png": "[encoded data removed]",
      "text/plain": [
       "<Figure size 864x504 with 1 Axes>"
      ]
     },
     "metadata": {
      "needs_background": "light"
     },
     "output_type": "display_data"
    }
   ],
   "source": [
    "x_element = [str(item)[:7] for item in np.unique(top_df['DATE'])]\n",
    "n = len(x_element)\n",
    "ind = np.arange(n) \n",
    "width = 0.40\n",
    "\n",
    "name = \"winter\"\n",
    "cmap = cm.get_cmap(name, 256)  # type: matplotlib.colors.ListedColormap\n",
    "colors = cmap(np.linspace(0, 1, len(diagnosis)))\n",
    "\n",
    "fig = plt.figure(figsize=(12,7))\n",
    "ax = fig.add_axes([0,0,1,1])\n",
    "\n",
    "values_temp = 0\n",
    "i = 0\n",
    "for diag in diagnosis:\n",
    "    temp_df = top_df[top_df[PARAMETER]==diag]\n",
    "    values = temp_df['QTY_PEOPLE_SERVED'].values\n",
    "    ax.bar(ind, values, width, bottom=values_temp, color=colors[i])\n",
    "    values_temp = values_temp + values\n",
    "    i+=1\n",
    "\n",
    "ax.set_ylabel('People served')\n",
    "ax.set_title('People served by Lima location')\n",
    "ax.set_xticks(ind)\n",
    "ax.set_xticklabels(x_element, rotation=45)\n",
    "ax.yaxis.set_major_formatter(millions)\n",
    "\n",
    "ax.legend(labels=diagnosis, bbox_to_anchor = (1.15, 1), title = \"It's Lima?\")\n",
    "plt.show()"
   ]
  },
  {
   "cell_type": "markdown",
   "id": "706798ad",
   "metadata": {},
   "source": [
    "# Only Lima"
   ]
  },
  {
   "cell_type": "code",
   "execution_count": 13,
   "id": "6558d80b",
   "metadata": {},
   "outputs": [],
   "source": [
    "all_data = all_data[all_data['IS_LIMA']==True]"
   ]
  },
  {
   "cell_type": "code",
   "execution_count": 14,
   "id": "351ade0a",
   "metadata": {},
   "outputs": [],
   "source": [
    "data_temp = all_data.groupby(['DATE','DISEASE']).agg({ 'QTY_PEOPLE_SERVED': \"sum\"})\n",
    "data_temp = data_temp.reset_index()\n",
    "data_temp = data_temp.groupby(['DATE']).agg({ 'QTY_PEOPLE_SERVED': ['sum', 'count']})\n",
    "data_temp.columns = data_temp.columns.droplevel()\n",
    "data_temp = data_temp.reset_index()\n",
    "\n",
    "data_temp = data_temp.rename(columns={'sum': 'People_served', 'count': 'Unique_diagnosis'})"
   ]
  },
  {
   "cell_type": "markdown",
   "id": "edc357be",
   "metadata": {},
   "source": [
    "### Top 10 diagnosis "
   ]
  },
  {
   "cell_type": "code",
   "execution_count": 15,
   "id": "20c09aca",
   "metadata": {},
   "outputs": [],
   "source": [
    "PARAMETER = 'DISEASE_GROUP'\n",
    "\n",
    "data_temp = all_data.groupby(['DATE', PARAMETER]).agg({ 'QTY_PEOPLE_SERVED': \"sum\"})\n",
    "data_temp = data_temp.reset_index()\n",
    "\n",
    "top_df = pd.DataFrame()\n",
    "date_uniques = np.sort(data_temp['DATE'].unique())\n",
    "\n",
    "for date in date_uniques:\n",
    "    temp_df = data_temp[data_temp['DATE']==date]\n",
    "    temp_df = temp_df.sort_values(by=['QTY_PEOPLE_SERVED'], ascending=False)\n",
    "    temp_df = temp_df.head(10).reset_index(drop=True)\n",
    "    #temp_df = temp_df.reset_index(drop=True)\n",
    "    total = sum(temp_df['QTY_PEOPLE_SERVED'])\n",
    "    temp_df['PER'] = temp_df['QTY_PEOPLE_SERVED']/total*100\n",
    "    top_df = pd.concat([top_df, temp_df])\n",
    "    \n",
    "diagnosis = top_df[PARAMETER].unique()\n",
    "\n",
    "# For ausent dates\n",
    "for date in date_uniques:\n",
    "    temp_df = top_df[top_df['DATE']==date]\n",
    "    diagnosis_temp = list(set(diagnosis) - set(temp_df[PARAMETER].values))\n",
    "    temp_df = pd.DataFrame(diagnosis_temp, columns =[PARAMETER])\n",
    "    temp_df['DATE']=date\n",
    "    temp_df['QTY_PEOPLE_SERVED']=0\n",
    "    temp_df['PER']=0\n",
    "    top_df = pd.concat([top_df, temp_df])\n",
    "\n",
    "top_df = top_df.sort_values(by=['DATE', PARAMETER], ascending=True)"
   ]
  },
  {
   "cell_type": "markdown",
   "id": "c53941cb",
   "metadata": {},
   "source": [
    "Sanity check for IHM using respiratory deseases. In IHM profile respiratory desease is 8% for Peru while in our Lima dataset we have arronf 9%\n"
   ]
  },
  {
   "cell_type": "code",
   "execution_count": 16,
   "id": "8b8b4564",
   "metadata": {
    "scrolled": false
   },
   "outputs": [
    {
     "data": {
      "image/png": "[encoded data removed]",
      "text/plain": [
       "<Figure size 864x504 with 1 Axes>"
      ]
     },
     "metadata": {
      "needs_background": "light"
     },
     "output_type": "display_data"
    }
   ],
   "source": [
    "x_element = [str(item)[:7] for item in np.unique(top_df['DATE'])]\n",
    "n = len(x_element)\n",
    "ind = np.arange(n) \n",
    "width = 0.40\n",
    "\n",
    "\n",
    "fig = plt.figure(figsize=(12,7))\n",
    "ax = fig.add_axes([0,0,1,1])\n",
    "\n",
    "values_temp = 0\n",
    "i = 0\n",
    "for diag in diagnosis:\n",
    "    temp_df = top_df[top_df[PARAMETER]==diag]\n",
    "    values = temp_df['QTY_PEOPLE_SERVED'].values\n",
    "    ax.bar(ind, values, width, bottom=values_temp, color=dict_colors[diag])\n",
    "    values_temp = values_temp + values\n",
    "    i+=1\n",
    "\n",
    "ax.set_ylabel('People served')\n",
    "ax.set_title('People served by diagnosis')\n",
    "ax.set_xticks(ind)\n",
    "ax.set_xticklabels(x_element, rotation=45) \n",
    "\n",
    "ax.legend(labels=diagnosis, bbox_to_anchor = (1.15, 1))\n",
    "plt.show()"
   ]
  },
  {
   "cell_type": "raw",
   "id": "bffe05e0",
   "metadata": {},
   "source": [
    "# solo enfermedades respiratorias\n",
    "\n",
    "#top_df = top_df[top_df['DISEASE_GROUP']=='Respiratory system diseases']\n",
    "#print(np.mean(top_df['PER']))\n",
    "\n",
    "# ABC: Referencia - https://www.healthdata.org/peru\n"
   ]
  },
  {
   "cell_type": "markdown",
   "id": "57fe935a",
   "metadata": {},
   "source": [
    "## Estudio por categorias y diagnosticos"
   ]
  },
  {
   "cell_type": "code",
   "execution_count": 17,
   "id": "e0a5c91b",
   "metadata": {},
   "outputs": [],
   "source": [
    "import plotly.express as px"
   ]
  },
  {
   "cell_type": "code",
   "execution_count": 18,
   "id": "156a4dd2",
   "metadata": {},
   "outputs": [],
   "source": [
    "def top_of_df(data, top = 5):\n",
    "    df = data.copy()\n",
    "    for row in range(len(df)):\n",
    "        list_values = df.loc[row, columns_name].values\n",
    "        top_values = list(-np.sort(-list_values)[:top])\n",
    "\n",
    "        for i in range(list_values.size):\n",
    "            val = list_values[i]\n",
    "            if val in top_values:\n",
    "                df.iloc[[row],i+1] = val\n",
    "            else:\n",
    "                df.iloc[[row],i+1] = 0\n",
    "    df = df.loc[:, (df != 0).any(axis=0)]\n",
    "    df = df.replace(0,np.nan)\n",
    "    return df"
   ]
  },
  {
   "cell_type": "code",
   "execution_count": 19,
   "id": "0ae760cb",
   "metadata": {},
   "outputs": [
    {
     "data": {
      "text/plain": [
       "array(['II', '0', 'III', 'I'], dtype=object)"
      ]
     },
     "execution_count": 19,
     "metadata": {},
     "output_type": "execute_result"
    }
   ],
   "source": [
    "all_data['CATEGORY2'].unique()"
   ]
  },
  {
   "cell_type": "code",
   "execution_count": null,
   "id": "e6d7ddb1",
   "metadata": {},
   "outputs": [],
   "source": []
  },
  {
   "cell_type": "code",
   "execution_count": null,
   "id": "8b517e03",
   "metadata": {},
   "outputs": [],
   "source": []
  },
  {
   "cell_type": "code",
   "execution_count": null,
   "id": "042e14b2",
   "metadata": {},
   "outputs": [],
   "source": []
  },
  {
   "cell_type": "code",
   "execution_count": 175,
   "id": "39ded0cb",
   "metadata": {},
   "outputs": [],
   "source": [
    "CATEGORIA_STUDIO = 'III'"
   ]
  },
  {
   "cell_type": "markdown",
   "id": "be5c85c1",
   "metadata": {},
   "source": [
    "### Private & Public "
   ]
  },
  {
   "cell_type": "code",
   "execution_count": 176,
   "id": "345377bb",
   "metadata": {},
   "outputs": [],
   "source": [
    "data_temp = all_data[all_data['CATEGORY2']==CATEGORIA_STUDIO]\n",
    "data_temp =  data_temp.groupby(['DATE', 'SECTOR2']).agg({ 'QTY_PEOPLE_SERVED': \"sum\"})\n",
    "data_temp = data_temp.reset_index()\n",
    "\n",
    "#data_temp['QTY_PEOPLE_SERVED'] =data_temp['QTY_PEOPLE_SERVED'].mask((data_temp['DATE'].dt.year==2018) & (data_temp['DATE'].dt.month==4),0)\n",
    "\n",
    "data_temp = data_temp.pivot_table(index=['DATE'], \n",
    "                                  columns=['SECTOR2'], \n",
    "                                  values='QTY_PEOPLE_SERVED').fillna(0)\n",
    "data_temp = data_temp.reset_index()"
   ]
  },
  {
   "cell_type": "code",
   "execution_count": 177,
   "id": "abdbc747",
   "metadata": {},
   "outputs": [
    {
     "data": {
      "application/vnd.plotly.v1+json": {
       "config": {
        "plotlyServerURL": "https://plot.ly"
       },
       "data": [
        {
         "hovertemplate": "Sector=PRIVATE<br>Date=%{x|%Y %M}<br>People served (qty)=%{y}<extra></extra>",
         "legendgroup": "PRIVATE",
         "line": {
          "color": "#636efa",
          "dash": "solid"
         },
         "marker": {
          "symbol": "circle"
         },
         "mode": "lines",
         "name": "PRIVATE",
         "orientation": "v",
         "showlegend": true,
         "type": "scatter",
         "x": [
          "2018-01-01T00:00:00",
          "2018-02-01T00:00:00",
          "2018-03-01T00:00:00",
          "2018-04-01T00:00:00",
          "2018-05-01T00:00:00",
          "2018-06-01T00:00:00",
          "2018-07-01T00:00:00",
          "2018-08-01T00:00:00",
          "2018-09-01T00:00:00",
          "2018-10-01T00:00:00",
          "2018-11-01T00:00:00",
          "2018-12-01T00:00:00",
          "2019-01-01T00:00:00",
          "2019-02-01T00:00:00",
          "2019-03-01T00:00:00",
          "2019-04-01T00:00:00",
          "2019-05-01T00:00:00",
          "2019-06-01T00:00:00",
          "2019-07-01T00:00:00",
          "2019-08-01T00:00:00",
          "2019-09-01T00:00:00",
          "2019-10-01T00:00:00",
          "2019-11-01T00:00:00",
          "2019-12-01T00:00:00",
          "2020-01-01T00:00:00",
          "2020-02-01T00:00:00",
          "2020-03-01T00:00:00",
          "2020-04-01T00:00:00",
          "2020-05-01T00:00:00",
          "2020-06-01T00:00:00",
          "2020-07-01T00:00:00",
          "2020-08-01T00:00:00",
          "2020-09-01T00:00:00",
          "2020-10-01T00:00:00",
          "2020-11-01T00:00:00",
          "2020-12-01T00:00:00",
          "2021-01-01T00:00:00",
          "2021-02-01T00:00:00",
          "2021-03-01T00:00:00",
          "2021-04-01T00:00:00",
          "2021-05-01T00:00:00",
          "2021-06-01T00:00:00",
          "2021-07-01T00:00:00",
          "2021-08-01T00:00:00",
          "2021-09-01T00:00:00",
          "2021-10-01T00:00:00",
          "2021-11-01T00:00:00",
          "2021-12-01T00:00:00"
         ],
         "xaxis": "x",
         "y": [
          89779,
          82242,
          76740,
          74900,
          80395,
          86173,
          155439,
          126189,
          82841,
          85807,
          89132,
          113545,
          93300,
          84542,
          88205,
          84562,
          97508,
          117539,
          100324,
          94520,
          92902,
          37697,
          62474,
          79638,
          53275,
          44375,
          52619,
          11554,
          15812,
          26561,
          45367,
          46952,
          61045,
          59726,
          68897,
          74478,
          73277,
          58254,
          71424,
          64803,
          67871,
          68857,
          71458,
          72007,
          75174,
          78774,
          83984,
          70866
         ],
         "yaxis": "y"
        },
        {
         "hovertemplate": "Sector=PUBLIC<br>Date=%{x|%Y %M}<br>People served (qty)=%{y}<extra></extra>",
         "legendgroup": "PUBLIC",
         "line": {
          "color": "#EF553B",
          "dash": "solid"
         },
         "marker": {
          "symbol": "circle"
         },
         "mode": "lines",
         "name": "PUBLIC",
         "orientation": "v",
         "showlegend": true,
         "type": "scatter",
         "x": [
          "2018-01-01T00:00:00",
          "2018-02-01T00:00:00",
          "2018-03-01T00:00:00",
          "2018-04-01T00:00:00",
          "2018-05-01T00:00:00",
          "2018-06-01T00:00:00",
          "2018-07-01T00:00:00",
          "2018-08-01T00:00:00",
          "2018-09-01T00:00:00",
          "2018-10-01T00:00:00",
          "2018-11-01T00:00:00",
          "2018-12-01T00:00:00",
          "2019-01-01T00:00:00",
          "2019-02-01T00:00:00",
          "2019-03-01T00:00:00",
          "2019-04-01T00:00:00",
          "2019-05-01T00:00:00",
          "2019-06-01T00:00:00",
          "2019-07-01T00:00:00",
          "2019-08-01T00:00:00",
          "2019-09-01T00:00:00",
          "2019-10-01T00:00:00",
          "2019-11-01T00:00:00",
          "2019-12-01T00:00:00",
          "2020-01-01T00:00:00",
          "2020-02-01T00:00:00",
          "2020-03-01T00:00:00",
          "2020-04-01T00:00:00",
          "2020-05-01T00:00:00",
          "2020-06-01T00:00:00",
          "2020-07-01T00:00:00",
          "2020-08-01T00:00:00",
          "2020-09-01T00:00:00",
          "2020-10-01T00:00:00",
          "2020-11-01T00:00:00",
          "2020-12-01T00:00:00",
          "2021-01-01T00:00:00",
          "2021-02-01T00:00:00",
          "2021-03-01T00:00:00",
          "2021-04-01T00:00:00",
          "2021-05-01T00:00:00",
          "2021-06-01T00:00:00",
          "2021-07-01T00:00:00",
          "2021-08-01T00:00:00",
          "2021-09-01T00:00:00",
          "2021-10-01T00:00:00",
          "2021-11-01T00:00:00",
          "2021-12-01T00:00:00"
         ],
         "xaxis": "x",
         "y": [
          542048,
          582308,
          565977,
          576048,
          591221,
          610678,
          620971,
          604811,
          595678,
          674882,
          656761,
          574173,
          862557,
          861087,
          757894,
          765379,
          651522,
          680729,
          530676,
          538047,
          559040,
          353238,
          255721,
          296831,
          306649,
          313124,
          193707,
          45734,
          50918,
          56354,
          95791,
          114023,
          129903,
          144095,
          194275,
          167770,
          187818,
          163397,
          197273,
          191799,
          222069,
          231893,
          286804,
          302710,
          303204,
          304117,
          314380,
          317120
         ],
         "yaxis": "y"
        }
       ],
       "layout": {
        "legend": {
         "title": {
          "text": "Sector"
         },
         "tracegroupgap": 0
        },
        "template": {
         "data": {
          "bar": [
           {
            "error_x": {
             "color": "#2a3f5f"
            },
            "error_y": {
             "color": "#2a3f5f"
            },
            "marker": {
             "line": {
              "color": "#E5ECF6",
              "width": 0.5
             },
             "pattern": {
              "fillmode": "overlay",
              "size": 10,
              "solidity": 0.2
             }
            },
            "type": "bar"
           }
          ],
          "barpolar": [
           {
            "marker": {
             "line": {
              "color": "#E5ECF6",
              "width": 0.5
             },
             "pattern": {
              "fillmode": "overlay",
              "size": 10,
              "solidity": 0.2
             }
            },
            "type": "barpolar"
           }
          ],
          "carpet": [
           {
            "aaxis": {
             "endlinecolor": "#2a3f5f",
             "gridcolor": "white",
             "linecolor": "white",
             "minorgridcolor": "white",
             "startlinecolor": "#2a3f5f"
            },
            "baxis": {
             "endlinecolor": "#2a3f5f",
             "gridcolor": "white",
             "linecolor": "white",
             "minorgridcolor": "white",
             "startlinecolor": "#2a3f5f"
            },
            "type": "carpet"
           }
          ],
          "choropleth": [
           {
            "colorbar": {
             "outlinewidth": 0,
             "ticks": ""
            },
            "type": "choropleth"
           }
          ],
          "contour": [
           {
            "colorbar": {
             "outlinewidth": 0,
             "ticks": ""
            },
            "colorscale": [
             [
              0,
              "#0d0887"
             ],
             [
              0.1111111111111111,
              "#46039f"
             ],
             [
              0.2222222222222222,
              "#7201a8"
             ],
             [
              0.3333333333333333,
              "#9c179e"
             ],
             [
              0.4444444444444444,
              "#bd3786"
             ],
             [
              0.5555555555555556,
              "#d8576b"
             ],
             [
              0.6666666666666666,
              "#ed7953"
             ],
             [
              0.7777777777777778,
              "#fb9f3a"
             ],
             [
              0.8888888888888888,
              "#fdca26"
             ],
             [
              1,
              "#f0f921"
             ]
            ],
            "type": "contour"
           }
          ],
          "contourcarpet": [
           {
            "colorbar": {
             "outlinewidth": 0,
             "ticks": ""
            },
            "type": "contourcarpet"
           }
          ],
          "heatmap": [
           {
            "colorbar": {
             "outlinewidth": 0,
             "ticks": ""
            },
            "colorscale": [
             [
              0,
              "#0d0887"
             ],
             [
              0.1111111111111111,
              "#46039f"
             ],
             [
              0.2222222222222222,
              "#7201a8"
             ],
             [
              0.3333333333333333,
              "#9c179e"
             ],
             [
              0.4444444444444444,
              "#bd3786"
             ],
             [
              0.5555555555555556,
              "#d8576b"
             ],
             [
              0.6666666666666666,
              "#ed7953"
             ],
             [
              0.7777777777777778,
              "#fb9f3a"
             ],
             [
              0.8888888888888888,
              "#fdca26"
             ],
             [
              1,
              "#f0f921"
             ]
            ],
            "type": "heatmap"
           }
          ],
          "heatmapgl": [
           {
            "colorbar": {
             "outlinewidth": 0,
             "ticks": ""
            },
            "colorscale": [
             [
              0,
              "#0d0887"
             ],
             [
              0.1111111111111111,
              "#46039f"
             ],
             [
              0.2222222222222222,
              "#7201a8"
             ],
             [
              0.3333333333333333,
              "#9c179e"
             ],
             [
              0.4444444444444444,
              "#bd3786"
             ],
             [
              0.5555555555555556,
              "#d8576b"
             ],
             [
              0.6666666666666666,
              "#ed7953"
             ],
             [
              0.7777777777777778,
              "#fb9f3a"
             ],
             [
              0.8888888888888888,
              "#fdca26"
             ],
             [
              1,
              "#f0f921"
             ]
            ],
            "type": "heatmapgl"
           }
          ],
          "histogram": [
           {
            "marker": {
             "pattern": {
              "fillmode": "overlay",
              "size": 10,
              "solidity": 0.2
             }
            },
            "type": "histogram"
           }
          ],
          "histogram2d": [
           {
            "colorbar": {
             "outlinewidth": 0,
             "ticks": ""
            },
            "colorscale": [
             [
              0,
              "#0d0887"
             ],
             [
              0.1111111111111111,
              "#46039f"
             ],
             [
              0.2222222222222222,
              "#7201a8"
             ],
             [
              0.3333333333333333,
              "#9c179e"
             ],
             [
              0.4444444444444444,
              "#bd3786"
             ],
             [
              0.5555555555555556,
              "#d8576b"
             ],
             [
              0.6666666666666666,
              "#ed7953"
             ],
             [
              0.7777777777777778,
              "#fb9f3a"
             ],
             [
              0.8888888888888888,
              "#fdca26"
             ],
             [
              1,
              "#f0f921"
             ]
            ],
            "type": "histogram2d"
           }
          ],
          "histogram2dcontour": [
           {
            "colorbar": {
             "outlinewidth": 0,
             "ticks": ""
            },
            "colorscale": [
             [
              0,
              "#0d0887"
             ],
             [
              0.1111111111111111,
              "#46039f"
             ],
             [
              0.2222222222222222,
              "#7201a8"
             ],
             [
              0.3333333333333333,
              "#9c179e"
             ],
             [
              0.4444444444444444,
              "#bd3786"
             ],
             [
              0.5555555555555556,
              "#d8576b"
             ],
             [
              0.6666666666666666,
              "#ed7953"
             ],
             [
              0.7777777777777778,
              "#fb9f3a"
             ],
             [
              0.8888888888888888,
              "#fdca26"
             ],
             [
              1,
              "#f0f921"
             ]
            ],
            "type": "histogram2dcontour"
           }
          ],
          "mesh3d": [
           {
            "colorbar": {
             "outlinewidth": 0,
             "ticks": ""
            },
            "type": "mesh3d"
           }
          ],
          "parcoords": [
           {
            "line": {
             "colorbar": {
              "outlinewidth": 0,
              "ticks": ""
             }
            },
            "type": "parcoords"
           }
          ],
          "pie": [
           {
            "automargin": true,
            "type": "pie"
           }
          ],
          "scatter": [
           {
            "fillpattern": {
             "fillmode": "overlay",
             "size": 10,
             "solidity": 0.2
            },
            "type": "scatter"
           }
          ],
          "scatter3d": [
           {
            "line": {
             "colorbar": {
              "outlinewidth": 0,
              "ticks": ""
             }
            },
            "marker": {
             "colorbar": {
              "outlinewidth": 0,
              "ticks": ""
             }
            },
            "type": "scatter3d"
           }
          ],
          "scattercarpet": [
           {
            "marker": {
             "colorbar": {
              "outlinewidth": 0,
              "ticks": ""
             }
            },
            "type": "scattercarpet"
           }
          ],
          "scattergeo": [
           {
            "marker": {
             "colorbar": {
              "outlinewidth": 0,
              "ticks": ""
             }
            },
            "type": "scattergeo"
           }
          ],
          "scattergl": [
           {
            "marker": {
             "colorbar": {
              "outlinewidth": 0,
              "ticks": ""
             }
            },
            "type": "scattergl"
           }
          ],
          "scattermapbox": [
           {
            "marker": {
             "colorbar": {
              "outlinewidth": 0,
              "ticks": ""
             }
            },
            "type": "scattermapbox"
           }
          ],
          "scatterpolar": [
           {
            "marker": {
             "colorbar": {
              "outlinewidth": 0,
              "ticks": ""
             }
            },
            "type": "scatterpolar"
           }
          ],
          "scatterpolargl": [
           {
            "marker": {
             "colorbar": {
              "outlinewidth": 0,
              "ticks": ""
             }
            },
            "type": "scatterpolargl"
           }
          ],
          "scatterternary": [
           {
            "marker": {
             "colorbar": {
              "outlinewidth": 0,
              "ticks": ""
             }
            },
            "type": "scatterternary"
           }
          ],
          "surface": [
           {
            "colorbar": {
             "outlinewidth": 0,
             "ticks": ""
            },
            "colorscale": [
             [
              0,
              "#0d0887"
             ],
             [
              0.1111111111111111,
              "#46039f"
             ],
             [
              0.2222222222222222,
              "#7201a8"
             ],
             [
              0.3333333333333333,
              "#9c179e"
             ],
             [
              0.4444444444444444,
              "#bd3786"
             ],
             [
              0.5555555555555556,
              "#d8576b"
             ],
             [
              0.6666666666666666,
              "#ed7953"
             ],
             [
              0.7777777777777778,
              "#fb9f3a"
             ],
             [
              0.8888888888888888,
              "#fdca26"
             ],
             [
              1,
              "#f0f921"
             ]
            ],
            "type": "surface"
           }
          ],
          "table": [
           {
            "cells": {
             "fill": {
              "color": "#EBF0F8"
             },
             "line": {
              "color": "white"
             }
            },
            "header": {
             "fill": {
              "color": "#C8D4E3"
             },
             "line": {
              "color": "white"
             }
            },
            "type": "table"
           }
          ]
         },
         "layout": {
          "annotationdefaults": {
           "arrowcolor": "#2a3f5f",
           "arrowhead": 0,
           "arrowwidth": 1
          },
          "autotypenumbers": "strict",
          "coloraxis": {
           "colorbar": {
            "outlinewidth": 0,
            "ticks": ""
           }
          },
          "colorscale": {
           "diverging": [
            [
             0,
             "#8e0152"
            ],
            [
             0.1,
             "#c51b7d"
            ],
            [
             0.2,
             "#de77ae"
            ],
            [
             0.3,
             "#f1b6da"
            ],
            [
             0.4,
             "#fde0ef"
            ],
            [
             0.5,
             "#f7f7f7"
            ],
            [
             0.6,
             "#e6f5d0"
            ],
            [
             0.7,
             "#b8e186"
            ],
            [
             0.8,
             "#7fbc41"
            ],
            [
             0.9,
             "#4d9221"
            ],
            [
             1,
             "#276419"
            ]
           ],
           "sequential": [
            [
             0,
             "#0d0887"
            ],
            [
             0.1111111111111111,
             "#46039f"
            ],
            [
             0.2222222222222222,
             "#7201a8"
            ],
            [
             0.3333333333333333,
             "#9c179e"
            ],
            [
             0.4444444444444444,
             "#bd3786"
            ],
            [
             0.5555555555555556,
             "#d8576b"
            ],
            [
             0.6666666666666666,
             "#ed7953"
            ],
            [
             0.7777777777777778,
             "#fb9f3a"
            ],
            [
             0.8888888888888888,
             "#fdca26"
            ],
            [
             1,
             "#f0f921"
            ]
           ],
           "sequentialminus": [
            [
             0,
             "#0d0887"
            ],
            [
             0.1111111111111111,
             "#46039f"
            ],
            [
             0.2222222222222222,
             "#7201a8"
            ],
            [
             0.3333333333333333,
             "#9c179e"
            ],
            [
             0.4444444444444444,
             "#bd3786"
            ],
            [
             0.5555555555555556,
             "#d8576b"
            ],
            [
             0.6666666666666666,
             "#ed7953"
            ],
            [
             0.7777777777777778,
             "#fb9f3a"
            ],
            [
             0.8888888888888888,
             "#fdca26"
            ],
            [
             1,
             "#f0f921"
            ]
           ]
          },
          "colorway": [
           "#636efa",
           "#EF553B",
           "#00cc96",
           "#ab63fa",
           "#FFA15A",
           "#19d3f3",
           "#FF6692",
           "#B6E880",
           "#FF97FF",
           "#FECB52"
          ],
          "font": {
           "color": "#2a3f5f"
          },
          "geo": {
           "bgcolor": "white",
           "lakecolor": "white",
           "landcolor": "#E5ECF6",
           "showlakes": true,
           "showland": true,
           "subunitcolor": "white"
          },
          "hoverlabel": {
           "align": "left"
          },
          "hovermode": "closest",
          "mapbox": {
           "style": "light"
          },
          "paper_bgcolor": "white",
          "plot_bgcolor": "#E5ECF6",
          "polar": {
           "angularaxis": {
            "gridcolor": "white",
            "linecolor": "white",
            "ticks": ""
           },
           "bgcolor": "#E5ECF6",
           "radialaxis": {
            "gridcolor": "white",
            "linecolor": "white",
            "ticks": ""
           }
          },
          "scene": {
           "xaxis": {
            "backgroundcolor": "#E5ECF6",
            "gridcolor": "white",
            "gridwidth": 2,
            "linecolor": "white",
            "showbackground": true,
            "ticks": "",
            "zerolinecolor": "white"
           },
           "yaxis": {
            "backgroundcolor": "#E5ECF6",
            "gridcolor": "white",
            "gridwidth": 2,
            "linecolor": "white",
            "showbackground": true,
            "ticks": "",
            "zerolinecolor": "white"
           },
           "zaxis": {
            "backgroundcolor": "#E5ECF6",
            "gridcolor": "white",
            "gridwidth": 2,
            "linecolor": "white",
            "showbackground": true,
            "ticks": "",
            "zerolinecolor": "white"
           }
          },
          "shapedefaults": {
           "line": {
            "color": "#2a3f5f"
           }
          },
          "ternary": {
           "aaxis": {
            "gridcolor": "white",
            "linecolor": "white",
            "ticks": ""
           },
           "baxis": {
            "gridcolor": "white",
            "linecolor": "white",
            "ticks": ""
           },
           "bgcolor": "#E5ECF6",
           "caxis": {
            "gridcolor": "white",
            "linecolor": "white",
            "ticks": ""
           }
          },
          "title": {
           "x": 0.05
          },
          "xaxis": {
           "automargin": true,
           "gridcolor": "white",
           "linecolor": "white",
           "ticks": "",
           "title": {
            "standoff": 15
           },
           "zerolinecolor": "white",
           "zerolinewidth": 2
          },
          "yaxis": {
           "automargin": true,
           "gridcolor": "white",
           "linecolor": "white",
           "ticks": "",
           "title": {
            "standoff": 15
           },
           "zerolinecolor": "white",
           "zerolinewidth": 2
          }
         }
        },
        "title": {
         "text": "Total people served to Category III"
        },
        "xaxis": {
         "anchor": "y",
         "domain": [
          0,
          1
         ],
         "dtick": "M1",
         "tickformat": "%b-%Y",
         "title": {
          "text": "Date"
         }
        },
        "yaxis": {
         "anchor": "x",
         "domain": [
          0,
          1
         ],
         "title": {
          "text": "People served (qty)"
         }
        }
       }
      },
      "text/html": [
       "<div>                            <div id=\"b470f776-5342-4b2a-ac17-21cec6922938\" class=\"plotly-graph-div\" style=\"height:525px; width:100%;\"></div>            <script type=\"text/javascript\">                require([\"plotly\"], function(Plotly) {                    window.PLOTLYENV=window.PLOTLYENV || {};                                    if (document.getElementById(\"b470f776-5342-4b2a-ac17-21cec6922938\")) {                    Plotly.newPlot(                        \"b470f776-5342-4b2a-ac17-21cec6922938\",                        [{\"hovertemplate\":\"Sector=PRIVATE<br>Date=%{x|%Y %M}<br>People served (qty)=%{y}<extra></extra>\",\"legendgroup\":\"PRIVATE\",\"line\":{\"color\":\"#636efa\",\"dash\":\"solid\"},\"marker\":{\"symbol\":\"circle\"},\"mode\":\"lines\",\"name\":\"PRIVATE\",\"orientation\":\"v\",\"showlegend\":true,\"x\":[\"2018-01-01T00:00:00\",\"2018-02-01T00:00:00\",\"2018-03-01T00:00:00\",\"2018-04-01T00:00:00\",\"2018-05-01T00:00:00\",\"2018-06-01T00:00:00\",\"2018-07-01T00:00:00\",\"2018-08-01T00:00:00\",\"2018-09-01T00:00:00\",\"2018-10-01T00:00:00\",\"2018-11-01T00:00:00\",\"2018-12-01T00:00:00\",\"2019-01-01T00:00:00\",\"2019-02-01T00:00:00\",\"2019-03-01T00:00:00\",\"2019-04-01T00:00:00\",\"2019-05-01T00:00:00\",\"2019-06-01T00:00:00\",\"2019-07-01T00:00:00\",\"2019-08-01T00:00:00\",\"2019-09-01T00:00:00\",\"2019-10-01T00:00:00\",\"2019-11-01T00:00:00\",\"2019-12-01T00:00:00\",\"2020-01-01T00:00:00\",\"2020-02-01T00:00:00\",\"2020-03-01T00:00:00\",\"2020-04-01T00:00:00\",\"2020-05-01T00:00:00\",\"2020-06-01T00:00:00\",\"2020-07-01T00:00:00\",\"2020-08-01T00:00:00\",\"2020-09-01T00:00:00\",\"2020-10-01T00:00:00\",\"2020-11-01T00:00:00\",\"2020-12-01T00:00:00\",\"2021-01-01T00:00:00\",\"2021-02-01T00:00:00\",\"2021-03-01T00:00:00\",\"2021-04-01T00:00:00\",\"2021-05-01T00:00:00\",\"2021-06-01T00:00:00\",\"2021-07-01T00:00:00\",\"2021-08-01T00:00:00\",\"2021-09-01T00:00:00\",\"2021-10-01T00:00:00\",\"2021-11-01T00:00:00\",\"2021-12-01T00:00:00\"],\"xaxis\":\"x\",\"y\":[89779,82242,76740,74900,80395,86173,155439,126189,82841,85807,89132,113545,93300,84542,88205,84562,97508,117539,100324,94520,92902,37697,62474,79638,53275,44375,52619,11554,15812,26561,45367,46952,61045,59726,68897,74478,73277,58254,71424,64803,67871,68857,71458,72007,75174,78774,83984,70866],\"yaxis\":\"y\",\"type\":\"scatter\"},{\"hovertemplate\":\"Sector=PUBLIC<br>Date=%{x|%Y %M}<br>People served (qty)=%{y}<extra></extra>\",\"legendgroup\":\"PUBLIC\",\"line\":{\"color\":\"#EF553B\",\"dash\":\"solid\"},\"marker\":{\"symbol\":\"circle\"},\"mode\":\"lines\",\"name\":\"PUBLIC\",\"orientation\":\"v\",\"showlegend\":true,\"x\":[\"2018-01-01T00:00:00\",\"2018-02-01T00:00:00\",\"2018-03-01T00:00:00\",\"2018-04-01T00:00:00\",\"2018-05-01T00:00:00\",\"2018-06-01T00:00:00\",\"2018-07-01T00:00:00\",\"2018-08-01T00:00:00\",\"2018-09-01T00:00:00\",\"2018-10-01T00:00:00\",\"2018-11-01T00:00:00\",\"2018-12-01T00:00:00\",\"2019-01-01T00:00:00\",\"2019-02-01T00:00:00\",\"2019-03-01T00:00:00\",\"2019-04-01T00:00:00\",\"2019-05-01T00:00:00\",\"2019-06-01T00:00:00\",\"2019-07-01T00:00:00\",\"2019-08-01T00:00:00\",\"2019-09-01T00:00:00\",\"2019-10-01T00:00:00\",\"2019-11-01T00:00:00\",\"2019-12-01T00:00:00\",\"2020-01-01T00:00:00\",\"2020-02-01T00:00:00\",\"2020-03-01T00:00:00\",\"2020-04-01T00:00:00\",\"2020-05-01T00:00:00\",\"2020-06-01T00:00:00\",\"2020-07-01T00:00:00\",\"2020-08-01T00:00:00\",\"2020-09-01T00:00:00\",\"2020-10-01T00:00:00\",\"2020-11-01T00:00:00\",\"2020-12-01T00:00:00\",\"2021-01-01T00:00:00\",\"2021-02-01T00:00:00\",\"2021-03-01T00:00:00\",\"2021-04-01T00:00:00\",\"2021-05-01T00:00:00\",\"2021-06-01T00:00:00\",\"2021-07-01T00:00:00\",\"2021-08-01T00:00:00\",\"2021-09-01T00:00:00\",\"2021-10-01T00:00:00\",\"2021-11-01T00:00:00\",\"2021-12-01T00:00:00\"],\"xaxis\":\"x\",\"y\":[542048,582308,565977,576048,591221,610678,620971,604811,595678,674882,656761,574173,862557,861087,757894,765379,651522,680729,530676,538047,559040,353238,255721,296831,306649,313124,193707,45734,50918,56354,95791,114023,129903,144095,194275,167770,187818,163397,197273,191799,222069,231893,286804,302710,303204,304117,314380,317120],\"yaxis\":\"y\",\"type\":\"scatter\"}],                        {\"template\":{\"data\":{\"histogram2dcontour\":[{\"type\":\"histogram2dcontour\",\"colorbar\":{\"outlinewidth\":0,\"ticks\":\"\"},\"colorscale\":[[0.0,\"#0d0887\"],[0.1111111111111111,\"#46039f\"],[0.2222222222222222,\"#7201a8\"],[0.3333333333333333,\"#9c179e\"],[0.4444444444444444,\"#bd3786\"],[0.5555555555555556,\"#d8576b\"],[0.6666666666666666,\"#ed7953\"],[0.7777777777777778,\"#fb9f3a\"],[0.8888888888888888,\"#fdca26\"],[1.0,\"#f0f921\"]]}],\"choropleth\":[{\"type\":\"choropleth\",\"colorbar\":{\"outlinewidth\":0,\"ticks\":\"\"}}],\"histogram2d\":[{\"type\":\"histogram2d\",\"colorbar\":{\"outlinewidth\":0,\"ticks\":\"\"},\"colorscale\":[[0.0,\"#0d0887\"],[0.1111111111111111,\"#46039f\"],[0.2222222222222222,\"#7201a8\"],[0.3333333333333333,\"#9c179e\"],[0.4444444444444444,\"#bd3786\"],[0.5555555555555556,\"#d8576b\"],[0.6666666666666666,\"#ed7953\"],[0.7777777777777778,\"#fb9f3a\"],[0.8888888888888888,\"#fdca26\"],[1.0,\"#f0f921\"]]}],\"heatmap\":[{\"type\":\"heatmap\",\"colorbar\":{\"outlinewidth\":0,\"ticks\":\"\"},\"colorscale\":[[0.0,\"#0d0887\"],[0.1111111111111111,\"#46039f\"],[0.2222222222222222,\"#7201a8\"],[0.3333333333333333,\"#9c179e\"],[0.4444444444444444,\"#bd3786\"],[0.5555555555555556,\"#d8576b\"],[0.6666666666666666,\"#ed7953\"],[0.7777777777777778,\"#fb9f3a\"],[0.8888888888888888,\"#fdca26\"],[1.0,\"#f0f921\"]]}],\"heatmapgl\":[{\"type\":\"heatmapgl\",\"colorbar\":{\"outlinewidth\":0,\"ticks\":\"\"},\"colorscale\":[[0.0,\"#0d0887\"],[0.1111111111111111,\"#46039f\"],[0.2222222222222222,\"#7201a8\"],[0.3333333333333333,\"#9c179e\"],[0.4444444444444444,\"#bd3786\"],[0.5555555555555556,\"#d8576b\"],[0.6666666666666666,\"#ed7953\"],[0.7777777777777778,\"#fb9f3a\"],[0.8888888888888888,\"#fdca26\"],[1.0,\"#f0f921\"]]}],\"contourcarpet\":[{\"type\":\"contourcarpet\",\"colorbar\":{\"outlinewidth\":0,\"ticks\":\"\"}}],\"contour\":[{\"type\":\"contour\",\"colorbar\":{\"outlinewidth\":0,\"ticks\":\"\"},\"colorscale\":[[0.0,\"#0d0887\"],[0.1111111111111111,\"#46039f\"],[0.2222222222222222,\"#7201a8\"],[0.3333333333333333,\"#9c179e\"],[0.4444444444444444,\"#bd3786\"],[0.5555555555555556,\"#d8576b\"],[0.6666666666666666,\"#ed7953\"],[0.7777777777777778,\"#fb9f3a\"],[0.8888888888888888,\"#fdca26\"],[1.0,\"#f0f921\"]]}],\"surface\":[{\"type\":\"surface\",\"colorbar\":{\"outlinewidth\":0,\"ticks\":\"\"},\"colorscale\":[[0.0,\"#0d0887\"],[0.1111111111111111,\"#46039f\"],[0.2222222222222222,\"#7201a8\"],[0.3333333333333333,\"#9c179e\"],[0.4444444444444444,\"#bd3786\"],[0.5555555555555556,\"#d8576b\"],[0.6666666666666666,\"#ed7953\"],[0.7777777777777778,\"#fb9f3a\"],[0.8888888888888888,\"#fdca26\"],[1.0,\"#f0f921\"]]}],\"mesh3d\":[{\"type\":\"mesh3d\",\"colorbar\":{\"outlinewidth\":0,\"ticks\":\"\"}}],\"scatter\":[{\"fillpattern\":{\"fillmode\":\"overlay\",\"size\":10,\"solidity\":0.2},\"type\":\"scatter\"}],\"parcoords\":[{\"type\":\"parcoords\",\"line\":{\"colorbar\":{\"outlinewidth\":0,\"ticks\":\"\"}}}],\"scatterpolargl\":[{\"type\":\"scatterpolargl\",\"marker\":{\"colorbar\":{\"outlinewidth\":0,\"ticks\":\"\"}}}],\"bar\":[{\"error_x\":{\"color\":\"#2a3f5f\"},\"error_y\":{\"color\":\"#2a3f5f\"},\"marker\":{\"line\":{\"color\":\"#E5ECF6\",\"width\":0.5},\"pattern\":{\"fillmode\":\"overlay\",\"size\":10,\"solidity\":0.2}},\"type\":\"bar\"}],\"scattergeo\":[{\"type\":\"scattergeo\",\"marker\":{\"colorbar\":{\"outlinewidth\":0,\"ticks\":\"\"}}}],\"scatterpolar\":[{\"type\":\"scatterpolar\",\"marker\":{\"colorbar\":{\"outlinewidth\":0,\"ticks\":\"\"}}}],\"histogram\":[{\"marker\":{\"pattern\":{\"fillmode\":\"overlay\",\"size\":10,\"solidity\":0.2}},\"type\":\"histogram\"}],\"scattergl\":[{\"type\":\"scattergl\",\"marker\":{\"colorbar\":{\"outlinewidth\":0,\"ticks\":\"\"}}}],\"scatter3d\":[{\"type\":\"scatter3d\",\"line\":{\"colorbar\":{\"outlinewidth\":0,\"ticks\":\"\"}},\"marker\":{\"colorbar\":{\"outlinewidth\":0,\"ticks\":\"\"}}}],\"scattermapbox\":[{\"type\":\"scattermapbox\",\"marker\":{\"colorbar\":{\"outlinewidth\":0,\"ticks\":\"\"}}}],\"scatterternary\":[{\"type\":\"scatterternary\",\"marker\":{\"colorbar\":{\"outlinewidth\":0,\"ticks\":\"\"}}}],\"scattercarpet\":[{\"type\":\"scattercarpet\",\"marker\":{\"colorbar\":{\"outlinewidth\":0,\"ticks\":\"\"}}}],\"carpet\":[{\"aaxis\":{\"endlinecolor\":\"#2a3f5f\",\"gridcolor\":\"white\",\"linecolor\":\"white\",\"minorgridcolor\":\"white\",\"startlinecolor\":\"#2a3f5f\"},\"baxis\":{\"endlinecolor\":\"#2a3f5f\",\"gridcolor\":\"white\",\"linecolor\":\"white\",\"minorgridcolor\":\"white\",\"startlinecolor\":\"#2a3f5f\"},\"type\":\"carpet\"}],\"table\":[{\"cells\":{\"fill\":{\"color\":\"#EBF0F8\"},\"line\":{\"color\":\"white\"}},\"header\":{\"fill\":{\"color\":\"#C8D4E3\"},\"line\":{\"color\":\"white\"}},\"type\":\"table\"}],\"barpolar\":[{\"marker\":{\"line\":{\"color\":\"#E5ECF6\",\"width\":0.5},\"pattern\":{\"fillmode\":\"overlay\",\"size\":10,\"solidity\":0.2}},\"type\":\"barpolar\"}],\"pie\":[{\"automargin\":true,\"type\":\"pie\"}]},\"layout\":{\"autotypenumbers\":\"strict\",\"colorway\":[\"#636efa\",\"#EF553B\",\"#00cc96\",\"#ab63fa\",\"#FFA15A\",\"#19d3f3\",\"#FF6692\",\"#B6E880\",\"#FF97FF\",\"#FECB52\"],\"font\":{\"color\":\"#2a3f5f\"},\"hovermode\":\"closest\",\"hoverlabel\":{\"align\":\"left\"},\"paper_bgcolor\":\"white\",\"plot_bgcolor\":\"#E5ECF6\",\"polar\":{\"bgcolor\":\"#E5ECF6\",\"angularaxis\":{\"gridcolor\":\"white\",\"linecolor\":\"white\",\"ticks\":\"\"},\"radialaxis\":{\"gridcolor\":\"white\",\"linecolor\":\"white\",\"ticks\":\"\"}},\"ternary\":{\"bgcolor\":\"#E5ECF6\",\"aaxis\":{\"gridcolor\":\"white\",\"linecolor\":\"white\",\"ticks\":\"\"},\"baxis\":{\"gridcolor\":\"white\",\"linecolor\":\"white\",\"ticks\":\"\"},\"caxis\":{\"gridcolor\":\"white\",\"linecolor\":\"white\",\"ticks\":\"\"}},\"coloraxis\":{\"colorbar\":{\"outlinewidth\":0,\"ticks\":\"\"}},\"colorscale\":{\"sequential\":[[0.0,\"#0d0887\"],[0.1111111111111111,\"#46039f\"],[0.2222222222222222,\"#7201a8\"],[0.3333333333333333,\"#9c179e\"],[0.4444444444444444,\"#bd3786\"],[0.5555555555555556,\"#d8576b\"],[0.6666666666666666,\"#ed7953\"],[0.7777777777777778,\"#fb9f3a\"],[0.8888888888888888,\"#fdca26\"],[1.0,\"#f0f921\"]],\"sequentialminus\":[[0.0,\"#0d0887\"],[0.1111111111111111,\"#46039f\"],[0.2222222222222222,\"#7201a8\"],[0.3333333333333333,\"#9c179e\"],[0.4444444444444444,\"#bd3786\"],[0.5555555555555556,\"#d8576b\"],[0.6666666666666666,\"#ed7953\"],[0.7777777777777778,\"#fb9f3a\"],[0.8888888888888888,\"#fdca26\"],[1.0,\"#f0f921\"]],\"diverging\":[[0,\"#8e0152\"],[0.1,\"#c51b7d\"],[0.2,\"#de77ae\"],[0.3,\"#f1b6da\"],[0.4,\"#fde0ef\"],[0.5,\"#f7f7f7\"],[0.6,\"#e6f5d0\"],[0.7,\"#b8e186\"],[0.8,\"#7fbc41\"],[0.9,\"#4d9221\"],[1,\"#276419\"]]},\"xaxis\":{\"gridcolor\":\"white\",\"linecolor\":\"white\",\"ticks\":\"\",\"title\":{\"standoff\":15},\"zerolinecolor\":\"white\",\"automargin\":true,\"zerolinewidth\":2},\"yaxis\":{\"gridcolor\":\"white\",\"linecolor\":\"white\",\"ticks\":\"\",\"title\":{\"standoff\":15},\"zerolinecolor\":\"white\",\"automargin\":true,\"zerolinewidth\":2},\"scene\":{\"xaxis\":{\"backgroundcolor\":\"#E5ECF6\",\"gridcolor\":\"white\",\"linecolor\":\"white\",\"showbackground\":true,\"ticks\":\"\",\"zerolinecolor\":\"white\",\"gridwidth\":2},\"yaxis\":{\"backgroundcolor\":\"#E5ECF6\",\"gridcolor\":\"white\",\"linecolor\":\"white\",\"showbackground\":true,\"ticks\":\"\",\"zerolinecolor\":\"white\",\"gridwidth\":2},\"zaxis\":{\"backgroundcolor\":\"#E5ECF6\",\"gridcolor\":\"white\",\"linecolor\":\"white\",\"showbackground\":true,\"ticks\":\"\",\"zerolinecolor\":\"white\",\"gridwidth\":2}},\"shapedefaults\":{\"line\":{\"color\":\"#2a3f5f\"}},\"annotationdefaults\":{\"arrowcolor\":\"#2a3f5f\",\"arrowhead\":0,\"arrowwidth\":1},\"geo\":{\"bgcolor\":\"white\",\"landcolor\":\"#E5ECF6\",\"subunitcolor\":\"white\",\"showland\":true,\"showlakes\":true,\"lakecolor\":\"white\"},\"title\":{\"x\":0.05},\"mapbox\":{\"style\":\"light\"}}},\"xaxis\":{\"anchor\":\"y\",\"domain\":[0.0,1.0],\"title\":{\"text\":\"Date\"},\"dtick\":\"M1\",\"tickformat\":\"%b-%Y\"},\"yaxis\":{\"anchor\":\"x\",\"domain\":[0.0,1.0],\"title\":{\"text\":\"People served (qty)\"}},\"legend\":{\"title\":{\"text\":\"Sector\"},\"tracegroupgap\":0},\"title\":{\"text\":\"Total people served to Category III\"}},                        {\"responsive\": true}                    ).then(function(){\n",
       "                            \n",
       "var gd = document.getElementById('b470f776-5342-4b2a-ac17-21cec6922938');\n",
       "var x = new MutationObserver(function (mutations, observer) {{\n",
       "        var display = window.getComputedStyle(gd).display;\n",
       "        if (!display || display === 'none') {{\n",
       "            console.log([gd, 'removed!']);\n",
       "            Plotly.purge(gd);\n",
       "            observer.disconnect();\n",
       "        }}\n",
       "}});\n",
       "\n",
       "// Listen for the removal of the full notebook cells\n",
       "var notebookContainer = gd.closest('#notebook-container');\n",
       "if (notebookContainer) {{\n",
       "    x.observe(notebookContainer, {childList: true});\n",
       "}}\n",
       "\n",
       "// Listen for the clearing of the current output cell\n",
       "var outputEl = gd.closest('.output');\n",
       "if (outputEl) {{\n",
       "    x.observe(outputEl, {childList: true});\n",
       "}}\n",
       "\n",
       "                        })                };                });            </script>        </div>"
      ]
     },
     "metadata": {},
     "output_type": "display_data"
    }
   ],
   "source": [
    "df = data_temp\n",
    "columns_name = list(df.columns)[1:]\n",
    "fig = px.line(df, \n",
    "              x=\"DATE\", \n",
    "              y=columns_name,\n",
    "              hover_data={\"DATE\": \"|%Y %M\"},\n",
    "              labels={\n",
    "                     \"value\": \"People served (qty)\",\n",
    "                     \"DATE\": \"Date\",\n",
    "                     \"variable\": \"Sector\"\n",
    "                 },\n",
    "              title='Total people served to Category ' + CATEGORIA_STUDIO)\n",
    "\n",
    "# fig = px.scatter(data_temp, x=\"DATE\", y=data_temp.columns,\n",
    "#               hover_data={\"DATE\": \"|%Y %M\"},\n",
    "#               labels={\n",
    "#                      \"value\": \"People served (qty)\",\n",
    "#                      \"DATE\": \"Date\",\n",
    "#                      \"SECTOR2\": \"Sector\"\n",
    "#                  },\n",
    "#               title='Total people served to Category ' + CATEGORIA_STUDIO)\n",
    "\n",
    "fig.update_xaxes(\n",
    "    dtick=\"M1\",\n",
    "    tickformat=\"%b-%Y\")\n",
    "fig.show()"
   ]
  },
  {
   "cell_type": "code",
   "execution_count": 178,
   "id": "e6cf6242",
   "metadata": {},
   "outputs": [],
   "source": [
    "data_temp = all_data[all_data['CATEGORY2']==CATEGORIA_STUDIO]\n",
    "data_temp =  data_temp.groupby(['DATE', 'SECTOR2', 'DISEASE_GROUP']).agg({ 'QTY_PEOPLE_SERVED': \"sum\"})\n",
    "data_temp = data_temp.reset_index()\n",
    "\n",
    "data_temp['QTY_PEOPLE_SERVED'] =data_temp['QTY_PEOPLE_SERVED'].mask((data_temp['DATE'].dt.year==2018) & (data_temp['DATE'].dt.month==4),0)\n",
    "\n",
    "data_temp = data_temp.pivot_table(index=['DATE'], \n",
    "                                  columns=['SECTOR2','DISEASE_GROUP'], \n",
    "                                  values='QTY_PEOPLE_SERVED').fillna(0)\n",
    "data_temp = data_temp.reset_index()"
   ]
  },
  {
   "cell_type": "code",
   "execution_count": 179,
   "id": "dcbcedab",
   "metadata": {
    "scrolled": false
   },
   "outputs": [
    {
     "data": {
      "application/vnd.plotly.v1+json": {
       "config": {
        "plotlyServerURL": "https://plot.ly"
       },
       "data": [
        {
         "hovertemplate": "variable=Abnormal clinical and laboratory symptoms, signs, and findings, not elsewhere classified<br>Date=%{x|%Y %M}<br>People served (qty)=%{y}<extra></extra>",
         "legendgroup": "Abnormal clinical and laboratory symptoms, signs, and findings, not elsewhere classified",
         "marker": {
          "color": "#ff0029",
          "symbol": "circle"
         },
         "mode": "markers",
         "name": "Abnormal clinical and laboratory symptoms, signs, and findings, not elsewhere classified",
         "showlegend": true,
         "type": "scattergl",
         "x": [
          "2018-01-01T00:00:00",
          "2018-02-01T00:00:00",
          "2018-03-01T00:00:00",
          "2018-04-01T00:00:00",
          "2018-05-01T00:00:00",
          "2018-06-01T00:00:00",
          "2018-07-01T00:00:00",
          "2018-08-01T00:00:00",
          "2018-09-01T00:00:00",
          "2018-10-01T00:00:00",
          "2018-11-01T00:00:00",
          "2018-12-01T00:00:00",
          "2019-01-01T00:00:00",
          "2019-02-01T00:00:00",
          "2019-03-01T00:00:00",
          "2019-04-01T00:00:00",
          "2019-05-01T00:00:00",
          "2019-06-01T00:00:00",
          "2019-07-01T00:00:00",
          "2019-08-01T00:00:00",
          "2019-09-01T00:00:00",
          "2019-10-01T00:00:00",
          "2019-11-01T00:00:00",
          "2019-12-01T00:00:00",
          "2020-01-01T00:00:00",
          "2020-02-01T00:00:00",
          "2020-03-01T00:00:00",
          "2020-04-01T00:00:00",
          "2020-05-01T00:00:00",
          "2020-06-01T00:00:00",
          "2020-07-01T00:00:00",
          "2020-08-01T00:00:00",
          "2020-09-01T00:00:00",
          "2020-10-01T00:00:00",
          "2020-11-01T00:00:00",
          "2020-12-01T00:00:00",
          "2021-01-01T00:00:00",
          "2021-02-01T00:00:00",
          "2021-03-01T00:00:00",
          "2021-04-01T00:00:00",
          "2021-05-01T00:00:00",
          "2021-06-01T00:00:00",
          "2021-07-01T00:00:00",
          "2021-08-01T00:00:00",
          "2021-09-01T00:00:00",
          "2021-10-01T00:00:00",
          "2021-11-01T00:00:00",
          "2021-12-01T00:00:00"
         ],
         "xaxis": "x",
         "y": [
          7067,
          6953,
          7295,
          0,
          7341,
          7808,
          10589,
          9391,
          7396,
          7439,
          8176,
          8563,
          7803,
          6752,
          7206,
          7215,
          9059,
          14448,
          8185,
          7757,
          7829,
          4168,
          5346,
          6021,
          4951,
          4498,
          3654,
          1249,
          1532,
          2252,
          3423,
          3699,
          4734,
          5083,
          5818,
          6221,
          5725,
          4643,
          5871,
          5316,
          5526,
          5680,
          6217,
          6524,
          6754,
          6934,
          7537,
          6703
         ],
         "yaxis": "y"
        },
        {
         "hovertemplate": "variable=Codes for special situations<br>Date=%{x|%Y %M}<br>People served (qty)=%{y}<extra></extra>",
         "legendgroup": "Codes for special situations",
         "marker": {
          "color": "#ff1200",
          "symbol": "circle"
         },
         "mode": "markers",
         "name": "Codes for special situations",
         "showlegend": true,
         "type": "scattergl",
         "x": [
          "2018-01-01T00:00:00",
          "2018-02-01T00:00:00",
          "2018-03-01T00:00:00",
          "2018-04-01T00:00:00",
          "2018-05-01T00:00:00",
          "2018-06-01T00:00:00",
          "2018-07-01T00:00:00",
          "2018-08-01T00:00:00",
          "2018-09-01T00:00:00",
          "2018-10-01T00:00:00",
          "2018-11-01T00:00:00",
          "2018-12-01T00:00:00",
          "2019-01-01T00:00:00",
          "2019-02-01T00:00:00",
          "2019-03-01T00:00:00",
          "2019-04-01T00:00:00",
          "2019-05-01T00:00:00",
          "2019-06-01T00:00:00",
          "2019-07-01T00:00:00",
          "2019-08-01T00:00:00",
          "2019-09-01T00:00:00",
          "2019-10-01T00:00:00",
          "2019-11-01T00:00:00",
          "2019-12-01T00:00:00",
          "2020-01-01T00:00:00",
          "2020-02-01T00:00:00",
          "2020-03-01T00:00:00",
          "2020-04-01T00:00:00",
          "2020-05-01T00:00:00",
          "2020-06-01T00:00:00",
          "2020-07-01T00:00:00",
          "2020-08-01T00:00:00",
          "2020-09-01T00:00:00",
          "2020-10-01T00:00:00",
          "2020-11-01T00:00:00",
          "2020-12-01T00:00:00",
          "2021-01-01T00:00:00",
          "2021-02-01T00:00:00",
          "2021-03-01T00:00:00",
          "2021-04-01T00:00:00",
          "2021-05-01T00:00:00",
          "2021-06-01T00:00:00",
          "2021-07-01T00:00:00",
          "2021-08-01T00:00:00",
          "2021-09-01T00:00:00",
          "2021-10-01T00:00:00",
          "2021-11-01T00:00:00",
          "2021-12-01T00:00:00"
         ],
         "xaxis": "x",
         "y": [
          0,
          0,
          0,
          0,
          0,
          0,
          0,
          0,
          0,
          0,
          0,
          0,
          0,
          0,
          0,
          0,
          0,
          0,
          0,
          0,
          0,
          0,
          0,
          0,
          0,
          0,
          0,
          6,
          91,
          165,
          2637,
          2575,
          1402,
          794,
          639,
          808,
          2167,
          2801,
          3379,
          3158,
          2192,
          1441,
          1244,
          1232,
          987,
          964,
          1150,
          1993
         ],
         "yaxis": "y"
        },
        {
         "hovertemplate": "variable=Congenital malformations, deformities and chromosomal abnormalities<br>Date=%{x|%Y %M}<br>People served (qty)=%{y}<extra></extra>",
         "legendgroup": "Congenital malformations, deformities and chromosomal abnormalities",
         "marker": {
          "color": "#ff5300",
          "symbol": "circle"
         },
         "mode": "markers",
         "name": "Congenital malformations, deformities and chromosomal abnormalities",
         "showlegend": true,
         "type": "scattergl",
         "x": [
          "2018-01-01T00:00:00",
          "2018-02-01T00:00:00",
          "2018-03-01T00:00:00",
          "2018-04-01T00:00:00",
          "2018-05-01T00:00:00",
          "2018-06-01T00:00:00",
          "2018-07-01T00:00:00",
          "2018-08-01T00:00:00",
          "2018-09-01T00:00:00",
          "2018-10-01T00:00:00",
          "2018-11-01T00:00:00",
          "2018-12-01T00:00:00",
          "2019-01-01T00:00:00",
          "2019-02-01T00:00:00",
          "2019-03-01T00:00:00",
          "2019-04-01T00:00:00",
          "2019-05-01T00:00:00",
          "2019-06-01T00:00:00",
          "2019-07-01T00:00:00",
          "2019-08-01T00:00:00",
          "2019-09-01T00:00:00",
          "2019-10-01T00:00:00",
          "2019-11-01T00:00:00",
          "2019-12-01T00:00:00",
          "2020-01-01T00:00:00",
          "2020-02-01T00:00:00",
          "2020-03-01T00:00:00",
          "2020-04-01T00:00:00",
          "2020-05-01T00:00:00",
          "2020-06-01T00:00:00",
          "2020-07-01T00:00:00",
          "2020-08-01T00:00:00",
          "2020-09-01T00:00:00",
          "2020-10-01T00:00:00",
          "2020-11-01T00:00:00",
          "2020-12-01T00:00:00",
          "2021-01-01T00:00:00",
          "2021-02-01T00:00:00",
          "2021-03-01T00:00:00",
          "2021-04-01T00:00:00",
          "2021-05-01T00:00:00",
          "2021-06-01T00:00:00",
          "2021-07-01T00:00:00",
          "2021-08-01T00:00:00",
          "2021-09-01T00:00:00",
          "2021-10-01T00:00:00",
          "2021-11-01T00:00:00",
          "2021-12-01T00:00:00"
         ],
         "xaxis": "x",
         "y": [
          480,
          402,
          260,
          0,
          290,
          281,
          532,
          460,
          336,
          357,
          313,
          432,
          447,
          405,
          415,
          357,
          358,
          334,
          386,
          406,
          297,
          151,
          206,
          292,
          304,
          205,
          183,
          15,
          47,
          76,
          129,
          140,
          243,
          254,
          305,
          303,
          345,
          214,
          301,
          246,
          258,
          317,
          292,
          346,
          400,
          375,
          437,
          355
         ],
         "yaxis": "y"
        },
        {
         "hovertemplate": "variable=Digestive system diseases<br>Date=%{x|%Y %M}<br>People served (qty)=%{y}<extra></extra>",
         "legendgroup": "Digestive system diseases",
         "marker": {
          "color": "#ff8e00",
          "symbol": "circle"
         },
         "mode": "markers",
         "name": "Digestive system diseases",
         "showlegend": true,
         "type": "scattergl",
         "x": [
          "2018-01-01T00:00:00",
          "2018-02-01T00:00:00",
          "2018-03-01T00:00:00",
          "2018-04-01T00:00:00",
          "2018-05-01T00:00:00",
          "2018-06-01T00:00:00",
          "2018-07-01T00:00:00",
          "2018-08-01T00:00:00",
          "2018-09-01T00:00:00",
          "2018-10-01T00:00:00",
          "2018-11-01T00:00:00",
          "2018-12-01T00:00:00",
          "2019-01-01T00:00:00",
          "2019-02-01T00:00:00",
          "2019-03-01T00:00:00",
          "2019-04-01T00:00:00",
          "2019-05-01T00:00:00",
          "2019-06-01T00:00:00",
          "2019-07-01T00:00:00",
          "2019-08-01T00:00:00",
          "2019-09-01T00:00:00",
          "2019-10-01T00:00:00",
          "2019-11-01T00:00:00",
          "2019-12-01T00:00:00",
          "2020-01-01T00:00:00",
          "2020-02-01T00:00:00",
          "2020-03-01T00:00:00",
          "2020-04-01T00:00:00",
          "2020-05-01T00:00:00",
          "2020-06-01T00:00:00",
          "2020-07-01T00:00:00",
          "2020-08-01T00:00:00",
          "2020-09-01T00:00:00",
          "2020-10-01T00:00:00",
          "2020-11-01T00:00:00",
          "2020-12-01T00:00:00",
          "2021-01-01T00:00:00",
          "2021-02-01T00:00:00",
          "2021-03-01T00:00:00",
          "2021-04-01T00:00:00",
          "2021-05-01T00:00:00",
          "2021-06-01T00:00:00",
          "2021-07-01T00:00:00",
          "2021-08-01T00:00:00",
          "2021-09-01T00:00:00",
          "2021-10-01T00:00:00",
          "2021-11-01T00:00:00",
          "2021-12-01T00:00:00"
         ],
         "xaxis": "x",
         "y": [
          5394,
          4879,
          4498,
          0,
          4005,
          4513,
          10005,
          8316,
          4726,
          4586,
          5072,
          6774,
          4446,
          4426,
          4815,
          3920,
          5174,
          5386,
          5645,
          5263,
          4785,
          1760,
          3419,
          4786,
          2750,
          2100,
          3123,
          494,
          810,
          1543,
          2364,
          2474,
          4091,
          3842,
          4617,
          5614,
          4727,
          3672,
          4155,
          4118,
          4411,
          4616,
          4740,
          4834,
          5198,
          5613,
          6290,
          4584
         ],
         "yaxis": "y"
        },
        {
         "hovertemplate": "variable=Diseases of the blood and hematopoietic organs and other disorders affecting the mechanism of immunity<br>Date=%{x|%Y %M}<br>People served (qty)=%{y}<extra></extra>",
         "legendgroup": "Diseases of the blood and hematopoietic organs and other disorders affecting the mechanism of immunity",
         "marker": {
          "color": "#ffcf00",
          "symbol": "circle"
         },
         "mode": "markers",
         "name": "Diseases of the blood and hematopoietic organs and other disorders affecting the mechanism of immunity",
         "showlegend": true,
         "type": "scattergl",
         "x": [
          "2018-01-01T00:00:00",
          "2018-02-01T00:00:00",
          "2018-03-01T00:00:00",
          "2018-04-01T00:00:00",
          "2018-05-01T00:00:00",
          "2018-06-01T00:00:00",
          "2018-07-01T00:00:00",
          "2018-08-01T00:00:00",
          "2018-09-01T00:00:00",
          "2018-10-01T00:00:00",
          "2018-11-01T00:00:00",
          "2018-12-01T00:00:00",
          "2019-01-01T00:00:00",
          "2019-02-01T00:00:00",
          "2019-03-01T00:00:00",
          "2019-04-01T00:00:00",
          "2019-05-01T00:00:00",
          "2019-06-01T00:00:00",
          "2019-07-01T00:00:00",
          "2019-08-01T00:00:00",
          "2019-09-01T00:00:00",
          "2019-10-01T00:00:00",
          "2019-11-01T00:00:00",
          "2019-12-01T00:00:00",
          "2020-01-01T00:00:00",
          "2020-02-01T00:00:00",
          "2020-03-01T00:00:00",
          "2020-04-01T00:00:00",
          "2020-05-01T00:00:00",
          "2020-06-01T00:00:00",
          "2020-07-01T00:00:00",
          "2020-08-01T00:00:00",
          "2020-09-01T00:00:00",
          "2020-10-01T00:00:00",
          "2020-11-01T00:00:00",
          "2020-12-01T00:00:00",
          "2021-01-01T00:00:00",
          "2021-02-01T00:00:00",
          "2021-03-01T00:00:00",
          "2021-04-01T00:00:00",
          "2021-05-01T00:00:00",
          "2021-06-01T00:00:00",
          "2021-07-01T00:00:00",
          "2021-08-01T00:00:00",
          "2021-09-01T00:00:00",
          "2021-10-01T00:00:00",
          "2021-11-01T00:00:00",
          "2021-12-01T00:00:00"
         ],
         "xaxis": "x",
         "y": [
          953,
          956,
          819,
          0,
          705,
          687,
          1460,
          1189,
          730,
          758,
          731,
          1112,
          1098,
          1146,
          1141,
          1046,
          1012,
          975,
          973,
          1040,
          986,
          309,
          610,
          835,
          686,
          595,
          816,
          82,
          128,
          301,
          494,
          548,
          839,
          867,
          943,
          976,
          1048,
          845,
          1080,
          958,
          1039,
          1195,
          1099,
          1084,
          1058,
          1220,
          1340,
          1199
         ],
         "yaxis": "y"
        },
        {
         "hovertemplate": "variable=Diseases of the circulatory system<br>Date=%{x|%Y %M}<br>People served (qty)=%{y}<extra></extra>",
         "legendgroup": "Diseases of the circulatory system",
         "marker": {
          "color": "#eeff00",
          "symbol": "circle"
         },
         "mode": "markers",
         "name": "Diseases of the circulatory system",
         "showlegend": true,
         "type": "scattergl",
         "x": [
          "2018-01-01T00:00:00",
          "2018-02-01T00:00:00",
          "2018-03-01T00:00:00",
          "2018-04-01T00:00:00",
          "2018-05-01T00:00:00",
          "2018-06-01T00:00:00",
          "2018-07-01T00:00:00",
          "2018-08-01T00:00:00",
          "2018-09-01T00:00:00",
          "2018-10-01T00:00:00",
          "2018-11-01T00:00:00",
          "2018-12-01T00:00:00",
          "2019-01-01T00:00:00",
          "2019-02-01T00:00:00",
          "2019-03-01T00:00:00",
          "2019-04-01T00:00:00",
          "2019-05-01T00:00:00",
          "2019-06-01T00:00:00",
          "2019-07-01T00:00:00",
          "2019-08-01T00:00:00",
          "2019-09-01T00:00:00",
          "2019-10-01T00:00:00",
          "2019-11-01T00:00:00",
          "2019-12-01T00:00:00",
          "2020-01-01T00:00:00",
          "2020-02-01T00:00:00",
          "2020-03-01T00:00:00",
          "2020-04-01T00:00:00",
          "2020-05-01T00:00:00",
          "2020-06-01T00:00:00",
          "2020-07-01T00:00:00",
          "2020-08-01T00:00:00",
          "2020-09-01T00:00:00",
          "2020-10-01T00:00:00",
          "2020-11-01T00:00:00",
          "2020-12-01T00:00:00",
          "2021-01-01T00:00:00",
          "2021-02-01T00:00:00",
          "2021-03-01T00:00:00",
          "2021-04-01T00:00:00",
          "2021-05-01T00:00:00",
          "2021-06-01T00:00:00",
          "2021-07-01T00:00:00",
          "2021-08-01T00:00:00",
          "2021-09-01T00:00:00",
          "2021-10-01T00:00:00",
          "2021-11-01T00:00:00",
          "2021-12-01T00:00:00"
         ],
         "xaxis": "x",
         "y": [
          5441,
          5001,
          4896,
          0,
          4488,
          5079,
          12510,
          9125,
          5155,
          5344,
          5522,
          7659,
          6013,
          5456,
          5753,
          5515,
          6102,
          6187,
          6473,
          5853,
          5268,
          1591,
          3661,
          5211,
          2577,
          1906,
          3800,
          1545,
          1500,
          2241,
          3478,
          3442,
          4763,
          4343,
          4789,
          5308,
          4987,
          3734,
          4694,
          4305,
          4603,
          4830,
          4797,
          4485,
          4622,
          5254,
          5053,
          4186
         ],
         "yaxis": "y"
        },
        {
         "hovertemplate": "variable=Diseases of the ear and mastoid process<br>Date=%{x|%Y %M}<br>People served (qty)=%{y}<extra></extra>",
         "legendgroup": "Diseases of the ear and mastoid process",
         "marker": {
          "color": "#b2ff00",
          "symbol": "circle"
         },
         "mode": "markers",
         "name": "Diseases of the ear and mastoid process",
         "showlegend": true,
         "type": "scattergl",
         "x": [
          "2018-01-01T00:00:00",
          "2018-02-01T00:00:00",
          "2018-03-01T00:00:00",
          "2018-04-01T00:00:00",
          "2018-05-01T00:00:00",
          "2018-06-01T00:00:00",
          "2018-07-01T00:00:00",
          "2018-08-01T00:00:00",
          "2018-09-01T00:00:00",
          "2018-10-01T00:00:00",
          "2018-11-01T00:00:00",
          "2018-12-01T00:00:00",
          "2019-01-01T00:00:00",
          "2019-02-01T00:00:00",
          "2019-03-01T00:00:00",
          "2019-04-01T00:00:00",
          "2019-05-01T00:00:00",
          "2019-06-01T00:00:00",
          "2019-07-01T00:00:00",
          "2019-08-01T00:00:00",
          "2019-09-01T00:00:00",
          "2019-10-01T00:00:00",
          "2019-11-01T00:00:00",
          "2019-12-01T00:00:00",
          "2020-01-01T00:00:00",
          "2020-02-01T00:00:00",
          "2020-03-01T00:00:00",
          "2020-04-01T00:00:00",
          "2020-05-01T00:00:00",
          "2020-06-01T00:00:00",
          "2020-07-01T00:00:00",
          "2020-08-01T00:00:00",
          "2020-09-01T00:00:00",
          "2020-10-01T00:00:00",
          "2020-11-01T00:00:00",
          "2020-12-01T00:00:00",
          "2021-01-01T00:00:00",
          "2021-02-01T00:00:00",
          "2021-03-01T00:00:00",
          "2021-04-01T00:00:00",
          "2021-05-01T00:00:00",
          "2021-06-01T00:00:00",
          "2021-07-01T00:00:00",
          "2021-08-01T00:00:00",
          "2021-09-01T00:00:00",
          "2021-10-01T00:00:00",
          "2021-11-01T00:00:00",
          "2021-12-01T00:00:00"
         ],
         "xaxis": "x",
         "y": [
          1980,
          1672,
          1413,
          0,
          1552,
          1635,
          2950,
          2462,
          1619,
          1627,
          1618,
          2205,
          1782,
          1794,
          1716,
          1641,
          1900,
          2593,
          1913,
          1701,
          1708,
          632,
          1148,
          1550,
          999,
          777,
          928,
          127,
          181,
          446,
          851,
          763,
          1279,
          1211,
          1235,
          1504,
          1395,
          955,
          1227,
          1109,
          1104,
          1240,
          1194,
          1233,
          1168,
          1230,
          1371,
          1031
         ],
         "yaxis": "y"
        },
        {
         "hovertemplate": "variable=Diseases of the eye and its adnexa<br>Date=%{x|%Y %M}<br>People served (qty)=%{y}<extra></extra>",
         "legendgroup": "Diseases of the eye and its adnexa",
         "marker": {
          "color": "#72ff00",
          "symbol": "circle"
         },
         "mode": "markers",
         "name": "Diseases of the eye and its adnexa",
         "showlegend": true,
         "type": "scattergl",
         "x": [
          "2018-01-01T00:00:00",
          "2018-02-01T00:00:00",
          "2018-03-01T00:00:00",
          "2018-04-01T00:00:00",
          "2018-05-01T00:00:00",
          "2018-06-01T00:00:00",
          "2018-07-01T00:00:00",
          "2018-08-01T00:00:00",
          "2018-09-01T00:00:00",
          "2018-10-01T00:00:00",
          "2018-11-01T00:00:00",
          "2018-12-01T00:00:00",
          "2019-01-01T00:00:00",
          "2019-02-01T00:00:00",
          "2019-03-01T00:00:00",
          "2019-04-01T00:00:00",
          "2019-05-01T00:00:00",
          "2019-06-01T00:00:00",
          "2019-07-01T00:00:00",
          "2019-08-01T00:00:00",
          "2019-09-01T00:00:00",
          "2019-10-01T00:00:00",
          "2019-11-01T00:00:00",
          "2019-12-01T00:00:00",
          "2020-01-01T00:00:00",
          "2020-02-01T00:00:00",
          "2020-03-01T00:00:00",
          "2020-04-01T00:00:00",
          "2020-05-01T00:00:00",
          "2020-06-01T00:00:00",
          "2020-07-01T00:00:00",
          "2020-08-01T00:00:00",
          "2020-09-01T00:00:00",
          "2020-10-01T00:00:00",
          "2020-11-01T00:00:00",
          "2020-12-01T00:00:00",
          "2021-01-01T00:00:00",
          "2021-02-01T00:00:00",
          "2021-03-01T00:00:00",
          "2021-04-01T00:00:00",
          "2021-05-01T00:00:00",
          "2021-06-01T00:00:00",
          "2021-07-01T00:00:00",
          "2021-08-01T00:00:00",
          "2021-09-01T00:00:00",
          "2021-10-01T00:00:00",
          "2021-11-01T00:00:00",
          "2021-12-01T00:00:00"
         ],
         "xaxis": "x",
         "y": [
          3740,
          3299,
          2726,
          0,
          2116,
          2339,
          5238,
          4498,
          2481,
          2456,
          2578,
          3960,
          3171,
          2691,
          2671,
          2416,
          2851,
          3202,
          3398,
          3298,
          2990,
          728,
          2186,
          3152,
          1480,
          1143,
          1841,
          98,
          270,
          717,
          1284,
          1229,
          2041,
          2102,
          2609,
          2965,
          2762,
          1814,
          2588,
          2135,
          2654,
          2482,
          2744,
          2417,
          2678,
          2568,
          2686,
          2061
         ],
         "yaxis": "y"
        },
        {
         "hovertemplate": "variable=Diseases of the genitourinary system<br>Date=%{x|%Y %M}<br>People served (qty)=%{y}<extra></extra>",
         "legendgroup": "Diseases of the genitourinary system",
         "marker": {
          "color": "#31ff00",
          "symbol": "circle"
         },
         "mode": "markers",
         "name": "Diseases of the genitourinary system",
         "showlegend": true,
         "type": "scattergl",
         "x": [
          "2018-01-01T00:00:00",
          "2018-02-01T00:00:00",
          "2018-03-01T00:00:00",
          "2018-04-01T00:00:00",
          "2018-05-01T00:00:00",
          "2018-06-01T00:00:00",
          "2018-07-01T00:00:00",
          "2018-08-01T00:00:00",
          "2018-09-01T00:00:00",
          "2018-10-01T00:00:00",
          "2018-11-01T00:00:00",
          "2018-12-01T00:00:00",
          "2019-01-01T00:00:00",
          "2019-02-01T00:00:00",
          "2019-03-01T00:00:00",
          "2019-04-01T00:00:00",
          "2019-05-01T00:00:00",
          "2019-06-01T00:00:00",
          "2019-07-01T00:00:00",
          "2019-08-01T00:00:00",
          "2019-09-01T00:00:00",
          "2019-10-01T00:00:00",
          "2019-11-01T00:00:00",
          "2019-12-01T00:00:00",
          "2020-01-01T00:00:00",
          "2020-02-01T00:00:00",
          "2020-03-01T00:00:00",
          "2020-04-01T00:00:00",
          "2020-05-01T00:00:00",
          "2020-06-01T00:00:00",
          "2020-07-01T00:00:00",
          "2020-08-01T00:00:00",
          "2020-09-01T00:00:00",
          "2020-10-01T00:00:00",
          "2020-11-01T00:00:00",
          "2020-12-01T00:00:00",
          "2021-01-01T00:00:00",
          "2021-02-01T00:00:00",
          "2021-03-01T00:00:00",
          "2021-04-01T00:00:00",
          "2021-05-01T00:00:00",
          "2021-06-01T00:00:00",
          "2021-07-01T00:00:00",
          "2021-08-01T00:00:00",
          "2021-09-01T00:00:00",
          "2021-10-01T00:00:00",
          "2021-11-01T00:00:00",
          "2021-12-01T00:00:00"
         ],
         "xaxis": "x",
         "y": [
          8223,
          7876,
          6946,
          0,
          6499,
          7008,
          14504,
          11768,
          6831,
          7344,
          7272,
          10151,
          8427,
          7934,
          7821,
          7680,
          8461,
          8049,
          8863,
          7990,
          7527,
          2421,
          4972,
          7057,
          4392,
          3328,
          4977,
          340,
          745,
          2147,
          3833,
          3977,
          6005,
          5825,
          7126,
          7880,
          7217,
          5327,
          6694,
          5808,
          6389,
          6389,
          6954,
          6861,
          7206,
          7634,
          8154,
          6394
         ],
         "yaxis": "y"
        },
        {
         "hovertemplate": "variable=Diseases of the musculoskeletal system and connective tissue<br>Date=%{x|%Y %M}<br>People served (qty)=%{y}<extra></extra>",
         "legendgroup": "Diseases of the musculoskeletal system and connective tissue",
         "marker": {
          "color": "#00ff0b",
          "symbol": "circle"
         },
         "mode": "markers",
         "name": "Diseases of the musculoskeletal system and connective tissue",
         "showlegend": true,
         "type": "scattergl",
         "x": [
          "2018-01-01T00:00:00",
          "2018-02-01T00:00:00",
          "2018-03-01T00:00:00",
          "2018-04-01T00:00:00",
          "2018-05-01T00:00:00",
          "2018-06-01T00:00:00",
          "2018-07-01T00:00:00",
          "2018-08-01T00:00:00",
          "2018-09-01T00:00:00",
          "2018-10-01T00:00:00",
          "2018-11-01T00:00:00",
          "2018-12-01T00:00:00",
          "2019-01-01T00:00:00",
          "2019-02-01T00:00:00",
          "2019-03-01T00:00:00",
          "2019-04-01T00:00:00",
          "2019-05-01T00:00:00",
          "2019-06-01T00:00:00",
          "2019-07-01T00:00:00",
          "2019-08-01T00:00:00",
          "2019-09-01T00:00:00",
          "2019-10-01T00:00:00",
          "2019-11-01T00:00:00",
          "2019-12-01T00:00:00",
          "2020-01-01T00:00:00",
          "2020-02-01T00:00:00",
          "2020-03-01T00:00:00",
          "2020-04-01T00:00:00",
          "2020-05-01T00:00:00",
          "2020-06-01T00:00:00",
          "2020-07-01T00:00:00",
          "2020-08-01T00:00:00",
          "2020-09-01T00:00:00",
          "2020-10-01T00:00:00",
          "2020-11-01T00:00:00",
          "2020-12-01T00:00:00",
          "2021-01-01T00:00:00",
          "2021-02-01T00:00:00",
          "2021-03-01T00:00:00",
          "2021-04-01T00:00:00",
          "2021-05-01T00:00:00",
          "2021-06-01T00:00:00",
          "2021-07-01T00:00:00",
          "2021-08-01T00:00:00",
          "2021-09-01T00:00:00",
          "2021-10-01T00:00:00",
          "2021-11-01T00:00:00",
          "2021-12-01T00:00:00"
         ],
         "xaxis": "x",
         "y": [
          9620,
          8993,
          7814,
          0,
          7528,
          7998,
          16973,
          13679,
          7939,
          8438,
          8756,
          11729,
          9608,
          9083,
          9188,
          8984,
          9994,
          10119,
          10007,
          9268,
          8675,
          3305,
          6225,
          8048,
          5115,
          3965,
          5476,
          554,
          827,
          2089,
          3677,
          4024,
          6052,
          6032,
          7472,
          7783,
          7188,
          5179,
          6776,
          5943,
          6598,
          6978,
          7117,
          7243,
          7873,
          8061,
          8456,
          6439
         ],
         "yaxis": "y"
        },
        {
         "hovertemplate": "variable=Diseases of the skin and subcutaneous tissue<br>Date=%{x|%Y %M}<br>People served (qty)=%{y}<extra></extra>",
         "legendgroup": "Diseases of the skin and subcutaneous tissue",
         "marker": {
          "color": "#00ff4b",
          "symbol": "circle"
         },
         "mode": "markers",
         "name": "Diseases of the skin and subcutaneous tissue",
         "showlegend": true,
         "type": "scattergl",
         "x": [
          "2018-01-01T00:00:00",
          "2018-02-01T00:00:00",
          "2018-03-01T00:00:00",
          "2018-04-01T00:00:00",
          "2018-05-01T00:00:00",
          "2018-06-01T00:00:00",
          "2018-07-01T00:00:00",
          "2018-08-01T00:00:00",
          "2018-09-01T00:00:00",
          "2018-10-01T00:00:00",
          "2018-11-01T00:00:00",
          "2018-12-01T00:00:00",
          "2019-01-01T00:00:00",
          "2019-02-01T00:00:00",
          "2019-03-01T00:00:00",
          "2019-04-01T00:00:00",
          "2019-05-01T00:00:00",
          "2019-06-01T00:00:00",
          "2019-07-01T00:00:00",
          "2019-08-01T00:00:00",
          "2019-09-01T00:00:00",
          "2019-10-01T00:00:00",
          "2019-11-01T00:00:00",
          "2019-12-01T00:00:00",
          "2020-01-01T00:00:00",
          "2020-02-01T00:00:00",
          "2020-03-01T00:00:00",
          "2020-04-01T00:00:00",
          "2020-05-01T00:00:00",
          "2020-06-01T00:00:00",
          "2020-07-01T00:00:00",
          "2020-08-01T00:00:00",
          "2020-09-01T00:00:00",
          "2020-10-01T00:00:00",
          "2020-11-01T00:00:00",
          "2020-12-01T00:00:00",
          "2021-01-01T00:00:00",
          "2021-02-01T00:00:00",
          "2021-03-01T00:00:00",
          "2021-04-01T00:00:00",
          "2021-05-01T00:00:00",
          "2021-06-01T00:00:00",
          "2021-07-01T00:00:00",
          "2021-08-01T00:00:00",
          "2021-09-01T00:00:00",
          "2021-10-01T00:00:00",
          "2021-11-01T00:00:00",
          "2021-12-01T00:00:00"
         ],
         "xaxis": "x",
         "y": [
          4481,
          4212,
          3301,
          0,
          3353,
          3570,
          7296,
          6128,
          3428,
          3891,
          4041,
          6032,
          4856,
          4603,
          4511,
          3893,
          4821,
          5045,
          4775,
          4542,
          4371,
          1384,
          2920,
          4175,
          2463,
          2037,
          2549,
          226,
          366,
          931,
          1963,
          2115,
          3306,
          3048,
          3556,
          3850,
          3753,
          2878,
          3491,
          3081,
          3330,
          3308,
          3522,
          3448,
          3834,
          4013,
          4176,
          3471
         ],
         "yaxis": "y"
        },
        {
         "hovertemplate": "variable=Endocrine, nutritional and metabolic diseases<br>Date=%{x|%Y %M}<br>People served (qty)=%{y}<extra></extra>",
         "legendgroup": "Endocrine, nutritional and metabolic diseases",
         "marker": {
          "color": "#00ff8c",
          "symbol": "circle"
         },
         "mode": "markers",
         "name": "Endocrine, nutritional and metabolic diseases",
         "showlegend": true,
         "type": "scattergl",
         "x": [
          "2018-01-01T00:00:00",
          "2018-02-01T00:00:00",
          "2018-03-01T00:00:00",
          "2018-04-01T00:00:00",
          "2018-05-01T00:00:00",
          "2018-06-01T00:00:00",
          "2018-07-01T00:00:00",
          "2018-08-01T00:00:00",
          "2018-09-01T00:00:00",
          "2018-10-01T00:00:00",
          "2018-11-01T00:00:00",
          "2018-12-01T00:00:00",
          "2019-01-01T00:00:00",
          "2019-02-01T00:00:00",
          "2019-03-01T00:00:00",
          "2019-04-01T00:00:00",
          "2019-05-01T00:00:00",
          "2019-06-01T00:00:00",
          "2019-07-01T00:00:00",
          "2019-08-01T00:00:00",
          "2019-09-01T00:00:00",
          "2019-10-01T00:00:00",
          "2019-11-01T00:00:00",
          "2019-12-01T00:00:00",
          "2020-01-01T00:00:00",
          "2020-02-01T00:00:00",
          "2020-03-01T00:00:00",
          "2020-04-01T00:00:00",
          "2020-05-01T00:00:00",
          "2020-06-01T00:00:00",
          "2020-07-01T00:00:00",
          "2020-08-01T00:00:00",
          "2020-09-01T00:00:00",
          "2020-10-01T00:00:00",
          "2020-11-01T00:00:00",
          "2020-12-01T00:00:00",
          "2021-01-01T00:00:00",
          "2021-02-01T00:00:00",
          "2021-03-01T00:00:00",
          "2021-04-01T00:00:00",
          "2021-05-01T00:00:00",
          "2021-06-01T00:00:00",
          "2021-07-01T00:00:00",
          "2021-08-01T00:00:00",
          "2021-09-01T00:00:00",
          "2021-10-01T00:00:00",
          "2021-11-01T00:00:00",
          "2021-12-01T00:00:00"
         ],
         "xaxis": "x",
         "y": [
          6235,
          5594,
          5211,
          0,
          4956,
          4854,
          10010,
          8539,
          5286,
          5590,
          5288,
          7720,
          6563,
          6245,
          6439,
          6080,
          6297,
          6239,
          6529,
          6329,
          6405,
          2352,
          4251,
          5694,
          3755,
          3221,
          4080,
          984,
          1051,
          2030,
          3203,
          3500,
          4935,
          4739,
          5454,
          5723,
          5539,
          4729,
          5512,
          5088,
          5172,
          5525,
          5882,
          5799,
          6154,
          6447,
          7371,
          5966
         ],
         "yaxis": "y"
        },
        {
         "hovertemplate": "variable=External causes of morbidity and mortality<br>Date=%{x|%Y %M}<br>People served (qty)=%{y}<extra></extra>",
         "legendgroup": "External causes of morbidity and mortality",
         "marker": {
          "color": "#00ffc7",
          "symbol": "circle"
         },
         "mode": "markers",
         "name": "External causes of morbidity and mortality",
         "showlegend": true,
         "type": "scattergl",
         "x": [
          "2018-01-01T00:00:00",
          "2018-02-01T00:00:00",
          "2018-03-01T00:00:00",
          "2018-04-01T00:00:00",
          "2018-05-01T00:00:00",
          "2018-06-01T00:00:00",
          "2018-07-01T00:00:00",
          "2018-08-01T00:00:00",
          "2018-09-01T00:00:00",
          "2018-10-01T00:00:00",
          "2018-11-01T00:00:00",
          "2018-12-01T00:00:00",
          "2019-01-01T00:00:00",
          "2019-02-01T00:00:00",
          "2019-03-01T00:00:00",
          "2019-04-01T00:00:00",
          "2019-05-01T00:00:00",
          "2019-06-01T00:00:00",
          "2019-07-01T00:00:00",
          "2019-08-01T00:00:00",
          "2019-09-01T00:00:00",
          "2019-10-01T00:00:00",
          "2019-11-01T00:00:00",
          "2019-12-01T00:00:00",
          "2020-01-01T00:00:00",
          "2020-02-01T00:00:00",
          "2020-03-01T00:00:00",
          "2020-04-01T00:00:00",
          "2020-05-01T00:00:00",
          "2020-06-01T00:00:00",
          "2020-07-01T00:00:00",
          "2020-08-01T00:00:00",
          "2020-09-01T00:00:00",
          "2020-10-01T00:00:00",
          "2020-11-01T00:00:00",
          "2020-12-01T00:00:00",
          "2021-01-01T00:00:00",
          "2021-02-01T00:00:00",
          "2021-03-01T00:00:00",
          "2021-04-01T00:00:00",
          "2021-05-01T00:00:00",
          "2021-06-01T00:00:00",
          "2021-07-01T00:00:00",
          "2021-08-01T00:00:00",
          "2021-09-01T00:00:00",
          "2021-10-01T00:00:00",
          "2021-11-01T00:00:00",
          "2021-12-01T00:00:00"
         ],
         "xaxis": "x",
         "y": [
          471,
          500,
          514,
          0,
          508,
          485,
          406,
          430,
          482,
          459,
          535,
          542,
          630,
          530,
          535,
          519,
          577,
          639,
          452,
          438,
          514,
          275,
          284,
          349,
          331,
          310,
          278,
          128,
          123,
          142,
          215,
          236,
          246,
          270,
          299,
          362,
          379,
          296,
          535,
          421,
          499,
          382,
          427,
          535,
          508,
          539,
          563,
          515
         ],
         "yaxis": "y"
        },
        {
         "hovertemplate": "variable=Factors influencing health status and contact with health services<br>Date=%{x|%Y %M}<br>People served (qty)=%{y}<extra></extra>",
         "legendgroup": "Factors influencing health status and contact with health services",
         "marker": {
          "color": "#00f6ff",
          "symbol": "circle"
         },
         "mode": "markers",
         "name": "Factors influencing health status and contact with health services",
         "showlegend": true,
         "type": "scattergl",
         "x": [
          "2018-01-01T00:00:00",
          "2018-02-01T00:00:00",
          "2018-03-01T00:00:00",
          "2018-04-01T00:00:00",
          "2018-05-01T00:00:00",
          "2018-06-01T00:00:00",
          "2018-07-01T00:00:00",
          "2018-08-01T00:00:00",
          "2018-09-01T00:00:00",
          "2018-10-01T00:00:00",
          "2018-11-01T00:00:00",
          "2018-12-01T00:00:00",
          "2019-01-01T00:00:00",
          "2019-02-01T00:00:00",
          "2019-03-01T00:00:00",
          "2019-04-01T00:00:00",
          "2019-05-01T00:00:00",
          "2019-06-01T00:00:00",
          "2019-07-01T00:00:00",
          "2019-08-01T00:00:00",
          "2019-09-01T00:00:00",
          "2019-10-01T00:00:00",
          "2019-11-01T00:00:00",
          "2019-12-01T00:00:00",
          "2020-01-01T00:00:00",
          "2020-02-01T00:00:00",
          "2020-03-01T00:00:00",
          "2020-04-01T00:00:00",
          "2020-05-01T00:00:00",
          "2020-06-01T00:00:00",
          "2020-07-01T00:00:00",
          "2020-08-01T00:00:00",
          "2020-09-01T00:00:00",
          "2020-10-01T00:00:00",
          "2020-11-01T00:00:00",
          "2020-12-01T00:00:00",
          "2021-01-01T00:00:00",
          "2021-02-01T00:00:00",
          "2021-03-01T00:00:00",
          "2021-04-01T00:00:00",
          "2021-05-01T00:00:00",
          "2021-06-01T00:00:00",
          "2021-07-01T00:00:00",
          "2021-08-01T00:00:00",
          "2021-09-01T00:00:00",
          "2021-10-01T00:00:00",
          "2021-11-01T00:00:00",
          "2021-12-01T00:00:00"
         ],
         "xaxis": "x",
         "y": [
          8182,
          7863,
          7197,
          0,
          8508,
          8396,
          12382,
          10129,
          7919,
          8402,
          7224,
          9645,
          9579,
          8189,
          8316,
          7694,
          7544,
          7761,
          8590,
          8664,
          8312,
          4837,
          6321,
          7246,
          6756,
          5859,
          4694,
          1258,
          2097,
          3121,
          4173,
          4243,
          5009,
          5339,
          5904,
          5762,
          5927,
          4968,
          6133,
          5857,
          6111,
          6499,
          6571,
          6777,
          7235,
          7339,
          7280,
          6536
         ],
         "yaxis": "y"
        },
        {
         "hovertemplate": "variable=Injuries, poisoning and some other consequences of external causes<br>Date=%{x|%Y %M}<br>People served (qty)=%{y}<extra></extra>",
         "legendgroup": "Injuries, poisoning and some other consequences of external causes",
         "marker": {
          "color": "#00bbff",
          "symbol": "circle"
         },
         "mode": "markers",
         "name": "Injuries, poisoning and some other consequences of external causes",
         "showlegend": true,
         "type": "scattergl",
         "x": [
          "2018-01-01T00:00:00",
          "2018-02-01T00:00:00",
          "2018-03-01T00:00:00",
          "2018-04-01T00:00:00",
          "2018-05-01T00:00:00",
          "2018-06-01T00:00:00",
          "2018-07-01T00:00:00",
          "2018-08-01T00:00:00",
          "2018-09-01T00:00:00",
          "2018-10-01T00:00:00",
          "2018-11-01T00:00:00",
          "2018-12-01T00:00:00",
          "2019-01-01T00:00:00",
          "2019-02-01T00:00:00",
          "2019-03-01T00:00:00",
          "2019-04-01T00:00:00",
          "2019-05-01T00:00:00",
          "2019-06-01T00:00:00",
          "2019-07-01T00:00:00",
          "2019-08-01T00:00:00",
          "2019-09-01T00:00:00",
          "2019-10-01T00:00:00",
          "2019-11-01T00:00:00",
          "2019-12-01T00:00:00",
          "2020-01-01T00:00:00",
          "2020-02-01T00:00:00",
          "2020-03-01T00:00:00",
          "2020-04-01T00:00:00",
          "2020-05-01T00:00:00",
          "2020-06-01T00:00:00",
          "2020-07-01T00:00:00",
          "2020-08-01T00:00:00",
          "2020-09-01T00:00:00",
          "2020-10-01T00:00:00",
          "2020-11-01T00:00:00",
          "2020-12-01T00:00:00",
          "2021-01-01T00:00:00",
          "2021-02-01T00:00:00",
          "2021-03-01T00:00:00",
          "2021-04-01T00:00:00",
          "2021-05-01T00:00:00",
          "2021-06-01T00:00:00",
          "2021-07-01T00:00:00",
          "2021-08-01T00:00:00",
          "2021-09-01T00:00:00",
          "2021-10-01T00:00:00",
          "2021-11-01T00:00:00",
          "2021-12-01T00:00:00"
         ],
         "xaxis": "x",
         "y": [
          5454,
          5236,
          5208,
          0,
          5270,
          5389,
          8075,
          7449,
          5640,
          5727,
          7076,
          6774,
          5885,
          5229,
          5748,
          6068,
          7219,
          11439,
          6148,
          6062,
          6199,
          3450,
          4591,
          5113,
          3954,
          3693,
          2887,
          665,
          769,
          1164,
          2066,
          2071,
          2762,
          3104,
          3425,
          3873,
          3612,
          2713,
          3574,
          3136,
          3323,
          3456,
          3816,
          4013,
          4109,
          4434,
          4661,
          4315
         ],
         "yaxis": "y"
        },
        {
         "hovertemplate": "variable=Mental and behavioral disorders<br>Date=%{x|%Y %M}<br>People served (qty)=%{y}<extra></extra>",
         "legendgroup": "Mental and behavioral disorders",
         "marker": {
          "color": "#0079ff",
          "symbol": "circle"
         },
         "mode": "markers",
         "name": "Mental and behavioral disorders",
         "showlegend": true,
         "type": "scattergl",
         "x": [
          "2018-01-01T00:00:00",
          "2018-02-01T00:00:00",
          "2018-03-01T00:00:00",
          "2018-04-01T00:00:00",
          "2018-05-01T00:00:00",
          "2018-06-01T00:00:00",
          "2018-07-01T00:00:00",
          "2018-08-01T00:00:00",
          "2018-09-01T00:00:00",
          "2018-10-01T00:00:00",
          "2018-11-01T00:00:00",
          "2018-12-01T00:00:00",
          "2019-01-01T00:00:00",
          "2019-02-01T00:00:00",
          "2019-03-01T00:00:00",
          "2019-04-01T00:00:00",
          "2019-05-01T00:00:00",
          "2019-06-01T00:00:00",
          "2019-07-01T00:00:00",
          "2019-08-01T00:00:00",
          "2019-09-01T00:00:00",
          "2019-10-01T00:00:00",
          "2019-11-01T00:00:00",
          "2019-12-01T00:00:00",
          "2020-01-01T00:00:00",
          "2020-02-01T00:00:00",
          "2020-03-01T00:00:00",
          "2020-04-01T00:00:00",
          "2020-05-01T00:00:00",
          "2020-06-01T00:00:00",
          "2020-07-01T00:00:00",
          "2020-08-01T00:00:00",
          "2020-09-01T00:00:00",
          "2020-10-01T00:00:00",
          "2020-11-01T00:00:00",
          "2020-12-01T00:00:00",
          "2021-01-01T00:00:00",
          "2021-02-01T00:00:00",
          "2021-03-01T00:00:00",
          "2021-04-01T00:00:00",
          "2021-05-01T00:00:00",
          "2021-06-01T00:00:00",
          "2021-07-01T00:00:00",
          "2021-08-01T00:00:00",
          "2021-09-01T00:00:00",
          "2021-10-01T00:00:00",
          "2021-11-01T00:00:00",
          "2021-12-01T00:00:00"
         ],
         "xaxis": "x",
         "y": [
          858,
          818,
          915,
          0,
          744,
          888,
          2126,
          1392,
          749,
          715,
          762,
          1219,
          946,
          917,
          869,
          835,
          939,
          904,
          962,
          983,
          908,
          305,
          816,
          822,
          351,
          378,
          575,
          125,
          159,
          225,
          428,
          476,
          680,
          717,
          750,
          811,
          812,
          661,
          824,
          698,
          764,
          723,
          643,
          621,
          749,
          625,
          722,
          498
         ],
         "yaxis": "y"
        },
        {
         "hovertemplate": "variable=Neoplasms<br>Date=%{x|%Y %M}<br>People served (qty)=%{y}<extra></extra>",
         "legendgroup": "Neoplasms",
         "marker": {
          "color": "#0038ff",
          "symbol": "circle"
         },
         "mode": "markers",
         "name": "Neoplasms",
         "showlegend": true,
         "type": "scattergl",
         "x": [
          "2018-01-01T00:00:00",
          "2018-02-01T00:00:00",
          "2018-03-01T00:00:00",
          "2018-04-01T00:00:00",
          "2018-05-01T00:00:00",
          "2018-06-01T00:00:00",
          "2018-07-01T00:00:00",
          "2018-08-01T00:00:00",
          "2018-09-01T00:00:00",
          "2018-10-01T00:00:00",
          "2018-11-01T00:00:00",
          "2018-12-01T00:00:00",
          "2019-01-01T00:00:00",
          "2019-02-01T00:00:00",
          "2019-03-01T00:00:00",
          "2019-04-01T00:00:00",
          "2019-05-01T00:00:00",
          "2019-06-01T00:00:00",
          "2019-07-01T00:00:00",
          "2019-08-01T00:00:00",
          "2019-09-01T00:00:00",
          "2019-10-01T00:00:00",
          "2019-11-01T00:00:00",
          "2019-12-01T00:00:00",
          "2020-01-01T00:00:00",
          "2020-02-01T00:00:00",
          "2020-03-01T00:00:00",
          "2020-04-01T00:00:00",
          "2020-05-01T00:00:00",
          "2020-06-01T00:00:00",
          "2020-07-01T00:00:00",
          "2020-08-01T00:00:00",
          "2020-09-01T00:00:00",
          "2020-10-01T00:00:00",
          "2020-11-01T00:00:00",
          "2020-12-01T00:00:00",
          "2021-01-01T00:00:00",
          "2021-02-01T00:00:00",
          "2021-03-01T00:00:00",
          "2021-04-01T00:00:00",
          "2021-05-01T00:00:00",
          "2021-06-01T00:00:00",
          "2021-07-01T00:00:00",
          "2021-08-01T00:00:00",
          "2021-09-01T00:00:00",
          "2021-10-01T00:00:00",
          "2021-11-01T00:00:00",
          "2021-12-01T00:00:00"
         ],
         "xaxis": "x",
         "y": [
          3083,
          2984,
          2869,
          0,
          3237,
          3109,
          5569,
          4700,
          3207,
          3275,
          3572,
          4206,
          3679,
          3220,
          3489,
          3022,
          3328,
          3552,
          3798,
          3648,
          3703,
          1915,
          2870,
          3286,
          2822,
          2576,
          2468,
          967,
          1239,
          1776,
          2333,
          2499,
          3381,
          3604,
          4057,
          4068,
          3931,
          3246,
          3929,
          3532,
          3694,
          3899,
          3783,
          4047,
          4396,
          4297,
          4951,
          3784
         ],
         "yaxis": "y"
        },
        {
         "hovertemplate": "variable=Nervous system diseases<br>Date=%{x|%Y %M}<br>People served (qty)=%{y}<extra></extra>",
         "legendgroup": "Nervous system diseases",
         "marker": {
          "color": "#0400ff",
          "symbol": "circle"
         },
         "mode": "markers",
         "name": "Nervous system diseases",
         "showlegend": true,
         "type": "scattergl",
         "x": [
          "2018-01-01T00:00:00",
          "2018-02-01T00:00:00",
          "2018-03-01T00:00:00",
          "2018-04-01T00:00:00",
          "2018-05-01T00:00:00",
          "2018-06-01T00:00:00",
          "2018-07-01T00:00:00",
          "2018-08-01T00:00:00",
          "2018-09-01T00:00:00",
          "2018-10-01T00:00:00",
          "2018-11-01T00:00:00",
          "2018-12-01T00:00:00",
          "2019-01-01T00:00:00",
          "2019-02-01T00:00:00",
          "2019-03-01T00:00:00",
          "2019-04-01T00:00:00",
          "2019-05-01T00:00:00",
          "2019-06-01T00:00:00",
          "2019-07-01T00:00:00",
          "2019-08-01T00:00:00",
          "2019-09-01T00:00:00",
          "2019-10-01T00:00:00",
          "2019-11-01T00:00:00",
          "2019-12-01T00:00:00",
          "2020-01-01T00:00:00",
          "2020-02-01T00:00:00",
          "2020-03-01T00:00:00",
          "2020-04-01T00:00:00",
          "2020-05-01T00:00:00",
          "2020-06-01T00:00:00",
          "2020-07-01T00:00:00",
          "2020-08-01T00:00:00",
          "2020-09-01T00:00:00",
          "2020-10-01T00:00:00",
          "2020-11-01T00:00:00",
          "2020-12-01T00:00:00",
          "2021-01-01T00:00:00",
          "2021-02-01T00:00:00",
          "2021-03-01T00:00:00",
          "2021-04-01T00:00:00",
          "2021-05-01T00:00:00",
          "2021-06-01T00:00:00",
          "2021-07-01T00:00:00",
          "2021-08-01T00:00:00",
          "2021-09-01T00:00:00",
          "2021-10-01T00:00:00",
          "2021-11-01T00:00:00",
          "2021-12-01T00:00:00"
         ],
         "xaxis": "x",
         "y": [
          1943,
          1756,
          1555,
          0,
          1878,
          1916,
          3679,
          2964,
          1900,
          2086,
          2222,
          2581,
          2036,
          2057,
          2048,
          1938,
          2281,
          2717,
          2385,
          2206,
          2110,
          809,
          1463,
          1833,
          1130,
          869,
          1262,
          335,
          404,
          800,
          1286,
          1380,
          1887,
          1777,
          1982,
          2045,
          1822,
          1414,
          1732,
          1538,
          1734,
          1789,
          1817,
          1779,
          1881,
          1891,
          1949,
          1560
         ],
         "yaxis": "y"
        },
        {
         "hovertemplate": "variable=Pregnancy, childbirth and puerperium<br>Date=%{x|%Y %M}<br>People served (qty)=%{y}<extra></extra>",
         "legendgroup": "Pregnancy, childbirth and puerperium",
         "marker": {
          "color": "#4500ff",
          "symbol": "circle"
         },
         "mode": "markers",
         "name": "Pregnancy, childbirth and puerperium",
         "showlegend": true,
         "type": "scattergl",
         "x": [
          "2018-01-01T00:00:00",
          "2018-02-01T00:00:00",
          "2018-03-01T00:00:00",
          "2018-04-01T00:00:00",
          "2018-05-01T00:00:00",
          "2018-06-01T00:00:00",
          "2018-07-01T00:00:00",
          "2018-08-01T00:00:00",
          "2018-09-01T00:00:00",
          "2018-10-01T00:00:00",
          "2018-11-01T00:00:00",
          "2018-12-01T00:00:00",
          "2019-01-01T00:00:00",
          "2019-02-01T00:00:00",
          "2019-03-01T00:00:00",
          "2019-04-01T00:00:00",
          "2019-05-01T00:00:00",
          "2019-06-01T00:00:00",
          "2019-07-01T00:00:00",
          "2019-08-01T00:00:00",
          "2019-09-01T00:00:00",
          "2019-10-01T00:00:00",
          "2019-11-01T00:00:00",
          "2019-12-01T00:00:00",
          "2020-01-01T00:00:00",
          "2020-02-01T00:00:00",
          "2020-03-01T00:00:00",
          "2020-04-01T00:00:00",
          "2020-05-01T00:00:00",
          "2020-06-01T00:00:00",
          "2020-07-01T00:00:00",
          "2020-08-01T00:00:00",
          "2020-09-01T00:00:00",
          "2020-10-01T00:00:00",
          "2020-11-01T00:00:00",
          "2020-12-01T00:00:00",
          "2021-01-01T00:00:00",
          "2021-02-01T00:00:00",
          "2021-03-01T00:00:00",
          "2021-04-01T00:00:00",
          "2021-05-01T00:00:00",
          "2021-06-01T00:00:00",
          "2021-07-01T00:00:00",
          "2021-08-01T00:00:00",
          "2021-09-01T00:00:00",
          "2021-10-01T00:00:00",
          "2021-11-01T00:00:00",
          "2021-12-01T00:00:00"
         ],
         "xaxis": "x",
         "y": [
          897,
          875,
          1033,
          0,
          923,
          922,
          1020,
          907,
          968,
          988,
          959,
          994,
          976,
          679,
          777,
          785,
          1043,
          1442,
          864,
          849,
          812,
          538,
          542,
          669,
          829,
          674,
          765,
          595,
          510,
          531,
          706,
          734,
          765,
          765,
          705,
          663,
          652,
          646,
          815,
          706,
          802,
          789,
          850,
          909,
          909,
          879,
          805,
          860
         ],
         "yaxis": "y"
        },
        {
         "hovertemplate": "variable=Respiratory system diseases<br>Date=%{x|%Y %M}<br>People served (qty)=%{y}<extra></extra>",
         "legendgroup": "Respiratory system diseases",
         "marker": {
          "color": "#8600ff",
          "symbol": "circle"
         },
         "mode": "markers",
         "name": "Respiratory system diseases",
         "showlegend": true,
         "type": "scattergl",
         "x": [
          "2018-01-01T00:00:00",
          "2018-02-01T00:00:00",
          "2018-03-01T00:00:00",
          "2018-04-01T00:00:00",
          "2018-05-01T00:00:00",
          "2018-06-01T00:00:00",
          "2018-07-01T00:00:00",
          "2018-08-01T00:00:00",
          "2018-09-01T00:00:00",
          "2018-10-01T00:00:00",
          "2018-11-01T00:00:00",
          "2018-12-01T00:00:00",
          "2019-01-01T00:00:00",
          "2019-02-01T00:00:00",
          "2019-03-01T00:00:00",
          "2019-04-01T00:00:00",
          "2019-05-01T00:00:00",
          "2019-06-01T00:00:00",
          "2019-07-01T00:00:00",
          "2019-08-01T00:00:00",
          "2019-09-01T00:00:00",
          "2019-10-01T00:00:00",
          "2019-11-01T00:00:00",
          "2019-12-01T00:00:00",
          "2020-01-01T00:00:00",
          "2020-02-01T00:00:00",
          "2020-03-01T00:00:00",
          "2020-04-01T00:00:00",
          "2020-05-01T00:00:00",
          "2020-06-01T00:00:00",
          "2020-07-01T00:00:00",
          "2020-08-01T00:00:00",
          "2020-09-01T00:00:00",
          "2020-10-01T00:00:00",
          "2020-11-01T00:00:00",
          "2020-12-01T00:00:00",
          "2021-01-01T00:00:00",
          "2021-02-01T00:00:00",
          "2021-03-01T00:00:00",
          "2021-04-01T00:00:00",
          "2021-05-01T00:00:00",
          "2021-06-01T00:00:00",
          "2021-07-01T00:00:00",
          "2021-08-01T00:00:00",
          "2021-09-01T00:00:00",
          "2021-10-01T00:00:00",
          "2021-11-01T00:00:00",
          "2021-12-01T00:00:00"
         ],
         "xaxis": "x",
         "y": [
          10238,
          7536,
          7926,
          0,
          12244,
          15325,
          23458,
          16837,
          11816,
          11658,
          11918,
          14846,
          9820,
          7915,
          9441,
          10270,
          12915,
          19875,
          15253,
          13326,
          14319,
          4215,
          7096,
          8968,
          4264,
          3149,
          5806,
          1061,
          1679,
          1926,
          3690,
          3625,
          3825,
          3242,
          4119,
          4245,
          5094,
          4035,
          4240,
          4100,
          4383,
          4194,
          4473,
          4455,
          4122,
          4696,
          5267,
          4740
         ],
         "yaxis": "y"
        },
        {
         "hovertemplate": "variable=Some conditions originating in the perinatal period<br>Date=%{x|%Y %M}<br>People served (qty)=%{y}<extra></extra>",
         "legendgroup": "Some conditions originating in the perinatal period",
         "marker": {
          "color": "#c200ff",
          "symbol": "circle"
         },
         "mode": "markers",
         "name": "Some conditions originating in the perinatal period",
         "showlegend": true,
         "type": "scattergl",
         "x": [
          "2018-01-01T00:00:00",
          "2018-02-01T00:00:00",
          "2018-03-01T00:00:00",
          "2018-04-01T00:00:00",
          "2018-05-01T00:00:00",
          "2018-06-01T00:00:00",
          "2018-07-01T00:00:00",
          "2018-08-01T00:00:00",
          "2018-09-01T00:00:00",
          "2018-10-01T00:00:00",
          "2018-11-01T00:00:00",
          "2018-12-01T00:00:00",
          "2019-01-01T00:00:00",
          "2019-02-01T00:00:00",
          "2019-03-01T00:00:00",
          "2019-04-01T00:00:00",
          "2019-05-01T00:00:00",
          "2019-06-01T00:00:00",
          "2019-07-01T00:00:00",
          "2019-08-01T00:00:00",
          "2019-09-01T00:00:00",
          "2019-10-01T00:00:00",
          "2019-11-01T00:00:00",
          "2019-12-01T00:00:00",
          "2020-01-01T00:00:00",
          "2020-02-01T00:00:00",
          "2020-03-01T00:00:00",
          "2020-04-01T00:00:00",
          "2020-05-01T00:00:00",
          "2020-06-01T00:00:00",
          "2020-07-01T00:00:00",
          "2020-08-01T00:00:00",
          "2020-09-01T00:00:00",
          "2020-10-01T00:00:00",
          "2020-11-01T00:00:00",
          "2020-12-01T00:00:00",
          "2021-01-01T00:00:00",
          "2021-02-01T00:00:00",
          "2021-03-01T00:00:00",
          "2021-04-01T00:00:00",
          "2021-05-01T00:00:00",
          "2021-06-01T00:00:00",
          "2021-07-01T00:00:00",
          "2021-08-01T00:00:00",
          "2021-09-01T00:00:00",
          "2021-10-01T00:00:00",
          "2021-11-01T00:00:00",
          "2021-12-01T00:00:00"
         ],
         "xaxis": "x",
         "y": [
          109,
          114,
          146,
          0,
          128,
          129,
          192,
          139,
          161,
          152,
          119,
          164,
          145,
          129,
          132,
          112,
          114,
          137,
          134,
          99,
          98,
          66,
          79,
          88,
          92,
          70,
          75,
          35,
          45,
          74,
          83,
          87,
          92,
          103,
          78,
          98,
          86,
          73,
          102,
          101,
          89,
          88,
          76,
          88,
          91,
          108,
          108,
          120
         ],
         "yaxis": "y"
        },
        {
         "hovertemplate": "variable=Some infectious and parasitic diseases<br>Date=%{x|%Y %M}<br>People served (qty)=%{y}<extra></extra>",
         "legendgroup": "Some infectious and parasitic diseases",
         "marker": {
          "color": "#ff00fb",
          "symbol": "circle"
         },
         "mode": "markers",
         "name": "Some infectious and parasitic diseases",
         "showlegend": true,
         "type": "scattergl",
         "x": [
          "2018-01-01T00:00:00",
          "2018-02-01T00:00:00",
          "2018-03-01T00:00:00",
          "2018-04-01T00:00:00",
          "2018-05-01T00:00:00",
          "2018-06-01T00:00:00",
          "2018-07-01T00:00:00",
          "2018-08-01T00:00:00",
          "2018-09-01T00:00:00",
          "2018-10-01T00:00:00",
          "2018-11-01T00:00:00",
          "2018-12-01T00:00:00",
          "2019-01-01T00:00:00",
          "2019-02-01T00:00:00",
          "2019-03-01T00:00:00",
          "2019-04-01T00:00:00",
          "2019-05-01T00:00:00",
          "2019-06-01T00:00:00",
          "2019-07-01T00:00:00",
          "2019-08-01T00:00:00",
          "2019-09-01T00:00:00",
          "2019-10-01T00:00:00",
          "2019-11-01T00:00:00",
          "2019-12-01T00:00:00",
          "2020-01-01T00:00:00",
          "2020-02-01T00:00:00",
          "2020-03-01T00:00:00",
          "2020-04-01T00:00:00",
          "2020-05-01T00:00:00",
          "2020-06-01T00:00:00",
          "2020-07-01T00:00:00",
          "2020-08-01T00:00:00",
          "2020-09-01T00:00:00",
          "2020-10-01T00:00:00",
          "2020-11-01T00:00:00",
          "2020-12-01T00:00:00",
          "2021-01-01T00:00:00",
          "2021-02-01T00:00:00",
          "2021-03-01T00:00:00",
          "2021-04-01T00:00:00",
          "2021-05-01T00:00:00",
          "2021-06-01T00:00:00",
          "2021-07-01T00:00:00",
          "2021-08-01T00:00:00",
          "2021-09-01T00:00:00",
          "2021-10-01T00:00:00",
          "2021-11-01T00:00:00",
          "2021-12-01T00:00:00"
         ],
         "xaxis": "x",
         "y": [
          3646,
          3595,
          3124,
          0,
          3078,
          2817,
          4642,
          4214,
          2983,
          3362,
          3907,
          4726,
          4037,
          3957,
          3978,
          3358,
          4119,
          4606,
          3380,
          3577,
          3904,
          1925,
          2716,
          3552,
          2579,
          2370,
          1889,
          515,
          1064,
          1588,
          2522,
          2602,
          2123,
          1929,
          2167,
          2716,
          3188,
          2739,
          2922,
          2721,
          2410,
          2173,
          2291,
          2384,
          2280,
          2632,
          2673,
          2582
         ],
         "yaxis": "y"
        },
        {
         "hovertemplate": "variable=Unidentified<br>Date=%{x|%Y %M}<br>People served (qty)=%{y}<extra></extra>",
         "legendgroup": "Unidentified",
         "marker": {
          "color": "#ff00bf",
          "symbol": "circle"
         },
         "mode": "markers",
         "name": "Unidentified",
         "showlegend": true,
         "type": "scattergl",
         "x": [
          "2018-01-01T00:00:00",
          "2018-02-01T00:00:00",
          "2018-03-01T00:00:00",
          "2018-04-01T00:00:00",
          "2018-05-01T00:00:00",
          "2018-06-01T00:00:00",
          "2018-07-01T00:00:00",
          "2018-08-01T00:00:00",
          "2018-09-01T00:00:00",
          "2018-10-01T00:00:00",
          "2018-11-01T00:00:00",
          "2018-12-01T00:00:00",
          "2019-01-01T00:00:00",
          "2019-02-01T00:00:00",
          "2019-03-01T00:00:00",
          "2019-04-01T00:00:00",
          "2019-05-01T00:00:00",
          "2019-06-01T00:00:00",
          "2019-07-01T00:00:00",
          "2019-08-01T00:00:00",
          "2019-09-01T00:00:00",
          "2019-10-01T00:00:00",
          "2019-11-01T00:00:00",
          "2019-12-01T00:00:00",
          "2020-01-01T00:00:00",
          "2020-02-01T00:00:00",
          "2020-03-01T00:00:00",
          "2020-04-01T00:00:00",
          "2020-05-01T00:00:00",
          "2020-06-01T00:00:00",
          "2020-07-01T00:00:00",
          "2020-08-01T00:00:00",
          "2020-09-01T00:00:00",
          "2020-10-01T00:00:00",
          "2020-11-01T00:00:00",
          "2020-12-01T00:00:00",
          "2021-01-01T00:00:00",
          "2021-02-01T00:00:00",
          "2021-03-01T00:00:00",
          "2021-04-01T00:00:00",
          "2021-05-01T00:00:00",
          "2021-06-01T00:00:00",
          "2021-07-01T00:00:00",
          "2021-08-01T00:00:00",
          "2021-09-01T00:00:00",
          "2021-10-01T00:00:00",
          "2021-11-01T00:00:00",
          "2021-12-01T00:00:00"
         ],
         "xaxis": "x",
         "y": [
          1284,
          1128,
          1074,
          0,
          1044,
          1025,
          1823,
          1473,
          1089,
          1153,
          1471,
          1511,
          1353,
          1185,
          1196,
          1214,
          1400,
          1890,
          1211,
          1221,
          1182,
          561,
          752,
          891,
          695,
          652,
          493,
          150,
          175,
          276,
          529,
          513,
          585,
          736,
          848,
          900,
          921,
          672,
          850,
          728,
          786,
          864,
          909,
          893,
          962,
          1021,
          984,
          974
         ],
         "yaxis": "y"
        }
       ],
       "layout": {
        "height": 1000,
        "legend": {
         "title": {
          "text": "variable"
         },
         "tracegroupgap": 0,
         "x": 0,
         "xanchor": "left",
         "y": -0.3,
         "yanchor": "top"
        },
        "showlegend": true,
        "template": {
         "data": {
          "bar": [
           {
            "error_x": {
             "color": "#2a3f5f"
            },
            "error_y": {
             "color": "#2a3f5f"
            },
            "marker": {
             "line": {
              "color": "#E5ECF6",
              "width": 0.5
             },
             "pattern": {
              "fillmode": "overlay",
              "size": 10,
              "solidity": 0.2
             }
            },
            "type": "bar"
           }
          ],
          "barpolar": [
           {
            "marker": {
             "line": {
              "color": "#E5ECF6",
              "width": 0.5
             },
             "pattern": {
              "fillmode": "overlay",
              "size": 10,
              "solidity": 0.2
             }
            },
            "type": "barpolar"
           }
          ],
          "carpet": [
           {
            "aaxis": {
             "endlinecolor": "#2a3f5f",
             "gridcolor": "white",
             "linecolor": "white",
             "minorgridcolor": "white",
             "startlinecolor": "#2a3f5f"
            },
            "baxis": {
             "endlinecolor": "#2a3f5f",
             "gridcolor": "white",
             "linecolor": "white",
             "minorgridcolor": "white",
             "startlinecolor": "#2a3f5f"
            },
            "type": "carpet"
           }
          ],
          "choropleth": [
           {
            "colorbar": {
             "outlinewidth": 0,
             "ticks": ""
            },
            "type": "choropleth"
           }
          ],
          "contour": [
           {
            "colorbar": {
             "outlinewidth": 0,
             "ticks": ""
            },
            "colorscale": [
             [
              0,
              "#0d0887"
             ],
             [
              0.1111111111111111,
              "#46039f"
             ],
             [
              0.2222222222222222,
              "#7201a8"
             ],
             [
              0.3333333333333333,
              "#9c179e"
             ],
             [
              0.4444444444444444,
              "#bd3786"
             ],
             [
              0.5555555555555556,
              "#d8576b"
             ],
             [
              0.6666666666666666,
              "#ed7953"
             ],
             [
              0.7777777777777778,
              "#fb9f3a"
             ],
             [
              0.8888888888888888,
              "#fdca26"
             ],
             [
              1,
              "#f0f921"
             ]
            ],
            "type": "contour"
           }
          ],
          "contourcarpet": [
           {
            "colorbar": {
             "outlinewidth": 0,
             "ticks": ""
            },
            "type": "contourcarpet"
           }
          ],
          "heatmap": [
           {
            "colorbar": {
             "outlinewidth": 0,
             "ticks": ""
            },
            "colorscale": [
             [
              0,
              "#0d0887"
             ],
             [
              0.1111111111111111,
              "#46039f"
             ],
             [
              0.2222222222222222,
              "#7201a8"
             ],
             [
              0.3333333333333333,
              "#9c179e"
             ],
             [
              0.4444444444444444,
              "#bd3786"
             ],
             [
              0.5555555555555556,
              "#d8576b"
             ],
             [
              0.6666666666666666,
              "#ed7953"
             ],
             [
              0.7777777777777778,
              "#fb9f3a"
             ],
             [
              0.8888888888888888,
              "#fdca26"
             ],
             [
              1,
              "#f0f921"
             ]
            ],
            "type": "heatmap"
           }
          ],
          "heatmapgl": [
           {
            "colorbar": {
             "outlinewidth": 0,
             "ticks": ""
            },
            "colorscale": [
             [
              0,
              "#0d0887"
             ],
             [
              0.1111111111111111,
              "#46039f"
             ],
             [
              0.2222222222222222,
              "#7201a8"
             ],
             [
              0.3333333333333333,
              "#9c179e"
             ],
             [
              0.4444444444444444,
              "#bd3786"
             ],
             [
              0.5555555555555556,
              "#d8576b"
             ],
             [
              0.6666666666666666,
              "#ed7953"
             ],
             [
              0.7777777777777778,
              "#fb9f3a"
             ],
             [
              0.8888888888888888,
              "#fdca26"
             ],
             [
              1,
              "#f0f921"
             ]
            ],
            "type": "heatmapgl"
           }
          ],
          "histogram": [
           {
            "marker": {
             "pattern": {
              "fillmode": "overlay",
              "size": 10,
              "solidity": 0.2
             }
            },
            "type": "histogram"
           }
          ],
          "histogram2d": [
           {
            "colorbar": {
             "outlinewidth": 0,
             "ticks": ""
            },
            "colorscale": [
             [
              0,
              "#0d0887"
             ],
             [
              0.1111111111111111,
              "#46039f"
             ],
             [
              0.2222222222222222,
              "#7201a8"
             ],
             [
              0.3333333333333333,
              "#9c179e"
             ],
             [
              0.4444444444444444,
              "#bd3786"
             ],
             [
              0.5555555555555556,
              "#d8576b"
             ],
             [
              0.6666666666666666,
              "#ed7953"
             ],
             [
              0.7777777777777778,
              "#fb9f3a"
             ],
             [
              0.8888888888888888,
              "#fdca26"
             ],
             [
              1,
              "#f0f921"
             ]
            ],
            "type": "histogram2d"
           }
          ],
          "histogram2dcontour": [
           {
            "colorbar": {
             "outlinewidth": 0,
             "ticks": ""
            },
            "colorscale": [
             [
              0,
              "#0d0887"
             ],
             [
              0.1111111111111111,
              "#46039f"
             ],
             [
              0.2222222222222222,
              "#7201a8"
             ],
             [
              0.3333333333333333,
              "#9c179e"
             ],
             [
              0.4444444444444444,
              "#bd3786"
             ],
             [
              0.5555555555555556,
              "#d8576b"
             ],
             [
              0.6666666666666666,
              "#ed7953"
             ],
             [
              0.7777777777777778,
              "#fb9f3a"
             ],
             [
              0.8888888888888888,
              "#fdca26"
             ],
             [
              1,
              "#f0f921"
             ]
            ],
            "type": "histogram2dcontour"
           }
          ],
          "mesh3d": [
           {
            "colorbar": {
             "outlinewidth": 0,
             "ticks": ""
            },
            "type": "mesh3d"
           }
          ],
          "parcoords": [
           {
            "line": {
             "colorbar": {
              "outlinewidth": 0,
              "ticks": ""
             }
            },
            "type": "parcoords"
           }
          ],
          "pie": [
           {
            "automargin": true,
            "type": "pie"
           }
          ],
          "scatter": [
           {
            "fillpattern": {
             "fillmode": "overlay",
             "size": 10,
             "solidity": 0.2
            },
            "type": "scatter"
           }
          ],
          "scatter3d": [
           {
            "line": {
             "colorbar": {
              "outlinewidth": 0,
              "ticks": ""
             }
            },
            "marker": {
             "colorbar": {
              "outlinewidth": 0,
              "ticks": ""
             }
            },
            "type": "scatter3d"
           }
          ],
          "scattercarpet": [
           {
            "marker": {
             "colorbar": {
              "outlinewidth": 0,
              "ticks": ""
             }
            },
            "type": "scattercarpet"
           }
          ],
          "scattergeo": [
           {
            "marker": {
             "colorbar": {
              "outlinewidth": 0,
              "ticks": ""
             }
            },
            "type": "scattergeo"
           }
          ],
          "scattergl": [
           {
            "marker": {
             "colorbar": {
              "outlinewidth": 0,
              "ticks": ""
             }
            },
            "type": "scattergl"
           }
          ],
          "scattermapbox": [
           {
            "marker": {
             "colorbar": {
              "outlinewidth": 0,
              "ticks": ""
             }
            },
            "type": "scattermapbox"
           }
          ],
          "scatterpolar": [
           {
            "marker": {
             "colorbar": {
              "outlinewidth": 0,
              "ticks": ""
             }
            },
            "type": "scatterpolar"
           }
          ],
          "scatterpolargl": [
           {
            "marker": {
             "colorbar": {
              "outlinewidth": 0,
              "ticks": ""
             }
            },
            "type": "scatterpolargl"
           }
          ],
          "scatterternary": [
           {
            "marker": {
             "colorbar": {
              "outlinewidth": 0,
              "ticks": ""
             }
            },
            "type": "scatterternary"
           }
          ],
          "surface": [
           {
            "colorbar": {
             "outlinewidth": 0,
             "ticks": ""
            },
            "colorscale": [
             [
              0,
              "#0d0887"
             ],
             [
              0.1111111111111111,
              "#46039f"
             ],
             [
              0.2222222222222222,
              "#7201a8"
             ],
             [
              0.3333333333333333,
              "#9c179e"
             ],
             [
              0.4444444444444444,
              "#bd3786"
             ],
             [
              0.5555555555555556,
              "#d8576b"
             ],
             [
              0.6666666666666666,
              "#ed7953"
             ],
             [
              0.7777777777777778,
              "#fb9f3a"
             ],
             [
              0.8888888888888888,
              "#fdca26"
             ],
             [
              1,
              "#f0f921"
             ]
            ],
            "type": "surface"
           }
          ],
          "table": [
           {
            "cells": {
             "fill": {
              "color": "#EBF0F8"
             },
             "line": {
              "color": "white"
             }
            },
            "header": {
             "fill": {
              "color": "#C8D4E3"
             },
             "line": {
              "color": "white"
             }
            },
            "type": "table"
           }
          ]
         },
         "layout": {
          "annotationdefaults": {
           "arrowcolor": "#2a3f5f",
           "arrowhead": 0,
           "arrowwidth": 1
          },
          "autotypenumbers": "strict",
          "coloraxis": {
           "colorbar": {
            "outlinewidth": 0,
            "ticks": ""
           }
          },
          "colorscale": {
           "diverging": [
            [
             0,
             "#8e0152"
            ],
            [
             0.1,
             "#c51b7d"
            ],
            [
             0.2,
             "#de77ae"
            ],
            [
             0.3,
             "#f1b6da"
            ],
            [
             0.4,
             "#fde0ef"
            ],
            [
             0.5,
             "#f7f7f7"
            ],
            [
             0.6,
             "#e6f5d0"
            ],
            [
             0.7,
             "#b8e186"
            ],
            [
             0.8,
             "#7fbc41"
            ],
            [
             0.9,
             "#4d9221"
            ],
            [
             1,
             "#276419"
            ]
           ],
           "sequential": [
            [
             0,
             "#0d0887"
            ],
            [
             0.1111111111111111,
             "#46039f"
            ],
            [
             0.2222222222222222,
             "#7201a8"
            ],
            [
             0.3333333333333333,
             "#9c179e"
            ],
            [
             0.4444444444444444,
             "#bd3786"
            ],
            [
             0.5555555555555556,
             "#d8576b"
            ],
            [
             0.6666666666666666,
             "#ed7953"
            ],
            [
             0.7777777777777778,
             "#fb9f3a"
            ],
            [
             0.8888888888888888,
             "#fdca26"
            ],
            [
             1,
             "#f0f921"
            ]
           ],
           "sequentialminus": [
            [
             0,
             "#0d0887"
            ],
            [
             0.1111111111111111,
             "#46039f"
            ],
            [
             0.2222222222222222,
             "#7201a8"
            ],
            [
             0.3333333333333333,
             "#9c179e"
            ],
            [
             0.4444444444444444,
             "#bd3786"
            ],
            [
             0.5555555555555556,
             "#d8576b"
            ],
            [
             0.6666666666666666,
             "#ed7953"
            ],
            [
             0.7777777777777778,
             "#fb9f3a"
            ],
            [
             0.8888888888888888,
             "#fdca26"
            ],
            [
             1,
             "#f0f921"
            ]
           ]
          },
          "colorway": [
           "#636efa",
           "#EF553B",
           "#00cc96",
           "#ab63fa",
           "#FFA15A",
           "#19d3f3",
           "#FF6692",
           "#B6E880",
           "#FF97FF",
           "#FECB52"
          ],
          "font": {
           "color": "#2a3f5f"
          },
          "geo": {
           "bgcolor": "white",
           "lakecolor": "white",
           "landcolor": "#E5ECF6",
           "showlakes": true,
           "showland": true,
           "subunitcolor": "white"
          },
          "hoverlabel": {
           "align": "left"
          },
          "hovermode": "closest",
          "mapbox": {
           "style": "light"
          },
          "paper_bgcolor": "white",
          "plot_bgcolor": "#E5ECF6",
          "polar": {
           "angularaxis": {
            "gridcolor": "white",
            "linecolor": "white",
            "ticks": ""
           },
           "bgcolor": "#E5ECF6",
           "radialaxis": {
            "gridcolor": "white",
            "linecolor": "white",
            "ticks": ""
           }
          },
          "scene": {
           "xaxis": {
            "backgroundcolor": "#E5ECF6",
            "gridcolor": "white",
            "gridwidth": 2,
            "linecolor": "white",
            "showbackground": true,
            "ticks": "",
            "zerolinecolor": "white"
           },
           "yaxis": {
            "backgroundcolor": "#E5ECF6",
            "gridcolor": "white",
            "gridwidth": 2,
            "linecolor": "white",
            "showbackground": true,
            "ticks": "",
            "zerolinecolor": "white"
           },
           "zaxis": {
            "backgroundcolor": "#E5ECF6",
            "gridcolor": "white",
            "gridwidth": 2,
            "linecolor": "white",
            "showbackground": true,
            "ticks": "",
            "zerolinecolor": "white"
           }
          },
          "shapedefaults": {
           "line": {
            "color": "#2a3f5f"
           }
          },
          "ternary": {
           "aaxis": {
            "gridcolor": "white",
            "linecolor": "white",
            "ticks": ""
           },
           "baxis": {
            "gridcolor": "white",
            "linecolor": "white",
            "ticks": ""
           },
           "bgcolor": "#E5ECF6",
           "caxis": {
            "gridcolor": "white",
            "linecolor": "white",
            "ticks": ""
           }
          },
          "title": {
           "x": 0.05
          },
          "xaxis": {
           "automargin": true,
           "gridcolor": "white",
           "linecolor": "white",
           "ticks": "",
           "title": {
            "standoff": 15
           },
           "zerolinecolor": "white",
           "zerolinewidth": 2
          },
          "yaxis": {
           "automargin": true,
           "gridcolor": "white",
           "linecolor": "white",
           "ticks": "",
           "title": {
            "standoff": 15
           },
           "zerolinecolor": "white",
           "zerolinewidth": 2
          }
         }
        },
        "title": {
         "text": "Total people served to Category III (PRIVATE)"
        },
        "width": 1000,
        "xaxis": {
         "anchor": "y",
         "domain": [
          0,
          1
         ],
         "dtick": "M1",
         "tickformat": "%b-%Y",
         "title": {
          "text": "Date"
         }
        },
        "yaxis": {
         "anchor": "x",
         "domain": [
          0,
          1
         ],
         "title": {
          "text": "People served (qty)"
         }
        }
       }
      },
      "text/html": [
       "<div>                            <div id=\"01fe3e82-1b5b-4d07-a47d-6fa58854a296\" class=\"plotly-graph-div\" style=\"height:1000px; width:1000px;\"></div>            <script type=\"text/javascript\">                require([\"plotly\"], function(Plotly) {                    window.PLOTLYENV=window.PLOTLYENV || {};                                    if (document.getElementById(\"01fe3e82-1b5b-4d07-a47d-6fa58854a296\")) {                    Plotly.newPlot(                        \"01fe3e82-1b5b-4d07-a47d-6fa58854a296\",                        [{\"hovertemplate\":\"variable=Abnormal clinical and laboratory symptoms, signs, and findings, not elsewhere classified<br>Date=%{x|%Y %M}<br>People served (qty)=%{y}<extra></extra>\",\"legendgroup\":\"Abnormal clinical and laboratory symptoms, signs, and findings, not elsewhere classified\",\"marker\":{\"color\":\"#ff0029\",\"symbol\":\"circle\"},\"mode\":\"markers\",\"name\":\"Abnormal clinical and laboratory symptoms, signs, and findings, not elsewhere classified\",\"showlegend\":true,\"x\":[\"2018-01-01T00:00:00\",\"2018-02-01T00:00:00\",\"2018-03-01T00:00:00\",\"2018-04-01T00:00:00\",\"2018-05-01T00:00:00\",\"2018-06-01T00:00:00\",\"2018-07-01T00:00:00\",\"2018-08-01T00:00:00\",\"2018-09-01T00:00:00\",\"2018-10-01T00:00:00\",\"2018-11-01T00:00:00\",\"2018-12-01T00:00:00\",\"2019-01-01T00:00:00\",\"2019-02-01T00:00:00\",\"2019-03-01T00:00:00\",\"2019-04-01T00:00:00\",\"2019-05-01T00:00:00\",\"2019-06-01T00:00:00\",\"2019-07-01T00:00:00\",\"2019-08-01T00:00:00\",\"2019-09-01T00:00:00\",\"2019-10-01T00:00:00\",\"2019-11-01T00:00:00\",\"2019-12-01T00:00:00\",\"2020-01-01T00:00:00\",\"2020-02-01T00:00:00\",\"2020-03-01T00:00:00\",\"2020-04-01T00:00:00\",\"2020-05-01T00:00:00\",\"2020-06-01T00:00:00\",\"2020-07-01T00:00:00\",\"2020-08-01T00:00:00\",\"2020-09-01T00:00:00\",\"2020-10-01T00:00:00\",\"2020-11-01T00:00:00\",\"2020-12-01T00:00:00\",\"2021-01-01T00:00:00\",\"2021-02-01T00:00:00\",\"2021-03-01T00:00:00\",\"2021-04-01T00:00:00\",\"2021-05-01T00:00:00\",\"2021-06-01T00:00:00\",\"2021-07-01T00:00:00\",\"2021-08-01T00:00:00\",\"2021-09-01T00:00:00\",\"2021-10-01T00:00:00\",\"2021-11-01T00:00:00\",\"2021-12-01T00:00:00\"],\"xaxis\":\"x\",\"y\":[7067.0,6953.0,7295.0,0.0,7341.0,7808.0,10589.0,9391.0,7396.0,7439.0,8176.0,8563.0,7803.0,6752.0,7206.0,7215.0,9059.0,14448.0,8185.0,7757.0,7829.0,4168.0,5346.0,6021.0,4951.0,4498.0,3654.0,1249.0,1532.0,2252.0,3423.0,3699.0,4734.0,5083.0,5818.0,6221.0,5725.0,4643.0,5871.0,5316.0,5526.0,5680.0,6217.0,6524.0,6754.0,6934.0,7537.0,6703.0],\"yaxis\":\"y\",\"type\":\"scattergl\"},{\"hovertemplate\":\"variable=Codes for special situations<br>Date=%{x|%Y %M}<br>People served (qty)=%{y}<extra></extra>\",\"legendgroup\":\"Codes for special situations\",\"marker\":{\"color\":\"#ff1200\",\"symbol\":\"circle\"},\"mode\":\"markers\",\"name\":\"Codes for special situations\",\"showlegend\":true,\"x\":[\"2018-01-01T00:00:00\",\"2018-02-01T00:00:00\",\"2018-03-01T00:00:00\",\"2018-04-01T00:00:00\",\"2018-05-01T00:00:00\",\"2018-06-01T00:00:00\",\"2018-07-01T00:00:00\",\"2018-08-01T00:00:00\",\"2018-09-01T00:00:00\",\"2018-10-01T00:00:00\",\"2018-11-01T00:00:00\",\"2018-12-01T00:00:00\",\"2019-01-01T00:00:00\",\"2019-02-01T00:00:00\",\"2019-03-01T00:00:00\",\"2019-04-01T00:00:00\",\"2019-05-01T00:00:00\",\"2019-06-01T00:00:00\",\"2019-07-01T00:00:00\",\"2019-08-01T00:00:00\",\"2019-09-01T00:00:00\",\"2019-10-01T00:00:00\",\"2019-11-01T00:00:00\",\"2019-12-01T00:00:00\",\"2020-01-01T00:00:00\",\"2020-02-01T00:00:00\",\"2020-03-01T00:00:00\",\"2020-04-01T00:00:00\",\"2020-05-01T00:00:00\",\"2020-06-01T00:00:00\",\"2020-07-01T00:00:00\",\"2020-08-01T00:00:00\",\"2020-09-01T00:00:00\",\"2020-10-01T00:00:00\",\"2020-11-01T00:00:00\",\"2020-12-01T00:00:00\",\"2021-01-01T00:00:00\",\"2021-02-01T00:00:00\",\"2021-03-01T00:00:00\",\"2021-04-01T00:00:00\",\"2021-05-01T00:00:00\",\"2021-06-01T00:00:00\",\"2021-07-01T00:00:00\",\"2021-08-01T00:00:00\",\"2021-09-01T00:00:00\",\"2021-10-01T00:00:00\",\"2021-11-01T00:00:00\",\"2021-12-01T00:00:00\"],\"xaxis\":\"x\",\"y\":[0.0,0.0,0.0,0.0,0.0,0.0,0.0,0.0,0.0,0.0,0.0,0.0,0.0,0.0,0.0,0.0,0.0,0.0,0.0,0.0,0.0,0.0,0.0,0.0,0.0,0.0,0.0,6.0,91.0,165.0,2637.0,2575.0,1402.0,794.0,639.0,808.0,2167.0,2801.0,3379.0,3158.0,2192.0,1441.0,1244.0,1232.0,987.0,964.0,1150.0,1993.0],\"yaxis\":\"y\",\"type\":\"scattergl\"},{\"hovertemplate\":\"variable=Congenital malformations, deformities and chromosomal abnormalities<br>Date=%{x|%Y %M}<br>People served (qty)=%{y}<extra></extra>\",\"legendgroup\":\"Congenital malformations, deformities and chromosomal abnormalities\",\"marker\":{\"color\":\"#ff5300\",\"symbol\":\"circle\"},\"mode\":\"markers\",\"name\":\"Congenital malformations, deformities and chromosomal abnormalities\",\"showlegend\":true,\"x\":[\"2018-01-01T00:00:00\",\"2018-02-01T00:00:00\",\"2018-03-01T00:00:00\",\"2018-04-01T00:00:00\",\"2018-05-01T00:00:00\",\"2018-06-01T00:00:00\",\"2018-07-01T00:00:00\",\"2018-08-01T00:00:00\",\"2018-09-01T00:00:00\",\"2018-10-01T00:00:00\",\"2018-11-01T00:00:00\",\"2018-12-01T00:00:00\",\"2019-01-01T00:00:00\",\"2019-02-01T00:00:00\",\"2019-03-01T00:00:00\",\"2019-04-01T00:00:00\",\"2019-05-01T00:00:00\",\"2019-06-01T00:00:00\",\"2019-07-01T00:00:00\",\"2019-08-01T00:00:00\",\"2019-09-01T00:00:00\",\"2019-10-01T00:00:00\",\"2019-11-01T00:00:00\",\"2019-12-01T00:00:00\",\"2020-01-01T00:00:00\",\"2020-02-01T00:00:00\",\"2020-03-01T00:00:00\",\"2020-04-01T00:00:00\",\"2020-05-01T00:00:00\",\"2020-06-01T00:00:00\",\"2020-07-01T00:00:00\",\"2020-08-01T00:00:00\",\"2020-09-01T00:00:00\",\"2020-10-01T00:00:00\",\"2020-11-01T00:00:00\",\"2020-12-01T00:00:00\",\"2021-01-01T00:00:00\",\"2021-02-01T00:00:00\",\"2021-03-01T00:00:00\",\"2021-04-01T00:00:00\",\"2021-05-01T00:00:00\",\"2021-06-01T00:00:00\",\"2021-07-01T00:00:00\",\"2021-08-01T00:00:00\",\"2021-09-01T00:00:00\",\"2021-10-01T00:00:00\",\"2021-11-01T00:00:00\",\"2021-12-01T00:00:00\"],\"xaxis\":\"x\",\"y\":[480.0,402.0,260.0,0.0,290.0,281.0,532.0,460.0,336.0,357.0,313.0,432.0,447.0,405.0,415.0,357.0,358.0,334.0,386.0,406.0,297.0,151.0,206.0,292.0,304.0,205.0,183.0,15.0,47.0,76.0,129.0,140.0,243.0,254.0,305.0,303.0,345.0,214.0,301.0,246.0,258.0,317.0,292.0,346.0,400.0,375.0,437.0,355.0],\"yaxis\":\"y\",\"type\":\"scattergl\"},{\"hovertemplate\":\"variable=Digestive system diseases<br>Date=%{x|%Y %M}<br>People served (qty)=%{y}<extra></extra>\",\"legendgroup\":\"Digestive system diseases\",\"marker\":{\"color\":\"#ff8e00\",\"symbol\":\"circle\"},\"mode\":\"markers\",\"name\":\"Digestive system diseases\",\"showlegend\":true,\"x\":[\"2018-01-01T00:00:00\",\"2018-02-01T00:00:00\",\"2018-03-01T00:00:00\",\"2018-04-01T00:00:00\",\"2018-05-01T00:00:00\",\"2018-06-01T00:00:00\",\"2018-07-01T00:00:00\",\"2018-08-01T00:00:00\",\"2018-09-01T00:00:00\",\"2018-10-01T00:00:00\",\"2018-11-01T00:00:00\",\"2018-12-01T00:00:00\",\"2019-01-01T00:00:00\",\"2019-02-01T00:00:00\",\"2019-03-01T00:00:00\",\"2019-04-01T00:00:00\",\"2019-05-01T00:00:00\",\"2019-06-01T00:00:00\",\"2019-07-01T00:00:00\",\"2019-08-01T00:00:00\",\"2019-09-01T00:00:00\",\"2019-10-01T00:00:00\",\"2019-11-01T00:00:00\",\"2019-12-01T00:00:00\",\"2020-01-01T00:00:00\",\"2020-02-01T00:00:00\",\"2020-03-01T00:00:00\",\"2020-04-01T00:00:00\",\"2020-05-01T00:00:00\",\"2020-06-01T00:00:00\",\"2020-07-01T00:00:00\",\"2020-08-01T00:00:00\",\"2020-09-01T00:00:00\",\"2020-10-01T00:00:00\",\"2020-11-01T00:00:00\",\"2020-12-01T00:00:00\",\"2021-01-01T00:00:00\",\"2021-02-01T00:00:00\",\"2021-03-01T00:00:00\",\"2021-04-01T00:00:00\",\"2021-05-01T00:00:00\",\"2021-06-01T00:00:00\",\"2021-07-01T00:00:00\",\"2021-08-01T00:00:00\",\"2021-09-01T00:00:00\",\"2021-10-01T00:00:00\",\"2021-11-01T00:00:00\",\"2021-12-01T00:00:00\"],\"xaxis\":\"x\",\"y\":[5394.0,4879.0,4498.0,0.0,4005.0,4513.0,10005.0,8316.0,4726.0,4586.0,5072.0,6774.0,4446.0,4426.0,4815.0,3920.0,5174.0,5386.0,5645.0,5263.0,4785.0,1760.0,3419.0,4786.0,2750.0,2100.0,3123.0,494.0,810.0,1543.0,2364.0,2474.0,4091.0,3842.0,4617.0,5614.0,4727.0,3672.0,4155.0,4118.0,4411.0,4616.0,4740.0,4834.0,5198.0,5613.0,6290.0,4584.0],\"yaxis\":\"y\",\"type\":\"scattergl\"},{\"hovertemplate\":\"variable=Diseases of the blood and hematopoietic organs and other disorders affecting the mechanism of immunity<br>Date=%{x|%Y %M}<br>People served (qty)=%{y}<extra></extra>\",\"legendgroup\":\"Diseases of the blood and hematopoietic organs and other disorders affecting the mechanism of immunity\",\"marker\":{\"color\":\"#ffcf00\",\"symbol\":\"circle\"},\"mode\":\"markers\",\"name\":\"Diseases of the blood and hematopoietic organs and other disorders affecting the mechanism of immunity\",\"showlegend\":true,\"x\":[\"2018-01-01T00:00:00\",\"2018-02-01T00:00:00\",\"2018-03-01T00:00:00\",\"2018-04-01T00:00:00\",\"2018-05-01T00:00:00\",\"2018-06-01T00:00:00\",\"2018-07-01T00:00:00\",\"2018-08-01T00:00:00\",\"2018-09-01T00:00:00\",\"2018-10-01T00:00:00\",\"2018-11-01T00:00:00\",\"2018-12-01T00:00:00\",\"2019-01-01T00:00:00\",\"2019-02-01T00:00:00\",\"2019-03-01T00:00:00\",\"2019-04-01T00:00:00\",\"2019-05-01T00:00:00\",\"2019-06-01T00:00:00\",\"2019-07-01T00:00:00\",\"2019-08-01T00:00:00\",\"2019-09-01T00:00:00\",\"2019-10-01T00:00:00\",\"2019-11-01T00:00:00\",\"2019-12-01T00:00:00\",\"2020-01-01T00:00:00\",\"2020-02-01T00:00:00\",\"2020-03-01T00:00:00\",\"2020-04-01T00:00:00\",\"2020-05-01T00:00:00\",\"2020-06-01T00:00:00\",\"2020-07-01T00:00:00\",\"2020-08-01T00:00:00\",\"2020-09-01T00:00:00\",\"2020-10-01T00:00:00\",\"2020-11-01T00:00:00\",\"2020-12-01T00:00:00\",\"2021-01-01T00:00:00\",\"2021-02-01T00:00:00\",\"2021-03-01T00:00:00\",\"2021-04-01T00:00:00\",\"2021-05-01T00:00:00\",\"2021-06-01T00:00:00\",\"2021-07-01T00:00:00\",\"2021-08-01T00:00:00\",\"2021-09-01T00:00:00\",\"2021-10-01T00:00:00\",\"2021-11-01T00:00:00\",\"2021-12-01T00:00:00\"],\"xaxis\":\"x\",\"y\":[953.0,956.0,819.0,0.0,705.0,687.0,1460.0,1189.0,730.0,758.0,731.0,1112.0,1098.0,1146.0,1141.0,1046.0,1012.0,975.0,973.0,1040.0,986.0,309.0,610.0,835.0,686.0,595.0,816.0,82.0,128.0,301.0,494.0,548.0,839.0,867.0,943.0,976.0,1048.0,845.0,1080.0,958.0,1039.0,1195.0,1099.0,1084.0,1058.0,1220.0,1340.0,1199.0],\"yaxis\":\"y\",\"type\":\"scattergl\"},{\"hovertemplate\":\"variable=Diseases of the circulatory system<br>Date=%{x|%Y %M}<br>People served (qty)=%{y}<extra></extra>\",\"legendgroup\":\"Diseases of the circulatory system\",\"marker\":{\"color\":\"#eeff00\",\"symbol\":\"circle\"},\"mode\":\"markers\",\"name\":\"Diseases of the circulatory system\",\"showlegend\":true,\"x\":[\"2018-01-01T00:00:00\",\"2018-02-01T00:00:00\",\"2018-03-01T00:00:00\",\"2018-04-01T00:00:00\",\"2018-05-01T00:00:00\",\"2018-06-01T00:00:00\",\"2018-07-01T00:00:00\",\"2018-08-01T00:00:00\",\"2018-09-01T00:00:00\",\"2018-10-01T00:00:00\",\"2018-11-01T00:00:00\",\"2018-12-01T00:00:00\",\"2019-01-01T00:00:00\",\"2019-02-01T00:00:00\",\"2019-03-01T00:00:00\",\"2019-04-01T00:00:00\",\"2019-05-01T00:00:00\",\"2019-06-01T00:00:00\",\"2019-07-01T00:00:00\",\"2019-08-01T00:00:00\",\"2019-09-01T00:00:00\",\"2019-10-01T00:00:00\",\"2019-11-01T00:00:00\",\"2019-12-01T00:00:00\",\"2020-01-01T00:00:00\",\"2020-02-01T00:00:00\",\"2020-03-01T00:00:00\",\"2020-04-01T00:00:00\",\"2020-05-01T00:00:00\",\"2020-06-01T00:00:00\",\"2020-07-01T00:00:00\",\"2020-08-01T00:00:00\",\"2020-09-01T00:00:00\",\"2020-10-01T00:00:00\",\"2020-11-01T00:00:00\",\"2020-12-01T00:00:00\",\"2021-01-01T00:00:00\",\"2021-02-01T00:00:00\",\"2021-03-01T00:00:00\",\"2021-04-01T00:00:00\",\"2021-05-01T00:00:00\",\"2021-06-01T00:00:00\",\"2021-07-01T00:00:00\",\"2021-08-01T00:00:00\",\"2021-09-01T00:00:00\",\"2021-10-01T00:00:00\",\"2021-11-01T00:00:00\",\"2021-12-01T00:00:00\"],\"xaxis\":\"x\",\"y\":[5441.0,5001.0,4896.0,0.0,4488.0,5079.0,12510.0,9125.0,5155.0,5344.0,5522.0,7659.0,6013.0,5456.0,5753.0,5515.0,6102.0,6187.0,6473.0,5853.0,5268.0,1591.0,3661.0,5211.0,2577.0,1906.0,3800.0,1545.0,1500.0,2241.0,3478.0,3442.0,4763.0,4343.0,4789.0,5308.0,4987.0,3734.0,4694.0,4305.0,4603.0,4830.0,4797.0,4485.0,4622.0,5254.0,5053.0,4186.0],\"yaxis\":\"y\",\"type\":\"scattergl\"},{\"hovertemplate\":\"variable=Diseases of the ear and mastoid process<br>Date=%{x|%Y %M}<br>People served (qty)=%{y}<extra></extra>\",\"legendgroup\":\"Diseases of the ear and mastoid process\",\"marker\":{\"color\":\"#b2ff00\",\"symbol\":\"circle\"},\"mode\":\"markers\",\"name\":\"Diseases of the ear and mastoid process\",\"showlegend\":true,\"x\":[\"2018-01-01T00:00:00\",\"2018-02-01T00:00:00\",\"2018-03-01T00:00:00\",\"2018-04-01T00:00:00\",\"2018-05-01T00:00:00\",\"2018-06-01T00:00:00\",\"2018-07-01T00:00:00\",\"2018-08-01T00:00:00\",\"2018-09-01T00:00:00\",\"2018-10-01T00:00:00\",\"2018-11-01T00:00:00\",\"2018-12-01T00:00:00\",\"2019-01-01T00:00:00\",\"2019-02-01T00:00:00\",\"2019-03-01T00:00:00\",\"2019-04-01T00:00:00\",\"2019-05-01T00:00:00\",\"2019-06-01T00:00:00\",\"2019-07-01T00:00:00\",\"2019-08-01T00:00:00\",\"2019-09-01T00:00:00\",\"2019-10-01T00:00:00\",\"2019-11-01T00:00:00\",\"2019-12-01T00:00:00\",\"2020-01-01T00:00:00\",\"2020-02-01T00:00:00\",\"2020-03-01T00:00:00\",\"2020-04-01T00:00:00\",\"2020-05-01T00:00:00\",\"2020-06-01T00:00:00\",\"2020-07-01T00:00:00\",\"2020-08-01T00:00:00\",\"2020-09-01T00:00:00\",\"2020-10-01T00:00:00\",\"2020-11-01T00:00:00\",\"2020-12-01T00:00:00\",\"2021-01-01T00:00:00\",\"2021-02-01T00:00:00\",\"2021-03-01T00:00:00\",\"2021-04-01T00:00:00\",\"2021-05-01T00:00:00\",\"2021-06-01T00:00:00\",\"2021-07-01T00:00:00\",\"2021-08-01T00:00:00\",\"2021-09-01T00:00:00\",\"2021-10-01T00:00:00\",\"2021-11-01T00:00:00\",\"2021-12-01T00:00:00\"],\"xaxis\":\"x\",\"y\":[1980.0,1672.0,1413.0,0.0,1552.0,1635.0,2950.0,2462.0,1619.0,1627.0,1618.0,2205.0,1782.0,1794.0,1716.0,1641.0,1900.0,2593.0,1913.0,1701.0,1708.0,632.0,1148.0,1550.0,999.0,777.0,928.0,127.0,181.0,446.0,851.0,763.0,1279.0,1211.0,1235.0,1504.0,1395.0,955.0,1227.0,1109.0,1104.0,1240.0,1194.0,1233.0,1168.0,1230.0,1371.0,1031.0],\"yaxis\":\"y\",\"type\":\"scattergl\"},{\"hovertemplate\":\"variable=Diseases of the eye and its adnexa<br>Date=%{x|%Y %M}<br>People served (qty)=%{y}<extra></extra>\",\"legendgroup\":\"Diseases of the eye and its adnexa\",\"marker\":{\"color\":\"#72ff00\",\"symbol\":\"circle\"},\"mode\":\"markers\",\"name\":\"Diseases of the eye and its adnexa\",\"showlegend\":true,\"x\":[\"2018-01-01T00:00:00\",\"2018-02-01T00:00:00\",\"2018-03-01T00:00:00\",\"2018-04-01T00:00:00\",\"2018-05-01T00:00:00\",\"2018-06-01T00:00:00\",\"2018-07-01T00:00:00\",\"2018-08-01T00:00:00\",\"2018-09-01T00:00:00\",\"2018-10-01T00:00:00\",\"2018-11-01T00:00:00\",\"2018-12-01T00:00:00\",\"2019-01-01T00:00:00\",\"2019-02-01T00:00:00\",\"2019-03-01T00:00:00\",\"2019-04-01T00:00:00\",\"2019-05-01T00:00:00\",\"2019-06-01T00:00:00\",\"2019-07-01T00:00:00\",\"2019-08-01T00:00:00\",\"2019-09-01T00:00:00\",\"2019-10-01T00:00:00\",\"2019-11-01T00:00:00\",\"2019-12-01T00:00:00\",\"2020-01-01T00:00:00\",\"2020-02-01T00:00:00\",\"2020-03-01T00:00:00\",\"2020-04-01T00:00:00\",\"2020-05-01T00:00:00\",\"2020-06-01T00:00:00\",\"2020-07-01T00:00:00\",\"2020-08-01T00:00:00\",\"2020-09-01T00:00:00\",\"2020-10-01T00:00:00\",\"2020-11-01T00:00:00\",\"2020-12-01T00:00:00\",\"2021-01-01T00:00:00\",\"2021-02-01T00:00:00\",\"2021-03-01T00:00:00\",\"2021-04-01T00:00:00\",\"2021-05-01T00:00:00\",\"2021-06-01T00:00:00\",\"2021-07-01T00:00:00\",\"2021-08-01T00:00:00\",\"2021-09-01T00:00:00\",\"2021-10-01T00:00:00\",\"2021-11-01T00:00:00\",\"2021-12-01T00:00:00\"],\"xaxis\":\"x\",\"y\":[3740.0,3299.0,2726.0,0.0,2116.0,2339.0,5238.0,4498.0,2481.0,2456.0,2578.0,3960.0,3171.0,2691.0,2671.0,2416.0,2851.0,3202.0,3398.0,3298.0,2990.0,728.0,2186.0,3152.0,1480.0,1143.0,1841.0,98.0,270.0,717.0,1284.0,1229.0,2041.0,2102.0,2609.0,2965.0,2762.0,1814.0,2588.0,2135.0,2654.0,2482.0,2744.0,2417.0,2678.0,2568.0,2686.0,2061.0],\"yaxis\":\"y\",\"type\":\"scattergl\"},{\"hovertemplate\":\"variable=Diseases of the genitourinary system<br>Date=%{x|%Y %M}<br>People served (qty)=%{y}<extra></extra>\",\"legendgroup\":\"Diseases of the genitourinary system\",\"marker\":{\"color\":\"#31ff00\",\"symbol\":\"circle\"},\"mode\":\"markers\",\"name\":\"Diseases of the genitourinary system\",\"showlegend\":true,\"x\":[\"2018-01-01T00:00:00\",\"2018-02-01T00:00:00\",\"2018-03-01T00:00:00\",\"2018-04-01T00:00:00\",\"2018-05-01T00:00:00\",\"2018-06-01T00:00:00\",\"2018-07-01T00:00:00\",\"2018-08-01T00:00:00\",\"2018-09-01T00:00:00\",\"2018-10-01T00:00:00\",\"2018-11-01T00:00:00\",\"2018-12-01T00:00:00\",\"2019-01-01T00:00:00\",\"2019-02-01T00:00:00\",\"2019-03-01T00:00:00\",\"2019-04-01T00:00:00\",\"2019-05-01T00:00:00\",\"2019-06-01T00:00:00\",\"2019-07-01T00:00:00\",\"2019-08-01T00:00:00\",\"2019-09-01T00:00:00\",\"2019-10-01T00:00:00\",\"2019-11-01T00:00:00\",\"2019-12-01T00:00:00\",\"2020-01-01T00:00:00\",\"2020-02-01T00:00:00\",\"2020-03-01T00:00:00\",\"2020-04-01T00:00:00\",\"2020-05-01T00:00:00\",\"2020-06-01T00:00:00\",\"2020-07-01T00:00:00\",\"2020-08-01T00:00:00\",\"2020-09-01T00:00:00\",\"2020-10-01T00:00:00\",\"2020-11-01T00:00:00\",\"2020-12-01T00:00:00\",\"2021-01-01T00:00:00\",\"2021-02-01T00:00:00\",\"2021-03-01T00:00:00\",\"2021-04-01T00:00:00\",\"2021-05-01T00:00:00\",\"2021-06-01T00:00:00\",\"2021-07-01T00:00:00\",\"2021-08-01T00:00:00\",\"2021-09-01T00:00:00\",\"2021-10-01T00:00:00\",\"2021-11-01T00:00:00\",\"2021-12-01T00:00:00\"],\"xaxis\":\"x\",\"y\":[8223.0,7876.0,6946.0,0.0,6499.0,7008.0,14504.0,11768.0,6831.0,7344.0,7272.0,10151.0,8427.0,7934.0,7821.0,7680.0,8461.0,8049.0,8863.0,7990.0,7527.0,2421.0,4972.0,7057.0,4392.0,3328.0,4977.0,340.0,745.0,2147.0,3833.0,3977.0,6005.0,5825.0,7126.0,7880.0,7217.0,5327.0,6694.0,5808.0,6389.0,6389.0,6954.0,6861.0,7206.0,7634.0,8154.0,6394.0],\"yaxis\":\"y\",\"type\":\"scattergl\"},{\"hovertemplate\":\"variable=Diseases of the musculoskeletal system and connective tissue<br>Date=%{x|%Y %M}<br>People served (qty)=%{y}<extra></extra>\",\"legendgroup\":\"Diseases of the musculoskeletal system and connective tissue\",\"marker\":{\"color\":\"#00ff0b\",\"symbol\":\"circle\"},\"mode\":\"markers\",\"name\":\"Diseases of the musculoskeletal system and connective tissue\",\"showlegend\":true,\"x\":[\"2018-01-01T00:00:00\",\"2018-02-01T00:00:00\",\"2018-03-01T00:00:00\",\"2018-04-01T00:00:00\",\"2018-05-01T00:00:00\",\"2018-06-01T00:00:00\",\"2018-07-01T00:00:00\",\"2018-08-01T00:00:00\",\"2018-09-01T00:00:00\",\"2018-10-01T00:00:00\",\"2018-11-01T00:00:00\",\"2018-12-01T00:00:00\",\"2019-01-01T00:00:00\",\"2019-02-01T00:00:00\",\"2019-03-01T00:00:00\",\"2019-04-01T00:00:00\",\"2019-05-01T00:00:00\",\"2019-06-01T00:00:00\",\"2019-07-01T00:00:00\",\"2019-08-01T00:00:00\",\"2019-09-01T00:00:00\",\"2019-10-01T00:00:00\",\"2019-11-01T00:00:00\",\"2019-12-01T00:00:00\",\"2020-01-01T00:00:00\",\"2020-02-01T00:00:00\",\"2020-03-01T00:00:00\",\"2020-04-01T00:00:00\",\"2020-05-01T00:00:00\",\"2020-06-01T00:00:00\",\"2020-07-01T00:00:00\",\"2020-08-01T00:00:00\",\"2020-09-01T00:00:00\",\"2020-10-01T00:00:00\",\"2020-11-01T00:00:00\",\"2020-12-01T00:00:00\",\"2021-01-01T00:00:00\",\"2021-02-01T00:00:00\",\"2021-03-01T00:00:00\",\"2021-04-01T00:00:00\",\"2021-05-01T00:00:00\",\"2021-06-01T00:00:00\",\"2021-07-01T00:00:00\",\"2021-08-01T00:00:00\",\"2021-09-01T00:00:00\",\"2021-10-01T00:00:00\",\"2021-11-01T00:00:00\",\"2021-12-01T00:00:00\"],\"xaxis\":\"x\",\"y\":[9620.0,8993.0,7814.0,0.0,7528.0,7998.0,16973.0,13679.0,7939.0,8438.0,8756.0,11729.0,9608.0,9083.0,9188.0,8984.0,9994.0,10119.0,10007.0,9268.0,8675.0,3305.0,6225.0,8048.0,5115.0,3965.0,5476.0,554.0,827.0,2089.0,3677.0,4024.0,6052.0,6032.0,7472.0,7783.0,7188.0,5179.0,6776.0,5943.0,6598.0,6978.0,7117.0,7243.0,7873.0,8061.0,8456.0,6439.0],\"yaxis\":\"y\",\"type\":\"scattergl\"},{\"hovertemplate\":\"variable=Diseases of the skin and subcutaneous tissue<br>Date=%{x|%Y %M}<br>People served (qty)=%{y}<extra></extra>\",\"legendgroup\":\"Diseases of the skin and subcutaneous tissue\",\"marker\":{\"color\":\"#00ff4b\",\"symbol\":\"circle\"},\"mode\":\"markers\",\"name\":\"Diseases of the skin and subcutaneous tissue\",\"showlegend\":true,\"x\":[\"2018-01-01T00:00:00\",\"2018-02-01T00:00:00\",\"2018-03-01T00:00:00\",\"2018-04-01T00:00:00\",\"2018-05-01T00:00:00\",\"2018-06-01T00:00:00\",\"2018-07-01T00:00:00\",\"2018-08-01T00:00:00\",\"2018-09-01T00:00:00\",\"2018-10-01T00:00:00\",\"2018-11-01T00:00:00\",\"2018-12-01T00:00:00\",\"2019-01-01T00:00:00\",\"2019-02-01T00:00:00\",\"2019-03-01T00:00:00\",\"2019-04-01T00:00:00\",\"2019-05-01T00:00:00\",\"2019-06-01T00:00:00\",\"2019-07-01T00:00:00\",\"2019-08-01T00:00:00\",\"2019-09-01T00:00:00\",\"2019-10-01T00:00:00\",\"2019-11-01T00:00:00\",\"2019-12-01T00:00:00\",\"2020-01-01T00:00:00\",\"2020-02-01T00:00:00\",\"2020-03-01T00:00:00\",\"2020-04-01T00:00:00\",\"2020-05-01T00:00:00\",\"2020-06-01T00:00:00\",\"2020-07-01T00:00:00\",\"2020-08-01T00:00:00\",\"2020-09-01T00:00:00\",\"2020-10-01T00:00:00\",\"2020-11-01T00:00:00\",\"2020-12-01T00:00:00\",\"2021-01-01T00:00:00\",\"2021-02-01T00:00:00\",\"2021-03-01T00:00:00\",\"2021-04-01T00:00:00\",\"2021-05-01T00:00:00\",\"2021-06-01T00:00:00\",\"2021-07-01T00:00:00\",\"2021-08-01T00:00:00\",\"2021-09-01T00:00:00\",\"2021-10-01T00:00:00\",\"2021-11-01T00:00:00\",\"2021-12-01T00:00:00\"],\"xaxis\":\"x\",\"y\":[4481.0,4212.0,3301.0,0.0,3353.0,3570.0,7296.0,6128.0,3428.0,3891.0,4041.0,6032.0,4856.0,4603.0,4511.0,3893.0,4821.0,5045.0,4775.0,4542.0,4371.0,1384.0,2920.0,4175.0,2463.0,2037.0,2549.0,226.0,366.0,931.0,1963.0,2115.0,3306.0,3048.0,3556.0,3850.0,3753.0,2878.0,3491.0,3081.0,3330.0,3308.0,3522.0,3448.0,3834.0,4013.0,4176.0,3471.0],\"yaxis\":\"y\",\"type\":\"scattergl\"},{\"hovertemplate\":\"variable=Endocrine, nutritional and metabolic diseases<br>Date=%{x|%Y %M}<br>People served (qty)=%{y}<extra></extra>\",\"legendgroup\":\"Endocrine, nutritional and metabolic diseases\",\"marker\":{\"color\":\"#00ff8c\",\"symbol\":\"circle\"},\"mode\":\"markers\",\"name\":\"Endocrine, nutritional and metabolic diseases\",\"showlegend\":true,\"x\":[\"2018-01-01T00:00:00\",\"2018-02-01T00:00:00\",\"2018-03-01T00:00:00\",\"2018-04-01T00:00:00\",\"2018-05-01T00:00:00\",\"2018-06-01T00:00:00\",\"2018-07-01T00:00:00\",\"2018-08-01T00:00:00\",\"2018-09-01T00:00:00\",\"2018-10-01T00:00:00\",\"2018-11-01T00:00:00\",\"2018-12-01T00:00:00\",\"2019-01-01T00:00:00\",\"2019-02-01T00:00:00\",\"2019-03-01T00:00:00\",\"2019-04-01T00:00:00\",\"2019-05-01T00:00:00\",\"2019-06-01T00:00:00\",\"2019-07-01T00:00:00\",\"2019-08-01T00:00:00\",\"2019-09-01T00:00:00\",\"2019-10-01T00:00:00\",\"2019-11-01T00:00:00\",\"2019-12-01T00:00:00\",\"2020-01-01T00:00:00\",\"2020-02-01T00:00:00\",\"2020-03-01T00:00:00\",\"2020-04-01T00:00:00\",\"2020-05-01T00:00:00\",\"2020-06-01T00:00:00\",\"2020-07-01T00:00:00\",\"2020-08-01T00:00:00\",\"2020-09-01T00:00:00\",\"2020-10-01T00:00:00\",\"2020-11-01T00:00:00\",\"2020-12-01T00:00:00\",\"2021-01-01T00:00:00\",\"2021-02-01T00:00:00\",\"2021-03-01T00:00:00\",\"2021-04-01T00:00:00\",\"2021-05-01T00:00:00\",\"2021-06-01T00:00:00\",\"2021-07-01T00:00:00\",\"2021-08-01T00:00:00\",\"2021-09-01T00:00:00\",\"2021-10-01T00:00:00\",\"2021-11-01T00:00:00\",\"2021-12-01T00:00:00\"],\"xaxis\":\"x\",\"y\":[6235.0,5594.0,5211.0,0.0,4956.0,4854.0,10010.0,8539.0,5286.0,5590.0,5288.0,7720.0,6563.0,6245.0,6439.0,6080.0,6297.0,6239.0,6529.0,6329.0,6405.0,2352.0,4251.0,5694.0,3755.0,3221.0,4080.0,984.0,1051.0,2030.0,3203.0,3500.0,4935.0,4739.0,5454.0,5723.0,5539.0,4729.0,5512.0,5088.0,5172.0,5525.0,5882.0,5799.0,6154.0,6447.0,7371.0,5966.0],\"yaxis\":\"y\",\"type\":\"scattergl\"},{\"hovertemplate\":\"variable=External causes of morbidity and mortality<br>Date=%{x|%Y %M}<br>People served (qty)=%{y}<extra></extra>\",\"legendgroup\":\"External causes of morbidity and mortality\",\"marker\":{\"color\":\"#00ffc7\",\"symbol\":\"circle\"},\"mode\":\"markers\",\"name\":\"External causes of morbidity and mortality\",\"showlegend\":true,\"x\":[\"2018-01-01T00:00:00\",\"2018-02-01T00:00:00\",\"2018-03-01T00:00:00\",\"2018-04-01T00:00:00\",\"2018-05-01T00:00:00\",\"2018-06-01T00:00:00\",\"2018-07-01T00:00:00\",\"2018-08-01T00:00:00\",\"2018-09-01T00:00:00\",\"2018-10-01T00:00:00\",\"2018-11-01T00:00:00\",\"2018-12-01T00:00:00\",\"2019-01-01T00:00:00\",\"2019-02-01T00:00:00\",\"2019-03-01T00:00:00\",\"2019-04-01T00:00:00\",\"2019-05-01T00:00:00\",\"2019-06-01T00:00:00\",\"2019-07-01T00:00:00\",\"2019-08-01T00:00:00\",\"2019-09-01T00:00:00\",\"2019-10-01T00:00:00\",\"2019-11-01T00:00:00\",\"2019-12-01T00:00:00\",\"2020-01-01T00:00:00\",\"2020-02-01T00:00:00\",\"2020-03-01T00:00:00\",\"2020-04-01T00:00:00\",\"2020-05-01T00:00:00\",\"2020-06-01T00:00:00\",\"2020-07-01T00:00:00\",\"2020-08-01T00:00:00\",\"2020-09-01T00:00:00\",\"2020-10-01T00:00:00\",\"2020-11-01T00:00:00\",\"2020-12-01T00:00:00\",\"2021-01-01T00:00:00\",\"2021-02-01T00:00:00\",\"2021-03-01T00:00:00\",\"2021-04-01T00:00:00\",\"2021-05-01T00:00:00\",\"2021-06-01T00:00:00\",\"2021-07-01T00:00:00\",\"2021-08-01T00:00:00\",\"2021-09-01T00:00:00\",\"2021-10-01T00:00:00\",\"2021-11-01T00:00:00\",\"2021-12-01T00:00:00\"],\"xaxis\":\"x\",\"y\":[471.0,500.0,514.0,0.0,508.0,485.0,406.0,430.0,482.0,459.0,535.0,542.0,630.0,530.0,535.0,519.0,577.0,639.0,452.0,438.0,514.0,275.0,284.0,349.0,331.0,310.0,278.0,128.0,123.0,142.0,215.0,236.0,246.0,270.0,299.0,362.0,379.0,296.0,535.0,421.0,499.0,382.0,427.0,535.0,508.0,539.0,563.0,515.0],\"yaxis\":\"y\",\"type\":\"scattergl\"},{\"hovertemplate\":\"variable=Factors influencing health status and contact with health services<br>Date=%{x|%Y %M}<br>People served (qty)=%{y}<extra></extra>\",\"legendgroup\":\"Factors influencing health status and contact with health services\",\"marker\":{\"color\":\"#00f6ff\",\"symbol\":\"circle\"},\"mode\":\"markers\",\"name\":\"Factors influencing health status and contact with health services\",\"showlegend\":true,\"x\":[\"2018-01-01T00:00:00\",\"2018-02-01T00:00:00\",\"2018-03-01T00:00:00\",\"2018-04-01T00:00:00\",\"2018-05-01T00:00:00\",\"2018-06-01T00:00:00\",\"2018-07-01T00:00:00\",\"2018-08-01T00:00:00\",\"2018-09-01T00:00:00\",\"2018-10-01T00:00:00\",\"2018-11-01T00:00:00\",\"2018-12-01T00:00:00\",\"2019-01-01T00:00:00\",\"2019-02-01T00:00:00\",\"2019-03-01T00:00:00\",\"2019-04-01T00:00:00\",\"2019-05-01T00:00:00\",\"2019-06-01T00:00:00\",\"2019-07-01T00:00:00\",\"2019-08-01T00:00:00\",\"2019-09-01T00:00:00\",\"2019-10-01T00:00:00\",\"2019-11-01T00:00:00\",\"2019-12-01T00:00:00\",\"2020-01-01T00:00:00\",\"2020-02-01T00:00:00\",\"2020-03-01T00:00:00\",\"2020-04-01T00:00:00\",\"2020-05-01T00:00:00\",\"2020-06-01T00:00:00\",\"2020-07-01T00:00:00\",\"2020-08-01T00:00:00\",\"2020-09-01T00:00:00\",\"2020-10-01T00:00:00\",\"2020-11-01T00:00:00\",\"2020-12-01T00:00:00\",\"2021-01-01T00:00:00\",\"2021-02-01T00:00:00\",\"2021-03-01T00:00:00\",\"2021-04-01T00:00:00\",\"2021-05-01T00:00:00\",\"2021-06-01T00:00:00\",\"2021-07-01T00:00:00\",\"2021-08-01T00:00:00\",\"2021-09-01T00:00:00\",\"2021-10-01T00:00:00\",\"2021-11-01T00:00:00\",\"2021-12-01T00:00:00\"],\"xaxis\":\"x\",\"y\":[8182.0,7863.0,7197.0,0.0,8508.0,8396.0,12382.0,10129.0,7919.0,8402.0,7224.0,9645.0,9579.0,8189.0,8316.0,7694.0,7544.0,7761.0,8590.0,8664.0,8312.0,4837.0,6321.0,7246.0,6756.0,5859.0,4694.0,1258.0,2097.0,3121.0,4173.0,4243.0,5009.0,5339.0,5904.0,5762.0,5927.0,4968.0,6133.0,5857.0,6111.0,6499.0,6571.0,6777.0,7235.0,7339.0,7280.0,6536.0],\"yaxis\":\"y\",\"type\":\"scattergl\"},{\"hovertemplate\":\"variable=Injuries, poisoning and some other consequences of external causes<br>Date=%{x|%Y %M}<br>People served (qty)=%{y}<extra></extra>\",\"legendgroup\":\"Injuries, poisoning and some other consequences of external causes\",\"marker\":{\"color\":\"#00bbff\",\"symbol\":\"circle\"},\"mode\":\"markers\",\"name\":\"Injuries, poisoning and some other consequences of external causes\",\"showlegend\":true,\"x\":[\"2018-01-01T00:00:00\",\"2018-02-01T00:00:00\",\"2018-03-01T00:00:00\",\"2018-04-01T00:00:00\",\"2018-05-01T00:00:00\",\"2018-06-01T00:00:00\",\"2018-07-01T00:00:00\",\"2018-08-01T00:00:00\",\"2018-09-01T00:00:00\",\"2018-10-01T00:00:00\",\"2018-11-01T00:00:00\",\"2018-12-01T00:00:00\",\"2019-01-01T00:00:00\",\"2019-02-01T00:00:00\",\"2019-03-01T00:00:00\",\"2019-04-01T00:00:00\",\"2019-05-01T00:00:00\",\"2019-06-01T00:00:00\",\"2019-07-01T00:00:00\",\"2019-08-01T00:00:00\",\"2019-09-01T00:00:00\",\"2019-10-01T00:00:00\",\"2019-11-01T00:00:00\",\"2019-12-01T00:00:00\",\"2020-01-01T00:00:00\",\"2020-02-01T00:00:00\",\"2020-03-01T00:00:00\",\"2020-04-01T00:00:00\",\"2020-05-01T00:00:00\",\"2020-06-01T00:00:00\",\"2020-07-01T00:00:00\",\"2020-08-01T00:00:00\",\"2020-09-01T00:00:00\",\"2020-10-01T00:00:00\",\"2020-11-01T00:00:00\",\"2020-12-01T00:00:00\",\"2021-01-01T00:00:00\",\"2021-02-01T00:00:00\",\"2021-03-01T00:00:00\",\"2021-04-01T00:00:00\",\"2021-05-01T00:00:00\",\"2021-06-01T00:00:00\",\"2021-07-01T00:00:00\",\"2021-08-01T00:00:00\",\"2021-09-01T00:00:00\",\"2021-10-01T00:00:00\",\"2021-11-01T00:00:00\",\"2021-12-01T00:00:00\"],\"xaxis\":\"x\",\"y\":[5454.0,5236.0,5208.0,0.0,5270.0,5389.0,8075.0,7449.0,5640.0,5727.0,7076.0,6774.0,5885.0,5229.0,5748.0,6068.0,7219.0,11439.0,6148.0,6062.0,6199.0,3450.0,4591.0,5113.0,3954.0,3693.0,2887.0,665.0,769.0,1164.0,2066.0,2071.0,2762.0,3104.0,3425.0,3873.0,3612.0,2713.0,3574.0,3136.0,3323.0,3456.0,3816.0,4013.0,4109.0,4434.0,4661.0,4315.0],\"yaxis\":\"y\",\"type\":\"scattergl\"},{\"hovertemplate\":\"variable=Mental and behavioral disorders<br>Date=%{x|%Y %M}<br>People served (qty)=%{y}<extra></extra>\",\"legendgroup\":\"Mental and behavioral disorders\",\"marker\":{\"color\":\"#0079ff\",\"symbol\":\"circle\"},\"mode\":\"markers\",\"name\":\"Mental and behavioral disorders\",\"showlegend\":true,\"x\":[\"2018-01-01T00:00:00\",\"2018-02-01T00:00:00\",\"2018-03-01T00:00:00\",\"2018-04-01T00:00:00\",\"2018-05-01T00:00:00\",\"2018-06-01T00:00:00\",\"2018-07-01T00:00:00\",\"2018-08-01T00:00:00\",\"2018-09-01T00:00:00\",\"2018-10-01T00:00:00\",\"2018-11-01T00:00:00\",\"2018-12-01T00:00:00\",\"2019-01-01T00:00:00\",\"2019-02-01T00:00:00\",\"2019-03-01T00:00:00\",\"2019-04-01T00:00:00\",\"2019-05-01T00:00:00\",\"2019-06-01T00:00:00\",\"2019-07-01T00:00:00\",\"2019-08-01T00:00:00\",\"2019-09-01T00:00:00\",\"2019-10-01T00:00:00\",\"2019-11-01T00:00:00\",\"2019-12-01T00:00:00\",\"2020-01-01T00:00:00\",\"2020-02-01T00:00:00\",\"2020-03-01T00:00:00\",\"2020-04-01T00:00:00\",\"2020-05-01T00:00:00\",\"2020-06-01T00:00:00\",\"2020-07-01T00:00:00\",\"2020-08-01T00:00:00\",\"2020-09-01T00:00:00\",\"2020-10-01T00:00:00\",\"2020-11-01T00:00:00\",\"2020-12-01T00:00:00\",\"2021-01-01T00:00:00\",\"2021-02-01T00:00:00\",\"2021-03-01T00:00:00\",\"2021-04-01T00:00:00\",\"2021-05-01T00:00:00\",\"2021-06-01T00:00:00\",\"2021-07-01T00:00:00\",\"2021-08-01T00:00:00\",\"2021-09-01T00:00:00\",\"2021-10-01T00:00:00\",\"2021-11-01T00:00:00\",\"2021-12-01T00:00:00\"],\"xaxis\":\"x\",\"y\":[858.0,818.0,915.0,0.0,744.0,888.0,2126.0,1392.0,749.0,715.0,762.0,1219.0,946.0,917.0,869.0,835.0,939.0,904.0,962.0,983.0,908.0,305.0,816.0,822.0,351.0,378.0,575.0,125.0,159.0,225.0,428.0,476.0,680.0,717.0,750.0,811.0,812.0,661.0,824.0,698.0,764.0,723.0,643.0,621.0,749.0,625.0,722.0,498.0],\"yaxis\":\"y\",\"type\":\"scattergl\"},{\"hovertemplate\":\"variable=Neoplasms<br>Date=%{x|%Y %M}<br>People served (qty)=%{y}<extra></extra>\",\"legendgroup\":\"Neoplasms\",\"marker\":{\"color\":\"#0038ff\",\"symbol\":\"circle\"},\"mode\":\"markers\",\"name\":\"Neoplasms\",\"showlegend\":true,\"x\":[\"2018-01-01T00:00:00\",\"2018-02-01T00:00:00\",\"2018-03-01T00:00:00\",\"2018-04-01T00:00:00\",\"2018-05-01T00:00:00\",\"2018-06-01T00:00:00\",\"2018-07-01T00:00:00\",\"2018-08-01T00:00:00\",\"2018-09-01T00:00:00\",\"2018-10-01T00:00:00\",\"2018-11-01T00:00:00\",\"2018-12-01T00:00:00\",\"2019-01-01T00:00:00\",\"2019-02-01T00:00:00\",\"2019-03-01T00:00:00\",\"2019-04-01T00:00:00\",\"2019-05-01T00:00:00\",\"2019-06-01T00:00:00\",\"2019-07-01T00:00:00\",\"2019-08-01T00:00:00\",\"2019-09-01T00:00:00\",\"2019-10-01T00:00:00\",\"2019-11-01T00:00:00\",\"2019-12-01T00:00:00\",\"2020-01-01T00:00:00\",\"2020-02-01T00:00:00\",\"2020-03-01T00:00:00\",\"2020-04-01T00:00:00\",\"2020-05-01T00:00:00\",\"2020-06-01T00:00:00\",\"2020-07-01T00:00:00\",\"2020-08-01T00:00:00\",\"2020-09-01T00:00:00\",\"2020-10-01T00:00:00\",\"2020-11-01T00:00:00\",\"2020-12-01T00:00:00\",\"2021-01-01T00:00:00\",\"2021-02-01T00:00:00\",\"2021-03-01T00:00:00\",\"2021-04-01T00:00:00\",\"2021-05-01T00:00:00\",\"2021-06-01T00:00:00\",\"2021-07-01T00:00:00\",\"2021-08-01T00:00:00\",\"2021-09-01T00:00:00\",\"2021-10-01T00:00:00\",\"2021-11-01T00:00:00\",\"2021-12-01T00:00:00\"],\"xaxis\":\"x\",\"y\":[3083.0,2984.0,2869.0,0.0,3237.0,3109.0,5569.0,4700.0,3207.0,3275.0,3572.0,4206.0,3679.0,3220.0,3489.0,3022.0,3328.0,3552.0,3798.0,3648.0,3703.0,1915.0,2870.0,3286.0,2822.0,2576.0,2468.0,967.0,1239.0,1776.0,2333.0,2499.0,3381.0,3604.0,4057.0,4068.0,3931.0,3246.0,3929.0,3532.0,3694.0,3899.0,3783.0,4047.0,4396.0,4297.0,4951.0,3784.0],\"yaxis\":\"y\",\"type\":\"scattergl\"},{\"hovertemplate\":\"variable=Nervous system diseases<br>Date=%{x|%Y %M}<br>People served (qty)=%{y}<extra></extra>\",\"legendgroup\":\"Nervous system diseases\",\"marker\":{\"color\":\"#0400ff\",\"symbol\":\"circle\"},\"mode\":\"markers\",\"name\":\"Nervous system diseases\",\"showlegend\":true,\"x\":[\"2018-01-01T00:00:00\",\"2018-02-01T00:00:00\",\"2018-03-01T00:00:00\",\"2018-04-01T00:00:00\",\"2018-05-01T00:00:00\",\"2018-06-01T00:00:00\",\"2018-07-01T00:00:00\",\"2018-08-01T00:00:00\",\"2018-09-01T00:00:00\",\"2018-10-01T00:00:00\",\"2018-11-01T00:00:00\",\"2018-12-01T00:00:00\",\"2019-01-01T00:00:00\",\"2019-02-01T00:00:00\",\"2019-03-01T00:00:00\",\"2019-04-01T00:00:00\",\"2019-05-01T00:00:00\",\"2019-06-01T00:00:00\",\"2019-07-01T00:00:00\",\"2019-08-01T00:00:00\",\"2019-09-01T00:00:00\",\"2019-10-01T00:00:00\",\"2019-11-01T00:00:00\",\"2019-12-01T00:00:00\",\"2020-01-01T00:00:00\",\"2020-02-01T00:00:00\",\"2020-03-01T00:00:00\",\"2020-04-01T00:00:00\",\"2020-05-01T00:00:00\",\"2020-06-01T00:00:00\",\"2020-07-01T00:00:00\",\"2020-08-01T00:00:00\",\"2020-09-01T00:00:00\",\"2020-10-01T00:00:00\",\"2020-11-01T00:00:00\",\"2020-12-01T00:00:00\",\"2021-01-01T00:00:00\",\"2021-02-01T00:00:00\",\"2021-03-01T00:00:00\",\"2021-04-01T00:00:00\",\"2021-05-01T00:00:00\",\"2021-06-01T00:00:00\",\"2021-07-01T00:00:00\",\"2021-08-01T00:00:00\",\"2021-09-01T00:00:00\",\"2021-10-01T00:00:00\",\"2021-11-01T00:00:00\",\"2021-12-01T00:00:00\"],\"xaxis\":\"x\",\"y\":[1943.0,1756.0,1555.0,0.0,1878.0,1916.0,3679.0,2964.0,1900.0,2086.0,2222.0,2581.0,2036.0,2057.0,2048.0,1938.0,2281.0,2717.0,2385.0,2206.0,2110.0,809.0,1463.0,1833.0,1130.0,869.0,1262.0,335.0,404.0,800.0,1286.0,1380.0,1887.0,1777.0,1982.0,2045.0,1822.0,1414.0,1732.0,1538.0,1734.0,1789.0,1817.0,1779.0,1881.0,1891.0,1949.0,1560.0],\"yaxis\":\"y\",\"type\":\"scattergl\"},{\"hovertemplate\":\"variable=Pregnancy, childbirth and puerperium<br>Date=%{x|%Y %M}<br>People served (qty)=%{y}<extra></extra>\",\"legendgroup\":\"Pregnancy, childbirth and puerperium\",\"marker\":{\"color\":\"#4500ff\",\"symbol\":\"circle\"},\"mode\":\"markers\",\"name\":\"Pregnancy, childbirth and puerperium\",\"showlegend\":true,\"x\":[\"2018-01-01T00:00:00\",\"2018-02-01T00:00:00\",\"2018-03-01T00:00:00\",\"2018-04-01T00:00:00\",\"2018-05-01T00:00:00\",\"2018-06-01T00:00:00\",\"2018-07-01T00:00:00\",\"2018-08-01T00:00:00\",\"2018-09-01T00:00:00\",\"2018-10-01T00:00:00\",\"2018-11-01T00:00:00\",\"2018-12-01T00:00:00\",\"2019-01-01T00:00:00\",\"2019-02-01T00:00:00\",\"2019-03-01T00:00:00\",\"2019-04-01T00:00:00\",\"2019-05-01T00:00:00\",\"2019-06-01T00:00:00\",\"2019-07-01T00:00:00\",\"2019-08-01T00:00:00\",\"2019-09-01T00:00:00\",\"2019-10-01T00:00:00\",\"2019-11-01T00:00:00\",\"2019-12-01T00:00:00\",\"2020-01-01T00:00:00\",\"2020-02-01T00:00:00\",\"2020-03-01T00:00:00\",\"2020-04-01T00:00:00\",\"2020-05-01T00:00:00\",\"2020-06-01T00:00:00\",\"2020-07-01T00:00:00\",\"2020-08-01T00:00:00\",\"2020-09-01T00:00:00\",\"2020-10-01T00:00:00\",\"2020-11-01T00:00:00\",\"2020-12-01T00:00:00\",\"2021-01-01T00:00:00\",\"2021-02-01T00:00:00\",\"2021-03-01T00:00:00\",\"2021-04-01T00:00:00\",\"2021-05-01T00:00:00\",\"2021-06-01T00:00:00\",\"2021-07-01T00:00:00\",\"2021-08-01T00:00:00\",\"2021-09-01T00:00:00\",\"2021-10-01T00:00:00\",\"2021-11-01T00:00:00\",\"2021-12-01T00:00:00\"],\"xaxis\":\"x\",\"y\":[897.0,875.0,1033.0,0.0,923.0,922.0,1020.0,907.0,968.0,988.0,959.0,994.0,976.0,679.0,777.0,785.0,1043.0,1442.0,864.0,849.0,812.0,538.0,542.0,669.0,829.0,674.0,765.0,595.0,510.0,531.0,706.0,734.0,765.0,765.0,705.0,663.0,652.0,646.0,815.0,706.0,802.0,789.0,850.0,909.0,909.0,879.0,805.0,860.0],\"yaxis\":\"y\",\"type\":\"scattergl\"},{\"hovertemplate\":\"variable=Respiratory system diseases<br>Date=%{x|%Y %M}<br>People served (qty)=%{y}<extra></extra>\",\"legendgroup\":\"Respiratory system diseases\",\"marker\":{\"color\":\"#8600ff\",\"symbol\":\"circle\"},\"mode\":\"markers\",\"name\":\"Respiratory system diseases\",\"showlegend\":true,\"x\":[\"2018-01-01T00:00:00\",\"2018-02-01T00:00:00\",\"2018-03-01T00:00:00\",\"2018-04-01T00:00:00\",\"2018-05-01T00:00:00\",\"2018-06-01T00:00:00\",\"2018-07-01T00:00:00\",\"2018-08-01T00:00:00\",\"2018-09-01T00:00:00\",\"2018-10-01T00:00:00\",\"2018-11-01T00:00:00\",\"2018-12-01T00:00:00\",\"2019-01-01T00:00:00\",\"2019-02-01T00:00:00\",\"2019-03-01T00:00:00\",\"2019-04-01T00:00:00\",\"2019-05-01T00:00:00\",\"2019-06-01T00:00:00\",\"2019-07-01T00:00:00\",\"2019-08-01T00:00:00\",\"2019-09-01T00:00:00\",\"2019-10-01T00:00:00\",\"2019-11-01T00:00:00\",\"2019-12-01T00:00:00\",\"2020-01-01T00:00:00\",\"2020-02-01T00:00:00\",\"2020-03-01T00:00:00\",\"2020-04-01T00:00:00\",\"2020-05-01T00:00:00\",\"2020-06-01T00:00:00\",\"2020-07-01T00:00:00\",\"2020-08-01T00:00:00\",\"2020-09-01T00:00:00\",\"2020-10-01T00:00:00\",\"2020-11-01T00:00:00\",\"2020-12-01T00:00:00\",\"2021-01-01T00:00:00\",\"2021-02-01T00:00:00\",\"2021-03-01T00:00:00\",\"2021-04-01T00:00:00\",\"2021-05-01T00:00:00\",\"2021-06-01T00:00:00\",\"2021-07-01T00:00:00\",\"2021-08-01T00:00:00\",\"2021-09-01T00:00:00\",\"2021-10-01T00:00:00\",\"2021-11-01T00:00:00\",\"2021-12-01T00:00:00\"],\"xaxis\":\"x\",\"y\":[10238.0,7536.0,7926.0,0.0,12244.0,15325.0,23458.0,16837.0,11816.0,11658.0,11918.0,14846.0,9820.0,7915.0,9441.0,10270.0,12915.0,19875.0,15253.0,13326.0,14319.0,4215.0,7096.0,8968.0,4264.0,3149.0,5806.0,1061.0,1679.0,1926.0,3690.0,3625.0,3825.0,3242.0,4119.0,4245.0,5094.0,4035.0,4240.0,4100.0,4383.0,4194.0,4473.0,4455.0,4122.0,4696.0,5267.0,4740.0],\"yaxis\":\"y\",\"type\":\"scattergl\"},{\"hovertemplate\":\"variable=Some conditions originating in the perinatal period<br>Date=%{x|%Y %M}<br>People served (qty)=%{y}<extra></extra>\",\"legendgroup\":\"Some conditions originating in the perinatal period\",\"marker\":{\"color\":\"#c200ff\",\"symbol\":\"circle\"},\"mode\":\"markers\",\"name\":\"Some conditions originating in the perinatal period\",\"showlegend\":true,\"x\":[\"2018-01-01T00:00:00\",\"2018-02-01T00:00:00\",\"2018-03-01T00:00:00\",\"2018-04-01T00:00:00\",\"2018-05-01T00:00:00\",\"2018-06-01T00:00:00\",\"2018-07-01T00:00:00\",\"2018-08-01T00:00:00\",\"2018-09-01T00:00:00\",\"2018-10-01T00:00:00\",\"2018-11-01T00:00:00\",\"2018-12-01T00:00:00\",\"2019-01-01T00:00:00\",\"2019-02-01T00:00:00\",\"2019-03-01T00:00:00\",\"2019-04-01T00:00:00\",\"2019-05-01T00:00:00\",\"2019-06-01T00:00:00\",\"2019-07-01T00:00:00\",\"2019-08-01T00:00:00\",\"2019-09-01T00:00:00\",\"2019-10-01T00:00:00\",\"2019-11-01T00:00:00\",\"2019-12-01T00:00:00\",\"2020-01-01T00:00:00\",\"2020-02-01T00:00:00\",\"2020-03-01T00:00:00\",\"2020-04-01T00:00:00\",\"2020-05-01T00:00:00\",\"2020-06-01T00:00:00\",\"2020-07-01T00:00:00\",\"2020-08-01T00:00:00\",\"2020-09-01T00:00:00\",\"2020-10-01T00:00:00\",\"2020-11-01T00:00:00\",\"2020-12-01T00:00:00\",\"2021-01-01T00:00:00\",\"2021-02-01T00:00:00\",\"2021-03-01T00:00:00\",\"2021-04-01T00:00:00\",\"2021-05-01T00:00:00\",\"2021-06-01T00:00:00\",\"2021-07-01T00:00:00\",\"2021-08-01T00:00:00\",\"2021-09-01T00:00:00\",\"2021-10-01T00:00:00\",\"2021-11-01T00:00:00\",\"2021-12-01T00:00:00\"],\"xaxis\":\"x\",\"y\":[109.0,114.0,146.0,0.0,128.0,129.0,192.0,139.0,161.0,152.0,119.0,164.0,145.0,129.0,132.0,112.0,114.0,137.0,134.0,99.0,98.0,66.0,79.0,88.0,92.0,70.0,75.0,35.0,45.0,74.0,83.0,87.0,92.0,103.0,78.0,98.0,86.0,73.0,102.0,101.0,89.0,88.0,76.0,88.0,91.0,108.0,108.0,120.0],\"yaxis\":\"y\",\"type\":\"scattergl\"},{\"hovertemplate\":\"variable=Some infectious and parasitic diseases<br>Date=%{x|%Y %M}<br>People served (qty)=%{y}<extra></extra>\",\"legendgroup\":\"Some infectious and parasitic diseases\",\"marker\":{\"color\":\"#ff00fb\",\"symbol\":\"circle\"},\"mode\":\"markers\",\"name\":\"Some infectious and parasitic diseases\",\"showlegend\":true,\"x\":[\"2018-01-01T00:00:00\",\"2018-02-01T00:00:00\",\"2018-03-01T00:00:00\",\"2018-04-01T00:00:00\",\"2018-05-01T00:00:00\",\"2018-06-01T00:00:00\",\"2018-07-01T00:00:00\",\"2018-08-01T00:00:00\",\"2018-09-01T00:00:00\",\"2018-10-01T00:00:00\",\"2018-11-01T00:00:00\",\"2018-12-01T00:00:00\",\"2019-01-01T00:00:00\",\"2019-02-01T00:00:00\",\"2019-03-01T00:00:00\",\"2019-04-01T00:00:00\",\"2019-05-01T00:00:00\",\"2019-06-01T00:00:00\",\"2019-07-01T00:00:00\",\"2019-08-01T00:00:00\",\"2019-09-01T00:00:00\",\"2019-10-01T00:00:00\",\"2019-11-01T00:00:00\",\"2019-12-01T00:00:00\",\"2020-01-01T00:00:00\",\"2020-02-01T00:00:00\",\"2020-03-01T00:00:00\",\"2020-04-01T00:00:00\",\"2020-05-01T00:00:00\",\"2020-06-01T00:00:00\",\"2020-07-01T00:00:00\",\"2020-08-01T00:00:00\",\"2020-09-01T00:00:00\",\"2020-10-01T00:00:00\",\"2020-11-01T00:00:00\",\"2020-12-01T00:00:00\",\"2021-01-01T00:00:00\",\"2021-02-01T00:00:00\",\"2021-03-01T00:00:00\",\"2021-04-01T00:00:00\",\"2021-05-01T00:00:00\",\"2021-06-01T00:00:00\",\"2021-07-01T00:00:00\",\"2021-08-01T00:00:00\",\"2021-09-01T00:00:00\",\"2021-10-01T00:00:00\",\"2021-11-01T00:00:00\",\"2021-12-01T00:00:00\"],\"xaxis\":\"x\",\"y\":[3646.0,3595.0,3124.0,0.0,3078.0,2817.0,4642.0,4214.0,2983.0,3362.0,3907.0,4726.0,4037.0,3957.0,3978.0,3358.0,4119.0,4606.0,3380.0,3577.0,3904.0,1925.0,2716.0,3552.0,2579.0,2370.0,1889.0,515.0,1064.0,1588.0,2522.0,2602.0,2123.0,1929.0,2167.0,2716.0,3188.0,2739.0,2922.0,2721.0,2410.0,2173.0,2291.0,2384.0,2280.0,2632.0,2673.0,2582.0],\"yaxis\":\"y\",\"type\":\"scattergl\"},{\"hovertemplate\":\"variable=Unidentified<br>Date=%{x|%Y %M}<br>People served (qty)=%{y}<extra></extra>\",\"legendgroup\":\"Unidentified\",\"marker\":{\"color\":\"#ff00bf\",\"symbol\":\"circle\"},\"mode\":\"markers\",\"name\":\"Unidentified\",\"showlegend\":true,\"x\":[\"2018-01-01T00:00:00\",\"2018-02-01T00:00:00\",\"2018-03-01T00:00:00\",\"2018-04-01T00:00:00\",\"2018-05-01T00:00:00\",\"2018-06-01T00:00:00\",\"2018-07-01T00:00:00\",\"2018-08-01T00:00:00\",\"2018-09-01T00:00:00\",\"2018-10-01T00:00:00\",\"2018-11-01T00:00:00\",\"2018-12-01T00:00:00\",\"2019-01-01T00:00:00\",\"2019-02-01T00:00:00\",\"2019-03-01T00:00:00\",\"2019-04-01T00:00:00\",\"2019-05-01T00:00:00\",\"2019-06-01T00:00:00\",\"2019-07-01T00:00:00\",\"2019-08-01T00:00:00\",\"2019-09-01T00:00:00\",\"2019-10-01T00:00:00\",\"2019-11-01T00:00:00\",\"2019-12-01T00:00:00\",\"2020-01-01T00:00:00\",\"2020-02-01T00:00:00\",\"2020-03-01T00:00:00\",\"2020-04-01T00:00:00\",\"2020-05-01T00:00:00\",\"2020-06-01T00:00:00\",\"2020-07-01T00:00:00\",\"2020-08-01T00:00:00\",\"2020-09-01T00:00:00\",\"2020-10-01T00:00:00\",\"2020-11-01T00:00:00\",\"2020-12-01T00:00:00\",\"2021-01-01T00:00:00\",\"2021-02-01T00:00:00\",\"2021-03-01T00:00:00\",\"2021-04-01T00:00:00\",\"2021-05-01T00:00:00\",\"2021-06-01T00:00:00\",\"2021-07-01T00:00:00\",\"2021-08-01T00:00:00\",\"2021-09-01T00:00:00\",\"2021-10-01T00:00:00\",\"2021-11-01T00:00:00\",\"2021-12-01T00:00:00\"],\"xaxis\":\"x\",\"y\":[1284.0,1128.0,1074.0,0.0,1044.0,1025.0,1823.0,1473.0,1089.0,1153.0,1471.0,1511.0,1353.0,1185.0,1196.0,1214.0,1400.0,1890.0,1211.0,1221.0,1182.0,561.0,752.0,891.0,695.0,652.0,493.0,150.0,175.0,276.0,529.0,513.0,585.0,736.0,848.0,900.0,921.0,672.0,850.0,728.0,786.0,864.0,909.0,893.0,962.0,1021.0,984.0,974.0],\"yaxis\":\"y\",\"type\":\"scattergl\"}],                        {\"template\":{\"data\":{\"histogram2dcontour\":[{\"type\":\"histogram2dcontour\",\"colorbar\":{\"outlinewidth\":0,\"ticks\":\"\"},\"colorscale\":[[0.0,\"#0d0887\"],[0.1111111111111111,\"#46039f\"],[0.2222222222222222,\"#7201a8\"],[0.3333333333333333,\"#9c179e\"],[0.4444444444444444,\"#bd3786\"],[0.5555555555555556,\"#d8576b\"],[0.6666666666666666,\"#ed7953\"],[0.7777777777777778,\"#fb9f3a\"],[0.8888888888888888,\"#fdca26\"],[1.0,\"#f0f921\"]]}],\"choropleth\":[{\"type\":\"choropleth\",\"colorbar\":{\"outlinewidth\":0,\"ticks\":\"\"}}],\"histogram2d\":[{\"type\":\"histogram2d\",\"colorbar\":{\"outlinewidth\":0,\"ticks\":\"\"},\"colorscale\":[[0.0,\"#0d0887\"],[0.1111111111111111,\"#46039f\"],[0.2222222222222222,\"#7201a8\"],[0.3333333333333333,\"#9c179e\"],[0.4444444444444444,\"#bd3786\"],[0.5555555555555556,\"#d8576b\"],[0.6666666666666666,\"#ed7953\"],[0.7777777777777778,\"#fb9f3a\"],[0.8888888888888888,\"#fdca26\"],[1.0,\"#f0f921\"]]}],\"heatmap\":[{\"type\":\"heatmap\",\"colorbar\":{\"outlinewidth\":0,\"ticks\":\"\"},\"colorscale\":[[0.0,\"#0d0887\"],[0.1111111111111111,\"#46039f\"],[0.2222222222222222,\"#7201a8\"],[0.3333333333333333,\"#9c179e\"],[0.4444444444444444,\"#bd3786\"],[0.5555555555555556,\"#d8576b\"],[0.6666666666666666,\"#ed7953\"],[0.7777777777777778,\"#fb9f3a\"],[0.8888888888888888,\"#fdca26\"],[1.0,\"#f0f921\"]]}],\"heatmapgl\":[{\"type\":\"heatmapgl\",\"colorbar\":{\"outlinewidth\":0,\"ticks\":\"\"},\"colorscale\":[[0.0,\"#0d0887\"],[0.1111111111111111,\"#46039f\"],[0.2222222222222222,\"#7201a8\"],[0.3333333333333333,\"#9c179e\"],[0.4444444444444444,\"#bd3786\"],[0.5555555555555556,\"#d8576b\"],[0.6666666666666666,\"#ed7953\"],[0.7777777777777778,\"#fb9f3a\"],[0.8888888888888888,\"#fdca26\"],[1.0,\"#f0f921\"]]}],\"contourcarpet\":[{\"type\":\"contourcarpet\",\"colorbar\":{\"outlinewidth\":0,\"ticks\":\"\"}}],\"contour\":[{\"type\":\"contour\",\"colorbar\":{\"outlinewidth\":0,\"ticks\":\"\"},\"colorscale\":[[0.0,\"#0d0887\"],[0.1111111111111111,\"#46039f\"],[0.2222222222222222,\"#7201a8\"],[0.3333333333333333,\"#9c179e\"],[0.4444444444444444,\"#bd3786\"],[0.5555555555555556,\"#d8576b\"],[0.6666666666666666,\"#ed7953\"],[0.7777777777777778,\"#fb9f3a\"],[0.8888888888888888,\"#fdca26\"],[1.0,\"#f0f921\"]]}],\"surface\":[{\"type\":\"surface\",\"colorbar\":{\"outlinewidth\":0,\"ticks\":\"\"},\"colorscale\":[[0.0,\"#0d0887\"],[0.1111111111111111,\"#46039f\"],[0.2222222222222222,\"#7201a8\"],[0.3333333333333333,\"#9c179e\"],[0.4444444444444444,\"#bd3786\"],[0.5555555555555556,\"#d8576b\"],[0.6666666666666666,\"#ed7953\"],[0.7777777777777778,\"#fb9f3a\"],[0.8888888888888888,\"#fdca26\"],[1.0,\"#f0f921\"]]}],\"mesh3d\":[{\"type\":\"mesh3d\",\"colorbar\":{\"outlinewidth\":0,\"ticks\":\"\"}}],\"scatter\":[{\"fillpattern\":{\"fillmode\":\"overlay\",\"size\":10,\"solidity\":0.2},\"type\":\"scatter\"}],\"parcoords\":[{\"type\":\"parcoords\",\"line\":{\"colorbar\":{\"outlinewidth\":0,\"ticks\":\"\"}}}],\"scatterpolargl\":[{\"type\":\"scatterpolargl\",\"marker\":{\"colorbar\":{\"outlinewidth\":0,\"ticks\":\"\"}}}],\"bar\":[{\"error_x\":{\"color\":\"#2a3f5f\"},\"error_y\":{\"color\":\"#2a3f5f\"},\"marker\":{\"line\":{\"color\":\"#E5ECF6\",\"width\":0.5},\"pattern\":{\"fillmode\":\"overlay\",\"size\":10,\"solidity\":0.2}},\"type\":\"bar\"}],\"scattergeo\":[{\"type\":\"scattergeo\",\"marker\":{\"colorbar\":{\"outlinewidth\":0,\"ticks\":\"\"}}}],\"scatterpolar\":[{\"type\":\"scatterpolar\",\"marker\":{\"colorbar\":{\"outlinewidth\":0,\"ticks\":\"\"}}}],\"histogram\":[{\"marker\":{\"pattern\":{\"fillmode\":\"overlay\",\"size\":10,\"solidity\":0.2}},\"type\":\"histogram\"}],\"scattergl\":[{\"type\":\"scattergl\",\"marker\":{\"colorbar\":{\"outlinewidth\":0,\"ticks\":\"\"}}}],\"scatter3d\":[{\"type\":\"scatter3d\",\"line\":{\"colorbar\":{\"outlinewidth\":0,\"ticks\":\"\"}},\"marker\":{\"colorbar\":{\"outlinewidth\":0,\"ticks\":\"\"}}}],\"scattermapbox\":[{\"type\":\"scattermapbox\",\"marker\":{\"colorbar\":{\"outlinewidth\":0,\"ticks\":\"\"}}}],\"scatterternary\":[{\"type\":\"scatterternary\",\"marker\":{\"colorbar\":{\"outlinewidth\":0,\"ticks\":\"\"}}}],\"scattercarpet\":[{\"type\":\"scattercarpet\",\"marker\":{\"colorbar\":{\"outlinewidth\":0,\"ticks\":\"\"}}}],\"carpet\":[{\"aaxis\":{\"endlinecolor\":\"#2a3f5f\",\"gridcolor\":\"white\",\"linecolor\":\"white\",\"minorgridcolor\":\"white\",\"startlinecolor\":\"#2a3f5f\"},\"baxis\":{\"endlinecolor\":\"#2a3f5f\",\"gridcolor\":\"white\",\"linecolor\":\"white\",\"minorgridcolor\":\"white\",\"startlinecolor\":\"#2a3f5f\"},\"type\":\"carpet\"}],\"table\":[{\"cells\":{\"fill\":{\"color\":\"#EBF0F8\"},\"line\":{\"color\":\"white\"}},\"header\":{\"fill\":{\"color\":\"#C8D4E3\"},\"line\":{\"color\":\"white\"}},\"type\":\"table\"}],\"barpolar\":[{\"marker\":{\"line\":{\"color\":\"#E5ECF6\",\"width\":0.5},\"pattern\":{\"fillmode\":\"overlay\",\"size\":10,\"solidity\":0.2}},\"type\":\"barpolar\"}],\"pie\":[{\"automargin\":true,\"type\":\"pie\"}]},\"layout\":{\"autotypenumbers\":\"strict\",\"colorway\":[\"#636efa\",\"#EF553B\",\"#00cc96\",\"#ab63fa\",\"#FFA15A\",\"#19d3f3\",\"#FF6692\",\"#B6E880\",\"#FF97FF\",\"#FECB52\"],\"font\":{\"color\":\"#2a3f5f\"},\"hovermode\":\"closest\",\"hoverlabel\":{\"align\":\"left\"},\"paper_bgcolor\":\"white\",\"plot_bgcolor\":\"#E5ECF6\",\"polar\":{\"bgcolor\":\"#E5ECF6\",\"angularaxis\":{\"gridcolor\":\"white\",\"linecolor\":\"white\",\"ticks\":\"\"},\"radialaxis\":{\"gridcolor\":\"white\",\"linecolor\":\"white\",\"ticks\":\"\"}},\"ternary\":{\"bgcolor\":\"#E5ECF6\",\"aaxis\":{\"gridcolor\":\"white\",\"linecolor\":\"white\",\"ticks\":\"\"},\"baxis\":{\"gridcolor\":\"white\",\"linecolor\":\"white\",\"ticks\":\"\"},\"caxis\":{\"gridcolor\":\"white\",\"linecolor\":\"white\",\"ticks\":\"\"}},\"coloraxis\":{\"colorbar\":{\"outlinewidth\":0,\"ticks\":\"\"}},\"colorscale\":{\"sequential\":[[0.0,\"#0d0887\"],[0.1111111111111111,\"#46039f\"],[0.2222222222222222,\"#7201a8\"],[0.3333333333333333,\"#9c179e\"],[0.4444444444444444,\"#bd3786\"],[0.5555555555555556,\"#d8576b\"],[0.6666666666666666,\"#ed7953\"],[0.7777777777777778,\"#fb9f3a\"],[0.8888888888888888,\"#fdca26\"],[1.0,\"#f0f921\"]],\"sequentialminus\":[[0.0,\"#0d0887\"],[0.1111111111111111,\"#46039f\"],[0.2222222222222222,\"#7201a8\"],[0.3333333333333333,\"#9c179e\"],[0.4444444444444444,\"#bd3786\"],[0.5555555555555556,\"#d8576b\"],[0.6666666666666666,\"#ed7953\"],[0.7777777777777778,\"#fb9f3a\"],[0.8888888888888888,\"#fdca26\"],[1.0,\"#f0f921\"]],\"diverging\":[[0,\"#8e0152\"],[0.1,\"#c51b7d\"],[0.2,\"#de77ae\"],[0.3,\"#f1b6da\"],[0.4,\"#fde0ef\"],[0.5,\"#f7f7f7\"],[0.6,\"#e6f5d0\"],[0.7,\"#b8e186\"],[0.8,\"#7fbc41\"],[0.9,\"#4d9221\"],[1,\"#276419\"]]},\"xaxis\":{\"gridcolor\":\"white\",\"linecolor\":\"white\",\"ticks\":\"\",\"title\":{\"standoff\":15},\"zerolinecolor\":\"white\",\"automargin\":true,\"zerolinewidth\":2},\"yaxis\":{\"gridcolor\":\"white\",\"linecolor\":\"white\",\"ticks\":\"\",\"title\":{\"standoff\":15},\"zerolinecolor\":\"white\",\"automargin\":true,\"zerolinewidth\":2},\"scene\":{\"xaxis\":{\"backgroundcolor\":\"#E5ECF6\",\"gridcolor\":\"white\",\"linecolor\":\"white\",\"showbackground\":true,\"ticks\":\"\",\"zerolinecolor\":\"white\",\"gridwidth\":2},\"yaxis\":{\"backgroundcolor\":\"#E5ECF6\",\"gridcolor\":\"white\",\"linecolor\":\"white\",\"showbackground\":true,\"ticks\":\"\",\"zerolinecolor\":\"white\",\"gridwidth\":2},\"zaxis\":{\"backgroundcolor\":\"#E5ECF6\",\"gridcolor\":\"white\",\"linecolor\":\"white\",\"showbackground\":true,\"ticks\":\"\",\"zerolinecolor\":\"white\",\"gridwidth\":2}},\"shapedefaults\":{\"line\":{\"color\":\"#2a3f5f\"}},\"annotationdefaults\":{\"arrowcolor\":\"#2a3f5f\",\"arrowhead\":0,\"arrowwidth\":1},\"geo\":{\"bgcolor\":\"white\",\"landcolor\":\"#E5ECF6\",\"subunitcolor\":\"white\",\"showland\":true,\"showlakes\":true,\"lakecolor\":\"white\"},\"title\":{\"x\":0.05},\"mapbox\":{\"style\":\"light\"}}},\"xaxis\":{\"anchor\":\"y\",\"domain\":[0.0,1.0],\"title\":{\"text\":\"Date\"},\"dtick\":\"M1\",\"tickformat\":\"%b-%Y\"},\"yaxis\":{\"anchor\":\"x\",\"domain\":[0.0,1.0],\"title\":{\"text\":\"People served (qty)\"}},\"legend\":{\"title\":{\"text\":\"variable\"},\"tracegroupgap\":0,\"yanchor\":\"top\",\"y\":-0.3,\"xanchor\":\"left\",\"x\":0},\"title\":{\"text\":\"Total people served to Category III (PRIVATE)\"},\"height\":1000,\"width\":1000,\"showlegend\":true},                        {\"responsive\": true}                    ).then(function(){\n",
       "                            \n",
       "var gd = document.getElementById('01fe3e82-1b5b-4d07-a47d-6fa58854a296');\n",
       "var x = new MutationObserver(function (mutations, observer) {{\n",
       "        var display = window.getComputedStyle(gd).display;\n",
       "        if (!display || display === 'none') {{\n",
       "            console.log([gd, 'removed!']);\n",
       "            Plotly.purge(gd);\n",
       "            observer.disconnect();\n",
       "        }}\n",
       "}});\n",
       "\n",
       "// Listen for the removal of the full notebook cells\n",
       "var notebookContainer = gd.closest('#notebook-container');\n",
       "if (notebookContainer) {{\n",
       "    x.observe(notebookContainer, {childList: true});\n",
       "}}\n",
       "\n",
       "// Listen for the clearing of the current output cell\n",
       "var outputEl = gd.closest('.output');\n",
       "if (outputEl) {{\n",
       "    x.observe(outputEl, {childList: true});\n",
       "}}\n",
       "\n",
       "                        })                };                });            </script>        </div>"
      ]
     },
     "metadata": {},
     "output_type": "display_data"
    }
   ],
   "source": [
    "df = pd.concat([data_temp['DATE'],data_temp['PRIVATE']], axis=1)\n",
    "#df = top_of_df(df, top = 10)\n",
    "\n",
    "columns_name = list(df.columns)[1:]\n",
    "columns_colors = [dict_colors[i] for i in columns_name]\n",
    "\n",
    "\n",
    "# fig = px.line(df, x=\"DATE\", y=columns_name,\n",
    "#               hover_data={\"DATE\": \"|%B %d, %Y\"},\n",
    "#               color_discrete_sequence=columns_colors,\n",
    "#               labels={\n",
    "#                      \"value\": \"People served (qty)\",\n",
    "#                      \"DATE\": \"Date\",\n",
    "#                      \"SECTOR2\": \"Sector\"\n",
    "#                  },\n",
    "#               title='Diagnosis to Category ' + CATEGORIA_STUDIO + ' (PRIVADO)',\n",
    "#               width=800, height=1000)\n",
    "\n",
    "fig = px.scatter(df, x=\"DATE\", y=columns_name,\n",
    "                 hover_data={\"DATE\": \"|%Y %M\"},\n",
    "                 color_discrete_sequence=columns_colors,\n",
    "                 labels={\n",
    "                     \"value\": \"People served (qty)\",\n",
    "                     \"DATE\": \"Date\",\n",
    "                     \"SECTOR2\": \"Sector\"\n",
    "                 },\n",
    "                 title='Total people served to Category ' + CATEGORIA_STUDIO + ' (PRIVATE)',\n",
    "                 width=1000, height=1000)\n",
    "\n",
    "fig.update_layout(legend=dict(yanchor=\"top\",\n",
    "                              y=-0.3,\n",
    "                              xanchor=\"left\",\n",
    "                              x=0\n",
    "                             ),\n",
    "                  showlegend=True\n",
    "                 )\n",
    "\n",
    "fig.update_xaxes(\n",
    "    dtick=\"M1\",\n",
    "    tickformat=\"%b-%Y\")\n",
    "fig.show()"
   ]
  },
  {
   "cell_type": "raw",
   "id": "67152342",
   "metadata": {
    "scrolled": true
   },
   "source": [
    "df = data_temp['PRIVADO'].copy()\n",
    "df.index = data_temp['DATE']\n",
    "fig = px.area(df, facet_col=\"DISEASE_GROUP\",\n",
    "              facet_col_wrap=2,\n",
    "              facet_row_spacing = 0.025,\n",
    "              width=1000, height=3000)\n",
    "\n",
    "fig.update_layout(legend=dict(yanchor=\"top\",\n",
    "                              y=-0.1,\n",
    "                              xanchor=\"left\",\n",
    "                              x=0\n",
    "                             ),\n",
    "                  showlegend=True\n",
    "                 )\n",
    "fig.show()"
   ]
  },
  {
   "cell_type": "code",
   "execution_count": 180,
   "id": "51a5cdb0",
   "metadata": {},
   "outputs": [
    {
     "data": {
      "text/html": [
       "<div>\n",
       "<style scoped>\n",
       "    .dataframe tbody tr th:only-of-type {\n",
       "        vertical-align: middle;\n",
       "    }\n",
       "\n",
       "    .dataframe tbody tr th {\n",
       "        vertical-align: top;\n",
       "    }\n",
       "\n",
       "    .dataframe thead th {\n",
       "        text-align: right;\n",
       "    }\n",
       "</style>\n",
       "<table border=\"1\" class=\"dataframe\">\n",
       "  <thead>\n",
       "    <tr style=\"text-align: right;\">\n",
       "      <th></th>\n",
       "      <th>DATE</th>\n",
       "      <th>SECTOR2</th>\n",
       "      <th>DISEASE_GROUP</th>\n",
       "      <th>QTY_PEOPLE_SERVED</th>\n",
       "    </tr>\n",
       "  </thead>\n",
       "  <tbody>\n",
       "    <tr>\n",
       "      <th>0</th>\n",
       "      <td>2018-01-01</td>\n",
       "      <td>PRIVATE</td>\n",
       "      <td>Abnormal clinical and laboratory symptoms, sig...</td>\n",
       "      <td>7067</td>\n",
       "    </tr>\n",
       "    <tr>\n",
       "      <th>1</th>\n",
       "      <td>2018-01-01</td>\n",
       "      <td>PRIVATE</td>\n",
       "      <td>Congenital malformations, deformities and chro...</td>\n",
       "      <td>480</td>\n",
       "    </tr>\n",
       "    <tr>\n",
       "      <th>2</th>\n",
       "      <td>2018-01-01</td>\n",
       "      <td>PRIVATE</td>\n",
       "      <td>Digestive system diseases</td>\n",
       "      <td>5394</td>\n",
       "    </tr>\n",
       "  </tbody>\n",
       "</table>\n",
       "</div>"
      ],
      "text/plain": [
       "        DATE  SECTOR2                                      DISEASE_GROUP  \\\n",
       "0 2018-01-01  PRIVATE  Abnormal clinical and laboratory symptoms, sig...   \n",
       "1 2018-01-01  PRIVATE  Congenital malformations, deformities and chro...   \n",
       "2 2018-01-01  PRIVATE                          Digestive system diseases   \n",
       "\n",
       "   QTY_PEOPLE_SERVED  \n",
       "0               7067  \n",
       "1                480  \n",
       "2               5394  "
      ]
     },
     "execution_count": 180,
     "metadata": {},
     "output_type": "execute_result"
    }
   ],
   "source": [
    "data_temp = all_data[all_data['CATEGORY2']==CATEGORIA_STUDIO]\n",
    "data_temp =  data_temp.groupby(['DATE', 'SECTOR2', 'DISEASE_GROUP']).agg({ 'QTY_PEOPLE_SERVED': \"sum\"})\n",
    "data_temp = data_temp.reset_index()\n",
    "\n",
    "data_temp['QTY_PEOPLE_SERVED'] =data_temp['QTY_PEOPLE_SERVED'].mask((data_temp['DATE'].dt.year==2018) & (data_temp['DATE'].dt.month==4),0)\n",
    "\n",
    "data_temp.head(3)"
   ]
  },
  {
   "cell_type": "code",
   "execution_count": 218,
   "id": "bd1ec12d",
   "metadata": {},
   "outputs": [
    {
     "data": {
      "application/vnd.plotly.v1+json": {
       "config": {
        "plotlyServerURL": "https://plot.ly"
       },
       "data": [
        {
         "alignmentgroup": "True",
         "hovertemplate": "DISEASE_GROUP=Abnormal clinical and laboratory symptoms, signs, and findings, not elsewhere classified<br>SECTOR2=PRIVATE<br>DATE=%{x}<br>QTY_PEOPLE_SERVED=%{y}<extra></extra>",
         "legendgroup": "Abnormal clinical and laboratory symptoms, signs, and findings, not elsewhere classified",
         "marker": {
          "color": "#393b79",
          "pattern": {
           "shape": ""
          }
         },
         "name": "Abnormal clinical and laboratory symptoms, signs, and findings, not elsewhere classified",
         "offsetgroup": "Abnormal clinical and laboratory symptoms, signs, and findings, not elsewhere classified",
         "orientation": "v",
         "showlegend": true,
         "textposition": "auto",
         "type": "bar",
         "x": [
          "2018-01-01T00:00:00",
          "2018-02-01T00:00:00",
          "2018-03-01T00:00:00",
          "2018-04-01T00:00:00",
          "2018-05-01T00:00:00",
          "2018-06-01T00:00:00",
          "2018-07-01T00:00:00",
          "2018-08-01T00:00:00",
          "2018-09-01T00:00:00",
          "2018-10-01T00:00:00",
          "2018-11-01T00:00:00",
          "2018-12-01T00:00:00",
          "2019-01-01T00:00:00",
          "2019-02-01T00:00:00",
          "2019-03-01T00:00:00",
          "2019-04-01T00:00:00",
          "2019-05-01T00:00:00",
          "2019-06-01T00:00:00",
          "2019-07-01T00:00:00",
          "2019-08-01T00:00:00",
          "2019-09-01T00:00:00",
          "2019-10-01T00:00:00",
          "2019-11-01T00:00:00",
          "2019-12-01T00:00:00",
          "2020-01-01T00:00:00",
          "2020-02-01T00:00:00",
          "2020-03-01T00:00:00",
          "2020-04-01T00:00:00",
          "2020-05-01T00:00:00",
          "2020-06-01T00:00:00",
          "2020-07-01T00:00:00",
          "2020-08-01T00:00:00",
          "2020-09-01T00:00:00",
          "2020-10-01T00:00:00",
          "2020-11-01T00:00:00",
          "2020-12-01T00:00:00",
          "2021-01-01T00:00:00",
          "2021-02-01T00:00:00",
          "2021-03-01T00:00:00",
          "2021-04-01T00:00:00",
          "2021-05-01T00:00:00",
          "2021-06-01T00:00:00",
          "2021-07-01T00:00:00",
          "2021-08-01T00:00:00",
          "2021-09-01T00:00:00",
          "2021-10-01T00:00:00",
          "2021-11-01T00:00:00",
          "2021-12-01T00:00:00"
         ],
         "xaxis": "x",
         "y": [
          7067,
          6953,
          7295,
          0,
          7341,
          7808,
          10589,
          9391,
          7396,
          7439,
          8176,
          8563,
          7803,
          6752,
          7206,
          7215,
          9059,
          14448,
          8185,
          7757,
          7829,
          4168,
          5346,
          6021,
          4951,
          4498,
          3654,
          1249,
          1532,
          2252,
          3423,
          3699,
          4734,
          5083,
          5818,
          6221,
          5725,
          4643,
          5871,
          5316,
          5526,
          5680,
          6217,
          6524,
          6754,
          6934,
          7537,
          6703
         ],
         "yaxis": "y"
        },
        {
         "alignmentgroup": "True",
         "hovertemplate": "DISEASE_GROUP=Abnormal clinical and laboratory symptoms, signs, and findings, not elsewhere classified<br>SECTOR2=PUBLIC<br>DATE=%{x}<br>QTY_PEOPLE_SERVED=%{y}<extra></extra>",
         "legendgroup": "Abnormal clinical and laboratory symptoms, signs, and findings, not elsewhere classified",
         "marker": {
          "color": "#393b79",
          "pattern": {
           "shape": ""
          }
         },
         "name": "Abnormal clinical and laboratory symptoms, signs, and findings, not elsewhere classified",
         "offsetgroup": "Abnormal clinical and laboratory symptoms, signs, and findings, not elsewhere classified",
         "orientation": "v",
         "showlegend": false,
         "textposition": "auto",
         "type": "bar",
         "x": [
          "2018-01-01T00:00:00",
          "2018-02-01T00:00:00",
          "2018-03-01T00:00:00",
          "2018-04-01T00:00:00",
          "2018-05-01T00:00:00",
          "2018-06-01T00:00:00",
          "2018-07-01T00:00:00",
          "2018-08-01T00:00:00",
          "2018-09-01T00:00:00",
          "2018-10-01T00:00:00",
          "2018-11-01T00:00:00",
          "2018-12-01T00:00:00",
          "2019-01-01T00:00:00",
          "2019-02-01T00:00:00",
          "2019-03-01T00:00:00",
          "2019-04-01T00:00:00",
          "2019-05-01T00:00:00",
          "2019-06-01T00:00:00",
          "2019-07-01T00:00:00",
          "2019-08-01T00:00:00",
          "2019-09-01T00:00:00",
          "2019-10-01T00:00:00",
          "2019-11-01T00:00:00",
          "2019-12-01T00:00:00",
          "2020-01-01T00:00:00",
          "2020-02-01T00:00:00",
          "2020-03-01T00:00:00",
          "2020-04-01T00:00:00",
          "2020-05-01T00:00:00",
          "2020-06-01T00:00:00",
          "2020-07-01T00:00:00",
          "2020-08-01T00:00:00",
          "2020-09-01T00:00:00",
          "2020-10-01T00:00:00",
          "2020-11-01T00:00:00",
          "2020-12-01T00:00:00",
          "2021-01-01T00:00:00",
          "2021-02-01T00:00:00",
          "2021-03-01T00:00:00",
          "2021-04-01T00:00:00",
          "2021-05-01T00:00:00",
          "2021-06-01T00:00:00",
          "2021-07-01T00:00:00",
          "2021-08-01T00:00:00",
          "2021-09-01T00:00:00",
          "2021-10-01T00:00:00",
          "2021-11-01T00:00:00",
          "2021-12-01T00:00:00"
         ],
         "xaxis": "x2",
         "y": [
          32860,
          32152,
          35469,
          0,
          36650,
          36596,
          32811,
          32584,
          37159,
          42343,
          38961,
          32601,
          46048,
          40295,
          38386,
          40059,
          54553,
          61421,
          35631,
          36071,
          39324,
          27806,
          23919,
          30226,
          24287,
          24869,
          11630,
          5155,
          3711,
          3528,
          5541,
          6308,
          8659,
          11043,
          17163,
          14221,
          15778,
          11697,
          15902,
          15166,
          14452,
          17982,
          21028,
          22786,
          24382,
          24968,
          26222,
          27316
         ],
         "yaxis": "y2"
        },
        {
         "alignmentgroup": "True",
         "hovertemplate": "DISEASE_GROUP=Congenital malformations, deformities and chromosomal abnormalities<br>SECTOR2=PRIVATE<br>DATE=%{x}<br>QTY_PEOPLE_SERVED=%{y}<extra></extra>",
         "legendgroup": "Congenital malformations, deformities and chromosomal abnormalities",
         "marker": {
          "color": "#5254a3",
          "pattern": {
           "shape": ""
          }
         },
         "name": "Congenital malformations, deformities and chromosomal abnormalities",
         "offsetgroup": "Congenital malformations, deformities and chromosomal abnormalities",
         "orientation": "v",
         "showlegend": true,
         "textposition": "auto",
         "type": "bar",
         "x": [
          "2018-01-01T00:00:00",
          "2018-02-01T00:00:00",
          "2018-03-01T00:00:00",
          "2018-04-01T00:00:00",
          "2018-05-01T00:00:00",
          "2018-06-01T00:00:00",
          "2018-07-01T00:00:00",
          "2018-08-01T00:00:00",
          "2018-09-01T00:00:00",
          "2018-10-01T00:00:00",
          "2018-11-01T00:00:00",
          "2018-12-01T00:00:00",
          "2019-01-01T00:00:00",
          "2019-02-01T00:00:00",
          "2019-03-01T00:00:00",
          "2019-04-01T00:00:00",
          "2019-05-01T00:00:00",
          "2019-06-01T00:00:00",
          "2019-07-01T00:00:00",
          "2019-08-01T00:00:00",
          "2019-09-01T00:00:00",
          "2019-10-01T00:00:00",
          "2019-11-01T00:00:00",
          "2019-12-01T00:00:00",
          "2020-01-01T00:00:00",
          "2020-02-01T00:00:00",
          "2020-03-01T00:00:00",
          "2020-04-01T00:00:00",
          "2020-05-01T00:00:00",
          "2020-06-01T00:00:00",
          "2020-07-01T00:00:00",
          "2020-08-01T00:00:00",
          "2020-09-01T00:00:00",
          "2020-10-01T00:00:00",
          "2020-11-01T00:00:00",
          "2020-12-01T00:00:00",
          "2021-01-01T00:00:00",
          "2021-02-01T00:00:00",
          "2021-03-01T00:00:00",
          "2021-04-01T00:00:00",
          "2021-05-01T00:00:00",
          "2021-06-01T00:00:00",
          "2021-07-01T00:00:00",
          "2021-08-01T00:00:00",
          "2021-09-01T00:00:00",
          "2021-10-01T00:00:00",
          "2021-11-01T00:00:00",
          "2021-12-01T00:00:00"
         ],
         "xaxis": "x",
         "y": [
          480,
          402,
          260,
          0,
          290,
          281,
          532,
          460,
          336,
          357,
          313,
          432,
          447,
          405,
          415,
          357,
          358,
          334,
          386,
          406,
          297,
          151,
          206,
          292,
          304,
          205,
          183,
          15,
          47,
          76,
          129,
          140,
          243,
          254,
          305,
          303,
          345,
          214,
          301,
          246,
          258,
          317,
          292,
          346,
          400,
          375,
          437,
          355
         ],
         "yaxis": "y"
        },
        {
         "alignmentgroup": "True",
         "hovertemplate": "DISEASE_GROUP=Congenital malformations, deformities and chromosomal abnormalities<br>SECTOR2=PUBLIC<br>DATE=%{x}<br>QTY_PEOPLE_SERVED=%{y}<extra></extra>",
         "legendgroup": "Congenital malformations, deformities and chromosomal abnormalities",
         "marker": {
          "color": "#5254a3",
          "pattern": {
           "shape": ""
          }
         },
         "name": "Congenital malformations, deformities and chromosomal abnormalities",
         "offsetgroup": "Congenital malformations, deformities and chromosomal abnormalities",
         "orientation": "v",
         "showlegend": false,
         "textposition": "auto",
         "type": "bar",
         "x": [
          "2018-01-01T00:00:00",
          "2018-02-01T00:00:00",
          "2018-03-01T00:00:00",
          "2018-04-01T00:00:00",
          "2018-05-01T00:00:00",
          "2018-06-01T00:00:00",
          "2018-07-01T00:00:00",
          "2018-08-01T00:00:00",
          "2018-09-01T00:00:00",
          "2018-10-01T00:00:00",
          "2018-11-01T00:00:00",
          "2018-12-01T00:00:00",
          "2019-01-01T00:00:00",
          "2019-02-01T00:00:00",
          "2019-03-01T00:00:00",
          "2019-04-01T00:00:00",
          "2019-05-01T00:00:00",
          "2019-06-01T00:00:00",
          "2019-07-01T00:00:00",
          "2019-08-01T00:00:00",
          "2019-09-01T00:00:00",
          "2019-10-01T00:00:00",
          "2019-11-01T00:00:00",
          "2019-12-01T00:00:00",
          "2020-01-01T00:00:00",
          "2020-02-01T00:00:00",
          "2020-03-01T00:00:00",
          "2020-04-01T00:00:00",
          "2020-05-01T00:00:00",
          "2020-06-01T00:00:00",
          "2020-07-01T00:00:00",
          "2020-08-01T00:00:00",
          "2020-09-01T00:00:00",
          "2020-10-01T00:00:00",
          "2020-11-01T00:00:00",
          "2020-12-01T00:00:00",
          "2021-01-01T00:00:00",
          "2021-02-01T00:00:00",
          "2021-03-01T00:00:00",
          "2021-04-01T00:00:00",
          "2021-05-01T00:00:00",
          "2021-06-01T00:00:00",
          "2021-07-01T00:00:00",
          "2021-08-01T00:00:00",
          "2021-09-01T00:00:00",
          "2021-10-01T00:00:00",
          "2021-11-01T00:00:00",
          "2021-12-01T00:00:00"
         ],
         "xaxis": "x2",
         "y": [
          9923,
          10816,
          11908,
          0,
          10368,
          9943,
          13192,
          11343,
          11018,
          11858,
          14132,
          10874,
          12720,
          21892,
          13238,
          18323,
          10314,
          10567,
          9797,
          11137,
          10321,
          8149,
          2834,
          7432,
          4617,
          5851,
          3592,
          316,
          281,
          531,
          858,
          1076,
          2112,
          1860,
          3440,
          2956,
          3944,
          3170,
          3591,
          3525,
          4148,
          4347,
          4863,
          6347,
          6066,
          5657,
          5769,
          5738
         ],
         "yaxis": "y2"
        },
        {
         "alignmentgroup": "True",
         "hovertemplate": "DISEASE_GROUP=Digestive system diseases<br>SECTOR2=PRIVATE<br>DATE=%{x}<br>QTY_PEOPLE_SERVED=%{y}<extra></extra>",
         "legendgroup": "Digestive system diseases",
         "marker": {
          "color": "#6b6ecf",
          "pattern": {
           "shape": ""
          }
         },
         "name": "Digestive system diseases",
         "offsetgroup": "Digestive system diseases",
         "orientation": "v",
         "showlegend": true,
         "textposition": "auto",
         "type": "bar",
         "x": [
          "2018-01-01T00:00:00",
          "2018-02-01T00:00:00",
          "2018-03-01T00:00:00",
          "2018-04-01T00:00:00",
          "2018-05-01T00:00:00",
          "2018-06-01T00:00:00",
          "2018-07-01T00:00:00",
          "2018-08-01T00:00:00",
          "2018-09-01T00:00:00",
          "2018-10-01T00:00:00",
          "2018-11-01T00:00:00",
          "2018-12-01T00:00:00",
          "2019-01-01T00:00:00",
          "2019-02-01T00:00:00",
          "2019-03-01T00:00:00",
          "2019-04-01T00:00:00",
          "2019-05-01T00:00:00",
          "2019-06-01T00:00:00",
          "2019-07-01T00:00:00",
          "2019-08-01T00:00:00",
          "2019-09-01T00:00:00",
          "2019-10-01T00:00:00",
          "2019-11-01T00:00:00",
          "2019-12-01T00:00:00",
          "2020-01-01T00:00:00",
          "2020-02-01T00:00:00",
          "2020-03-01T00:00:00",
          "2020-04-01T00:00:00",
          "2020-05-01T00:00:00",
          "2020-06-01T00:00:00",
          "2020-07-01T00:00:00",
          "2020-08-01T00:00:00",
          "2020-09-01T00:00:00",
          "2020-10-01T00:00:00",
          "2020-11-01T00:00:00",
          "2020-12-01T00:00:00",
          "2021-01-01T00:00:00",
          "2021-02-01T00:00:00",
          "2021-03-01T00:00:00",
          "2021-04-01T00:00:00",
          "2021-05-01T00:00:00",
          "2021-06-01T00:00:00",
          "2021-07-01T00:00:00",
          "2021-08-01T00:00:00",
          "2021-09-01T00:00:00",
          "2021-10-01T00:00:00",
          "2021-11-01T00:00:00",
          "2021-12-01T00:00:00"
         ],
         "xaxis": "x",
         "y": [
          5394,
          4879,
          4498,
          0,
          4005,
          4513,
          10005,
          8316,
          4726,
          4586,
          5072,
          6774,
          4446,
          4426,
          4815,
          3920,
          5174,
          5386,
          5645,
          5263,
          4785,
          1760,
          3419,
          4786,
          2750,
          2100,
          3123,
          494,
          810,
          1543,
          2364,
          2474,
          4091,
          3842,
          4617,
          5614,
          4727,
          3672,
          4155,
          4118,
          4411,
          4616,
          4740,
          4834,
          5198,
          5613,
          6290,
          4584
         ],
         "yaxis": "y"
        },
        {
         "alignmentgroup": "True",
         "hovertemplate": "DISEASE_GROUP=Digestive system diseases<br>SECTOR2=PUBLIC<br>DATE=%{x}<br>QTY_PEOPLE_SERVED=%{y}<extra></extra>",
         "legendgroup": "Digestive system diseases",
         "marker": {
          "color": "#6b6ecf",
          "pattern": {
           "shape": ""
          }
         },
         "name": "Digestive system diseases",
         "offsetgroup": "Digestive system diseases",
         "orientation": "v",
         "showlegend": false,
         "textposition": "auto",
         "type": "bar",
         "x": [
          "2018-01-01T00:00:00",
          "2018-02-01T00:00:00",
          "2018-03-01T00:00:00",
          "2018-04-01T00:00:00",
          "2018-05-01T00:00:00",
          "2018-06-01T00:00:00",
          "2018-07-01T00:00:00",
          "2018-08-01T00:00:00",
          "2018-09-01T00:00:00",
          "2018-10-01T00:00:00",
          "2018-11-01T00:00:00",
          "2018-12-01T00:00:00",
          "2019-01-01T00:00:00",
          "2019-02-01T00:00:00",
          "2019-03-01T00:00:00",
          "2019-04-01T00:00:00",
          "2019-05-01T00:00:00",
          "2019-06-01T00:00:00",
          "2019-07-01T00:00:00",
          "2019-08-01T00:00:00",
          "2019-09-01T00:00:00",
          "2019-10-01T00:00:00",
          "2019-11-01T00:00:00",
          "2019-12-01T00:00:00",
          "2020-01-01T00:00:00",
          "2020-02-01T00:00:00",
          "2020-03-01T00:00:00",
          "2020-04-01T00:00:00",
          "2020-05-01T00:00:00",
          "2020-06-01T00:00:00",
          "2020-07-01T00:00:00",
          "2020-08-01T00:00:00",
          "2020-09-01T00:00:00",
          "2020-10-01T00:00:00",
          "2020-11-01T00:00:00",
          "2020-12-01T00:00:00",
          "2021-01-01T00:00:00",
          "2021-02-01T00:00:00",
          "2021-03-01T00:00:00",
          "2021-04-01T00:00:00",
          "2021-05-01T00:00:00",
          "2021-06-01T00:00:00",
          "2021-07-01T00:00:00",
          "2021-08-01T00:00:00",
          "2021-09-01T00:00:00",
          "2021-10-01T00:00:00",
          "2021-11-01T00:00:00",
          "2021-12-01T00:00:00"
         ],
         "xaxis": "x2",
         "y": [
          39875,
          44492,
          41568,
          0,
          41850,
          43069,
          48130,
          47999,
          43672,
          50859,
          50159,
          40226,
          64951,
          67006,
          59062,
          54668,
          45262,
          44632,
          37067,
          38262,
          40363,
          27629,
          17000,
          23479,
          24221,
          27436,
          14152,
          2654,
          2028,
          2280,
          3241,
          4565,
          6524,
          8223,
          11109,
          9578,
          10731,
          7804,
          10004,
          9940,
          15546,
          12979,
          20066,
          21727,
          22351,
          21599,
          23102,
          22245
         ],
         "yaxis": "y2"
        },
        {
         "alignmentgroup": "True",
         "hovertemplate": "DISEASE_GROUP=Diseases of the blood and hematopoietic organs and other disorders affecting the mechanism of immunity<br>SECTOR2=PRIVATE<br>DATE=%{x}<br>QTY_PEOPLE_SERVED=%{y}<extra></extra>",
         "legendgroup": "Diseases of the blood and hematopoietic organs and other disorders affecting the mechanism of immunity",
         "marker": {
          "color": "#9c9ede",
          "pattern": {
           "shape": ""
          }
         },
         "name": "Diseases of the blood and hematopoietic organs and other disorders affecting the mechanism of immunity",
         "offsetgroup": "Diseases of the blood and hematopoietic organs and other disorders affecting the mechanism of immunity",
         "orientation": "v",
         "showlegend": true,
         "textposition": "auto",
         "type": "bar",
         "x": [
          "2018-01-01T00:00:00",
          "2018-02-01T00:00:00",
          "2018-03-01T00:00:00",
          "2018-04-01T00:00:00",
          "2018-05-01T00:00:00",
          "2018-06-01T00:00:00",
          "2018-07-01T00:00:00",
          "2018-08-01T00:00:00",
          "2018-09-01T00:00:00",
          "2018-10-01T00:00:00",
          "2018-11-01T00:00:00",
          "2018-12-01T00:00:00",
          "2019-01-01T00:00:00",
          "2019-02-01T00:00:00",
          "2019-03-01T00:00:00",
          "2019-04-01T00:00:00",
          "2019-05-01T00:00:00",
          "2019-06-01T00:00:00",
          "2019-07-01T00:00:00",
          "2019-08-01T00:00:00",
          "2019-09-01T00:00:00",
          "2019-10-01T00:00:00",
          "2019-11-01T00:00:00",
          "2019-12-01T00:00:00",
          "2020-01-01T00:00:00",
          "2020-02-01T00:00:00",
          "2020-03-01T00:00:00",
          "2020-04-01T00:00:00",
          "2020-05-01T00:00:00",
          "2020-06-01T00:00:00",
          "2020-07-01T00:00:00",
          "2020-08-01T00:00:00",
          "2020-09-01T00:00:00",
          "2020-10-01T00:00:00",
          "2020-11-01T00:00:00",
          "2020-12-01T00:00:00",
          "2021-01-01T00:00:00",
          "2021-02-01T00:00:00",
          "2021-03-01T00:00:00",
          "2021-04-01T00:00:00",
          "2021-05-01T00:00:00",
          "2021-06-01T00:00:00",
          "2021-07-01T00:00:00",
          "2021-08-01T00:00:00",
          "2021-09-01T00:00:00",
          "2021-10-01T00:00:00",
          "2021-11-01T00:00:00",
          "2021-12-01T00:00:00"
         ],
         "xaxis": "x",
         "y": [
          953,
          956,
          819,
          0,
          705,
          687,
          1460,
          1189,
          730,
          758,
          731,
          1112,
          1098,
          1146,
          1141,
          1046,
          1012,
          975,
          973,
          1040,
          986,
          309,
          610,
          835,
          686,
          595,
          816,
          82,
          128,
          301,
          494,
          548,
          839,
          867,
          943,
          976,
          1048,
          845,
          1080,
          958,
          1039,
          1195,
          1099,
          1084,
          1058,
          1220,
          1340,
          1199
         ],
         "yaxis": "y"
        },
        {
         "alignmentgroup": "True",
         "hovertemplate": "DISEASE_GROUP=Diseases of the blood and hematopoietic organs and other disorders affecting the mechanism of immunity<br>SECTOR2=PUBLIC<br>DATE=%{x}<br>QTY_PEOPLE_SERVED=%{y}<extra></extra>",
         "legendgroup": "Diseases of the blood and hematopoietic organs and other disorders affecting the mechanism of immunity",
         "marker": {
          "color": "#9c9ede",
          "pattern": {
           "shape": ""
          }
         },
         "name": "Diseases of the blood and hematopoietic organs and other disorders affecting the mechanism of immunity",
         "offsetgroup": "Diseases of the blood and hematopoietic organs and other disorders affecting the mechanism of immunity",
         "orientation": "v",
         "showlegend": false,
         "textposition": "auto",
         "type": "bar",
         "x": [
          "2018-01-01T00:00:00",
          "2018-02-01T00:00:00",
          "2018-03-01T00:00:00",
          "2018-04-01T00:00:00",
          "2018-05-01T00:00:00",
          "2018-06-01T00:00:00",
          "2018-07-01T00:00:00",
          "2018-08-01T00:00:00",
          "2018-09-01T00:00:00",
          "2018-10-01T00:00:00",
          "2018-11-01T00:00:00",
          "2018-12-01T00:00:00",
          "2019-01-01T00:00:00",
          "2019-02-01T00:00:00",
          "2019-03-01T00:00:00",
          "2019-04-01T00:00:00",
          "2019-05-01T00:00:00",
          "2019-06-01T00:00:00",
          "2019-07-01T00:00:00",
          "2019-08-01T00:00:00",
          "2019-09-01T00:00:00",
          "2019-10-01T00:00:00",
          "2019-11-01T00:00:00",
          "2019-12-01T00:00:00",
          "2020-01-01T00:00:00",
          "2020-02-01T00:00:00",
          "2020-03-01T00:00:00",
          "2020-04-01T00:00:00",
          "2020-05-01T00:00:00",
          "2020-06-01T00:00:00",
          "2020-07-01T00:00:00",
          "2020-08-01T00:00:00",
          "2020-09-01T00:00:00",
          "2020-10-01T00:00:00",
          "2020-11-01T00:00:00",
          "2020-12-01T00:00:00",
          "2021-01-01T00:00:00",
          "2021-02-01T00:00:00",
          "2021-03-01T00:00:00",
          "2021-04-01T00:00:00",
          "2021-05-01T00:00:00",
          "2021-06-01T00:00:00",
          "2021-07-01T00:00:00",
          "2021-08-01T00:00:00",
          "2021-09-01T00:00:00",
          "2021-10-01T00:00:00",
          "2021-11-01T00:00:00",
          "2021-12-01T00:00:00"
         ],
         "xaxis": "x2",
         "y": [
          5826,
          6960,
          6558,
          0,
          5916,
          5943,
          7010,
          6810,
          6319,
          6456,
          6931,
          5328,
          7386,
          9653,
          7875,
          8532,
          6459,
          6418,
          5298,
          6436,
          6481,
          4987,
          2724,
          4321,
          3750,
          4217,
          2198,
          455,
          637,
          865,
          1162,
          1235,
          1831,
          2117,
          2590,
          2302,
          2567,
          2078,
          2473,
          2669,
          2914,
          2899,
          3342,
          3794,
          3919,
          3558,
          3774,
          4080
         ],
         "yaxis": "y2"
        },
        {
         "alignmentgroup": "True",
         "hovertemplate": "DISEASE_GROUP=Diseases of the circulatory system<br>SECTOR2=PRIVATE<br>DATE=%{x}<br>QTY_PEOPLE_SERVED=%{y}<extra></extra>",
         "legendgroup": "Diseases of the circulatory system",
         "marker": {
          "color": "#637939",
          "pattern": {
           "shape": ""
          }
         },
         "name": "Diseases of the circulatory system",
         "offsetgroup": "Diseases of the circulatory system",
         "orientation": "v",
         "showlegend": true,
         "textposition": "auto",
         "type": "bar",
         "x": [
          "2018-01-01T00:00:00",
          "2018-02-01T00:00:00",
          "2018-03-01T00:00:00",
          "2018-04-01T00:00:00",
          "2018-05-01T00:00:00",
          "2018-06-01T00:00:00",
          "2018-07-01T00:00:00",
          "2018-08-01T00:00:00",
          "2018-09-01T00:00:00",
          "2018-10-01T00:00:00",
          "2018-11-01T00:00:00",
          "2018-12-01T00:00:00",
          "2019-01-01T00:00:00",
          "2019-02-01T00:00:00",
          "2019-03-01T00:00:00",
          "2019-04-01T00:00:00",
          "2019-05-01T00:00:00",
          "2019-06-01T00:00:00",
          "2019-07-01T00:00:00",
          "2019-08-01T00:00:00",
          "2019-09-01T00:00:00",
          "2019-10-01T00:00:00",
          "2019-11-01T00:00:00",
          "2019-12-01T00:00:00",
          "2020-01-01T00:00:00",
          "2020-02-01T00:00:00",
          "2020-03-01T00:00:00",
          "2020-04-01T00:00:00",
          "2020-05-01T00:00:00",
          "2020-06-01T00:00:00",
          "2020-07-01T00:00:00",
          "2020-08-01T00:00:00",
          "2020-09-01T00:00:00",
          "2020-10-01T00:00:00",
          "2020-11-01T00:00:00",
          "2020-12-01T00:00:00",
          "2021-01-01T00:00:00",
          "2021-02-01T00:00:00",
          "2021-03-01T00:00:00",
          "2021-04-01T00:00:00",
          "2021-05-01T00:00:00",
          "2021-06-01T00:00:00",
          "2021-07-01T00:00:00",
          "2021-08-01T00:00:00",
          "2021-09-01T00:00:00",
          "2021-10-01T00:00:00",
          "2021-11-01T00:00:00",
          "2021-12-01T00:00:00"
         ],
         "xaxis": "x",
         "y": [
          5441,
          5001,
          4896,
          0,
          4488,
          5079,
          12510,
          9125,
          5155,
          5344,
          5522,
          7659,
          6013,
          5456,
          5753,
          5515,
          6102,
          6187,
          6473,
          5853,
          5268,
          1591,
          3661,
          5211,
          2577,
          1906,
          3800,
          1545,
          1500,
          2241,
          3478,
          3442,
          4763,
          4343,
          4789,
          5308,
          4987,
          3734,
          4694,
          4305,
          4603,
          4830,
          4797,
          4485,
          4622,
          5254,
          5053,
          4186
         ],
         "yaxis": "y"
        },
        {
         "alignmentgroup": "True",
         "hovertemplate": "DISEASE_GROUP=Diseases of the circulatory system<br>SECTOR2=PUBLIC<br>DATE=%{x}<br>QTY_PEOPLE_SERVED=%{y}<extra></extra>",
         "legendgroup": "Diseases of the circulatory system",
         "marker": {
          "color": "#637939",
          "pattern": {
           "shape": ""
          }
         },
         "name": "Diseases of the circulatory system",
         "offsetgroup": "Diseases of the circulatory system",
         "orientation": "v",
         "showlegend": false,
         "textposition": "auto",
         "type": "bar",
         "x": [
          "2018-01-01T00:00:00",
          "2018-02-01T00:00:00",
          "2018-03-01T00:00:00",
          "2018-04-01T00:00:00",
          "2018-05-01T00:00:00",
          "2018-06-01T00:00:00",
          "2018-07-01T00:00:00",
          "2018-08-01T00:00:00",
          "2018-09-01T00:00:00",
          "2018-10-01T00:00:00",
          "2018-11-01T00:00:00",
          "2018-12-01T00:00:00",
          "2019-01-01T00:00:00",
          "2019-02-01T00:00:00",
          "2019-03-01T00:00:00",
          "2019-04-01T00:00:00",
          "2019-05-01T00:00:00",
          "2019-06-01T00:00:00",
          "2019-07-01T00:00:00",
          "2019-08-01T00:00:00",
          "2019-09-01T00:00:00",
          "2019-10-01T00:00:00",
          "2019-11-01T00:00:00",
          "2019-12-01T00:00:00",
          "2020-01-01T00:00:00",
          "2020-02-01T00:00:00",
          "2020-03-01T00:00:00",
          "2020-04-01T00:00:00",
          "2020-05-01T00:00:00",
          "2020-06-01T00:00:00",
          "2020-07-01T00:00:00",
          "2020-08-01T00:00:00",
          "2020-09-01T00:00:00",
          "2020-10-01T00:00:00",
          "2020-11-01T00:00:00",
          "2020-12-01T00:00:00",
          "2021-01-01T00:00:00",
          "2021-02-01T00:00:00",
          "2021-03-01T00:00:00",
          "2021-04-01T00:00:00",
          "2021-05-01T00:00:00",
          "2021-06-01T00:00:00",
          "2021-07-01T00:00:00",
          "2021-08-01T00:00:00",
          "2021-09-01T00:00:00",
          "2021-10-01T00:00:00",
          "2021-11-01T00:00:00",
          "2021-12-01T00:00:00"
         ],
         "xaxis": "x2",
         "y": [
          22169,
          25648,
          23289,
          0,
          24381,
          27821,
          29077,
          28701,
          26313,
          30506,
          31308,
          26384,
          36834,
          36689,
          35350,
          34309,
          25924,
          28749,
          23505,
          22173,
          22021,
          16018,
          12789,
          13617,
          15323,
          16213,
          7748,
          1453,
          1870,
          1890,
          2879,
          3495,
          4765,
          4809,
          7194,
          5937,
          5873,
          5031,
          6349,
          6611,
          8607,
          8775,
          12953,
          13508,
          13908,
          13880,
          14512,
          13960
         ],
         "yaxis": "y2"
        },
        {
         "alignmentgroup": "True",
         "hovertemplate": "DISEASE_GROUP=Diseases of the ear and mastoid process<br>SECTOR2=PRIVATE<br>DATE=%{x}<br>QTY_PEOPLE_SERVED=%{y}<extra></extra>",
         "legendgroup": "Diseases of the ear and mastoid process",
         "marker": {
          "color": "#8ca252",
          "pattern": {
           "shape": ""
          }
         },
         "name": "Diseases of the ear and mastoid process",
         "offsetgroup": "Diseases of the ear and mastoid process",
         "orientation": "v",
         "showlegend": true,
         "textposition": "auto",
         "type": "bar",
         "x": [
          "2018-01-01T00:00:00",
          "2018-02-01T00:00:00",
          "2018-03-01T00:00:00",
          "2018-04-01T00:00:00",
          "2018-05-01T00:00:00",
          "2018-06-01T00:00:00",
          "2018-07-01T00:00:00",
          "2018-08-01T00:00:00",
          "2018-09-01T00:00:00",
          "2018-10-01T00:00:00",
          "2018-11-01T00:00:00",
          "2018-12-01T00:00:00",
          "2019-01-01T00:00:00",
          "2019-02-01T00:00:00",
          "2019-03-01T00:00:00",
          "2019-04-01T00:00:00",
          "2019-05-01T00:00:00",
          "2019-06-01T00:00:00",
          "2019-07-01T00:00:00",
          "2019-08-01T00:00:00",
          "2019-09-01T00:00:00",
          "2019-10-01T00:00:00",
          "2019-11-01T00:00:00",
          "2019-12-01T00:00:00",
          "2020-01-01T00:00:00",
          "2020-02-01T00:00:00",
          "2020-03-01T00:00:00",
          "2020-04-01T00:00:00",
          "2020-05-01T00:00:00",
          "2020-06-01T00:00:00",
          "2020-07-01T00:00:00",
          "2020-08-01T00:00:00",
          "2020-09-01T00:00:00",
          "2020-10-01T00:00:00",
          "2020-11-01T00:00:00",
          "2020-12-01T00:00:00",
          "2021-01-01T00:00:00",
          "2021-02-01T00:00:00",
          "2021-03-01T00:00:00",
          "2021-04-01T00:00:00",
          "2021-05-01T00:00:00",
          "2021-06-01T00:00:00",
          "2021-07-01T00:00:00",
          "2021-08-01T00:00:00",
          "2021-09-01T00:00:00",
          "2021-10-01T00:00:00",
          "2021-11-01T00:00:00",
          "2021-12-01T00:00:00"
         ],
         "xaxis": "x",
         "y": [
          1980,
          1672,
          1413,
          0,
          1552,
          1635,
          2950,
          2462,
          1619,
          1627,
          1618,
          2205,
          1782,
          1794,
          1716,
          1641,
          1900,
          2593,
          1913,
          1701,
          1708,
          632,
          1148,
          1550,
          999,
          777,
          928,
          127,
          181,
          446,
          851,
          763,
          1279,
          1211,
          1235,
          1504,
          1395,
          955,
          1227,
          1109,
          1104,
          1240,
          1194,
          1233,
          1168,
          1230,
          1371,
          1031
         ],
         "yaxis": "y"
        },
        {
         "alignmentgroup": "True",
         "hovertemplate": "DISEASE_GROUP=Diseases of the ear and mastoid process<br>SECTOR2=PUBLIC<br>DATE=%{x}<br>QTY_PEOPLE_SERVED=%{y}<extra></extra>",
         "legendgroup": "Diseases of the ear and mastoid process",
         "marker": {
          "color": "#8ca252",
          "pattern": {
           "shape": ""
          }
         },
         "name": "Diseases of the ear and mastoid process",
         "offsetgroup": "Diseases of the ear and mastoid process",
         "orientation": "v",
         "showlegend": false,
         "textposition": "auto",
         "type": "bar",
         "x": [
          "2018-01-01T00:00:00",
          "2018-02-01T00:00:00",
          "2018-03-01T00:00:00",
          "2018-04-01T00:00:00",
          "2018-05-01T00:00:00",
          "2018-06-01T00:00:00",
          "2018-07-01T00:00:00",
          "2018-08-01T00:00:00",
          "2018-09-01T00:00:00",
          "2018-10-01T00:00:00",
          "2018-11-01T00:00:00",
          "2018-12-01T00:00:00",
          "2019-01-01T00:00:00",
          "2019-02-01T00:00:00",
          "2019-03-01T00:00:00",
          "2019-04-01T00:00:00",
          "2019-05-01T00:00:00",
          "2019-06-01T00:00:00",
          "2019-07-01T00:00:00",
          "2019-08-01T00:00:00",
          "2019-09-01T00:00:00",
          "2019-10-01T00:00:00",
          "2019-11-01T00:00:00",
          "2019-12-01T00:00:00",
          "2020-01-01T00:00:00",
          "2020-02-01T00:00:00",
          "2020-03-01T00:00:00",
          "2020-04-01T00:00:00",
          "2020-05-01T00:00:00",
          "2020-06-01T00:00:00",
          "2020-07-01T00:00:00",
          "2020-08-01T00:00:00",
          "2020-09-01T00:00:00",
          "2020-10-01T00:00:00",
          "2020-11-01T00:00:00",
          "2020-12-01T00:00:00",
          "2021-01-01T00:00:00",
          "2021-02-01T00:00:00",
          "2021-03-01T00:00:00",
          "2021-04-01T00:00:00",
          "2021-05-01T00:00:00",
          "2021-06-01T00:00:00",
          "2021-07-01T00:00:00",
          "2021-08-01T00:00:00",
          "2021-09-01T00:00:00",
          "2021-10-01T00:00:00",
          "2021-11-01T00:00:00",
          "2021-12-01T00:00:00"
         ],
         "xaxis": "x2",
         "y": [
          7486,
          8204,
          8091,
          0,
          9008,
          8409,
          9275,
          8898,
          9471,
          10600,
          10308,
          8793,
          12108,
          12377,
          10631,
          12934,
          9421,
          10155,
          8396,
          8403,
          9182,
          5847,
          4197,
          4544,
          4610,
          5105,
          2448,
          140,
          145,
          145,
          299,
          399,
          818,
          939,
          1435,
          1233,
          1308,
          972,
          1450,
          1332,
          1809,
          1859,
          2400,
          2920,
          2672,
          2510,
          2725,
          2708
         ],
         "yaxis": "y2"
        },
        {
         "alignmentgroup": "True",
         "hovertemplate": "DISEASE_GROUP=Diseases of the eye and its adnexa<br>SECTOR2=PRIVATE<br>DATE=%{x}<br>QTY_PEOPLE_SERVED=%{y}<extra></extra>",
         "legendgroup": "Diseases of the eye and its adnexa",
         "marker": {
          "color": "#b5cf6b",
          "pattern": {
           "shape": ""
          }
         },
         "name": "Diseases of the eye and its adnexa",
         "offsetgroup": "Diseases of the eye and its adnexa",
         "orientation": "v",
         "showlegend": true,
         "textposition": "auto",
         "type": "bar",
         "x": [
          "2018-01-01T00:00:00",
          "2018-02-01T00:00:00",
          "2018-03-01T00:00:00",
          "2018-04-01T00:00:00",
          "2018-05-01T00:00:00",
          "2018-06-01T00:00:00",
          "2018-07-01T00:00:00",
          "2018-08-01T00:00:00",
          "2018-09-01T00:00:00",
          "2018-10-01T00:00:00",
          "2018-11-01T00:00:00",
          "2018-12-01T00:00:00",
          "2019-01-01T00:00:00",
          "2019-02-01T00:00:00",
          "2019-03-01T00:00:00",
          "2019-04-01T00:00:00",
          "2019-05-01T00:00:00",
          "2019-06-01T00:00:00",
          "2019-07-01T00:00:00",
          "2019-08-01T00:00:00",
          "2019-09-01T00:00:00",
          "2019-10-01T00:00:00",
          "2019-11-01T00:00:00",
          "2019-12-01T00:00:00",
          "2020-01-01T00:00:00",
          "2020-02-01T00:00:00",
          "2020-03-01T00:00:00",
          "2020-04-01T00:00:00",
          "2020-05-01T00:00:00",
          "2020-06-01T00:00:00",
          "2020-07-01T00:00:00",
          "2020-08-01T00:00:00",
          "2020-09-01T00:00:00",
          "2020-10-01T00:00:00",
          "2020-11-01T00:00:00",
          "2020-12-01T00:00:00",
          "2021-01-01T00:00:00",
          "2021-02-01T00:00:00",
          "2021-03-01T00:00:00",
          "2021-04-01T00:00:00",
          "2021-05-01T00:00:00",
          "2021-06-01T00:00:00",
          "2021-07-01T00:00:00",
          "2021-08-01T00:00:00",
          "2021-09-01T00:00:00",
          "2021-10-01T00:00:00",
          "2021-11-01T00:00:00",
          "2021-12-01T00:00:00"
         ],
         "xaxis": "x",
         "y": [
          3740,
          3299,
          2726,
          0,
          2116,
          2339,
          5238,
          4498,
          2481,
          2456,
          2578,
          3960,
          3171,
          2691,
          2671,
          2416,
          2851,
          3202,
          3398,
          3298,
          2990,
          728,
          2186,
          3152,
          1480,
          1143,
          1841,
          98,
          270,
          717,
          1284,
          1229,
          2041,
          2102,
          2609,
          2965,
          2762,
          1814,
          2588,
          2135,
          2654,
          2482,
          2744,
          2417,
          2678,
          2568,
          2686,
          2061
         ],
         "yaxis": "y"
        },
        {
         "alignmentgroup": "True",
         "hovertemplate": "DISEASE_GROUP=Diseases of the eye and its adnexa<br>SECTOR2=PUBLIC<br>DATE=%{x}<br>QTY_PEOPLE_SERVED=%{y}<extra></extra>",
         "legendgroup": "Diseases of the eye and its adnexa",
         "marker": {
          "color": "#b5cf6b",
          "pattern": {
           "shape": ""
          }
         },
         "name": "Diseases of the eye and its adnexa",
         "offsetgroup": "Diseases of the eye and its adnexa",
         "orientation": "v",
         "showlegend": false,
         "textposition": "auto",
         "type": "bar",
         "x": [
          "2018-01-01T00:00:00",
          "2018-02-01T00:00:00",
          "2018-03-01T00:00:00",
          "2018-04-01T00:00:00",
          "2018-05-01T00:00:00",
          "2018-06-01T00:00:00",
          "2018-07-01T00:00:00",
          "2018-08-01T00:00:00",
          "2018-09-01T00:00:00",
          "2018-10-01T00:00:00",
          "2018-11-01T00:00:00",
          "2018-12-01T00:00:00",
          "2019-01-01T00:00:00",
          "2019-02-01T00:00:00",
          "2019-03-01T00:00:00",
          "2019-04-01T00:00:00",
          "2019-05-01T00:00:00",
          "2019-06-01T00:00:00",
          "2019-07-01T00:00:00",
          "2019-08-01T00:00:00",
          "2019-09-01T00:00:00",
          "2019-10-01T00:00:00",
          "2019-11-01T00:00:00",
          "2019-12-01T00:00:00",
          "2020-01-01T00:00:00",
          "2020-02-01T00:00:00",
          "2020-03-01T00:00:00",
          "2020-04-01T00:00:00",
          "2020-05-01T00:00:00",
          "2020-06-01T00:00:00",
          "2020-07-01T00:00:00",
          "2020-08-01T00:00:00",
          "2020-09-01T00:00:00",
          "2020-10-01T00:00:00",
          "2020-11-01T00:00:00",
          "2020-12-01T00:00:00",
          "2021-01-01T00:00:00",
          "2021-02-01T00:00:00",
          "2021-03-01T00:00:00",
          "2021-04-01T00:00:00",
          "2021-05-01T00:00:00",
          "2021-06-01T00:00:00",
          "2021-07-01T00:00:00",
          "2021-08-01T00:00:00",
          "2021-09-01T00:00:00",
          "2021-10-01T00:00:00",
          "2021-11-01T00:00:00",
          "2021-12-01T00:00:00"
         ],
         "xaxis": "x2",
         "y": [
          43454,
          50168,
          44298,
          0,
          41427,
          58312,
          45784,
          44970,
          44391,
          48681,
          46908,
          53228,
          76138,
          64882,
          81655,
          52669,
          44254,
          41154,
          41207,
          45202,
          44050,
          40815,
          30512,
          15023,
          34478,
          14632,
          17078,
          513,
          898,
          962,
          1673,
          1675,
          2393,
          2921,
          4984,
          4744,
          5243,
          2309,
          3376,
          3869,
          7809,
          8167,
          12842,
          15023,
          14333,
          13140,
          13944,
          13688
         ],
         "yaxis": "y2"
        },
        {
         "alignmentgroup": "True",
         "hovertemplate": "DISEASE_GROUP=Diseases of the genitourinary system<br>SECTOR2=PRIVATE<br>DATE=%{x}<br>QTY_PEOPLE_SERVED=%{y}<extra></extra>",
         "legendgroup": "Diseases of the genitourinary system",
         "marker": {
          "color": "#cedb9c",
          "pattern": {
           "shape": ""
          }
         },
         "name": "Diseases of the genitourinary system",
         "offsetgroup": "Diseases of the genitourinary system",
         "orientation": "v",
         "showlegend": true,
         "textposition": "auto",
         "type": "bar",
         "x": [
          "2018-01-01T00:00:00",
          "2018-02-01T00:00:00",
          "2018-03-01T00:00:00",
          "2018-04-01T00:00:00",
          "2018-05-01T00:00:00",
          "2018-06-01T00:00:00",
          "2018-07-01T00:00:00",
          "2018-08-01T00:00:00",
          "2018-09-01T00:00:00",
          "2018-10-01T00:00:00",
          "2018-11-01T00:00:00",
          "2018-12-01T00:00:00",
          "2019-01-01T00:00:00",
          "2019-02-01T00:00:00",
          "2019-03-01T00:00:00",
          "2019-04-01T00:00:00",
          "2019-05-01T00:00:00",
          "2019-06-01T00:00:00",
          "2019-07-01T00:00:00",
          "2019-08-01T00:00:00",
          "2019-09-01T00:00:00",
          "2019-10-01T00:00:00",
          "2019-11-01T00:00:00",
          "2019-12-01T00:00:00",
          "2020-01-01T00:00:00",
          "2020-02-01T00:00:00",
          "2020-03-01T00:00:00",
          "2020-04-01T00:00:00",
          "2020-05-01T00:00:00",
          "2020-06-01T00:00:00",
          "2020-07-01T00:00:00",
          "2020-08-01T00:00:00",
          "2020-09-01T00:00:00",
          "2020-10-01T00:00:00",
          "2020-11-01T00:00:00",
          "2020-12-01T00:00:00",
          "2021-01-01T00:00:00",
          "2021-02-01T00:00:00",
          "2021-03-01T00:00:00",
          "2021-04-01T00:00:00",
          "2021-05-01T00:00:00",
          "2021-06-01T00:00:00",
          "2021-07-01T00:00:00",
          "2021-08-01T00:00:00",
          "2021-09-01T00:00:00",
          "2021-10-01T00:00:00",
          "2021-11-01T00:00:00",
          "2021-12-01T00:00:00"
         ],
         "xaxis": "x",
         "y": [
          8223,
          7876,
          6946,
          0,
          6499,
          7008,
          14504,
          11768,
          6831,
          7344,
          7272,
          10151,
          8427,
          7934,
          7821,
          7680,
          8461,
          8049,
          8863,
          7990,
          7527,
          2421,
          4972,
          7057,
          4392,
          3328,
          4977,
          340,
          745,
          2147,
          3833,
          3977,
          6005,
          5825,
          7126,
          7880,
          7217,
          5327,
          6694,
          5808,
          6389,
          6389,
          6954,
          6861,
          7206,
          7634,
          8154,
          6394
         ],
         "yaxis": "y"
        },
        {
         "alignmentgroup": "True",
         "hovertemplate": "DISEASE_GROUP=Diseases of the genitourinary system<br>SECTOR2=PUBLIC<br>DATE=%{x}<br>QTY_PEOPLE_SERVED=%{y}<extra></extra>",
         "legendgroup": "Diseases of the genitourinary system",
         "marker": {
          "color": "#cedb9c",
          "pattern": {
           "shape": ""
          }
         },
         "name": "Diseases of the genitourinary system",
         "offsetgroup": "Diseases of the genitourinary system",
         "orientation": "v",
         "showlegend": false,
         "textposition": "auto",
         "type": "bar",
         "x": [
          "2018-01-01T00:00:00",
          "2018-02-01T00:00:00",
          "2018-03-01T00:00:00",
          "2018-04-01T00:00:00",
          "2018-05-01T00:00:00",
          "2018-06-01T00:00:00",
          "2018-07-01T00:00:00",
          "2018-08-01T00:00:00",
          "2018-09-01T00:00:00",
          "2018-10-01T00:00:00",
          "2018-11-01T00:00:00",
          "2018-12-01T00:00:00",
          "2019-01-01T00:00:00",
          "2019-02-01T00:00:00",
          "2019-03-01T00:00:00",
          "2019-04-01T00:00:00",
          "2019-05-01T00:00:00",
          "2019-06-01T00:00:00",
          "2019-07-01T00:00:00",
          "2019-08-01T00:00:00",
          "2019-09-01T00:00:00",
          "2019-10-01T00:00:00",
          "2019-11-01T00:00:00",
          "2019-12-01T00:00:00",
          "2020-01-01T00:00:00",
          "2020-02-01T00:00:00",
          "2020-03-01T00:00:00",
          "2020-04-01T00:00:00",
          "2020-05-01T00:00:00",
          "2020-06-01T00:00:00",
          "2020-07-01T00:00:00",
          "2020-08-01T00:00:00",
          "2020-09-01T00:00:00",
          "2020-10-01T00:00:00",
          "2020-11-01T00:00:00",
          "2020-12-01T00:00:00",
          "2021-01-01T00:00:00",
          "2021-02-01T00:00:00",
          "2021-03-01T00:00:00",
          "2021-04-01T00:00:00",
          "2021-05-01T00:00:00",
          "2021-06-01T00:00:00",
          "2021-07-01T00:00:00",
          "2021-08-01T00:00:00",
          "2021-09-01T00:00:00",
          "2021-10-01T00:00:00",
          "2021-11-01T00:00:00",
          "2021-12-01T00:00:00"
         ],
         "xaxis": "x2",
         "y": [
          37089,
          40698,
          38950,
          0,
          37467,
          36558,
          41649,
          39312,
          37210,
          44554,
          44535,
          36741,
          53793,
          62590,
          52748,
          52215,
          37543,
          37762,
          32306,
          30560,
          34059,
          19573,
          10614,
          14974,
          17050,
          20318,
          10226,
          1475,
          1564,
          1954,
          3374,
          3862,
          5779,
          7322,
          10148,
          9240,
          9459,
          7483,
          8995,
          8957,
          12544,
          12052,
          15939,
          17331,
          17936,
          17337,
          17852,
          17660
         ],
         "yaxis": "y2"
        },
        {
         "alignmentgroup": "True",
         "hovertemplate": "DISEASE_GROUP=Diseases of the musculoskeletal system and connective tissue<br>SECTOR2=PRIVATE<br>DATE=%{x}<br>QTY_PEOPLE_SERVED=%{y}<extra></extra>",
         "legendgroup": "Diseases of the musculoskeletal system and connective tissue",
         "marker": {
          "color": "#8c6d31",
          "pattern": {
           "shape": ""
          }
         },
         "name": "Diseases of the musculoskeletal system and connective tissue",
         "offsetgroup": "Diseases of the musculoskeletal system and connective tissue",
         "orientation": "v",
         "showlegend": true,
         "textposition": "auto",
         "type": "bar",
         "x": [
          "2018-01-01T00:00:00",
          "2018-02-01T00:00:00",
          "2018-03-01T00:00:00",
          "2018-04-01T00:00:00",
          "2018-05-01T00:00:00",
          "2018-06-01T00:00:00",
          "2018-07-01T00:00:00",
          "2018-08-01T00:00:00",
          "2018-09-01T00:00:00",
          "2018-10-01T00:00:00",
          "2018-11-01T00:00:00",
          "2018-12-01T00:00:00",
          "2019-01-01T00:00:00",
          "2019-02-01T00:00:00",
          "2019-03-01T00:00:00",
          "2019-04-01T00:00:00",
          "2019-05-01T00:00:00",
          "2019-06-01T00:00:00",
          "2019-07-01T00:00:00",
          "2019-08-01T00:00:00",
          "2019-09-01T00:00:00",
          "2019-10-01T00:00:00",
          "2019-11-01T00:00:00",
          "2019-12-01T00:00:00",
          "2020-01-01T00:00:00",
          "2020-02-01T00:00:00",
          "2020-03-01T00:00:00",
          "2020-04-01T00:00:00",
          "2020-05-01T00:00:00",
          "2020-06-01T00:00:00",
          "2020-07-01T00:00:00",
          "2020-08-01T00:00:00",
          "2020-09-01T00:00:00",
          "2020-10-01T00:00:00",
          "2020-11-01T00:00:00",
          "2020-12-01T00:00:00",
          "2021-01-01T00:00:00",
          "2021-02-01T00:00:00",
          "2021-03-01T00:00:00",
          "2021-04-01T00:00:00",
          "2021-05-01T00:00:00",
          "2021-06-01T00:00:00",
          "2021-07-01T00:00:00",
          "2021-08-01T00:00:00",
          "2021-09-01T00:00:00",
          "2021-10-01T00:00:00",
          "2021-11-01T00:00:00",
          "2021-12-01T00:00:00"
         ],
         "xaxis": "x",
         "y": [
          9620,
          8993,
          7814,
          0,
          7528,
          7998,
          16973,
          13679,
          7939,
          8438,
          8756,
          11729,
          9608,
          9083,
          9188,
          8984,
          9994,
          10119,
          10007,
          9268,
          8675,
          3305,
          6225,
          8048,
          5115,
          3965,
          5476,
          554,
          827,
          2089,
          3677,
          4024,
          6052,
          6032,
          7472,
          7783,
          7188,
          5179,
          6776,
          5943,
          6598,
          6978,
          7117,
          7243,
          7873,
          8061,
          8456,
          6439
         ],
         "yaxis": "y"
        },
        {
         "alignmentgroup": "True",
         "hovertemplate": "DISEASE_GROUP=Diseases of the musculoskeletal system and connective tissue<br>SECTOR2=PUBLIC<br>DATE=%{x}<br>QTY_PEOPLE_SERVED=%{y}<extra></extra>",
         "legendgroup": "Diseases of the musculoskeletal system and connective tissue",
         "marker": {
          "color": "#8c6d31",
          "pattern": {
           "shape": ""
          }
         },
         "name": "Diseases of the musculoskeletal system and connective tissue",
         "offsetgroup": "Diseases of the musculoskeletal system and connective tissue",
         "orientation": "v",
         "showlegend": false,
         "textposition": "auto",
         "type": "bar",
         "x": [
          "2018-01-01T00:00:00",
          "2018-02-01T00:00:00",
          "2018-03-01T00:00:00",
          "2018-04-01T00:00:00",
          "2018-05-01T00:00:00",
          "2018-06-01T00:00:00",
          "2018-07-01T00:00:00",
          "2018-08-01T00:00:00",
          "2018-09-01T00:00:00",
          "2018-10-01T00:00:00",
          "2018-11-01T00:00:00",
          "2018-12-01T00:00:00",
          "2019-01-01T00:00:00",
          "2019-02-01T00:00:00",
          "2019-03-01T00:00:00",
          "2019-04-01T00:00:00",
          "2019-05-01T00:00:00",
          "2019-06-01T00:00:00",
          "2019-07-01T00:00:00",
          "2019-08-01T00:00:00",
          "2019-09-01T00:00:00",
          "2019-10-01T00:00:00",
          "2019-11-01T00:00:00",
          "2019-12-01T00:00:00",
          "2020-01-01T00:00:00",
          "2020-02-01T00:00:00",
          "2020-03-01T00:00:00",
          "2020-04-01T00:00:00",
          "2020-05-01T00:00:00",
          "2020-06-01T00:00:00",
          "2020-07-01T00:00:00",
          "2020-08-01T00:00:00",
          "2020-09-01T00:00:00",
          "2020-10-01T00:00:00",
          "2020-11-01T00:00:00",
          "2020-12-01T00:00:00",
          "2021-01-01T00:00:00",
          "2021-02-01T00:00:00",
          "2021-03-01T00:00:00",
          "2021-04-01T00:00:00",
          "2021-05-01T00:00:00",
          "2021-06-01T00:00:00",
          "2021-07-01T00:00:00",
          "2021-08-01T00:00:00",
          "2021-09-01T00:00:00",
          "2021-10-01T00:00:00",
          "2021-11-01T00:00:00",
          "2021-12-01T00:00:00"
         ],
         "xaxis": "x2",
         "y": [
          32445,
          37096,
          36179,
          0,
          35561,
          39079,
          44486,
          44930,
          43087,
          48646,
          50580,
          39217,
          67072,
          83347,
          70837,
          57544,
          42490,
          44642,
          38939,
          33027,
          33779,
          22911,
          18353,
          20997,
          22865,
          24482,
          11543,
          1017,
          1222,
          1536,
          1944,
          2853,
          3644,
          4559,
          6455,
          5519,
          5250,
          4736,
          6386,
          6604,
          11711,
          8900,
          16215,
          16745,
          17522,
          16828,
          18432,
          18809
         ],
         "yaxis": "y2"
        },
        {
         "alignmentgroup": "True",
         "hovertemplate": "DISEASE_GROUP=Diseases of the skin and subcutaneous tissue<br>SECTOR2=PRIVATE<br>DATE=%{x}<br>QTY_PEOPLE_SERVED=%{y}<extra></extra>",
         "legendgroup": "Diseases of the skin and subcutaneous tissue",
         "marker": {
          "color": "#bd9e39",
          "pattern": {
           "shape": ""
          }
         },
         "name": "Diseases of the skin and subcutaneous tissue",
         "offsetgroup": "Diseases of the skin and subcutaneous tissue",
         "orientation": "v",
         "showlegend": true,
         "textposition": "auto",
         "type": "bar",
         "x": [
          "2018-01-01T00:00:00",
          "2018-02-01T00:00:00",
          "2018-03-01T00:00:00",
          "2018-04-01T00:00:00",
          "2018-05-01T00:00:00",
          "2018-06-01T00:00:00",
          "2018-07-01T00:00:00",
          "2018-08-01T00:00:00",
          "2018-09-01T00:00:00",
          "2018-10-01T00:00:00",
          "2018-11-01T00:00:00",
          "2018-12-01T00:00:00",
          "2019-01-01T00:00:00",
          "2019-02-01T00:00:00",
          "2019-03-01T00:00:00",
          "2019-04-01T00:00:00",
          "2019-05-01T00:00:00",
          "2019-06-01T00:00:00",
          "2019-07-01T00:00:00",
          "2019-08-01T00:00:00",
          "2019-09-01T00:00:00",
          "2019-10-01T00:00:00",
          "2019-11-01T00:00:00",
          "2019-12-01T00:00:00",
          "2020-01-01T00:00:00",
          "2020-02-01T00:00:00",
          "2020-03-01T00:00:00",
          "2020-04-01T00:00:00",
          "2020-05-01T00:00:00",
          "2020-06-01T00:00:00",
          "2020-07-01T00:00:00",
          "2020-08-01T00:00:00",
          "2020-09-01T00:00:00",
          "2020-10-01T00:00:00",
          "2020-11-01T00:00:00",
          "2020-12-01T00:00:00",
          "2021-01-01T00:00:00",
          "2021-02-01T00:00:00",
          "2021-03-01T00:00:00",
          "2021-04-01T00:00:00",
          "2021-05-01T00:00:00",
          "2021-06-01T00:00:00",
          "2021-07-01T00:00:00",
          "2021-08-01T00:00:00",
          "2021-09-01T00:00:00",
          "2021-10-01T00:00:00",
          "2021-11-01T00:00:00",
          "2021-12-01T00:00:00"
         ],
         "xaxis": "x",
         "y": [
          4481,
          4212,
          3301,
          0,
          3353,
          3570,
          7296,
          6128,
          3428,
          3891,
          4041,
          6032,
          4856,
          4603,
          4511,
          3893,
          4821,
          5045,
          4775,
          4542,
          4371,
          1384,
          2920,
          4175,
          2463,
          2037,
          2549,
          226,
          366,
          931,
          1963,
          2115,
          3306,
          3048,
          3556,
          3850,
          3753,
          2878,
          3491,
          3081,
          3330,
          3308,
          3522,
          3448,
          3834,
          4013,
          4176,
          3471
         ],
         "yaxis": "y"
        },
        {
         "alignmentgroup": "True",
         "hovertemplate": "DISEASE_GROUP=Diseases of the skin and subcutaneous tissue<br>SECTOR2=PUBLIC<br>DATE=%{x}<br>QTY_PEOPLE_SERVED=%{y}<extra></extra>",
         "legendgroup": "Diseases of the skin and subcutaneous tissue",
         "marker": {
          "color": "#bd9e39",
          "pattern": {
           "shape": ""
          }
         },
         "name": "Diseases of the skin and subcutaneous tissue",
         "offsetgroup": "Diseases of the skin and subcutaneous tissue",
         "orientation": "v",
         "showlegend": false,
         "textposition": "auto",
         "type": "bar",
         "x": [
          "2018-01-01T00:00:00",
          "2018-02-01T00:00:00",
          "2018-03-01T00:00:00",
          "2018-04-01T00:00:00",
          "2018-05-01T00:00:00",
          "2018-06-01T00:00:00",
          "2018-07-01T00:00:00",
          "2018-08-01T00:00:00",
          "2018-09-01T00:00:00",
          "2018-10-01T00:00:00",
          "2018-11-01T00:00:00",
          "2018-12-01T00:00:00",
          "2019-01-01T00:00:00",
          "2019-02-01T00:00:00",
          "2019-03-01T00:00:00",
          "2019-04-01T00:00:00",
          "2019-05-01T00:00:00",
          "2019-06-01T00:00:00",
          "2019-07-01T00:00:00",
          "2019-08-01T00:00:00",
          "2019-09-01T00:00:00",
          "2019-10-01T00:00:00",
          "2019-11-01T00:00:00",
          "2019-12-01T00:00:00",
          "2020-01-01T00:00:00",
          "2020-02-01T00:00:00",
          "2020-03-01T00:00:00",
          "2020-04-01T00:00:00",
          "2020-05-01T00:00:00",
          "2020-06-01T00:00:00",
          "2020-07-01T00:00:00",
          "2020-08-01T00:00:00",
          "2020-09-01T00:00:00",
          "2020-10-01T00:00:00",
          "2020-11-01T00:00:00",
          "2020-12-01T00:00:00",
          "2021-01-01T00:00:00",
          "2021-02-01T00:00:00",
          "2021-03-01T00:00:00",
          "2021-04-01T00:00:00",
          "2021-05-01T00:00:00",
          "2021-06-01T00:00:00",
          "2021-07-01T00:00:00",
          "2021-08-01T00:00:00",
          "2021-09-01T00:00:00",
          "2021-10-01T00:00:00",
          "2021-11-01T00:00:00",
          "2021-12-01T00:00:00"
         ],
         "xaxis": "x2",
         "y": [
          15322,
          16292,
          16429,
          0,
          15606,
          15467,
          18001,
          17810,
          17571,
          19792,
          18767,
          16354,
          25521,
          26536,
          21281,
          20473,
          16893,
          17077,
          14453,
          15142,
          15266,
          10330,
          7279,
          10192,
          10163,
          10722,
          5317,
          552,
          422,
          592,
          1380,
          1360,
          1832,
          2003,
          2868,
          2336,
          2797,
          2122,
          2973,
          2545,
          4117,
          3523,
          5393,
          5945,
          5887,
          5977,
          5976,
          6091
         ],
         "yaxis": "y2"
        },
        {
         "alignmentgroup": "True",
         "hovertemplate": "DISEASE_GROUP=Endocrine, nutritional and metabolic diseases<br>SECTOR2=PRIVATE<br>DATE=%{x}<br>QTY_PEOPLE_SERVED=%{y}<extra></extra>",
         "legendgroup": "Endocrine, nutritional and metabolic diseases",
         "marker": {
          "color": "#e7ba52",
          "pattern": {
           "shape": ""
          }
         },
         "name": "Endocrine, nutritional and metabolic diseases",
         "offsetgroup": "Endocrine, nutritional and metabolic diseases",
         "orientation": "v",
         "showlegend": true,
         "textposition": "auto",
         "type": "bar",
         "x": [
          "2018-01-01T00:00:00",
          "2018-02-01T00:00:00",
          "2018-03-01T00:00:00",
          "2018-04-01T00:00:00",
          "2018-05-01T00:00:00",
          "2018-06-01T00:00:00",
          "2018-07-01T00:00:00",
          "2018-08-01T00:00:00",
          "2018-09-01T00:00:00",
          "2018-10-01T00:00:00",
          "2018-11-01T00:00:00",
          "2018-12-01T00:00:00",
          "2019-01-01T00:00:00",
          "2019-02-01T00:00:00",
          "2019-03-01T00:00:00",
          "2019-04-01T00:00:00",
          "2019-05-01T00:00:00",
          "2019-06-01T00:00:00",
          "2019-07-01T00:00:00",
          "2019-08-01T00:00:00",
          "2019-09-01T00:00:00",
          "2019-10-01T00:00:00",
          "2019-11-01T00:00:00",
          "2019-12-01T00:00:00",
          "2020-01-01T00:00:00",
          "2020-02-01T00:00:00",
          "2020-03-01T00:00:00",
          "2020-04-01T00:00:00",
          "2020-05-01T00:00:00",
          "2020-06-01T00:00:00",
          "2020-07-01T00:00:00",
          "2020-08-01T00:00:00",
          "2020-09-01T00:00:00",
          "2020-10-01T00:00:00",
          "2020-11-01T00:00:00",
          "2020-12-01T00:00:00",
          "2021-01-01T00:00:00",
          "2021-02-01T00:00:00",
          "2021-03-01T00:00:00",
          "2021-04-01T00:00:00",
          "2021-05-01T00:00:00",
          "2021-06-01T00:00:00",
          "2021-07-01T00:00:00",
          "2021-08-01T00:00:00",
          "2021-09-01T00:00:00",
          "2021-10-01T00:00:00",
          "2021-11-01T00:00:00",
          "2021-12-01T00:00:00"
         ],
         "xaxis": "x",
         "y": [
          6235,
          5594,
          5211,
          0,
          4956,
          4854,
          10010,
          8539,
          5286,
          5590,
          5288,
          7720,
          6563,
          6245,
          6439,
          6080,
          6297,
          6239,
          6529,
          6329,
          6405,
          2352,
          4251,
          5694,
          3755,
          3221,
          4080,
          984,
          1051,
          2030,
          3203,
          3500,
          4935,
          4739,
          5454,
          5723,
          5539,
          4729,
          5512,
          5088,
          5172,
          5525,
          5882,
          5799,
          6154,
          6447,
          7371,
          5966
         ],
         "yaxis": "y"
        },
        {
         "alignmentgroup": "True",
         "hovertemplate": "DISEASE_GROUP=Endocrine, nutritional and metabolic diseases<br>SECTOR2=PUBLIC<br>DATE=%{x}<br>QTY_PEOPLE_SERVED=%{y}<extra></extra>",
         "legendgroup": "Endocrine, nutritional and metabolic diseases",
         "marker": {
          "color": "#e7ba52",
          "pattern": {
           "shape": ""
          }
         },
         "name": "Endocrine, nutritional and metabolic diseases",
         "offsetgroup": "Endocrine, nutritional and metabolic diseases",
         "orientation": "v",
         "showlegend": false,
         "textposition": "auto",
         "type": "bar",
         "x": [
          "2018-01-01T00:00:00",
          "2018-02-01T00:00:00",
          "2018-03-01T00:00:00",
          "2018-04-01T00:00:00",
          "2018-05-01T00:00:00",
          "2018-06-01T00:00:00",
          "2018-07-01T00:00:00",
          "2018-08-01T00:00:00",
          "2018-09-01T00:00:00",
          "2018-10-01T00:00:00",
          "2018-11-01T00:00:00",
          "2018-12-01T00:00:00",
          "2019-01-01T00:00:00",
          "2019-02-01T00:00:00",
          "2019-03-01T00:00:00",
          "2019-04-01T00:00:00",
          "2019-05-01T00:00:00",
          "2019-06-01T00:00:00",
          "2019-07-01T00:00:00",
          "2019-08-01T00:00:00",
          "2019-09-01T00:00:00",
          "2019-10-01T00:00:00",
          "2019-11-01T00:00:00",
          "2019-12-01T00:00:00",
          "2020-01-01T00:00:00",
          "2020-02-01T00:00:00",
          "2020-03-01T00:00:00",
          "2020-04-01T00:00:00",
          "2020-05-01T00:00:00",
          "2020-06-01T00:00:00",
          "2020-07-01T00:00:00",
          "2020-08-01T00:00:00",
          "2020-09-01T00:00:00",
          "2020-10-01T00:00:00",
          "2020-11-01T00:00:00",
          "2020-12-01T00:00:00",
          "2021-01-01T00:00:00",
          "2021-02-01T00:00:00",
          "2021-03-01T00:00:00",
          "2021-04-01T00:00:00",
          "2021-05-01T00:00:00",
          "2021-06-01T00:00:00",
          "2021-07-01T00:00:00",
          "2021-08-01T00:00:00",
          "2021-09-01T00:00:00",
          "2021-10-01T00:00:00",
          "2021-11-01T00:00:00",
          "2021-12-01T00:00:00"
         ],
         "xaxis": "x2",
         "y": [
          26063,
          27226,
          24233,
          0,
          23707,
          27716,
          29274,
          29149,
          27284,
          30202,
          32146,
          24548,
          37166,
          37663,
          28342,
          32161,
          24811,
          26536,
          22817,
          23017,
          25098,
          12290,
          10022,
          13116,
          14308,
          16559,
          8323,
          1024,
          1685,
          2182,
          4462,
          4910,
          6071,
          6655,
          8686,
          7310,
          8045,
          7095,
          8006,
          8841,
          10193,
          10334,
          13941,
          14410,
          14833,
          15098,
          15308,
          15905
         ],
         "yaxis": "y2"
        },
        {
         "alignmentgroup": "True",
         "hovertemplate": "DISEASE_GROUP=External causes of morbidity and mortality<br>SECTOR2=PRIVATE<br>DATE=%{x}<br>QTY_PEOPLE_SERVED=%{y}<extra></extra>",
         "legendgroup": "External causes of morbidity and mortality",
         "marker": {
          "color": "#e7ba52",
          "pattern": {
           "shape": ""
          }
         },
         "name": "External causes of morbidity and mortality",
         "offsetgroup": "External causes of morbidity and mortality",
         "orientation": "v",
         "showlegend": true,
         "textposition": "auto",
         "type": "bar",
         "x": [
          "2018-01-01T00:00:00",
          "2018-02-01T00:00:00",
          "2018-03-01T00:00:00",
          "2018-04-01T00:00:00",
          "2018-05-01T00:00:00",
          "2018-06-01T00:00:00",
          "2018-07-01T00:00:00",
          "2018-08-01T00:00:00",
          "2018-09-01T00:00:00",
          "2018-10-01T00:00:00",
          "2018-11-01T00:00:00",
          "2018-12-01T00:00:00",
          "2019-01-01T00:00:00",
          "2019-02-01T00:00:00",
          "2019-03-01T00:00:00",
          "2019-04-01T00:00:00",
          "2019-05-01T00:00:00",
          "2019-06-01T00:00:00",
          "2019-07-01T00:00:00",
          "2019-08-01T00:00:00",
          "2019-09-01T00:00:00",
          "2019-10-01T00:00:00",
          "2019-11-01T00:00:00",
          "2019-12-01T00:00:00",
          "2020-01-01T00:00:00",
          "2020-02-01T00:00:00",
          "2020-03-01T00:00:00",
          "2020-04-01T00:00:00",
          "2020-05-01T00:00:00",
          "2020-06-01T00:00:00",
          "2020-07-01T00:00:00",
          "2020-08-01T00:00:00",
          "2020-09-01T00:00:00",
          "2020-10-01T00:00:00",
          "2020-11-01T00:00:00",
          "2020-12-01T00:00:00",
          "2021-01-01T00:00:00",
          "2021-02-01T00:00:00",
          "2021-03-01T00:00:00",
          "2021-04-01T00:00:00",
          "2021-05-01T00:00:00",
          "2021-06-01T00:00:00",
          "2021-07-01T00:00:00",
          "2021-08-01T00:00:00",
          "2021-09-01T00:00:00",
          "2021-10-01T00:00:00",
          "2021-11-01T00:00:00",
          "2021-12-01T00:00:00"
         ],
         "xaxis": "x",
         "y": [
          471,
          500,
          514,
          0,
          508,
          485,
          406,
          430,
          482,
          459,
          535,
          542,
          630,
          530,
          535,
          519,
          577,
          639,
          452,
          438,
          514,
          275,
          284,
          349,
          331,
          310,
          278,
          128,
          123,
          142,
          215,
          236,
          246,
          270,
          299,
          362,
          379,
          296,
          535,
          421,
          499,
          382,
          427,
          535,
          508,
          539,
          563,
          515
         ],
         "yaxis": "y"
        },
        {
         "alignmentgroup": "True",
         "hovertemplate": "DISEASE_GROUP=External causes of morbidity and mortality<br>SECTOR2=PUBLIC<br>DATE=%{x}<br>QTY_PEOPLE_SERVED=%{y}<extra></extra>",
         "legendgroup": "External causes of morbidity and mortality",
         "marker": {
          "color": "#e7ba52",
          "pattern": {
           "shape": ""
          }
         },
         "name": "External causes of morbidity and mortality",
         "offsetgroup": "External causes of morbidity and mortality",
         "orientation": "v",
         "showlegend": false,
         "textposition": "auto",
         "type": "bar",
         "x": [
          "2018-01-01T00:00:00",
          "2018-02-01T00:00:00",
          "2018-03-01T00:00:00",
          "2018-04-01T00:00:00",
          "2018-05-01T00:00:00",
          "2018-06-01T00:00:00",
          "2018-07-01T00:00:00",
          "2018-08-01T00:00:00",
          "2018-09-01T00:00:00",
          "2018-10-01T00:00:00",
          "2018-11-01T00:00:00",
          "2018-12-01T00:00:00",
          "2019-01-01T00:00:00",
          "2019-02-01T00:00:00",
          "2019-03-01T00:00:00",
          "2019-04-01T00:00:00",
          "2019-05-01T00:00:00",
          "2019-06-01T00:00:00",
          "2019-07-01T00:00:00",
          "2019-08-01T00:00:00",
          "2019-09-01T00:00:00",
          "2019-10-01T00:00:00",
          "2019-11-01T00:00:00",
          "2019-12-01T00:00:00",
          "2020-01-01T00:00:00",
          "2020-02-01T00:00:00",
          "2020-03-01T00:00:00",
          "2020-04-01T00:00:00",
          "2020-05-01T00:00:00",
          "2020-06-01T00:00:00",
          "2020-07-01T00:00:00",
          "2020-08-01T00:00:00",
          "2020-09-01T00:00:00",
          "2020-10-01T00:00:00",
          "2020-11-01T00:00:00",
          "2020-12-01T00:00:00",
          "2021-01-01T00:00:00",
          "2021-02-01T00:00:00",
          "2021-03-01T00:00:00",
          "2021-04-01T00:00:00",
          "2021-05-01T00:00:00",
          "2021-06-01T00:00:00",
          "2021-07-01T00:00:00",
          "2021-08-01T00:00:00",
          "2021-09-01T00:00:00",
          "2021-10-01T00:00:00",
          "2021-11-01T00:00:00",
          "2021-12-01T00:00:00"
         ],
         "xaxis": "x2",
         "y": [
          4146,
          4245,
          4609,
          0,
          4699,
          4277,
          3969,
          4126,
          3756,
          4439,
          4571,
          3884,
          6012,
          4562,
          4605,
          4875,
          14140,
          12034,
          3846,
          3051,
          2750,
          660,
          670,
          519,
          409,
          325,
          231,
          54,
          37,
          47,
          165,
          134,
          217,
          242,
          1506,
          346,
          1589,
          1144,
          1407,
          1336,
          1476,
          1537,
          1780,
          1786,
          1759,
          2009,
          1997,
          1959
         ],
         "yaxis": "y2"
        },
        {
         "alignmentgroup": "True",
         "hovertemplate": "DISEASE_GROUP=Factors influencing health status and contact with health services<br>SECTOR2=PRIVATE<br>DATE=%{x}<br>QTY_PEOPLE_SERVED=%{y}<extra></extra>",
         "legendgroup": "Factors influencing health status and contact with health services",
         "marker": {
          "color": "#e7cb94",
          "pattern": {
           "shape": ""
          }
         },
         "name": "Factors influencing health status and contact with health services",
         "offsetgroup": "Factors influencing health status and contact with health services",
         "orientation": "v",
         "showlegend": true,
         "textposition": "auto",
         "type": "bar",
         "x": [
          "2018-01-01T00:00:00",
          "2018-02-01T00:00:00",
          "2018-03-01T00:00:00",
          "2018-04-01T00:00:00",
          "2018-05-01T00:00:00",
          "2018-06-01T00:00:00",
          "2018-07-01T00:00:00",
          "2018-08-01T00:00:00",
          "2018-09-01T00:00:00",
          "2018-10-01T00:00:00",
          "2018-11-01T00:00:00",
          "2018-12-01T00:00:00",
          "2019-01-01T00:00:00",
          "2019-02-01T00:00:00",
          "2019-03-01T00:00:00",
          "2019-04-01T00:00:00",
          "2019-05-01T00:00:00",
          "2019-06-01T00:00:00",
          "2019-07-01T00:00:00",
          "2019-08-01T00:00:00",
          "2019-09-01T00:00:00",
          "2019-10-01T00:00:00",
          "2019-11-01T00:00:00",
          "2019-12-01T00:00:00",
          "2020-01-01T00:00:00",
          "2020-02-01T00:00:00",
          "2020-03-01T00:00:00",
          "2020-04-01T00:00:00",
          "2020-05-01T00:00:00",
          "2020-06-01T00:00:00",
          "2020-07-01T00:00:00",
          "2020-08-01T00:00:00",
          "2020-09-01T00:00:00",
          "2020-10-01T00:00:00",
          "2020-11-01T00:00:00",
          "2020-12-01T00:00:00",
          "2021-01-01T00:00:00",
          "2021-02-01T00:00:00",
          "2021-03-01T00:00:00",
          "2021-04-01T00:00:00",
          "2021-05-01T00:00:00",
          "2021-06-01T00:00:00",
          "2021-07-01T00:00:00",
          "2021-08-01T00:00:00",
          "2021-09-01T00:00:00",
          "2021-10-01T00:00:00",
          "2021-11-01T00:00:00",
          "2021-12-01T00:00:00"
         ],
         "xaxis": "x",
         "y": [
          8182,
          7863,
          7197,
          0,
          8508,
          8396,
          12382,
          10129,
          7919,
          8402,
          7224,
          9645,
          9579,
          8189,
          8316,
          7694,
          7544,
          7761,
          8590,
          8664,
          8312,
          4837,
          6321,
          7246,
          6756,
          5859,
          4694,
          1258,
          2097,
          3121,
          4173,
          4243,
          5009,
          5339,
          5904,
          5762,
          5927,
          4968,
          6133,
          5857,
          6111,
          6499,
          6571,
          6777,
          7235,
          7339,
          7280,
          6536
         ],
         "yaxis": "y"
        },
        {
         "alignmentgroup": "True",
         "hovertemplate": "DISEASE_GROUP=Factors influencing health status and contact with health services<br>SECTOR2=PUBLIC<br>DATE=%{x}<br>QTY_PEOPLE_SERVED=%{y}<extra></extra>",
         "legendgroup": "Factors influencing health status and contact with health services",
         "marker": {
          "color": "#e7cb94",
          "pattern": {
           "shape": ""
          }
         },
         "name": "Factors influencing health status and contact with health services",
         "offsetgroup": "Factors influencing health status and contact with health services",
         "orientation": "v",
         "showlegend": false,
         "textposition": "auto",
         "type": "bar",
         "x": [
          "2018-01-01T00:00:00",
          "2018-02-01T00:00:00",
          "2018-03-01T00:00:00",
          "2018-04-01T00:00:00",
          "2018-05-01T00:00:00",
          "2018-06-01T00:00:00",
          "2018-07-01T00:00:00",
          "2018-08-01T00:00:00",
          "2018-09-01T00:00:00",
          "2018-10-01T00:00:00",
          "2018-11-01T00:00:00",
          "2018-12-01T00:00:00",
          "2019-01-01T00:00:00",
          "2019-02-01T00:00:00",
          "2019-03-01T00:00:00",
          "2019-04-01T00:00:00",
          "2019-05-01T00:00:00",
          "2019-06-01T00:00:00",
          "2019-07-01T00:00:00",
          "2019-08-01T00:00:00",
          "2019-09-01T00:00:00",
          "2019-10-01T00:00:00",
          "2019-11-01T00:00:00",
          "2019-12-01T00:00:00",
          "2020-01-01T00:00:00",
          "2020-02-01T00:00:00",
          "2020-03-01T00:00:00",
          "2020-04-01T00:00:00",
          "2020-05-01T00:00:00",
          "2020-06-01T00:00:00",
          "2020-07-01T00:00:00",
          "2020-08-01T00:00:00",
          "2020-09-01T00:00:00",
          "2020-10-01T00:00:00",
          "2020-11-01T00:00:00",
          "2020-12-01T00:00:00",
          "2021-01-01T00:00:00",
          "2021-02-01T00:00:00",
          "2021-03-01T00:00:00",
          "2021-04-01T00:00:00",
          "2021-05-01T00:00:00",
          "2021-06-01T00:00:00",
          "2021-07-01T00:00:00",
          "2021-08-01T00:00:00",
          "2021-09-01T00:00:00",
          "2021-10-01T00:00:00",
          "2021-11-01T00:00:00",
          "2021-12-01T00:00:00"
         ],
         "xaxis": "x2",
         "y": [
          69673,
          78258,
          74170,
          0,
          87980,
          84922,
          80210,
          80019,
          71197,
          84421,
          76585,
          77930,
          120411,
          126473,
          86559,
          104632,
          73971,
          71604,
          61621,
          70256,
          65732,
          28156,
          24742,
          24398,
          23375,
          21210,
          23134,
          3355,
          4771,
          4643,
          5290,
          7281,
          7131,
          8494,
          16688,
          11397,
          14081,
          10284,
          11327,
          12576,
          16392,
          23360,
          27552,
          25860,
          25062,
          28651,
          26398,
          25438
         ],
         "yaxis": "y2"
        },
        {
         "alignmentgroup": "True",
         "hovertemplate": "DISEASE_GROUP=Injuries, poisoning and some other consequences of external causes<br>SECTOR2=PRIVATE<br>DATE=%{x}<br>QTY_PEOPLE_SERVED=%{y}<extra></extra>",
         "legendgroup": "Injuries, poisoning and some other consequences of external causes",
         "marker": {
          "color": "#843c39",
          "pattern": {
           "shape": ""
          }
         },
         "name": "Injuries, poisoning and some other consequences of external causes",
         "offsetgroup": "Injuries, poisoning and some other consequences of external causes",
         "orientation": "v",
         "showlegend": true,
         "textposition": "auto",
         "type": "bar",
         "x": [
          "2018-01-01T00:00:00",
          "2018-02-01T00:00:00",
          "2018-03-01T00:00:00",
          "2018-04-01T00:00:00",
          "2018-05-01T00:00:00",
          "2018-06-01T00:00:00",
          "2018-07-01T00:00:00",
          "2018-08-01T00:00:00",
          "2018-09-01T00:00:00",
          "2018-10-01T00:00:00",
          "2018-11-01T00:00:00",
          "2018-12-01T00:00:00",
          "2019-01-01T00:00:00",
          "2019-02-01T00:00:00",
          "2019-03-01T00:00:00",
          "2019-04-01T00:00:00",
          "2019-05-01T00:00:00",
          "2019-06-01T00:00:00",
          "2019-07-01T00:00:00",
          "2019-08-01T00:00:00",
          "2019-09-01T00:00:00",
          "2019-10-01T00:00:00",
          "2019-11-01T00:00:00",
          "2019-12-01T00:00:00",
          "2020-01-01T00:00:00",
          "2020-02-01T00:00:00",
          "2020-03-01T00:00:00",
          "2020-04-01T00:00:00",
          "2020-05-01T00:00:00",
          "2020-06-01T00:00:00",
          "2020-07-01T00:00:00",
          "2020-08-01T00:00:00",
          "2020-09-01T00:00:00",
          "2020-10-01T00:00:00",
          "2020-11-01T00:00:00",
          "2020-12-01T00:00:00",
          "2021-01-01T00:00:00",
          "2021-02-01T00:00:00",
          "2021-03-01T00:00:00",
          "2021-04-01T00:00:00",
          "2021-05-01T00:00:00",
          "2021-06-01T00:00:00",
          "2021-07-01T00:00:00",
          "2021-08-01T00:00:00",
          "2021-09-01T00:00:00",
          "2021-10-01T00:00:00",
          "2021-11-01T00:00:00",
          "2021-12-01T00:00:00"
         ],
         "xaxis": "x",
         "y": [
          5454,
          5236,
          5208,
          0,
          5270,
          5389,
          8075,
          7449,
          5640,
          5727,
          7076,
          6774,
          5885,
          5229,
          5748,
          6068,
          7219,
          11439,
          6148,
          6062,
          6199,
          3450,
          4591,
          5113,
          3954,
          3693,
          2887,
          665,
          769,
          1164,
          2066,
          2071,
          2762,
          3104,
          3425,
          3873,
          3612,
          2713,
          3574,
          3136,
          3323,
          3456,
          3816,
          4013,
          4109,
          4434,
          4661,
          4315
         ],
         "yaxis": "y"
        },
        {
         "alignmentgroup": "True",
         "hovertemplate": "DISEASE_GROUP=Injuries, poisoning and some other consequences of external causes<br>SECTOR2=PUBLIC<br>DATE=%{x}<br>QTY_PEOPLE_SERVED=%{y}<extra></extra>",
         "legendgroup": "Injuries, poisoning and some other consequences of external causes",
         "marker": {
          "color": "#843c39",
          "pattern": {
           "shape": ""
          }
         },
         "name": "Injuries, poisoning and some other consequences of external causes",
         "offsetgroup": "Injuries, poisoning and some other consequences of external causes",
         "orientation": "v",
         "showlegend": false,
         "textposition": "auto",
         "type": "bar",
         "x": [
          "2018-01-01T00:00:00",
          "2018-02-01T00:00:00",
          "2018-03-01T00:00:00",
          "2018-04-01T00:00:00",
          "2018-05-01T00:00:00",
          "2018-06-01T00:00:00",
          "2018-07-01T00:00:00",
          "2018-08-01T00:00:00",
          "2018-09-01T00:00:00",
          "2018-10-01T00:00:00",
          "2018-11-01T00:00:00",
          "2018-12-01T00:00:00",
          "2019-01-01T00:00:00",
          "2019-02-01T00:00:00",
          "2019-03-01T00:00:00",
          "2019-04-01T00:00:00",
          "2019-05-01T00:00:00",
          "2019-06-01T00:00:00",
          "2019-07-01T00:00:00",
          "2019-08-01T00:00:00",
          "2019-09-01T00:00:00",
          "2019-10-01T00:00:00",
          "2019-11-01T00:00:00",
          "2019-12-01T00:00:00",
          "2020-01-01T00:00:00",
          "2020-02-01T00:00:00",
          "2020-03-01T00:00:00",
          "2020-04-01T00:00:00",
          "2020-05-01T00:00:00",
          "2020-06-01T00:00:00",
          "2020-07-01T00:00:00",
          "2020-08-01T00:00:00",
          "2020-09-01T00:00:00",
          "2020-10-01T00:00:00",
          "2020-11-01T00:00:00",
          "2020-12-01T00:00:00",
          "2021-01-01T00:00:00",
          "2021-02-01T00:00:00",
          "2021-03-01T00:00:00",
          "2021-04-01T00:00:00",
          "2021-05-01T00:00:00",
          "2021-06-01T00:00:00",
          "2021-07-01T00:00:00",
          "2021-08-01T00:00:00",
          "2021-09-01T00:00:00",
          "2021-10-01T00:00:00",
          "2021-11-01T00:00:00",
          "2021-12-01T00:00:00"
         ],
         "xaxis": "x2",
         "y": [
          23344,
          22331,
          23940,
          0,
          22638,
          23548,
          23628,
          22492,
          23743,
          28289,
          25579,
          22769,
          30636,
          28638,
          30946,
          28491,
          38321,
          40121,
          23945,
          24157,
          24325,
          18259,
          15888,
          20694,
          17618,
          17279,
          7967,
          1855,
          1612,
          2061,
          3309,
          4089,
          6047,
          7677,
          11012,
          10155,
          10088,
          7251,
          10237,
          9839,
          10068,
          11885,
          14422,
          15216,
          15635,
          16226,
          16922,
          17368
         ],
         "yaxis": "y2"
        },
        {
         "alignmentgroup": "True",
         "hovertemplate": "DISEASE_GROUP=Mental and behavioral disorders<br>SECTOR2=PRIVATE<br>DATE=%{x}<br>QTY_PEOPLE_SERVED=%{y}<extra></extra>",
         "legendgroup": "Mental and behavioral disorders",
         "marker": {
          "color": "#ad494a",
          "pattern": {
           "shape": ""
          }
         },
         "name": "Mental and behavioral disorders",
         "offsetgroup": "Mental and behavioral disorders",
         "orientation": "v",
         "showlegend": true,
         "textposition": "auto",
         "type": "bar",
         "x": [
          "2018-01-01T00:00:00",
          "2018-02-01T00:00:00",
          "2018-03-01T00:00:00",
          "2018-04-01T00:00:00",
          "2018-05-01T00:00:00",
          "2018-06-01T00:00:00",
          "2018-07-01T00:00:00",
          "2018-08-01T00:00:00",
          "2018-09-01T00:00:00",
          "2018-10-01T00:00:00",
          "2018-11-01T00:00:00",
          "2018-12-01T00:00:00",
          "2019-01-01T00:00:00",
          "2019-02-01T00:00:00",
          "2019-03-01T00:00:00",
          "2019-04-01T00:00:00",
          "2019-05-01T00:00:00",
          "2019-06-01T00:00:00",
          "2019-07-01T00:00:00",
          "2019-08-01T00:00:00",
          "2019-09-01T00:00:00",
          "2019-10-01T00:00:00",
          "2019-11-01T00:00:00",
          "2019-12-01T00:00:00",
          "2020-01-01T00:00:00",
          "2020-02-01T00:00:00",
          "2020-03-01T00:00:00",
          "2020-04-01T00:00:00",
          "2020-05-01T00:00:00",
          "2020-06-01T00:00:00",
          "2020-07-01T00:00:00",
          "2020-08-01T00:00:00",
          "2020-09-01T00:00:00",
          "2020-10-01T00:00:00",
          "2020-11-01T00:00:00",
          "2020-12-01T00:00:00",
          "2021-01-01T00:00:00",
          "2021-02-01T00:00:00",
          "2021-03-01T00:00:00",
          "2021-04-01T00:00:00",
          "2021-05-01T00:00:00",
          "2021-06-01T00:00:00",
          "2021-07-01T00:00:00",
          "2021-08-01T00:00:00",
          "2021-09-01T00:00:00",
          "2021-10-01T00:00:00",
          "2021-11-01T00:00:00",
          "2021-12-01T00:00:00"
         ],
         "xaxis": "x",
         "y": [
          858,
          818,
          915,
          0,
          744,
          888,
          2126,
          1392,
          749,
          715,
          762,
          1219,
          946,
          917,
          869,
          835,
          939,
          904,
          962,
          983,
          908,
          305,
          816,
          822,
          351,
          378,
          575,
          125,
          159,
          225,
          428,
          476,
          680,
          717,
          750,
          811,
          812,
          661,
          824,
          698,
          764,
          723,
          643,
          621,
          749,
          625,
          722,
          498
         ],
         "yaxis": "y"
        },
        {
         "alignmentgroup": "True",
         "hovertemplate": "DISEASE_GROUP=Mental and behavioral disorders<br>SECTOR2=PUBLIC<br>DATE=%{x}<br>QTY_PEOPLE_SERVED=%{y}<extra></extra>",
         "legendgroup": "Mental and behavioral disorders",
         "marker": {
          "color": "#ad494a",
          "pattern": {
           "shape": ""
          }
         },
         "name": "Mental and behavioral disorders",
         "offsetgroup": "Mental and behavioral disorders",
         "orientation": "v",
         "showlegend": false,
         "textposition": "auto",
         "type": "bar",
         "x": [
          "2018-01-01T00:00:00",
          "2018-02-01T00:00:00",
          "2018-03-01T00:00:00",
          "2018-04-01T00:00:00",
          "2018-05-01T00:00:00",
          "2018-06-01T00:00:00",
          "2018-07-01T00:00:00",
          "2018-08-01T00:00:00",
          "2018-09-01T00:00:00",
          "2018-10-01T00:00:00",
          "2018-11-01T00:00:00",
          "2018-12-01T00:00:00",
          "2019-01-01T00:00:00",
          "2019-02-01T00:00:00",
          "2019-03-01T00:00:00",
          "2019-04-01T00:00:00",
          "2019-05-01T00:00:00",
          "2019-06-01T00:00:00",
          "2019-07-01T00:00:00",
          "2019-08-01T00:00:00",
          "2019-09-01T00:00:00",
          "2019-10-01T00:00:00",
          "2019-11-01T00:00:00",
          "2019-12-01T00:00:00",
          "2020-01-01T00:00:00",
          "2020-02-01T00:00:00",
          "2020-03-01T00:00:00",
          "2020-04-01T00:00:00",
          "2020-05-01T00:00:00",
          "2020-06-01T00:00:00",
          "2020-07-01T00:00:00",
          "2020-08-01T00:00:00",
          "2020-09-01T00:00:00",
          "2020-10-01T00:00:00",
          "2020-11-01T00:00:00",
          "2020-12-01T00:00:00",
          "2021-01-01T00:00:00",
          "2021-02-01T00:00:00",
          "2021-03-01T00:00:00",
          "2021-04-01T00:00:00",
          "2021-05-01T00:00:00",
          "2021-06-01T00:00:00",
          "2021-07-01T00:00:00",
          "2021-08-01T00:00:00",
          "2021-09-01T00:00:00",
          "2021-10-01T00:00:00",
          "2021-11-01T00:00:00",
          "2021-12-01T00:00:00"
         ],
         "xaxis": "x2",
         "y": [
          30400,
          33508,
          33436,
          0,
          32467,
          32483,
          37341,
          33112,
          33052,
          36433,
          35904,
          30104,
          45714,
          47241,
          50192,
          41753,
          31860,
          29798,
          26875,
          28304,
          30076,
          16662,
          10923,
          14348,
          12578,
          20550,
          8838,
          1819,
          2665,
          3098,
          4595,
          10361,
          11716,
          12421,
          14965,
          13031,
          14362,
          13431,
          15308,
          13691,
          16031,
          16490,
          18604,
          19904,
          19648,
          18355,
          19905,
          18072
         ],
         "yaxis": "y2"
        },
        {
         "alignmentgroup": "True",
         "hovertemplate": "DISEASE_GROUP=Neoplasms<br>SECTOR2=PRIVATE<br>DATE=%{x}<br>QTY_PEOPLE_SERVED=%{y}<extra></extra>",
         "legendgroup": "Neoplasms",
         "marker": {
          "color": "#d6616b",
          "pattern": {
           "shape": ""
          }
         },
         "name": "Neoplasms",
         "offsetgroup": "Neoplasms",
         "orientation": "v",
         "showlegend": true,
         "textposition": "auto",
         "type": "bar",
         "x": [
          "2018-01-01T00:00:00",
          "2018-02-01T00:00:00",
          "2018-03-01T00:00:00",
          "2018-04-01T00:00:00",
          "2018-05-01T00:00:00",
          "2018-06-01T00:00:00",
          "2018-07-01T00:00:00",
          "2018-08-01T00:00:00",
          "2018-09-01T00:00:00",
          "2018-10-01T00:00:00",
          "2018-11-01T00:00:00",
          "2018-12-01T00:00:00",
          "2019-01-01T00:00:00",
          "2019-02-01T00:00:00",
          "2019-03-01T00:00:00",
          "2019-04-01T00:00:00",
          "2019-05-01T00:00:00",
          "2019-06-01T00:00:00",
          "2019-07-01T00:00:00",
          "2019-08-01T00:00:00",
          "2019-09-01T00:00:00",
          "2019-10-01T00:00:00",
          "2019-11-01T00:00:00",
          "2019-12-01T00:00:00",
          "2020-01-01T00:00:00",
          "2020-02-01T00:00:00",
          "2020-03-01T00:00:00",
          "2020-04-01T00:00:00",
          "2020-05-01T00:00:00",
          "2020-06-01T00:00:00",
          "2020-07-01T00:00:00",
          "2020-08-01T00:00:00",
          "2020-09-01T00:00:00",
          "2020-10-01T00:00:00",
          "2020-11-01T00:00:00",
          "2020-12-01T00:00:00",
          "2021-01-01T00:00:00",
          "2021-02-01T00:00:00",
          "2021-03-01T00:00:00",
          "2021-04-01T00:00:00",
          "2021-05-01T00:00:00",
          "2021-06-01T00:00:00",
          "2021-07-01T00:00:00",
          "2021-08-01T00:00:00",
          "2021-09-01T00:00:00",
          "2021-10-01T00:00:00",
          "2021-11-01T00:00:00",
          "2021-12-01T00:00:00"
         ],
         "xaxis": "x",
         "y": [
          3083,
          2984,
          2869,
          0,
          3237,
          3109,
          5569,
          4700,
          3207,
          3275,
          3572,
          4206,
          3679,
          3220,
          3489,
          3022,
          3328,
          3552,
          3798,
          3648,
          3703,
          1915,
          2870,
          3286,
          2822,
          2576,
          2468,
          967,
          1239,
          1776,
          2333,
          2499,
          3381,
          3604,
          4057,
          4068,
          3931,
          3246,
          3929,
          3532,
          3694,
          3899,
          3783,
          4047,
          4396,
          4297,
          4951,
          3784
         ],
         "yaxis": "y"
        },
        {
         "alignmentgroup": "True",
         "hovertemplate": "DISEASE_GROUP=Neoplasms<br>SECTOR2=PUBLIC<br>DATE=%{x}<br>QTY_PEOPLE_SERVED=%{y}<extra></extra>",
         "legendgroup": "Neoplasms",
         "marker": {
          "color": "#d6616b",
          "pattern": {
           "shape": ""
          }
         },
         "name": "Neoplasms",
         "offsetgroup": "Neoplasms",
         "orientation": "v",
         "showlegend": false,
         "textposition": "auto",
         "type": "bar",
         "x": [
          "2018-01-01T00:00:00",
          "2018-02-01T00:00:00",
          "2018-03-01T00:00:00",
          "2018-04-01T00:00:00",
          "2018-05-01T00:00:00",
          "2018-06-01T00:00:00",
          "2018-07-01T00:00:00",
          "2018-08-01T00:00:00",
          "2018-09-01T00:00:00",
          "2018-10-01T00:00:00",
          "2018-11-01T00:00:00",
          "2018-12-01T00:00:00",
          "2019-01-01T00:00:00",
          "2019-02-01T00:00:00",
          "2019-03-01T00:00:00",
          "2019-04-01T00:00:00",
          "2019-05-01T00:00:00",
          "2019-06-01T00:00:00",
          "2019-07-01T00:00:00",
          "2019-08-01T00:00:00",
          "2019-09-01T00:00:00",
          "2019-10-01T00:00:00",
          "2019-11-01T00:00:00",
          "2019-12-01T00:00:00",
          "2020-01-01T00:00:00",
          "2020-02-01T00:00:00",
          "2020-03-01T00:00:00",
          "2020-04-01T00:00:00",
          "2020-05-01T00:00:00",
          "2020-06-01T00:00:00",
          "2020-07-01T00:00:00",
          "2020-08-01T00:00:00",
          "2020-09-01T00:00:00",
          "2020-10-01T00:00:00",
          "2020-11-01T00:00:00",
          "2020-12-01T00:00:00",
          "2021-01-01T00:00:00",
          "2021-02-01T00:00:00",
          "2021-03-01T00:00:00",
          "2021-04-01T00:00:00",
          "2021-05-01T00:00:00",
          "2021-06-01T00:00:00",
          "2021-07-01T00:00:00",
          "2021-08-01T00:00:00",
          "2021-09-01T00:00:00",
          "2021-10-01T00:00:00",
          "2021-11-01T00:00:00",
          "2021-12-01T00:00:00"
         ],
         "xaxis": "x2",
         "y": [
          39868,
          46984,
          41653,
          0,
          44802,
          40427,
          44273,
          43775,
          42526,
          50619,
          47285,
          41919,
          92371,
          67103,
          51936,
          74244,
          43440,
          51996,
          42373,
          40900,
          44255,
          25666,
          15930,
          17858,
          20147,
          23404,
          21685,
          6661,
          8442,
          10121,
          14522,
          16239,
          18779,
          21785,
          25989,
          25376,
          26316,
          22792,
          27113,
          25836,
          27602,
          30906,
          32720,
          36744,
          35914,
          36357,
          38049,
          37746
         ],
         "yaxis": "y2"
        },
        {
         "alignmentgroup": "True",
         "hovertemplate": "DISEASE_GROUP=Nervous system diseases<br>SECTOR2=PRIVATE<br>DATE=%{x}<br>QTY_PEOPLE_SERVED=%{y}<extra></extra>",
         "legendgroup": "Nervous system diseases",
         "marker": {
          "color": "#e7969c",
          "pattern": {
           "shape": ""
          }
         },
         "name": "Nervous system diseases",
         "offsetgroup": "Nervous system diseases",
         "orientation": "v",
         "showlegend": true,
         "textposition": "auto",
         "type": "bar",
         "x": [
          "2018-01-01T00:00:00",
          "2018-02-01T00:00:00",
          "2018-03-01T00:00:00",
          "2018-04-01T00:00:00",
          "2018-05-01T00:00:00",
          "2018-06-01T00:00:00",
          "2018-07-01T00:00:00",
          "2018-08-01T00:00:00",
          "2018-09-01T00:00:00",
          "2018-10-01T00:00:00",
          "2018-11-01T00:00:00",
          "2018-12-01T00:00:00",
          "2019-01-01T00:00:00",
          "2019-02-01T00:00:00",
          "2019-03-01T00:00:00",
          "2019-04-01T00:00:00",
          "2019-05-01T00:00:00",
          "2019-06-01T00:00:00",
          "2019-07-01T00:00:00",
          "2019-08-01T00:00:00",
          "2019-09-01T00:00:00",
          "2019-10-01T00:00:00",
          "2019-11-01T00:00:00",
          "2019-12-01T00:00:00",
          "2020-01-01T00:00:00",
          "2020-02-01T00:00:00",
          "2020-03-01T00:00:00",
          "2020-04-01T00:00:00",
          "2020-05-01T00:00:00",
          "2020-06-01T00:00:00",
          "2020-07-01T00:00:00",
          "2020-08-01T00:00:00",
          "2020-09-01T00:00:00",
          "2020-10-01T00:00:00",
          "2020-11-01T00:00:00",
          "2020-12-01T00:00:00",
          "2021-01-01T00:00:00",
          "2021-02-01T00:00:00",
          "2021-03-01T00:00:00",
          "2021-04-01T00:00:00",
          "2021-05-01T00:00:00",
          "2021-06-01T00:00:00",
          "2021-07-01T00:00:00",
          "2021-08-01T00:00:00",
          "2021-09-01T00:00:00",
          "2021-10-01T00:00:00",
          "2021-11-01T00:00:00",
          "2021-12-01T00:00:00"
         ],
         "xaxis": "x",
         "y": [
          1943,
          1756,
          1555,
          0,
          1878,
          1916,
          3679,
          2964,
          1900,
          2086,
          2222,
          2581,
          2036,
          2057,
          2048,
          1938,
          2281,
          2717,
          2385,
          2206,
          2110,
          809,
          1463,
          1833,
          1130,
          869,
          1262,
          335,
          404,
          800,
          1286,
          1380,
          1887,
          1777,
          1982,
          2045,
          1822,
          1414,
          1732,
          1538,
          1734,
          1789,
          1817,
          1779,
          1881,
          1891,
          1949,
          1560
         ],
         "yaxis": "y"
        },
        {
         "alignmentgroup": "True",
         "hovertemplate": "DISEASE_GROUP=Nervous system diseases<br>SECTOR2=PUBLIC<br>DATE=%{x}<br>QTY_PEOPLE_SERVED=%{y}<extra></extra>",
         "legendgroup": "Nervous system diseases",
         "marker": {
          "color": "#e7969c",
          "pattern": {
           "shape": ""
          }
         },
         "name": "Nervous system diseases",
         "offsetgroup": "Nervous system diseases",
         "orientation": "v",
         "showlegend": false,
         "textposition": "auto",
         "type": "bar",
         "x": [
          "2018-01-01T00:00:00",
          "2018-02-01T00:00:00",
          "2018-03-01T00:00:00",
          "2018-04-01T00:00:00",
          "2018-05-01T00:00:00",
          "2018-06-01T00:00:00",
          "2018-07-01T00:00:00",
          "2018-08-01T00:00:00",
          "2018-09-01T00:00:00",
          "2018-10-01T00:00:00",
          "2018-11-01T00:00:00",
          "2018-12-01T00:00:00",
          "2019-01-01T00:00:00",
          "2019-02-01T00:00:00",
          "2019-03-01T00:00:00",
          "2019-04-01T00:00:00",
          "2019-05-01T00:00:00",
          "2019-06-01T00:00:00",
          "2019-07-01T00:00:00",
          "2019-08-01T00:00:00",
          "2019-09-01T00:00:00",
          "2019-10-01T00:00:00",
          "2019-11-01T00:00:00",
          "2019-12-01T00:00:00",
          "2020-01-01T00:00:00",
          "2020-02-01T00:00:00",
          "2020-03-01T00:00:00",
          "2020-04-01T00:00:00",
          "2020-05-01T00:00:00",
          "2020-06-01T00:00:00",
          "2020-07-01T00:00:00",
          "2020-08-01T00:00:00",
          "2020-09-01T00:00:00",
          "2020-10-01T00:00:00",
          "2020-11-01T00:00:00",
          "2020-12-01T00:00:00",
          "2021-01-01T00:00:00",
          "2021-02-01T00:00:00",
          "2021-03-01T00:00:00",
          "2021-04-01T00:00:00",
          "2021-05-01T00:00:00",
          "2021-06-01T00:00:00",
          "2021-07-01T00:00:00",
          "2021-08-01T00:00:00",
          "2021-09-01T00:00:00",
          "2021-10-01T00:00:00",
          "2021-11-01T00:00:00",
          "2021-12-01T00:00:00"
         ],
         "xaxis": "x2",
         "y": [
          11461,
          13749,
          12401,
          0,
          12998,
          13780,
          15493,
          15804,
          15421,
          17446,
          16838,
          13600,
          19333,
          25359,
          19815,
          20978,
          16223,
          17478,
          14468,
          14634,
          14890,
          9684,
          6663,
          8487,
          7914,
          8944,
          4708,
          868,
          1186,
          1801,
          2599,
          3120,
          4125,
          4092,
          5456,
          4871,
          5409,
          4591,
          5482,
          5149,
          5949,
          6449,
          7892,
          8512,
          8603,
          8471,
          8607,
          8648
         ],
         "yaxis": "y2"
        },
        {
         "alignmentgroup": "True",
         "hovertemplate": "DISEASE_GROUP=Pregnancy, childbirth and puerperium<br>SECTOR2=PRIVATE<br>DATE=%{x}<br>QTY_PEOPLE_SERVED=%{y}<extra></extra>",
         "legendgroup": "Pregnancy, childbirth and puerperium",
         "marker": {
          "color": "#7b4173",
          "pattern": {
           "shape": ""
          }
         },
         "name": "Pregnancy, childbirth and puerperium",
         "offsetgroup": "Pregnancy, childbirth and puerperium",
         "orientation": "v",
         "showlegend": true,
         "textposition": "auto",
         "type": "bar",
         "x": [
          "2018-01-01T00:00:00",
          "2018-02-01T00:00:00",
          "2018-03-01T00:00:00",
          "2018-04-01T00:00:00",
          "2018-05-01T00:00:00",
          "2018-06-01T00:00:00",
          "2018-07-01T00:00:00",
          "2018-08-01T00:00:00",
          "2018-09-01T00:00:00",
          "2018-10-01T00:00:00",
          "2018-11-01T00:00:00",
          "2018-12-01T00:00:00",
          "2019-01-01T00:00:00",
          "2019-02-01T00:00:00",
          "2019-03-01T00:00:00",
          "2019-04-01T00:00:00",
          "2019-05-01T00:00:00",
          "2019-06-01T00:00:00",
          "2019-07-01T00:00:00",
          "2019-08-01T00:00:00",
          "2019-09-01T00:00:00",
          "2019-10-01T00:00:00",
          "2019-11-01T00:00:00",
          "2019-12-01T00:00:00",
          "2020-01-01T00:00:00",
          "2020-02-01T00:00:00",
          "2020-03-01T00:00:00",
          "2020-04-01T00:00:00",
          "2020-05-01T00:00:00",
          "2020-06-01T00:00:00",
          "2020-07-01T00:00:00",
          "2020-08-01T00:00:00",
          "2020-09-01T00:00:00",
          "2020-10-01T00:00:00",
          "2020-11-01T00:00:00",
          "2020-12-01T00:00:00",
          "2021-01-01T00:00:00",
          "2021-02-01T00:00:00",
          "2021-03-01T00:00:00",
          "2021-04-01T00:00:00",
          "2021-05-01T00:00:00",
          "2021-06-01T00:00:00",
          "2021-07-01T00:00:00",
          "2021-08-01T00:00:00",
          "2021-09-01T00:00:00",
          "2021-10-01T00:00:00",
          "2021-11-01T00:00:00",
          "2021-12-01T00:00:00"
         ],
         "xaxis": "x",
         "y": [
          897,
          875,
          1033,
          0,
          923,
          922,
          1020,
          907,
          968,
          988,
          959,
          994,
          976,
          679,
          777,
          785,
          1043,
          1442,
          864,
          849,
          812,
          538,
          542,
          669,
          829,
          674,
          765,
          595,
          510,
          531,
          706,
          734,
          765,
          765,
          705,
          663,
          652,
          646,
          815,
          706,
          802,
          789,
          850,
          909,
          909,
          879,
          805,
          860
         ],
         "yaxis": "y"
        },
        {
         "alignmentgroup": "True",
         "hovertemplate": "DISEASE_GROUP=Pregnancy, childbirth and puerperium<br>SECTOR2=PUBLIC<br>DATE=%{x}<br>QTY_PEOPLE_SERVED=%{y}<extra></extra>",
         "legendgroup": "Pregnancy, childbirth and puerperium",
         "marker": {
          "color": "#7b4173",
          "pattern": {
           "shape": ""
          }
         },
         "name": "Pregnancy, childbirth and puerperium",
         "offsetgroup": "Pregnancy, childbirth and puerperium",
         "orientation": "v",
         "showlegend": false,
         "textposition": "auto",
         "type": "bar",
         "x": [
          "2018-01-01T00:00:00",
          "2018-02-01T00:00:00",
          "2018-03-01T00:00:00",
          "2018-04-01T00:00:00",
          "2018-05-01T00:00:00",
          "2018-06-01T00:00:00",
          "2018-07-01T00:00:00",
          "2018-08-01T00:00:00",
          "2018-09-01T00:00:00",
          "2018-10-01T00:00:00",
          "2018-11-01T00:00:00",
          "2018-12-01T00:00:00",
          "2019-01-01T00:00:00",
          "2019-02-01T00:00:00",
          "2019-03-01T00:00:00",
          "2019-04-01T00:00:00",
          "2019-05-01T00:00:00",
          "2019-06-01T00:00:00",
          "2019-07-01T00:00:00",
          "2019-08-01T00:00:00",
          "2019-09-01T00:00:00",
          "2019-10-01T00:00:00",
          "2019-11-01T00:00:00",
          "2019-12-01T00:00:00",
          "2020-01-01T00:00:00",
          "2020-02-01T00:00:00",
          "2020-03-01T00:00:00",
          "2020-04-01T00:00:00",
          "2020-05-01T00:00:00",
          "2020-06-01T00:00:00",
          "2020-07-01T00:00:00",
          "2020-08-01T00:00:00",
          "2020-09-01T00:00:00",
          "2020-10-01T00:00:00",
          "2020-11-01T00:00:00",
          "2020-12-01T00:00:00",
          "2021-01-01T00:00:00",
          "2021-02-01T00:00:00",
          "2021-03-01T00:00:00",
          "2021-04-01T00:00:00",
          "2021-05-01T00:00:00",
          "2021-06-01T00:00:00",
          "2021-07-01T00:00:00",
          "2021-08-01T00:00:00",
          "2021-09-01T00:00:00",
          "2021-10-01T00:00:00",
          "2021-11-01T00:00:00",
          "2021-12-01T00:00:00"
         ],
         "xaxis": "x2",
         "y": [
          20737,
          18847,
          21061,
          0,
          19518,
          19303,
          19028,
          19519,
          20055,
          20800,
          19205,
          18563,
          17293,
          15784,
          17401,
          16328,
          25412,
          28674,
          14200,
          12712,
          13402,
          9055,
          8512,
          8494,
          13594,
          14035,
          10761,
          8992,
          7757,
          6510,
          8142,
          8722,
          10132,
          10962,
          13626,
          10363,
          11845,
          11181,
          12998,
          13539,
          13662,
          14414,
          15031,
          15266,
          15085,
          13877,
          13482,
          14555
         ],
         "yaxis": "y2"
        },
        {
         "alignmentgroup": "True",
         "hovertemplate": "DISEASE_GROUP=Respiratory system diseases<br>SECTOR2=PRIVATE<br>DATE=%{x}<br>QTY_PEOPLE_SERVED=%{y}<extra></extra>",
         "legendgroup": "Respiratory system diseases",
         "marker": {
          "color": "#a55194",
          "pattern": {
           "shape": ""
          }
         },
         "name": "Respiratory system diseases",
         "offsetgroup": "Respiratory system diseases",
         "orientation": "v",
         "showlegend": true,
         "textposition": "auto",
         "type": "bar",
         "x": [
          "2018-01-01T00:00:00",
          "2018-02-01T00:00:00",
          "2018-03-01T00:00:00",
          "2018-04-01T00:00:00",
          "2018-05-01T00:00:00",
          "2018-06-01T00:00:00",
          "2018-07-01T00:00:00",
          "2018-08-01T00:00:00",
          "2018-09-01T00:00:00",
          "2018-10-01T00:00:00",
          "2018-11-01T00:00:00",
          "2018-12-01T00:00:00",
          "2019-01-01T00:00:00",
          "2019-02-01T00:00:00",
          "2019-03-01T00:00:00",
          "2019-04-01T00:00:00",
          "2019-05-01T00:00:00",
          "2019-06-01T00:00:00",
          "2019-07-01T00:00:00",
          "2019-08-01T00:00:00",
          "2019-09-01T00:00:00",
          "2019-10-01T00:00:00",
          "2019-11-01T00:00:00",
          "2019-12-01T00:00:00",
          "2020-01-01T00:00:00",
          "2020-02-01T00:00:00",
          "2020-03-01T00:00:00",
          "2020-04-01T00:00:00",
          "2020-05-01T00:00:00",
          "2020-06-01T00:00:00",
          "2020-07-01T00:00:00",
          "2020-08-01T00:00:00",
          "2020-09-01T00:00:00",
          "2020-10-01T00:00:00",
          "2020-11-01T00:00:00",
          "2020-12-01T00:00:00",
          "2021-01-01T00:00:00",
          "2021-02-01T00:00:00",
          "2021-03-01T00:00:00",
          "2021-04-01T00:00:00",
          "2021-05-01T00:00:00",
          "2021-06-01T00:00:00",
          "2021-07-01T00:00:00",
          "2021-08-01T00:00:00",
          "2021-09-01T00:00:00",
          "2021-10-01T00:00:00",
          "2021-11-01T00:00:00",
          "2021-12-01T00:00:00"
         ],
         "xaxis": "x",
         "y": [
          10238,
          7536,
          7926,
          0,
          12244,
          15325,
          23458,
          16837,
          11816,
          11658,
          11918,
          14846,
          9820,
          7915,
          9441,
          10270,
          12915,
          19875,
          15253,
          13326,
          14319,
          4215,
          7096,
          8968,
          4264,
          3149,
          5806,
          1061,
          1679,
          1926,
          3690,
          3625,
          3825,
          3242,
          4119,
          4245,
          5094,
          4035,
          4240,
          4100,
          4383,
          4194,
          4473,
          4455,
          4122,
          4696,
          5267,
          4740
         ],
         "yaxis": "y"
        },
        {
         "alignmentgroup": "True",
         "hovertemplate": "DISEASE_GROUP=Respiratory system diseases<br>SECTOR2=PUBLIC<br>DATE=%{x}<br>QTY_PEOPLE_SERVED=%{y}<extra></extra>",
         "legendgroup": "Respiratory system diseases",
         "marker": {
          "color": "#a55194",
          "pattern": {
           "shape": ""
          }
         },
         "name": "Respiratory system diseases",
         "offsetgroup": "Respiratory system diseases",
         "orientation": "v",
         "showlegend": false,
         "textposition": "auto",
         "type": "bar",
         "x": [
          "2018-01-01T00:00:00",
          "2018-02-01T00:00:00",
          "2018-03-01T00:00:00",
          "2018-04-01T00:00:00",
          "2018-05-01T00:00:00",
          "2018-06-01T00:00:00",
          "2018-07-01T00:00:00",
          "2018-08-01T00:00:00",
          "2018-09-01T00:00:00",
          "2018-10-01T00:00:00",
          "2018-11-01T00:00:00",
          "2018-12-01T00:00:00",
          "2019-01-01T00:00:00",
          "2019-02-01T00:00:00",
          "2019-03-01T00:00:00",
          "2019-04-01T00:00:00",
          "2019-05-01T00:00:00",
          "2019-06-01T00:00:00",
          "2019-07-01T00:00:00",
          "2019-08-01T00:00:00",
          "2019-09-01T00:00:00",
          "2019-10-01T00:00:00",
          "2019-11-01T00:00:00",
          "2019-12-01T00:00:00",
          "2020-01-01T00:00:00",
          "2020-02-01T00:00:00",
          "2020-03-01T00:00:00",
          "2020-04-01T00:00:00",
          "2020-05-01T00:00:00",
          "2020-06-01T00:00:00",
          "2020-07-01T00:00:00",
          "2020-08-01T00:00:00",
          "2020-09-01T00:00:00",
          "2020-10-01T00:00:00",
          "2020-11-01T00:00:00",
          "2020-12-01T00:00:00",
          "2021-01-01T00:00:00",
          "2021-02-01T00:00:00",
          "2021-03-01T00:00:00",
          "2021-04-01T00:00:00",
          "2021-05-01T00:00:00",
          "2021-06-01T00:00:00",
          "2021-07-01T00:00:00",
          "2021-08-01T00:00:00",
          "2021-09-01T00:00:00",
          "2021-10-01T00:00:00",
          "2021-11-01T00:00:00",
          "2021-12-01T00:00:00"
         ],
         "xaxis": "x2",
         "y": [
          36030,
          31257,
          34261,
          0,
          52568,
          53364,
          45601,
          39042,
          46805,
          49799,
          49606,
          38337,
          47326,
          41231,
          39396,
          47186,
          51724,
          60712,
          44162,
          43944,
          49682,
          28063,
          16522,
          23503,
          15199,
          15455,
          10497,
          2467,
          3524,
          3934,
          7187,
          8328,
          6937,
          7178,
          8456,
          7601,
          10325,
          9740,
          12671,
          12150,
          13036,
          11732,
          15129,
          14176,
          13217,
          14939,
          16304,
          17796
         ],
         "yaxis": "y2"
        },
        {
         "alignmentgroup": "True",
         "hovertemplate": "DISEASE_GROUP=Some conditions originating in the perinatal period<br>SECTOR2=PRIVATE<br>DATE=%{x}<br>QTY_PEOPLE_SERVED=%{y}<extra></extra>",
         "legendgroup": "Some conditions originating in the perinatal period",
         "marker": {
          "color": "#ce6dbd",
          "pattern": {
           "shape": ""
          }
         },
         "name": "Some conditions originating in the perinatal period",
         "offsetgroup": "Some conditions originating in the perinatal period",
         "orientation": "v",
         "showlegend": true,
         "textposition": "auto",
         "type": "bar",
         "x": [
          "2018-01-01T00:00:00",
          "2018-02-01T00:00:00",
          "2018-03-01T00:00:00",
          "2018-04-01T00:00:00",
          "2018-05-01T00:00:00",
          "2018-06-01T00:00:00",
          "2018-07-01T00:00:00",
          "2018-08-01T00:00:00",
          "2018-09-01T00:00:00",
          "2018-10-01T00:00:00",
          "2018-11-01T00:00:00",
          "2018-12-01T00:00:00",
          "2019-01-01T00:00:00",
          "2019-02-01T00:00:00",
          "2019-03-01T00:00:00",
          "2019-04-01T00:00:00",
          "2019-05-01T00:00:00",
          "2019-06-01T00:00:00",
          "2019-07-01T00:00:00",
          "2019-08-01T00:00:00",
          "2019-09-01T00:00:00",
          "2019-10-01T00:00:00",
          "2019-11-01T00:00:00",
          "2019-12-01T00:00:00",
          "2020-01-01T00:00:00",
          "2020-02-01T00:00:00",
          "2020-03-01T00:00:00",
          "2020-04-01T00:00:00",
          "2020-05-01T00:00:00",
          "2020-06-01T00:00:00",
          "2020-07-01T00:00:00",
          "2020-08-01T00:00:00",
          "2020-09-01T00:00:00",
          "2020-10-01T00:00:00",
          "2020-11-01T00:00:00",
          "2020-12-01T00:00:00",
          "2021-01-01T00:00:00",
          "2021-02-01T00:00:00",
          "2021-03-01T00:00:00",
          "2021-04-01T00:00:00",
          "2021-05-01T00:00:00",
          "2021-06-01T00:00:00",
          "2021-07-01T00:00:00",
          "2021-08-01T00:00:00",
          "2021-09-01T00:00:00",
          "2021-10-01T00:00:00",
          "2021-11-01T00:00:00",
          "2021-12-01T00:00:00"
         ],
         "xaxis": "x",
         "y": [
          109,
          114,
          146,
          0,
          128,
          129,
          192,
          139,
          161,
          152,
          119,
          164,
          145,
          129,
          132,
          112,
          114,
          137,
          134,
          99,
          98,
          66,
          79,
          88,
          92,
          70,
          75,
          35,
          45,
          74,
          83,
          87,
          92,
          103,
          78,
          98,
          86,
          73,
          102,
          101,
          89,
          88,
          76,
          88,
          91,
          108,
          108,
          120
         ],
         "yaxis": "y"
        },
        {
         "alignmentgroup": "True",
         "hovertemplate": "DISEASE_GROUP=Some conditions originating in the perinatal period<br>SECTOR2=PUBLIC<br>DATE=%{x}<br>QTY_PEOPLE_SERVED=%{y}<extra></extra>",
         "legendgroup": "Some conditions originating in the perinatal period",
         "marker": {
          "color": "#ce6dbd",
          "pattern": {
           "shape": ""
          }
         },
         "name": "Some conditions originating in the perinatal period",
         "offsetgroup": "Some conditions originating in the perinatal period",
         "orientation": "v",
         "showlegend": false,
         "textposition": "auto",
         "type": "bar",
         "x": [
          "2018-01-01T00:00:00",
          "2018-02-01T00:00:00",
          "2018-03-01T00:00:00",
          "2018-04-01T00:00:00",
          "2018-05-01T00:00:00",
          "2018-06-01T00:00:00",
          "2018-07-01T00:00:00",
          "2018-08-01T00:00:00",
          "2018-09-01T00:00:00",
          "2018-10-01T00:00:00",
          "2018-11-01T00:00:00",
          "2018-12-01T00:00:00",
          "2019-01-01T00:00:00",
          "2019-02-01T00:00:00",
          "2019-03-01T00:00:00",
          "2019-04-01T00:00:00",
          "2019-05-01T00:00:00",
          "2019-06-01T00:00:00",
          "2019-07-01T00:00:00",
          "2019-08-01T00:00:00",
          "2019-09-01T00:00:00",
          "2019-10-01T00:00:00",
          "2019-11-01T00:00:00",
          "2019-12-01T00:00:00",
          "2020-01-01T00:00:00",
          "2020-02-01T00:00:00",
          "2020-03-01T00:00:00",
          "2020-04-01T00:00:00",
          "2020-05-01T00:00:00",
          "2020-06-01T00:00:00",
          "2020-07-01T00:00:00",
          "2020-08-01T00:00:00",
          "2020-09-01T00:00:00",
          "2020-10-01T00:00:00",
          "2020-11-01T00:00:00",
          "2020-12-01T00:00:00",
          "2021-01-01T00:00:00",
          "2021-02-01T00:00:00",
          "2021-03-01T00:00:00",
          "2021-04-01T00:00:00",
          "2021-05-01T00:00:00",
          "2021-06-01T00:00:00",
          "2021-07-01T00:00:00",
          "2021-08-01T00:00:00",
          "2021-09-01T00:00:00",
          "2021-10-01T00:00:00",
          "2021-11-01T00:00:00",
          "2021-12-01T00:00:00"
         ],
         "xaxis": "x2",
         "y": [
          3446,
          3891,
          3761,
          0,
          3749,
          3701,
          4182,
          4206,
          3816,
          4388,
          4271,
          4243,
          3800,
          4030,
          3496,
          4914,
          4452,
          3906,
          3279,
          3044,
          3387,
          2788,
          1764,
          1299,
          2697,
          3716,
          1839,
          1006,
          1167,
          1211,
          1497,
          1699,
          1795,
          1985,
          2923,
          2454,
          2442,
          6709,
          3304,
          2845,
          3171,
          3006,
          3326,
          3150,
          3230,
          3123,
          3262,
          3639
         ],
         "yaxis": "y2"
        },
        {
         "alignmentgroup": "True",
         "hovertemplate": "DISEASE_GROUP=Some infectious and parasitic diseases<br>SECTOR2=PRIVATE<br>DATE=%{x}<br>QTY_PEOPLE_SERVED=%{y}<extra></extra>",
         "legendgroup": "Some infectious and parasitic diseases",
         "marker": {
          "color": "#de9ed6",
          "pattern": {
           "shape": ""
          }
         },
         "name": "Some infectious and parasitic diseases",
         "offsetgroup": "Some infectious and parasitic diseases",
         "orientation": "v",
         "showlegend": true,
         "textposition": "auto",
         "type": "bar",
         "x": [
          "2018-01-01T00:00:00",
          "2018-02-01T00:00:00",
          "2018-03-01T00:00:00",
          "2018-04-01T00:00:00",
          "2018-05-01T00:00:00",
          "2018-06-01T00:00:00",
          "2018-07-01T00:00:00",
          "2018-08-01T00:00:00",
          "2018-09-01T00:00:00",
          "2018-10-01T00:00:00",
          "2018-11-01T00:00:00",
          "2018-12-01T00:00:00",
          "2019-01-01T00:00:00",
          "2019-02-01T00:00:00",
          "2019-03-01T00:00:00",
          "2019-04-01T00:00:00",
          "2019-05-01T00:00:00",
          "2019-06-01T00:00:00",
          "2019-07-01T00:00:00",
          "2019-08-01T00:00:00",
          "2019-09-01T00:00:00",
          "2019-10-01T00:00:00",
          "2019-11-01T00:00:00",
          "2019-12-01T00:00:00",
          "2020-01-01T00:00:00",
          "2020-02-01T00:00:00",
          "2020-03-01T00:00:00",
          "2020-04-01T00:00:00",
          "2020-05-01T00:00:00",
          "2020-06-01T00:00:00",
          "2020-07-01T00:00:00",
          "2020-08-01T00:00:00",
          "2020-09-01T00:00:00",
          "2020-10-01T00:00:00",
          "2020-11-01T00:00:00",
          "2020-12-01T00:00:00",
          "2021-01-01T00:00:00",
          "2021-02-01T00:00:00",
          "2021-03-01T00:00:00",
          "2021-04-01T00:00:00",
          "2021-05-01T00:00:00",
          "2021-06-01T00:00:00",
          "2021-07-01T00:00:00",
          "2021-08-01T00:00:00",
          "2021-09-01T00:00:00",
          "2021-10-01T00:00:00",
          "2021-11-01T00:00:00",
          "2021-12-01T00:00:00"
         ],
         "xaxis": "x",
         "y": [
          3646,
          3595,
          3124,
          0,
          3078,
          2817,
          4642,
          4214,
          2983,
          3362,
          3907,
          4726,
          4037,
          3957,
          3978,
          3358,
          4119,
          4606,
          3380,
          3577,
          3904,
          1925,
          2716,
          3552,
          2579,
          2370,
          1889,
          515,
          1064,
          1588,
          2522,
          2602,
          2123,
          1929,
          2167,
          2716,
          3188,
          2739,
          2922,
          2721,
          2410,
          2173,
          2291,
          2384,
          2280,
          2632,
          2673,
          2582
         ],
         "yaxis": "y"
        },
        {
         "alignmentgroup": "True",
         "hovertemplate": "DISEASE_GROUP=Some infectious and parasitic diseases<br>SECTOR2=PUBLIC<br>DATE=%{x}<br>QTY_PEOPLE_SERVED=%{y}<extra></extra>",
         "legendgroup": "Some infectious and parasitic diseases",
         "marker": {
          "color": "#de9ed6",
          "pattern": {
           "shape": ""
          }
         },
         "name": "Some infectious and parasitic diseases",
         "offsetgroup": "Some infectious and parasitic diseases",
         "orientation": "v",
         "showlegend": false,
         "textposition": "auto",
         "type": "bar",
         "x": [
          "2018-01-01T00:00:00",
          "2018-02-01T00:00:00",
          "2018-03-01T00:00:00",
          "2018-04-01T00:00:00",
          "2018-05-01T00:00:00",
          "2018-06-01T00:00:00",
          "2018-07-01T00:00:00",
          "2018-08-01T00:00:00",
          "2018-09-01T00:00:00",
          "2018-10-01T00:00:00",
          "2018-11-01T00:00:00",
          "2018-12-01T00:00:00",
          "2019-01-01T00:00:00",
          "2019-02-01T00:00:00",
          "2019-03-01T00:00:00",
          "2019-04-01T00:00:00",
          "2019-05-01T00:00:00",
          "2019-06-01T00:00:00",
          "2019-07-01T00:00:00",
          "2019-08-01T00:00:00",
          "2019-09-01T00:00:00",
          "2019-10-01T00:00:00",
          "2019-11-01T00:00:00",
          "2019-12-01T00:00:00",
          "2020-01-01T00:00:00",
          "2020-02-01T00:00:00",
          "2020-03-01T00:00:00",
          "2020-04-01T00:00:00",
          "2020-05-01T00:00:00",
          "2020-06-01T00:00:00",
          "2020-07-01T00:00:00",
          "2020-08-01T00:00:00",
          "2020-09-01T00:00:00",
          "2020-10-01T00:00:00",
          "2020-11-01T00:00:00",
          "2020-12-01T00:00:00",
          "2021-01-01T00:00:00",
          "2021-02-01T00:00:00",
          "2021-03-01T00:00:00",
          "2021-04-01T00:00:00",
          "2021-05-01T00:00:00",
          "2021-06-01T00:00:00",
          "2021-07-01T00:00:00",
          "2021-08-01T00:00:00",
          "2021-09-01T00:00:00",
          "2021-10-01T00:00:00",
          "2021-11-01T00:00:00",
          "2021-12-01T00:00:00"
         ],
         "xaxis": "x2",
         "y": [
          21500,
          21479,
          20862,
          0,
          19527,
          17811,
          19966,
          21833,
          22387,
          23934,
          22942,
          19583,
          29389,
          27319,
          24227,
          27392,
          23254,
          23645,
          18237,
          19335,
          22089,
          13046,
          9960,
          13540,
          12426,
          13048,
          7084,
          2612,
          2973,
          3072,
          7019,
          7401,
          5607,
          5715,
          7719,
          8213,
          7923,
          7040,
          8211,
          7779,
          8190,
          8294,
          10173,
          9810,
          10546,
          10563,
          10890,
          11263
         ],
         "yaxis": "y2"
        },
        {
         "alignmentgroup": "True",
         "hovertemplate": "DISEASE_GROUP=Unidentified<br>SECTOR2=PRIVATE<br>DATE=%{x}<br>QTY_PEOPLE_SERVED=%{y}<extra></extra>",
         "legendgroup": "Unidentified",
         "marker": {
          "color": "#de9ed6",
          "pattern": {
           "shape": ""
          }
         },
         "name": "Unidentified",
         "offsetgroup": "Unidentified",
         "orientation": "v",
         "showlegend": true,
         "textposition": "auto",
         "type": "bar",
         "x": [
          "2018-01-01T00:00:00",
          "2018-02-01T00:00:00",
          "2018-03-01T00:00:00",
          "2018-04-01T00:00:00",
          "2018-05-01T00:00:00",
          "2018-06-01T00:00:00",
          "2018-07-01T00:00:00",
          "2018-08-01T00:00:00",
          "2018-09-01T00:00:00",
          "2018-10-01T00:00:00",
          "2018-11-01T00:00:00",
          "2018-12-01T00:00:00",
          "2019-01-01T00:00:00",
          "2019-02-01T00:00:00",
          "2019-03-01T00:00:00",
          "2019-04-01T00:00:00",
          "2019-05-01T00:00:00",
          "2019-06-01T00:00:00",
          "2019-07-01T00:00:00",
          "2019-08-01T00:00:00",
          "2019-09-01T00:00:00",
          "2019-10-01T00:00:00",
          "2019-11-01T00:00:00",
          "2019-12-01T00:00:00",
          "2020-01-01T00:00:00",
          "2020-02-01T00:00:00",
          "2020-03-01T00:00:00",
          "2020-04-01T00:00:00",
          "2020-05-01T00:00:00",
          "2020-06-01T00:00:00",
          "2020-07-01T00:00:00",
          "2020-08-01T00:00:00",
          "2020-09-01T00:00:00",
          "2020-10-01T00:00:00",
          "2020-11-01T00:00:00",
          "2020-12-01T00:00:00",
          "2021-01-01T00:00:00",
          "2021-02-01T00:00:00",
          "2021-03-01T00:00:00",
          "2021-04-01T00:00:00",
          "2021-05-01T00:00:00",
          "2021-06-01T00:00:00",
          "2021-07-01T00:00:00",
          "2021-08-01T00:00:00",
          "2021-09-01T00:00:00",
          "2021-10-01T00:00:00",
          "2021-11-01T00:00:00",
          "2021-12-01T00:00:00"
         ],
         "xaxis": "x",
         "y": [
          1284,
          1128,
          1074,
          0,
          1044,
          1025,
          1823,
          1473,
          1089,
          1153,
          1471,
          1511,
          1353,
          1185,
          1196,
          1214,
          1400,
          1890,
          1211,
          1221,
          1182,
          561,
          752,
          891,
          695,
          652,
          493,
          150,
          175,
          276,
          529,
          513,
          585,
          736,
          848,
          900,
          921,
          672,
          850,
          728,
          786,
          864,
          909,
          893,
          962,
          1021,
          984,
          974
         ],
         "yaxis": "y"
        },
        {
         "alignmentgroup": "True",
         "hovertemplate": "DISEASE_GROUP=Unidentified<br>SECTOR2=PUBLIC<br>DATE=%{x}<br>QTY_PEOPLE_SERVED=%{y}<extra></extra>",
         "legendgroup": "Unidentified",
         "marker": {
          "color": "#de9ed6",
          "pattern": {
           "shape": ""
          }
         },
         "name": "Unidentified",
         "offsetgroup": "Unidentified",
         "orientation": "v",
         "showlegend": false,
         "textposition": "auto",
         "type": "bar",
         "x": [
          "2018-01-01T00:00:00",
          "2018-02-01T00:00:00",
          "2018-03-01T00:00:00",
          "2018-04-01T00:00:00",
          "2018-05-01T00:00:00",
          "2018-06-01T00:00:00",
          "2018-07-01T00:00:00",
          "2018-08-01T00:00:00",
          "2018-09-01T00:00:00",
          "2018-10-01T00:00:00",
          "2018-11-01T00:00:00",
          "2018-12-01T00:00:00",
          "2019-01-01T00:00:00",
          "2019-02-01T00:00:00",
          "2019-03-01T00:00:00",
          "2019-04-01T00:00:00",
          "2019-05-01T00:00:00",
          "2019-06-01T00:00:00",
          "2019-07-01T00:00:00",
          "2019-08-01T00:00:00",
          "2019-09-01T00:00:00",
          "2019-10-01T00:00:00",
          "2019-11-01T00:00:00",
          "2019-12-01T00:00:00",
          "2020-01-01T00:00:00",
          "2020-02-01T00:00:00",
          "2020-03-01T00:00:00",
          "2020-04-01T00:00:00",
          "2020-05-01T00:00:00",
          "2020-06-01T00:00:00",
          "2020-07-01T00:00:00",
          "2020-08-01T00:00:00",
          "2020-09-01T00:00:00",
          "2020-10-01T00:00:00",
          "2020-11-01T00:00:00",
          "2020-12-01T00:00:00",
          "2021-01-01T00:00:00",
          "2021-02-01T00:00:00",
          "2021-03-01T00:00:00",
          "2021-04-01T00:00:00",
          "2021-05-01T00:00:00",
          "2021-06-01T00:00:00",
          "2021-07-01T00:00:00",
          "2021-08-01T00:00:00",
          "2021-09-01T00:00:00",
          "2021-10-01T00:00:00",
          "2021-11-01T00:00:00",
          "2021-12-01T00:00:00"
         ],
         "xaxis": "x2",
         "y": [
          8916,
          7989,
          8839,
          0,
          8313,
          8135,
          8404,
          8304,
          9312,
          9733,
          9190,
          8924,
          10474,
          10387,
          9907,
          10631,
          10685,
          11549,
          8168,
          8203,
          8438,
          4838,
          3900,
          5671,
          4967,
          4706,
          2660,
          970,
          753,
          1020,
          1735,
          1808,
          2663,
          3465,
          5024,
          4169,
          4048,
          3142,
          4455,
          4159,
          4312,
          5685,
          6233,
          6882,
          6896,
          6980,
          7005,
          7304
         ],
         "yaxis": "y2"
        },
        {
         "alignmentgroup": "True",
         "hovertemplate": "DISEASE_GROUP=Codes for special situations<br>SECTOR2=PRIVATE<br>DATE=%{x}<br>QTY_PEOPLE_SERVED=%{y}<extra></extra>",
         "legendgroup": "Codes for special situations",
         "marker": {
          "color": "#393b79",
          "pattern": {
           "shape": ""
          }
         },
         "name": "Codes for special situations",
         "offsetgroup": "Codes for special situations",
         "orientation": "v",
         "showlegend": true,
         "textposition": "auto",
         "type": "bar",
         "x": [
          "2020-04-01T00:00:00",
          "2020-05-01T00:00:00",
          "2020-06-01T00:00:00",
          "2020-07-01T00:00:00",
          "2020-08-01T00:00:00",
          "2020-09-01T00:00:00",
          "2020-10-01T00:00:00",
          "2020-11-01T00:00:00",
          "2020-12-01T00:00:00",
          "2021-01-01T00:00:00",
          "2021-02-01T00:00:00",
          "2021-03-01T00:00:00",
          "2021-04-01T00:00:00",
          "2021-05-01T00:00:00",
          "2021-06-01T00:00:00",
          "2021-07-01T00:00:00",
          "2021-08-01T00:00:00",
          "2021-09-01T00:00:00",
          "2021-10-01T00:00:00",
          "2021-11-01T00:00:00",
          "2021-12-01T00:00:00"
         ],
         "xaxis": "x",
         "y": [
          6,
          91,
          165,
          2637,
          2575,
          1402,
          794,
          639,
          808,
          2167,
          2801,
          3379,
          3158,
          2192,
          1441,
          1244,
          1232,
          987,
          964,
          1150,
          1993
         ],
         "yaxis": "y"
        },
        {
         "alignmentgroup": "True",
         "hovertemplate": "DISEASE_GROUP=Codes for special situations<br>SECTOR2=PUBLIC<br>DATE=%{x}<br>QTY_PEOPLE_SERVED=%{y}<extra></extra>",
         "legendgroup": "Codes for special situations",
         "marker": {
          "color": "#393b79",
          "pattern": {
           "shape": ""
          }
         },
         "name": "Codes for special situations",
         "offsetgroup": "Codes for special situations",
         "orientation": "v",
         "showlegend": false,
         "textposition": "auto",
         "type": "bar",
         "x": [
          "2018-01-01T00:00:00",
          "2018-02-01T00:00:00",
          "2018-03-01T00:00:00",
          "2018-04-01T00:00:00",
          "2018-05-01T00:00:00",
          "2018-06-01T00:00:00",
          "2018-07-01T00:00:00",
          "2018-08-01T00:00:00",
          "2018-09-01T00:00:00",
          "2018-10-01T00:00:00",
          "2018-11-01T00:00:00",
          "2018-12-01T00:00:00",
          "2019-01-01T00:00:00",
          "2019-02-01T00:00:00",
          "2019-03-01T00:00:00",
          "2019-04-01T00:00:00",
          "2019-05-01T00:00:00",
          "2019-06-01T00:00:00",
          "2019-07-01T00:00:00",
          "2019-08-01T00:00:00",
          "2019-09-01T00:00:00",
          "2019-10-01T00:00:00",
          "2019-11-01T00:00:00",
          "2019-12-01T00:00:00",
          "2020-01-01T00:00:00",
          "2020-02-01T00:00:00",
          "2020-03-01T00:00:00",
          "2020-04-01T00:00:00",
          "2020-05-01T00:00:00",
          "2020-06-01T00:00:00",
          "2020-07-01T00:00:00",
          "2020-08-01T00:00:00",
          "2020-09-01T00:00:00",
          "2020-10-01T00:00:00",
          "2020-11-01T00:00:00",
          "2020-12-01T00:00:00",
          "2021-01-01T00:00:00",
          "2021-02-01T00:00:00",
          "2021-03-01T00:00:00",
          "2021-04-01T00:00:00",
          "2021-05-01T00:00:00",
          "2021-06-01T00:00:00",
          "2021-07-01T00:00:00",
          "2021-08-01T00:00:00",
          "2021-09-01T00:00:00",
          "2021-10-01T00:00:00",
          "2021-11-01T00:00:00",
          "2021-12-01T00:00:00"
         ],
         "xaxis": "x2",
         "y": [
          15,
          18,
          12,
          0,
          21,
          14,
          187,
          73,
          113,
          84,
          50,
          23,
          61,
          30,
          9,
          68,
          116,
          99,
          86,
          77,
          70,
          6,
          4,
          99,
          53,
          48,
          48,
          321,
          1568,
          2371,
          12918,
          13103,
          10326,
          7628,
          4839,
          4418,
          8395,
          11595,
          15255,
          12841,
          8330,
          6318,
          4960,
          4868,
          3800,
          4014,
          3943,
          5132
         ],
         "yaxis": "y2"
        }
       ],
       "layout": {
        "annotations": [
         {
          "font": {},
          "showarrow": false,
          "text": "SECTOR2=PRIVATE",
          "x": 0.245,
          "xanchor": "center",
          "xref": "paper",
          "y": 1,
          "yanchor": "bottom",
          "yref": "paper"
         },
         {
          "font": {},
          "showarrow": false,
          "text": "SECTOR2=PUBLIC",
          "x": 0.755,
          "xanchor": "center",
          "xref": "paper",
          "y": 1,
          "yanchor": "bottom",
          "yref": "paper"
         }
        ],
        "barmode": "stack",
        "height": 1000,
        "legend": {
         "title": {
          "text": "DISEASE_GROUP"
         },
         "tracegroupgap": 0,
         "x": 0,
         "xanchor": "left",
         "y": -0.1,
         "yanchor": "top"
        },
        "margin": {
         "t": 60
        },
        "showlegend": true,
        "template": {
         "data": {
          "bar": [
           {
            "error_x": {
             "color": "#2a3f5f"
            },
            "error_y": {
             "color": "#2a3f5f"
            },
            "marker": {
             "line": {
              "color": "#E5ECF6",
              "width": 0.5
             },
             "pattern": {
              "fillmode": "overlay",
              "size": 10,
              "solidity": 0.2
             }
            },
            "type": "bar"
           }
          ],
          "barpolar": [
           {
            "marker": {
             "line": {
              "color": "#E5ECF6",
              "width": 0.5
             },
             "pattern": {
              "fillmode": "overlay",
              "size": 10,
              "solidity": 0.2
             }
            },
            "type": "barpolar"
           }
          ],
          "carpet": [
           {
            "aaxis": {
             "endlinecolor": "#2a3f5f",
             "gridcolor": "white",
             "linecolor": "white",
             "minorgridcolor": "white",
             "startlinecolor": "#2a3f5f"
            },
            "baxis": {
             "endlinecolor": "#2a3f5f",
             "gridcolor": "white",
             "linecolor": "white",
             "minorgridcolor": "white",
             "startlinecolor": "#2a3f5f"
            },
            "type": "carpet"
           }
          ],
          "choropleth": [
           {
            "colorbar": {
             "outlinewidth": 0,
             "ticks": ""
            },
            "type": "choropleth"
           }
          ],
          "contour": [
           {
            "colorbar": {
             "outlinewidth": 0,
             "ticks": ""
            },
            "colorscale": [
             [
              0,
              "#0d0887"
             ],
             [
              0.1111111111111111,
              "#46039f"
             ],
             [
              0.2222222222222222,
              "#7201a8"
             ],
             [
              0.3333333333333333,
              "#9c179e"
             ],
             [
              0.4444444444444444,
              "#bd3786"
             ],
             [
              0.5555555555555556,
              "#d8576b"
             ],
             [
              0.6666666666666666,
              "#ed7953"
             ],
             [
              0.7777777777777778,
              "#fb9f3a"
             ],
             [
              0.8888888888888888,
              "#fdca26"
             ],
             [
              1,
              "#f0f921"
             ]
            ],
            "type": "contour"
           }
          ],
          "contourcarpet": [
           {
            "colorbar": {
             "outlinewidth": 0,
             "ticks": ""
            },
            "type": "contourcarpet"
           }
          ],
          "heatmap": [
           {
            "colorbar": {
             "outlinewidth": 0,
             "ticks": ""
            },
            "colorscale": [
             [
              0,
              "#0d0887"
             ],
             [
              0.1111111111111111,
              "#46039f"
             ],
             [
              0.2222222222222222,
              "#7201a8"
             ],
             [
              0.3333333333333333,
              "#9c179e"
             ],
             [
              0.4444444444444444,
              "#bd3786"
             ],
             [
              0.5555555555555556,
              "#d8576b"
             ],
             [
              0.6666666666666666,
              "#ed7953"
             ],
             [
              0.7777777777777778,
              "#fb9f3a"
             ],
             [
              0.8888888888888888,
              "#fdca26"
             ],
             [
              1,
              "#f0f921"
             ]
            ],
            "type": "heatmap"
           }
          ],
          "heatmapgl": [
           {
            "colorbar": {
             "outlinewidth": 0,
             "ticks": ""
            },
            "colorscale": [
             [
              0,
              "#0d0887"
             ],
             [
              0.1111111111111111,
              "#46039f"
             ],
             [
              0.2222222222222222,
              "#7201a8"
             ],
             [
              0.3333333333333333,
              "#9c179e"
             ],
             [
              0.4444444444444444,
              "#bd3786"
             ],
             [
              0.5555555555555556,
              "#d8576b"
             ],
             [
              0.6666666666666666,
              "#ed7953"
             ],
             [
              0.7777777777777778,
              "#fb9f3a"
             ],
             [
              0.8888888888888888,
              "#fdca26"
             ],
             [
              1,
              "#f0f921"
             ]
            ],
            "type": "heatmapgl"
           }
          ],
          "histogram": [
           {
            "marker": {
             "pattern": {
              "fillmode": "overlay",
              "size": 10,
              "solidity": 0.2
             }
            },
            "type": "histogram"
           }
          ],
          "histogram2d": [
           {
            "colorbar": {
             "outlinewidth": 0,
             "ticks": ""
            },
            "colorscale": [
             [
              0,
              "#0d0887"
             ],
             [
              0.1111111111111111,
              "#46039f"
             ],
             [
              0.2222222222222222,
              "#7201a8"
             ],
             [
              0.3333333333333333,
              "#9c179e"
             ],
             [
              0.4444444444444444,
              "#bd3786"
             ],
             [
              0.5555555555555556,
              "#d8576b"
             ],
             [
              0.6666666666666666,
              "#ed7953"
             ],
             [
              0.7777777777777778,
              "#fb9f3a"
             ],
             [
              0.8888888888888888,
              "#fdca26"
             ],
             [
              1,
              "#f0f921"
             ]
            ],
            "type": "histogram2d"
           }
          ],
          "histogram2dcontour": [
           {
            "colorbar": {
             "outlinewidth": 0,
             "ticks": ""
            },
            "colorscale": [
             [
              0,
              "#0d0887"
             ],
             [
              0.1111111111111111,
              "#46039f"
             ],
             [
              0.2222222222222222,
              "#7201a8"
             ],
             [
              0.3333333333333333,
              "#9c179e"
             ],
             [
              0.4444444444444444,
              "#bd3786"
             ],
             [
              0.5555555555555556,
              "#d8576b"
             ],
             [
              0.6666666666666666,
              "#ed7953"
             ],
             [
              0.7777777777777778,
              "#fb9f3a"
             ],
             [
              0.8888888888888888,
              "#fdca26"
             ],
             [
              1,
              "#f0f921"
             ]
            ],
            "type": "histogram2dcontour"
           }
          ],
          "mesh3d": [
           {
            "colorbar": {
             "outlinewidth": 0,
             "ticks": ""
            },
            "type": "mesh3d"
           }
          ],
          "parcoords": [
           {
            "line": {
             "colorbar": {
              "outlinewidth": 0,
              "ticks": ""
             }
            },
            "type": "parcoords"
           }
          ],
          "pie": [
           {
            "automargin": true,
            "type": "pie"
           }
          ],
          "scatter": [
           {
            "fillpattern": {
             "fillmode": "overlay",
             "size": 10,
             "solidity": 0.2
            },
            "type": "scatter"
           }
          ],
          "scatter3d": [
           {
            "line": {
             "colorbar": {
              "outlinewidth": 0,
              "ticks": ""
             }
            },
            "marker": {
             "colorbar": {
              "outlinewidth": 0,
              "ticks": ""
             }
            },
            "type": "scatter3d"
           }
          ],
          "scattercarpet": [
           {
            "marker": {
             "colorbar": {
              "outlinewidth": 0,
              "ticks": ""
             }
            },
            "type": "scattercarpet"
           }
          ],
          "scattergeo": [
           {
            "marker": {
             "colorbar": {
              "outlinewidth": 0,
              "ticks": ""
             }
            },
            "type": "scattergeo"
           }
          ],
          "scattergl": [
           {
            "marker": {
             "colorbar": {
              "outlinewidth": 0,
              "ticks": ""
             }
            },
            "type": "scattergl"
           }
          ],
          "scattermapbox": [
           {
            "marker": {
             "colorbar": {
              "outlinewidth": 0,
              "ticks": ""
             }
            },
            "type": "scattermapbox"
           }
          ],
          "scatterpolar": [
           {
            "marker": {
             "colorbar": {
              "outlinewidth": 0,
              "ticks": ""
             }
            },
            "type": "scatterpolar"
           }
          ],
          "scatterpolargl": [
           {
            "marker": {
             "colorbar": {
              "outlinewidth": 0,
              "ticks": ""
             }
            },
            "type": "scatterpolargl"
           }
          ],
          "scatterternary": [
           {
            "marker": {
             "colorbar": {
              "outlinewidth": 0,
              "ticks": ""
             }
            },
            "type": "scatterternary"
           }
          ],
          "surface": [
           {
            "colorbar": {
             "outlinewidth": 0,
             "ticks": ""
            },
            "colorscale": [
             [
              0,
              "#0d0887"
             ],
             [
              0.1111111111111111,
              "#46039f"
             ],
             [
              0.2222222222222222,
              "#7201a8"
             ],
             [
              0.3333333333333333,
              "#9c179e"
             ],
             [
              0.4444444444444444,
              "#bd3786"
             ],
             [
              0.5555555555555556,
              "#d8576b"
             ],
             [
              0.6666666666666666,
              "#ed7953"
             ],
             [
              0.7777777777777778,
              "#fb9f3a"
             ],
             [
              0.8888888888888888,
              "#fdca26"
             ],
             [
              1,
              "#f0f921"
             ]
            ],
            "type": "surface"
           }
          ],
          "table": [
           {
            "cells": {
             "fill": {
              "color": "#EBF0F8"
             },
             "line": {
              "color": "white"
             }
            },
            "header": {
             "fill": {
              "color": "#C8D4E3"
             },
             "line": {
              "color": "white"
             }
            },
            "type": "table"
           }
          ]
         },
         "layout": {
          "annotationdefaults": {
           "arrowcolor": "#2a3f5f",
           "arrowhead": 0,
           "arrowwidth": 1
          },
          "autotypenumbers": "strict",
          "coloraxis": {
           "colorbar": {
            "outlinewidth": 0,
            "ticks": ""
           }
          },
          "colorscale": {
           "diverging": [
            [
             0,
             "#8e0152"
            ],
            [
             0.1,
             "#c51b7d"
            ],
            [
             0.2,
             "#de77ae"
            ],
            [
             0.3,
             "#f1b6da"
            ],
            [
             0.4,
             "#fde0ef"
            ],
            [
             0.5,
             "#f7f7f7"
            ],
            [
             0.6,
             "#e6f5d0"
            ],
            [
             0.7,
             "#b8e186"
            ],
            [
             0.8,
             "#7fbc41"
            ],
            [
             0.9,
             "#4d9221"
            ],
            [
             1,
             "#276419"
            ]
           ],
           "sequential": [
            [
             0,
             "#0d0887"
            ],
            [
             0.1111111111111111,
             "#46039f"
            ],
            [
             0.2222222222222222,
             "#7201a8"
            ],
            [
             0.3333333333333333,
             "#9c179e"
            ],
            [
             0.4444444444444444,
             "#bd3786"
            ],
            [
             0.5555555555555556,
             "#d8576b"
            ],
            [
             0.6666666666666666,
             "#ed7953"
            ],
            [
             0.7777777777777778,
             "#fb9f3a"
            ],
            [
             0.8888888888888888,
             "#fdca26"
            ],
            [
             1,
             "#f0f921"
            ]
           ],
           "sequentialminus": [
            [
             0,
             "#0d0887"
            ],
            [
             0.1111111111111111,
             "#46039f"
            ],
            [
             0.2222222222222222,
             "#7201a8"
            ],
            [
             0.3333333333333333,
             "#9c179e"
            ],
            [
             0.4444444444444444,
             "#bd3786"
            ],
            [
             0.5555555555555556,
             "#d8576b"
            ],
            [
             0.6666666666666666,
             "#ed7953"
            ],
            [
             0.7777777777777778,
             "#fb9f3a"
            ],
            [
             0.8888888888888888,
             "#fdca26"
            ],
            [
             1,
             "#f0f921"
            ]
           ]
          },
          "colorway": [
           "#636efa",
           "#EF553B",
           "#00cc96",
           "#ab63fa",
           "#FFA15A",
           "#19d3f3",
           "#FF6692",
           "#B6E880",
           "#FF97FF",
           "#FECB52"
          ],
          "font": {
           "color": "#2a3f5f"
          },
          "geo": {
           "bgcolor": "white",
           "lakecolor": "white",
           "landcolor": "#E5ECF6",
           "showlakes": true,
           "showland": true,
           "subunitcolor": "white"
          },
          "hoverlabel": {
           "align": "left"
          },
          "hovermode": "closest",
          "mapbox": {
           "style": "light"
          },
          "paper_bgcolor": "white",
          "plot_bgcolor": "#E5ECF6",
          "polar": {
           "angularaxis": {
            "gridcolor": "white",
            "linecolor": "white",
            "ticks": ""
           },
           "bgcolor": "#E5ECF6",
           "radialaxis": {
            "gridcolor": "white",
            "linecolor": "white",
            "ticks": ""
           }
          },
          "scene": {
           "xaxis": {
            "backgroundcolor": "#E5ECF6",
            "gridcolor": "white",
            "gridwidth": 2,
            "linecolor": "white",
            "showbackground": true,
            "ticks": "",
            "zerolinecolor": "white"
           },
           "yaxis": {
            "backgroundcolor": "#E5ECF6",
            "gridcolor": "white",
            "gridwidth": 2,
            "linecolor": "white",
            "showbackground": true,
            "ticks": "",
            "zerolinecolor": "white"
           },
           "zaxis": {
            "backgroundcolor": "#E5ECF6",
            "gridcolor": "white",
            "gridwidth": 2,
            "linecolor": "white",
            "showbackground": true,
            "ticks": "",
            "zerolinecolor": "white"
           }
          },
          "shapedefaults": {
           "line": {
            "color": "#2a3f5f"
           }
          },
          "ternary": {
           "aaxis": {
            "gridcolor": "white",
            "linecolor": "white",
            "ticks": ""
           },
           "baxis": {
            "gridcolor": "white",
            "linecolor": "white",
            "ticks": ""
           },
           "bgcolor": "#E5ECF6",
           "caxis": {
            "gridcolor": "white",
            "linecolor": "white",
            "ticks": ""
           }
          },
          "title": {
           "x": 0.05
          },
          "xaxis": {
           "automargin": true,
           "gridcolor": "white",
           "linecolor": "white",
           "ticks": "",
           "title": {
            "standoff": 15
           },
           "zerolinecolor": "white",
           "zerolinewidth": 2
          },
          "yaxis": {
           "automargin": true,
           "gridcolor": "white",
           "linecolor": "white",
           "ticks": "",
           "title": {
            "standoff": 15
           },
           "zerolinecolor": "white",
           "zerolinewidth": 2
          }
         }
        },
        "width": 1000,
        "xaxis": {
         "anchor": "y",
         "domain": [
          0,
          0.49
         ],
         "title": {
          "text": "DATE"
         }
        },
        "xaxis2": {
         "anchor": "y2",
         "domain": [
          0.51,
          1
         ],
         "matches": "x",
         "title": {
          "text": "DATE"
         }
        },
        "yaxis": {
         "anchor": "x",
         "domain": [
          0,
          1
         ],
         "title": {
          "text": "QTY_PEOPLE_SERVED"
         }
        },
        "yaxis2": {
         "anchor": "x2",
         "domain": [
          0,
          1
         ],
         "matches": "y",
         "showticklabels": false
        }
       }
      },
      "text/html": [
       "<div>                            <div id=\"c0c5d13b-a64a-4638-b81a-a6ba0e5b276d\" class=\"plotly-graph-div\" style=\"height:1000px; width:1000px;\"></div>            <script type=\"text/javascript\">                require([\"plotly\"], function(Plotly) {                    window.PLOTLYENV=window.PLOTLYENV || {};                                    if (document.getElementById(\"c0c5d13b-a64a-4638-b81a-a6ba0e5b276d\")) {                    Plotly.newPlot(                        \"c0c5d13b-a64a-4638-b81a-a6ba0e5b276d\",                        [{\"alignmentgroup\":\"True\",\"hovertemplate\":\"DISEASE_GROUP=Abnormal clinical and laboratory symptoms, signs, and findings, not elsewhere classified<br>SECTOR2=PRIVATE<br>DATE=%{x}<br>QTY_PEOPLE_SERVED=%{y}<extra></extra>\",\"legendgroup\":\"Abnormal clinical and laboratory symptoms, signs, and findings, not elsewhere classified\",\"marker\":{\"color\":\"#393b79\",\"pattern\":{\"shape\":\"\"}},\"name\":\"Abnormal clinical and laboratory symptoms, signs, and findings, not elsewhere classified\",\"offsetgroup\":\"Abnormal clinical and laboratory symptoms, signs, and findings, not elsewhere classified\",\"orientation\":\"v\",\"showlegend\":true,\"textposition\":\"auto\",\"x\":[\"2018-01-01T00:00:00\",\"2018-02-01T00:00:00\",\"2018-03-01T00:00:00\",\"2018-04-01T00:00:00\",\"2018-05-01T00:00:00\",\"2018-06-01T00:00:00\",\"2018-07-01T00:00:00\",\"2018-08-01T00:00:00\",\"2018-09-01T00:00:00\",\"2018-10-01T00:00:00\",\"2018-11-01T00:00:00\",\"2018-12-01T00:00:00\",\"2019-01-01T00:00:00\",\"2019-02-01T00:00:00\",\"2019-03-01T00:00:00\",\"2019-04-01T00:00:00\",\"2019-05-01T00:00:00\",\"2019-06-01T00:00:00\",\"2019-07-01T00:00:00\",\"2019-08-01T00:00:00\",\"2019-09-01T00:00:00\",\"2019-10-01T00:00:00\",\"2019-11-01T00:00:00\",\"2019-12-01T00:00:00\",\"2020-01-01T00:00:00\",\"2020-02-01T00:00:00\",\"2020-03-01T00:00:00\",\"2020-04-01T00:00:00\",\"2020-05-01T00:00:00\",\"2020-06-01T00:00:00\",\"2020-07-01T00:00:00\",\"2020-08-01T00:00:00\",\"2020-09-01T00:00:00\",\"2020-10-01T00:00:00\",\"2020-11-01T00:00:00\",\"2020-12-01T00:00:00\",\"2021-01-01T00:00:00\",\"2021-02-01T00:00:00\",\"2021-03-01T00:00:00\",\"2021-04-01T00:00:00\",\"2021-05-01T00:00:00\",\"2021-06-01T00:00:00\",\"2021-07-01T00:00:00\",\"2021-08-01T00:00:00\",\"2021-09-01T00:00:00\",\"2021-10-01T00:00:00\",\"2021-11-01T00:00:00\",\"2021-12-01T00:00:00\"],\"xaxis\":\"x\",\"y\":[7067,6953,7295,0,7341,7808,10589,9391,7396,7439,8176,8563,7803,6752,7206,7215,9059,14448,8185,7757,7829,4168,5346,6021,4951,4498,3654,1249,1532,2252,3423,3699,4734,5083,5818,6221,5725,4643,5871,5316,5526,5680,6217,6524,6754,6934,7537,6703],\"yaxis\":\"y\",\"type\":\"bar\"},{\"alignmentgroup\":\"True\",\"hovertemplate\":\"DISEASE_GROUP=Abnormal clinical and laboratory symptoms, signs, and findings, not elsewhere classified<br>SECTOR2=PUBLIC<br>DATE=%{x}<br>QTY_PEOPLE_SERVED=%{y}<extra></extra>\",\"legendgroup\":\"Abnormal clinical and laboratory symptoms, signs, and findings, not elsewhere classified\",\"marker\":{\"color\":\"#393b79\",\"pattern\":{\"shape\":\"\"}},\"name\":\"Abnormal clinical and laboratory symptoms, signs, and findings, not elsewhere classified\",\"offsetgroup\":\"Abnormal clinical and laboratory symptoms, signs, and findings, not elsewhere classified\",\"orientation\":\"v\",\"showlegend\":false,\"textposition\":\"auto\",\"x\":[\"2018-01-01T00:00:00\",\"2018-02-01T00:00:00\",\"2018-03-01T00:00:00\",\"2018-04-01T00:00:00\",\"2018-05-01T00:00:00\",\"2018-06-01T00:00:00\",\"2018-07-01T00:00:00\",\"2018-08-01T00:00:00\",\"2018-09-01T00:00:00\",\"2018-10-01T00:00:00\",\"2018-11-01T00:00:00\",\"2018-12-01T00:00:00\",\"2019-01-01T00:00:00\",\"2019-02-01T00:00:00\",\"2019-03-01T00:00:00\",\"2019-04-01T00:00:00\",\"2019-05-01T00:00:00\",\"2019-06-01T00:00:00\",\"2019-07-01T00:00:00\",\"2019-08-01T00:00:00\",\"2019-09-01T00:00:00\",\"2019-10-01T00:00:00\",\"2019-11-01T00:00:00\",\"2019-12-01T00:00:00\",\"2020-01-01T00:00:00\",\"2020-02-01T00:00:00\",\"2020-03-01T00:00:00\",\"2020-04-01T00:00:00\",\"2020-05-01T00:00:00\",\"2020-06-01T00:00:00\",\"2020-07-01T00:00:00\",\"2020-08-01T00:00:00\",\"2020-09-01T00:00:00\",\"2020-10-01T00:00:00\",\"2020-11-01T00:00:00\",\"2020-12-01T00:00:00\",\"2021-01-01T00:00:00\",\"2021-02-01T00:00:00\",\"2021-03-01T00:00:00\",\"2021-04-01T00:00:00\",\"2021-05-01T00:00:00\",\"2021-06-01T00:00:00\",\"2021-07-01T00:00:00\",\"2021-08-01T00:00:00\",\"2021-09-01T00:00:00\",\"2021-10-01T00:00:00\",\"2021-11-01T00:00:00\",\"2021-12-01T00:00:00\"],\"xaxis\":\"x2\",\"y\":[32860,32152,35469,0,36650,36596,32811,32584,37159,42343,38961,32601,46048,40295,38386,40059,54553,61421,35631,36071,39324,27806,23919,30226,24287,24869,11630,5155,3711,3528,5541,6308,8659,11043,17163,14221,15778,11697,15902,15166,14452,17982,21028,22786,24382,24968,26222,27316],\"yaxis\":\"y2\",\"type\":\"bar\"},{\"alignmentgroup\":\"True\",\"hovertemplate\":\"DISEASE_GROUP=Congenital malformations, deformities and chromosomal abnormalities<br>SECTOR2=PRIVATE<br>DATE=%{x}<br>QTY_PEOPLE_SERVED=%{y}<extra></extra>\",\"legendgroup\":\"Congenital malformations, deformities and chromosomal abnormalities\",\"marker\":{\"color\":\"#5254a3\",\"pattern\":{\"shape\":\"\"}},\"name\":\"Congenital malformations, deformities and chromosomal abnormalities\",\"offsetgroup\":\"Congenital malformations, deformities and chromosomal abnormalities\",\"orientation\":\"v\",\"showlegend\":true,\"textposition\":\"auto\",\"x\":[\"2018-01-01T00:00:00\",\"2018-02-01T00:00:00\",\"2018-03-01T00:00:00\",\"2018-04-01T00:00:00\",\"2018-05-01T00:00:00\",\"2018-06-01T00:00:00\",\"2018-07-01T00:00:00\",\"2018-08-01T00:00:00\",\"2018-09-01T00:00:00\",\"2018-10-01T00:00:00\",\"2018-11-01T00:00:00\",\"2018-12-01T00:00:00\",\"2019-01-01T00:00:00\",\"2019-02-01T00:00:00\",\"2019-03-01T00:00:00\",\"2019-04-01T00:00:00\",\"2019-05-01T00:00:00\",\"2019-06-01T00:00:00\",\"2019-07-01T00:00:00\",\"2019-08-01T00:00:00\",\"2019-09-01T00:00:00\",\"2019-10-01T00:00:00\",\"2019-11-01T00:00:00\",\"2019-12-01T00:00:00\",\"2020-01-01T00:00:00\",\"2020-02-01T00:00:00\",\"2020-03-01T00:00:00\",\"2020-04-01T00:00:00\",\"2020-05-01T00:00:00\",\"2020-06-01T00:00:00\",\"2020-07-01T00:00:00\",\"2020-08-01T00:00:00\",\"2020-09-01T00:00:00\",\"2020-10-01T00:00:00\",\"2020-11-01T00:00:00\",\"2020-12-01T00:00:00\",\"2021-01-01T00:00:00\",\"2021-02-01T00:00:00\",\"2021-03-01T00:00:00\",\"2021-04-01T00:00:00\",\"2021-05-01T00:00:00\",\"2021-06-01T00:00:00\",\"2021-07-01T00:00:00\",\"2021-08-01T00:00:00\",\"2021-09-01T00:00:00\",\"2021-10-01T00:00:00\",\"2021-11-01T00:00:00\",\"2021-12-01T00:00:00\"],\"xaxis\":\"x\",\"y\":[480,402,260,0,290,281,532,460,336,357,313,432,447,405,415,357,358,334,386,406,297,151,206,292,304,205,183,15,47,76,129,140,243,254,305,303,345,214,301,246,258,317,292,346,400,375,437,355],\"yaxis\":\"y\",\"type\":\"bar\"},{\"alignmentgroup\":\"True\",\"hovertemplate\":\"DISEASE_GROUP=Congenital malformations, deformities and chromosomal abnormalities<br>SECTOR2=PUBLIC<br>DATE=%{x}<br>QTY_PEOPLE_SERVED=%{y}<extra></extra>\",\"legendgroup\":\"Congenital malformations, deformities and chromosomal abnormalities\",\"marker\":{\"color\":\"#5254a3\",\"pattern\":{\"shape\":\"\"}},\"name\":\"Congenital malformations, deformities and chromosomal abnormalities\",\"offsetgroup\":\"Congenital malformations, deformities and chromosomal abnormalities\",\"orientation\":\"v\",\"showlegend\":false,\"textposition\":\"auto\",\"x\":[\"2018-01-01T00:00:00\",\"2018-02-01T00:00:00\",\"2018-03-01T00:00:00\",\"2018-04-01T00:00:00\",\"2018-05-01T00:00:00\",\"2018-06-01T00:00:00\",\"2018-07-01T00:00:00\",\"2018-08-01T00:00:00\",\"2018-09-01T00:00:00\",\"2018-10-01T00:00:00\",\"2018-11-01T00:00:00\",\"2018-12-01T00:00:00\",\"2019-01-01T00:00:00\",\"2019-02-01T00:00:00\",\"2019-03-01T00:00:00\",\"2019-04-01T00:00:00\",\"2019-05-01T00:00:00\",\"2019-06-01T00:00:00\",\"2019-07-01T00:00:00\",\"2019-08-01T00:00:00\",\"2019-09-01T00:00:00\",\"2019-10-01T00:00:00\",\"2019-11-01T00:00:00\",\"2019-12-01T00:00:00\",\"2020-01-01T00:00:00\",\"2020-02-01T00:00:00\",\"2020-03-01T00:00:00\",\"2020-04-01T00:00:00\",\"2020-05-01T00:00:00\",\"2020-06-01T00:00:00\",\"2020-07-01T00:00:00\",\"2020-08-01T00:00:00\",\"2020-09-01T00:00:00\",\"2020-10-01T00:00:00\",\"2020-11-01T00:00:00\",\"2020-12-01T00:00:00\",\"2021-01-01T00:00:00\",\"2021-02-01T00:00:00\",\"2021-03-01T00:00:00\",\"2021-04-01T00:00:00\",\"2021-05-01T00:00:00\",\"2021-06-01T00:00:00\",\"2021-07-01T00:00:00\",\"2021-08-01T00:00:00\",\"2021-09-01T00:00:00\",\"2021-10-01T00:00:00\",\"2021-11-01T00:00:00\",\"2021-12-01T00:00:00\"],\"xaxis\":\"x2\",\"y\":[9923,10816,11908,0,10368,9943,13192,11343,11018,11858,14132,10874,12720,21892,13238,18323,10314,10567,9797,11137,10321,8149,2834,7432,4617,5851,3592,316,281,531,858,1076,2112,1860,3440,2956,3944,3170,3591,3525,4148,4347,4863,6347,6066,5657,5769,5738],\"yaxis\":\"y2\",\"type\":\"bar\"},{\"alignmentgroup\":\"True\",\"hovertemplate\":\"DISEASE_GROUP=Digestive system diseases<br>SECTOR2=PRIVATE<br>DATE=%{x}<br>QTY_PEOPLE_SERVED=%{y}<extra></extra>\",\"legendgroup\":\"Digestive system diseases\",\"marker\":{\"color\":\"#6b6ecf\",\"pattern\":{\"shape\":\"\"}},\"name\":\"Digestive system diseases\",\"offsetgroup\":\"Digestive system diseases\",\"orientation\":\"v\",\"showlegend\":true,\"textposition\":\"auto\",\"x\":[\"2018-01-01T00:00:00\",\"2018-02-01T00:00:00\",\"2018-03-01T00:00:00\",\"2018-04-01T00:00:00\",\"2018-05-01T00:00:00\",\"2018-06-01T00:00:00\",\"2018-07-01T00:00:00\",\"2018-08-01T00:00:00\",\"2018-09-01T00:00:00\",\"2018-10-01T00:00:00\",\"2018-11-01T00:00:00\",\"2018-12-01T00:00:00\",\"2019-01-01T00:00:00\",\"2019-02-01T00:00:00\",\"2019-03-01T00:00:00\",\"2019-04-01T00:00:00\",\"2019-05-01T00:00:00\",\"2019-06-01T00:00:00\",\"2019-07-01T00:00:00\",\"2019-08-01T00:00:00\",\"2019-09-01T00:00:00\",\"2019-10-01T00:00:00\",\"2019-11-01T00:00:00\",\"2019-12-01T00:00:00\",\"2020-01-01T00:00:00\",\"2020-02-01T00:00:00\",\"2020-03-01T00:00:00\",\"2020-04-01T00:00:00\",\"2020-05-01T00:00:00\",\"2020-06-01T00:00:00\",\"2020-07-01T00:00:00\",\"2020-08-01T00:00:00\",\"2020-09-01T00:00:00\",\"2020-10-01T00:00:00\",\"2020-11-01T00:00:00\",\"2020-12-01T00:00:00\",\"2021-01-01T00:00:00\",\"2021-02-01T00:00:00\",\"2021-03-01T00:00:00\",\"2021-04-01T00:00:00\",\"2021-05-01T00:00:00\",\"2021-06-01T00:00:00\",\"2021-07-01T00:00:00\",\"2021-08-01T00:00:00\",\"2021-09-01T00:00:00\",\"2021-10-01T00:00:00\",\"2021-11-01T00:00:00\",\"2021-12-01T00:00:00\"],\"xaxis\":\"x\",\"y\":[5394,4879,4498,0,4005,4513,10005,8316,4726,4586,5072,6774,4446,4426,4815,3920,5174,5386,5645,5263,4785,1760,3419,4786,2750,2100,3123,494,810,1543,2364,2474,4091,3842,4617,5614,4727,3672,4155,4118,4411,4616,4740,4834,5198,5613,6290,4584],\"yaxis\":\"y\",\"type\":\"bar\"},{\"alignmentgroup\":\"True\",\"hovertemplate\":\"DISEASE_GROUP=Digestive system diseases<br>SECTOR2=PUBLIC<br>DATE=%{x}<br>QTY_PEOPLE_SERVED=%{y}<extra></extra>\",\"legendgroup\":\"Digestive system diseases\",\"marker\":{\"color\":\"#6b6ecf\",\"pattern\":{\"shape\":\"\"}},\"name\":\"Digestive system diseases\",\"offsetgroup\":\"Digestive system diseases\",\"orientation\":\"v\",\"showlegend\":false,\"textposition\":\"auto\",\"x\":[\"2018-01-01T00:00:00\",\"2018-02-01T00:00:00\",\"2018-03-01T00:00:00\",\"2018-04-01T00:00:00\",\"2018-05-01T00:00:00\",\"2018-06-01T00:00:00\",\"2018-07-01T00:00:00\",\"2018-08-01T00:00:00\",\"2018-09-01T00:00:00\",\"2018-10-01T00:00:00\",\"2018-11-01T00:00:00\",\"2018-12-01T00:00:00\",\"2019-01-01T00:00:00\",\"2019-02-01T00:00:00\",\"2019-03-01T00:00:00\",\"2019-04-01T00:00:00\",\"2019-05-01T00:00:00\",\"2019-06-01T00:00:00\",\"2019-07-01T00:00:00\",\"2019-08-01T00:00:00\",\"2019-09-01T00:00:00\",\"2019-10-01T00:00:00\",\"2019-11-01T00:00:00\",\"2019-12-01T00:00:00\",\"2020-01-01T00:00:00\",\"2020-02-01T00:00:00\",\"2020-03-01T00:00:00\",\"2020-04-01T00:00:00\",\"2020-05-01T00:00:00\",\"2020-06-01T00:00:00\",\"2020-07-01T00:00:00\",\"2020-08-01T00:00:00\",\"2020-09-01T00:00:00\",\"2020-10-01T00:00:00\",\"2020-11-01T00:00:00\",\"2020-12-01T00:00:00\",\"2021-01-01T00:00:00\",\"2021-02-01T00:00:00\",\"2021-03-01T00:00:00\",\"2021-04-01T00:00:00\",\"2021-05-01T00:00:00\",\"2021-06-01T00:00:00\",\"2021-07-01T00:00:00\",\"2021-08-01T00:00:00\",\"2021-09-01T00:00:00\",\"2021-10-01T00:00:00\",\"2021-11-01T00:00:00\",\"2021-12-01T00:00:00\"],\"xaxis\":\"x2\",\"y\":[39875,44492,41568,0,41850,43069,48130,47999,43672,50859,50159,40226,64951,67006,59062,54668,45262,44632,37067,38262,40363,27629,17000,23479,24221,27436,14152,2654,2028,2280,3241,4565,6524,8223,11109,9578,10731,7804,10004,9940,15546,12979,20066,21727,22351,21599,23102,22245],\"yaxis\":\"y2\",\"type\":\"bar\"},{\"alignmentgroup\":\"True\",\"hovertemplate\":\"DISEASE_GROUP=Diseases of the blood and hematopoietic organs and other disorders affecting the mechanism of immunity<br>SECTOR2=PRIVATE<br>DATE=%{x}<br>QTY_PEOPLE_SERVED=%{y}<extra></extra>\",\"legendgroup\":\"Diseases of the blood and hematopoietic organs and other disorders affecting the mechanism of immunity\",\"marker\":{\"color\":\"#9c9ede\",\"pattern\":{\"shape\":\"\"}},\"name\":\"Diseases of the blood and hematopoietic organs and other disorders affecting the mechanism of immunity\",\"offsetgroup\":\"Diseases of the blood and hematopoietic organs and other disorders affecting the mechanism of immunity\",\"orientation\":\"v\",\"showlegend\":true,\"textposition\":\"auto\",\"x\":[\"2018-01-01T00:00:00\",\"2018-02-01T00:00:00\",\"2018-03-01T00:00:00\",\"2018-04-01T00:00:00\",\"2018-05-01T00:00:00\",\"2018-06-01T00:00:00\",\"2018-07-01T00:00:00\",\"2018-08-01T00:00:00\",\"2018-09-01T00:00:00\",\"2018-10-01T00:00:00\",\"2018-11-01T00:00:00\",\"2018-12-01T00:00:00\",\"2019-01-01T00:00:00\",\"2019-02-01T00:00:00\",\"2019-03-01T00:00:00\",\"2019-04-01T00:00:00\",\"2019-05-01T00:00:00\",\"2019-06-01T00:00:00\",\"2019-07-01T00:00:00\",\"2019-08-01T00:00:00\",\"2019-09-01T00:00:00\",\"2019-10-01T00:00:00\",\"2019-11-01T00:00:00\",\"2019-12-01T00:00:00\",\"2020-01-01T00:00:00\",\"2020-02-01T00:00:00\",\"2020-03-01T00:00:00\",\"2020-04-01T00:00:00\",\"2020-05-01T00:00:00\",\"2020-06-01T00:00:00\",\"2020-07-01T00:00:00\",\"2020-08-01T00:00:00\",\"2020-09-01T00:00:00\",\"2020-10-01T00:00:00\",\"2020-11-01T00:00:00\",\"2020-12-01T00:00:00\",\"2021-01-01T00:00:00\",\"2021-02-01T00:00:00\",\"2021-03-01T00:00:00\",\"2021-04-01T00:00:00\",\"2021-05-01T00:00:00\",\"2021-06-01T00:00:00\",\"2021-07-01T00:00:00\",\"2021-08-01T00:00:00\",\"2021-09-01T00:00:00\",\"2021-10-01T00:00:00\",\"2021-11-01T00:00:00\",\"2021-12-01T00:00:00\"],\"xaxis\":\"x\",\"y\":[953,956,819,0,705,687,1460,1189,730,758,731,1112,1098,1146,1141,1046,1012,975,973,1040,986,309,610,835,686,595,816,82,128,301,494,548,839,867,943,976,1048,845,1080,958,1039,1195,1099,1084,1058,1220,1340,1199],\"yaxis\":\"y\",\"type\":\"bar\"},{\"alignmentgroup\":\"True\",\"hovertemplate\":\"DISEASE_GROUP=Diseases of the blood and hematopoietic organs and other disorders affecting the mechanism of immunity<br>SECTOR2=PUBLIC<br>DATE=%{x}<br>QTY_PEOPLE_SERVED=%{y}<extra></extra>\",\"legendgroup\":\"Diseases of the blood and hematopoietic organs and other disorders affecting the mechanism of immunity\",\"marker\":{\"color\":\"#9c9ede\",\"pattern\":{\"shape\":\"\"}},\"name\":\"Diseases of the blood and hematopoietic organs and other disorders affecting the mechanism of immunity\",\"offsetgroup\":\"Diseases of the blood and hematopoietic organs and other disorders affecting the mechanism of immunity\",\"orientation\":\"v\",\"showlegend\":false,\"textposition\":\"auto\",\"x\":[\"2018-01-01T00:00:00\",\"2018-02-01T00:00:00\",\"2018-03-01T00:00:00\",\"2018-04-01T00:00:00\",\"2018-05-01T00:00:00\",\"2018-06-01T00:00:00\",\"2018-07-01T00:00:00\",\"2018-08-01T00:00:00\",\"2018-09-01T00:00:00\",\"2018-10-01T00:00:00\",\"2018-11-01T00:00:00\",\"2018-12-01T00:00:00\",\"2019-01-01T00:00:00\",\"2019-02-01T00:00:00\",\"2019-03-01T00:00:00\",\"2019-04-01T00:00:00\",\"2019-05-01T00:00:00\",\"2019-06-01T00:00:00\",\"2019-07-01T00:00:00\",\"2019-08-01T00:00:00\",\"2019-09-01T00:00:00\",\"2019-10-01T00:00:00\",\"2019-11-01T00:00:00\",\"2019-12-01T00:00:00\",\"2020-01-01T00:00:00\",\"2020-02-01T00:00:00\",\"2020-03-01T00:00:00\",\"2020-04-01T00:00:00\",\"2020-05-01T00:00:00\",\"2020-06-01T00:00:00\",\"2020-07-01T00:00:00\",\"2020-08-01T00:00:00\",\"2020-09-01T00:00:00\",\"2020-10-01T00:00:00\",\"2020-11-01T00:00:00\",\"2020-12-01T00:00:00\",\"2021-01-01T00:00:00\",\"2021-02-01T00:00:00\",\"2021-03-01T00:00:00\",\"2021-04-01T00:00:00\",\"2021-05-01T00:00:00\",\"2021-06-01T00:00:00\",\"2021-07-01T00:00:00\",\"2021-08-01T00:00:00\",\"2021-09-01T00:00:00\",\"2021-10-01T00:00:00\",\"2021-11-01T00:00:00\",\"2021-12-01T00:00:00\"],\"xaxis\":\"x2\",\"y\":[5826,6960,6558,0,5916,5943,7010,6810,6319,6456,6931,5328,7386,9653,7875,8532,6459,6418,5298,6436,6481,4987,2724,4321,3750,4217,2198,455,637,865,1162,1235,1831,2117,2590,2302,2567,2078,2473,2669,2914,2899,3342,3794,3919,3558,3774,4080],\"yaxis\":\"y2\",\"type\":\"bar\"},{\"alignmentgroup\":\"True\",\"hovertemplate\":\"DISEASE_GROUP=Diseases of the circulatory system<br>SECTOR2=PRIVATE<br>DATE=%{x}<br>QTY_PEOPLE_SERVED=%{y}<extra></extra>\",\"legendgroup\":\"Diseases of the circulatory system\",\"marker\":{\"color\":\"#637939\",\"pattern\":{\"shape\":\"\"}},\"name\":\"Diseases of the circulatory system\",\"offsetgroup\":\"Diseases of the circulatory system\",\"orientation\":\"v\",\"showlegend\":true,\"textposition\":\"auto\",\"x\":[\"2018-01-01T00:00:00\",\"2018-02-01T00:00:00\",\"2018-03-01T00:00:00\",\"2018-04-01T00:00:00\",\"2018-05-01T00:00:00\",\"2018-06-01T00:00:00\",\"2018-07-01T00:00:00\",\"2018-08-01T00:00:00\",\"2018-09-01T00:00:00\",\"2018-10-01T00:00:00\",\"2018-11-01T00:00:00\",\"2018-12-01T00:00:00\",\"2019-01-01T00:00:00\",\"2019-02-01T00:00:00\",\"2019-03-01T00:00:00\",\"2019-04-01T00:00:00\",\"2019-05-01T00:00:00\",\"2019-06-01T00:00:00\",\"2019-07-01T00:00:00\",\"2019-08-01T00:00:00\",\"2019-09-01T00:00:00\",\"2019-10-01T00:00:00\",\"2019-11-01T00:00:00\",\"2019-12-01T00:00:00\",\"2020-01-01T00:00:00\",\"2020-02-01T00:00:00\",\"2020-03-01T00:00:00\",\"2020-04-01T00:00:00\",\"2020-05-01T00:00:00\",\"2020-06-01T00:00:00\",\"2020-07-01T00:00:00\",\"2020-08-01T00:00:00\",\"2020-09-01T00:00:00\",\"2020-10-01T00:00:00\",\"2020-11-01T00:00:00\",\"2020-12-01T00:00:00\",\"2021-01-01T00:00:00\",\"2021-02-01T00:00:00\",\"2021-03-01T00:00:00\",\"2021-04-01T00:00:00\",\"2021-05-01T00:00:00\",\"2021-06-01T00:00:00\",\"2021-07-01T00:00:00\",\"2021-08-01T00:00:00\",\"2021-09-01T00:00:00\",\"2021-10-01T00:00:00\",\"2021-11-01T00:00:00\",\"2021-12-01T00:00:00\"],\"xaxis\":\"x\",\"y\":[5441,5001,4896,0,4488,5079,12510,9125,5155,5344,5522,7659,6013,5456,5753,5515,6102,6187,6473,5853,5268,1591,3661,5211,2577,1906,3800,1545,1500,2241,3478,3442,4763,4343,4789,5308,4987,3734,4694,4305,4603,4830,4797,4485,4622,5254,5053,4186],\"yaxis\":\"y\",\"type\":\"bar\"},{\"alignmentgroup\":\"True\",\"hovertemplate\":\"DISEASE_GROUP=Diseases of the circulatory system<br>SECTOR2=PUBLIC<br>DATE=%{x}<br>QTY_PEOPLE_SERVED=%{y}<extra></extra>\",\"legendgroup\":\"Diseases of the circulatory system\",\"marker\":{\"color\":\"#637939\",\"pattern\":{\"shape\":\"\"}},\"name\":\"Diseases of the circulatory system\",\"offsetgroup\":\"Diseases of the circulatory system\",\"orientation\":\"v\",\"showlegend\":false,\"textposition\":\"auto\",\"x\":[\"2018-01-01T00:00:00\",\"2018-02-01T00:00:00\",\"2018-03-01T00:00:00\",\"2018-04-01T00:00:00\",\"2018-05-01T00:00:00\",\"2018-06-01T00:00:00\",\"2018-07-01T00:00:00\",\"2018-08-01T00:00:00\",\"2018-09-01T00:00:00\",\"2018-10-01T00:00:00\",\"2018-11-01T00:00:00\",\"2018-12-01T00:00:00\",\"2019-01-01T00:00:00\",\"2019-02-01T00:00:00\",\"2019-03-01T00:00:00\",\"2019-04-01T00:00:00\",\"2019-05-01T00:00:00\",\"2019-06-01T00:00:00\",\"2019-07-01T00:00:00\",\"2019-08-01T00:00:00\",\"2019-09-01T00:00:00\",\"2019-10-01T00:00:00\",\"2019-11-01T00:00:00\",\"2019-12-01T00:00:00\",\"2020-01-01T00:00:00\",\"2020-02-01T00:00:00\",\"2020-03-01T00:00:00\",\"2020-04-01T00:00:00\",\"2020-05-01T00:00:00\",\"2020-06-01T00:00:00\",\"2020-07-01T00:00:00\",\"2020-08-01T00:00:00\",\"2020-09-01T00:00:00\",\"2020-10-01T00:00:00\",\"2020-11-01T00:00:00\",\"2020-12-01T00:00:00\",\"2021-01-01T00:00:00\",\"2021-02-01T00:00:00\",\"2021-03-01T00:00:00\",\"2021-04-01T00:00:00\",\"2021-05-01T00:00:00\",\"2021-06-01T00:00:00\",\"2021-07-01T00:00:00\",\"2021-08-01T00:00:00\",\"2021-09-01T00:00:00\",\"2021-10-01T00:00:00\",\"2021-11-01T00:00:00\",\"2021-12-01T00:00:00\"],\"xaxis\":\"x2\",\"y\":[22169,25648,23289,0,24381,27821,29077,28701,26313,30506,31308,26384,36834,36689,35350,34309,25924,28749,23505,22173,22021,16018,12789,13617,15323,16213,7748,1453,1870,1890,2879,3495,4765,4809,7194,5937,5873,5031,6349,6611,8607,8775,12953,13508,13908,13880,14512,13960],\"yaxis\":\"y2\",\"type\":\"bar\"},{\"alignmentgroup\":\"True\",\"hovertemplate\":\"DISEASE_GROUP=Diseases of the ear and mastoid process<br>SECTOR2=PRIVATE<br>DATE=%{x}<br>QTY_PEOPLE_SERVED=%{y}<extra></extra>\",\"legendgroup\":\"Diseases of the ear and mastoid process\",\"marker\":{\"color\":\"#8ca252\",\"pattern\":{\"shape\":\"\"}},\"name\":\"Diseases of the ear and mastoid process\",\"offsetgroup\":\"Diseases of the ear and mastoid process\",\"orientation\":\"v\",\"showlegend\":true,\"textposition\":\"auto\",\"x\":[\"2018-01-01T00:00:00\",\"2018-02-01T00:00:00\",\"2018-03-01T00:00:00\",\"2018-04-01T00:00:00\",\"2018-05-01T00:00:00\",\"2018-06-01T00:00:00\",\"2018-07-01T00:00:00\",\"2018-08-01T00:00:00\",\"2018-09-01T00:00:00\",\"2018-10-01T00:00:00\",\"2018-11-01T00:00:00\",\"2018-12-01T00:00:00\",\"2019-01-01T00:00:00\",\"2019-02-01T00:00:00\",\"2019-03-01T00:00:00\",\"2019-04-01T00:00:00\",\"2019-05-01T00:00:00\",\"2019-06-01T00:00:00\",\"2019-07-01T00:00:00\",\"2019-08-01T00:00:00\",\"2019-09-01T00:00:00\",\"2019-10-01T00:00:00\",\"2019-11-01T00:00:00\",\"2019-12-01T00:00:00\",\"2020-01-01T00:00:00\",\"2020-02-01T00:00:00\",\"2020-03-01T00:00:00\",\"2020-04-01T00:00:00\",\"2020-05-01T00:00:00\",\"2020-06-01T00:00:00\",\"2020-07-01T00:00:00\",\"2020-08-01T00:00:00\",\"2020-09-01T00:00:00\",\"2020-10-01T00:00:00\",\"2020-11-01T00:00:00\",\"2020-12-01T00:00:00\",\"2021-01-01T00:00:00\",\"2021-02-01T00:00:00\",\"2021-03-01T00:00:00\",\"2021-04-01T00:00:00\",\"2021-05-01T00:00:00\",\"2021-06-01T00:00:00\",\"2021-07-01T00:00:00\",\"2021-08-01T00:00:00\",\"2021-09-01T00:00:00\",\"2021-10-01T00:00:00\",\"2021-11-01T00:00:00\",\"2021-12-01T00:00:00\"],\"xaxis\":\"x\",\"y\":[1980,1672,1413,0,1552,1635,2950,2462,1619,1627,1618,2205,1782,1794,1716,1641,1900,2593,1913,1701,1708,632,1148,1550,999,777,928,127,181,446,851,763,1279,1211,1235,1504,1395,955,1227,1109,1104,1240,1194,1233,1168,1230,1371,1031],\"yaxis\":\"y\",\"type\":\"bar\"},{\"alignmentgroup\":\"True\",\"hovertemplate\":\"DISEASE_GROUP=Diseases of the ear and mastoid process<br>SECTOR2=PUBLIC<br>DATE=%{x}<br>QTY_PEOPLE_SERVED=%{y}<extra></extra>\",\"legendgroup\":\"Diseases of the ear and mastoid process\",\"marker\":{\"color\":\"#8ca252\",\"pattern\":{\"shape\":\"\"}},\"name\":\"Diseases of the ear and mastoid process\",\"offsetgroup\":\"Diseases of the ear and mastoid process\",\"orientation\":\"v\",\"showlegend\":false,\"textposition\":\"auto\",\"x\":[\"2018-01-01T00:00:00\",\"2018-02-01T00:00:00\",\"2018-03-01T00:00:00\",\"2018-04-01T00:00:00\",\"2018-05-01T00:00:00\",\"2018-06-01T00:00:00\",\"2018-07-01T00:00:00\",\"2018-08-01T00:00:00\",\"2018-09-01T00:00:00\",\"2018-10-01T00:00:00\",\"2018-11-01T00:00:00\",\"2018-12-01T00:00:00\",\"2019-01-01T00:00:00\",\"2019-02-01T00:00:00\",\"2019-03-01T00:00:00\",\"2019-04-01T00:00:00\",\"2019-05-01T00:00:00\",\"2019-06-01T00:00:00\",\"2019-07-01T00:00:00\",\"2019-08-01T00:00:00\",\"2019-09-01T00:00:00\",\"2019-10-01T00:00:00\",\"2019-11-01T00:00:00\",\"2019-12-01T00:00:00\",\"2020-01-01T00:00:00\",\"2020-02-01T00:00:00\",\"2020-03-01T00:00:00\",\"2020-04-01T00:00:00\",\"2020-05-01T00:00:00\",\"2020-06-01T00:00:00\",\"2020-07-01T00:00:00\",\"2020-08-01T00:00:00\",\"2020-09-01T00:00:00\",\"2020-10-01T00:00:00\",\"2020-11-01T00:00:00\",\"2020-12-01T00:00:00\",\"2021-01-01T00:00:00\",\"2021-02-01T00:00:00\",\"2021-03-01T00:00:00\",\"2021-04-01T00:00:00\",\"2021-05-01T00:00:00\",\"2021-06-01T00:00:00\",\"2021-07-01T00:00:00\",\"2021-08-01T00:00:00\",\"2021-09-01T00:00:00\",\"2021-10-01T00:00:00\",\"2021-11-01T00:00:00\",\"2021-12-01T00:00:00\"],\"xaxis\":\"x2\",\"y\":[7486,8204,8091,0,9008,8409,9275,8898,9471,10600,10308,8793,12108,12377,10631,12934,9421,10155,8396,8403,9182,5847,4197,4544,4610,5105,2448,140,145,145,299,399,818,939,1435,1233,1308,972,1450,1332,1809,1859,2400,2920,2672,2510,2725,2708],\"yaxis\":\"y2\",\"type\":\"bar\"},{\"alignmentgroup\":\"True\",\"hovertemplate\":\"DISEASE_GROUP=Diseases of the eye and its adnexa<br>SECTOR2=PRIVATE<br>DATE=%{x}<br>QTY_PEOPLE_SERVED=%{y}<extra></extra>\",\"legendgroup\":\"Diseases of the eye and its adnexa\",\"marker\":{\"color\":\"#b5cf6b\",\"pattern\":{\"shape\":\"\"}},\"name\":\"Diseases of the eye and its adnexa\",\"offsetgroup\":\"Diseases of the eye and its adnexa\",\"orientation\":\"v\",\"showlegend\":true,\"textposition\":\"auto\",\"x\":[\"2018-01-01T00:00:00\",\"2018-02-01T00:00:00\",\"2018-03-01T00:00:00\",\"2018-04-01T00:00:00\",\"2018-05-01T00:00:00\",\"2018-06-01T00:00:00\",\"2018-07-01T00:00:00\",\"2018-08-01T00:00:00\",\"2018-09-01T00:00:00\",\"2018-10-01T00:00:00\",\"2018-11-01T00:00:00\",\"2018-12-01T00:00:00\",\"2019-01-01T00:00:00\",\"2019-02-01T00:00:00\",\"2019-03-01T00:00:00\",\"2019-04-01T00:00:00\",\"2019-05-01T00:00:00\",\"2019-06-01T00:00:00\",\"2019-07-01T00:00:00\",\"2019-08-01T00:00:00\",\"2019-09-01T00:00:00\",\"2019-10-01T00:00:00\",\"2019-11-01T00:00:00\",\"2019-12-01T00:00:00\",\"2020-01-01T00:00:00\",\"2020-02-01T00:00:00\",\"2020-03-01T00:00:00\",\"2020-04-01T00:00:00\",\"2020-05-01T00:00:00\",\"2020-06-01T00:00:00\",\"2020-07-01T00:00:00\",\"2020-08-01T00:00:00\",\"2020-09-01T00:00:00\",\"2020-10-01T00:00:00\",\"2020-11-01T00:00:00\",\"2020-12-01T00:00:00\",\"2021-01-01T00:00:00\",\"2021-02-01T00:00:00\",\"2021-03-01T00:00:00\",\"2021-04-01T00:00:00\",\"2021-05-01T00:00:00\",\"2021-06-01T00:00:00\",\"2021-07-01T00:00:00\",\"2021-08-01T00:00:00\",\"2021-09-01T00:00:00\",\"2021-10-01T00:00:00\",\"2021-11-01T00:00:00\",\"2021-12-01T00:00:00\"],\"xaxis\":\"x\",\"y\":[3740,3299,2726,0,2116,2339,5238,4498,2481,2456,2578,3960,3171,2691,2671,2416,2851,3202,3398,3298,2990,728,2186,3152,1480,1143,1841,98,270,717,1284,1229,2041,2102,2609,2965,2762,1814,2588,2135,2654,2482,2744,2417,2678,2568,2686,2061],\"yaxis\":\"y\",\"type\":\"bar\"},{\"alignmentgroup\":\"True\",\"hovertemplate\":\"DISEASE_GROUP=Diseases of the eye and its adnexa<br>SECTOR2=PUBLIC<br>DATE=%{x}<br>QTY_PEOPLE_SERVED=%{y}<extra></extra>\",\"legendgroup\":\"Diseases of the eye and its adnexa\",\"marker\":{\"color\":\"#b5cf6b\",\"pattern\":{\"shape\":\"\"}},\"name\":\"Diseases of the eye and its adnexa\",\"offsetgroup\":\"Diseases of the eye and its adnexa\",\"orientation\":\"v\",\"showlegend\":false,\"textposition\":\"auto\",\"x\":[\"2018-01-01T00:00:00\",\"2018-02-01T00:00:00\",\"2018-03-01T00:00:00\",\"2018-04-01T00:00:00\",\"2018-05-01T00:00:00\",\"2018-06-01T00:00:00\",\"2018-07-01T00:00:00\",\"2018-08-01T00:00:00\",\"2018-09-01T00:00:00\",\"2018-10-01T00:00:00\",\"2018-11-01T00:00:00\",\"2018-12-01T00:00:00\",\"2019-01-01T00:00:00\",\"2019-02-01T00:00:00\",\"2019-03-01T00:00:00\",\"2019-04-01T00:00:00\",\"2019-05-01T00:00:00\",\"2019-06-01T00:00:00\",\"2019-07-01T00:00:00\",\"2019-08-01T00:00:00\",\"2019-09-01T00:00:00\",\"2019-10-01T00:00:00\",\"2019-11-01T00:00:00\",\"2019-12-01T00:00:00\",\"2020-01-01T00:00:00\",\"2020-02-01T00:00:00\",\"2020-03-01T00:00:00\",\"2020-04-01T00:00:00\",\"2020-05-01T00:00:00\",\"2020-06-01T00:00:00\",\"2020-07-01T00:00:00\",\"2020-08-01T00:00:00\",\"2020-09-01T00:00:00\",\"2020-10-01T00:00:00\",\"2020-11-01T00:00:00\",\"2020-12-01T00:00:00\",\"2021-01-01T00:00:00\",\"2021-02-01T00:00:00\",\"2021-03-01T00:00:00\",\"2021-04-01T00:00:00\",\"2021-05-01T00:00:00\",\"2021-06-01T00:00:00\",\"2021-07-01T00:00:00\",\"2021-08-01T00:00:00\",\"2021-09-01T00:00:00\",\"2021-10-01T00:00:00\",\"2021-11-01T00:00:00\",\"2021-12-01T00:00:00\"],\"xaxis\":\"x2\",\"y\":[43454,50168,44298,0,41427,58312,45784,44970,44391,48681,46908,53228,76138,64882,81655,52669,44254,41154,41207,45202,44050,40815,30512,15023,34478,14632,17078,513,898,962,1673,1675,2393,2921,4984,4744,5243,2309,3376,3869,7809,8167,12842,15023,14333,13140,13944,13688],\"yaxis\":\"y2\",\"type\":\"bar\"},{\"alignmentgroup\":\"True\",\"hovertemplate\":\"DISEASE_GROUP=Diseases of the genitourinary system<br>SECTOR2=PRIVATE<br>DATE=%{x}<br>QTY_PEOPLE_SERVED=%{y}<extra></extra>\",\"legendgroup\":\"Diseases of the genitourinary system\",\"marker\":{\"color\":\"#cedb9c\",\"pattern\":{\"shape\":\"\"}},\"name\":\"Diseases of the genitourinary system\",\"offsetgroup\":\"Diseases of the genitourinary system\",\"orientation\":\"v\",\"showlegend\":true,\"textposition\":\"auto\",\"x\":[\"2018-01-01T00:00:00\",\"2018-02-01T00:00:00\",\"2018-03-01T00:00:00\",\"2018-04-01T00:00:00\",\"2018-05-01T00:00:00\",\"2018-06-01T00:00:00\",\"2018-07-01T00:00:00\",\"2018-08-01T00:00:00\",\"2018-09-01T00:00:00\",\"2018-10-01T00:00:00\",\"2018-11-01T00:00:00\",\"2018-12-01T00:00:00\",\"2019-01-01T00:00:00\",\"2019-02-01T00:00:00\",\"2019-03-01T00:00:00\",\"2019-04-01T00:00:00\",\"2019-05-01T00:00:00\",\"2019-06-01T00:00:00\",\"2019-07-01T00:00:00\",\"2019-08-01T00:00:00\",\"2019-09-01T00:00:00\",\"2019-10-01T00:00:00\",\"2019-11-01T00:00:00\",\"2019-12-01T00:00:00\",\"2020-01-01T00:00:00\",\"2020-02-01T00:00:00\",\"2020-03-01T00:00:00\",\"2020-04-01T00:00:00\",\"2020-05-01T00:00:00\",\"2020-06-01T00:00:00\",\"2020-07-01T00:00:00\",\"2020-08-01T00:00:00\",\"2020-09-01T00:00:00\",\"2020-10-01T00:00:00\",\"2020-11-01T00:00:00\",\"2020-12-01T00:00:00\",\"2021-01-01T00:00:00\",\"2021-02-01T00:00:00\",\"2021-03-01T00:00:00\",\"2021-04-01T00:00:00\",\"2021-05-01T00:00:00\",\"2021-06-01T00:00:00\",\"2021-07-01T00:00:00\",\"2021-08-01T00:00:00\",\"2021-09-01T00:00:00\",\"2021-10-01T00:00:00\",\"2021-11-01T00:00:00\",\"2021-12-01T00:00:00\"],\"xaxis\":\"x\",\"y\":[8223,7876,6946,0,6499,7008,14504,11768,6831,7344,7272,10151,8427,7934,7821,7680,8461,8049,8863,7990,7527,2421,4972,7057,4392,3328,4977,340,745,2147,3833,3977,6005,5825,7126,7880,7217,5327,6694,5808,6389,6389,6954,6861,7206,7634,8154,6394],\"yaxis\":\"y\",\"type\":\"bar\"},{\"alignmentgroup\":\"True\",\"hovertemplate\":\"DISEASE_GROUP=Diseases of the genitourinary system<br>SECTOR2=PUBLIC<br>DATE=%{x}<br>QTY_PEOPLE_SERVED=%{y}<extra></extra>\",\"legendgroup\":\"Diseases of the genitourinary system\",\"marker\":{\"color\":\"#cedb9c\",\"pattern\":{\"shape\":\"\"}},\"name\":\"Diseases of the genitourinary system\",\"offsetgroup\":\"Diseases of the genitourinary system\",\"orientation\":\"v\",\"showlegend\":false,\"textposition\":\"auto\",\"x\":[\"2018-01-01T00:00:00\",\"2018-02-01T00:00:00\",\"2018-03-01T00:00:00\",\"2018-04-01T00:00:00\",\"2018-05-01T00:00:00\",\"2018-06-01T00:00:00\",\"2018-07-01T00:00:00\",\"2018-08-01T00:00:00\",\"2018-09-01T00:00:00\",\"2018-10-01T00:00:00\",\"2018-11-01T00:00:00\",\"2018-12-01T00:00:00\",\"2019-01-01T00:00:00\",\"2019-02-01T00:00:00\",\"2019-03-01T00:00:00\",\"2019-04-01T00:00:00\",\"2019-05-01T00:00:00\",\"2019-06-01T00:00:00\",\"2019-07-01T00:00:00\",\"2019-08-01T00:00:00\",\"2019-09-01T00:00:00\",\"2019-10-01T00:00:00\",\"2019-11-01T00:00:00\",\"2019-12-01T00:00:00\",\"2020-01-01T00:00:00\",\"2020-02-01T00:00:00\",\"2020-03-01T00:00:00\",\"2020-04-01T00:00:00\",\"2020-05-01T00:00:00\",\"2020-06-01T00:00:00\",\"2020-07-01T00:00:00\",\"2020-08-01T00:00:00\",\"2020-09-01T00:00:00\",\"2020-10-01T00:00:00\",\"2020-11-01T00:00:00\",\"2020-12-01T00:00:00\",\"2021-01-01T00:00:00\",\"2021-02-01T00:00:00\",\"2021-03-01T00:00:00\",\"2021-04-01T00:00:00\",\"2021-05-01T00:00:00\",\"2021-06-01T00:00:00\",\"2021-07-01T00:00:00\",\"2021-08-01T00:00:00\",\"2021-09-01T00:00:00\",\"2021-10-01T00:00:00\",\"2021-11-01T00:00:00\",\"2021-12-01T00:00:00\"],\"xaxis\":\"x2\",\"y\":[37089,40698,38950,0,37467,36558,41649,39312,37210,44554,44535,36741,53793,62590,52748,52215,37543,37762,32306,30560,34059,19573,10614,14974,17050,20318,10226,1475,1564,1954,3374,3862,5779,7322,10148,9240,9459,7483,8995,8957,12544,12052,15939,17331,17936,17337,17852,17660],\"yaxis\":\"y2\",\"type\":\"bar\"},{\"alignmentgroup\":\"True\",\"hovertemplate\":\"DISEASE_GROUP=Diseases of the musculoskeletal system and connective tissue<br>SECTOR2=PRIVATE<br>DATE=%{x}<br>QTY_PEOPLE_SERVED=%{y}<extra></extra>\",\"legendgroup\":\"Diseases of the musculoskeletal system and connective tissue\",\"marker\":{\"color\":\"#8c6d31\",\"pattern\":{\"shape\":\"\"}},\"name\":\"Diseases of the musculoskeletal system and connective tissue\",\"offsetgroup\":\"Diseases of the musculoskeletal system and connective tissue\",\"orientation\":\"v\",\"showlegend\":true,\"textposition\":\"auto\",\"x\":[\"2018-01-01T00:00:00\",\"2018-02-01T00:00:00\",\"2018-03-01T00:00:00\",\"2018-04-01T00:00:00\",\"2018-05-01T00:00:00\",\"2018-06-01T00:00:00\",\"2018-07-01T00:00:00\",\"2018-08-01T00:00:00\",\"2018-09-01T00:00:00\",\"2018-10-01T00:00:00\",\"2018-11-01T00:00:00\",\"2018-12-01T00:00:00\",\"2019-01-01T00:00:00\",\"2019-02-01T00:00:00\",\"2019-03-01T00:00:00\",\"2019-04-01T00:00:00\",\"2019-05-01T00:00:00\",\"2019-06-01T00:00:00\",\"2019-07-01T00:00:00\",\"2019-08-01T00:00:00\",\"2019-09-01T00:00:00\",\"2019-10-01T00:00:00\",\"2019-11-01T00:00:00\",\"2019-12-01T00:00:00\",\"2020-01-01T00:00:00\",\"2020-02-01T00:00:00\",\"2020-03-01T00:00:00\",\"2020-04-01T00:00:00\",\"2020-05-01T00:00:00\",\"2020-06-01T00:00:00\",\"2020-07-01T00:00:00\",\"2020-08-01T00:00:00\",\"2020-09-01T00:00:00\",\"2020-10-01T00:00:00\",\"2020-11-01T00:00:00\",\"2020-12-01T00:00:00\",\"2021-01-01T00:00:00\",\"2021-02-01T00:00:00\",\"2021-03-01T00:00:00\",\"2021-04-01T00:00:00\",\"2021-05-01T00:00:00\",\"2021-06-01T00:00:00\",\"2021-07-01T00:00:00\",\"2021-08-01T00:00:00\",\"2021-09-01T00:00:00\",\"2021-10-01T00:00:00\",\"2021-11-01T00:00:00\",\"2021-12-01T00:00:00\"],\"xaxis\":\"x\",\"y\":[9620,8993,7814,0,7528,7998,16973,13679,7939,8438,8756,11729,9608,9083,9188,8984,9994,10119,10007,9268,8675,3305,6225,8048,5115,3965,5476,554,827,2089,3677,4024,6052,6032,7472,7783,7188,5179,6776,5943,6598,6978,7117,7243,7873,8061,8456,6439],\"yaxis\":\"y\",\"type\":\"bar\"},{\"alignmentgroup\":\"True\",\"hovertemplate\":\"DISEASE_GROUP=Diseases of the musculoskeletal system and connective tissue<br>SECTOR2=PUBLIC<br>DATE=%{x}<br>QTY_PEOPLE_SERVED=%{y}<extra></extra>\",\"legendgroup\":\"Diseases of the musculoskeletal system and connective tissue\",\"marker\":{\"color\":\"#8c6d31\",\"pattern\":{\"shape\":\"\"}},\"name\":\"Diseases of the musculoskeletal system and connective tissue\",\"offsetgroup\":\"Diseases of the musculoskeletal system and connective tissue\",\"orientation\":\"v\",\"showlegend\":false,\"textposition\":\"auto\",\"x\":[\"2018-01-01T00:00:00\",\"2018-02-01T00:00:00\",\"2018-03-01T00:00:00\",\"2018-04-01T00:00:00\",\"2018-05-01T00:00:00\",\"2018-06-01T00:00:00\",\"2018-07-01T00:00:00\",\"2018-08-01T00:00:00\",\"2018-09-01T00:00:00\",\"2018-10-01T00:00:00\",\"2018-11-01T00:00:00\",\"2018-12-01T00:00:00\",\"2019-01-01T00:00:00\",\"2019-02-01T00:00:00\",\"2019-03-01T00:00:00\",\"2019-04-01T00:00:00\",\"2019-05-01T00:00:00\",\"2019-06-01T00:00:00\",\"2019-07-01T00:00:00\",\"2019-08-01T00:00:00\",\"2019-09-01T00:00:00\",\"2019-10-01T00:00:00\",\"2019-11-01T00:00:00\",\"2019-12-01T00:00:00\",\"2020-01-01T00:00:00\",\"2020-02-01T00:00:00\",\"2020-03-01T00:00:00\",\"2020-04-01T00:00:00\",\"2020-05-01T00:00:00\",\"2020-06-01T00:00:00\",\"2020-07-01T00:00:00\",\"2020-08-01T00:00:00\",\"2020-09-01T00:00:00\",\"2020-10-01T00:00:00\",\"2020-11-01T00:00:00\",\"2020-12-01T00:00:00\",\"2021-01-01T00:00:00\",\"2021-02-01T00:00:00\",\"2021-03-01T00:00:00\",\"2021-04-01T00:00:00\",\"2021-05-01T00:00:00\",\"2021-06-01T00:00:00\",\"2021-07-01T00:00:00\",\"2021-08-01T00:00:00\",\"2021-09-01T00:00:00\",\"2021-10-01T00:00:00\",\"2021-11-01T00:00:00\",\"2021-12-01T00:00:00\"],\"xaxis\":\"x2\",\"y\":[32445,37096,36179,0,35561,39079,44486,44930,43087,48646,50580,39217,67072,83347,70837,57544,42490,44642,38939,33027,33779,22911,18353,20997,22865,24482,11543,1017,1222,1536,1944,2853,3644,4559,6455,5519,5250,4736,6386,6604,11711,8900,16215,16745,17522,16828,18432,18809],\"yaxis\":\"y2\",\"type\":\"bar\"},{\"alignmentgroup\":\"True\",\"hovertemplate\":\"DISEASE_GROUP=Diseases of the skin and subcutaneous tissue<br>SECTOR2=PRIVATE<br>DATE=%{x}<br>QTY_PEOPLE_SERVED=%{y}<extra></extra>\",\"legendgroup\":\"Diseases of the skin and subcutaneous tissue\",\"marker\":{\"color\":\"#bd9e39\",\"pattern\":{\"shape\":\"\"}},\"name\":\"Diseases of the skin and subcutaneous tissue\",\"offsetgroup\":\"Diseases of the skin and subcutaneous tissue\",\"orientation\":\"v\",\"showlegend\":true,\"textposition\":\"auto\",\"x\":[\"2018-01-01T00:00:00\",\"2018-02-01T00:00:00\",\"2018-03-01T00:00:00\",\"2018-04-01T00:00:00\",\"2018-05-01T00:00:00\",\"2018-06-01T00:00:00\",\"2018-07-01T00:00:00\",\"2018-08-01T00:00:00\",\"2018-09-01T00:00:00\",\"2018-10-01T00:00:00\",\"2018-11-01T00:00:00\",\"2018-12-01T00:00:00\",\"2019-01-01T00:00:00\",\"2019-02-01T00:00:00\",\"2019-03-01T00:00:00\",\"2019-04-01T00:00:00\",\"2019-05-01T00:00:00\",\"2019-06-01T00:00:00\",\"2019-07-01T00:00:00\",\"2019-08-01T00:00:00\",\"2019-09-01T00:00:00\",\"2019-10-01T00:00:00\",\"2019-11-01T00:00:00\",\"2019-12-01T00:00:00\",\"2020-01-01T00:00:00\",\"2020-02-01T00:00:00\",\"2020-03-01T00:00:00\",\"2020-04-01T00:00:00\",\"2020-05-01T00:00:00\",\"2020-06-01T00:00:00\",\"2020-07-01T00:00:00\",\"2020-08-01T00:00:00\",\"2020-09-01T00:00:00\",\"2020-10-01T00:00:00\",\"2020-11-01T00:00:00\",\"2020-12-01T00:00:00\",\"2021-01-01T00:00:00\",\"2021-02-01T00:00:00\",\"2021-03-01T00:00:00\",\"2021-04-01T00:00:00\",\"2021-05-01T00:00:00\",\"2021-06-01T00:00:00\",\"2021-07-01T00:00:00\",\"2021-08-01T00:00:00\",\"2021-09-01T00:00:00\",\"2021-10-01T00:00:00\",\"2021-11-01T00:00:00\",\"2021-12-01T00:00:00\"],\"xaxis\":\"x\",\"y\":[4481,4212,3301,0,3353,3570,7296,6128,3428,3891,4041,6032,4856,4603,4511,3893,4821,5045,4775,4542,4371,1384,2920,4175,2463,2037,2549,226,366,931,1963,2115,3306,3048,3556,3850,3753,2878,3491,3081,3330,3308,3522,3448,3834,4013,4176,3471],\"yaxis\":\"y\",\"type\":\"bar\"},{\"alignmentgroup\":\"True\",\"hovertemplate\":\"DISEASE_GROUP=Diseases of the skin and subcutaneous tissue<br>SECTOR2=PUBLIC<br>DATE=%{x}<br>QTY_PEOPLE_SERVED=%{y}<extra></extra>\",\"legendgroup\":\"Diseases of the skin and subcutaneous tissue\",\"marker\":{\"color\":\"#bd9e39\",\"pattern\":{\"shape\":\"\"}},\"name\":\"Diseases of the skin and subcutaneous tissue\",\"offsetgroup\":\"Diseases of the skin and subcutaneous tissue\",\"orientation\":\"v\",\"showlegend\":false,\"textposition\":\"auto\",\"x\":[\"2018-01-01T00:00:00\",\"2018-02-01T00:00:00\",\"2018-03-01T00:00:00\",\"2018-04-01T00:00:00\",\"2018-05-01T00:00:00\",\"2018-06-01T00:00:00\",\"2018-07-01T00:00:00\",\"2018-08-01T00:00:00\",\"2018-09-01T00:00:00\",\"2018-10-01T00:00:00\",\"2018-11-01T00:00:00\",\"2018-12-01T00:00:00\",\"2019-01-01T00:00:00\",\"2019-02-01T00:00:00\",\"2019-03-01T00:00:00\",\"2019-04-01T00:00:00\",\"2019-05-01T00:00:00\",\"2019-06-01T00:00:00\",\"2019-07-01T00:00:00\",\"2019-08-01T00:00:00\",\"2019-09-01T00:00:00\",\"2019-10-01T00:00:00\",\"2019-11-01T00:00:00\",\"2019-12-01T00:00:00\",\"2020-01-01T00:00:00\",\"2020-02-01T00:00:00\",\"2020-03-01T00:00:00\",\"2020-04-01T00:00:00\",\"2020-05-01T00:00:00\",\"2020-06-01T00:00:00\",\"2020-07-01T00:00:00\",\"2020-08-01T00:00:00\",\"2020-09-01T00:00:00\",\"2020-10-01T00:00:00\",\"2020-11-01T00:00:00\",\"2020-12-01T00:00:00\",\"2021-01-01T00:00:00\",\"2021-02-01T00:00:00\",\"2021-03-01T00:00:00\",\"2021-04-01T00:00:00\",\"2021-05-01T00:00:00\",\"2021-06-01T00:00:00\",\"2021-07-01T00:00:00\",\"2021-08-01T00:00:00\",\"2021-09-01T00:00:00\",\"2021-10-01T00:00:00\",\"2021-11-01T00:00:00\",\"2021-12-01T00:00:00\"],\"xaxis\":\"x2\",\"y\":[15322,16292,16429,0,15606,15467,18001,17810,17571,19792,18767,16354,25521,26536,21281,20473,16893,17077,14453,15142,15266,10330,7279,10192,10163,10722,5317,552,422,592,1380,1360,1832,2003,2868,2336,2797,2122,2973,2545,4117,3523,5393,5945,5887,5977,5976,6091],\"yaxis\":\"y2\",\"type\":\"bar\"},{\"alignmentgroup\":\"True\",\"hovertemplate\":\"DISEASE_GROUP=Endocrine, nutritional and metabolic diseases<br>SECTOR2=PRIVATE<br>DATE=%{x}<br>QTY_PEOPLE_SERVED=%{y}<extra></extra>\",\"legendgroup\":\"Endocrine, nutritional and metabolic diseases\",\"marker\":{\"color\":\"#e7ba52\",\"pattern\":{\"shape\":\"\"}},\"name\":\"Endocrine, nutritional and metabolic diseases\",\"offsetgroup\":\"Endocrine, nutritional and metabolic diseases\",\"orientation\":\"v\",\"showlegend\":true,\"textposition\":\"auto\",\"x\":[\"2018-01-01T00:00:00\",\"2018-02-01T00:00:00\",\"2018-03-01T00:00:00\",\"2018-04-01T00:00:00\",\"2018-05-01T00:00:00\",\"2018-06-01T00:00:00\",\"2018-07-01T00:00:00\",\"2018-08-01T00:00:00\",\"2018-09-01T00:00:00\",\"2018-10-01T00:00:00\",\"2018-11-01T00:00:00\",\"2018-12-01T00:00:00\",\"2019-01-01T00:00:00\",\"2019-02-01T00:00:00\",\"2019-03-01T00:00:00\",\"2019-04-01T00:00:00\",\"2019-05-01T00:00:00\",\"2019-06-01T00:00:00\",\"2019-07-01T00:00:00\",\"2019-08-01T00:00:00\",\"2019-09-01T00:00:00\",\"2019-10-01T00:00:00\",\"2019-11-01T00:00:00\",\"2019-12-01T00:00:00\",\"2020-01-01T00:00:00\",\"2020-02-01T00:00:00\",\"2020-03-01T00:00:00\",\"2020-04-01T00:00:00\",\"2020-05-01T00:00:00\",\"2020-06-01T00:00:00\",\"2020-07-01T00:00:00\",\"2020-08-01T00:00:00\",\"2020-09-01T00:00:00\",\"2020-10-01T00:00:00\",\"2020-11-01T00:00:00\",\"2020-12-01T00:00:00\",\"2021-01-01T00:00:00\",\"2021-02-01T00:00:00\",\"2021-03-01T00:00:00\",\"2021-04-01T00:00:00\",\"2021-05-01T00:00:00\",\"2021-06-01T00:00:00\",\"2021-07-01T00:00:00\",\"2021-08-01T00:00:00\",\"2021-09-01T00:00:00\",\"2021-10-01T00:00:00\",\"2021-11-01T00:00:00\",\"2021-12-01T00:00:00\"],\"xaxis\":\"x\",\"y\":[6235,5594,5211,0,4956,4854,10010,8539,5286,5590,5288,7720,6563,6245,6439,6080,6297,6239,6529,6329,6405,2352,4251,5694,3755,3221,4080,984,1051,2030,3203,3500,4935,4739,5454,5723,5539,4729,5512,5088,5172,5525,5882,5799,6154,6447,7371,5966],\"yaxis\":\"y\",\"type\":\"bar\"},{\"alignmentgroup\":\"True\",\"hovertemplate\":\"DISEASE_GROUP=Endocrine, nutritional and metabolic diseases<br>SECTOR2=PUBLIC<br>DATE=%{x}<br>QTY_PEOPLE_SERVED=%{y}<extra></extra>\",\"legendgroup\":\"Endocrine, nutritional and metabolic diseases\",\"marker\":{\"color\":\"#e7ba52\",\"pattern\":{\"shape\":\"\"}},\"name\":\"Endocrine, nutritional and metabolic diseases\",\"offsetgroup\":\"Endocrine, nutritional and metabolic diseases\",\"orientation\":\"v\",\"showlegend\":false,\"textposition\":\"auto\",\"x\":[\"2018-01-01T00:00:00\",\"2018-02-01T00:00:00\",\"2018-03-01T00:00:00\",\"2018-04-01T00:00:00\",\"2018-05-01T00:00:00\",\"2018-06-01T00:00:00\",\"2018-07-01T00:00:00\",\"2018-08-01T00:00:00\",\"2018-09-01T00:00:00\",\"2018-10-01T00:00:00\",\"2018-11-01T00:00:00\",\"2018-12-01T00:00:00\",\"2019-01-01T00:00:00\",\"2019-02-01T00:00:00\",\"2019-03-01T00:00:00\",\"2019-04-01T00:00:00\",\"2019-05-01T00:00:00\",\"2019-06-01T00:00:00\",\"2019-07-01T00:00:00\",\"2019-08-01T00:00:00\",\"2019-09-01T00:00:00\",\"2019-10-01T00:00:00\",\"2019-11-01T00:00:00\",\"2019-12-01T00:00:00\",\"2020-01-01T00:00:00\",\"2020-02-01T00:00:00\",\"2020-03-01T00:00:00\",\"2020-04-01T00:00:00\",\"2020-05-01T00:00:00\",\"2020-06-01T00:00:00\",\"2020-07-01T00:00:00\",\"2020-08-01T00:00:00\",\"2020-09-01T00:00:00\",\"2020-10-01T00:00:00\",\"2020-11-01T00:00:00\",\"2020-12-01T00:00:00\",\"2021-01-01T00:00:00\",\"2021-02-01T00:00:00\",\"2021-03-01T00:00:00\",\"2021-04-01T00:00:00\",\"2021-05-01T00:00:00\",\"2021-06-01T00:00:00\",\"2021-07-01T00:00:00\",\"2021-08-01T00:00:00\",\"2021-09-01T00:00:00\",\"2021-10-01T00:00:00\",\"2021-11-01T00:00:00\",\"2021-12-01T00:00:00\"],\"xaxis\":\"x2\",\"y\":[26063,27226,24233,0,23707,27716,29274,29149,27284,30202,32146,24548,37166,37663,28342,32161,24811,26536,22817,23017,25098,12290,10022,13116,14308,16559,8323,1024,1685,2182,4462,4910,6071,6655,8686,7310,8045,7095,8006,8841,10193,10334,13941,14410,14833,15098,15308,15905],\"yaxis\":\"y2\",\"type\":\"bar\"},{\"alignmentgroup\":\"True\",\"hovertemplate\":\"DISEASE_GROUP=External causes of morbidity and mortality<br>SECTOR2=PRIVATE<br>DATE=%{x}<br>QTY_PEOPLE_SERVED=%{y}<extra></extra>\",\"legendgroup\":\"External causes of morbidity and mortality\",\"marker\":{\"color\":\"#e7ba52\",\"pattern\":{\"shape\":\"\"}},\"name\":\"External causes of morbidity and mortality\",\"offsetgroup\":\"External causes of morbidity and mortality\",\"orientation\":\"v\",\"showlegend\":true,\"textposition\":\"auto\",\"x\":[\"2018-01-01T00:00:00\",\"2018-02-01T00:00:00\",\"2018-03-01T00:00:00\",\"2018-04-01T00:00:00\",\"2018-05-01T00:00:00\",\"2018-06-01T00:00:00\",\"2018-07-01T00:00:00\",\"2018-08-01T00:00:00\",\"2018-09-01T00:00:00\",\"2018-10-01T00:00:00\",\"2018-11-01T00:00:00\",\"2018-12-01T00:00:00\",\"2019-01-01T00:00:00\",\"2019-02-01T00:00:00\",\"2019-03-01T00:00:00\",\"2019-04-01T00:00:00\",\"2019-05-01T00:00:00\",\"2019-06-01T00:00:00\",\"2019-07-01T00:00:00\",\"2019-08-01T00:00:00\",\"2019-09-01T00:00:00\",\"2019-10-01T00:00:00\",\"2019-11-01T00:00:00\",\"2019-12-01T00:00:00\",\"2020-01-01T00:00:00\",\"2020-02-01T00:00:00\",\"2020-03-01T00:00:00\",\"2020-04-01T00:00:00\",\"2020-05-01T00:00:00\",\"2020-06-01T00:00:00\",\"2020-07-01T00:00:00\",\"2020-08-01T00:00:00\",\"2020-09-01T00:00:00\",\"2020-10-01T00:00:00\",\"2020-11-01T00:00:00\",\"2020-12-01T00:00:00\",\"2021-01-01T00:00:00\",\"2021-02-01T00:00:00\",\"2021-03-01T00:00:00\",\"2021-04-01T00:00:00\",\"2021-05-01T00:00:00\",\"2021-06-01T00:00:00\",\"2021-07-01T00:00:00\",\"2021-08-01T00:00:00\",\"2021-09-01T00:00:00\",\"2021-10-01T00:00:00\",\"2021-11-01T00:00:00\",\"2021-12-01T00:00:00\"],\"xaxis\":\"x\",\"y\":[471,500,514,0,508,485,406,430,482,459,535,542,630,530,535,519,577,639,452,438,514,275,284,349,331,310,278,128,123,142,215,236,246,270,299,362,379,296,535,421,499,382,427,535,508,539,563,515],\"yaxis\":\"y\",\"type\":\"bar\"},{\"alignmentgroup\":\"True\",\"hovertemplate\":\"DISEASE_GROUP=External causes of morbidity and mortality<br>SECTOR2=PUBLIC<br>DATE=%{x}<br>QTY_PEOPLE_SERVED=%{y}<extra></extra>\",\"legendgroup\":\"External causes of morbidity and mortality\",\"marker\":{\"color\":\"#e7ba52\",\"pattern\":{\"shape\":\"\"}},\"name\":\"External causes of morbidity and mortality\",\"offsetgroup\":\"External causes of morbidity and mortality\",\"orientation\":\"v\",\"showlegend\":false,\"textposition\":\"auto\",\"x\":[\"2018-01-01T00:00:00\",\"2018-02-01T00:00:00\",\"2018-03-01T00:00:00\",\"2018-04-01T00:00:00\",\"2018-05-01T00:00:00\",\"2018-06-01T00:00:00\",\"2018-07-01T00:00:00\",\"2018-08-01T00:00:00\",\"2018-09-01T00:00:00\",\"2018-10-01T00:00:00\",\"2018-11-01T00:00:00\",\"2018-12-01T00:00:00\",\"2019-01-01T00:00:00\",\"2019-02-01T00:00:00\",\"2019-03-01T00:00:00\",\"2019-04-01T00:00:00\",\"2019-05-01T00:00:00\",\"2019-06-01T00:00:00\",\"2019-07-01T00:00:00\",\"2019-08-01T00:00:00\",\"2019-09-01T00:00:00\",\"2019-10-01T00:00:00\",\"2019-11-01T00:00:00\",\"2019-12-01T00:00:00\",\"2020-01-01T00:00:00\",\"2020-02-01T00:00:00\",\"2020-03-01T00:00:00\",\"2020-04-01T00:00:00\",\"2020-05-01T00:00:00\",\"2020-06-01T00:00:00\",\"2020-07-01T00:00:00\",\"2020-08-01T00:00:00\",\"2020-09-01T00:00:00\",\"2020-10-01T00:00:00\",\"2020-11-01T00:00:00\",\"2020-12-01T00:00:00\",\"2021-01-01T00:00:00\",\"2021-02-01T00:00:00\",\"2021-03-01T00:00:00\",\"2021-04-01T00:00:00\",\"2021-05-01T00:00:00\",\"2021-06-01T00:00:00\",\"2021-07-01T00:00:00\",\"2021-08-01T00:00:00\",\"2021-09-01T00:00:00\",\"2021-10-01T00:00:00\",\"2021-11-01T00:00:00\",\"2021-12-01T00:00:00\"],\"xaxis\":\"x2\",\"y\":[4146,4245,4609,0,4699,4277,3969,4126,3756,4439,4571,3884,6012,4562,4605,4875,14140,12034,3846,3051,2750,660,670,519,409,325,231,54,37,47,165,134,217,242,1506,346,1589,1144,1407,1336,1476,1537,1780,1786,1759,2009,1997,1959],\"yaxis\":\"y2\",\"type\":\"bar\"},{\"alignmentgroup\":\"True\",\"hovertemplate\":\"DISEASE_GROUP=Factors influencing health status and contact with health services<br>SECTOR2=PRIVATE<br>DATE=%{x}<br>QTY_PEOPLE_SERVED=%{y}<extra></extra>\",\"legendgroup\":\"Factors influencing health status and contact with health services\",\"marker\":{\"color\":\"#e7cb94\",\"pattern\":{\"shape\":\"\"}},\"name\":\"Factors influencing health status and contact with health services\",\"offsetgroup\":\"Factors influencing health status and contact with health services\",\"orientation\":\"v\",\"showlegend\":true,\"textposition\":\"auto\",\"x\":[\"2018-01-01T00:00:00\",\"2018-02-01T00:00:00\",\"2018-03-01T00:00:00\",\"2018-04-01T00:00:00\",\"2018-05-01T00:00:00\",\"2018-06-01T00:00:00\",\"2018-07-01T00:00:00\",\"2018-08-01T00:00:00\",\"2018-09-01T00:00:00\",\"2018-10-01T00:00:00\",\"2018-11-01T00:00:00\",\"2018-12-01T00:00:00\",\"2019-01-01T00:00:00\",\"2019-02-01T00:00:00\",\"2019-03-01T00:00:00\",\"2019-04-01T00:00:00\",\"2019-05-01T00:00:00\",\"2019-06-01T00:00:00\",\"2019-07-01T00:00:00\",\"2019-08-01T00:00:00\",\"2019-09-01T00:00:00\",\"2019-10-01T00:00:00\",\"2019-11-01T00:00:00\",\"2019-12-01T00:00:00\",\"2020-01-01T00:00:00\",\"2020-02-01T00:00:00\",\"2020-03-01T00:00:00\",\"2020-04-01T00:00:00\",\"2020-05-01T00:00:00\",\"2020-06-01T00:00:00\",\"2020-07-01T00:00:00\",\"2020-08-01T00:00:00\",\"2020-09-01T00:00:00\",\"2020-10-01T00:00:00\",\"2020-11-01T00:00:00\",\"2020-12-01T00:00:00\",\"2021-01-01T00:00:00\",\"2021-02-01T00:00:00\",\"2021-03-01T00:00:00\",\"2021-04-01T00:00:00\",\"2021-05-01T00:00:00\",\"2021-06-01T00:00:00\",\"2021-07-01T00:00:00\",\"2021-08-01T00:00:00\",\"2021-09-01T00:00:00\",\"2021-10-01T00:00:00\",\"2021-11-01T00:00:00\",\"2021-12-01T00:00:00\"],\"xaxis\":\"x\",\"y\":[8182,7863,7197,0,8508,8396,12382,10129,7919,8402,7224,9645,9579,8189,8316,7694,7544,7761,8590,8664,8312,4837,6321,7246,6756,5859,4694,1258,2097,3121,4173,4243,5009,5339,5904,5762,5927,4968,6133,5857,6111,6499,6571,6777,7235,7339,7280,6536],\"yaxis\":\"y\",\"type\":\"bar\"},{\"alignmentgroup\":\"True\",\"hovertemplate\":\"DISEASE_GROUP=Factors influencing health status and contact with health services<br>SECTOR2=PUBLIC<br>DATE=%{x}<br>QTY_PEOPLE_SERVED=%{y}<extra></extra>\",\"legendgroup\":\"Factors influencing health status and contact with health services\",\"marker\":{\"color\":\"#e7cb94\",\"pattern\":{\"shape\":\"\"}},\"name\":\"Factors influencing health status and contact with health services\",\"offsetgroup\":\"Factors influencing health status and contact with health services\",\"orientation\":\"v\",\"showlegend\":false,\"textposition\":\"auto\",\"x\":[\"2018-01-01T00:00:00\",\"2018-02-01T00:00:00\",\"2018-03-01T00:00:00\",\"2018-04-01T00:00:00\",\"2018-05-01T00:00:00\",\"2018-06-01T00:00:00\",\"2018-07-01T00:00:00\",\"2018-08-01T00:00:00\",\"2018-09-01T00:00:00\",\"2018-10-01T00:00:00\",\"2018-11-01T00:00:00\",\"2018-12-01T00:00:00\",\"2019-01-01T00:00:00\",\"2019-02-01T00:00:00\",\"2019-03-01T00:00:00\",\"2019-04-01T00:00:00\",\"2019-05-01T00:00:00\",\"2019-06-01T00:00:00\",\"2019-07-01T00:00:00\",\"2019-08-01T00:00:00\",\"2019-09-01T00:00:00\",\"2019-10-01T00:00:00\",\"2019-11-01T00:00:00\",\"2019-12-01T00:00:00\",\"2020-01-01T00:00:00\",\"2020-02-01T00:00:00\",\"2020-03-01T00:00:00\",\"2020-04-01T00:00:00\",\"2020-05-01T00:00:00\",\"2020-06-01T00:00:00\",\"2020-07-01T00:00:00\",\"2020-08-01T00:00:00\",\"2020-09-01T00:00:00\",\"2020-10-01T00:00:00\",\"2020-11-01T00:00:00\",\"2020-12-01T00:00:00\",\"2021-01-01T00:00:00\",\"2021-02-01T00:00:00\",\"2021-03-01T00:00:00\",\"2021-04-01T00:00:00\",\"2021-05-01T00:00:00\",\"2021-06-01T00:00:00\",\"2021-07-01T00:00:00\",\"2021-08-01T00:00:00\",\"2021-09-01T00:00:00\",\"2021-10-01T00:00:00\",\"2021-11-01T00:00:00\",\"2021-12-01T00:00:00\"],\"xaxis\":\"x2\",\"y\":[69673,78258,74170,0,87980,84922,80210,80019,71197,84421,76585,77930,120411,126473,86559,104632,73971,71604,61621,70256,65732,28156,24742,24398,23375,21210,23134,3355,4771,4643,5290,7281,7131,8494,16688,11397,14081,10284,11327,12576,16392,23360,27552,25860,25062,28651,26398,25438],\"yaxis\":\"y2\",\"type\":\"bar\"},{\"alignmentgroup\":\"True\",\"hovertemplate\":\"DISEASE_GROUP=Injuries, poisoning and some other consequences of external causes<br>SECTOR2=PRIVATE<br>DATE=%{x}<br>QTY_PEOPLE_SERVED=%{y}<extra></extra>\",\"legendgroup\":\"Injuries, poisoning and some other consequences of external causes\",\"marker\":{\"color\":\"#843c39\",\"pattern\":{\"shape\":\"\"}},\"name\":\"Injuries, poisoning and some other consequences of external causes\",\"offsetgroup\":\"Injuries, poisoning and some other consequences of external causes\",\"orientation\":\"v\",\"showlegend\":true,\"textposition\":\"auto\",\"x\":[\"2018-01-01T00:00:00\",\"2018-02-01T00:00:00\",\"2018-03-01T00:00:00\",\"2018-04-01T00:00:00\",\"2018-05-01T00:00:00\",\"2018-06-01T00:00:00\",\"2018-07-01T00:00:00\",\"2018-08-01T00:00:00\",\"2018-09-01T00:00:00\",\"2018-10-01T00:00:00\",\"2018-11-01T00:00:00\",\"2018-12-01T00:00:00\",\"2019-01-01T00:00:00\",\"2019-02-01T00:00:00\",\"2019-03-01T00:00:00\",\"2019-04-01T00:00:00\",\"2019-05-01T00:00:00\",\"2019-06-01T00:00:00\",\"2019-07-01T00:00:00\",\"2019-08-01T00:00:00\",\"2019-09-01T00:00:00\",\"2019-10-01T00:00:00\",\"2019-11-01T00:00:00\",\"2019-12-01T00:00:00\",\"2020-01-01T00:00:00\",\"2020-02-01T00:00:00\",\"2020-03-01T00:00:00\",\"2020-04-01T00:00:00\",\"2020-05-01T00:00:00\",\"2020-06-01T00:00:00\",\"2020-07-01T00:00:00\",\"2020-08-01T00:00:00\",\"2020-09-01T00:00:00\",\"2020-10-01T00:00:00\",\"2020-11-01T00:00:00\",\"2020-12-01T00:00:00\",\"2021-01-01T00:00:00\",\"2021-02-01T00:00:00\",\"2021-03-01T00:00:00\",\"2021-04-01T00:00:00\",\"2021-05-01T00:00:00\",\"2021-06-01T00:00:00\",\"2021-07-01T00:00:00\",\"2021-08-01T00:00:00\",\"2021-09-01T00:00:00\",\"2021-10-01T00:00:00\",\"2021-11-01T00:00:00\",\"2021-12-01T00:00:00\"],\"xaxis\":\"x\",\"y\":[5454,5236,5208,0,5270,5389,8075,7449,5640,5727,7076,6774,5885,5229,5748,6068,7219,11439,6148,6062,6199,3450,4591,5113,3954,3693,2887,665,769,1164,2066,2071,2762,3104,3425,3873,3612,2713,3574,3136,3323,3456,3816,4013,4109,4434,4661,4315],\"yaxis\":\"y\",\"type\":\"bar\"},{\"alignmentgroup\":\"True\",\"hovertemplate\":\"DISEASE_GROUP=Injuries, poisoning and some other consequences of external causes<br>SECTOR2=PUBLIC<br>DATE=%{x}<br>QTY_PEOPLE_SERVED=%{y}<extra></extra>\",\"legendgroup\":\"Injuries, poisoning and some other consequences of external causes\",\"marker\":{\"color\":\"#843c39\",\"pattern\":{\"shape\":\"\"}},\"name\":\"Injuries, poisoning and some other consequences of external causes\",\"offsetgroup\":\"Injuries, poisoning and some other consequences of external causes\",\"orientation\":\"v\",\"showlegend\":false,\"textposition\":\"auto\",\"x\":[\"2018-01-01T00:00:00\",\"2018-02-01T00:00:00\",\"2018-03-01T00:00:00\",\"2018-04-01T00:00:00\",\"2018-05-01T00:00:00\",\"2018-06-01T00:00:00\",\"2018-07-01T00:00:00\",\"2018-08-01T00:00:00\",\"2018-09-01T00:00:00\",\"2018-10-01T00:00:00\",\"2018-11-01T00:00:00\",\"2018-12-01T00:00:00\",\"2019-01-01T00:00:00\",\"2019-02-01T00:00:00\",\"2019-03-01T00:00:00\",\"2019-04-01T00:00:00\",\"2019-05-01T00:00:00\",\"2019-06-01T00:00:00\",\"2019-07-01T00:00:00\",\"2019-08-01T00:00:00\",\"2019-09-01T00:00:00\",\"2019-10-01T00:00:00\",\"2019-11-01T00:00:00\",\"2019-12-01T00:00:00\",\"2020-01-01T00:00:00\",\"2020-02-01T00:00:00\",\"2020-03-01T00:00:00\",\"2020-04-01T00:00:00\",\"2020-05-01T00:00:00\",\"2020-06-01T00:00:00\",\"2020-07-01T00:00:00\",\"2020-08-01T00:00:00\",\"2020-09-01T00:00:00\",\"2020-10-01T00:00:00\",\"2020-11-01T00:00:00\",\"2020-12-01T00:00:00\",\"2021-01-01T00:00:00\",\"2021-02-01T00:00:00\",\"2021-03-01T00:00:00\",\"2021-04-01T00:00:00\",\"2021-05-01T00:00:00\",\"2021-06-01T00:00:00\",\"2021-07-01T00:00:00\",\"2021-08-01T00:00:00\",\"2021-09-01T00:00:00\",\"2021-10-01T00:00:00\",\"2021-11-01T00:00:00\",\"2021-12-01T00:00:00\"],\"xaxis\":\"x2\",\"y\":[23344,22331,23940,0,22638,23548,23628,22492,23743,28289,25579,22769,30636,28638,30946,28491,38321,40121,23945,24157,24325,18259,15888,20694,17618,17279,7967,1855,1612,2061,3309,4089,6047,7677,11012,10155,10088,7251,10237,9839,10068,11885,14422,15216,15635,16226,16922,17368],\"yaxis\":\"y2\",\"type\":\"bar\"},{\"alignmentgroup\":\"True\",\"hovertemplate\":\"DISEASE_GROUP=Mental and behavioral disorders<br>SECTOR2=PRIVATE<br>DATE=%{x}<br>QTY_PEOPLE_SERVED=%{y}<extra></extra>\",\"legendgroup\":\"Mental and behavioral disorders\",\"marker\":{\"color\":\"#ad494a\",\"pattern\":{\"shape\":\"\"}},\"name\":\"Mental and behavioral disorders\",\"offsetgroup\":\"Mental and behavioral disorders\",\"orientation\":\"v\",\"showlegend\":true,\"textposition\":\"auto\",\"x\":[\"2018-01-01T00:00:00\",\"2018-02-01T00:00:00\",\"2018-03-01T00:00:00\",\"2018-04-01T00:00:00\",\"2018-05-01T00:00:00\",\"2018-06-01T00:00:00\",\"2018-07-01T00:00:00\",\"2018-08-01T00:00:00\",\"2018-09-01T00:00:00\",\"2018-10-01T00:00:00\",\"2018-11-01T00:00:00\",\"2018-12-01T00:00:00\",\"2019-01-01T00:00:00\",\"2019-02-01T00:00:00\",\"2019-03-01T00:00:00\",\"2019-04-01T00:00:00\",\"2019-05-01T00:00:00\",\"2019-06-01T00:00:00\",\"2019-07-01T00:00:00\",\"2019-08-01T00:00:00\",\"2019-09-01T00:00:00\",\"2019-10-01T00:00:00\",\"2019-11-01T00:00:00\",\"2019-12-01T00:00:00\",\"2020-01-01T00:00:00\",\"2020-02-01T00:00:00\",\"2020-03-01T00:00:00\",\"2020-04-01T00:00:00\",\"2020-05-01T00:00:00\",\"2020-06-01T00:00:00\",\"2020-07-01T00:00:00\",\"2020-08-01T00:00:00\",\"2020-09-01T00:00:00\",\"2020-10-01T00:00:00\",\"2020-11-01T00:00:00\",\"2020-12-01T00:00:00\",\"2021-01-01T00:00:00\",\"2021-02-01T00:00:00\",\"2021-03-01T00:00:00\",\"2021-04-01T00:00:00\",\"2021-05-01T00:00:00\",\"2021-06-01T00:00:00\",\"2021-07-01T00:00:00\",\"2021-08-01T00:00:00\",\"2021-09-01T00:00:00\",\"2021-10-01T00:00:00\",\"2021-11-01T00:00:00\",\"2021-12-01T00:00:00\"],\"xaxis\":\"x\",\"y\":[858,818,915,0,744,888,2126,1392,749,715,762,1219,946,917,869,835,939,904,962,983,908,305,816,822,351,378,575,125,159,225,428,476,680,717,750,811,812,661,824,698,764,723,643,621,749,625,722,498],\"yaxis\":\"y\",\"type\":\"bar\"},{\"alignmentgroup\":\"True\",\"hovertemplate\":\"DISEASE_GROUP=Mental and behavioral disorders<br>SECTOR2=PUBLIC<br>DATE=%{x}<br>QTY_PEOPLE_SERVED=%{y}<extra></extra>\",\"legendgroup\":\"Mental and behavioral disorders\",\"marker\":{\"color\":\"#ad494a\",\"pattern\":{\"shape\":\"\"}},\"name\":\"Mental and behavioral disorders\",\"offsetgroup\":\"Mental and behavioral disorders\",\"orientation\":\"v\",\"showlegend\":false,\"textposition\":\"auto\",\"x\":[\"2018-01-01T00:00:00\",\"2018-02-01T00:00:00\",\"2018-03-01T00:00:00\",\"2018-04-01T00:00:00\",\"2018-05-01T00:00:00\",\"2018-06-01T00:00:00\",\"2018-07-01T00:00:00\",\"2018-08-01T00:00:00\",\"2018-09-01T00:00:00\",\"2018-10-01T00:00:00\",\"2018-11-01T00:00:00\",\"2018-12-01T00:00:00\",\"2019-01-01T00:00:00\",\"2019-02-01T00:00:00\",\"2019-03-01T00:00:00\",\"2019-04-01T00:00:00\",\"2019-05-01T00:00:00\",\"2019-06-01T00:00:00\",\"2019-07-01T00:00:00\",\"2019-08-01T00:00:00\",\"2019-09-01T00:00:00\",\"2019-10-01T00:00:00\",\"2019-11-01T00:00:00\",\"2019-12-01T00:00:00\",\"2020-01-01T00:00:00\",\"2020-02-01T00:00:00\",\"2020-03-01T00:00:00\",\"2020-04-01T00:00:00\",\"2020-05-01T00:00:00\",\"2020-06-01T00:00:00\",\"2020-07-01T00:00:00\",\"2020-08-01T00:00:00\",\"2020-09-01T00:00:00\",\"2020-10-01T00:00:00\",\"2020-11-01T00:00:00\",\"2020-12-01T00:00:00\",\"2021-01-01T00:00:00\",\"2021-02-01T00:00:00\",\"2021-03-01T00:00:00\",\"2021-04-01T00:00:00\",\"2021-05-01T00:00:00\",\"2021-06-01T00:00:00\",\"2021-07-01T00:00:00\",\"2021-08-01T00:00:00\",\"2021-09-01T00:00:00\",\"2021-10-01T00:00:00\",\"2021-11-01T00:00:00\",\"2021-12-01T00:00:00\"],\"xaxis\":\"x2\",\"y\":[30400,33508,33436,0,32467,32483,37341,33112,33052,36433,35904,30104,45714,47241,50192,41753,31860,29798,26875,28304,30076,16662,10923,14348,12578,20550,8838,1819,2665,3098,4595,10361,11716,12421,14965,13031,14362,13431,15308,13691,16031,16490,18604,19904,19648,18355,19905,18072],\"yaxis\":\"y2\",\"type\":\"bar\"},{\"alignmentgroup\":\"True\",\"hovertemplate\":\"DISEASE_GROUP=Neoplasms<br>SECTOR2=PRIVATE<br>DATE=%{x}<br>QTY_PEOPLE_SERVED=%{y}<extra></extra>\",\"legendgroup\":\"Neoplasms\",\"marker\":{\"color\":\"#d6616b\",\"pattern\":{\"shape\":\"\"}},\"name\":\"Neoplasms\",\"offsetgroup\":\"Neoplasms\",\"orientation\":\"v\",\"showlegend\":true,\"textposition\":\"auto\",\"x\":[\"2018-01-01T00:00:00\",\"2018-02-01T00:00:00\",\"2018-03-01T00:00:00\",\"2018-04-01T00:00:00\",\"2018-05-01T00:00:00\",\"2018-06-01T00:00:00\",\"2018-07-01T00:00:00\",\"2018-08-01T00:00:00\",\"2018-09-01T00:00:00\",\"2018-10-01T00:00:00\",\"2018-11-01T00:00:00\",\"2018-12-01T00:00:00\",\"2019-01-01T00:00:00\",\"2019-02-01T00:00:00\",\"2019-03-01T00:00:00\",\"2019-04-01T00:00:00\",\"2019-05-01T00:00:00\",\"2019-06-01T00:00:00\",\"2019-07-01T00:00:00\",\"2019-08-01T00:00:00\",\"2019-09-01T00:00:00\",\"2019-10-01T00:00:00\",\"2019-11-01T00:00:00\",\"2019-12-01T00:00:00\",\"2020-01-01T00:00:00\",\"2020-02-01T00:00:00\",\"2020-03-01T00:00:00\",\"2020-04-01T00:00:00\",\"2020-05-01T00:00:00\",\"2020-06-01T00:00:00\",\"2020-07-01T00:00:00\",\"2020-08-01T00:00:00\",\"2020-09-01T00:00:00\",\"2020-10-01T00:00:00\",\"2020-11-01T00:00:00\",\"2020-12-01T00:00:00\",\"2021-01-01T00:00:00\",\"2021-02-01T00:00:00\",\"2021-03-01T00:00:00\",\"2021-04-01T00:00:00\",\"2021-05-01T00:00:00\",\"2021-06-01T00:00:00\",\"2021-07-01T00:00:00\",\"2021-08-01T00:00:00\",\"2021-09-01T00:00:00\",\"2021-10-01T00:00:00\",\"2021-11-01T00:00:00\",\"2021-12-01T00:00:00\"],\"xaxis\":\"x\",\"y\":[3083,2984,2869,0,3237,3109,5569,4700,3207,3275,3572,4206,3679,3220,3489,3022,3328,3552,3798,3648,3703,1915,2870,3286,2822,2576,2468,967,1239,1776,2333,2499,3381,3604,4057,4068,3931,3246,3929,3532,3694,3899,3783,4047,4396,4297,4951,3784],\"yaxis\":\"y\",\"type\":\"bar\"},{\"alignmentgroup\":\"True\",\"hovertemplate\":\"DISEASE_GROUP=Neoplasms<br>SECTOR2=PUBLIC<br>DATE=%{x}<br>QTY_PEOPLE_SERVED=%{y}<extra></extra>\",\"legendgroup\":\"Neoplasms\",\"marker\":{\"color\":\"#d6616b\",\"pattern\":{\"shape\":\"\"}},\"name\":\"Neoplasms\",\"offsetgroup\":\"Neoplasms\",\"orientation\":\"v\",\"showlegend\":false,\"textposition\":\"auto\",\"x\":[\"2018-01-01T00:00:00\",\"2018-02-01T00:00:00\",\"2018-03-01T00:00:00\",\"2018-04-01T00:00:00\",\"2018-05-01T00:00:00\",\"2018-06-01T00:00:00\",\"2018-07-01T00:00:00\",\"2018-08-01T00:00:00\",\"2018-09-01T00:00:00\",\"2018-10-01T00:00:00\",\"2018-11-01T00:00:00\",\"2018-12-01T00:00:00\",\"2019-01-01T00:00:00\",\"2019-02-01T00:00:00\",\"2019-03-01T00:00:00\",\"2019-04-01T00:00:00\",\"2019-05-01T00:00:00\",\"2019-06-01T00:00:00\",\"2019-07-01T00:00:00\",\"2019-08-01T00:00:00\",\"2019-09-01T00:00:00\",\"2019-10-01T00:00:00\",\"2019-11-01T00:00:00\",\"2019-12-01T00:00:00\",\"2020-01-01T00:00:00\",\"2020-02-01T00:00:00\",\"2020-03-01T00:00:00\",\"2020-04-01T00:00:00\",\"2020-05-01T00:00:00\",\"2020-06-01T00:00:00\",\"2020-07-01T00:00:00\",\"2020-08-01T00:00:00\",\"2020-09-01T00:00:00\",\"2020-10-01T00:00:00\",\"2020-11-01T00:00:00\",\"2020-12-01T00:00:00\",\"2021-01-01T00:00:00\",\"2021-02-01T00:00:00\",\"2021-03-01T00:00:00\",\"2021-04-01T00:00:00\",\"2021-05-01T00:00:00\",\"2021-06-01T00:00:00\",\"2021-07-01T00:00:00\",\"2021-08-01T00:00:00\",\"2021-09-01T00:00:00\",\"2021-10-01T00:00:00\",\"2021-11-01T00:00:00\",\"2021-12-01T00:00:00\"],\"xaxis\":\"x2\",\"y\":[39868,46984,41653,0,44802,40427,44273,43775,42526,50619,47285,41919,92371,67103,51936,74244,43440,51996,42373,40900,44255,25666,15930,17858,20147,23404,21685,6661,8442,10121,14522,16239,18779,21785,25989,25376,26316,22792,27113,25836,27602,30906,32720,36744,35914,36357,38049,37746],\"yaxis\":\"y2\",\"type\":\"bar\"},{\"alignmentgroup\":\"True\",\"hovertemplate\":\"DISEASE_GROUP=Nervous system diseases<br>SECTOR2=PRIVATE<br>DATE=%{x}<br>QTY_PEOPLE_SERVED=%{y}<extra></extra>\",\"legendgroup\":\"Nervous system diseases\",\"marker\":{\"color\":\"#e7969c\",\"pattern\":{\"shape\":\"\"}},\"name\":\"Nervous system diseases\",\"offsetgroup\":\"Nervous system diseases\",\"orientation\":\"v\",\"showlegend\":true,\"textposition\":\"auto\",\"x\":[\"2018-01-01T00:00:00\",\"2018-02-01T00:00:00\",\"2018-03-01T00:00:00\",\"2018-04-01T00:00:00\",\"2018-05-01T00:00:00\",\"2018-06-01T00:00:00\",\"2018-07-01T00:00:00\",\"2018-08-01T00:00:00\",\"2018-09-01T00:00:00\",\"2018-10-01T00:00:00\",\"2018-11-01T00:00:00\",\"2018-12-01T00:00:00\",\"2019-01-01T00:00:00\",\"2019-02-01T00:00:00\",\"2019-03-01T00:00:00\",\"2019-04-01T00:00:00\",\"2019-05-01T00:00:00\",\"2019-06-01T00:00:00\",\"2019-07-01T00:00:00\",\"2019-08-01T00:00:00\",\"2019-09-01T00:00:00\",\"2019-10-01T00:00:00\",\"2019-11-01T00:00:00\",\"2019-12-01T00:00:00\",\"2020-01-01T00:00:00\",\"2020-02-01T00:00:00\",\"2020-03-01T00:00:00\",\"2020-04-01T00:00:00\",\"2020-05-01T00:00:00\",\"2020-06-01T00:00:00\",\"2020-07-01T00:00:00\",\"2020-08-01T00:00:00\",\"2020-09-01T00:00:00\",\"2020-10-01T00:00:00\",\"2020-11-01T00:00:00\",\"2020-12-01T00:00:00\",\"2021-01-01T00:00:00\",\"2021-02-01T00:00:00\",\"2021-03-01T00:00:00\",\"2021-04-01T00:00:00\",\"2021-05-01T00:00:00\",\"2021-06-01T00:00:00\",\"2021-07-01T00:00:00\",\"2021-08-01T00:00:00\",\"2021-09-01T00:00:00\",\"2021-10-01T00:00:00\",\"2021-11-01T00:00:00\",\"2021-12-01T00:00:00\"],\"xaxis\":\"x\",\"y\":[1943,1756,1555,0,1878,1916,3679,2964,1900,2086,2222,2581,2036,2057,2048,1938,2281,2717,2385,2206,2110,809,1463,1833,1130,869,1262,335,404,800,1286,1380,1887,1777,1982,2045,1822,1414,1732,1538,1734,1789,1817,1779,1881,1891,1949,1560],\"yaxis\":\"y\",\"type\":\"bar\"},{\"alignmentgroup\":\"True\",\"hovertemplate\":\"DISEASE_GROUP=Nervous system diseases<br>SECTOR2=PUBLIC<br>DATE=%{x}<br>QTY_PEOPLE_SERVED=%{y}<extra></extra>\",\"legendgroup\":\"Nervous system diseases\",\"marker\":{\"color\":\"#e7969c\",\"pattern\":{\"shape\":\"\"}},\"name\":\"Nervous system diseases\",\"offsetgroup\":\"Nervous system diseases\",\"orientation\":\"v\",\"showlegend\":false,\"textposition\":\"auto\",\"x\":[\"2018-01-01T00:00:00\",\"2018-02-01T00:00:00\",\"2018-03-01T00:00:00\",\"2018-04-01T00:00:00\",\"2018-05-01T00:00:00\",\"2018-06-01T00:00:00\",\"2018-07-01T00:00:00\",\"2018-08-01T00:00:00\",\"2018-09-01T00:00:00\",\"2018-10-01T00:00:00\",\"2018-11-01T00:00:00\",\"2018-12-01T00:00:00\",\"2019-01-01T00:00:00\",\"2019-02-01T00:00:00\",\"2019-03-01T00:00:00\",\"2019-04-01T00:00:00\",\"2019-05-01T00:00:00\",\"2019-06-01T00:00:00\",\"2019-07-01T00:00:00\",\"2019-08-01T00:00:00\",\"2019-09-01T00:00:00\",\"2019-10-01T00:00:00\",\"2019-11-01T00:00:00\",\"2019-12-01T00:00:00\",\"2020-01-01T00:00:00\",\"2020-02-01T00:00:00\",\"2020-03-01T00:00:00\",\"2020-04-01T00:00:00\",\"2020-05-01T00:00:00\",\"2020-06-01T00:00:00\",\"2020-07-01T00:00:00\",\"2020-08-01T00:00:00\",\"2020-09-01T00:00:00\",\"2020-10-01T00:00:00\",\"2020-11-01T00:00:00\",\"2020-12-01T00:00:00\",\"2021-01-01T00:00:00\",\"2021-02-01T00:00:00\",\"2021-03-01T00:00:00\",\"2021-04-01T00:00:00\",\"2021-05-01T00:00:00\",\"2021-06-01T00:00:00\",\"2021-07-01T00:00:00\",\"2021-08-01T00:00:00\",\"2021-09-01T00:00:00\",\"2021-10-01T00:00:00\",\"2021-11-01T00:00:00\",\"2021-12-01T00:00:00\"],\"xaxis\":\"x2\",\"y\":[11461,13749,12401,0,12998,13780,15493,15804,15421,17446,16838,13600,19333,25359,19815,20978,16223,17478,14468,14634,14890,9684,6663,8487,7914,8944,4708,868,1186,1801,2599,3120,4125,4092,5456,4871,5409,4591,5482,5149,5949,6449,7892,8512,8603,8471,8607,8648],\"yaxis\":\"y2\",\"type\":\"bar\"},{\"alignmentgroup\":\"True\",\"hovertemplate\":\"DISEASE_GROUP=Pregnancy, childbirth and puerperium<br>SECTOR2=PRIVATE<br>DATE=%{x}<br>QTY_PEOPLE_SERVED=%{y}<extra></extra>\",\"legendgroup\":\"Pregnancy, childbirth and puerperium\",\"marker\":{\"color\":\"#7b4173\",\"pattern\":{\"shape\":\"\"}},\"name\":\"Pregnancy, childbirth and puerperium\",\"offsetgroup\":\"Pregnancy, childbirth and puerperium\",\"orientation\":\"v\",\"showlegend\":true,\"textposition\":\"auto\",\"x\":[\"2018-01-01T00:00:00\",\"2018-02-01T00:00:00\",\"2018-03-01T00:00:00\",\"2018-04-01T00:00:00\",\"2018-05-01T00:00:00\",\"2018-06-01T00:00:00\",\"2018-07-01T00:00:00\",\"2018-08-01T00:00:00\",\"2018-09-01T00:00:00\",\"2018-10-01T00:00:00\",\"2018-11-01T00:00:00\",\"2018-12-01T00:00:00\",\"2019-01-01T00:00:00\",\"2019-02-01T00:00:00\",\"2019-03-01T00:00:00\",\"2019-04-01T00:00:00\",\"2019-05-01T00:00:00\",\"2019-06-01T00:00:00\",\"2019-07-01T00:00:00\",\"2019-08-01T00:00:00\",\"2019-09-01T00:00:00\",\"2019-10-01T00:00:00\",\"2019-11-01T00:00:00\",\"2019-12-01T00:00:00\",\"2020-01-01T00:00:00\",\"2020-02-01T00:00:00\",\"2020-03-01T00:00:00\",\"2020-04-01T00:00:00\",\"2020-05-01T00:00:00\",\"2020-06-01T00:00:00\",\"2020-07-01T00:00:00\",\"2020-08-01T00:00:00\",\"2020-09-01T00:00:00\",\"2020-10-01T00:00:00\",\"2020-11-01T00:00:00\",\"2020-12-01T00:00:00\",\"2021-01-01T00:00:00\",\"2021-02-01T00:00:00\",\"2021-03-01T00:00:00\",\"2021-04-01T00:00:00\",\"2021-05-01T00:00:00\",\"2021-06-01T00:00:00\",\"2021-07-01T00:00:00\",\"2021-08-01T00:00:00\",\"2021-09-01T00:00:00\",\"2021-10-01T00:00:00\",\"2021-11-01T00:00:00\",\"2021-12-01T00:00:00\"],\"xaxis\":\"x\",\"y\":[897,875,1033,0,923,922,1020,907,968,988,959,994,976,679,777,785,1043,1442,864,849,812,538,542,669,829,674,765,595,510,531,706,734,765,765,705,663,652,646,815,706,802,789,850,909,909,879,805,860],\"yaxis\":\"y\",\"type\":\"bar\"},{\"alignmentgroup\":\"True\",\"hovertemplate\":\"DISEASE_GROUP=Pregnancy, childbirth and puerperium<br>SECTOR2=PUBLIC<br>DATE=%{x}<br>QTY_PEOPLE_SERVED=%{y}<extra></extra>\",\"legendgroup\":\"Pregnancy, childbirth and puerperium\",\"marker\":{\"color\":\"#7b4173\",\"pattern\":{\"shape\":\"\"}},\"name\":\"Pregnancy, childbirth and puerperium\",\"offsetgroup\":\"Pregnancy, childbirth and puerperium\",\"orientation\":\"v\",\"showlegend\":false,\"textposition\":\"auto\",\"x\":[\"2018-01-01T00:00:00\",\"2018-02-01T00:00:00\",\"2018-03-01T00:00:00\",\"2018-04-01T00:00:00\",\"2018-05-01T00:00:00\",\"2018-06-01T00:00:00\",\"2018-07-01T00:00:00\",\"2018-08-01T00:00:00\",\"2018-09-01T00:00:00\",\"2018-10-01T00:00:00\",\"2018-11-01T00:00:00\",\"2018-12-01T00:00:00\",\"2019-01-01T00:00:00\",\"2019-02-01T00:00:00\",\"2019-03-01T00:00:00\",\"2019-04-01T00:00:00\",\"2019-05-01T00:00:00\",\"2019-06-01T00:00:00\",\"2019-07-01T00:00:00\",\"2019-08-01T00:00:00\",\"2019-09-01T00:00:00\",\"2019-10-01T00:00:00\",\"2019-11-01T00:00:00\",\"2019-12-01T00:00:00\",\"2020-01-01T00:00:00\",\"2020-02-01T00:00:00\",\"2020-03-01T00:00:00\",\"2020-04-01T00:00:00\",\"2020-05-01T00:00:00\",\"2020-06-01T00:00:00\",\"2020-07-01T00:00:00\",\"2020-08-01T00:00:00\",\"2020-09-01T00:00:00\",\"2020-10-01T00:00:00\",\"2020-11-01T00:00:00\",\"2020-12-01T00:00:00\",\"2021-01-01T00:00:00\",\"2021-02-01T00:00:00\",\"2021-03-01T00:00:00\",\"2021-04-01T00:00:00\",\"2021-05-01T00:00:00\",\"2021-06-01T00:00:00\",\"2021-07-01T00:00:00\",\"2021-08-01T00:00:00\",\"2021-09-01T00:00:00\",\"2021-10-01T00:00:00\",\"2021-11-01T00:00:00\",\"2021-12-01T00:00:00\"],\"xaxis\":\"x2\",\"y\":[20737,18847,21061,0,19518,19303,19028,19519,20055,20800,19205,18563,17293,15784,17401,16328,25412,28674,14200,12712,13402,9055,8512,8494,13594,14035,10761,8992,7757,6510,8142,8722,10132,10962,13626,10363,11845,11181,12998,13539,13662,14414,15031,15266,15085,13877,13482,14555],\"yaxis\":\"y2\",\"type\":\"bar\"},{\"alignmentgroup\":\"True\",\"hovertemplate\":\"DISEASE_GROUP=Respiratory system diseases<br>SECTOR2=PRIVATE<br>DATE=%{x}<br>QTY_PEOPLE_SERVED=%{y}<extra></extra>\",\"legendgroup\":\"Respiratory system diseases\",\"marker\":{\"color\":\"#a55194\",\"pattern\":{\"shape\":\"\"}},\"name\":\"Respiratory system diseases\",\"offsetgroup\":\"Respiratory system diseases\",\"orientation\":\"v\",\"showlegend\":true,\"textposition\":\"auto\",\"x\":[\"2018-01-01T00:00:00\",\"2018-02-01T00:00:00\",\"2018-03-01T00:00:00\",\"2018-04-01T00:00:00\",\"2018-05-01T00:00:00\",\"2018-06-01T00:00:00\",\"2018-07-01T00:00:00\",\"2018-08-01T00:00:00\",\"2018-09-01T00:00:00\",\"2018-10-01T00:00:00\",\"2018-11-01T00:00:00\",\"2018-12-01T00:00:00\",\"2019-01-01T00:00:00\",\"2019-02-01T00:00:00\",\"2019-03-01T00:00:00\",\"2019-04-01T00:00:00\",\"2019-05-01T00:00:00\",\"2019-06-01T00:00:00\",\"2019-07-01T00:00:00\",\"2019-08-01T00:00:00\",\"2019-09-01T00:00:00\",\"2019-10-01T00:00:00\",\"2019-11-01T00:00:00\",\"2019-12-01T00:00:00\",\"2020-01-01T00:00:00\",\"2020-02-01T00:00:00\",\"2020-03-01T00:00:00\",\"2020-04-01T00:00:00\",\"2020-05-01T00:00:00\",\"2020-06-01T00:00:00\",\"2020-07-01T00:00:00\",\"2020-08-01T00:00:00\",\"2020-09-01T00:00:00\",\"2020-10-01T00:00:00\",\"2020-11-01T00:00:00\",\"2020-12-01T00:00:00\",\"2021-01-01T00:00:00\",\"2021-02-01T00:00:00\",\"2021-03-01T00:00:00\",\"2021-04-01T00:00:00\",\"2021-05-01T00:00:00\",\"2021-06-01T00:00:00\",\"2021-07-01T00:00:00\",\"2021-08-01T00:00:00\",\"2021-09-01T00:00:00\",\"2021-10-01T00:00:00\",\"2021-11-01T00:00:00\",\"2021-12-01T00:00:00\"],\"xaxis\":\"x\",\"y\":[10238,7536,7926,0,12244,15325,23458,16837,11816,11658,11918,14846,9820,7915,9441,10270,12915,19875,15253,13326,14319,4215,7096,8968,4264,3149,5806,1061,1679,1926,3690,3625,3825,3242,4119,4245,5094,4035,4240,4100,4383,4194,4473,4455,4122,4696,5267,4740],\"yaxis\":\"y\",\"type\":\"bar\"},{\"alignmentgroup\":\"True\",\"hovertemplate\":\"DISEASE_GROUP=Respiratory system diseases<br>SECTOR2=PUBLIC<br>DATE=%{x}<br>QTY_PEOPLE_SERVED=%{y}<extra></extra>\",\"legendgroup\":\"Respiratory system diseases\",\"marker\":{\"color\":\"#a55194\",\"pattern\":{\"shape\":\"\"}},\"name\":\"Respiratory system diseases\",\"offsetgroup\":\"Respiratory system diseases\",\"orientation\":\"v\",\"showlegend\":false,\"textposition\":\"auto\",\"x\":[\"2018-01-01T00:00:00\",\"2018-02-01T00:00:00\",\"2018-03-01T00:00:00\",\"2018-04-01T00:00:00\",\"2018-05-01T00:00:00\",\"2018-06-01T00:00:00\",\"2018-07-01T00:00:00\",\"2018-08-01T00:00:00\",\"2018-09-01T00:00:00\",\"2018-10-01T00:00:00\",\"2018-11-01T00:00:00\",\"2018-12-01T00:00:00\",\"2019-01-01T00:00:00\",\"2019-02-01T00:00:00\",\"2019-03-01T00:00:00\",\"2019-04-01T00:00:00\",\"2019-05-01T00:00:00\",\"2019-06-01T00:00:00\",\"2019-07-01T00:00:00\",\"2019-08-01T00:00:00\",\"2019-09-01T00:00:00\",\"2019-10-01T00:00:00\",\"2019-11-01T00:00:00\",\"2019-12-01T00:00:00\",\"2020-01-01T00:00:00\",\"2020-02-01T00:00:00\",\"2020-03-01T00:00:00\",\"2020-04-01T00:00:00\",\"2020-05-01T00:00:00\",\"2020-06-01T00:00:00\",\"2020-07-01T00:00:00\",\"2020-08-01T00:00:00\",\"2020-09-01T00:00:00\",\"2020-10-01T00:00:00\",\"2020-11-01T00:00:00\",\"2020-12-01T00:00:00\",\"2021-01-01T00:00:00\",\"2021-02-01T00:00:00\",\"2021-03-01T00:00:00\",\"2021-04-01T00:00:00\",\"2021-05-01T00:00:00\",\"2021-06-01T00:00:00\",\"2021-07-01T00:00:00\",\"2021-08-01T00:00:00\",\"2021-09-01T00:00:00\",\"2021-10-01T00:00:00\",\"2021-11-01T00:00:00\",\"2021-12-01T00:00:00\"],\"xaxis\":\"x2\",\"y\":[36030,31257,34261,0,52568,53364,45601,39042,46805,49799,49606,38337,47326,41231,39396,47186,51724,60712,44162,43944,49682,28063,16522,23503,15199,15455,10497,2467,3524,3934,7187,8328,6937,7178,8456,7601,10325,9740,12671,12150,13036,11732,15129,14176,13217,14939,16304,17796],\"yaxis\":\"y2\",\"type\":\"bar\"},{\"alignmentgroup\":\"True\",\"hovertemplate\":\"DISEASE_GROUP=Some conditions originating in the perinatal period<br>SECTOR2=PRIVATE<br>DATE=%{x}<br>QTY_PEOPLE_SERVED=%{y}<extra></extra>\",\"legendgroup\":\"Some conditions originating in the perinatal period\",\"marker\":{\"color\":\"#ce6dbd\",\"pattern\":{\"shape\":\"\"}},\"name\":\"Some conditions originating in the perinatal period\",\"offsetgroup\":\"Some conditions originating in the perinatal period\",\"orientation\":\"v\",\"showlegend\":true,\"textposition\":\"auto\",\"x\":[\"2018-01-01T00:00:00\",\"2018-02-01T00:00:00\",\"2018-03-01T00:00:00\",\"2018-04-01T00:00:00\",\"2018-05-01T00:00:00\",\"2018-06-01T00:00:00\",\"2018-07-01T00:00:00\",\"2018-08-01T00:00:00\",\"2018-09-01T00:00:00\",\"2018-10-01T00:00:00\",\"2018-11-01T00:00:00\",\"2018-12-01T00:00:00\",\"2019-01-01T00:00:00\",\"2019-02-01T00:00:00\",\"2019-03-01T00:00:00\",\"2019-04-01T00:00:00\",\"2019-05-01T00:00:00\",\"2019-06-01T00:00:00\",\"2019-07-01T00:00:00\",\"2019-08-01T00:00:00\",\"2019-09-01T00:00:00\",\"2019-10-01T00:00:00\",\"2019-11-01T00:00:00\",\"2019-12-01T00:00:00\",\"2020-01-01T00:00:00\",\"2020-02-01T00:00:00\",\"2020-03-01T00:00:00\",\"2020-04-01T00:00:00\",\"2020-05-01T00:00:00\",\"2020-06-01T00:00:00\",\"2020-07-01T00:00:00\",\"2020-08-01T00:00:00\",\"2020-09-01T00:00:00\",\"2020-10-01T00:00:00\",\"2020-11-01T00:00:00\",\"2020-12-01T00:00:00\",\"2021-01-01T00:00:00\",\"2021-02-01T00:00:00\",\"2021-03-01T00:00:00\",\"2021-04-01T00:00:00\",\"2021-05-01T00:00:00\",\"2021-06-01T00:00:00\",\"2021-07-01T00:00:00\",\"2021-08-01T00:00:00\",\"2021-09-01T00:00:00\",\"2021-10-01T00:00:00\",\"2021-11-01T00:00:00\",\"2021-12-01T00:00:00\"],\"xaxis\":\"x\",\"y\":[109,114,146,0,128,129,192,139,161,152,119,164,145,129,132,112,114,137,134,99,98,66,79,88,92,70,75,35,45,74,83,87,92,103,78,98,86,73,102,101,89,88,76,88,91,108,108,120],\"yaxis\":\"y\",\"type\":\"bar\"},{\"alignmentgroup\":\"True\",\"hovertemplate\":\"DISEASE_GROUP=Some conditions originating in the perinatal period<br>SECTOR2=PUBLIC<br>DATE=%{x}<br>QTY_PEOPLE_SERVED=%{y}<extra></extra>\",\"legendgroup\":\"Some conditions originating in the perinatal period\",\"marker\":{\"color\":\"#ce6dbd\",\"pattern\":{\"shape\":\"\"}},\"name\":\"Some conditions originating in the perinatal period\",\"offsetgroup\":\"Some conditions originating in the perinatal period\",\"orientation\":\"v\",\"showlegend\":false,\"textposition\":\"auto\",\"x\":[\"2018-01-01T00:00:00\",\"2018-02-01T00:00:00\",\"2018-03-01T00:00:00\",\"2018-04-01T00:00:00\",\"2018-05-01T00:00:00\",\"2018-06-01T00:00:00\",\"2018-07-01T00:00:00\",\"2018-08-01T00:00:00\",\"2018-09-01T00:00:00\",\"2018-10-01T00:00:00\",\"2018-11-01T00:00:00\",\"2018-12-01T00:00:00\",\"2019-01-01T00:00:00\",\"2019-02-01T00:00:00\",\"2019-03-01T00:00:00\",\"2019-04-01T00:00:00\",\"2019-05-01T00:00:00\",\"2019-06-01T00:00:00\",\"2019-07-01T00:00:00\",\"2019-08-01T00:00:00\",\"2019-09-01T00:00:00\",\"2019-10-01T00:00:00\",\"2019-11-01T00:00:00\",\"2019-12-01T00:00:00\",\"2020-01-01T00:00:00\",\"2020-02-01T00:00:00\",\"2020-03-01T00:00:00\",\"2020-04-01T00:00:00\",\"2020-05-01T00:00:00\",\"2020-06-01T00:00:00\",\"2020-07-01T00:00:00\",\"2020-08-01T00:00:00\",\"2020-09-01T00:00:00\",\"2020-10-01T00:00:00\",\"2020-11-01T00:00:00\",\"2020-12-01T00:00:00\",\"2021-01-01T00:00:00\",\"2021-02-01T00:00:00\",\"2021-03-01T00:00:00\",\"2021-04-01T00:00:00\",\"2021-05-01T00:00:00\",\"2021-06-01T00:00:00\",\"2021-07-01T00:00:00\",\"2021-08-01T00:00:00\",\"2021-09-01T00:00:00\",\"2021-10-01T00:00:00\",\"2021-11-01T00:00:00\",\"2021-12-01T00:00:00\"],\"xaxis\":\"x2\",\"y\":[3446,3891,3761,0,3749,3701,4182,4206,3816,4388,4271,4243,3800,4030,3496,4914,4452,3906,3279,3044,3387,2788,1764,1299,2697,3716,1839,1006,1167,1211,1497,1699,1795,1985,2923,2454,2442,6709,3304,2845,3171,3006,3326,3150,3230,3123,3262,3639],\"yaxis\":\"y2\",\"type\":\"bar\"},{\"alignmentgroup\":\"True\",\"hovertemplate\":\"DISEASE_GROUP=Some infectious and parasitic diseases<br>SECTOR2=PRIVATE<br>DATE=%{x}<br>QTY_PEOPLE_SERVED=%{y}<extra></extra>\",\"legendgroup\":\"Some infectious and parasitic diseases\",\"marker\":{\"color\":\"#de9ed6\",\"pattern\":{\"shape\":\"\"}},\"name\":\"Some infectious and parasitic diseases\",\"offsetgroup\":\"Some infectious and parasitic diseases\",\"orientation\":\"v\",\"showlegend\":true,\"textposition\":\"auto\",\"x\":[\"2018-01-01T00:00:00\",\"2018-02-01T00:00:00\",\"2018-03-01T00:00:00\",\"2018-04-01T00:00:00\",\"2018-05-01T00:00:00\",\"2018-06-01T00:00:00\",\"2018-07-01T00:00:00\",\"2018-08-01T00:00:00\",\"2018-09-01T00:00:00\",\"2018-10-01T00:00:00\",\"2018-11-01T00:00:00\",\"2018-12-01T00:00:00\",\"2019-01-01T00:00:00\",\"2019-02-01T00:00:00\",\"2019-03-01T00:00:00\",\"2019-04-01T00:00:00\",\"2019-05-01T00:00:00\",\"2019-06-01T00:00:00\",\"2019-07-01T00:00:00\",\"2019-08-01T00:00:00\",\"2019-09-01T00:00:00\",\"2019-10-01T00:00:00\",\"2019-11-01T00:00:00\",\"2019-12-01T00:00:00\",\"2020-01-01T00:00:00\",\"2020-02-01T00:00:00\",\"2020-03-01T00:00:00\",\"2020-04-01T00:00:00\",\"2020-05-01T00:00:00\",\"2020-06-01T00:00:00\",\"2020-07-01T00:00:00\",\"2020-08-01T00:00:00\",\"2020-09-01T00:00:00\",\"2020-10-01T00:00:00\",\"2020-11-01T00:00:00\",\"2020-12-01T00:00:00\",\"2021-01-01T00:00:00\",\"2021-02-01T00:00:00\",\"2021-03-01T00:00:00\",\"2021-04-01T00:00:00\",\"2021-05-01T00:00:00\",\"2021-06-01T00:00:00\",\"2021-07-01T00:00:00\",\"2021-08-01T00:00:00\",\"2021-09-01T00:00:00\",\"2021-10-01T00:00:00\",\"2021-11-01T00:00:00\",\"2021-12-01T00:00:00\"],\"xaxis\":\"x\",\"y\":[3646,3595,3124,0,3078,2817,4642,4214,2983,3362,3907,4726,4037,3957,3978,3358,4119,4606,3380,3577,3904,1925,2716,3552,2579,2370,1889,515,1064,1588,2522,2602,2123,1929,2167,2716,3188,2739,2922,2721,2410,2173,2291,2384,2280,2632,2673,2582],\"yaxis\":\"y\",\"type\":\"bar\"},{\"alignmentgroup\":\"True\",\"hovertemplate\":\"DISEASE_GROUP=Some infectious and parasitic diseases<br>SECTOR2=PUBLIC<br>DATE=%{x}<br>QTY_PEOPLE_SERVED=%{y}<extra></extra>\",\"legendgroup\":\"Some infectious and parasitic diseases\",\"marker\":{\"color\":\"#de9ed6\",\"pattern\":{\"shape\":\"\"}},\"name\":\"Some infectious and parasitic diseases\",\"offsetgroup\":\"Some infectious and parasitic diseases\",\"orientation\":\"v\",\"showlegend\":false,\"textposition\":\"auto\",\"x\":[\"2018-01-01T00:00:00\",\"2018-02-01T00:00:00\",\"2018-03-01T00:00:00\",\"2018-04-01T00:00:00\",\"2018-05-01T00:00:00\",\"2018-06-01T00:00:00\",\"2018-07-01T00:00:00\",\"2018-08-01T00:00:00\",\"2018-09-01T00:00:00\",\"2018-10-01T00:00:00\",\"2018-11-01T00:00:00\",\"2018-12-01T00:00:00\",\"2019-01-01T00:00:00\",\"2019-02-01T00:00:00\",\"2019-03-01T00:00:00\",\"2019-04-01T00:00:00\",\"2019-05-01T00:00:00\",\"2019-06-01T00:00:00\",\"2019-07-01T00:00:00\",\"2019-08-01T00:00:00\",\"2019-09-01T00:00:00\",\"2019-10-01T00:00:00\",\"2019-11-01T00:00:00\",\"2019-12-01T00:00:00\",\"2020-01-01T00:00:00\",\"2020-02-01T00:00:00\",\"2020-03-01T00:00:00\",\"2020-04-01T00:00:00\",\"2020-05-01T00:00:00\",\"2020-06-01T00:00:00\",\"2020-07-01T00:00:00\",\"2020-08-01T00:00:00\",\"2020-09-01T00:00:00\",\"2020-10-01T00:00:00\",\"2020-11-01T00:00:00\",\"2020-12-01T00:00:00\",\"2021-01-01T00:00:00\",\"2021-02-01T00:00:00\",\"2021-03-01T00:00:00\",\"2021-04-01T00:00:00\",\"2021-05-01T00:00:00\",\"2021-06-01T00:00:00\",\"2021-07-01T00:00:00\",\"2021-08-01T00:00:00\",\"2021-09-01T00:00:00\",\"2021-10-01T00:00:00\",\"2021-11-01T00:00:00\",\"2021-12-01T00:00:00\"],\"xaxis\":\"x2\",\"y\":[21500,21479,20862,0,19527,17811,19966,21833,22387,23934,22942,19583,29389,27319,24227,27392,23254,23645,18237,19335,22089,13046,9960,13540,12426,13048,7084,2612,2973,3072,7019,7401,5607,5715,7719,8213,7923,7040,8211,7779,8190,8294,10173,9810,10546,10563,10890,11263],\"yaxis\":\"y2\",\"type\":\"bar\"},{\"alignmentgroup\":\"True\",\"hovertemplate\":\"DISEASE_GROUP=Unidentified<br>SECTOR2=PRIVATE<br>DATE=%{x}<br>QTY_PEOPLE_SERVED=%{y}<extra></extra>\",\"legendgroup\":\"Unidentified\",\"marker\":{\"color\":\"#de9ed6\",\"pattern\":{\"shape\":\"\"}},\"name\":\"Unidentified\",\"offsetgroup\":\"Unidentified\",\"orientation\":\"v\",\"showlegend\":true,\"textposition\":\"auto\",\"x\":[\"2018-01-01T00:00:00\",\"2018-02-01T00:00:00\",\"2018-03-01T00:00:00\",\"2018-04-01T00:00:00\",\"2018-05-01T00:00:00\",\"2018-06-01T00:00:00\",\"2018-07-01T00:00:00\",\"2018-08-01T00:00:00\",\"2018-09-01T00:00:00\",\"2018-10-01T00:00:00\",\"2018-11-01T00:00:00\",\"2018-12-01T00:00:00\",\"2019-01-01T00:00:00\",\"2019-02-01T00:00:00\",\"2019-03-01T00:00:00\",\"2019-04-01T00:00:00\",\"2019-05-01T00:00:00\",\"2019-06-01T00:00:00\",\"2019-07-01T00:00:00\",\"2019-08-01T00:00:00\",\"2019-09-01T00:00:00\",\"2019-10-01T00:00:00\",\"2019-11-01T00:00:00\",\"2019-12-01T00:00:00\",\"2020-01-01T00:00:00\",\"2020-02-01T00:00:00\",\"2020-03-01T00:00:00\",\"2020-04-01T00:00:00\",\"2020-05-01T00:00:00\",\"2020-06-01T00:00:00\",\"2020-07-01T00:00:00\",\"2020-08-01T00:00:00\",\"2020-09-01T00:00:00\",\"2020-10-01T00:00:00\",\"2020-11-01T00:00:00\",\"2020-12-01T00:00:00\",\"2021-01-01T00:00:00\",\"2021-02-01T00:00:00\",\"2021-03-01T00:00:00\",\"2021-04-01T00:00:00\",\"2021-05-01T00:00:00\",\"2021-06-01T00:00:00\",\"2021-07-01T00:00:00\",\"2021-08-01T00:00:00\",\"2021-09-01T00:00:00\",\"2021-10-01T00:00:00\",\"2021-11-01T00:00:00\",\"2021-12-01T00:00:00\"],\"xaxis\":\"x\",\"y\":[1284,1128,1074,0,1044,1025,1823,1473,1089,1153,1471,1511,1353,1185,1196,1214,1400,1890,1211,1221,1182,561,752,891,695,652,493,150,175,276,529,513,585,736,848,900,921,672,850,728,786,864,909,893,962,1021,984,974],\"yaxis\":\"y\",\"type\":\"bar\"},{\"alignmentgroup\":\"True\",\"hovertemplate\":\"DISEASE_GROUP=Unidentified<br>SECTOR2=PUBLIC<br>DATE=%{x}<br>QTY_PEOPLE_SERVED=%{y}<extra></extra>\",\"legendgroup\":\"Unidentified\",\"marker\":{\"color\":\"#de9ed6\",\"pattern\":{\"shape\":\"\"}},\"name\":\"Unidentified\",\"offsetgroup\":\"Unidentified\",\"orientation\":\"v\",\"showlegend\":false,\"textposition\":\"auto\",\"x\":[\"2018-01-01T00:00:00\",\"2018-02-01T00:00:00\",\"2018-03-01T00:00:00\",\"2018-04-01T00:00:00\",\"2018-05-01T00:00:00\",\"2018-06-01T00:00:00\",\"2018-07-01T00:00:00\",\"2018-08-01T00:00:00\",\"2018-09-01T00:00:00\",\"2018-10-01T00:00:00\",\"2018-11-01T00:00:00\",\"2018-12-01T00:00:00\",\"2019-01-01T00:00:00\",\"2019-02-01T00:00:00\",\"2019-03-01T00:00:00\",\"2019-04-01T00:00:00\",\"2019-05-01T00:00:00\",\"2019-06-01T00:00:00\",\"2019-07-01T00:00:00\",\"2019-08-01T00:00:00\",\"2019-09-01T00:00:00\",\"2019-10-01T00:00:00\",\"2019-11-01T00:00:00\",\"2019-12-01T00:00:00\",\"2020-01-01T00:00:00\",\"2020-02-01T00:00:00\",\"2020-03-01T00:00:00\",\"2020-04-01T00:00:00\",\"2020-05-01T00:00:00\",\"2020-06-01T00:00:00\",\"2020-07-01T00:00:00\",\"2020-08-01T00:00:00\",\"2020-09-01T00:00:00\",\"2020-10-01T00:00:00\",\"2020-11-01T00:00:00\",\"2020-12-01T00:00:00\",\"2021-01-01T00:00:00\",\"2021-02-01T00:00:00\",\"2021-03-01T00:00:00\",\"2021-04-01T00:00:00\",\"2021-05-01T00:00:00\",\"2021-06-01T00:00:00\",\"2021-07-01T00:00:00\",\"2021-08-01T00:00:00\",\"2021-09-01T00:00:00\",\"2021-10-01T00:00:00\",\"2021-11-01T00:00:00\",\"2021-12-01T00:00:00\"],\"xaxis\":\"x2\",\"y\":[8916,7989,8839,0,8313,8135,8404,8304,9312,9733,9190,8924,10474,10387,9907,10631,10685,11549,8168,8203,8438,4838,3900,5671,4967,4706,2660,970,753,1020,1735,1808,2663,3465,5024,4169,4048,3142,4455,4159,4312,5685,6233,6882,6896,6980,7005,7304],\"yaxis\":\"y2\",\"type\":\"bar\"},{\"alignmentgroup\":\"True\",\"hovertemplate\":\"DISEASE_GROUP=Codes for special situations<br>SECTOR2=PRIVATE<br>DATE=%{x}<br>QTY_PEOPLE_SERVED=%{y}<extra></extra>\",\"legendgroup\":\"Codes for special situations\",\"marker\":{\"color\":\"#393b79\",\"pattern\":{\"shape\":\"\"}},\"name\":\"Codes for special situations\",\"offsetgroup\":\"Codes for special situations\",\"orientation\":\"v\",\"showlegend\":true,\"textposition\":\"auto\",\"x\":[\"2020-04-01T00:00:00\",\"2020-05-01T00:00:00\",\"2020-06-01T00:00:00\",\"2020-07-01T00:00:00\",\"2020-08-01T00:00:00\",\"2020-09-01T00:00:00\",\"2020-10-01T00:00:00\",\"2020-11-01T00:00:00\",\"2020-12-01T00:00:00\",\"2021-01-01T00:00:00\",\"2021-02-01T00:00:00\",\"2021-03-01T00:00:00\",\"2021-04-01T00:00:00\",\"2021-05-01T00:00:00\",\"2021-06-01T00:00:00\",\"2021-07-01T00:00:00\",\"2021-08-01T00:00:00\",\"2021-09-01T00:00:00\",\"2021-10-01T00:00:00\",\"2021-11-01T00:00:00\",\"2021-12-01T00:00:00\"],\"xaxis\":\"x\",\"y\":[6,91,165,2637,2575,1402,794,639,808,2167,2801,3379,3158,2192,1441,1244,1232,987,964,1150,1993],\"yaxis\":\"y\",\"type\":\"bar\"},{\"alignmentgroup\":\"True\",\"hovertemplate\":\"DISEASE_GROUP=Codes for special situations<br>SECTOR2=PUBLIC<br>DATE=%{x}<br>QTY_PEOPLE_SERVED=%{y}<extra></extra>\",\"legendgroup\":\"Codes for special situations\",\"marker\":{\"color\":\"#393b79\",\"pattern\":{\"shape\":\"\"}},\"name\":\"Codes for special situations\",\"offsetgroup\":\"Codes for special situations\",\"orientation\":\"v\",\"showlegend\":false,\"textposition\":\"auto\",\"x\":[\"2018-01-01T00:00:00\",\"2018-02-01T00:00:00\",\"2018-03-01T00:00:00\",\"2018-04-01T00:00:00\",\"2018-05-01T00:00:00\",\"2018-06-01T00:00:00\",\"2018-07-01T00:00:00\",\"2018-08-01T00:00:00\",\"2018-09-01T00:00:00\",\"2018-10-01T00:00:00\",\"2018-11-01T00:00:00\",\"2018-12-01T00:00:00\",\"2019-01-01T00:00:00\",\"2019-02-01T00:00:00\",\"2019-03-01T00:00:00\",\"2019-04-01T00:00:00\",\"2019-05-01T00:00:00\",\"2019-06-01T00:00:00\",\"2019-07-01T00:00:00\",\"2019-08-01T00:00:00\",\"2019-09-01T00:00:00\",\"2019-10-01T00:00:00\",\"2019-11-01T00:00:00\",\"2019-12-01T00:00:00\",\"2020-01-01T00:00:00\",\"2020-02-01T00:00:00\",\"2020-03-01T00:00:00\",\"2020-04-01T00:00:00\",\"2020-05-01T00:00:00\",\"2020-06-01T00:00:00\",\"2020-07-01T00:00:00\",\"2020-08-01T00:00:00\",\"2020-09-01T00:00:00\",\"2020-10-01T00:00:00\",\"2020-11-01T00:00:00\",\"2020-12-01T00:00:00\",\"2021-01-01T00:00:00\",\"2021-02-01T00:00:00\",\"2021-03-01T00:00:00\",\"2021-04-01T00:00:00\",\"2021-05-01T00:00:00\",\"2021-06-01T00:00:00\",\"2021-07-01T00:00:00\",\"2021-08-01T00:00:00\",\"2021-09-01T00:00:00\",\"2021-10-01T00:00:00\",\"2021-11-01T00:00:00\",\"2021-12-01T00:00:00\"],\"xaxis\":\"x2\",\"y\":[15,18,12,0,21,14,187,73,113,84,50,23,61,30,9,68,116,99,86,77,70,6,4,99,53,48,48,321,1568,2371,12918,13103,10326,7628,4839,4418,8395,11595,15255,12841,8330,6318,4960,4868,3800,4014,3943,5132],\"yaxis\":\"y2\",\"type\":\"bar\"}],                        {\"template\":{\"data\":{\"histogram2dcontour\":[{\"type\":\"histogram2dcontour\",\"colorbar\":{\"outlinewidth\":0,\"ticks\":\"\"},\"colorscale\":[[0.0,\"#0d0887\"],[0.1111111111111111,\"#46039f\"],[0.2222222222222222,\"#7201a8\"],[0.3333333333333333,\"#9c179e\"],[0.4444444444444444,\"#bd3786\"],[0.5555555555555556,\"#d8576b\"],[0.6666666666666666,\"#ed7953\"],[0.7777777777777778,\"#fb9f3a\"],[0.8888888888888888,\"#fdca26\"],[1.0,\"#f0f921\"]]}],\"choropleth\":[{\"type\":\"choropleth\",\"colorbar\":{\"outlinewidth\":0,\"ticks\":\"\"}}],\"histogram2d\":[{\"type\":\"histogram2d\",\"colorbar\":{\"outlinewidth\":0,\"ticks\":\"\"},\"colorscale\":[[0.0,\"#0d0887\"],[0.1111111111111111,\"#46039f\"],[0.2222222222222222,\"#7201a8\"],[0.3333333333333333,\"#9c179e\"],[0.4444444444444444,\"#bd3786\"],[0.5555555555555556,\"#d8576b\"],[0.6666666666666666,\"#ed7953\"],[0.7777777777777778,\"#fb9f3a\"],[0.8888888888888888,\"#fdca26\"],[1.0,\"#f0f921\"]]}],\"heatmap\":[{\"type\":\"heatmap\",\"colorbar\":{\"outlinewidth\":0,\"ticks\":\"\"},\"colorscale\":[[0.0,\"#0d0887\"],[0.1111111111111111,\"#46039f\"],[0.2222222222222222,\"#7201a8\"],[0.3333333333333333,\"#9c179e\"],[0.4444444444444444,\"#bd3786\"],[0.5555555555555556,\"#d8576b\"],[0.6666666666666666,\"#ed7953\"],[0.7777777777777778,\"#fb9f3a\"],[0.8888888888888888,\"#fdca26\"],[1.0,\"#f0f921\"]]}],\"heatmapgl\":[{\"type\":\"heatmapgl\",\"colorbar\":{\"outlinewidth\":0,\"ticks\":\"\"},\"colorscale\":[[0.0,\"#0d0887\"],[0.1111111111111111,\"#46039f\"],[0.2222222222222222,\"#7201a8\"],[0.3333333333333333,\"#9c179e\"],[0.4444444444444444,\"#bd3786\"],[0.5555555555555556,\"#d8576b\"],[0.6666666666666666,\"#ed7953\"],[0.7777777777777778,\"#fb9f3a\"],[0.8888888888888888,\"#fdca26\"],[1.0,\"#f0f921\"]]}],\"contourcarpet\":[{\"type\":\"contourcarpet\",\"colorbar\":{\"outlinewidth\":0,\"ticks\":\"\"}}],\"contour\":[{\"type\":\"contour\",\"colorbar\":{\"outlinewidth\":0,\"ticks\":\"\"},\"colorscale\":[[0.0,\"#0d0887\"],[0.1111111111111111,\"#46039f\"],[0.2222222222222222,\"#7201a8\"],[0.3333333333333333,\"#9c179e\"],[0.4444444444444444,\"#bd3786\"],[0.5555555555555556,\"#d8576b\"],[0.6666666666666666,\"#ed7953\"],[0.7777777777777778,\"#fb9f3a\"],[0.8888888888888888,\"#fdca26\"],[1.0,\"#f0f921\"]]}],\"surface\":[{\"type\":\"surface\",\"colorbar\":{\"outlinewidth\":0,\"ticks\":\"\"},\"colorscale\":[[0.0,\"#0d0887\"],[0.1111111111111111,\"#46039f\"],[0.2222222222222222,\"#7201a8\"],[0.3333333333333333,\"#9c179e\"],[0.4444444444444444,\"#bd3786\"],[0.5555555555555556,\"#d8576b\"],[0.6666666666666666,\"#ed7953\"],[0.7777777777777778,\"#fb9f3a\"],[0.8888888888888888,\"#fdca26\"],[1.0,\"#f0f921\"]]}],\"mesh3d\":[{\"type\":\"mesh3d\",\"colorbar\":{\"outlinewidth\":0,\"ticks\":\"\"}}],\"scatter\":[{\"fillpattern\":{\"fillmode\":\"overlay\",\"size\":10,\"solidity\":0.2},\"type\":\"scatter\"}],\"parcoords\":[{\"type\":\"parcoords\",\"line\":{\"colorbar\":{\"outlinewidth\":0,\"ticks\":\"\"}}}],\"scatterpolargl\":[{\"type\":\"scatterpolargl\",\"marker\":{\"colorbar\":{\"outlinewidth\":0,\"ticks\":\"\"}}}],\"bar\":[{\"error_x\":{\"color\":\"#2a3f5f\"},\"error_y\":{\"color\":\"#2a3f5f\"},\"marker\":{\"line\":{\"color\":\"#E5ECF6\",\"width\":0.5},\"pattern\":{\"fillmode\":\"overlay\",\"size\":10,\"solidity\":0.2}},\"type\":\"bar\"}],\"scattergeo\":[{\"type\":\"scattergeo\",\"marker\":{\"colorbar\":{\"outlinewidth\":0,\"ticks\":\"\"}}}],\"scatterpolar\":[{\"type\":\"scatterpolar\",\"marker\":{\"colorbar\":{\"outlinewidth\":0,\"ticks\":\"\"}}}],\"histogram\":[{\"marker\":{\"pattern\":{\"fillmode\":\"overlay\",\"size\":10,\"solidity\":0.2}},\"type\":\"histogram\"}],\"scattergl\":[{\"type\":\"scattergl\",\"marker\":{\"colorbar\":{\"outlinewidth\":0,\"ticks\":\"\"}}}],\"scatter3d\":[{\"type\":\"scatter3d\",\"line\":{\"colorbar\":{\"outlinewidth\":0,\"ticks\":\"\"}},\"marker\":{\"colorbar\":{\"outlinewidth\":0,\"ticks\":\"\"}}}],\"scattermapbox\":[{\"type\":\"scattermapbox\",\"marker\":{\"colorbar\":{\"outlinewidth\":0,\"ticks\":\"\"}}}],\"scatterternary\":[{\"type\":\"scatterternary\",\"marker\":{\"colorbar\":{\"outlinewidth\":0,\"ticks\":\"\"}}}],\"scattercarpet\":[{\"type\":\"scattercarpet\",\"marker\":{\"colorbar\":{\"outlinewidth\":0,\"ticks\":\"\"}}}],\"carpet\":[{\"aaxis\":{\"endlinecolor\":\"#2a3f5f\",\"gridcolor\":\"white\",\"linecolor\":\"white\",\"minorgridcolor\":\"white\",\"startlinecolor\":\"#2a3f5f\"},\"baxis\":{\"endlinecolor\":\"#2a3f5f\",\"gridcolor\":\"white\",\"linecolor\":\"white\",\"minorgridcolor\":\"white\",\"startlinecolor\":\"#2a3f5f\"},\"type\":\"carpet\"}],\"table\":[{\"cells\":{\"fill\":{\"color\":\"#EBF0F8\"},\"line\":{\"color\":\"white\"}},\"header\":{\"fill\":{\"color\":\"#C8D4E3\"},\"line\":{\"color\":\"white\"}},\"type\":\"table\"}],\"barpolar\":[{\"marker\":{\"line\":{\"color\":\"#E5ECF6\",\"width\":0.5},\"pattern\":{\"fillmode\":\"overlay\",\"size\":10,\"solidity\":0.2}},\"type\":\"barpolar\"}],\"pie\":[{\"automargin\":true,\"type\":\"pie\"}]},\"layout\":{\"autotypenumbers\":\"strict\",\"colorway\":[\"#636efa\",\"#EF553B\",\"#00cc96\",\"#ab63fa\",\"#FFA15A\",\"#19d3f3\",\"#FF6692\",\"#B6E880\",\"#FF97FF\",\"#FECB52\"],\"font\":{\"color\":\"#2a3f5f\"},\"hovermode\":\"closest\",\"hoverlabel\":{\"align\":\"left\"},\"paper_bgcolor\":\"white\",\"plot_bgcolor\":\"#E5ECF6\",\"polar\":{\"bgcolor\":\"#E5ECF6\",\"angularaxis\":{\"gridcolor\":\"white\",\"linecolor\":\"white\",\"ticks\":\"\"},\"radialaxis\":{\"gridcolor\":\"white\",\"linecolor\":\"white\",\"ticks\":\"\"}},\"ternary\":{\"bgcolor\":\"#E5ECF6\",\"aaxis\":{\"gridcolor\":\"white\",\"linecolor\":\"white\",\"ticks\":\"\"},\"baxis\":{\"gridcolor\":\"white\",\"linecolor\":\"white\",\"ticks\":\"\"},\"caxis\":{\"gridcolor\":\"white\",\"linecolor\":\"white\",\"ticks\":\"\"}},\"coloraxis\":{\"colorbar\":{\"outlinewidth\":0,\"ticks\":\"\"}},\"colorscale\":{\"sequential\":[[0.0,\"#0d0887\"],[0.1111111111111111,\"#46039f\"],[0.2222222222222222,\"#7201a8\"],[0.3333333333333333,\"#9c179e\"],[0.4444444444444444,\"#bd3786\"],[0.5555555555555556,\"#d8576b\"],[0.6666666666666666,\"#ed7953\"],[0.7777777777777778,\"#fb9f3a\"],[0.8888888888888888,\"#fdca26\"],[1.0,\"#f0f921\"]],\"sequentialminus\":[[0.0,\"#0d0887\"],[0.1111111111111111,\"#46039f\"],[0.2222222222222222,\"#7201a8\"],[0.3333333333333333,\"#9c179e\"],[0.4444444444444444,\"#bd3786\"],[0.5555555555555556,\"#d8576b\"],[0.6666666666666666,\"#ed7953\"],[0.7777777777777778,\"#fb9f3a\"],[0.8888888888888888,\"#fdca26\"],[1.0,\"#f0f921\"]],\"diverging\":[[0,\"#8e0152\"],[0.1,\"#c51b7d\"],[0.2,\"#de77ae\"],[0.3,\"#f1b6da\"],[0.4,\"#fde0ef\"],[0.5,\"#f7f7f7\"],[0.6,\"#e6f5d0\"],[0.7,\"#b8e186\"],[0.8,\"#7fbc41\"],[0.9,\"#4d9221\"],[1,\"#276419\"]]},\"xaxis\":{\"gridcolor\":\"white\",\"linecolor\":\"white\",\"ticks\":\"\",\"title\":{\"standoff\":15},\"zerolinecolor\":\"white\",\"automargin\":true,\"zerolinewidth\":2},\"yaxis\":{\"gridcolor\":\"white\",\"linecolor\":\"white\",\"ticks\":\"\",\"title\":{\"standoff\":15},\"zerolinecolor\":\"white\",\"automargin\":true,\"zerolinewidth\":2},\"scene\":{\"xaxis\":{\"backgroundcolor\":\"#E5ECF6\",\"gridcolor\":\"white\",\"linecolor\":\"white\",\"showbackground\":true,\"ticks\":\"\",\"zerolinecolor\":\"white\",\"gridwidth\":2},\"yaxis\":{\"backgroundcolor\":\"#E5ECF6\",\"gridcolor\":\"white\",\"linecolor\":\"white\",\"showbackground\":true,\"ticks\":\"\",\"zerolinecolor\":\"white\",\"gridwidth\":2},\"zaxis\":{\"backgroundcolor\":\"#E5ECF6\",\"gridcolor\":\"white\",\"linecolor\":\"white\",\"showbackground\":true,\"ticks\":\"\",\"zerolinecolor\":\"white\",\"gridwidth\":2}},\"shapedefaults\":{\"line\":{\"color\":\"#2a3f5f\"}},\"annotationdefaults\":{\"arrowcolor\":\"#2a3f5f\",\"arrowhead\":0,\"arrowwidth\":1},\"geo\":{\"bgcolor\":\"white\",\"landcolor\":\"#E5ECF6\",\"subunitcolor\":\"white\",\"showland\":true,\"showlakes\":true,\"lakecolor\":\"white\"},\"title\":{\"x\":0.05},\"mapbox\":{\"style\":\"light\"}}},\"xaxis\":{\"anchor\":\"y\",\"domain\":[0.0,0.49],\"title\":{\"text\":\"DATE\"}},\"yaxis\":{\"anchor\":\"x\",\"domain\":[0.0,1.0],\"title\":{\"text\":\"QTY_PEOPLE_SERVED\"}},\"xaxis2\":{\"anchor\":\"y2\",\"domain\":[0.51,1.0],\"matches\":\"x\",\"title\":{\"text\":\"DATE\"}},\"yaxis2\":{\"anchor\":\"x2\",\"domain\":[0.0,1.0],\"matches\":\"y\",\"showticklabels\":false},\"annotations\":[{\"font\":{},\"showarrow\":false,\"text\":\"SECTOR2=PRIVATE\",\"x\":0.245,\"xanchor\":\"center\",\"xref\":\"paper\",\"y\":1.0,\"yanchor\":\"bottom\",\"yref\":\"paper\"},{\"font\":{},\"showarrow\":false,\"text\":\"SECTOR2=PUBLIC\",\"x\":0.755,\"xanchor\":\"center\",\"xref\":\"paper\",\"y\":1.0,\"yanchor\":\"bottom\",\"yref\":\"paper\"}],\"legend\":{\"title\":{\"text\":\"DISEASE_GROUP\"},\"tracegroupgap\":0,\"yanchor\":\"top\",\"y\":-0.1,\"xanchor\":\"left\",\"x\":0},\"margin\":{\"t\":60},\"barmode\":\"stack\",\"height\":1000,\"width\":1000,\"showlegend\":true},                        {\"responsive\": true}                    ).then(function(){\n",
       "                            \n",
       "var gd = document.getElementById('c0c5d13b-a64a-4638-b81a-a6ba0e5b276d');\n",
       "var x = new MutationObserver(function (mutations, observer) {{\n",
       "        var display = window.getComputedStyle(gd).display;\n",
       "        if (!display || display === 'none') {{\n",
       "            console.log([gd, 'removed!']);\n",
       "            Plotly.purge(gd);\n",
       "            observer.disconnect();\n",
       "        }}\n",
       "}});\n",
       "\n",
       "// Listen for the removal of the full notebook cells\n",
       "var notebookContainer = gd.closest('#notebook-container');\n",
       "if (notebookContainer) {{\n",
       "    x.observe(notebookContainer, {childList: true});\n",
       "}}\n",
       "\n",
       "// Listen for the clearing of the current output cell\n",
       "var outputEl = gd.closest('.output');\n",
       "if (outputEl) {{\n",
       "    x.observe(outputEl, {childList: true});\n",
       "}}\n",
       "\n",
       "                        })                };                });            </script>        </div>"
      ]
     },
     "metadata": {},
     "output_type": "display_data"
    }
   ],
   "source": [
    "fig = px.bar(data_temp, \n",
    "             x=\"DATE\", \n",
    "             y=\"QTY_PEOPLE_SERVED\", \n",
    "             color=\"DISEASE_GROUP\", \n",
    "             barmode=\"stack\", \n",
    "             facet_col=\"SECTOR2\",\n",
    "             width=1000, height=1000,\n",
    "             color_discrete_map = dict_colors\n",
    "            )\n",
    "        \n",
    "#fig.update_layout(legend_traceorder=\"reversed\")\n",
    "\n",
    "fig.update_layout(legend=dict(yanchor=\"top\",\n",
    "                              y=-0.1,\n",
    "                              xanchor=\"left\",\n",
    "                              x=0\n",
    "                             ),\n",
    "                  showlegend=True\n",
    "                 )\n",
    "\n",
    "fig.show()\n",
    "fig.write_html(\"results/prueba_\"+CATEGORIA_STUDIO+\".html\")"
   ]
  },
  {
   "cell_type": "code",
   "execution_count": 195,
   "id": "6fd6f9c3",
   "metadata": {},
   "outputs": [
    {
     "data": {
      "text/plain": [
       "'#000080'"
      ]
     },
     "execution_count": 195,
     "metadata": {},
     "output_type": "execute_result"
    }
   ],
   "source": [
    "dict_colors['Abnormal clinical and laboratory symptoms, signs, and findings, not elsewhere classified']"
   ]
  },
  {
   "cell_type": "code",
   "execution_count": 196,
   "id": "6d131f6c",
   "metadata": {
    "scrolled": true
   },
   "outputs": [
    {
     "data": {
      "text/plain": [
       "'#0000b2'"
      ]
     },
     "execution_count": 196,
     "metadata": {},
     "output_type": "execute_result"
    }
   ],
   "source": [
    "dict_colors['Codes for special situations']"
   ]
  },
  {
   "cell_type": "markdown",
   "id": "3f694fa2",
   "metadata": {},
   "source": [
    "### Forecast"
   ]
  },
  {
   "cell_type": "code",
   "execution_count": 161,
   "id": "c351d01d",
   "metadata": {},
   "outputs": [],
   "source": [
    "import plotly.io as pio \n",
    "import plotly.graph_objects as go"
   ]
  },
  {
   "cell_type": "code",
   "execution_count": 162,
   "id": "93274a2e",
   "metadata": {},
   "outputs": [],
   "source": [
    "data_temp = all_data[all_data['CATEGORY2']==CATEGORIA_STUDIO]\n",
    "data_temp =  data_temp.groupby(['DATE', 'SECTOR2']).agg({ 'QTY_PEOPLE_SERVED': \"sum\"})\n",
    "data_temp = data_temp.reset_index()\n",
    "\n",
    "#data_temp['QTY_PEOPLE_SERVED'] =data_temp['QTY_PEOPLE_SERVED'].mask((data_temp['DATE'].dt.year==2018) & (data_temp['DATE'].dt.month==4),0)\n",
    "\n",
    "data_temp = data_temp.pivot_table(index=['DATE'], \n",
    "                                  columns=['SECTOR2'], \n",
    "                                  values='QTY_PEOPLE_SERVED').fillna(0)\n",
    "data_temp = data_temp.reset_index()"
   ]
  },
  {
   "cell_type": "code",
   "execution_count": 163,
   "id": "694a59b7",
   "metadata": {},
   "outputs": [],
   "source": [
    "private_max = data_temp['PRIVATE'].mean() + 1*data_temp['PRIVATE'].std()\n",
    "private_min = data_temp['PRIVATE'].mean() - 1*data_temp['PRIVATE'].std()\n",
    "\n",
    "data_temp['PRIVATE_PURE'] = data_temp['PRIVATE'].apply(lambda x :\n",
    "                                                       0 if (private_min>x or\n",
    "                                                             private_max<x)\n",
    "                                                       else x)\n",
    "\n",
    "public_max = data_temp['PUBLIC'].mean() + 1*data_temp['PUBLIC'].std()\n",
    "public_min = data_temp['PUBLIC'].mean() - 1*data_temp['PUBLIC'].std()\n",
    "\n",
    "data_temp['PUBLIC_PURE'] = data_temp['PUBLIC'].apply(lambda x :\n",
    "                                                       0 if (public_min>x or\n",
    "                                                             public_max<x)\n",
    "                                                       else x)\n",
    "\n"
   ]
  },
  {
   "cell_type": "raw",
   "id": "9119096a",
   "metadata": {},
   "source": [
    "plt.figure(figsize=(7,10))\n",
    "\n",
    "plt.subplot(2,1,1)\n",
    "sns.distplot(data_temp['PRIVATE_PURE'])\n",
    "plt.subplot(2,1,2)\n",
    "sns.distplot(data_temp['PUBLIC_PURE'])"
   ]
  },
  {
   "cell_type": "code",
   "execution_count": 164,
   "id": "d4068f0b",
   "metadata": {},
   "outputs": [
    {
     "data": {
      "text/html": [
       "<div>\n",
       "<style scoped>\n",
       "    .dataframe tbody tr th:only-of-type {\n",
       "        vertical-align: middle;\n",
       "    }\n",
       "\n",
       "    .dataframe tbody tr th {\n",
       "        vertical-align: top;\n",
       "    }\n",
       "\n",
       "    .dataframe thead th {\n",
       "        text-align: right;\n",
       "    }\n",
       "</style>\n",
       "<table border=\"1\" class=\"dataframe\">\n",
       "  <thead>\n",
       "    <tr style=\"text-align: right;\">\n",
       "      <th>SECTOR2</th>\n",
       "      <th>DATE</th>\n",
       "      <th>PRIVATE</th>\n",
       "      <th>PUBLIC</th>\n",
       "      <th>PRIVATE_PURE</th>\n",
       "      <th>PUBLIC_PURE</th>\n",
       "    </tr>\n",
       "  </thead>\n",
       "  <tbody>\n",
       "    <tr>\n",
       "      <th>27</th>\n",
       "      <td>2020-04-01</td>\n",
       "      <td>1126</td>\n",
       "      <td>859</td>\n",
       "      <td>1126</td>\n",
       "      <td>859</td>\n",
       "    </tr>\n",
       "    <tr>\n",
       "      <th>28</th>\n",
       "      <td>2020-05-01</td>\n",
       "      <td>2017</td>\n",
       "      <td>1720</td>\n",
       "      <td>2017</td>\n",
       "      <td>1720</td>\n",
       "    </tr>\n",
       "    <tr>\n",
       "      <th>29</th>\n",
       "      <td>2020-06-01</td>\n",
       "      <td>3533</td>\n",
       "      <td>2674</td>\n",
       "      <td>3533</td>\n",
       "      <td>2674</td>\n",
       "    </tr>\n",
       "    <tr>\n",
       "      <th>30</th>\n",
       "      <td>2020-07-01</td>\n",
       "      <td>9498</td>\n",
       "      <td>2720</td>\n",
       "      <td>9498</td>\n",
       "      <td>2720</td>\n",
       "    </tr>\n",
       "    <tr>\n",
       "      <th>31</th>\n",
       "      <td>2020-08-01</td>\n",
       "      <td>10421</td>\n",
       "      <td>4952</td>\n",
       "      <td>10421</td>\n",
       "      <td>4952</td>\n",
       "    </tr>\n",
       "  </tbody>\n",
       "</table>\n",
       "</div>"
      ],
      "text/plain": [
       "SECTOR2       DATE  PRIVATE  PUBLIC  PRIVATE_PURE  PUBLIC_PURE\n",
       "27      2020-04-01     1126     859          1126          859\n",
       "28      2020-05-01     2017    1720          2017         1720\n",
       "29      2020-06-01     3533    2674          3533         2674\n",
       "30      2020-07-01     9498    2720          9498         2720\n",
       "31      2020-08-01    10421    4952         10421         4952"
      ]
     },
     "execution_count": 164,
     "metadata": {},
     "output_type": "execute_result"
    }
   ],
   "source": [
    "post_pandemic_df = data_temp[(data_temp['DATE'] > '2020-03')]\n",
    "post_pandemic_df.head()"
   ]
  },
  {
   "cell_type": "markdown",
   "id": "88032914",
   "metadata": {},
   "source": [
    "#### PRIVATE"
   ]
  },
  {
   "cell_type": "code",
   "execution_count": 165,
   "id": "66ac9d9f",
   "metadata": {},
   "outputs": [
    {
     "data": {
      "text/plain": [
       "<AxesSubplot:>"
      ]
     },
     "execution_count": 165,
     "metadata": {},
     "output_type": "execute_result"
    },
    {
     "data": {
      "image/png": "[encoded data removed]",
      "text/plain": [
       "<Figure size 576x396 with 1 Axes>"
      ]
     },
     "metadata": {},
     "output_type": "display_data"
    }
   ],
   "source": [
    "index = post_pandemic_df['DATE'].values\n",
    "data_to = post_pandemic_df['PRIVATE'].values\n",
    "df_series = pd.Series(data = data_to, index = index)\n",
    "df_series.plot()"
   ]
  },
  {
   "cell_type": "code",
   "execution_count": 166,
   "id": "37af6e2f",
   "metadata": {},
   "outputs": [
    {
     "data": {
      "text/html": [
       "<style type=\"text/css\">\n",
       "#T_14fdc_row19_col1 {\n",
       "  background-color: lightgreen;\n",
       "}\n",
       "</style>\n",
       "<table id=\"T_14fdc\">\n",
       "  <thead>\n",
       "    <tr>\n",
       "      <th class=\"blank level0\" >&nbsp;</th>\n",
       "      <th id=\"T_14fdc_level0_col0\" class=\"col_heading level0 col0\" >Description</th>\n",
       "      <th id=\"T_14fdc_level0_col1\" class=\"col_heading level0 col1\" >Value</th>\n",
       "    </tr>\n",
       "  </thead>\n",
       "  <tbody>\n",
       "    <tr>\n",
       "      <th id=\"T_14fdc_level0_row0\" class=\"row_heading level0 row0\" >0</th>\n",
       "      <td id=\"T_14fdc_row0_col0\" class=\"data row0 col0\" >session_id</td>\n",
       "      <td id=\"T_14fdc_row0_col1\" class=\"data row0 col1\" >7686</td>\n",
       "    </tr>\n",
       "    <tr>\n",
       "      <th id=\"T_14fdc_level0_row1\" class=\"row_heading level0 row1\" >1</th>\n",
       "      <td id=\"T_14fdc_row1_col0\" class=\"data row1 col0\" >Target</td>\n",
       "      <td id=\"T_14fdc_row1_col1\" class=\"data row1 col1\" >Time Series</td>\n",
       "    </tr>\n",
       "    <tr>\n",
       "      <th id=\"T_14fdc_level0_row2\" class=\"row_heading level0 row2\" >2</th>\n",
       "      <td id=\"T_14fdc_row2_col0\" class=\"data row2 col0\" >Approach</td>\n",
       "      <td id=\"T_14fdc_row2_col1\" class=\"data row2 col1\" >Univariate</td>\n",
       "    </tr>\n",
       "    <tr>\n",
       "      <th id=\"T_14fdc_level0_row3\" class=\"row_heading level0 row3\" >3</th>\n",
       "      <td id=\"T_14fdc_row3_col0\" class=\"data row3 col0\" >Exogenous Variables</td>\n",
       "      <td id=\"T_14fdc_row3_col1\" class=\"data row3 col1\" >Not Present</td>\n",
       "    </tr>\n",
       "    <tr>\n",
       "      <th id=\"T_14fdc_level0_row4\" class=\"row_heading level0 row4\" >4</th>\n",
       "      <td id=\"T_14fdc_row4_col0\" class=\"data row4 col0\" >Data shape</td>\n",
       "      <td id=\"T_14fdc_row4_col1\" class=\"data row4 col1\" >(21, 1)</td>\n",
       "    </tr>\n",
       "    <tr>\n",
       "      <th id=\"T_14fdc_level0_row5\" class=\"row_heading level0 row5\" >5</th>\n",
       "      <td id=\"T_14fdc_row5_col0\" class=\"data row5 col0\" >Train data shape</td>\n",
       "      <td id=\"T_14fdc_row5_col1\" class=\"data row5 col1\" >(20, 1)</td>\n",
       "    </tr>\n",
       "    <tr>\n",
       "      <th id=\"T_14fdc_level0_row6\" class=\"row_heading level0 row6\" >6</th>\n",
       "      <td id=\"T_14fdc_row6_col0\" class=\"data row6 col0\" >Test data shape</td>\n",
       "      <td id=\"T_14fdc_row6_col1\" class=\"data row6 col1\" >(1, 1)</td>\n",
       "    </tr>\n",
       "    <tr>\n",
       "      <th id=\"T_14fdc_level0_row7\" class=\"row_heading level0 row7\" >7</th>\n",
       "      <td id=\"T_14fdc_row7_col0\" class=\"data row7 col0\" >Fold Generator</td>\n",
       "      <td id=\"T_14fdc_row7_col1\" class=\"data row7 col1\" >ExpandingWindowSplitter</td>\n",
       "    </tr>\n",
       "    <tr>\n",
       "      <th id=\"T_14fdc_level0_row8\" class=\"row_heading level0 row8\" >8</th>\n",
       "      <td id=\"T_14fdc_row8_col0\" class=\"data row8 col0\" >Fold Number</td>\n",
       "      <td id=\"T_14fdc_row8_col1\" class=\"data row8 col1\" >3</td>\n",
       "    </tr>\n",
       "    <tr>\n",
       "      <th id=\"T_14fdc_level0_row9\" class=\"row_heading level0 row9\" >9</th>\n",
       "      <td id=\"T_14fdc_row9_col0\" class=\"data row9 col0\" >Enforce Prediction Interval</td>\n",
       "      <td id=\"T_14fdc_row9_col1\" class=\"data row9 col1\" >False</td>\n",
       "    </tr>\n",
       "    <tr>\n",
       "      <th id=\"T_14fdc_level0_row10\" class=\"row_heading level0 row10\" >10</th>\n",
       "      <td id=\"T_14fdc_row10_col0\" class=\"data row10 col0\" >Seasonal Period(s) Tested</td>\n",
       "      <td id=\"T_14fdc_row10_col1\" class=\"data row10 col1\" >12</td>\n",
       "    </tr>\n",
       "    <tr>\n",
       "      <th id=\"T_14fdc_level0_row11\" class=\"row_heading level0 row11\" >11</th>\n",
       "      <td id=\"T_14fdc_row11_col0\" class=\"data row11 col0\" >Seasonality Present</td>\n",
       "      <td id=\"T_14fdc_row11_col1\" class=\"data row11 col1\" >False</td>\n",
       "    </tr>\n",
       "    <tr>\n",
       "      <th id=\"T_14fdc_level0_row12\" class=\"row_heading level0 row12\" >12</th>\n",
       "      <td id=\"T_14fdc_row12_col0\" class=\"data row12 col0\" >Seasonalities Detected</td>\n",
       "      <td id=\"T_14fdc_row12_col1\" class=\"data row12 col1\" >[1]</td>\n",
       "    </tr>\n",
       "    <tr>\n",
       "      <th id=\"T_14fdc_level0_row13\" class=\"row_heading level0 row13\" >13</th>\n",
       "      <td id=\"T_14fdc_row13_col0\" class=\"data row13 col0\" >Primary Seasonality</td>\n",
       "      <td id=\"T_14fdc_row13_col1\" class=\"data row13 col1\" >1</td>\n",
       "    </tr>\n",
       "    <tr>\n",
       "      <th id=\"T_14fdc_level0_row14\" class=\"row_heading level0 row14\" >14</th>\n",
       "      <td id=\"T_14fdc_row14_col0\" class=\"data row14 col0\" >Target Strictly Positive</td>\n",
       "      <td id=\"T_14fdc_row14_col1\" class=\"data row14 col1\" >True</td>\n",
       "    </tr>\n",
       "    <tr>\n",
       "      <th id=\"T_14fdc_level0_row15\" class=\"row_heading level0 row15\" >15</th>\n",
       "      <td id=\"T_14fdc_row15_col0\" class=\"data row15 col0\" >Target White Noise</td>\n",
       "      <td id=\"T_14fdc_row15_col1\" class=\"data row15 col1\" >No</td>\n",
       "    </tr>\n",
       "    <tr>\n",
       "      <th id=\"T_14fdc_level0_row16\" class=\"row_heading level0 row16\" >16</th>\n",
       "      <td id=\"T_14fdc_row16_col0\" class=\"data row16 col0\" >Recommended d</td>\n",
       "      <td id=\"T_14fdc_row16_col1\" class=\"data row16 col1\" >1</td>\n",
       "    </tr>\n",
       "    <tr>\n",
       "      <th id=\"T_14fdc_level0_row17\" class=\"row_heading level0 row17\" >17</th>\n",
       "      <td id=\"T_14fdc_row17_col0\" class=\"data row17 col0\" >Recommended Seasonal D</td>\n",
       "      <td id=\"T_14fdc_row17_col1\" class=\"data row17 col1\" >0</td>\n",
       "    </tr>\n",
       "    <tr>\n",
       "      <th id=\"T_14fdc_level0_row18\" class=\"row_heading level0 row18\" >18</th>\n",
       "      <td id=\"T_14fdc_row18_col0\" class=\"data row18 col0\" >Missing Values</td>\n",
       "      <td id=\"T_14fdc_row18_col1\" class=\"data row18 col1\" >0</td>\n",
       "    </tr>\n",
       "    <tr>\n",
       "      <th id=\"T_14fdc_level0_row19\" class=\"row_heading level0 row19\" >19</th>\n",
       "      <td id=\"T_14fdc_row19_col0\" class=\"data row19 col0\" >Preprocess</td>\n",
       "      <td id=\"T_14fdc_row19_col1\" class=\"data row19 col1\" >True</td>\n",
       "    </tr>\n",
       "    <tr>\n",
       "      <th id=\"T_14fdc_level0_row20\" class=\"row_heading level0 row20\" >20</th>\n",
       "      <td id=\"T_14fdc_row20_col0\" class=\"data row20 col0\" >CPU Jobs</td>\n",
       "      <td id=\"T_14fdc_row20_col1\" class=\"data row20 col1\" >-1</td>\n",
       "    </tr>\n",
       "    <tr>\n",
       "      <th id=\"T_14fdc_level0_row21\" class=\"row_heading level0 row21\" >21</th>\n",
       "      <td id=\"T_14fdc_row21_col0\" class=\"data row21 col0\" >Use GPU</td>\n",
       "      <td id=\"T_14fdc_row21_col1\" class=\"data row21 col1\" >False</td>\n",
       "    </tr>\n",
       "    <tr>\n",
       "      <th id=\"T_14fdc_level0_row22\" class=\"row_heading level0 row22\" >22</th>\n",
       "      <td id=\"T_14fdc_row22_col0\" class=\"data row22 col0\" >Log Experiment</td>\n",
       "      <td id=\"T_14fdc_row22_col1\" class=\"data row22 col1\" >False</td>\n",
       "    </tr>\n",
       "    <tr>\n",
       "      <th id=\"T_14fdc_level0_row23\" class=\"row_heading level0 row23\" >23</th>\n",
       "      <td id=\"T_14fdc_row23_col0\" class=\"data row23 col0\" >Experiment Name</td>\n",
       "      <td id=\"T_14fdc_row23_col1\" class=\"data row23 col1\" >ts-default-name</td>\n",
       "    </tr>\n",
       "    <tr>\n",
       "      <th id=\"T_14fdc_level0_row24\" class=\"row_heading level0 row24\" >24</th>\n",
       "      <td id=\"T_14fdc_row24_col0\" class=\"data row24 col0\" >USI</td>\n",
       "      <td id=\"T_14fdc_row24_col1\" class=\"data row24 col1\" >3cb2</td>\n",
       "    </tr>\n",
       "  </tbody>\n",
       "</table>\n"
      ],
      "text/plain": [
       "<pandas.io.formats.style.Styler at 0x2c7a4623820>"
      ]
     },
     "metadata": {},
     "output_type": "display_data"
    },
    {
     "data": {
      "image/png": "[encoded data removed]"
     },
     "metadata": {},
     "output_type": "display_data"
    }
   ],
   "source": [
    "from pycaret.time_series import *\n",
    "setup(data=df_series)\n",
    "\n",
    "plot_model(plot = 'diagnostics', \n",
    "           fig_kwargs={'renderer': 'png'})"
   ]
  },
  {
   "cell_type": "code",
   "execution_count": 167,
   "id": "45ce7091",
   "metadata": {
    "scrolled": false
   },
   "outputs": [
    {
     "data": {
      "text/plain": [
       "NaiveForecaster()"
      ]
     },
     "execution_count": 167,
     "metadata": {},
     "output_type": "execute_result"
    }
   ],
   "source": [
    "best_baseline_models = compare_models(sort='MAE', errors = 'raise', verbose =False) # Media absolute error\n",
    "best_baseline_models"
   ]
  },
  {
   "cell_type": "code",
   "execution_count": null,
   "id": "47353d25",
   "metadata": {},
   "outputs": [],
   "source": [
    "#best_baseline_models = 'auto_arima'\n",
    "the_model = create_model('auto_arima')\n",
    "print(the_model)\n",
    "\n",
    "tuned_model= tune_model(the_model)\n",
    "print(tuned_model)"
   ]
  },
  {
   "cell_type": "code",
   "execution_count": null,
   "id": "9cb2c006",
   "metadata": {
    "scrolled": false
   },
   "outputs": [],
   "source": [
    "#final_best = finalize_model(best_baseline_models)\n",
    "final_best = finalize_model(the_model)\n",
    "predict_model(final_best, fh = 5)\n",
    "\n",
    "plot_model(the_model, \n",
    "           plot = 'forecast', \n",
    "           data_kwargs = {'fh' : 5}, \n",
    "           fig_kwargs={'renderer': 'png'})"
   ]
  },
  {
   "cell_type": "markdown",
   "id": "bfb8317a",
   "metadata": {},
   "source": [
    "#### PUBLIC"
   ]
  },
  {
   "cell_type": "code",
   "execution_count": null,
   "id": "97ab3d07",
   "metadata": {
    "scrolled": false
   },
   "outputs": [],
   "source": [
    "index = post_pandemic_df['DATE'].values\n",
    "data_to = post_pandemic_df['PUBLIC'].values\n",
    "df_series = pd.Series(data = data_to, index = index)\n",
    "df_series.plot()"
   ]
  },
  {
   "cell_type": "code",
   "execution_count": 143,
   "id": "2b4003f6",
   "metadata": {
    "scrolled": true
   },
   "outputs": [
    {
     "data": {
      "text/html": [
       "<style type=\"text/css\">\n",
       "#T_f3af6_row19_col1 {\n",
       "  background-color: lightgreen;\n",
       "}\n",
       "</style>\n",
       "<table id=\"T_f3af6\">\n",
       "  <thead>\n",
       "    <tr>\n",
       "      <th class=\"blank level0\" >&nbsp;</th>\n",
       "      <th id=\"T_f3af6_level0_col0\" class=\"col_heading level0 col0\" >Description</th>\n",
       "      <th id=\"T_f3af6_level0_col1\" class=\"col_heading level0 col1\" >Value</th>\n",
       "    </tr>\n",
       "  </thead>\n",
       "  <tbody>\n",
       "    <tr>\n",
       "      <th id=\"T_f3af6_level0_row0\" class=\"row_heading level0 row0\" >0</th>\n",
       "      <td id=\"T_f3af6_row0_col0\" class=\"data row0 col0\" >session_id</td>\n",
       "      <td id=\"T_f3af6_row0_col1\" class=\"data row0 col1\" >1480</td>\n",
       "    </tr>\n",
       "    <tr>\n",
       "      <th id=\"T_f3af6_level0_row1\" class=\"row_heading level0 row1\" >1</th>\n",
       "      <td id=\"T_f3af6_row1_col0\" class=\"data row1 col0\" >Target</td>\n",
       "      <td id=\"T_f3af6_row1_col1\" class=\"data row1 col1\" >Time Series</td>\n",
       "    </tr>\n",
       "    <tr>\n",
       "      <th id=\"T_f3af6_level0_row2\" class=\"row_heading level0 row2\" >2</th>\n",
       "      <td id=\"T_f3af6_row2_col0\" class=\"data row2 col0\" >Approach</td>\n",
       "      <td id=\"T_f3af6_row2_col1\" class=\"data row2 col1\" >Univariate</td>\n",
       "    </tr>\n",
       "    <tr>\n",
       "      <th id=\"T_f3af6_level0_row3\" class=\"row_heading level0 row3\" >3</th>\n",
       "      <td id=\"T_f3af6_row3_col0\" class=\"data row3 col0\" >Exogenous Variables</td>\n",
       "      <td id=\"T_f3af6_row3_col1\" class=\"data row3 col1\" >Not Present</td>\n",
       "    </tr>\n",
       "    <tr>\n",
       "      <th id=\"T_f3af6_level0_row4\" class=\"row_heading level0 row4\" >4</th>\n",
       "      <td id=\"T_f3af6_row4_col0\" class=\"data row4 col0\" >Data shape</td>\n",
       "      <td id=\"T_f3af6_row4_col1\" class=\"data row4 col1\" >(21, 1)</td>\n",
       "    </tr>\n",
       "    <tr>\n",
       "      <th id=\"T_f3af6_level0_row5\" class=\"row_heading level0 row5\" >5</th>\n",
       "      <td id=\"T_f3af6_row5_col0\" class=\"data row5 col0\" >Train data shape</td>\n",
       "      <td id=\"T_f3af6_row5_col1\" class=\"data row5 col1\" >(20, 1)</td>\n",
       "    </tr>\n",
       "    <tr>\n",
       "      <th id=\"T_f3af6_level0_row6\" class=\"row_heading level0 row6\" >6</th>\n",
       "      <td id=\"T_f3af6_row6_col0\" class=\"data row6 col0\" >Test data shape</td>\n",
       "      <td id=\"T_f3af6_row6_col1\" class=\"data row6 col1\" >(1, 1)</td>\n",
       "    </tr>\n",
       "    <tr>\n",
       "      <th id=\"T_f3af6_level0_row7\" class=\"row_heading level0 row7\" >7</th>\n",
       "      <td id=\"T_f3af6_row7_col0\" class=\"data row7 col0\" >Fold Generator</td>\n",
       "      <td id=\"T_f3af6_row7_col1\" class=\"data row7 col1\" >ExpandingWindowSplitter</td>\n",
       "    </tr>\n",
       "    <tr>\n",
       "      <th id=\"T_f3af6_level0_row8\" class=\"row_heading level0 row8\" >8</th>\n",
       "      <td id=\"T_f3af6_row8_col0\" class=\"data row8 col0\" >Fold Number</td>\n",
       "      <td id=\"T_f3af6_row8_col1\" class=\"data row8 col1\" >3</td>\n",
       "    </tr>\n",
       "    <tr>\n",
       "      <th id=\"T_f3af6_level0_row9\" class=\"row_heading level0 row9\" >9</th>\n",
       "      <td id=\"T_f3af6_row9_col0\" class=\"data row9 col0\" >Enforce Prediction Interval</td>\n",
       "      <td id=\"T_f3af6_row9_col1\" class=\"data row9 col1\" >False</td>\n",
       "    </tr>\n",
       "    <tr>\n",
       "      <th id=\"T_f3af6_level0_row10\" class=\"row_heading level0 row10\" >10</th>\n",
       "      <td id=\"T_f3af6_row10_col0\" class=\"data row10 col0\" >Seasonal Period(s) Tested</td>\n",
       "      <td id=\"T_f3af6_row10_col1\" class=\"data row10 col1\" >12</td>\n",
       "    </tr>\n",
       "    <tr>\n",
       "      <th id=\"T_f3af6_level0_row11\" class=\"row_heading level0 row11\" >11</th>\n",
       "      <td id=\"T_f3af6_row11_col0\" class=\"data row11 col0\" >Seasonality Present</td>\n",
       "      <td id=\"T_f3af6_row11_col1\" class=\"data row11 col1\" >False</td>\n",
       "    </tr>\n",
       "    <tr>\n",
       "      <th id=\"T_f3af6_level0_row12\" class=\"row_heading level0 row12\" >12</th>\n",
       "      <td id=\"T_f3af6_row12_col0\" class=\"data row12 col0\" >Seasonalities Detected</td>\n",
       "      <td id=\"T_f3af6_row12_col1\" class=\"data row12 col1\" >[1]</td>\n",
       "    </tr>\n",
       "    <tr>\n",
       "      <th id=\"T_f3af6_level0_row13\" class=\"row_heading level0 row13\" >13</th>\n",
       "      <td id=\"T_f3af6_row13_col0\" class=\"data row13 col0\" >Primary Seasonality</td>\n",
       "      <td id=\"T_f3af6_row13_col1\" class=\"data row13 col1\" >1</td>\n",
       "    </tr>\n",
       "    <tr>\n",
       "      <th id=\"T_f3af6_level0_row14\" class=\"row_heading level0 row14\" >14</th>\n",
       "      <td id=\"T_f3af6_row14_col0\" class=\"data row14 col0\" >Target Strictly Positive</td>\n",
       "      <td id=\"T_f3af6_row14_col1\" class=\"data row14 col1\" >True</td>\n",
       "    </tr>\n",
       "    <tr>\n",
       "      <th id=\"T_f3af6_level0_row15\" class=\"row_heading level0 row15\" >15</th>\n",
       "      <td id=\"T_f3af6_row15_col0\" class=\"data row15 col0\" >Target White Noise</td>\n",
       "      <td id=\"T_f3af6_row15_col1\" class=\"data row15 col1\" >No</td>\n",
       "    </tr>\n",
       "    <tr>\n",
       "      <th id=\"T_f3af6_level0_row16\" class=\"row_heading level0 row16\" >16</th>\n",
       "      <td id=\"T_f3af6_row16_col0\" class=\"data row16 col0\" >Recommended d</td>\n",
       "      <td id=\"T_f3af6_row16_col1\" class=\"data row16 col1\" >1</td>\n",
       "    </tr>\n",
       "    <tr>\n",
       "      <th id=\"T_f3af6_level0_row17\" class=\"row_heading level0 row17\" >17</th>\n",
       "      <td id=\"T_f3af6_row17_col0\" class=\"data row17 col0\" >Recommended Seasonal D</td>\n",
       "      <td id=\"T_f3af6_row17_col1\" class=\"data row17 col1\" >0</td>\n",
       "    </tr>\n",
       "    <tr>\n",
       "      <th id=\"T_f3af6_level0_row18\" class=\"row_heading level0 row18\" >18</th>\n",
       "      <td id=\"T_f3af6_row18_col0\" class=\"data row18 col0\" >Missing Values</td>\n",
       "      <td id=\"T_f3af6_row18_col1\" class=\"data row18 col1\" >0</td>\n",
       "    </tr>\n",
       "    <tr>\n",
       "      <th id=\"T_f3af6_level0_row19\" class=\"row_heading level0 row19\" >19</th>\n",
       "      <td id=\"T_f3af6_row19_col0\" class=\"data row19 col0\" >Preprocess</td>\n",
       "      <td id=\"T_f3af6_row19_col1\" class=\"data row19 col1\" >True</td>\n",
       "    </tr>\n",
       "    <tr>\n",
       "      <th id=\"T_f3af6_level0_row20\" class=\"row_heading level0 row20\" >20</th>\n",
       "      <td id=\"T_f3af6_row20_col0\" class=\"data row20 col0\" >CPU Jobs</td>\n",
       "      <td id=\"T_f3af6_row20_col1\" class=\"data row20 col1\" >-1</td>\n",
       "    </tr>\n",
       "    <tr>\n",
       "      <th id=\"T_f3af6_level0_row21\" class=\"row_heading level0 row21\" >21</th>\n",
       "      <td id=\"T_f3af6_row21_col0\" class=\"data row21 col0\" >Use GPU</td>\n",
       "      <td id=\"T_f3af6_row21_col1\" class=\"data row21 col1\" >False</td>\n",
       "    </tr>\n",
       "    <tr>\n",
       "      <th id=\"T_f3af6_level0_row22\" class=\"row_heading level0 row22\" >22</th>\n",
       "      <td id=\"T_f3af6_row22_col0\" class=\"data row22 col0\" >Log Experiment</td>\n",
       "      <td id=\"T_f3af6_row22_col1\" class=\"data row22 col1\" >False</td>\n",
       "    </tr>\n",
       "    <tr>\n",
       "      <th id=\"T_f3af6_level0_row23\" class=\"row_heading level0 row23\" >23</th>\n",
       "      <td id=\"T_f3af6_row23_col0\" class=\"data row23 col0\" >Experiment Name</td>\n",
       "      <td id=\"T_f3af6_row23_col1\" class=\"data row23 col1\" >ts-default-name</td>\n",
       "    </tr>\n",
       "    <tr>\n",
       "      <th id=\"T_f3af6_level0_row24\" class=\"row_heading level0 row24\" >24</th>\n",
       "      <td id=\"T_f3af6_row24_col0\" class=\"data row24 col0\" >USI</td>\n",
       "      <td id=\"T_f3af6_row24_col1\" class=\"data row24 col1\" >b26a</td>\n",
       "    </tr>\n",
       "  </tbody>\n",
       "</table>\n"
      ],
      "text/plain": [
       "<pandas.io.formats.style.Styler at 0x2c7a49f5940>"
      ]
     },
     "metadata": {},
     "output_type": "display_data"
    },
    {
     "data": {
      "image/png": "[encoded data removed]"
     },
     "metadata": {},
     "output_type": "display_data"
    }
   ],
   "source": [
    "from pycaret.time_series import *\n",
    "setup(data=df_series)\n",
    "\n",
    "plot_model(plot = 'diagnostics', \n",
    "           fig_kwargs={'renderer': 'png'})"
   ]
  },
  {
   "cell_type": "code",
   "execution_count": 144,
   "id": "8c2ae026",
   "metadata": {
    "scrolled": false
   },
   "outputs": [
    {
     "data": {
      "text/plain": [
       "BaseCdsDtForecaster(regressor=LGBMRegressor(random_state=1480), window_length=1)"
      ]
     },
     "execution_count": 144,
     "metadata": {},
     "output_type": "execute_result"
    }
   ],
   "source": [
    "best_baseline_models = compare_models(sort='MAE', errors = 'raise', verbose =False) # Media absolute error\n",
    "best_baseline_models"
   ]
  },
  {
   "cell_type": "code",
   "execution_count": 145,
   "id": "3d926f4c",
   "metadata": {
    "scrolled": true
   },
   "outputs": [
    {
     "data": {
      "text/html": [
       "<style type=\"text/css\">\n",
       "#T_15f1c_row3_col0, #T_15f1c_row3_col1, #T_15f1c_row3_col2, #T_15f1c_row3_col3, #T_15f1c_row3_col4, #T_15f1c_row3_col5, #T_15f1c_row3_col6 {\n",
       "  background: yellow;\n",
       "}\n",
       "</style>\n",
       "<table id=\"T_15f1c\">\n",
       "  <thead>\n",
       "    <tr>\n",
       "      <th class=\"blank level0\" >&nbsp;</th>\n",
       "      <th id=\"T_15f1c_level0_col0\" class=\"col_heading level0 col0\" >cutoff</th>\n",
       "      <th id=\"T_15f1c_level0_col1\" class=\"col_heading level0 col1\" >MAE</th>\n",
       "      <th id=\"T_15f1c_level0_col2\" class=\"col_heading level0 col2\" >RMSE</th>\n",
       "      <th id=\"T_15f1c_level0_col3\" class=\"col_heading level0 col3\" >MAPE</th>\n",
       "      <th id=\"T_15f1c_level0_col4\" class=\"col_heading level0 col4\" >SMAPE</th>\n",
       "      <th id=\"T_15f1c_level0_col5\" class=\"col_heading level0 col5\" >MASE</th>\n",
       "      <th id=\"T_15f1c_level0_col6\" class=\"col_heading level0 col6\" >RMSSE</th>\n",
       "    </tr>\n",
       "  </thead>\n",
       "  <tbody>\n",
       "    <tr>\n",
       "      <th id=\"T_15f1c_level0_row0\" class=\"row_heading level0 row0\" >0</th>\n",
       "      <td id=\"T_15f1c_row0_col0\" class=\"data row0 col0\" >2021-08</td>\n",
       "      <td id=\"T_15f1c_row0_col1\" class=\"data row0 col1\" >19007.1251</td>\n",
       "      <td id=\"T_15f1c_row0_col2\" class=\"data row0 col2\" >19007.1251</td>\n",
       "      <td id=\"T_15f1c_row0_col3\" class=\"data row0 col3\" >0.1468</td>\n",
       "      <td id=\"T_15f1c_row0_col4\" class=\"data row0 col4\" >0.1584</td>\n",
       "      <td id=\"T_15f1c_row0_col5\" class=\"data row0 col5\" >2.6415</td>\n",
       "      <td id=\"T_15f1c_row0_col6\" class=\"data row0 col6\" >2.1049</td>\n",
       "    </tr>\n",
       "    <tr>\n",
       "      <th id=\"T_15f1c_level0_row1\" class=\"row_heading level0 row1\" >1</th>\n",
       "      <td id=\"T_15f1c_row1_col0\" class=\"data row1 col0\" >2021-09</td>\n",
       "      <td id=\"T_15f1c_row1_col1\" class=\"data row1 col1\" >30914.8329</td>\n",
       "      <td id=\"T_15f1c_row1_col2\" class=\"data row1 col2\" >30914.8329</td>\n",
       "      <td id=\"T_15f1c_row1_col3\" class=\"data row1 col3\" >0.2062</td>\n",
       "      <td id=\"T_15f1c_row1_col4\" class=\"data row1 col4\" >0.2299</td>\n",
       "      <td id=\"T_15f1c_row1_col5\" class=\"data row1 col5\" >3.7138</td>\n",
       "      <td id=\"T_15f1c_row1_col6\" class=\"data row1 col6\" >2.8497</td>\n",
       "    </tr>\n",
       "    <tr>\n",
       "      <th id=\"T_15f1c_level0_row2\" class=\"row_heading level0 row2\" >2</th>\n",
       "      <td id=\"T_15f1c_row2_col0\" class=\"data row2 col0\" >2021-10</td>\n",
       "      <td id=\"T_15f1c_row2_col1\" class=\"data row2 col1\" >9393.7500</td>\n",
       "      <td id=\"T_15f1c_row2_col2\" class=\"data row2 col2\" >9393.7500</td>\n",
       "      <td id=\"T_15f1c_row2_col3\" class=\"data row2 col3\" >0.0778</td>\n",
       "      <td id=\"T_15f1c_row2_col4\" class=\"data row2 col4\" >0.0749</td>\n",
       "      <td id=\"T_15f1c_row2_col5\" class=\"data row2 col5\" >1.0440</td>\n",
       "      <td id=\"T_15f1c_row2_col6\" class=\"data row2 col6\" >0.8103</td>\n",
       "    </tr>\n",
       "    <tr>\n",
       "      <th id=\"T_15f1c_level0_row3\" class=\"row_heading level0 row3\" >Mean</th>\n",
       "      <td id=\"T_15f1c_row3_col0\" class=\"data row3 col0\" >nan</td>\n",
       "      <td id=\"T_15f1c_row3_col1\" class=\"data row3 col1\" >19771.9027</td>\n",
       "      <td id=\"T_15f1c_row3_col2\" class=\"data row3 col2\" >19771.9027</td>\n",
       "      <td id=\"T_15f1c_row3_col3\" class=\"data row3 col3\" >0.1436</td>\n",
       "      <td id=\"T_15f1c_row3_col4\" class=\"data row3 col4\" >0.1544</td>\n",
       "      <td id=\"T_15f1c_row3_col5\" class=\"data row3 col5\" >2.4664</td>\n",
       "      <td id=\"T_15f1c_row3_col6\" class=\"data row3 col6\" >1.9216</td>\n",
       "    </tr>\n",
       "    <tr>\n",
       "      <th id=\"T_15f1c_level0_row4\" class=\"row_heading level0 row4\" >SD</th>\n",
       "      <td id=\"T_15f1c_row4_col0\" class=\"data row4 col0\" >nan</td>\n",
       "      <td id=\"T_15f1c_row4_col1\" class=\"data row4 col1\" >8802.5722</td>\n",
       "      <td id=\"T_15f1c_row4_col2\" class=\"data row4 col2\" >8802.5722</td>\n",
       "      <td id=\"T_15f1c_row4_col3\" class=\"data row4 col3\" >0.0525</td>\n",
       "      <td id=\"T_15f1c_row4_col4\" class=\"data row4 col4\" >0.0633</td>\n",
       "      <td id=\"T_15f1c_row4_col5\" class=\"data row4 col5\" >1.0970</td>\n",
       "      <td id=\"T_15f1c_row4_col6\" class=\"data row4 col6\" >0.8426</td>\n",
       "    </tr>\n",
       "  </tbody>\n",
       "</table>\n"
      ],
      "text/plain": [
       "<pandas.io.formats.style.Styler at 0x2c7a4aae1f0>"
      ]
     },
     "metadata": {},
     "output_type": "display_data"
    },
    {
     "name": "stdout",
     "output_type": "stream",
     "text": [
      "BaseCdsDtForecaster(regressor=LGBMRegressor(random_state=1480), window_length=1)\n"
     ]
    }
   ],
   "source": [
    "#best_baseline_models = 'auto_arima'\n",
    "the_model = create_model(best_baseline_models)\n",
    "print(the_model)\n",
    "\n",
    "tuned_model= tune_model(the_model)\n",
    "print(tuned_model)"
   ]
  },
  {
   "cell_type": "code",
   "execution_count": 146,
   "id": "f735c267",
   "metadata": {
    "scrolled": false
   },
   "outputs": [
    {
     "data": {
      "image/png": "[encoded data removed]"
     },
     "metadata": {},
     "output_type": "display_data"
    }
   ],
   "source": [
    "final_best = finalize_model(best_baseline_models)\n",
    "final_best = finalize_model(the_model)\n",
    "predict_model(final_best, fh = 5)\n",
    "\n",
    "plot_model(the_model, \n",
    "           plot = 'forecast', \n",
    "           data_kwargs = {'fh' : 5}, \n",
    "           fig_kwargs={'renderer': 'png'})"
   ]
  },
  {
   "cell_type": "code",
   "execution_count": null,
   "id": "a3648d9f",
   "metadata": {},
   "outputs": [],
   "source": []
  }
 ],
 "metadata": {
  "kernelspec": {
   "display_name": "Python 3 (ipykernel)",
   "language": "python",
   "name": "python3"
  },
  "language_info": {
   "codemirror_mode": {
    "name": "ipython",
    "version": 3
   },
   "file_extension": ".py",
   "mimetype": "text/x-python",
   "name": "python",
   "nbconvert_exporter": "python",
   "pygments_lexer": "ipython3",
   "version": "3.8.13"
  }
 },
 "nbformat": 4,
 "nbformat_minor": 5
}
