{
 "cells": [
  {
   "cell_type": "code",
   "execution_count": 1,
   "id": "45d9ab60-73f5-4146-9ed8-ef7da600d9db",
   "metadata": {},
   "outputs": [],
   "source": [
    "import pandas as pd\n",
    "import numpy as np\n",
    "import glob\n",
    "from tqdm import tqdm, trange\n",
    "#import pickle5 as pickle\n",
    "\n",
    "\n",
    "# import matplotlib\n",
    "# import matplotlib.pyplot as plt\n",
    "# from matplotlib.pyplot import cm\n",
    "import plotly.express as px\n",
    "from difflib import SequenceMatcher\n",
    "import seaborn as sns"
   ]
  },
  {
   "cell_type": "code",
   "execution_count": 2,
   "id": "01b0c85f",
   "metadata": {},
   "outputs": [],
   "source": [
    "from statsmodels.tsa.seasonal import seasonal_decompose\n",
    "import plotly.graph_objects as go"
   ]
  },
  {
   "cell_type": "code",
   "execution_count": 3,
   "id": "a95e1606-c1c0-48f7-b2d6-546e90d3ac51",
   "metadata": {},
   "outputs": [],
   "source": [
    "# \"morbilidad_global_ts\": is data filtered, under 2018 and the record are only from Lima\n",
    "#all_data = pd.read_pickle('data/morbilidad_global_lima.pkl')\n",
    "all_data = pd.read_pickle('data/morbilidad_global_ts.pkl')"
   ]
  },
  {
   "cell_type": "code",
   "execution_count": 4,
   "id": "e80168f4",
   "metadata": {
    "scrolled": true
   },
   "outputs": [],
   "source": [
    "# Data grouped by Category (I, II, ...) and Sector (Private & public), for every date\n",
    "data =  all_data.groupby(['DATE', 'SECTOR','CATEGORY2', 'DIAGNOSIS_ID']).agg({'QTY_PEOPLE_SERVED': \"sum\"})\n",
    "data = data.reset_index()\n",
    "data =  data.groupby(['DATE', 'SECTOR','CATEGORY2']).agg({'QTY_PEOPLE_SERVED': \"sum\",\n",
    "                                                          'DIAGNOSIS_ID': \"count\"})\n",
    "data = data.reset_index()\n",
    "data.head()\n",
    "del all_data"
   ]
  },
  {
   "cell_type": "code",
   "execution_count": 5,
   "id": "277d3b3c",
   "metadata": {},
   "outputs": [],
   "source": [
    "import datetime\n",
    "import pandas as pd\n",
    "from sklearn.linear_model import LinearRegression \n",
    "from sklearn.ensemble import RandomForestRegressor\n",
    "import xgboost as xgb\n",
    "import plotly.express as px\n",
    " \n",
    "def retrain_model(df, column_index = 'DATE' , column_values = 'ORIGINAL_VALUES_PRE',kind_model = 'linear'):\n",
    "    months = [x.month for x in df[column_index]]\n",
    "    years = [x.year for x in df[column_index]]\n",
    "    day = [x.day for x in df[column_index]]\n",
    "\n",
    "    X = np.array([day, months, years]).T\n",
    "    \n",
    "    if kind_model == 'linear':\n",
    "        model = LinearRegression()\n",
    "    elif kind_model == 'rfg':\n",
    "        model = RandomForestRegressor()\n",
    "    elif kind_model == 'xgb':\n",
    "        model = xgb.XGBRegressor()\n",
    "    else:\n",
    "        model = LinearRegression()\n",
    "        \n",
    "    model.fit(X, df[column_values].values)\n",
    "    return model\n",
    " \n",
    "def forecast_model(model, df, column_name = 'DATE', name_predicted = 'PREDICTED'):\n",
    "    months = [x.month for x in df[column_name]]\n",
    "    years = [x.year for x in df[column_name]]\n",
    "    day = [x.day for x in df[column_name]]\n",
    "\n",
    "    X = np.array([day, months, years]).T\n",
    "\n",
    "    preds = model.predict(X)\n",
    "    df[name_predicted] = preds\n",
    "    return df\n",
    "\n",
    "def forecast_model_2(df_base, df, column_name = 'DATE', column_values = 'PRE_COVID', name_predicted = 'PREDICTED', kind_model = 'linear'):\n",
    "    df_resp = pd.DataFrame()\n",
    "    for i in range(len(df)):\n",
    "        #df_temp = df.iloc[[2]]\n",
    "        df_temp = df.iloc[[i]].reset_index(drop=True).copy()\n",
    "        #i += 1\n",
    "        model_temp = retrain_model(df_base, column_index = column_name, column_values = column_values, kind_model=kind_model)\n",
    "        temp_resp = forecast_model(model_temp,\n",
    "                                   df_temp,\n",
    "                                   column_name = column_name, \n",
    "                                   name_predicted = column_values)\n",
    "        df_base = pd.concat([df_base,temp_resp])\n",
    "        df_resp = pd.concat([df_resp,temp_resp])\n",
    "    df_resp = df_resp.rename({column_values: name_predicted}, axis=1) \n",
    "    return df_resp"
   ]
  },
  {
   "cell_type": "markdown",
   "id": "56ab8e5c",
   "metadata": {},
   "source": [
    "### Category I"
   ]
  },
  {
   "cell_type": "code",
   "execution_count": 6,
   "id": "6bc6d6b9",
   "metadata": {},
   "outputs": [],
   "source": [
    "TAG_CATEGORY = 'I'"
   ]
  },
  {
   "cell_type": "code",
   "execution_count": 7,
   "id": "c487878a",
   "metadata": {},
   "outputs": [],
   "source": [
    "data_category = data[(data['CATEGORY2']==TAG_CATEGORY)]\n",
    "data_category = data_category.pivot_table(index=['DATE'],\n",
    "                                          columns=['SECTOR'],\n",
    "                                          values='QTY_PEOPLE_SERVED').fillna(0)\n",
    "data_category = data_category.reset_index().rename_axis(None, axis=1)"
   ]
  },
  {
   "cell_type": "code",
   "execution_count": 8,
   "id": "aea9d0d1",
   "metadata": {},
   "outputs": [
    {
     "data": {
      "image/svg+xml": [
       "<svg class=\"main-svg\" xmlns=\"http://www.w3.org/2000/svg\" xmlns:xlink=\"http://www.w3.org/1999/xlink\" width=\"700\" height=\"500\" style=\"\" viewBox=\"0 0 700 500\"><rect x=\"0\" y=\"0\" width=\"700\" height=\"500\" style=\"fill: rgb(255, 255, 255); fill-opacity: 1;\"/><defs id=\"defs-8c51c3\"><g class=\"clips\"><clipPath id=\"clip8c51c3xyplot\" class=\"plotclip\"><rect width=\"501\" height=\"296\"/></clipPath><clipPath class=\"axesclip\" id=\"clip8c51c3x\"><rect x=\"80\" y=\"0\" width=\"501\" height=\"500\"/></clipPath><clipPath class=\"axesclip\" id=\"clip8c51c3y\"><rect x=\"0\" y=\"100\" width=\"700\" height=\"296\"/></clipPath><clipPath class=\"axesclip\" id=\"clip8c51c3xy\"><rect x=\"80\" y=\"100\" width=\"501\" height=\"296\"/></clipPath></g><g class=\"gradients\"/><g class=\"patterns\"/></defs><g class=\"bglayer\"><rect class=\"bg\" x=\"80\" y=\"100\" width=\"501\" height=\"296\" style=\"fill: rgb(229, 236, 246); fill-opacity: 1; stroke-width: 0;\"/></g><g class=\"layer-below\"><g class=\"imagelayer\"/><g class=\"shapelayer\"/></g><g class=\"cartesianlayer\"><g class=\"subplot xy\"><g class=\"layer-subplot\"><g class=\"shapelayer\"/><g class=\"imagelayer\"/></g><g class=\"minor-gridlayer\"><g class=\"x\"/><g class=\"y\"/></g><g class=\"gridlayer\"><g class=\"x\"><path class=\"xgrid crisp\" transform=\"translate(90.41,0)\" d=\"M0,100v296\" style=\"stroke: rgb(255, 255, 255); stroke-opacity: 1; stroke-width: 1px;\"/><path class=\"xgrid crisp\" transform=\"translate(99.81,0)\" d=\"M0,100v296\" style=\"stroke: rgb(255, 255, 255); stroke-opacity: 1; stroke-width: 1px;\"/><path class=\"xgrid crisp\" transform=\"translate(110.22,0)\" d=\"M0,100v296\" style=\"stroke: rgb(255, 255, 255); stroke-opacity: 1; stroke-width: 1px;\"/><path class=\"xgrid crisp\" transform=\"translate(120.28999999999999,0)\" d=\"M0,100v296\" style=\"stroke: rgb(255, 255, 255); stroke-opacity: 1; stroke-width: 1px;\"/><path class=\"xgrid crisp\" transform=\"translate(130.7,0)\" d=\"M0,100v296\" style=\"stroke: rgb(255, 255, 255); stroke-opacity: 1; stroke-width: 1px;\"/><path class=\"xgrid crisp\" transform=\"translate(140.78,0)\" d=\"M0,100v296\" style=\"stroke: rgb(255, 255, 255); stroke-opacity: 1; stroke-width: 1px;\"/><path class=\"xgrid crisp\" transform=\"translate(151.19,0)\" d=\"M0,100v296\" style=\"stroke: rgb(255, 255, 255); stroke-opacity: 1; stroke-width: 1px;\"/><path class=\"xgrid crisp\" transform=\"translate(161.6,0)\" d=\"M0,100v296\" style=\"stroke: rgb(255, 255, 255); stroke-opacity: 1; stroke-width: 1px;\"/><path class=\"xgrid crisp\" transform=\"translate(171.67000000000002,0)\" d=\"M0,100v296\" style=\"stroke: rgb(255, 255, 255); stroke-opacity: 1; stroke-width: 1px;\"/><path class=\"xgrid crisp\" transform=\"translate(182.07999999999998,0)\" d=\"M0,100v296\" style=\"stroke: rgb(255, 255, 255); stroke-opacity: 1; stroke-width: 1px;\"/><path class=\"xgrid crisp\" transform=\"translate(192.15,0)\" d=\"M0,100v296\" style=\"stroke: rgb(255, 255, 255); stroke-opacity: 1; stroke-width: 1px;\"/><path class=\"xgrid crisp\" transform=\"translate(202.56,0)\" d=\"M0,100v296\" style=\"stroke: rgb(255, 255, 255); stroke-opacity: 1; stroke-width: 1px;\"/><path class=\"xgrid crisp\" transform=\"translate(212.97,0)\" d=\"M0,100v296\" style=\"stroke: rgb(255, 255, 255); stroke-opacity: 1; stroke-width: 1px;\"/><path class=\"xgrid crisp\" transform=\"translate(222.38,0)\" d=\"M0,100v296\" style=\"stroke: rgb(255, 255, 255); stroke-opacity: 1; stroke-width: 1px;\"/><path class=\"xgrid crisp\" transform=\"translate(232.78,0)\" d=\"M0,100v296\" style=\"stroke: rgb(255, 255, 255); stroke-opacity: 1; stroke-width: 1px;\"/><path class=\"xgrid crisp\" transform=\"translate(242.86,0)\" d=\"M0,100v296\" style=\"stroke: rgb(255, 255, 255); stroke-opacity: 1; stroke-width: 1px;\"/><path class=\"xgrid crisp\" transform=\"translate(253.27,0)\" d=\"M0,100v296\" style=\"stroke: rgb(255, 255, 255); stroke-opacity: 1; stroke-width: 1px;\"/><path class=\"xgrid crisp\" transform=\"translate(263.34000000000003,0)\" d=\"M0,100v296\" style=\"stroke: rgb(255, 255, 255); stroke-opacity: 1; stroke-width: 1px;\"/><path class=\"xgrid crisp\" transform=\"translate(273.75,0)\" d=\"M0,100v296\" style=\"stroke: rgb(255, 255, 255); stroke-opacity: 1; stroke-width: 1px;\"/><path class=\"xgrid crisp\" transform=\"translate(284.15999999999997,0)\" d=\"M0,100v296\" style=\"stroke: rgb(255, 255, 255); stroke-opacity: 1; stroke-width: 1px;\"/><path class=\"xgrid crisp\" transform=\"translate(294.23,0)\" d=\"M0,100v296\" style=\"stroke: rgb(255, 255, 255); stroke-opacity: 1; stroke-width: 1px;\"/><path class=\"xgrid crisp\" transform=\"translate(304.64,0)\" d=\"M0,100v296\" style=\"stroke: rgb(255, 255, 255); stroke-opacity: 1; stroke-width: 1px;\"/><path class=\"xgrid crisp\" transform=\"translate(314.72,0)\" d=\"M0,100v296\" style=\"stroke: rgb(255, 255, 255); stroke-opacity: 1; stroke-width: 1px;\"/><path class=\"xgrid crisp\" transform=\"translate(325.13,0)\" d=\"M0,100v296\" style=\"stroke: rgb(255, 255, 255); stroke-opacity: 1; stroke-width: 1px;\"/><path class=\"xgrid crisp\" transform=\"translate(335.53999999999996,0)\" d=\"M0,100v296\" style=\"stroke: rgb(255, 255, 255); stroke-opacity: 1; stroke-width: 1px;\"/><path class=\"xgrid crisp\" transform=\"translate(345.27,0)\" d=\"M0,100v296\" style=\"stroke: rgb(255, 255, 255); stroke-opacity: 1; stroke-width: 1px;\"/><path class=\"xgrid crisp\" transform=\"translate(355.68,0)\" d=\"M0,100v296\" style=\"stroke: rgb(255, 255, 255); stroke-opacity: 1; stroke-width: 1px;\"/><path class=\"xgrid crisp\" transform=\"translate(365.76,0)\" d=\"M0,100v296\" style=\"stroke: rgb(255, 255, 255); stroke-opacity: 1; stroke-width: 1px;\"/><path class=\"xgrid crisp\" transform=\"translate(376.17,0)\" d=\"M0,100v296\" style=\"stroke: rgb(255, 255, 255); stroke-opacity: 1; stroke-width: 1px;\"/><path class=\"xgrid crisp\" transform=\"translate(386.24,0)\" d=\"M0,100v296\" style=\"stroke: rgb(255, 255, 255); stroke-opacity: 1; stroke-width: 1px;\"/><path class=\"xgrid crisp\" transform=\"translate(396.65,0)\" d=\"M0,100v296\" style=\"stroke: rgb(255, 255, 255); stroke-opacity: 1; stroke-width: 1px;\"/><path class=\"xgrid crisp\" transform=\"translate(407.06,0)\" d=\"M0,100v296\" style=\"stroke: rgb(255, 255, 255); stroke-opacity: 1; stroke-width: 1px;\"/><path class=\"xgrid crisp\" transform=\"translate(417.13,0)\" d=\"M0,100v296\" style=\"stroke: rgb(255, 255, 255); stroke-opacity: 1; stroke-width: 1px;\"/><path class=\"xgrid crisp\" transform=\"translate(427.54,0)\" d=\"M0,100v296\" style=\"stroke: rgb(255, 255, 255); stroke-opacity: 1; stroke-width: 1px;\"/><path class=\"xgrid crisp\" transform=\"translate(437.62,0)\" d=\"M0,100v296\" style=\"stroke: rgb(255, 255, 255); stroke-opacity: 1; stroke-width: 1px;\"/><path class=\"xgrid crisp\" transform=\"translate(448.03,0)\" d=\"M0,100v296\" style=\"stroke: rgb(255, 255, 255); stroke-opacity: 1; stroke-width: 1px;\"/><path class=\"xgrid crisp\" transform=\"translate(458.44,0)\" d=\"M0,100v296\" style=\"stroke: rgb(255, 255, 255); stroke-opacity: 1; stroke-width: 1px;\"/><path class=\"xgrid crisp\" transform=\"translate(467.84,0)\" d=\"M0,100v296\" style=\"stroke: rgb(255, 255, 255); stroke-opacity: 1; stroke-width: 1px;\"/><path class=\"xgrid crisp\" transform=\"translate(478.25,0)\" d=\"M0,100v296\" style=\"stroke: rgb(255, 255, 255); stroke-opacity: 1; stroke-width: 1px;\"/><path class=\"xgrid crisp\" transform=\"translate(488.32,0)\" d=\"M0,100v296\" style=\"stroke: rgb(255, 255, 255); stroke-opacity: 1; stroke-width: 1px;\"/><path class=\"xgrid crisp\" transform=\"translate(498.73,0)\" d=\"M0,100v296\" style=\"stroke: rgb(255, 255, 255); stroke-opacity: 1; stroke-width: 1px;\"/><path class=\"xgrid crisp\" transform=\"translate(508.8,0)\" d=\"M0,100v296\" style=\"stroke: rgb(255, 255, 255); stroke-opacity: 1; stroke-width: 1px;\"/><path class=\"xgrid crisp\" transform=\"translate(519.21,0)\" d=\"M0,100v296\" style=\"stroke: rgb(255, 255, 255); stroke-opacity: 1; stroke-width: 1px;\"/><path class=\"xgrid crisp\" transform=\"translate(529.62,0)\" d=\"M0,100v296\" style=\"stroke: rgb(255, 255, 255); stroke-opacity: 1; stroke-width: 1px;\"/><path class=\"xgrid crisp\" transform=\"translate(539.7,0)\" d=\"M0,100v296\" style=\"stroke: rgb(255, 255, 255); stroke-opacity: 1; stroke-width: 1px;\"/><path class=\"xgrid crisp\" transform=\"translate(550.11,0)\" d=\"M0,100v296\" style=\"stroke: rgb(255, 255, 255); stroke-opacity: 1; stroke-width: 1px;\"/><path class=\"xgrid crisp\" transform=\"translate(560.1800000000001,0)\" d=\"M0,100v296\" style=\"stroke: rgb(255, 255, 255); stroke-opacity: 1; stroke-width: 1px;\"/><path class=\"xgrid crisp\" transform=\"translate(570.5899999999999,0)\" d=\"M0,100v296\" style=\"stroke: rgb(255, 255, 255); stroke-opacity: 1; stroke-width: 1px;\"/></g><g class=\"y\"><path class=\"ygrid crisp\" transform=\"translate(0,349.41999999999996)\" d=\"M80,0h501\" style=\"stroke: rgb(255, 255, 255); stroke-opacity: 1; stroke-width: 1px;\"/><path class=\"ygrid crisp\" transform=\"translate(0,302.37)\" d=\"M80,0h501\" style=\"stroke: rgb(255, 255, 255); stroke-opacity: 1; stroke-width: 1px;\"/><path class=\"ygrid crisp\" transform=\"translate(0,255.32)\" d=\"M80,0h501\" style=\"stroke: rgb(255, 255, 255); stroke-opacity: 1; stroke-width: 1px;\"/><path class=\"ygrid crisp\" transform=\"translate(0,208.26999999999998)\" d=\"M80,0h501\" style=\"stroke: rgb(255, 255, 255); stroke-opacity: 1; stroke-width: 1px;\"/><path class=\"ygrid crisp\" transform=\"translate(0,161.22)\" d=\"M80,0h501\" style=\"stroke: rgb(255, 255, 255); stroke-opacity: 1; stroke-width: 1px;\"/><path class=\"ygrid crisp\" transform=\"translate(0,114.17)\" d=\"M80,0h501\" style=\"stroke: rgb(255, 255, 255); stroke-opacity: 1; stroke-width: 1px;\"/></g></g><g class=\"zerolinelayer\"/><path class=\"xlines-below\"/><path class=\"ylines-below\"/><g class=\"overlines-below\"/><g class=\"xaxislayer-below\"/><g class=\"yaxislayer-below\"/><g class=\"overaxes-below\"/><g class=\"plot\" transform=\"translate(80,100)\" clip-path=\"url(#clip8c51c3xyplot)\"><g class=\"scatterlayer mlayer\"><g class=\"trace scatter tracee529df\" style=\"stroke-miterlimit: 2; opacity: 1;\"><g class=\"fills\"/><g class=\"errorbars\"/><g class=\"lines\"><path class=\"js-line\" d=\"M0,244.26L10.41,265.06L19.81,255.33L30.22,248.86L40.29,227.18L50.7,227.11L60.78,225.94L71.19,213.18L81.6,203.08L91.67,199.64L102.08,195.11L112.15,209.61L122.56,200.06L132.97,139.6L142.38,170.55L152.78,216.56L162.86,204.75L173.27,203.6L183.34,206.36L193.75,200.47L204.16,214.54L214.23,247.51L224.64,242.73L234.72,233.02L245.13,232.45L255.54,213.15L265.27,250.77L275.68,280.48L285.76,265.35L296.17,246.38L306.24,235.44L316.65,226.92L327.06,230.64L337.13,227.02L347.54,230.61L357.62,236.15L368.03,222.72L378.44,237.62L387.84,243.08L398.25,246.99L408.32,245.73L418.73,241.36L428.8,239.65L439.21,239.03L449.62,253.21L459.7,247.98L470.11,245.48L480.18,267.17L490.59,264.39L501,279.45\" style=\"vector-effect: non-scaling-stroke; fill: none; stroke: rgb(99, 110, 250); stroke-opacity: 1; stroke-width: 2px; opacity: 1;\"/></g><g class=\"points\"/><g class=\"text\"/></g><g class=\"trace scatter traced2b896\" style=\"stroke-miterlimit: 2; opacity: 1;\"><g class=\"fills\"/><g class=\"errorbars\"/><g class=\"lines\"><path class=\"js-line\" d=\"M0,153.39L10.41,168.72L19.81,149.36L30.22,150.28L40.29,145.98L50.7,148.49L60.78,158.59L71.19,135.43L81.6,159.6L91.67,155.52L102.08,139.27L112.15,195.05L122.56,141.16L132.97,95.65L142.38,92.97L152.78,14.8L162.86,131.25L173.27,137.46L183.34,127.7L193.75,158.01L204.16,122.86L214.23,181.18L224.64,149.62L234.72,204.79L245.13,180.26L255.54,180.45L265.27,259.1L275.68,281.2L285.76,274.59L306.24,240.64L316.65,233.58L327.06,235.4L337.13,230.03L347.54,215.45L357.62,214.8L368.03,218.89L378.44,225.32L387.84,218.34L398.25,219.31L418.73,214.8L428.8,205.95L439.21,199.46L449.62,174.63L459.7,155.39L470.11,182.87L480.18,166.82L490.59,156.58L501,171.73\" style=\"vector-effect: non-scaling-stroke; fill: none; stroke: rgb(239, 85, 59); stroke-opacity: 1; stroke-width: 2px; opacity: 1;\"/></g><g class=\"points\"/><g class=\"text\"/></g></g></g><g class=\"overplot\"/><path class=\"xlines-above crisp\" d=\"M0,0\" style=\"fill: none;\"/><path class=\"ylines-above crisp\" d=\"M0,0\" style=\"fill: none;\"/><g class=\"overlines-above\"/><g class=\"xaxislayer-above\"><g class=\"xtick\"><text text-anchor=\"start\" x=\"0\" y=\"409\" transform=\"translate(80,0) rotate(90,0,403)\" style=\"font-family: 'Open Sans', verdana, arial, sans-serif; font-size: 12px; fill: rgb(42, 63, 95); fill-opacity: 1; white-space: pre; opacity: 1;\">Jan-2018</text></g><g class=\"xtick\"><text text-anchor=\"start\" x=\"0\" y=\"409\" style=\"font-family: 'Open Sans', verdana, arial, sans-serif; font-size: 12px; fill: rgb(42, 63, 95); fill-opacity: 1; white-space: pre; opacity: 1;\" transform=\"translate(90.41,0) rotate(90,0,403)\">Feb-2018</text></g><g class=\"xtick\"><text text-anchor=\"start\" x=\"0\" y=\"409\" style=\"font-family: 'Open Sans', verdana, arial, sans-serif; font-size: 12px; fill: rgb(42, 63, 95); fill-opacity: 1; white-space: pre; opacity: 1;\" transform=\"translate(99.81,0) rotate(90,0,403)\">Mar-2018</text></g><g class=\"xtick\"><text text-anchor=\"start\" x=\"0\" y=\"409\" style=\"font-family: 'Open Sans', verdana, arial, sans-serif; font-size: 12px; fill: rgb(42, 63, 95); fill-opacity: 1; white-space: pre; opacity: 1;\" transform=\"translate(110.22,0) rotate(90,0,403)\">Apr-2018</text></g><g class=\"xtick\"><text text-anchor=\"start\" x=\"0\" y=\"409\" style=\"font-family: 'Open Sans', verdana, arial, sans-serif; font-size: 12px; fill: rgb(42, 63, 95); fill-opacity: 1; white-space: pre; opacity: 1;\" transform=\"translate(120.28999999999999,0) rotate(90,0,403)\">May-2018</text></g><g class=\"xtick\"><text text-anchor=\"start\" x=\"0\" y=\"409\" style=\"font-family: 'Open Sans', verdana, arial, sans-serif; font-size: 12px; fill: rgb(42, 63, 95); fill-opacity: 1; white-space: pre; opacity: 1;\" transform=\"translate(130.7,0) rotate(90,0,403)\">Jun-2018</text></g><g class=\"xtick\"><text text-anchor=\"start\" x=\"0\" y=\"409\" style=\"font-family: 'Open Sans', verdana, arial, sans-serif; font-size: 12px; fill: rgb(42, 63, 95); fill-opacity: 1; white-space: pre; opacity: 1;\" transform=\"translate(140.78,0) rotate(90,0,403)\">Jul-2018</text></g><g class=\"xtick\"><text text-anchor=\"start\" x=\"0\" y=\"409\" style=\"font-family: 'Open Sans', verdana, arial, sans-serif; font-size: 12px; fill: rgb(42, 63, 95); fill-opacity: 1; white-space: pre; opacity: 1;\" transform=\"translate(151.19,0) rotate(90,0,403)\">Aug-2018</text></g><g class=\"xtick\"><text text-anchor=\"start\" x=\"0\" y=\"409\" style=\"font-family: 'Open Sans', verdana, arial, sans-serif; font-size: 12px; fill: rgb(42, 63, 95); fill-opacity: 1; white-space: pre; opacity: 1;\" transform=\"translate(161.6,0) rotate(90,0,403)\">Sep-2018</text></g><g class=\"xtick\"><text text-anchor=\"start\" x=\"0\" y=\"409\" style=\"font-family: 'Open Sans', verdana, arial, sans-serif; font-size: 12px; fill: rgb(42, 63, 95); fill-opacity: 1; white-space: pre; opacity: 1;\" transform=\"translate(171.67000000000002,0) rotate(90,0,403)\">Oct-2018</text></g><g class=\"xtick\"><text text-anchor=\"start\" x=\"0\" y=\"409\" style=\"font-family: 'Open Sans', verdana, arial, sans-serif; font-size: 12px; fill: rgb(42, 63, 95); fill-opacity: 1; white-space: pre; opacity: 1;\" transform=\"translate(182.07999999999998,0) rotate(90,0,403)\">Nov-2018</text></g><g class=\"xtick\"><text text-anchor=\"start\" x=\"0\" y=\"409\" style=\"font-family: 'Open Sans', verdana, arial, sans-serif; font-size: 12px; fill: rgb(42, 63, 95); fill-opacity: 1; white-space: pre; opacity: 1;\" transform=\"translate(192.15,0) rotate(90,0,403)\">Dec-2018</text></g><g class=\"xtick\"><text text-anchor=\"start\" x=\"0\" y=\"409\" style=\"font-family: 'Open Sans', verdana, arial, sans-serif; font-size: 12px; fill: rgb(42, 63, 95); fill-opacity: 1; white-space: pre; opacity: 1;\" transform=\"translate(202.56,0) rotate(90,0,403)\">Jan-2019</text></g><g class=\"xtick\"><text text-anchor=\"start\" x=\"0\" y=\"409\" style=\"font-family: 'Open Sans', verdana, arial, sans-serif; font-size: 12px; fill: rgb(42, 63, 95); fill-opacity: 1; white-space: pre; opacity: 1;\" transform=\"translate(212.97,0) rotate(90,0,403)\">Feb-2019</text></g><g class=\"xtick\"><text text-anchor=\"start\" x=\"0\" y=\"409\" style=\"font-family: 'Open Sans', verdana, arial, sans-serif; font-size: 12px; fill: rgb(42, 63, 95); fill-opacity: 1; white-space: pre; opacity: 1;\" transform=\"translate(222.38,0) rotate(90,0,403)\">Mar-2019</text></g><g class=\"xtick\"><text text-anchor=\"start\" x=\"0\" y=\"409\" style=\"font-family: 'Open Sans', verdana, arial, sans-serif; font-size: 12px; fill: rgb(42, 63, 95); fill-opacity: 1; white-space: pre; opacity: 1;\" transform=\"translate(232.78,0) rotate(90,0,403)\">Apr-2019</text></g><g class=\"xtick\"><text text-anchor=\"start\" x=\"0\" y=\"409\" style=\"font-family: 'Open Sans', verdana, arial, sans-serif; font-size: 12px; fill: rgb(42, 63, 95); fill-opacity: 1; white-space: pre; opacity: 1;\" transform=\"translate(242.86,0) rotate(90,0,403)\">May-2019</text></g><g class=\"xtick\"><text text-anchor=\"start\" x=\"0\" y=\"409\" style=\"font-family: 'Open Sans', verdana, arial, sans-serif; font-size: 12px; fill: rgb(42, 63, 95); fill-opacity: 1; white-space: pre; opacity: 1;\" transform=\"translate(253.27,0) rotate(90,0,403)\">Jun-2019</text></g><g class=\"xtick\"><text text-anchor=\"start\" x=\"0\" y=\"409\" style=\"font-family: 'Open Sans', verdana, arial, sans-serif; font-size: 12px; fill: rgb(42, 63, 95); fill-opacity: 1; white-space: pre; opacity: 1;\" transform=\"translate(263.34000000000003,0) rotate(90,0,403)\">Jul-2019</text></g><g class=\"xtick\"><text text-anchor=\"start\" x=\"0\" y=\"409\" style=\"font-family: 'Open Sans', verdana, arial, sans-serif; font-size: 12px; fill: rgb(42, 63, 95); fill-opacity: 1; white-space: pre; opacity: 1;\" transform=\"translate(273.75,0) rotate(90,0,403)\">Aug-2019</text></g><g class=\"xtick\"><text text-anchor=\"start\" x=\"0\" y=\"409\" style=\"font-family: 'Open Sans', verdana, arial, sans-serif; font-size: 12px; fill: rgb(42, 63, 95); fill-opacity: 1; white-space: pre; opacity: 1;\" transform=\"translate(284.15999999999997,0) rotate(90,0,403)\">Sep-2019</text></g><g class=\"xtick\"><text text-anchor=\"start\" x=\"0\" y=\"409\" style=\"font-family: 'Open Sans', verdana, arial, sans-serif; font-size: 12px; fill: rgb(42, 63, 95); fill-opacity: 1; white-space: pre; opacity: 1;\" transform=\"translate(294.23,0) rotate(90,0,403)\">Oct-2019</text></g><g class=\"xtick\"><text text-anchor=\"start\" x=\"0\" y=\"409\" style=\"font-family: 'Open Sans', verdana, arial, sans-serif; font-size: 12px; fill: rgb(42, 63, 95); fill-opacity: 1; white-space: pre; opacity: 1;\" transform=\"translate(304.64,0) rotate(90,0,403)\">Nov-2019</text></g><g class=\"xtick\"><text text-anchor=\"start\" x=\"0\" y=\"409\" style=\"font-family: 'Open Sans', verdana, arial, sans-serif; font-size: 12px; fill: rgb(42, 63, 95); fill-opacity: 1; white-space: pre; opacity: 1;\" transform=\"translate(314.72,0) rotate(90,0,403)\">Dec-2019</text></g><g class=\"xtick\"><text text-anchor=\"start\" x=\"0\" y=\"409\" style=\"font-family: 'Open Sans', verdana, arial, sans-serif; font-size: 12px; fill: rgb(42, 63, 95); fill-opacity: 1; white-space: pre; opacity: 1;\" transform=\"translate(325.13,0) rotate(90,0,403)\">Jan-2020</text></g><g class=\"xtick\"><text text-anchor=\"start\" x=\"0\" y=\"409\" style=\"font-family: 'Open Sans', verdana, arial, sans-serif; font-size: 12px; fill: rgb(42, 63, 95); fill-opacity: 1; white-space: pre; opacity: 1;\" transform=\"translate(335.53999999999996,0) rotate(90,0,403)\">Feb-2020</text></g><g class=\"xtick\"><text text-anchor=\"start\" x=\"0\" y=\"409\" style=\"font-family: 'Open Sans', verdana, arial, sans-serif; font-size: 12px; fill: rgb(42, 63, 95); fill-opacity: 1; white-space: pre; opacity: 1;\" transform=\"translate(345.27,0) rotate(90,0,403)\">Mar-2020</text></g><g class=\"xtick\"><text text-anchor=\"start\" x=\"0\" y=\"409\" style=\"font-family: 'Open Sans', verdana, arial, sans-serif; font-size: 12px; fill: rgb(42, 63, 95); fill-opacity: 1; white-space: pre; opacity: 1;\" transform=\"translate(355.68,0) rotate(90,0,403)\">Apr-2020</text></g><g class=\"xtick\"><text text-anchor=\"start\" x=\"0\" y=\"409\" style=\"font-family: 'Open Sans', verdana, arial, sans-serif; font-size: 12px; fill: rgb(42, 63, 95); fill-opacity: 1; white-space: pre; opacity: 1;\" transform=\"translate(365.76,0) rotate(90,0,403)\">May-2020</text></g><g class=\"xtick\"><text text-anchor=\"start\" x=\"0\" y=\"409\" style=\"font-family: 'Open Sans', verdana, arial, sans-serif; font-size: 12px; fill: rgb(42, 63, 95); fill-opacity: 1; white-space: pre; opacity: 1;\" transform=\"translate(376.17,0) rotate(90,0,403)\">Jun-2020</text></g><g class=\"xtick\"><text text-anchor=\"start\" x=\"0\" y=\"409\" style=\"font-family: 'Open Sans', verdana, arial, sans-serif; font-size: 12px; fill: rgb(42, 63, 95); fill-opacity: 1; white-space: pre; opacity: 1;\" transform=\"translate(386.24,0) rotate(90,0,403)\">Jul-2020</text></g><g class=\"xtick\"><text text-anchor=\"start\" x=\"0\" y=\"409\" style=\"font-family: 'Open Sans', verdana, arial, sans-serif; font-size: 12px; fill: rgb(42, 63, 95); fill-opacity: 1; white-space: pre; opacity: 1;\" transform=\"translate(396.65,0) rotate(90,0,403)\">Aug-2020</text></g><g class=\"xtick\"><text text-anchor=\"start\" x=\"0\" y=\"409\" style=\"font-family: 'Open Sans', verdana, arial, sans-serif; font-size: 12px; fill: rgb(42, 63, 95); fill-opacity: 1; white-space: pre; opacity: 1;\" transform=\"translate(407.06,0) rotate(90,0,403)\">Sep-2020</text></g><g class=\"xtick\"><text text-anchor=\"start\" x=\"0\" y=\"409\" style=\"font-family: 'Open Sans', verdana, arial, sans-serif; font-size: 12px; fill: rgb(42, 63, 95); fill-opacity: 1; white-space: pre; opacity: 1;\" transform=\"translate(417.13,0) rotate(90,0,403)\">Oct-2020</text></g><g class=\"xtick\"><text text-anchor=\"start\" x=\"0\" y=\"409\" style=\"font-family: 'Open Sans', verdana, arial, sans-serif; font-size: 12px; fill: rgb(42, 63, 95); fill-opacity: 1; white-space: pre; opacity: 1;\" transform=\"translate(427.54,0) rotate(90,0,403)\">Nov-2020</text></g><g class=\"xtick\"><text text-anchor=\"start\" x=\"0\" y=\"409\" style=\"font-family: 'Open Sans', verdana, arial, sans-serif; font-size: 12px; fill: rgb(42, 63, 95); fill-opacity: 1; white-space: pre; opacity: 1;\" transform=\"translate(437.62,0) rotate(90,0,403)\">Dec-2020</text></g><g class=\"xtick\"><text text-anchor=\"start\" x=\"0\" y=\"409\" style=\"font-family: 'Open Sans', verdana, arial, sans-serif; font-size: 12px; fill: rgb(42, 63, 95); fill-opacity: 1; white-space: pre; opacity: 1;\" transform=\"translate(448.03,0) rotate(90,0,403)\">Jan-2021</text></g><g class=\"xtick\"><text text-anchor=\"start\" x=\"0\" y=\"409\" style=\"font-family: 'Open Sans', verdana, arial, sans-serif; font-size: 12px; fill: rgb(42, 63, 95); fill-opacity: 1; white-space: pre; opacity: 1;\" transform=\"translate(458.44,0) rotate(90,0,403)\">Feb-2021</text></g><g class=\"xtick\"><text text-anchor=\"start\" x=\"0\" y=\"409\" style=\"font-family: 'Open Sans', verdana, arial, sans-serif; font-size: 12px; fill: rgb(42, 63, 95); fill-opacity: 1; white-space: pre; opacity: 1;\" transform=\"translate(467.84,0) rotate(90,0,403)\">Mar-2021</text></g><g class=\"xtick\"><text text-anchor=\"start\" x=\"0\" y=\"409\" style=\"font-family: 'Open Sans', verdana, arial, sans-serif; font-size: 12px; fill: rgb(42, 63, 95); fill-opacity: 1; white-space: pre; opacity: 1;\" transform=\"translate(478.25,0) rotate(90,0,403)\">Apr-2021</text></g><g class=\"xtick\"><text text-anchor=\"start\" x=\"0\" y=\"409\" style=\"font-family: 'Open Sans', verdana, arial, sans-serif; font-size: 12px; fill: rgb(42, 63, 95); fill-opacity: 1; white-space: pre; opacity: 1;\" transform=\"translate(488.32,0) rotate(90,0,403)\">May-2021</text></g><g class=\"xtick\"><text text-anchor=\"start\" x=\"0\" y=\"409\" style=\"font-family: 'Open Sans', verdana, arial, sans-serif; font-size: 12px; fill: rgb(42, 63, 95); fill-opacity: 1; white-space: pre; opacity: 1;\" transform=\"translate(498.73,0) rotate(90,0,403)\">Jun-2021</text></g><g class=\"xtick\"><text text-anchor=\"start\" x=\"0\" y=\"409\" style=\"font-family: 'Open Sans', verdana, arial, sans-serif; font-size: 12px; fill: rgb(42, 63, 95); fill-opacity: 1; white-space: pre; opacity: 1;\" transform=\"translate(508.8,0) rotate(90,0,403)\">Jul-2021</text></g><g class=\"xtick\"><text text-anchor=\"start\" x=\"0\" y=\"409\" style=\"font-family: 'Open Sans', verdana, arial, sans-serif; font-size: 12px; fill: rgb(42, 63, 95); fill-opacity: 1; white-space: pre; opacity: 1;\" transform=\"translate(519.21,0) rotate(90,0,403)\">Aug-2021</text></g><g class=\"xtick\"><text text-anchor=\"start\" x=\"0\" y=\"409\" style=\"font-family: 'Open Sans', verdana, arial, sans-serif; font-size: 12px; fill: rgb(42, 63, 95); fill-opacity: 1; white-space: pre; opacity: 1;\" transform=\"translate(529.62,0) rotate(90,0,403)\">Sep-2021</text></g><g class=\"xtick\"><text text-anchor=\"start\" x=\"0\" y=\"409\" style=\"font-family: 'Open Sans', verdana, arial, sans-serif; font-size: 12px; fill: rgb(42, 63, 95); fill-opacity: 1; white-space: pre; opacity: 1;\" transform=\"translate(539.7,0) rotate(90,0,403)\">Oct-2021</text></g><g class=\"xtick\"><text text-anchor=\"start\" x=\"0\" y=\"409\" style=\"font-family: 'Open Sans', verdana, arial, sans-serif; font-size: 12px; fill: rgb(42, 63, 95); fill-opacity: 1; white-space: pre; opacity: 1;\" transform=\"translate(550.11,0) rotate(90,0,403)\">Nov-2021</text></g><g class=\"xtick\"><text text-anchor=\"start\" x=\"0\" y=\"409\" style=\"font-family: 'Open Sans', verdana, arial, sans-serif; font-size: 12px; fill: rgb(42, 63, 95); fill-opacity: 1; white-space: pre; opacity: 1;\" transform=\"translate(560.1800000000001,0) rotate(90,0,403)\">Dec-2021</text></g><g class=\"xtick\"><text text-anchor=\"start\" x=\"0\" y=\"409\" style=\"font-family: 'Open Sans', verdana, arial, sans-serif; font-size: 12px; fill: rgb(42, 63, 95); fill-opacity: 1; white-space: pre; opacity: 1;\" transform=\"translate(570.5899999999999,0) rotate(90,0,403)\">Jan-2022</text></g><g class=\"xtick\"><text text-anchor=\"start\" x=\"0\" y=\"409\" style=\"font-family: 'Open Sans', verdana, arial, sans-serif; font-size: 12px; fill: rgb(42, 63, 95); fill-opacity: 1; white-space: pre; opacity: 1;\" transform=\"translate(581,0) rotate(90,0,403)\">Feb-2022</text></g></g><g class=\"yaxislayer-above\"><g class=\"ytick\"><text text-anchor=\"end\" x=\"79\" y=\"4.199999999999999\" transform=\"translate(0,349.41999999999996)\" style=\"font-family: 'Open Sans', verdana, arial, sans-serif; font-size: 12px; fill: rgb(42, 63, 95); fill-opacity: 1; white-space: pre; opacity: 1;\">50k</text></g><g class=\"ytick\"><text text-anchor=\"end\" x=\"79\" y=\"4.199999999999999\" style=\"font-family: 'Open Sans', verdana, arial, sans-serif; font-size: 12px; fill: rgb(42, 63, 95); fill-opacity: 1; white-space: pre; opacity: 1;\" transform=\"translate(0,302.37)\">100k</text></g><g class=\"ytick\"><text text-anchor=\"end\" x=\"79\" y=\"4.199999999999999\" style=\"font-family: 'Open Sans', verdana, arial, sans-serif; font-size: 12px; fill: rgb(42, 63, 95); fill-opacity: 1; white-space: pre; opacity: 1;\" transform=\"translate(0,255.32)\">150k</text></g><g class=\"ytick\"><text text-anchor=\"end\" x=\"79\" y=\"4.199999999999999\" style=\"font-family: 'Open Sans', verdana, arial, sans-serif; font-size: 12px; fill: rgb(42, 63, 95); fill-opacity: 1; white-space: pre; opacity: 1;\" transform=\"translate(0,208.26999999999998)\">200k</text></g><g class=\"ytick\"><text text-anchor=\"end\" x=\"79\" y=\"4.199999999999999\" style=\"font-family: 'Open Sans', verdana, arial, sans-serif; font-size: 12px; fill: rgb(42, 63, 95); fill-opacity: 1; white-space: pre; opacity: 1;\" transform=\"translate(0,161.22)\">250k</text></g><g class=\"ytick\"><text text-anchor=\"end\" x=\"79\" y=\"4.199999999999999\" style=\"font-family: 'Open Sans', verdana, arial, sans-serif; font-size: 12px; fill: rgb(42, 63, 95); fill-opacity: 1; white-space: pre; opacity: 1;\" transform=\"translate(0,114.17)\">300k</text></g></g><g class=\"overaxes-above\"/></g></g><g class=\"polarlayer\"/><g class=\"smithlayer\"/><g class=\"ternarylayer\"/><g class=\"geolayer\"/><g class=\"funnelarealayer\"/><g class=\"pielayer\"/><g class=\"iciclelayer\"/><g class=\"treemaplayer\"/><g class=\"sunburstlayer\"/><g class=\"glimages\"/><defs id=\"topdefs-8c51c3\"><g class=\"clips\"/><clipPath id=\"legend8c51c3\"><rect width=\"97\" height=\"67\" x=\"0\" y=\"0\"/></clipPath></defs><g class=\"layer-above\"><g class=\"imagelayer\"/><g class=\"shapelayer\"/></g><g class=\"infolayer\"><g class=\"legend\" pointer-events=\"all\" transform=\"translate(591.02,100)\"><rect class=\"bg\" shape-rendering=\"crispEdges\" style=\"stroke: rgb(68, 68, 68); stroke-opacity: 1; fill: rgb(255, 255, 255); fill-opacity: 1; stroke-width: 0px;\" width=\"97\" height=\"67\" x=\"0\" y=\"0\"/><g class=\"scrollbox\" transform=\"\" clip-path=\"url(#legend8c51c3)\"><text class=\"legendtitletext\" text-anchor=\"start\" x=\"2\" y=\"18.2\" style=\"font-family: 'Open Sans', verdana, arial, sans-serif; font-size: 14px; fill: rgb(42, 63, 95); fill-opacity: 1; white-space: pre;\">Sector</text><g class=\"groups\" transform=\"\"><g class=\"traces\" transform=\"translate(0,32.7)\" style=\"opacity: 1;\"><text class=\"legendtext\" text-anchor=\"start\" x=\"40\" y=\"4.680000000000001\" style=\"font-family: 'Open Sans', verdana, arial, sans-serif; font-size: 12px; fill: rgb(42, 63, 95); fill-opacity: 1; white-space: pre;\">PRIVATE</text><g class=\"layers\" style=\"opacity: 1;\"><g class=\"legendfill\"/><g class=\"legendlines\"><path class=\"js-line\" d=\"M5,0h30\" style=\"fill: none; stroke: rgb(99, 110, 250); stroke-opacity: 1; stroke-width: 2px;\"/></g><g class=\"legendsymbols\"><g class=\"legendpoints\"/></g></g><rect class=\"legendtoggle\" x=\"0\" y=\"-9.5\" width=\"91.390625\" height=\"19\" style=\"fill: rgb(0, 0, 0); fill-opacity: 0;\"/></g></g><g class=\"groups\" transform=\"\"><g class=\"traces\" transform=\"translate(0,51.7)\" style=\"opacity: 1;\"><text class=\"legendtext\" text-anchor=\"start\" x=\"40\" y=\"4.680000000000001\" style=\"font-family: 'Open Sans', verdana, arial, sans-serif; font-size: 12px; fill: rgb(42, 63, 95); fill-opacity: 1; white-space: pre;\">PUBLIC</text><g class=\"layers\" style=\"opacity: 1;\"><g class=\"legendfill\"/><g class=\"legendlines\"><path class=\"js-line\" d=\"M5,0h30\" style=\"fill: none; stroke: rgb(239, 85, 59); stroke-opacity: 1; stroke-width: 2px;\"/></g><g class=\"legendsymbols\"><g class=\"legendpoints\"/></g></g><rect class=\"legendtoggle\" x=\"0\" y=\"-9.5\" width=\"91.390625\" height=\"19\" style=\"fill: rgb(0, 0, 0); fill-opacity: 0;\"/></g></g></g><rect class=\"scrollbar\" rx=\"20\" ry=\"3\" width=\"0\" height=\"0\" style=\"fill: rgb(128, 139, 164); fill-opacity: 1;\" x=\"0\" y=\"0\"/></g><g class=\"g-gtitle\"><text class=\"gtitle\" x=\"35\" y=\"50\" text-anchor=\"start\" dy=\"0em\" style=\"font-family: 'Open Sans', verdana, arial, sans-serif; font-size: 17px; fill: rgb(42, 63, 95); opacity: 1; font-weight: normal; white-space: pre;\">Total people served to Category I</text></g><g class=\"g-xtitle\"><text class=\"xtitle\" x=\"330.5\" y=\"488.2375\" text-anchor=\"middle\" style=\"font-family: 'Open Sans', verdana, arial, sans-serif; font-size: 14px; fill: rgb(42, 63, 95); opacity: 1; font-weight: normal; white-space: pre;\">Date</text></g><g class=\"g-ytitle\"><text class=\"ytitle\" transform=\"rotate(-90,24.200000000000003,248)\" x=\"24.200000000000003\" y=\"248\" text-anchor=\"middle\" style=\"font-family: 'Open Sans', verdana, arial, sans-serif; font-size: 14px; fill: rgb(42, 63, 95); opacity: 1; font-weight: normal; white-space: pre;\">People served (qty)</text></g></g></svg>"
      ]
     },
     "metadata": {},
     "output_type": "display_data"
    }
   ],
   "source": [
    "columns_name = list(data_category.columns)[1:]\n",
    "fig = px.line(data_category, \n",
    "              x=\"DATE\", \n",
    "              y=columns_name,\n",
    "              hover_data={\"DATE\": \"|%Y %b\"},\n",
    "              labels={\n",
    "                     \"value\": \"People served (qty)\",\n",
    "                     \"DATE\": \"Date\",\n",
    "                     \"variable\": \"Sector\"\n",
    "                 },\n",
    "              title='Total people served to Category ' + TAG_CATEGORY)\n",
    "\n",
    "fig.update_xaxes(\n",
    "    dtick=\"M1\",\n",
    "    tickformat=\"%b-%Y\")\n",
    "\n",
    "#fig.show()\n",
    "fig.show(renderer=\"svg\")"
   ]
  },
  {
   "cell_type": "markdown",
   "id": "3febc39d",
   "metadata": {},
   "source": [
    "### Public"
   ]
  },
  {
   "cell_type": "code",
   "execution_count": 9,
   "id": "33bba0fb",
   "metadata": {},
   "outputs": [],
   "source": [
    "TAG_SECTOR = 'PUBLIC'\n",
    "\n",
    "data_sector_ts = data_category[['DATE', TAG_SECTOR]]\n",
    "data_sector_ts = data_sector_ts.rename({TAG_SECTOR: 'ORIGINAL_VALUES'}, axis=1) \n",
    "\n",
    "\n",
    "start = data_sector_ts['DATE'].min()\n",
    "periods = 360*7\n",
    "daterange = []\n",
    "for day in range(periods):\n",
    "    date = (start + datetime.timedelta(days = day)).isoformat()\n",
    "    daterange.append(date)\n",
    "    \n",
    "forecast_df = pd.DataFrame(daterange, columns=['DATE'])\n",
    "forecast_df['DATE'] = pd.to_datetime(forecast_df['DATE'])\n",
    "forecast_df = forecast_df[forecast_df['DATE'].dt.strftime('%d') == '01']\n",
    "forecast_df = forecast_df.reset_index(drop=True)\n",
    "\n",
    "forecast_df = pd.merge(forecast_df, data_sector_ts, how='left', on=('DATE','DATE'))"
   ]
  },
  {
   "cell_type": "code",
   "execution_count": 10,
   "id": "b5bc4d79",
   "metadata": {
    "scrolled": false
   },
   "outputs": [],
   "source": [
    "# result = seasonal_decompose(data_sector_ts)\n",
    "# result.plot()"
   ]
  },
  {
   "cell_type": "markdown",
   "id": "983520d3",
   "metadata": {},
   "source": [
    "#### Pre covid"
   ]
  },
  {
   "cell_type": "code",
   "execution_count": 11,
   "id": "4aeab30a",
   "metadata": {},
   "outputs": [],
   "source": [
    "# Change for every category and sector, according values on time\n",
    "data_sector_ts_pre = data_sector_ts[(data_sector_ts['DATE'] < '2019-10')].reset_index(drop=True)\n",
    "data_sector_ts_pre = data_sector_ts_pre.rename({'ORIGINAL_VALUES': 'PRE_COVID'}, axis=1) \n",
    "\n",
    "forecast_df = pd.merge(forecast_df, data_sector_ts_pre, how='left', on=('DATE','DATE'))\n",
    "\n",
    "umbral = data_sector_ts_pre['DATE'].max().strftime('%Y-%m')\n",
    "\n",
    "# model_forecast = retrain_model(data_sector_ts_pre, column_index = 'DATE' , column_values = 'PRE_COVID')\n",
    "# temp_resp = forecast_model(model_forecast, \n",
    "#                            forecast_df[(forecast_df['DATE'] >= umbral)][['DATE']],\n",
    "#                            column_name = 'DATE', \n",
    "#                            name_predicted = 'PRE_COVID_FORECAST')\n",
    "\n",
    "temp_resp = forecast_model_2(data_sector_ts_pre,\n",
    "                             forecast_df[(forecast_df['DATE'] >= umbral)][['DATE']],\n",
    "                             column_name = 'DATE',\n",
    "                             column_values = 'PRE_COVID',\n",
    "                             name_predicted = 'PRE_COVID_FORECAST',\n",
    "                             kind_model = 'rfg')\n",
    "\n",
    "forecast_df = pd.merge(forecast_df, temp_resp, how='left', on=('DATE','DATE'))"
   ]
  },
  {
   "cell_type": "markdown",
   "id": "f3d841fb",
   "metadata": {},
   "source": [
    "#### Post covid"
   ]
  },
  {
   "cell_type": "code",
   "execution_count": 12,
   "id": "c667f776",
   "metadata": {},
   "outputs": [],
   "source": [
    "data_sector_ts_post = data_sector_ts[(data_sector_ts['DATE'] > '2020-03')].reset_index(drop=True)\n",
    "data_sector_ts_post = data_sector_ts_post.rename({'ORIGINAL_VALUES': 'POST_COVID'}, axis=1) \n",
    "\n",
    "forecast_df = pd.merge(forecast_df, data_sector_ts_post, how='left', on=('DATE','DATE'))\n",
    "\n",
    "umbral = data_sector_ts_post['DATE'].max().strftime('%Y-%m')\n",
    "\n",
    "model_forecast = retrain_model(data_sector_ts_post, column_index = 'DATE' , column_values = 'POST_COVID', kind_model = 'linear')\n",
    "temp_resp = forecast_model(model_forecast, \n",
    "                           forecast_df[(forecast_df['DATE'] >= umbral)][['DATE']],\n",
    "                           column_name = 'DATE', \n",
    "                           name_predicted = 'POST_COVID_FORECAST')\n",
    "\n",
    "temp_resp = forecast_model_2(data_sector_ts_post,\n",
    "                             forecast_df[(forecast_df['DATE'] >= umbral)][['DATE']],\n",
    "                             column_name = 'DATE',\n",
    "                             column_values = 'POST_COVID',\n",
    "                             name_predicted = 'POST_COVID_FORECAST',\n",
    "                             kind_model = 'linear')\n",
    "\n",
    "\n",
    "forecast_df = pd.merge(forecast_df, temp_resp, how='left', on=('DATE','DATE'))"
   ]
  },
  {
   "cell_type": "code",
   "execution_count": 13,
   "id": "4c142d2a",
   "metadata": {
    "scrolled": false
   },
   "outputs": [
    {
     "data": {
      "image/svg+xml": [
       "<svg class=\"main-svg\" xmlns=\"http://www.w3.org/2000/svg\" xmlns:xlink=\"http://www.w3.org/1999/xlink\" width=\"700\" height=\"500\" style=\"\" viewBox=\"0 0 700 500\"><rect x=\"0\" y=\"0\" width=\"700\" height=\"500\" style=\"fill: rgb(255, 255, 255); fill-opacity: 1;\"/><defs id=\"defs-80e910\"><g class=\"clips\"><clipPath id=\"clip80e910xyplot\" class=\"plotclip\"><rect width=\"402\" height=\"320\"/></clipPath><clipPath class=\"axesclip\" id=\"clip80e910x\"><rect x=\"80\" y=\"0\" width=\"402\" height=\"500\"/></clipPath><clipPath class=\"axesclip\" id=\"clip80e910y\"><rect x=\"0\" y=\"100\" width=\"700\" height=\"320\"/></clipPath><clipPath class=\"axesclip\" id=\"clip80e910xy\"><rect x=\"80\" y=\"100\" width=\"402\" height=\"320\"/></clipPath></g><g class=\"gradients\"/><g class=\"patterns\"/></defs><g class=\"bglayer\"><rect class=\"bg\" x=\"80\" y=\"100\" width=\"402\" height=\"320\" style=\"fill: rgb(229, 236, 246); fill-opacity: 1; stroke-width: 0;\"/></g><g class=\"layer-below\"><g class=\"imagelayer\"/><g class=\"shapelayer\"/></g><g class=\"cartesianlayer\"><g class=\"subplot xy\"><g class=\"layer-subplot\"><g class=\"shapelayer\"/><g class=\"imagelayer\"/></g><g class=\"minor-gridlayer\"><g class=\"x\"/><g class=\"y\"/></g><g class=\"gridlayer\"><g class=\"x\"><path class=\"xgrid crisp\" transform=\"translate(197.57,0)\" d=\"M0,100v320\" style=\"stroke: rgb(255, 255, 255); stroke-opacity: 1; stroke-width: 1px;\"/><path class=\"xgrid crisp\" transform=\"translate(315.31,0)\" d=\"M0,100v320\" style=\"stroke: rgb(255, 255, 255); stroke-opacity: 1; stroke-width: 1px;\"/><path class=\"xgrid crisp\" transform=\"translate(432.88,0)\" d=\"M0,100v320\" style=\"stroke: rgb(255, 255, 255); stroke-opacity: 1; stroke-width: 1px;\"/></g><g class=\"y\"><path class=\"ygrid crisp\" transform=\"translate(0,371.5)\" d=\"M80,0h402\" style=\"stroke: rgb(255, 255, 255); stroke-opacity: 1; stroke-width: 1px;\"/><path class=\"ygrid crisp\" transform=\"translate(0,323.38)\" d=\"M80,0h402\" style=\"stroke: rgb(255, 255, 255); stroke-opacity: 1; stroke-width: 1px;\"/><path class=\"ygrid crisp\" transform=\"translate(0,275.27)\" d=\"M80,0h402\" style=\"stroke: rgb(255, 255, 255); stroke-opacity: 1; stroke-width: 1px;\"/><path class=\"ygrid crisp\" transform=\"translate(0,227.15)\" d=\"M80,0h402\" style=\"stroke: rgb(255, 255, 255); stroke-opacity: 1; stroke-width: 1px;\"/><path class=\"ygrid crisp\" transform=\"translate(0,179.03)\" d=\"M80,0h402\" style=\"stroke: rgb(255, 255, 255); stroke-opacity: 1; stroke-width: 1px;\"/><path class=\"ygrid crisp\" transform=\"translate(0,130.91)\" d=\"M80,0h402\" style=\"stroke: rgb(255, 255, 255); stroke-opacity: 1; stroke-width: 1px;\"/></g></g><g class=\"zerolinelayer\"><path class=\"yzl zl crisp\" transform=\"translate(0,419.62)\" d=\"M80,0h402\" style=\"stroke: rgb(255, 255, 255); stroke-opacity: 1; stroke-width: 2px;\"/></g><path class=\"xlines-below\"/><path class=\"ylines-below\"/><g class=\"overlines-below\"/><g class=\"xaxislayer-below\"/><g class=\"yaxislayer-below\"/><g class=\"overaxes-below\"/><g class=\"plot\" transform=\"translate(80,100)\" clip-path=\"url(#clip80e910xyplot)\"><g class=\"scatterlayer mlayer\"><g class=\"trace scatter trace3076ab\" style=\"stroke-miterlimit: 2; opacity: 1;\"><g class=\"fills\"/><g class=\"errorbars\"/><g class=\"lines\"><path class=\"js-line\" d=\"M0,173.29L4.99,188.97L9.5,169.17L14.5,170.11L19.33,165.71L24.32,168.28L29.15,178.61L34.14,154.92L39.14,179.64L43.97,175.47L48.96,158.85L53.79,215.89L58.79,160.78L63.78,114.24L68.29,111.5L73.28,31.56L78.11,150.65L83.11,157L87.94,147.02L92.93,178.02L97.92,142.07L102.75,201.72L107.75,169.43L112.58,225.86L117.57,200.77L122.56,200.97L127.24,281.4L132.23,304L137.06,297.24L146.88,262.52L151.88,255.3L156.87,257.16L161.7,251.67L166.69,236.76L171.53,236.1L176.52,240.28L181.51,246.85L186.02,239.71L191.01,240.71L200.84,236.1L205.67,227.05L210.66,220.4L215.66,195.02L220.49,175.33L225.48,203.44L230.31,187.02L235.31,176.55L240.3,192.05\" style=\"vector-effect: non-scaling-stroke; fill: none; stroke: rgb(99, 110, 250); stroke-opacity: 1; stroke-width: 2px; opacity: 1;\"/></g><g class=\"points\"/><g class=\"text\"/></g><g class=\"trace scatter trace833179\" style=\"stroke-miterlimit: 2; opacity: 1;\"><g class=\"fills\"/><g class=\"errorbars\"/><g class=\"lines\"><path class=\"js-line\" d=\"M0,173.29L4.99,188.97L9.5,169.17L14.5,170.11L19.33,165.71L24.32,168.28L29.15,178.61L34.14,154.92L39.14,179.64L43.97,175.47L48.96,158.85L53.79,215.89L58.79,160.78L63.78,114.24L68.29,111.5L73.28,31.56L78.11,150.65L83.11,157L87.94,147.02L92.93,178.02L97.92,142.07\" style=\"vector-effect: non-scaling-stroke; fill: none; stroke: rgb(239, 85, 59); stroke-opacity: 1; stroke-width: 2px; opacity: 1;\"/></g><g class=\"points\"/><g class=\"text\"/></g><g class=\"trace scatter trace841f04\" style=\"stroke-miterlimit: 2; opacity: 1;\"><g class=\"fills\"/><g class=\"errorbars\"/><g class=\"lines\"><path class=\"js-line\" d=\"M97.92,152.05L102.75,147.78L107.75,148.45L112.58,157.23L117.57,134.65L122.56,123.04L127.24,118.72L132.23,65.34L137.06,117.95L142.05,122.52L146.88,129.02L151.88,138.53L156.87,137.36L171.53,137.46L176.52,134.08L181.51,124.46L186.02,121.14L191.01,70.31L195.85,110.86L200.84,118.23L205.67,126.71L210.66,133.71L215.66,134.67L230.31,135L235.31,136.06L240.3,124.84L244.81,120.79L249.8,71.81L254.63,105.66L259.63,116.74L264.46,124.94L269.45,132.96L274.44,134.01L294.09,135.31L299.08,124.95L303.59,121.1L308.59,70.52L313.42,106.76L318.41,114.02L328.24,133.58L333.23,133.98L347.88,134.41L352.88,135.49L357.87,124.91L362.54,121.17L367.53,71.13L372.37,106.19L377.36,113.87L382.19,124.15L387.18,133.19L392.18,133.89L402,134.37\" style=\"vector-effect: non-scaling-stroke; fill: none; stroke: rgb(0, 204, 150); stroke-opacity: 1; stroke-width: 2px; opacity: 1;\"/></g><g class=\"points\"/><g class=\"text\"/></g><g class=\"trace scatter trace134cde\" style=\"stroke-miterlimit: 2; opacity: 1;\"><g class=\"fills\"/><g class=\"errorbars\"/><g class=\"lines\"><path class=\"js-line\" d=\"M132.23,304L137.06,297.24L142.05,278.85L146.88,262.52L151.88,255.3L156.87,257.16L161.7,251.67L166.69,236.76L171.53,236.1L176.52,240.28L181.51,246.85L186.02,239.71L191.01,240.71L200.84,236.1L205.67,227.05L210.66,220.4L215.66,195.02L220.49,175.33L225.48,203.44L230.31,187.02L235.31,176.55L240.3,192.05\" style=\"vector-effect: non-scaling-stroke; fill: none; stroke: rgb(171, 99, 250); stroke-opacity: 1; stroke-width: 2px; opacity: 1;\"/></g><g class=\"points\"/><g class=\"text\"/></g><g class=\"trace scatter tracee0499b\" style=\"stroke-miterlimit: 2; opacity: 1;\"><g class=\"fills\"/><g class=\"errorbars\"/><g class=\"lines\"><path class=\"js-line\" d=\"M240.3,189.26L254.63,170L259.63,163.58L289.1,125.06L294.09,137.95L343.05,73.74L347.88,67.32L352.88,80.21L357.87,73.79L377.36,48.1L382.19,41.68L402,16\" style=\"vector-effect: non-scaling-stroke; fill: none; stroke: rgb(255, 161, 90); stroke-opacity: 1; stroke-width: 2px; opacity: 1;\"/></g><g class=\"points\"/><g class=\"text\"/></g></g></g><g class=\"overplot\"/><path class=\"xlines-above crisp\" d=\"M0,0\" style=\"fill: none;\"/><path class=\"ylines-above crisp\" d=\"M0,0\" style=\"fill: none;\"/><g class=\"overlines-above\"/><g class=\"xaxislayer-above\"><g class=\"xtick\"><text text-anchor=\"middle\" x=\"0\" y=\"433\" transform=\"translate(80,0)\" style=\"font-family: 'Open Sans', verdana, arial, sans-serif; font-size: 12px; fill: rgb(42, 63, 95); fill-opacity: 1; white-space: pre; opacity: 1;\">2018</text></g><g class=\"xtick\"><text text-anchor=\"middle\" x=\"0\" y=\"433\" style=\"font-family: 'Open Sans', verdana, arial, sans-serif; font-size: 12px; fill: rgb(42, 63, 95); fill-opacity: 1; white-space: pre; opacity: 1;\" transform=\"translate(197.57,0)\">2020</text></g><g class=\"xtick\"><text text-anchor=\"middle\" x=\"0\" y=\"433\" style=\"font-family: 'Open Sans', verdana, arial, sans-serif; font-size: 12px; fill: rgb(42, 63, 95); fill-opacity: 1; white-space: pre; opacity: 1;\" transform=\"translate(315.31,0)\">2022</text></g><g class=\"xtick\"><text text-anchor=\"middle\" x=\"0\" y=\"433\" style=\"font-family: 'Open Sans', verdana, arial, sans-serif; font-size: 12px; fill: rgb(42, 63, 95); fill-opacity: 1; white-space: pre; opacity: 1;\" transform=\"translate(432.88,0)\">2024</text></g></g><g class=\"yaxislayer-above\"><g class=\"ytick\"><text text-anchor=\"end\" x=\"79\" y=\"4.199999999999999\" transform=\"translate(0,419.62)\" style=\"font-family: 'Open Sans', verdana, arial, sans-serif; font-size: 12px; fill: rgb(42, 63, 95); fill-opacity: 1; white-space: pre; opacity: 1;\">0</text></g><g class=\"ytick\"><text text-anchor=\"end\" x=\"79\" y=\"4.199999999999999\" style=\"font-family: 'Open Sans', verdana, arial, sans-serif; font-size: 12px; fill: rgb(42, 63, 95); fill-opacity: 1; white-space: pre; opacity: 1;\" transform=\"translate(0,371.5)\">50k</text></g><g class=\"ytick\"><text text-anchor=\"end\" x=\"79\" y=\"4.199999999999999\" style=\"font-family: 'Open Sans', verdana, arial, sans-serif; font-size: 12px; fill: rgb(42, 63, 95); fill-opacity: 1; white-space: pre; opacity: 1;\" transform=\"translate(0,323.38)\">100k</text></g><g class=\"ytick\"><text text-anchor=\"end\" x=\"79\" y=\"4.199999999999999\" style=\"font-family: 'Open Sans', verdana, arial, sans-serif; font-size: 12px; fill: rgb(42, 63, 95); fill-opacity: 1; white-space: pre; opacity: 1;\" transform=\"translate(0,275.27)\">150k</text></g><g class=\"ytick\"><text text-anchor=\"end\" x=\"79\" y=\"4.199999999999999\" style=\"font-family: 'Open Sans', verdana, arial, sans-serif; font-size: 12px; fill: rgb(42, 63, 95); fill-opacity: 1; white-space: pre; opacity: 1;\" transform=\"translate(0,227.15)\">200k</text></g><g class=\"ytick\"><text text-anchor=\"end\" x=\"79\" y=\"4.199999999999999\" style=\"font-family: 'Open Sans', verdana, arial, sans-serif; font-size: 12px; fill: rgb(42, 63, 95); fill-opacity: 1; white-space: pre; opacity: 1;\" transform=\"translate(0,179.03)\">250k</text></g><g class=\"ytick\"><text text-anchor=\"end\" x=\"79\" y=\"4.199999999999999\" style=\"font-family: 'Open Sans', verdana, arial, sans-serif; font-size: 12px; fill: rgb(42, 63, 95); fill-opacity: 1; white-space: pre; opacity: 1;\" transform=\"translate(0,130.91)\">300k</text></g></g><g class=\"overaxes-above\"/></g></g><g class=\"polarlayer\"/><g class=\"smithlayer\"/><g class=\"ternarylayer\"/><g class=\"geolayer\"/><g class=\"funnelarealayer\"/><g class=\"pielayer\"/><g class=\"iciclelayer\"/><g class=\"treemaplayer\"/><g class=\"sunburstlayer\"/><g class=\"glimages\"/><defs id=\"topdefs-80e910\"><g class=\"clips\"/><clipPath id=\"legend80e910\"><rect width=\"198\" height=\"124\" x=\"0\" y=\"0\"/></clipPath></defs><g class=\"layer-above\"><g class=\"imagelayer\"/><g class=\"shapelayer\"/></g><g class=\"infolayer\"><g class=\"legend\" pointer-events=\"all\" transform=\"translate(490.04,100)\"><rect class=\"bg\" shape-rendering=\"crispEdges\" style=\"stroke: rgb(68, 68, 68); stroke-opacity: 1; fill: rgb(255, 255, 255); fill-opacity: 1; stroke-width: 0px;\" width=\"198\" height=\"124\" x=\"0\" y=\"0\"/><g class=\"scrollbox\" transform=\"\" clip-path=\"url(#legend80e910)\"><text class=\"legendtitletext\" text-anchor=\"start\" x=\"2\" y=\"18.2\" style=\"font-family: 'Open Sans', verdana, arial, sans-serif; font-size: 14px; fill: rgb(42, 63, 95); fill-opacity: 1; white-space: pre;\">LINE</text><g class=\"groups\" transform=\"\"><g class=\"traces\" transform=\"translate(0,32.7)\" style=\"opacity: 1;\"><text class=\"legendtext\" text-anchor=\"start\" x=\"40\" y=\"4.680000000000001\" style=\"font-family: 'Open Sans', verdana, arial, sans-serif; font-size: 12px; fill: rgb(42, 63, 95); fill-opacity: 1; white-space: pre;\">ORIGINAL_VALUES</text><g class=\"layers\" style=\"opacity: 1;\"><g class=\"legendfill\"/><g class=\"legendlines\"><path class=\"js-line\" d=\"M5,0h30\" style=\"fill: none; stroke: rgb(99, 110, 250); stroke-opacity: 1; stroke-width: 2px;\"/></g><g class=\"legendsymbols\"><g class=\"legendpoints\"/></g></g><rect class=\"legendtoggle\" x=\"0\" y=\"-9.5\" width=\"192.875\" height=\"19\" style=\"fill: rgb(0, 0, 0); fill-opacity: 0;\"/></g></g><g class=\"groups\" transform=\"\"><g class=\"traces\" transform=\"translate(0,51.7)\" style=\"opacity: 1;\"><text class=\"legendtext\" text-anchor=\"start\" x=\"40\" y=\"4.680000000000001\" style=\"font-family: 'Open Sans', verdana, arial, sans-serif; font-size: 12px; fill: rgb(42, 63, 95); fill-opacity: 1; white-space: pre;\">PRE_COVID</text><g class=\"layers\" style=\"opacity: 1;\"><g class=\"legendfill\"/><g class=\"legendlines\"><path class=\"js-line\" d=\"M5,0h30\" style=\"fill: none; stroke: rgb(239, 85, 59); stroke-opacity: 1; stroke-width: 2px;\"/></g><g class=\"legendsymbols\"><g class=\"legendpoints\"/></g></g><rect class=\"legendtoggle\" x=\"0\" y=\"-9.5\" width=\"192.875\" height=\"19\" style=\"fill: rgb(0, 0, 0); fill-opacity: 0;\"/></g></g><g class=\"groups\" transform=\"\"><g class=\"traces\" transform=\"translate(0,70.7)\" style=\"opacity: 1;\"><text class=\"legendtext\" text-anchor=\"start\" x=\"40\" y=\"4.680000000000001\" style=\"font-family: 'Open Sans', verdana, arial, sans-serif; font-size: 12px; fill: rgb(42, 63, 95); fill-opacity: 1; white-space: pre;\">PRE_COVID_FORECAST</text><g class=\"layers\" style=\"opacity: 1;\"><g class=\"legendfill\"/><g class=\"legendlines\"><path class=\"js-line\" d=\"M5,0h30\" style=\"fill: none; stroke: rgb(0, 204, 150); stroke-opacity: 1; stroke-width: 2px;\"/></g><g class=\"legendsymbols\"><g class=\"legendpoints\"/></g></g><rect class=\"legendtoggle\" x=\"0\" y=\"-9.5\" width=\"192.875\" height=\"19\" style=\"fill: rgb(0, 0, 0); fill-opacity: 0;\"/></g></g><g class=\"groups\" transform=\"\"><g class=\"traces\" transform=\"translate(0,89.7)\" style=\"opacity: 1;\"><text class=\"legendtext\" text-anchor=\"start\" x=\"40\" y=\"4.680000000000001\" style=\"font-family: 'Open Sans', verdana, arial, sans-serif; font-size: 12px; fill: rgb(42, 63, 95); fill-opacity: 1; white-space: pre;\">POST_COVID</text><g class=\"layers\" style=\"opacity: 1;\"><g class=\"legendfill\"/><g class=\"legendlines\"><path class=\"js-line\" d=\"M5,0h30\" style=\"fill: none; stroke: rgb(171, 99, 250); stroke-opacity: 1; stroke-width: 2px;\"/></g><g class=\"legendsymbols\"><g class=\"legendpoints\"/></g></g><rect class=\"legendtoggle\" x=\"0\" y=\"-9.5\" width=\"192.875\" height=\"19\" style=\"fill: rgb(0, 0, 0); fill-opacity: 0;\"/></g></g><g class=\"groups\" transform=\"\"><g class=\"traces\" transform=\"translate(0,108.7)\" style=\"opacity: 1;\"><text class=\"legendtext\" text-anchor=\"start\" x=\"40\" y=\"4.680000000000001\" style=\"font-family: 'Open Sans', verdana, arial, sans-serif; font-size: 12px; fill: rgb(42, 63, 95); fill-opacity: 1; white-space: pre;\">POST_COVID_FORECAST</text><g class=\"layers\" style=\"opacity: 1;\"><g class=\"legendfill\"/><g class=\"legendlines\"><path class=\"js-line\" d=\"M5,0h30\" style=\"fill: none; stroke: rgb(255, 161, 90); stroke-opacity: 1; stroke-width: 2px;\"/></g><g class=\"legendsymbols\"><g class=\"legendpoints\"/></g></g><rect class=\"legendtoggle\" x=\"0\" y=\"-9.5\" width=\"192.875\" height=\"19\" style=\"fill: rgb(0, 0, 0); fill-opacity: 0;\"/></g></g></g><rect class=\"scrollbar\" rx=\"20\" ry=\"3\" width=\"0\" height=\"0\" style=\"fill: rgb(128, 139, 164); fill-opacity: 1;\" x=\"0\" y=\"0\"/></g><g class=\"g-gtitle\"><text class=\"gtitle\" x=\"35\" y=\"50\" text-anchor=\"start\" dy=\"0em\" style=\"font-family: 'Open Sans', verdana, arial, sans-serif; font-size: 17px; fill: rgb(42, 63, 95); opacity: 1; font-weight: normal; white-space: pre;\">Projection on time for I (PUBLIC)</text></g><g class=\"g-xtitle\"><text class=\"xtitle\" x=\"281\" y=\"460.8\" text-anchor=\"middle\" style=\"font-family: 'Open Sans', verdana, arial, sans-serif; font-size: 14px; fill: rgb(42, 63, 95); opacity: 1; font-weight: normal; white-space: pre;\">DATE</text></g><g class=\"g-ytitle\"><text class=\"ytitle\" transform=\"rotate(-90,24.200000000000003,260)\" x=\"24.200000000000003\" y=\"260\" text-anchor=\"middle\" style=\"font-family: 'Open Sans', verdana, arial, sans-serif; font-size: 14px; fill: rgb(42, 63, 95); opacity: 1; font-weight: normal; white-space: pre;\">QTY_PEOPLE_SERVED</text></g></g></svg>"
      ]
     },
     "metadata": {},
     "output_type": "display_data"
    }
   ],
   "source": [
    "forecast_df = forecast_df.melt(id_vars=['DATE'],\n",
    "                               var_name=\"LINE\",\n",
    "                               value_name=\"QTY_PEOPLE_SERVED\")\n",
    "\n",
    "\n",
    "fig = px.line(forecast_df,\n",
    "              x=\"DATE\",\n",
    "              y=\"QTY_PEOPLE_SERVED\",\n",
    "              color='LINE',\n",
    "              title='Projection on time for ' + TAG_CATEGORY +' ('+TAG_SECTOR+')')\n",
    "\n",
    "#fig.show()\n",
    "fig.show(renderer=\"svg\")"
   ]
  },
  {
   "cell_type": "markdown",
   "id": "404f718c",
   "metadata": {},
   "source": [
    "### Private"
   ]
  },
  {
   "cell_type": "code",
   "execution_count": 14,
   "id": "0e4348cc",
   "metadata": {},
   "outputs": [],
   "source": [
    "TAG_SECTOR = 'PRIVATE'\n",
    "\n",
    "data_sector_ts = data_category[['DATE', TAG_SECTOR]]\n",
    "data_sector_ts = data_sector_ts.rename({TAG_SECTOR: 'ORIGINAL_VALUES'}, axis=1) \n",
    "\n",
    "\n",
    "start = data_sector_ts['DATE'].min()\n",
    "periods = 360*7\n",
    "daterange = []\n",
    "for day in range(periods):\n",
    "    date = (start + datetime.timedelta(days = day)).isoformat()\n",
    "    daterange.append(date)\n",
    "    \n",
    "forecast_df = pd.DataFrame(daterange, columns=['DATE'])\n",
    "forecast_df['DATE'] = pd.to_datetime(forecast_df['DATE'])\n",
    "forecast_df = forecast_df[forecast_df['DATE'].dt.strftime('%d') == '01']\n",
    "forecast_df = forecast_df.reset_index(drop=True)\n",
    "\n",
    "forecast_df = pd.merge(forecast_df, data_sector_ts, how='left', on=('DATE','DATE'))"
   ]
  },
  {
   "cell_type": "code",
   "execution_count": 15,
   "id": "52fe897f",
   "metadata": {},
   "outputs": [],
   "source": [
    "# Change for every category and sector, according values on time\n",
    "data_sector_ts_pre = data_sector_ts[(data_sector_ts['DATE'] < '2019-10')].reset_index(drop=True)\n",
    "data_sector_ts_pre = data_sector_ts_pre.rename({'ORIGINAL_VALUES': 'PRE_COVID'}, axis=1) \n",
    "\n",
    "forecast_df = pd.merge(forecast_df, data_sector_ts_pre, how='left', on=('DATE','DATE'))\n",
    "\n",
    "umbral = data_sector_ts_pre['DATE'].max().strftime('%Y-%m')\n",
    "\n",
    "# model_forecast = retrain_model(data_sector_ts_pre, column_index = 'DATE' , column_values = 'PRE_COVID')\n",
    "# temp_resp = forecast_model(model_forecast, \n",
    "#                            forecast_df[(forecast_df['DATE'] >= umbral)][['DATE']],\n",
    "#                            column_name = 'DATE', \n",
    "#                            name_predicted = 'PRE_COVID_FORECAST')\n",
    "\n",
    "temp_resp = forecast_model_2(data_sector_ts_pre,\n",
    "                             forecast_df[(forecast_df['DATE'] >= umbral)][['DATE']],\n",
    "                             column_name = 'DATE',\n",
    "                             column_values = 'PRE_COVID',\n",
    "                             name_predicted = 'PRE_COVID_FORECAST',\n",
    "                             kind_model = 'rfg')\n",
    "\n",
    "forecast_df = pd.merge(forecast_df, temp_resp, how='left', on=('DATE','DATE'))"
   ]
  },
  {
   "cell_type": "code",
   "execution_count": 16,
   "id": "19bedd00",
   "metadata": {},
   "outputs": [],
   "source": [
    "data_sector_ts_post = data_sector_ts[(data_sector_ts['DATE'] > '2020-03')].reset_index(drop=True)\n",
    "data_sector_ts_post = data_sector_ts_post.rename({'ORIGINAL_VALUES': 'POST_COVID'}, axis=1) \n",
    "\n",
    "forecast_df = pd.merge(forecast_df, data_sector_ts_post, how='left', on=('DATE','DATE'))\n",
    "\n",
    "umbral = data_sector_ts_post['DATE'].max().strftime('%Y-%m')\n",
    "\n",
    "model_forecast = retrain_model(data_sector_ts_post, column_index = 'DATE' , column_values = 'POST_COVID', kind_model = 'linear')\n",
    "temp_resp = forecast_model(model_forecast, \n",
    "                           forecast_df[(forecast_df['DATE'] >= umbral)][['DATE']],\n",
    "                           column_name = 'DATE', \n",
    "                           name_predicted = 'POST_COVID_FORECAST')\n",
    "\n",
    "temp_resp = forecast_model_2(data_sector_ts_post,\n",
    "                             forecast_df[(forecast_df['DATE'] >= umbral)][['DATE']],\n",
    "                             column_name = 'DATE',\n",
    "                             column_values = 'POST_COVID',\n",
    "                             name_predicted = 'POST_COVID_FORECAST',\n",
    "                             kind_model = 'linear')\n",
    "\n",
    "\n",
    "forecast_df = pd.merge(forecast_df, temp_resp, how='left', on=('DATE','DATE'))"
   ]
  },
  {
   "cell_type": "code",
   "execution_count": 17,
   "id": "f4149d54",
   "metadata": {
    "scrolled": false
   },
   "outputs": [
    {
     "data": {
      "image/svg+xml": [
       "<svg class=\"main-svg\" xmlns=\"http://www.w3.org/2000/svg\" xmlns:xlink=\"http://www.w3.org/1999/xlink\" width=\"700\" height=\"500\" style=\"\" viewBox=\"0 0 700 500\"><rect x=\"0\" y=\"0\" width=\"700\" height=\"500\" style=\"fill: rgb(255, 255, 255); fill-opacity: 1;\"/><defs id=\"defs-488d6f\"><g class=\"clips\"><clipPath id=\"clip488d6fxyplot\" class=\"plotclip\"><rect width=\"402\" height=\"320\"/></clipPath><clipPath class=\"axesclip\" id=\"clip488d6fx\"><rect x=\"80\" y=\"0\" width=\"402\" height=\"500\"/></clipPath><clipPath class=\"axesclip\" id=\"clip488d6fy\"><rect x=\"0\" y=\"100\" width=\"700\" height=\"320\"/></clipPath><clipPath class=\"axesclip\" id=\"clip488d6fxy\"><rect x=\"80\" y=\"100\" width=\"402\" height=\"320\"/></clipPath></g><g class=\"gradients\"/><g class=\"patterns\"/></defs><g class=\"bglayer\"><rect class=\"bg\" x=\"80\" y=\"100\" width=\"402\" height=\"320\" style=\"fill: rgb(229, 236, 246); fill-opacity: 1; stroke-width: 0;\"/></g><g class=\"layer-below\"><g class=\"imagelayer\"/><g class=\"shapelayer\"/></g><g class=\"cartesianlayer\"><g class=\"subplot xy\"><g class=\"layer-subplot\"><g class=\"shapelayer\"/><g class=\"imagelayer\"/></g><g class=\"minor-gridlayer\"><g class=\"x\"/><g class=\"y\"/></g><g class=\"gridlayer\"><g class=\"x\"><path class=\"xgrid crisp\" transform=\"translate(197.57,0)\" d=\"M0,100v320\" style=\"stroke: rgb(255, 255, 255); stroke-opacity: 1; stroke-width: 1px;\"/><path class=\"xgrid crisp\" transform=\"translate(315.31,0)\" d=\"M0,100v320\" style=\"stroke: rgb(255, 255, 255); stroke-opacity: 1; stroke-width: 1px;\"/><path class=\"xgrid crisp\" transform=\"translate(432.88,0)\" d=\"M0,100v320\" style=\"stroke: rgb(255, 255, 255); stroke-opacity: 1; stroke-width: 1px;\"/></g><g class=\"y\"><path class=\"ygrid crisp\" transform=\"translate(0,398.21)\" d=\"M80,0h402\" style=\"stroke: rgb(255, 255, 255); stroke-opacity: 1; stroke-width: 1px;\"/><path class=\"ygrid crisp\" transform=\"translate(0,359.74)\" d=\"M80,0h402\" style=\"stroke: rgb(255, 255, 255); stroke-opacity: 1; stroke-width: 1px;\"/><path class=\"ygrid crisp\" transform=\"translate(0,321.26)\" d=\"M80,0h402\" style=\"stroke: rgb(255, 255, 255); stroke-opacity: 1; stroke-width: 1px;\"/><path class=\"ygrid crisp\" transform=\"translate(0,282.78999999999996)\" d=\"M80,0h402\" style=\"stroke: rgb(255, 255, 255); stroke-opacity: 1; stroke-width: 1px;\"/><path class=\"ygrid crisp\" transform=\"translate(0,244.32)\" d=\"M80,0h402\" style=\"stroke: rgb(255, 255, 255); stroke-opacity: 1; stroke-width: 1px;\"/><path class=\"ygrid crisp\" transform=\"translate(0,205.84)\" d=\"M80,0h402\" style=\"stroke: rgb(255, 255, 255); stroke-opacity: 1; stroke-width: 1px;\"/><path class=\"ygrid crisp\" transform=\"translate(0,167.37)\" d=\"M80,0h402\" style=\"stroke: rgb(255, 255, 255); stroke-opacity: 1; stroke-width: 1px;\"/><path class=\"ygrid crisp\" transform=\"translate(0,128.89)\" d=\"M80,0h402\" style=\"stroke: rgb(255, 255, 255); stroke-opacity: 1; stroke-width: 1px;\"/></g></g><g class=\"zerolinelayer\"/><path class=\"xlines-below\"/><path class=\"ylines-below\"/><g class=\"overlines-below\"/><g class=\"xaxislayer-below\"/><g class=\"yaxislayer-below\"/><g class=\"overaxes-below\"/><g class=\"plot\" transform=\"translate(80,100)\" clip-path=\"url(#clip488d6fxyplot)\"><g class=\"scatterlayer mlayer\"><g class=\"trace scatter trace50d722\" style=\"stroke-miterlimit: 2; opacity: 1;\"><g class=\"fills\"/><g class=\"errorbars\"/><g class=\"lines\"><path class=\"js-line\" d=\"M0,229.95L4.99,272.47L9.5,252.58L14.5,239.35L19.33,195.04L24.32,194.9L29.15,192.5L34.14,166.42L39.14,145.75L43.97,138.74L48.96,129.47L53.79,159.11L58.79,139.6L63.78,16L68.29,79.26L73.28,173.32L78.11,149.18L83.11,146.82L87.94,152.48L92.93,140.44L97.92,169.2L102.75,236.58L107.75,226.83L112.58,206.96L117.57,205.81L122.56,166.35L127.24,243.26L132.23,304L137.06,273.07L142.05,234.28L146.88,211.92L151.88,194.5L156.87,202.11L161.7,194.69L166.69,202.05L171.53,213.36L176.52,185.9L181.51,216.37L186.02,227.54L191.01,235.53L195.85,232.94L200.84,224.02L205.67,220.52L210.66,219.26L215.66,248.24L220.49,237.56L225.48,232.43L230.31,276.78L235.31,271.1L240.3,301.88\" style=\"vector-effect: non-scaling-stroke; fill: none; stroke: rgb(99, 110, 250); stroke-opacity: 1; stroke-width: 2px; opacity: 1;\"/></g><g class=\"points\"/><g class=\"text\"/></g><g class=\"trace scatter trace051db6\" style=\"stroke-miterlimit: 2; opacity: 1;\"><g class=\"fills\"/><g class=\"errorbars\"/><g class=\"lines\"><path class=\"js-line\" d=\"M0,229.95L4.99,272.47L9.5,252.58L14.5,239.35L19.33,195.04L24.32,194.9L29.15,192.5L34.14,166.42L39.14,145.75L43.97,138.74L48.96,129.47L53.79,159.11L58.79,139.6L63.78,16L68.29,79.26L73.28,173.32L78.11,149.18L83.11,146.82L87.94,152.48L92.93,140.44L97.92,169.2\" style=\"vector-effect: non-scaling-stroke; fill: none; stroke: rgb(239, 85, 59); stroke-opacity: 1; stroke-width: 2px; opacity: 1;\"/></g><g class=\"points\"/><g class=\"text\"/></g><g class=\"trace scatter traceb1457f\" style=\"stroke-miterlimit: 2; opacity: 1;\"><g class=\"fills\"/><g class=\"errorbars\"/><g class=\"lines\"><path class=\"js-line\" d=\"M97.92,159.61L102.75,157.42L107.75,156.39L112.58,156.77L117.57,121.72L122.56,70.03L127.24,74.68L132.23,124.26L137.06,129.14L142.05,130.96L146.88,131.88L151.88,132.04L156.87,134.88L166.69,134.82L171.53,134.66L176.52,112.81L181.51,68.93L186.02,73.89L191.01,117.65L195.85,124.98L200.84,128.19L210.66,130.52L215.66,133.16L230.31,133.51L235.31,114.82L240.3,66.13L244.81,73.93L249.8,117.63L254.63,123.67L259.63,126.95L264.46,128.8L269.45,130.15L274.44,132.7L289.1,133.12L294.09,113.71L299.08,67.54L303.59,75.37L308.59,116.8L313.42,122.67L318.41,126.94L323.24,128.8L328.24,129.78L333.23,132.75L347.88,133.08L352.88,114.17L357.87,66.88L362.54,75.21L367.53,117.57L372.37,122.82L377.36,126.74L382.19,128.55L387.18,129.68L392.18,132.73L402,132.99\" style=\"vector-effect: non-scaling-stroke; fill: none; stroke: rgb(0, 204, 150); stroke-opacity: 1; stroke-width: 2px; opacity: 1;\"/></g><g class=\"points\"/><g class=\"text\"/></g><g class=\"trace scatter trace3f710c\" style=\"stroke-miterlimit: 2; opacity: 1;\"><g class=\"fills\"/><g class=\"errorbars\"/><g class=\"lines\"><path class=\"js-line\" d=\"M132.23,304L137.06,273.07L142.05,234.28L146.88,211.92L151.88,194.5L156.87,202.11L161.7,194.69L166.69,202.05L171.53,213.36L176.52,185.9L181.51,216.37L186.02,227.54L191.01,235.53L195.85,232.94L200.84,224.02L205.67,220.52L210.66,219.26L215.66,248.24L220.49,237.56L225.48,232.43L230.31,276.78L235.31,271.1L240.3,301.88\" style=\"vector-effect: non-scaling-stroke; fill: none; stroke: rgb(171, 99, 250); stroke-opacity: 1; stroke-width: 2px; opacity: 1;\"/></g><g class=\"points\"/><g class=\"text\"/></g><g class=\"trace scatter tracec19bdf\" style=\"stroke-miterlimit: 2; opacity: 1;\"><g class=\"fills\"/><g class=\"errorbars\"/><g class=\"lines\"><path class=\"js-line\" d=\"M240.3,260.1L279.27,251.7L284.27,250.66L289.1,249.61L294.09,278.15L347.88,266.6L352.88,295.15L402,284.65\" style=\"vector-effect: non-scaling-stroke; fill: none; stroke: rgb(255, 161, 90); stroke-opacity: 1; stroke-width: 2px; opacity: 1;\"/></g><g class=\"points\"/><g class=\"text\"/></g></g></g><g class=\"overplot\"/><path class=\"xlines-above crisp\" d=\"M0,0\" style=\"fill: none;\"/><path class=\"ylines-above crisp\" d=\"M0,0\" style=\"fill: none;\"/><g class=\"overlines-above\"/><g class=\"xaxislayer-above\"><g class=\"xtick\"><text text-anchor=\"middle\" x=\"0\" y=\"433\" transform=\"translate(80,0)\" style=\"font-family: 'Open Sans', verdana, arial, sans-serif; font-size: 12px; fill: rgb(42, 63, 95); fill-opacity: 1; white-space: pre; opacity: 1;\">2018</text></g><g class=\"xtick\"><text text-anchor=\"middle\" x=\"0\" y=\"433\" style=\"font-family: 'Open Sans', verdana, arial, sans-serif; font-size: 12px; fill: rgb(42, 63, 95); fill-opacity: 1; white-space: pre; opacity: 1;\" transform=\"translate(197.57,0)\">2020</text></g><g class=\"xtick\"><text text-anchor=\"middle\" x=\"0\" y=\"433\" style=\"font-family: 'Open Sans', verdana, arial, sans-serif; font-size: 12px; fill: rgb(42, 63, 95); fill-opacity: 1; white-space: pre; opacity: 1;\" transform=\"translate(315.31,0)\">2022</text></g><g class=\"xtick\"><text text-anchor=\"middle\" x=\"0\" y=\"433\" style=\"font-family: 'Open Sans', verdana, arial, sans-serif; font-size: 12px; fill: rgb(42, 63, 95); fill-opacity: 1; white-space: pre; opacity: 1;\" transform=\"translate(432.88,0)\">2024</text></g></g><g class=\"yaxislayer-above\"><g class=\"ytick\"><text text-anchor=\"end\" x=\"79\" y=\"4.199999999999999\" transform=\"translate(0,398.21)\" style=\"font-family: 'Open Sans', verdana, arial, sans-serif; font-size: 12px; fill: rgb(42, 63, 95); fill-opacity: 1; white-space: pre; opacity: 1;\">20k</text></g><g class=\"ytick\"><text text-anchor=\"end\" x=\"79\" y=\"4.199999999999999\" style=\"font-family: 'Open Sans', verdana, arial, sans-serif; font-size: 12px; fill: rgb(42, 63, 95); fill-opacity: 1; white-space: pre; opacity: 1;\" transform=\"translate(0,359.74)\">40k</text></g><g class=\"ytick\"><text text-anchor=\"end\" x=\"79\" y=\"4.199999999999999\" style=\"font-family: 'Open Sans', verdana, arial, sans-serif; font-size: 12px; fill: rgb(42, 63, 95); fill-opacity: 1; white-space: pre; opacity: 1;\" transform=\"translate(0,321.26)\">60k</text></g><g class=\"ytick\"><text text-anchor=\"end\" x=\"79\" y=\"4.199999999999999\" style=\"font-family: 'Open Sans', verdana, arial, sans-serif; font-size: 12px; fill: rgb(42, 63, 95); fill-opacity: 1; white-space: pre; opacity: 1;\" transform=\"translate(0,282.78999999999996)\">80k</text></g><g class=\"ytick\"><text text-anchor=\"end\" x=\"79\" y=\"4.199999999999999\" style=\"font-family: 'Open Sans', verdana, arial, sans-serif; font-size: 12px; fill: rgb(42, 63, 95); fill-opacity: 1; white-space: pre; opacity: 1;\" transform=\"translate(0,244.32)\">100k</text></g><g class=\"ytick\"><text text-anchor=\"end\" x=\"79\" y=\"4.199999999999999\" style=\"font-family: 'Open Sans', verdana, arial, sans-serif; font-size: 12px; fill: rgb(42, 63, 95); fill-opacity: 1; white-space: pre; opacity: 1;\" transform=\"translate(0,205.84)\">120k</text></g><g class=\"ytick\"><text text-anchor=\"end\" x=\"79\" y=\"4.199999999999999\" style=\"font-family: 'Open Sans', verdana, arial, sans-serif; font-size: 12px; fill: rgb(42, 63, 95); fill-opacity: 1; white-space: pre; opacity: 1;\" transform=\"translate(0,167.37)\">140k</text></g><g class=\"ytick\"><text text-anchor=\"end\" x=\"79\" y=\"4.199999999999999\" style=\"font-family: 'Open Sans', verdana, arial, sans-serif; font-size: 12px; fill: rgb(42, 63, 95); fill-opacity: 1; white-space: pre; opacity: 1;\" transform=\"translate(0,128.89)\">160k</text></g></g><g class=\"overaxes-above\"/></g></g><g class=\"polarlayer\"/><g class=\"smithlayer\"/><g class=\"ternarylayer\"/><g class=\"geolayer\"/><g class=\"funnelarealayer\"/><g class=\"pielayer\"/><g class=\"iciclelayer\"/><g class=\"treemaplayer\"/><g class=\"sunburstlayer\"/><g class=\"glimages\"/><defs id=\"topdefs-488d6f\"><g class=\"clips\"/><clipPath id=\"legend488d6f\"><rect width=\"198\" height=\"124\" x=\"0\" y=\"0\"/></clipPath></defs><g class=\"layer-above\"><g class=\"imagelayer\"/><g class=\"shapelayer\"/></g><g class=\"infolayer\"><g class=\"legend\" pointer-events=\"all\" transform=\"translate(490.04,100)\"><rect class=\"bg\" shape-rendering=\"crispEdges\" width=\"198\" height=\"124\" x=\"0\" y=\"0\" style=\"stroke: rgb(68, 68, 68); stroke-opacity: 1; fill: rgb(255, 255, 255); fill-opacity: 1; stroke-width: 0px;\"/><g class=\"scrollbox\" transform=\"\" clip-path=\"url(#legend488d6f)\"><text class=\"legendtitletext\" text-anchor=\"start\" x=\"2\" y=\"18.2\" style=\"font-family: 'Open Sans', verdana, arial, sans-serif; font-size: 14px; fill: rgb(42, 63, 95); fill-opacity: 1; white-space: pre;\">LINE</text><g class=\"groups\" transform=\"\"><g class=\"traces\" transform=\"translate(0,32.7)\" style=\"opacity: 1;\"><text class=\"legendtext\" text-anchor=\"start\" x=\"40\" y=\"4.680000000000001\" style=\"font-family: 'Open Sans', verdana, arial, sans-serif; font-size: 12px; fill: rgb(42, 63, 95); fill-opacity: 1; white-space: pre;\">ORIGINAL_VALUES</text><g class=\"layers\" style=\"opacity: 1;\"><g class=\"legendfill\"/><g class=\"legendlines\"><path class=\"js-line\" d=\"M5,0h30\" style=\"fill: none; stroke: rgb(99, 110, 250); stroke-opacity: 1; stroke-width: 2px;\"/></g><g class=\"legendsymbols\"><g class=\"legendpoints\"/></g></g><rect class=\"legendtoggle\" x=\"0\" y=\"-9.5\" width=\"192.875\" height=\"19\" style=\"fill: rgb(0, 0, 0); fill-opacity: 0;\"/></g></g><g class=\"groups\" transform=\"\"><g class=\"traces\" transform=\"translate(0,51.7)\" style=\"opacity: 1;\"><text class=\"legendtext\" text-anchor=\"start\" x=\"40\" y=\"4.680000000000001\" style=\"font-family: 'Open Sans', verdana, arial, sans-serif; font-size: 12px; fill: rgb(42, 63, 95); fill-opacity: 1; white-space: pre;\">PRE_COVID</text><g class=\"layers\" style=\"opacity: 1;\"><g class=\"legendfill\"/><g class=\"legendlines\"><path class=\"js-line\" d=\"M5,0h30\" style=\"fill: none; stroke: rgb(239, 85, 59); stroke-opacity: 1; stroke-width: 2px;\"/></g><g class=\"legendsymbols\"><g class=\"legendpoints\"/></g></g><rect class=\"legendtoggle\" x=\"0\" y=\"-9.5\" width=\"192.875\" height=\"19\" style=\"fill: rgb(0, 0, 0); fill-opacity: 0;\"/></g></g><g class=\"groups\" transform=\"\"><g class=\"traces\" transform=\"translate(0,70.7)\" style=\"opacity: 1;\"><text class=\"legendtext\" text-anchor=\"start\" x=\"40\" y=\"4.680000000000001\" style=\"font-family: 'Open Sans', verdana, arial, sans-serif; font-size: 12px; fill: rgb(42, 63, 95); fill-opacity: 1; white-space: pre;\">PRE_COVID_FORECAST</text><g class=\"layers\" style=\"opacity: 1;\"><g class=\"legendfill\"/><g class=\"legendlines\"><path class=\"js-line\" d=\"M5,0h30\" style=\"fill: none; stroke: rgb(0, 204, 150); stroke-opacity: 1; stroke-width: 2px;\"/></g><g class=\"legendsymbols\"><g class=\"legendpoints\"/></g></g><rect class=\"legendtoggle\" x=\"0\" y=\"-9.5\" width=\"192.875\" height=\"19\" style=\"fill: rgb(0, 0, 0); fill-opacity: 0;\"/></g></g><g class=\"groups\" transform=\"\"><g class=\"traces\" transform=\"translate(0,89.7)\" style=\"opacity: 1;\"><text class=\"legendtext\" text-anchor=\"start\" x=\"40\" y=\"4.680000000000001\" style=\"font-family: 'Open Sans', verdana, arial, sans-serif; font-size: 12px; fill: rgb(42, 63, 95); fill-opacity: 1; white-space: pre;\">POST_COVID</text><g class=\"layers\" style=\"opacity: 1;\"><g class=\"legendfill\"/><g class=\"legendlines\"><path class=\"js-line\" d=\"M5,0h30\" style=\"fill: none; stroke: rgb(171, 99, 250); stroke-opacity: 1; stroke-width: 2px;\"/></g><g class=\"legendsymbols\"><g class=\"legendpoints\"/></g></g><rect class=\"legendtoggle\" x=\"0\" y=\"-9.5\" width=\"192.875\" height=\"19\" style=\"fill: rgb(0, 0, 0); fill-opacity: 0;\"/></g></g><g class=\"groups\" transform=\"\"><g class=\"traces\" transform=\"translate(0,108.7)\" style=\"opacity: 1;\"><text class=\"legendtext\" text-anchor=\"start\" x=\"40\" y=\"4.680000000000001\" style=\"font-family: 'Open Sans', verdana, arial, sans-serif; font-size: 12px; fill: rgb(42, 63, 95); fill-opacity: 1; white-space: pre;\">POST_COVID_FORECAST</text><g class=\"layers\" style=\"opacity: 1;\"><g class=\"legendfill\"/><g class=\"legendlines\"><path class=\"js-line\" d=\"M5,0h30\" style=\"fill: none; stroke: rgb(255, 161, 90); stroke-opacity: 1; stroke-width: 2px;\"/></g><g class=\"legendsymbols\"><g class=\"legendpoints\"/></g></g><rect class=\"legendtoggle\" x=\"0\" y=\"-9.5\" width=\"192.875\" height=\"19\" style=\"fill: rgb(0, 0, 0); fill-opacity: 0;\"/></g></g></g><rect class=\"scrollbar\" rx=\"20\" ry=\"3\" width=\"0\" height=\"0\" x=\"0\" y=\"0\" style=\"fill: rgb(128, 139, 164); fill-opacity: 1;\"/></g><g class=\"g-gtitle\"><text class=\"gtitle\" x=\"35\" y=\"50\" text-anchor=\"start\" dy=\"0em\" style=\"font-family: 'Open Sans', verdana, arial, sans-serif; font-size: 17px; fill: rgb(42, 63, 95); opacity: 1; font-weight: normal; white-space: pre;\">Projection on time for I (PRIVATE)</text></g><g class=\"g-xtitle\"><text class=\"xtitle\" x=\"281\" y=\"460.8\" text-anchor=\"middle\" style=\"font-family: 'Open Sans', verdana, arial, sans-serif; font-size: 14px; fill: rgb(42, 63, 95); opacity: 1; font-weight: normal; white-space: pre;\">DATE</text></g><g class=\"g-ytitle\"><text class=\"ytitle\" transform=\"rotate(-90,24.200000000000003,260)\" x=\"24.200000000000003\" y=\"260\" text-anchor=\"middle\" style=\"font-family: 'Open Sans', verdana, arial, sans-serif; font-size: 14px; fill: rgb(42, 63, 95); opacity: 1; font-weight: normal; white-space: pre;\">QTY_PEOPLE_SERVED</text></g></g></svg>"
      ]
     },
     "metadata": {},
     "output_type": "display_data"
    }
   ],
   "source": [
    "forecast_df = forecast_df.melt(id_vars=['DATE'],\n",
    "                               var_name=\"LINE\",\n",
    "                               value_name=\"QTY_PEOPLE_SERVED\")\n",
    "\n",
    "\n",
    "fig = px.line(forecast_df,\n",
    "              x=\"DATE\",\n",
    "              y=\"QTY_PEOPLE_SERVED\",\n",
    "              color='LINE',\n",
    "              title='Projection on time for ' + TAG_CATEGORY +' ('+TAG_SECTOR+')')\n",
    "#fig.show()\n",
    "fig.show(renderer=\"svg\")"
   ]
  }
 ],
 "metadata": {
  "kernelspec": {
   "display_name": "pycaret_full",
   "language": "python",
   "name": "pycaret_reg"
  },
  "language_info": {
   "codemirror_mode": {
    "name": "ipython",
    "version": 3
   },
   "file_extension": ".py",
   "mimetype": "text/x-python",
   "name": "python",
   "nbconvert_exporter": "python",
   "pygments_lexer": "ipython3",
   "version": "3.8.13"
  }
 },
 "nbformat": 4,
 "nbformat_minor": 5
}
