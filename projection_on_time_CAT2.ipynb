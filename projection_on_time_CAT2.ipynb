{
 "cells": [
  {
   "cell_type": "code",
   "execution_count": 1,
   "id": "45d9ab60-73f5-4146-9ed8-ef7da600d9db",
   "metadata": {},
   "outputs": [],
   "source": [
    "import pandas as pd\n",
    "import numpy as np\n",
    "import glob\n",
    "from tqdm import tqdm, trange\n",
    "#import pickle5 as pickle\n",
    "\n",
    "\n",
    "# import matplotlib\n",
    "# import matplotlib.pyplot as plt\n",
    "# from matplotlib.pyplot import cm\n",
    "import plotly.express as px\n",
    "from difflib import SequenceMatcher\n",
    "import seaborn as sns"
   ]
  },
  {
   "cell_type": "code",
   "execution_count": 2,
   "id": "01b0c85f",
   "metadata": {},
   "outputs": [],
   "source": [
    "from statsmodels.tsa.seasonal import seasonal_decompose\n",
    "import plotly.graph_objects as go"
   ]
  },
  {
   "cell_type": "code",
   "execution_count": 3,
   "id": "a95e1606-c1c0-48f7-b2d6-546e90d3ac51",
   "metadata": {},
   "outputs": [],
   "source": [
    "# \"morbilidad_global_ts\": is data filtered, under 2018 and the record are only from Lima\n",
    "#all_data = pd.read_pickle('data/morbilidad_global_lima.pkl')\n",
    "all_data = pd.read_pickle('data/morbilidad_global_ts.pkl')"
   ]
  },
  {
   "cell_type": "code",
   "execution_count": 4,
   "id": "e80168f4",
   "metadata": {
    "scrolled": true
   },
   "outputs": [],
   "source": [
    "# Data grouped by Category (I, II, ...) and Sector (Private & public), for every date\n",
    "data =  all_data.groupby(['DATE', 'SECTOR','CATEGORY2', 'DIAGNOSIS_ID']).agg({'QTY_PEOPLE_SERVED': \"sum\"})\n",
    "data = data.reset_index()\n",
    "data =  data.groupby(['DATE', 'SECTOR','CATEGORY2']).agg({'QTY_PEOPLE_SERVED': \"sum\",\n",
    "                                                          'DIAGNOSIS_ID': \"count\"})\n",
    "data = data.reset_index()\n",
    "data.head()\n",
    "del all_data"
   ]
  },
  {
   "cell_type": "code",
   "execution_count": 5,
   "id": "277d3b3c",
   "metadata": {},
   "outputs": [],
   "source": [
    "import datetime\n",
    "import pandas as pd\n",
    "from sklearn.linear_model import LinearRegression \n",
    "from sklearn.ensemble import RandomForestRegressor\n",
    "import xgboost as xgb\n",
    "import plotly.express as px\n",
    " \n",
    "def retrain_model(df, column_index = 'DATE' , column_values = 'ORIGINAL_VALUES_PRE',kind_model = 'linear'):\n",
    "    months = [x.month for x in df[column_index]]\n",
    "    years = [x.year for x in df[column_index]]\n",
    "    day = [x.day for x in df[column_index]]\n",
    "\n",
    "    X = np.array([day, months, years]).T\n",
    "    \n",
    "    if kind_model == 'linear':\n",
    "        model = LinearRegression()\n",
    "    elif kind_model == 'rfg':\n",
    "        model = RandomForestRegressor()\n",
    "    elif kind_model == 'xgb':\n",
    "        model = xgb.XGBRegressor()\n",
    "    else:\n",
    "        model = LinearRegression()\n",
    "        \n",
    "    model.fit(X, df[column_values].values)\n",
    "    return model\n",
    " \n",
    "def forecast_model(model, df, column_name = 'DATE', name_predicted = 'PREDICTED'):\n",
    "    months = [x.month for x in df[column_name]]\n",
    "    years = [x.year for x in df[column_name]]\n",
    "    day = [x.day for x in df[column_name]]\n",
    "\n",
    "    X = np.array([day, months, years]).T\n",
    "\n",
    "    preds = model.predict(X)\n",
    "    df[name_predicted] = preds\n",
    "    return df\n",
    "\n",
    "def forecast_model_2(df_base, df, column_name = 'DATE', column_values = 'PRE_COVID', name_predicted = 'PREDICTED', kind_model = 'linear'):\n",
    "    df_resp = pd.DataFrame()\n",
    "    for i in range(len(df)):\n",
    "        #df_temp = df.iloc[[2]]\n",
    "        df_temp = df.iloc[[i]].reset_index(drop=True).copy()\n",
    "        #i += 1\n",
    "        model_temp = retrain_model(df_base, column_index = column_name, column_values = column_values, kind_model=kind_model)\n",
    "        temp_resp = forecast_model(model_temp,\n",
    "                                   df_temp,\n",
    "                                   column_name = column_name, \n",
    "                                   name_predicted = column_values)\n",
    "        df_base = pd.concat([df_base,temp_resp])\n",
    "        df_resp = pd.concat([df_resp,temp_resp])\n",
    "    df_resp = df_resp.rename({column_values: name_predicted}, axis=1) \n",
    "    return df_resp"
   ]
  },
  {
   "cell_type": "markdown",
   "id": "56ab8e5c",
   "metadata": {},
   "source": [
    "### Category II"
   ]
  },
  {
   "cell_type": "code",
   "execution_count": 6,
   "id": "6bc6d6b9",
   "metadata": {},
   "outputs": [],
   "source": [
    "TAG_CATEGORY = 'II'"
   ]
  },
  {
   "cell_type": "code",
   "execution_count": 7,
   "id": "c487878a",
   "metadata": {},
   "outputs": [],
   "source": [
    "data_category = data[(data['CATEGORY2']==TAG_CATEGORY)]\n",
    "data_category = data_category.pivot_table(index=['DATE'],\n",
    "                                          columns=['SECTOR'],\n",
    "                                          values='QTY_PEOPLE_SERVED').fillna(0)\n",
    "data_category = data_category.reset_index().rename_axis(None, axis=1)"
   ]
  },
  {
   "cell_type": "code",
   "execution_count": 8,
   "id": "aea9d0d1",
   "metadata": {},
   "outputs": [
    {
     "data": {
      "image/svg+xml": [
       "<svg class=\"main-svg\" xmlns=\"http://www.w3.org/2000/svg\" xmlns:xlink=\"http://www.w3.org/1999/xlink\" width=\"700\" height=\"500\" style=\"\" viewBox=\"0 0 700 500\"><rect x=\"0\" y=\"0\" width=\"700\" height=\"500\" style=\"fill: rgb(255, 255, 255); fill-opacity: 1;\"/><defs id=\"defs-900742\"><g class=\"clips\"><clipPath id=\"clip900742xyplot\" class=\"plotclip\"><rect width=\"501\" height=\"296\"/></clipPath><clipPath class=\"axesclip\" id=\"clip900742x\"><rect x=\"80\" y=\"0\" width=\"501\" height=\"500\"/></clipPath><clipPath class=\"axesclip\" id=\"clip900742y\"><rect x=\"0\" y=\"100\" width=\"700\" height=\"296\"/></clipPath><clipPath class=\"axesclip\" id=\"clip900742xy\"><rect x=\"80\" y=\"100\" width=\"501\" height=\"296\"/></clipPath></g><g class=\"gradients\"/><g class=\"patterns\"/></defs><g class=\"bglayer\"><rect class=\"bg\" x=\"80\" y=\"100\" width=\"501\" height=\"296\" style=\"fill: rgb(229, 236, 246); fill-opacity: 1; stroke-width: 0;\"/></g><g class=\"layer-below\"><g class=\"imagelayer\"/><g class=\"shapelayer\"/></g><g class=\"cartesianlayer\"><g class=\"subplot xy\"><g class=\"layer-subplot\"><g class=\"shapelayer\"/><g class=\"imagelayer\"/></g><g class=\"minor-gridlayer\"><g class=\"x\"/><g class=\"y\"/></g><g class=\"gridlayer\"><g class=\"x\"><path class=\"xgrid crisp\" transform=\"translate(90.41,0)\" d=\"M0,100v296\" style=\"stroke: rgb(255, 255, 255); stroke-opacity: 1; stroke-width: 1px;\"/><path class=\"xgrid crisp\" transform=\"translate(99.81,0)\" d=\"M0,100v296\" style=\"stroke: rgb(255, 255, 255); stroke-opacity: 1; stroke-width: 1px;\"/><path class=\"xgrid crisp\" transform=\"translate(110.22,0)\" d=\"M0,100v296\" style=\"stroke: rgb(255, 255, 255); stroke-opacity: 1; stroke-width: 1px;\"/><path class=\"xgrid crisp\" transform=\"translate(120.28999999999999,0)\" d=\"M0,100v296\" style=\"stroke: rgb(255, 255, 255); stroke-opacity: 1; stroke-width: 1px;\"/><path class=\"xgrid crisp\" transform=\"translate(130.7,0)\" d=\"M0,100v296\" style=\"stroke: rgb(255, 255, 255); stroke-opacity: 1; stroke-width: 1px;\"/><path class=\"xgrid crisp\" transform=\"translate(140.78,0)\" d=\"M0,100v296\" style=\"stroke: rgb(255, 255, 255); stroke-opacity: 1; stroke-width: 1px;\"/><path class=\"xgrid crisp\" transform=\"translate(151.19,0)\" d=\"M0,100v296\" style=\"stroke: rgb(255, 255, 255); stroke-opacity: 1; stroke-width: 1px;\"/><path class=\"xgrid crisp\" transform=\"translate(161.6,0)\" d=\"M0,100v296\" style=\"stroke: rgb(255, 255, 255); stroke-opacity: 1; stroke-width: 1px;\"/><path class=\"xgrid crisp\" transform=\"translate(171.67000000000002,0)\" d=\"M0,100v296\" style=\"stroke: rgb(255, 255, 255); stroke-opacity: 1; stroke-width: 1px;\"/><path class=\"xgrid crisp\" transform=\"translate(182.07999999999998,0)\" d=\"M0,100v296\" style=\"stroke: rgb(255, 255, 255); stroke-opacity: 1; stroke-width: 1px;\"/><path class=\"xgrid crisp\" transform=\"translate(192.15,0)\" d=\"M0,100v296\" style=\"stroke: rgb(255, 255, 255); stroke-opacity: 1; stroke-width: 1px;\"/><path class=\"xgrid crisp\" transform=\"translate(202.56,0)\" d=\"M0,100v296\" style=\"stroke: rgb(255, 255, 255); stroke-opacity: 1; stroke-width: 1px;\"/><path class=\"xgrid crisp\" transform=\"translate(212.97,0)\" d=\"M0,100v296\" style=\"stroke: rgb(255, 255, 255); stroke-opacity: 1; stroke-width: 1px;\"/><path class=\"xgrid crisp\" transform=\"translate(222.38,0)\" d=\"M0,100v296\" style=\"stroke: rgb(255, 255, 255); stroke-opacity: 1; stroke-width: 1px;\"/><path class=\"xgrid crisp\" transform=\"translate(232.78,0)\" d=\"M0,100v296\" style=\"stroke: rgb(255, 255, 255); stroke-opacity: 1; stroke-width: 1px;\"/><path class=\"xgrid crisp\" transform=\"translate(242.86,0)\" d=\"M0,100v296\" style=\"stroke: rgb(255, 255, 255); stroke-opacity: 1; stroke-width: 1px;\"/><path class=\"xgrid crisp\" transform=\"translate(253.27,0)\" d=\"M0,100v296\" style=\"stroke: rgb(255, 255, 255); stroke-opacity: 1; stroke-width: 1px;\"/><path class=\"xgrid crisp\" transform=\"translate(263.34000000000003,0)\" d=\"M0,100v296\" style=\"stroke: rgb(255, 255, 255); stroke-opacity: 1; stroke-width: 1px;\"/><path class=\"xgrid crisp\" transform=\"translate(273.75,0)\" d=\"M0,100v296\" style=\"stroke: rgb(255, 255, 255); stroke-opacity: 1; stroke-width: 1px;\"/><path class=\"xgrid crisp\" transform=\"translate(284.15999999999997,0)\" d=\"M0,100v296\" style=\"stroke: rgb(255, 255, 255); stroke-opacity: 1; stroke-width: 1px;\"/><path class=\"xgrid crisp\" transform=\"translate(294.23,0)\" d=\"M0,100v296\" style=\"stroke: rgb(255, 255, 255); stroke-opacity: 1; stroke-width: 1px;\"/><path class=\"xgrid crisp\" transform=\"translate(304.64,0)\" d=\"M0,100v296\" style=\"stroke: rgb(255, 255, 255); stroke-opacity: 1; stroke-width: 1px;\"/><path class=\"xgrid crisp\" transform=\"translate(314.72,0)\" d=\"M0,100v296\" style=\"stroke: rgb(255, 255, 255); stroke-opacity: 1; stroke-width: 1px;\"/><path class=\"xgrid crisp\" transform=\"translate(325.13,0)\" d=\"M0,100v296\" style=\"stroke: rgb(255, 255, 255); stroke-opacity: 1; stroke-width: 1px;\"/><path class=\"xgrid crisp\" transform=\"translate(335.53999999999996,0)\" d=\"M0,100v296\" style=\"stroke: rgb(255, 255, 255); stroke-opacity: 1; stroke-width: 1px;\"/><path class=\"xgrid crisp\" transform=\"translate(345.27,0)\" d=\"M0,100v296\" style=\"stroke: rgb(255, 255, 255); stroke-opacity: 1; stroke-width: 1px;\"/><path class=\"xgrid crisp\" transform=\"translate(355.68,0)\" d=\"M0,100v296\" style=\"stroke: rgb(255, 255, 255); stroke-opacity: 1; stroke-width: 1px;\"/><path class=\"xgrid crisp\" transform=\"translate(365.76,0)\" d=\"M0,100v296\" style=\"stroke: rgb(255, 255, 255); stroke-opacity: 1; stroke-width: 1px;\"/><path class=\"xgrid crisp\" transform=\"translate(376.17,0)\" d=\"M0,100v296\" style=\"stroke: rgb(255, 255, 255); stroke-opacity: 1; stroke-width: 1px;\"/><path class=\"xgrid crisp\" transform=\"translate(386.24,0)\" d=\"M0,100v296\" style=\"stroke: rgb(255, 255, 255); stroke-opacity: 1; stroke-width: 1px;\"/><path class=\"xgrid crisp\" transform=\"translate(396.65,0)\" d=\"M0,100v296\" style=\"stroke: rgb(255, 255, 255); stroke-opacity: 1; stroke-width: 1px;\"/><path class=\"xgrid crisp\" transform=\"translate(407.06,0)\" d=\"M0,100v296\" style=\"stroke: rgb(255, 255, 255); stroke-opacity: 1; stroke-width: 1px;\"/><path class=\"xgrid crisp\" transform=\"translate(417.13,0)\" d=\"M0,100v296\" style=\"stroke: rgb(255, 255, 255); stroke-opacity: 1; stroke-width: 1px;\"/><path class=\"xgrid crisp\" transform=\"translate(427.54,0)\" d=\"M0,100v296\" style=\"stroke: rgb(255, 255, 255); stroke-opacity: 1; stroke-width: 1px;\"/><path class=\"xgrid crisp\" transform=\"translate(437.62,0)\" d=\"M0,100v296\" style=\"stroke: rgb(255, 255, 255); stroke-opacity: 1; stroke-width: 1px;\"/><path class=\"xgrid crisp\" transform=\"translate(448.03,0)\" d=\"M0,100v296\" style=\"stroke: rgb(255, 255, 255); stroke-opacity: 1; stroke-width: 1px;\"/><path class=\"xgrid crisp\" transform=\"translate(458.44,0)\" d=\"M0,100v296\" style=\"stroke: rgb(255, 255, 255); stroke-opacity: 1; stroke-width: 1px;\"/><path class=\"xgrid crisp\" transform=\"translate(467.84,0)\" d=\"M0,100v296\" style=\"stroke: rgb(255, 255, 255); stroke-opacity: 1; stroke-width: 1px;\"/><path class=\"xgrid crisp\" transform=\"translate(478.25,0)\" d=\"M0,100v296\" style=\"stroke: rgb(255, 255, 255); stroke-opacity: 1; stroke-width: 1px;\"/><path class=\"xgrid crisp\" transform=\"translate(488.32,0)\" d=\"M0,100v296\" style=\"stroke: rgb(255, 255, 255); stroke-opacity: 1; stroke-width: 1px;\"/><path class=\"xgrid crisp\" transform=\"translate(498.73,0)\" d=\"M0,100v296\" style=\"stroke: rgb(255, 255, 255); stroke-opacity: 1; stroke-width: 1px;\"/><path class=\"xgrid crisp\" transform=\"translate(508.8,0)\" d=\"M0,100v296\" style=\"stroke: rgb(255, 255, 255); stroke-opacity: 1; stroke-width: 1px;\"/><path class=\"xgrid crisp\" transform=\"translate(519.21,0)\" d=\"M0,100v296\" style=\"stroke: rgb(255, 255, 255); stroke-opacity: 1; stroke-width: 1px;\"/><path class=\"xgrid crisp\" transform=\"translate(529.62,0)\" d=\"M0,100v296\" style=\"stroke: rgb(255, 255, 255); stroke-opacity: 1; stroke-width: 1px;\"/><path class=\"xgrid crisp\" transform=\"translate(539.7,0)\" d=\"M0,100v296\" style=\"stroke: rgb(255, 255, 255); stroke-opacity: 1; stroke-width: 1px;\"/><path class=\"xgrid crisp\" transform=\"translate(550.11,0)\" d=\"M0,100v296\" style=\"stroke: rgb(255, 255, 255); stroke-opacity: 1; stroke-width: 1px;\"/><path class=\"xgrid crisp\" transform=\"translate(560.1800000000001,0)\" d=\"M0,100v296\" style=\"stroke: rgb(255, 255, 255); stroke-opacity: 1; stroke-width: 1px;\"/><path class=\"xgrid crisp\" transform=\"translate(570.5899999999999,0)\" d=\"M0,100v296\" style=\"stroke: rgb(255, 255, 255); stroke-opacity: 1; stroke-width: 1px;\"/></g><g class=\"y\"><path class=\"ygrid crisp\" transform=\"translate(0,326.37)\" d=\"M80,0h501\" style=\"stroke: rgb(255, 255, 255); stroke-opacity: 1; stroke-width: 1px;\"/><path class=\"ygrid crisp\" transform=\"translate(0,257.83000000000004)\" d=\"M80,0h501\" style=\"stroke: rgb(255, 255, 255); stroke-opacity: 1; stroke-width: 1px;\"/><path class=\"ygrid crisp\" transform=\"translate(0,189.29000000000002)\" d=\"M80,0h501\" style=\"stroke: rgb(255, 255, 255); stroke-opacity: 1; stroke-width: 1px;\"/><path class=\"ygrid crisp\" transform=\"translate(0,120.75)\" d=\"M80,0h501\" style=\"stroke: rgb(255, 255, 255); stroke-opacity: 1; stroke-width: 1px;\"/></g></g><g class=\"zerolinelayer\"><path class=\"yzl zl crisp\" transform=\"translate(0,394.91)\" d=\"M80,0h501\" style=\"stroke: rgb(255, 255, 255); stroke-opacity: 1; stroke-width: 2px;\"/></g><path class=\"xlines-below\"/><path class=\"ylines-below\"/><g class=\"overlines-below\"/><g class=\"xaxislayer-below\"/><g class=\"yaxislayer-below\"/><g class=\"overaxes-below\"/><g class=\"plot\" transform=\"translate(80,100)\" clip-path=\"url(#clip900742xyplot)\"><g class=\"scatterlayer mlayer\"><g class=\"trace scatter tracef300c0\" style=\"stroke-miterlimit: 2; opacity: 1;\"><g class=\"fills\"/><g class=\"errorbars\"/><g class=\"lines\"><path class=\"js-line\" d=\"M0,109.56L10.41,122.73L19.81,104.87L30.22,106.04L40.29,101.78L50.7,96.91L60.78,106.4L71.19,102.97L81.6,110.69L102.08,89.89L112.15,81.61L122.56,56.18L132.97,56.1L142.38,14.8L152.78,44.63L162.86,91.31L173.27,86.37L183.34,97.77L193.75,92.17L204.16,95.34L214.23,157.74L224.64,184.88L234.72,183.6L245.13,203.32L255.54,184.57L265.27,201.63L275.68,274.21L285.76,269.14L296.17,241.05L306.24,202.53L316.65,187.8L327.06,179.91L337.13,168.11L347.54,155.13L357.62,161.11L368.03,152.07L378.44,172.96L387.84,140.49L398.25,154.21L408.32,151.1L418.73,142.52L428.8,134.04L439.21,123.67L459.7,126.14L470.11,122.38L480.18,133.26L490.59,110.2L501,132.81\" style=\"vector-effect: non-scaling-stroke; fill: none; stroke: rgb(99, 110, 250); stroke-opacity: 1; stroke-width: 2px; opacity: 1;\"/></g><g class=\"points\"/><g class=\"text\"/></g><g class=\"trace scatter trace41ce9a\" style=\"stroke-miterlimit: 2; opacity: 1;\"><g class=\"fills\"/><g class=\"errorbars\"/><g class=\"lines\"><path class=\"js-line\" d=\"M0,184.95L10.41,193.88L19.81,181.63L30.22,175.51L40.29,166.65L50.7,180.58L60.78,182.01L71.19,163.97L81.6,154.17L91.67,157.36L102.08,153.4L112.15,179.84L122.56,167.41L132.97,156.01L142.38,142.69L152.78,157.29L162.86,187.13L173.27,173.83L183.34,195.91L193.75,192.86L204.16,190.89L214.23,224.04L224.64,235.34L234.72,222.95L245.13,230.38L255.54,217.18L265.27,252.81L275.68,281.2L285.76,278.49L296.17,275.05L306.24,258.24L316.65,248.19L327.06,245.22L347.54,228.64L357.62,232.44L368.03,217.54L378.44,231.47L387.84,220.81L398.25,199.45L408.32,205.37L418.73,218.43L428.8,203.81L439.21,205.53L449.62,193.04L459.7,178.2L470.11,165.72L480.18,171.66L490.59,155.66L501,178.12\" style=\"vector-effect: non-scaling-stroke; fill: none; stroke: rgb(239, 85, 59); stroke-opacity: 1; stroke-width: 2px; opacity: 1;\"/></g><g class=\"points\"/><g class=\"text\"/></g></g></g><g class=\"overplot\"/><path class=\"xlines-above crisp\" d=\"M0,0\" style=\"fill: none;\"/><path class=\"ylines-above crisp\" d=\"M0,0\" style=\"fill: none;\"/><g class=\"overlines-above\"/><g class=\"xaxislayer-above\"><g class=\"xtick\"><text text-anchor=\"start\" x=\"0\" y=\"409\" transform=\"translate(80,0) rotate(90,0,403)\" style=\"font-family: 'Open Sans', verdana, arial, sans-serif; font-size: 12px; fill: rgb(42, 63, 95); fill-opacity: 1; white-space: pre; opacity: 1;\">Jan-2018</text></g><g class=\"xtick\"><text text-anchor=\"start\" x=\"0\" y=\"409\" style=\"font-family: 'Open Sans', verdana, arial, sans-serif; font-size: 12px; fill: rgb(42, 63, 95); fill-opacity: 1; white-space: pre; opacity: 1;\" transform=\"translate(90.41,0) rotate(90,0,403)\">Feb-2018</text></g><g class=\"xtick\"><text text-anchor=\"start\" x=\"0\" y=\"409\" style=\"font-family: 'Open Sans', verdana, arial, sans-serif; font-size: 12px; fill: rgb(42, 63, 95); fill-opacity: 1; white-space: pre; opacity: 1;\" transform=\"translate(99.81,0) rotate(90,0,403)\">Mar-2018</text></g><g class=\"xtick\"><text text-anchor=\"start\" x=\"0\" y=\"409\" style=\"font-family: 'Open Sans', verdana, arial, sans-serif; font-size: 12px; fill: rgb(42, 63, 95); fill-opacity: 1; white-space: pre; opacity: 1;\" transform=\"translate(110.22,0) rotate(90,0,403)\">Apr-2018</text></g><g class=\"xtick\"><text text-anchor=\"start\" x=\"0\" y=\"409\" style=\"font-family: 'Open Sans', verdana, arial, sans-serif; font-size: 12px; fill: rgb(42, 63, 95); fill-opacity: 1; white-space: pre; opacity: 1;\" transform=\"translate(120.28999999999999,0) rotate(90,0,403)\">May-2018</text></g><g class=\"xtick\"><text text-anchor=\"start\" x=\"0\" y=\"409\" style=\"font-family: 'Open Sans', verdana, arial, sans-serif; font-size: 12px; fill: rgb(42, 63, 95); fill-opacity: 1; white-space: pre; opacity: 1;\" transform=\"translate(130.7,0) rotate(90,0,403)\">Jun-2018</text></g><g class=\"xtick\"><text text-anchor=\"start\" x=\"0\" y=\"409\" style=\"font-family: 'Open Sans', verdana, arial, sans-serif; font-size: 12px; fill: rgb(42, 63, 95); fill-opacity: 1; white-space: pre; opacity: 1;\" transform=\"translate(140.78,0) rotate(90,0,403)\">Jul-2018</text></g><g class=\"xtick\"><text text-anchor=\"start\" x=\"0\" y=\"409\" style=\"font-family: 'Open Sans', verdana, arial, sans-serif; font-size: 12px; fill: rgb(42, 63, 95); fill-opacity: 1; white-space: pre; opacity: 1;\" transform=\"translate(151.19,0) rotate(90,0,403)\">Aug-2018</text></g><g class=\"xtick\"><text text-anchor=\"start\" x=\"0\" y=\"409\" style=\"font-family: 'Open Sans', verdana, arial, sans-serif; font-size: 12px; fill: rgb(42, 63, 95); fill-opacity: 1; white-space: pre; opacity: 1;\" transform=\"translate(161.6,0) rotate(90,0,403)\">Sep-2018</text></g><g class=\"xtick\"><text text-anchor=\"start\" x=\"0\" y=\"409\" style=\"font-family: 'Open Sans', verdana, arial, sans-serif; font-size: 12px; fill: rgb(42, 63, 95); fill-opacity: 1; white-space: pre; opacity: 1;\" transform=\"translate(171.67000000000002,0) rotate(90,0,403)\">Oct-2018</text></g><g class=\"xtick\"><text text-anchor=\"start\" x=\"0\" y=\"409\" style=\"font-family: 'Open Sans', verdana, arial, sans-serif; font-size: 12px; fill: rgb(42, 63, 95); fill-opacity: 1; white-space: pre; opacity: 1;\" transform=\"translate(182.07999999999998,0) rotate(90,0,403)\">Nov-2018</text></g><g class=\"xtick\"><text text-anchor=\"start\" x=\"0\" y=\"409\" style=\"font-family: 'Open Sans', verdana, arial, sans-serif; font-size: 12px; fill: rgb(42, 63, 95); fill-opacity: 1; white-space: pre; opacity: 1;\" transform=\"translate(192.15,0) rotate(90,0,403)\">Dec-2018</text></g><g class=\"xtick\"><text text-anchor=\"start\" x=\"0\" y=\"409\" style=\"font-family: 'Open Sans', verdana, arial, sans-serif; font-size: 12px; fill: rgb(42, 63, 95); fill-opacity: 1; white-space: pre; opacity: 1;\" transform=\"translate(202.56,0) rotate(90,0,403)\">Jan-2019</text></g><g class=\"xtick\"><text text-anchor=\"start\" x=\"0\" y=\"409\" style=\"font-family: 'Open Sans', verdana, arial, sans-serif; font-size: 12px; fill: rgb(42, 63, 95); fill-opacity: 1; white-space: pre; opacity: 1;\" transform=\"translate(212.97,0) rotate(90,0,403)\">Feb-2019</text></g><g class=\"xtick\"><text text-anchor=\"start\" x=\"0\" y=\"409\" style=\"font-family: 'Open Sans', verdana, arial, sans-serif; font-size: 12px; fill: rgb(42, 63, 95); fill-opacity: 1; white-space: pre; opacity: 1;\" transform=\"translate(222.38,0) rotate(90,0,403)\">Mar-2019</text></g><g class=\"xtick\"><text text-anchor=\"start\" x=\"0\" y=\"409\" style=\"font-family: 'Open Sans', verdana, arial, sans-serif; font-size: 12px; fill: rgb(42, 63, 95); fill-opacity: 1; white-space: pre; opacity: 1;\" transform=\"translate(232.78,0) rotate(90,0,403)\">Apr-2019</text></g><g class=\"xtick\"><text text-anchor=\"start\" x=\"0\" y=\"409\" style=\"font-family: 'Open Sans', verdana, arial, sans-serif; font-size: 12px; fill: rgb(42, 63, 95); fill-opacity: 1; white-space: pre; opacity: 1;\" transform=\"translate(242.86,0) rotate(90,0,403)\">May-2019</text></g><g class=\"xtick\"><text text-anchor=\"start\" x=\"0\" y=\"409\" style=\"font-family: 'Open Sans', verdana, arial, sans-serif; font-size: 12px; fill: rgb(42, 63, 95); fill-opacity: 1; white-space: pre; opacity: 1;\" transform=\"translate(253.27,0) rotate(90,0,403)\">Jun-2019</text></g><g class=\"xtick\"><text text-anchor=\"start\" x=\"0\" y=\"409\" style=\"font-family: 'Open Sans', verdana, arial, sans-serif; font-size: 12px; fill: rgb(42, 63, 95); fill-opacity: 1; white-space: pre; opacity: 1;\" transform=\"translate(263.34000000000003,0) rotate(90,0,403)\">Jul-2019</text></g><g class=\"xtick\"><text text-anchor=\"start\" x=\"0\" y=\"409\" style=\"font-family: 'Open Sans', verdana, arial, sans-serif; font-size: 12px; fill: rgb(42, 63, 95); fill-opacity: 1; white-space: pre; opacity: 1;\" transform=\"translate(273.75,0) rotate(90,0,403)\">Aug-2019</text></g><g class=\"xtick\"><text text-anchor=\"start\" x=\"0\" y=\"409\" style=\"font-family: 'Open Sans', verdana, arial, sans-serif; font-size: 12px; fill: rgb(42, 63, 95); fill-opacity: 1; white-space: pre; opacity: 1;\" transform=\"translate(284.15999999999997,0) rotate(90,0,403)\">Sep-2019</text></g><g class=\"xtick\"><text text-anchor=\"start\" x=\"0\" y=\"409\" style=\"font-family: 'Open Sans', verdana, arial, sans-serif; font-size: 12px; fill: rgb(42, 63, 95); fill-opacity: 1; white-space: pre; opacity: 1;\" transform=\"translate(294.23,0) rotate(90,0,403)\">Oct-2019</text></g><g class=\"xtick\"><text text-anchor=\"start\" x=\"0\" y=\"409\" style=\"font-family: 'Open Sans', verdana, arial, sans-serif; font-size: 12px; fill: rgb(42, 63, 95); fill-opacity: 1; white-space: pre; opacity: 1;\" transform=\"translate(304.64,0) rotate(90,0,403)\">Nov-2019</text></g><g class=\"xtick\"><text text-anchor=\"start\" x=\"0\" y=\"409\" style=\"font-family: 'Open Sans', verdana, arial, sans-serif; font-size: 12px; fill: rgb(42, 63, 95); fill-opacity: 1; white-space: pre; opacity: 1;\" transform=\"translate(314.72,0) rotate(90,0,403)\">Dec-2019</text></g><g class=\"xtick\"><text text-anchor=\"start\" x=\"0\" y=\"409\" style=\"font-family: 'Open Sans', verdana, arial, sans-serif; font-size: 12px; fill: rgb(42, 63, 95); fill-opacity: 1; white-space: pre; opacity: 1;\" transform=\"translate(325.13,0) rotate(90,0,403)\">Jan-2020</text></g><g class=\"xtick\"><text text-anchor=\"start\" x=\"0\" y=\"409\" style=\"font-family: 'Open Sans', verdana, arial, sans-serif; font-size: 12px; fill: rgb(42, 63, 95); fill-opacity: 1; white-space: pre; opacity: 1;\" transform=\"translate(335.53999999999996,0) rotate(90,0,403)\">Feb-2020</text></g><g class=\"xtick\"><text text-anchor=\"start\" x=\"0\" y=\"409\" style=\"font-family: 'Open Sans', verdana, arial, sans-serif; font-size: 12px; fill: rgb(42, 63, 95); fill-opacity: 1; white-space: pre; opacity: 1;\" transform=\"translate(345.27,0) rotate(90,0,403)\">Mar-2020</text></g><g class=\"xtick\"><text text-anchor=\"start\" x=\"0\" y=\"409\" style=\"font-family: 'Open Sans', verdana, arial, sans-serif; font-size: 12px; fill: rgb(42, 63, 95); fill-opacity: 1; white-space: pre; opacity: 1;\" transform=\"translate(355.68,0) rotate(90,0,403)\">Apr-2020</text></g><g class=\"xtick\"><text text-anchor=\"start\" x=\"0\" y=\"409\" style=\"font-family: 'Open Sans', verdana, arial, sans-serif; font-size: 12px; fill: rgb(42, 63, 95); fill-opacity: 1; white-space: pre; opacity: 1;\" transform=\"translate(365.76,0) rotate(90,0,403)\">May-2020</text></g><g class=\"xtick\"><text text-anchor=\"start\" x=\"0\" y=\"409\" style=\"font-family: 'Open Sans', verdana, arial, sans-serif; font-size: 12px; fill: rgb(42, 63, 95); fill-opacity: 1; white-space: pre; opacity: 1;\" transform=\"translate(376.17,0) rotate(90,0,403)\">Jun-2020</text></g><g class=\"xtick\"><text text-anchor=\"start\" x=\"0\" y=\"409\" style=\"font-family: 'Open Sans', verdana, arial, sans-serif; font-size: 12px; fill: rgb(42, 63, 95); fill-opacity: 1; white-space: pre; opacity: 1;\" transform=\"translate(386.24,0) rotate(90,0,403)\">Jul-2020</text></g><g class=\"xtick\"><text text-anchor=\"start\" x=\"0\" y=\"409\" style=\"font-family: 'Open Sans', verdana, arial, sans-serif; font-size: 12px; fill: rgb(42, 63, 95); fill-opacity: 1; white-space: pre; opacity: 1;\" transform=\"translate(396.65,0) rotate(90,0,403)\">Aug-2020</text></g><g class=\"xtick\"><text text-anchor=\"start\" x=\"0\" y=\"409\" style=\"font-family: 'Open Sans', verdana, arial, sans-serif; font-size: 12px; fill: rgb(42, 63, 95); fill-opacity: 1; white-space: pre; opacity: 1;\" transform=\"translate(407.06,0) rotate(90,0,403)\">Sep-2020</text></g><g class=\"xtick\"><text text-anchor=\"start\" x=\"0\" y=\"409\" style=\"font-family: 'Open Sans', verdana, arial, sans-serif; font-size: 12px; fill: rgb(42, 63, 95); fill-opacity: 1; white-space: pre; opacity: 1;\" transform=\"translate(417.13,0) rotate(90,0,403)\">Oct-2020</text></g><g class=\"xtick\"><text text-anchor=\"start\" x=\"0\" y=\"409\" style=\"font-family: 'Open Sans', verdana, arial, sans-serif; font-size: 12px; fill: rgb(42, 63, 95); fill-opacity: 1; white-space: pre; opacity: 1;\" transform=\"translate(427.54,0) rotate(90,0,403)\">Nov-2020</text></g><g class=\"xtick\"><text text-anchor=\"start\" x=\"0\" y=\"409\" style=\"font-family: 'Open Sans', verdana, arial, sans-serif; font-size: 12px; fill: rgb(42, 63, 95); fill-opacity: 1; white-space: pre; opacity: 1;\" transform=\"translate(437.62,0) rotate(90,0,403)\">Dec-2020</text></g><g class=\"xtick\"><text text-anchor=\"start\" x=\"0\" y=\"409\" style=\"font-family: 'Open Sans', verdana, arial, sans-serif; font-size: 12px; fill: rgb(42, 63, 95); fill-opacity: 1; white-space: pre; opacity: 1;\" transform=\"translate(448.03,0) rotate(90,0,403)\">Jan-2021</text></g><g class=\"xtick\"><text text-anchor=\"start\" x=\"0\" y=\"409\" style=\"font-family: 'Open Sans', verdana, arial, sans-serif; font-size: 12px; fill: rgb(42, 63, 95); fill-opacity: 1; white-space: pre; opacity: 1;\" transform=\"translate(458.44,0) rotate(90,0,403)\">Feb-2021</text></g><g class=\"xtick\"><text text-anchor=\"start\" x=\"0\" y=\"409\" style=\"font-family: 'Open Sans', verdana, arial, sans-serif; font-size: 12px; fill: rgb(42, 63, 95); fill-opacity: 1; white-space: pre; opacity: 1;\" transform=\"translate(467.84,0) rotate(90,0,403)\">Mar-2021</text></g><g class=\"xtick\"><text text-anchor=\"start\" x=\"0\" y=\"409\" style=\"font-family: 'Open Sans', verdana, arial, sans-serif; font-size: 12px; fill: rgb(42, 63, 95); fill-opacity: 1; white-space: pre; opacity: 1;\" transform=\"translate(478.25,0) rotate(90,0,403)\">Apr-2021</text></g><g class=\"xtick\"><text text-anchor=\"start\" x=\"0\" y=\"409\" style=\"font-family: 'Open Sans', verdana, arial, sans-serif; font-size: 12px; fill: rgb(42, 63, 95); fill-opacity: 1; white-space: pre; opacity: 1;\" transform=\"translate(488.32,0) rotate(90,0,403)\">May-2021</text></g><g class=\"xtick\"><text text-anchor=\"start\" x=\"0\" y=\"409\" style=\"font-family: 'Open Sans', verdana, arial, sans-serif; font-size: 12px; fill: rgb(42, 63, 95); fill-opacity: 1; white-space: pre; opacity: 1;\" transform=\"translate(498.73,0) rotate(90,0,403)\">Jun-2021</text></g><g class=\"xtick\"><text text-anchor=\"start\" x=\"0\" y=\"409\" style=\"font-family: 'Open Sans', verdana, arial, sans-serif; font-size: 12px; fill: rgb(42, 63, 95); fill-opacity: 1; white-space: pre; opacity: 1;\" transform=\"translate(508.8,0) rotate(90,0,403)\">Jul-2021</text></g><g class=\"xtick\"><text text-anchor=\"start\" x=\"0\" y=\"409\" style=\"font-family: 'Open Sans', verdana, arial, sans-serif; font-size: 12px; fill: rgb(42, 63, 95); fill-opacity: 1; white-space: pre; opacity: 1;\" transform=\"translate(519.21,0) rotate(90,0,403)\">Aug-2021</text></g><g class=\"xtick\"><text text-anchor=\"start\" x=\"0\" y=\"409\" style=\"font-family: 'Open Sans', verdana, arial, sans-serif; font-size: 12px; fill: rgb(42, 63, 95); fill-opacity: 1; white-space: pre; opacity: 1;\" transform=\"translate(529.62,0) rotate(90,0,403)\">Sep-2021</text></g><g class=\"xtick\"><text text-anchor=\"start\" x=\"0\" y=\"409\" style=\"font-family: 'Open Sans', verdana, arial, sans-serif; font-size: 12px; fill: rgb(42, 63, 95); fill-opacity: 1; white-space: pre; opacity: 1;\" transform=\"translate(539.7,0) rotate(90,0,403)\">Oct-2021</text></g><g class=\"xtick\"><text text-anchor=\"start\" x=\"0\" y=\"409\" style=\"font-family: 'Open Sans', verdana, arial, sans-serif; font-size: 12px; fill: rgb(42, 63, 95); fill-opacity: 1; white-space: pre; opacity: 1;\" transform=\"translate(550.11,0) rotate(90,0,403)\">Nov-2021</text></g><g class=\"xtick\"><text text-anchor=\"start\" x=\"0\" y=\"409\" style=\"font-family: 'Open Sans', verdana, arial, sans-serif; font-size: 12px; fill: rgb(42, 63, 95); fill-opacity: 1; white-space: pre; opacity: 1;\" transform=\"translate(560.1800000000001,0) rotate(90,0,403)\">Dec-2021</text></g><g class=\"xtick\"><text text-anchor=\"start\" x=\"0\" y=\"409\" style=\"font-family: 'Open Sans', verdana, arial, sans-serif; font-size: 12px; fill: rgb(42, 63, 95); fill-opacity: 1; white-space: pre; opacity: 1;\" transform=\"translate(570.5899999999999,0) rotate(90,0,403)\">Jan-2022</text></g><g class=\"xtick\"><text text-anchor=\"start\" x=\"0\" y=\"409\" style=\"font-family: 'Open Sans', verdana, arial, sans-serif; font-size: 12px; fill: rgb(42, 63, 95); fill-opacity: 1; white-space: pre; opacity: 1;\" transform=\"translate(581,0) rotate(90,0,403)\">Feb-2022</text></g></g><g class=\"yaxislayer-above\"><g class=\"ytick\"><text text-anchor=\"end\" x=\"79\" y=\"4.199999999999999\" transform=\"translate(0,394.91)\" style=\"font-family: 'Open Sans', verdana, arial, sans-serif; font-size: 12px; fill: rgb(42, 63, 95); fill-opacity: 1; white-space: pre; opacity: 1;\">0</text></g><g class=\"ytick\"><text text-anchor=\"end\" x=\"79\" y=\"4.199999999999999\" style=\"font-family: 'Open Sans', verdana, arial, sans-serif; font-size: 12px; fill: rgb(42, 63, 95); fill-opacity: 1; white-space: pre; opacity: 1;\" transform=\"translate(0,326.37)\">200k</text></g><g class=\"ytick\"><text text-anchor=\"end\" x=\"79\" y=\"4.199999999999999\" style=\"font-family: 'Open Sans', verdana, arial, sans-serif; font-size: 12px; fill: rgb(42, 63, 95); fill-opacity: 1; white-space: pre; opacity: 1;\" transform=\"translate(0,257.83000000000004)\">400k</text></g><g class=\"ytick\"><text text-anchor=\"end\" x=\"79\" y=\"4.199999999999999\" style=\"font-family: 'Open Sans', verdana, arial, sans-serif; font-size: 12px; fill: rgb(42, 63, 95); fill-opacity: 1; white-space: pre; opacity: 1;\" transform=\"translate(0,189.29000000000002)\">600k</text></g><g class=\"ytick\"><text text-anchor=\"end\" x=\"79\" y=\"4.199999999999999\" style=\"font-family: 'Open Sans', verdana, arial, sans-serif; font-size: 12px; fill: rgb(42, 63, 95); fill-opacity: 1; white-space: pre; opacity: 1;\" transform=\"translate(0,120.75)\">800k</text></g></g><g class=\"overaxes-above\"/></g></g><g class=\"polarlayer\"/><g class=\"smithlayer\"/><g class=\"ternarylayer\"/><g class=\"geolayer\"/><g class=\"funnelarealayer\"/><g class=\"pielayer\"/><g class=\"iciclelayer\"/><g class=\"treemaplayer\"/><g class=\"sunburstlayer\"/><g class=\"glimages\"/><defs id=\"topdefs-900742\"><g class=\"clips\"/><clipPath id=\"legend900742\"><rect width=\"97\" height=\"67\" x=\"0\" y=\"0\"/></clipPath></defs><g class=\"layer-above\"><g class=\"imagelayer\"/><g class=\"shapelayer\"/></g><g class=\"infolayer\"><g class=\"legend\" pointer-events=\"all\" transform=\"translate(591.02,100)\"><rect class=\"bg\" shape-rendering=\"crispEdges\" style=\"stroke: rgb(68, 68, 68); stroke-opacity: 1; fill: rgb(255, 255, 255); fill-opacity: 1; stroke-width: 0px;\" width=\"97\" height=\"67\" x=\"0\" y=\"0\"/><g class=\"scrollbox\" transform=\"\" clip-path=\"url(#legend900742)\"><text class=\"legendtitletext\" text-anchor=\"start\" x=\"2\" y=\"18.2\" style=\"font-family: 'Open Sans', verdana, arial, sans-serif; font-size: 14px; fill: rgb(42, 63, 95); fill-opacity: 1; white-space: pre;\">Sector</text><g class=\"groups\" transform=\"\"><g class=\"traces\" transform=\"translate(0,32.7)\" style=\"opacity: 1;\"><text class=\"legendtext\" text-anchor=\"start\" x=\"40\" y=\"4.680000000000001\" style=\"font-family: 'Open Sans', verdana, arial, sans-serif; font-size: 12px; fill: rgb(42, 63, 95); fill-opacity: 1; white-space: pre;\">PRIVATE</text><g class=\"layers\" style=\"opacity: 1;\"><g class=\"legendfill\"/><g class=\"legendlines\"><path class=\"js-line\" d=\"M5,0h30\" style=\"fill: none; stroke: rgb(99, 110, 250); stroke-opacity: 1; stroke-width: 2px;\"/></g><g class=\"legendsymbols\"><g class=\"legendpoints\"/></g></g><rect class=\"legendtoggle\" x=\"0\" y=\"-9.5\" width=\"91.390625\" height=\"19\" style=\"fill: rgb(0, 0, 0); fill-opacity: 0;\"/></g></g><g class=\"groups\" transform=\"\"><g class=\"traces\" transform=\"translate(0,51.7)\" style=\"opacity: 1;\"><text class=\"legendtext\" text-anchor=\"start\" x=\"40\" y=\"4.680000000000001\" style=\"font-family: 'Open Sans', verdana, arial, sans-serif; font-size: 12px; fill: rgb(42, 63, 95); fill-opacity: 1; white-space: pre;\">PUBLIC</text><g class=\"layers\" style=\"opacity: 1;\"><g class=\"legendfill\"/><g class=\"legendlines\"><path class=\"js-line\" d=\"M5,0h30\" style=\"fill: none; stroke: rgb(239, 85, 59); stroke-opacity: 1; stroke-width: 2px;\"/></g><g class=\"legendsymbols\"><g class=\"legendpoints\"/></g></g><rect class=\"legendtoggle\" x=\"0\" y=\"-9.5\" width=\"91.390625\" height=\"19\" style=\"fill: rgb(0, 0, 0); fill-opacity: 0;\"/></g></g></g><rect class=\"scrollbar\" rx=\"20\" ry=\"3\" width=\"0\" height=\"0\" style=\"fill: rgb(128, 139, 164); fill-opacity: 1;\" x=\"0\" y=\"0\"/></g><g class=\"g-gtitle\"><text class=\"gtitle\" x=\"35\" y=\"50\" text-anchor=\"start\" dy=\"0em\" style=\"font-family: 'Open Sans', verdana, arial, sans-serif; font-size: 17px; fill: rgb(42, 63, 95); opacity: 1; font-weight: normal; white-space: pre;\">Total people served to Category II</text></g><g class=\"g-xtitle\"><text class=\"xtitle\" x=\"330.5\" y=\"488.2375\" text-anchor=\"middle\" style=\"font-family: 'Open Sans', verdana, arial, sans-serif; font-size: 14px; fill: rgb(42, 63, 95); opacity: 1; font-weight: normal; white-space: pre;\">Date</text></g><g class=\"g-ytitle\"><text class=\"ytitle\" transform=\"rotate(-90,24.200000000000003,248)\" x=\"24.200000000000003\" y=\"248\" text-anchor=\"middle\" style=\"font-family: 'Open Sans', verdana, arial, sans-serif; font-size: 14px; fill: rgb(42, 63, 95); opacity: 1; font-weight: normal; white-space: pre;\">People served (qty)</text></g></g></svg>"
      ]
     },
     "metadata": {},
     "output_type": "display_data"
    }
   ],
   "source": [
    "columns_name = list(data_category.columns)[1:]\n",
    "fig = px.line(data_category, \n",
    "              x=\"DATE\", \n",
    "              y=columns_name,\n",
    "              hover_data={\"DATE\": \"|%Y %b\"},\n",
    "              labels={\n",
    "                     \"value\": \"People served (qty)\",\n",
    "                     \"DATE\": \"Date\",\n",
    "                     \"variable\": \"Sector\"\n",
    "                 },\n",
    "              title='Total people served to Category ' + TAG_CATEGORY)\n",
    "\n",
    "fig.update_xaxes(\n",
    "    dtick=\"M1\",\n",
    "    tickformat=\"%b-%Y\")\n",
    "\n",
    "#fig.show()\n",
    "fig.show(renderer=\"svg\")"
   ]
  },
  {
   "cell_type": "markdown",
   "id": "3febc39d",
   "metadata": {},
   "source": [
    "### Public"
   ]
  },
  {
   "cell_type": "code",
   "execution_count": 9,
   "id": "33bba0fb",
   "metadata": {},
   "outputs": [],
   "source": [
    "TAG_SECTOR = 'PUBLIC'\n",
    "\n",
    "data_sector_ts = data_category[['DATE', TAG_SECTOR]]\n",
    "data_sector_ts = data_sector_ts.rename({TAG_SECTOR: 'ORIGINAL_VALUES'}, axis=1) \n",
    "\n",
    "\n",
    "start = data_sector_ts['DATE'].min()\n",
    "periods = 360*7\n",
    "daterange = []\n",
    "for day in range(periods):\n",
    "    date = (start + datetime.timedelta(days = day)).isoformat()\n",
    "    daterange.append(date)\n",
    "    \n",
    "forecast_df = pd.DataFrame(daterange, columns=['DATE'])\n",
    "forecast_df['DATE'] = pd.to_datetime(forecast_df['DATE'])\n",
    "forecast_df = forecast_df[forecast_df['DATE'].dt.strftime('%d') == '01']\n",
    "forecast_df = forecast_df.reset_index(drop=True)\n",
    "\n",
    "forecast_df = pd.merge(forecast_df, data_sector_ts, how='left', on=('DATE','DATE'))"
   ]
  },
  {
   "cell_type": "code",
   "execution_count": 10,
   "id": "b5bc4d79",
   "metadata": {
    "scrolled": false
   },
   "outputs": [],
   "source": [
    "# result = seasonal_decompose(data_sector_ts)\n",
    "# result.plot()"
   ]
  },
  {
   "cell_type": "markdown",
   "id": "983520d3",
   "metadata": {},
   "source": [
    "#### Pre covid"
   ]
  },
  {
   "cell_type": "code",
   "execution_count": 11,
   "id": "4aeab30a",
   "metadata": {},
   "outputs": [],
   "source": [
    "# Change for every category and sector, according values on time\n",
    "data_sector_ts_pre = data_sector_ts[(data_sector_ts['DATE'] < '2019-10')].reset_index(drop=True)\n",
    "data_sector_ts_pre = data_sector_ts_pre.rename({'ORIGINAL_VALUES': 'PRE_COVID'}, axis=1) \n",
    "\n",
    "forecast_df = pd.merge(forecast_df, data_sector_ts_pre, how='left', on=('DATE','DATE'))\n",
    "\n",
    "umbral = data_sector_ts_pre['DATE'].max().strftime('%Y-%m')\n",
    "\n",
    "# model_forecast = retrain_model(data_sector_ts_pre, column_index = 'DATE' , column_values = 'PRE_COVID')\n",
    "# temp_resp = forecast_model(model_forecast, \n",
    "#                            forecast_df[(forecast_df['DATE'] >= umbral)][['DATE']],\n",
    "#                            column_name = 'DATE', \n",
    "#                            name_predicted = 'PRE_COVID_FORECAST')\n",
    "\n",
    "temp_resp = forecast_model_2(data_sector_ts_pre,\n",
    "                             forecast_df[(forecast_df['DATE'] >= umbral)][['DATE']],\n",
    "                             column_name = 'DATE',\n",
    "                             column_values = 'PRE_COVID',\n",
    "                             name_predicted = 'PRE_COVID_FORECAST',\n",
    "                             kind_model = 'rfg')\n",
    "\n",
    "forecast_df = pd.merge(forecast_df, temp_resp, how='left', on=('DATE','DATE'))"
   ]
  },
  {
   "cell_type": "markdown",
   "id": "f3d841fb",
   "metadata": {},
   "source": [
    "#### Post covid"
   ]
  },
  {
   "cell_type": "code",
   "execution_count": 12,
   "id": "c667f776",
   "metadata": {},
   "outputs": [],
   "source": [
    "data_sector_ts_post = data_sector_ts[(data_sector_ts['DATE'] > '2020-03')].reset_index(drop=True)\n",
    "data_sector_ts_post = data_sector_ts_post.rename({'ORIGINAL_VALUES': 'POST_COVID'}, axis=1) \n",
    "\n",
    "forecast_df = pd.merge(forecast_df, data_sector_ts_post, how='left', on=('DATE','DATE'))\n",
    "\n",
    "umbral = data_sector_ts_post['DATE'].max().strftime('%Y-%m')\n",
    "\n",
    "model_forecast = retrain_model(data_sector_ts_post, column_index = 'DATE' , column_values = 'POST_COVID', kind_model = 'linear')\n",
    "temp_resp = forecast_model(model_forecast, \n",
    "                           forecast_df[(forecast_df['DATE'] >= umbral)][['DATE']],\n",
    "                           column_name = 'DATE', \n",
    "                           name_predicted = 'POST_COVID_FORECAST')\n",
    "\n",
    "temp_resp = forecast_model_2(data_sector_ts_post,\n",
    "                             forecast_df[(forecast_df['DATE'] >= umbral)][['DATE']],\n",
    "                             column_name = 'DATE',\n",
    "                             column_values = 'POST_COVID',\n",
    "                             name_predicted = 'POST_COVID_FORECAST',\n",
    "                             kind_model = 'linear')\n",
    "\n",
    "\n",
    "forecast_df = pd.merge(forecast_df, temp_resp, how='left', on=('DATE','DATE'))"
   ]
  },
  {
   "cell_type": "code",
   "execution_count": 13,
   "id": "4c142d2a",
   "metadata": {
    "scrolled": false
   },
   "outputs": [
    {
     "data": {
      "image/svg+xml": [
       "<svg class=\"main-svg\" xmlns=\"http://www.w3.org/2000/svg\" xmlns:xlink=\"http://www.w3.org/1999/xlink\" width=\"700\" height=\"500\" style=\"\" viewBox=\"0 0 700 500\"><rect x=\"0\" y=\"0\" width=\"700\" height=\"500\" style=\"fill: rgb(255, 255, 255); fill-opacity: 1;\"/><defs id=\"defs-94faae\"><g class=\"clips\"><clipPath id=\"clip94faaexyplot\" class=\"plotclip\"><rect width=\"402\" height=\"320\"/></clipPath><clipPath class=\"axesclip\" id=\"clip94faaex\"><rect x=\"80\" y=\"0\" width=\"402\" height=\"500\"/></clipPath><clipPath class=\"axesclip\" id=\"clip94faaey\"><rect x=\"0\" y=\"100\" width=\"700\" height=\"320\"/></clipPath><clipPath class=\"axesclip\" id=\"clip94faaexy\"><rect x=\"80\" y=\"100\" width=\"402\" height=\"320\"/></clipPath></g><g class=\"gradients\"/><g class=\"patterns\"/></defs><g class=\"bglayer\"><rect class=\"bg\" x=\"80\" y=\"100\" width=\"402\" height=\"320\" style=\"fill: rgb(229, 236, 246); fill-opacity: 1; stroke-width: 0;\"/></g><g class=\"layer-below\"><g class=\"imagelayer\"/><g class=\"shapelayer\"/></g><g class=\"cartesianlayer\"><g class=\"subplot xy\"><g class=\"layer-subplot\"><g class=\"shapelayer\"/><g class=\"imagelayer\"/></g><g class=\"minor-gridlayer\"><g class=\"x\"/><g class=\"y\"/></g><g class=\"gridlayer\"><g class=\"x\"><path class=\"xgrid crisp\" transform=\"translate(197.57,0)\" d=\"M0,100v320\" style=\"stroke: rgb(255, 255, 255); stroke-opacity: 1; stroke-width: 1px;\"/><path class=\"xgrid crisp\" transform=\"translate(315.31,0)\" d=\"M0,100v320\" style=\"stroke: rgb(255, 255, 255); stroke-opacity: 1; stroke-width: 1px;\"/><path class=\"xgrid crisp\" transform=\"translate(432.88,0)\" d=\"M0,100v320\" style=\"stroke: rgb(255, 255, 255); stroke-opacity: 1; stroke-width: 1px;\"/></g><g class=\"y\"><path class=\"ygrid crisp\" transform=\"translate(0,349.58000000000004)\" d=\"M80,0h402\" style=\"stroke: rgb(255, 255, 255); stroke-opacity: 1; stroke-width: 1px;\"/><path class=\"ygrid crisp\" transform=\"translate(0,281.55)\" d=\"M80,0h402\" style=\"stroke: rgb(255, 255, 255); stroke-opacity: 1; stroke-width: 1px;\"/><path class=\"ygrid crisp\" transform=\"translate(0,213.51999999999998)\" d=\"M80,0h402\" style=\"stroke: rgb(255, 255, 255); stroke-opacity: 1; stroke-width: 1px;\"/><path class=\"ygrid crisp\" transform=\"translate(0,145.49)\" d=\"M80,0h402\" style=\"stroke: rgb(255, 255, 255); stroke-opacity: 1; stroke-width: 1px;\"/></g></g><g class=\"zerolinelayer\"><path class=\"yzl zl crisp\" transform=\"translate(0,417.61)\" d=\"M80,0h402\" style=\"stroke: rgb(255, 255, 255); stroke-opacity: 1; stroke-width: 2px;\"/></g><path class=\"xlines-below\"/><path class=\"ylines-below\"/><g class=\"overlines-below\"/><g class=\"xaxislayer-below\"/><g class=\"yaxislayer-below\"/><g class=\"overaxes-below\"/><g class=\"plot\" transform=\"translate(80,100)\" clip-path=\"url(#clip94faaexyplot)\"><g class=\"scatterlayer mlayer\"><g class=\"trace scatter tracea93824\" style=\"stroke-miterlimit: 2; opacity: 1;\"><g class=\"fills\"/><g class=\"errorbars\"/><g class=\"lines\"><path class=\"js-line\" d=\"M0,208.47L4.99,217.33L9.5,205.17L14.5,199.1L19.33,190.31L24.32,204.13L29.15,205.56L34.14,187.65L39.14,177.92L43.97,181.08L48.96,177.16L53.79,203.39L58.79,191.06L63.78,179.75L68.29,166.52L73.28,181.01L78.11,210.63L83.11,197.43L87.94,219.35L92.93,216.32L97.92,214.37L102.75,247.27L107.75,258.48L112.58,246.19L117.57,253.56L122.56,240.46L127.24,275.82L132.23,304L137.06,301.31L142.05,297.89L146.88,281.21L151.88,271.24L156.87,268.29L166.69,251.83L171.53,255.6L176.52,240.82L181.51,254.64L186.02,244.06L191.01,222.86L195.85,228.74L200.84,241.7L205.67,227.19L210.66,228.9L215.66,216.49L220.49,201.77L225.48,189.39L230.31,195.27L235.31,179.39L240.3,201.69\" style=\"vector-effect: non-scaling-stroke; fill: none; stroke: rgb(99, 110, 250); stroke-opacity: 1; stroke-width: 2px; opacity: 1;\"/></g><g class=\"points\"/><g class=\"text\"/></g><g class=\"trace scatter trace11e9ed\" style=\"stroke-miterlimit: 2; opacity: 1;\"><g class=\"fills\"/><g class=\"errorbars\"/><g class=\"lines\"><path class=\"js-line\" d=\"M0,208.47L4.99,217.33L9.5,205.17L14.5,199.1L19.33,190.31L24.32,204.13L29.15,205.56L34.14,187.65L39.14,177.92L43.97,181.08L48.96,177.16L53.79,203.39L58.79,191.06L63.78,179.75L68.29,166.52L73.28,181.01L78.11,210.63L83.11,197.43L87.94,219.35L92.93,216.32L97.92,214.37\" style=\"vector-effect: non-scaling-stroke; fill: none; stroke: rgb(239, 85, 59); stroke-opacity: 1; stroke-width: 2px; opacity: 1;\"/></g><g class=\"points\"/><g class=\"text\"/></g><g class=\"trace scatter tracea296fa\" style=\"stroke-miterlimit: 2; opacity: 1;\"><g class=\"fills\"/><g class=\"errorbars\"/><g class=\"lines\"><path class=\"js-line\" d=\"M97.92,208.08L102.75,201.28L107.75,196.33L112.58,198.06L117.57,189.95L122.56,187.24L127.24,178.77L132.23,183.96L137.06,192.47L142.05,196.39L146.88,202.19L151.88,204.72L156.87,204.11L161.7,201.97L166.69,198.42L171.53,198.59L176.52,189.97L181.51,186.23L186.02,179.71L191.01,182.86L195.85,192.49L200.84,194.98L205.67,199.07L210.66,201.55L215.66,201.46L220.49,200.95L225.48,198.96L230.31,198.87L235.31,189.66L240.3,186.22L244.81,180.48L249.8,183L254.63,192.16L264.46,198.99L269.45,199.93L279.27,200.33L284.27,199L289.1,199L294.09,189.75L299.08,186.27L303.59,180.89L308.59,182.95L313.42,192.04L323.24,198.8L328.24,199.61L338.06,200.18L343.05,199.06L347.88,199.01L352.88,189.72L357.87,186.27L362.54,180.7L367.53,183L372.37,192.09L382.19,198.65L387.18,199.7L397.01,200.16L402,199\" style=\"vector-effect: non-scaling-stroke; fill: none; stroke: rgb(0, 204, 150); stroke-opacity: 1; stroke-width: 2px; opacity: 1;\"/></g><g class=\"points\"/><g class=\"text\"/></g><g class=\"trace scatter trace116df6\" style=\"stroke-miterlimit: 2; opacity: 1;\"><g class=\"fills\"/><g class=\"errorbars\"/><g class=\"lines\"><path class=\"js-line\" d=\"M132.23,304L142.05,297.89L146.88,281.21L151.88,271.24L156.87,268.29L166.69,251.83L171.53,255.6L176.52,240.82L181.51,254.64L186.02,244.06L191.01,222.86L195.85,228.74L200.84,241.7L205.67,227.19L210.66,228.9L215.66,216.49L220.49,201.77L225.48,189.39L230.31,195.27L235.31,179.39L240.3,201.69\" style=\"vector-effect: non-scaling-stroke; fill: none; stroke: rgb(171, 99, 250); stroke-opacity: 1; stroke-width: 2px; opacity: 1;\"/></g><g class=\"points\"/><g class=\"text\"/></g><g class=\"trace scatter trace7f3c81\" style=\"stroke-miterlimit: 2; opacity: 1;\"><g class=\"fills\"/><g class=\"errorbars\"/><g class=\"lines\"><path class=\"js-line\" d=\"M240.3,188.17L254.63,171.48L259.63,165.92L289.1,132.53L294.09,132.69L343.05,77.05L347.88,71.48L352.88,71.64L357.87,66.08L377.36,43.82L382.19,38.26L402,16\" style=\"vector-effect: non-scaling-stroke; fill: none; stroke: rgb(255, 161, 90); stroke-opacity: 1; stroke-width: 2px; opacity: 1;\"/></g><g class=\"points\"/><g class=\"text\"/></g></g></g><g class=\"overplot\"/><path class=\"xlines-above crisp\" d=\"M0,0\" style=\"fill: none;\"/><path class=\"ylines-above crisp\" d=\"M0,0\" style=\"fill: none;\"/><g class=\"overlines-above\"/><g class=\"xaxislayer-above\"><g class=\"xtick\"><text text-anchor=\"middle\" x=\"0\" y=\"433\" transform=\"translate(80,0)\" style=\"font-family: 'Open Sans', verdana, arial, sans-serif; font-size: 12px; fill: rgb(42, 63, 95); fill-opacity: 1; white-space: pre; opacity: 1;\">2018</text></g><g class=\"xtick\"><text text-anchor=\"middle\" x=\"0\" y=\"433\" style=\"font-family: 'Open Sans', verdana, arial, sans-serif; font-size: 12px; fill: rgb(42, 63, 95); fill-opacity: 1; white-space: pre; opacity: 1;\" transform=\"translate(197.57,0)\">2020</text></g><g class=\"xtick\"><text text-anchor=\"middle\" x=\"0\" y=\"433\" style=\"font-family: 'Open Sans', verdana, arial, sans-serif; font-size: 12px; fill: rgb(42, 63, 95); fill-opacity: 1; white-space: pre; opacity: 1;\" transform=\"translate(315.31,0)\">2022</text></g><g class=\"xtick\"><text text-anchor=\"middle\" x=\"0\" y=\"433\" style=\"font-family: 'Open Sans', verdana, arial, sans-serif; font-size: 12px; fill: rgb(42, 63, 95); fill-opacity: 1; white-space: pre; opacity: 1;\" transform=\"translate(432.88,0)\">2024</text></g></g><g class=\"yaxislayer-above\"><g class=\"ytick\"><text text-anchor=\"end\" x=\"79\" y=\"4.199999999999999\" transform=\"translate(0,417.61)\" style=\"font-family: 'Open Sans', verdana, arial, sans-serif; font-size: 12px; fill: rgb(42, 63, 95); fill-opacity: 1; white-space: pre; opacity: 1;\">0</text></g><g class=\"ytick\"><text text-anchor=\"end\" x=\"79\" y=\"4.199999999999999\" style=\"font-family: 'Open Sans', verdana, arial, sans-serif; font-size: 12px; fill: rgb(42, 63, 95); fill-opacity: 1; white-space: pre; opacity: 1;\" transform=\"translate(0,349.58000000000004)\">200k</text></g><g class=\"ytick\"><text text-anchor=\"end\" x=\"79\" y=\"4.199999999999999\" style=\"font-family: 'Open Sans', verdana, arial, sans-serif; font-size: 12px; fill: rgb(42, 63, 95); fill-opacity: 1; white-space: pre; opacity: 1;\" transform=\"translate(0,281.55)\">400k</text></g><g class=\"ytick\"><text text-anchor=\"end\" x=\"79\" y=\"4.199999999999999\" style=\"font-family: 'Open Sans', verdana, arial, sans-serif; font-size: 12px; fill: rgb(42, 63, 95); fill-opacity: 1; white-space: pre; opacity: 1;\" transform=\"translate(0,213.51999999999998)\">600k</text></g><g class=\"ytick\"><text text-anchor=\"end\" x=\"79\" y=\"4.199999999999999\" style=\"font-family: 'Open Sans', verdana, arial, sans-serif; font-size: 12px; fill: rgb(42, 63, 95); fill-opacity: 1; white-space: pre; opacity: 1;\" transform=\"translate(0,145.49)\">800k</text></g></g><g class=\"overaxes-above\"/></g></g><g class=\"polarlayer\"/><g class=\"smithlayer\"/><g class=\"ternarylayer\"/><g class=\"geolayer\"/><g class=\"funnelarealayer\"/><g class=\"pielayer\"/><g class=\"iciclelayer\"/><g class=\"treemaplayer\"/><g class=\"sunburstlayer\"/><g class=\"glimages\"/><defs id=\"topdefs-94faae\"><g class=\"clips\"/><clipPath id=\"legend94faae\"><rect width=\"198\" height=\"124\" x=\"0\" y=\"0\"/></clipPath></defs><g class=\"layer-above\"><g class=\"imagelayer\"/><g class=\"shapelayer\"/></g><g class=\"infolayer\"><g class=\"legend\" pointer-events=\"all\" transform=\"translate(490.04,100)\"><rect class=\"bg\" shape-rendering=\"crispEdges\" style=\"stroke: rgb(68, 68, 68); stroke-opacity: 1; fill: rgb(255, 255, 255); fill-opacity: 1; stroke-width: 0px;\" width=\"198\" height=\"124\" x=\"0\" y=\"0\"/><g class=\"scrollbox\" transform=\"\" clip-path=\"url(#legend94faae)\"><text class=\"legendtitletext\" text-anchor=\"start\" x=\"2\" y=\"18.2\" style=\"font-family: 'Open Sans', verdana, arial, sans-serif; font-size: 14px; fill: rgb(42, 63, 95); fill-opacity: 1; white-space: pre;\">LINE</text><g class=\"groups\" transform=\"\"><g class=\"traces\" transform=\"translate(0,32.7)\" style=\"opacity: 1;\"><text class=\"legendtext\" text-anchor=\"start\" x=\"40\" y=\"4.680000000000001\" style=\"font-family: 'Open Sans', verdana, arial, sans-serif; font-size: 12px; fill: rgb(42, 63, 95); fill-opacity: 1; white-space: pre;\">ORIGINAL_VALUES</text><g class=\"layers\" style=\"opacity: 1;\"><g class=\"legendfill\"/><g class=\"legendlines\"><path class=\"js-line\" d=\"M5,0h30\" style=\"fill: none; stroke: rgb(99, 110, 250); stroke-opacity: 1; stroke-width: 2px;\"/></g><g class=\"legendsymbols\"><g class=\"legendpoints\"/></g></g><rect class=\"legendtoggle\" x=\"0\" y=\"-9.5\" width=\"192.875\" height=\"19\" style=\"fill: rgb(0, 0, 0); fill-opacity: 0;\"/></g></g><g class=\"groups\" transform=\"\"><g class=\"traces\" transform=\"translate(0,51.7)\" style=\"opacity: 1;\"><text class=\"legendtext\" text-anchor=\"start\" x=\"40\" y=\"4.680000000000001\" style=\"font-family: 'Open Sans', verdana, arial, sans-serif; font-size: 12px; fill: rgb(42, 63, 95); fill-opacity: 1; white-space: pre;\">PRE_COVID</text><g class=\"layers\" style=\"opacity: 1;\"><g class=\"legendfill\"/><g class=\"legendlines\"><path class=\"js-line\" d=\"M5,0h30\" style=\"fill: none; stroke: rgb(239, 85, 59); stroke-opacity: 1; stroke-width: 2px;\"/></g><g class=\"legendsymbols\"><g class=\"legendpoints\"/></g></g><rect class=\"legendtoggle\" x=\"0\" y=\"-9.5\" width=\"192.875\" height=\"19\" style=\"fill: rgb(0, 0, 0); fill-opacity: 0;\"/></g></g><g class=\"groups\" transform=\"\"><g class=\"traces\" transform=\"translate(0,70.7)\" style=\"opacity: 1;\"><text class=\"legendtext\" text-anchor=\"start\" x=\"40\" y=\"4.680000000000001\" style=\"font-family: 'Open Sans', verdana, arial, sans-serif; font-size: 12px; fill: rgb(42, 63, 95); fill-opacity: 1; white-space: pre;\">PRE_COVID_FORECAST</text><g class=\"layers\" style=\"opacity: 1;\"><g class=\"legendfill\"/><g class=\"legendlines\"><path class=\"js-line\" d=\"M5,0h30\" style=\"fill: none; stroke: rgb(0, 204, 150); stroke-opacity: 1; stroke-width: 2px;\"/></g><g class=\"legendsymbols\"><g class=\"legendpoints\"/></g></g><rect class=\"legendtoggle\" x=\"0\" y=\"-9.5\" width=\"192.875\" height=\"19\" style=\"fill: rgb(0, 0, 0); fill-opacity: 0;\"/></g></g><g class=\"groups\" transform=\"\"><g class=\"traces\" transform=\"translate(0,89.7)\" style=\"opacity: 1;\"><text class=\"legendtext\" text-anchor=\"start\" x=\"40\" y=\"4.680000000000001\" style=\"font-family: 'Open Sans', verdana, arial, sans-serif; font-size: 12px; fill: rgb(42, 63, 95); fill-opacity: 1; white-space: pre;\">POST_COVID</text><g class=\"layers\" style=\"opacity: 1;\"><g class=\"legendfill\"/><g class=\"legendlines\"><path class=\"js-line\" d=\"M5,0h30\" style=\"fill: none; stroke: rgb(171, 99, 250); stroke-opacity: 1; stroke-width: 2px;\"/></g><g class=\"legendsymbols\"><g class=\"legendpoints\"/></g></g><rect class=\"legendtoggle\" x=\"0\" y=\"-9.5\" width=\"192.875\" height=\"19\" style=\"fill: rgb(0, 0, 0); fill-opacity: 0;\"/></g></g><g class=\"groups\" transform=\"\"><g class=\"traces\" transform=\"translate(0,108.7)\" style=\"opacity: 1;\"><text class=\"legendtext\" text-anchor=\"start\" x=\"40\" y=\"4.680000000000001\" style=\"font-family: 'Open Sans', verdana, arial, sans-serif; font-size: 12px; fill: rgb(42, 63, 95); fill-opacity: 1; white-space: pre;\">POST_COVID_FORECAST</text><g class=\"layers\" style=\"opacity: 1;\"><g class=\"legendfill\"/><g class=\"legendlines\"><path class=\"js-line\" d=\"M5,0h30\" style=\"fill: none; stroke: rgb(255, 161, 90); stroke-opacity: 1; stroke-width: 2px;\"/></g><g class=\"legendsymbols\"><g class=\"legendpoints\"/></g></g><rect class=\"legendtoggle\" x=\"0\" y=\"-9.5\" width=\"192.875\" height=\"19\" style=\"fill: rgb(0, 0, 0); fill-opacity: 0;\"/></g></g></g><rect class=\"scrollbar\" rx=\"20\" ry=\"3\" width=\"0\" height=\"0\" style=\"fill: rgb(128, 139, 164); fill-opacity: 1;\" x=\"0\" y=\"0\"/></g><g class=\"g-gtitle\"><text class=\"gtitle\" x=\"35\" y=\"50\" text-anchor=\"start\" dy=\"0em\" style=\"font-family: 'Open Sans', verdana, arial, sans-serif; font-size: 17px; fill: rgb(42, 63, 95); opacity: 1; font-weight: normal; white-space: pre;\">Projection on time for II (PUBLIC)</text></g><g class=\"g-xtitle\"><text class=\"xtitle\" x=\"281\" y=\"460.8\" text-anchor=\"middle\" style=\"font-family: 'Open Sans', verdana, arial, sans-serif; font-size: 14px; fill: rgb(42, 63, 95); opacity: 1; font-weight: normal; white-space: pre;\">DATE</text></g><g class=\"g-ytitle\"><text class=\"ytitle\" transform=\"rotate(-90,24.200000000000003,260)\" x=\"24.200000000000003\" y=\"260\" text-anchor=\"middle\" style=\"font-family: 'Open Sans', verdana, arial, sans-serif; font-size: 14px; fill: rgb(42, 63, 95); opacity: 1; font-weight: normal; white-space: pre;\">QTY_PEOPLE_SERVED</text></g></g></svg>"
      ]
     },
     "metadata": {},
     "output_type": "display_data"
    }
   ],
   "source": [
    "forecast_df = forecast_df.melt(id_vars=['DATE'],\n",
    "                               var_name=\"LINE\",\n",
    "                               value_name=\"QTY_PEOPLE_SERVED\")\n",
    "\n",
    "\n",
    "fig = px.line(forecast_df,\n",
    "              x=\"DATE\",\n",
    "              y=\"QTY_PEOPLE_SERVED\",\n",
    "              color='LINE',\n",
    "              title='Projection on time for ' + TAG_CATEGORY +' ('+TAG_SECTOR+')')\n",
    "\n",
    "#fig.show()\n",
    "fig.show(renderer=\"svg\")"
   ]
  },
  {
   "cell_type": "markdown",
   "id": "404f718c",
   "metadata": {},
   "source": [
    "### Private"
   ]
  },
  {
   "cell_type": "code",
   "execution_count": 14,
   "id": "0e4348cc",
   "metadata": {},
   "outputs": [],
   "source": [
    "TAG_SECTOR = 'PRIVATE'\n",
    "\n",
    "data_sector_ts = data_category[['DATE', TAG_SECTOR]]\n",
    "data_sector_ts = data_sector_ts.rename({TAG_SECTOR: 'ORIGINAL_VALUES'}, axis=1) \n",
    "\n",
    "\n",
    "start = data_sector_ts['DATE'].min()\n",
    "periods = 360*7\n",
    "daterange = []\n",
    "for day in range(periods):\n",
    "    date = (start + datetime.timedelta(days = day)).isoformat()\n",
    "    daterange.append(date)\n",
    "    \n",
    "forecast_df = pd.DataFrame(daterange, columns=['DATE'])\n",
    "forecast_df['DATE'] = pd.to_datetime(forecast_df['DATE'])\n",
    "forecast_df = forecast_df[forecast_df['DATE'].dt.strftime('%d') == '01']\n",
    "forecast_df = forecast_df.reset_index(drop=True)\n",
    "\n",
    "forecast_df = pd.merge(forecast_df, data_sector_ts, how='left', on=('DATE','DATE'))"
   ]
  },
  {
   "cell_type": "code",
   "execution_count": 15,
   "id": "52fe897f",
   "metadata": {},
   "outputs": [],
   "source": [
    "# Change for every category and sector, according values on time\n",
    "data_sector_ts_pre = data_sector_ts[(data_sector_ts['DATE'] < '2019-10')].reset_index(drop=True)\n",
    "data_sector_ts_pre = data_sector_ts_pre.rename({'ORIGINAL_VALUES': 'PRE_COVID'}, axis=1) \n",
    "\n",
    "forecast_df = pd.merge(forecast_df, data_sector_ts_pre, how='left', on=('DATE','DATE'))\n",
    "\n",
    "umbral = data_sector_ts_pre['DATE'].max().strftime('%Y-%m')\n",
    "\n",
    "# model_forecast = retrain_model(data_sector_ts_pre, column_index = 'DATE' , column_values = 'PRE_COVID')\n",
    "# temp_resp = forecast_model(model_forecast, \n",
    "#                            forecast_df[(forecast_df['DATE'] >= umbral)][['DATE']],\n",
    "#                            column_name = 'DATE', \n",
    "#                            name_predicted = 'PRE_COVID_FORECAST')\n",
    "\n",
    "temp_resp = forecast_model_2(data_sector_ts_pre,\n",
    "                             forecast_df[(forecast_df['DATE'] >= umbral)][['DATE']],\n",
    "                             column_name = 'DATE',\n",
    "                             column_values = 'PRE_COVID',\n",
    "                             name_predicted = 'PRE_COVID_FORECAST',\n",
    "                             kind_model = 'rfg')\n",
    "\n",
    "forecast_df = pd.merge(forecast_df, temp_resp, how='left', on=('DATE','DATE'))"
   ]
  },
  {
   "cell_type": "code",
   "execution_count": 16,
   "id": "19bedd00",
   "metadata": {},
   "outputs": [],
   "source": [
    "data_sector_ts_post = data_sector_ts[(data_sector_ts['DATE'] > '2020-03')].reset_index(drop=True)\n",
    "data_sector_ts_post = data_sector_ts_post.rename({'ORIGINAL_VALUES': 'POST_COVID'}, axis=1) \n",
    "\n",
    "forecast_df = pd.merge(forecast_df, data_sector_ts_post, how='left', on=('DATE','DATE'))\n",
    "\n",
    "umbral = data_sector_ts_post['DATE'].max().strftime('%Y-%m')\n",
    "\n",
    "model_forecast = retrain_model(data_sector_ts_post, column_index = 'DATE' , column_values = 'POST_COVID', kind_model = 'linear')\n",
    "temp_resp = forecast_model(model_forecast, \n",
    "                           forecast_df[(forecast_df['DATE'] >= umbral)][['DATE']],\n",
    "                           column_name = 'DATE', \n",
    "                           name_predicted = 'POST_COVID_FORECAST')\n",
    "\n",
    "temp_resp = forecast_model_2(data_sector_ts_post,\n",
    "                             forecast_df[(forecast_df['DATE'] >= umbral)][['DATE']],\n",
    "                             column_name = 'DATE',\n",
    "                             column_values = 'POST_COVID',\n",
    "                             name_predicted = 'POST_COVID_FORECAST',\n",
    "                             kind_model = 'linear')\n",
    "\n",
    "\n",
    "forecast_df = pd.merge(forecast_df, temp_resp, how='left', on=('DATE','DATE'))"
   ]
  },
  {
   "cell_type": "code",
   "execution_count": 17,
   "id": "f4149d54",
   "metadata": {
    "scrolled": false
   },
   "outputs": [
    {
     "data": {
      "image/svg+xml": [
       "<svg class=\"main-svg\" xmlns=\"http://www.w3.org/2000/svg\" xmlns:xlink=\"http://www.w3.org/1999/xlink\" width=\"700\" height=\"500\" style=\"\" viewBox=\"0 0 700 500\"><rect x=\"0\" y=\"0\" width=\"700\" height=\"500\" style=\"fill: rgb(255, 255, 255); fill-opacity: 1;\"/><defs id=\"defs-7fdb36\"><g class=\"clips\"><clipPath id=\"clip7fdb36xyplot\" class=\"plotclip\"><rect width=\"402\" height=\"320\"/></clipPath><clipPath class=\"axesclip\" id=\"clip7fdb36x\"><rect x=\"80\" y=\"0\" width=\"402\" height=\"500\"/></clipPath><clipPath class=\"axesclip\" id=\"clip7fdb36y\"><rect x=\"0\" y=\"100\" width=\"700\" height=\"320\"/></clipPath><clipPath class=\"axesclip\" id=\"clip7fdb36xy\"><rect x=\"80\" y=\"100\" width=\"402\" height=\"320\"/></clipPath></g><g class=\"gradients\"/><g class=\"patterns\"/></defs><g class=\"bglayer\"><rect class=\"bg\" x=\"80\" y=\"100\" width=\"402\" height=\"320\" style=\"fill: rgb(229, 236, 246); fill-opacity: 1; stroke-width: 0;\"/></g><g class=\"layer-below\"><g class=\"imagelayer\"/><g class=\"shapelayer\"/></g><g class=\"cartesianlayer\"><g class=\"subplot xy\"><g class=\"layer-subplot\"><g class=\"shapelayer\"/><g class=\"imagelayer\"/></g><g class=\"minor-gridlayer\"><g class=\"x\"/><g class=\"y\"/></g><g class=\"gridlayer\"><g class=\"x\"><path class=\"xgrid crisp\" transform=\"translate(197.57,0)\" d=\"M0,100v320\" style=\"stroke: rgb(255, 255, 255); stroke-opacity: 1; stroke-width: 1px;\"/><path class=\"xgrid crisp\" transform=\"translate(315.31,0)\" d=\"M0,100v320\" style=\"stroke: rgb(255, 255, 255); stroke-opacity: 1; stroke-width: 1px;\"/><path class=\"xgrid crisp\" transform=\"translate(432.88,0)\" d=\"M0,100v320\" style=\"stroke: rgb(255, 255, 255); stroke-opacity: 1; stroke-width: 1px;\"/></g><g class=\"y\"><path class=\"ygrid crisp\" transform=\"translate(0,367.19)\" d=\"M80,0h402\" style=\"stroke: rgb(255, 255, 255); stroke-opacity: 1; stroke-width: 1px;\"/><path class=\"ygrid crisp\" transform=\"translate(0,314.46000000000004)\" d=\"M80,0h402\" style=\"stroke: rgb(255, 255, 255); stroke-opacity: 1; stroke-width: 1px;\"/><path class=\"ygrid crisp\" transform=\"translate(0,261.72)\" d=\"M80,0h402\" style=\"stroke: rgb(255, 255, 255); stroke-opacity: 1; stroke-width: 1px;\"/><path class=\"ygrid crisp\" transform=\"translate(0,208.99)\" d=\"M80,0h402\" style=\"stroke: rgb(255, 255, 255); stroke-opacity: 1; stroke-width: 1px;\"/><path class=\"ygrid crisp\" transform=\"translate(0,156.26)\" d=\"M80,0h402\" style=\"stroke: rgb(255, 255, 255); stroke-opacity: 1; stroke-width: 1px;\"/><path class=\"ygrid crisp\" transform=\"translate(0,103.53)\" d=\"M80,0h402\" style=\"stroke: rgb(255, 255, 255); stroke-opacity: 1; stroke-width: 1px;\"/></g></g><g class=\"zerolinelayer\"><path class=\"yzl zl crisp\" transform=\"translate(0,419.92)\" d=\"M80,0h402\" style=\"stroke: rgb(255, 255, 255); stroke-opacity: 1; stroke-width: 2px;\"/></g><path class=\"xlines-below\"/><path class=\"ylines-below\"/><g class=\"overlines-below\"/><g class=\"xaxislayer-below\"/><g class=\"yaxislayer-below\"/><g class=\"overaxes-below\"/><g class=\"plot\" transform=\"translate(80,100)\" clip-path=\"url(#clip7fdb36xyplot)\"><g class=\"scatterlayer mlayer\"><g class=\"trace scatter trace7ac2bb\" style=\"stroke-miterlimit: 2; opacity: 1;\"><g class=\"fills\"/><g class=\"errorbars\"/><g class=\"lines\"><path class=\"js-line\" d=\"M0,177.33L4.99,187.45L9.5,173.71L14.5,174.61L19.33,171.34L24.32,167.59L29.15,174.89L34.14,172.26L39.14,178.19L48.96,162.19L53.79,155.82L58.79,136.26L63.78,136.2L68.29,104.42L73.28,127.37L78.11,163.28L83.11,159.48L87.94,168.25L92.93,163.94L97.92,166.38L102.75,214.39L107.75,235.27L112.58,234.29L117.57,249.46L122.56,235.04L127.24,248.16L132.23,304L137.06,300.09L142.05,278.49L146.88,248.85L151.88,237.52L156.87,231.45L161.7,222.37L166.69,212.39L171.53,216.98L176.52,210.03L181.51,226.1L186.02,201.12L191.01,211.67L195.85,209.28L200.84,202.68L210.66,188.18L215.66,189L220.49,190.08L225.48,187.19L230.31,195.56L235.31,177.82L240.3,195.21\" style=\"vector-effect: non-scaling-stroke; fill: none; stroke: rgb(99, 110, 250); stroke-opacity: 1; stroke-width: 2px; opacity: 1;\"/></g><g class=\"points\"/><g class=\"text\"/></g><g class=\"trace scatter trace584c67\" style=\"stroke-miterlimit: 2; opacity: 1;\"><g class=\"fills\"/><g class=\"errorbars\"/><g class=\"lines\"><path class=\"js-line\" d=\"M0,177.33L4.99,187.45L9.5,173.71L14.5,174.61L19.33,171.34L24.32,167.59L29.15,174.89L34.14,172.26L39.14,178.19L48.96,162.19L53.79,155.82L58.79,136.26L63.78,136.2L68.29,104.42L73.28,127.37L78.11,163.28L83.11,159.48L87.94,168.25L92.93,163.94L97.92,166.38\" style=\"vector-effect: non-scaling-stroke; fill: none; stroke: rgb(239, 85, 59); stroke-opacity: 1; stroke-width: 2px; opacity: 1;\"/></g><g class=\"points\"/><g class=\"text\"/></g><g class=\"trace scatter trace57deb4\" style=\"stroke-miterlimit: 2; opacity: 1;\"><g class=\"fills\"/><g class=\"errorbars\"/><g class=\"lines\"><path class=\"js-line\" d=\"M97.92,165.21L102.75,165.64L107.75,165.09L112.58,164.28L117.57,135.21L122.56,135.78L127.24,118.46L132.23,126.77L137.06,142.57L142.05,148.24L146.88,149.11L171.53,149.13L176.52,134.92L181.51,135.44L186.02,118.22L191.01,125.32L195.85,140.05L200.84,145.12L205.67,146.79L230.31,146.82L235.31,135.06L240.3,135.43L244.81,118.87L249.8,125.03L254.63,139.85L259.63,144.68L264.46,146.17L289.1,146.35L294.09,135.08L299.08,135.41L303.59,119.04L308.59,125.14L313.42,139.89L318.41,144.5L323.24,145.83L347.88,146.09L352.88,135.09L357.87,135.4L362.54,118.88L367.53,125.37L372.37,139.71L377.36,144.61L382.19,145.75L402,145.98\" style=\"vector-effect: non-scaling-stroke; fill: none; stroke: rgb(0, 204, 150); stroke-opacity: 1; stroke-width: 2px; opacity: 1;\"/></g><g class=\"points\"/><g class=\"text\"/></g><g class=\"trace scatter trace621bb7\" style=\"stroke-miterlimit: 2; opacity: 1;\"><g class=\"fills\"/><g class=\"errorbars\"/><g class=\"lines\"><path class=\"js-line\" d=\"M132.23,304L137.06,300.09L142.05,278.49L146.88,248.85L151.88,237.52L156.87,231.45L161.7,222.37L166.69,212.39L171.53,216.98L176.52,210.03L181.51,226.1L186.02,201.12L191.01,211.67L195.85,209.28L200.84,202.68L210.66,188.18L215.66,189L220.49,190.08L225.48,187.19L230.31,195.56L235.31,177.82L240.3,195.21\" style=\"vector-effect: non-scaling-stroke; fill: none; stroke: rgb(171, 99, 250); stroke-opacity: 1; stroke-width: 2px; opacity: 1;\"/></g><g class=\"points\"/><g class=\"text\"/></g><g class=\"trace scatter tracef5c5c4\" style=\"stroke-miterlimit: 2; opacity: 1;\"><g class=\"fills\"/><g class=\"errorbars\"/><g class=\"lines\"><path class=\"js-line\" d=\"M240.3,175.48L254.63,158.18L259.63,152.41L289.1,117.79L294.09,127.47L343.05,69.78L347.88,64.01L352.88,73.69L357.87,67.92L382.19,39.08L387.18,33.31L402,16\" style=\"vector-effect: non-scaling-stroke; fill: none; stroke: rgb(255, 161, 90); stroke-opacity: 1; stroke-width: 2px; opacity: 1;\"/></g><g class=\"points\"/><g class=\"text\"/></g></g></g><g class=\"overplot\"/><path class=\"xlines-above crisp\" d=\"M0,0\" style=\"fill: none;\"/><path class=\"ylines-above crisp\" d=\"M0,0\" style=\"fill: none;\"/><g class=\"overlines-above\"/><g class=\"xaxislayer-above\"><g class=\"xtick\"><text text-anchor=\"middle\" x=\"0\" y=\"433\" transform=\"translate(80,0)\" style=\"font-family: 'Open Sans', verdana, arial, sans-serif; font-size: 12px; fill: rgb(42, 63, 95); fill-opacity: 1; white-space: pre; opacity: 1;\">2018</text></g><g class=\"xtick\"><text text-anchor=\"middle\" x=\"0\" y=\"433\" style=\"font-family: 'Open Sans', verdana, arial, sans-serif; font-size: 12px; fill: rgb(42, 63, 95); fill-opacity: 1; white-space: pre; opacity: 1;\" transform=\"translate(197.57,0)\">2020</text></g><g class=\"xtick\"><text text-anchor=\"middle\" x=\"0\" y=\"433\" style=\"font-family: 'Open Sans', verdana, arial, sans-serif; font-size: 12px; fill: rgb(42, 63, 95); fill-opacity: 1; white-space: pre; opacity: 1;\" transform=\"translate(315.31,0)\">2022</text></g><g class=\"xtick\"><text text-anchor=\"middle\" x=\"0\" y=\"433\" style=\"font-family: 'Open Sans', verdana, arial, sans-serif; font-size: 12px; fill: rgb(42, 63, 95); fill-opacity: 1; white-space: pre; opacity: 1;\" transform=\"translate(432.88,0)\">2024</text></g></g><g class=\"yaxislayer-above\"><g class=\"ytick\"><text text-anchor=\"end\" x=\"79\" y=\"4.199999999999999\" transform=\"translate(0,419.92)\" style=\"font-family: 'Open Sans', verdana, arial, sans-serif; font-size: 12px; fill: rgb(42, 63, 95); fill-opacity: 1; white-space: pre; opacity: 1;\">0</text></g><g class=\"ytick\"><text text-anchor=\"end\" x=\"79\" y=\"4.199999999999999\" style=\"font-family: 'Open Sans', verdana, arial, sans-serif; font-size: 12px; fill: rgb(42, 63, 95); fill-opacity: 1; white-space: pre; opacity: 1;\" transform=\"translate(0,367.19)\">0.2M</text></g><g class=\"ytick\"><text text-anchor=\"end\" x=\"79\" y=\"4.199999999999999\" style=\"font-family: 'Open Sans', verdana, arial, sans-serif; font-size: 12px; fill: rgb(42, 63, 95); fill-opacity: 1; white-space: pre; opacity: 1;\" transform=\"translate(0,314.46000000000004)\">0.4M</text></g><g class=\"ytick\"><text text-anchor=\"end\" x=\"79\" y=\"4.199999999999999\" style=\"font-family: 'Open Sans', verdana, arial, sans-serif; font-size: 12px; fill: rgb(42, 63, 95); fill-opacity: 1; white-space: pre; opacity: 1;\" transform=\"translate(0,261.72)\">0.6M</text></g><g class=\"ytick\"><text text-anchor=\"end\" x=\"79\" y=\"4.199999999999999\" style=\"font-family: 'Open Sans', verdana, arial, sans-serif; font-size: 12px; fill: rgb(42, 63, 95); fill-opacity: 1; white-space: pre; opacity: 1;\" transform=\"translate(0,208.99)\">0.8M</text></g><g class=\"ytick\"><text text-anchor=\"end\" x=\"79\" y=\"4.199999999999999\" style=\"font-family: 'Open Sans', verdana, arial, sans-serif; font-size: 12px; fill: rgb(42, 63, 95); fill-opacity: 1; white-space: pre; opacity: 1;\" transform=\"translate(0,156.26)\">1M</text></g><g class=\"ytick\"><text text-anchor=\"end\" x=\"79\" y=\"4.199999999999999\" style=\"font-family: 'Open Sans', verdana, arial, sans-serif; font-size: 12px; fill: rgb(42, 63, 95); fill-opacity: 1; white-space: pre; opacity: 1;\" transform=\"translate(0,103.53)\">1.2M</text></g></g><g class=\"overaxes-above\"/></g></g><g class=\"polarlayer\"/><g class=\"smithlayer\"/><g class=\"ternarylayer\"/><g class=\"geolayer\"/><g class=\"funnelarealayer\"/><g class=\"pielayer\"/><g class=\"iciclelayer\"/><g class=\"treemaplayer\"/><g class=\"sunburstlayer\"/><g class=\"glimages\"/><defs id=\"topdefs-7fdb36\"><g class=\"clips\"/><clipPath id=\"legend7fdb36\"><rect width=\"198\" height=\"124\" x=\"0\" y=\"0\"/></clipPath></defs><g class=\"layer-above\"><g class=\"imagelayer\"/><g class=\"shapelayer\"/></g><g class=\"infolayer\"><g class=\"legend\" pointer-events=\"all\" transform=\"translate(490.04,100)\"><rect class=\"bg\" shape-rendering=\"crispEdges\" width=\"198\" height=\"124\" x=\"0\" y=\"0\" style=\"stroke: rgb(68, 68, 68); stroke-opacity: 1; fill: rgb(255, 255, 255); fill-opacity: 1; stroke-width: 0px;\"/><g class=\"scrollbox\" transform=\"\" clip-path=\"url(#legend7fdb36)\"><text class=\"legendtitletext\" text-anchor=\"start\" x=\"2\" y=\"18.2\" style=\"font-family: 'Open Sans', verdana, arial, sans-serif; font-size: 14px; fill: rgb(42, 63, 95); fill-opacity: 1; white-space: pre;\">LINE</text><g class=\"groups\" transform=\"\"><g class=\"traces\" transform=\"translate(0,32.7)\" style=\"opacity: 1;\"><text class=\"legendtext\" text-anchor=\"start\" x=\"40\" y=\"4.680000000000001\" style=\"font-family: 'Open Sans', verdana, arial, sans-serif; font-size: 12px; fill: rgb(42, 63, 95); fill-opacity: 1; white-space: pre;\">ORIGINAL_VALUES</text><g class=\"layers\" style=\"opacity: 1;\"><g class=\"legendfill\"/><g class=\"legendlines\"><path class=\"js-line\" d=\"M5,0h30\" style=\"fill: none; stroke: rgb(99, 110, 250); stroke-opacity: 1; stroke-width: 2px;\"/></g><g class=\"legendsymbols\"><g class=\"legendpoints\"/></g></g><rect class=\"legendtoggle\" x=\"0\" y=\"-9.5\" width=\"192.875\" height=\"19\" style=\"fill: rgb(0, 0, 0); fill-opacity: 0;\"/></g></g><g class=\"groups\" transform=\"\"><g class=\"traces\" transform=\"translate(0,51.7)\" style=\"opacity: 1;\"><text class=\"legendtext\" text-anchor=\"start\" x=\"40\" y=\"4.680000000000001\" style=\"font-family: 'Open Sans', verdana, arial, sans-serif; font-size: 12px; fill: rgb(42, 63, 95); fill-opacity: 1; white-space: pre;\">PRE_COVID</text><g class=\"layers\" style=\"opacity: 1;\"><g class=\"legendfill\"/><g class=\"legendlines\"><path class=\"js-line\" d=\"M5,0h30\" style=\"fill: none; stroke: rgb(239, 85, 59); stroke-opacity: 1; stroke-width: 2px;\"/></g><g class=\"legendsymbols\"><g class=\"legendpoints\"/></g></g><rect class=\"legendtoggle\" x=\"0\" y=\"-9.5\" width=\"192.875\" height=\"19\" style=\"fill: rgb(0, 0, 0); fill-opacity: 0;\"/></g></g><g class=\"groups\" transform=\"\"><g class=\"traces\" transform=\"translate(0,70.7)\" style=\"opacity: 1;\"><text class=\"legendtext\" text-anchor=\"start\" x=\"40\" y=\"4.680000000000001\" style=\"font-family: 'Open Sans', verdana, arial, sans-serif; font-size: 12px; fill: rgb(42, 63, 95); fill-opacity: 1; white-space: pre;\">PRE_COVID_FORECAST</text><g class=\"layers\" style=\"opacity: 1;\"><g class=\"legendfill\"/><g class=\"legendlines\"><path class=\"js-line\" d=\"M5,0h30\" style=\"fill: none; stroke: rgb(0, 204, 150); stroke-opacity: 1; stroke-width: 2px;\"/></g><g class=\"legendsymbols\"><g class=\"legendpoints\"/></g></g><rect class=\"legendtoggle\" x=\"0\" y=\"-9.5\" width=\"192.875\" height=\"19\" style=\"fill: rgb(0, 0, 0); fill-opacity: 0;\"/></g></g><g class=\"groups\" transform=\"\"><g class=\"traces\" transform=\"translate(0,89.7)\" style=\"opacity: 1;\"><text class=\"legendtext\" text-anchor=\"start\" x=\"40\" y=\"4.680000000000001\" style=\"font-family: 'Open Sans', verdana, arial, sans-serif; font-size: 12px; fill: rgb(42, 63, 95); fill-opacity: 1; white-space: pre;\">POST_COVID</text><g class=\"layers\" style=\"opacity: 1;\"><g class=\"legendfill\"/><g class=\"legendlines\"><path class=\"js-line\" d=\"M5,0h30\" style=\"fill: none; stroke: rgb(171, 99, 250); stroke-opacity: 1; stroke-width: 2px;\"/></g><g class=\"legendsymbols\"><g class=\"legendpoints\"/></g></g><rect class=\"legendtoggle\" x=\"0\" y=\"-9.5\" width=\"192.875\" height=\"19\" style=\"fill: rgb(0, 0, 0); fill-opacity: 0;\"/></g></g><g class=\"groups\" transform=\"\"><g class=\"traces\" transform=\"translate(0,108.7)\" style=\"opacity: 1;\"><text class=\"legendtext\" text-anchor=\"start\" x=\"40\" y=\"4.680000000000001\" style=\"font-family: 'Open Sans', verdana, arial, sans-serif; font-size: 12px; fill: rgb(42, 63, 95); fill-opacity: 1; white-space: pre;\">POST_COVID_FORECAST</text><g class=\"layers\" style=\"opacity: 1;\"><g class=\"legendfill\"/><g class=\"legendlines\"><path class=\"js-line\" d=\"M5,0h30\" style=\"fill: none; stroke: rgb(255, 161, 90); stroke-opacity: 1; stroke-width: 2px;\"/></g><g class=\"legendsymbols\"><g class=\"legendpoints\"/></g></g><rect class=\"legendtoggle\" x=\"0\" y=\"-9.5\" width=\"192.875\" height=\"19\" style=\"fill: rgb(0, 0, 0); fill-opacity: 0;\"/></g></g></g><rect class=\"scrollbar\" rx=\"20\" ry=\"3\" width=\"0\" height=\"0\" x=\"0\" y=\"0\" style=\"fill: rgb(128, 139, 164); fill-opacity: 1;\"/></g><g class=\"g-gtitle\"><text class=\"gtitle\" x=\"35\" y=\"50\" text-anchor=\"start\" dy=\"0em\" style=\"font-family: 'Open Sans', verdana, arial, sans-serif; font-size: 17px; fill: rgb(42, 63, 95); opacity: 1; font-weight: normal; white-space: pre;\">Projection on time for II (PRIVATE)</text></g><g class=\"g-xtitle\"><text class=\"xtitle\" x=\"281\" y=\"460.8\" text-anchor=\"middle\" style=\"font-family: 'Open Sans', verdana, arial, sans-serif; font-size: 14px; fill: rgb(42, 63, 95); opacity: 1; font-weight: normal; white-space: pre;\">DATE</text></g><g class=\"g-ytitle\"><text class=\"ytitle\" transform=\"rotate(-90,24.450000000000003,260)\" x=\"24.450000000000003\" y=\"260\" text-anchor=\"middle\" style=\"font-family: 'Open Sans', verdana, arial, sans-serif; font-size: 14px; fill: rgb(42, 63, 95); opacity: 1; font-weight: normal; white-space: pre;\">QTY_PEOPLE_SERVED</text></g></g></svg>"
      ]
     },
     "metadata": {},
     "output_type": "display_data"
    }
   ],
   "source": [
    "forecast_df = forecast_df.melt(id_vars=['DATE'],\n",
    "                               var_name=\"LINE\",\n",
    "                               value_name=\"QTY_PEOPLE_SERVED\")\n",
    "\n",
    "\n",
    "fig = px.line(forecast_df,\n",
    "              x=\"DATE\",\n",
    "              y=\"QTY_PEOPLE_SERVED\",\n",
    "              color='LINE',\n",
    "              title='Projection on time for ' + TAG_CATEGORY +' ('+TAG_SECTOR+')')\n",
    "\n",
    "#fig.show()\n",
    "fig.show(renderer=\"svg\")"
   ]
  }
 ],
 "metadata": {
  "kernelspec": {
   "display_name": "pycaret_full",
   "language": "python",
   "name": "pycaret_reg"
  },
  "language_info": {
   "codemirror_mode": {
    "name": "ipython",
    "version": 3
   },
   "file_extension": ".py",
   "mimetype": "text/x-python",
   "name": "python",
   "nbconvert_exporter": "python",
   "pygments_lexer": "ipython3",
   "version": "3.8.13"
  }
 },
 "nbformat": 4,
 "nbformat_minor": 5
}
