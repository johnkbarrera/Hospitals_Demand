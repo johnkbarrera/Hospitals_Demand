{
 "cells": [
  {
   "cell_type": "code",
   "execution_count": 1,
   "id": "45d9ab60-73f5-4146-9ed8-ef7da600d9db",
   "metadata": {},
   "outputs": [],
   "source": [
    "import pandas as pd\n",
    "import numpy as np\n",
    "import glob\n",
    "from tqdm import tqdm, trange\n",
    "#import pickle5 as pickle\n",
    "\n",
    "\n",
    "# import matplotlib\n",
    "# import matplotlib.pyplot as plt\n",
    "# from matplotlib.pyplot import cm\n",
    "import plotly.express as px\n",
    "from difflib import SequenceMatcher\n",
    "import seaborn as sns"
   ]
  },
  {
   "cell_type": "code",
   "execution_count": 2,
   "id": "01b0c85f",
   "metadata": {},
   "outputs": [],
   "source": [
    "from statsmodels.tsa.seasonal import seasonal_decompose\n",
    "import plotly.graph_objects as go"
   ]
  },
  {
   "cell_type": "code",
   "execution_count": 3,
   "id": "a95e1606-c1c0-48f7-b2d6-546e90d3ac51",
   "metadata": {},
   "outputs": [],
   "source": [
    "# \"morbilidad_global_ts\": is data filtered, under 2018 and the record are only from Lima\n",
    "#all_data = pd.read_pickle('data/morbilidad_global_lima.pkl')\n",
    "all_data = pd.read_pickle('data/morbilidad_global_ts.pkl')"
   ]
  },
  {
   "cell_type": "code",
   "execution_count": 4,
   "id": "e80168f4",
   "metadata": {
    "scrolled": true
   },
   "outputs": [],
   "source": [
    "# Data grouped by Category (I, II, ...) and Sector (Private & public), for every date\n",
    "data =  all_data.groupby(['DATE', 'SECTOR','CATEGORY2', 'DIAGNOSIS_ID']).agg({'QTY_PEOPLE_SERVED': \"sum\"})\n",
    "data = data.reset_index()\n",
    "data =  data.groupby(['DATE', 'SECTOR','CATEGORY2']).agg({'QTY_PEOPLE_SERVED': \"sum\",\n",
    "                                                          'DIAGNOSIS_ID': \"count\"})\n",
    "data = data.reset_index()\n",
    "data.head()\n",
    "del all_data"
   ]
  },
  {
   "cell_type": "code",
   "execution_count": 5,
   "id": "1277151e",
   "metadata": {},
   "outputs": [],
   "source": [
    "#data = data[(data['DATE'] >= '2018-12')].reset_index(drop=True)"
   ]
  },
  {
   "cell_type": "code",
   "execution_count": 6,
   "id": "277d3b3c",
   "metadata": {},
   "outputs": [],
   "source": [
    "import datetime\n",
    "import pandas as pd\n",
    "from sklearn.linear_model import LinearRegression \n",
    "from sklearn.ensemble import RandomForestRegressor\n",
    "import xgboost as xgb\n",
    "import plotly.express as px\n",
    " \n",
    "def retrain_model(df, column_index = 'DATE' , column_values = 'ORIGINAL_VALUES_PRE',kind_model = 'linear'):\n",
    "    months = [x.month for x in df[column_index]]\n",
    "    years = [x.year for x in df[column_index]]\n",
    "    day = [x.day for x in df[column_index]]\n",
    "\n",
    "    X = np.array([day, months, years]).T\n",
    "    \n",
    "    if kind_model == 'linear':\n",
    "        model = LinearRegression()\n",
    "    elif kind_model == 'rfg':\n",
    "        model = RandomForestRegressor()\n",
    "    elif kind_model == 'xgb':\n",
    "        model = xgb.XGBRegressor()\n",
    "    else:\n",
    "        model = LinearRegression()\n",
    "        \n",
    "    model.fit(X, df[column_values].values)\n",
    "    return model\n",
    " \n",
    "def forecast_model(model, df, column_name = 'DATE', name_predicted = 'PREDICTED'):\n",
    "    months = [x.month for x in df[column_name]]\n",
    "    years = [x.year for x in df[column_name]]\n",
    "    day = [x.day for x in df[column_name]]\n",
    "\n",
    "    X = np.array([day, months, years]).T\n",
    "\n",
    "    preds = model.predict(X)\n",
    "    df[name_predicted] = preds\n",
    "    return df\n",
    "\n",
    "def forecast_model_2(df_base, df, column_name = 'DATE', column_values = 'PRE_COVID', name_predicted = 'PREDICTED', kind_model = 'linear'):\n",
    "    df_resp = pd.DataFrame()\n",
    "    for i in range(len(df)):\n",
    "        #df_temp = df.iloc[[2]]\n",
    "        df_temp = df.iloc[[i]].reset_index(drop=True).copy()\n",
    "        #i += 1\n",
    "        model_temp = retrain_model(df_base, column_index = column_name, column_values = column_values, kind_model=kind_model)\n",
    "        temp_resp = forecast_model(model_temp,\n",
    "                                   df_temp,\n",
    "                                   column_name = column_name, \n",
    "                                   name_predicted = column_values)\n",
    "        df_base = pd.concat([df_base,temp_resp])\n",
    "        df_resp = pd.concat([df_resp,temp_resp])\n",
    "    df_resp = df_resp.rename({column_values: name_predicted}, axis=1) \n",
    "    return df_resp"
   ]
  },
  {
   "cell_type": "markdown",
   "id": "56ab8e5c",
   "metadata": {},
   "source": [
    "### Category 0"
   ]
  },
  {
   "cell_type": "code",
   "execution_count": 7,
   "id": "6bc6d6b9",
   "metadata": {},
   "outputs": [],
   "source": [
    "TAG_CATEGORY = '0'"
   ]
  },
  {
   "cell_type": "code",
   "execution_count": 8,
   "id": "c487878a",
   "metadata": {},
   "outputs": [],
   "source": [
    "data_category = data[(data['CATEGORY2']==TAG_CATEGORY)]\n",
    "data_category = data_category.pivot_table(index=['DATE'],\n",
    "                                          columns=['SECTOR'],\n",
    "                                          values='QTY_PEOPLE_SERVED').fillna(0)\n",
    "data_category = data_category.reset_index().rename_axis(None, axis=1)"
   ]
  },
  {
   "cell_type": "code",
   "execution_count": 9,
   "id": "aea9d0d1",
   "metadata": {},
   "outputs": [
    {
     "data": {
      "image/svg+xml": [
       "<svg class=\"main-svg\" xmlns=\"http://www.w3.org/2000/svg\" xmlns:xlink=\"http://www.w3.org/1999/xlink\" width=\"700\" height=\"500\" style=\"\" viewBox=\"0 0 700 500\"><rect x=\"0\" y=\"0\" width=\"700\" height=\"500\" style=\"fill: rgb(255, 255, 255); fill-opacity: 1;\"/><defs id=\"defs-c633c7\"><g class=\"clips\"><clipPath id=\"clipc633c7xyplot\" class=\"plotclip\"><rect width=\"501\" height=\"296\"/></clipPath><clipPath class=\"axesclip\" id=\"clipc633c7x\"><rect x=\"80\" y=\"0\" width=\"501\" height=\"500\"/></clipPath><clipPath class=\"axesclip\" id=\"clipc633c7y\"><rect x=\"0\" y=\"100\" width=\"700\" height=\"296\"/></clipPath><clipPath class=\"axesclip\" id=\"clipc633c7xy\"><rect x=\"80\" y=\"100\" width=\"501\" height=\"296\"/></clipPath></g><g class=\"gradients\"/><g class=\"patterns\"/></defs><g class=\"bglayer\"><rect class=\"bg\" x=\"80\" y=\"100\" width=\"501\" height=\"296\" style=\"fill: rgb(229, 236, 246); fill-opacity: 1; stroke-width: 0;\"/></g><g class=\"layer-below\"><g class=\"imagelayer\"/><g class=\"shapelayer\"/></g><g class=\"cartesianlayer\"><g class=\"subplot xy\"><g class=\"layer-subplot\"><g class=\"shapelayer\"/><g class=\"imagelayer\"/></g><g class=\"minor-gridlayer\"><g class=\"x\"/><g class=\"y\"/></g><g class=\"gridlayer\"><g class=\"x\"><path class=\"xgrid crisp\" transform=\"translate(90.41,0)\" d=\"M0,100v296\" style=\"stroke: rgb(255, 255, 255); stroke-opacity: 1; stroke-width: 1px;\"/><path class=\"xgrid crisp\" transform=\"translate(99.81,0)\" d=\"M0,100v296\" style=\"stroke: rgb(255, 255, 255); stroke-opacity: 1; stroke-width: 1px;\"/><path class=\"xgrid crisp\" transform=\"translate(110.22,0)\" d=\"M0,100v296\" style=\"stroke: rgb(255, 255, 255); stroke-opacity: 1; stroke-width: 1px;\"/><path class=\"xgrid crisp\" transform=\"translate(120.28999999999999,0)\" d=\"M0,100v296\" style=\"stroke: rgb(255, 255, 255); stroke-opacity: 1; stroke-width: 1px;\"/><path class=\"xgrid crisp\" transform=\"translate(130.7,0)\" d=\"M0,100v296\" style=\"stroke: rgb(255, 255, 255); stroke-opacity: 1; stroke-width: 1px;\"/><path class=\"xgrid crisp\" transform=\"translate(140.78,0)\" d=\"M0,100v296\" style=\"stroke: rgb(255, 255, 255); stroke-opacity: 1; stroke-width: 1px;\"/><path class=\"xgrid crisp\" transform=\"translate(151.19,0)\" d=\"M0,100v296\" style=\"stroke: rgb(255, 255, 255); stroke-opacity: 1; stroke-width: 1px;\"/><path class=\"xgrid crisp\" transform=\"translate(161.6,0)\" d=\"M0,100v296\" style=\"stroke: rgb(255, 255, 255); stroke-opacity: 1; stroke-width: 1px;\"/><path class=\"xgrid crisp\" transform=\"translate(171.67000000000002,0)\" d=\"M0,100v296\" style=\"stroke: rgb(255, 255, 255); stroke-opacity: 1; stroke-width: 1px;\"/><path class=\"xgrid crisp\" transform=\"translate(182.07999999999998,0)\" d=\"M0,100v296\" style=\"stroke: rgb(255, 255, 255); stroke-opacity: 1; stroke-width: 1px;\"/><path class=\"xgrid crisp\" transform=\"translate(192.15,0)\" d=\"M0,100v296\" style=\"stroke: rgb(255, 255, 255); stroke-opacity: 1; stroke-width: 1px;\"/><path class=\"xgrid crisp\" transform=\"translate(202.56,0)\" d=\"M0,100v296\" style=\"stroke: rgb(255, 255, 255); stroke-opacity: 1; stroke-width: 1px;\"/><path class=\"xgrid crisp\" transform=\"translate(212.97,0)\" d=\"M0,100v296\" style=\"stroke: rgb(255, 255, 255); stroke-opacity: 1; stroke-width: 1px;\"/><path class=\"xgrid crisp\" transform=\"translate(222.38,0)\" d=\"M0,100v296\" style=\"stroke: rgb(255, 255, 255); stroke-opacity: 1; stroke-width: 1px;\"/><path class=\"xgrid crisp\" transform=\"translate(232.78,0)\" d=\"M0,100v296\" style=\"stroke: rgb(255, 255, 255); stroke-opacity: 1; stroke-width: 1px;\"/><path class=\"xgrid crisp\" transform=\"translate(242.86,0)\" d=\"M0,100v296\" style=\"stroke: rgb(255, 255, 255); stroke-opacity: 1; stroke-width: 1px;\"/><path class=\"xgrid crisp\" transform=\"translate(253.27,0)\" d=\"M0,100v296\" style=\"stroke: rgb(255, 255, 255); stroke-opacity: 1; stroke-width: 1px;\"/><path class=\"xgrid crisp\" transform=\"translate(263.34000000000003,0)\" d=\"M0,100v296\" style=\"stroke: rgb(255, 255, 255); stroke-opacity: 1; stroke-width: 1px;\"/><path class=\"xgrid crisp\" transform=\"translate(273.75,0)\" d=\"M0,100v296\" style=\"stroke: rgb(255, 255, 255); stroke-opacity: 1; stroke-width: 1px;\"/><path class=\"xgrid crisp\" transform=\"translate(284.15999999999997,0)\" d=\"M0,100v296\" style=\"stroke: rgb(255, 255, 255); stroke-opacity: 1; stroke-width: 1px;\"/><path class=\"xgrid crisp\" transform=\"translate(294.23,0)\" d=\"M0,100v296\" style=\"stroke: rgb(255, 255, 255); stroke-opacity: 1; stroke-width: 1px;\"/><path class=\"xgrid crisp\" transform=\"translate(304.64,0)\" d=\"M0,100v296\" style=\"stroke: rgb(255, 255, 255); stroke-opacity: 1; stroke-width: 1px;\"/><path class=\"xgrid crisp\" transform=\"translate(314.72,0)\" d=\"M0,100v296\" style=\"stroke: rgb(255, 255, 255); stroke-opacity: 1; stroke-width: 1px;\"/><path class=\"xgrid crisp\" transform=\"translate(325.13,0)\" d=\"M0,100v296\" style=\"stroke: rgb(255, 255, 255); stroke-opacity: 1; stroke-width: 1px;\"/><path class=\"xgrid crisp\" transform=\"translate(335.53999999999996,0)\" d=\"M0,100v296\" style=\"stroke: rgb(255, 255, 255); stroke-opacity: 1; stroke-width: 1px;\"/><path class=\"xgrid crisp\" transform=\"translate(345.27,0)\" d=\"M0,100v296\" style=\"stroke: rgb(255, 255, 255); stroke-opacity: 1; stroke-width: 1px;\"/><path class=\"xgrid crisp\" transform=\"translate(355.68,0)\" d=\"M0,100v296\" style=\"stroke: rgb(255, 255, 255); stroke-opacity: 1; stroke-width: 1px;\"/><path class=\"xgrid crisp\" transform=\"translate(365.76,0)\" d=\"M0,100v296\" style=\"stroke: rgb(255, 255, 255); stroke-opacity: 1; stroke-width: 1px;\"/><path class=\"xgrid crisp\" transform=\"translate(376.17,0)\" d=\"M0,100v296\" style=\"stroke: rgb(255, 255, 255); stroke-opacity: 1; stroke-width: 1px;\"/><path class=\"xgrid crisp\" transform=\"translate(386.24,0)\" d=\"M0,100v296\" style=\"stroke: rgb(255, 255, 255); stroke-opacity: 1; stroke-width: 1px;\"/><path class=\"xgrid crisp\" transform=\"translate(396.65,0)\" d=\"M0,100v296\" style=\"stroke: rgb(255, 255, 255); stroke-opacity: 1; stroke-width: 1px;\"/><path class=\"xgrid crisp\" transform=\"translate(407.06,0)\" d=\"M0,100v296\" style=\"stroke: rgb(255, 255, 255); stroke-opacity: 1; stroke-width: 1px;\"/><path class=\"xgrid crisp\" transform=\"translate(417.13,0)\" d=\"M0,100v296\" style=\"stroke: rgb(255, 255, 255); stroke-opacity: 1; stroke-width: 1px;\"/><path class=\"xgrid crisp\" transform=\"translate(427.54,0)\" d=\"M0,100v296\" style=\"stroke: rgb(255, 255, 255); stroke-opacity: 1; stroke-width: 1px;\"/><path class=\"xgrid crisp\" transform=\"translate(437.62,0)\" d=\"M0,100v296\" style=\"stroke: rgb(255, 255, 255); stroke-opacity: 1; stroke-width: 1px;\"/><path class=\"xgrid crisp\" transform=\"translate(448.03,0)\" d=\"M0,100v296\" style=\"stroke: rgb(255, 255, 255); stroke-opacity: 1; stroke-width: 1px;\"/><path class=\"xgrid crisp\" transform=\"translate(458.44,0)\" d=\"M0,100v296\" style=\"stroke: rgb(255, 255, 255); stroke-opacity: 1; stroke-width: 1px;\"/><path class=\"xgrid crisp\" transform=\"translate(467.84,0)\" d=\"M0,100v296\" style=\"stroke: rgb(255, 255, 255); stroke-opacity: 1; stroke-width: 1px;\"/><path class=\"xgrid crisp\" transform=\"translate(478.25,0)\" d=\"M0,100v296\" style=\"stroke: rgb(255, 255, 255); stroke-opacity: 1; stroke-width: 1px;\"/><path class=\"xgrid crisp\" transform=\"translate(488.32,0)\" d=\"M0,100v296\" style=\"stroke: rgb(255, 255, 255); stroke-opacity: 1; stroke-width: 1px;\"/><path class=\"xgrid crisp\" transform=\"translate(498.73,0)\" d=\"M0,100v296\" style=\"stroke: rgb(255, 255, 255); stroke-opacity: 1; stroke-width: 1px;\"/><path class=\"xgrid crisp\" transform=\"translate(508.8,0)\" d=\"M0,100v296\" style=\"stroke: rgb(255, 255, 255); stroke-opacity: 1; stroke-width: 1px;\"/><path class=\"xgrid crisp\" transform=\"translate(519.21,0)\" d=\"M0,100v296\" style=\"stroke: rgb(255, 255, 255); stroke-opacity: 1; stroke-width: 1px;\"/><path class=\"xgrid crisp\" transform=\"translate(529.62,0)\" d=\"M0,100v296\" style=\"stroke: rgb(255, 255, 255); stroke-opacity: 1; stroke-width: 1px;\"/><path class=\"xgrid crisp\" transform=\"translate(539.7,0)\" d=\"M0,100v296\" style=\"stroke: rgb(255, 255, 255); stroke-opacity: 1; stroke-width: 1px;\"/><path class=\"xgrid crisp\" transform=\"translate(550.11,0)\" d=\"M0,100v296\" style=\"stroke: rgb(255, 255, 255); stroke-opacity: 1; stroke-width: 1px;\"/><path class=\"xgrid crisp\" transform=\"translate(560.1800000000001,0)\" d=\"M0,100v296\" style=\"stroke: rgb(255, 255, 255); stroke-opacity: 1; stroke-width: 1px;\"/><path class=\"xgrid crisp\" transform=\"translate(570.5899999999999,0)\" d=\"M0,100v296\" style=\"stroke: rgb(255, 255, 255); stroke-opacity: 1; stroke-width: 1px;\"/></g><g class=\"y\"><path class=\"ygrid crisp\" transform=\"translate(0,331.5)\" d=\"M80,0h501\" style=\"stroke: rgb(255, 255, 255); stroke-opacity: 1; stroke-width: 1px;\"/><path class=\"ygrid crisp\" transform=\"translate(0,281.58000000000004)\" d=\"M80,0h501\" style=\"stroke: rgb(255, 255, 255); stroke-opacity: 1; stroke-width: 1px;\"/><path class=\"ygrid crisp\" transform=\"translate(0,231.67)\" d=\"M80,0h501\" style=\"stroke: rgb(255, 255, 255); stroke-opacity: 1; stroke-width: 1px;\"/><path class=\"ygrid crisp\" transform=\"translate(0,181.75)\" d=\"M80,0h501\" style=\"stroke: rgb(255, 255, 255); stroke-opacity: 1; stroke-width: 1px;\"/><path class=\"ygrid crisp\" transform=\"translate(0,131.84)\" d=\"M80,0h501\" style=\"stroke: rgb(255, 255, 255); stroke-opacity: 1; stroke-width: 1px;\"/></g></g><g class=\"zerolinelayer\"><path class=\"yzl zl crisp\" transform=\"translate(0,381.41)\" d=\"M80,0h501\" style=\"stroke: rgb(255, 255, 255); stroke-opacity: 1; stroke-width: 2px;\"/></g><path class=\"xlines-below\"/><path class=\"ylines-below\"/><g class=\"overlines-below\"/><g class=\"xaxislayer-below\"/><g class=\"yaxislayer-below\"/><g class=\"overaxes-below\"/><g class=\"plot\" transform=\"translate(80,100)\" clip-path=\"url(#clipc633c7xyplot)\"><g class=\"scatterlayer mlayer\"><g class=\"trace scatter trace9e9137\" style=\"stroke-miterlimit: 2; opacity: 1;\"><g class=\"fills\"/><g class=\"errorbars\"/><g class=\"lines\"><path class=\"js-line\" d=\"M0,280.4L19.81,279.46L30.22,14.8L40.29,279.44L50.7,279.33L173.27,279.32L183.34,279.17L204.16,278.77L214.23,280.43L224.64,279.13L234.72,280.53L245.13,279.07L255.54,279.16L265.27,278.62L275.68,281.13L296.17,280.53L306.24,279.04L337.13,278.3L347.54,277.23L357.62,278.07L368.03,277.61L378.44,278L387.84,274.21L418.73,274.41L428.8,274.55L470.11,274.45L480.18,276.7L501,276.77\" style=\"vector-effect: non-scaling-stroke; fill: none; stroke: rgb(99, 110, 250); stroke-opacity: 1; stroke-width: 2px; opacity: 1;\"/></g><g class=\"points\"/><g class=\"text\"/></g><g class=\"trace scatter trace0a704b\" style=\"stroke-miterlimit: 2; opacity: 1;\"><g class=\"fills\"/><g class=\"errorbars\"/><g class=\"lines\"><path class=\"js-line\" d=\"M0,241.41L10.41,241.9L19.81,238.74L30.22,241.84L40.29,250.12L50.7,272.28L60.78,254.71L71.19,252.8L81.6,240.92L91.67,248.87L102.08,243.83L112.15,279.03L122.56,278.45L132.97,275.64L142.38,273.99L152.78,275.48L162.86,278.1L214.23,278.36L224.64,279.82L245.13,278.76L255.54,279.64L275.68,281.2L285.76,280.99L347.54,280.17L357.62,280.26L408.32,280.37L418.73,280.1L428.8,281.05L439.21,280.33L490.59,280.16L501,281.08\" style=\"vector-effect: non-scaling-stroke; fill: none; stroke: rgb(239, 85, 59); stroke-opacity: 1; stroke-width: 2px; opacity: 1;\"/></g><g class=\"points\"/><g class=\"text\"/></g></g></g><g class=\"overplot\"/><path class=\"xlines-above crisp\" d=\"M0,0\" style=\"fill: none;\"/><path class=\"ylines-above crisp\" d=\"M0,0\" style=\"fill: none;\"/><g class=\"overlines-above\"/><g class=\"xaxislayer-above\"><g class=\"xtick\"><text text-anchor=\"start\" x=\"0\" y=\"409\" transform=\"translate(80,0) rotate(90,0,403)\" style=\"font-family: 'Open Sans', verdana, arial, sans-serif; font-size: 12px; fill: rgb(42, 63, 95); fill-opacity: 1; white-space: pre; opacity: 1;\">Jan-2018</text></g><g class=\"xtick\"><text text-anchor=\"start\" x=\"0\" y=\"409\" style=\"font-family: 'Open Sans', verdana, arial, sans-serif; font-size: 12px; fill: rgb(42, 63, 95); fill-opacity: 1; white-space: pre; opacity: 1;\" transform=\"translate(90.41,0) rotate(90,0,403)\">Feb-2018</text></g><g class=\"xtick\"><text text-anchor=\"start\" x=\"0\" y=\"409\" style=\"font-family: 'Open Sans', verdana, arial, sans-serif; font-size: 12px; fill: rgb(42, 63, 95); fill-opacity: 1; white-space: pre; opacity: 1;\" transform=\"translate(99.81,0) rotate(90,0,403)\">Mar-2018</text></g><g class=\"xtick\"><text text-anchor=\"start\" x=\"0\" y=\"409\" style=\"font-family: 'Open Sans', verdana, arial, sans-serif; font-size: 12px; fill: rgb(42, 63, 95); fill-opacity: 1; white-space: pre; opacity: 1;\" transform=\"translate(110.22,0) rotate(90,0,403)\">Apr-2018</text></g><g class=\"xtick\"><text text-anchor=\"start\" x=\"0\" y=\"409\" style=\"font-family: 'Open Sans', verdana, arial, sans-serif; font-size: 12px; fill: rgb(42, 63, 95); fill-opacity: 1; white-space: pre; opacity: 1;\" transform=\"translate(120.28999999999999,0) rotate(90,0,403)\">May-2018</text></g><g class=\"xtick\"><text text-anchor=\"start\" x=\"0\" y=\"409\" style=\"font-family: 'Open Sans', verdana, arial, sans-serif; font-size: 12px; fill: rgb(42, 63, 95); fill-opacity: 1; white-space: pre; opacity: 1;\" transform=\"translate(130.7,0) rotate(90,0,403)\">Jun-2018</text></g><g class=\"xtick\"><text text-anchor=\"start\" x=\"0\" y=\"409\" style=\"font-family: 'Open Sans', verdana, arial, sans-serif; font-size: 12px; fill: rgb(42, 63, 95); fill-opacity: 1; white-space: pre; opacity: 1;\" transform=\"translate(140.78,0) rotate(90,0,403)\">Jul-2018</text></g><g class=\"xtick\"><text text-anchor=\"start\" x=\"0\" y=\"409\" style=\"font-family: 'Open Sans', verdana, arial, sans-serif; font-size: 12px; fill: rgb(42, 63, 95); fill-opacity: 1; white-space: pre; opacity: 1;\" transform=\"translate(151.19,0) rotate(90,0,403)\">Aug-2018</text></g><g class=\"xtick\"><text text-anchor=\"start\" x=\"0\" y=\"409\" style=\"font-family: 'Open Sans', verdana, arial, sans-serif; font-size: 12px; fill: rgb(42, 63, 95); fill-opacity: 1; white-space: pre; opacity: 1;\" transform=\"translate(161.6,0) rotate(90,0,403)\">Sep-2018</text></g><g class=\"xtick\"><text text-anchor=\"start\" x=\"0\" y=\"409\" style=\"font-family: 'Open Sans', verdana, arial, sans-serif; font-size: 12px; fill: rgb(42, 63, 95); fill-opacity: 1; white-space: pre; opacity: 1;\" transform=\"translate(171.67000000000002,0) rotate(90,0,403)\">Oct-2018</text></g><g class=\"xtick\"><text text-anchor=\"start\" x=\"0\" y=\"409\" style=\"font-family: 'Open Sans', verdana, arial, sans-serif; font-size: 12px; fill: rgb(42, 63, 95); fill-opacity: 1; white-space: pre; opacity: 1;\" transform=\"translate(182.07999999999998,0) rotate(90,0,403)\">Nov-2018</text></g><g class=\"xtick\"><text text-anchor=\"start\" x=\"0\" y=\"409\" style=\"font-family: 'Open Sans', verdana, arial, sans-serif; font-size: 12px; fill: rgb(42, 63, 95); fill-opacity: 1; white-space: pre; opacity: 1;\" transform=\"translate(192.15,0) rotate(90,0,403)\">Dec-2018</text></g><g class=\"xtick\"><text text-anchor=\"start\" x=\"0\" y=\"409\" style=\"font-family: 'Open Sans', verdana, arial, sans-serif; font-size: 12px; fill: rgb(42, 63, 95); fill-opacity: 1; white-space: pre; opacity: 1;\" transform=\"translate(202.56,0) rotate(90,0,403)\">Jan-2019</text></g><g class=\"xtick\"><text text-anchor=\"start\" x=\"0\" y=\"409\" style=\"font-family: 'Open Sans', verdana, arial, sans-serif; font-size: 12px; fill: rgb(42, 63, 95); fill-opacity: 1; white-space: pre; opacity: 1;\" transform=\"translate(212.97,0) rotate(90,0,403)\">Feb-2019</text></g><g class=\"xtick\"><text text-anchor=\"start\" x=\"0\" y=\"409\" style=\"font-family: 'Open Sans', verdana, arial, sans-serif; font-size: 12px; fill: rgb(42, 63, 95); fill-opacity: 1; white-space: pre; opacity: 1;\" transform=\"translate(222.38,0) rotate(90,0,403)\">Mar-2019</text></g><g class=\"xtick\"><text text-anchor=\"start\" x=\"0\" y=\"409\" style=\"font-family: 'Open Sans', verdana, arial, sans-serif; font-size: 12px; fill: rgb(42, 63, 95); fill-opacity: 1; white-space: pre; opacity: 1;\" transform=\"translate(232.78,0) rotate(90,0,403)\">Apr-2019</text></g><g class=\"xtick\"><text text-anchor=\"start\" x=\"0\" y=\"409\" style=\"font-family: 'Open Sans', verdana, arial, sans-serif; font-size: 12px; fill: rgb(42, 63, 95); fill-opacity: 1; white-space: pre; opacity: 1;\" transform=\"translate(242.86,0) rotate(90,0,403)\">May-2019</text></g><g class=\"xtick\"><text text-anchor=\"start\" x=\"0\" y=\"409\" style=\"font-family: 'Open Sans', verdana, arial, sans-serif; font-size: 12px; fill: rgb(42, 63, 95); fill-opacity: 1; white-space: pre; opacity: 1;\" transform=\"translate(253.27,0) rotate(90,0,403)\">Jun-2019</text></g><g class=\"xtick\"><text text-anchor=\"start\" x=\"0\" y=\"409\" style=\"font-family: 'Open Sans', verdana, arial, sans-serif; font-size: 12px; fill: rgb(42, 63, 95); fill-opacity: 1; white-space: pre; opacity: 1;\" transform=\"translate(263.34000000000003,0) rotate(90,0,403)\">Jul-2019</text></g><g class=\"xtick\"><text text-anchor=\"start\" x=\"0\" y=\"409\" style=\"font-family: 'Open Sans', verdana, arial, sans-serif; font-size: 12px; fill: rgb(42, 63, 95); fill-opacity: 1; white-space: pre; opacity: 1;\" transform=\"translate(273.75,0) rotate(90,0,403)\">Aug-2019</text></g><g class=\"xtick\"><text text-anchor=\"start\" x=\"0\" y=\"409\" style=\"font-family: 'Open Sans', verdana, arial, sans-serif; font-size: 12px; fill: rgb(42, 63, 95); fill-opacity: 1; white-space: pre; opacity: 1;\" transform=\"translate(284.15999999999997,0) rotate(90,0,403)\">Sep-2019</text></g><g class=\"xtick\"><text text-anchor=\"start\" x=\"0\" y=\"409\" style=\"font-family: 'Open Sans', verdana, arial, sans-serif; font-size: 12px; fill: rgb(42, 63, 95); fill-opacity: 1; white-space: pre; opacity: 1;\" transform=\"translate(294.23,0) rotate(90,0,403)\">Oct-2019</text></g><g class=\"xtick\"><text text-anchor=\"start\" x=\"0\" y=\"409\" style=\"font-family: 'Open Sans', verdana, arial, sans-serif; font-size: 12px; fill: rgb(42, 63, 95); fill-opacity: 1; white-space: pre; opacity: 1;\" transform=\"translate(304.64,0) rotate(90,0,403)\">Nov-2019</text></g><g class=\"xtick\"><text text-anchor=\"start\" x=\"0\" y=\"409\" style=\"font-family: 'Open Sans', verdana, arial, sans-serif; font-size: 12px; fill: rgb(42, 63, 95); fill-opacity: 1; white-space: pre; opacity: 1;\" transform=\"translate(314.72,0) rotate(90,0,403)\">Dec-2019</text></g><g class=\"xtick\"><text text-anchor=\"start\" x=\"0\" y=\"409\" style=\"font-family: 'Open Sans', verdana, arial, sans-serif; font-size: 12px; fill: rgb(42, 63, 95); fill-opacity: 1; white-space: pre; opacity: 1;\" transform=\"translate(325.13,0) rotate(90,0,403)\">Jan-2020</text></g><g class=\"xtick\"><text text-anchor=\"start\" x=\"0\" y=\"409\" style=\"font-family: 'Open Sans', verdana, arial, sans-serif; font-size: 12px; fill: rgb(42, 63, 95); fill-opacity: 1; white-space: pre; opacity: 1;\" transform=\"translate(335.53999999999996,0) rotate(90,0,403)\">Feb-2020</text></g><g class=\"xtick\"><text text-anchor=\"start\" x=\"0\" y=\"409\" style=\"font-family: 'Open Sans', verdana, arial, sans-serif; font-size: 12px; fill: rgb(42, 63, 95); fill-opacity: 1; white-space: pre; opacity: 1;\" transform=\"translate(345.27,0) rotate(90,0,403)\">Mar-2020</text></g><g class=\"xtick\"><text text-anchor=\"start\" x=\"0\" y=\"409\" style=\"font-family: 'Open Sans', verdana, arial, sans-serif; font-size: 12px; fill: rgb(42, 63, 95); fill-opacity: 1; white-space: pre; opacity: 1;\" transform=\"translate(355.68,0) rotate(90,0,403)\">Apr-2020</text></g><g class=\"xtick\"><text text-anchor=\"start\" x=\"0\" y=\"409\" style=\"font-family: 'Open Sans', verdana, arial, sans-serif; font-size: 12px; fill: rgb(42, 63, 95); fill-opacity: 1; white-space: pre; opacity: 1;\" transform=\"translate(365.76,0) rotate(90,0,403)\">May-2020</text></g><g class=\"xtick\"><text text-anchor=\"start\" x=\"0\" y=\"409\" style=\"font-family: 'Open Sans', verdana, arial, sans-serif; font-size: 12px; fill: rgb(42, 63, 95); fill-opacity: 1; white-space: pre; opacity: 1;\" transform=\"translate(376.17,0) rotate(90,0,403)\">Jun-2020</text></g><g class=\"xtick\"><text text-anchor=\"start\" x=\"0\" y=\"409\" style=\"font-family: 'Open Sans', verdana, arial, sans-serif; font-size: 12px; fill: rgb(42, 63, 95); fill-opacity: 1; white-space: pre; opacity: 1;\" transform=\"translate(386.24,0) rotate(90,0,403)\">Jul-2020</text></g><g class=\"xtick\"><text text-anchor=\"start\" x=\"0\" y=\"409\" style=\"font-family: 'Open Sans', verdana, arial, sans-serif; font-size: 12px; fill: rgb(42, 63, 95); fill-opacity: 1; white-space: pre; opacity: 1;\" transform=\"translate(396.65,0) rotate(90,0,403)\">Aug-2020</text></g><g class=\"xtick\"><text text-anchor=\"start\" x=\"0\" y=\"409\" style=\"font-family: 'Open Sans', verdana, arial, sans-serif; font-size: 12px; fill: rgb(42, 63, 95); fill-opacity: 1; white-space: pre; opacity: 1;\" transform=\"translate(407.06,0) rotate(90,0,403)\">Sep-2020</text></g><g class=\"xtick\"><text text-anchor=\"start\" x=\"0\" y=\"409\" style=\"font-family: 'Open Sans', verdana, arial, sans-serif; font-size: 12px; fill: rgb(42, 63, 95); fill-opacity: 1; white-space: pre; opacity: 1;\" transform=\"translate(417.13,0) rotate(90,0,403)\">Oct-2020</text></g><g class=\"xtick\"><text text-anchor=\"start\" x=\"0\" y=\"409\" style=\"font-family: 'Open Sans', verdana, arial, sans-serif; font-size: 12px; fill: rgb(42, 63, 95); fill-opacity: 1; white-space: pre; opacity: 1;\" transform=\"translate(427.54,0) rotate(90,0,403)\">Nov-2020</text></g><g class=\"xtick\"><text text-anchor=\"start\" x=\"0\" y=\"409\" style=\"font-family: 'Open Sans', verdana, arial, sans-serif; font-size: 12px; fill: rgb(42, 63, 95); fill-opacity: 1; white-space: pre; opacity: 1;\" transform=\"translate(437.62,0) rotate(90,0,403)\">Dec-2020</text></g><g class=\"xtick\"><text text-anchor=\"start\" x=\"0\" y=\"409\" style=\"font-family: 'Open Sans', verdana, arial, sans-serif; font-size: 12px; fill: rgb(42, 63, 95); fill-opacity: 1; white-space: pre; opacity: 1;\" transform=\"translate(448.03,0) rotate(90,0,403)\">Jan-2021</text></g><g class=\"xtick\"><text text-anchor=\"start\" x=\"0\" y=\"409\" style=\"font-family: 'Open Sans', verdana, arial, sans-serif; font-size: 12px; fill: rgb(42, 63, 95); fill-opacity: 1; white-space: pre; opacity: 1;\" transform=\"translate(458.44,0) rotate(90,0,403)\">Feb-2021</text></g><g class=\"xtick\"><text text-anchor=\"start\" x=\"0\" y=\"409\" style=\"font-family: 'Open Sans', verdana, arial, sans-serif; font-size: 12px; fill: rgb(42, 63, 95); fill-opacity: 1; white-space: pre; opacity: 1;\" transform=\"translate(467.84,0) rotate(90,0,403)\">Mar-2021</text></g><g class=\"xtick\"><text text-anchor=\"start\" x=\"0\" y=\"409\" style=\"font-family: 'Open Sans', verdana, arial, sans-serif; font-size: 12px; fill: rgb(42, 63, 95); fill-opacity: 1; white-space: pre; opacity: 1;\" transform=\"translate(478.25,0) rotate(90,0,403)\">Apr-2021</text></g><g class=\"xtick\"><text text-anchor=\"start\" x=\"0\" y=\"409\" style=\"font-family: 'Open Sans', verdana, arial, sans-serif; font-size: 12px; fill: rgb(42, 63, 95); fill-opacity: 1; white-space: pre; opacity: 1;\" transform=\"translate(488.32,0) rotate(90,0,403)\">May-2021</text></g><g class=\"xtick\"><text text-anchor=\"start\" x=\"0\" y=\"409\" style=\"font-family: 'Open Sans', verdana, arial, sans-serif; font-size: 12px; fill: rgb(42, 63, 95); fill-opacity: 1; white-space: pre; opacity: 1;\" transform=\"translate(498.73,0) rotate(90,0,403)\">Jun-2021</text></g><g class=\"xtick\"><text text-anchor=\"start\" x=\"0\" y=\"409\" style=\"font-family: 'Open Sans', verdana, arial, sans-serif; font-size: 12px; fill: rgb(42, 63, 95); fill-opacity: 1; white-space: pre; opacity: 1;\" transform=\"translate(508.8,0) rotate(90,0,403)\">Jul-2021</text></g><g class=\"xtick\"><text text-anchor=\"start\" x=\"0\" y=\"409\" style=\"font-family: 'Open Sans', verdana, arial, sans-serif; font-size: 12px; fill: rgb(42, 63, 95); fill-opacity: 1; white-space: pre; opacity: 1;\" transform=\"translate(519.21,0) rotate(90,0,403)\">Aug-2021</text></g><g class=\"xtick\"><text text-anchor=\"start\" x=\"0\" y=\"409\" style=\"font-family: 'Open Sans', verdana, arial, sans-serif; font-size: 12px; fill: rgb(42, 63, 95); fill-opacity: 1; white-space: pre; opacity: 1;\" transform=\"translate(529.62,0) rotate(90,0,403)\">Sep-2021</text></g><g class=\"xtick\"><text text-anchor=\"start\" x=\"0\" y=\"409\" style=\"font-family: 'Open Sans', verdana, arial, sans-serif; font-size: 12px; fill: rgb(42, 63, 95); fill-opacity: 1; white-space: pre; opacity: 1;\" transform=\"translate(539.7,0) rotate(90,0,403)\">Oct-2021</text></g><g class=\"xtick\"><text text-anchor=\"start\" x=\"0\" y=\"409\" style=\"font-family: 'Open Sans', verdana, arial, sans-serif; font-size: 12px; fill: rgb(42, 63, 95); fill-opacity: 1; white-space: pre; opacity: 1;\" transform=\"translate(550.11,0) rotate(90,0,403)\">Nov-2021</text></g><g class=\"xtick\"><text text-anchor=\"start\" x=\"0\" y=\"409\" style=\"font-family: 'Open Sans', verdana, arial, sans-serif; font-size: 12px; fill: rgb(42, 63, 95); fill-opacity: 1; white-space: pre; opacity: 1;\" transform=\"translate(560.1800000000001,0) rotate(90,0,403)\">Dec-2021</text></g><g class=\"xtick\"><text text-anchor=\"start\" x=\"0\" y=\"409\" style=\"font-family: 'Open Sans', verdana, arial, sans-serif; font-size: 12px; fill: rgb(42, 63, 95); fill-opacity: 1; white-space: pre; opacity: 1;\" transform=\"translate(570.5899999999999,0) rotate(90,0,403)\">Jan-2022</text></g><g class=\"xtick\"><text text-anchor=\"start\" x=\"0\" y=\"409\" style=\"font-family: 'Open Sans', verdana, arial, sans-serif; font-size: 12px; fill: rgb(42, 63, 95); fill-opacity: 1; white-space: pre; opacity: 1;\" transform=\"translate(581,0) rotate(90,0,403)\">Feb-2022</text></g></g><g class=\"yaxislayer-above\"><g class=\"ytick\"><text text-anchor=\"end\" x=\"79\" y=\"4.199999999999999\" transform=\"translate(0,381.41)\" style=\"font-family: 'Open Sans', verdana, arial, sans-serif; font-size: 12px; fill: rgb(42, 63, 95); fill-opacity: 1; white-space: pre; opacity: 1;\">0</text></g><g class=\"ytick\"><text text-anchor=\"end\" x=\"79\" y=\"4.199999999999999\" style=\"font-family: 'Open Sans', verdana, arial, sans-serif; font-size: 12px; fill: rgb(42, 63, 95); fill-opacity: 1; white-space: pre; opacity: 1;\" transform=\"translate(0,331.5)\">0.2M</text></g><g class=\"ytick\"><text text-anchor=\"end\" x=\"79\" y=\"4.199999999999999\" style=\"font-family: 'Open Sans', verdana, arial, sans-serif; font-size: 12px; fill: rgb(42, 63, 95); fill-opacity: 1; white-space: pre; opacity: 1;\" transform=\"translate(0,281.58000000000004)\">0.4M</text></g><g class=\"ytick\"><text text-anchor=\"end\" x=\"79\" y=\"4.199999999999999\" style=\"font-family: 'Open Sans', verdana, arial, sans-serif; font-size: 12px; fill: rgb(42, 63, 95); fill-opacity: 1; white-space: pre; opacity: 1;\" transform=\"translate(0,231.67)\">0.6M</text></g><g class=\"ytick\"><text text-anchor=\"end\" x=\"79\" y=\"4.199999999999999\" style=\"font-family: 'Open Sans', verdana, arial, sans-serif; font-size: 12px; fill: rgb(42, 63, 95); fill-opacity: 1; white-space: pre; opacity: 1;\" transform=\"translate(0,181.75)\">0.8M</text></g><g class=\"ytick\"><text text-anchor=\"end\" x=\"79\" y=\"4.199999999999999\" style=\"font-family: 'Open Sans', verdana, arial, sans-serif; font-size: 12px; fill: rgb(42, 63, 95); fill-opacity: 1; white-space: pre; opacity: 1;\" transform=\"translate(0,131.84)\">1M</text></g></g><g class=\"overaxes-above\"/></g></g><g class=\"polarlayer\"/><g class=\"smithlayer\"/><g class=\"ternarylayer\"/><g class=\"geolayer\"/><g class=\"funnelarealayer\"/><g class=\"pielayer\"/><g class=\"iciclelayer\"/><g class=\"treemaplayer\"/><g class=\"sunburstlayer\"/><g class=\"glimages\"/><defs id=\"topdefs-c633c7\"><g class=\"clips\"/><clipPath id=\"legendc633c7\"><rect width=\"97\" height=\"67\" x=\"0\" y=\"0\"/></clipPath></defs><g class=\"layer-above\"><g class=\"imagelayer\"/><g class=\"shapelayer\"/></g><g class=\"infolayer\"><g class=\"legend\" pointer-events=\"all\" transform=\"translate(591.02,100)\"><rect class=\"bg\" shape-rendering=\"crispEdges\" style=\"stroke: rgb(68, 68, 68); stroke-opacity: 1; fill: rgb(255, 255, 255); fill-opacity: 1; stroke-width: 0px;\" width=\"97\" height=\"67\" x=\"0\" y=\"0\"/><g class=\"scrollbox\" transform=\"\" clip-path=\"url(#legendc633c7)\"><text class=\"legendtitletext\" text-anchor=\"start\" x=\"2\" y=\"18.2\" style=\"font-family: 'Open Sans', verdana, arial, sans-serif; font-size: 14px; fill: rgb(42, 63, 95); fill-opacity: 1; white-space: pre;\">Sector</text><g class=\"groups\" transform=\"\"><g class=\"traces\" transform=\"translate(0,32.7)\" style=\"opacity: 1;\"><text class=\"legendtext\" text-anchor=\"start\" x=\"40\" y=\"4.680000000000001\" style=\"font-family: 'Open Sans', verdana, arial, sans-serif; font-size: 12px; fill: rgb(42, 63, 95); fill-opacity: 1; white-space: pre;\">PRIVATE</text><g class=\"layers\" style=\"opacity: 1;\"><g class=\"legendfill\"/><g class=\"legendlines\"><path class=\"js-line\" d=\"M5,0h30\" style=\"fill: none; stroke: rgb(99, 110, 250); stroke-opacity: 1; stroke-width: 2px;\"/></g><g class=\"legendsymbols\"><g class=\"legendpoints\"/></g></g><rect class=\"legendtoggle\" x=\"0\" y=\"-9.5\" width=\"91.390625\" height=\"19\" style=\"fill: rgb(0, 0, 0); fill-opacity: 0;\"/></g></g><g class=\"groups\" transform=\"\"><g class=\"traces\" transform=\"translate(0,51.7)\" style=\"opacity: 1;\"><text class=\"legendtext\" text-anchor=\"start\" x=\"40\" y=\"4.680000000000001\" style=\"font-family: 'Open Sans', verdana, arial, sans-serif; font-size: 12px; fill: rgb(42, 63, 95); fill-opacity: 1; white-space: pre;\">PUBLIC</text><g class=\"layers\" style=\"opacity: 1;\"><g class=\"legendfill\"/><g class=\"legendlines\"><path class=\"js-line\" d=\"M5,0h30\" style=\"fill: none; stroke: rgb(239, 85, 59); stroke-opacity: 1; stroke-width: 2px;\"/></g><g class=\"legendsymbols\"><g class=\"legendpoints\"/></g></g><rect class=\"legendtoggle\" x=\"0\" y=\"-9.5\" width=\"91.390625\" height=\"19\" style=\"fill: rgb(0, 0, 0); fill-opacity: 0;\"/></g></g></g><rect class=\"scrollbar\" rx=\"20\" ry=\"3\" width=\"0\" height=\"0\" style=\"fill: rgb(128, 139, 164); fill-opacity: 1;\" x=\"0\" y=\"0\"/></g><g class=\"g-gtitle\"><text class=\"gtitle\" x=\"35\" y=\"50\" text-anchor=\"start\" dy=\"0em\" style=\"font-family: 'Open Sans', verdana, arial, sans-serif; font-size: 17px; fill: rgb(42, 63, 95); opacity: 1; font-weight: normal; white-space: pre;\">Total people served to Category 0</text></g><g class=\"g-xtitle\"><text class=\"xtitle\" x=\"330.5\" y=\"488.2375\" text-anchor=\"middle\" style=\"font-family: 'Open Sans', verdana, arial, sans-serif; font-size: 14px; fill: rgb(42, 63, 95); opacity: 1; font-weight: normal; white-space: pre;\">Date</text></g><g class=\"g-ytitle\"><text class=\"ytitle\" transform=\"rotate(-90,24.450000000000003,248)\" x=\"24.450000000000003\" y=\"248\" text-anchor=\"middle\" style=\"font-family: 'Open Sans', verdana, arial, sans-serif; font-size: 14px; fill: rgb(42, 63, 95); opacity: 1; font-weight: normal; white-space: pre;\">People served (qty)</text></g></g></svg>"
      ]
     },
     "metadata": {},
     "output_type": "display_data"
    }
   ],
   "source": [
    "columns_name = list(data_category.columns)[1:]\n",
    "fig = px.line(data_category, \n",
    "              x=\"DATE\", \n",
    "              y=columns_name,\n",
    "              hover_data={\"DATE\": \"|%Y %b\"},\n",
    "              labels={\n",
    "                     \"value\": \"People served (qty)\",\n",
    "                     \"DATE\": \"Date\",\n",
    "                     \"variable\": \"Sector\"\n",
    "                 },\n",
    "              title='Total people served to Category ' + TAG_CATEGORY)\n",
    "\n",
    "fig.update_xaxes(\n",
    "    dtick=\"M1\",\n",
    "    tickformat=\"%b-%Y\")\n",
    "\n",
    "#fig.show()\n",
    "fig.show(renderer=\"svg\")"
   ]
  },
  {
   "cell_type": "markdown",
   "id": "3febc39d",
   "metadata": {},
   "source": [
    "### Public"
   ]
  },
  {
   "cell_type": "code",
   "execution_count": 10,
   "id": "33bba0fb",
   "metadata": {},
   "outputs": [],
   "source": [
    "TAG_SECTOR = 'PUBLIC'\n",
    "\n",
    "data_sector_ts = data_category[['DATE', TAG_SECTOR]]\n",
    "data_sector_ts = data_sector_ts.rename({TAG_SECTOR: 'ORIGINAL_VALUES'}, axis=1) \n",
    "\n",
    "\n",
    "start = data_sector_ts['DATE'].min()\n",
    "periods = 360*7\n",
    "daterange = []\n",
    "for day in range(periods):\n",
    "    date = (start + datetime.timedelta(days = day)).isoformat()\n",
    "    daterange.append(date)\n",
    "    \n",
    "forecast_df = pd.DataFrame(daterange, columns=['DATE'])\n",
    "forecast_df['DATE'] = pd.to_datetime(forecast_df['DATE'])\n",
    "forecast_df = forecast_df[forecast_df['DATE'].dt.strftime('%d') == '01']\n",
    "forecast_df = forecast_df.reset_index(drop=True)\n",
    "\n",
    "forecast_df = pd.merge(forecast_df, data_sector_ts, how='left', on=('DATE','DATE'))"
   ]
  },
  {
   "cell_type": "code",
   "execution_count": 11,
   "id": "b5bc4d79",
   "metadata": {
    "scrolled": false
   },
   "outputs": [],
   "source": [
    "# result = seasonal_decompose(data_sector_ts)\n",
    "# result.plot()"
   ]
  },
  {
   "cell_type": "markdown",
   "id": "983520d3",
   "metadata": {},
   "source": [
    "#### Pre covid"
   ]
  },
  {
   "cell_type": "code",
   "execution_count": 12,
   "id": "4aeab30a",
   "metadata": {},
   "outputs": [],
   "source": [
    "# Change for every category and sector, according values on time\n",
    "data_sector_ts_pre = data_sector_ts[(data_sector_ts['DATE'] < '2019-10')].reset_index(drop=True)\n",
    "data_sector_ts_pre = data_sector_ts_pre.rename({'ORIGINAL_VALUES': 'PRE_COVID'}, axis=1) \n",
    "\n",
    "forecast_df = pd.merge(forecast_df, data_sector_ts_pre, how='left', on=('DATE','DATE'))\n",
    "\n",
    "umbral = data_sector_ts_pre['DATE'].max().strftime('%Y-%m')\n",
    "\n",
    "# model_forecast = retrain_model(data_sector_ts_pre, column_index = 'DATE' , column_values = 'PRE_COVID')\n",
    "# temp_resp = forecast_model(model_forecast, \n",
    "#                            forecast_df[(forecast_df['DATE'] >= umbral)][['DATE']],\n",
    "#                            column_name = 'DATE', \n",
    "#                            name_predicted = 'PRE_COVID_FORECAST')\n",
    "\n",
    "temp_resp = forecast_model_2(data_sector_ts_pre,\n",
    "                             forecast_df[(forecast_df['DATE'] >= umbral)][['DATE']],\n",
    "                             column_name = 'DATE',\n",
    "                             column_values = 'PRE_COVID',\n",
    "                             name_predicted = 'PRE_COVID_FORECAST',\n",
    "                             kind_model = 'rfg')\n",
    "\n",
    "forecast_df = pd.merge(forecast_df, temp_resp, how='left', on=('DATE','DATE'))"
   ]
  },
  {
   "cell_type": "markdown",
   "id": "f3d841fb",
   "metadata": {},
   "source": [
    "#### Post covid"
   ]
  },
  {
   "cell_type": "code",
   "execution_count": 13,
   "id": "c667f776",
   "metadata": {},
   "outputs": [],
   "source": [
    "data_sector_ts_post = data_sector_ts[(data_sector_ts['DATE'] > '2020-03')].reset_index(drop=True)\n",
    "data_sector_ts_post = data_sector_ts_post.rename({'ORIGINAL_VALUES': 'POST_COVID'}, axis=1) \n",
    "\n",
    "forecast_df = pd.merge(forecast_df, data_sector_ts_post, how='left', on=('DATE','DATE'))\n",
    "\n",
    "umbral = data_sector_ts_post['DATE'].max().strftime('%Y-%m')\n",
    "\n",
    "model_forecast = retrain_model(data_sector_ts_post, column_index = 'DATE' , column_values = 'POST_COVID', kind_model = 'linear')\n",
    "temp_resp = forecast_model(model_forecast, \n",
    "                           forecast_df[(forecast_df['DATE'] >= umbral)][['DATE']],\n",
    "                           column_name = 'DATE', \n",
    "                           name_predicted = 'POST_COVID_FORECAST')\n",
    "\n",
    "temp_resp = forecast_model_2(data_sector_ts_post,\n",
    "                             forecast_df[(forecast_df['DATE'] >= umbral)][['DATE']],\n",
    "                             column_name = 'DATE',\n",
    "                             column_values = 'POST_COVID',\n",
    "                             name_predicted = 'POST_COVID_FORECAST',\n",
    "                             kind_model = 'linear')\n",
    "\n",
    "\n",
    "forecast_df = pd.merge(forecast_df, temp_resp, how='left', on=('DATE','DATE'))"
   ]
  },
  {
   "cell_type": "code",
   "execution_count": 14,
   "id": "4c142d2a",
   "metadata": {
    "scrolled": false
   },
   "outputs": [
    {
     "data": {
      "image/svg+xml": [
       "<svg class=\"main-svg\" xmlns=\"http://www.w3.org/2000/svg\" xmlns:xlink=\"http://www.w3.org/1999/xlink\" width=\"700\" height=\"500\" style=\"\" viewBox=\"0 0 700 500\"><rect x=\"0\" y=\"0\" width=\"700\" height=\"500\" style=\"fill: rgb(255, 255, 255); fill-opacity: 1;\"/><defs id=\"defs-1a4a2e\"><g class=\"clips\"><clipPath id=\"clip1a4a2exyplot\" class=\"plotclip\"><rect width=\"402\" height=\"320\"/></clipPath><clipPath class=\"axesclip\" id=\"clip1a4a2ex\"><rect x=\"80\" y=\"0\" width=\"402\" height=\"500\"/></clipPath><clipPath class=\"axesclip\" id=\"clip1a4a2ey\"><rect x=\"0\" y=\"100\" width=\"700\" height=\"320\"/></clipPath><clipPath class=\"axesclip\" id=\"clip1a4a2exy\"><rect x=\"80\" y=\"100\" width=\"402\" height=\"320\"/></clipPath></g><g class=\"gradients\"/><g class=\"patterns\"/></defs><g class=\"bglayer\"><rect class=\"bg\" x=\"80\" y=\"100\" width=\"402\" height=\"320\" style=\"fill: rgb(229, 236, 246); fill-opacity: 1; stroke-width: 0;\"/></g><g class=\"layer-below\"><g class=\"imagelayer\"/><g class=\"shapelayer\"/></g><g class=\"cartesianlayer\"><g class=\"subplot xy\"><g class=\"layer-subplot\"><g class=\"shapelayer\"/><g class=\"imagelayer\"/></g><g class=\"minor-gridlayer\"><g class=\"x\"/><g class=\"y\"/></g><g class=\"gridlayer\"><g class=\"x\"><path class=\"xgrid crisp\" transform=\"translate(197.57,0)\" d=\"M0,100v320\" style=\"stroke: rgb(255, 255, 255); stroke-opacity: 1; stroke-width: 1px;\"/><path class=\"xgrid crisp\" transform=\"translate(315.31,0)\" d=\"M0,100v320\" style=\"stroke: rgb(255, 255, 255); stroke-opacity: 1; stroke-width: 1px;\"/><path class=\"xgrid crisp\" transform=\"translate(432.88,0)\" d=\"M0,100v320\" style=\"stroke: rgb(255, 255, 255); stroke-opacity: 1; stroke-width: 1px;\"/></g><g class=\"y\"><path class=\"ygrid crisp\" transform=\"translate(0,320.82)\" d=\"M80,0h402\" style=\"stroke: rgb(255, 255, 255); stroke-opacity: 1; stroke-width: 1px;\"/><path class=\"ygrid crisp\" transform=\"translate(0,236.18)\" d=\"M80,0h402\" style=\"stroke: rgb(255, 255, 255); stroke-opacity: 1; stroke-width: 1px;\"/><path class=\"ygrid crisp\" transform=\"translate(0,151.54)\" d=\"M80,0h402\" style=\"stroke: rgb(255, 255, 255); stroke-opacity: 1; stroke-width: 1px;\"/></g></g><g class=\"zerolinelayer\"><path class=\"yzl zl crisp\" transform=\"translate(0,405.45)\" d=\"M80,0h402\" style=\"stroke: rgb(255, 255, 255); stroke-opacity: 1; stroke-width: 2px;\"/></g><path class=\"xlines-below\"/><path class=\"ylines-below\"/><g class=\"overlines-below\"/><g class=\"xaxislayer-below\"/><g class=\"yaxislayer-below\"/><g class=\"overaxes-below\"/><g class=\"plot\" transform=\"translate(80,100)\" clip-path=\"url(#clip1a4a2exyplot)\"><g class=\"scatterlayer mlayer\"><g class=\"trace scatter trace5ef33d\" style=\"stroke-miterlimit: 2; opacity: 1;\"><g class=\"fills\"/><g class=\"errorbars\"/><g class=\"lines\"><path class=\"js-line\" d=\"M0,34.1L4.99,37.44L9.5,16L14.5,37.02L19.33,93.17L24.32,243.52L29.15,124.33L34.14,111.37L39.14,30.78L43.97,84.69L48.96,50.52L53.79,289.31L58.79,285.34L63.78,266.27L68.29,255.07L73.28,265.2L78.11,282.99L83.11,283.38L87.94,284.53L92.93,286.81L97.92,284.32L102.75,284.74L107.75,294.61L112.58,293.54L117.57,287.48L132.23,304L137.06,302.54L142.05,300.93L146.88,300.85L151.88,297.07L156.87,296.2L161.7,297.72L166.69,297.04L181.51,299.5L186.02,297.44L195.85,298.34L200.84,296.52L205.67,302.95L210.66,298.13L215.66,297.11L220.49,297.5L225.48,294.16L230.31,296.7L235.31,296.97L240.3,303.17\" style=\"vector-effect: non-scaling-stroke; fill: none; stroke: rgb(99, 110, 250); stroke-opacity: 1; stroke-width: 2px; opacity: 1;\"/></g><g class=\"points\"/><g class=\"text\"/></g><g class=\"trace scatter tracec280de\" style=\"stroke-miterlimit: 2; opacity: 1;\"><g class=\"fills\"/><g class=\"errorbars\"/><g class=\"lines\"><path class=\"js-line\" d=\"M0,34.1L4.99,37.44L9.5,16L14.5,37.02L19.33,93.17L24.32,243.52L29.15,124.33L34.14,111.37L39.14,30.78L43.97,84.69L48.96,50.52L53.79,289.31L58.79,285.34L63.78,266.27L68.29,255.07L73.28,265.2L78.11,282.99L83.11,283.38L87.94,284.53L92.93,286.81L97.92,284.32\" style=\"vector-effect: non-scaling-stroke; fill: none; stroke: rgb(239, 85, 59); stroke-opacity: 1; stroke-width: 2px; opacity: 1;\"/></g><g class=\"points\"/><g class=\"text\"/></g><g class=\"trace scatter trace08f095\" style=\"stroke-miterlimit: 2; opacity: 1;\"><g class=\"fills\"/><g class=\"errorbars\"/><g class=\"lines\"><path class=\"js-line\" d=\"M97.92,284.9L112.58,284.9L117.57,278.39L127.24,263.2L132.23,264.21L137.06,276.99L142.05,279.76L151.88,281.14L156.87,281.03L171.53,281.11L176.52,278.93L186.02,263.53L191.01,264.53L195.85,276.03L200.84,278.29L210.66,280.19L215.66,280.25L230.31,280.38L235.31,278.35L244.81,263.6L249.8,264.59L254.63,275.91L259.63,278.32L269.45,279.97L274.44,280.04L289.1,280.16L294.09,278.49L303.59,263.84L308.59,264.53L313.42,276.22L318.41,278.31L328.24,279.87L333.23,279.95L347.88,280.09L352.88,278.53L362.54,263.79L367.53,264.6L372.37,276.16L377.36,278.3L387.18,279.86L392.18,279.94L402,280.06\" style=\"vector-effect: non-scaling-stroke; fill: none; stroke: rgb(0, 204, 150); stroke-opacity: 1; stroke-width: 2px; opacity: 1;\"/></g><g class=\"points\"/><g class=\"text\"/></g><g class=\"trace scatter trace6eb8b3\" style=\"stroke-miterlimit: 2; opacity: 1;\"><g class=\"fills\"/><g class=\"errorbars\"/><g class=\"lines\"><path class=\"js-line\" d=\"M132.23,304L142.05,300.93L146.88,300.85L151.88,297.07L156.87,296.2L161.7,297.72L166.69,297.04L181.51,299.5L186.02,297.44L195.85,298.34L200.84,296.52L205.67,302.95L210.66,298.13L215.66,297.11L220.49,297.5L225.48,294.16L230.31,296.7L235.31,296.97L240.3,303.17\" style=\"vector-effect: non-scaling-stroke; fill: none; stroke: rgb(171, 99, 250); stroke-opacity: 1; stroke-width: 2px; opacity: 1;\"/></g><g class=\"points\"/><g class=\"text\"/></g><g class=\"trace scatter tracef13ee5\" style=\"stroke-miterlimit: 2; opacity: 1;\"><g class=\"fills\"/><g class=\"errorbars\"/><g class=\"lines\"><path class=\"js-line\" d=\"M240.3,298.74L289.1,294.34L294.09,297.69L347.88,292.85L352.88,296.2L402,291.79\" style=\"vector-effect: non-scaling-stroke; fill: none; stroke: rgb(255, 161, 90); stroke-opacity: 1; stroke-width: 2px; opacity: 1;\"/></g><g class=\"points\"/><g class=\"text\"/></g></g></g><g class=\"overplot\"/><path class=\"xlines-above crisp\" d=\"M0,0\" style=\"fill: none;\"/><path class=\"ylines-above crisp\" d=\"M0,0\" style=\"fill: none;\"/><g class=\"overlines-above\"/><g class=\"xaxislayer-above\"><g class=\"xtick\"><text text-anchor=\"middle\" x=\"0\" y=\"433\" transform=\"translate(80,0)\" style=\"font-family: 'Open Sans', verdana, arial, sans-serif; font-size: 12px; fill: rgb(42, 63, 95); fill-opacity: 1; white-space: pre; opacity: 1;\">2018</text></g><g class=\"xtick\"><text text-anchor=\"middle\" x=\"0\" y=\"433\" style=\"font-family: 'Open Sans', verdana, arial, sans-serif; font-size: 12px; fill: rgb(42, 63, 95); fill-opacity: 1; white-space: pre; opacity: 1;\" transform=\"translate(197.57,0)\">2020</text></g><g class=\"xtick\"><text text-anchor=\"middle\" x=\"0\" y=\"433\" style=\"font-family: 'Open Sans', verdana, arial, sans-serif; font-size: 12px; fill: rgb(42, 63, 95); fill-opacity: 1; white-space: pre; opacity: 1;\" transform=\"translate(315.31,0)\">2022</text></g><g class=\"xtick\"><text text-anchor=\"middle\" x=\"0\" y=\"433\" style=\"font-family: 'Open Sans', verdana, arial, sans-serif; font-size: 12px; fill: rgb(42, 63, 95); fill-opacity: 1; white-space: pre; opacity: 1;\" transform=\"translate(432.88,0)\">2024</text></g></g><g class=\"yaxislayer-above\"><g class=\"ytick\"><text text-anchor=\"end\" x=\"79\" y=\"4.199999999999999\" transform=\"translate(0,405.45)\" style=\"font-family: 'Open Sans', verdana, arial, sans-serif; font-size: 12px; fill: rgb(42, 63, 95); fill-opacity: 1; white-space: pre; opacity: 1;\">0</text></g><g class=\"ytick\"><text text-anchor=\"end\" x=\"79\" y=\"4.199999999999999\" style=\"font-family: 'Open Sans', verdana, arial, sans-serif; font-size: 12px; fill: rgb(42, 63, 95); fill-opacity: 1; white-space: pre; opacity: 1;\" transform=\"translate(0,320.82)\">50k</text></g><g class=\"ytick\"><text text-anchor=\"end\" x=\"79\" y=\"4.199999999999999\" style=\"font-family: 'Open Sans', verdana, arial, sans-serif; font-size: 12px; fill: rgb(42, 63, 95); fill-opacity: 1; white-space: pre; opacity: 1;\" transform=\"translate(0,236.18)\">100k</text></g><g class=\"ytick\"><text text-anchor=\"end\" x=\"79\" y=\"4.199999999999999\" style=\"font-family: 'Open Sans', verdana, arial, sans-serif; font-size: 12px; fill: rgb(42, 63, 95); fill-opacity: 1; white-space: pre; opacity: 1;\" transform=\"translate(0,151.54)\">150k</text></g></g><g class=\"overaxes-above\"/></g></g><g class=\"polarlayer\"/><g class=\"smithlayer\"/><g class=\"ternarylayer\"/><g class=\"geolayer\"/><g class=\"funnelarealayer\"/><g class=\"pielayer\"/><g class=\"iciclelayer\"/><g class=\"treemaplayer\"/><g class=\"sunburstlayer\"/><g class=\"glimages\"/><defs id=\"topdefs-1a4a2e\"><g class=\"clips\"/><clipPath id=\"legend1a4a2e\"><rect width=\"198\" height=\"124\" x=\"0\" y=\"0\"/></clipPath></defs><g class=\"layer-above\"><g class=\"imagelayer\"/><g class=\"shapelayer\"/></g><g class=\"infolayer\"><g class=\"legend\" pointer-events=\"all\" transform=\"translate(490.04,100)\"><rect class=\"bg\" shape-rendering=\"crispEdges\" style=\"stroke: rgb(68, 68, 68); stroke-opacity: 1; fill: rgb(255, 255, 255); fill-opacity: 1; stroke-width: 0px;\" width=\"198\" height=\"124\" x=\"0\" y=\"0\"/><g class=\"scrollbox\" transform=\"\" clip-path=\"url(#legend1a4a2e)\"><text class=\"legendtitletext\" text-anchor=\"start\" x=\"2\" y=\"18.2\" style=\"font-family: 'Open Sans', verdana, arial, sans-serif; font-size: 14px; fill: rgb(42, 63, 95); fill-opacity: 1; white-space: pre;\">LINE</text><g class=\"groups\" transform=\"\"><g class=\"traces\" transform=\"translate(0,32.7)\" style=\"opacity: 1;\"><text class=\"legendtext\" text-anchor=\"start\" x=\"40\" y=\"4.680000000000001\" style=\"font-family: 'Open Sans', verdana, arial, sans-serif; font-size: 12px; fill: rgb(42, 63, 95); fill-opacity: 1; white-space: pre;\">ORIGINAL_VALUES</text><g class=\"layers\" style=\"opacity: 1;\"><g class=\"legendfill\"/><g class=\"legendlines\"><path class=\"js-line\" d=\"M5,0h30\" style=\"fill: none; stroke: rgb(99, 110, 250); stroke-opacity: 1; stroke-width: 2px;\"/></g><g class=\"legendsymbols\"><g class=\"legendpoints\"/></g></g><rect class=\"legendtoggle\" x=\"0\" y=\"-9.5\" width=\"192.875\" height=\"19\" style=\"fill: rgb(0, 0, 0); fill-opacity: 0;\"/></g></g><g class=\"groups\" transform=\"\"><g class=\"traces\" transform=\"translate(0,51.7)\" style=\"opacity: 1;\"><text class=\"legendtext\" text-anchor=\"start\" x=\"40\" y=\"4.680000000000001\" style=\"font-family: 'Open Sans', verdana, arial, sans-serif; font-size: 12px; fill: rgb(42, 63, 95); fill-opacity: 1; white-space: pre;\">PRE_COVID</text><g class=\"layers\" style=\"opacity: 1;\"><g class=\"legendfill\"/><g class=\"legendlines\"><path class=\"js-line\" d=\"M5,0h30\" style=\"fill: none; stroke: rgb(239, 85, 59); stroke-opacity: 1; stroke-width: 2px;\"/></g><g class=\"legendsymbols\"><g class=\"legendpoints\"/></g></g><rect class=\"legendtoggle\" x=\"0\" y=\"-9.5\" width=\"192.875\" height=\"19\" style=\"fill: rgb(0, 0, 0); fill-opacity: 0;\"/></g></g><g class=\"groups\" transform=\"\"><g class=\"traces\" transform=\"translate(0,70.7)\" style=\"opacity: 1;\"><text class=\"legendtext\" text-anchor=\"start\" x=\"40\" y=\"4.680000000000001\" style=\"font-family: 'Open Sans', verdana, arial, sans-serif; font-size: 12px; fill: rgb(42, 63, 95); fill-opacity: 1; white-space: pre;\">PRE_COVID_FORECAST</text><g class=\"layers\" style=\"opacity: 1;\"><g class=\"legendfill\"/><g class=\"legendlines\"><path class=\"js-line\" d=\"M5,0h30\" style=\"fill: none; stroke: rgb(0, 204, 150); stroke-opacity: 1; stroke-width: 2px;\"/></g><g class=\"legendsymbols\"><g class=\"legendpoints\"/></g></g><rect class=\"legendtoggle\" x=\"0\" y=\"-9.5\" width=\"192.875\" height=\"19\" style=\"fill: rgb(0, 0, 0); fill-opacity: 0;\"/></g></g><g class=\"groups\" transform=\"\"><g class=\"traces\" transform=\"translate(0,89.7)\" style=\"opacity: 1;\"><text class=\"legendtext\" text-anchor=\"start\" x=\"40\" y=\"4.680000000000001\" style=\"font-family: 'Open Sans', verdana, arial, sans-serif; font-size: 12px; fill: rgb(42, 63, 95); fill-opacity: 1; white-space: pre;\">POST_COVID</text><g class=\"layers\" style=\"opacity: 1;\"><g class=\"legendfill\"/><g class=\"legendlines\"><path class=\"js-line\" d=\"M5,0h30\" style=\"fill: none; stroke: rgb(171, 99, 250); stroke-opacity: 1; stroke-width: 2px;\"/></g><g class=\"legendsymbols\"><g class=\"legendpoints\"/></g></g><rect class=\"legendtoggle\" x=\"0\" y=\"-9.5\" width=\"192.875\" height=\"19\" style=\"fill: rgb(0, 0, 0); fill-opacity: 0;\"/></g></g><g class=\"groups\" transform=\"\"><g class=\"traces\" transform=\"translate(0,108.7)\" style=\"opacity: 1;\"><text class=\"legendtext\" text-anchor=\"start\" x=\"40\" y=\"4.680000000000001\" style=\"font-family: 'Open Sans', verdana, arial, sans-serif; font-size: 12px; fill: rgb(42, 63, 95); fill-opacity: 1; white-space: pre;\">POST_COVID_FORECAST</text><g class=\"layers\" style=\"opacity: 1;\"><g class=\"legendfill\"/><g class=\"legendlines\"><path class=\"js-line\" d=\"M5,0h30\" style=\"fill: none; stroke: rgb(255, 161, 90); stroke-opacity: 1; stroke-width: 2px;\"/></g><g class=\"legendsymbols\"><g class=\"legendpoints\"/></g></g><rect class=\"legendtoggle\" x=\"0\" y=\"-9.5\" width=\"192.875\" height=\"19\" style=\"fill: rgb(0, 0, 0); fill-opacity: 0;\"/></g></g></g><rect class=\"scrollbar\" rx=\"20\" ry=\"3\" width=\"0\" height=\"0\" style=\"fill: rgb(128, 139, 164); fill-opacity: 1;\" x=\"0\" y=\"0\"/></g><g class=\"g-gtitle\"><text class=\"gtitle\" x=\"35\" y=\"50\" text-anchor=\"start\" dy=\"0em\" style=\"font-family: 'Open Sans', verdana, arial, sans-serif; font-size: 17px; fill: rgb(42, 63, 95); opacity: 1; font-weight: normal; white-space: pre;\">Projection on time for 0 (PUBLIC)</text></g><g class=\"g-xtitle\"><text class=\"xtitle\" x=\"281\" y=\"460.8\" text-anchor=\"middle\" style=\"font-family: 'Open Sans', verdana, arial, sans-serif; font-size: 14px; fill: rgb(42, 63, 95); opacity: 1; font-weight: normal; white-space: pre;\">DATE</text></g><g class=\"g-ytitle\"><text class=\"ytitle\" transform=\"rotate(-90,24.200000000000003,260)\" x=\"24.200000000000003\" y=\"260\" text-anchor=\"middle\" style=\"font-family: 'Open Sans', verdana, arial, sans-serif; font-size: 14px; fill: rgb(42, 63, 95); opacity: 1; font-weight: normal; white-space: pre;\">QTY_PEOPLE_SERVED</text></g></g></svg>"
      ]
     },
     "metadata": {},
     "output_type": "display_data"
    }
   ],
   "source": [
    "forecast_df = forecast_df.melt(id_vars=['DATE'],\n",
    "                               var_name=\"LINE\",\n",
    "                               value_name=\"QTY_PEOPLE_SERVED\")\n",
    "\n",
    "\n",
    "fig = px.line(forecast_df,\n",
    "              x=\"DATE\",\n",
    "              y=\"QTY_PEOPLE_SERVED\",\n",
    "              color='LINE',\n",
    "              title='Projection on time for ' + TAG_CATEGORY +' ('+TAG_SECTOR+')')\n",
    "\n",
    "#fig.show()\n",
    "fig.show(renderer=\"svg\")"
   ]
  },
  {
   "cell_type": "markdown",
   "id": "404f718c",
   "metadata": {},
   "source": [
    "### Private"
   ]
  },
  {
   "cell_type": "code",
   "execution_count": 15,
   "id": "0e4348cc",
   "metadata": {},
   "outputs": [],
   "source": [
    "TAG_SECTOR = 'PRIVATE'\n",
    "\n",
    "data_sector_ts = data_category[['DATE', TAG_SECTOR]]\n",
    "data_sector_ts = data_sector_ts.rename({TAG_SECTOR: 'ORIGINAL_VALUES'}, axis=1) \n",
    "\n",
    "\n",
    "start = data_sector_ts['DATE'].min()\n",
    "periods = 360*7\n",
    "daterange = []\n",
    "for day in range(periods):\n",
    "    date = (start + datetime.timedelta(days = day)).isoformat()\n",
    "    daterange.append(date)\n",
    "    \n",
    "forecast_df = pd.DataFrame(daterange, columns=['DATE'])\n",
    "forecast_df['DATE'] = pd.to_datetime(forecast_df['DATE'])\n",
    "forecast_df = forecast_df[forecast_df['DATE'].dt.strftime('%d') == '01']\n",
    "forecast_df = forecast_df.reset_index(drop=True)\n",
    "\n",
    "forecast_df = pd.merge(forecast_df, data_sector_ts, how='left', on=('DATE','DATE'))"
   ]
  },
  {
   "cell_type": "code",
   "execution_count": 16,
   "id": "52fe897f",
   "metadata": {},
   "outputs": [],
   "source": [
    "# Change for every category and sector, according values on time\n",
    "data_sector_ts_pre = data_sector_ts[(data_sector_ts['DATE'] < '2019-10')].reset_index(drop=True)\n",
    "data_sector_ts_pre = data_sector_ts_pre.rename({'ORIGINAL_VALUES': 'PRE_COVID'}, axis=1) \n",
    "\n",
    "forecast_df = pd.merge(forecast_df, data_sector_ts_pre, how='left', on=('DATE','DATE'))\n",
    "\n",
    "umbral = data_sector_ts_pre['DATE'].max().strftime('%Y-%m')\n",
    "\n",
    "# model_forecast = retrain_model(data_sector_ts_pre, column_index = 'DATE' , column_values = 'PRE_COVID')\n",
    "# temp_resp = forecast_model(model_forecast, \n",
    "#                            forecast_df[(forecast_df['DATE'] >= umbral)][['DATE']],\n",
    "#                            column_name = 'DATE', \n",
    "#                            name_predicted = 'PRE_COVID_FORECAST')\n",
    "\n",
    "temp_resp = forecast_model_2(data_sector_ts_pre,\n",
    "                             forecast_df[(forecast_df['DATE'] >= umbral)][['DATE']],\n",
    "                             column_name = 'DATE',\n",
    "                             column_values = 'PRE_COVID',\n",
    "                             name_predicted = 'PRE_COVID_FORECAST',\n",
    "                             kind_model = 'rfg')\n",
    "\n",
    "forecast_df = pd.merge(forecast_df, temp_resp, how='left', on=('DATE','DATE'))"
   ]
  },
  {
   "cell_type": "code",
   "execution_count": 17,
   "id": "19bedd00",
   "metadata": {},
   "outputs": [],
   "source": [
    "data_sector_ts_post = data_sector_ts[(data_sector_ts['DATE'] > '2020-03')].reset_index(drop=True)\n",
    "data_sector_ts_post = data_sector_ts_post.rename({'ORIGINAL_VALUES': 'POST_COVID'}, axis=1) \n",
    "\n",
    "forecast_df = pd.merge(forecast_df, data_sector_ts_post, how='left', on=('DATE','DATE'))\n",
    "\n",
    "umbral = data_sector_ts_post['DATE'].max().strftime('%Y-%m')\n",
    "\n",
    "model_forecast = retrain_model(data_sector_ts_post, column_index = 'DATE' , column_values = 'POST_COVID', kind_model = 'linear')\n",
    "temp_resp = forecast_model(model_forecast, \n",
    "                           forecast_df[(forecast_df['DATE'] >= umbral)][['DATE']],\n",
    "                           column_name = 'DATE', \n",
    "                           name_predicted = 'POST_COVID_FORECAST')\n",
    "\n",
    "temp_resp = forecast_model_2(data_sector_ts_post,\n",
    "                             forecast_df[(forecast_df['DATE'] >= umbral)][['DATE']],\n",
    "                             column_name = 'DATE',\n",
    "                             column_values = 'POST_COVID',\n",
    "                             name_predicted = 'POST_COVID_FORECAST',\n",
    "                             kind_model = 'linear')\n",
    "\n",
    "\n",
    "forecast_df = pd.merge(forecast_df, temp_resp, how='left', on=('DATE','DATE'))"
   ]
  },
  {
   "cell_type": "code",
   "execution_count": 18,
   "id": "f4149d54",
   "metadata": {
    "scrolled": false
   },
   "outputs": [
    {
     "data": {
      "image/svg+xml": [
       "<svg class=\"main-svg\" xmlns=\"http://www.w3.org/2000/svg\" xmlns:xlink=\"http://www.w3.org/1999/xlink\" width=\"700\" height=\"500\" style=\"\" viewBox=\"0 0 700 500\"><rect x=\"0\" y=\"0\" width=\"700\" height=\"500\" style=\"fill: rgb(255, 255, 255); fill-opacity: 1;\"/><defs id=\"defs-cfce9c\"><g class=\"clips\"><clipPath id=\"clipcfce9cxyplot\" class=\"plotclip\"><rect width=\"402\" height=\"320\"/></clipPath><clipPath class=\"axesclip\" id=\"clipcfce9cx\"><rect x=\"80\" y=\"0\" width=\"402\" height=\"500\"/></clipPath><clipPath class=\"axesclip\" id=\"clipcfce9cy\"><rect x=\"0\" y=\"100\" width=\"700\" height=\"320\"/></clipPath><clipPath class=\"axesclip\" id=\"clipcfce9cxy\"><rect x=\"80\" y=\"100\" width=\"402\" height=\"320\"/></clipPath></g><g class=\"gradients\"/><g class=\"patterns\"/></defs><g class=\"bglayer\"><rect class=\"bg\" x=\"80\" y=\"100\" width=\"402\" height=\"320\" style=\"fill: rgb(229, 236, 246); fill-opacity: 1; stroke-width: 0;\"/></g><g class=\"layer-below\"><g class=\"imagelayer\"/><g class=\"shapelayer\"/></g><g class=\"cartesianlayer\"><g class=\"subplot xy\"><g class=\"layer-subplot\"><g class=\"shapelayer\"/><g class=\"imagelayer\"/></g><g class=\"minor-gridlayer\"><g class=\"x\"/><g class=\"y\"/></g><g class=\"gridlayer\"><g class=\"x\"><path class=\"xgrid crisp\" transform=\"translate(197.57,0)\" d=\"M0,100v320\" style=\"stroke: rgb(255, 255, 255); stroke-opacity: 1; stroke-width: 1px;\"/><path class=\"xgrid crisp\" transform=\"translate(315.31,0)\" d=\"M0,100v320\" style=\"stroke: rgb(255, 255, 255); stroke-opacity: 1; stroke-width: 1px;\"/><path class=\"xgrid crisp\" transform=\"translate(432.88,0)\" d=\"M0,100v320\" style=\"stroke: rgb(255, 255, 255); stroke-opacity: 1; stroke-width: 1px;\"/></g><g class=\"y\"><path class=\"ygrid crisp\" transform=\"translate(0,350.33000000000004)\" d=\"M80,0h402\" style=\"stroke: rgb(255, 255, 255); stroke-opacity: 1; stroke-width: 1px;\"/><path class=\"ygrid crisp\" transform=\"translate(0,296.35)\" d=\"M80,0h402\" style=\"stroke: rgb(255, 255, 255); stroke-opacity: 1; stroke-width: 1px;\"/><path class=\"ygrid crisp\" transform=\"translate(0,242.38)\" d=\"M80,0h402\" style=\"stroke: rgb(255, 255, 255); stroke-opacity: 1; stroke-width: 1px;\"/><path class=\"ygrid crisp\" transform=\"translate(0,188.4)\" d=\"M80,0h402\" style=\"stroke: rgb(255, 255, 255); stroke-opacity: 1; stroke-width: 1px;\"/><path class=\"ygrid crisp\" transform=\"translate(0,134.42000000000002)\" d=\"M80,0h402\" style=\"stroke: rgb(255, 255, 255); stroke-opacity: 1; stroke-width: 1px;\"/></g></g><g class=\"zerolinelayer\"><path class=\"yzl zl crisp\" transform=\"translate(0,404.3)\" d=\"M80,0h402\" style=\"stroke: rgb(255, 255, 255); stroke-opacity: 1; stroke-width: 2px;\"/></g><path class=\"xlines-below\"/><path class=\"ylines-below\"/><g class=\"overlines-below\"/><g class=\"xaxislayer-below\"/><g class=\"yaxislayer-below\"/><g class=\"overaxes-below\"/><g class=\"plot\" transform=\"translate(80,100)\" clip-path=\"url(#clipcfce9cxyplot)\"><g class=\"scatterlayer mlayer\"><g class=\"trace scatter tracea282a9\" style=\"stroke-miterlimit: 2; opacity: 1;\"><g class=\"fills\"/><g class=\"errorbars\"/><g class=\"lines\"><path class=\"js-line\" d=\"M0,303.21L9.5,302.2L14.5,16L19.33,302.17L24.32,302.05L83.11,302.04L87.94,301.87L97.92,301.45L102.75,303.24L107.75,301.83L112.58,303.35L117.57,301.77L122.56,301.87L127.24,301.28L132.23,304L142.05,303.35L146.88,301.74L161.7,300.94L166.69,299.78L171.53,300.69L176.52,300.19L181.51,300.62L186.02,296.51L195.85,296.26L200.84,296.73L225.48,296.77L230.31,299.21L240.3,299.29\" style=\"vector-effect: non-scaling-stroke; fill: none; stroke: rgb(99, 110, 250); stroke-opacity: 1; stroke-width: 2px; opacity: 1;\"/></g><g class=\"points\"/><g class=\"text\"/></g><g class=\"trace scatter traceb1c86f\" style=\"stroke-miterlimit: 2; opacity: 1;\"><g class=\"fills\"/><g class=\"errorbars\"/><g class=\"lines\"><path class=\"js-line\" d=\"M0,303.21L9.5,302.2L14.5,16L19.33,302.17L24.32,302.05L83.11,302.04L87.94,301.87L97.92,301.45\" style=\"vector-effect: non-scaling-stroke; fill: none; stroke: rgb(239, 85, 59); stroke-opacity: 1; stroke-width: 2px; opacity: 1;\"/></g><g class=\"points\"/><g class=\"text\"/></g><g class=\"trace scatter trace0e58d6\" style=\"stroke-miterlimit: 2; opacity: 1;\"><g class=\"fills\"/><g class=\"errorbars\"/><g class=\"lines\"><path class=\"js-line\" d=\"M97.92,301.58L112.58,301.68L117.57,302.56L127.24,302.35L132.23,250.81L137.06,277.21L142.05,279.75L146.88,280.78L151.88,281.01L171.53,280.97L176.52,302.02L186.02,301.88L191.01,252.58L195.85,271.81L200.84,274.78L210.66,277.05L215.66,276.82L225.48,277.24L230.31,277.23L235.31,302L240.3,301.81L244.81,301.87L249.8,244.8L254.63,270.85L259.63,273.46L269.45,276.03L274.44,276.23L289.1,276.6L294.09,301.97L303.59,301.87L308.59,249.64L313.42,271.21L318.41,273.39L328.24,275.67L333.23,275.92L347.88,276.3L352.88,301.97L362.54,301.87L367.53,246.44L372.37,270.75L377.36,273.13L387.18,275.61L392.18,275.9L402,276.19\" style=\"vector-effect: non-scaling-stroke; fill: none; stroke: rgb(0, 204, 150); stroke-opacity: 1; stroke-width: 2px; opacity: 1;\"/></g><g class=\"points\"/><g class=\"text\"/></g><g class=\"trace scatter trace2b7177\" style=\"stroke-miterlimit: 2; opacity: 1;\"><g class=\"fills\"/><g class=\"errorbars\"/><g class=\"lines\"><path class=\"js-line\" d=\"M132.23,304L142.05,303.35L146.88,301.74L161.7,300.94L166.69,299.78L171.53,300.69L176.52,300.19L181.51,300.62L186.02,296.51L195.85,296.26L200.84,296.73L225.48,296.77L230.31,299.21L240.3,299.29\" style=\"vector-effect: non-scaling-stroke; fill: none; stroke: rgb(171, 99, 250); stroke-opacity: 1; stroke-width: 2px; opacity: 1;\"/></g><g class=\"points\"/><g class=\"text\"/></g><g class=\"trace scatter trace17d293\" style=\"stroke-miterlimit: 2; opacity: 1;\"><g class=\"fills\"/><g class=\"errorbars\"/><g class=\"lines\"><path class=\"js-line\" d=\"M240.3,296.4L289.1,293.09L294.09,293.28L402,286.51\" style=\"vector-effect: non-scaling-stroke; fill: none; stroke: rgb(255, 161, 90); stroke-opacity: 1; stroke-width: 2px; opacity: 1;\"/></g><g class=\"points\"/><g class=\"text\"/></g></g></g><g class=\"overplot\"/><path class=\"xlines-above crisp\" d=\"M0,0\" style=\"fill: none;\"/><path class=\"ylines-above crisp\" d=\"M0,0\" style=\"fill: none;\"/><g class=\"overlines-above\"/><g class=\"xaxislayer-above\"><g class=\"xtick\"><text text-anchor=\"middle\" x=\"0\" y=\"433\" transform=\"translate(80,0)\" style=\"font-family: 'Open Sans', verdana, arial, sans-serif; font-size: 12px; fill: rgb(42, 63, 95); fill-opacity: 1; white-space: pre; opacity: 1;\">2018</text></g><g class=\"xtick\"><text text-anchor=\"middle\" x=\"0\" y=\"433\" style=\"font-family: 'Open Sans', verdana, arial, sans-serif; font-size: 12px; fill: rgb(42, 63, 95); fill-opacity: 1; white-space: pre; opacity: 1;\" transform=\"translate(197.57,0)\">2020</text></g><g class=\"xtick\"><text text-anchor=\"middle\" x=\"0\" y=\"433\" style=\"font-family: 'Open Sans', verdana, arial, sans-serif; font-size: 12px; fill: rgb(42, 63, 95); fill-opacity: 1; white-space: pre; opacity: 1;\" transform=\"translate(315.31,0)\">2022</text></g><g class=\"xtick\"><text text-anchor=\"middle\" x=\"0\" y=\"433\" style=\"font-family: 'Open Sans', verdana, arial, sans-serif; font-size: 12px; fill: rgb(42, 63, 95); fill-opacity: 1; white-space: pre; opacity: 1;\" transform=\"translate(432.88,0)\">2024</text></g></g><g class=\"yaxislayer-above\"><g class=\"ytick\"><text text-anchor=\"end\" x=\"79\" y=\"4.199999999999999\" transform=\"translate(0,404.3)\" style=\"font-family: 'Open Sans', verdana, arial, sans-serif; font-size: 12px; fill: rgb(42, 63, 95); fill-opacity: 1; white-space: pre; opacity: 1;\">0</text></g><g class=\"ytick\"><text text-anchor=\"end\" x=\"79\" y=\"4.199999999999999\" style=\"font-family: 'Open Sans', verdana, arial, sans-serif; font-size: 12px; fill: rgb(42, 63, 95); fill-opacity: 1; white-space: pre; opacity: 1;\" transform=\"translate(0,350.33000000000004)\">0.2M</text></g><g class=\"ytick\"><text text-anchor=\"end\" x=\"79\" y=\"4.199999999999999\" style=\"font-family: 'Open Sans', verdana, arial, sans-serif; font-size: 12px; fill: rgb(42, 63, 95); fill-opacity: 1; white-space: pre; opacity: 1;\" transform=\"translate(0,296.35)\">0.4M</text></g><g class=\"ytick\"><text text-anchor=\"end\" x=\"79\" y=\"4.199999999999999\" style=\"font-family: 'Open Sans', verdana, arial, sans-serif; font-size: 12px; fill: rgb(42, 63, 95); fill-opacity: 1; white-space: pre; opacity: 1;\" transform=\"translate(0,242.38)\">0.6M</text></g><g class=\"ytick\"><text text-anchor=\"end\" x=\"79\" y=\"4.199999999999999\" style=\"font-family: 'Open Sans', verdana, arial, sans-serif; font-size: 12px; fill: rgb(42, 63, 95); fill-opacity: 1; white-space: pre; opacity: 1;\" transform=\"translate(0,188.4)\">0.8M</text></g><g class=\"ytick\"><text text-anchor=\"end\" x=\"79\" y=\"4.199999999999999\" style=\"font-family: 'Open Sans', verdana, arial, sans-serif; font-size: 12px; fill: rgb(42, 63, 95); fill-opacity: 1; white-space: pre; opacity: 1;\" transform=\"translate(0,134.42000000000002)\">1M</text></g></g><g class=\"overaxes-above\"/></g></g><g class=\"polarlayer\"/><g class=\"smithlayer\"/><g class=\"ternarylayer\"/><g class=\"geolayer\"/><g class=\"funnelarealayer\"/><g class=\"pielayer\"/><g class=\"iciclelayer\"/><g class=\"treemaplayer\"/><g class=\"sunburstlayer\"/><g class=\"glimages\"/><defs id=\"topdefs-cfce9c\"><g class=\"clips\"/><clipPath id=\"legendcfce9c\"><rect width=\"198\" height=\"124\" x=\"0\" y=\"0\"/></clipPath></defs><g class=\"layer-above\"><g class=\"imagelayer\"/><g class=\"shapelayer\"/></g><g class=\"infolayer\"><g class=\"legend\" pointer-events=\"all\" transform=\"translate(490.04,100)\"><rect class=\"bg\" shape-rendering=\"crispEdges\" width=\"198\" height=\"124\" x=\"0\" y=\"0\" style=\"stroke: rgb(68, 68, 68); stroke-opacity: 1; fill: rgb(255, 255, 255); fill-opacity: 1; stroke-width: 0px;\"/><g class=\"scrollbox\" transform=\"\" clip-path=\"url(#legendcfce9c)\"><text class=\"legendtitletext\" text-anchor=\"start\" x=\"2\" y=\"18.2\" style=\"font-family: 'Open Sans', verdana, arial, sans-serif; font-size: 14px; fill: rgb(42, 63, 95); fill-opacity: 1; white-space: pre;\">LINE</text><g class=\"groups\" transform=\"\"><g class=\"traces\" transform=\"translate(0,32.7)\" style=\"opacity: 1;\"><text class=\"legendtext\" text-anchor=\"start\" x=\"40\" y=\"4.680000000000001\" style=\"font-family: 'Open Sans', verdana, arial, sans-serif; font-size: 12px; fill: rgb(42, 63, 95); fill-opacity: 1; white-space: pre;\">ORIGINAL_VALUES</text><g class=\"layers\" style=\"opacity: 1;\"><g class=\"legendfill\"/><g class=\"legendlines\"><path class=\"js-line\" d=\"M5,0h30\" style=\"fill: none; stroke: rgb(99, 110, 250); stroke-opacity: 1; stroke-width: 2px;\"/></g><g class=\"legendsymbols\"><g class=\"legendpoints\"/></g></g><rect class=\"legendtoggle\" x=\"0\" y=\"-9.5\" width=\"192.875\" height=\"19\" style=\"fill: rgb(0, 0, 0); fill-opacity: 0;\"/></g></g><g class=\"groups\" transform=\"\"><g class=\"traces\" transform=\"translate(0,51.7)\" style=\"opacity: 1;\"><text class=\"legendtext\" text-anchor=\"start\" x=\"40\" y=\"4.680000000000001\" style=\"font-family: 'Open Sans', verdana, arial, sans-serif; font-size: 12px; fill: rgb(42, 63, 95); fill-opacity: 1; white-space: pre;\">PRE_COVID</text><g class=\"layers\" style=\"opacity: 1;\"><g class=\"legendfill\"/><g class=\"legendlines\"><path class=\"js-line\" d=\"M5,0h30\" style=\"fill: none; stroke: rgb(239, 85, 59); stroke-opacity: 1; stroke-width: 2px;\"/></g><g class=\"legendsymbols\"><g class=\"legendpoints\"/></g></g><rect class=\"legendtoggle\" x=\"0\" y=\"-9.5\" width=\"192.875\" height=\"19\" style=\"fill: rgb(0, 0, 0); fill-opacity: 0;\"/></g></g><g class=\"groups\" transform=\"\"><g class=\"traces\" transform=\"translate(0,70.7)\" style=\"opacity: 1;\"><text class=\"legendtext\" text-anchor=\"start\" x=\"40\" y=\"4.680000000000001\" style=\"font-family: 'Open Sans', verdana, arial, sans-serif; font-size: 12px; fill: rgb(42, 63, 95); fill-opacity: 1; white-space: pre;\">PRE_COVID_FORECAST</text><g class=\"layers\" style=\"opacity: 1;\"><g class=\"legendfill\"/><g class=\"legendlines\"><path class=\"js-line\" d=\"M5,0h30\" style=\"fill: none; stroke: rgb(0, 204, 150); stroke-opacity: 1; stroke-width: 2px;\"/></g><g class=\"legendsymbols\"><g class=\"legendpoints\"/></g></g><rect class=\"legendtoggle\" x=\"0\" y=\"-9.5\" width=\"192.875\" height=\"19\" style=\"fill: rgb(0, 0, 0); fill-opacity: 0;\"/></g></g><g class=\"groups\" transform=\"\"><g class=\"traces\" transform=\"translate(0,89.7)\" style=\"opacity: 1;\"><text class=\"legendtext\" text-anchor=\"start\" x=\"40\" y=\"4.680000000000001\" style=\"font-family: 'Open Sans', verdana, arial, sans-serif; font-size: 12px; fill: rgb(42, 63, 95); fill-opacity: 1; white-space: pre;\">POST_COVID</text><g class=\"layers\" style=\"opacity: 1;\"><g class=\"legendfill\"/><g class=\"legendlines\"><path class=\"js-line\" d=\"M5,0h30\" style=\"fill: none; stroke: rgb(171, 99, 250); stroke-opacity: 1; stroke-width: 2px;\"/></g><g class=\"legendsymbols\"><g class=\"legendpoints\"/></g></g><rect class=\"legendtoggle\" x=\"0\" y=\"-9.5\" width=\"192.875\" height=\"19\" style=\"fill: rgb(0, 0, 0); fill-opacity: 0;\"/></g></g><g class=\"groups\" transform=\"\"><g class=\"traces\" transform=\"translate(0,108.7)\" style=\"opacity: 1;\"><text class=\"legendtext\" text-anchor=\"start\" x=\"40\" y=\"4.680000000000001\" style=\"font-family: 'Open Sans', verdana, arial, sans-serif; font-size: 12px; fill: rgb(42, 63, 95); fill-opacity: 1; white-space: pre;\">POST_COVID_FORECAST</text><g class=\"layers\" style=\"opacity: 1;\"><g class=\"legendfill\"/><g class=\"legendlines\"><path class=\"js-line\" d=\"M5,0h30\" style=\"fill: none; stroke: rgb(255, 161, 90); stroke-opacity: 1; stroke-width: 2px;\"/></g><g class=\"legendsymbols\"><g class=\"legendpoints\"/></g></g><rect class=\"legendtoggle\" x=\"0\" y=\"-9.5\" width=\"192.875\" height=\"19\" style=\"fill: rgb(0, 0, 0); fill-opacity: 0;\"/></g></g></g><rect class=\"scrollbar\" rx=\"20\" ry=\"3\" width=\"0\" height=\"0\" x=\"0\" y=\"0\" style=\"fill: rgb(128, 139, 164); fill-opacity: 1;\"/></g><g class=\"g-gtitle\"><text class=\"gtitle\" x=\"35\" y=\"50\" text-anchor=\"start\" dy=\"0em\" style=\"font-family: 'Open Sans', verdana, arial, sans-serif; font-size: 17px; fill: rgb(42, 63, 95); opacity: 1; font-weight: normal; white-space: pre;\">Projection on time for 0 (PRIVATE)</text></g><g class=\"g-xtitle\"><text class=\"xtitle\" x=\"281\" y=\"460.8\" text-anchor=\"middle\" style=\"font-family: 'Open Sans', verdana, arial, sans-serif; font-size: 14px; fill: rgb(42, 63, 95); opacity: 1; font-weight: normal; white-space: pre;\">DATE</text></g><g class=\"g-ytitle\"><text class=\"ytitle\" transform=\"rotate(-90,24.450000000000003,260)\" x=\"24.450000000000003\" y=\"260\" text-anchor=\"middle\" style=\"font-family: 'Open Sans', verdana, arial, sans-serif; font-size: 14px; fill: rgb(42, 63, 95); opacity: 1; font-weight: normal; white-space: pre;\">QTY_PEOPLE_SERVED</text></g></g></svg>"
      ]
     },
     "metadata": {},
     "output_type": "display_data"
    }
   ],
   "source": [
    "forecast_df = forecast_df.melt(id_vars=['DATE'],\n",
    "                               var_name=\"LINE\",\n",
    "                               value_name=\"QTY_PEOPLE_SERVED\")\n",
    "\n",
    "\n",
    "fig = px.line(forecast_df,\n",
    "              x=\"DATE\",\n",
    "              y=\"QTY_PEOPLE_SERVED\",\n",
    "              color='LINE',\n",
    "              title='Projection on time for ' + TAG_CATEGORY +' ('+TAG_SECTOR+')')\n",
    "\n",
    "#fig.show()\n",
    "fig.show(renderer=\"svg\")"
   ]
  },
  {
   "cell_type": "code",
   "execution_count": null,
   "id": "19d381eb",
   "metadata": {},
   "outputs": [],
   "source": []
  }
 ],
 "metadata": {
  "kernelspec": {
   "display_name": "pycaret_full",
   "language": "python",
   "name": "pycaret_reg"
  },
  "language_info": {
   "codemirror_mode": {
    "name": "ipython",
    "version": 3
   },
   "file_extension": ".py",
   "mimetype": "text/x-python",
   "name": "python",
   "nbconvert_exporter": "python",
   "pygments_lexer": "ipython3",
   "version": "3.8.13"
  }
 },
 "nbformat": 4,
 "nbformat_minor": 5
}
